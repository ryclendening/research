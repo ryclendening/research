{
 "cells": [
  {
   "cell_type": "code",
   "execution_count": 1,
   "metadata": {
    "collapsed": true,
    "pycharm": {
     "name": "#%%\n"
    }
   },
   "outputs": [],
   "source": [
    "import librosa\n",
    "import pandas as pd\n",
    "from librosa.effects import pitch_shift\n",
    "import os\n",
    "from sklearn.metrics import classification_report, recall_score,precision_score,accuracy_score,f1_score\n",
    "import pathlib\n",
    "import random\n",
    "from sklearn.preprocessing import StandardScaler\n",
    "import matplotlib.pyplot as plt\n",
    "import numpy as np\n",
    "import seaborn as sns\n",
    "from librosa.feature import mfcc, melspectrogram\n",
    "import scipy.io.wavfile as wav\n",
    "import tensorflow as tf\n",
    "import scipy.signal as signal\n",
    "import keras\n",
    "from sklearn.model_selection import train_test_split\n",
    "from keras.models import Model\n",
    "from research.dataImporting import MLtools\n",
    "from keras.optimizers import adam_v2\n",
    "from keras.layers import Input, Conv1D, Conv2D, SeparableConv1D, MaxPooling1D,MaxPooling2D, Flatten, Dense, Dropout, AlphaDropout, \\\n",
    "    BatchNormalization, Activation, LSTM, Lambda, Reshape, GRU\n",
    "from keras.callbacks import EarlyStopping, ModelCheckpoint, ReduceLROnPlateau\n",
    "from sklearn.model_selection import train_test_split\n",
    "from keras.utils.np_utils import to_categorical\n",
    "from research.dataImporting import dataTools\n",
    "import keras.backend as K\n",
    "from tcn import TCN\n",
    "from keras import regularizers"
   ]
  },
  {
   "cell_type": "markdown",
   "source": [
    "# Hot pile of shit that explored using different configurations for input (ex. signifying that \"drone\" is anything within 60m\"), as well as exploring using melspectrograms for DFP"
   ],
   "metadata": {
    "collapsed": false,
    "pycharm": {
     "name": "#%% md\n"
    }
   }
  },
  {
   "cell_type": "code",
   "execution_count": 11,
   "outputs": [],
   "source": [
    "training_df=pd.read_csv(r\"C:\\Users\\rclendening\\PycharmProjects\\MLTesting\\research\\research\\MLModels\\LT80m_detection_training_w_matrice_phantom.csv\")"
   ],
   "metadata": {
    "collapsed": false,
    "pycharm": {
     "name": "#%%\n"
    }
   }
  },
  {
   "cell_type": "code",
   "execution_count": 15,
   "outputs": [
    {
     "name": "stdout",
     "output_type": "stream",
     "text": [
      "A2R3P1\n",
      "A2R3P2\n",
      "A2R3P3\n",
      "A2R4P1\n",
      "A2R4P2\n",
      "A2R4P3\n",
      "A2R5P1\n",
      "A2R5P2\n",
      "A2R5P3\n",
      "A2R5P4\n",
      "A2R5P5\n",
      "A2R6P1\n",
      "A2R6P2\n",
      "A2R6P3\n",
      "A2R6P4\n",
      "A2R6P5\n",
      "A3R3P1\n",
      "A3R3P4\n",
      "A3R3P5\n",
      "A3R4P4\n",
      "A3R4P5\n",
      "A3R6P1\n"
     ]
    }
   ],
   "source": [
    "phone_slots=[\"Phone_1-1\",\"Phone_1-3\",\"Phone_11\",\"Phone_12\",\"Phone_15\",\"Phone_2-3\",\"Phone_2-4\", \"Phone_2-5\",\"Phone_27\",\"Phone_28\",\"Phone_29\", \"Phone_3-1\",\"Phone_3-2\",\"Phone_3-3\",\"Phone_3-4\",\"Phone_3-5\",\"Phone_30\",\"Phone_5-2\",\"Phone_5-3\",\"Phone_5-4\",\"Phone_6-2\",\"Phone_6-3\",\"Phone_6-4\",\"Phone_6-5\",\"Phone_7-1\",\"Phone_7-2\",\"Phone_8\",\"Phone_9\"]\n",
    "bad_runs=[\"A3R6P1\",\"A3R4P4\",\"A3R4P5\",\"A3R3P4\",\"A3R3P5\"]\n",
    "good_runs_IF=[\"A1R1P1\",\"A1R1P2\",\"A1R1P3\",\"A1R1P4\",\"A1R1P5\",\"A2R1P1\",\"A2R1P2\",\"A2R1P3\",\"A2R1P4\",\"A2R1P5\",\"A2R2P1\",\"A2R2P2\",\"A2R2P3\",\"A2R2P4\",\"A2R2P5\"]\n",
    "good_runs_matrice=[\"A1R2P2\",\"A1R2P3\",\"A1R2P4\",\"A1R2P5\",\"A2R3P1\",\"A2R3P2\",\"A2R4P1\",\"A2R4P2\",\"A2R4P3\"]\n",
    "good_runs_phantom=[\"A2R5P1\",\"A2R5P2\",\"A2R5P3\",\"A2R5P4\",\"A2R5P5\",\"A2R6P1\",\"A2R6P2\",\"A2R6P3\",\"A2R6P4\",\"A2R6P5\"]\n",
    "good_runs_mavic=[\"A2R7P1\",\"A2R7P2\",\"A2R7P3\",\"A2R7P4\",\"A2R7P5\",\"A2R8P1\",\"A2R8P2\",\"A2R8P3\",\"A2R8P4\",\"A2R8P5\",\"A3R6P1\"]\n",
    "test_runs_matrice=[\"A2R3P3\",\"A3R3P3\"]\n",
    "notable_col_names=['Pass','Segment','Phone','Lat','Lon','Alt','Range']\n",
    "passes_df=pd.read_csv(r\"C:\\Users\\rclendening\\researchData\\researchCSVs_Scripts_etc\\A2_A3_training_w_Matrice_Phantom.csv\")\n",
    "x_data=[]\n",
    "y_data=[]\n",
    "total_ranges=[]\n",
    "aug_vals=[7000,7200,7400,7600,7800,8000,8200,8400,8600,8800,9000]\n",
    "indiv_phone_num_dict={}\n",
    "for x in phone_slots:\n",
    "    indiv_phone_num_dict[x]=0\n",
    "def melspect(audioData, Fs):\n",
    "    '''\n",
    "    Converts decoded wav file to MFCC feature space\n",
    "    @param audioData: Numpy array of decoded audio wav file\n",
    "    @return MFCC coefficients\n",
    "    '''\n",
    "    data= audioData.astype(float)\n",
    "    # spect = melspectrogram(y=data,sr=Fs, hop_length=1024,n_mels=64, n_fft=2048)\n",
    "    spect = melspectrogram(y=data,sr=Fs)\n",
    "    return spect\n",
    "def MFCCCalc(audioData, Fs):\n",
    "    '''\n",
    "    Converts decoded wav file to MFCC feature space\n",
    "    @param audioData: Numpy array of decoded audio wav file\n",
    "    @return MFCC coefficients\n",
    "    '''\n",
    "    data= audioData.astype(float)\n",
    "    coefs = mfcc(y=data, hop_length=1024,n_mfcc=40, sr=Fs)\n",
    "    #coefs = mfcc(y=data, hop_length=2048,n_fft=2048,n_mfcc=40, sr=Fs)\n",
    "    return coefs\n",
    "\n",
    "def crankThat(audioData):\n",
    "    audio_amp=[1.0,1.1,1.2,1.3,1.4,1.5]\n",
    "    audio_frames=[]\n",
    "    class_val=[]\n",
    "    for x in audio_amp:\n",
    "        new_data=audioData*x\n",
    "        mfcc_data=MFCCCalc(new_data,8000)\n",
    "        audio_frames.append(mfcc_data.squeeze())\n",
    "        class_val.append(1)\n",
    "    return audio_frames, class_val\n",
    "x_data=[]\n",
    "y_data=[]\n",
    "for x in passes_df.iterrows():\n",
    "    row=x[1]\n",
    "    pass_num=row[0]\n",
    "    scenario=row[1]\n",
    "    run_num=row[2]\n",
    "    start=row[3]\n",
    "    stop=row[4]\n",
    "    drone_gps_file=row[5]\n",
    "    full_name=(str(scenario) + 'R' + str(run_num) + 'P' + str(pass_num)).strip()\n",
    "    if scenario== \"plsno\":\n",
    "        for x in aug_vals:\n",
    "            full_aug_name=full_name+\"_\"+str(x).strip()\n",
    "            print(full_aug_name)\n",
    "            pass_df=training_df_raw.loc[training_df_raw[str(notable_col_names.index('Pass'))] == full_aug_name]\n",
    "            max_segment=pass_df[str(notable_col_names.index('Segment'))].max()\n",
    "        # if full_name in good_runs_matrice or full_name in good_runs_IF or full_name in good_runs_phantom or full_name in good_runs_mavic:\n",
    "            for phone in phone_slots:\n",
    "                phone_seg=pass_df.loc[pass_df[str(notable_col_names.index('Phone'))]==phone]\n",
    "                twd_frame=[]\n",
    "                range_frame=[]\n",
    "                for i in range(0,max_segment):\n",
    "                    frame_df=phone_seg.loc[phone_seg[str(notable_col_names.index('Segment'))]==i]\n",
    "                    data=np.array(frame_df.iloc[:,8:2056])\n",
    "                    if np.any(data):\n",
    "                        mel_data=data[0]\n",
    "                    dist=frame_df[str(notable_col_names.index('Range'))]\n",
    "                    distance_val=np.array(dist)\n",
    "                #dist=phone_seg[\"Range\"]\n",
    "                    if len(distance_val)>0:\n",
    "                        dist=distance_val[0]\n",
    "                        if dist<78:\n",
    "                            #data=data[0]\n",
    "                            frames,class_values=crankThat(mel_data)\n",
    "                            total_ranges.append(dist)\n",
    "                            #data=np.reshape(data,(64,4))\n",
    "                            #data=np.reshape(data,(40,1))\n",
    "                            class_value=1\n",
    "                            twd_frame.append(np.squeeze(mel_data))\n",
    "                            range_frame.append(class_value)\n",
    "                        elif 82< dist:\n",
    "                            #data=np.reshape(data,(64,4))\n",
    "                            #data=np.reshape(data,(40,1))\n",
    "                            class_value=0\n",
    "                            twd_frame.append(np.squeeze(mel_data))\n",
    "                            range_frame.append(class_value)\n",
    "                #y_vals= rangeClosest(range_frame)\n",
    "                x_data.extend(twd_frame)\n",
    "                y_data.extend(range_frame)\n",
    "    # if full_name in good_runs_matrice or full_name in good_runs_IF or full_name in good_runs_phantom or full_name in good_runs_mavic:\n",
    "    else:\n",
    "        print(full_name)\n",
    "        pass_df=training_df.loc[training_df[str(notable_col_names.index('Pass'))] == full_name]\n",
    "        max_segment=int(pass_df[str(notable_col_names.index('Segment'))].max())\n",
    "        for phone in phone_slots:\n",
    "            phone_seg=pass_df.loc[pass_df[str(notable_col_names.index('Phone'))]==phone]\n",
    "            twd_frame=[]\n",
    "            range_frame=[]\n",
    "            for i in range(0,max_segment):\n",
    "                frame_df=phone_seg.loc[phone_seg[str(notable_col_names.index('Segment'))]==i]\n",
    "                data=np.array(frame_df.iloc[:,8:48])\n",
    "                #data=np.array(frame_df.iloc[:,15:60])\n",
    "                #data=np.array(frame_df.iloc[:,8:2056])\n",
    "                if np.any(data):\n",
    "                    mel_data=data\n",
    "                dist=frame_df[str(notable_col_names.index('Range'))]\n",
    "                distance_val=np.array(dist)\n",
    "            #dist=phone_seg[\"Range\"]\n",
    "                if len(distance_val)>0:\n",
    "                    indiv_phone_num_dict[phone]+=1\n",
    "                    if distance_val<78 :\n",
    "                        data=data[0]\n",
    "                        #frames,class_values=crankThat(mel_data)\n",
    "                        total_ranges.append(dist)\n",
    "                        #data=np.reshape(data,(64,4))\n",
    "                        #data=np.reshape(data,(40,1))\n",
    "                        class_value=1\n",
    "                        twd_frame.append(np.squeeze(mel_data))\n",
    "                        range_frame.append(class_value)\n",
    "                    elif 82< distance_val <175:\n",
    "                        data=data[0]\n",
    "                        #mel_data=MFCCCalc(data,8000)\n",
    "                        #data=np.reshape(data,(64,4))\n",
    "                        #data=np.reshape(data,(40,1))\n",
    "                        class_value=0\n",
    "                        twd_frame.append(np.squeeze(mel_data))\n",
    "                        range_frame.append(class_value)\n",
    "            #y_vals= rangeClosest(range_frame)\n",
    "            x_data.extend(twd_frame)\n",
    "            y_data.extend(range_frame)\n",
    "    # plt.hist(np.array(total_ranges).squeeze(),bins=50)\n",
    "    # plt.figure()"
   ],
   "metadata": {
    "collapsed": false,
    "pycharm": {
     "name": "#%%\n"
    }
   }
  },
  {
   "cell_type": "code",
   "execution_count": 16,
   "outputs": [
    {
     "data": {
      "text/plain": "Text(0, 0.5, 'Count')"
     },
     "execution_count": 16,
     "metadata": {},
     "output_type": "execute_result"
    },
    {
     "data": {
      "text/plain": "<Figure size 432x288 with 1 Axes>",
      "image/png": "[encoded data removed]"
     },
     "metadata": {
      "needs_background": "light"
     },
     "output_type": "display_data"
    }
   ],
   "source": [
    "plt.hist(np.array(total_ranges).squeeze(),bins=50)\n",
    "plt.xlabel(\"Range (in Meters)\")\n",
    "plt.ylabel(\"Count\")\n",
    "#plt.savefig(\"./Plots/cellphone_training_ranges_hist_LT80.pdf\",bbox_inches=\"tight\")"
   ],
   "metadata": {
    "collapsed": false,
    "pycharm": {
     "name": "#%%\n"
    }
   }
  },
  {
   "cell_type": "code",
   "execution_count": 30,
   "outputs": [
    {
     "data": {
      "text/plain": "<Figure size 432x288 with 1 Axes>",
      "image/png": "[encoded data removed]"
     },
     "metadata": {
      "needs_background": "light"
     },
     "output_type": "display_data"
    }
   ],
   "source": [
    "names=[]\n",
    "count=[]\n",
    "ind=np.arange(28)\n",
    "width=1\n",
    "for x in indiv_phone_num_dict:\n",
    "    names.append(x)\n",
    "    count.append(indiv_phone_num_dict[x])\n",
    "bar1=plt.bar(ind,np.array(count),align='edge',width=width)\n",
    "plt.xticks(ind+width,names)\n",
    "\n",
    "plt.xticks(rotation=70)\n",
    "plt.ylabel(\"Training Samples\")\n",
    "plt.savefig(\"./Plots/trainingDataPerPhoneHist.pdf\",bbox_inches=\"tight\")"
   ],
   "metadata": {
    "collapsed": false,
    "pycharm": {
     "name": "#%%\n"
    }
   }
  },
  {
   "cell_type": "code",
   "execution_count": 5,
   "outputs": [],
   "source": [
    "a=x_data\n",
    "b=y_data"
   ],
   "metadata": {
    "collapsed": false,
    "pycharm": {
     "name": "#%%\n"
    }
   }
  },
  {
   "cell_type": "code",
   "execution_count": 9,
   "outputs": [
    {
     "data": {
      "text/plain": "Text(0.5, 0, 'Class Distribution (0=Noise, 1=sUAS)')"
     },
     "execution_count": 9,
     "metadata": {},
     "output_type": "execute_result"
    },
    {
     "data": {
      "text/plain": "<Figure size 432x288 with 1 Axes>",
      "image/png": "[encoded data removed]"
     },
     "metadata": {
      "needs_background": "light"
     },
     "output_type": "display_data"
    }
   ],
   "source": [
    "plt.hist(y_data)\n",
    "plt.ylabel(\"Count\")\n",
    "plt.xlabel(\"Class Distribution (0=Noise, 1=sUAS)\")\n",
    "#plt.savefig(\"./Plots/cellphone_training_distro_hist.pdf\",bbox_inches=\"tight\")"
   ],
   "metadata": {
    "collapsed": false,
    "pycharm": {
     "name": "#%%\n"
    }
   }
  },
  {
   "cell_type": "code",
   "execution_count": 48,
   "outputs": [],
   "source": [],
   "metadata": {
    "collapsed": false,
    "pycharm": {
     "name": "#%%\n"
    }
   }
  },
  {
   "cell_type": "code",
   "execution_count": 49,
   "outputs": [],
   "source": [
    "y_data_copy=y_data\n",
    "x_data_copy=x_data\n",
    "y_data_copy.extend(labels[:,0])\n",
    "x_data_copy.extend(features)\n",
    "def subsample(x_data,y_data):\n",
    "    new_x=[]\n",
    "    new_y=[]\n",
    "    rng=np.random.default_rng(12345)\n",
    "    for x in range(len(x_data)):\n",
    "        rand_vals=rng.integers(low=1,high=2,size=1)\n",
    "        if y_data[x]==0 and rand_vals==1:\n",
    "            new_x.append(x_data[x])\n",
    "            new_y.append(y_data[x])\n",
    "        elif y_data[x]==1:\n",
    "            new_x.append(x_data[x])\n",
    "            new_y.append(y_data[x])\n",
    "    return np.array(new_x), np.array(new_y)\n",
    "def subsamplesUAS(x_data,y_data):\n",
    "    new_x=[]\n",
    "    new_y=[]\n",
    "    rng=np.random.default_rng(12345)\n",
    "    for x in range(len(x_data)):\n",
    "        rand_vals=rng.integers(low=1,high=4,size=1)\n",
    "        if y_data[x]==0 and rand_vals!=1:\n",
    "            new_x.append(x_data[x])\n",
    "            new_y.append(y_data[x])\n",
    "        elif y_data[x]==1:\n",
    "            new_x.append(x_data[x])\n",
    "            new_y.append(y_data[x])\n",
    "    return np.array(new_x), np.array(new_y)"
   ],
   "metadata": {
    "collapsed": false,
    "pycharm": {
     "name": "#%%\n"
    }
   }
  },
  {
   "cell_type": "code",
   "execution_count": 7,
   "outputs": [],
   "source": [
    "# training_data=pd.read_csv(\"training_df_LT80m.csv\")\n",
    "# mean_std=pd.read_csv(\"mean_std_training_ds.csv\")"
   ],
   "metadata": {
    "collapsed": false,
    "pycharm": {
     "name": "#%%\n"
    }
   }
  },
  {
   "cell_type": "code",
   "execution_count": 17,
   "outputs": [
    {
     "data": {
      "text/plain": "(array([19259.,     0.,     0.,     0.,     0.,     0.,     0.,     0.,\n            0., 17789.]),\n array([0. , 0.1, 0.2, 0.3, 0.4, 0.5, 0.6, 0.7, 0.8, 0.9, 1. ]),\n <BarContainer object of 10 artists>)"
     },
     "execution_count": 17,
     "metadata": {},
     "output_type": "execute_result"
    },
    {
     "data": {
      "text/plain": "<Figure size 432x288 with 1 Axes>",
      "image/png": "[encoded data removed]"
     },
     "metadata": {
      "needs_background": "light"
     },
     "output_type": "display_data"
    }
   ],
   "source": [
    "# y_data=np.array(training_data.iloc[:,1])\n",
    "# x_data=np.array(training_data.iloc[:,2:42])\n",
    "# mean=np.array(mean_std.loc[:,'mean'])\n",
    "# std=np.array(mean_std.loc[:,'std'])\n",
    "x_data=np.array(x_data)\n",
    "y_data=np.array(y_data)\n",
    "train_feats,test_feats,train_targs,test_targs=train_test_split(x_data,y_data,test_size=0.2,shuffle=True,random_state=42)\n",
    "train_feats=np.array(train_feats)\n",
    "train_targs=np.array(train_targs)\n",
    "test_feats=np.array(test_feats)\n",
    "test_targs=np.array(test_targs)\n",
    "mean = train_feats.mean(axis=0)\n",
    "std = train_feats.std(axis=0)\n",
    "train_feats -= mean\n",
    "train_feats /= std\n",
    "test_feats -= mean\n",
    "test_feats /= std\n",
    "plt.hist(y_data)"
   ],
   "metadata": {
    "collapsed": false,
    "pycharm": {
     "name": "#%%\n"
    }
   }
  },
  {
   "cell_type": "code",
   "execution_count": 8,
   "outputs": [
    {
     "data": {
      "text/plain": "(array([14783.,     0.,     0.,     0.,     0.,     0.,     0.,     0.,\n            0., 13661.]),\n array([0. , 0.1, 0.2, 0.3, 0.4, 0.5, 0.6, 0.7, 0.8, 0.9, 1. ]),\n <BarContainer object of 10 artists>)"
     },
     "execution_count": 8,
     "metadata": {},
     "output_type": "execute_result"
    },
    {
     "data": {
      "text/plain": "<Figure size 432x288 with 1 Axes>",
      "image/png": "[encoded data removed]"
     },
     "metadata": {
      "needs_background": "light"
     },
     "output_type": "display_data"
    }
   ],
   "source": [
    "plt.hist(train_targs)"
   ],
   "metadata": {
    "collapsed": false,
    "pycharm": {
     "name": "#%%\n"
    }
   }
  },
  {
   "cell_type": "code",
   "execution_count": 38,
   "outputs": [
    {
     "name": "stdout",
     "output_type": "stream",
     "text": [
      "[-2.19653387e+02  1.24056026e+02 -2.01153193e+00  4.78624296e+01\n",
      " -1.40159982e+01  2.59786738e+01 -1.39686387e+01  1.58999940e+01\n",
      " -5.35944521e+00  1.03527468e+01  1.25287189e+00  1.65160637e+00\n",
      "  4.31476804e+00 -4.53806508e+00  4.50875727e+00 -6.53158582e+00\n",
      "  4.84259174e+00 -5.61447057e+00  3.46746004e+00 -5.62336473e+00\n",
      " -6.29539849e-01 -3.27821096e+00 -1.39541110e+00  2.31271274e+00\n",
      " -4.99745359e-02  2.72768309e+00 -4.28706009e+00  6.99165148e-01\n",
      " -3.86492835e+00  1.28634900e-01 -3.29729062e+00 -1.87413885e-01\n",
      " -1.17398349e+00 -1.16074949e+00 -5.14000717e-01 -2.12713015e+00\n",
      " -4.88629217e-01 -2.49731479e+00  4.70520569e-01 -1.05719961e+00]\n",
      "[123.7673951   43.8171718   26.85039838  21.3375252   18.4466328\n",
      "  14.08656003  14.75842121  11.55286741  11.26446139   8.9396613\n",
      "   8.33235      7.40327022   6.85403567   7.97380141   6.01300108\n",
      "   8.13455751   5.98450967   7.92106648   6.00926507   7.9151037\n",
      "   6.59046601   7.22732843   7.31023124   7.40964747   7.28091585\n",
      "   6.92082811   7.97902557   5.82554337   6.52791714   5.63542436\n",
      "   6.23623257   5.6415357    5.84385764   6.4254181    7.22193379\n",
      "   6.85057177   6.04835368   6.45577132   6.46471944   7.61867523]\n"
     ]
    }
   ],
   "source": [
    "training_df=pd.DataFrame(x_data)\n",
    "truth_labels_df=pd.DataFrame(y_data)\n",
    "training_df_full=pd.concat([truth_labels_df,training_df],axis=1)\n",
    "training_df_full.to_csv(\"training_df_LT80m_wo_A1_24bit.csv\")\n",
    "print(mean)\n",
    "print(std)\n",
    "stdizer=pd.DataFrame([mean,std]).transpose()\n",
    "stdizer.columns=['mean','std']\n",
    "stdizer.to_csv(\"mean_std_training_ds_wo_A1_24bit.csv\")"
   ],
   "metadata": {
    "collapsed": false,
    "pycharm": {
     "name": "#%%\n"
    }
   }
  },
  {
   "cell_type": "markdown",
   "source": [
    "# Naive"
   ],
   "metadata": {
    "collapsed": false,
    "pycharm": {
     "name": "#%% md\n"
    }
   }
  },
  {
   "cell_type": "code",
   "execution_count": 44,
   "outputs": [
    {
     "name": "stdout",
     "output_type": "stream",
     "text": [
      "0.0\n",
      "0.0\n",
      "0.5528130250883597\n",
      "0.0\n"
     ]
    },
    {
     "name": "stderr",
     "output_type": "stream",
     "text": [
      "C:\\Users\\rclendening\\AppData\\Local\\Programs\\Python\\Python39\\lib\\site-packages\\sklearn\\metrics\\_classification.py:1318: UndefinedMetricWarning: Precision is ill-defined and being set to 0.0 due to no predicted samples. Use `zero_division` parameter to control this behavior.\n",
      "  _warn_prf(average, modifier, msg_start, len(result))\n"
     ]
    }
   ],
   "source": [
    "print(precision_score(test_targs,np.zeros(len(test_targs))))\n",
    "print(recall_score(test_targs,np.zeros(len(test_targs))))\n",
    "print(accuracy_score(test_targs,np.zeros(len(test_targs))))\n",
    "print(f1_score(test_targs,np.zeros(len(test_targs))))"
   ],
   "metadata": {
    "collapsed": false,
    "pycharm": {
     "name": "#%%\n"
    }
   }
  },
  {
   "cell_type": "markdown",
   "source": [
    "# LDA / QDA"
   ],
   "metadata": {
    "collapsed": false,
    "pycharm": {
     "name": "#%% md\n"
    }
   }
  },
  {
   "cell_type": "code",
   "execution_count": 18,
   "outputs": [
    {
     "data": {
      "text/plain": "QuadraticDiscriminantAnalysis()"
     },
     "execution_count": 18,
     "metadata": {},
     "output_type": "execute_result"
    }
   ],
   "source": [
    "from sklearn.discriminant_analysis import LinearDiscriminantAnalysis, QuadraticDiscriminantAnalysis\n",
    "lda= LinearDiscriminantAnalysis()\n",
    "qda = QuadraticDiscriminantAnalysis()\n",
    "lda.fit(train_feats,train_targs)\n",
    "qda.fit(train_feats,train_targs)"
   ],
   "metadata": {
    "collapsed": false,
    "pycharm": {
     "name": "#%%\n"
    }
   }
  },
  {
   "cell_type": "code",
   "execution_count": 19,
   "outputs": [
    {
     "name": "stdout",
     "output_type": "stream",
     "text": [
      "0.6816464237516869\n",
      "0.6845001528584531\n",
      "0.6278743690409422\n",
      "0.6549656281995027\n"
     ]
    }
   ],
   "source": [
    "ldaPreds=lda.predict(test_feats)\n",
    "qdaPreds=qda.predict(test_feats)\n",
    "print(accuracy_score(test_targs,ldaPreds))\n",
    "print(precision_score(test_targs,ldaPreds))\n",
    "print(recall_score(test_targs,ldaPreds))\n",
    "print(f1_score(test_targs,ldaPreds))"
   ],
   "metadata": {
    "collapsed": false,
    "pycharm": {
     "name": "#%%\n"
    }
   }
  },
  {
   "cell_type": "code",
   "execution_count": 69,
   "outputs": [],
   "source": [
    "import pickle\n",
    "filename = 'finalized_qda_model.sav'\n",
    "pickle.dump(qda, open(filename, 'wb'))\n",
    "#loaded_model = pickle.load(open(filename, 'rb'))"
   ],
   "metadata": {
    "collapsed": false,
    "pycharm": {
     "name": "#%%\n"
    }
   }
  },
  {
   "cell_type": "markdown",
   "source": [
    "# SVM"
   ],
   "metadata": {
    "collapsed": false,
    "pycharm": {
     "name": "#%% md\n"
    }
   }
  },
  {
   "cell_type": "code",
   "execution_count": 111,
   "outputs": [
    {
     "data": {
      "text/plain": "(array([10357.,     0.,     0.,     0.,     0.,     0.,     0.,     0.,\n            0.,  9553.]),\n array([0. , 0.1, 0.2, 0.3, 0.4, 0.5, 0.6, 0.7, 0.8, 0.9, 1. ]),\n <BarContainer object of 10 artists>)"
     },
     "execution_count": 111,
     "metadata": {},
     "output_type": "execute_result"
    },
    {
     "data": {
      "text/plain": "<Figure size 432x288 with 1 Axes>",
      "image/png": "[encoded data removed]"
     },
     "metadata": {
      "needs_background": "light"
     },
     "output_type": "display_data"
    }
   ],
   "source": [
    "svmTrain_feats,_,svmTrain_targs,__=train_test_split(train_feats,train_targs,test_size=0.3,shuffle=True,random_state=42)\n",
    "plt.hist(svmTrain_targs)"
   ],
   "metadata": {
    "collapsed": false,
    "pycharm": {
     "name": "#%%\n"
    }
   }
  },
  {
   "cell_type": "code",
   "execution_count": 12,
   "outputs": [
    {
     "name": "stdout",
     "output_type": "stream",
     "text": [
      "Fitting 5 folds for each of 12 candidates, totalling 60 fits\n",
      "GridSearchCV(estimator=Pipeline(steps=[('estimator', SVC())]), n_jobs=-1,\n",
      "             param_grid={'estimator__C': [0.1, 1, 10, 100],\n",
      "                         'estimator__gamma': [1, 0.1, 0.01]},\n",
      "             verbose=3)\n",
      "{'estimator__C': 100, 'estimator__gamma': 0.1}\n",
      "0.8894318223116192\n",
      "0.8979414322992172\n",
      "0.8815826928551096\n",
      "0.8920134983127109\n",
      "0.8896868715886239\n"
     ]
    }
   ],
   "source": [
    "from sklearn import svm\n",
    "from sklearn.preprocessing import StandardScaler\n",
    "from sklearn.pipeline import Pipeline\n",
    "from sklearn.model_selection import cross_val_score, KFold\n",
    "from sklearn.model_selection import GridSearchCV\n",
    "\n",
    "model = svm.SVC(kernel='rbf')\n",
    "pipeline= Pipeline([('estimator', model)])\n",
    "cv = KFold(n_splits=5)\n",
    "param_grid= {\n",
    "    'estimator__C':[0.1,1,10,100], 'estimator__gamma':[1,0.1,0.01]}\n",
    "\n",
    "search = GridSearchCV(pipeline, param_grid,refit=True,verbose=3, n_jobs=-1)\n",
    "print(search.fit(train_feats,train_targs))\n",
    "print(search.best_params_)\n",
    "print(search.best_score_)\n",
    "search.score(test_feats,test_targs)\n",
    "SVMmodelPreds=search.predict(test_feats)\n",
    "print(precision_score(test_targs,SVMmodelPreds))\n",
    "print(recall_score(test_targs,SVMmodelPreds))\n",
    "print(accuracy_score(test_targs,SVMmodelPreds))\n",
    "print(f1_score(test_targs,SVMmodelPreds))"
   ],
   "metadata": {
    "collapsed": false,
    "pycharm": {
     "name": "#%%\n"
    }
   }
  },
  {
   "cell_type": "code",
   "execution_count": 74,
   "outputs": [
    {
     "ename": "KeyboardInterrupt",
     "evalue": "",
     "output_type": "error",
     "traceback": [
      "\u001B[1;31m---------------------------------------------------------------------------\u001B[0m",
      "\u001B[1;31mKeyboardInterrupt\u001B[0m                         Traceback (most recent call last)",
      "Input \u001B[1;32mIn [74]\u001B[0m, in \u001B[0;36m<cell line: 1>\u001B[1;34m()\u001B[0m\n\u001B[1;32m----> 1\u001B[0m \u001B[38;5;28;01mimport\u001B[39;00m \u001B[38;5;21;01mpickle\u001B[39;00m\n\u001B[0;32m      2\u001B[0m filename \u001B[38;5;241m=\u001B[39m \u001B[38;5;124m'\u001B[39m\u001B[38;5;124mfinalized_svm_model.sav\u001B[39m\u001B[38;5;124m'\u001B[39m\n\u001B[0;32m      3\u001B[0m pickle\u001B[38;5;241m.\u001B[39mdump(search, \u001B[38;5;28mopen\u001B[39m(filename, \u001B[38;5;124m'\u001B[39m\u001B[38;5;124mwb\u001B[39m\u001B[38;5;124m'\u001B[39m))\n",
      "Input \u001B[1;32mIn [74]\u001B[0m, in \u001B[0;36m<cell line: 1>\u001B[1;34m()\u001B[0m\n\u001B[1;32m----> 1\u001B[0m \u001B[38;5;28;01mimport\u001B[39;00m \u001B[38;5;21;01mpickle\u001B[39;00m\n\u001B[0;32m      2\u001B[0m filename \u001B[38;5;241m=\u001B[39m \u001B[38;5;124m'\u001B[39m\u001B[38;5;124mfinalized_svm_model.sav\u001B[39m\u001B[38;5;124m'\u001B[39m\n\u001B[0;32m      3\u001B[0m pickle\u001B[38;5;241m.\u001B[39mdump(search, \u001B[38;5;28mopen\u001B[39m(filename, \u001B[38;5;124m'\u001B[39m\u001B[38;5;124mwb\u001B[39m\u001B[38;5;124m'\u001B[39m))\n",
      "File \u001B[1;32m_pydevd_bundle\\pydevd_cython_win32_39_64.pyx:1179\u001B[0m, in \u001B[0;36m_pydevd_bundle.pydevd_cython_win32_39_64.SafeCallWrapper.__call__\u001B[1;34m()\u001B[0m\n",
      "File \u001B[1;32m_pydevd_bundle\\pydevd_cython_win32_39_64.pyx:620\u001B[0m, in \u001B[0;36m_pydevd_bundle.pydevd_cython_win32_39_64.PyDBFrame.trace_dispatch\u001B[1;34m()\u001B[0m\n",
      "File \u001B[1;32m_pydevd_bundle\\pydevd_cython_win32_39_64.pyx:929\u001B[0m, in \u001B[0;36m_pydevd_bundle.pydevd_cython_win32_39_64.PyDBFrame.trace_dispatch\u001B[1;34m()\u001B[0m\n",
      "File \u001B[1;32m_pydevd_bundle\\pydevd_cython_win32_39_64.pyx:920\u001B[0m, in \u001B[0;36m_pydevd_bundle.pydevd_cython_win32_39_64.PyDBFrame.trace_dispatch\u001B[1;34m()\u001B[0m\n",
      "File \u001B[1;32m_pydevd_bundle\\pydevd_cython_win32_39_64.pyx:317\u001B[0m, in \u001B[0;36m_pydevd_bundle.pydevd_cython_win32_39_64.PyDBFrame.do_wait_suspend\u001B[1;34m()\u001B[0m\n",
      "File \u001B[1;32mC:\\Program Files\\JetBrains\\PyCharm 2021.3.2\\plugins\\python\\helpers\\pydev\\pydevd.py:1160\u001B[0m, in \u001B[0;36mPyDB.do_wait_suspend\u001B[1;34m(self, thread, frame, event, arg, send_suspend_message, is_unhandled_exception)\u001B[0m\n\u001B[0;32m   1157\u001B[0m         from_this_thread\u001B[38;5;241m.\u001B[39mappend(frame_id)\n\u001B[0;32m   1159\u001B[0m \u001B[38;5;28;01mwith\u001B[39;00m \u001B[38;5;28mself\u001B[39m\u001B[38;5;241m.\u001B[39m_threads_suspended_single_notification\u001B[38;5;241m.\u001B[39mnotify_thread_suspended(thread_id, stop_reason):\n\u001B[1;32m-> 1160\u001B[0m     \u001B[38;5;28;43mself\u001B[39;49m\u001B[38;5;241;43m.\u001B[39;49m\u001B[43m_do_wait_suspend\u001B[49m\u001B[43m(\u001B[49m\u001B[43mthread\u001B[49m\u001B[43m,\u001B[49m\u001B[43m \u001B[49m\u001B[43mframe\u001B[49m\u001B[43m,\u001B[49m\u001B[43m \u001B[49m\u001B[43mevent\u001B[49m\u001B[43m,\u001B[49m\u001B[43m \u001B[49m\u001B[43marg\u001B[49m\u001B[43m,\u001B[49m\u001B[43m \u001B[49m\u001B[43msuspend_type\u001B[49m\u001B[43m,\u001B[49m\u001B[43m \u001B[49m\u001B[43mfrom_this_thread\u001B[49m\u001B[43m)\u001B[49m\n",
      "File \u001B[1;32mC:\\Program Files\\JetBrains\\PyCharm 2021.3.2\\plugins\\python\\helpers\\pydev\\pydevd.py:1175\u001B[0m, in \u001B[0;36mPyDB._do_wait_suspend\u001B[1;34m(self, thread, frame, event, arg, suspend_type, from_this_thread)\u001B[0m\n\u001B[0;32m   1172\u001B[0m             \u001B[38;5;28mself\u001B[39m\u001B[38;5;241m.\u001B[39m_call_mpl_hook()\n\u001B[0;32m   1174\u001B[0m         \u001B[38;5;28mself\u001B[39m\u001B[38;5;241m.\u001B[39mprocess_internal_commands()\n\u001B[1;32m-> 1175\u001B[0m         \u001B[43mtime\u001B[49m\u001B[38;5;241;43m.\u001B[39;49m\u001B[43msleep\u001B[49m\u001B[43m(\u001B[49m\u001B[38;5;241;43m0.01\u001B[39;49m\u001B[43m)\u001B[49m\n\u001B[0;32m   1177\u001B[0m \u001B[38;5;28mself\u001B[39m\u001B[38;5;241m.\u001B[39mcancel_async_evaluation(get_current_thread_id(thread), \u001B[38;5;28mstr\u001B[39m(\u001B[38;5;28mid\u001B[39m(frame)))\n\u001B[0;32m   1179\u001B[0m \u001B[38;5;66;03m# process any stepping instructions\u001B[39;00m\n",
      "\u001B[1;31mKeyboardInterrupt\u001B[0m: "
     ]
    }
   ],
   "source": [
    "import pickle\n",
    "filename = 'finalized_svm_model.sav'\n",
    "pickle.dump(search, open(filename, 'wb'))\n",
    "#loaded_model = pickle.load(open(filename, 'rb'))"
   ],
   "metadata": {
    "collapsed": false,
    "pycharm": {
     "name": "#%%\n"
    }
   }
  },
  {
   "cell_type": "markdown",
   "source": [
    "# CNN Evaluation"
   ],
   "metadata": {
    "collapsed": false,
    "pycharm": {
     "name": "#%% md\n"
    }
   }
  },
  {
   "cell_type": "code",
   "execution_count": 20,
   "outputs": [
    {
     "name": "stdout",
     "output_type": "stream",
     "text": [
      "Model: \"sequential_1\"\n",
      "_________________________________________________________________\n",
      " Layer (type)                Output Shape              Param #   \n",
      "=================================================================\n",
      " dense_1 (Dense)             (None, 160)               6560      \n",
      "                                                                 \n",
      " alpha_dropout_2 (AlphaDropo  (None, 160)              0         \n",
      " ut)                                                             \n",
      "                                                                 \n",
      " dense_4 (Dense)             (None, 80)                12880     \n",
      "                                                                 \n",
      " alpha_dropout_3 (AlphaDropo  (None, 80)               0         \n",
      " ut)                                                             \n",
      "                                                                 \n",
      " dense_55 (Dense)            (None, 40)                3240      \n",
      "                                                                 \n",
      " dense_5 (Dense)             (None, 20)                820       \n",
      "                                                                 \n",
      " dense_56 (Dense)            (None, 20)                420       \n",
      "                                                                 \n",
      " dense_57 (Dense)            (None, 10)                210       \n",
      "                                                                 \n",
      " dense_6 (Dense)             (None, 1)                 11        \n",
      "                                                                 \n",
      "=================================================================\n",
      "Total params: 24,141\n",
      "Trainable params: 24,141\n",
      "Non-trainable params: 0\n",
      "_________________________________________________________________\n",
      "Epoch 1/500\n",
      "741/741 [==============================] - 6s 3ms/step - loss: 0.6343 - accuracy: 0.6531 - val_loss: 0.6005 - val_accuracy: 0.6932 - lr: 0.0010\n",
      "Epoch 2/500\n",
      "741/741 [==============================] - 2s 2ms/step - loss: 0.5966 - accuracy: 0.6845 - val_loss: 0.5697 - val_accuracy: 0.7112 - lr: 0.0010\n",
      "Epoch 3/500\n",
      "741/741 [==============================] - 2s 3ms/step - loss: 0.5797 - accuracy: 0.6970 - val_loss: 0.5862 - val_accuracy: 0.7126 - lr: 0.0010\n",
      "Epoch 4/500\n",
      "741/741 [==============================] - 2s 2ms/step - loss: 0.5676 - accuracy: 0.7050 - val_loss: 0.5693 - val_accuracy: 0.7139 - lr: 0.0010\n",
      "Epoch 5/500\n",
      "741/741 [==============================] - 2s 2ms/step - loss: 0.5539 - accuracy: 0.7146 - val_loss: 0.5590 - val_accuracy: 0.7264 - lr: 0.0010\n",
      "Epoch 6/500\n",
      "741/741 [==============================] - 2s 2ms/step - loss: 0.5423 - accuracy: 0.7245 - val_loss: 0.5704 - val_accuracy: 0.7306 - lr: 0.0010\n",
      "Epoch 7/500\n",
      "741/741 [==============================] - 2s 2ms/step - loss: 0.5365 - accuracy: 0.7247 - val_loss: 0.5335 - val_accuracy: 0.7453 - lr: 0.0010\n",
      "Epoch 8/500\n",
      "741/741 [==============================] - 2s 2ms/step - loss: 0.5270 - accuracy: 0.7338 - val_loss: 0.5205 - val_accuracy: 0.7475 - lr: 0.0010\n",
      "Epoch 9/500\n",
      "741/741 [==============================] - 2s 2ms/step - loss: 0.5203 - accuracy: 0.7372 - val_loss: 0.5442 - val_accuracy: 0.7532 - lr: 0.0010\n",
      "Epoch 10/500\n",
      "741/741 [==============================] - 2s 2ms/step - loss: 0.5118 - accuracy: 0.7445 - val_loss: 0.5404 - val_accuracy: 0.7368 - lr: 0.0010\n",
      "Epoch 11/500\n",
      "741/741 [==============================] - 2s 3ms/step - loss: 0.5048 - accuracy: 0.7478 - val_loss: 0.5210 - val_accuracy: 0.7573 - lr: 0.0010\n",
      "Epoch 12/500\n",
      "741/741 [==============================] - 2s 2ms/step - loss: 0.4998 - accuracy: 0.7521 - val_loss: 0.5364 - val_accuracy: 0.7559 - lr: 0.0010\n",
      "Epoch 13/500\n",
      "741/741 [==============================] - 2s 2ms/step - loss: 0.4907 - accuracy: 0.7566 - val_loss: 0.5165 - val_accuracy: 0.7662 - lr: 0.0010\n",
      "Epoch 14/500\n",
      "741/741 [==============================] - 2s 2ms/step - loss: 0.4856 - accuracy: 0.7621 - val_loss: 0.5173 - val_accuracy: 0.7670 - lr: 0.0010\n",
      "Epoch 15/500\n",
      "741/741 [==============================] - 2s 2ms/step - loss: 0.4831 - accuracy: 0.7606 - val_loss: 0.4953 - val_accuracy: 0.7731 - lr: 0.0010\n",
      "Epoch 16/500\n",
      "741/741 [==============================] - 2s 2ms/step - loss: 0.4770 - accuracy: 0.7639 - val_loss: 0.5007 - val_accuracy: 0.7750 - lr: 0.0010\n",
      "Epoch 17/500\n",
      "741/741 [==============================] - 2s 2ms/step - loss: 0.4689 - accuracy: 0.7735 - val_loss: 0.4984 - val_accuracy: 0.7814 - lr: 0.0010\n",
      "Epoch 18/500\n",
      "741/741 [==============================] - 2s 2ms/step - loss: 0.4676 - accuracy: 0.7736 - val_loss: 0.5326 - val_accuracy: 0.7670 - lr: 0.0010\n",
      "Epoch 19/500\n",
      "741/741 [==============================] - 2s 2ms/step - loss: 0.4625 - accuracy: 0.7774 - val_loss: 0.4923 - val_accuracy: 0.7851 - lr: 0.0010\n",
      "Epoch 20/500\n",
      "741/741 [==============================] - 2s 2ms/step - loss: 0.4601 - accuracy: 0.7802 - val_loss: 0.5047 - val_accuracy: 0.7839 - lr: 0.0010\n",
      "Epoch 21/500\n",
      "741/741 [==============================] - 2s 2ms/step - loss: 0.4552 - accuracy: 0.7831 - val_loss: 0.4924 - val_accuracy: 0.7853 - lr: 0.0010\n",
      "Epoch 22/500\n",
      "741/741 [==============================] - 2s 2ms/step - loss: 0.4500 - accuracy: 0.7831 - val_loss: 0.4727 - val_accuracy: 0.7934 - lr: 0.0010\n",
      "Epoch 23/500\n",
      "741/741 [==============================] - 2s 2ms/step - loss: 0.4468 - accuracy: 0.7847 - val_loss: 0.4459 - val_accuracy: 0.8070 - lr: 0.0010\n",
      "Epoch 24/500\n",
      "741/741 [==============================] - 2s 2ms/step - loss: 0.4409 - accuracy: 0.7917 - val_loss: 0.4686 - val_accuracy: 0.8048 - lr: 0.0010\n",
      "Epoch 25/500\n",
      "741/741 [==============================] - 2s 3ms/step - loss: 0.4433 - accuracy: 0.7888 - val_loss: 0.4630 - val_accuracy: 0.7923 - lr: 0.0010\n",
      "Epoch 26/500\n",
      "741/741 [==============================] - 2s 3ms/step - loss: 0.4358 - accuracy: 0.7922 - val_loss: 0.4815 - val_accuracy: 0.7923 - lr: 0.0010\n",
      "Epoch 27/500\n",
      "741/741 [==============================] - 2s 3ms/step - loss: 0.4310 - accuracy: 0.7989 - val_loss: 0.4563 - val_accuracy: 0.8070 - lr: 0.0010\n",
      "Epoch 28/500\n",
      "741/741 [==============================] - 2s 2ms/step - loss: 0.4329 - accuracy: 0.7927 - val_loss: 0.4516 - val_accuracy: 0.8058 - lr: 0.0010\n",
      "Epoch 29/500\n",
      "741/741 [==============================] - 2s 2ms/step - loss: 0.4265 - accuracy: 0.7983 - val_loss: 0.4483 - val_accuracy: 0.8011 - lr: 0.0010\n",
      "Epoch 30/500\n",
      "741/741 [==============================] - 2s 2ms/step - loss: 0.4229 - accuracy: 0.8001 - val_loss: 0.4439 - val_accuracy: 0.8084 - lr: 0.0010\n",
      "Epoch 31/500\n",
      "741/741 [==============================] - 2s 2ms/step - loss: 0.4228 - accuracy: 0.7991 - val_loss: 0.4608 - val_accuracy: 0.8009 - lr: 0.0010\n",
      "Epoch 32/500\n",
      "741/741 [==============================] - 2s 2ms/step - loss: 0.4190 - accuracy: 0.8042 - val_loss: 0.4589 - val_accuracy: 0.8018 - lr: 0.0010\n",
      "Epoch 33/500\n",
      "741/741 [==============================] - 2s 2ms/step - loss: 0.4184 - accuracy: 0.8047 - val_loss: 0.4515 - val_accuracy: 0.8107 - lr: 0.0010\n",
      "Epoch 34/500\n",
      "741/741 [==============================] - 2s 2ms/step - loss: 0.4204 - accuracy: 0.8033 - val_loss: 0.4870 - val_accuracy: 0.7957 - lr: 0.0010\n",
      "Epoch 35/500\n",
      "741/741 [==============================] - 2s 3ms/step - loss: 0.4175 - accuracy: 0.8056 - val_loss: 0.4317 - val_accuracy: 0.8138 - lr: 0.0010\n",
      "Epoch 36/500\n",
      "741/741 [==============================] - 2s 2ms/step - loss: 0.4093 - accuracy: 0.8077 - val_loss: 0.4326 - val_accuracy: 0.8171 - lr: 0.0010\n",
      "Epoch 37/500\n",
      "741/741 [==============================] - 2s 2ms/step - loss: 0.4058 - accuracy: 0.8108 - val_loss: 0.4464 - val_accuracy: 0.8101 - lr: 0.0010\n",
      "Epoch 38/500\n",
      "741/741 [==============================] - 2s 2ms/step - loss: 0.4043 - accuracy: 0.8130 - val_loss: 0.4531 - val_accuracy: 0.8144 - lr: 0.0010\n",
      "Epoch 39/500\n",
      "741/741 [==============================] - 2s 2ms/step - loss: 0.4051 - accuracy: 0.8132 - val_loss: 0.4372 - val_accuracy: 0.8148 - lr: 0.0010\n",
      "Epoch 40/500\n",
      "741/741 [==============================] - 2s 2ms/step - loss: 0.4012 - accuracy: 0.8126 - val_loss: 0.4496 - val_accuracy: 0.8084 - lr: 0.0010\n",
      "Epoch 41/500\n",
      "741/741 [==============================] - 2s 2ms/step - loss: 0.4037 - accuracy: 0.8127 - val_loss: 0.4196 - val_accuracy: 0.8139 - lr: 0.0010\n",
      "Epoch 42/500\n",
      "741/741 [==============================] - 2s 2ms/step - loss: 0.4007 - accuracy: 0.8120 - val_loss: 0.4222 - val_accuracy: 0.8182 - lr: 0.0010\n",
      "Epoch 43/500\n",
      "741/741 [==============================] - 2s 2ms/step - loss: 0.3967 - accuracy: 0.8142 - val_loss: 0.4196 - val_accuracy: 0.8176 - lr: 0.0010\n",
      "Epoch 44/500\n",
      "741/741 [==============================] - 2s 2ms/step - loss: 0.3959 - accuracy: 0.8189 - val_loss: 0.4275 - val_accuracy: 0.8155 - lr: 0.0010\n",
      "Epoch 45/500\n",
      "741/741 [==============================] - 2s 2ms/step - loss: 0.3948 - accuracy: 0.8166 - val_loss: 0.4285 - val_accuracy: 0.8182 - lr: 0.0010\n",
      "Epoch 46/500\n",
      "741/741 [==============================] - 2s 2ms/step - loss: 0.3924 - accuracy: 0.8177 - val_loss: 0.4400 - val_accuracy: 0.8136 - lr: 0.0010\n",
      "Epoch 47/500\n",
      "741/741 [==============================] - 2s 2ms/step - loss: 0.3932 - accuracy: 0.8175 - val_loss: 0.4252 - val_accuracy: 0.8185 - lr: 0.0010\n",
      "Epoch 48/500\n",
      "741/741 [==============================] - 2s 2ms/step - loss: 0.3894 - accuracy: 0.8186 - val_loss: 0.4380 - val_accuracy: 0.8190 - lr: 0.0010\n",
      "Epoch 49/500\n",
      "741/741 [==============================] - 2s 2ms/step - loss: 0.3857 - accuracy: 0.8212 - val_loss: 0.4116 - val_accuracy: 0.8249 - lr: 0.0010\n",
      "Epoch 50/500\n",
      "741/741 [==============================] - 2s 2ms/step - loss: 0.3844 - accuracy: 0.8216 - val_loss: 0.4140 - val_accuracy: 0.8232 - lr: 0.0010\n",
      "Epoch 51/500\n",
      "741/741 [==============================] - 2s 3ms/step - loss: 0.3823 - accuracy: 0.8245 - val_loss: 0.4330 - val_accuracy: 0.8163 - lr: 0.0010\n",
      "Epoch 52/500\n",
      "741/741 [==============================] - 2s 2ms/step - loss: 0.3796 - accuracy: 0.8235 - val_loss: 0.4063 - val_accuracy: 0.8251 - lr: 0.0010\n",
      "Epoch 53/500\n",
      "741/741 [==============================] - 2s 2ms/step - loss: 0.3796 - accuracy: 0.8279 - val_loss: 0.4414 - val_accuracy: 0.8190 - lr: 0.0010\n",
      "Epoch 54/500\n",
      "741/741 [==============================] - 2s 3ms/step - loss: 0.3810 - accuracy: 0.8266 - val_loss: 0.4125 - val_accuracy: 0.8235 - lr: 0.0010\n",
      "Epoch 55/500\n",
      "741/741 [==============================] - 2s 2ms/step - loss: 0.3785 - accuracy: 0.8271 - val_loss: 0.4059 - val_accuracy: 0.8276 - lr: 0.0010\n",
      "Epoch 56/500\n",
      "741/741 [==============================] - 2s 2ms/step - loss: 0.3719 - accuracy: 0.8318 - val_loss: 0.4264 - val_accuracy: 0.8210 - lr: 0.0010\n",
      "Epoch 57/500\n",
      "741/741 [==============================] - 2s 2ms/step - loss: 0.3773 - accuracy: 0.8268 - val_loss: 0.4136 - val_accuracy: 0.8217 - lr: 0.0010\n",
      "Epoch 58/500\n",
      "741/741 [==============================] - 2s 2ms/step - loss: 0.3704 - accuracy: 0.8297 - val_loss: 0.4281 - val_accuracy: 0.8235 - lr: 0.0010\n",
      "Epoch 59/500\n",
      "741/741 [==============================] - 2s 3ms/step - loss: 0.3716 - accuracy: 0.8279 - val_loss: 0.4312 - val_accuracy: 0.8230 - lr: 0.0010\n",
      "Epoch 60/500\n",
      "741/741 [==============================] - 2s 3ms/step - loss: 0.3723 - accuracy: 0.8291 - val_loss: 0.4095 - val_accuracy: 0.8271 - lr: 0.0010\n",
      "Epoch 61/500\n",
      "741/741 [==============================] - 2s 3ms/step - loss: 0.3675 - accuracy: 0.8344 - val_loss: 0.4088 - val_accuracy: 0.8271 - lr: 0.0010\n",
      "Epoch 62/500\n",
      "741/741 [==============================] - 3s 3ms/step - loss: 0.3661 - accuracy: 0.8336 - val_loss: 0.4205 - val_accuracy: 0.8266 - lr: 0.0010\n",
      "Epoch 63/500\n",
      "741/741 [==============================] - 2s 3ms/step - loss: 0.3684 - accuracy: 0.8321 - val_loss: 0.4090 - val_accuracy: 0.8352 - lr: 0.0010\n",
      "Epoch 64/500\n",
      "741/741 [==============================] - 2s 3ms/step - loss: 0.3672 - accuracy: 0.8314 - val_loss: 0.4119 - val_accuracy: 0.8318 - lr: 0.0010\n",
      "Epoch 65/500\n",
      "741/741 [==============================] - 2s 2ms/step - loss: 0.3655 - accuracy: 0.8334 - val_loss: 0.4385 - val_accuracy: 0.8200 - lr: 0.0010\n",
      "Epoch 66/500\n",
      "741/741 [==============================] - 2s 3ms/step - loss: 0.3650 - accuracy: 0.8336 - val_loss: 0.4274 - val_accuracy: 0.8284 - lr: 0.0010\n",
      "Epoch 67/500\n",
      "741/741 [==============================] - 2s 3ms/step - loss: 0.3633 - accuracy: 0.8329 - val_loss: 0.4268 - val_accuracy: 0.8242 - lr: 0.0010\n",
      "Epoch 68/500\n",
      "741/741 [==============================] - 2s 2ms/step - loss: 0.3662 - accuracy: 0.8347 - val_loss: 0.4187 - val_accuracy: 0.8264 - lr: 0.0010\n",
      "Epoch 69/500\n",
      "741/741 [==============================] - 2s 2ms/step - loss: 0.3587 - accuracy: 0.8367 - val_loss: 0.4297 - val_accuracy: 0.8320 - lr: 0.0010\n",
      "Epoch 70/500\n",
      "741/741 [==============================] - 2s 2ms/step - loss: 0.3593 - accuracy: 0.8366 - val_loss: 0.4196 - val_accuracy: 0.8264 - lr: 0.0010\n",
      "Epoch 71/500\n",
      "741/741 [==============================] - 2s 2ms/step - loss: 0.3601 - accuracy: 0.8374 - val_loss: 0.4005 - val_accuracy: 0.8271 - lr: 0.0010\n",
      "Epoch 72/500\n",
      "741/741 [==============================] - 2s 2ms/step - loss: 0.3563 - accuracy: 0.8388 - val_loss: 0.4284 - val_accuracy: 0.8274 - lr: 0.0010\n",
      "Epoch 73/500\n",
      "741/741 [==============================] - 2s 3ms/step - loss: 0.3609 - accuracy: 0.8379 - val_loss: 0.4092 - val_accuracy: 0.8247 - lr: 0.0010\n",
      "Epoch 74/500\n",
      "741/741 [==============================] - 2s 2ms/step - loss: 0.3528 - accuracy: 0.8410 - val_loss: 0.4429 - val_accuracy: 0.8252 - lr: 0.0010\n",
      "Epoch 75/500\n",
      "741/741 [==============================] - 2s 3ms/step - loss: 0.3566 - accuracy: 0.8363 - val_loss: 0.4046 - val_accuracy: 0.8338 - lr: 0.0010\n",
      "Epoch 76/500\n",
      "741/741 [==============================] - 2s 2ms/step - loss: 0.3557 - accuracy: 0.8391 - val_loss: 0.4245 - val_accuracy: 0.8271 - lr: 0.0010\n",
      "Epoch 77/500\n",
      "741/741 [==============================] - 2s 2ms/step - loss: 0.3526 - accuracy: 0.8416 - val_loss: 0.4391 - val_accuracy: 0.8254 - lr: 0.0010\n",
      "Epoch 78/500\n",
      "741/741 [==============================] - 2s 3ms/step - loss: 0.3524 - accuracy: 0.8419 - val_loss: 0.4106 - val_accuracy: 0.8293 - lr: 0.0010\n",
      "Epoch 79/500\n",
      "741/741 [==============================] - 2s 3ms/step - loss: 0.3486 - accuracy: 0.8404 - val_loss: 0.3936 - val_accuracy: 0.8340 - lr: 0.0010\n",
      "Epoch 80/500\n",
      "741/741 [==============================] - 2s 3ms/step - loss: 0.3459 - accuracy: 0.8417 - val_loss: 0.4077 - val_accuracy: 0.8327 - lr: 0.0010\n",
      "Epoch 81/500\n",
      "741/741 [==============================] - 2s 3ms/step - loss: 0.3474 - accuracy: 0.8431 - val_loss: 0.4107 - val_accuracy: 0.8352 - lr: 0.0010\n",
      "Epoch 82/500\n",
      "741/741 [==============================] - 2s 3ms/step - loss: 0.3437 - accuracy: 0.8468 - val_loss: 0.4170 - val_accuracy: 0.8320 - lr: 0.0010\n",
      "Epoch 83/500\n",
      "741/741 [==============================] - 2s 3ms/step - loss: 0.3432 - accuracy: 0.8396 - val_loss: 0.4292 - val_accuracy: 0.8295 - lr: 0.0010\n",
      "Epoch 84/500\n",
      "741/741 [==============================] - 2s 3ms/step - loss: 0.3458 - accuracy: 0.8446 - val_loss: 0.4118 - val_accuracy: 0.8325 - lr: 0.0010\n",
      "Epoch 85/500\n",
      "741/741 [==============================] - 2s 3ms/step - loss: 0.3401 - accuracy: 0.8459 - val_loss: 0.4045 - val_accuracy: 0.8337 - lr: 0.0010\n",
      "Epoch 86/500\n",
      "741/741 [==============================] - 2s 3ms/step - loss: 0.3455 - accuracy: 0.8439 - val_loss: 0.4086 - val_accuracy: 0.8374 - lr: 0.0010\n",
      "Epoch 87/500\n",
      "741/741 [==============================] - 2s 3ms/step - loss: 0.3426 - accuracy: 0.8458 - val_loss: 0.4069 - val_accuracy: 0.8340 - lr: 0.0010\n",
      "Epoch 88/500\n",
      "741/741 [==============================] - 2s 3ms/step - loss: 0.3373 - accuracy: 0.8476 - val_loss: 0.4130 - val_accuracy: 0.8391 - lr: 0.0010\n",
      "Epoch 89/500\n",
      "741/741 [==============================] - 2s 3ms/step - loss: 0.3428 - accuracy: 0.8472 - val_loss: 0.3889 - val_accuracy: 0.8362 - lr: 0.0010\n",
      "Epoch 90/500\n",
      "741/741 [==============================] - 2s 3ms/step - loss: 0.3372 - accuracy: 0.8478 - val_loss: 0.4125 - val_accuracy: 0.8376 - lr: 0.0010\n",
      "Epoch 91/500\n",
      "741/741 [==============================] - 2s 2ms/step - loss: 0.3367 - accuracy: 0.8488 - val_loss: 0.4376 - val_accuracy: 0.8273 - lr: 0.0010\n",
      "Epoch 92/500\n",
      "741/741 [==============================] - 2s 2ms/step - loss: 0.3387 - accuracy: 0.8474 - val_loss: 0.4072 - val_accuracy: 0.8391 - lr: 0.0010\n",
      "Epoch 93/500\n",
      "741/741 [==============================] - 2s 2ms/step - loss: 0.3373 - accuracy: 0.8457 - val_loss: 0.3953 - val_accuracy: 0.8401 - lr: 0.0010\n",
      "Epoch 94/500\n",
      "741/741 [==============================] - 2s 2ms/step - loss: 0.3375 - accuracy: 0.8460 - val_loss: 0.4079 - val_accuracy: 0.8343 - lr: 0.0010\n",
      "Epoch 95/500\n",
      "741/741 [==============================] - 2s 2ms/step - loss: 0.3360 - accuracy: 0.8472 - val_loss: 0.4172 - val_accuracy: 0.8354 - lr: 0.0010\n",
      "Epoch 96/500\n",
      "741/741 [==============================] - 2s 2ms/step - loss: 0.3368 - accuracy: 0.8484 - val_loss: 0.4369 - val_accuracy: 0.8274 - lr: 0.0010\n",
      "Epoch 97/500\n",
      "741/741 [==============================] - 2s 2ms/step - loss: 0.3387 - accuracy: 0.8480 - val_loss: 0.4307 - val_accuracy: 0.8279 - lr: 0.0010\n",
      "Epoch 98/500\n",
      "741/741 [==============================] - 2s 2ms/step - loss: 0.3301 - accuracy: 0.8496 - val_loss: 0.4388 - val_accuracy: 0.8362 - lr: 0.0010\n",
      "Epoch 99/500\n",
      "741/741 [==============================] - 2s 2ms/step - loss: 0.3304 - accuracy: 0.8501 - val_loss: 0.4033 - val_accuracy: 0.8387 - lr: 0.0010\n",
      "Epoch 100/500\n",
      "741/741 [==============================] - 2s 2ms/step - loss: 0.3300 - accuracy: 0.8531 - val_loss: 0.4097 - val_accuracy: 0.8360 - lr: 0.0010\n",
      "Epoch 101/500\n",
      "741/741 [==============================] - 2s 2ms/step - loss: 0.3341 - accuracy: 0.8506 - val_loss: 0.4101 - val_accuracy: 0.8423 - lr: 0.0010\n",
      "Epoch 102/500\n",
      "741/741 [==============================] - 2s 2ms/step - loss: 0.3268 - accuracy: 0.8528 - val_loss: 0.4118 - val_accuracy: 0.8392 - lr: 0.0010\n",
      "Epoch 103/500\n",
      "741/741 [==============================] - 2s 2ms/step - loss: 0.3336 - accuracy: 0.8498 - val_loss: 0.4056 - val_accuracy: 0.8392 - lr: 0.0010\n",
      "Epoch 104/500\n",
      "741/741 [==============================] - 2s 3ms/step - loss: 0.3305 - accuracy: 0.8503 - val_loss: 0.4089 - val_accuracy: 0.8333 - lr: 0.0010\n",
      "Epoch 105/500\n",
      "741/741 [==============================] - 2s 2ms/step - loss: 0.3272 - accuracy: 0.8537 - val_loss: 0.4097 - val_accuracy: 0.8377 - lr: 0.0010\n",
      "Epoch 106/500\n",
      "741/741 [==============================] - 2s 2ms/step - loss: 0.3284 - accuracy: 0.8526 - val_loss: 0.4091 - val_accuracy: 0.8456 - lr: 0.0010\n",
      "Epoch 107/500\n",
      "741/741 [==============================] - 2s 2ms/step - loss: 0.3257 - accuracy: 0.8523 - val_loss: 0.4139 - val_accuracy: 0.8414 - lr: 0.0010\n",
      "Epoch 108/500\n",
      "741/741 [==============================] - 2s 2ms/step - loss: 0.3278 - accuracy: 0.8530 - val_loss: 0.4079 - val_accuracy: 0.8428 - lr: 0.0010\n",
      "Epoch 109/500\n",
      "728/741 [============================>.] - ETA: 0s - loss: 0.3237 - accuracy: 0.8562\n",
      "Epoch 109: ReduceLROnPlateau reducing learning rate to 0.00010000000474974513.\n",
      "741/741 [==============================] - 2s 2ms/step - loss: 0.3245 - accuracy: 0.8556 - val_loss: 0.4001 - val_accuracy: 0.8414 - lr: 0.0010\n",
      "Epoch 110/500\n",
      "741/741 [==============================] - 2s 2ms/step - loss: 0.3182 - accuracy: 0.8580 - val_loss: 0.4040 - val_accuracy: 0.8433 - lr: 1.0000e-04\n",
      "Epoch 111/500\n",
      "741/741 [==============================] - 2s 2ms/step - loss: 0.3103 - accuracy: 0.8621 - val_loss: 0.4132 - val_accuracy: 0.8419 - lr: 1.0000e-04\n",
      "Epoch 112/500\n",
      "741/741 [==============================] - 2s 2ms/step - loss: 0.3136 - accuracy: 0.8620 - val_loss: 0.4017 - val_accuracy: 0.8448 - lr: 1.0000e-04\n",
      "Epoch 113/500\n",
      "741/741 [==============================] - 2s 2ms/step - loss: 0.3106 - accuracy: 0.8605 - val_loss: 0.4077 - val_accuracy: 0.8431 - lr: 1.0000e-04\n",
      "Epoch 114/500\n",
      "741/741 [==============================] - 2s 2ms/step - loss: 0.3099 - accuracy: 0.8615 - val_loss: 0.3989 - val_accuracy: 0.8445 - lr: 1.0000e-04\n",
      "Epoch 115/500\n",
      "741/741 [==============================] - 2s 2ms/step - loss: 0.3076 - accuracy: 0.8625 - val_loss: 0.4085 - val_accuracy: 0.8428 - lr: 1.0000e-04\n",
      "Epoch 116/500\n",
      "741/741 [==============================] - 2s 2ms/step - loss: 0.3106 - accuracy: 0.8620 - val_loss: 0.4055 - val_accuracy: 0.8463 - lr: 1.0000e-04\n",
      "Epoch 117/500\n",
      "741/741 [==============================] - 2s 2ms/step - loss: 0.3073 - accuracy: 0.8617 - val_loss: 0.4074 - val_accuracy: 0.8443 - lr: 1.0000e-04\n",
      "Epoch 118/500\n",
      "741/741 [==============================] - 2s 2ms/step - loss: 0.3048 - accuracy: 0.8631 - val_loss: 0.4112 - val_accuracy: 0.8446 - lr: 1.0000e-04\n",
      "Epoch 119/500\n",
      "741/741 [==============================] - 2s 2ms/step - loss: 0.3071 - accuracy: 0.8641 - val_loss: 0.4107 - val_accuracy: 0.8482 - lr: 1.0000e-04\n",
      "Epoch 120/500\n",
      "741/741 [==============================] - 2s 2ms/step - loss: 0.3052 - accuracy: 0.8664 - val_loss: 0.4096 - val_accuracy: 0.8455 - lr: 1.0000e-04\n",
      "Epoch 121/500\n",
      "741/741 [==============================] - 2s 2ms/step - loss: 0.3069 - accuracy: 0.8646 - val_loss: 0.4087 - val_accuracy: 0.8463 - lr: 1.0000e-04\n",
      "Epoch 122/500\n",
      "741/741 [==============================] - 2s 2ms/step - loss: 0.3058 - accuracy: 0.8627 - val_loss: 0.4070 - val_accuracy: 0.8456 - lr: 1.0000e-04\n",
      "Epoch 123/500\n",
      "741/741 [==============================] - 2s 2ms/step - loss: 0.3055 - accuracy: 0.8647 - val_loss: 0.4126 - val_accuracy: 0.8458 - lr: 1.0000e-04\n",
      "Epoch 124/500\n",
      "741/741 [==============================] - 2s 2ms/step - loss: 0.3056 - accuracy: 0.8642 - val_loss: 0.4030 - val_accuracy: 0.8475 - lr: 1.0000e-04\n",
      "Epoch 125/500\n",
      "741/741 [==============================] - 2s 2ms/step - loss: 0.3104 - accuracy: 0.8627 - val_loss: 0.4064 - val_accuracy: 0.8463 - lr: 1.0000e-04\n",
      "Epoch 126/500\n",
      "741/741 [==============================] - 2s 2ms/step - loss: 0.3049 - accuracy: 0.8640 - val_loss: 0.4100 - val_accuracy: 0.8465 - lr: 1.0000e-04\n",
      "Epoch 127/500\n",
      "741/741 [==============================] - 2s 2ms/step - loss: 0.3101 - accuracy: 0.8616 - val_loss: 0.4016 - val_accuracy: 0.8473 - lr: 1.0000e-04\n",
      "Epoch 128/500\n",
      "741/741 [==============================] - 2s 2ms/step - loss: 0.3085 - accuracy: 0.8618 - val_loss: 0.4061 - val_accuracy: 0.8468 - lr: 1.0000e-04\n",
      "Epoch 129/500\n",
      "736/741 [============================>.] - ETA: 0s - loss: 0.3032 - accuracy: 0.8653\n",
      "Epoch 129: ReduceLROnPlateau reducing learning rate to 1.0000000474974514e-05.\n",
      "741/741 [==============================] - 2s 2ms/step - loss: 0.3031 - accuracy: 0.8653 - val_loss: 0.4092 - val_accuracy: 0.8475 - lr: 1.0000e-04\n"
     ]
    },
    {
     "data": {
      "text/plain": "<Figure size 432x288 with 1 Axes>",
      "image/png": "[encoded data removed]"
     },
     "metadata": {
      "needs_background": "light"
     },
     "output_type": "display_data"
    }
   ],
   "source": [
    "CNNv3=tf.keras.Sequential()\n",
    "CNNv3.add(Input(shape=(40)))\n",
    "CNNv3.add(Dense(160, activation='selu', name='dense_1',kernel_initializer='lecun_normal'))\n",
    "CNNv3.add(AlphaDropout(0.3))\n",
    "CNNv3.add(Dense(80, activation='selu', name='dense_4',kernel_initializer='lecun_normal'))\n",
    "CNNv3.add(AlphaDropout(0.2))\n",
    "# CNNv3.add(AlphaDropout(0.2))\n",
    "CNNv3.add(Dense(40, activation='selu', name='dense_55',kernel_initializer='lecun_normal'))\n",
    "CNNv3.add(Dense(20, activation='selu', name='dense_5',kernel_initializer='lecun_normal'))\n",
    "CNNv3.add(Dense(20, activation='selu', name='dense_56',kernel_initializer='lecun_normal'))\n",
    "CNNv3.add(Dense(10, activation='selu', name='dense_57',kernel_initializer='lecun_normal'))\n",
    "CNNv3.add(Dense(1, activation='sigmoid', name='dense_6'))\n",
    "#dist = Dense(1, activation='sigmoid', name='dense_2')(hidden)\n",
    "CNNv3.summary()\n",
    "CNNv3.compile(optimizer='nadam',\n",
    "    loss=tf.keras.losses.BinaryCrossentropy(from_logits=False),\n",
    "    metrics=['accuracy'],)\n",
    "# Train classifier\n",
    "reduceLR = tf.keras.callbacks.ReduceLROnPlateau(monitor='val_loss', factor=0.1,\n",
    "                                 verbose=1, patience=20, mode='auto')\n",
    "early = tf.keras.callbacks.EarlyStopping(monitor='val_loss', min_delta=1e-4,\n",
    "                          patience=40, mode='auto', restore_best_weights=True)\n",
    "history = CNNv3.fit(train_feats, train_targs,\n",
    "                      epochs=500,\n",
    "                      batch_size=32,\n",
    "                      shuffle=True,\n",
    "                      validation_split=0.2,\n",
    "                      callbacks=[reduceLR, early])\n",
    "plt.plot(history.history['loss'])\n",
    "plt.plot(history.history['val_loss'])\n",
    "plt.title('Learning Curves')\n",
    "plt.legend(['Training Loss', 'Validation Loss'])\n",
    "plt.ylabel('Binary Crossentropy')\n",
    "plt.xlabel('Epoch Number')\n",
    "plt.show()"
   ],
   "metadata": {
    "collapsed": false,
    "pycharm": {
     "name": "#%%\n"
    }
   }
  },
  {
   "cell_type": "code",
   "execution_count": 22,
   "outputs": [
    {
     "name": "stdout",
     "output_type": "stream",
     "text": [
      "232/232 [==============================] - 0s 1ms/step - loss: 0.3966 - accuracy: 0.8308\n"
     ]
    },
    {
     "data": {
      "text/plain": "[0.3966245949268341, 0.8307692408561707]"
     },
     "execution_count": 22,
     "metadata": {},
     "output_type": "execute_result"
    }
   ],
   "source": [
    "CNNv3.evaluate(test_feats,test_targs)"
   ],
   "metadata": {
    "collapsed": false,
    "pycharm": {
     "name": "#%%\n"
    }
   }
  },
  {
   "cell_type": "code",
   "execution_count": 31,
   "outputs": [
    {
     "name": "stdout",
     "output_type": "stream",
     "text": [
      "232/232 [==============================] - 0s 788us/step\n"
     ]
    }
   ],
   "source": [
    "CNNpreds=CNNv3.predict(test_feats)\n",
    "CNNpreds=CNNpreds>0.5"
   ],
   "metadata": {
    "collapsed": false,
    "pycharm": {
     "name": "#%%\n"
    }
   }
  },
  {
   "cell_type": "code",
   "execution_count": 21,
   "outputs": [
    {
     "name": "stdout",
     "output_type": "stream",
     "text": [
      "232/232 [==============================] - 1s 3ms/step\n",
      "0.8189845474613686\n",
      "0.8323051037577117\n",
      "0.8307692307692308\n",
      "0.8255910987482615\n"
     ]
    }
   ],
   "source": [
    "CNNpreds=CNNv3.predict(test_feats)\n",
    "CNNpreds=CNNpreds>0.5\n",
    "print(precision_score(test_targs,CNNpreds))\n",
    "print(recall_score(test_targs,CNNpreds))\n",
    "print(accuracy_score(test_targs,CNNpreds))\n",
    "print(f1_score(test_targs,CNNpreds))"
   ],
   "metadata": {
    "collapsed": false,
    "pycharm": {
     "name": "#%%\n"
    }
   }
  },
  {
   "cell_type": "code",
   "execution_count": 41,
   "outputs": [],
   "source": [
    "from research.dataImporting import MLtools\n",
    "MLtools.save_model(CNNv3,\"ANN_LT80_wo_A1_24bit\")"
   ],
   "metadata": {
    "collapsed": false,
    "pycharm": {
     "name": "#%%\n"
    }
   }
  },
  {
   "cell_type": "markdown",
   "source": [
    "# CNN Deep Version"
   ],
   "metadata": {
    "collapsed": false,
    "pycharm": {
     "name": "#%% md\n"
    }
   }
  },
  {
   "cell_type": "code",
   "execution_count": 17,
   "outputs": [
    {
     "name": "stdout",
     "output_type": "stream",
     "text": [
      "Model: \"sequential_1\"\n",
      "_________________________________________________________________\n",
      " Layer (type)                Output Shape              Param #   \n",
      "=================================================================\n",
      " dense_1 (Dense)             (None, 80)                3280      \n",
      "                                                                 \n",
      " alpha_dropout_2 (AlphaDropo  (None, 80)               0         \n",
      " ut)                                                             \n",
      "                                                                 \n",
      " dense_2 (Dense)             (None, 80)                6480      \n",
      "                                                                 \n",
      " alpha_dropout_3 (AlphaDropo  (None, 80)               0         \n",
      " ut)                                                             \n",
      "                                                                 \n",
      " dense_3 (Dense)             (None, 80)                6480      \n",
      "                                                                 \n",
      " dense_4 (Dense)             (None, 40)                3240      \n",
      "                                                                 \n",
      " dense_5 (Dense)             (None, 20)                820       \n",
      "                                                                 \n",
      " dense_6 (Dense)             (None, 20)                420       \n",
      "                                                                 \n",
      " dense_7 (Dense)             (None, 20)                420       \n",
      "                                                                 \n",
      " dense_8 (Dense)             (None, 10)                210       \n",
      "                                                                 \n",
      " dense_9 (Dense)             (None, 10)                110       \n",
      "                                                                 \n",
      " dense_10 (Dense)            (None, 5)                 55        \n",
      "                                                                 \n",
      " dense_11 (Dense)            (None, 1)                 6         \n",
      "                                                                 \n",
      "=================================================================\n",
      "Total params: 21,521\n",
      "Trainable params: 21,521\n",
      "Non-trainable params: 0\n",
      "_________________________________________________________________\n",
      "Epoch 1/500\n",
      "712/712 [==============================] - 3s 2ms/step - loss: 0.6415 - accuracy: 0.6453 - val_loss: 0.6254 - val_accuracy: 0.6766 - lr: 0.0010\n",
      "Epoch 2/500\n",
      "712/712 [==============================] - 2s 2ms/step - loss: 0.6149 - accuracy: 0.6711 - val_loss: 0.6084 - val_accuracy: 0.6818 - lr: 0.0010\n",
      "Epoch 3/500\n",
      "712/712 [==============================] - 2s 2ms/step - loss: 0.6019 - accuracy: 0.6829 - val_loss: 0.5859 - val_accuracy: 0.7005 - lr: 0.0010\n",
      "Epoch 4/500\n",
      "712/712 [==============================] - 2s 2ms/step - loss: 0.5911 - accuracy: 0.6923 - val_loss: 0.5840 - val_accuracy: 0.7105 - lr: 0.0010\n",
      "Epoch 5/500\n",
      "712/712 [==============================] - 2s 2ms/step - loss: 0.5832 - accuracy: 0.6977 - val_loss: 0.5698 - val_accuracy: 0.7057 - lr: 0.0010\n",
      "Epoch 6/500\n",
      "712/712 [==============================] - 2s 2ms/step - loss: 0.5754 - accuracy: 0.7042 - val_loss: 0.5573 - val_accuracy: 0.7224 - lr: 0.0010\n",
      "Epoch 7/500\n",
      "712/712 [==============================] - 2s 2ms/step - loss: 0.5696 - accuracy: 0.7083 - val_loss: 0.5639 - val_accuracy: 0.7284 - lr: 0.0010\n",
      "Epoch 8/500\n",
      "712/712 [==============================] - 2s 2ms/step - loss: 0.5627 - accuracy: 0.7121 - val_loss: 0.5413 - val_accuracy: 0.7214 - lr: 0.0010\n",
      "Epoch 9/500\n",
      "712/712 [==============================] - 2s 2ms/step - loss: 0.5545 - accuracy: 0.7166 - val_loss: 0.5268 - val_accuracy: 0.7397 - lr: 0.0010\n",
      "Epoch 10/500\n",
      "712/712 [==============================] - 2s 2ms/step - loss: 0.5505 - accuracy: 0.7213 - val_loss: 0.5446 - val_accuracy: 0.7217 - lr: 0.0010\n",
      "Epoch 11/500\n",
      "712/712 [==============================] - 2s 2ms/step - loss: 0.5438 - accuracy: 0.7243 - val_loss: 0.5394 - val_accuracy: 0.7363 - lr: 0.0010\n",
      "Epoch 12/500\n",
      "712/712 [==============================] - 2s 2ms/step - loss: 0.5401 - accuracy: 0.7277 - val_loss: 0.5509 - val_accuracy: 0.7460 - lr: 0.0010\n",
      "Epoch 13/500\n",
      "712/712 [==============================] - 2s 2ms/step - loss: 0.5348 - accuracy: 0.7301 - val_loss: 0.5488 - val_accuracy: 0.7414 - lr: 0.0010\n",
      "Epoch 14/500\n",
      "712/712 [==============================] - 2s 2ms/step - loss: 0.5307 - accuracy: 0.7349 - val_loss: 0.5433 - val_accuracy: 0.7432 - lr: 0.0010\n",
      "Epoch 15/500\n",
      "712/712 [==============================] - 2s 2ms/step - loss: 0.5280 - accuracy: 0.7344 - val_loss: 0.5400 - val_accuracy: 0.7455 - lr: 0.0010\n",
      "Epoch 16/500\n",
      "712/712 [==============================] - 2s 2ms/step - loss: 0.5233 - accuracy: 0.7374 - val_loss: 0.5122 - val_accuracy: 0.7518 - lr: 0.0010\n",
      "Epoch 17/500\n",
      "712/712 [==============================] - 2s 2ms/step - loss: 0.5184 - accuracy: 0.7392 - val_loss: 0.5162 - val_accuracy: 0.7590 - lr: 0.0010\n",
      "Epoch 18/500\n",
      "712/712 [==============================] - 2s 2ms/step - loss: 0.5160 - accuracy: 0.7390 - val_loss: 0.5174 - val_accuracy: 0.7530 - lr: 0.0010\n",
      "Epoch 19/500\n",
      "712/712 [==============================] - 2s 2ms/step - loss: 0.5114 - accuracy: 0.7454 - val_loss: 0.5047 - val_accuracy: 0.7611 - lr: 0.0010\n",
      "Epoch 20/500\n",
      "712/712 [==============================] - 2s 2ms/step - loss: 0.5069 - accuracy: 0.7497 - val_loss: 0.5101 - val_accuracy: 0.7602 - lr: 0.0010\n",
      "Epoch 21/500\n",
      "712/712 [==============================] - 2s 2ms/step - loss: 0.5006 - accuracy: 0.7549 - val_loss: 0.5150 - val_accuracy: 0.7599 - lr: 0.0010\n",
      "Epoch 22/500\n",
      "712/712 [==============================] - 2s 2ms/step - loss: 0.5007 - accuracy: 0.7525 - val_loss: 0.5106 - val_accuracy: 0.7715 - lr: 0.0010\n",
      "Epoch 23/500\n",
      "712/712 [==============================] - 2s 2ms/step - loss: 0.4988 - accuracy: 0.7519 - val_loss: 0.5122 - val_accuracy: 0.7634 - lr: 0.0010\n",
      "Epoch 24/500\n",
      "712/712 [==============================] - 2s 2ms/step - loss: 0.4956 - accuracy: 0.7559 - val_loss: 0.5396 - val_accuracy: 0.7634 - lr: 0.0010\n",
      "Epoch 25/500\n",
      "712/712 [==============================] - 2s 2ms/step - loss: 0.4930 - accuracy: 0.7593 - val_loss: 0.4817 - val_accuracy: 0.7761 - lr: 0.0010\n",
      "Epoch 26/500\n",
      "712/712 [==============================] - 2s 3ms/step - loss: 0.4881 - accuracy: 0.7608 - val_loss: 0.5057 - val_accuracy: 0.7711 - lr: 0.0010\n",
      "Epoch 27/500\n",
      "712/712 [==============================] - 2s 2ms/step - loss: 0.4868 - accuracy: 0.7620 - val_loss: 0.5041 - val_accuracy: 0.7776 - lr: 0.0010\n",
      "Epoch 28/500\n",
      "712/712 [==============================] - 2s 2ms/step - loss: 0.4845 - accuracy: 0.7660 - val_loss: 0.4928 - val_accuracy: 0.7761 - lr: 0.0010\n",
      "Epoch 29/500\n",
      "712/712 [==============================] - 2s 2ms/step - loss: 0.4817 - accuracy: 0.7637 - val_loss: 0.4941 - val_accuracy: 0.7780 - lr: 0.0010\n",
      "Epoch 30/500\n",
      "712/712 [==============================] - 2s 2ms/step - loss: 0.4802 - accuracy: 0.7673 - val_loss: 0.4866 - val_accuracy: 0.7861 - lr: 0.0010\n",
      "Epoch 31/500\n",
      "712/712 [==============================] - 2s 2ms/step - loss: 0.4787 - accuracy: 0.7686 - val_loss: 0.4838 - val_accuracy: 0.7841 - lr: 0.0010\n",
      "Epoch 32/500\n",
      "712/712 [==============================] - 2s 2ms/step - loss: 0.4744 - accuracy: 0.7698 - val_loss: 0.4814 - val_accuracy: 0.7771 - lr: 0.0010\n",
      "Epoch 33/500\n",
      "712/712 [==============================] - 2s 2ms/step - loss: 0.4719 - accuracy: 0.7728 - val_loss: 0.4739 - val_accuracy: 0.7845 - lr: 0.0010\n",
      "Epoch 34/500\n",
      "712/712 [==============================] - 2s 2ms/step - loss: 0.4696 - accuracy: 0.7727 - val_loss: 0.4855 - val_accuracy: 0.7870 - lr: 0.0010\n",
      "Epoch 35/500\n",
      "712/712 [==============================] - 2s 2ms/step - loss: 0.4675 - accuracy: 0.7730 - val_loss: 0.4756 - val_accuracy: 0.7840 - lr: 0.0010\n",
      "Epoch 36/500\n",
      "712/712 [==============================] - 2s 2ms/step - loss: 0.4632 - accuracy: 0.7763 - val_loss: 0.4673 - val_accuracy: 0.7877 - lr: 0.0010\n",
      "Epoch 37/500\n",
      "712/712 [==============================] - 2s 2ms/step - loss: 0.4598 - accuracy: 0.7810 - val_loss: 0.4715 - val_accuracy: 0.7896 - lr: 0.0010\n",
      "Epoch 38/500\n",
      "712/712 [==============================] - 2s 2ms/step - loss: 0.4619 - accuracy: 0.7753 - val_loss: 0.4594 - val_accuracy: 0.7910 - lr: 0.0010\n",
      "Epoch 39/500\n",
      "712/712 [==============================] - 2s 2ms/step - loss: 0.4610 - accuracy: 0.7773 - val_loss: 0.4719 - val_accuracy: 0.7921 - lr: 0.0010\n",
      "Epoch 40/500\n",
      "712/712 [==============================] - 2s 2ms/step - loss: 0.4544 - accuracy: 0.7854 - val_loss: 0.4531 - val_accuracy: 0.7975 - lr: 0.0010\n",
      "Epoch 41/500\n",
      "712/712 [==============================] - 2s 2ms/step - loss: 0.4550 - accuracy: 0.7816 - val_loss: 0.4853 - val_accuracy: 0.7845 - lr: 0.0010\n",
      "Epoch 42/500\n",
      "712/712 [==============================] - 2s 2ms/step - loss: 0.4518 - accuracy: 0.7832 - val_loss: 0.4722 - val_accuracy: 0.7959 - lr: 0.0010\n",
      "Epoch 43/500\n",
      "712/712 [==============================] - 2s 2ms/step - loss: 0.4518 - accuracy: 0.7843 - val_loss: 0.4589 - val_accuracy: 0.7998 - lr: 0.0010\n",
      "Epoch 44/500\n",
      "712/712 [==============================] - 2s 2ms/step - loss: 0.4481 - accuracy: 0.7847 - val_loss: 0.4728 - val_accuracy: 0.7957 - lr: 0.0010\n",
      "Epoch 45/500\n",
      "712/712 [==============================] - 2s 2ms/step - loss: 0.4477 - accuracy: 0.7838 - val_loss: 0.4876 - val_accuracy: 0.7956 - lr: 0.0010\n",
      "Epoch 46/500\n",
      "712/712 [==============================] - 2s 2ms/step - loss: 0.4483 - accuracy: 0.7867 - val_loss: 0.4625 - val_accuracy: 0.7940 - lr: 0.0010\n",
      "Epoch 47/500\n",
      "712/712 [==============================] - 2s 2ms/step - loss: 0.4470 - accuracy: 0.7888 - val_loss: 0.4663 - val_accuracy: 0.7968 - lr: 0.0010\n",
      "Epoch 48/500\n",
      "712/712 [==============================] - 2s 2ms/step - loss: 0.4439 - accuracy: 0.7865 - val_loss: 0.4594 - val_accuracy: 0.8040 - lr: 0.0010\n",
      "Epoch 49/500\n",
      "712/712 [==============================] - 2s 2ms/step - loss: 0.4406 - accuracy: 0.7913 - val_loss: 0.4500 - val_accuracy: 0.7954 - lr: 0.0010\n",
      "Epoch 50/500\n",
      "712/712 [==============================] - 2s 2ms/step - loss: 0.4399 - accuracy: 0.7866 - val_loss: 0.4346 - val_accuracy: 0.7987 - lr: 0.0010\n",
      "Epoch 51/500\n",
      "712/712 [==============================] - 2s 2ms/step - loss: 0.4381 - accuracy: 0.7924 - val_loss: 0.4322 - val_accuracy: 0.8079 - lr: 0.0010\n",
      "Epoch 52/500\n",
      "712/712 [==============================] - 2s 2ms/step - loss: 0.4341 - accuracy: 0.7958 - val_loss: 0.4580 - val_accuracy: 0.8014 - lr: 0.0010\n",
      "Epoch 53/500\n",
      "712/712 [==============================] - 2s 2ms/step - loss: 0.4315 - accuracy: 0.7952 - val_loss: 0.4402 - val_accuracy: 0.8058 - lr: 0.0010\n",
      "Epoch 54/500\n",
      "712/712 [==============================] - 2s 2ms/step - loss: 0.4334 - accuracy: 0.7955 - val_loss: 0.4410 - val_accuracy: 0.8093 - lr: 0.0010\n",
      "Epoch 55/500\n",
      "712/712 [==============================] - 2s 2ms/step - loss: 0.4313 - accuracy: 0.7978 - val_loss: 0.4444 - val_accuracy: 0.8079 - lr: 0.0010\n",
      "Epoch 56/500\n",
      "712/712 [==============================] - 2s 3ms/step - loss: 0.4299 - accuracy: 0.7960 - val_loss: 0.4648 - val_accuracy: 0.8081 - lr: 0.0010\n",
      "Epoch 57/500\n",
      "712/712 [==============================] - 2s 3ms/step - loss: 0.4272 - accuracy: 0.7979 - val_loss: 0.4553 - val_accuracy: 0.8056 - lr: 0.0010\n",
      "Epoch 58/500\n",
      "712/712 [==============================] - 2s 2ms/step - loss: 0.4242 - accuracy: 0.8010 - val_loss: 0.4613 - val_accuracy: 0.8119 - lr: 0.0010\n",
      "Epoch 59/500\n",
      "712/712 [==============================] - 2s 2ms/step - loss: 0.4272 - accuracy: 0.8002 - val_loss: 0.4394 - val_accuracy: 0.8114 - lr: 0.0010\n",
      "Epoch 60/500\n",
      "712/712 [==============================] - 2s 2ms/step - loss: 0.4260 - accuracy: 0.7973 - val_loss: 0.4396 - val_accuracy: 0.8079 - lr: 0.0010\n",
      "Epoch 61/500\n",
      "712/712 [==============================] - 2s 2ms/step - loss: 0.4262 - accuracy: 0.7967 - val_loss: 0.4501 - val_accuracy: 0.8086 - lr: 0.0010\n",
      "Epoch 62/500\n",
      "712/712 [==============================] - 2s 2ms/step - loss: 0.4230 - accuracy: 0.8033 - val_loss: 0.4500 - val_accuracy: 0.8044 - lr: 0.0010\n",
      "Epoch 63/500\n",
      "712/712 [==============================] - 2s 2ms/step - loss: 0.4202 - accuracy: 0.8049 - val_loss: 0.4301 - val_accuracy: 0.8151 - lr: 0.0010\n",
      "Epoch 64/500\n",
      "712/712 [==============================] - 2s 2ms/step - loss: 0.4201 - accuracy: 0.8008 - val_loss: 0.4394 - val_accuracy: 0.8149 - lr: 0.0010\n",
      "Epoch 65/500\n",
      "712/712 [==============================] - 2s 2ms/step - loss: 0.4162 - accuracy: 0.8061 - val_loss: 0.4685 - val_accuracy: 0.8146 - lr: 0.0010\n",
      "Epoch 66/500\n",
      "712/712 [==============================] - 2s 2ms/step - loss: 0.4167 - accuracy: 0.8018 - val_loss: 0.4408 - val_accuracy: 0.8139 - lr: 0.0010\n",
      "Epoch 67/500\n",
      "712/712 [==============================] - 2s 2ms/step - loss: 0.4150 - accuracy: 0.8047 - val_loss: 0.4218 - val_accuracy: 0.8195 - lr: 0.0010\n",
      "Epoch 68/500\n",
      "712/712 [==============================] - 2s 2ms/step - loss: 0.4193 - accuracy: 0.8036 - val_loss: 0.4464 - val_accuracy: 0.8124 - lr: 0.0010\n",
      "Epoch 69/500\n",
      "712/712 [==============================] - 2s 2ms/step - loss: 0.4124 - accuracy: 0.8064 - val_loss: 0.4307 - val_accuracy: 0.8160 - lr: 0.0010\n",
      "Epoch 70/500\n",
      "712/712 [==============================] - 2s 2ms/step - loss: 0.4118 - accuracy: 0.8101 - val_loss: 0.4436 - val_accuracy: 0.8096 - lr: 0.0010\n",
      "Epoch 71/500\n",
      "712/712 [==============================] - 2s 2ms/step - loss: 0.4108 - accuracy: 0.8066 - val_loss: 0.4291 - val_accuracy: 0.8207 - lr: 0.0010\n",
      "Epoch 72/500\n",
      "712/712 [==============================] - 2s 2ms/step - loss: 0.4144 - accuracy: 0.8067 - val_loss: 0.4301 - val_accuracy: 0.8198 - lr: 0.0010\n",
      "Epoch 73/500\n",
      "712/712 [==============================] - 2s 2ms/step - loss: 0.4119 - accuracy: 0.8065 - val_loss: 0.4161 - val_accuracy: 0.8170 - lr: 0.0010\n",
      "Epoch 74/500\n",
      "712/712 [==============================] - 2s 2ms/step - loss: 0.4077 - accuracy: 0.8109 - val_loss: 0.4242 - val_accuracy: 0.8144 - lr: 0.0010\n",
      "Epoch 75/500\n",
      "712/712 [==============================] - 2s 2ms/step - loss: 0.4064 - accuracy: 0.8101 - val_loss: 0.4246 - val_accuracy: 0.8175 - lr: 0.0010\n",
      "Epoch 76/500\n",
      "712/712 [==============================] - 2s 2ms/step - loss: 0.4088 - accuracy: 0.8071 - val_loss: 0.4318 - val_accuracy: 0.8198 - lr: 0.0010\n",
      "Epoch 77/500\n",
      "712/712 [==============================] - 2s 2ms/step - loss: 0.4044 - accuracy: 0.8123 - val_loss: 0.4274 - val_accuracy: 0.8211 - lr: 0.0010\n",
      "Epoch 78/500\n",
      "712/712 [==============================] - 2s 2ms/step - loss: 0.4064 - accuracy: 0.8138 - val_loss: 0.4268 - val_accuracy: 0.8147 - lr: 0.0010\n",
      "Epoch 79/500\n",
      "712/712 [==============================] - 2s 2ms/step - loss: 0.4058 - accuracy: 0.8096 - val_loss: 0.4360 - val_accuracy: 0.8149 - lr: 0.0010\n",
      "Epoch 80/500\n",
      "712/712 [==============================] - 2s 2ms/step - loss: 0.4026 - accuracy: 0.8128 - val_loss: 0.4433 - val_accuracy: 0.8200 - lr: 0.0010\n",
      "Epoch 81/500\n",
      "712/712 [==============================] - 2s 2ms/step - loss: 0.4026 - accuracy: 0.8124 - val_loss: 0.4208 - val_accuracy: 0.8204 - lr: 0.0010\n",
      "Epoch 82/500\n",
      "712/712 [==============================] - 2s 2ms/step - loss: 0.3986 - accuracy: 0.8145 - val_loss: 0.4269 - val_accuracy: 0.8163 - lr: 0.0010\n",
      "Epoch 83/500\n",
      "712/712 [==============================] - 2s 2ms/step - loss: 0.3999 - accuracy: 0.8158 - val_loss: 0.4406 - val_accuracy: 0.8146 - lr: 0.0010\n",
      "Epoch 84/500\n",
      "712/712 [==============================] - 2s 3ms/step - loss: 0.3999 - accuracy: 0.8138 - val_loss: 0.4259 - val_accuracy: 0.8260 - lr: 0.0010\n",
      "Epoch 85/500\n",
      "712/712 [==============================] - 2s 3ms/step - loss: 0.3999 - accuracy: 0.8156 - val_loss: 0.4150 - val_accuracy: 0.8212 - lr: 0.0010\n",
      "Epoch 86/500\n",
      "712/712 [==============================] - 2s 2ms/step - loss: 0.3992 - accuracy: 0.8155 - val_loss: 0.4231 - val_accuracy: 0.8235 - lr: 0.0010\n",
      "Epoch 87/500\n",
      "712/712 [==============================] - 2s 2ms/step - loss: 0.4023 - accuracy: 0.8096 - val_loss: 0.4266 - val_accuracy: 0.8228 - lr: 0.0010\n",
      "Epoch 88/500\n",
      "712/712 [==============================] - 2s 2ms/step - loss: 0.3967 - accuracy: 0.8169 - val_loss: 0.4151 - val_accuracy: 0.8253 - lr: 0.0010\n",
      "Epoch 89/500\n",
      "712/712 [==============================] - 2s 2ms/step - loss: 0.3961 - accuracy: 0.8160 - val_loss: 0.4211 - val_accuracy: 0.8262 - lr: 0.0010\n",
      "Epoch 90/500\n",
      "712/712 [==============================] - 2s 2ms/step - loss: 0.3956 - accuracy: 0.8181 - val_loss: 0.4380 - val_accuracy: 0.8204 - lr: 0.0010\n",
      "Epoch 91/500\n",
      "712/712 [==============================] - 2s 2ms/step - loss: 0.3931 - accuracy: 0.8183 - val_loss: 0.4333 - val_accuracy: 0.8226 - lr: 0.0010\n",
      "Epoch 92/500\n",
      "712/712 [==============================] - 2s 2ms/step - loss: 0.3951 - accuracy: 0.8167 - val_loss: 0.4156 - val_accuracy: 0.8242 - lr: 0.0010\n",
      "Epoch 93/500\n",
      "712/712 [==============================] - 2s 2ms/step - loss: 0.3920 - accuracy: 0.8163 - val_loss: 0.4104 - val_accuracy: 0.8255 - lr: 0.0010\n",
      "Epoch 94/500\n",
      "712/712 [==============================] - 2s 2ms/step - loss: 0.3915 - accuracy: 0.8169 - val_loss: 0.4244 - val_accuracy: 0.8246 - lr: 0.0010\n",
      "Epoch 95/500\n",
      "712/712 [==============================] - 2s 2ms/step - loss: 0.3950 - accuracy: 0.8162 - val_loss: 0.4105 - val_accuracy: 0.8258 - lr: 0.0010\n",
      "Epoch 96/500\n",
      "712/712 [==============================] - 2s 2ms/step - loss: 0.3919 - accuracy: 0.8177 - val_loss: 0.4053 - val_accuracy: 0.8251 - lr: 0.0010\n",
      "Epoch 97/500\n",
      "712/712 [==============================] - 2s 2ms/step - loss: 0.3953 - accuracy: 0.8177 - val_loss: 0.4208 - val_accuracy: 0.8242 - lr: 0.0010\n",
      "Epoch 98/500\n",
      "712/712 [==============================] - 2s 2ms/step - loss: 0.3900 - accuracy: 0.8192 - val_loss: 0.4186 - val_accuracy: 0.8288 - lr: 0.0010\n",
      "Epoch 99/500\n",
      "712/712 [==============================] - 2s 2ms/step - loss: 0.3902 - accuracy: 0.8189 - val_loss: 0.4172 - val_accuracy: 0.8218 - lr: 0.0010\n",
      "Epoch 100/500\n",
      "712/712 [==============================] - 2s 2ms/step - loss: 0.3885 - accuracy: 0.8210 - val_loss: 0.4133 - val_accuracy: 0.8277 - lr: 0.0010\n",
      "Epoch 101/500\n",
      "712/712 [==============================] - 2s 2ms/step - loss: 0.3911 - accuracy: 0.8203 - val_loss: 0.4164 - val_accuracy: 0.8262 - lr: 0.0010\n",
      "Epoch 102/500\n",
      "712/712 [==============================] - 2s 2ms/step - loss: 0.3874 - accuracy: 0.8221 - val_loss: 0.4134 - val_accuracy: 0.8302 - lr: 0.0010\n",
      "Epoch 103/500\n",
      "712/712 [==============================] - 2s 2ms/step - loss: 0.3861 - accuracy: 0.8194 - val_loss: 0.4192 - val_accuracy: 0.8318 - lr: 0.0010\n",
      "Epoch 104/500\n",
      "712/712 [==============================] - 2s 2ms/step - loss: 0.3872 - accuracy: 0.8215 - val_loss: 0.4182 - val_accuracy: 0.8298 - lr: 0.0010\n",
      "Epoch 105/500\n",
      "712/712 [==============================] - 2s 2ms/step - loss: 0.3865 - accuracy: 0.8215 - val_loss: 0.4243 - val_accuracy: 0.8251 - lr: 0.0010\n",
      "Epoch 106/500\n",
      "712/712 [==============================] - 2s 2ms/step - loss: 0.3809 - accuracy: 0.8247 - val_loss: 0.4339 - val_accuracy: 0.8325 - lr: 0.0010\n",
      "Epoch 107/500\n",
      "712/712 [==============================] - 2s 2ms/step - loss: 0.3889 - accuracy: 0.8201 - val_loss: 0.4121 - val_accuracy: 0.8306 - lr: 0.0010\n",
      "Epoch 108/500\n",
      "712/712 [==============================] - 2s 2ms/step - loss: 0.3836 - accuracy: 0.8230 - val_loss: 0.4350 - val_accuracy: 0.8223 - lr: 0.0010\n",
      "Epoch 109/500\n",
      "712/712 [==============================] - 2s 2ms/step - loss: 0.3808 - accuracy: 0.8260 - val_loss: 0.4139 - val_accuracy: 0.8284 - lr: 0.0010\n",
      "Epoch 110/500\n",
      "712/712 [==============================] - 2s 2ms/step - loss: 0.3834 - accuracy: 0.8217 - val_loss: 0.4284 - val_accuracy: 0.8291 - lr: 0.0010\n",
      "Epoch 111/500\n",
      "712/712 [==============================] - 2s 2ms/step - loss: 0.3812 - accuracy: 0.8235 - val_loss: 0.4232 - val_accuracy: 0.8265 - lr: 0.0010\n",
      "Epoch 112/500\n",
      "712/712 [==============================] - 2s 3ms/step - loss: 0.3834 - accuracy: 0.8260 - val_loss: 0.4227 - val_accuracy: 0.8286 - lr: 0.0010\n",
      "Epoch 113/500\n",
      "712/712 [==============================] - 2s 2ms/step - loss: 0.3840 - accuracy: 0.8204 - val_loss: 0.4148 - val_accuracy: 0.8272 - lr: 0.0010\n",
      "Epoch 114/500\n",
      "712/712 [==============================] - 2s 2ms/step - loss: 0.3841 - accuracy: 0.8227 - val_loss: 0.4272 - val_accuracy: 0.8276 - lr: 0.0010\n",
      "Epoch 115/500\n",
      "712/712 [==============================] - 2s 2ms/step - loss: 0.3813 - accuracy: 0.8248 - val_loss: 0.4145 - val_accuracy: 0.8288 - lr: 0.0010\n",
      "Epoch 116/500\n",
      "705/712 [============================>.] - ETA: 0s - loss: 0.3802 - accuracy: 0.8246\n",
      "Epoch 116: ReduceLROnPlateau reducing learning rate to 0.00010000000474974513.\n",
      "712/712 [==============================] - 2s 2ms/step - loss: 0.3804 - accuracy: 0.8244 - val_loss: 0.4143 - val_accuracy: 0.8277 - lr: 0.0010\n",
      "Epoch 117/500\n",
      "712/712 [==============================] - 2s 2ms/step - loss: 0.3748 - accuracy: 0.8288 - val_loss: 0.4131 - val_accuracy: 0.8335 - lr: 1.0000e-04\n",
      "Epoch 118/500\n",
      "712/712 [==============================] - 2s 2ms/step - loss: 0.3709 - accuracy: 0.8307 - val_loss: 0.4158 - val_accuracy: 0.8351 - lr: 1.0000e-04\n",
      "Epoch 119/500\n",
      "712/712 [==============================] - 2s 2ms/step - loss: 0.3714 - accuracy: 0.8305 - val_loss: 0.4135 - val_accuracy: 0.8341 - lr: 1.0000e-04\n",
      "Epoch 120/500\n",
      "712/712 [==============================] - 2s 2ms/step - loss: 0.3680 - accuracy: 0.8335 - val_loss: 0.4155 - val_accuracy: 0.8344 - lr: 1.0000e-04\n",
      "Epoch 121/500\n",
      "712/712 [==============================] - 2s 2ms/step - loss: 0.3689 - accuracy: 0.8300 - val_loss: 0.4154 - val_accuracy: 0.8341 - lr: 1.0000e-04\n",
      "Epoch 122/500\n",
      "712/712 [==============================] - 2s 2ms/step - loss: 0.3667 - accuracy: 0.8317 - val_loss: 0.4121 - val_accuracy: 0.8325 - lr: 1.0000e-04\n",
      "Epoch 123/500\n",
      "712/712 [==============================] - 2s 2ms/step - loss: 0.3669 - accuracy: 0.8315 - val_loss: 0.4142 - val_accuracy: 0.8341 - lr: 1.0000e-04\n",
      "Epoch 124/500\n",
      "712/712 [==============================] - 2s 2ms/step - loss: 0.3662 - accuracy: 0.8312 - val_loss: 0.4155 - val_accuracy: 0.8349 - lr: 1.0000e-04\n",
      "Epoch 125/500\n",
      "712/712 [==============================] - 2s 2ms/step - loss: 0.3643 - accuracy: 0.8326 - val_loss: 0.4132 - val_accuracy: 0.8353 - lr: 1.0000e-04\n",
      "Epoch 126/500\n",
      "712/712 [==============================] - 2s 2ms/step - loss: 0.3654 - accuracy: 0.8305 - val_loss: 0.4127 - val_accuracy: 0.8339 - lr: 1.0000e-04\n",
      "Epoch 127/500\n",
      "712/712 [==============================] - 2s 2ms/step - loss: 0.3623 - accuracy: 0.8345 - val_loss: 0.4188 - val_accuracy: 0.8339 - lr: 1.0000e-04\n",
      "Epoch 128/500\n",
      "712/712 [==============================] - 2s 2ms/step - loss: 0.3623 - accuracy: 0.8347 - val_loss: 0.4112 - val_accuracy: 0.8346 - lr: 1.0000e-04\n",
      "Epoch 129/500\n",
      "712/712 [==============================] - 2s 2ms/step - loss: 0.3640 - accuracy: 0.8315 - val_loss: 0.4114 - val_accuracy: 0.8356 - lr: 1.0000e-04\n",
      "Epoch 130/500\n",
      "712/712 [==============================] - 2s 2ms/step - loss: 0.3653 - accuracy: 0.8324 - val_loss: 0.4110 - val_accuracy: 0.8341 - lr: 1.0000e-04\n",
      "Epoch 131/500\n",
      "712/712 [==============================] - 2s 2ms/step - loss: 0.3651 - accuracy: 0.8327 - val_loss: 0.4113 - val_accuracy: 0.8349 - lr: 1.0000e-04\n",
      "Epoch 132/500\n",
      "712/712 [==============================] - 2s 2ms/step - loss: 0.3636 - accuracy: 0.8333 - val_loss: 0.4128 - val_accuracy: 0.8344 - lr: 1.0000e-04\n",
      "Epoch 133/500\n",
      "712/712 [==============================] - 2s 2ms/step - loss: 0.3630 - accuracy: 0.8339 - val_loss: 0.4082 - val_accuracy: 0.8353 - lr: 1.0000e-04\n",
      "Epoch 134/500\n",
      "712/712 [==============================] - 2s 2ms/step - loss: 0.3666 - accuracy: 0.8332 - val_loss: 0.4114 - val_accuracy: 0.8348 - lr: 1.0000e-04\n",
      "Epoch 135/500\n",
      "712/712 [==============================] - 2s 2ms/step - loss: 0.3649 - accuracy: 0.8349 - val_loss: 0.4085 - val_accuracy: 0.8360 - lr: 1.0000e-04\n",
      "Epoch 136/500\n",
      "708/712 [============================>.] - ETA: 0s - loss: 0.3653 - accuracy: 0.8314\n",
      "Epoch 136: ReduceLROnPlateau reducing learning rate to 1.0000000474974514e-05.\n",
      "712/712 [==============================] - 2s 2ms/step - loss: 0.3651 - accuracy: 0.8315 - val_loss: 0.4101 - val_accuracy: 0.8335 - lr: 1.0000e-04\n"
     ]
    },
    {
     "data": {
      "text/plain": "<Figure size 432x288 with 1 Axes>",
      "image/png": "[encoded data removed]"
     },
     "metadata": {
      "needs_background": "light"
     },
     "output_type": "display_data"
    }
   ],
   "source": [
    "CNNv2=tf.keras.Sequential()\n",
    "CNNv2.add(Input(shape=(40)))\n",
    "CNNv2.add(Dense(80, activation='selu', name='dense_1',kernel_initializer='lecun_normal'))\n",
    "CNNv2.add(AlphaDropout(0.3))\n",
    "CNNv2.add(Dense(80, activation='selu', name='dense_2',kernel_initializer='lecun_normal'))\n",
    "CNNv2.add(AlphaDropout(0.2))\n",
    "CNNv2.add(Dense(80, activation='selu', name='dense_3',kernel_initializer='lecun_normal'))\n",
    "# CNNv3.add(AlphaDropout(0.2))\n",
    "CNNv2.add(Dense(40, activation='selu', name='dense_4',kernel_initializer='lecun_normal'))\n",
    "CNNv2.add(Dense(20, activation='selu', name='dense_5',kernel_initializer='lecun_normal'))\n",
    "CNNv2.add(Dense(20, activation='selu', name='dense_6',kernel_initializer='lecun_normal'))\n",
    "CNNv2.add(Dense(20, activation='selu', name='dense_7',kernel_initializer='lecun_normal'))\n",
    "CNNv2.add(Dense(10, activation='selu', name='dense_8',kernel_initializer='lecun_normal'))\n",
    "CNNv2.add(Dense(10, activation='selu', name='dense_9',kernel_initializer='lecun_normal'))\n",
    "CNNv2.add(Dense(5, activation='selu', name='dense_10',kernel_initializer='lecun_normal'))\n",
    "CNNv2.add(Dense(1, activation='sigmoid', name='dense_11'))\n",
    "#dist = Dense(1, activation='sigmoid', name='dense_2')(hidden)\n",
    "CNNv2.summary()\n",
    "CNNv2.compile(optimizer='nadam',\n",
    "    loss=tf.keras.losses.BinaryCrossentropy(from_logits=False),\n",
    "    metrics=['accuracy'],)\n",
    "# Train classifier\n",
    "reduceLR = tf.keras.callbacks.ReduceLROnPlateau(monitor='val_loss', factor=0.1,\n",
    "                                 verbose=1, patience=20, mode='auto')\n",
    "early = tf.keras.callbacks.EarlyStopping(monitor='val_loss', min_delta=1e-4,\n",
    "                          patience=40, mode='auto', restore_best_weights=True)\n",
    "history = CNNv2.fit(train_feats, train_targs,\n",
    "                      epochs=500,\n",
    "                      batch_size=32,\n",
    "                      shuffle=True,\n",
    "                      validation_split=0.2,\n",
    "                      callbacks=[reduceLR, early])\n",
    "plt.plot(history.history['loss'])\n",
    "plt.plot(history.history['val_loss'])\n",
    "plt.title('Learning Curves')\n",
    "plt.legend(['Training Loss', 'Validation Loss'])\n",
    "plt.ylabel('Binary Crossentropy')\n",
    "plt.xlabel('Epoch Number')\n",
    "plt.show()"
   ],
   "metadata": {
    "collapsed": false,
    "pycharm": {
     "name": "#%%\n"
    }
   }
  },
  {
   "cell_type": "code",
   "execution_count": 75,
   "outputs": [
    {
     "ename": "NameError",
     "evalue": "name 'CNNv2' is not defined",
     "output_type": "error",
     "traceback": [
      "\u001B[1;31m---------------------------------------------------------------------------\u001B[0m",
      "\u001B[1;31mNameError\u001B[0m                                 Traceback (most recent call last)",
      "Input \u001B[1;32mIn [75]\u001B[0m, in \u001B[0;36m<cell line: 1>\u001B[1;34m()\u001B[0m\n\u001B[1;32m----> 1\u001B[0m CNNpredsv2\u001B[38;5;241m=\u001B[39m\u001B[43mCNNv2\u001B[49m\u001B[38;5;241m.\u001B[39mpredict(test_feats)\n\u001B[0;32m      2\u001B[0m CNNpredsv2\u001B[38;5;241m=\u001B[39mCNNpredsv2\u001B[38;5;241m>\u001B[39m\u001B[38;5;241m0.5\u001B[39m\n\u001B[0;32m      3\u001B[0m \u001B[38;5;28mprint\u001B[39m(precision_score(test_targs,CNNpredsv2))\n",
      "\u001B[1;31mNameError\u001B[0m: name 'CNNv2' is not defined"
     ]
    }
   ],
   "source": [
    "CNNpredsv2=CNNv2.predict(test_feats)\n",
    "CNNpredsv2=CNNpredsv2>0.5\n",
    "print(precision_score(test_targs,CNNpredsv2))\n",
    "print(recall_score(test_targs,CNNpredsv2))\n",
    "print(accuracy_score(test_targs,CNNpredsv2))\n",
    "print(f1_score(test_targs,CNNpredsv2))"
   ],
   "metadata": {
    "collapsed": false,
    "pycharm": {
     "name": "#%%\n"
    }
   }
  },
  {
   "cell_type": "markdown",
   "source": [
    "# CNN Wide"
   ],
   "metadata": {
    "collapsed": false,
    "pycharm": {
     "name": "#%% md\n"
    }
   }
  },
  {
   "cell_type": "code",
   "execution_count": 19,
   "outputs": [
    {
     "name": "stdout",
     "output_type": "stream",
     "text": [
      "Model: \"sequential_2\"\n",
      "_________________________________________________________________\n",
      " Layer (type)                Output Shape              Param #   \n",
      "=================================================================\n",
      " dense_1 (Dense)             (None, 1024)              41984     \n",
      "                                                                 \n",
      " alpha_dropout_4 (AlphaDropo  (None, 1024)             0         \n",
      " ut)                                                             \n",
      "                                                                 \n",
      " dense_2 (Dense)             (None, 512)               524800    \n",
      "                                                                 \n",
      " alpha_dropout_5 (AlphaDropo  (None, 512)              0         \n",
      " ut)                                                             \n",
      "                                                                 \n",
      " dense_3 (Dense)             (None, 256)               131328    \n",
      "                                                                 \n",
      " alpha_dropout_6 (AlphaDropo  (None, 256)              0         \n",
      " ut)                                                             \n",
      "                                                                 \n",
      " dense_6 (Dense)             (None, 1)                 257       \n",
      "                                                                 \n",
      "=================================================================\n",
      "Total params: 698,369\n",
      "Trainable params: 698,369\n",
      "Non-trainable params: 0\n",
      "_________________________________________________________________\n",
      "Epoch 1/500\n",
      "712/712 [==============================] - 10s 12ms/step - loss: 0.6966 - accuracy: 0.6254 - val_loss: 1.0109 - val_accuracy: 0.6894 - lr: 0.0010\n",
      "Epoch 2/500\n",
      "712/712 [==============================] - 9s 12ms/step - loss: 0.6075 - accuracy: 0.6763 - val_loss: 1.0558 - val_accuracy: 0.6887 - lr: 0.0010\n",
      "Epoch 3/500\n",
      "712/712 [==============================] - 14s 19ms/step - loss: 0.5912 - accuracy: 0.6876 - val_loss: 1.1862 - val_accuracy: 0.7151 - lr: 0.0010\n",
      "Epoch 4/500\n",
      "712/712 [==============================] - 11s 16ms/step - loss: 0.5763 - accuracy: 0.6981 - val_loss: 0.7963 - val_accuracy: 0.7158 - lr: 0.0010\n",
      "Epoch 5/500\n",
      "712/712 [==============================] - 11s 16ms/step - loss: 0.5613 - accuracy: 0.7106 - val_loss: 0.7377 - val_accuracy: 0.7281 - lr: 0.0010\n",
      "Epoch 6/500\n",
      "712/712 [==============================] - 10s 13ms/step - loss: 0.5486 - accuracy: 0.7220 - val_loss: 0.8208 - val_accuracy: 0.7376 - lr: 0.0010\n",
      "Epoch 7/500\n",
      "712/712 [==============================] - 9s 13ms/step - loss: 0.5333 - accuracy: 0.7300 - val_loss: 0.7716 - val_accuracy: 0.7518 - lr: 0.0010\n",
      "Epoch 8/500\n",
      "712/712 [==============================] - 10s 14ms/step - loss: 0.5232 - accuracy: 0.7362 - val_loss: 0.7874 - val_accuracy: 0.7509 - lr: 0.0010\n",
      "Epoch 9/500\n",
      "712/712 [==============================] - 10s 13ms/step - loss: 0.5161 - accuracy: 0.7405 - val_loss: 0.8226 - val_accuracy: 0.7506 - lr: 0.0010\n",
      "Epoch 10/500\n",
      "712/712 [==============================] - 10s 14ms/step - loss: 0.5015 - accuracy: 0.7548 - val_loss: 0.6554 - val_accuracy: 0.7673 - lr: 0.0010\n",
      "Epoch 11/500\n",
      "712/712 [==============================] - 10s 13ms/step - loss: 0.4954 - accuracy: 0.7569 - val_loss: 0.6026 - val_accuracy: 0.7701 - lr: 0.0010\n",
      "Epoch 12/500\n",
      "712/712 [==============================] - 10s 14ms/step - loss: 0.4861 - accuracy: 0.7627 - val_loss: 0.6606 - val_accuracy: 0.7747 - lr: 0.0010\n",
      "Epoch 13/500\n",
      "712/712 [==============================] - 9s 13ms/step - loss: 0.4792 - accuracy: 0.7662 - val_loss: 0.6797 - val_accuracy: 0.7813 - lr: 0.0010\n",
      "Epoch 14/500\n",
      "712/712 [==============================] - 10s 14ms/step - loss: 0.4658 - accuracy: 0.7709 - val_loss: 0.6643 - val_accuracy: 0.7736 - lr: 0.0010\n",
      "Epoch 15/500\n",
      "712/712 [==============================] - 10s 14ms/step - loss: 0.4606 - accuracy: 0.7760 - val_loss: 0.5851 - val_accuracy: 0.7928 - lr: 0.0010\n",
      "Epoch 16/500\n",
      "712/712 [==============================] - 10s 15ms/step - loss: 0.4552 - accuracy: 0.7788 - val_loss: 0.6117 - val_accuracy: 0.7761 - lr: 0.0010\n",
      "Epoch 17/500\n",
      "712/712 [==============================] - 10s 14ms/step - loss: 0.4461 - accuracy: 0.7853 - val_loss: 0.6845 - val_accuracy: 0.7963 - lr: 0.0010\n",
      "Epoch 18/500\n",
      "712/712 [==============================] - 10s 15ms/step - loss: 0.4439 - accuracy: 0.7862 - val_loss: 0.7176 - val_accuracy: 0.7887 - lr: 0.0010\n",
      "Epoch 19/500\n",
      "712/712 [==============================] - 10s 14ms/step - loss: 0.4374 - accuracy: 0.7885 - val_loss: 0.5800 - val_accuracy: 0.8000 - lr: 0.0010\n",
      "Epoch 20/500\n",
      "712/712 [==============================] - 10s 14ms/step - loss: 0.4291 - accuracy: 0.7924 - val_loss: 0.5638 - val_accuracy: 0.8044 - lr: 0.0010\n",
      "Epoch 21/500\n",
      "712/712 [==============================] - 9s 13ms/step - loss: 0.4296 - accuracy: 0.7946 - val_loss: 0.5826 - val_accuracy: 0.8098 - lr: 0.0010\n",
      "Epoch 22/500\n",
      "712/712 [==============================] - 9s 13ms/step - loss: 0.4170 - accuracy: 0.8000 - val_loss: 0.6263 - val_accuracy: 0.7936 - lr: 0.0010\n",
      "Epoch 23/500\n",
      "712/712 [==============================] - 9s 13ms/step - loss: 0.4086 - accuracy: 0.8039 - val_loss: 0.6120 - val_accuracy: 0.8110 - lr: 0.0010\n",
      "Epoch 24/500\n",
      "712/712 [==============================] - 9s 13ms/step - loss: 0.4054 - accuracy: 0.8057 - val_loss: 0.5681 - val_accuracy: 0.8112 - lr: 0.0010\n",
      "Epoch 25/500\n",
      "712/712 [==============================] - 9s 13ms/step - loss: 0.4000 - accuracy: 0.8105 - val_loss: 0.6133 - val_accuracy: 0.8154 - lr: 0.0010\n",
      "Epoch 26/500\n",
      "712/712 [==============================] - 9s 13ms/step - loss: 0.4012 - accuracy: 0.8101 - val_loss: 0.5619 - val_accuracy: 0.8209 - lr: 0.0010\n",
      "Epoch 27/500\n",
      "712/712 [==============================] - 9s 13ms/step - loss: 0.3920 - accuracy: 0.8160 - val_loss: 0.5687 - val_accuracy: 0.8216 - lr: 0.0010\n",
      "Epoch 28/500\n",
      "712/712 [==============================] - 9s 13ms/step - loss: 0.3928 - accuracy: 0.8131 - val_loss: 0.5421 - val_accuracy: 0.8214 - lr: 0.0010\n",
      "Epoch 29/500\n",
      "712/712 [==============================] - 9s 13ms/step - loss: 0.3806 - accuracy: 0.8221 - val_loss: 0.6366 - val_accuracy: 0.8255 - lr: 0.0010\n",
      "Epoch 30/500\n",
      "712/712 [==============================] - 10s 14ms/step - loss: 0.3800 - accuracy: 0.8223 - val_loss: 0.5990 - val_accuracy: 0.8235 - lr: 0.0010\n",
      "Epoch 31/500\n",
      "712/712 [==============================] - 9s 13ms/step - loss: 0.3801 - accuracy: 0.8198 - val_loss: 0.6376 - val_accuracy: 0.8193 - lr: 0.0010\n",
      "Epoch 32/500\n",
      "712/712 [==============================] - 9s 13ms/step - loss: 0.3743 - accuracy: 0.8246 - val_loss: 0.6429 - val_accuracy: 0.8179 - lr: 0.0010\n",
      "Epoch 33/500\n",
      "712/712 [==============================] - 9s 13ms/step - loss: 0.3714 - accuracy: 0.8248 - val_loss: 0.5328 - val_accuracy: 0.8311 - lr: 0.0010\n",
      "Epoch 34/500\n",
      "712/712 [==============================] - 9s 13ms/step - loss: 0.3674 - accuracy: 0.8296 - val_loss: 0.6261 - val_accuracy: 0.8230 - lr: 0.0010\n",
      "Epoch 35/500\n",
      "712/712 [==============================] - 9s 13ms/step - loss: 0.3646 - accuracy: 0.8308 - val_loss: 0.5677 - val_accuracy: 0.8239 - lr: 0.0010\n",
      "Epoch 36/500\n",
      "712/712 [==============================] - 10s 13ms/step - loss: 0.3648 - accuracy: 0.8310 - val_loss: 0.5792 - val_accuracy: 0.8290 - lr: 0.0010\n",
      "Epoch 37/500\n",
      "712/712 [==============================] - 9s 13ms/step - loss: 0.3543 - accuracy: 0.8356 - val_loss: 0.6409 - val_accuracy: 0.8270 - lr: 0.0010\n",
      "Epoch 38/500\n",
      "712/712 [==============================] - 9s 13ms/step - loss: 0.3567 - accuracy: 0.8329 - val_loss: 0.5385 - val_accuracy: 0.8272 - lr: 0.0010\n",
      "Epoch 39/500\n",
      "712/712 [==============================] - 9s 13ms/step - loss: 0.3495 - accuracy: 0.8376 - val_loss: 0.5874 - val_accuracy: 0.8378 - lr: 0.0010\n",
      "Epoch 40/500\n",
      "712/712 [==============================] - 9s 13ms/step - loss: 0.3470 - accuracy: 0.8388 - val_loss: 0.6012 - val_accuracy: 0.8288 - lr: 0.0010\n",
      "Epoch 41/500\n",
      "712/712 [==============================] - 9s 13ms/step - loss: 0.3418 - accuracy: 0.8427 - val_loss: 0.5876 - val_accuracy: 0.8328 - lr: 0.0010\n",
      "Epoch 42/500\n",
      "712/712 [==============================] - 9s 13ms/step - loss: 0.3363 - accuracy: 0.8427 - val_loss: 0.5990 - val_accuracy: 0.8427 - lr: 0.0010\n",
      "Epoch 43/500\n",
      "712/712 [==============================] - 9s 13ms/step - loss: 0.3424 - accuracy: 0.8415 - val_loss: 0.6275 - val_accuracy: 0.8369 - lr: 0.0010\n",
      "Epoch 44/500\n",
      "712/712 [==============================] - 9s 13ms/step - loss: 0.3404 - accuracy: 0.8424 - val_loss: 0.5771 - val_accuracy: 0.8341 - lr: 0.0010\n",
      "Epoch 45/500\n",
      "712/712 [==============================] - 9s 13ms/step - loss: 0.3290 - accuracy: 0.8486 - val_loss: 0.5923 - val_accuracy: 0.8406 - lr: 0.0010\n",
      "Epoch 46/500\n",
      "712/712 [==============================] - 9s 13ms/step - loss: 0.3333 - accuracy: 0.8465 - val_loss: 0.5815 - val_accuracy: 0.8416 - lr: 0.0010\n",
      "Epoch 47/500\n",
      "712/712 [==============================] - 9s 13ms/step - loss: 0.3272 - accuracy: 0.8518 - val_loss: 0.5785 - val_accuracy: 0.8422 - lr: 0.0010\n",
      "Epoch 48/500\n",
      "712/712 [==============================] - 10s 13ms/step - loss: 0.3265 - accuracy: 0.8495 - val_loss: 0.6610 - val_accuracy: 0.8388 - lr: 0.0010\n",
      "Epoch 49/500\n",
      "712/712 [==============================] - 9s 13ms/step - loss: 0.3248 - accuracy: 0.8483 - val_loss: 0.6014 - val_accuracy: 0.8448 - lr: 0.0010\n",
      "Epoch 50/500\n",
      "712/712 [==============================] - 9s 13ms/step - loss: 0.3201 - accuracy: 0.8492 - val_loss: 0.6126 - val_accuracy: 0.8423 - lr: 0.0010\n",
      "Epoch 51/500\n",
      "712/712 [==============================] - 9s 13ms/step - loss: 0.3225 - accuracy: 0.8532 - val_loss: 0.5978 - val_accuracy: 0.8416 - lr: 0.0010\n",
      "Epoch 52/500\n",
      "712/712 [==============================] - 9s 13ms/step - loss: 0.3206 - accuracy: 0.8527 - val_loss: 0.6426 - val_accuracy: 0.8425 - lr: 0.0010\n",
      "Epoch 53/500\n",
      "711/712 [============================>.] - ETA: 0s - loss: 0.3150 - accuracy: 0.8529\n",
      "Epoch 53: ReduceLROnPlateau reducing learning rate to 0.00010000000474974513.\n",
      "712/712 [==============================] - 9s 13ms/step - loss: 0.3149 - accuracy: 0.8529 - val_loss: 0.6405 - val_accuracy: 0.8430 - lr: 0.0010\n",
      "Epoch 54/500\n",
      "712/712 [==============================] - 9s 13ms/step - loss: 0.2966 - accuracy: 0.8638 - val_loss: 0.6134 - val_accuracy: 0.8465 - lr: 1.0000e-04\n",
      "Epoch 55/500\n",
      "712/712 [==============================] - 9s 13ms/step - loss: 0.2917 - accuracy: 0.8613 - val_loss: 0.6116 - val_accuracy: 0.8492 - lr: 1.0000e-04\n",
      "Epoch 56/500\n",
      "712/712 [==============================] - 9s 13ms/step - loss: 0.2878 - accuracy: 0.8690 - val_loss: 0.6053 - val_accuracy: 0.8511 - lr: 1.0000e-04\n",
      "Epoch 57/500\n",
      "712/712 [==============================] - 9s 13ms/step - loss: 0.2835 - accuracy: 0.8676 - val_loss: 0.6021 - val_accuracy: 0.8520 - lr: 1.0000e-04\n",
      "Epoch 58/500\n",
      "712/712 [==============================] - 9s 13ms/step - loss: 0.2855 - accuracy: 0.8680 - val_loss: 0.6017 - val_accuracy: 0.8534 - lr: 1.0000e-04\n",
      "Epoch 59/500\n",
      "712/712 [==============================] - 9s 13ms/step - loss: 0.2894 - accuracy: 0.8680 - val_loss: 0.5981 - val_accuracy: 0.8525 - lr: 1.0000e-04\n",
      "Epoch 60/500\n",
      "712/712 [==============================] - 9s 13ms/step - loss: 0.2773 - accuracy: 0.8727 - val_loss: 0.6058 - val_accuracy: 0.8543 - lr: 1.0000e-04\n",
      "Epoch 61/500\n",
      "712/712 [==============================] - 9s 13ms/step - loss: 0.2826 - accuracy: 0.8673 - val_loss: 0.6147 - val_accuracy: 0.8518 - lr: 1.0000e-04\n",
      "Epoch 62/500\n",
      "712/712 [==============================] - 10s 14ms/step - loss: 0.2777 - accuracy: 0.8752 - val_loss: 0.6130 - val_accuracy: 0.8541 - lr: 1.0000e-04\n",
      "Epoch 63/500\n",
      "712/712 [==============================] - 9s 13ms/step - loss: 0.2824 - accuracy: 0.8712 - val_loss: 0.6104 - val_accuracy: 0.8536 - lr: 1.0000e-04\n",
      "Epoch 64/500\n",
      "712/712 [==============================] - 9s 13ms/step - loss: 0.2761 - accuracy: 0.8739 - val_loss: 0.6312 - val_accuracy: 0.8545 - lr: 1.0000e-04\n",
      "Epoch 65/500\n",
      "712/712 [==============================] - 9s 13ms/step - loss: 0.2778 - accuracy: 0.8745 - val_loss: 0.6183 - val_accuracy: 0.8566 - lr: 1.0000e-04\n",
      "Epoch 66/500\n",
      "712/712 [==============================] - 9s 13ms/step - loss: 0.2741 - accuracy: 0.8767 - val_loss: 0.6178 - val_accuracy: 0.8543 - lr: 1.0000e-04\n",
      "Epoch 67/500\n",
      "712/712 [==============================] - 9s 13ms/step - loss: 0.2753 - accuracy: 0.8718 - val_loss: 0.6135 - val_accuracy: 0.8569 - lr: 1.0000e-04\n",
      "Epoch 68/500\n",
      "712/712 [==============================] - 10s 13ms/step - loss: 0.2721 - accuracy: 0.8748 - val_loss: 0.6250 - val_accuracy: 0.8553 - lr: 1.0000e-04\n",
      "Epoch 69/500\n",
      "712/712 [==============================] - 9s 13ms/step - loss: 0.2755 - accuracy: 0.8748 - val_loss: 0.6239 - val_accuracy: 0.8529 - lr: 1.0000e-04\n",
      "Epoch 70/500\n",
      "712/712 [==============================] - 10s 13ms/step - loss: 0.2707 - accuracy: 0.8741 - val_loss: 0.6223 - val_accuracy: 0.8553 - lr: 1.0000e-04\n",
      "Epoch 71/500\n",
      "712/712 [==============================] - 9s 13ms/step - loss: 0.2777 - accuracy: 0.8711 - val_loss: 0.6142 - val_accuracy: 0.8538 - lr: 1.0000e-04\n",
      "Epoch 72/500\n",
      "712/712 [==============================] - 9s 13ms/step - loss: 0.2724 - accuracy: 0.8749 - val_loss: 0.6220 - val_accuracy: 0.8573 - lr: 1.0000e-04\n",
      "Epoch 73/500\n",
      "711/712 [============================>.] - ETA: 0s - loss: 0.2702 - accuracy: 0.8752\n",
      "Epoch 73: ReduceLROnPlateau reducing learning rate to 1.0000000474974514e-05.\n",
      "712/712 [==============================] - 9s 13ms/step - loss: 0.2702 - accuracy: 0.8752 - val_loss: 0.6196 - val_accuracy: 0.8557 - lr: 1.0000e-04\n"
     ]
    },
    {
     "data": {
      "text/plain": "<Figure size 432x288 with 1 Axes>",
      "image/png": "[encoded data removed]"
     },
     "metadata": {
      "needs_background": "light"
     },
     "output_type": "display_data"
    }
   ],
   "source": [
    "CNNv1=tf.keras.Sequential()\n",
    "CNNv1.add(Input(shape=(40)))\n",
    "CNNv1.add(Dense(1024, activation='selu', name='dense_1',kernel_initializer='lecun_normal'))\n",
    "CNNv1.add(AlphaDropout(0.5))\n",
    "CNNv1.add(Dense(512, activation='selu', name='dense_2',kernel_initializer='lecun_normal'))\n",
    "CNNv1.add(AlphaDropout(0.4))\n",
    "CNNv1.add(Dense(256, activation='selu', name='dense_3',kernel_initializer='lecun_normal'))\n",
    "CNNv1.add(AlphaDropout(0.3))\n",
    "CNNv1.add(Dense(1, activation='sigmoid', name='dense_6'))\n",
    "#dist = Dense(1, activation='sigmoid', name='dense_2')(hidden)\n",
    "CNNv1.summary()\n",
    "CNNv1.compile(optimizer='nadam',\n",
    "    loss=tf.keras.losses.BinaryCrossentropy(from_logits=False),\n",
    "    metrics=['accuracy'],)\n",
    "# Train classifier\n",
    "reduceLR = tf.keras.callbacks.ReduceLROnPlateau(monitor='val_loss', factor=0.1,\n",
    "                                 verbose=1, patience=20, mode='auto')\n",
    "early = tf.keras.callbacks.EarlyStopping(monitor='val_loss', min_delta=1e-4,\n",
    "                          patience=40, mode='auto', restore_best_weights=True)\n",
    "history = CNNv1.fit(train_feats, train_targs,\n",
    "                      epochs=500,\n",
    "                      batch_size=32,\n",
    "                      shuffle=True,\n",
    "                      validation_split=0.2,\n",
    "                      callbacks=[reduceLR, early])\n",
    "plt.plot(history.history['loss'])\n",
    "plt.plot(history.history['val_loss'])\n",
    "plt.title('Learning Curves')\n",
    "plt.legend(['Training Loss', 'Validation Loss'])\n",
    "plt.ylabel('Binary Crossentropy')\n",
    "plt.xlabel('Epoch Number')\n",
    "plt.show()"
   ],
   "metadata": {
    "collapsed": false,
    "pycharm": {
     "name": "#%%\n"
    }
   }
  },
  {
   "cell_type": "code",
   "execution_count": 20,
   "outputs": [
    {
     "name": "stdout",
     "output_type": "stream",
     "text": [
      "223/223 [==============================] - 1s 3ms/step\n",
      "0.8772905759162304\n",
      "0.7631653857102192\n",
      "0.8302868391451068\n",
      "0.8162581823717461\n"
     ]
    }
   ],
   "source": [
    "CNNv1preds=CNNv1.predict(test_feats)\n",
    "CNNv1preds=CNNv1preds>0.5\n",
    "print(precision_score(test_targs,CNNv1preds))\n",
    "print(recall_score(test_targs,CNNv1preds))\n",
    "print(accuracy_score(test_targs,CNNv1preds))\n",
    "print(f1_score(test_targs,CNNv1preds))"
   ],
   "metadata": {
    "collapsed": false,
    "pycharm": {
     "name": "#%%\n"
    }
   }
  },
  {
   "cell_type": "code",
   "execution_count": null,
   "outputs": [],
   "source": [
    "features = []\n",
    "labels = []\n",
    "dataset_path: str = \"C:\\\\Users\\\\rclendening\\\\researchData\\\\YT_vids\"\n",
    "data_dir = pathlib.Path(dataset_path)\n",
    "droneDict = {  # One hot encoding for labels probs should do it like I did below?\n",
    "    \"Drone\": [1, 0],\n",
    "    \"Noise\": [0, 1]\n",
    "}\n",
    "droneCountDict = {  # One hot encoding for labels\n",
    "    \"Noise\": 0,\n",
    "    \"Drone\": 1\n",
    "}\n",
    "\n",
    "dataCount = [0, 0]\n",
    "train_files=[]\n",
    "for path, subdirs, files in os.walk(dataset_path):\n",
    "    for name in files:\n",
    "        train_files.append(os.path.join(path, name))\n",
    "\n",
    "\n",
    "def split_audio(waveData, labelName, sampleFreq):\n",
    "    '''\n",
    "    Frames audio data and converts to feature space (MFCC)\n",
    "    :param waveData: waveData array of time-domain audio\n",
    "    :param frame_duration: Duration of frames desired\n",
    "    :param startTime: Start for each clip\n",
    "    :param sampleFreq: Sample Frequency (8Khz)\n",
    "    :param labelName: Name of label\n",
    "    @return list of features (ds), list of labels corresponding to feature dataset:\n",
    "    '''\n",
    "    # middle third of data\n",
    "    duration = waveData.shape[0]\n",
    "    startTime = np.round(0)\n",
    "    endTime = np.round(duration)\n",
    "    waveDataSplit= waveData[int(startTime):int(endTime)]\n",
    "    features=MFCCCalc(waveDataSplit.squeeze(), sampleFreq)\n",
    "    dataCount[droneCountDict[labelName]] += features.shape[1]\n",
    "    #label= [droneDict[labelName]] * features.shape[1]\n",
    "    label= [droneCountDict[labelName]]*features.shape[1]\n",
    "    return features, label\n",
    "\n",
    "def create_dataset(train_files):\n",
    "    '''\n",
    "    Creates feature dataset and label dataset.\n",
    "    @param train_files: EagerTensor of file paths.\n",
    "    @return list of features (ds), list of labels corresponding to feature dataset:\n",
    "    '''\n",
    "    i = 0\n",
    "    features = []\n",
    "    labels = []\n",
    "    for x in train_files:\n",
    "        #test_file = tf.io.read_file(x)\n",
    "        #test_audio, sampleRate = tf.audio.decode_wav(contents=test_file)\n",
    "        if str.split(x,\"\\\\\")[6][0] == 'y': #if youtube video mark yt as true\n",
    "            yt=1\n",
    "        else:\n",
    "            yt=0\n",
    "        test_audio, sampleRate = librosa.load(x, sr=8000)\n",
    "        if min(np.asarray(test_audio)) != 0 and len(test_audio)!=0:\n",
    "            x = str(x)\n",
    "            label = x.split('\\\\')\n",
    "            label = label[5]\n",
    "            newData = test_audio[0: test_audio.shape[0] - test_audio.shape[0] % sampleRate]  # trim to nearest second\n",
    "            newFeats, newLabs = split_audio(newData, label, int(sampleRate))\n",
    "            features.extend(newFeats.transpose())\n",
    "            newLabs=list(zip(newLabs, np.ones(len(newLabs))*yt))\n",
    "            labels.extend(newLabs)\n",
    "\n",
    "    return features, labels\n",
    "\n",
    "def MFCCCalc(audioData, Fs):\n",
    "    '''\n",
    "    Converts decoded wav file to MFCC feature space\n",
    "    @param audioData: Numpy array of decoded audio wav file\n",
    "    @return MFCC coefficients\n",
    "    '''\n",
    "    #audioData=audioData.numpy()\n",
    "    data= audioData.astype(float)\n",
    "    #coefs = mfcc(data, sr=sampleRate, hop_length=2048)\n",
    "    coefs = mfcc(y=data, hop_length=1024,n_mfcc=40, sr=Fs)\n",
    "    return coefs\n",
    "\n",
    "def grabTrainingSamples(n, trainingData):\n",
    "    '''\n",
    "    Ensures even training set by grabbing an even amount of training samples from each class.\n",
    "    @param n: limiting class count\n",
    "    @param trainingData: trainingData list that includes both features and labels\n",
    "    @return MFCC coefficients\n",
    "    '''\n",
    "    droneCount=0\n",
    "    noiseCount=0\n",
    "    evenTrainingData = []\n",
    "    evenLabelData = []\n",
    "    for i in range(len(labels)):\n",
    "        lab = trainingData[i][1][0]\n",
    "        if lab == 1 and droneCount < n:\n",
    "            droneCount += 1\n",
    "            evenTrainingData.append(trainingData[i][0])\n",
    "            evenLabelData.append(trainingData[i][1])\n",
    "        elif lab == 0 and noiseCount < n:\n",
    "            noiseCount += 1\n",
    "            evenTrainingData.append(trainingData[i][0])\n",
    "            evenLabelData.append(trainingData[i][1])\n",
    "    return evenTrainingData, evenLabelData\n",
    "\n",
    "Fs = 8000\n",
    "numFeat = 40 #COULD BE SOURCE OF ERROR\n",
    "features, labels = create_dataset(train_files)\n",
    "newSet = list(zip(features, labels))\n",
    "random.seed(42)\n",
    "random.shuffle(newSet)  # Ensure data is mixed together\n",
    "n = np.min(dataCount)  # Ensure data is symmetric (aka even amounts of training data for all classes)\n",
    "# features, labels = grabTrainingSamples(n, features, labels)\n",
    "#features, labels = grabTrainingSamples(n, newSet)\n",
    "labels=to_categorical(np.array(labels)[:,0],num_classes=2)\n",
    "# trainFeatures, testFeatures, trainTargets, testTargets = train_test_split(features, labels, test_size=0.2, random_state=42) #changed to speed up training\n",
    "# trainTargets=np.array(trainTargets)\n",
    "# trainFeatures = np.array(trainFeatures)\n",
    "# testTargets=np.array(testTargets)\n",
    "# testFeatures = np.array(testFeatures)\n",
    "# mean = trainFeatures.mean(axis=0)\n",
    "# trainFeatures -= mean\n",
    "# std = trainFeatures.std(axis=0)\n",
    "# trainFeatures /= std\n",
    "# trainFeatures = np.reshape(trainFeatures,\n",
    "#                            (len(trainFeatures), numFeat, 1))\n",
    "# #testFeatures = np.asarray(testFeatures)\n",
    "# testFeatures -= mean\n",
    "# testFeatures /= std\n",
    "# testFeatures = np.reshape(testFeatures, (len(testFeatures), numFeat, 1))"
   ],
   "metadata": {
    "collapsed": false,
    "pycharm": {
     "name": "#%%\n"
    }
   }
  }
 ],
 "metadata": {
  "kernelspec": {
   "display_name": "Python 3",
   "language": "python",
   "name": "python3"
  },
  "language_info": {
   "codemirror_mode": {
    "name": "ipython",
    "version": 2
   },
   "file_extension": ".py",
   "mimetype": "text/x-python",
   "name": "python",
   "nbconvert_exporter": "python",
   "pygments_lexer": "ipython2",
   "version": "2.7.6"
  }
 },
 "nbformat": 4,
 "nbformat_minor": 0
}