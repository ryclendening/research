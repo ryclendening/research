{
 "cells": [
  {
   "cell_type": "code",
   "execution_count": 2,
   "metadata": {
    "collapsed": true,
    "pycharm": {
     "name": "#%%\n"
    }
   },
   "outputs": [],
   "source": [
    "import librosa\n",
    "import pandas as pd\n",
    "from librosa.effects import pitch_shift\n",
    "import os\n",
    "from sklearn.metrics import classification_report, recall_score,precision_score,accuracy_score,f1_score\n",
    "import pathlib\n",
    "import random\n",
    "from sklearn.preprocessing import StandardScaler\n",
    "import matplotlib.pyplot as plt\n",
    "import numpy as np\n",
    "import seaborn as sns\n",
    "from librosa.feature import mfcc, melspectrogram\n",
    "import scipy.io.wavfile as wav\n",
    "import tensorflow as tf\n",
    "import scipy.signal as signal\n",
    "import keras\n",
    "from sklearn.model_selection import train_test_split\n",
    "from keras.models import Model\n",
    "from research.dataImporting import MLtools\n",
    "from keras.optimizers import adam_v2\n",
    "from keras.layers import Input, Conv1D, Conv2D, SeparableConv1D, MaxPooling1D,MaxPooling2D, Flatten, Dense, Dropout, AlphaDropout, \\\n",
    "    BatchNormalization, Activation, LSTM, Lambda, Reshape, GRU\n",
    "from keras.callbacks import EarlyStopping, ModelCheckpoint, ReduceLROnPlateau\n",
    "from sklearn.model_selection import train_test_split\n",
    "from keras.utils.np_utils import to_categorical\n",
    "from research.dataImporting import dataTools\n",
    "import keras.backend as K\n",
    "from tcn import TCN\n",
    "from keras import regularizers"
   ]
  },
  {
   "cell_type": "markdown",
   "source": [
    "# Hot pile of shit that explored using different configurations for input (ex. signifying that \"drone\" is anything within 60m\"), as well as exploring using melspectrograms for DFP"
   ],
   "metadata": {
    "collapsed": false,
    "pycharm": {
     "name": "#%% md\n"
    }
   }
  },
  {
   "cell_type": "code",
   "execution_count": 37,
   "outputs": [],
   "source": [
    "training_df_raw=pd.read_csv(r\"C:\\Users\\rclendening\\PycharmProjects\\MLTesting\\research\\research\\localization\\LT80m_detection_training_w_matrice_phantom_augment_A1_A2_A3.csv\")"
   ],
   "metadata": {
    "collapsed": false,
    "pycharm": {
     "name": "#%%\n"
    }
   }
  },
  {
   "cell_type": "code",
   "execution_count": 64,
   "outputs": [
    {
     "name": "stdout",
     "output_type": "stream",
     "text": [
      "A2R3P1\n",
      "A2R3P2\n",
      "A2R3P3\n",
      "A2R4P1\n",
      "A2R4P2\n",
      "A2R4P3\n",
      "A2R5P1\n",
      "A2R5P2\n",
      "A2R5P3\n",
      "A2R5P4\n",
      "A2R5P5\n",
      "A2R6P1\n",
      "A2R6P2\n",
      "A2R6P3\n",
      "A2R6P4\n",
      "A2R6P5\n",
      "A3R3P1_7000\n",
      "A3R3P1_7200\n",
      "A3R3P1_7400\n",
      "A3R3P1_7600\n",
      "A3R3P1_7800\n",
      "A3R3P1_8000\n",
      "A3R3P1_8200\n",
      "A3R3P1_8400\n",
      "A3R3P1_8600\n",
      "A3R3P1_8800\n",
      "A3R3P1_9000\n",
      "A3R3P4_7000\n",
      "A3R3P4_7200\n",
      "A3R3P4_7400\n",
      "A3R3P4_7600\n",
      "A3R3P4_7800\n",
      "A3R3P4_8000\n",
      "A3R3P4_8200\n",
      "A3R3P4_8400\n",
      "A3R3P4_8600\n",
      "A3R3P4_8800\n",
      "A3R3P4_9000\n",
      "A3R3P5_7000\n",
      "A3R3P5_7200\n",
      "A3R3P5_7400\n",
      "A3R3P5_7600\n",
      "A3R3P5_7800\n",
      "A3R3P5_8000\n",
      "A3R3P5_8200\n",
      "A3R3P5_8400\n",
      "A3R3P5_8600\n",
      "A3R3P5_8800\n",
      "A3R3P5_9000\n",
      "A3R4P4_7000\n",
      "A3R4P4_7200\n",
      "A3R4P4_7400\n",
      "A3R4P4_7600\n",
      "A3R4P4_7800\n",
      "A3R4P4_8000\n",
      "A3R4P4_8200\n",
      "A3R4P4_8400\n",
      "A3R4P4_8600\n",
      "A3R4P4_8800\n",
      "A3R4P4_9000\n",
      "A3R4P5_7000\n",
      "A3R4P5_7200\n",
      "A3R4P5_7400\n",
      "A3R4P5_7600\n",
      "A3R4P5_7800\n",
      "A3R4P5_8000\n",
      "A3R4P5_8200\n",
      "A3R4P5_8400\n",
      "A3R4P5_8600\n",
      "A3R4P5_8800\n",
      "A3R4P5_9000\n",
      "A3R6P1_7000\n",
      "A3R6P1_7200\n",
      "A3R6P1_7400\n",
      "A3R6P1_7600\n",
      "A3R6P1_7800\n",
      "A3R6P1_8000\n",
      "A3R6P1_8200\n",
      "A3R6P1_8400\n",
      "A3R6P1_8600\n",
      "A3R6P1_8800\n",
      "A3R6P1_9000\n"
     ]
    }
   ],
   "source": [
    "phone_slots=[\"Phone_1-1\",\"Phone_1-3\",\"Phone_11\",\"Phone_12\",\"Phone_15\",\"Phone_2-3\",\"Phone_2-4\", \"Phone_2-5\",\"Phone_27\",\"Phone_28\",\"Phone_29\" \"Phone_3-1\",\"Phone_3-2\",\"Phone_3-4\",\"Phone_3-5\",\"Phone_30\",\"Phone_5-2\",\"Phone_5-3\",\"Phone_5-4\",\"Phone_6-2\",\"Phone_6-3\",\"Phone_6-4\",\"Phone_6-5\",\"Phone_7-1\",\"Phone_7-2\",\"Phone_8\",\"Phone_9\"]\n",
    "bad_runs=[\"A3R6P1\",\"A3R4P4\",\"A3R4P5\",\"A3R3P4\",\"A3R3P5\"]\n",
    "good_runs_IF=[\"A1R1P1\",\"A1R1P2\",\"A1R1P3\",\"A1R1P4\",\"A1R1P5\",\"A2R1P1\",\"A2R1P2\",\"A2R1P3\",\"A2R1P4\",\"A2R1P5\",\"A2R2P1\",\"A2R2P2\",\"A2R2P3\",\"A2R2P4\",\"A2R2P5\"]\n",
    "good_runs_matrice=[\"A1R2P2\",\"A1R2P3\",\"A1R2P4\",\"A1R2P5\",\"A2R3P1\",\"A2R3P2\",\"A2R4P1\",\"A2R4P2\",\"A2R4P3\"]\n",
    "good_runs_phantom=[\"A2R5P1\",\"A2R5P2\",\"A2R5P3\",\"A2R5P4\",\"A2R5P5\",\"A2R6P1\",\"A2R6P2\",\"A2R6P3\",\"A2R6P4\",\"A2R6P5\"]\n",
    "good_runs_mavic=[\"A2R7P1\",\"A2R7P2\",\"A2R7P3\",\"A2R7P4\",\"A2R7P5\",\"A2R8P1\",\"A2R8P2\",\"A2R8P3\",\"A2R8P4\",\"A2R8P5\",\"A3R6P1\"]\n",
    "test_runs_matrice=[\"A2R3P3\",\"A3R3P3\"]\n",
    "notable_col_names=['Pass','Segment','Phone','Lat','Lon','Alt','Range']\n",
    "passes_df=pd.read_csv(r\"C:\\Users\\rclendening\\researchData\\researchCSVs_Scripts_etc\\A2_A3_training_w_Matrice_Phantom.csv\")\n",
    "x_data=[]\n",
    "y_data=[]\n",
    "total_ranges=[]\n",
    "aug_vals=[7000,7200,7400,7600,7800,8000,8200,8400,8600,8800,9000]\n",
    "\n",
    "def melspect(audioData, Fs):\n",
    "    '''\n",
    "    Converts decoded wav file to MFCC feature space\n",
    "    @param audioData: Numpy array of decoded audio wav file\n",
    "    @return MFCC coefficients\n",
    "    '''\n",
    "    data= audioData.astype(float)\n",
    "    # spect = melspectrogram(y=data,sr=Fs, hop_length=1024,n_mels=64, n_fft=2048)\n",
    "    spect = melspectrogram(y=data,sr=Fs)\n",
    "    return spect\n",
    "def MFCCCalc(audioData, Fs):\n",
    "    '''\n",
    "    Converts decoded wav file to MFCC feature space\n",
    "    @param audioData: Numpy array of decoded audio wav file\n",
    "    @return MFCC coefficients\n",
    "    '''\n",
    "    data= audioData.astype(float)\n",
    "    coefs = mfcc(y=data, hop_length=1024,n_mfcc=40, sr=Fs)\n",
    "    return coefs\n",
    "x_data=[]\n",
    "y_data=[]\n",
    "for x in passes_df.iterrows():\n",
    "    row=x[1]\n",
    "    pass_num=row[0]\n",
    "    scenario=row[1]\n",
    "    run_num=row[2]\n",
    "    start=row[3]\n",
    "    stop=row[4]\n",
    "    drone_gps_file=row[5]\n",
    "    full_name=(str(scenario) + 'R' + str(run_num) + 'P' + str(pass_num)).strip()\n",
    "    if scenario== \"A3\":\n",
    "        for x in aug_vals:\n",
    "            full_aug_name=full_name+\"_\"+str(x).strip()\n",
    "            print(full_aug_name)\n",
    "            pass_df=training_df_raw.loc[training_df_raw[str(notable_col_names.index('Pass'))] == full_aug_name]\n",
    "            max_segment=pass_df[str(notable_col_names.index('Segment'))].max()\n",
    "        # if full_name in good_runs_matrice or full_name in good_runs_IF or full_name in good_runs_phantom or full_name in good_runs_mavic:\n",
    "            for phone in phone_slots:\n",
    "                phone_seg=pass_df.loc[pass_df[str(notable_col_names.index('Phone'))]==phone]\n",
    "                twd_frame=[]\n",
    "                range_frame=[]\n",
    "                for i in range(0,max_segment):\n",
    "                    frame_df=phone_seg.loc[phone_seg[str(notable_col_names.index('Segment'))]==i]\n",
    "                    data=np.array(frame_df.iloc[:,8:48])\n",
    "                    if np.any(data):\n",
    "                        mel_data=data[0]\n",
    "                    dist=frame_df[str(notable_col_names.index('Range'))]\n",
    "                    distance_val=np.array(dist)\n",
    "                #dist=phone_seg[\"Range\"]\n",
    "                    if len(distance_val)>0:\n",
    "                        dist=distance_val[0]\n",
    "                        if dist<78:\n",
    "                            #data=data[0]\n",
    "                            total_ranges.append(dist)\n",
    "                            #data=np.reshape(data,(64,4))\n",
    "                            #data=np.reshape(data,(40,1))\n",
    "                            class_value=1\n",
    "                            twd_frame.append(np.squeeze(mel_data))\n",
    "                            range_frame.append(class_value)\n",
    "                        elif 82< dist <140 or 500< dist <525:\n",
    "                            #data=np.reshape(data,(64,4))\n",
    "                            #data=np.reshape(data,(40,1))\n",
    "                            class_value=0\n",
    "                            twd_frame.append(np.squeeze(mel_data))\n",
    "                            range_frame.append(class_value)\n",
    "                #y_vals= rangeClosest(range_frame)\n",
    "                x_data.extend(twd_frame)\n",
    "                y_data.extend(range_frame)\n",
    "    # if full_name in good_runs_matrice or full_name in good_runs_IF or full_name in good_runs_phantom or full_name in good_runs_mavic:\n",
    "    else:\n",
    "        print(full_name)\n",
    "        pass_df=training_df_raw.loc[training_df_raw[str(notable_col_names.index('Pass'))] == full_name]\n",
    "        max_segment=pass_df[str(notable_col_names.index('Segment'))].max()\n",
    "        for phone in phone_slots:\n",
    "            phone_seg=pass_df.loc[pass_df[str(notable_col_names.index('Phone'))]==phone]\n",
    "            twd_frame=[]\n",
    "            range_frame=[]\n",
    "            for i in range(0,max_segment):\n",
    "                frame_df=phone_seg.loc[phone_seg[str(notable_col_names.index('Segment'))]==i]\n",
    "                data=np.array(frame_df.iloc[:,8:48])\n",
    "                if np.any(data):\n",
    "                    mel_data=data\n",
    "                dist=frame_df[str(notable_col_names.index('Range'))]\n",
    "                distance_val=np.array(dist)\n",
    "            #dist=phone_seg[\"Range\"]\n",
    "                if len(distance_val)>0:\n",
    "                    if distance_val<78:\n",
    "                        data=data[0]\n",
    "                        total_ranges.append(distance_val.squeeze())\n",
    "                        #data=np.reshape(data,(64,4))\n",
    "                        #data=np.reshape(data,(40,1))\n",
    "                        dist=np.array(dist)[0]\n",
    "                        class_value=1\n",
    "                        twd_frame.append(np.squeeze(mel_data))\n",
    "                        range_frame.append(class_value)\n",
    "                    elif 82< distance_val <140 or 500< distance_val <525:\n",
    "                        data=data[0]\n",
    "                        #data=np.reshape(data,(64,4))\n",
    "                        #data=np.reshape(data,(40,1))\n",
    "                        dist=np.array(dist)[0]\n",
    "                        class_value=0\n",
    "                        twd_frame.append(np.squeeze(mel_data))\n",
    "                        range_frame.append(class_value)\n",
    "            #y_vals= rangeClosest(range_frame)\n",
    "            x_data.extend(twd_frame)\n",
    "            y_data.extend(range_frame)\n",
    "    # plt.hist(np.array(total_ranges).squeeze(),bins=50)\n",
    "    # plt.figure()"
   ],
   "metadata": {
    "collapsed": false,
    "pycharm": {
     "name": "#%%\n"
    }
   }
  },
  {
   "cell_type": "code",
   "execution_count": 62,
   "outputs": [
    {
     "data": {
      "text/plain": "Text(0, 0.5, 'Count')"
     },
     "execution_count": 62,
     "metadata": {},
     "output_type": "execute_result"
    },
    {
     "data": {
      "text/plain": "<Figure size 432x288 with 1 Axes>",
      "image/png": "[encoded data removed]"
     },
     "metadata": {
      "needs_background": "light"
     },
     "output_type": "display_data"
    }
   ],
   "source": [
    "plt.hist(np.array(total_ranges).squeeze(),bins=50)\n",
    "plt.xlabel(\"Range (in Meters)\")\n",
    "plt.ylabel(\"Count\")\n",
    "#plt.savefig(\"./Plots/cellphone_training_ranges_hist_LT80.pdf\",bbox_inches=\"tight\")"
   ],
   "metadata": {
    "collapsed": false,
    "pycharm": {
     "name": "#%%\n"
    }
   }
  },
  {
   "cell_type": "code",
   "execution_count": 5,
   "outputs": [],
   "source": [
    "a=x_data\n",
    "b=y_data"
   ],
   "metadata": {
    "collapsed": false,
    "pycharm": {
     "name": "#%%\n"
    }
   }
  },
  {
   "cell_type": "code",
   "execution_count": 65,
   "outputs": [
    {
     "data": {
      "text/plain": "Text(0.5, 0, 'Class Distribution (0=Noise, 1=sUAS)')"
     },
     "execution_count": 65,
     "metadata": {},
     "output_type": "execute_result"
    },
    {
     "data": {
      "text/plain": "<Figure size 432x288 with 1 Axes>",
      "image/png": "[encoded data removed]"
     },
     "metadata": {
      "needs_background": "light"
     },
     "output_type": "display_data"
    }
   ],
   "source": [
    "plt.hist(y_data)\n",
    "plt.ylabel(\"Count\")\n",
    "plt.xlabel(\"Class Distribution (0=Noise, 1=sUAS)\")\n",
    "#plt.savefig(\"./Plots/cellphone_training_distro_hist.pdf\",bbox_inches=\"tight\")"
   ],
   "metadata": {
    "collapsed": false,
    "pycharm": {
     "name": "#%%\n"
    }
   }
  },
  {
   "cell_type": "code",
   "execution_count": 48,
   "outputs": [],
   "source": [],
   "metadata": {
    "collapsed": false,
    "pycharm": {
     "name": "#%%\n"
    }
   }
  },
  {
   "cell_type": "code",
   "execution_count": 49,
   "outputs": [],
   "source": [
    "y_data_copy=y_data\n",
    "x_data_copy=x_data\n",
    "y_data_copy.extend(labels[:,0])\n",
    "x_data_copy.extend(features)\n",
    "def subsample(x_data,y_data):\n",
    "    new_x=[]\n",
    "    new_y=[]\n",
    "    rng=np.random.default_rng(12345)\n",
    "    for x in range(len(x_data)):\n",
    "        rand_vals=rng.integers(low=1,high=2,size=1)\n",
    "        if y_data[x]==0 and rand_vals==1:\n",
    "            new_x.append(x_data[x])\n",
    "            new_y.append(y_data[x])\n",
    "        elif y_data[x]==1:\n",
    "            new_x.append(x_data[x])\n",
    "            new_y.append(y_data[x])\n",
    "    return np.array(new_x), np.array(new_y)\n",
    "def subsamplesUAS(x_data,y_data):\n",
    "    new_x=[]\n",
    "    new_y=[]\n",
    "    rng=np.random.default_rng(12345)\n",
    "    for x in range(len(x_data)):\n",
    "        rand_vals=rng.integers(low=1,high=4,size=1)\n",
    "        if y_data[x]==0 and rand_vals!=1:\n",
    "            new_x.append(x_data[x])\n",
    "            new_y.append(y_data[x])\n",
    "        elif y_data[x]==1:\n",
    "            new_x.append(x_data[x])\n",
    "            new_y.append(y_data[x])\n",
    "    return np.array(new_x), np.array(new_y)"
   ],
   "metadata": {
    "collapsed": false,
    "pycharm": {
     "name": "#%%\n"
    }
   }
  },
  {
   "cell_type": "code",
   "execution_count": 7,
   "outputs": [],
   "source": [
    "# training_data=pd.read_csv(\"training_df_LT80m.csv\")\n",
    "# mean_std=pd.read_csv(\"mean_std_training_ds.csv\")"
   ],
   "metadata": {
    "collapsed": false,
    "pycharm": {
     "name": "#%%\n"
    }
   }
  },
  {
   "cell_type": "code",
   "execution_count": 66,
   "outputs": [
    {
     "data": {
      "text/plain": "(array([36529.,     0.,     0.,     0.,     0.,     0.,     0.,     0.,\n            0., 37987.]),\n array([0. , 0.1, 0.2, 0.3, 0.4, 0.5, 0.6, 0.7, 0.8, 0.9, 1. ]),\n <BarContainer object of 10 artists>)"
     },
     "execution_count": 66,
     "metadata": {},
     "output_type": "execute_result"
    },
    {
     "data": {
      "text/plain": "<Figure size 432x288 with 1 Axes>",
      "image/png": "[encoded data removed]"
     },
     "metadata": {
      "needs_background": "light"
     },
     "output_type": "display_data"
    }
   ],
   "source": [
    "# y_data=np.array(training_data.iloc[:,1])\n",
    "# x_data=np.array(training_data.iloc[:,2:42])\n",
    "# mean=np.array(mean_std.loc[:,'mean'])\n",
    "# std=np.array(mean_std.loc[:,'std'])\n",
    "# x_data=np.array(x_data_copy)\n",
    "# y_data=np.array(y_data_copy)\n",
    "train_feats,test_feats,train_targs,test_targs=train_test_split(x_data,y_data,test_size=0.2,shuffle=True,random_state=42)\n",
    "train_feats=np.array(train_feats)\n",
    "train_targs=np.array(train_targs)\n",
    "test_feats=np.array(test_feats)\n",
    "test_targs=np.array(test_targs)\n",
    "mean = train_feats.mean(axis=0)\n",
    "std = train_feats.std(axis=0)\n",
    "train_feats -= mean\n",
    "train_feats /= std\n",
    "test_feats -= mean\n",
    "test_feats /= std\n",
    "plt.hist(y_data)"
   ],
   "metadata": {
    "collapsed": false,
    "pycharm": {
     "name": "#%%\n"
    }
   }
  },
  {
   "cell_type": "code",
   "execution_count": 8,
   "outputs": [
    {
     "data": {
      "text/plain": "(array([14783.,     0.,     0.,     0.,     0.,     0.,     0.,     0.,\n            0., 13661.]),\n array([0. , 0.1, 0.2, 0.3, 0.4, 0.5, 0.6, 0.7, 0.8, 0.9, 1. ]),\n <BarContainer object of 10 artists>)"
     },
     "execution_count": 8,
     "metadata": {},
     "output_type": "execute_result"
    },
    {
     "data": {
      "text/plain": "<Figure size 432x288 with 1 Axes>",
      "image/png": "[encoded data removed]"
     },
     "metadata": {
      "needs_background": "light"
     },
     "output_type": "display_data"
    }
   ],
   "source": [
    "plt.hist(train_targs)"
   ],
   "metadata": {
    "collapsed": false,
    "pycharm": {
     "name": "#%%\n"
    }
   }
  },
  {
   "cell_type": "code",
   "execution_count": 73,
   "outputs": [
    {
     "name": "stdout",
     "output_type": "stream",
     "text": [
      "[-211.01051126  134.74451276    6.76320756   51.22421017  -10.17536288\n",
      "   24.2854556   -14.09551452   11.04095832   -5.61551928    6.57147988\n",
      "    0.33927969   -0.58139846    2.17701933   -4.32935913    0.65458101\n",
      "   -5.6254182    -0.26176269   -5.00660121   -1.41353455   -4.76414788\n",
      "   -3.16503782   -3.63606912   -2.80188345   -1.10907331   -1.52436603\n",
      "   -1.05422401   -3.43769365   -2.24130013   -3.62191407   -2.54361015\n",
      "   -3.81219837   -2.54111547   -3.0195617    -2.86566864   -2.7501617\n",
      "   -3.13762002   -2.39018639   -3.00760036   -1.44463956   -1.98437526]\n",
      "[85.36242542 21.60615108 27.83851796 18.01986866 17.96673122 14.03814584\n",
      " 13.72438291 12.75008839 10.95433398 11.08115162 10.56739421  9.1343852\n",
      "  8.77165367  7.25372442  7.53985822  6.99814273  7.355323    6.67823676\n",
      "  6.88200989  6.76108589  6.05737388  6.20767233  6.56326216  7.11331127\n",
      "  6.36228581  6.96765783  6.56902763  5.30635228  5.08794344  4.94855881\n",
      "  4.6673294   4.84993676  4.71548713  4.95042705  5.42160248  5.11337932\n",
      "  5.07248551  4.97912448  5.40970852  5.81784211]\n"
     ]
    }
   ],
   "source": [
    "training_df=pd.DataFrame(x_data)\n",
    "truth_labels_df=pd.DataFrame(y_data)\n",
    "training_df_full=pd.concat([truth_labels_df,training_df],axis=1)\n",
    "training_df_full.to_csv(\"training_df_LT80m_wo_A1_augmented.csv\")\n",
    "print(mean)\n",
    "print(std)\n",
    "stdizer=pd.DataFrame([mean,std]).transpose()\n",
    "stdizer.columns=['mean','std']\n",
    "stdizer.to_csv(\"mean_std_training_ds_wo_A1_augmented.csv\")"
   ],
   "metadata": {
    "collapsed": false,
    "pycharm": {
     "name": "#%%\n"
    }
   }
  },
  {
   "cell_type": "markdown",
   "source": [
    "# Naive"
   ],
   "metadata": {
    "collapsed": false,
    "pycharm": {
     "name": "#%% md\n"
    }
   }
  },
  {
   "cell_type": "code",
   "execution_count": 44,
   "outputs": [
    {
     "name": "stdout",
     "output_type": "stream",
     "text": [
      "0.0\n",
      "0.0\n",
      "0.5528130250883597\n",
      "0.0\n"
     ]
    },
    {
     "name": "stderr",
     "output_type": "stream",
     "text": [
      "C:\\Users\\rclendening\\AppData\\Local\\Programs\\Python\\Python39\\lib\\site-packages\\sklearn\\metrics\\_classification.py:1318: UndefinedMetricWarning: Precision is ill-defined and being set to 0.0 due to no predicted samples. Use `zero_division` parameter to control this behavior.\n",
      "  _warn_prf(average, modifier, msg_start, len(result))\n"
     ]
    }
   ],
   "source": [
    "print(precision_score(test_targs,np.zeros(len(test_targs))))\n",
    "print(recall_score(test_targs,np.zeros(len(test_targs))))\n",
    "print(accuracy_score(test_targs,np.zeros(len(test_targs))))\n",
    "print(f1_score(test_targs,np.zeros(len(test_targs))))"
   ],
   "metadata": {
    "collapsed": false,
    "pycharm": {
     "name": "#%%\n"
    }
   }
  },
  {
   "cell_type": "markdown",
   "source": [
    "# LDA / QDA"
   ],
   "metadata": {
    "collapsed": false,
    "pycharm": {
     "name": "#%% md\n"
    }
   }
  },
  {
   "cell_type": "code",
   "execution_count": 67,
   "outputs": [
    {
     "data": {
      "text/plain": "QuadraticDiscriminantAnalysis()"
     },
     "execution_count": 67,
     "metadata": {},
     "output_type": "execute_result"
    }
   ],
   "source": [
    "from sklearn.discriminant_analysis import LinearDiscriminantAnalysis, QuadraticDiscriminantAnalysis\n",
    "lda= LinearDiscriminantAnalysis()\n",
    "qda = QuadraticDiscriminantAnalysis()\n",
    "lda.fit(train_feats,train_targs)\n",
    "qda.fit(train_feats,train_targs)"
   ],
   "metadata": {
    "collapsed": false,
    "pycharm": {
     "name": "#%%\n"
    }
   }
  },
  {
   "cell_type": "code",
   "execution_count": 68,
   "outputs": [
    {
     "name": "stdout",
     "output_type": "stream",
     "text": [
      "0.668545356951154\n",
      "0.665064935064935\n",
      "0.6844426623897354\n",
      "0.67461467527335\n"
     ]
    }
   ],
   "source": [
    "ldaPreds=lda.predict(test_feats)\n",
    "qdaPreds=qda.predict(test_feats)\n",
    "print(accuracy_score(test_targs,ldaPreds))\n",
    "print(precision_score(test_targs,ldaPreds))\n",
    "print(recall_score(test_targs,ldaPreds))\n",
    "print(f1_score(test_targs,ldaPreds))"
   ],
   "metadata": {
    "collapsed": false,
    "pycharm": {
     "name": "#%%\n"
    }
   }
  },
  {
   "cell_type": "code",
   "execution_count": 69,
   "outputs": [],
   "source": [
    "import pickle\n",
    "filename = 'finalized_qda_model.sav'\n",
    "pickle.dump(qda, open(filename, 'wb'))\n",
    "#loaded_model = pickle.load(open(filename, 'rb'))"
   ],
   "metadata": {
    "collapsed": false,
    "pycharm": {
     "name": "#%%\n"
    }
   }
  },
  {
   "cell_type": "markdown",
   "source": [
    "# SVM"
   ],
   "metadata": {
    "collapsed": false,
    "pycharm": {
     "name": "#%% md\n"
    }
   }
  },
  {
   "cell_type": "code",
   "execution_count": 111,
   "outputs": [
    {
     "data": {
      "text/plain": "(array([10357.,     0.,     0.,     0.,     0.,     0.,     0.,     0.,\n            0.,  9553.]),\n array([0. , 0.1, 0.2, 0.3, 0.4, 0.5, 0.6, 0.7, 0.8, 0.9, 1. ]),\n <BarContainer object of 10 artists>)"
     },
     "execution_count": 111,
     "metadata": {},
     "output_type": "execute_result"
    },
    {
     "data": {
      "text/plain": "<Figure size 432x288 with 1 Axes>",
      "image/png": "[encoded data removed]"
     },
     "metadata": {
      "needs_background": "light"
     },
     "output_type": "display_data"
    }
   ],
   "source": [
    "svmTrain_feats,_,svmTrain_targs,__=train_test_split(train_feats,train_targs,test_size=0.3,shuffle=True,random_state=42)\n",
    "plt.hist(svmTrain_targs)"
   ],
   "metadata": {
    "collapsed": false,
    "pycharm": {
     "name": "#%%\n"
    }
   }
  },
  {
   "cell_type": "code",
   "execution_count": 12,
   "outputs": [
    {
     "name": "stdout",
     "output_type": "stream",
     "text": [
      "Fitting 5 folds for each of 12 candidates, totalling 60 fits\n",
      "GridSearchCV(estimator=Pipeline(steps=[('estimator', SVC())]), n_jobs=-1,\n",
      "             param_grid={'estimator__C': [0.1, 1, 10, 100],\n",
      "                         'estimator__gamma': [1, 0.1, 0.01]},\n",
      "             verbose=3)\n",
      "{'estimator__C': 100, 'estimator__gamma': 0.1}\n",
      "0.8894318223116192\n",
      "0.8979414322992172\n",
      "0.8815826928551096\n",
      "0.8920134983127109\n",
      "0.8896868715886239\n"
     ]
    }
   ],
   "source": [
    "from sklearn import svm\n",
    "from sklearn.preprocessing import StandardScaler\n",
    "from sklearn.pipeline import Pipeline\n",
    "from sklearn.model_selection import cross_val_score, KFold\n",
    "from sklearn.model_selection import GridSearchCV\n",
    "\n",
    "model = svm.SVC(kernel='rbf')\n",
    "pipeline= Pipeline([('estimator', model)])\n",
    "cv = KFold(n_splits=5)\n",
    "param_grid= {\n",
    "    'estimator__C':[0.1,1,10,100], 'estimator__gamma':[1,0.1,0.01]}\n",
    "\n",
    "search = GridSearchCV(pipeline, param_grid,refit=True,verbose=3, n_jobs=-1)\n",
    "print(search.fit(train_feats,train_targs))\n",
    "print(search.best_params_)\n",
    "print(search.best_score_)\n",
    "search.score(test_feats,test_targs)\n",
    "SVMmodelPreds=search.predict(test_feats)\n",
    "print(precision_score(test_targs,SVMmodelPreds))\n",
    "print(recall_score(test_targs,SVMmodelPreds))\n",
    "print(accuracy_score(test_targs,SVMmodelPreds))\n",
    "print(f1_score(test_targs,SVMmodelPreds))"
   ],
   "metadata": {
    "collapsed": false,
    "pycharm": {
     "name": "#%%\n"
    }
   }
  },
  {
   "cell_type": "code",
   "execution_count": 74,
   "outputs": [
    {
     "ename": "KeyboardInterrupt",
     "evalue": "",
     "output_type": "error",
     "traceback": [
      "\u001B[1;31m---------------------------------------------------------------------------\u001B[0m",
      "\u001B[1;31mKeyboardInterrupt\u001B[0m                         Traceback (most recent call last)",
      "Input \u001B[1;32mIn [74]\u001B[0m, in \u001B[0;36m<cell line: 1>\u001B[1;34m()\u001B[0m\n\u001B[1;32m----> 1\u001B[0m \u001B[38;5;28;01mimport\u001B[39;00m \u001B[38;5;21;01mpickle\u001B[39;00m\n\u001B[0;32m      2\u001B[0m filename \u001B[38;5;241m=\u001B[39m \u001B[38;5;124m'\u001B[39m\u001B[38;5;124mfinalized_svm_model.sav\u001B[39m\u001B[38;5;124m'\u001B[39m\n\u001B[0;32m      3\u001B[0m pickle\u001B[38;5;241m.\u001B[39mdump(search, \u001B[38;5;28mopen\u001B[39m(filename, \u001B[38;5;124m'\u001B[39m\u001B[38;5;124mwb\u001B[39m\u001B[38;5;124m'\u001B[39m))\n",
      "Input \u001B[1;32mIn [74]\u001B[0m, in \u001B[0;36m<cell line: 1>\u001B[1;34m()\u001B[0m\n\u001B[1;32m----> 1\u001B[0m \u001B[38;5;28;01mimport\u001B[39;00m \u001B[38;5;21;01mpickle\u001B[39;00m\n\u001B[0;32m      2\u001B[0m filename \u001B[38;5;241m=\u001B[39m \u001B[38;5;124m'\u001B[39m\u001B[38;5;124mfinalized_svm_model.sav\u001B[39m\u001B[38;5;124m'\u001B[39m\n\u001B[0;32m      3\u001B[0m pickle\u001B[38;5;241m.\u001B[39mdump(search, \u001B[38;5;28mopen\u001B[39m(filename, \u001B[38;5;124m'\u001B[39m\u001B[38;5;124mwb\u001B[39m\u001B[38;5;124m'\u001B[39m))\n",
      "File \u001B[1;32m_pydevd_bundle\\pydevd_cython_win32_39_64.pyx:1179\u001B[0m, in \u001B[0;36m_pydevd_bundle.pydevd_cython_win32_39_64.SafeCallWrapper.__call__\u001B[1;34m()\u001B[0m\n",
      "File \u001B[1;32m_pydevd_bundle\\pydevd_cython_win32_39_64.pyx:620\u001B[0m, in \u001B[0;36m_pydevd_bundle.pydevd_cython_win32_39_64.PyDBFrame.trace_dispatch\u001B[1;34m()\u001B[0m\n",
      "File \u001B[1;32m_pydevd_bundle\\pydevd_cython_win32_39_64.pyx:929\u001B[0m, in \u001B[0;36m_pydevd_bundle.pydevd_cython_win32_39_64.PyDBFrame.trace_dispatch\u001B[1;34m()\u001B[0m\n",
      "File \u001B[1;32m_pydevd_bundle\\pydevd_cython_win32_39_64.pyx:920\u001B[0m, in \u001B[0;36m_pydevd_bundle.pydevd_cython_win32_39_64.PyDBFrame.trace_dispatch\u001B[1;34m()\u001B[0m\n",
      "File \u001B[1;32m_pydevd_bundle\\pydevd_cython_win32_39_64.pyx:317\u001B[0m, in \u001B[0;36m_pydevd_bundle.pydevd_cython_win32_39_64.PyDBFrame.do_wait_suspend\u001B[1;34m()\u001B[0m\n",
      "File \u001B[1;32mC:\\Program Files\\JetBrains\\PyCharm 2021.3.2\\plugins\\python\\helpers\\pydev\\pydevd.py:1160\u001B[0m, in \u001B[0;36mPyDB.do_wait_suspend\u001B[1;34m(self, thread, frame, event, arg, send_suspend_message, is_unhandled_exception)\u001B[0m\n\u001B[0;32m   1157\u001B[0m         from_this_thread\u001B[38;5;241m.\u001B[39mappend(frame_id)\n\u001B[0;32m   1159\u001B[0m \u001B[38;5;28;01mwith\u001B[39;00m \u001B[38;5;28mself\u001B[39m\u001B[38;5;241m.\u001B[39m_threads_suspended_single_notification\u001B[38;5;241m.\u001B[39mnotify_thread_suspended(thread_id, stop_reason):\n\u001B[1;32m-> 1160\u001B[0m     \u001B[38;5;28;43mself\u001B[39;49m\u001B[38;5;241;43m.\u001B[39;49m\u001B[43m_do_wait_suspend\u001B[49m\u001B[43m(\u001B[49m\u001B[43mthread\u001B[49m\u001B[43m,\u001B[49m\u001B[43m \u001B[49m\u001B[43mframe\u001B[49m\u001B[43m,\u001B[49m\u001B[43m \u001B[49m\u001B[43mevent\u001B[49m\u001B[43m,\u001B[49m\u001B[43m \u001B[49m\u001B[43marg\u001B[49m\u001B[43m,\u001B[49m\u001B[43m \u001B[49m\u001B[43msuspend_type\u001B[49m\u001B[43m,\u001B[49m\u001B[43m \u001B[49m\u001B[43mfrom_this_thread\u001B[49m\u001B[43m)\u001B[49m\n",
      "File \u001B[1;32mC:\\Program Files\\JetBrains\\PyCharm 2021.3.2\\plugins\\python\\helpers\\pydev\\pydevd.py:1175\u001B[0m, in \u001B[0;36mPyDB._do_wait_suspend\u001B[1;34m(self, thread, frame, event, arg, suspend_type, from_this_thread)\u001B[0m\n\u001B[0;32m   1172\u001B[0m             \u001B[38;5;28mself\u001B[39m\u001B[38;5;241m.\u001B[39m_call_mpl_hook()\n\u001B[0;32m   1174\u001B[0m         \u001B[38;5;28mself\u001B[39m\u001B[38;5;241m.\u001B[39mprocess_internal_commands()\n\u001B[1;32m-> 1175\u001B[0m         \u001B[43mtime\u001B[49m\u001B[38;5;241;43m.\u001B[39;49m\u001B[43msleep\u001B[49m\u001B[43m(\u001B[49m\u001B[38;5;241;43m0.01\u001B[39;49m\u001B[43m)\u001B[49m\n\u001B[0;32m   1177\u001B[0m \u001B[38;5;28mself\u001B[39m\u001B[38;5;241m.\u001B[39mcancel_async_evaluation(get_current_thread_id(thread), \u001B[38;5;28mstr\u001B[39m(\u001B[38;5;28mid\u001B[39m(frame)))\n\u001B[0;32m   1179\u001B[0m \u001B[38;5;66;03m# process any stepping instructions\u001B[39;00m\n",
      "\u001B[1;31mKeyboardInterrupt\u001B[0m: "
     ]
    }
   ],
   "source": [
    "import pickle\n",
    "filename = 'finalized_svm_model.sav'\n",
    "pickle.dump(search, open(filename, 'wb'))\n",
    "#loaded_model = pickle.load(open(filename, 'rb'))"
   ],
   "metadata": {
    "collapsed": false,
    "pycharm": {
     "name": "#%%\n"
    }
   }
  },
  {
   "cell_type": "markdown",
   "source": [
    "# CNN Evaluation"
   ],
   "metadata": {
    "collapsed": false,
    "pycharm": {
     "name": "#%% md\n"
    }
   }
  },
  {
   "cell_type": "code",
   "execution_count": 69,
   "outputs": [
    {
     "name": "stdout",
     "output_type": "stream",
     "text": [
      "Model: \"sequential_2\"\n",
      "_________________________________________________________________\n",
      " Layer (type)                Output Shape              Param #   \n",
      "=================================================================\n",
      " dense_1 (Dense)             (None, 160)               6560      \n",
      "                                                                 \n",
      " alpha_dropout_4 (AlphaDropo  (None, 160)              0         \n",
      " ut)                                                             \n",
      "                                                                 \n",
      " dense_4 (Dense)             (None, 80)                12880     \n",
      "                                                                 \n",
      " alpha_dropout_5 (AlphaDropo  (None, 80)               0         \n",
      " ut)                                                             \n",
      "                                                                 \n",
      " dense_55 (Dense)            (None, 40)                3240      \n",
      "                                                                 \n",
      " dense_5 (Dense)             (None, 20)                820       \n",
      "                                                                 \n",
      " dense_56 (Dense)            (None, 20)                420       \n",
      "                                                                 \n",
      " dense_57 (Dense)            (None, 10)                210       \n",
      "                                                                 \n",
      " dense_6 (Dense)             (None, 1)                 11        \n",
      "                                                                 \n",
      "=================================================================\n",
      "Total params: 24,141\n",
      "Trainable params: 24,141\n",
      "Non-trainable params: 0\n",
      "_________________________________________________________________\n",
      "Epoch 1/500\n",
      "1491/1491 [==============================] - 5s 2ms/step - loss: 0.6310 - accuracy: 0.6478 - val_loss: 0.5961 - val_accuracy: 0.6799 - lr: 0.0010\n",
      "Epoch 2/500\n",
      "1491/1491 [==============================] - 3s 2ms/step - loss: 0.5971 - accuracy: 0.6798 - val_loss: 0.5842 - val_accuracy: 0.6955 - lr: 0.0010\n",
      "Epoch 3/500\n",
      "1491/1491 [==============================] - 3s 2ms/step - loss: 0.5757 - accuracy: 0.6941 - val_loss: 0.5651 - val_accuracy: 0.7083 - lr: 0.0010\n",
      "Epoch 4/500\n",
      "1491/1491 [==============================] - 3s 2ms/step - loss: 0.5593 - accuracy: 0.7040 - val_loss: 0.5523 - val_accuracy: 0.7162 - lr: 0.0010\n",
      "Epoch 5/500\n",
      "1491/1491 [==============================] - 3s 2ms/step - loss: 0.5458 - accuracy: 0.7148 - val_loss: 0.5464 - val_accuracy: 0.7278 - lr: 0.0010\n",
      "Epoch 6/500\n",
      "1491/1491 [==============================] - 3s 2ms/step - loss: 0.5333 - accuracy: 0.7231 - val_loss: 0.5308 - val_accuracy: 0.7386 - lr: 0.0010\n",
      "Epoch 7/500\n",
      "1491/1491 [==============================] - 3s 2ms/step - loss: 0.5246 - accuracy: 0.7312 - val_loss: 0.5090 - val_accuracy: 0.7494 - lr: 0.0010\n",
      "Epoch 8/500\n",
      "1491/1491 [==============================] - 3s 2ms/step - loss: 0.5166 - accuracy: 0.7357 - val_loss: 0.5061 - val_accuracy: 0.7516 - lr: 0.0010\n",
      "Epoch 9/500\n",
      "1491/1491 [==============================] - 3s 2ms/step - loss: 0.5065 - accuracy: 0.7446 - val_loss: 0.5063 - val_accuracy: 0.7556 - lr: 0.0010\n",
      "Epoch 10/500\n",
      "1491/1491 [==============================] - 3s 2ms/step - loss: 0.5002 - accuracy: 0.7472 - val_loss: 0.4823 - val_accuracy: 0.7646 - lr: 0.0010\n",
      "Epoch 11/500\n",
      "1491/1491 [==============================] - 3s 2ms/step - loss: 0.4946 - accuracy: 0.7509 - val_loss: 0.4866 - val_accuracy: 0.7647 - lr: 0.0010\n",
      "Epoch 12/500\n",
      "1491/1491 [==============================] - 3s 2ms/step - loss: 0.4856 - accuracy: 0.7577 - val_loss: 0.4588 - val_accuracy: 0.7755 - lr: 0.0010\n",
      "Epoch 13/500\n",
      "1491/1491 [==============================] - 3s 2ms/step - loss: 0.4816 - accuracy: 0.7598 - val_loss: 0.4823 - val_accuracy: 0.7716 - lr: 0.0010\n",
      "Epoch 14/500\n",
      "1491/1491 [==============================] - 3s 2ms/step - loss: 0.4770 - accuracy: 0.7615 - val_loss: 0.4685 - val_accuracy: 0.7750 - lr: 0.0010\n",
      "Epoch 15/500\n",
      "1491/1491 [==============================] - 3s 2ms/step - loss: 0.4708 - accuracy: 0.7655 - val_loss: 0.4620 - val_accuracy: 0.7803 - lr: 0.0010\n",
      "Epoch 16/500\n",
      "1491/1491 [==============================] - 3s 2ms/step - loss: 0.4661 - accuracy: 0.7701 - val_loss: 0.4484 - val_accuracy: 0.7881 - lr: 0.0010\n",
      "Epoch 17/500\n",
      "1491/1491 [==============================] - 3s 2ms/step - loss: 0.4605 - accuracy: 0.7733 - val_loss: 0.4560 - val_accuracy: 0.7837 - lr: 0.0010\n",
      "Epoch 18/500\n",
      "1491/1491 [==============================] - 3s 2ms/step - loss: 0.4538 - accuracy: 0.7750 - val_loss: 0.4512 - val_accuracy: 0.7867 - lr: 0.0010\n",
      "Epoch 19/500\n",
      "1491/1491 [==============================] - 3s 2ms/step - loss: 0.4525 - accuracy: 0.7780 - val_loss: 0.4486 - val_accuracy: 0.7923 - lr: 0.0010\n",
      "Epoch 20/500\n",
      "1491/1491 [==============================] - 3s 2ms/step - loss: 0.4488 - accuracy: 0.7788 - val_loss: 0.4397 - val_accuracy: 0.7952 - lr: 0.0010\n",
      "Epoch 21/500\n",
      "1491/1491 [==============================] - 3s 2ms/step - loss: 0.4427 - accuracy: 0.7842 - val_loss: 0.4550 - val_accuracy: 0.7899 - lr: 0.0010\n",
      "Epoch 22/500\n",
      "1491/1491 [==============================] - 4s 2ms/step - loss: 0.4402 - accuracy: 0.7817 - val_loss: 0.4440 - val_accuracy: 0.7990 - lr: 0.0010\n",
      "Epoch 23/500\n",
      "1491/1491 [==============================] - 3s 2ms/step - loss: 0.4392 - accuracy: 0.7843 - val_loss: 0.4269 - val_accuracy: 0.8000 - lr: 0.0010\n",
      "Epoch 24/500\n",
      "1491/1491 [==============================] - 4s 3ms/step - loss: 0.4326 - accuracy: 0.7878 - val_loss: 0.4343 - val_accuracy: 0.8044 - lr: 0.0010\n",
      "Epoch 25/500\n",
      "1491/1491 [==============================] - 4s 2ms/step - loss: 0.4342 - accuracy: 0.7904 - val_loss: 0.4241 - val_accuracy: 0.8086 - lr: 0.0010\n",
      "Epoch 26/500\n",
      "1491/1491 [==============================] - 4s 3ms/step - loss: 0.4281 - accuracy: 0.7918 - val_loss: 0.4234 - val_accuracy: 0.8016 - lr: 0.0010\n",
      "Epoch 27/500\n",
      "1491/1491 [==============================] - 4s 2ms/step - loss: 0.4277 - accuracy: 0.7903 - val_loss: 0.4160 - val_accuracy: 0.8128 - lr: 0.0010\n",
      "Epoch 28/500\n",
      "1491/1491 [==============================] - 4s 3ms/step - loss: 0.4236 - accuracy: 0.7947 - val_loss: 0.4115 - val_accuracy: 0.8069 - lr: 0.0010\n",
      "Epoch 29/500\n",
      "1491/1491 [==============================] - 4s 3ms/step - loss: 0.4220 - accuracy: 0.7957 - val_loss: 0.4219 - val_accuracy: 0.8067 - lr: 0.0010\n",
      "Epoch 30/500\n",
      "1491/1491 [==============================] - 3s 2ms/step - loss: 0.4188 - accuracy: 0.7982 - val_loss: 0.4180 - val_accuracy: 0.8086 - lr: 0.0010\n",
      "Epoch 31/500\n",
      "1491/1491 [==============================] - 3s 2ms/step - loss: 0.4175 - accuracy: 0.7979 - val_loss: 0.4075 - val_accuracy: 0.8129 - lr: 0.0010\n",
      "Epoch 32/500\n",
      "1491/1491 [==============================] - 3s 2ms/step - loss: 0.4179 - accuracy: 0.7984 - val_loss: 0.3970 - val_accuracy: 0.8151 - lr: 0.0010\n",
      "Epoch 33/500\n",
      "1491/1491 [==============================] - 4s 2ms/step - loss: 0.4121 - accuracy: 0.8021 - val_loss: 0.4096 - val_accuracy: 0.8137 - lr: 0.0010\n",
      "Epoch 34/500\n",
      "1491/1491 [==============================] - 4s 3ms/step - loss: 0.4085 - accuracy: 0.8047 - val_loss: 0.3895 - val_accuracy: 0.8220 - lr: 0.0010\n",
      "Epoch 35/500\n",
      "1491/1491 [==============================] - 4s 3ms/step - loss: 0.4033 - accuracy: 0.8048 - val_loss: 0.4024 - val_accuracy: 0.8169 - lr: 0.0010\n",
      "Epoch 36/500\n",
      "1491/1491 [==============================] - 4s 2ms/step - loss: 0.4072 - accuracy: 0.8060 - val_loss: 0.3949 - val_accuracy: 0.8214 - lr: 0.0010\n",
      "Epoch 37/500\n",
      "1491/1491 [==============================] - 4s 2ms/step - loss: 0.4015 - accuracy: 0.8076 - val_loss: 0.4065 - val_accuracy: 0.8235 - lr: 0.0010\n",
      "Epoch 38/500\n",
      "1491/1491 [==============================] - 3s 2ms/step - loss: 0.4007 - accuracy: 0.8089 - val_loss: 0.3994 - val_accuracy: 0.8205 - lr: 0.0010\n",
      "Epoch 39/500\n",
      "1491/1491 [==============================] - 3s 2ms/step - loss: 0.3997 - accuracy: 0.8075 - val_loss: 0.4005 - val_accuracy: 0.8245 - lr: 0.0010\n",
      "Epoch 40/500\n",
      "1491/1491 [==============================] - 3s 2ms/step - loss: 0.3972 - accuracy: 0.8115 - val_loss: 0.3867 - val_accuracy: 0.8285 - lr: 0.0010\n",
      "Epoch 41/500\n",
      "1491/1491 [==============================] - 3s 2ms/step - loss: 0.3951 - accuracy: 0.8112 - val_loss: 0.3818 - val_accuracy: 0.8283 - lr: 0.0010\n",
      "Epoch 42/500\n",
      "1491/1491 [==============================] - 3s 2ms/step - loss: 0.3919 - accuracy: 0.8146 - val_loss: 0.4032 - val_accuracy: 0.8228 - lr: 0.0010\n",
      "Epoch 43/500\n",
      "1491/1491 [==============================] - 3s 2ms/step - loss: 0.3945 - accuracy: 0.8126 - val_loss: 0.3848 - val_accuracy: 0.8234 - lr: 0.0010\n",
      "Epoch 44/500\n",
      "1491/1491 [==============================] - 3s 2ms/step - loss: 0.3900 - accuracy: 0.8137 - val_loss: 0.3817 - val_accuracy: 0.8312 - lr: 0.0010\n",
      "Epoch 45/500\n",
      "1491/1491 [==============================] - 3s 2ms/step - loss: 0.3898 - accuracy: 0.8144 - val_loss: 0.3963 - val_accuracy: 0.8295 - lr: 0.0010\n",
      "Epoch 46/500\n",
      "1491/1491 [==============================] - 3s 2ms/step - loss: 0.3889 - accuracy: 0.8154 - val_loss: 0.3818 - val_accuracy: 0.8328 - lr: 0.0010\n",
      "Epoch 47/500\n",
      "1491/1491 [==============================] - 3s 2ms/step - loss: 0.3857 - accuracy: 0.8171 - val_loss: 0.3997 - val_accuracy: 0.8332 - lr: 0.0010\n",
      "Epoch 48/500\n",
      "1491/1491 [==============================] - 3s 2ms/step - loss: 0.3841 - accuracy: 0.8183 - val_loss: 0.3931 - val_accuracy: 0.8292 - lr: 0.0010\n",
      "Epoch 49/500\n",
      "1491/1491 [==============================] - 3s 2ms/step - loss: 0.3833 - accuracy: 0.8182 - val_loss: 0.3817 - val_accuracy: 0.8341 - lr: 0.0010\n",
      "Epoch 50/500\n",
      "1491/1491 [==============================] - 3s 2ms/step - loss: 0.3842 - accuracy: 0.8180 - val_loss: 0.3915 - val_accuracy: 0.8314 - lr: 0.0010\n",
      "Epoch 51/500\n",
      "1491/1491 [==============================] - 3s 2ms/step - loss: 0.3788 - accuracy: 0.8203 - val_loss: 0.3841 - val_accuracy: 0.8339 - lr: 0.0010\n",
      "Epoch 52/500\n",
      "1491/1491 [==============================] - 3s 2ms/step - loss: 0.3816 - accuracy: 0.8198 - val_loss: 0.3742 - val_accuracy: 0.8355 - lr: 0.0010\n",
      "Epoch 53/500\n",
      "1491/1491 [==============================] - 3s 2ms/step - loss: 0.3789 - accuracy: 0.8199 - val_loss: 0.3826 - val_accuracy: 0.8351 - lr: 0.0010\n",
      "Epoch 54/500\n",
      "1491/1491 [==============================] - 3s 2ms/step - loss: 0.3788 - accuracy: 0.8194 - val_loss: 0.3937 - val_accuracy: 0.8278 - lr: 0.0010\n",
      "Epoch 55/500\n",
      "1491/1491 [==============================] - 3s 2ms/step - loss: 0.3791 - accuracy: 0.8202 - val_loss: 0.3988 - val_accuracy: 0.8313 - lr: 0.0010\n",
      "Epoch 56/500\n",
      "1491/1491 [==============================] - 3s 2ms/step - loss: 0.3766 - accuracy: 0.8221 - val_loss: 0.3851 - val_accuracy: 0.8282 - lr: 0.0010\n",
      "Epoch 57/500\n",
      "1491/1491 [==============================] - 3s 2ms/step - loss: 0.3758 - accuracy: 0.8235 - val_loss: 0.3868 - val_accuracy: 0.8290 - lr: 0.0010\n",
      "Epoch 58/500\n",
      "1491/1491 [==============================] - 3s 2ms/step - loss: 0.3743 - accuracy: 0.8243 - val_loss: 0.3910 - val_accuracy: 0.8287 - lr: 0.0010\n",
      "Epoch 59/500\n",
      "1491/1491 [==============================] - 3s 2ms/step - loss: 0.3750 - accuracy: 0.8225 - val_loss: 0.3656 - val_accuracy: 0.8361 - lr: 0.0010\n",
      "Epoch 60/500\n",
      "1491/1491 [==============================] - 3s 2ms/step - loss: 0.3725 - accuracy: 0.8261 - val_loss: 0.3809 - val_accuracy: 0.8350 - lr: 0.0010\n",
      "Epoch 61/500\n",
      "1491/1491 [==============================] - 3s 2ms/step - loss: 0.3692 - accuracy: 0.8249 - val_loss: 0.3628 - val_accuracy: 0.8372 - lr: 0.0010\n",
      "Epoch 62/500\n",
      "1491/1491 [==============================] - 3s 2ms/step - loss: 0.3683 - accuracy: 0.8277 - val_loss: 0.3695 - val_accuracy: 0.8398 - lr: 0.0010\n",
      "Epoch 63/500\n",
      "1491/1491 [==============================] - 3s 2ms/step - loss: 0.3681 - accuracy: 0.8277 - val_loss: 0.3661 - val_accuracy: 0.8408 - lr: 0.0010\n",
      "Epoch 64/500\n",
      "1491/1491 [==============================] - 3s 2ms/step - loss: 0.3660 - accuracy: 0.8276 - val_loss: 0.3634 - val_accuracy: 0.8419 - lr: 0.0010\n",
      "Epoch 65/500\n",
      "1491/1491 [==============================] - 3s 2ms/step - loss: 0.3686 - accuracy: 0.8265 - val_loss: 0.3728 - val_accuracy: 0.8432 - lr: 0.0010\n",
      "Epoch 66/500\n",
      "1491/1491 [==============================] - 3s 2ms/step - loss: 0.3656 - accuracy: 0.8302 - val_loss: 0.3665 - val_accuracy: 0.8427 - lr: 0.0010\n",
      "Epoch 67/500\n",
      "1491/1491 [==============================] - 3s 2ms/step - loss: 0.3642 - accuracy: 0.8294 - val_loss: 0.3654 - val_accuracy: 0.8414 - lr: 0.0010\n",
      "Epoch 68/500\n",
      "1491/1491 [==============================] - 3s 2ms/step - loss: 0.3646 - accuracy: 0.8291 - val_loss: 0.3768 - val_accuracy: 0.8359 - lr: 0.0010\n",
      "Epoch 69/500\n",
      "1491/1491 [==============================] - 3s 2ms/step - loss: 0.3638 - accuracy: 0.8306 - val_loss: 0.3711 - val_accuracy: 0.8405 - lr: 0.0010\n",
      "Epoch 70/500\n",
      "1491/1491 [==============================] - 3s 2ms/step - loss: 0.3624 - accuracy: 0.8310 - val_loss: 0.3566 - val_accuracy: 0.8479 - lr: 0.0010\n",
      "Epoch 71/500\n",
      "1491/1491 [==============================] - 3s 2ms/step - loss: 0.3640 - accuracy: 0.8284 - val_loss: 0.3739 - val_accuracy: 0.8426 - lr: 0.0010\n",
      "Epoch 72/500\n",
      "1491/1491 [==============================] - 3s 2ms/step - loss: 0.3626 - accuracy: 0.8291 - val_loss: 0.3746 - val_accuracy: 0.8404 - lr: 0.0010\n",
      "Epoch 73/500\n",
      "1491/1491 [==============================] - 3s 2ms/step - loss: 0.3623 - accuracy: 0.8310 - val_loss: 0.3630 - val_accuracy: 0.8425 - lr: 0.0010\n",
      "Epoch 74/500\n",
      "1491/1491 [==============================] - 3s 2ms/step - loss: 0.3610 - accuracy: 0.8325 - val_loss: 0.3781 - val_accuracy: 0.8396 - lr: 0.0010\n",
      "Epoch 75/500\n",
      "1491/1491 [==============================] - 3s 2ms/step - loss: 0.3580 - accuracy: 0.8324 - val_loss: 0.3561 - val_accuracy: 0.8437 - lr: 0.0010\n",
      "Epoch 76/500\n",
      "1491/1491 [==============================] - 3s 2ms/step - loss: 0.3544 - accuracy: 0.8353 - val_loss: 0.3752 - val_accuracy: 0.8438 - lr: 0.0010\n",
      "Epoch 77/500\n",
      "1491/1491 [==============================] - 3s 2ms/step - loss: 0.3556 - accuracy: 0.8347 - val_loss: 0.3661 - val_accuracy: 0.8455 - lr: 0.0010\n",
      "Epoch 78/500\n",
      "1491/1491 [==============================] - 3s 2ms/step - loss: 0.3558 - accuracy: 0.8343 - val_loss: 0.3733 - val_accuracy: 0.8475 - lr: 0.0010\n",
      "Epoch 79/500\n",
      "1491/1491 [==============================] - 3s 2ms/step - loss: 0.3550 - accuracy: 0.8345 - val_loss: 0.3641 - val_accuracy: 0.8437 - lr: 0.0010\n",
      "Epoch 80/500\n",
      "1491/1491 [==============================] - 3s 2ms/step - loss: 0.3540 - accuracy: 0.8361 - val_loss: 0.3452 - val_accuracy: 0.8479 - lr: 0.0010\n",
      "Epoch 81/500\n",
      "1491/1491 [==============================] - 3s 2ms/step - loss: 0.3564 - accuracy: 0.8316 - val_loss: 0.3504 - val_accuracy: 0.8478 - lr: 0.0010\n",
      "Epoch 82/500\n",
      "1491/1491 [==============================] - 3s 2ms/step - loss: 0.3527 - accuracy: 0.8361 - val_loss: 0.3537 - val_accuracy: 0.8492 - lr: 0.0010\n",
      "Epoch 83/500\n",
      "1491/1491 [==============================] - 3s 2ms/step - loss: 0.3533 - accuracy: 0.8374 - val_loss: 0.3535 - val_accuracy: 0.8493 - lr: 0.0010\n",
      "Epoch 84/500\n",
      "1491/1491 [==============================] - 3s 2ms/step - loss: 0.3547 - accuracy: 0.8357 - val_loss: 0.3694 - val_accuracy: 0.8417 - lr: 0.0010\n",
      "Epoch 85/500\n",
      "1491/1491 [==============================] - 3s 2ms/step - loss: 0.3540 - accuracy: 0.8358 - val_loss: 0.3446 - val_accuracy: 0.8452 - lr: 0.0010\n",
      "Epoch 86/500\n",
      "1491/1491 [==============================] - 3s 2ms/step - loss: 0.3515 - accuracy: 0.8373 - val_loss: 0.3571 - val_accuracy: 0.8451 - lr: 0.0010\n",
      "Epoch 87/500\n",
      "1491/1491 [==============================] - 3s 2ms/step - loss: 0.3537 - accuracy: 0.8356 - val_loss: 0.3658 - val_accuracy: 0.8478 - lr: 0.0010\n",
      "Epoch 88/500\n",
      "1491/1491 [==============================] - 3s 2ms/step - loss: 0.3495 - accuracy: 0.8379 - val_loss: 0.3592 - val_accuracy: 0.8448 - lr: 0.0010\n",
      "Epoch 89/500\n",
      "1491/1491 [==============================] - 3s 2ms/step - loss: 0.3472 - accuracy: 0.8404 - val_loss: 0.3558 - val_accuracy: 0.8450 - lr: 0.0010\n",
      "Epoch 90/500\n",
      "1491/1491 [==============================] - 3s 2ms/step - loss: 0.3451 - accuracy: 0.8404 - val_loss: 0.3657 - val_accuracy: 0.8458 - lr: 0.0010\n",
      "Epoch 91/500\n",
      "1491/1491 [==============================] - 3s 2ms/step - loss: 0.3497 - accuracy: 0.8390 - val_loss: 0.3466 - val_accuracy: 0.8484 - lr: 0.0010\n",
      "Epoch 92/500\n",
      "1491/1491 [==============================] - 3s 2ms/step - loss: 0.3470 - accuracy: 0.8396 - val_loss: 0.3433 - val_accuracy: 0.8508 - lr: 0.0010\n",
      "Epoch 93/500\n",
      "1491/1491 [==============================] - 3s 2ms/step - loss: 0.3484 - accuracy: 0.8391 - val_loss: 0.3645 - val_accuracy: 0.8489 - lr: 0.0010\n",
      "Epoch 94/500\n",
      "1491/1491 [==============================] - 3s 2ms/step - loss: 0.3471 - accuracy: 0.8391 - val_loss: 0.3459 - val_accuracy: 0.8542 - lr: 0.0010\n",
      "Epoch 95/500\n",
      "1491/1491 [==============================] - 3s 2ms/step - loss: 0.3446 - accuracy: 0.8396 - val_loss: 0.3707 - val_accuracy: 0.8505 - lr: 0.0010\n",
      "Epoch 96/500\n",
      "1491/1491 [==============================] - 3s 2ms/step - loss: 0.3445 - accuracy: 0.8398 - val_loss: 0.3536 - val_accuracy: 0.8504 - lr: 0.0010\n",
      "Epoch 97/500\n",
      "1491/1491 [==============================] - 3s 2ms/step - loss: 0.3458 - accuracy: 0.8405 - val_loss: 0.3569 - val_accuracy: 0.8498 - lr: 0.0010\n",
      "Epoch 98/500\n",
      "1491/1491 [==============================] - 3s 2ms/step - loss: 0.3437 - accuracy: 0.8405 - val_loss: 0.3452 - val_accuracy: 0.8495 - lr: 0.0010\n",
      "Epoch 99/500\n",
      "1491/1491 [==============================] - 3s 2ms/step - loss: 0.3445 - accuracy: 0.8415 - val_loss: 0.3512 - val_accuracy: 0.8498 - lr: 0.0010\n",
      "Epoch 100/500\n",
      "1491/1491 [==============================] - 3s 2ms/step - loss: 0.3448 - accuracy: 0.8401 - val_loss: 0.3521 - val_accuracy: 0.8510 - lr: 0.0010\n",
      "Epoch 101/500\n",
      "1491/1491 [==============================] - 3s 2ms/step - loss: 0.3428 - accuracy: 0.8417 - val_loss: 0.3726 - val_accuracy: 0.8555 - lr: 0.0010\n",
      "Epoch 102/500\n",
      "1491/1491 [==============================] - 3s 2ms/step - loss: 0.3417 - accuracy: 0.8426 - val_loss: 0.3469 - val_accuracy: 0.8521 - lr: 0.0010\n",
      "Epoch 103/500\n",
      "1491/1491 [==============================] - 3s 2ms/step - loss: 0.3399 - accuracy: 0.8431 - val_loss: 0.3474 - val_accuracy: 0.8493 - lr: 0.0010\n",
      "Epoch 104/500\n",
      "1491/1491 [==============================] - 3s 2ms/step - loss: 0.3429 - accuracy: 0.8427 - val_loss: 0.3736 - val_accuracy: 0.8550 - lr: 0.0010\n",
      "Epoch 105/500\n",
      "1491/1491 [==============================] - 3s 2ms/step - loss: 0.3424 - accuracy: 0.8418 - val_loss: 0.3513 - val_accuracy: 0.8539 - lr: 0.0010\n",
      "Epoch 106/500\n",
      "1491/1491 [==============================] - 3s 2ms/step - loss: 0.3412 - accuracy: 0.8428 - val_loss: 0.3454 - val_accuracy: 0.8526 - lr: 0.0010\n",
      "Epoch 107/500\n",
      "1491/1491 [==============================] - 3s 2ms/step - loss: 0.3371 - accuracy: 0.8445 - val_loss: 0.3584 - val_accuracy: 0.8523 - lr: 0.0010\n",
      "Epoch 108/500\n",
      "1491/1491 [==============================] - 3s 2ms/step - loss: 0.3404 - accuracy: 0.8418 - val_loss: 0.3480 - val_accuracy: 0.8509 - lr: 0.0010\n",
      "Epoch 109/500\n",
      "1491/1491 [==============================] - 3s 2ms/step - loss: 0.3411 - accuracy: 0.8435 - val_loss: 0.3630 - val_accuracy: 0.8541 - lr: 0.0010\n",
      "Epoch 110/500\n",
      "1491/1491 [==============================] - 3s 2ms/step - loss: 0.3398 - accuracy: 0.8429 - val_loss: 0.3738 - val_accuracy: 0.8496 - lr: 0.0010\n",
      "Epoch 111/500\n",
      "1491/1491 [==============================] - 3s 2ms/step - loss: 0.3409 - accuracy: 0.8434 - val_loss: 0.3473 - val_accuracy: 0.8577 - lr: 0.0010\n",
      "Epoch 112/500\n",
      "1470/1491 [============================>.] - ETA: 0s - loss: 0.3399 - accuracy: 0.8417\n",
      "Epoch 112: ReduceLROnPlateau reducing learning rate to 0.00010000000474974513.\n",
      "1491/1491 [==============================] - 3s 2ms/step - loss: 0.3398 - accuracy: 0.8417 - val_loss: 0.3510 - val_accuracy: 0.8533 - lr: 0.0010\n",
      "Epoch 113/500\n",
      "1491/1491 [==============================] - 3s 2ms/step - loss: 0.3338 - accuracy: 0.8453 - val_loss: 0.3463 - val_accuracy: 0.8546 - lr: 1.0000e-04\n",
      "Epoch 114/500\n",
      "1491/1491 [==============================] - 3s 2ms/step - loss: 0.3255 - accuracy: 0.8499 - val_loss: 0.3448 - val_accuracy: 0.8552 - lr: 1.0000e-04\n",
      "Epoch 115/500\n",
      "1491/1491 [==============================] - 3s 2ms/step - loss: 0.3248 - accuracy: 0.8511 - val_loss: 0.3456 - val_accuracy: 0.8568 - lr: 1.0000e-04\n",
      "Epoch 116/500\n",
      "1491/1491 [==============================] - 3s 2ms/step - loss: 0.3202 - accuracy: 0.8543 - val_loss: 0.3465 - val_accuracy: 0.8563 - lr: 1.0000e-04\n",
      "Epoch 117/500\n",
      "1491/1491 [==============================] - 3s 2ms/step - loss: 0.3203 - accuracy: 0.8541 - val_loss: 0.3450 - val_accuracy: 0.8567 - lr: 1.0000e-04\n",
      "Epoch 118/500\n",
      "1491/1491 [==============================] - 3s 2ms/step - loss: 0.3224 - accuracy: 0.8514 - val_loss: 0.3454 - val_accuracy: 0.8574 - lr: 1.0000e-04\n",
      "Epoch 119/500\n",
      "1491/1491 [==============================] - 3s 2ms/step - loss: 0.3223 - accuracy: 0.8532 - val_loss: 0.3410 - val_accuracy: 0.8589 - lr: 1.0000e-04\n",
      "Epoch 120/500\n",
      "1491/1491 [==============================] - 3s 2ms/step - loss: 0.3253 - accuracy: 0.8508 - val_loss: 0.3413 - val_accuracy: 0.8591 - lr: 1.0000e-04\n",
      "Epoch 121/500\n",
      "1491/1491 [==============================] - 3s 2ms/step - loss: 0.3187 - accuracy: 0.8552 - val_loss: 0.3432 - val_accuracy: 0.8576 - lr: 1.0000e-04\n",
      "Epoch 122/500\n",
      "1491/1491 [==============================] - 3s 2ms/step - loss: 0.3192 - accuracy: 0.8539 - val_loss: 0.3407 - val_accuracy: 0.8593 - lr: 1.0000e-04\n",
      "Epoch 123/500\n",
      "1491/1491 [==============================] - 3s 2ms/step - loss: 0.3196 - accuracy: 0.8533 - val_loss: 0.3427 - val_accuracy: 0.8583 - lr: 1.0000e-04\n",
      "Epoch 124/500\n",
      "1491/1491 [==============================] - 3s 2ms/step - loss: 0.3186 - accuracy: 0.8547 - val_loss: 0.3383 - val_accuracy: 0.8603 - lr: 1.0000e-04\n",
      "Epoch 125/500\n",
      "1491/1491 [==============================] - 3s 2ms/step - loss: 0.3233 - accuracy: 0.8538 - val_loss: 0.3380 - val_accuracy: 0.8580 - lr: 1.0000e-04\n",
      "Epoch 126/500\n",
      "1491/1491 [==============================] - 3s 2ms/step - loss: 0.3208 - accuracy: 0.8539 - val_loss: 0.3413 - val_accuracy: 0.8592 - lr: 1.0000e-04\n",
      "Epoch 127/500\n",
      "1491/1491 [==============================] - 3s 2ms/step - loss: 0.3199 - accuracy: 0.8538 - val_loss: 0.3391 - val_accuracy: 0.8592 - lr: 1.0000e-04\n",
      "Epoch 128/500\n",
      "1491/1491 [==============================] - 3s 2ms/step - loss: 0.3203 - accuracy: 0.8558 - val_loss: 0.3386 - val_accuracy: 0.8585 - lr: 1.0000e-04\n",
      "Epoch 129/500\n",
      "1491/1491 [==============================] - 3s 2ms/step - loss: 0.3206 - accuracy: 0.8516 - val_loss: 0.3388 - val_accuracy: 0.8573 - lr: 1.0000e-04\n",
      "Epoch 130/500\n",
      "1491/1491 [==============================] - 3s 2ms/step - loss: 0.3170 - accuracy: 0.8567 - val_loss: 0.3404 - val_accuracy: 0.8601 - lr: 1.0000e-04\n",
      "Epoch 131/500\n",
      "1491/1491 [==============================] - 3s 2ms/step - loss: 0.3137 - accuracy: 0.8573 - val_loss: 0.3461 - val_accuracy: 0.8598 - lr: 1.0000e-04\n",
      "Epoch 132/500\n",
      "1491/1491 [==============================] - 3s 2ms/step - loss: 0.3145 - accuracy: 0.8574 - val_loss: 0.3469 - val_accuracy: 0.8584 - lr: 1.0000e-04\n",
      "Epoch 133/500\n",
      "1491/1491 [==============================] - 3s 2ms/step - loss: 0.3153 - accuracy: 0.8561 - val_loss: 0.3426 - val_accuracy: 0.8595 - lr: 1.0000e-04\n",
      "Epoch 134/500\n",
      "1491/1491 [==============================] - 3s 2ms/step - loss: 0.3174 - accuracy: 0.8562 - val_loss: 0.3418 - val_accuracy: 0.8599 - lr: 1.0000e-04\n",
      "Epoch 135/500\n",
      "1491/1491 [==============================] - 3s 2ms/step - loss: 0.3165 - accuracy: 0.8559 - val_loss: 0.3432 - val_accuracy: 0.8598 - lr: 1.0000e-04\n",
      "Epoch 136/500\n",
      "1491/1491 [==============================] - 3s 2ms/step - loss: 0.3174 - accuracy: 0.8548 - val_loss: 0.3388 - val_accuracy: 0.8596 - lr: 1.0000e-04\n",
      "Epoch 137/500\n",
      "1491/1491 [==============================] - 3s 2ms/step - loss: 0.3139 - accuracy: 0.8556 - val_loss: 0.3361 - val_accuracy: 0.8604 - lr: 1.0000e-04\n",
      "Epoch 138/500\n",
      "1491/1491 [==============================] - 3s 2ms/step - loss: 0.3154 - accuracy: 0.8561 - val_loss: 0.3366 - val_accuracy: 0.8598 - lr: 1.0000e-04\n",
      "Epoch 139/500\n",
      "1491/1491 [==============================] - 3s 2ms/step - loss: 0.3147 - accuracy: 0.8564 - val_loss: 0.3426 - val_accuracy: 0.8576 - lr: 1.0000e-04\n",
      "Epoch 140/500\n",
      "1491/1491 [==============================] - 3s 2ms/step - loss: 0.3162 - accuracy: 0.8560 - val_loss: 0.3377 - val_accuracy: 0.8600 - lr: 1.0000e-04\n",
      "Epoch 141/500\n",
      "1491/1491 [==============================] - 3s 2ms/step - loss: 0.3167 - accuracy: 0.8550 - val_loss: 0.3389 - val_accuracy: 0.8583 - lr: 1.0000e-04\n",
      "Epoch 142/500\n",
      "1491/1491 [==============================] - 3s 2ms/step - loss: 0.3163 - accuracy: 0.8570 - val_loss: 0.3439 - val_accuracy: 0.8588 - lr: 1.0000e-04\n",
      "Epoch 143/500\n",
      "1491/1491 [==============================] - 3s 2ms/step - loss: 0.3163 - accuracy: 0.8549 - val_loss: 0.3392 - val_accuracy: 0.8586 - lr: 1.0000e-04\n",
      "Epoch 144/500\n",
      "1491/1491 [==============================] - 3s 2ms/step - loss: 0.3135 - accuracy: 0.8580 - val_loss: 0.3419 - val_accuracy: 0.8587 - lr: 1.0000e-04\n",
      "Epoch 145/500\n",
      "1491/1491 [==============================] - 3s 2ms/step - loss: 0.3127 - accuracy: 0.8582 - val_loss: 0.3412 - val_accuracy: 0.8588 - lr: 1.0000e-04\n",
      "Epoch 146/500\n",
      "1491/1491 [==============================] - 3s 2ms/step - loss: 0.3135 - accuracy: 0.8575 - val_loss: 0.3441 - val_accuracy: 0.8590 - lr: 1.0000e-04\n",
      "Epoch 147/500\n",
      "1491/1491 [==============================] - 3s 2ms/step - loss: 0.3153 - accuracy: 0.8569 - val_loss: 0.3364 - val_accuracy: 0.8591 - lr: 1.0000e-04\n",
      "Epoch 148/500\n",
      "1491/1491 [==============================] - 3s 2ms/step - loss: 0.3176 - accuracy: 0.8539 - val_loss: 0.3416 - val_accuracy: 0.8583 - lr: 1.0000e-04\n",
      "Epoch 149/500\n",
      "1491/1491 [==============================] - 3s 2ms/step - loss: 0.3153 - accuracy: 0.8567 - val_loss: 0.3398 - val_accuracy: 0.8589 - lr: 1.0000e-04\n",
      "Epoch 150/500\n",
      "1491/1491 [==============================] - 3s 2ms/step - loss: 0.3155 - accuracy: 0.8571 - val_loss: 0.3394 - val_accuracy: 0.8599 - lr: 1.0000e-04\n",
      "Epoch 151/500\n",
      "1491/1491 [==============================] - 3s 2ms/step - loss: 0.3109 - accuracy: 0.8596 - val_loss: 0.3422 - val_accuracy: 0.8595 - lr: 1.0000e-04\n",
      "Epoch 152/500\n",
      "1491/1491 [==============================] - 3s 2ms/step - loss: 0.3156 - accuracy: 0.8547 - val_loss: 0.3413 - val_accuracy: 0.8600 - lr: 1.0000e-04\n",
      "Epoch 153/500\n",
      "1491/1491 [==============================] - 3s 2ms/step - loss: 0.3131 - accuracy: 0.8571 - val_loss: 0.3400 - val_accuracy: 0.8595 - lr: 1.0000e-04\n",
      "Epoch 154/500\n",
      "1491/1491 [==============================] - 3s 2ms/step - loss: 0.3120 - accuracy: 0.8580 - val_loss: 0.3409 - val_accuracy: 0.8598 - lr: 1.0000e-04\n",
      "Epoch 155/500\n",
      "1491/1491 [==============================] - 3s 2ms/step - loss: 0.3124 - accuracy: 0.8565 - val_loss: 0.3429 - val_accuracy: 0.8602 - lr: 1.0000e-04\n",
      "Epoch 156/500\n",
      "1491/1491 [==============================] - 3s 2ms/step - loss: 0.3131 - accuracy: 0.8593 - val_loss: 0.3402 - val_accuracy: 0.8593 - lr: 1.0000e-04\n",
      "Epoch 157/500\n",
      "1480/1491 [============================>.] - ETA: 0s - loss: 0.3091 - accuracy: 0.8594\n",
      "Epoch 157: ReduceLROnPlateau reducing learning rate to 1.0000000474974514e-05.\n",
      "1491/1491 [==============================] - 3s 2ms/step - loss: 0.3091 - accuracy: 0.8594 - val_loss: 0.3380 - val_accuracy: 0.8628 - lr: 1.0000e-04\n",
      "Epoch 158/500\n",
      "1491/1491 [==============================] - 3s 2ms/step - loss: 0.3141 - accuracy: 0.8578 - val_loss: 0.3408 - val_accuracy: 0.8616 - lr: 1.0000e-05\n",
      "Epoch 159/500\n",
      "1491/1491 [==============================] - 3s 2ms/step - loss: 0.3103 - accuracy: 0.8594 - val_loss: 0.3412 - val_accuracy: 0.8619 - lr: 1.0000e-05\n",
      "Epoch 160/500\n",
      "1491/1491 [==============================] - 3s 2ms/step - loss: 0.3101 - accuracy: 0.8578 - val_loss: 0.3420 - val_accuracy: 0.8614 - lr: 1.0000e-05\n",
      "Epoch 161/500\n",
      "1491/1491 [==============================] - 3s 2ms/step - loss: 0.3128 - accuracy: 0.8583 - val_loss: 0.3418 - val_accuracy: 0.8607 - lr: 1.0000e-05\n",
      "Epoch 162/500\n",
      "1491/1491 [==============================] - 3s 2ms/step - loss: 0.3079 - accuracy: 0.8601 - val_loss: 0.3421 - val_accuracy: 0.8613 - lr: 1.0000e-05\n",
      "Epoch 163/500\n",
      "1491/1491 [==============================] - 3s 2ms/step - loss: 0.3096 - accuracy: 0.8597 - val_loss: 0.3428 - val_accuracy: 0.8608 - lr: 1.0000e-05\n",
      "Epoch 164/500\n",
      "1491/1491 [==============================] - 3s 2ms/step - loss: 0.3126 - accuracy: 0.8585 - val_loss: 0.3422 - val_accuracy: 0.8615 - lr: 1.0000e-05\n",
      "Epoch 165/500\n",
      "1491/1491 [==============================] - 3s 2ms/step - loss: 0.3100 - accuracy: 0.8590 - val_loss: 0.3430 - val_accuracy: 0.8609 - lr: 1.0000e-05\n",
      "Epoch 166/500\n",
      "1491/1491 [==============================] - 3s 2ms/step - loss: 0.3135 - accuracy: 0.8583 - val_loss: 0.3417 - val_accuracy: 0.8609 - lr: 1.0000e-05\n",
      "Epoch 167/500\n",
      "1491/1491 [==============================] - 3s 2ms/step - loss: 0.3109 - accuracy: 0.8590 - val_loss: 0.3415 - val_accuracy: 0.8609 - lr: 1.0000e-05\n",
      "Epoch 168/500\n",
      "1491/1491 [==============================] - 3s 2ms/step - loss: 0.3098 - accuracy: 0.8594 - val_loss: 0.3420 - val_accuracy: 0.8609 - lr: 1.0000e-05\n",
      "Epoch 169/500\n",
      "1491/1491 [==============================] - 3s 2ms/step - loss: 0.3125 - accuracy: 0.8567 - val_loss: 0.3413 - val_accuracy: 0.8605 - lr: 1.0000e-05\n",
      "Epoch 170/500\n",
      "1491/1491 [==============================] - 3s 2ms/step - loss: 0.3108 - accuracy: 0.8597 - val_loss: 0.3415 - val_accuracy: 0.8607 - lr: 1.0000e-05\n",
      "Epoch 171/500\n",
      "1491/1491 [==============================] - 3s 2ms/step - loss: 0.3115 - accuracy: 0.8587 - val_loss: 0.3418 - val_accuracy: 0.8602 - lr: 1.0000e-05\n",
      "Epoch 172/500\n",
      "1491/1491 [==============================] - 3s 2ms/step - loss: 0.3123 - accuracy: 0.8591 - val_loss: 0.3416 - val_accuracy: 0.8602 - lr: 1.0000e-05\n",
      "Epoch 173/500\n",
      "1491/1491 [==============================] - 3s 2ms/step - loss: 0.3093 - accuracy: 0.8595 - val_loss: 0.3430 - val_accuracy: 0.8601 - lr: 1.0000e-05\n",
      "Epoch 174/500\n",
      "1491/1491 [==============================] - 3s 2ms/step - loss: 0.3116 - accuracy: 0.8579 - val_loss: 0.3420 - val_accuracy: 0.8604 - lr: 1.0000e-05\n",
      "Epoch 175/500\n",
      "1491/1491 [==============================] - 3s 2ms/step - loss: 0.3134 - accuracy: 0.8574 - val_loss: 0.3415 - val_accuracy: 0.8605 - lr: 1.0000e-05\n",
      "Epoch 176/500\n",
      "1491/1491 [==============================] - 3s 2ms/step - loss: 0.3122 - accuracy: 0.8572 - val_loss: 0.3416 - val_accuracy: 0.8603 - lr: 1.0000e-05\n",
      "Epoch 177/500\n",
      "1468/1491 [============================>.] - ETA: 0s - loss: 0.3099 - accuracy: 0.8582\n",
      "Epoch 177: ReduceLROnPlateau reducing learning rate to 1.0000000656873453e-06.\n",
      "1491/1491 [==============================] - 3s 2ms/step - loss: 0.3097 - accuracy: 0.8584 - val_loss: 0.3418 - val_accuracy: 0.8606 - lr: 1.0000e-05\n"
     ]
    },
    {
     "data": {
      "text/plain": "<Figure size 432x288 with 1 Axes>",
      "image/png": "[encoded data removed]"
     },
     "metadata": {
      "needs_background": "light"
     },
     "output_type": "display_data"
    }
   ],
   "source": [
    "CNNv3=tf.keras.Sequential()\n",
    "CNNv3.add(Input(shape=(40)))\n",
    "CNNv3.add(Dense(160, activation='selu', name='dense_1',kernel_initializer='lecun_normal'))\n",
    "CNNv3.add(AlphaDropout(0.3))\n",
    "CNNv3.add(Dense(80, activation='selu', name='dense_4',kernel_initializer='lecun_normal'))\n",
    "CNNv3.add(AlphaDropout(0.2))\n",
    "# CNNv3.add(AlphaDropout(0.2))\n",
    "CNNv3.add(Dense(40, activation='selu', name='dense_55',kernel_initializer='lecun_normal'))\n",
    "CNNv3.add(Dense(20, activation='selu', name='dense_5',kernel_initializer='lecun_normal'))\n",
    "CNNv3.add(Dense(20, activation='selu', name='dense_56',kernel_initializer='lecun_normal'))\n",
    "CNNv3.add(Dense(10, activation='selu', name='dense_57',kernel_initializer='lecun_normal'))\n",
    "CNNv3.add(Dense(1, activation='sigmoid', name='dense_6'))\n",
    "#dist = Dense(1, activation='sigmoid', name='dense_2')(hidden)\n",
    "CNNv3.summary()\n",
    "CNNv3.compile(optimizer='nadam',\n",
    "    loss=tf.keras.losses.BinaryCrossentropy(from_logits=False),\n",
    "    metrics=['accuracy'],)\n",
    "# Train classifier\n",
    "reduceLR = tf.keras.callbacks.ReduceLROnPlateau(monitor='val_loss', factor=0.1,\n",
    "                                 verbose=1, patience=20, mode='auto')\n",
    "early = tf.keras.callbacks.EarlyStopping(monitor='val_loss', min_delta=1e-4,\n",
    "                          patience=40, mode='auto', restore_best_weights=True)\n",
    "history = CNNv3.fit(train_feats, train_targs,\n",
    "                      epochs=500,\n",
    "                      batch_size=32,\n",
    "                      shuffle=True,\n",
    "                      validation_split=0.2,\n",
    "                      callbacks=[reduceLR, early])\n",
    "plt.plot(history.history['loss'])\n",
    "plt.plot(history.history['val_loss'])\n",
    "plt.title('Learning Curves')\n",
    "plt.legend(['Training Loss', 'Validation Loss'])\n",
    "plt.ylabel('Binary Crossentropy')\n",
    "plt.xlabel('Epoch Number')\n",
    "plt.show()"
   ],
   "metadata": {
    "collapsed": false,
    "pycharm": {
     "name": "#%%\n"
    }
   }
  },
  {
   "cell_type": "code",
   "execution_count": 70,
   "outputs": [
    {
     "name": "stdout",
     "output_type": "stream",
     "text": [
      "466/466 [==============================] - 1s 1ms/step - loss: 0.3230 - accuracy: 0.8662\n"
     ]
    },
    {
     "data": {
      "text/plain": "[0.3229907155036926, 0.866210401058197]"
     },
     "execution_count": 70,
     "metadata": {},
     "output_type": "execute_result"
    }
   ],
   "source": [
    "CNNv3.evaluate(test_feats,test_targs)"
   ],
   "metadata": {
    "collapsed": false,
    "pycharm": {
     "name": "#%%\n"
    }
   }
  },
  {
   "cell_type": "code",
   "execution_count": 15,
   "outputs": [
    {
     "name": "stdout",
     "output_type": "stream",
     "text": [
      "223/223 [==============================] - 0s 853us/step\n"
     ]
    }
   ],
   "source": [
    "CNNpreds=CNNv3.predict(test_feats)\n",
    "CNNpreds=CNNpreds>0.5"
   ],
   "metadata": {
    "collapsed": false,
    "pycharm": {
     "name": "#%%\n"
    }
   }
  },
  {
   "cell_type": "code",
   "execution_count": 71,
   "outputs": [
    {
     "name": "stdout",
     "output_type": "stream",
     "text": [
      "466/466 [==============================] - 0s 824us/step\n",
      "0.8643122676579925\n",
      "0.8700882117080995\n",
      "0.8662104133118625\n",
      "0.8671906220860529\n"
     ]
    }
   ],
   "source": [
    "CNNpreds=CNNv3.predict(test_feats)\n",
    "CNNpreds=CNNpreds>0.5\n",
    "print(precision_score(test_targs,CNNpreds))\n",
    "print(recall_score(test_targs,CNNpreds))\n",
    "print(accuracy_score(test_targs,CNNpreds))\n",
    "print(f1_score(test_targs,CNNpreds))"
   ],
   "metadata": {
    "collapsed": false,
    "pycharm": {
     "name": "#%%\n"
    }
   }
  },
  {
   "cell_type": "code",
   "execution_count": 72,
   "outputs": [],
   "source": [
    "from research.dataImporting import MLtools\n",
    "MLtools.save_model(CNNv3,\"ANN_LT80_wo_A1_A3_aug_added\")"
   ],
   "metadata": {
    "collapsed": false,
    "pycharm": {
     "name": "#%%\n"
    }
   }
  },
  {
   "cell_type": "markdown",
   "source": [
    "# CNN Deep Version"
   ],
   "metadata": {
    "collapsed": false,
    "pycharm": {
     "name": "#%% md\n"
    }
   }
  },
  {
   "cell_type": "code",
   "execution_count": 17,
   "outputs": [
    {
     "name": "stdout",
     "output_type": "stream",
     "text": [
      "Model: \"sequential_1\"\n",
      "_________________________________________________________________\n",
      " Layer (type)                Output Shape              Param #   \n",
      "=================================================================\n",
      " dense_1 (Dense)             (None, 80)                3280      \n",
      "                                                                 \n",
      " alpha_dropout_2 (AlphaDropo  (None, 80)               0         \n",
      " ut)                                                             \n",
      "                                                                 \n",
      " dense_2 (Dense)             (None, 80)                6480      \n",
      "                                                                 \n",
      " alpha_dropout_3 (AlphaDropo  (None, 80)               0         \n",
      " ut)                                                             \n",
      "                                                                 \n",
      " dense_3 (Dense)             (None, 80)                6480      \n",
      "                                                                 \n",
      " dense_4 (Dense)             (None, 40)                3240      \n",
      "                                                                 \n",
      " dense_5 (Dense)             (None, 20)                820       \n",
      "                                                                 \n",
      " dense_6 (Dense)             (None, 20)                420       \n",
      "                                                                 \n",
      " dense_7 (Dense)             (None, 20)                420       \n",
      "                                                                 \n",
      " dense_8 (Dense)             (None, 10)                210       \n",
      "                                                                 \n",
      " dense_9 (Dense)             (None, 10)                110       \n",
      "                                                                 \n",
      " dense_10 (Dense)            (None, 5)                 55        \n",
      "                                                                 \n",
      " dense_11 (Dense)            (None, 1)                 6         \n",
      "                                                                 \n",
      "=================================================================\n",
      "Total params: 21,521\n",
      "Trainable params: 21,521\n",
      "Non-trainable params: 0\n",
      "_________________________________________________________________\n",
      "Epoch 1/500\n",
      "712/712 [==============================] - 3s 2ms/step - loss: 0.6415 - accuracy: 0.6453 - val_loss: 0.6254 - val_accuracy: 0.6766 - lr: 0.0010\n",
      "Epoch 2/500\n",
      "712/712 [==============================] - 2s 2ms/step - loss: 0.6149 - accuracy: 0.6711 - val_loss: 0.6084 - val_accuracy: 0.6818 - lr: 0.0010\n",
      "Epoch 3/500\n",
      "712/712 [==============================] - 2s 2ms/step - loss: 0.6019 - accuracy: 0.6829 - val_loss: 0.5859 - val_accuracy: 0.7005 - lr: 0.0010\n",
      "Epoch 4/500\n",
      "712/712 [==============================] - 2s 2ms/step - loss: 0.5911 - accuracy: 0.6923 - val_loss: 0.5840 - val_accuracy: 0.7105 - lr: 0.0010\n",
      "Epoch 5/500\n",
      "712/712 [==============================] - 2s 2ms/step - loss: 0.5832 - accuracy: 0.6977 - val_loss: 0.5698 - val_accuracy: 0.7057 - lr: 0.0010\n",
      "Epoch 6/500\n",
      "712/712 [==============================] - 2s 2ms/step - loss: 0.5754 - accuracy: 0.7042 - val_loss: 0.5573 - val_accuracy: 0.7224 - lr: 0.0010\n",
      "Epoch 7/500\n",
      "712/712 [==============================] - 2s 2ms/step - loss: 0.5696 - accuracy: 0.7083 - val_loss: 0.5639 - val_accuracy: 0.7284 - lr: 0.0010\n",
      "Epoch 8/500\n",
      "712/712 [==============================] - 2s 2ms/step - loss: 0.5627 - accuracy: 0.7121 - val_loss: 0.5413 - val_accuracy: 0.7214 - lr: 0.0010\n",
      "Epoch 9/500\n",
      "712/712 [==============================] - 2s 2ms/step - loss: 0.5545 - accuracy: 0.7166 - val_loss: 0.5268 - val_accuracy: 0.7397 - lr: 0.0010\n",
      "Epoch 10/500\n",
      "712/712 [==============================] - 2s 2ms/step - loss: 0.5505 - accuracy: 0.7213 - val_loss: 0.5446 - val_accuracy: 0.7217 - lr: 0.0010\n",
      "Epoch 11/500\n",
      "712/712 [==============================] - 2s 2ms/step - loss: 0.5438 - accuracy: 0.7243 - val_loss: 0.5394 - val_accuracy: 0.7363 - lr: 0.0010\n",
      "Epoch 12/500\n",
      "712/712 [==============================] - 2s 2ms/step - loss: 0.5401 - accuracy: 0.7277 - val_loss: 0.5509 - val_accuracy: 0.7460 - lr: 0.0010\n",
      "Epoch 13/500\n",
      "712/712 [==============================] - 2s 2ms/step - loss: 0.5348 - accuracy: 0.7301 - val_loss: 0.5488 - val_accuracy: 0.7414 - lr: 0.0010\n",
      "Epoch 14/500\n",
      "712/712 [==============================] - 2s 2ms/step - loss: 0.5307 - accuracy: 0.7349 - val_loss: 0.5433 - val_accuracy: 0.7432 - lr: 0.0010\n",
      "Epoch 15/500\n",
      "712/712 [==============================] - 2s 2ms/step - loss: 0.5280 - accuracy: 0.7344 - val_loss: 0.5400 - val_accuracy: 0.7455 - lr: 0.0010\n",
      "Epoch 16/500\n",
      "712/712 [==============================] - 2s 2ms/step - loss: 0.5233 - accuracy: 0.7374 - val_loss: 0.5122 - val_accuracy: 0.7518 - lr: 0.0010\n",
      "Epoch 17/500\n",
      "712/712 [==============================] - 2s 2ms/step - loss: 0.5184 - accuracy: 0.7392 - val_loss: 0.5162 - val_accuracy: 0.7590 - lr: 0.0010\n",
      "Epoch 18/500\n",
      "712/712 [==============================] - 2s 2ms/step - loss: 0.5160 - accuracy: 0.7390 - val_loss: 0.5174 - val_accuracy: 0.7530 - lr: 0.0010\n",
      "Epoch 19/500\n",
      "712/712 [==============================] - 2s 2ms/step - loss: 0.5114 - accuracy: 0.7454 - val_loss: 0.5047 - val_accuracy: 0.7611 - lr: 0.0010\n",
      "Epoch 20/500\n",
      "712/712 [==============================] - 2s 2ms/step - loss: 0.5069 - accuracy: 0.7497 - val_loss: 0.5101 - val_accuracy: 0.7602 - lr: 0.0010\n",
      "Epoch 21/500\n",
      "712/712 [==============================] - 2s 2ms/step - loss: 0.5006 - accuracy: 0.7549 - val_loss: 0.5150 - val_accuracy: 0.7599 - lr: 0.0010\n",
      "Epoch 22/500\n",
      "712/712 [==============================] - 2s 2ms/step - loss: 0.5007 - accuracy: 0.7525 - val_loss: 0.5106 - val_accuracy: 0.7715 - lr: 0.0010\n",
      "Epoch 23/500\n",
      "712/712 [==============================] - 2s 2ms/step - loss: 0.4988 - accuracy: 0.7519 - val_loss: 0.5122 - val_accuracy: 0.7634 - lr: 0.0010\n",
      "Epoch 24/500\n",
      "712/712 [==============================] - 2s 2ms/step - loss: 0.4956 - accuracy: 0.7559 - val_loss: 0.5396 - val_accuracy: 0.7634 - lr: 0.0010\n",
      "Epoch 25/500\n",
      "712/712 [==============================] - 2s 2ms/step - loss: 0.4930 - accuracy: 0.7593 - val_loss: 0.4817 - val_accuracy: 0.7761 - lr: 0.0010\n",
      "Epoch 26/500\n",
      "712/712 [==============================] - 2s 3ms/step - loss: 0.4881 - accuracy: 0.7608 - val_loss: 0.5057 - val_accuracy: 0.7711 - lr: 0.0010\n",
      "Epoch 27/500\n",
      "712/712 [==============================] - 2s 2ms/step - loss: 0.4868 - accuracy: 0.7620 - val_loss: 0.5041 - val_accuracy: 0.7776 - lr: 0.0010\n",
      "Epoch 28/500\n",
      "712/712 [==============================] - 2s 2ms/step - loss: 0.4845 - accuracy: 0.7660 - val_loss: 0.4928 - val_accuracy: 0.7761 - lr: 0.0010\n",
      "Epoch 29/500\n",
      "712/712 [==============================] - 2s 2ms/step - loss: 0.4817 - accuracy: 0.7637 - val_loss: 0.4941 - val_accuracy: 0.7780 - lr: 0.0010\n",
      "Epoch 30/500\n",
      "712/712 [==============================] - 2s 2ms/step - loss: 0.4802 - accuracy: 0.7673 - val_loss: 0.4866 - val_accuracy: 0.7861 - lr: 0.0010\n",
      "Epoch 31/500\n",
      "712/712 [==============================] - 2s 2ms/step - loss: 0.4787 - accuracy: 0.7686 - val_loss: 0.4838 - val_accuracy: 0.7841 - lr: 0.0010\n",
      "Epoch 32/500\n",
      "712/712 [==============================] - 2s 2ms/step - loss: 0.4744 - accuracy: 0.7698 - val_loss: 0.4814 - val_accuracy: 0.7771 - lr: 0.0010\n",
      "Epoch 33/500\n",
      "712/712 [==============================] - 2s 2ms/step - loss: 0.4719 - accuracy: 0.7728 - val_loss: 0.4739 - val_accuracy: 0.7845 - lr: 0.0010\n",
      "Epoch 34/500\n",
      "712/712 [==============================] - 2s 2ms/step - loss: 0.4696 - accuracy: 0.7727 - val_loss: 0.4855 - val_accuracy: 0.7870 - lr: 0.0010\n",
      "Epoch 35/500\n",
      "712/712 [==============================] - 2s 2ms/step - loss: 0.4675 - accuracy: 0.7730 - val_loss: 0.4756 - val_accuracy: 0.7840 - lr: 0.0010\n",
      "Epoch 36/500\n",
      "712/712 [==============================] - 2s 2ms/step - loss: 0.4632 - accuracy: 0.7763 - val_loss: 0.4673 - val_accuracy: 0.7877 - lr: 0.0010\n",
      "Epoch 37/500\n",
      "712/712 [==============================] - 2s 2ms/step - loss: 0.4598 - accuracy: 0.7810 - val_loss: 0.4715 - val_accuracy: 0.7896 - lr: 0.0010\n",
      "Epoch 38/500\n",
      "712/712 [==============================] - 2s 2ms/step - loss: 0.4619 - accuracy: 0.7753 - val_loss: 0.4594 - val_accuracy: 0.7910 - lr: 0.0010\n",
      "Epoch 39/500\n",
      "712/712 [==============================] - 2s 2ms/step - loss: 0.4610 - accuracy: 0.7773 - val_loss: 0.4719 - val_accuracy: 0.7921 - lr: 0.0010\n",
      "Epoch 40/500\n",
      "712/712 [==============================] - 2s 2ms/step - loss: 0.4544 - accuracy: 0.7854 - val_loss: 0.4531 - val_accuracy: 0.7975 - lr: 0.0010\n",
      "Epoch 41/500\n",
      "712/712 [==============================] - 2s 2ms/step - loss: 0.4550 - accuracy: 0.7816 - val_loss: 0.4853 - val_accuracy: 0.7845 - lr: 0.0010\n",
      "Epoch 42/500\n",
      "712/712 [==============================] - 2s 2ms/step - loss: 0.4518 - accuracy: 0.7832 - val_loss: 0.4722 - val_accuracy: 0.7959 - lr: 0.0010\n",
      "Epoch 43/500\n",
      "712/712 [==============================] - 2s 2ms/step - loss: 0.4518 - accuracy: 0.7843 - val_loss: 0.4589 - val_accuracy: 0.7998 - lr: 0.0010\n",
      "Epoch 44/500\n",
      "712/712 [==============================] - 2s 2ms/step - loss: 0.4481 - accuracy: 0.7847 - val_loss: 0.4728 - val_accuracy: 0.7957 - lr: 0.0010\n",
      "Epoch 45/500\n",
      "712/712 [==============================] - 2s 2ms/step - loss: 0.4477 - accuracy: 0.7838 - val_loss: 0.4876 - val_accuracy: 0.7956 - lr: 0.0010\n",
      "Epoch 46/500\n",
      "712/712 [==============================] - 2s 2ms/step - loss: 0.4483 - accuracy: 0.7867 - val_loss: 0.4625 - val_accuracy: 0.7940 - lr: 0.0010\n",
      "Epoch 47/500\n",
      "712/712 [==============================] - 2s 2ms/step - loss: 0.4470 - accuracy: 0.7888 - val_loss: 0.4663 - val_accuracy: 0.7968 - lr: 0.0010\n",
      "Epoch 48/500\n",
      "712/712 [==============================] - 2s 2ms/step - loss: 0.4439 - accuracy: 0.7865 - val_loss: 0.4594 - val_accuracy: 0.8040 - lr: 0.0010\n",
      "Epoch 49/500\n",
      "712/712 [==============================] - 2s 2ms/step - loss: 0.4406 - accuracy: 0.7913 - val_loss: 0.4500 - val_accuracy: 0.7954 - lr: 0.0010\n",
      "Epoch 50/500\n",
      "712/712 [==============================] - 2s 2ms/step - loss: 0.4399 - accuracy: 0.7866 - val_loss: 0.4346 - val_accuracy: 0.7987 - lr: 0.0010\n",
      "Epoch 51/500\n",
      "712/712 [==============================] - 2s 2ms/step - loss: 0.4381 - accuracy: 0.7924 - val_loss: 0.4322 - val_accuracy: 0.8079 - lr: 0.0010\n",
      "Epoch 52/500\n",
      "712/712 [==============================] - 2s 2ms/step - loss: 0.4341 - accuracy: 0.7958 - val_loss: 0.4580 - val_accuracy: 0.8014 - lr: 0.0010\n",
      "Epoch 53/500\n",
      "712/712 [==============================] - 2s 2ms/step - loss: 0.4315 - accuracy: 0.7952 - val_loss: 0.4402 - val_accuracy: 0.8058 - lr: 0.0010\n",
      "Epoch 54/500\n",
      "712/712 [==============================] - 2s 2ms/step - loss: 0.4334 - accuracy: 0.7955 - val_loss: 0.4410 - val_accuracy: 0.8093 - lr: 0.0010\n",
      "Epoch 55/500\n",
      "712/712 [==============================] - 2s 2ms/step - loss: 0.4313 - accuracy: 0.7978 - val_loss: 0.4444 - val_accuracy: 0.8079 - lr: 0.0010\n",
      "Epoch 56/500\n",
      "712/712 [==============================] - 2s 3ms/step - loss: 0.4299 - accuracy: 0.7960 - val_loss: 0.4648 - val_accuracy: 0.8081 - lr: 0.0010\n",
      "Epoch 57/500\n",
      "712/712 [==============================] - 2s 3ms/step - loss: 0.4272 - accuracy: 0.7979 - val_loss: 0.4553 - val_accuracy: 0.8056 - lr: 0.0010\n",
      "Epoch 58/500\n",
      "712/712 [==============================] - 2s 2ms/step - loss: 0.4242 - accuracy: 0.8010 - val_loss: 0.4613 - val_accuracy: 0.8119 - lr: 0.0010\n",
      "Epoch 59/500\n",
      "712/712 [==============================] - 2s 2ms/step - loss: 0.4272 - accuracy: 0.8002 - val_loss: 0.4394 - val_accuracy: 0.8114 - lr: 0.0010\n",
      "Epoch 60/500\n",
      "712/712 [==============================] - 2s 2ms/step - loss: 0.4260 - accuracy: 0.7973 - val_loss: 0.4396 - val_accuracy: 0.8079 - lr: 0.0010\n",
      "Epoch 61/500\n",
      "712/712 [==============================] - 2s 2ms/step - loss: 0.4262 - accuracy: 0.7967 - val_loss: 0.4501 - val_accuracy: 0.8086 - lr: 0.0010\n",
      "Epoch 62/500\n",
      "712/712 [==============================] - 2s 2ms/step - loss: 0.4230 - accuracy: 0.8033 - val_loss: 0.4500 - val_accuracy: 0.8044 - lr: 0.0010\n",
      "Epoch 63/500\n",
      "712/712 [==============================] - 2s 2ms/step - loss: 0.4202 - accuracy: 0.8049 - val_loss: 0.4301 - val_accuracy: 0.8151 - lr: 0.0010\n",
      "Epoch 64/500\n",
      "712/712 [==============================] - 2s 2ms/step - loss: 0.4201 - accuracy: 0.8008 - val_loss: 0.4394 - val_accuracy: 0.8149 - lr: 0.0010\n",
      "Epoch 65/500\n",
      "712/712 [==============================] - 2s 2ms/step - loss: 0.4162 - accuracy: 0.8061 - val_loss: 0.4685 - val_accuracy: 0.8146 - lr: 0.0010\n",
      "Epoch 66/500\n",
      "712/712 [==============================] - 2s 2ms/step - loss: 0.4167 - accuracy: 0.8018 - val_loss: 0.4408 - val_accuracy: 0.8139 - lr: 0.0010\n",
      "Epoch 67/500\n",
      "712/712 [==============================] - 2s 2ms/step - loss: 0.4150 - accuracy: 0.8047 - val_loss: 0.4218 - val_accuracy: 0.8195 - lr: 0.0010\n",
      "Epoch 68/500\n",
      "712/712 [==============================] - 2s 2ms/step - loss: 0.4193 - accuracy: 0.8036 - val_loss: 0.4464 - val_accuracy: 0.8124 - lr: 0.0010\n",
      "Epoch 69/500\n",
      "712/712 [==============================] - 2s 2ms/step - loss: 0.4124 - accuracy: 0.8064 - val_loss: 0.4307 - val_accuracy: 0.8160 - lr: 0.0010\n",
      "Epoch 70/500\n",
      "712/712 [==============================] - 2s 2ms/step - loss: 0.4118 - accuracy: 0.8101 - val_loss: 0.4436 - val_accuracy: 0.8096 - lr: 0.0010\n",
      "Epoch 71/500\n",
      "712/712 [==============================] - 2s 2ms/step - loss: 0.4108 - accuracy: 0.8066 - val_loss: 0.4291 - val_accuracy: 0.8207 - lr: 0.0010\n",
      "Epoch 72/500\n",
      "712/712 [==============================] - 2s 2ms/step - loss: 0.4144 - accuracy: 0.8067 - val_loss: 0.4301 - val_accuracy: 0.8198 - lr: 0.0010\n",
      "Epoch 73/500\n",
      "712/712 [==============================] - 2s 2ms/step - loss: 0.4119 - accuracy: 0.8065 - val_loss: 0.4161 - val_accuracy: 0.8170 - lr: 0.0010\n",
      "Epoch 74/500\n",
      "712/712 [==============================] - 2s 2ms/step - loss: 0.4077 - accuracy: 0.8109 - val_loss: 0.4242 - val_accuracy: 0.8144 - lr: 0.0010\n",
      "Epoch 75/500\n",
      "712/712 [==============================] - 2s 2ms/step - loss: 0.4064 - accuracy: 0.8101 - val_loss: 0.4246 - val_accuracy: 0.8175 - lr: 0.0010\n",
      "Epoch 76/500\n",
      "712/712 [==============================] - 2s 2ms/step - loss: 0.4088 - accuracy: 0.8071 - val_loss: 0.4318 - val_accuracy: 0.8198 - lr: 0.0010\n",
      "Epoch 77/500\n",
      "712/712 [==============================] - 2s 2ms/step - loss: 0.4044 - accuracy: 0.8123 - val_loss: 0.4274 - val_accuracy: 0.8211 - lr: 0.0010\n",
      "Epoch 78/500\n",
      "712/712 [==============================] - 2s 2ms/step - loss: 0.4064 - accuracy: 0.8138 - val_loss: 0.4268 - val_accuracy: 0.8147 - lr: 0.0010\n",
      "Epoch 79/500\n",
      "712/712 [==============================] - 2s 2ms/step - loss: 0.4058 - accuracy: 0.8096 - val_loss: 0.4360 - val_accuracy: 0.8149 - lr: 0.0010\n",
      "Epoch 80/500\n",
      "712/712 [==============================] - 2s 2ms/step - loss: 0.4026 - accuracy: 0.8128 - val_loss: 0.4433 - val_accuracy: 0.8200 - lr: 0.0010\n",
      "Epoch 81/500\n",
      "712/712 [==============================] - 2s 2ms/step - loss: 0.4026 - accuracy: 0.8124 - val_loss: 0.4208 - val_accuracy: 0.8204 - lr: 0.0010\n",
      "Epoch 82/500\n",
      "712/712 [==============================] - 2s 2ms/step - loss: 0.3986 - accuracy: 0.8145 - val_loss: 0.4269 - val_accuracy: 0.8163 - lr: 0.0010\n",
      "Epoch 83/500\n",
      "712/712 [==============================] - 2s 2ms/step - loss: 0.3999 - accuracy: 0.8158 - val_loss: 0.4406 - val_accuracy: 0.8146 - lr: 0.0010\n",
      "Epoch 84/500\n",
      "712/712 [==============================] - 2s 3ms/step - loss: 0.3999 - accuracy: 0.8138 - val_loss: 0.4259 - val_accuracy: 0.8260 - lr: 0.0010\n",
      "Epoch 85/500\n",
      "712/712 [==============================] - 2s 3ms/step - loss: 0.3999 - accuracy: 0.8156 - val_loss: 0.4150 - val_accuracy: 0.8212 - lr: 0.0010\n",
      "Epoch 86/500\n",
      "712/712 [==============================] - 2s 2ms/step - loss: 0.3992 - accuracy: 0.8155 - val_loss: 0.4231 - val_accuracy: 0.8235 - lr: 0.0010\n",
      "Epoch 87/500\n",
      "712/712 [==============================] - 2s 2ms/step - loss: 0.4023 - accuracy: 0.8096 - val_loss: 0.4266 - val_accuracy: 0.8228 - lr: 0.0010\n",
      "Epoch 88/500\n",
      "712/712 [==============================] - 2s 2ms/step - loss: 0.3967 - accuracy: 0.8169 - val_loss: 0.4151 - val_accuracy: 0.8253 - lr: 0.0010\n",
      "Epoch 89/500\n",
      "712/712 [==============================] - 2s 2ms/step - loss: 0.3961 - accuracy: 0.8160 - val_loss: 0.4211 - val_accuracy: 0.8262 - lr: 0.0010\n",
      "Epoch 90/500\n",
      "712/712 [==============================] - 2s 2ms/step - loss: 0.3956 - accuracy: 0.8181 - val_loss: 0.4380 - val_accuracy: 0.8204 - lr: 0.0010\n",
      "Epoch 91/500\n",
      "712/712 [==============================] - 2s 2ms/step - loss: 0.3931 - accuracy: 0.8183 - val_loss: 0.4333 - val_accuracy: 0.8226 - lr: 0.0010\n",
      "Epoch 92/500\n",
      "712/712 [==============================] - 2s 2ms/step - loss: 0.3951 - accuracy: 0.8167 - val_loss: 0.4156 - val_accuracy: 0.8242 - lr: 0.0010\n",
      "Epoch 93/500\n",
      "712/712 [==============================] - 2s 2ms/step - loss: 0.3920 - accuracy: 0.8163 - val_loss: 0.4104 - val_accuracy: 0.8255 - lr: 0.0010\n",
      "Epoch 94/500\n",
      "712/712 [==============================] - 2s 2ms/step - loss: 0.3915 - accuracy: 0.8169 - val_loss: 0.4244 - val_accuracy: 0.8246 - lr: 0.0010\n",
      "Epoch 95/500\n",
      "712/712 [==============================] - 2s 2ms/step - loss: 0.3950 - accuracy: 0.8162 - val_loss: 0.4105 - val_accuracy: 0.8258 - lr: 0.0010\n",
      "Epoch 96/500\n",
      "712/712 [==============================] - 2s 2ms/step - loss: 0.3919 - accuracy: 0.8177 - val_loss: 0.4053 - val_accuracy: 0.8251 - lr: 0.0010\n",
      "Epoch 97/500\n",
      "712/712 [==============================] - 2s 2ms/step - loss: 0.3953 - accuracy: 0.8177 - val_loss: 0.4208 - val_accuracy: 0.8242 - lr: 0.0010\n",
      "Epoch 98/500\n",
      "712/712 [==============================] - 2s 2ms/step - loss: 0.3900 - accuracy: 0.8192 - val_loss: 0.4186 - val_accuracy: 0.8288 - lr: 0.0010\n",
      "Epoch 99/500\n",
      "712/712 [==============================] - 2s 2ms/step - loss: 0.3902 - accuracy: 0.8189 - val_loss: 0.4172 - val_accuracy: 0.8218 - lr: 0.0010\n",
      "Epoch 100/500\n",
      "712/712 [==============================] - 2s 2ms/step - loss: 0.3885 - accuracy: 0.8210 - val_loss: 0.4133 - val_accuracy: 0.8277 - lr: 0.0010\n",
      "Epoch 101/500\n",
      "712/712 [==============================] - 2s 2ms/step - loss: 0.3911 - accuracy: 0.8203 - val_loss: 0.4164 - val_accuracy: 0.8262 - lr: 0.0010\n",
      "Epoch 102/500\n",
      "712/712 [==============================] - 2s 2ms/step - loss: 0.3874 - accuracy: 0.8221 - val_loss: 0.4134 - val_accuracy: 0.8302 - lr: 0.0010\n",
      "Epoch 103/500\n",
      "712/712 [==============================] - 2s 2ms/step - loss: 0.3861 - accuracy: 0.8194 - val_loss: 0.4192 - val_accuracy: 0.8318 - lr: 0.0010\n",
      "Epoch 104/500\n",
      "712/712 [==============================] - 2s 2ms/step - loss: 0.3872 - accuracy: 0.8215 - val_loss: 0.4182 - val_accuracy: 0.8298 - lr: 0.0010\n",
      "Epoch 105/500\n",
      "712/712 [==============================] - 2s 2ms/step - loss: 0.3865 - accuracy: 0.8215 - val_loss: 0.4243 - val_accuracy: 0.8251 - lr: 0.0010\n",
      "Epoch 106/500\n",
      "712/712 [==============================] - 2s 2ms/step - loss: 0.3809 - accuracy: 0.8247 - val_loss: 0.4339 - val_accuracy: 0.8325 - lr: 0.0010\n",
      "Epoch 107/500\n",
      "712/712 [==============================] - 2s 2ms/step - loss: 0.3889 - accuracy: 0.8201 - val_loss: 0.4121 - val_accuracy: 0.8306 - lr: 0.0010\n",
      "Epoch 108/500\n",
      "712/712 [==============================] - 2s 2ms/step - loss: 0.3836 - accuracy: 0.8230 - val_loss: 0.4350 - val_accuracy: 0.8223 - lr: 0.0010\n",
      "Epoch 109/500\n",
      "712/712 [==============================] - 2s 2ms/step - loss: 0.3808 - accuracy: 0.8260 - val_loss: 0.4139 - val_accuracy: 0.8284 - lr: 0.0010\n",
      "Epoch 110/500\n",
      "712/712 [==============================] - 2s 2ms/step - loss: 0.3834 - accuracy: 0.8217 - val_loss: 0.4284 - val_accuracy: 0.8291 - lr: 0.0010\n",
      "Epoch 111/500\n",
      "712/712 [==============================] - 2s 2ms/step - loss: 0.3812 - accuracy: 0.8235 - val_loss: 0.4232 - val_accuracy: 0.8265 - lr: 0.0010\n",
      "Epoch 112/500\n",
      "712/712 [==============================] - 2s 3ms/step - loss: 0.3834 - accuracy: 0.8260 - val_loss: 0.4227 - val_accuracy: 0.8286 - lr: 0.0010\n",
      "Epoch 113/500\n",
      "712/712 [==============================] - 2s 2ms/step - loss: 0.3840 - accuracy: 0.8204 - val_loss: 0.4148 - val_accuracy: 0.8272 - lr: 0.0010\n",
      "Epoch 114/500\n",
      "712/712 [==============================] - 2s 2ms/step - loss: 0.3841 - accuracy: 0.8227 - val_loss: 0.4272 - val_accuracy: 0.8276 - lr: 0.0010\n",
      "Epoch 115/500\n",
      "712/712 [==============================] - 2s 2ms/step - loss: 0.3813 - accuracy: 0.8248 - val_loss: 0.4145 - val_accuracy: 0.8288 - lr: 0.0010\n",
      "Epoch 116/500\n",
      "705/712 [============================>.] - ETA: 0s - loss: 0.3802 - accuracy: 0.8246\n",
      "Epoch 116: ReduceLROnPlateau reducing learning rate to 0.00010000000474974513.\n",
      "712/712 [==============================] - 2s 2ms/step - loss: 0.3804 - accuracy: 0.8244 - val_loss: 0.4143 - val_accuracy: 0.8277 - lr: 0.0010\n",
      "Epoch 117/500\n",
      "712/712 [==============================] - 2s 2ms/step - loss: 0.3748 - accuracy: 0.8288 - val_loss: 0.4131 - val_accuracy: 0.8335 - lr: 1.0000e-04\n",
      "Epoch 118/500\n",
      "712/712 [==============================] - 2s 2ms/step - loss: 0.3709 - accuracy: 0.8307 - val_loss: 0.4158 - val_accuracy: 0.8351 - lr: 1.0000e-04\n",
      "Epoch 119/500\n",
      "712/712 [==============================] - 2s 2ms/step - loss: 0.3714 - accuracy: 0.8305 - val_loss: 0.4135 - val_accuracy: 0.8341 - lr: 1.0000e-04\n",
      "Epoch 120/500\n",
      "712/712 [==============================] - 2s 2ms/step - loss: 0.3680 - accuracy: 0.8335 - val_loss: 0.4155 - val_accuracy: 0.8344 - lr: 1.0000e-04\n",
      "Epoch 121/500\n",
      "712/712 [==============================] - 2s 2ms/step - loss: 0.3689 - accuracy: 0.8300 - val_loss: 0.4154 - val_accuracy: 0.8341 - lr: 1.0000e-04\n",
      "Epoch 122/500\n",
      "712/712 [==============================] - 2s 2ms/step - loss: 0.3667 - accuracy: 0.8317 - val_loss: 0.4121 - val_accuracy: 0.8325 - lr: 1.0000e-04\n",
      "Epoch 123/500\n",
      "712/712 [==============================] - 2s 2ms/step - loss: 0.3669 - accuracy: 0.8315 - val_loss: 0.4142 - val_accuracy: 0.8341 - lr: 1.0000e-04\n",
      "Epoch 124/500\n",
      "712/712 [==============================] - 2s 2ms/step - loss: 0.3662 - accuracy: 0.8312 - val_loss: 0.4155 - val_accuracy: 0.8349 - lr: 1.0000e-04\n",
      "Epoch 125/500\n",
      "712/712 [==============================] - 2s 2ms/step - loss: 0.3643 - accuracy: 0.8326 - val_loss: 0.4132 - val_accuracy: 0.8353 - lr: 1.0000e-04\n",
      "Epoch 126/500\n",
      "712/712 [==============================] - 2s 2ms/step - loss: 0.3654 - accuracy: 0.8305 - val_loss: 0.4127 - val_accuracy: 0.8339 - lr: 1.0000e-04\n",
      "Epoch 127/500\n",
      "712/712 [==============================] - 2s 2ms/step - loss: 0.3623 - accuracy: 0.8345 - val_loss: 0.4188 - val_accuracy: 0.8339 - lr: 1.0000e-04\n",
      "Epoch 128/500\n",
      "712/712 [==============================] - 2s 2ms/step - loss: 0.3623 - accuracy: 0.8347 - val_loss: 0.4112 - val_accuracy: 0.8346 - lr: 1.0000e-04\n",
      "Epoch 129/500\n",
      "712/712 [==============================] - 2s 2ms/step - loss: 0.3640 - accuracy: 0.8315 - val_loss: 0.4114 - val_accuracy: 0.8356 - lr: 1.0000e-04\n",
      "Epoch 130/500\n",
      "712/712 [==============================] - 2s 2ms/step - loss: 0.3653 - accuracy: 0.8324 - val_loss: 0.4110 - val_accuracy: 0.8341 - lr: 1.0000e-04\n",
      "Epoch 131/500\n",
      "712/712 [==============================] - 2s 2ms/step - loss: 0.3651 - accuracy: 0.8327 - val_loss: 0.4113 - val_accuracy: 0.8349 - lr: 1.0000e-04\n",
      "Epoch 132/500\n",
      "712/712 [==============================] - 2s 2ms/step - loss: 0.3636 - accuracy: 0.8333 - val_loss: 0.4128 - val_accuracy: 0.8344 - lr: 1.0000e-04\n",
      "Epoch 133/500\n",
      "712/712 [==============================] - 2s 2ms/step - loss: 0.3630 - accuracy: 0.8339 - val_loss: 0.4082 - val_accuracy: 0.8353 - lr: 1.0000e-04\n",
      "Epoch 134/500\n",
      "712/712 [==============================] - 2s 2ms/step - loss: 0.3666 - accuracy: 0.8332 - val_loss: 0.4114 - val_accuracy: 0.8348 - lr: 1.0000e-04\n",
      "Epoch 135/500\n",
      "712/712 [==============================] - 2s 2ms/step - loss: 0.3649 - accuracy: 0.8349 - val_loss: 0.4085 - val_accuracy: 0.8360 - lr: 1.0000e-04\n",
      "Epoch 136/500\n",
      "708/712 [============================>.] - ETA: 0s - loss: 0.3653 - accuracy: 0.8314\n",
      "Epoch 136: ReduceLROnPlateau reducing learning rate to 1.0000000474974514e-05.\n",
      "712/712 [==============================] - 2s 2ms/step - loss: 0.3651 - accuracy: 0.8315 - val_loss: 0.4101 - val_accuracy: 0.8335 - lr: 1.0000e-04\n"
     ]
    },
    {
     "data": {
      "text/plain": "<Figure size 432x288 with 1 Axes>",
      "image/png": "[encoded data removed]"
     },
     "metadata": {
      "needs_background": "light"
     },
     "output_type": "display_data"
    }
   ],
   "source": [
    "CNNv2=tf.keras.Sequential()\n",
    "CNNv2.add(Input(shape=(40)))\n",
    "CNNv2.add(Dense(80, activation='selu', name='dense_1',kernel_initializer='lecun_normal'))\n",
    "CNNv2.add(AlphaDropout(0.3))\n",
    "CNNv2.add(Dense(80, activation='selu', name='dense_2',kernel_initializer='lecun_normal'))\n",
    "CNNv2.add(AlphaDropout(0.2))\n",
    "CNNv2.add(Dense(80, activation='selu', name='dense_3',kernel_initializer='lecun_normal'))\n",
    "# CNNv3.add(AlphaDropout(0.2))\n",
    "CNNv2.add(Dense(40, activation='selu', name='dense_4',kernel_initializer='lecun_normal'))\n",
    "CNNv2.add(Dense(20, activation='selu', name='dense_5',kernel_initializer='lecun_normal'))\n",
    "CNNv2.add(Dense(20, activation='selu', name='dense_6',kernel_initializer='lecun_normal'))\n",
    "CNNv2.add(Dense(20, activation='selu', name='dense_7',kernel_initializer='lecun_normal'))\n",
    "CNNv2.add(Dense(10, activation='selu', name='dense_8',kernel_initializer='lecun_normal'))\n",
    "CNNv2.add(Dense(10, activation='selu', name='dense_9',kernel_initializer='lecun_normal'))\n",
    "CNNv2.add(Dense(5, activation='selu', name='dense_10',kernel_initializer='lecun_normal'))\n",
    "CNNv2.add(Dense(1, activation='sigmoid', name='dense_11'))\n",
    "#dist = Dense(1, activation='sigmoid', name='dense_2')(hidden)\n",
    "CNNv2.summary()\n",
    "CNNv2.compile(optimizer='nadam',\n",
    "    loss=tf.keras.losses.BinaryCrossentropy(from_logits=False),\n",
    "    metrics=['accuracy'],)\n",
    "# Train classifier\n",
    "reduceLR = tf.keras.callbacks.ReduceLROnPlateau(monitor='val_loss', factor=0.1,\n",
    "                                 verbose=1, patience=20, mode='auto')\n",
    "early = tf.keras.callbacks.EarlyStopping(monitor='val_loss', min_delta=1e-4,\n",
    "                          patience=40, mode='auto', restore_best_weights=True)\n",
    "history = CNNv2.fit(train_feats, train_targs,\n",
    "                      epochs=500,\n",
    "                      batch_size=32,\n",
    "                      shuffle=True,\n",
    "                      validation_split=0.2,\n",
    "                      callbacks=[reduceLR, early])\n",
    "plt.plot(history.history['loss'])\n",
    "plt.plot(history.history['val_loss'])\n",
    "plt.title('Learning Curves')\n",
    "plt.legend(['Training Loss', 'Validation Loss'])\n",
    "plt.ylabel('Binary Crossentropy')\n",
    "plt.xlabel('Epoch Number')\n",
    "plt.show()"
   ],
   "metadata": {
    "collapsed": false,
    "pycharm": {
     "name": "#%%\n"
    }
   }
  },
  {
   "cell_type": "code",
   "execution_count": 75,
   "outputs": [
    {
     "ename": "NameError",
     "evalue": "name 'CNNv2' is not defined",
     "output_type": "error",
     "traceback": [
      "\u001B[1;31m---------------------------------------------------------------------------\u001B[0m",
      "\u001B[1;31mNameError\u001B[0m                                 Traceback (most recent call last)",
      "Input \u001B[1;32mIn [75]\u001B[0m, in \u001B[0;36m<cell line: 1>\u001B[1;34m()\u001B[0m\n\u001B[1;32m----> 1\u001B[0m CNNpredsv2\u001B[38;5;241m=\u001B[39m\u001B[43mCNNv2\u001B[49m\u001B[38;5;241m.\u001B[39mpredict(test_feats)\n\u001B[0;32m      2\u001B[0m CNNpredsv2\u001B[38;5;241m=\u001B[39mCNNpredsv2\u001B[38;5;241m>\u001B[39m\u001B[38;5;241m0.5\u001B[39m\n\u001B[0;32m      3\u001B[0m \u001B[38;5;28mprint\u001B[39m(precision_score(test_targs,CNNpredsv2))\n",
      "\u001B[1;31mNameError\u001B[0m: name 'CNNv2' is not defined"
     ]
    }
   ],
   "source": [
    "CNNpredsv2=CNNv2.predict(test_feats)\n",
    "CNNpredsv2=CNNpredsv2>0.5\n",
    "print(precision_score(test_targs,CNNpredsv2))\n",
    "print(recall_score(test_targs,CNNpredsv2))\n",
    "print(accuracy_score(test_targs,CNNpredsv2))\n",
    "print(f1_score(test_targs,CNNpredsv2))"
   ],
   "metadata": {
    "collapsed": false,
    "pycharm": {
     "name": "#%%\n"
    }
   }
  },
  {
   "cell_type": "markdown",
   "source": [
    "# CNN Wide"
   ],
   "metadata": {
    "collapsed": false,
    "pycharm": {
     "name": "#%% md\n"
    }
   }
  },
  {
   "cell_type": "code",
   "execution_count": 19,
   "outputs": [
    {
     "name": "stdout",
     "output_type": "stream",
     "text": [
      "Model: \"sequential_2\"\n",
      "_________________________________________________________________\n",
      " Layer (type)                Output Shape              Param #   \n",
      "=================================================================\n",
      " dense_1 (Dense)             (None, 1024)              41984     \n",
      "                                                                 \n",
      " alpha_dropout_4 (AlphaDropo  (None, 1024)             0         \n",
      " ut)                                                             \n",
      "                                                                 \n",
      " dense_2 (Dense)             (None, 512)               524800    \n",
      "                                                                 \n",
      " alpha_dropout_5 (AlphaDropo  (None, 512)              0         \n",
      " ut)                                                             \n",
      "                                                                 \n",
      " dense_3 (Dense)             (None, 256)               131328    \n",
      "                                                                 \n",
      " alpha_dropout_6 (AlphaDropo  (None, 256)              0         \n",
      " ut)                                                             \n",
      "                                                                 \n",
      " dense_6 (Dense)             (None, 1)                 257       \n",
      "                                                                 \n",
      "=================================================================\n",
      "Total params: 698,369\n",
      "Trainable params: 698,369\n",
      "Non-trainable params: 0\n",
      "_________________________________________________________________\n",
      "Epoch 1/500\n",
      "712/712 [==============================] - 10s 12ms/step - loss: 0.6966 - accuracy: 0.6254 - val_loss: 1.0109 - val_accuracy: 0.6894 - lr: 0.0010\n",
      "Epoch 2/500\n",
      "712/712 [==============================] - 9s 12ms/step - loss: 0.6075 - accuracy: 0.6763 - val_loss: 1.0558 - val_accuracy: 0.6887 - lr: 0.0010\n",
      "Epoch 3/500\n",
      "712/712 [==============================] - 14s 19ms/step - loss: 0.5912 - accuracy: 0.6876 - val_loss: 1.1862 - val_accuracy: 0.7151 - lr: 0.0010\n",
      "Epoch 4/500\n",
      "712/712 [==============================] - 11s 16ms/step - loss: 0.5763 - accuracy: 0.6981 - val_loss: 0.7963 - val_accuracy: 0.7158 - lr: 0.0010\n",
      "Epoch 5/500\n",
      "712/712 [==============================] - 11s 16ms/step - loss: 0.5613 - accuracy: 0.7106 - val_loss: 0.7377 - val_accuracy: 0.7281 - lr: 0.0010\n",
      "Epoch 6/500\n",
      "712/712 [==============================] - 10s 13ms/step - loss: 0.5486 - accuracy: 0.7220 - val_loss: 0.8208 - val_accuracy: 0.7376 - lr: 0.0010\n",
      "Epoch 7/500\n",
      "712/712 [==============================] - 9s 13ms/step - loss: 0.5333 - accuracy: 0.7300 - val_loss: 0.7716 - val_accuracy: 0.7518 - lr: 0.0010\n",
      "Epoch 8/500\n",
      "712/712 [==============================] - 10s 14ms/step - loss: 0.5232 - accuracy: 0.7362 - val_loss: 0.7874 - val_accuracy: 0.7509 - lr: 0.0010\n",
      "Epoch 9/500\n",
      "712/712 [==============================] - 10s 13ms/step - loss: 0.5161 - accuracy: 0.7405 - val_loss: 0.8226 - val_accuracy: 0.7506 - lr: 0.0010\n",
      "Epoch 10/500\n",
      "712/712 [==============================] - 10s 14ms/step - loss: 0.5015 - accuracy: 0.7548 - val_loss: 0.6554 - val_accuracy: 0.7673 - lr: 0.0010\n",
      "Epoch 11/500\n",
      "712/712 [==============================] - 10s 13ms/step - loss: 0.4954 - accuracy: 0.7569 - val_loss: 0.6026 - val_accuracy: 0.7701 - lr: 0.0010\n",
      "Epoch 12/500\n",
      "712/712 [==============================] - 10s 14ms/step - loss: 0.4861 - accuracy: 0.7627 - val_loss: 0.6606 - val_accuracy: 0.7747 - lr: 0.0010\n",
      "Epoch 13/500\n",
      "712/712 [==============================] - 9s 13ms/step - loss: 0.4792 - accuracy: 0.7662 - val_loss: 0.6797 - val_accuracy: 0.7813 - lr: 0.0010\n",
      "Epoch 14/500\n",
      "712/712 [==============================] - 10s 14ms/step - loss: 0.4658 - accuracy: 0.7709 - val_loss: 0.6643 - val_accuracy: 0.7736 - lr: 0.0010\n",
      "Epoch 15/500\n",
      "712/712 [==============================] - 10s 14ms/step - loss: 0.4606 - accuracy: 0.7760 - val_loss: 0.5851 - val_accuracy: 0.7928 - lr: 0.0010\n",
      "Epoch 16/500\n",
      "712/712 [==============================] - 10s 15ms/step - loss: 0.4552 - accuracy: 0.7788 - val_loss: 0.6117 - val_accuracy: 0.7761 - lr: 0.0010\n",
      "Epoch 17/500\n",
      "712/712 [==============================] - 10s 14ms/step - loss: 0.4461 - accuracy: 0.7853 - val_loss: 0.6845 - val_accuracy: 0.7963 - lr: 0.0010\n",
      "Epoch 18/500\n",
      "712/712 [==============================] - 10s 15ms/step - loss: 0.4439 - accuracy: 0.7862 - val_loss: 0.7176 - val_accuracy: 0.7887 - lr: 0.0010\n",
      "Epoch 19/500\n",
      "712/712 [==============================] - 10s 14ms/step - loss: 0.4374 - accuracy: 0.7885 - val_loss: 0.5800 - val_accuracy: 0.8000 - lr: 0.0010\n",
      "Epoch 20/500\n",
      "712/712 [==============================] - 10s 14ms/step - loss: 0.4291 - accuracy: 0.7924 - val_loss: 0.5638 - val_accuracy: 0.8044 - lr: 0.0010\n",
      "Epoch 21/500\n",
      "712/712 [==============================] - 9s 13ms/step - loss: 0.4296 - accuracy: 0.7946 - val_loss: 0.5826 - val_accuracy: 0.8098 - lr: 0.0010\n",
      "Epoch 22/500\n",
      "712/712 [==============================] - 9s 13ms/step - loss: 0.4170 - accuracy: 0.8000 - val_loss: 0.6263 - val_accuracy: 0.7936 - lr: 0.0010\n",
      "Epoch 23/500\n",
      "712/712 [==============================] - 9s 13ms/step - loss: 0.4086 - accuracy: 0.8039 - val_loss: 0.6120 - val_accuracy: 0.8110 - lr: 0.0010\n",
      "Epoch 24/500\n",
      "712/712 [==============================] - 9s 13ms/step - loss: 0.4054 - accuracy: 0.8057 - val_loss: 0.5681 - val_accuracy: 0.8112 - lr: 0.0010\n",
      "Epoch 25/500\n",
      "712/712 [==============================] - 9s 13ms/step - loss: 0.4000 - accuracy: 0.8105 - val_loss: 0.6133 - val_accuracy: 0.8154 - lr: 0.0010\n",
      "Epoch 26/500\n",
      "712/712 [==============================] - 9s 13ms/step - loss: 0.4012 - accuracy: 0.8101 - val_loss: 0.5619 - val_accuracy: 0.8209 - lr: 0.0010\n",
      "Epoch 27/500\n",
      "712/712 [==============================] - 9s 13ms/step - loss: 0.3920 - accuracy: 0.8160 - val_loss: 0.5687 - val_accuracy: 0.8216 - lr: 0.0010\n",
      "Epoch 28/500\n",
      "712/712 [==============================] - 9s 13ms/step - loss: 0.3928 - accuracy: 0.8131 - val_loss: 0.5421 - val_accuracy: 0.8214 - lr: 0.0010\n",
      "Epoch 29/500\n",
      "712/712 [==============================] - 9s 13ms/step - loss: 0.3806 - accuracy: 0.8221 - val_loss: 0.6366 - val_accuracy: 0.8255 - lr: 0.0010\n",
      "Epoch 30/500\n",
      "712/712 [==============================] - 10s 14ms/step - loss: 0.3800 - accuracy: 0.8223 - val_loss: 0.5990 - val_accuracy: 0.8235 - lr: 0.0010\n",
      "Epoch 31/500\n",
      "712/712 [==============================] - 9s 13ms/step - loss: 0.3801 - accuracy: 0.8198 - val_loss: 0.6376 - val_accuracy: 0.8193 - lr: 0.0010\n",
      "Epoch 32/500\n",
      "712/712 [==============================] - 9s 13ms/step - loss: 0.3743 - accuracy: 0.8246 - val_loss: 0.6429 - val_accuracy: 0.8179 - lr: 0.0010\n",
      "Epoch 33/500\n",
      "712/712 [==============================] - 9s 13ms/step - loss: 0.3714 - accuracy: 0.8248 - val_loss: 0.5328 - val_accuracy: 0.8311 - lr: 0.0010\n",
      "Epoch 34/500\n",
      "712/712 [==============================] - 9s 13ms/step - loss: 0.3674 - accuracy: 0.8296 - val_loss: 0.6261 - val_accuracy: 0.8230 - lr: 0.0010\n",
      "Epoch 35/500\n",
      "712/712 [==============================] - 9s 13ms/step - loss: 0.3646 - accuracy: 0.8308 - val_loss: 0.5677 - val_accuracy: 0.8239 - lr: 0.0010\n",
      "Epoch 36/500\n",
      "712/712 [==============================] - 10s 13ms/step - loss: 0.3648 - accuracy: 0.8310 - val_loss: 0.5792 - val_accuracy: 0.8290 - lr: 0.0010\n",
      "Epoch 37/500\n",
      "712/712 [==============================] - 9s 13ms/step - loss: 0.3543 - accuracy: 0.8356 - val_loss: 0.6409 - val_accuracy: 0.8270 - lr: 0.0010\n",
      "Epoch 38/500\n",
      "712/712 [==============================] - 9s 13ms/step - loss: 0.3567 - accuracy: 0.8329 - val_loss: 0.5385 - val_accuracy: 0.8272 - lr: 0.0010\n",
      "Epoch 39/500\n",
      "712/712 [==============================] - 9s 13ms/step - loss: 0.3495 - accuracy: 0.8376 - val_loss: 0.5874 - val_accuracy: 0.8378 - lr: 0.0010\n",
      "Epoch 40/500\n",
      "712/712 [==============================] - 9s 13ms/step - loss: 0.3470 - accuracy: 0.8388 - val_loss: 0.6012 - val_accuracy: 0.8288 - lr: 0.0010\n",
      "Epoch 41/500\n",
      "712/712 [==============================] - 9s 13ms/step - loss: 0.3418 - accuracy: 0.8427 - val_loss: 0.5876 - val_accuracy: 0.8328 - lr: 0.0010\n",
      "Epoch 42/500\n",
      "712/712 [==============================] - 9s 13ms/step - loss: 0.3363 - accuracy: 0.8427 - val_loss: 0.5990 - val_accuracy: 0.8427 - lr: 0.0010\n",
      "Epoch 43/500\n",
      "712/712 [==============================] - 9s 13ms/step - loss: 0.3424 - accuracy: 0.8415 - val_loss: 0.6275 - val_accuracy: 0.8369 - lr: 0.0010\n",
      "Epoch 44/500\n",
      "712/712 [==============================] - 9s 13ms/step - loss: 0.3404 - accuracy: 0.8424 - val_loss: 0.5771 - val_accuracy: 0.8341 - lr: 0.0010\n",
      "Epoch 45/500\n",
      "712/712 [==============================] - 9s 13ms/step - loss: 0.3290 - accuracy: 0.8486 - val_loss: 0.5923 - val_accuracy: 0.8406 - lr: 0.0010\n",
      "Epoch 46/500\n",
      "712/712 [==============================] - 9s 13ms/step - loss: 0.3333 - accuracy: 0.8465 - val_loss: 0.5815 - val_accuracy: 0.8416 - lr: 0.0010\n",
      "Epoch 47/500\n",
      "712/712 [==============================] - 9s 13ms/step - loss: 0.3272 - accuracy: 0.8518 - val_loss: 0.5785 - val_accuracy: 0.8422 - lr: 0.0010\n",
      "Epoch 48/500\n",
      "712/712 [==============================] - 10s 13ms/step - loss: 0.3265 - accuracy: 0.8495 - val_loss: 0.6610 - val_accuracy: 0.8388 - lr: 0.0010\n",
      "Epoch 49/500\n",
      "712/712 [==============================] - 9s 13ms/step - loss: 0.3248 - accuracy: 0.8483 - val_loss: 0.6014 - val_accuracy: 0.8448 - lr: 0.0010\n",
      "Epoch 50/500\n",
      "712/712 [==============================] - 9s 13ms/step - loss: 0.3201 - accuracy: 0.8492 - val_loss: 0.6126 - val_accuracy: 0.8423 - lr: 0.0010\n",
      "Epoch 51/500\n",
      "712/712 [==============================] - 9s 13ms/step - loss: 0.3225 - accuracy: 0.8532 - val_loss: 0.5978 - val_accuracy: 0.8416 - lr: 0.0010\n",
      "Epoch 52/500\n",
      "712/712 [==============================] - 9s 13ms/step - loss: 0.3206 - accuracy: 0.8527 - val_loss: 0.6426 - val_accuracy: 0.8425 - lr: 0.0010\n",
      "Epoch 53/500\n",
      "711/712 [============================>.] - ETA: 0s - loss: 0.3150 - accuracy: 0.8529\n",
      "Epoch 53: ReduceLROnPlateau reducing learning rate to 0.00010000000474974513.\n",
      "712/712 [==============================] - 9s 13ms/step - loss: 0.3149 - accuracy: 0.8529 - val_loss: 0.6405 - val_accuracy: 0.8430 - lr: 0.0010\n",
      "Epoch 54/500\n",
      "712/712 [==============================] - 9s 13ms/step - loss: 0.2966 - accuracy: 0.8638 - val_loss: 0.6134 - val_accuracy: 0.8465 - lr: 1.0000e-04\n",
      "Epoch 55/500\n",
      "712/712 [==============================] - 9s 13ms/step - loss: 0.2917 - accuracy: 0.8613 - val_loss: 0.6116 - val_accuracy: 0.8492 - lr: 1.0000e-04\n",
      "Epoch 56/500\n",
      "712/712 [==============================] - 9s 13ms/step - loss: 0.2878 - accuracy: 0.8690 - val_loss: 0.6053 - val_accuracy: 0.8511 - lr: 1.0000e-04\n",
      "Epoch 57/500\n",
      "712/712 [==============================] - 9s 13ms/step - loss: 0.2835 - accuracy: 0.8676 - val_loss: 0.6021 - val_accuracy: 0.8520 - lr: 1.0000e-04\n",
      "Epoch 58/500\n",
      "712/712 [==============================] - 9s 13ms/step - loss: 0.2855 - accuracy: 0.8680 - val_loss: 0.6017 - val_accuracy: 0.8534 - lr: 1.0000e-04\n",
      "Epoch 59/500\n",
      "712/712 [==============================] - 9s 13ms/step - loss: 0.2894 - accuracy: 0.8680 - val_loss: 0.5981 - val_accuracy: 0.8525 - lr: 1.0000e-04\n",
      "Epoch 60/500\n",
      "712/712 [==============================] - 9s 13ms/step - loss: 0.2773 - accuracy: 0.8727 - val_loss: 0.6058 - val_accuracy: 0.8543 - lr: 1.0000e-04\n",
      "Epoch 61/500\n",
      "712/712 [==============================] - 9s 13ms/step - loss: 0.2826 - accuracy: 0.8673 - val_loss: 0.6147 - val_accuracy: 0.8518 - lr: 1.0000e-04\n",
      "Epoch 62/500\n",
      "712/712 [==============================] - 10s 14ms/step - loss: 0.2777 - accuracy: 0.8752 - val_loss: 0.6130 - val_accuracy: 0.8541 - lr: 1.0000e-04\n",
      "Epoch 63/500\n",
      "712/712 [==============================] - 9s 13ms/step - loss: 0.2824 - accuracy: 0.8712 - val_loss: 0.6104 - val_accuracy: 0.8536 - lr: 1.0000e-04\n",
      "Epoch 64/500\n",
      "712/712 [==============================] - 9s 13ms/step - loss: 0.2761 - accuracy: 0.8739 - val_loss: 0.6312 - val_accuracy: 0.8545 - lr: 1.0000e-04\n",
      "Epoch 65/500\n",
      "712/712 [==============================] - 9s 13ms/step - loss: 0.2778 - accuracy: 0.8745 - val_loss: 0.6183 - val_accuracy: 0.8566 - lr: 1.0000e-04\n",
      "Epoch 66/500\n",
      "712/712 [==============================] - 9s 13ms/step - loss: 0.2741 - accuracy: 0.8767 - val_loss: 0.6178 - val_accuracy: 0.8543 - lr: 1.0000e-04\n",
      "Epoch 67/500\n",
      "712/712 [==============================] - 9s 13ms/step - loss: 0.2753 - accuracy: 0.8718 - val_loss: 0.6135 - val_accuracy: 0.8569 - lr: 1.0000e-04\n",
      "Epoch 68/500\n",
      "712/712 [==============================] - 10s 13ms/step - loss: 0.2721 - accuracy: 0.8748 - val_loss: 0.6250 - val_accuracy: 0.8553 - lr: 1.0000e-04\n",
      "Epoch 69/500\n",
      "712/712 [==============================] - 9s 13ms/step - loss: 0.2755 - accuracy: 0.8748 - val_loss: 0.6239 - val_accuracy: 0.8529 - lr: 1.0000e-04\n",
      "Epoch 70/500\n",
      "712/712 [==============================] - 10s 13ms/step - loss: 0.2707 - accuracy: 0.8741 - val_loss: 0.6223 - val_accuracy: 0.8553 - lr: 1.0000e-04\n",
      "Epoch 71/500\n",
      "712/712 [==============================] - 9s 13ms/step - loss: 0.2777 - accuracy: 0.8711 - val_loss: 0.6142 - val_accuracy: 0.8538 - lr: 1.0000e-04\n",
      "Epoch 72/500\n",
      "712/712 [==============================] - 9s 13ms/step - loss: 0.2724 - accuracy: 0.8749 - val_loss: 0.6220 - val_accuracy: 0.8573 - lr: 1.0000e-04\n",
      "Epoch 73/500\n",
      "711/712 [============================>.] - ETA: 0s - loss: 0.2702 - accuracy: 0.8752\n",
      "Epoch 73: ReduceLROnPlateau reducing learning rate to 1.0000000474974514e-05.\n",
      "712/712 [==============================] - 9s 13ms/step - loss: 0.2702 - accuracy: 0.8752 - val_loss: 0.6196 - val_accuracy: 0.8557 - lr: 1.0000e-04\n"
     ]
    },
    {
     "data": {
      "text/plain": "<Figure size 432x288 with 1 Axes>",
      "image/png": "[encoded data removed]"
     },
     "metadata": {
      "needs_background": "light"
     },
     "output_type": "display_data"
    }
   ],
   "source": [
    "CNNv1=tf.keras.Sequential()\n",
    "CNNv1.add(Input(shape=(40)))\n",
    "CNNv1.add(Dense(1024, activation='selu', name='dense_1',kernel_initializer='lecun_normal'))\n",
    "CNNv1.add(AlphaDropout(0.5))\n",
    "CNNv1.add(Dense(512, activation='selu', name='dense_2',kernel_initializer='lecun_normal'))\n",
    "CNNv1.add(AlphaDropout(0.4))\n",
    "CNNv1.add(Dense(256, activation='selu', name='dense_3',kernel_initializer='lecun_normal'))\n",
    "CNNv1.add(AlphaDropout(0.3))\n",
    "CNNv1.add(Dense(1, activation='sigmoid', name='dense_6'))\n",
    "#dist = Dense(1, activation='sigmoid', name='dense_2')(hidden)\n",
    "CNNv1.summary()\n",
    "CNNv1.compile(optimizer='nadam',\n",
    "    loss=tf.keras.losses.BinaryCrossentropy(from_logits=False),\n",
    "    metrics=['accuracy'],)\n",
    "# Train classifier\n",
    "reduceLR = tf.keras.callbacks.ReduceLROnPlateau(monitor='val_loss', factor=0.1,\n",
    "                                 verbose=1, patience=20, mode='auto')\n",
    "early = tf.keras.callbacks.EarlyStopping(monitor='val_loss', min_delta=1e-4,\n",
    "                          patience=40, mode='auto', restore_best_weights=True)\n",
    "history = CNNv1.fit(train_feats, train_targs,\n",
    "                      epochs=500,\n",
    "                      batch_size=32,\n",
    "                      shuffle=True,\n",
    "                      validation_split=0.2,\n",
    "                      callbacks=[reduceLR, early])\n",
    "plt.plot(history.history['loss'])\n",
    "plt.plot(history.history['val_loss'])\n",
    "plt.title('Learning Curves')\n",
    "plt.legend(['Training Loss', 'Validation Loss'])\n",
    "plt.ylabel('Binary Crossentropy')\n",
    "plt.xlabel('Epoch Number')\n",
    "plt.show()"
   ],
   "metadata": {
    "collapsed": false,
    "pycharm": {
     "name": "#%%\n"
    }
   }
  },
  {
   "cell_type": "code",
   "execution_count": 20,
   "outputs": [
    {
     "name": "stdout",
     "output_type": "stream",
     "text": [
      "223/223 [==============================] - 1s 3ms/step\n",
      "0.8772905759162304\n",
      "0.7631653857102192\n",
      "0.8302868391451068\n",
      "0.8162581823717461\n"
     ]
    }
   ],
   "source": [
    "CNNv1preds=CNNv1.predict(test_feats)\n",
    "CNNv1preds=CNNv1preds>0.5\n",
    "print(precision_score(test_targs,CNNv1preds))\n",
    "print(recall_score(test_targs,CNNv1preds))\n",
    "print(accuracy_score(test_targs,CNNv1preds))\n",
    "print(f1_score(test_targs,CNNv1preds))"
   ],
   "metadata": {
    "collapsed": false,
    "pycharm": {
     "name": "#%%\n"
    }
   }
  },
  {
   "cell_type": "code",
   "execution_count": null,
   "outputs": [],
   "source": [
    "features = []\n",
    "labels = []\n",
    "dataset_path: str = \"C:\\\\Users\\\\rclendening\\\\researchData\\\\YT_vids\"\n",
    "data_dir = pathlib.Path(dataset_path)\n",
    "droneDict = {  # One hot encoding for labels probs should do it like I did below?\n",
    "    \"Drone\": [1, 0],\n",
    "    \"Noise\": [0, 1]\n",
    "}\n",
    "droneCountDict = {  # One hot encoding for labels\n",
    "    \"Noise\": 0,\n",
    "    \"Drone\": 1\n",
    "}\n",
    "\n",
    "dataCount = [0, 0]\n",
    "train_files=[]\n",
    "for path, subdirs, files in os.walk(dataset_path):\n",
    "    for name in files:\n",
    "        train_files.append(os.path.join(path, name))\n",
    "\n",
    "\n",
    "def split_audio(waveData, labelName, sampleFreq):\n",
    "    '''\n",
    "    Frames audio data and converts to feature space (MFCC)\n",
    "    :param waveData: waveData array of time-domain audio\n",
    "    :param frame_duration: Duration of frames desired\n",
    "    :param startTime: Start for each clip\n",
    "    :param sampleFreq: Sample Frequency (8Khz)\n",
    "    :param labelName: Name of label\n",
    "    @return list of features (ds), list of labels corresponding to feature dataset:\n",
    "    '''\n",
    "    # middle third of data\n",
    "    duration = waveData.shape[0]\n",
    "    startTime = np.round(0)\n",
    "    endTime = np.round(duration)\n",
    "    waveDataSplit= waveData[int(startTime):int(endTime)]\n",
    "    features=MFCCCalc(waveDataSplit.squeeze(), sampleFreq)\n",
    "    dataCount[droneCountDict[labelName]] += features.shape[1]\n",
    "    #label= [droneDict[labelName]] * features.shape[1]\n",
    "    label= [droneCountDict[labelName]]*features.shape[1]\n",
    "    return features, label\n",
    "\n",
    "def create_dataset(train_files):\n",
    "    '''\n",
    "    Creates feature dataset and label dataset.\n",
    "    @param train_files: EagerTensor of file paths.\n",
    "    @return list of features (ds), list of labels corresponding to feature dataset:\n",
    "    '''\n",
    "    i = 0\n",
    "    features = []\n",
    "    labels = []\n",
    "    for x in train_files:\n",
    "        #test_file = tf.io.read_file(x)\n",
    "        #test_audio, sampleRate = tf.audio.decode_wav(contents=test_file)\n",
    "        if str.split(x,\"\\\\\")[6][0] == 'y': #if youtube video mark yt as true\n",
    "            yt=1\n",
    "        else:\n",
    "            yt=0\n",
    "        test_audio, sampleRate = librosa.load(x, sr=8000)\n",
    "        if min(np.asarray(test_audio)) != 0 and len(test_audio)!=0:\n",
    "            x = str(x)\n",
    "            label = x.split('\\\\')\n",
    "            label = label[5]\n",
    "            newData = test_audio[0: test_audio.shape[0] - test_audio.shape[0] % sampleRate]  # trim to nearest second\n",
    "            newFeats, newLabs = split_audio(newData, label, int(sampleRate))\n",
    "            features.extend(newFeats.transpose())\n",
    "            newLabs=list(zip(newLabs, np.ones(len(newLabs))*yt))\n",
    "            labels.extend(newLabs)\n",
    "\n",
    "    return features, labels\n",
    "\n",
    "def MFCCCalc(audioData, Fs):\n",
    "    '''\n",
    "    Converts decoded wav file to MFCC feature space\n",
    "    @param audioData: Numpy array of decoded audio wav file\n",
    "    @return MFCC coefficients\n",
    "    '''\n",
    "    #audioData=audioData.numpy()\n",
    "    data= audioData.astype(float)\n",
    "    #coefs = mfcc(data, sr=sampleRate, hop_length=2048)\n",
    "    coefs = mfcc(y=data, hop_length=1024,n_mfcc=40, sr=Fs)\n",
    "    return coefs\n",
    "\n",
    "def grabTrainingSamples(n, trainingData):\n",
    "    '''\n",
    "    Ensures even training set by grabbing an even amount of training samples from each class.\n",
    "    @param n: limiting class count\n",
    "    @param trainingData: trainingData list that includes both features and labels\n",
    "    @return MFCC coefficients\n",
    "    '''\n",
    "    droneCount=0\n",
    "    noiseCount=0\n",
    "    evenTrainingData = []\n",
    "    evenLabelData = []\n",
    "    for i in range(len(labels)):\n",
    "        lab = trainingData[i][1][0]\n",
    "        if lab == 1 and droneCount < n:\n",
    "            droneCount += 1\n",
    "            evenTrainingData.append(trainingData[i][0])\n",
    "            evenLabelData.append(trainingData[i][1])\n",
    "        elif lab == 0 and noiseCount < n:\n",
    "            noiseCount += 1\n",
    "            evenTrainingData.append(trainingData[i][0])\n",
    "            evenLabelData.append(trainingData[i][1])\n",
    "    return evenTrainingData, evenLabelData\n",
    "\n",
    "Fs = 8000\n",
    "numFeat = 40 #COULD BE SOURCE OF ERROR\n",
    "features, labels = create_dataset(train_files)\n",
    "newSet = list(zip(features, labels))\n",
    "random.seed(42)\n",
    "random.shuffle(newSet)  # Ensure data is mixed together\n",
    "n = np.min(dataCount)  # Ensure data is symmetric (aka even amounts of training data for all classes)\n",
    "# features, labels = grabTrainingSamples(n, features, labels)\n",
    "#features, labels = grabTrainingSamples(n, newSet)\n",
    "labels=to_categorical(np.array(labels)[:,0],num_classes=2)\n",
    "# trainFeatures, testFeatures, trainTargets, testTargets = train_test_split(features, labels, test_size=0.2, random_state=42) #changed to speed up training\n",
    "# trainTargets=np.array(trainTargets)\n",
    "# trainFeatures = np.array(trainFeatures)\n",
    "# testTargets=np.array(testTargets)\n",
    "# testFeatures = np.array(testFeatures)\n",
    "# mean = trainFeatures.mean(axis=0)\n",
    "# trainFeatures -= mean\n",
    "# std = trainFeatures.std(axis=0)\n",
    "# trainFeatures /= std\n",
    "# trainFeatures = np.reshape(trainFeatures,\n",
    "#                            (len(trainFeatures), numFeat, 1))\n",
    "# #testFeatures = np.asarray(testFeatures)\n",
    "# testFeatures -= mean\n",
    "# testFeatures /= std\n",
    "# testFeatures = np.reshape(testFeatures, (len(testFeatures), numFeat, 1))"
   ],
   "metadata": {
    "collapsed": false,
    "pycharm": {
     "name": "#%%\n"
    }
   }
  }
 ],
 "metadata": {
  "kernelspec": {
   "display_name": "Python 3",
   "language": "python",
   "name": "python3"
  },
  "language_info": {
   "codemirror_mode": {
    "name": "ipython",
    "version": 2
   },
   "file_extension": ".py",
   "mimetype": "text/x-python",
   "name": "python",
   "nbconvert_exporter": "python",
   "pygments_lexer": "ipython2",
   "version": "2.7.6"
  }
 },
 "nbformat": 4,
 "nbformat_minor": 0
}