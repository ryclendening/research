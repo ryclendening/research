{
 "cells": [
  {
   "cell_type": "markdown",
   "source": [
    "This tensor example is taken from https://www.tensorflow.org/tutorials/audio/simple_audio#run_inference_on_an_audio_file, but adapted for my use case."
   ],
   "metadata": {
    "collapsed": false,
    "pycharm": {
     "name": "#%% md\n"
    }
   }
  },
  {
   "cell_type": "code",
   "execution_count": 2,
   "metadata": {
    "collapsed": true,
    "pycharm": {
     "name": "#%%\n"
    }
   },
   "outputs": [],
   "source": [
    "import os\n",
    "import pathlib\n",
    "\n",
    "import matplotlib.pyplot as plt\n",
    "import numpy as np\n",
    "import seaborn as sns\n",
    "import tensorflow as tf\n",
    "\n",
    "from keras import layers\n",
    "from keras import models\n",
    "from IPython import display\n",
    "features=[]\n",
    "labels=[]"
   ]
  },
  {
   "cell_type": "markdown",
   "source": [
    "Read dataset and shuffle."
   ],
   "metadata": {
    "collapsed": false,
    "pycharm": {
     "name": "#%% md\n"
    }
   }
  },
  {
   "cell_type": "code",
   "execution_count": 55,
   "outputs": [
    {
     "name": "stdout",
     "output_type": "stream",
     "text": [
      "Total num of samples:  871\n",
      "Number of examples per label: 239\n",
      "Example file tensor:  tf.Tensor(b'C:\\\\Users\\\\rclendening\\\\researchData\\\\Training_Data_NM_RS\\\\Phantom_4_Pro_V2\\\\PHANTOM4-FT-D-3405_20191126.wav', shape=(), dtype=string)\n",
      "['IF1200' 'Matrice_600' 'Mavic_Pro' 'Noise' 'Phantom_4_Pro_V2']\n"
     ]
    },
    {
     "ename": "KeyboardInterrupt",
     "evalue": "",
     "output_type": "error",
     "traceback": [
      "\u001B[1;31m---------------------------------------------------------------------------\u001B[0m",
      "\u001B[1;31mKeyboardInterrupt\u001B[0m                         Traceback (most recent call last)",
      "Input \u001B[1;32mIn [55]\u001B[0m, in \u001B[0;36m<cell line: 13>\u001B[1;34m()\u001B[0m\n\u001B[0;32m     11\u001B[0m \u001B[38;5;28mprint\u001B[39m(\u001B[38;5;124m\"\u001B[39m\u001B[38;5;124mExample file tensor: \u001B[39m\u001B[38;5;124m\"\u001B[39m, filenames[\u001B[38;5;241m0\u001B[39m])\n\u001B[0;32m     12\u001B[0m \u001B[38;5;28mprint\u001B[39m(drones)\n\u001B[1;32m---> 13\u001B[0m \u001B[38;5;28;43mprint\u001B[39;49m(train_files)\n",
      "Input \u001B[1;32mIn [55]\u001B[0m, in \u001B[0;36m<cell line: 13>\u001B[1;34m()\u001B[0m\n\u001B[0;32m     11\u001B[0m \u001B[38;5;28mprint\u001B[39m(\u001B[38;5;124m\"\u001B[39m\u001B[38;5;124mExample file tensor: \u001B[39m\u001B[38;5;124m\"\u001B[39m, filenames[\u001B[38;5;241m0\u001B[39m])\n\u001B[0;32m     12\u001B[0m \u001B[38;5;28mprint\u001B[39m(drones)\n\u001B[1;32m---> 13\u001B[0m \u001B[38;5;28;43mprint\u001B[39;49m(train_files)\n",
      "File \u001B[1;32m_pydevd_bundle\\pydevd_cython_win32_39_64.pyx:1180\u001B[0m, in \u001B[0;36m_pydevd_bundle.pydevd_cython_win32_39_64.SafeCallWrapper.__call__\u001B[1;34m()\u001B[0m\n",
      "File \u001B[1;32m_pydevd_bundle\\pydevd_cython_win32_39_64.pyx:621\u001B[0m, in \u001B[0;36m_pydevd_bundle.pydevd_cython_win32_39_64.PyDBFrame.trace_dispatch\u001B[1;34m()\u001B[0m\n",
      "File \u001B[1;32m_pydevd_bundle\\pydevd_cython_win32_39_64.pyx:930\u001B[0m, in \u001B[0;36m_pydevd_bundle.pydevd_cython_win32_39_64.PyDBFrame.trace_dispatch\u001B[1;34m()\u001B[0m\n",
      "File \u001B[1;32m_pydevd_bundle\\pydevd_cython_win32_39_64.pyx:921\u001B[0m, in \u001B[0;36m_pydevd_bundle.pydevd_cython_win32_39_64.PyDBFrame.trace_dispatch\u001B[1;34m()\u001B[0m\n",
      "File \u001B[1;32m_pydevd_bundle\\pydevd_cython_win32_39_64.pyx:318\u001B[0m, in \u001B[0;36m_pydevd_bundle.pydevd_cython_win32_39_64.PyDBFrame.do_wait_suspend\u001B[1;34m()\u001B[0m\n",
      "File \u001B[1;32mC:\\Program Files\\JetBrains\\PyCharm 2021.3.2\\plugins\\python\\helpers\\pydev\\pydevd.py:1147\u001B[0m, in \u001B[0;36mPyDB.do_wait_suspend\u001B[1;34m(self, thread, frame, event, arg, send_suspend_message, is_unhandled_exception)\u001B[0m\n\u001B[0;32m   1144\u001B[0m         from_this_thread\u001B[38;5;241m.\u001B[39mappend(frame_id)\n\u001B[0;32m   1146\u001B[0m \u001B[38;5;28;01mwith\u001B[39;00m \u001B[38;5;28mself\u001B[39m\u001B[38;5;241m.\u001B[39m_threads_suspended_single_notification\u001B[38;5;241m.\u001B[39mnotify_thread_suspended(thread_id, stop_reason):\n\u001B[1;32m-> 1147\u001B[0m     \u001B[38;5;28;43mself\u001B[39;49m\u001B[38;5;241;43m.\u001B[39;49m\u001B[43m_do_wait_suspend\u001B[49m\u001B[43m(\u001B[49m\u001B[43mthread\u001B[49m\u001B[43m,\u001B[49m\u001B[43m \u001B[49m\u001B[43mframe\u001B[49m\u001B[43m,\u001B[49m\u001B[43m \u001B[49m\u001B[43mevent\u001B[49m\u001B[43m,\u001B[49m\u001B[43m \u001B[49m\u001B[43marg\u001B[49m\u001B[43m,\u001B[49m\u001B[43m \u001B[49m\u001B[43msuspend_type\u001B[49m\u001B[43m,\u001B[49m\u001B[43m \u001B[49m\u001B[43mfrom_this_thread\u001B[49m\u001B[43m)\u001B[49m\n",
      "File \u001B[1;32mC:\\Program Files\\JetBrains\\PyCharm 2021.3.2\\plugins\\python\\helpers\\pydev\\pydevd.py:1162\u001B[0m, in \u001B[0;36mPyDB._do_wait_suspend\u001B[1;34m(self, thread, frame, event, arg, suspend_type, from_this_thread)\u001B[0m\n\u001B[0;32m   1159\u001B[0m             \u001B[38;5;28mself\u001B[39m\u001B[38;5;241m.\u001B[39m_call_mpl_hook()\n\u001B[0;32m   1161\u001B[0m         \u001B[38;5;28mself\u001B[39m\u001B[38;5;241m.\u001B[39mprocess_internal_commands()\n\u001B[1;32m-> 1162\u001B[0m         \u001B[43mtime\u001B[49m\u001B[38;5;241;43m.\u001B[39;49m\u001B[43msleep\u001B[49m\u001B[43m(\u001B[49m\u001B[38;5;241;43m0.01\u001B[39;49m\u001B[43m)\u001B[49m\n\u001B[0;32m   1164\u001B[0m \u001B[38;5;28mself\u001B[39m\u001B[38;5;241m.\u001B[39mcancel_async_evaluation(get_current_thread_id(thread), \u001B[38;5;28mstr\u001B[39m(\u001B[38;5;28mid\u001B[39m(frame)))\n\u001B[0;32m   1166\u001B[0m \u001B[38;5;66;03m# process any stepping instructions\u001B[39;00m\n",
      "\u001B[1;31mKeyboardInterrupt\u001B[0m: "
     ]
    }
   ],
   "source": [
    "dataset_path: str = \"C:\\\\Users\\\\rclendening\\\\researchData\\\\Training_Data_NM_RS\"\n",
    "data_dir = pathlib.Path(dataset_path)\n",
    "\n",
    "drones = np.array(tf.io.gfile.listdir(str(data_dir)))\n",
    "filenames = tf.io.gfile.glob(str(data_dir) + '/*/*')\n",
    "filenames = tf.random.shuffle(filenames)\n",
    "num_samples = len(filenames)\n",
    "train_files=filenames\n",
    "print(\"Total num of samples: \", num_samples)\n",
    "print(\"Number of examples per label:\", len(tf.io.gfile.listdir(str(data_dir / drones[0]))))\n",
    "print(\"Example file tensor: \", filenames[0])\n",
    "print(drones)\n",
    "print(train_files)"
   ],
   "metadata": {
    "collapsed": false,
    "pycharm": {
     "name": "#%%\n"
    }
   }
  },
  {
   "cell_type": "code",
   "execution_count": 6,
   "outputs": [
    {
     "data": {
      "text/plain": "TensorShape([480000, 1])"
     },
     "execution_count": 6,
     "metadata": {},
     "output_type": "execute_result"
    }
   ],
   "source": [
    "test_file = tf.io.read_file(\"C:\\\\Users\\\\rclendening\\\\researchData\\\\Training_Data_NM_RS\\\\IF1200\\\\d301sA1r01p0120210823_6.wav\")\n",
    "test_audio, _ = tf.audio.decode_wav(contents=test_file)\n",
    "test_audio.shape"
   ],
   "metadata": {
    "collapsed": false,
    "pycharm": {
     "name": "#%%\n"
    }
   }
  },
  {
   "cell_type": "code",
   "execution_count": 7,
   "outputs": [],
   "source": [
    "def decode_audio(audio_binary):\n",
    "    audio, _ = tf.audio.decode_wav(contents=audio_binary)\n",
    "    return tf.squeeze(audio,axis=-1)"
   ],
   "metadata": {
    "collapsed": false,
    "pycharm": {
     "name": "#%%\n"
    }
   }
  },
  {
   "cell_type": "code",
   "execution_count": 8,
   "outputs": [
    {
     "data": {
      "text/plain": "<tf.Tensor: shape=(), dtype=string, numpy=b'IF1200'>"
     },
     "execution_count": 8,
     "metadata": {},
     "output_type": "execute_result"
    }
   ],
   "source": [
    "def get_label(file_path):\n",
    "    parts=tf.strings.split(input=file_path, sep=os.path.sep)\n",
    "    return parts[-2]\n",
    "get_label(\"C:\\\\Users\\\\rclendening\\\\researchData\\\\Training_Data_NM_RS\\\\IF1200\\\\d301sA1r01p0120210823_6.wav\")"
   ],
   "metadata": {
    "collapsed": false,
    "pycharm": {
     "name": "#%%\n"
    }
   }
  },
  {
   "cell_type": "code",
   "execution_count": 89,
   "outputs": [
    {
     "ename": "TypeError",
     "evalue": "Only integers, slices (`:`), ellipsis (`...`), tf.newaxis (`None`) and scalar tf.int32/tf.int64 tensors are valid indices, got 12000.5",
     "output_type": "error",
     "traceback": [
      "\u001B[1;31m---------------------------------------------------------------------------\u001B[0m",
      "\u001B[1;31mTypeError\u001B[0m                                 Traceback (most recent call last)",
      "Input \u001B[1;32mIn [89]\u001B[0m, in \u001B[0;36m<cell line: 38>\u001B[1;34m()\u001B[0m\n\u001B[0;32m     36\u001B[0m features\u001B[38;5;241m=\u001B[39m[]\n\u001B[0;32m     37\u001B[0m labels\u001B[38;5;241m=\u001B[39m[]\n\u001B[1;32m---> 38\u001B[0m features,labels\u001B[38;5;241m=\u001B[39m\u001B[43mcreate_dataset\u001B[49m\u001B[43m(\u001B[49m\u001B[43mtrain_files\u001B[49m\u001B[43m)\u001B[49m\n",
      "Input \u001B[1;32mIn [89]\u001B[0m, in \u001B[0;36mcreate_dataset\u001B[1;34m(train_files)\u001B[0m\n\u001B[0;32m     30\u001B[0m     label\u001B[38;5;241m=\u001B[39mlabel[\u001B[38;5;241m10\u001B[39m]\n\u001B[0;32m     32\u001B[0m     test_audio \u001B[38;5;241m=\u001B[39m test_audio[\u001B[38;5;241m0\u001B[39m: test_audio\u001B[38;5;241m.\u001B[39mshape[\u001B[38;5;241m0\u001B[39m]\u001B[38;5;241m-\u001B[39mtest_audio\u001B[38;5;241m.\u001B[39mshape[\u001B[38;5;241m0\u001B[39m] \u001B[38;5;241m%\u001B[39m \u001B[38;5;241m8000\u001B[39m] \u001B[38;5;66;03m#trim to nearest second\u001B[39;00m\n\u001B[1;32m---> 33\u001B[0m     features,labels\u001B[38;5;241m=\u001B[39m\u001B[43msplit_audio\u001B[49m\u001B[43m(\u001B[49m\u001B[43mtest_audio\u001B[49m\u001B[43m,\u001B[49m\u001B[43mlabel\u001B[49m\u001B[43m,\u001B[49m\u001B[38;5;28;43mint\u001B[39;49m\u001B[43m(\u001B[49m\u001B[43msampleRate\u001B[49m\u001B[43m)\u001B[49m\u001B[43m,\u001B[49m\u001B[38;5;241;43m1\u001B[39;49m\u001B[43m,\u001B[49m\u001B[43m \u001B[49m\u001B[38;5;241;43m0.5\u001B[39;49m\u001B[43m)\u001B[49m\n\u001B[0;32m     34\u001B[0m     i\u001B[38;5;241m=\u001B[39mi\u001B[38;5;241m+\u001B[39m\u001B[38;5;241m1\u001B[39m\n\u001B[0;32m     35\u001B[0m \u001B[38;5;28;01mreturn\u001B[39;00m features,labels\n",
      "Input \u001B[1;32mIn [89]\u001B[0m, in \u001B[0;36msplit_audio\u001B[1;34m(waveData, labelName, sampleFreq, startTime, frame_duration)\u001B[0m\n\u001B[0;32m     10\u001B[0m t2\u001B[38;5;241m=\u001B[39m\u001B[38;5;28mint\u001B[39m(t2)\n\u001B[0;32m     11\u001B[0m \u001B[38;5;28;01mwhile\u001B[39;00m t2 \u001B[38;5;241m<\u001B[39m (duration \u001B[38;5;241m*\u001B[39m \u001B[38;5;241m1000\u001B[39m) \u001B[38;5;241m-\u001B[39m frame_dur:\n\u001B[1;32m---> 12\u001B[0m     split \u001B[38;5;241m=\u001B[39m \u001B[43mwaveData\u001B[49m\u001B[43m[\u001B[49m\u001B[43mt1\u001B[49m\u001B[43m:\u001B[49m\u001B[43mt2\u001B[49m\u001B[43m]\u001B[49m\n\u001B[0;32m     13\u001B[0m     t1 \u001B[38;5;241m=\u001B[39m t2\n\u001B[0;32m     14\u001B[0m     t2 \u001B[38;5;241m=\u001B[39m t2 \u001B[38;5;241m+\u001B[39m frame_duration\n",
      "File \u001B[1;32m~\\AppData\\Local\\Programs\\Python\\Python39\\lib\\site-packages\\tensorflow\\python\\util\\traceback_utils.py:153\u001B[0m, in \u001B[0;36mfilter_traceback.<locals>.error_handler\u001B[1;34m(*args, **kwargs)\u001B[0m\n\u001B[0;32m    151\u001B[0m \u001B[38;5;28;01mexcept\u001B[39;00m \u001B[38;5;167;01mException\u001B[39;00m \u001B[38;5;28;01mas\u001B[39;00m e:\n\u001B[0;32m    152\u001B[0m   filtered_tb \u001B[38;5;241m=\u001B[39m _process_traceback_frames(e\u001B[38;5;241m.\u001B[39m__traceback__)\n\u001B[1;32m--> 153\u001B[0m   \u001B[38;5;28;01mraise\u001B[39;00m e\u001B[38;5;241m.\u001B[39mwith_traceback(filtered_tb) \u001B[38;5;28;01mfrom\u001B[39;00m \u001B[38;5;28mNone\u001B[39m\n\u001B[0;32m    154\u001B[0m \u001B[38;5;28;01mfinally\u001B[39;00m:\n\u001B[0;32m    155\u001B[0m   \u001B[38;5;28;01mdel\u001B[39;00m filtered_tb\n",
      "File \u001B[1;32m~\\AppData\\Local\\Programs\\Python\\Python39\\lib\\site-packages\\tensorflow\\python\\ops\\array_ops.py:899\u001B[0m, in \u001B[0;36m_check_index\u001B[1;34m(idx)\u001B[0m\n\u001B[0;32m    894\u001B[0m dtype \u001B[38;5;241m=\u001B[39m \u001B[38;5;28mgetattr\u001B[39m(idx, \u001B[38;5;124m\"\u001B[39m\u001B[38;5;124mdtype\u001B[39m\u001B[38;5;124m\"\u001B[39m, \u001B[38;5;28;01mNone\u001B[39;00m)\n\u001B[0;32m    895\u001B[0m \u001B[38;5;28;01mif\u001B[39;00m (dtype \u001B[38;5;129;01mis\u001B[39;00m \u001B[38;5;28;01mNone\u001B[39;00m \u001B[38;5;129;01mor\u001B[39;00m dtypes\u001B[38;5;241m.\u001B[39mas_dtype(dtype) \u001B[38;5;129;01mnot\u001B[39;00m \u001B[38;5;129;01min\u001B[39;00m _SUPPORTED_SLICE_DTYPES \u001B[38;5;129;01mor\u001B[39;00m\n\u001B[0;32m    896\u001B[0m     idx\u001B[38;5;241m.\u001B[39mshape \u001B[38;5;129;01mand\u001B[39;00m \u001B[38;5;28mlen\u001B[39m(idx\u001B[38;5;241m.\u001B[39mshape) \u001B[38;5;241m==\u001B[39m \u001B[38;5;241m1\u001B[39m):\n\u001B[0;32m    897\u001B[0m   \u001B[38;5;66;03m# TODO(slebedev): IndexError seems more appropriate here, but it\u001B[39;00m\n\u001B[0;32m    898\u001B[0m   \u001B[38;5;66;03m# will break `_slice_helper` contract.\u001B[39;00m\n\u001B[1;32m--> 899\u001B[0m   \u001B[38;5;28;01mraise\u001B[39;00m \u001B[38;5;167;01mTypeError\u001B[39;00m(_SLICE_TYPE_ERROR \u001B[38;5;241m+\u001B[39m \u001B[38;5;124m\"\u001B[39m\u001B[38;5;124m, got \u001B[39m\u001B[38;5;132;01m{!r}\u001B[39;00m\u001B[38;5;124m\"\u001B[39m\u001B[38;5;241m.\u001B[39mformat(idx))\n",
      "\u001B[1;31mTypeError\u001B[0m: Only integers, slices (`:`), ellipsis (`...`), tf.newaxis (`None`) and scalar tf.int32/tf.int64 tensors are valid indices, got 12000.5"
     ]
    }
   ],
   "source": [
    "def split_audio(waveData,labelName, sampleFreq,startTime, frame_duration):\n",
    "    features=[]\n",
    "    label=[]\n",
    "    duration = waveData.shape[0]/sampleFreq\n",
    "    frame_dur= frame_duration*sampleFreq\n",
    "    t1 = startTime*sampleFreq\n",
    "    t2 = t1+frame_dur\n",
    "    frame_dur=int(frame_dur)\n",
    "    t1= int(t1)\n",
    "    t2=int(t2)\n",
    "    while t2 < (duration * 1000) - frame_dur:\n",
    "        split = waveData[t1:t2]\n",
    "        t1 = t2\n",
    "        t2 = t2 + frame_duration\n",
    "        split=tf.reshape(split,frame_dur)\n",
    "        split=get_spectrogram(split,frame_dur)\n",
    "        features.extend(split)\n",
    "        label.append(labelName)\n",
    "    return features,labels\n",
    "\n",
    "def create_dataset(train_files):\n",
    "    i=0\n",
    "    features=[]\n",
    "    labels=[]\n",
    "    for x in train_files:\n",
    "        test_file = tf.io.read_file(x)\n",
    "        test_audio, sampleRate = tf.audio.decode_wav(contents=test_file)\n",
    "        x=str(x)\n",
    "        label = x.split('\\\\')\n",
    "        label=label[10]\n",
    "\n",
    "        test_audio = test_audio[0: test_audio.shape[0]-test_audio.shape[0] % 8000] #trim to nearest second\n",
    "        features,labels=split_audio(test_audio,label,int(sampleRate),1, 0.5)\n",
    "        i=i+1\n",
    "    return features,labels\n",
    "features=[]\n",
    "labels=[]\n",
    "features,labels=create_dataset(train_files)\n",
    "\n",
    "\n",
    "\n"
   ],
   "metadata": {
    "collapsed": false,
    "pycharm": {
     "name": "#%%\n"
    }
   }
  },
  {
   "cell_type": "code",
   "execution_count": 74,
   "outputs": [
    {
     "ename": "TypeError",
     "evalue": "`x` and `y` must have the same dtype, got tf.float32 != tf.int32.",
     "output_type": "error",
     "traceback": [
      "\u001B[1;31m---------------------------------------------------------------------------\u001B[0m",
      "\u001B[1;31mTypeError\u001B[0m                                 Traceback (most recent call last)",
      "Input \u001B[1;32mIn [74]\u001B[0m, in \u001B[0;36m<cell line: 17>\u001B[1;34m()\u001B[0m\n\u001B[0;32m     15\u001B[0m features\u001B[38;5;241m=\u001B[39m[]\n\u001B[0;32m     16\u001B[0m labels\u001B[38;5;241m=\u001B[39m[]\n\u001B[1;32m---> 17\u001B[0m features,labels\u001B[38;5;241m=\u001B[39m\u001B[43mcreate_dataset\u001B[49m\u001B[43m(\u001B[49m\u001B[43mtrain_files\u001B[49m\u001B[43m)\u001B[49m\n",
      "Input \u001B[1;32mIn [74]\u001B[0m, in \u001B[0;36mcreate_dataset\u001B[1;34m(train_files)\u001B[0m\n\u001B[0;32m      9\u001B[0m     label \u001B[38;5;241m=\u001B[39m x\u001B[38;5;241m.\u001B[39msplit(\u001B[38;5;124m'\u001B[39m\u001B[38;5;130;01m\\\\\u001B[39;00m\u001B[38;5;124m'\u001B[39m)\n\u001B[0;32m     10\u001B[0m     label\u001B[38;5;241m=\u001B[39mlabel[\u001B[38;5;241m10\u001B[39m]\n\u001B[1;32m---> 12\u001B[0m     features,labels\u001B[38;5;241m=\u001B[39m\u001B[43msplit_audio\u001B[49m\u001B[43m(\u001B[49m\u001B[43mtest_audio\u001B[49m\u001B[43m,\u001B[49m\u001B[43mlabel\u001B[49m\u001B[43m,\u001B[49m\u001B[43msampleRate\u001B[49m\u001B[43m,\u001B[49m\u001B[38;5;241;43m1\u001B[39;49m\u001B[43m,\u001B[49m\u001B[43m \u001B[49m\u001B[38;5;241;43m0.5\u001B[39;49m\u001B[43m)\u001B[49m\n\u001B[0;32m     13\u001B[0m     i\u001B[38;5;241m=\u001B[39mi\u001B[38;5;241m+\u001B[39m\u001B[38;5;241m1\u001B[39m\n\u001B[0;32m     14\u001B[0m \u001B[38;5;28;01mreturn\u001B[39;00m features,labels\n",
      "Input \u001B[1;32mIn [60]\u001B[0m, in \u001B[0;36msplit_audio\u001B[1;34m(waveData, labelName, sampleFreq, startTime, frame_duration)\u001B[0m\n\u001B[0;32m      2\u001B[0m features\u001B[38;5;241m=\u001B[39m[]\n\u001B[0;32m      3\u001B[0m label\u001B[38;5;241m=\u001B[39m[]\n\u001B[1;32m----> 4\u001B[0m duration \u001B[38;5;241m=\u001B[39m \u001B[43mwaveData\u001B[49m\u001B[38;5;241;43m/\u001B[39;49m\u001B[43msampleFreq\u001B[49m\n\u001B[0;32m      5\u001B[0m frame_dur\u001B[38;5;241m=\u001B[39m frame_duration\u001B[38;5;241m*\u001B[39msampleFreq\n\u001B[0;32m      6\u001B[0m t1 \u001B[38;5;241m=\u001B[39m startTime\u001B[38;5;241m*\u001B[39msampleFreq\n",
      "File \u001B[1;32m~\\AppData\\Local\\Programs\\Python\\Python39\\lib\\site-packages\\tensorflow\\python\\util\\traceback_utils.py:153\u001B[0m, in \u001B[0;36mfilter_traceback.<locals>.error_handler\u001B[1;34m(*args, **kwargs)\u001B[0m\n\u001B[0;32m    151\u001B[0m \u001B[38;5;28;01mexcept\u001B[39;00m \u001B[38;5;167;01mException\u001B[39;00m \u001B[38;5;28;01mas\u001B[39;00m e:\n\u001B[0;32m    152\u001B[0m   filtered_tb \u001B[38;5;241m=\u001B[39m _process_traceback_frames(e\u001B[38;5;241m.\u001B[39m__traceback__)\n\u001B[1;32m--> 153\u001B[0m   \u001B[38;5;28;01mraise\u001B[39;00m e\u001B[38;5;241m.\u001B[39mwith_traceback(filtered_tb) \u001B[38;5;28;01mfrom\u001B[39;00m \u001B[38;5;28mNone\u001B[39m\n\u001B[0;32m    154\u001B[0m \u001B[38;5;28;01mfinally\u001B[39;00m:\n\u001B[0;32m    155\u001B[0m   \u001B[38;5;28;01mdel\u001B[39;00m filtered_tb\n",
      "File \u001B[1;32m~\\AppData\\Local\\Programs\\Python\\Python39\\lib\\site-packages\\tensorflow\\python\\ops\\math_ops.py:1516\u001B[0m, in \u001B[0;36m_truediv_python3\u001B[1;34m(x, y, name)\u001B[0m\n\u001B[0;32m   1514\u001B[0m y_dtype \u001B[38;5;241m=\u001B[39m y\u001B[38;5;241m.\u001B[39mdtype\u001B[38;5;241m.\u001B[39mbase_dtype\n\u001B[0;32m   1515\u001B[0m \u001B[38;5;28;01mif\u001B[39;00m x_dtype \u001B[38;5;241m!=\u001B[39m y_dtype:\n\u001B[1;32m-> 1516\u001B[0m   \u001B[38;5;28;01mraise\u001B[39;00m \u001B[38;5;167;01mTypeError\u001B[39;00m(\u001B[38;5;124mf\u001B[39m\u001B[38;5;124m\"\u001B[39m\u001B[38;5;124m`x` and `y` must have the same dtype, \u001B[39m\u001B[38;5;124m\"\u001B[39m\n\u001B[0;32m   1517\u001B[0m                   \u001B[38;5;124mf\u001B[39m\u001B[38;5;124m\"\u001B[39m\u001B[38;5;124mgot \u001B[39m\u001B[38;5;132;01m{\u001B[39;00mx_dtype\u001B[38;5;132;01m!r}\u001B[39;00m\u001B[38;5;124m != \u001B[39m\u001B[38;5;132;01m{\u001B[39;00my_dtype\u001B[38;5;132;01m!r}\u001B[39;00m\u001B[38;5;124m.\u001B[39m\u001B[38;5;124m\"\u001B[39m)\n\u001B[0;32m   1518\u001B[0m \u001B[38;5;28;01mtry\u001B[39;00m:\n\u001B[0;32m   1519\u001B[0m   dtype \u001B[38;5;241m=\u001B[39m _TRUEDIV_TABLE[x_dtype]\n",
      "\u001B[1;31mTypeError\u001B[0m: `x` and `y` must have the same dtype, got tf.float32 != tf.int32."
     ]
    },
    {
     "name": "stderr",
     "output_type": "stream",
     "text": [
      "Traceback (most recent call last):\n",
      "  File \"_pydevd_bundle\\pydevd_cython_win32_39_64.pyx\", line 1035, in _pydevd_bundle.pydevd_cython_win32_39_64.PyDBFrame.trace_dispatch\n",
      "  File \"C:\\Program Files\\JetBrains\\PyCharm 2021.3.2\\plugins\\python\\helpers-pro\\jupyter_debug\\pydev_jupyter_plugin.py\", line 144, in cmd_step_over\n",
      "    if _is_inside_jupyter_cell(frame, pydb):\n",
      "  File \"C:\\Program Files\\JetBrains\\PyCharm 2021.3.2\\plugins\\python\\helpers-pro\\jupyter_debug\\pydev_jupyter_plugin.py\", line 209, in _is_inside_jupyter_cell\n",
      "    if is_cell_filename(filename):\n",
      "  File \"C:\\Program Files\\JetBrains\\PyCharm 2021.3.2\\plugins\\python\\helpers-pro\\jupyter_debug\\pydev_jupyter_plugin.py\", line 220, in is_cell_filename\n",
      "    ipython_shell = get_ipython()\n",
      "NameError: name 'get_ipython' is not defined\n"
     ]
    }
   ],
   "source": [],
   "metadata": {
    "collapsed": false,
    "pycharm": {
     "name": "#%%\n"
    }
   }
  },
  {
   "cell_type": "code",
   "execution_count": 11,
   "outputs": [
    {
     "name": "stdout",
     "output_type": "stream",
     "text": [
      "tf.Tensor(b'IF1200', shape=(), dtype=string)\n"
     ]
    }
   ],
   "source": [
    "def get_waveform_and_label(file_path):\n",
    "    label= get_label(file_path)\n",
    "    audio_binary =tf.io.read_file(file_path)\n",
    "    waveform =decode_audio(audio_binary)\n",
    "    return waveform, label\n",
    "w,l=get_waveform_and_label(\"C:\\\\Users\\\\rclendening\\\\researchData\\\\Training_Data_NM_RS\\\\IF1200\\\\d301sA1r01p0120210823_6.wav\")\n",
    "print(l)\n"
   ],
   "metadata": {
    "collapsed": false,
    "pycharm": {
     "name": "#%%\n"
    }
   }
  },
  {
   "cell_type": "code",
   "execution_count": 31,
   "outputs": [
    {
     "data": {
      "text/plain": "871"
     },
     "execution_count": 31,
     "metadata": {},
     "output_type": "execute_result"
    }
   ],
   "source": [
    "AUTOTUNE= tf.data.AUTOTUNE\n",
    "files_ds =tf.data.Dataset.from_tensor_slices(train_files)\n",
    "\n",
    "waveform_ds = files_ds.map(map_func=get_waveform_and_label, num_parallel_calls=AUTOTUNE)\n",
    "len(waveform_ds)"
   ],
   "metadata": {
    "collapsed": false,
    "pycharm": {
     "name": "#%%\n"
    }
   }
  },
  {
   "cell_type": "markdown",
   "source": [],
   "metadata": {
    "collapsed": false,
    "pycharm": {
     "name": "#%% md\n"
    }
   }
  },
  {
   "cell_type": "code",
   "execution_count": 175,
   "outputs": [
    {
     "data": {
      "text/plain": "<Figure size 720x864 with 9 Axes>",
      "image/png": "[encoded data removed]"
     },
     "metadata": {
      "needs_background": "light"
     },
     "output_type": "display_data"
    }
   ],
   "source": [
    "rows = 3\n",
    "cols = 3\n",
    "n = rows * cols\n",
    "fig, axes = plt.subplots(rows, cols, figsize=(10, 12))\n",
    "\n",
    "for i, (audio, label) in enumerate(waveform_ds.take(n)):\n",
    "  r = i // cols\n",
    "  c = i % cols\n",
    "  ax = axes[r][c]\n",
    "  ax.plot(audio.numpy())\n",
    "  ax.set_yticks(np.arange(-1.2, 1.2, 0.2))\n",
    "  label = label.numpy().decode('utf-8')\n",
    "  ax.set_title(label)\n",
    "\n",
    "plt.show()"
   ],
   "metadata": {
    "collapsed": false,
    "pycharm": {
     "name": "#%%\n"
    }
   }
  },
  {
   "cell_type": "markdown",
   "source": [],
   "metadata": {
    "collapsed": false,
    "pycharm": {
     "name": "#%% md\n"
    }
   }
  },
  {
   "cell_type": "code",
   "execution_count": 58,
   "outputs": [
    {
     "name": "stdout",
     "output_type": "stream",
     "text": [
      "tf.Tensor(\n",
      "[ 0.02062988 -0.13842773  0.19763184 ...  0.00509644 -0.00561523\n",
      " -0.11138916], shape=(4000,), dtype=float32)\n"
     ]
    }
   ],
   "source": [
    "def get_spectrogram(waveform,length):\n",
    "  # Zero-padding for an audio waveform with less than length samples\n",
    "  input_len = length\n",
    "  waveform = waveform[:input_len]\n",
    "  zero_padding = tf.zeros(\n",
    "      [length] - tf.shape(waveform),\n",
    "      dtype=tf.float32)\n",
    "  # Cast the waveform tensors' dtype to float32.\n",
    "  waveform = tf.cast(waveform, dtype=tf.float32)\n",
    "  # Concatenate the waveform with `zero_padding`, which ensures all audio\n",
    "  # clips are of the same length.\n",
    "  equal_length = tf.concat([waveform, zero_padding], 0)\n",
    "  # Convert the waveform to a spectrogram via a STFT.\n",
    "  spectrogram = tf.signal.stft(\n",
    "      equal_length, frame_length=128, frame_step=64)\n",
    "  # Obtain the magnitude of the STFT.\n",
    "  spectrogram = tf.abs(spectrogram)\n",
    "  # Add a `channels` dimension, so that the spectrogram can be used\n",
    "  # as image-like input data with convolution layers (which expect\n",
    "  # shape (`batch_size`, `height`, `width`, `channels`).\n",
    "  spectrogram = spectrogram[..., tf.newaxis]\n",
    "  return spectrogram\n",
    "len(waveform_ds)\n",
    "test_file = tf.io.read_file(\"C:\\\\Users\\\\rclendening\\\\researchData\\\\Training_Data_NM_RS\\\\IF1200\\\\d301sA1r01p0120210823_6.wav\")\n",
    "test_audio, _ = tf.audio.decode_wav(contents=test_file)\n",
    "tes=waveform_ds.take(1)\n",
    "test_audio.shape\n",
    "a=tf.reshape(test_audio[6000:10000],[4000])\n",
    "s=get_spectrogram(a,5000)\n",
    "\n"
   ],
   "metadata": {
    "collapsed": false,
    "pycharm": {
     "name": "#%%\n"
    }
   }
  },
  {
   "cell_type": "code",
   "execution_count": 34,
   "outputs": [
    {
     "ename": "TypeError",
     "evalue": "get_spectrogram() missing 1 required positional argument: 'length'",
     "output_type": "error",
     "traceback": [
      "\u001B[1;31m---------------------------------------------------------------------------\u001B[0m",
      "\u001B[1;31mTypeError\u001B[0m                                 Traceback (most recent call last)",
      "Input \u001B[1;32mIn [34]\u001B[0m, in \u001B[0;36m<cell line: 1>\u001B[1;34m()\u001B[0m\n\u001B[0;32m      1\u001B[0m \u001B[38;5;28;01mfor\u001B[39;00m waveform, label \u001B[38;5;129;01min\u001B[39;00m waveform_ds\u001B[38;5;241m.\u001B[39mtake(\u001B[38;5;241m1\u001B[39m):\n\u001B[0;32m      2\u001B[0m   label \u001B[38;5;241m=\u001B[39m label\u001B[38;5;241m.\u001B[39mnumpy()\u001B[38;5;241m.\u001B[39mdecode(\u001B[38;5;124m'\u001B[39m\u001B[38;5;124mutf-8\u001B[39m\u001B[38;5;124m'\u001B[39m)\n\u001B[1;32m----> 3\u001B[0m   spectrogram \u001B[38;5;241m=\u001B[39m \u001B[43mget_spectrogram\u001B[49m\u001B[43m(\u001B[49m\u001B[43mwaveform\u001B[49m\u001B[43m)\u001B[49m\n\u001B[0;32m      5\u001B[0m \u001B[38;5;28mprint\u001B[39m(\u001B[38;5;124m'\u001B[39m\u001B[38;5;124mLabel:\u001B[39m\u001B[38;5;124m'\u001B[39m, label)\n\u001B[0;32m      6\u001B[0m \u001B[38;5;28mprint\u001B[39m(\u001B[38;5;124m'\u001B[39m\u001B[38;5;124mWaveform shape:\u001B[39m\u001B[38;5;124m'\u001B[39m, waveform\u001B[38;5;241m.\u001B[39mshape)\n",
      "\u001B[1;31mTypeError\u001B[0m: get_spectrogram() missing 1 required positional argument: 'length'"
     ]
    }
   ],
   "source": [
    "for waveform, label in waveform_ds.take(1):\n",
    "  label = label.numpy().decode('utf-8')\n",
    "  spectrogram = get_spectrogram(waveform)\n",
    "\n",
    "print('Label:', label)\n",
    "print('Waveform shape:', waveform.shape)\n",
    "print('Spectrogram shape:', spectrogram.shape)\n",
    "print('Audio playback')\n",
    "display.display(display.Audio(waveform, rate=8000))"
   ],
   "metadata": {
    "collapsed": false,
    "pycharm": {
     "name": "#%%\n"
    }
   }
  },
  {
   "cell_type": "code",
   "execution_count": 25,
   "outputs": [
    {
     "ename": "InvalidArgumentError",
     "evalue": "ConcatOp : Dimension 1 in both shapes must be equal: shape[0] = [5000,1] vs. shape[1] = [0,4999] [Op:ConcatV2] name: concat",
     "output_type": "error",
     "traceback": [
      "\u001B[1;31m---------------------------------------------------------------------------\u001B[0m",
      "\u001B[1;31mInvalidArgumentError\u001B[0m                      Traceback (most recent call last)",
      "Input \u001B[1;32mIn [25]\u001B[0m, in \u001B[0;36m<cell line: 19>\u001B[1;34m()\u001B[0m\n\u001B[0;32m     17\u001B[0m test_audio, _ \u001B[38;5;241m=\u001B[39m tf\u001B[38;5;241m.\u001B[39maudio\u001B[38;5;241m.\u001B[39mdecode_wav(contents\u001B[38;5;241m=\u001B[39mtest_file)\n\u001B[0;32m     18\u001B[0m test_audio\u001B[38;5;241m.\u001B[39mshape\n\u001B[1;32m---> 19\u001B[0m s\u001B[38;5;241m=\u001B[39m\u001B[43mget_spectrogram\u001B[49m\u001B[43m(\u001B[49m\u001B[43mtest_audio\u001B[49m\u001B[43m[\u001B[49m\u001B[38;5;241;43m5000\u001B[39;49m\u001B[43m:\u001B[49m\u001B[38;5;241;43m10000\u001B[39;49m\u001B[43m]\u001B[49m\u001B[43m,\u001B[49m\u001B[38;5;241;43m5000\u001B[39;49m\u001B[43m)\u001B[49m\n\u001B[0;32m     20\u001B[0m plot_spectrogram(test_audio\u001B[38;5;241m.\u001B[39mnumpy(),axes[\u001B[38;5;241m1\u001B[39m])\n\u001B[0;32m     21\u001B[0m fig, axes \u001B[38;5;241m=\u001B[39m plt\u001B[38;5;241m.\u001B[39msubplots(\u001B[38;5;241m2\u001B[39m, figsize\u001B[38;5;241m=\u001B[39m(\u001B[38;5;241m12\u001B[39m, \u001B[38;5;241m8\u001B[39m))\n",
      "Input \u001B[1;32mIn [20]\u001B[0m, in \u001B[0;36mget_spectrogram\u001B[1;34m(waveform, length)\u001B[0m\n\u001B[0;32m      9\u001B[0m waveform \u001B[38;5;241m=\u001B[39m tf\u001B[38;5;241m.\u001B[39mcast(waveform, dtype\u001B[38;5;241m=\u001B[39mtf\u001B[38;5;241m.\u001B[39mfloat32)\n\u001B[0;32m     10\u001B[0m \u001B[38;5;66;03m# Concatenate the waveform with `zero_padding`, which ensures all audio\u001B[39;00m\n\u001B[0;32m     11\u001B[0m \u001B[38;5;66;03m# clips are of the same length.\u001B[39;00m\n\u001B[1;32m---> 12\u001B[0m equal_length \u001B[38;5;241m=\u001B[39m \u001B[43mtf\u001B[49m\u001B[38;5;241;43m.\u001B[39;49m\u001B[43mconcat\u001B[49m\u001B[43m(\u001B[49m\u001B[43m[\u001B[49m\u001B[43mwaveform\u001B[49m\u001B[43m,\u001B[49m\u001B[43m \u001B[49m\u001B[43mzero_padding\u001B[49m\u001B[43m]\u001B[49m\u001B[43m,\u001B[49m\u001B[43m \u001B[49m\u001B[38;5;241;43m0\u001B[39;49m\u001B[43m)\u001B[49m\n\u001B[0;32m     13\u001B[0m \u001B[38;5;66;03m# Convert the waveform to a spectrogram via a STFT.\u001B[39;00m\n\u001B[0;32m     14\u001B[0m spectrogram \u001B[38;5;241m=\u001B[39m tf\u001B[38;5;241m.\u001B[39msignal\u001B[38;5;241m.\u001B[39mstft(\n\u001B[0;32m     15\u001B[0m     equal_length, frame_length\u001B[38;5;241m=\u001B[39m\u001B[38;5;241m255\u001B[39m, frame_step\u001B[38;5;241m=\u001B[39m\u001B[38;5;241m128\u001B[39m)\n",
      "File \u001B[1;32m~\\AppData\\Local\\Programs\\Python\\Python39\\lib\\site-packages\\tensorflow\\python\\util\\traceback_utils.py:153\u001B[0m, in \u001B[0;36mfilter_traceback.<locals>.error_handler\u001B[1;34m(*args, **kwargs)\u001B[0m\n\u001B[0;32m    151\u001B[0m \u001B[38;5;28;01mexcept\u001B[39;00m \u001B[38;5;167;01mException\u001B[39;00m \u001B[38;5;28;01mas\u001B[39;00m e:\n\u001B[0;32m    152\u001B[0m   filtered_tb \u001B[38;5;241m=\u001B[39m _process_traceback_frames(e\u001B[38;5;241m.\u001B[39m__traceback__)\n\u001B[1;32m--> 153\u001B[0m   \u001B[38;5;28;01mraise\u001B[39;00m e\u001B[38;5;241m.\u001B[39mwith_traceback(filtered_tb) \u001B[38;5;28;01mfrom\u001B[39;00m \u001B[38;5;28mNone\u001B[39m\n\u001B[0;32m    154\u001B[0m \u001B[38;5;28;01mfinally\u001B[39;00m:\n\u001B[0;32m    155\u001B[0m   \u001B[38;5;28;01mdel\u001B[39;00m filtered_tb\n",
      "File \u001B[1;32m~\\AppData\\Local\\Programs\\Python\\Python39\\lib\\site-packages\\tensorflow\\python\\framework\\ops.py:7186\u001B[0m, in \u001B[0;36mraise_from_not_ok_status\u001B[1;34m(e, name)\u001B[0m\n\u001B[0;32m   7184\u001B[0m \u001B[38;5;28;01mdef\u001B[39;00m \u001B[38;5;21mraise_from_not_ok_status\u001B[39m(e, name):\n\u001B[0;32m   7185\u001B[0m   e\u001B[38;5;241m.\u001B[39mmessage \u001B[38;5;241m+\u001B[39m\u001B[38;5;241m=\u001B[39m (\u001B[38;5;124m\"\u001B[39m\u001B[38;5;124m name: \u001B[39m\u001B[38;5;124m\"\u001B[39m \u001B[38;5;241m+\u001B[39m name \u001B[38;5;28;01mif\u001B[39;00m name \u001B[38;5;129;01mis\u001B[39;00m \u001B[38;5;129;01mnot\u001B[39;00m \u001B[38;5;28;01mNone\u001B[39;00m \u001B[38;5;28;01melse\u001B[39;00m \u001B[38;5;124m\"\u001B[39m\u001B[38;5;124m\"\u001B[39m)\n\u001B[1;32m-> 7186\u001B[0m   \u001B[38;5;28;01mraise\u001B[39;00m core\u001B[38;5;241m.\u001B[39m_status_to_exception(e) \u001B[38;5;28;01mfrom\u001B[39;00m \u001B[38;5;28mNone\u001B[39m\n",
      "\u001B[1;31mInvalidArgumentError\u001B[0m: ConcatOp : Dimension 1 in both shapes must be equal: shape[0] = [5000,1] vs. shape[1] = [0,4999] [Op:ConcatV2] name: concat"
     ]
    }
   ],
   "source": [
    "def plot_spectrogram(spectrogram, ax):\n",
    "  if len(spectrogram.shape) > 2:\n",
    "    assert len(spectrogram.shape) == 3\n",
    "    spectrogram = np.squeeze(spectrogram, axis=-1)\n",
    "  # Convert the frequencies to log scale and transpose, so that the time is\n",
    "  # represented on the x-axis (columns).\n",
    "  # Add an epsilon to avoid taking a log of zero.\n",
    "  log_spec = np.log(spectrogram.T + np.finfo(float).eps)\n",
    "  height = log_spec.shape[0]\n",
    "  width = log_spec.shape[1]\n",
    "  X = np.linspace(0, np.size(spectrogram), num=width, dtype=int)\n",
    "  Y = range(height)\n",
    "  ax.pcolormesh(X, Y, log_spec)\n",
    "\n",
    "\n",
    "\n",
    "plot_spectrogram(test_audio.numpy(),axes[1])\n",
    "fig, axes = plt.subplots(2, figsize=(12, 8))\n",
    "timescale = np.arange(waveform.shape[0])\n",
    "axes[0].plot(timescale, waveform.numpy())\n",
    "axes[0].set_title('Waveform')\n",
    "axes[0].set_xlim([0, len(spectrogram)])\n",
    "\n",
    "axes[1].set_title('Spectrogram')\n",
    "plt.show()"
   ],
   "metadata": {
    "collapsed": false,
    "pycharm": {
     "name": "#%%\n"
    }
   }
  },
  {
   "cell_type": "code",
   "execution_count": null,
   "outputs": [],
   "source": [],
   "metadata": {
    "collapsed": false,
    "pycharm": {
     "name": "#%%\n"
    }
   }
  },
  {
   "cell_type": "code",
   "execution_count": 1,
   "outputs": [
    {
     "name": "stdout",
     "output_type": "stream",
     "text": [
      "8000\n"
     ]
    }
   ],
   "source": [],
   "metadata": {
    "collapsed": false,
    "pycharm": {
     "name": "#%%\n"
    }
   }
  },
  {
   "cell_type": "code",
   "execution_count": null,
   "outputs": [],
   "source": [],
   "metadata": {
    "collapsed": false,
    "pycharm": {
     "name": "#%%\n"
    }
   }
  }
 ],
 "metadata": {
  "kernelspec": {
   "display_name": "Python 3",
   "language": "python",
   "name": "python3"
  },
  "language_info": {
   "codemirror_mode": {
    "name": "ipython",
    "version": 2
   },
   "file_extension": ".py",
   "mimetype": "text/x-python",
   "name": "python",
   "nbconvert_exporter": "python",
   "pygments_lexer": "ipython2",
   "version": "2.7.6"
  }
 },
 "nbformat": 4,
 "nbformat_minor": 0
}