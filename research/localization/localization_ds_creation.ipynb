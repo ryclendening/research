{
 "cells": [
  {
   "cell_type": "code",
   "execution_count": 2,
   "metadata": {
    "collapsed": true,
    "pycharm": {
     "name": "#%%\n"
    }
   },
   "outputs": [],
   "source": [
    "import datetime\n",
    "import math\n",
    "\n",
    "from matplotlib import pyplot as plt\n",
    "from redvox.api1000.wrapped_redvox_packet.wrapped_packet import WrappedRedvoxPacketM\n",
    "from redvox.common.data_window import DataWindow, DataWindowConfig\n",
    "import pandas as pd\n",
    "from scipy.io.wavfile import write\n",
    "import sys\n",
    "import re\n",
    "import shutil\n",
    "import os\n",
    "import csv\n",
    "import datetime\n",
    "import numpy as np\n",
    "from research.dataImporting import dataTools\n",
    "import librosa\n",
    "from librosa.feature import mfcc\n",
    "import librosa\n",
    "import pandas as pd\n",
    "from librosa.effects import pitch_shift\n",
    "import os\n",
    "import pathlib\n",
    "import random\n",
    "import matplotlib.pyplot as plt\n",
    "import numpy as np\n",
    "import seaborn as sns\n",
    "from librosa.feature import mfcc,melspectrogram\n",
    "import scipy.io.wavfile as wav\n",
    "import tensorflow as tf\n",
    "import scipy\n",
    "import scipy.signal as signal\n",
    "import keras\n",
    "from sklearn.model_selection import train_test_split\n",
    "from keras.models import Model\n",
    "from keras.optimizers import adam_v2\n",
    "from keras.layers import Input, Conv1D,Conv2D,Conv3D,SeparableConv1D,MaxPooling2D, MaxPooling1D, Flatten, Dense, Dropout, \\\n",
    "    BatchNormalization, Activation, LSTM\n",
    "from keras.callbacks import EarlyStopping, ModelCheckpoint, ReduceLROnPlateau\n",
    "from sklearn.model_selection import train_test_split\n",
    "from keras.utils.np_utils import to_categorical\n",
    "import librosa.display"
   ]
  },
  {
   "cell_type": "markdown",
   "source": [
    "# Range Estimation Dataset Creation (prints to CSV). This is the good one"
   ],
   "metadata": {
    "collapsed": false,
    "pycharm": {
     "name": "#%% md\n"
    }
   }
  },
  {
   "cell_type": "markdown",
   "source": [
    "Data augmentation is a failed effort... does not improve overfitting issues what so ever. In EVP, the ML model that uses data augmentation achieves 0.74 F1 score for EVP and 0.55 Phones."
   ],
   "metadata": {
    "collapsed": false,
    "pycharm": {
     "name": "#%% md\n"
    }
   }
  },
  {
   "cell_type": "code",
   "execution_count": 10,
   "outputs": [
    {
     "name": "stdout",
     "output_type": "stream",
     "text": [
      "\n"
     ]
    },
    {
     "name": "stderr",
     "output_type": "stream",
     "text": [
      "C:\\Users\\rclendening\\AppData\\Local\\Temp\\1\\ipykernel_12432\\2244936242.py:189: DtypeWarning: Columns (49) have mixed types. Specify dtype option on import or set low_memory=False.\n",
      "  GPS_flight_log=pd.read_csv((\"C:\\\\Users\\\\rclendening\\\\researchData\\\\ESCAPE II_AFRL_SSD\\\\UAS Campaign\\\\UAS_log_files\\\\A1_A2_A3\"+\"\\\\\"+drone_gps_file+\".csv\"))\n"
     ]
    },
    {
     "name": "stdout",
     "output_type": "stream",
     "text": [
      "C:\\Users\\rclendening\\researchData\\ESCAPE II_AFRL_SSD\\UAS Campaign\\UAS_log_files\\A1_A2_A3\\FLY101(1123-1155).csv\n"
     ]
    },
    {
     "name": "stderr",
     "output_type": "stream",
     "text": [
      "C:\\Users\\rclendening\\AppData\\Local\\Temp\\1\\ipykernel_12432\\2244936242.py:189: DtypeWarning: Columns (49) have mixed types. Specify dtype option on import or set low_memory=False.\n",
      "  GPS_flight_log=pd.read_csv((\"C:\\\\Users\\\\rclendening\\\\researchData\\\\ESCAPE II_AFRL_SSD\\\\UAS Campaign\\\\UAS_log_files\\\\A1_A2_A3\"+\"\\\\\"+drone_gps_file+\".csv\"))\n"
     ]
    },
    {
     "name": "stdout",
     "output_type": "stream",
     "text": [
      "C:\\Users\\rclendening\\researchData\\ESCAPE II_AFRL_SSD\\UAS Campaign\\UAS_log_files\\A1_A2_A3\\FLY101(1123-1155).csv\n"
     ]
    },
    {
     "name": "stderr",
     "output_type": "stream",
     "text": [
      "C:\\Users\\rclendening\\AppData\\Local\\Temp\\1\\ipykernel_12432\\2244936242.py:189: DtypeWarning: Columns (49) have mixed types. Specify dtype option on import or set low_memory=False.\n",
      "  GPS_flight_log=pd.read_csv((\"C:\\\\Users\\\\rclendening\\\\researchData\\\\ESCAPE II_AFRL_SSD\\\\UAS Campaign\\\\UAS_log_files\\\\A1_A2_A3\"+\"\\\\\"+drone_gps_file+\".csv\"))\n"
     ]
    },
    {
     "name": "stdout",
     "output_type": "stream",
     "text": [
      "C:\\Users\\rclendening\\researchData\\ESCAPE II_AFRL_SSD\\UAS Campaign\\UAS_log_files\\A1_A2_A3\\FLY101(1123-1155).csv\n"
     ]
    },
    {
     "name": "stderr",
     "output_type": "stream",
     "text": [
      "C:\\Users\\rclendening\\AppData\\Local\\Temp\\1\\ipykernel_12432\\2244936242.py:189: DtypeWarning: Columns (49) have mixed types. Specify dtype option on import or set low_memory=False.\n",
      "  GPS_flight_log=pd.read_csv((\"C:\\\\Users\\\\rclendening\\\\researchData\\\\ESCAPE II_AFRL_SSD\\\\UAS Campaign\\\\UAS_log_files\\\\A1_A2_A3\"+\"\\\\\"+drone_gps_file+\".csv\"))\n"
     ]
    },
    {
     "name": "stdout",
     "output_type": "stream",
     "text": [
      "C:\\Users\\rclendening\\researchData\\ESCAPE II_AFRL_SSD\\UAS Campaign\\UAS_log_files\\A1_A2_A3\\FLY101(1123-1155).csv\n"
     ]
    },
    {
     "name": "stderr",
     "output_type": "stream",
     "text": [
      "C:\\Users\\rclendening\\AppData\\Local\\Temp\\1\\ipykernel_12432\\2244936242.py:189: DtypeWarning: Columns (49) have mixed types. Specify dtype option on import or set low_memory=False.\n",
      "  GPS_flight_log=pd.read_csv((\"C:\\\\Users\\\\rclendening\\\\researchData\\\\ESCAPE II_AFRL_SSD\\\\UAS Campaign\\\\UAS_log_files\\\\A1_A2_A3\"+\"\\\\\"+drone_gps_file+\".csv\"))\n"
     ]
    },
    {
     "name": "stdout",
     "output_type": "stream",
     "text": [
      "C:\\Users\\rclendening\\researchData\\ESCAPE II_AFRL_SSD\\UAS Campaign\\UAS_log_files\\A1_A2_A3\\FLY101(1123-1155).csv\n"
     ]
    },
    {
     "name": "stderr",
     "output_type": "stream",
     "text": [
      "C:\\Users\\rclendening\\AppData\\Local\\Temp\\1\\ipykernel_12432\\2244936242.py:189: DtypeWarning: Columns (49) have mixed types. Specify dtype option on import or set low_memory=False.\n",
      "  GPS_flight_log=pd.read_csv((\"C:\\\\Users\\\\rclendening\\\\researchData\\\\ESCAPE II_AFRL_SSD\\\\UAS Campaign\\\\UAS_log_files\\\\A1_A2_A3\"+\"\\\\\"+drone_gps_file+\".csv\"))\n"
     ]
    },
    {
     "name": "stdout",
     "output_type": "stream",
     "text": [
      "C:\\Users\\rclendening\\researchData\\ESCAPE II_AFRL_SSD\\UAS Campaign\\UAS_log_files\\A1_A2_A3\\FLY103(1322-1342).csv\n"
     ]
    },
    {
     "name": "stderr",
     "output_type": "stream",
     "text": [
      "C:\\Users\\rclendening\\AppData\\Local\\Temp\\1\\ipykernel_12432\\2244936242.py:189: DtypeWarning: Columns (49) have mixed types. Specify dtype option on import or set low_memory=False.\n",
      "  GPS_flight_log=pd.read_csv((\"C:\\\\Users\\\\rclendening\\\\researchData\\\\ESCAPE II_AFRL_SSD\\\\UAS Campaign\\\\UAS_log_files\\\\A1_A2_A3\"+\"\\\\\"+drone_gps_file+\".csv\"))\n"
     ]
    },
    {
     "name": "stdout",
     "output_type": "stream",
     "text": [
      "C:\\Users\\rclendening\\researchData\\ESCAPE II_AFRL_SSD\\UAS Campaign\\UAS_log_files\\A1_A2_A3\\FLY103(1322-1342).csv\n"
     ]
    },
    {
     "name": "stderr",
     "output_type": "stream",
     "text": [
      "C:\\Users\\rclendening\\AppData\\Local\\Temp\\1\\ipykernel_12432\\2244936242.py:189: DtypeWarning: Columns (49) have mixed types. Specify dtype option on import or set low_memory=False.\n",
      "  GPS_flight_log=pd.read_csv((\"C:\\\\Users\\\\rclendening\\\\researchData\\\\ESCAPE II_AFRL_SSD\\\\UAS Campaign\\\\UAS_log_files\\\\A1_A2_A3\"+\"\\\\\"+drone_gps_file+\".csv\"))\n"
     ]
    },
    {
     "name": "stdout",
     "output_type": "stream",
     "text": [
      "C:\\Users\\rclendening\\researchData\\ESCAPE II_AFRL_SSD\\UAS Campaign\\UAS_log_files\\A1_A2_A3\\FLY103(1322-1342).csv\n"
     ]
    },
    {
     "name": "stderr",
     "output_type": "stream",
     "text": [
      "C:\\Users\\rclendening\\AppData\\Local\\Temp\\1\\ipykernel_12432\\2244936242.py:189: DtypeWarning: Columns (49) have mixed types. Specify dtype option on import or set low_memory=False.\n",
      "  GPS_flight_log=pd.read_csv((\"C:\\\\Users\\\\rclendening\\\\researchData\\\\ESCAPE II_AFRL_SSD\\\\UAS Campaign\\\\UAS_log_files\\\\A1_A2_A3\"+\"\\\\\"+drone_gps_file+\".csv\"))\n"
     ]
    },
    {
     "name": "stdout",
     "output_type": "stream",
     "text": [
      "C:\\Users\\rclendening\\researchData\\ESCAPE II_AFRL_SSD\\UAS Campaign\\UAS_log_files\\A1_A2_A3\\FLY103(1322-1342).csv\n"
     ]
    },
    {
     "name": "stderr",
     "output_type": "stream",
     "text": [
      "C:\\Users\\rclendening\\AppData\\Local\\Temp\\1\\ipykernel_12432\\2244936242.py:189: DtypeWarning: Columns (49) have mixed types. Specify dtype option on import or set low_memory=False.\n",
      "  GPS_flight_log=pd.read_csv((\"C:\\\\Users\\\\rclendening\\\\researchData\\\\ESCAPE II_AFRL_SSD\\\\UAS Campaign\\\\UAS_log_files\\\\A1_A2_A3\"+\"\\\\\"+drone_gps_file+\".csv\"))\n"
     ]
    },
    {
     "name": "stdout",
     "output_type": "stream",
     "text": [
      "C:\\Users\\rclendening\\researchData\\ESCAPE II_AFRL_SSD\\UAS Campaign\\UAS_log_files\\A1_A2_A3\\FLY103(1322-1342).csv\n"
     ]
    },
    {
     "name": "stderr",
     "output_type": "stream",
     "text": [
      "C:\\Users\\rclendening\\AppData\\Local\\Temp\\1\\ipykernel_12432\\2244936242.py:189: DtypeWarning: Columns (49) have mixed types. Specify dtype option on import or set low_memory=False.\n",
      "  GPS_flight_log=pd.read_csv((\"C:\\\\Users\\\\rclendening\\\\researchData\\\\ESCAPE II_AFRL_SSD\\\\UAS Campaign\\\\UAS_log_files\\\\A1_A2_A3\"+\"\\\\\"+drone_gps_file+\".csv\"))\n"
     ]
    },
    {
     "name": "stdout",
     "output_type": "stream",
     "text": [
      "C:\\Users\\rclendening\\researchData\\ESCAPE II_AFRL_SSD\\UAS Campaign\\UAS_log_files\\A1_A2_A3\\FLY103(1322-1342).csv\n"
     ]
    },
    {
     "name": "stderr",
     "output_type": "stream",
     "text": [
      "C:\\Users\\rclendening\\AppData\\Local\\Temp\\1\\ipykernel_12432\\2244936242.py:189: DtypeWarning: Columns (19) have mixed types. Specify dtype option on import or set low_memory=False.\n",
      "  GPS_flight_log=pd.read_csv((\"C:\\\\Users\\\\rclendening\\\\researchData\\\\ESCAPE II_AFRL_SSD\\\\UAS Campaign\\\\UAS_log_files\\\\A1_A2_A3\"+\"\\\\\"+drone_gps_file+\".csv\"))\n"
     ]
    },
    {
     "name": "stdout",
     "output_type": "stream",
     "text": [
      "C:\\Users\\rclendening\\researchData\\ESCAPE II_AFRL_SSD\\UAS Campaign\\UAS_log_files\\A1_A2_A3\\FLY031(1333-1358).csv\n"
     ]
    },
    {
     "name": "stderr",
     "output_type": "stream",
     "text": [
      "C:\\Users\\rclendening\\AppData\\Local\\Temp\\1\\ipykernel_12432\\2244936242.py:189: DtypeWarning: Columns (19) have mixed types. Specify dtype option on import or set low_memory=False.\n",
      "  GPS_flight_log=pd.read_csv((\"C:\\\\Users\\\\rclendening\\\\researchData\\\\ESCAPE II_AFRL_SSD\\\\UAS Campaign\\\\UAS_log_files\\\\A1_A2_A3\"+\"\\\\\"+drone_gps_file+\".csv\"))\n"
     ]
    },
    {
     "name": "stdout",
     "output_type": "stream",
     "text": [
      "C:\\Users\\rclendening\\researchData\\ESCAPE II_AFRL_SSD\\UAS Campaign\\UAS_log_files\\A1_A2_A3\\FLY031(1333-1358).csv\n"
     ]
    },
    {
     "name": "stderr",
     "output_type": "stream",
     "text": [
      "C:\\Users\\rclendening\\AppData\\Local\\Temp\\1\\ipykernel_12432\\2244936242.py:189: DtypeWarning: Columns (19) have mixed types. Specify dtype option on import or set low_memory=False.\n",
      "  GPS_flight_log=pd.read_csv((\"C:\\\\Users\\\\rclendening\\\\researchData\\\\ESCAPE II_AFRL_SSD\\\\UAS Campaign\\\\UAS_log_files\\\\A1_A2_A3\"+\"\\\\\"+drone_gps_file+\".csv\"))\n"
     ]
    },
    {
     "name": "stdout",
     "output_type": "stream",
     "text": [
      "C:\\Users\\rclendening\\researchData\\ESCAPE II_AFRL_SSD\\UAS Campaign\\UAS_log_files\\A1_A2_A3\\FLY031(1333-1358).csv\n"
     ]
    },
    {
     "name": "stderr",
     "output_type": "stream",
     "text": [
      "C:\\Users\\rclendening\\AppData\\Local\\Temp\\1\\ipykernel_12432\\2244936242.py:189: DtypeWarning: Columns (19) have mixed types. Specify dtype option on import or set low_memory=False.\n",
      "  GPS_flight_log=pd.read_csv((\"C:\\\\Users\\\\rclendening\\\\researchData\\\\ESCAPE II_AFRL_SSD\\\\UAS Campaign\\\\UAS_log_files\\\\A1_A2_A3\"+\"\\\\\"+drone_gps_file+\".csv\"))\n"
     ]
    },
    {
     "name": "stdout",
     "output_type": "stream",
     "text": [
      "C:\\Users\\rclendening\\researchData\\ESCAPE II_AFRL_SSD\\UAS Campaign\\UAS_log_files\\A1_A2_A3\\FLY031(1333-1358).csv\n",
      "C:\\Users\\rclendening\\researchData\\ESCAPE II_AFRL_SSD\\UAS Campaign\\UAS_log_files\\A1_A2_A3\\FLY032(1358-1412).csv\n"
     ]
    },
    {
     "name": "stderr",
     "output_type": "stream",
     "text": [
      "C:\\Users\\rclendening\\AppData\\Local\\Temp\\1\\ipykernel_12432\\2244936242.py:189: DtypeWarning: Columns (19) have mixed types. Specify dtype option on import or set low_memory=False.\n",
      "  GPS_flight_log=pd.read_csv((\"C:\\\\Users\\\\rclendening\\\\researchData\\\\ESCAPE II_AFRL_SSD\\\\UAS Campaign\\\\UAS_log_files\\\\A1_A2_A3\"+\"\\\\\"+drone_gps_file+\".csv\"))\n"
     ]
    },
    {
     "name": "stdout",
     "output_type": "stream",
     "text": [
      "C:\\Users\\rclendening\\researchData\\ESCAPE II_AFRL_SSD\\UAS Campaign\\UAS_log_files\\A1_A2_A3\\FLY031(1333-1358).csv\n"
     ]
    },
    {
     "name": "stderr",
     "output_type": "stream",
     "text": [
      "C:\\Users\\rclendening\\AppData\\Local\\Temp\\1\\ipykernel_12432\\2244936242.py:189: DtypeWarning: Columns (19) have mixed types. Specify dtype option on import or set low_memory=False.\n",
      "  GPS_flight_log=pd.read_csv((\"C:\\\\Users\\\\rclendening\\\\researchData\\\\ESCAPE II_AFRL_SSD\\\\UAS Campaign\\\\UAS_log_files\\\\A1_A2_A3\"+\"\\\\\"+drone_gps_file+\".csv\"))\n"
     ]
    },
    {
     "name": "stdout",
     "output_type": "stream",
     "text": [
      "C:\\Users\\rclendening\\researchData\\ESCAPE II_AFRL_SSD\\UAS Campaign\\UAS_log_files\\A1_A2_A3\\FLY031(1333-1358).csv\n"
     ]
    },
    {
     "name": "stderr",
     "output_type": "stream",
     "text": [
      "C:\\Users\\rclendening\\AppData\\Local\\Temp\\1\\ipykernel_12432\\2244936242.py:189: DtypeWarning: Columns (19) have mixed types. Specify dtype option on import or set low_memory=False.\n",
      "  GPS_flight_log=pd.read_csv((\"C:\\\\Users\\\\rclendening\\\\researchData\\\\ESCAPE II_AFRL_SSD\\\\UAS Campaign\\\\UAS_log_files\\\\A1_A2_A3\"+\"\\\\\"+drone_gps_file+\".csv\"))\n"
     ]
    },
    {
     "name": "stdout",
     "output_type": "stream",
     "text": [
      "C:\\Users\\rclendening\\researchData\\ESCAPE II_AFRL_SSD\\UAS Campaign\\UAS_log_files\\A1_A2_A3\\FLY031(1333-1358).csv\n",
      "C:\\Users\\rclendening\\researchData\\ESCAPE II_AFRL_SSD\\UAS Campaign\\UAS_log_files\\A1_A2_A3\\FLY032(1358-1412).csv\n",
      "C:\\Users\\rclendening\\researchData\\ESCAPE II_AFRL_SSD\\UAS Campaign\\UAS_log_files\\A1_A2_A3\\FLY032(1358-1412).csv\n"
     ]
    },
    {
     "name": "stderr",
     "output_type": "stream",
     "text": [
      "C:\\Users\\rclendening\\AppData\\Local\\Temp\\1\\ipykernel_12432\\2244936242.py:189: DtypeWarning: Columns (49) have mixed types. Specify dtype option on import or set low_memory=False.\n",
      "  GPS_flight_log=pd.read_csv((\"C:\\\\Users\\\\rclendening\\\\researchData\\\\ESCAPE II_AFRL_SSD\\\\UAS Campaign\\\\UAS_log_files\\\\A1_A2_A3\"+\"\\\\\"+drone_gps_file+\".csv\"))\n"
     ]
    },
    {
     "name": "stdout",
     "output_type": "stream",
     "text": [
      "C:\\Users\\rclendening\\researchData\\ESCAPE II_AFRL_SSD\\UAS Campaign\\UAS_log_files\\A1_A2_A3\\FLY131.csv\n"
     ]
    },
    {
     "name": "stderr",
     "output_type": "stream",
     "text": [
      "C:\\Users\\rclendening\\AppData\\Local\\Temp\\1\\ipykernel_12432\\2244936242.py:189: DtypeWarning: Columns (49) have mixed types. Specify dtype option on import or set low_memory=False.\n",
      "  GPS_flight_log=pd.read_csv((\"C:\\\\Users\\\\rclendening\\\\researchData\\\\ESCAPE II_AFRL_SSD\\\\UAS Campaign\\\\UAS_log_files\\\\A1_A2_A3\"+\"\\\\\"+drone_gps_file+\".csv\"))\n"
     ]
    },
    {
     "name": "stdout",
     "output_type": "stream",
     "text": [
      "C:\\Users\\rclendening\\researchData\\ESCAPE II_AFRL_SSD\\UAS Campaign\\UAS_log_files\\A1_A2_A3\\FLY135.csv\n"
     ]
    },
    {
     "name": "stderr",
     "output_type": "stream",
     "text": [
      "C:\\Users\\rclendening\\AppData\\Local\\Temp\\1\\ipykernel_12432\\2244936242.py:189: DtypeWarning: Columns (49) have mixed types. Specify dtype option on import or set low_memory=False.\n",
      "  GPS_flight_log=pd.read_csv((\"C:\\\\Users\\\\rclendening\\\\researchData\\\\ESCAPE II_AFRL_SSD\\\\UAS Campaign\\\\UAS_log_files\\\\A1_A2_A3\"+\"\\\\\"+drone_gps_file+\".csv\"))\n"
     ]
    },
    {
     "name": "stdout",
     "output_type": "stream",
     "text": [
      "C:\\Users\\rclendening\\researchData\\ESCAPE II_AFRL_SSD\\UAS Campaign\\UAS_log_files\\A1_A2_A3\\FLY135.csv\n"
     ]
    },
    {
     "name": "stderr",
     "output_type": "stream",
     "text": [
      "C:\\Users\\rclendening\\AppData\\Local\\Temp\\1\\ipykernel_12432\\2244936242.py:189: DtypeWarning: Columns (49) have mixed types. Specify dtype option on import or set low_memory=False.\n",
      "  GPS_flight_log=pd.read_csv((\"C:\\\\Users\\\\rclendening\\\\researchData\\\\ESCAPE II_AFRL_SSD\\\\UAS Campaign\\\\UAS_log_files\\\\A1_A2_A3\"+\"\\\\\"+drone_gps_file+\".csv\"))\n"
     ]
    },
    {
     "name": "stdout",
     "output_type": "stream",
     "text": [
      "C:\\Users\\rclendening\\researchData\\ESCAPE II_AFRL_SSD\\UAS Campaign\\UAS_log_files\\A1_A2_A3\\FLY135.csv\n"
     ]
    },
    {
     "name": "stderr",
     "output_type": "stream",
     "text": [
      "C:\\Users\\rclendening\\AppData\\Local\\Temp\\1\\ipykernel_12432\\2244936242.py:189: DtypeWarning: Columns (49) have mixed types. Specify dtype option on import or set low_memory=False.\n",
      "  GPS_flight_log=pd.read_csv((\"C:\\\\Users\\\\rclendening\\\\researchData\\\\ESCAPE II_AFRL_SSD\\\\UAS Campaign\\\\UAS_log_files\\\\A1_A2_A3\"+\"\\\\\"+drone_gps_file+\".csv\"))\n"
     ]
    },
    {
     "name": "stdout",
     "output_type": "stream",
     "text": [
      "C:\\Users\\rclendening\\researchData\\ESCAPE II_AFRL_SSD\\UAS Campaign\\UAS_log_files\\A1_A2_A3\\FLY135.csv\n",
      "C:\\Users\\rclendening\\researchData\\ESCAPE II_AFRL_SSD\\UAS Campaign\\UAS_log_files\\A1_A2_A3\\FLY036.csv\n"
     ]
    }
   ],
   "source": [
    "def convertToGPS(path,name):\n",
    "    window = dataTools.import_redVoxData(path)\n",
    "    station = window.first_station()\n",
    "\n",
    "    locationSensor = station.best_location_sensor()\n",
    "    if locationSensor:\n",
    "        lat=locationSensor._data.columns[3]\n",
    "        lon=locationSensor._data.columns[4]\n",
    "        alt=locationSensor._data.columns[5]\n",
    "        phoneGPS.append([name,np.mean(lat),np.mean(lon),150.0]) #gps altitude seems a bit off\n",
    "\n",
    "\n",
    "def searchDir(rootdir):\n",
    "    it = 0\n",
    "    for it in os.scandir(rootdir):\n",
    "        if it.is_dir():\n",
    "            # print(it.path)\n",
    "            searchDir(it)\n",
    "        else:\n",
    "            it = os.path.dirname(it)\n",
    "            break\n",
    "    if isinstance(it, str):\n",
    "        splitPath = it.split('\\\\')\n",
    "        convertToGPS(it,splitPath[8])\n",
    "\n",
    "def get_filepaths(data_path):\n",
    "    data_files=[]\n",
    "    for path, subdirs, files in os.walk(data_path):\n",
    "        for name in files:\n",
    "            data_files.append(os.path.join(path, name))\n",
    "    return data_files\n",
    "\n",
    "# def split_audio(waveData, sampleFreq):\n",
    "#     '''\n",
    "#     Frames audio data and converts to feature space (MFCC)\n",
    "#     :param waveData: waveData array of time-domain audio\n",
    "#     :param sampleFreq: Sample Frequency (8Khz)\n",
    "#     @return list of features (ds), list of labels corresponding to feature dataset:\n",
    "#     '''\n",
    "#     # middle third of data\n",
    "#     duration = waveData.shape[0]\n",
    "#     startTime = np.round(duration / 3)\n",
    "#     endTime = np.round(duration * 2 / 3)\n",
    "#     waveDataSplit= waveData[int(startTime):int(endTime)]\n",
    "#     features=MFCCCalc(waveDataSplit.squeeze(), sampleFreq)\n",
    "#     #label= [droneDict[labelName]] * features.shape[1]\n",
    "#     return features\n",
    "\n",
    "def create_dataset(train_files, totTime):\n",
    "    '''\n",
    "    Creates feature dataset and label dataset.\n",
    "    @param train_files: EagerTensor of file paths.\n",
    "    @return list of features (ds), list of labels corresponding to feature dataset:\n",
    "    '''\n",
    "    features = {}\n",
    "    for x in train_files:\n",
    "        #test_file = tf.io.read_file(x)\n",
    "        #test_audio, sampleRate = tf.audio.decode_wav(contents=test_file)\n",
    "        test_audio, sampleRate = librosa.load(x, sr=8000)\n",
    "        x = str(x)\n",
    "        if min(np.asarray(test_audio)) != 0 and len(test_audio)==totTime*8000 :\n",
    "            #newData = test_audio[0: test_audio.shape[0] - test_audio.shape[0] % sampleRate]  # trim to nearest second\n",
    "            #newFeats, newLabs = split_audio(test_audio, int(sampleRate))\n",
    "            phone_features = MFCCCalc(test_audio.squeeze(),Fs=8000)\n",
    "            features[x.split(\"\\\\\")[7].split(\".\")[0]]=phone_features.transpose()\n",
    "        # else:\n",
    "        #     features.append([x.split(\"\\\\\")[7].split(\".\")[0],0.00]) #just trying to fill space\n",
    "\n",
    "    return features\n",
    "\n",
    "def create_spect_dataset(train_files, totTime):\n",
    "    '''\n",
    "    Creates feature dataset and label dataset.\n",
    "    @param train_files: EagerTensor of file paths.\n",
    "    @return list of features (ds), list of labels corresponding to feature dataset:\n",
    "    '''\n",
    "    features = {}\n",
    "    raw_feats={}\n",
    "    for x in train_files:\n",
    "        phone_spects=[]\n",
    "        phone_raw=[]\n",
    "        #test_file = tf.io.read_file(x)\n",
    "        #test_audio, sampleRate = tf.audio.decode_wav(contents=test_file)\n",
    "        test_audio, sampleRate = librosa.load(x, sr=8000)\n",
    "        x = str(x)\n",
    "        if min(np.asarray(test_audio)) != 0 and len(test_audio)==totTime*8000 :\n",
    "            #newData = test_audio[0: test_audio.shape[0] - test_audio.shape[0] % sampleRate]  # trim to nearest second\n",
    "            #newFeats, newLabs = split_audio(test_audio, int(sampleRate))\n",
    "            split=split_audio(test_audio,0.5,.256,8000)\n",
    "            for frame in split:\n",
    "                #spect = melspect(frame.squeeze(),Fs=8000)\n",
    "                frame=np.int16((frame / np.max(np.abs(frame)) * 32767))\n",
    "                phone_raw.append(frame)\n",
    "                #spect=spect.flatten() #np.reshape(64,4) to unflatten\n",
    "                #phone_spects.append(spect)\n",
    "            #features[x.split(\"\\\\\")[7].split(\".\")[0]]=np.array(phone_spects)\n",
    "            raw_feats[x.split(\"\\\\\")[7].split(\".\")[0]]=np.array(phone_raw)\n",
    "        # else:\n",
    "        #     features.append([x.split(\"\\\\\")[7].split(\".\")[0],0.00]) #just trying to fill space\n",
    "\n",
    "    return features, raw_feats\n",
    "def split_audio(audio_data,overlap,size,fs):\n",
    "    frames=[]\n",
    "    lead=size*fs\n",
    "    follow=0\n",
    "    hop=(overlap*size)*fs\n",
    "    if overlap == 0:\n",
    "        hop=size*fs\n",
    "    while lead<=len(audio_data):\n",
    "        frames.append(audio_data[int(follow):int(lead)])\n",
    "        follow= follow+hop\n",
    "        lead=lead+hop\n",
    "    return frames\n",
    "def melspect(audioData, Fs):\n",
    "    '''\n",
    "    Converts decoded wav file to MFCC feature space\n",
    "    @param audioData: Numpy array of decoded audio wav file\n",
    "    @return MFCC coefficients\n",
    "    '''\n",
    "    data= audioData.astype(float)\n",
    "    spect = melspectrogram(y=data,sr=Fs, hop_length=1024,n_mels=64, n_fft=2048)\n",
    "    fig, ax = plt.subplots()\n",
    "    S_dB = librosa.power_to_db(spect, ref=np.max)\n",
    "    img = librosa.display.specshow(S_dB, x_axis='time',\n",
    "                             y_axis='mel', sr=8000,\n",
    "                             fmax=4000, ax=ax)\n",
    "    fig.colorbar(img, ax=ax, format='%+2.0f dB')\n",
    "    ax.set(title='Mel-frequency spectrogram')\n",
    "    return spect\n",
    "\n",
    "def MFCCCalc(audioData, Fs):\n",
    "    '''\n",
    "    Converts decoded wav file to MFCC feature space\n",
    "    @param audioData: Numpy array of decoded audio wav file\n",
    "    @return MFCC coefficients\n",
    "    '''\n",
    "    #audioData=audioData.numpy()\n",
    "    data= audioData.astype(float)\n",
    "    #coefs = mfcc(data, sr=sampleRate, hop_length=2048)\n",
    "    coefs = mfcc(y=data, hop_length=2048,n_fft=2048,n_mfcc=40, sr=Fs)\n",
    "    return coefs\n",
    "\n",
    "dictionary_list=[]\n",
    "passes_df=pd.read_csv(r\"C:\\Users\\rclendening\\researchData\\researchCSVs_Scripts_etc\\A1_A2_A3_training_w_Matrice_Phantom.csv\")\n",
    "print()\n",
    "to_meters=111139\n",
    "range_df=pd.DataFrame(columns=[\"Pass\",\"Segment\",\"Name\",\"Lat\",\"Lon\",\"Alt\",\"Range\"])\n",
    "#range_df= pd.DataFrame(index=range(0),columns=(range(263)))\n",
    "range_raw_df= pd.DataFrame(index=range(0),columns=(range(7)))\n",
    "#range_df=pd.DataFrame()\n",
    "#test123=readDirectoryCSV(r\"C:\\Users\\rclendening\\researchData\\researchCSVs_Scripts_etc\\A1_A2_flight_directory.csv\")\n",
    "def distanceCalc(phoneLat,phoneLon,phoneAlt, droneLat,droneLon,droneAlt):\n",
    "    lat_delta= (phoneLat-droneLat)*to_meters\n",
    "    lon_delta=(phoneLon-droneLon)*to_meters\n",
    "    return np.sqrt((lat_delta**2+lon_delta**2+(phoneAlt-droneAlt)**2))\n",
    "\n",
    "\n",
    "def maxValueRanks(maxValArray):\n",
    "    maxValueRankArr=[]\n",
    "    for x in maxValArray:\n",
    "        seq = sorted(x)\n",
    "        index = [seq.index(v) for v in x]\n",
    "        maxValueRankArr.append(index)\n",
    "    return maxValueRankArr\n",
    "\n",
    "for x in passes_df.iterrows():\n",
    "    #indiv_df=pd.DataFrame(columns=[\"Pass\",\"Segment\",\"Name\",\"Lat\",\"Lon\",\"Alt\",\"Range\",'MFCC_0'])\n",
    "    #indiv_df= pd.DataFrame(index=range(0),columns=(range(263)))\n",
    "    indiv_raw_df= pd.DataFrame(index=range(0),columns=(range(47)))\n",
    "    phoneGPS=[]\n",
    "    row=x[1]\n",
    "    pass_num=row[0]\n",
    "    scenario=row[1]\n",
    "    run_num=row[2]\n",
    "    start=row[3]\n",
    "    stop=row[4]\n",
    "    drone_gps_file=row[5]\n",
    "    full_name=(str(scenario) + 'R' + str(run_num) + 'P' + str(pass_num)).strip()\n",
    "\n",
    "    searchDir((\"C:\\\\Users\\\\rclendening\\\\researchData\\\\Unused_Datasets\\\\EscapeCell_Data\\\\\"+scenario+\"\\\\\"+full_name))\n",
    "    GPS_df=pd.DataFrame(phoneGPS, columns=['Name','Lat','Lon','Alt'])\n",
    "\n",
    "    start_time=datetime.datetime(2021, 8, int(start[6:8]), int(start[9:11]), int(start[11:13]),int(start[13:15])).timestamp()\n",
    "    stop_time=datetime.datetime(2021, 8, int(stop[6:8]), int(stop[9:11]), int(stop[11:13]),int(stop[13:15])).timestamp()\n",
    "    if drone_gps_file[0]== 'F':\n",
    "        FLY=True\n",
    "    else:\n",
    "        FLY=False\n",
    "    GPS_flight_log=pd.read_csv((\"C:\\\\Users\\\\rclendening\\\\researchData\\\\ESCAPE II_AFRL_SSD\\\\UAS Campaign\\\\UAS_log_files\\\\A1_A2_A3\"+\"\\\\\"+drone_gps_file+\".csv\"))\n",
    "    print(\"C:\\\\Users\\\\rclendening\\\\researchData\\\\ESCAPE II_AFRL_SSD\\\\UAS Campaign\\\\UAS_log_files\\\\A1_A2_A3\"+\"\\\\\"+drone_gps_file+\".csv\")\n",
    "    if FLY:\n",
    "        lon=GPS_flight_log.iloc[:,4]\n",
    "        offsets=GPS_flight_log.iloc[:,1]\n",
    "        lat=GPS_flight_log.iloc[:,5]\n",
    "        time=GPS_flight_log.iloc[:,7]\n",
    "        date=GPS_flight_log.iloc[:,8]\n",
    "        height=GPS_flight_log.iloc[:,9]\n",
    "    else:\n",
    "        lon=GPS_flight_log.iloc[:,3]/10**7\n",
    "        lat=GPS_flight_log.iloc[:,2]/10**7\n",
    "        time_UTC=GPS_flight_log.iloc[:,1]/10**6\n",
    "        #height=GPS_flight_log.iloc[:,5]/10**3\n",
    "        height=GPS_flight_log.iloc[:,4]/10**3\n",
    "    #for phones in GPS_df: #FLY files Long=col(5) lat=col(6) date=col(7) time=col(8) height (MSL)=col(10)\n",
    "                        #Non-FLY files lat=col(3) lon=col(4) timestamp(UTC)=col(1) height (MSL)= col(5) in millimeters\n",
    "    usable_phones=[]\n",
    "    tot_time= stop_time-start_time\n",
    "\n",
    "    filepaths= get_filepaths(\"C:\\\\Users\\\\rclendening\\\\researchData\\\\EscapeCell_DataWav_V2\\\\\"+scenario+\"\\\\\"+full_name)\n",
    "    phone_features= create_dataset(filepaths,tot_time)\n",
    "    #phone_features, phone_raw= create_dataset(filepaths,tot_time)\n",
    "    first =True\n",
    "    for ph in phoneGPS:\n",
    "        if 43.00 < ph[1] < 44.00 and -75.00 > ph[2] > -76.00 and ph[0] in phone_features:\n",
    "            usable_phones.append(ph)\n",
    "    tot_segs = len(phone_features[list(phone_features.keys())[0]])\n",
    "    #tot_segs=tot_time/.128\n",
    "    # for t in range(0,len(GPS_flight_log),10):\n",
    "    t=0\n",
    "    done=False\n",
    "    MFCC_index=0\n",
    "    while not done:\n",
    "        if FLY:\n",
    "            if np.isnan(time[t]):\n",
    "                cur_time=0\n",
    "            else:\n",
    "                if first:\n",
    "                    offset=offsets[t]\n",
    "                    first=False\n",
    "                    offset_time=datetime.datetime(2021, 8, int(start[6:8]), int(str(time[t])[0:2])-4,int(str(time[t])[2:4]),int(str(time[t])[4:6])).timestamp()\n",
    "                cur_time=offset_time+abs(offsets[t]-offset)\n",
    "        else:\n",
    "            cur_time=time_UTC[t]\n",
    "\n",
    "        time_delta=cur_time-start_time\n",
    "        prev_index=MFCC_index\n",
    "        MFCC_index = math.floor(tot_segs*time_delta/tot_time)\n",
    "        if  start_time <= cur_time< stop_time and MFCC_index!= prev_index:\n",
    "            #MFCC_df=pd.DataFrame()\n",
    "            for phone in usable_phones:\n",
    "                val = distanceCalc(phone[1],phone[2],phone[3], lat[t],lon[t],height[t])\n",
    "                # range_df.loc[len(range_df.index)]=[str(phone[0]),np.float64(phone[1]),np.float64(phone[2]),np.float64(phone[3]),np.float64(val),pd.Series(phone_features[phone[0]][MFCC_index])]\n",
    "\n",
    "                #data=[full_name,str(phone[0]),np.float64(phone[1]),np.float64(phone[2]),np.float64(phone[3]),np.float64(val),start_time,cur_time]\n",
    "\n",
    "                #data=[full_name,str(MFCC_index),str(phone[0]),np.float64(phone[1]),np.float64(phone[2]),np.float64(phone[3]),np.float64(val)]\n",
    "                #data.extend(phone_features[phone[0]][MFCC_index].tolist()) #MFCCs\n",
    "                data_raw=[full_name,str(MFCC_index),str(phone[0]),np.float64(phone[1]),np.float64(phone[2]),np.float64(phone[3]),np.float64(val)]\n",
    "                data_raw.extend(phone_features[phone[0]][MFCC_index].tolist()) #MFCCs\n",
    "                #indiv_df.loc[len(indiv_df.index)]=data\n",
    "                indiv_raw_df.loc[len(indiv_raw_df.index)]=data_raw\n",
    "        t+=4\n",
    "        if cur_time>stop_time:\n",
    "            done=True\n",
    "\n",
    "    #range_df= pd.concat([range_df, indiv_df])\n",
    "    range_raw_df=pd.concat([range_raw_df,indiv_raw_df])\n",
    "#range_df.to_csv('0.5s_spec_range_A1_A2_A3_no_overlap.csv')\n",
    "range_raw_df.to_csv('LT80m_detection_training_w_matrice_phantom.csv')"
   ],
   "metadata": {
    "collapsed": false,
    "pycharm": {
     "name": "#%%\n"
    }
   }
  },
  {
   "cell_type": "markdown",
   "source": [
    "# Up-samp Down-samp"
   ],
   "metadata": {
    "collapsed": false,
    "pycharm": {
     "name": "#%% md\n"
    }
   }
  },
  {
   "cell_type": "code",
   "execution_count": 14,
   "outputs": [
    {
     "name": "stdout",
     "output_type": "stream",
     "text": [
      "\n"
     ]
    },
    {
     "name": "stderr",
     "output_type": "stream",
     "text": [
      "C:\\Users\\rclendening\\AppData\\Local\\Temp\\1\\ipykernel_8772\\3464163070.py:229: DtypeWarning: Columns (49) have mixed types. Specify dtype option on import or set low_memory=False.\n",
      "  GPS_flight_log=pd.read_csv((\"C:\\\\Users\\\\rclendening\\\\researchData\\\\ESCAPE II_AFRL_SSD\\\\UAS Campaign\\\\UAS_log_files\\\\A1_A2_A3\"+\"\\\\\"+drone_gps_file+\".csv\"))\n"
     ]
    },
    {
     "name": "stdout",
     "output_type": "stream",
     "text": [
      "C:\\Users\\rclendening\\researchData\\ESCAPE II_AFRL_SSD\\UAS Campaign\\UAS_log_files\\A1_A2_A3\\FLY101(1123-1155).csv\n"
     ]
    },
    {
     "name": "stderr",
     "output_type": "stream",
     "text": [
      "C:\\Users\\rclendening\\AppData\\Local\\Temp\\1\\ipykernel_8772\\3464163070.py:229: DtypeWarning: Columns (49) have mixed types. Specify dtype option on import or set low_memory=False.\n",
      "  GPS_flight_log=pd.read_csv((\"C:\\\\Users\\\\rclendening\\\\researchData\\\\ESCAPE II_AFRL_SSD\\\\UAS Campaign\\\\UAS_log_files\\\\A1_A2_A3\"+\"\\\\\"+drone_gps_file+\".csv\"))\n"
     ]
    },
    {
     "name": "stdout",
     "output_type": "stream",
     "text": [
      "C:\\Users\\rclendening\\researchData\\ESCAPE II_AFRL_SSD\\UAS Campaign\\UAS_log_files\\A1_A2_A3\\FLY101(1123-1155).csv\n"
     ]
    },
    {
     "name": "stderr",
     "output_type": "stream",
     "text": [
      "C:\\Users\\rclendening\\AppData\\Local\\Temp\\1\\ipykernel_8772\\3464163070.py:229: DtypeWarning: Columns (49) have mixed types. Specify dtype option on import or set low_memory=False.\n",
      "  GPS_flight_log=pd.read_csv((\"C:\\\\Users\\\\rclendening\\\\researchData\\\\ESCAPE II_AFRL_SSD\\\\UAS Campaign\\\\UAS_log_files\\\\A1_A2_A3\"+\"\\\\\"+drone_gps_file+\".csv\"))\n"
     ]
    },
    {
     "name": "stdout",
     "output_type": "stream",
     "text": [
      "C:\\Users\\rclendening\\researchData\\ESCAPE II_AFRL_SSD\\UAS Campaign\\UAS_log_files\\A1_A2_A3\\FLY101(1123-1155).csv\n"
     ]
    },
    {
     "name": "stderr",
     "output_type": "stream",
     "text": [
      "C:\\Users\\rclendening\\AppData\\Local\\Temp\\1\\ipykernel_8772\\3464163070.py:229: DtypeWarning: Columns (49) have mixed types. Specify dtype option on import or set low_memory=False.\n",
      "  GPS_flight_log=pd.read_csv((\"C:\\\\Users\\\\rclendening\\\\researchData\\\\ESCAPE II_AFRL_SSD\\\\UAS Campaign\\\\UAS_log_files\\\\A1_A2_A3\"+\"\\\\\"+drone_gps_file+\".csv\"))\n"
     ]
    },
    {
     "name": "stdout",
     "output_type": "stream",
     "text": [
      "C:\\Users\\rclendening\\researchData\\ESCAPE II_AFRL_SSD\\UAS Campaign\\UAS_log_files\\A1_A2_A3\\FLY101(1123-1155).csv\n"
     ]
    },
    {
     "name": "stderr",
     "output_type": "stream",
     "text": [
      "C:\\Users\\rclendening\\AppData\\Local\\Temp\\1\\ipykernel_8772\\3464163070.py:229: DtypeWarning: Columns (49) have mixed types. Specify dtype option on import or set low_memory=False.\n",
      "  GPS_flight_log=pd.read_csv((\"C:\\\\Users\\\\rclendening\\\\researchData\\\\ESCAPE II_AFRL_SSD\\\\UAS Campaign\\\\UAS_log_files\\\\A1_A2_A3\"+\"\\\\\"+drone_gps_file+\".csv\"))\n"
     ]
    },
    {
     "name": "stdout",
     "output_type": "stream",
     "text": [
      "C:\\Users\\rclendening\\researchData\\ESCAPE II_AFRL_SSD\\UAS Campaign\\UAS_log_files\\A1_A2_A3\\FLY101(1123-1155).csv\n"
     ]
    },
    {
     "name": "stderr",
     "output_type": "stream",
     "text": [
      "C:\\Users\\rclendening\\AppData\\Local\\Temp\\1\\ipykernel_8772\\3464163070.py:229: DtypeWarning: Columns (49) have mixed types. Specify dtype option on import or set low_memory=False.\n",
      "  GPS_flight_log=pd.read_csv((\"C:\\\\Users\\\\rclendening\\\\researchData\\\\ESCAPE II_AFRL_SSD\\\\UAS Campaign\\\\UAS_log_files\\\\A1_A2_A3\"+\"\\\\\"+drone_gps_file+\".csv\"))\n"
     ]
    },
    {
     "name": "stdout",
     "output_type": "stream",
     "text": [
      "C:\\Users\\rclendening\\researchData\\ESCAPE II_AFRL_SSD\\UAS Campaign\\UAS_log_files\\A1_A2_A3\\FLY103(1322-1342).csv\n"
     ]
    },
    {
     "name": "stderr",
     "output_type": "stream",
     "text": [
      "C:\\Users\\rclendening\\AppData\\Local\\Temp\\1\\ipykernel_8772\\3464163070.py:229: DtypeWarning: Columns (49) have mixed types. Specify dtype option on import or set low_memory=False.\n",
      "  GPS_flight_log=pd.read_csv((\"C:\\\\Users\\\\rclendening\\\\researchData\\\\ESCAPE II_AFRL_SSD\\\\UAS Campaign\\\\UAS_log_files\\\\A1_A2_A3\"+\"\\\\\"+drone_gps_file+\".csv\"))\n"
     ]
    },
    {
     "name": "stdout",
     "output_type": "stream",
     "text": [
      "C:\\Users\\rclendening\\researchData\\ESCAPE II_AFRL_SSD\\UAS Campaign\\UAS_log_files\\A1_A2_A3\\FLY103(1322-1342).csv\n"
     ]
    },
    {
     "name": "stderr",
     "output_type": "stream",
     "text": [
      "C:\\Users\\rclendening\\AppData\\Local\\Temp\\1\\ipykernel_8772\\3464163070.py:229: DtypeWarning: Columns (49) have mixed types. Specify dtype option on import or set low_memory=False.\n",
      "  GPS_flight_log=pd.read_csv((\"C:\\\\Users\\\\rclendening\\\\researchData\\\\ESCAPE II_AFRL_SSD\\\\UAS Campaign\\\\UAS_log_files\\\\A1_A2_A3\"+\"\\\\\"+drone_gps_file+\".csv\"))\n"
     ]
    },
    {
     "name": "stdout",
     "output_type": "stream",
     "text": [
      "C:\\Users\\rclendening\\researchData\\ESCAPE II_AFRL_SSD\\UAS Campaign\\UAS_log_files\\A1_A2_A3\\FLY103(1322-1342).csv\n"
     ]
    },
    {
     "name": "stderr",
     "output_type": "stream",
     "text": [
      "C:\\Users\\rclendening\\AppData\\Local\\Temp\\1\\ipykernel_8772\\3464163070.py:229: DtypeWarning: Columns (49) have mixed types. Specify dtype option on import or set low_memory=False.\n",
      "  GPS_flight_log=pd.read_csv((\"C:\\\\Users\\\\rclendening\\\\researchData\\\\ESCAPE II_AFRL_SSD\\\\UAS Campaign\\\\UAS_log_files\\\\A1_A2_A3\"+\"\\\\\"+drone_gps_file+\".csv\"))\n"
     ]
    },
    {
     "name": "stdout",
     "output_type": "stream",
     "text": [
      "C:\\Users\\rclendening\\researchData\\ESCAPE II_AFRL_SSD\\UAS Campaign\\UAS_log_files\\A1_A2_A3\\FLY103(1322-1342).csv\n"
     ]
    },
    {
     "name": "stderr",
     "output_type": "stream",
     "text": [
      "C:\\Users\\rclendening\\AppData\\Local\\Temp\\1\\ipykernel_8772\\3464163070.py:229: DtypeWarning: Columns (49) have mixed types. Specify dtype option on import or set low_memory=False.\n",
      "  GPS_flight_log=pd.read_csv((\"C:\\\\Users\\\\rclendening\\\\researchData\\\\ESCAPE II_AFRL_SSD\\\\UAS Campaign\\\\UAS_log_files\\\\A1_A2_A3\"+\"\\\\\"+drone_gps_file+\".csv\"))\n"
     ]
    },
    {
     "name": "stdout",
     "output_type": "stream",
     "text": [
      "C:\\Users\\rclendening\\researchData\\ESCAPE II_AFRL_SSD\\UAS Campaign\\UAS_log_files\\A1_A2_A3\\FLY103(1322-1342).csv\n"
     ]
    },
    {
     "name": "stderr",
     "output_type": "stream",
     "text": [
      "C:\\Users\\rclendening\\AppData\\Local\\Temp\\1\\ipykernel_8772\\3464163070.py:229: DtypeWarning: Columns (49) have mixed types. Specify dtype option on import or set low_memory=False.\n",
      "  GPS_flight_log=pd.read_csv((\"C:\\\\Users\\\\rclendening\\\\researchData\\\\ESCAPE II_AFRL_SSD\\\\UAS Campaign\\\\UAS_log_files\\\\A1_A2_A3\"+\"\\\\\"+drone_gps_file+\".csv\"))\n"
     ]
    },
    {
     "name": "stdout",
     "output_type": "stream",
     "text": [
      "C:\\Users\\rclendening\\researchData\\ESCAPE II_AFRL_SSD\\UAS Campaign\\UAS_log_files\\A1_A2_A3\\FLY103(1322-1342).csv\n"
     ]
    },
    {
     "name": "stderr",
     "output_type": "stream",
     "text": [
      "C:\\Users\\rclendening\\AppData\\Local\\Temp\\1\\ipykernel_8772\\3464163070.py:229: DtypeWarning: Columns (19) have mixed types. Specify dtype option on import or set low_memory=False.\n",
      "  GPS_flight_log=pd.read_csv((\"C:\\\\Users\\\\rclendening\\\\researchData\\\\ESCAPE II_AFRL_SSD\\\\UAS Campaign\\\\UAS_log_files\\\\A1_A2_A3\"+\"\\\\\"+drone_gps_file+\".csv\"))\n"
     ]
    },
    {
     "name": "stdout",
     "output_type": "stream",
     "text": [
      "C:\\Users\\rclendening\\researchData\\ESCAPE II_AFRL_SSD\\UAS Campaign\\UAS_log_files\\A1_A2_A3\\FLY031(1333-1358).csv\n"
     ]
    },
    {
     "name": "stderr",
     "output_type": "stream",
     "text": [
      "C:\\Users\\rclendening\\AppData\\Local\\Temp\\1\\ipykernel_8772\\3464163070.py:229: DtypeWarning: Columns (19) have mixed types. Specify dtype option on import or set low_memory=False.\n",
      "  GPS_flight_log=pd.read_csv((\"C:\\\\Users\\\\rclendening\\\\researchData\\\\ESCAPE II_AFRL_SSD\\\\UAS Campaign\\\\UAS_log_files\\\\A1_A2_A3\"+\"\\\\\"+drone_gps_file+\".csv\"))\n"
     ]
    },
    {
     "name": "stdout",
     "output_type": "stream",
     "text": [
      "C:\\Users\\rclendening\\researchData\\ESCAPE II_AFRL_SSD\\UAS Campaign\\UAS_log_files\\A1_A2_A3\\FLY031(1333-1358).csv\n"
     ]
    },
    {
     "name": "stderr",
     "output_type": "stream",
     "text": [
      "C:\\Users\\rclendening\\AppData\\Local\\Temp\\1\\ipykernel_8772\\3464163070.py:229: DtypeWarning: Columns (19) have mixed types. Specify dtype option on import or set low_memory=False.\n",
      "  GPS_flight_log=pd.read_csv((\"C:\\\\Users\\\\rclendening\\\\researchData\\\\ESCAPE II_AFRL_SSD\\\\UAS Campaign\\\\UAS_log_files\\\\A1_A2_A3\"+\"\\\\\"+drone_gps_file+\".csv\"))\n"
     ]
    },
    {
     "name": "stdout",
     "output_type": "stream",
     "text": [
      "C:\\Users\\rclendening\\researchData\\ESCAPE II_AFRL_SSD\\UAS Campaign\\UAS_log_files\\A1_A2_A3\\FLY031(1333-1358).csv\n"
     ]
    },
    {
     "name": "stderr",
     "output_type": "stream",
     "text": [
      "C:\\Users\\rclendening\\AppData\\Local\\Temp\\1\\ipykernel_8772\\3464163070.py:229: DtypeWarning: Columns (19) have mixed types. Specify dtype option on import or set low_memory=False.\n",
      "  GPS_flight_log=pd.read_csv((\"C:\\\\Users\\\\rclendening\\\\researchData\\\\ESCAPE II_AFRL_SSD\\\\UAS Campaign\\\\UAS_log_files\\\\A1_A2_A3\"+\"\\\\\"+drone_gps_file+\".csv\"))\n"
     ]
    },
    {
     "name": "stdout",
     "output_type": "stream",
     "text": [
      "C:\\Users\\rclendening\\researchData\\ESCAPE II_AFRL_SSD\\UAS Campaign\\UAS_log_files\\A1_A2_A3\\FLY031(1333-1358).csv\n",
      "C:\\Users\\rclendening\\researchData\\ESCAPE II_AFRL_SSD\\UAS Campaign\\UAS_log_files\\A1_A2_A3\\FLY032(1358-1412).csv\n"
     ]
    },
    {
     "name": "stderr",
     "output_type": "stream",
     "text": [
      "C:\\Users\\rclendening\\AppData\\Local\\Temp\\1\\ipykernel_8772\\3464163070.py:229: DtypeWarning: Columns (19) have mixed types. Specify dtype option on import or set low_memory=False.\n",
      "  GPS_flight_log=pd.read_csv((\"C:\\\\Users\\\\rclendening\\\\researchData\\\\ESCAPE II_AFRL_SSD\\\\UAS Campaign\\\\UAS_log_files\\\\A1_A2_A3\"+\"\\\\\"+drone_gps_file+\".csv\"))\n"
     ]
    },
    {
     "name": "stdout",
     "output_type": "stream",
     "text": [
      "C:\\Users\\rclendening\\researchData\\ESCAPE II_AFRL_SSD\\UAS Campaign\\UAS_log_files\\A1_A2_A3\\FLY031(1333-1358).csv\n"
     ]
    },
    {
     "name": "stderr",
     "output_type": "stream",
     "text": [
      "C:\\Users\\rclendening\\AppData\\Local\\Temp\\1\\ipykernel_8772\\3464163070.py:229: DtypeWarning: Columns (19) have mixed types. Specify dtype option on import or set low_memory=False.\n",
      "  GPS_flight_log=pd.read_csv((\"C:\\\\Users\\\\rclendening\\\\researchData\\\\ESCAPE II_AFRL_SSD\\\\UAS Campaign\\\\UAS_log_files\\\\A1_A2_A3\"+\"\\\\\"+drone_gps_file+\".csv\"))\n"
     ]
    },
    {
     "name": "stdout",
     "output_type": "stream",
     "text": [
      "C:\\Users\\rclendening\\researchData\\ESCAPE II_AFRL_SSD\\UAS Campaign\\UAS_log_files\\A1_A2_A3\\FLY031(1333-1358).csv\n"
     ]
    },
    {
     "name": "stderr",
     "output_type": "stream",
     "text": [
      "C:\\Users\\rclendening\\AppData\\Local\\Temp\\1\\ipykernel_8772\\3464163070.py:229: DtypeWarning: Columns (19) have mixed types. Specify dtype option on import or set low_memory=False.\n",
      "  GPS_flight_log=pd.read_csv((\"C:\\\\Users\\\\rclendening\\\\researchData\\\\ESCAPE II_AFRL_SSD\\\\UAS Campaign\\\\UAS_log_files\\\\A1_A2_A3\"+\"\\\\\"+drone_gps_file+\".csv\"))\n"
     ]
    },
    {
     "name": "stdout",
     "output_type": "stream",
     "text": [
      "C:\\Users\\rclendening\\researchData\\ESCAPE II_AFRL_SSD\\UAS Campaign\\UAS_log_files\\A1_A2_A3\\FLY031(1333-1358).csv\n",
      "C:\\Users\\rclendening\\researchData\\ESCAPE II_AFRL_SSD\\UAS Campaign\\UAS_log_files\\A1_A2_A3\\FLY032(1358-1412).csv\n",
      "C:\\Users\\rclendening\\researchData\\ESCAPE II_AFRL_SSD\\UAS Campaign\\UAS_log_files\\A1_A2_A3\\FLY032(1358-1412).csv\n"
     ]
    },
    {
     "name": "stderr",
     "output_type": "stream",
     "text": [
      "C:\\Users\\rclendening\\AppData\\Local\\Temp\\1\\ipykernel_8772\\3464163070.py:151: DtypeWarning: Columns (49) have mixed types. Specify dtype option on import or set low_memory=False.\n",
      "  GPS_flight_log=pd.read_csv((\"C:\\\\Users\\\\rclendening\\\\researchData\\\\ESCAPE II_AFRL_SSD\\\\UAS Campaign\\\\UAS_log_files\\\\A1_A2_A3\"+\"\\\\\"+drone_gps_file+\".csv\"))\n"
     ]
    },
    {
     "name": "stdout",
     "output_type": "stream",
     "text": [
      "C:\\Users\\rclendening\\researchData\\ESCAPE II_AFRL_SSD\\UAS Campaign\\UAS_log_files\\A1_A2_A3\\FLY131.csv\n"
     ]
    },
    {
     "name": "stderr",
     "output_type": "stream",
     "text": [
      "C:\\Users\\rclendening\\AppData\\Local\\Temp\\1\\ipykernel_8772\\3464163070.py:151: DtypeWarning: Columns (49) have mixed types. Specify dtype option on import or set low_memory=False.\n",
      "  GPS_flight_log=pd.read_csv((\"C:\\\\Users\\\\rclendening\\\\researchData\\\\ESCAPE II_AFRL_SSD\\\\UAS Campaign\\\\UAS_log_files\\\\A1_A2_A3\"+\"\\\\\"+drone_gps_file+\".csv\"))\n"
     ]
    },
    {
     "name": "stdout",
     "output_type": "stream",
     "text": [
      "C:\\Users\\rclendening\\researchData\\ESCAPE II_AFRL_SSD\\UAS Campaign\\UAS_log_files\\A1_A2_A3\\FLY131.csv\n"
     ]
    },
    {
     "name": "stderr",
     "output_type": "stream",
     "text": [
      "C:\\Users\\rclendening\\AppData\\Local\\Temp\\1\\ipykernel_8772\\3464163070.py:151: DtypeWarning: Columns (49) have mixed types. Specify dtype option on import or set low_memory=False.\n",
      "  GPS_flight_log=pd.read_csv((\"C:\\\\Users\\\\rclendening\\\\researchData\\\\ESCAPE II_AFRL_SSD\\\\UAS Campaign\\\\UAS_log_files\\\\A1_A2_A3\"+\"\\\\\"+drone_gps_file+\".csv\"))\n"
     ]
    },
    {
     "name": "stdout",
     "output_type": "stream",
     "text": [
      "C:\\Users\\rclendening\\researchData\\ESCAPE II_AFRL_SSD\\UAS Campaign\\UAS_log_files\\A1_A2_A3\\FLY131.csv\n"
     ]
    },
    {
     "name": "stderr",
     "output_type": "stream",
     "text": [
      "C:\\Users\\rclendening\\AppData\\Local\\Temp\\1\\ipykernel_8772\\3464163070.py:151: DtypeWarning: Columns (49) have mixed types. Specify dtype option on import or set low_memory=False.\n",
      "  GPS_flight_log=pd.read_csv((\"C:\\\\Users\\\\rclendening\\\\researchData\\\\ESCAPE II_AFRL_SSD\\\\UAS Campaign\\\\UAS_log_files\\\\A1_A2_A3\"+\"\\\\\"+drone_gps_file+\".csv\"))\n"
     ]
    },
    {
     "name": "stdout",
     "output_type": "stream",
     "text": [
      "C:\\Users\\rclendening\\researchData\\ESCAPE II_AFRL_SSD\\UAS Campaign\\UAS_log_files\\A1_A2_A3\\FLY131.csv\n"
     ]
    },
    {
     "name": "stderr",
     "output_type": "stream",
     "text": [
      "C:\\Users\\rclendening\\AppData\\Local\\Temp\\1\\ipykernel_8772\\3464163070.py:151: DtypeWarning: Columns (49) have mixed types. Specify dtype option on import or set low_memory=False.\n",
      "  GPS_flight_log=pd.read_csv((\"C:\\\\Users\\\\rclendening\\\\researchData\\\\ESCAPE II_AFRL_SSD\\\\UAS Campaign\\\\UAS_log_files\\\\A1_A2_A3\"+\"\\\\\"+drone_gps_file+\".csv\"))\n"
     ]
    },
    {
     "name": "stdout",
     "output_type": "stream",
     "text": [
      "C:\\Users\\rclendening\\researchData\\ESCAPE II_AFRL_SSD\\UAS Campaign\\UAS_log_files\\A1_A2_A3\\FLY131.csv\n"
     ]
    },
    {
     "name": "stderr",
     "output_type": "stream",
     "text": [
      "C:\\Users\\rclendening\\AppData\\Local\\Temp\\1\\ipykernel_8772\\3464163070.py:151: DtypeWarning: Columns (49) have mixed types. Specify dtype option on import or set low_memory=False.\n",
      "  GPS_flight_log=pd.read_csv((\"C:\\\\Users\\\\rclendening\\\\researchData\\\\ESCAPE II_AFRL_SSD\\\\UAS Campaign\\\\UAS_log_files\\\\A1_A2_A3\"+\"\\\\\"+drone_gps_file+\".csv\"))\n"
     ]
    },
    {
     "name": "stdout",
     "output_type": "stream",
     "text": [
      "C:\\Users\\rclendening\\researchData\\ESCAPE II_AFRL_SSD\\UAS Campaign\\UAS_log_files\\A1_A2_A3\\FLY131.csv\n"
     ]
    },
    {
     "name": "stderr",
     "output_type": "stream",
     "text": [
      "C:\\Users\\rclendening\\AppData\\Local\\Temp\\1\\ipykernel_8772\\3464163070.py:151: DtypeWarning: Columns (49) have mixed types. Specify dtype option on import or set low_memory=False.\n",
      "  GPS_flight_log=pd.read_csv((\"C:\\\\Users\\\\rclendening\\\\researchData\\\\ESCAPE II_AFRL_SSD\\\\UAS Campaign\\\\UAS_log_files\\\\A1_A2_A3\"+\"\\\\\"+drone_gps_file+\".csv\"))\n"
     ]
    },
    {
     "name": "stdout",
     "output_type": "stream",
     "text": [
      "C:\\Users\\rclendening\\researchData\\ESCAPE II_AFRL_SSD\\UAS Campaign\\UAS_log_files\\A1_A2_A3\\FLY131.csv\n"
     ]
    },
    {
     "name": "stderr",
     "output_type": "stream",
     "text": [
      "C:\\Users\\rclendening\\AppData\\Local\\Temp\\1\\ipykernel_8772\\3464163070.py:151: DtypeWarning: Columns (49) have mixed types. Specify dtype option on import or set low_memory=False.\n",
      "  GPS_flight_log=pd.read_csv((\"C:\\\\Users\\\\rclendening\\\\researchData\\\\ESCAPE II_AFRL_SSD\\\\UAS Campaign\\\\UAS_log_files\\\\A1_A2_A3\"+\"\\\\\"+drone_gps_file+\".csv\"))\n"
     ]
    },
    {
     "name": "stdout",
     "output_type": "stream",
     "text": [
      "C:\\Users\\rclendening\\researchData\\ESCAPE II_AFRL_SSD\\UAS Campaign\\UAS_log_files\\A1_A2_A3\\FLY131.csv\n"
     ]
    },
    {
     "name": "stderr",
     "output_type": "stream",
     "text": [
      "C:\\Users\\rclendening\\AppData\\Local\\Temp\\1\\ipykernel_8772\\3464163070.py:151: DtypeWarning: Columns (49) have mixed types. Specify dtype option on import or set low_memory=False.\n",
      "  GPS_flight_log=pd.read_csv((\"C:\\\\Users\\\\rclendening\\\\researchData\\\\ESCAPE II_AFRL_SSD\\\\UAS Campaign\\\\UAS_log_files\\\\A1_A2_A3\"+\"\\\\\"+drone_gps_file+\".csv\"))\n"
     ]
    },
    {
     "name": "stdout",
     "output_type": "stream",
     "text": [
      "C:\\Users\\rclendening\\researchData\\ESCAPE II_AFRL_SSD\\UAS Campaign\\UAS_log_files\\A1_A2_A3\\FLY131.csv\n"
     ]
    },
    {
     "name": "stderr",
     "output_type": "stream",
     "text": [
      "C:\\Users\\rclendening\\AppData\\Local\\Temp\\1\\ipykernel_8772\\3464163070.py:151: DtypeWarning: Columns (49) have mixed types. Specify dtype option on import or set low_memory=False.\n",
      "  GPS_flight_log=pd.read_csv((\"C:\\\\Users\\\\rclendening\\\\researchData\\\\ESCAPE II_AFRL_SSD\\\\UAS Campaign\\\\UAS_log_files\\\\A1_A2_A3\"+\"\\\\\"+drone_gps_file+\".csv\"))\n"
     ]
    },
    {
     "name": "stdout",
     "output_type": "stream",
     "text": [
      "C:\\Users\\rclendening\\researchData\\ESCAPE II_AFRL_SSD\\UAS Campaign\\UAS_log_files\\A1_A2_A3\\FLY131.csv\n"
     ]
    },
    {
     "name": "stderr",
     "output_type": "stream",
     "text": [
      "C:\\Users\\rclendening\\AppData\\Local\\Temp\\1\\ipykernel_8772\\3464163070.py:151: DtypeWarning: Columns (49) have mixed types. Specify dtype option on import or set low_memory=False.\n",
      "  GPS_flight_log=pd.read_csv((\"C:\\\\Users\\\\rclendening\\\\researchData\\\\ESCAPE II_AFRL_SSD\\\\UAS Campaign\\\\UAS_log_files\\\\A1_A2_A3\"+\"\\\\\"+drone_gps_file+\".csv\"))\n"
     ]
    },
    {
     "name": "stdout",
     "output_type": "stream",
     "text": [
      "C:\\Users\\rclendening\\researchData\\ESCAPE II_AFRL_SSD\\UAS Campaign\\UAS_log_files\\A1_A2_A3\\FLY131.csv\n"
     ]
    },
    {
     "name": "stderr",
     "output_type": "stream",
     "text": [
      "C:\\Users\\rclendening\\AppData\\Local\\Temp\\1\\ipykernel_8772\\3464163070.py:151: DtypeWarning: Columns (49) have mixed types. Specify dtype option on import or set low_memory=False.\n",
      "  GPS_flight_log=pd.read_csv((\"C:\\\\Users\\\\rclendening\\\\researchData\\\\ESCAPE II_AFRL_SSD\\\\UAS Campaign\\\\UAS_log_files\\\\A1_A2_A3\"+\"\\\\\"+drone_gps_file+\".csv\"))\n"
     ]
    },
    {
     "name": "stdout",
     "output_type": "stream",
     "text": [
      "C:\\Users\\rclendening\\researchData\\ESCAPE II_AFRL_SSD\\UAS Campaign\\UAS_log_files\\A1_A2_A3\\FLY135.csv\n"
     ]
    },
    {
     "name": "stderr",
     "output_type": "stream",
     "text": [
      "C:\\Users\\rclendening\\AppData\\Local\\Temp\\1\\ipykernel_8772\\3464163070.py:151: DtypeWarning: Columns (49) have mixed types. Specify dtype option on import or set low_memory=False.\n",
      "  GPS_flight_log=pd.read_csv((\"C:\\\\Users\\\\rclendening\\\\researchData\\\\ESCAPE II_AFRL_SSD\\\\UAS Campaign\\\\UAS_log_files\\\\A1_A2_A3\"+\"\\\\\"+drone_gps_file+\".csv\"))\n"
     ]
    },
    {
     "name": "stdout",
     "output_type": "stream",
     "text": [
      "C:\\Users\\rclendening\\researchData\\ESCAPE II_AFRL_SSD\\UAS Campaign\\UAS_log_files\\A1_A2_A3\\FLY135.csv\n"
     ]
    },
    {
     "name": "stderr",
     "output_type": "stream",
     "text": [
      "C:\\Users\\rclendening\\AppData\\Local\\Temp\\1\\ipykernel_8772\\3464163070.py:151: DtypeWarning: Columns (49) have mixed types. Specify dtype option on import or set low_memory=False.\n",
      "  GPS_flight_log=pd.read_csv((\"C:\\\\Users\\\\rclendening\\\\researchData\\\\ESCAPE II_AFRL_SSD\\\\UAS Campaign\\\\UAS_log_files\\\\A1_A2_A3\"+\"\\\\\"+drone_gps_file+\".csv\"))\n"
     ]
    },
    {
     "name": "stdout",
     "output_type": "stream",
     "text": [
      "C:\\Users\\rclendening\\researchData\\ESCAPE II_AFRL_SSD\\UAS Campaign\\UAS_log_files\\A1_A2_A3\\FLY135.csv\n"
     ]
    },
    {
     "name": "stderr",
     "output_type": "stream",
     "text": [
      "C:\\Users\\rclendening\\AppData\\Local\\Temp\\1\\ipykernel_8772\\3464163070.py:151: DtypeWarning: Columns (49) have mixed types. Specify dtype option on import or set low_memory=False.\n",
      "  GPS_flight_log=pd.read_csv((\"C:\\\\Users\\\\rclendening\\\\researchData\\\\ESCAPE II_AFRL_SSD\\\\UAS Campaign\\\\UAS_log_files\\\\A1_A2_A3\"+\"\\\\\"+drone_gps_file+\".csv\"))\n"
     ]
    },
    {
     "name": "stdout",
     "output_type": "stream",
     "text": [
      "C:\\Users\\rclendening\\researchData\\ESCAPE II_AFRL_SSD\\UAS Campaign\\UAS_log_files\\A1_A2_A3\\FLY135.csv\n"
     ]
    },
    {
     "name": "stderr",
     "output_type": "stream",
     "text": [
      "C:\\Users\\rclendening\\AppData\\Local\\Temp\\1\\ipykernel_8772\\3464163070.py:151: DtypeWarning: Columns (49) have mixed types. Specify dtype option on import or set low_memory=False.\n",
      "  GPS_flight_log=pd.read_csv((\"C:\\\\Users\\\\rclendening\\\\researchData\\\\ESCAPE II_AFRL_SSD\\\\UAS Campaign\\\\UAS_log_files\\\\A1_A2_A3\"+\"\\\\\"+drone_gps_file+\".csv\"))\n"
     ]
    },
    {
     "name": "stdout",
     "output_type": "stream",
     "text": [
      "C:\\Users\\rclendening\\researchData\\ESCAPE II_AFRL_SSD\\UAS Campaign\\UAS_log_files\\A1_A2_A3\\FLY135.csv\n"
     ]
    },
    {
     "name": "stderr",
     "output_type": "stream",
     "text": [
      "C:\\Users\\rclendening\\AppData\\Local\\Temp\\1\\ipykernel_8772\\3464163070.py:151: DtypeWarning: Columns (49) have mixed types. Specify dtype option on import or set low_memory=False.\n",
      "  GPS_flight_log=pd.read_csv((\"C:\\\\Users\\\\rclendening\\\\researchData\\\\ESCAPE II_AFRL_SSD\\\\UAS Campaign\\\\UAS_log_files\\\\A1_A2_A3\"+\"\\\\\"+drone_gps_file+\".csv\"))\n"
     ]
    },
    {
     "name": "stdout",
     "output_type": "stream",
     "text": [
      "C:\\Users\\rclendening\\researchData\\ESCAPE II_AFRL_SSD\\UAS Campaign\\UAS_log_files\\A1_A2_A3\\FLY135.csv\n"
     ]
    },
    {
     "name": "stderr",
     "output_type": "stream",
     "text": [
      "C:\\Users\\rclendening\\AppData\\Local\\Temp\\1\\ipykernel_8772\\3464163070.py:151: DtypeWarning: Columns (49) have mixed types. Specify dtype option on import or set low_memory=False.\n",
      "  GPS_flight_log=pd.read_csv((\"C:\\\\Users\\\\rclendening\\\\researchData\\\\ESCAPE II_AFRL_SSD\\\\UAS Campaign\\\\UAS_log_files\\\\A1_A2_A3\"+\"\\\\\"+drone_gps_file+\".csv\"))\n"
     ]
    },
    {
     "name": "stdout",
     "output_type": "stream",
     "text": [
      "C:\\Users\\rclendening\\researchData\\ESCAPE II_AFRL_SSD\\UAS Campaign\\UAS_log_files\\A1_A2_A3\\FLY135.csv\n"
     ]
    },
    {
     "name": "stderr",
     "output_type": "stream",
     "text": [
      "C:\\Users\\rclendening\\AppData\\Local\\Temp\\1\\ipykernel_8772\\3464163070.py:151: DtypeWarning: Columns (49) have mixed types. Specify dtype option on import or set low_memory=False.\n",
      "  GPS_flight_log=pd.read_csv((\"C:\\\\Users\\\\rclendening\\\\researchData\\\\ESCAPE II_AFRL_SSD\\\\UAS Campaign\\\\UAS_log_files\\\\A1_A2_A3\"+\"\\\\\"+drone_gps_file+\".csv\"))\n"
     ]
    },
    {
     "name": "stdout",
     "output_type": "stream",
     "text": [
      "C:\\Users\\rclendening\\researchData\\ESCAPE II_AFRL_SSD\\UAS Campaign\\UAS_log_files\\A1_A2_A3\\FLY135.csv\n"
     ]
    },
    {
     "name": "stderr",
     "output_type": "stream",
     "text": [
      "C:\\Users\\rclendening\\AppData\\Local\\Temp\\1\\ipykernel_8772\\3464163070.py:151: DtypeWarning: Columns (49) have mixed types. Specify dtype option on import or set low_memory=False.\n",
      "  GPS_flight_log=pd.read_csv((\"C:\\\\Users\\\\rclendening\\\\researchData\\\\ESCAPE II_AFRL_SSD\\\\UAS Campaign\\\\UAS_log_files\\\\A1_A2_A3\"+\"\\\\\"+drone_gps_file+\".csv\"))\n"
     ]
    },
    {
     "name": "stdout",
     "output_type": "stream",
     "text": [
      "C:\\Users\\rclendening\\researchData\\ESCAPE II_AFRL_SSD\\UAS Campaign\\UAS_log_files\\A1_A2_A3\\FLY135.csv\n"
     ]
    },
    {
     "name": "stderr",
     "output_type": "stream",
     "text": [
      "C:\\Users\\rclendening\\AppData\\Local\\Temp\\1\\ipykernel_8772\\3464163070.py:151: DtypeWarning: Columns (49) have mixed types. Specify dtype option on import or set low_memory=False.\n",
      "  GPS_flight_log=pd.read_csv((\"C:\\\\Users\\\\rclendening\\\\researchData\\\\ESCAPE II_AFRL_SSD\\\\UAS Campaign\\\\UAS_log_files\\\\A1_A2_A3\"+\"\\\\\"+drone_gps_file+\".csv\"))\n"
     ]
    },
    {
     "name": "stdout",
     "output_type": "stream",
     "text": [
      "C:\\Users\\rclendening\\researchData\\ESCAPE II_AFRL_SSD\\UAS Campaign\\UAS_log_files\\A1_A2_A3\\FLY135.csv\n"
     ]
    },
    {
     "name": "stderr",
     "output_type": "stream",
     "text": [
      "C:\\Users\\rclendening\\AppData\\Local\\Temp\\1\\ipykernel_8772\\3464163070.py:151: DtypeWarning: Columns (49) have mixed types. Specify dtype option on import or set low_memory=False.\n",
      "  GPS_flight_log=pd.read_csv((\"C:\\\\Users\\\\rclendening\\\\researchData\\\\ESCAPE II_AFRL_SSD\\\\UAS Campaign\\\\UAS_log_files\\\\A1_A2_A3\"+\"\\\\\"+drone_gps_file+\".csv\"))\n"
     ]
    },
    {
     "name": "stdout",
     "output_type": "stream",
     "text": [
      "C:\\Users\\rclendening\\researchData\\ESCAPE II_AFRL_SSD\\UAS Campaign\\UAS_log_files\\A1_A2_A3\\FLY135.csv\n"
     ]
    },
    {
     "name": "stderr",
     "output_type": "stream",
     "text": [
      "C:\\Users\\rclendening\\AppData\\Local\\Temp\\1\\ipykernel_8772\\3464163070.py:151: DtypeWarning: Columns (49) have mixed types. Specify dtype option on import or set low_memory=False.\n",
      "  GPS_flight_log=pd.read_csv((\"C:\\\\Users\\\\rclendening\\\\researchData\\\\ESCAPE II_AFRL_SSD\\\\UAS Campaign\\\\UAS_log_files\\\\A1_A2_A3\"+\"\\\\\"+drone_gps_file+\".csv\"))\n"
     ]
    },
    {
     "name": "stdout",
     "output_type": "stream",
     "text": [
      "C:\\Users\\rclendening\\researchData\\ESCAPE II_AFRL_SSD\\UAS Campaign\\UAS_log_files\\A1_A2_A3\\FLY135.csv\n"
     ]
    },
    {
     "name": "stderr",
     "output_type": "stream",
     "text": [
      "C:\\Users\\rclendening\\AppData\\Local\\Temp\\1\\ipykernel_8772\\3464163070.py:151: DtypeWarning: Columns (49) have mixed types. Specify dtype option on import or set low_memory=False.\n",
      "  GPS_flight_log=pd.read_csv((\"C:\\\\Users\\\\rclendening\\\\researchData\\\\ESCAPE II_AFRL_SSD\\\\UAS Campaign\\\\UAS_log_files\\\\A1_A2_A3\"+\"\\\\\"+drone_gps_file+\".csv\"))\n"
     ]
    },
    {
     "name": "stdout",
     "output_type": "stream",
     "text": [
      "C:\\Users\\rclendening\\researchData\\ESCAPE II_AFRL_SSD\\UAS Campaign\\UAS_log_files\\A1_A2_A3\\FLY135.csv\n"
     ]
    },
    {
     "name": "stderr",
     "output_type": "stream",
     "text": [
      "C:\\Users\\rclendening\\AppData\\Local\\Temp\\1\\ipykernel_8772\\3464163070.py:151: DtypeWarning: Columns (49) have mixed types. Specify dtype option on import or set low_memory=False.\n",
      "  GPS_flight_log=pd.read_csv((\"C:\\\\Users\\\\rclendening\\\\researchData\\\\ESCAPE II_AFRL_SSD\\\\UAS Campaign\\\\UAS_log_files\\\\A1_A2_A3\"+\"\\\\\"+drone_gps_file+\".csv\"))\n"
     ]
    },
    {
     "name": "stdout",
     "output_type": "stream",
     "text": [
      "C:\\Users\\rclendening\\researchData\\ESCAPE II_AFRL_SSD\\UAS Campaign\\UAS_log_files\\A1_A2_A3\\FLY135.csv\n"
     ]
    },
    {
     "name": "stderr",
     "output_type": "stream",
     "text": [
      "C:\\Users\\rclendening\\AppData\\Local\\Temp\\1\\ipykernel_8772\\3464163070.py:151: DtypeWarning: Columns (49) have mixed types. Specify dtype option on import or set low_memory=False.\n",
      "  GPS_flight_log=pd.read_csv((\"C:\\\\Users\\\\rclendening\\\\researchData\\\\ESCAPE II_AFRL_SSD\\\\UAS Campaign\\\\UAS_log_files\\\\A1_A2_A3\"+\"\\\\\"+drone_gps_file+\".csv\"))\n"
     ]
    },
    {
     "name": "stdout",
     "output_type": "stream",
     "text": [
      "C:\\Users\\rclendening\\researchData\\ESCAPE II_AFRL_SSD\\UAS Campaign\\UAS_log_files\\A1_A2_A3\\FLY135.csv\n"
     ]
    },
    {
     "name": "stderr",
     "output_type": "stream",
     "text": [
      "C:\\Users\\rclendening\\AppData\\Local\\Temp\\1\\ipykernel_8772\\3464163070.py:151: DtypeWarning: Columns (49) have mixed types. Specify dtype option on import or set low_memory=False.\n",
      "  GPS_flight_log=pd.read_csv((\"C:\\\\Users\\\\rclendening\\\\researchData\\\\ESCAPE II_AFRL_SSD\\\\UAS Campaign\\\\UAS_log_files\\\\A1_A2_A3\"+\"\\\\\"+drone_gps_file+\".csv\"))\n"
     ]
    },
    {
     "name": "stdout",
     "output_type": "stream",
     "text": [
      "C:\\Users\\rclendening\\researchData\\ESCAPE II_AFRL_SSD\\UAS Campaign\\UAS_log_files\\A1_A2_A3\\FLY135.csv\n"
     ]
    },
    {
     "name": "stderr",
     "output_type": "stream",
     "text": [
      "C:\\Users\\rclendening\\AppData\\Local\\Temp\\1\\ipykernel_8772\\3464163070.py:151: DtypeWarning: Columns (49) have mixed types. Specify dtype option on import or set low_memory=False.\n",
      "  GPS_flight_log=pd.read_csv((\"C:\\\\Users\\\\rclendening\\\\researchData\\\\ESCAPE II_AFRL_SSD\\\\UAS Campaign\\\\UAS_log_files\\\\A1_A2_A3\"+\"\\\\\"+drone_gps_file+\".csv\"))\n"
     ]
    },
    {
     "name": "stdout",
     "output_type": "stream",
     "text": [
      "C:\\Users\\rclendening\\researchData\\ESCAPE II_AFRL_SSD\\UAS Campaign\\UAS_log_files\\A1_A2_A3\\FLY135.csv\n"
     ]
    },
    {
     "name": "stderr",
     "output_type": "stream",
     "text": [
      "C:\\Users\\rclendening\\AppData\\Local\\Temp\\1\\ipykernel_8772\\3464163070.py:151: DtypeWarning: Columns (49) have mixed types. Specify dtype option on import or set low_memory=False.\n",
      "  GPS_flight_log=pd.read_csv((\"C:\\\\Users\\\\rclendening\\\\researchData\\\\ESCAPE II_AFRL_SSD\\\\UAS Campaign\\\\UAS_log_files\\\\A1_A2_A3\"+\"\\\\\"+drone_gps_file+\".csv\"))\n"
     ]
    },
    {
     "name": "stdout",
     "output_type": "stream",
     "text": [
      "C:\\Users\\rclendening\\researchData\\ESCAPE II_AFRL_SSD\\UAS Campaign\\UAS_log_files\\A1_A2_A3\\FLY135.csv\n"
     ]
    },
    {
     "name": "stderr",
     "output_type": "stream",
     "text": [
      "C:\\Users\\rclendening\\AppData\\Local\\Temp\\1\\ipykernel_8772\\3464163070.py:151: DtypeWarning: Columns (49) have mixed types. Specify dtype option on import or set low_memory=False.\n",
      "  GPS_flight_log=pd.read_csv((\"C:\\\\Users\\\\rclendening\\\\researchData\\\\ESCAPE II_AFRL_SSD\\\\UAS Campaign\\\\UAS_log_files\\\\A1_A2_A3\"+\"\\\\\"+drone_gps_file+\".csv\"))\n"
     ]
    },
    {
     "name": "stdout",
     "output_type": "stream",
     "text": [
      "C:\\Users\\rclendening\\researchData\\ESCAPE II_AFRL_SSD\\UAS Campaign\\UAS_log_files\\A1_A2_A3\\FLY135.csv\n"
     ]
    },
    {
     "name": "stderr",
     "output_type": "stream",
     "text": [
      "C:\\Users\\rclendening\\AppData\\Local\\Temp\\1\\ipykernel_8772\\3464163070.py:151: DtypeWarning: Columns (49) have mixed types. Specify dtype option on import or set low_memory=False.\n",
      "  GPS_flight_log=pd.read_csv((\"C:\\\\Users\\\\rclendening\\\\researchData\\\\ESCAPE II_AFRL_SSD\\\\UAS Campaign\\\\UAS_log_files\\\\A1_A2_A3\"+\"\\\\\"+drone_gps_file+\".csv\"))\n"
     ]
    },
    {
     "name": "stdout",
     "output_type": "stream",
     "text": [
      "C:\\Users\\rclendening\\researchData\\ESCAPE II_AFRL_SSD\\UAS Campaign\\UAS_log_files\\A1_A2_A3\\FLY135.csv\n"
     ]
    },
    {
     "name": "stderr",
     "output_type": "stream",
     "text": [
      "C:\\Users\\rclendening\\AppData\\Local\\Temp\\1\\ipykernel_8772\\3464163070.py:151: DtypeWarning: Columns (49) have mixed types. Specify dtype option on import or set low_memory=False.\n",
      "  GPS_flight_log=pd.read_csv((\"C:\\\\Users\\\\rclendening\\\\researchData\\\\ESCAPE II_AFRL_SSD\\\\UAS Campaign\\\\UAS_log_files\\\\A1_A2_A3\"+\"\\\\\"+drone_gps_file+\".csv\"))\n"
     ]
    },
    {
     "name": "stdout",
     "output_type": "stream",
     "text": [
      "C:\\Users\\rclendening\\researchData\\ESCAPE II_AFRL_SSD\\UAS Campaign\\UAS_log_files\\A1_A2_A3\\FLY135.csv\n"
     ]
    },
    {
     "name": "stderr",
     "output_type": "stream",
     "text": [
      "C:\\Users\\rclendening\\AppData\\Local\\Temp\\1\\ipykernel_8772\\3464163070.py:151: DtypeWarning: Columns (49) have mixed types. Specify dtype option on import or set low_memory=False.\n",
      "  GPS_flight_log=pd.read_csv((\"C:\\\\Users\\\\rclendening\\\\researchData\\\\ESCAPE II_AFRL_SSD\\\\UAS Campaign\\\\UAS_log_files\\\\A1_A2_A3\"+\"\\\\\"+drone_gps_file+\".csv\"))\n"
     ]
    },
    {
     "name": "stdout",
     "output_type": "stream",
     "text": [
      "C:\\Users\\rclendening\\researchData\\ESCAPE II_AFRL_SSD\\UAS Campaign\\UAS_log_files\\A1_A2_A3\\FLY135.csv\n"
     ]
    },
    {
     "name": "stderr",
     "output_type": "stream",
     "text": [
      "C:\\Users\\rclendening\\AppData\\Local\\Temp\\1\\ipykernel_8772\\3464163070.py:151: DtypeWarning: Columns (49) have mixed types. Specify dtype option on import or set low_memory=False.\n",
      "  GPS_flight_log=pd.read_csv((\"C:\\\\Users\\\\rclendening\\\\researchData\\\\ESCAPE II_AFRL_SSD\\\\UAS Campaign\\\\UAS_log_files\\\\A1_A2_A3\"+\"\\\\\"+drone_gps_file+\".csv\"))\n"
     ]
    },
    {
     "name": "stdout",
     "output_type": "stream",
     "text": [
      "C:\\Users\\rclendening\\researchData\\ESCAPE II_AFRL_SSD\\UAS Campaign\\UAS_log_files\\A1_A2_A3\\FLY135.csv\n"
     ]
    },
    {
     "name": "stderr",
     "output_type": "stream",
     "text": [
      "C:\\Users\\rclendening\\AppData\\Local\\Temp\\1\\ipykernel_8772\\3464163070.py:151: DtypeWarning: Columns (49) have mixed types. Specify dtype option on import or set low_memory=False.\n",
      "  GPS_flight_log=pd.read_csv((\"C:\\\\Users\\\\rclendening\\\\researchData\\\\ESCAPE II_AFRL_SSD\\\\UAS Campaign\\\\UAS_log_files\\\\A1_A2_A3\"+\"\\\\\"+drone_gps_file+\".csv\"))\n"
     ]
    },
    {
     "name": "stdout",
     "output_type": "stream",
     "text": [
      "C:\\Users\\rclendening\\researchData\\ESCAPE II_AFRL_SSD\\UAS Campaign\\UAS_log_files\\A1_A2_A3\\FLY135.csv\n"
     ]
    },
    {
     "name": "stderr",
     "output_type": "stream",
     "text": [
      "C:\\Users\\rclendening\\AppData\\Local\\Temp\\1\\ipykernel_8772\\3464163070.py:151: DtypeWarning: Columns (49) have mixed types. Specify dtype option on import or set low_memory=False.\n",
      "  GPS_flight_log=pd.read_csv((\"C:\\\\Users\\\\rclendening\\\\researchData\\\\ESCAPE II_AFRL_SSD\\\\UAS Campaign\\\\UAS_log_files\\\\A1_A2_A3\"+\"\\\\\"+drone_gps_file+\".csv\"))\n"
     ]
    },
    {
     "name": "stdout",
     "output_type": "stream",
     "text": [
      "C:\\Users\\rclendening\\researchData\\ESCAPE II_AFRL_SSD\\UAS Campaign\\UAS_log_files\\A1_A2_A3\\FLY135.csv\n"
     ]
    },
    {
     "name": "stderr",
     "output_type": "stream",
     "text": [
      "C:\\Users\\rclendening\\AppData\\Local\\Temp\\1\\ipykernel_8772\\3464163070.py:151: DtypeWarning: Columns (49) have mixed types. Specify dtype option on import or set low_memory=False.\n",
      "  GPS_flight_log=pd.read_csv((\"C:\\\\Users\\\\rclendening\\\\researchData\\\\ESCAPE II_AFRL_SSD\\\\UAS Campaign\\\\UAS_log_files\\\\A1_A2_A3\"+\"\\\\\"+drone_gps_file+\".csv\"))\n"
     ]
    },
    {
     "name": "stdout",
     "output_type": "stream",
     "text": [
      "C:\\Users\\rclendening\\researchData\\ESCAPE II_AFRL_SSD\\UAS Campaign\\UAS_log_files\\A1_A2_A3\\FLY135.csv\n"
     ]
    },
    {
     "name": "stderr",
     "output_type": "stream",
     "text": [
      "C:\\Users\\rclendening\\AppData\\Local\\Temp\\1\\ipykernel_8772\\3464163070.py:151: DtypeWarning: Columns (49) have mixed types. Specify dtype option on import or set low_memory=False.\n",
      "  GPS_flight_log=pd.read_csv((\"C:\\\\Users\\\\rclendening\\\\researchData\\\\ESCAPE II_AFRL_SSD\\\\UAS Campaign\\\\UAS_log_files\\\\A1_A2_A3\"+\"\\\\\"+drone_gps_file+\".csv\"))\n"
     ]
    },
    {
     "name": "stdout",
     "output_type": "stream",
     "text": [
      "C:\\Users\\rclendening\\researchData\\ESCAPE II_AFRL_SSD\\UAS Campaign\\UAS_log_files\\A1_A2_A3\\FLY135.csv\n"
     ]
    },
    {
     "name": "stderr",
     "output_type": "stream",
     "text": [
      "C:\\Users\\rclendening\\AppData\\Local\\Temp\\1\\ipykernel_8772\\3464163070.py:151: DtypeWarning: Columns (49) have mixed types. Specify dtype option on import or set low_memory=False.\n",
      "  GPS_flight_log=pd.read_csv((\"C:\\\\Users\\\\rclendening\\\\researchData\\\\ESCAPE II_AFRL_SSD\\\\UAS Campaign\\\\UAS_log_files\\\\A1_A2_A3\"+\"\\\\\"+drone_gps_file+\".csv\"))\n"
     ]
    },
    {
     "name": "stdout",
     "output_type": "stream",
     "text": [
      "C:\\Users\\rclendening\\researchData\\ESCAPE II_AFRL_SSD\\UAS Campaign\\UAS_log_files\\A1_A2_A3\\FLY135.csv\n"
     ]
    },
    {
     "name": "stderr",
     "output_type": "stream",
     "text": [
      "C:\\Users\\rclendening\\AppData\\Local\\Temp\\1\\ipykernel_8772\\3464163070.py:151: DtypeWarning: Columns (49) have mixed types. Specify dtype option on import or set low_memory=False.\n",
      "  GPS_flight_log=pd.read_csv((\"C:\\\\Users\\\\rclendening\\\\researchData\\\\ESCAPE II_AFRL_SSD\\\\UAS Campaign\\\\UAS_log_files\\\\A1_A2_A3\"+\"\\\\\"+drone_gps_file+\".csv\"))\n"
     ]
    },
    {
     "name": "stdout",
     "output_type": "stream",
     "text": [
      "C:\\Users\\rclendening\\researchData\\ESCAPE II_AFRL_SSD\\UAS Campaign\\UAS_log_files\\A1_A2_A3\\FLY135.csv\n"
     ]
    },
    {
     "name": "stderr",
     "output_type": "stream",
     "text": [
      "C:\\Users\\rclendening\\AppData\\Local\\Temp\\1\\ipykernel_8772\\3464163070.py:151: DtypeWarning: Columns (49) have mixed types. Specify dtype option on import or set low_memory=False.\n",
      "  GPS_flight_log=pd.read_csv((\"C:\\\\Users\\\\rclendening\\\\researchData\\\\ESCAPE II_AFRL_SSD\\\\UAS Campaign\\\\UAS_log_files\\\\A1_A2_A3\"+\"\\\\\"+drone_gps_file+\".csv\"))\n"
     ]
    },
    {
     "name": "stdout",
     "output_type": "stream",
     "text": [
      "C:\\Users\\rclendening\\researchData\\ESCAPE II_AFRL_SSD\\UAS Campaign\\UAS_log_files\\A1_A2_A3\\FLY135.csv\n"
     ]
    },
    {
     "name": "stderr",
     "output_type": "stream",
     "text": [
      "C:\\Users\\rclendening\\AppData\\Local\\Temp\\1\\ipykernel_8772\\3464163070.py:151: DtypeWarning: Columns (49) have mixed types. Specify dtype option on import or set low_memory=False.\n",
      "  GPS_flight_log=pd.read_csv((\"C:\\\\Users\\\\rclendening\\\\researchData\\\\ESCAPE II_AFRL_SSD\\\\UAS Campaign\\\\UAS_log_files\\\\A1_A2_A3\"+\"\\\\\"+drone_gps_file+\".csv\"))\n"
     ]
    },
    {
     "name": "stdout",
     "output_type": "stream",
     "text": [
      "C:\\Users\\rclendening\\researchData\\ESCAPE II_AFRL_SSD\\UAS Campaign\\UAS_log_files\\A1_A2_A3\\FLY135.csv\n"
     ]
    },
    {
     "name": "stderr",
     "output_type": "stream",
     "text": [
      "C:\\Users\\rclendening\\AppData\\Local\\Temp\\1\\ipykernel_8772\\3464163070.py:151: DtypeWarning: Columns (49) have mixed types. Specify dtype option on import or set low_memory=False.\n",
      "  GPS_flight_log=pd.read_csv((\"C:\\\\Users\\\\rclendening\\\\researchData\\\\ESCAPE II_AFRL_SSD\\\\UAS Campaign\\\\UAS_log_files\\\\A1_A2_A3\"+\"\\\\\"+drone_gps_file+\".csv\"))\n"
     ]
    },
    {
     "name": "stdout",
     "output_type": "stream",
     "text": [
      "C:\\Users\\rclendening\\researchData\\ESCAPE II_AFRL_SSD\\UAS Campaign\\UAS_log_files\\A1_A2_A3\\FLY135.csv\n"
     ]
    },
    {
     "name": "stderr",
     "output_type": "stream",
     "text": [
      "C:\\Users\\rclendening\\AppData\\Local\\Temp\\1\\ipykernel_8772\\3464163070.py:151: DtypeWarning: Columns (49) have mixed types. Specify dtype option on import or set low_memory=False.\n",
      "  GPS_flight_log=pd.read_csv((\"C:\\\\Users\\\\rclendening\\\\researchData\\\\ESCAPE II_AFRL_SSD\\\\UAS Campaign\\\\UAS_log_files\\\\A1_A2_A3\"+\"\\\\\"+drone_gps_file+\".csv\"))\n"
     ]
    },
    {
     "name": "stdout",
     "output_type": "stream",
     "text": [
      "C:\\Users\\rclendening\\researchData\\ESCAPE II_AFRL_SSD\\UAS Campaign\\UAS_log_files\\A1_A2_A3\\FLY135.csv\n"
     ]
    },
    {
     "name": "stderr",
     "output_type": "stream",
     "text": [
      "C:\\Users\\rclendening\\AppData\\Local\\Temp\\1\\ipykernel_8772\\3464163070.py:151: DtypeWarning: Columns (49) have mixed types. Specify dtype option on import or set low_memory=False.\n",
      "  GPS_flight_log=pd.read_csv((\"C:\\\\Users\\\\rclendening\\\\researchData\\\\ESCAPE II_AFRL_SSD\\\\UAS Campaign\\\\UAS_log_files\\\\A1_A2_A3\"+\"\\\\\"+drone_gps_file+\".csv\"))\n"
     ]
    },
    {
     "name": "stdout",
     "output_type": "stream",
     "text": [
      "C:\\Users\\rclendening\\researchData\\ESCAPE II_AFRL_SSD\\UAS Campaign\\UAS_log_files\\A1_A2_A3\\FLY135.csv\n"
     ]
    },
    {
     "name": "stderr",
     "output_type": "stream",
     "text": [
      "C:\\Users\\rclendening\\AppData\\Local\\Temp\\1\\ipykernel_8772\\3464163070.py:151: DtypeWarning: Columns (49) have mixed types. Specify dtype option on import or set low_memory=False.\n",
      "  GPS_flight_log=pd.read_csv((\"C:\\\\Users\\\\rclendening\\\\researchData\\\\ESCAPE II_AFRL_SSD\\\\UAS Campaign\\\\UAS_log_files\\\\A1_A2_A3\"+\"\\\\\"+drone_gps_file+\".csv\"))\n"
     ]
    },
    {
     "name": "stdout",
     "output_type": "stream",
     "text": [
      "C:\\Users\\rclendening\\researchData\\ESCAPE II_AFRL_SSD\\UAS Campaign\\UAS_log_files\\A1_A2_A3\\FLY135.csv\n"
     ]
    },
    {
     "name": "stderr",
     "output_type": "stream",
     "text": [
      "C:\\Users\\rclendening\\AppData\\Local\\Temp\\1\\ipykernel_8772\\3464163070.py:151: DtypeWarning: Columns (49) have mixed types. Specify dtype option on import or set low_memory=False.\n",
      "  GPS_flight_log=pd.read_csv((\"C:\\\\Users\\\\rclendening\\\\researchData\\\\ESCAPE II_AFRL_SSD\\\\UAS Campaign\\\\UAS_log_files\\\\A1_A2_A3\"+\"\\\\\"+drone_gps_file+\".csv\"))\n"
     ]
    },
    {
     "name": "stdout",
     "output_type": "stream",
     "text": [
      "C:\\Users\\rclendening\\researchData\\ESCAPE II_AFRL_SSD\\UAS Campaign\\UAS_log_files\\A1_A2_A3\\FLY135.csv\n"
     ]
    },
    {
     "name": "stderr",
     "output_type": "stream",
     "text": [
      "C:\\Users\\rclendening\\AppData\\Local\\Temp\\1\\ipykernel_8772\\3464163070.py:151: DtypeWarning: Columns (49) have mixed types. Specify dtype option on import or set low_memory=False.\n",
      "  GPS_flight_log=pd.read_csv((\"C:\\\\Users\\\\rclendening\\\\researchData\\\\ESCAPE II_AFRL_SSD\\\\UAS Campaign\\\\UAS_log_files\\\\A1_A2_A3\"+\"\\\\\"+drone_gps_file+\".csv\"))\n"
     ]
    },
    {
     "name": "stdout",
     "output_type": "stream",
     "text": [
      "C:\\Users\\rclendening\\researchData\\ESCAPE II_AFRL_SSD\\UAS Campaign\\UAS_log_files\\A1_A2_A3\\FLY135.csv\n"
     ]
    },
    {
     "name": "stderr",
     "output_type": "stream",
     "text": [
      "C:\\Users\\rclendening\\AppData\\Local\\Temp\\1\\ipykernel_8772\\3464163070.py:151: DtypeWarning: Columns (49) have mixed types. Specify dtype option on import or set low_memory=False.\n",
      "  GPS_flight_log=pd.read_csv((\"C:\\\\Users\\\\rclendening\\\\researchData\\\\ESCAPE II_AFRL_SSD\\\\UAS Campaign\\\\UAS_log_files\\\\A1_A2_A3\"+\"\\\\\"+drone_gps_file+\".csv\"))\n"
     ]
    },
    {
     "name": "stdout",
     "output_type": "stream",
     "text": [
      "C:\\Users\\rclendening\\researchData\\ESCAPE II_AFRL_SSD\\UAS Campaign\\UAS_log_files\\A1_A2_A3\\FLY135.csv\n"
     ]
    },
    {
     "name": "stderr",
     "output_type": "stream",
     "text": [
      "C:\\Users\\rclendening\\AppData\\Local\\Temp\\1\\ipykernel_8772\\3464163070.py:151: DtypeWarning: Columns (49) have mixed types. Specify dtype option on import or set low_memory=False.\n",
      "  GPS_flight_log=pd.read_csv((\"C:\\\\Users\\\\rclendening\\\\researchData\\\\ESCAPE II_AFRL_SSD\\\\UAS Campaign\\\\UAS_log_files\\\\A1_A2_A3\"+\"\\\\\"+drone_gps_file+\".csv\"))\n"
     ]
    },
    {
     "name": "stdout",
     "output_type": "stream",
     "text": [
      "C:\\Users\\rclendening\\researchData\\ESCAPE II_AFRL_SSD\\UAS Campaign\\UAS_log_files\\A1_A2_A3\\FLY135.csv\n"
     ]
    },
    {
     "name": "stderr",
     "output_type": "stream",
     "text": [
      "C:\\Users\\rclendening\\AppData\\Local\\Temp\\1\\ipykernel_8772\\3464163070.py:151: DtypeWarning: Columns (49) have mixed types. Specify dtype option on import or set low_memory=False.\n",
      "  GPS_flight_log=pd.read_csv((\"C:\\\\Users\\\\rclendening\\\\researchData\\\\ESCAPE II_AFRL_SSD\\\\UAS Campaign\\\\UAS_log_files\\\\A1_A2_A3\"+\"\\\\\"+drone_gps_file+\".csv\"))\n"
     ]
    },
    {
     "name": "stdout",
     "output_type": "stream",
     "text": [
      "C:\\Users\\rclendening\\researchData\\ESCAPE II_AFRL_SSD\\UAS Campaign\\UAS_log_files\\A1_A2_A3\\FLY135.csv\n"
     ]
    },
    {
     "name": "stderr",
     "output_type": "stream",
     "text": [
      "C:\\Users\\rclendening\\AppData\\Local\\Temp\\1\\ipykernel_8772\\3464163070.py:151: DtypeWarning: Columns (49) have mixed types. Specify dtype option on import or set low_memory=False.\n",
      "  GPS_flight_log=pd.read_csv((\"C:\\\\Users\\\\rclendening\\\\researchData\\\\ESCAPE II_AFRL_SSD\\\\UAS Campaign\\\\UAS_log_files\\\\A1_A2_A3\"+\"\\\\\"+drone_gps_file+\".csv\"))\n"
     ]
    },
    {
     "name": "stdout",
     "output_type": "stream",
     "text": [
      "C:\\Users\\rclendening\\researchData\\ESCAPE II_AFRL_SSD\\UAS Campaign\\UAS_log_files\\A1_A2_A3\\FLY135.csv\n"
     ]
    },
    {
     "name": "stderr",
     "output_type": "stream",
     "text": [
      "C:\\Users\\rclendening\\AppData\\Local\\Temp\\1\\ipykernel_8772\\3464163070.py:151: DtypeWarning: Columns (49) have mixed types. Specify dtype option on import or set low_memory=False.\n",
      "  GPS_flight_log=pd.read_csv((\"C:\\\\Users\\\\rclendening\\\\researchData\\\\ESCAPE II_AFRL_SSD\\\\UAS Campaign\\\\UAS_log_files\\\\A1_A2_A3\"+\"\\\\\"+drone_gps_file+\".csv\"))\n"
     ]
    },
    {
     "name": "stdout",
     "output_type": "stream",
     "text": [
      "C:\\Users\\rclendening\\researchData\\ESCAPE II_AFRL_SSD\\UAS Campaign\\UAS_log_files\\A1_A2_A3\\FLY135.csv\n"
     ]
    },
    {
     "name": "stderr",
     "output_type": "stream",
     "text": [
      "C:\\Users\\rclendening\\AppData\\Local\\Temp\\1\\ipykernel_8772\\3464163070.py:151: DtypeWarning: Columns (49) have mixed types. Specify dtype option on import or set low_memory=False.\n",
      "  GPS_flight_log=pd.read_csv((\"C:\\\\Users\\\\rclendening\\\\researchData\\\\ESCAPE II_AFRL_SSD\\\\UAS Campaign\\\\UAS_log_files\\\\A1_A2_A3\"+\"\\\\\"+drone_gps_file+\".csv\"))\n"
     ]
    },
    {
     "name": "stdout",
     "output_type": "stream",
     "text": [
      "C:\\Users\\rclendening\\researchData\\ESCAPE II_AFRL_SSD\\UAS Campaign\\UAS_log_files\\A1_A2_A3\\FLY135.csv\n"
     ]
    },
    {
     "name": "stderr",
     "output_type": "stream",
     "text": [
      "C:\\Users\\rclendening\\AppData\\Local\\Temp\\1\\ipykernel_8772\\3464163070.py:151: DtypeWarning: Columns (49) have mixed types. Specify dtype option on import or set low_memory=False.\n",
      "  GPS_flight_log=pd.read_csv((\"C:\\\\Users\\\\rclendening\\\\researchData\\\\ESCAPE II_AFRL_SSD\\\\UAS Campaign\\\\UAS_log_files\\\\A1_A2_A3\"+\"\\\\\"+drone_gps_file+\".csv\"))\n"
     ]
    },
    {
     "name": "stdout",
     "output_type": "stream",
     "text": [
      "C:\\Users\\rclendening\\researchData\\ESCAPE II_AFRL_SSD\\UAS Campaign\\UAS_log_files\\A1_A2_A3\\FLY135.csv\n",
      "C:\\Users\\rclendening\\researchData\\ESCAPE II_AFRL_SSD\\UAS Campaign\\UAS_log_files\\A1_A2_A3\\FLY036.csv\n",
      "C:\\Users\\rclendening\\researchData\\ESCAPE II_AFRL_SSD\\UAS Campaign\\UAS_log_files\\A1_A2_A3\\FLY036.csv\n",
      "C:\\Users\\rclendening\\researchData\\ESCAPE II_AFRL_SSD\\UAS Campaign\\UAS_log_files\\A1_A2_A3\\FLY036.csv\n",
      "C:\\Users\\rclendening\\researchData\\ESCAPE II_AFRL_SSD\\UAS Campaign\\UAS_log_files\\A1_A2_A3\\FLY036.csv\n",
      "C:\\Users\\rclendening\\researchData\\ESCAPE II_AFRL_SSD\\UAS Campaign\\UAS_log_files\\A1_A2_A3\\FLY036.csv\n",
      "C:\\Users\\rclendening\\researchData\\ESCAPE II_AFRL_SSD\\UAS Campaign\\UAS_log_files\\A1_A2_A3\\FLY036.csv\n",
      "C:\\Users\\rclendening\\researchData\\ESCAPE II_AFRL_SSD\\UAS Campaign\\UAS_log_files\\A1_A2_A3\\FLY036.csv\n",
      "C:\\Users\\rclendening\\researchData\\ESCAPE II_AFRL_SSD\\UAS Campaign\\UAS_log_files\\A1_A2_A3\\FLY036.csv\n",
      "C:\\Users\\rclendening\\researchData\\ESCAPE II_AFRL_SSD\\UAS Campaign\\UAS_log_files\\A1_A2_A3\\FLY036.csv\n",
      "C:\\Users\\rclendening\\researchData\\ESCAPE II_AFRL_SSD\\UAS Campaign\\UAS_log_files\\A1_A2_A3\\FLY036.csv\n",
      "C:\\Users\\rclendening\\researchData\\ESCAPE II_AFRL_SSD\\UAS Campaign\\UAS_log_files\\A1_A2_A3\\FLY036.csv\n"
     ]
    }
   ],
   "source": [
    "def convertToGPS(path,name):\n",
    "    window = dataTools.import_redVoxData(path)\n",
    "    station = window.first_station()\n",
    "\n",
    "    locationSensor = station.best_location_sensor()\n",
    "    if locationSensor:\n",
    "        lat=locationSensor._data.columns[3]\n",
    "        lon=locationSensor._data.columns[4]\n",
    "        alt=locationSensor._data.columns[5]\n",
    "        phoneGPS.append([name,np.mean(lat),np.mean(lon),150.0]) #gps altitude seems a bit off\n",
    "\n",
    "\n",
    "def searchDir(rootdir):\n",
    "    it = 0\n",
    "    for it in os.scandir(rootdir):\n",
    "        if it.is_dir():\n",
    "            # print(it.path)\n",
    "            searchDir(it)\n",
    "        else:\n",
    "            it = os.path.dirname(it)\n",
    "            break\n",
    "    if isinstance(it, str):\n",
    "        splitPath = it.split('\\\\')\n",
    "        convertToGPS(it,splitPath[8])\n",
    "\n",
    "def get_filepaths(data_path):\n",
    "    data_files=[]\n",
    "    for path, subdirs, files in os.walk(data_path):\n",
    "        for name in files:\n",
    "            data_files.append(os.path.join(path, name))\n",
    "    return data_files\n",
    "\n",
    "# def split_audio(waveData, sampleFreq):\n",
    "#     '''\n",
    "#     Frames audio data and converts to feature space (MFCC)\n",
    "#     :param waveData: waveData array of time-domain audio\n",
    "#     :param sampleFreq: Sample Frequency (8Khz)\n",
    "#     @return list of features (ds), list of labels corresponding to feature dataset:\n",
    "#     '''\n",
    "#     # middle third of data\n",
    "#     duration = waveData.shape[0]\n",
    "#     startTime = np.round(duration / 3)\n",
    "#     endTime = np.round(duration * 2 / 3)\n",
    "#     waveDataSplit= waveData[int(startTime):int(endTime)]\n",
    "#     features=MFCCCalc(waveDataSplit.squeeze(), sampleFreq)\n",
    "#     #label= [droneDict[labelName]] * features.shape[1]\n",
    "#     return features\n",
    "\n",
    "def create_dataset(train_files, totTime):\n",
    "    '''\n",
    "    Creates feature dataset and label dataset.\n",
    "    @param train_files: EagerTensor of file paths.\n",
    "    @return list of features (ds), list of labels corresponding to feature dataset:\n",
    "    '''\n",
    "    features = {}\n",
    "    for x in train_files:\n",
    "        #test_file = tf.io.read_file(x)\n",
    "        #test_audio, sampleRate = tf.audio.decode_wav(contents=test_file)\n",
    "        test_audio, sampleRate = librosa.load(x, sr=8000)\n",
    "        x = str(x)\n",
    "        if min(np.asarray(test_audio)) != 0 and len(test_audio)==totTime*8000 :\n",
    "            #newData = test_audio[0: test_audio.shape[0] - test_audio.shape[0] % sampleRate]  # trim to nearest second\n",
    "            #newFeats, newLabs = split_audio(test_audio, int(sampleRate))\n",
    "            phone_features = MFCCCalc(test_audio.squeeze(),Fs=8000)\n",
    "            features[x.split(\"\\\\\")[7].split(\".\")[0]]=phone_features.transpose()\n",
    "        # else:\n",
    "        #     features.append([x.split(\"\\\\\")[7].split(\".\")[0],0.00]) #just trying to fill space\n",
    "\n",
    "    return features\n",
    "\n",
    "def create_aug_dataset(train_files, totTime, fs):\n",
    "    '''\n",
    "    Creates feature dataset and label dataset.\n",
    "    @param train_files: EagerTensor of file paths.\n",
    "    @return list of features (ds), list of labels corresponding to feature dataset:\n",
    "    '''\n",
    "    features = {}\n",
    "    for x in train_files:\n",
    "        #test_file = tf.io.read_file(x)\n",
    "        #test_audio, sampleRate = tf.audio.decode_wav(contents=test_file)\n",
    "        test_audio, sampleRate = librosa.load(x, sr=fs)\n",
    "        x = str(x)\n",
    "        if min(np.asarray(test_audio)) != 0 and (len(test_audio)*8000/fs)>(totTime-0.5)*8000 and (len(test_audio)*8000/fs)<(totTime+0.5)*8000:\n",
    "            #newData = test_audio[0: test_audio.shape[0] - test_audio.shape[0] % sampleRate]  # trim to nearest second\n",
    "            #newFeats, newLabs = split_audio(test_audio, int(sampleRate))\n",
    "            phone_features = MFCCCalc(test_audio.squeeze(),Fs=8000)\n",
    "            features[x.split(\"\\\\\")[7].split(\".\")[0]]=phone_features.transpose()\n",
    "        # else:\n",
    "        #     features.append([x.split(\"\\\\\")[7].split(\".\")[0],0.00]) #just trying to fill space\n",
    "\n",
    "    return features\n",
    "def MFCCCalc(audioData, Fs):\n",
    "    '''\n",
    "    Converts decoded wav file to MFCC feature space\n",
    "    @param audioData: Numpy array of decoded audio wav file\n",
    "    @return MFCC coefficients\n",
    "    '''\n",
    "    #audioData=audioData.numpy()\n",
    "    data= audioData.astype(float)\n",
    "    #coefs = mfcc(data, sr=sampleRate, hop_length=2048)\n",
    "    coefs = mfcc(y=data, hop_length=2048,n_fft=2048,n_mfcc=40, sr=Fs)\n",
    "    return coefs\n",
    "aug_vals=[7000,7200,7400,7600,7800,8000,8200,8400,8600,8800,9000]\n",
    "dictionary_list=[]\n",
    "passes_df=pd.read_csv(r\"C:\\Users\\rclendening\\researchData\\researchCSVs_Scripts_etc\\A1_A2_A3_training_w_Matrice_Phantom.csv\")\n",
    "print()\n",
    "to_meters=111139\n",
    "range_df=pd.DataFrame(columns=[\"Pass\",\"Segment\",\"Name\",\"Lat\",\"Lon\",\"Alt\",\"Range\"])\n",
    "#range_df= pd.DataFrame(index=range(0),columns=(range(263)))\n",
    "range_raw_df= pd.DataFrame(index=range(0),columns=(range(7)))\n",
    "#range_df=pd.DataFrame()\n",
    "#test123=readDirectoryCSV(r\"C:\\Users\\rclendening\\researchData\\researchCSVs_Scripts_etc\\A1_A2_flight_directory.csv\")\n",
    "def distanceCalc(phoneLat,phoneLon,phoneAlt, droneLat,droneLon,droneAlt):\n",
    "    lat_delta= (phoneLat-droneLat)*to_meters\n",
    "    lon_delta=(phoneLon-droneLon)*to_meters\n",
    "    return np.sqrt((lat_delta**2+lon_delta**2+(phoneAlt-droneAlt)**2))\n",
    "\n",
    "\n",
    "def maxValueRanks(maxValArray):\n",
    "    maxValueRankArr=[]\n",
    "    for x in maxValArray:\n",
    "        seq = sorted(x)\n",
    "        index = [seq.index(v) for v in x]\n",
    "        maxValueRankArr.append(index)\n",
    "    return maxValueRankArr\n",
    "\n",
    "for x in passes_df.iterrows():\n",
    "    #indiv_df=pd.DataFrame(columns=[\"Pass\",\"Segment\",\"Name\",\"Lat\",\"Lon\",\"Alt\",\"Range\",'MFCC_0'])\n",
    "    #indiv_df= pd.DataFrame(index=range(0),columns=(range(263)))\n",
    "    indiv_raw_df= pd.DataFrame(index=range(0),columns=(range(47)))\n",
    "    phoneGPS=[]\n",
    "    row=x[1]\n",
    "    pass_num=row[0]\n",
    "    scenario=row[1]\n",
    "    run_num=row[2]\n",
    "    start=row[3]\n",
    "    stop=row[4]\n",
    "    drone_gps_file=row[5]\n",
    "    full_name=(str(scenario) + 'R' + str(run_num) + 'P' + str(pass_num)).strip()\n",
    "    if scenario ==\"A3\":\n",
    "        for x in aug_vals:\n",
    "            indiv_raw_df= pd.DataFrame(index=range(0),columns=(range(47)))\n",
    "            searchDir((\"C:\\\\Users\\\\rclendening\\\\researchData\\\\Unused_Datasets\\\\EscapeCell_Data\\\\\"+scenario+\"\\\\\"+full_name))\n",
    "            GPS_df=pd.DataFrame(phoneGPS, columns=['Name','Lat','Lon','Alt'])\n",
    "            start_time=datetime.datetime(2021, 8, int(start[6:8]), int(start[9:11]), int(start[11:13]),int(start[13:15])).timestamp()\n",
    "            stop_time=datetime.datetime(2021, 8, int(stop[6:8]), int(stop[9:11]), int(stop[11:13]),int(stop[13:15])).timestamp()\n",
    "            if drone_gps_file[0]== 'F':\n",
    "                FLY=True\n",
    "            else:\n",
    "                FLY=False\n",
    "            GPS_flight_log=pd.read_csv((\"C:\\\\Users\\\\rclendening\\\\researchData\\\\ESCAPE II_AFRL_SSD\\\\UAS Campaign\\\\UAS_log_files\\\\A1_A2_A3\"+\"\\\\\"+drone_gps_file+\".csv\"))\n",
    "            print(\"C:\\\\Users\\\\rclendening\\\\researchData\\\\ESCAPE II_AFRL_SSD\\\\UAS Campaign\\\\UAS_log_files\\\\A1_A2_A3\"+\"\\\\\"+drone_gps_file+\".csv\")\n",
    "            if FLY:\n",
    "                lon=GPS_flight_log.iloc[:,4]\n",
    "                offsets=GPS_flight_log.iloc[:,1]\n",
    "                lat=GPS_flight_log.iloc[:,5]\n",
    "                time=GPS_flight_log.iloc[:,7]\n",
    "                date=GPS_flight_log.iloc[:,8]\n",
    "                height=GPS_flight_log.iloc[:,9]\n",
    "            else:\n",
    "                lon=GPS_flight_log.iloc[:,3]/10**7\n",
    "                lat=GPS_flight_log.iloc[:,2]/10**7\n",
    "                time_UTC=GPS_flight_log.iloc[:,1]/10**6\n",
    "                #height=GPS_flight_log.iloc[:,5]/10**3\n",
    "                height=GPS_flight_log.iloc[:,4]/10**3\n",
    "            #for phones in GPS_df: #FLY files Long=col(5) lat=col(6) date=col(7) time=col(8) height (MSL)=col(10)\n",
    "                                #Non-FLY files lat=col(3) lon=col(4) timestamp(UTC)=col(1) height (MSL)= col(5) in millimeters\n",
    "            usable_phones=[]\n",
    "            tot_time= stop_time-start_time\n",
    "\n",
    "            filepaths= get_filepaths(\"C:\\\\Users\\\\rclendening\\\\researchData\\\\EscapeCell_DataWav_V2\\\\\"+scenario+\"\\\\\"+full_name)\n",
    "            phone_features = create_aug_dataset(filepaths,tot_time,fs=x)\n",
    "            #phone_features, phone_raw= create_dataset(filepaths,tot_time)\n",
    "            first =True\n",
    "            for ph in phoneGPS:\n",
    "                if 43.00 < ph[1] < 44.00 and -75.00 > ph[2] > -76.00 and ph[0] in phone_features:\n",
    "                    usable_phones.append(ph)\n",
    "            tot_segs = len(phone_features[list(phone_features.keys())[0]])\n",
    "            #tot_segs=tot_time/.128\n",
    "            # for t in range(0,len(GPS_flight_log),10):\n",
    "            t=0\n",
    "            done=False\n",
    "            MFCC_index=0\n",
    "            while not done:\n",
    "                if FLY:\n",
    "                    if np.isnan(time[t]):\n",
    "                        cur_time=0\n",
    "                    else:\n",
    "                        if first:\n",
    "                            offset=offsets[t]\n",
    "                            first=False\n",
    "                            offset_time=datetime.datetime(2021, 8, int(start[6:8]), int(str(time[t])[0:2])-4,int(str(time[t])[2:4]),int(str(time[t])[4:6])).timestamp()\n",
    "                        cur_time=offset_time+abs(offsets[t]-offset)\n",
    "                else:\n",
    "                    cur_time=time_UTC[t]\n",
    "\n",
    "                time_delta=cur_time-start_time\n",
    "                prev_index=MFCC_index\n",
    "                MFCC_index = math.floor(tot_segs*time_delta/tot_time)\n",
    "                if  start_time <= cur_time< stop_time and MFCC_index!= prev_index:\n",
    "                    #MFCC_df=pd.DataFrame()\n",
    "                    for phone in usable_phones:\n",
    "                        val = distanceCalc(phone[1],phone[2],phone[3], lat[t],lon[t],height[t])\n",
    "                        # range_df.loc[len(range_df.index)]=[str(phone[0]),np.float64(phone[1]),np.float64(phone[2]),np.float64(phone[3]),np.float64(val),pd.Series(phone_features[phone[0]][MFCC_index])]\n",
    "\n",
    "                        #data=[full_name,str(phone[0]),np.float64(phone[1]),np.float64(phone[2]),np.float64(phone[3]),np.float64(val),start_time,cur_time]\n",
    "\n",
    "                        #data=[full_name,str(MFCC_index),str(phone[0]),np.float64(phone[1]),np.float64(phone[2]),np.float64(phone[3]),np.float64(val)]\n",
    "                        #data.extend(phone_features[phone[0]][MFCC_index].tolist()) #MFCCs\n",
    "                        data_raw=[full_name+\"_\"+str(x).strip(),str(MFCC_index),str(phone[0]),np.float64(phone[1]),np.float64(phone[2]),np.float64(phone[3]),np.float64(val)]\n",
    "                        data_raw.extend(phone_features[phone[0]][MFCC_index].tolist()) #MFCCs\n",
    "                        #indiv_df.loc[len(indiv_df.index)]=data\n",
    "                        indiv_raw_df.loc[len(indiv_raw_df.index)]=data_raw\n",
    "                t+=4\n",
    "                if cur_time>stop_time:\n",
    "                    done=True\n",
    "\n",
    "            #range_df= pd.concat([range_df, indiv_df])\n",
    "            range_raw_df=pd.concat([range_raw_df,indiv_raw_df])\n",
    "    else:\n",
    "        searchDir((\"C:\\\\Users\\\\rclendening\\\\researchData\\\\Unused_Datasets\\\\EscapeCell_Data\\\\\"+scenario+\"\\\\\"+full_name))\n",
    "        GPS_df=pd.DataFrame(phoneGPS, columns=['Name','Lat','Lon','Alt'])\n",
    "        start_time=datetime.datetime(2021, 8, int(start[6:8]), int(start[9:11]), int(start[11:13]),int(start[13:15])).timestamp()\n",
    "        stop_time=datetime.datetime(2021, 8, int(stop[6:8]), int(stop[9:11]), int(stop[11:13]),int(stop[13:15])).timestamp()\n",
    "        if drone_gps_file[0]== 'F':\n",
    "            FLY=True\n",
    "        else:\n",
    "            FLY=False\n",
    "        GPS_flight_log=pd.read_csv((\"C:\\\\Users\\\\rclendening\\\\researchData\\\\ESCAPE II_AFRL_SSD\\\\UAS Campaign\\\\UAS_log_files\\\\A1_A2_A3\"+\"\\\\\"+drone_gps_file+\".csv\"))\n",
    "        print(\"C:\\\\Users\\\\rclendening\\\\researchData\\\\ESCAPE II_AFRL_SSD\\\\UAS Campaign\\\\UAS_log_files\\\\A1_A2_A3\"+\"\\\\\"+drone_gps_file+\".csv\")\n",
    "        if FLY:\n",
    "            lon=GPS_flight_log.iloc[:,4]\n",
    "            offsets=GPS_flight_log.iloc[:,1]\n",
    "            lat=GPS_flight_log.iloc[:,5]\n",
    "            time=GPS_flight_log.iloc[:,7]\n",
    "            date=GPS_flight_log.iloc[:,8]\n",
    "            height=GPS_flight_log.iloc[:,9]\n",
    "        else:\n",
    "            lon=GPS_flight_log.iloc[:,3]/10**7\n",
    "            lat=GPS_flight_log.iloc[:,2]/10**7\n",
    "            time_UTC=GPS_flight_log.iloc[:,1]/10**6\n",
    "            #height=GPS_flight_log.iloc[:,5]/10**3\n",
    "            height=GPS_flight_log.iloc[:,4]/10**3\n",
    "        #for phones in GPS_df: #FLY files Long=col(5) lat=col(6) date=col(7) time=col(8) height (MSL)=col(10)\n",
    "                            #Non-FLY files lat=col(3) lon=col(4) timestamp(UTC)=col(1) height (MSL)= col(5) in millimeters\n",
    "        usable_phones=[]\n",
    "        tot_time= stop_time-start_time\n",
    "\n",
    "        filepaths= get_filepaths(\"C:\\\\Users\\\\rclendening\\\\researchData\\\\EscapeCell_DataWav_V2\\\\\"+scenario+\"\\\\\"+full_name)\n",
    "        phone_features= create_dataset(filepaths,tot_time)\n",
    "        #phone_features, phone_raw= create_dataset(filepaths,tot_time)\n",
    "        first =True\n",
    "        for ph in phoneGPS:\n",
    "            if 43.00 < ph[1] < 44.00 and -75.00 > ph[2] > -76.00 and ph[0] in phone_features:\n",
    "                usable_phones.append(ph)\n",
    "        tot_segs = len(phone_features[list(phone_features.keys())[0]])\n",
    "        #tot_segs=tot_time/.128\n",
    "        # for t in range(0,len(GPS_flight_log),10):\n",
    "        t=0\n",
    "        done=False\n",
    "        MFCC_index=0\n",
    "        while not done:\n",
    "            if FLY:\n",
    "                if np.isnan(time[t]):\n",
    "                    cur_time=0\n",
    "                else:\n",
    "                    if first:\n",
    "                        offset=offsets[t]\n",
    "                        first=False\n",
    "                        offset_time=datetime.datetime(2021, 8, int(start[6:8]), int(str(time[t])[0:2])-4,int(str(time[t])[2:4]),int(str(time[t])[4:6])).timestamp()\n",
    "                    cur_time=offset_time+abs(offsets[t]-offset)\n",
    "            else:\n",
    "                cur_time=time_UTC[t]\n",
    "\n",
    "            time_delta=cur_time-start_time\n",
    "            prev_index=MFCC_index\n",
    "            MFCC_index = math.floor(tot_segs*time_delta/tot_time)\n",
    "            if  start_time <= cur_time< stop_time and MFCC_index!= prev_index:\n",
    "                #MFCC_df=pd.DataFrame()\n",
    "                for phone in usable_phones:\n",
    "                    val = distanceCalc(phone[1],phone[2],phone[3], lat[t],lon[t],height[t])\n",
    "                    # range_df.loc[len(range_df.index)]=[str(phone[0]),np.float64(phone[1]),np.float64(phone[2]),np.float64(phone[3]),np.float64(val),pd.Series(phone_features[phone[0]][MFCC_index])]\n",
    "\n",
    "                    #data=[full_name,str(phone[0]),np.float64(phone[1]),np.float64(phone[2]),np.float64(phone[3]),np.float64(val),start_time,cur_time]\n",
    "\n",
    "                    #data=[full_name,str(MFCC_index),str(phone[0]),np.float64(phone[1]),np.float64(phone[2]),np.float64(phone[3]),np.float64(val)]\n",
    "                    #data.extend(phone_features[phone[0]][MFCC_index].tolist()) #MFCCs\n",
    "                    data_raw=[full_name,str(MFCC_index),str(phone[0]),np.float64(phone[1]),np.float64(phone[2]),np.float64(phone[3]),np.float64(val)]\n",
    "                    data_raw.extend(phone_features[phone[0]][MFCC_index].tolist()) #MFCCs\n",
    "                    #indiv_df.loc[len(indiv_df.index)]=data\n",
    "                    indiv_raw_df.loc[len(indiv_raw_df.index)]=data_raw\n",
    "            t+=4\n",
    "            if cur_time>stop_time:\n",
    "                done=True\n",
    "        #range_df= pd.concat([range_df, indiv_df])\n",
    "        range_raw_df=pd.concat([range_raw_df,indiv_raw_df])\n",
    "#range_df.to_csv('0.5s_spec_range_A1_A2_A3_no_overlap.csv')\n",
    "range_raw_df.to_csv('LT80m_detection_training_w_matrice_phantom_augment_A1_A2_A3.csv')"
   ],
   "metadata": {
    "collapsed": false,
    "pycharm": {
     "name": "#%%\n"
    }
   }
  },
  {
   "cell_type": "markdown",
   "source": [
    "# Just ranges"
   ],
   "metadata": {
    "collapsed": false,
    "pycharm": {
     "name": "#%% md\n"
    }
   }
  },
  {
   "cell_type": "code",
   "execution_count": 11,
   "outputs": [
    {
     "name": "stdout",
     "output_type": "stream",
     "text": [
      "\n"
     ]
    },
    {
     "name": "stderr",
     "output_type": "stream",
     "text": [
      "C:\\Users\\rclendening\\AppData\\Local\\Temp\\1\\ipykernel_12432\\473260165.py:189: DtypeWarning: Columns (49) have mixed types. Specify dtype option on import or set low_memory=False.\n",
      "  GPS_flight_log=pd.read_csv((\"C:\\\\Users\\\\rclendening\\\\researchData\\\\ESCAPE II_AFRL_SSD\\\\UAS Campaign\\\\UAS_log_files\\\\A1_A2_A3\"+\"\\\\\"+drone_gps_file+\".csv\"))\n"
     ]
    },
    {
     "name": "stdout",
     "output_type": "stream",
     "text": [
      "C:\\Users\\rclendening\\researchData\\ESCAPE II_AFRL_SSD\\UAS Campaign\\UAS_log_files\\A1_A2_A3\\FLY131.csv\n"
     ]
    },
    {
     "name": "stderr",
     "output_type": "stream",
     "text": [
      "C:\\Users\\rclendening\\AppData\\Local\\Temp\\1\\ipykernel_12432\\473260165.py:189: DtypeWarning: Columns (49) have mixed types. Specify dtype option on import or set low_memory=False.\n",
      "  GPS_flight_log=pd.read_csv((\"C:\\\\Users\\\\rclendening\\\\researchData\\\\ESCAPE II_AFRL_SSD\\\\UAS Campaign\\\\UAS_log_files\\\\A1_A2_A3\"+\"\\\\\"+drone_gps_file+\".csv\"))\n"
     ]
    },
    {
     "name": "stdout",
     "output_type": "stream",
     "text": [
      "C:\\Users\\rclendening\\researchData\\ESCAPE II_AFRL_SSD\\UAS Campaign\\UAS_log_files\\A1_A2_A3\\FLY131.csv\n"
     ]
    },
    {
     "name": "stderr",
     "output_type": "stream",
     "text": [
      "C:\\Users\\rclendening\\AppData\\Local\\Temp\\1\\ipykernel_12432\\473260165.py:189: DtypeWarning: Columns (49) have mixed types. Specify dtype option on import or set low_memory=False.\n",
      "  GPS_flight_log=pd.read_csv((\"C:\\\\Users\\\\rclendening\\\\researchData\\\\ESCAPE II_AFRL_SSD\\\\UAS Campaign\\\\UAS_log_files\\\\A1_A2_A3\"+\"\\\\\"+drone_gps_file+\".csv\"))\n"
     ]
    },
    {
     "name": "stdout",
     "output_type": "stream",
     "text": [
      "C:\\Users\\rclendening\\researchData\\ESCAPE II_AFRL_SSD\\UAS Campaign\\UAS_log_files\\A1_A2_A3\\FLY131.csv\n"
     ]
    },
    {
     "name": "stderr",
     "output_type": "stream",
     "text": [
      "C:\\Users\\rclendening\\AppData\\Local\\Temp\\1\\ipykernel_12432\\473260165.py:189: DtypeWarning: Columns (49) have mixed types. Specify dtype option on import or set low_memory=False.\n",
      "  GPS_flight_log=pd.read_csv((\"C:\\\\Users\\\\rclendening\\\\researchData\\\\ESCAPE II_AFRL_SSD\\\\UAS Campaign\\\\UAS_log_files\\\\A1_A2_A3\"+\"\\\\\"+drone_gps_file+\".csv\"))\n"
     ]
    },
    {
     "name": "stdout",
     "output_type": "stream",
     "text": [
      "C:\\Users\\rclendening\\researchData\\ESCAPE II_AFRL_SSD\\UAS Campaign\\UAS_log_files\\A1_A2_A3\\FLY135.csv\n"
     ]
    },
    {
     "name": "stderr",
     "output_type": "stream",
     "text": [
      "C:\\Users\\rclendening\\AppData\\Local\\Temp\\1\\ipykernel_12432\\473260165.py:189: DtypeWarning: Columns (49) have mixed types. Specify dtype option on import or set low_memory=False.\n",
      "  GPS_flight_log=pd.read_csv((\"C:\\\\Users\\\\rclendening\\\\researchData\\\\ESCAPE II_AFRL_SSD\\\\UAS Campaign\\\\UAS_log_files\\\\A1_A2_A3\"+\"\\\\\"+drone_gps_file+\".csv\"))\n"
     ]
    },
    {
     "name": "stdout",
     "output_type": "stream",
     "text": [
      "C:\\Users\\rclendening\\researchData\\ESCAPE II_AFRL_SSD\\UAS Campaign\\UAS_log_files\\A1_A2_A3\\FLY135.csv\n"
     ]
    },
    {
     "name": "stderr",
     "output_type": "stream",
     "text": [
      "C:\\Users\\rclendening\\AppData\\Local\\Temp\\1\\ipykernel_12432\\473260165.py:189: DtypeWarning: Columns (49) have mixed types. Specify dtype option on import or set low_memory=False.\n",
      "  GPS_flight_log=pd.read_csv((\"C:\\\\Users\\\\rclendening\\\\researchData\\\\ESCAPE II_AFRL_SSD\\\\UAS Campaign\\\\UAS_log_files\\\\A1_A2_A3\"+\"\\\\\"+drone_gps_file+\".csv\"))\n"
     ]
    },
    {
     "name": "stdout",
     "output_type": "stream",
     "text": [
      "C:\\Users\\rclendening\\researchData\\ESCAPE II_AFRL_SSD\\UAS Campaign\\UAS_log_files\\A1_A2_A3\\FLY131.csv\n"
     ]
    },
    {
     "name": "stderr",
     "output_type": "stream",
     "text": [
      "C:\\Users\\rclendening\\AppData\\Local\\Temp\\1\\ipykernel_12432\\473260165.py:189: DtypeWarning: Columns (49) have mixed types. Specify dtype option on import or set low_memory=False.\n",
      "  GPS_flight_log=pd.read_csv((\"C:\\\\Users\\\\rclendening\\\\researchData\\\\ESCAPE II_AFRL_SSD\\\\UAS Campaign\\\\UAS_log_files\\\\A1_A2_A3\"+\"\\\\\"+drone_gps_file+\".csv\"))\n"
     ]
    },
    {
     "name": "stdout",
     "output_type": "stream",
     "text": [
      "C:\\Users\\rclendening\\researchData\\ESCAPE II_AFRL_SSD\\UAS Campaign\\UAS_log_files\\A1_A2_A3\\FLY131.csv\n"
     ]
    },
    {
     "name": "stderr",
     "output_type": "stream",
     "text": [
      "C:\\Users\\rclendening\\AppData\\Local\\Temp\\1\\ipykernel_12432\\473260165.py:189: DtypeWarning: Columns (49) have mixed types. Specify dtype option on import or set low_memory=False.\n",
      "  GPS_flight_log=pd.read_csv((\"C:\\\\Users\\\\rclendening\\\\researchData\\\\ESCAPE II_AFRL_SSD\\\\UAS Campaign\\\\UAS_log_files\\\\A1_A2_A3\"+\"\\\\\"+drone_gps_file+\".csv\"))\n"
     ]
    },
    {
     "name": "stdout",
     "output_type": "stream",
     "text": [
      "C:\\Users\\rclendening\\researchData\\ESCAPE II_AFRL_SSD\\UAS Campaign\\UAS_log_files\\A1_A2_A3\\FLY131.csv\n"
     ]
    },
    {
     "name": "stderr",
     "output_type": "stream",
     "text": [
      "C:\\Users\\rclendening\\AppData\\Local\\Temp\\1\\ipykernel_12432\\473260165.py:189: DtypeWarning: Columns (49) have mixed types. Specify dtype option on import or set low_memory=False.\n",
      "  GPS_flight_log=pd.read_csv((\"C:\\\\Users\\\\rclendening\\\\researchData\\\\ESCAPE II_AFRL_SSD\\\\UAS Campaign\\\\UAS_log_files\\\\A1_A2_A3\"+\"\\\\\"+drone_gps_file+\".csv\"))\n"
     ]
    },
    {
     "name": "stdout",
     "output_type": "stream",
     "text": [
      "C:\\Users\\rclendening\\researchData\\ESCAPE II_AFRL_SSD\\UAS Campaign\\UAS_log_files\\A1_A2_A3\\FLY135.csv\n"
     ]
    },
    {
     "name": "stderr",
     "output_type": "stream",
     "text": [
      "C:\\Users\\rclendening\\AppData\\Local\\Temp\\1\\ipykernel_12432\\473260165.py:189: DtypeWarning: Columns (49) have mixed types. Specify dtype option on import or set low_memory=False.\n",
      "  GPS_flight_log=pd.read_csv((\"C:\\\\Users\\\\rclendening\\\\researchData\\\\ESCAPE II_AFRL_SSD\\\\UAS Campaign\\\\UAS_log_files\\\\A1_A2_A3\"+\"\\\\\"+drone_gps_file+\".csv\"))\n"
     ]
    },
    {
     "name": "stdout",
     "output_type": "stream",
     "text": [
      "C:\\Users\\rclendening\\researchData\\ESCAPE II_AFRL_SSD\\UAS Campaign\\UAS_log_files\\A1_A2_A3\\FLY135.csv\n",
      "C:\\Users\\rclendening\\researchData\\ESCAPE II_AFRL_SSD\\UAS Campaign\\UAS_log_files\\A1_A2_A3\\FLY036.csv\n",
      "C:\\Users\\rclendening\\researchData\\ESCAPE II_AFRL_SSD\\UAS Campaign\\UAS_log_files\\A1_A2_A3\\FLY036.csv\n"
     ]
    },
    {
     "name": "stderr",
     "output_type": "stream",
     "text": [
      "C:\\Users\\rclendening\\AppData\\Local\\Temp\\1\\ipykernel_12432\\473260165.py:189: DtypeWarning: Columns (19) have mixed types. Specify dtype option on import or set low_memory=False.\n",
      "  GPS_flight_log=pd.read_csv((\"C:\\\\Users\\\\rclendening\\\\researchData\\\\ESCAPE II_AFRL_SSD\\\\UAS Campaign\\\\UAS_log_files\\\\A1_A2_A3\"+\"\\\\\"+drone_gps_file+\".csv\"))\n"
     ]
    },
    {
     "name": "stdout",
     "output_type": "stream",
     "text": [
      "C:\\Users\\rclendening\\researchData\\ESCAPE II_AFRL_SSD\\UAS Campaign\\UAS_log_files\\A1_A2_A3\\FLY037.csv\n"
     ]
    },
    {
     "name": "stderr",
     "output_type": "stream",
     "text": [
      "C:\\Users\\rclendening\\AppData\\Local\\Temp\\1\\ipykernel_12432\\473260165.py:189: DtypeWarning: Columns (19) have mixed types. Specify dtype option on import or set low_memory=False.\n",
      "  GPS_flight_log=pd.read_csv((\"C:\\\\Users\\\\rclendening\\\\researchData\\\\ESCAPE II_AFRL_SSD\\\\UAS Campaign\\\\UAS_log_files\\\\A1_A2_A3\"+\"\\\\\"+drone_gps_file+\".csv\"))\n"
     ]
    },
    {
     "name": "stdout",
     "output_type": "stream",
     "text": [
      "C:\\Users\\rclendening\\researchData\\ESCAPE II_AFRL_SSD\\UAS Campaign\\UAS_log_files\\A1_A2_A3\\FLY037.csv\n",
      "C:\\Users\\rclendening\\researchData\\ESCAPE II_AFRL_SSD\\UAS Campaign\\UAS_log_files\\A1_A2_A3\\FLY036.csv\n",
      "C:\\Users\\rclendening\\researchData\\ESCAPE II_AFRL_SSD\\UAS Campaign\\UAS_log_files\\A1_A2_A3\\FLY036.csv\n"
     ]
    },
    {
     "name": "stderr",
     "output_type": "stream",
     "text": [
      "C:\\Users\\rclendening\\AppData\\Local\\Temp\\1\\ipykernel_12432\\473260165.py:189: DtypeWarning: Columns (19) have mixed types. Specify dtype option on import or set low_memory=False.\n",
      "  GPS_flight_log=pd.read_csv((\"C:\\\\Users\\\\rclendening\\\\researchData\\\\ESCAPE II_AFRL_SSD\\\\UAS Campaign\\\\UAS_log_files\\\\A1_A2_A3\"+\"\\\\\"+drone_gps_file+\".csv\"))\n"
     ]
    },
    {
     "name": "stdout",
     "output_type": "stream",
     "text": [
      "C:\\Users\\rclendening\\researchData\\ESCAPE II_AFRL_SSD\\UAS Campaign\\UAS_log_files\\A1_A2_A3\\FLY037.csv\n"
     ]
    },
    {
     "name": "stderr",
     "output_type": "stream",
     "text": [
      "C:\\Users\\rclendening\\AppData\\Local\\Temp\\1\\ipykernel_12432\\473260165.py:189: DtypeWarning: Columns (19) have mixed types. Specify dtype option on import or set low_memory=False.\n",
      "  GPS_flight_log=pd.read_csv((\"C:\\\\Users\\\\rclendening\\\\researchData\\\\ESCAPE II_AFRL_SSD\\\\UAS Campaign\\\\UAS_log_files\\\\A1_A2_A3\"+\"\\\\\"+drone_gps_file+\".csv\"))\n"
     ]
    },
    {
     "name": "stdout",
     "output_type": "stream",
     "text": [
      "C:\\Users\\rclendening\\researchData\\ESCAPE II_AFRL_SSD\\UAS Campaign\\UAS_log_files\\A1_A2_A3\\FLY037.csv\n"
     ]
    }
   ],
   "source": [
    "def convertToGPS(path,name):\n",
    "    window = dataTools.import_redVoxData(path)\n",
    "    station = window.first_station()\n",
    "\n",
    "    locationSensor = station.best_location_sensor()\n",
    "    if locationSensor:\n",
    "        lat=locationSensor._data.columns[3]\n",
    "        lon=locationSensor._data.columns[4]\n",
    "        alt=locationSensor._data.columns[5]\n",
    "        phoneGPS.append([name,np.mean(lat),np.mean(lon),150.0]) #gps altitude seems a bit off\n",
    "\n",
    "\n",
    "def searchDir(rootdir):\n",
    "    it = 0\n",
    "    for it in os.scandir(rootdir):\n",
    "        if it.is_dir():\n",
    "            # print(it.path)\n",
    "            searchDir(it)\n",
    "        else:\n",
    "            it = os.path.dirname(it)\n",
    "            break\n",
    "    if isinstance(it, str):\n",
    "        splitPath = it.split('\\\\')\n",
    "        convertToGPS(it,splitPath[8])\n",
    "\n",
    "def get_filepaths(data_path):\n",
    "    data_files=[]\n",
    "    for path, subdirs, files in os.walk(data_path):\n",
    "        for name in files:\n",
    "            data_files.append(os.path.join(path, name))\n",
    "    return data_files\n",
    "\n",
    "# def split_audio(waveData, sampleFreq):\n",
    "#     '''\n",
    "#     Frames audio data and converts to feature space (MFCC)\n",
    "#     :param waveData: waveData array of time-domain audio\n",
    "#     :param sampleFreq: Sample Frequency (8Khz)\n",
    "#     @return list of features (ds), list of labels corresponding to feature dataset:\n",
    "#     '''\n",
    "#     # middle third of data\n",
    "#     duration = waveData.shape[0]\n",
    "#     startTime = np.round(duration / 3)\n",
    "#     endTime = np.round(duration * 2 / 3)\n",
    "#     waveDataSplit= waveData[int(startTime):int(endTime)]\n",
    "#     features=MFCCCalc(waveDataSplit.squeeze(), sampleFreq)\n",
    "#     #label= [droneDict[labelName]] * features.shape[1]\n",
    "#     return features\n",
    "\n",
    "def create_dataset(train_files, totTime):\n",
    "    '''\n",
    "    Creates feature dataset and label dataset.\n",
    "    @param train_files: EagerTensor of file paths.\n",
    "    @return list of features (ds), list of labels corresponding to feature dataset:\n",
    "    '''\n",
    "    features = {}\n",
    "    for x in train_files:\n",
    "        #test_file = tf.io.read_file(x)\n",
    "        #test_audio, sampleRate = tf.audio.decode_wav(contents=test_file)\n",
    "        test_audio, sampleRate = librosa.load(x, sr=8000)\n",
    "        x = str(x)\n",
    "        if min(np.asarray(test_audio)) != 0 and len(test_audio)==totTime*8000 :\n",
    "            #newData = test_audio[0: test_audio.shape[0] - test_audio.shape[0] % sampleRate]  # trim to nearest second\n",
    "            #newFeats, newLabs = split_audio(test_audio, int(sampleRate))\n",
    "            phone_features = MFCCCalc(test_audio.squeeze(),Fs=8000)\n",
    "            features[x.split(\"\\\\\")[7].split(\".\")[0]]=phone_features.transpose()\n",
    "        # else:\n",
    "        #     features.append([x.split(\"\\\\\")[7].split(\".\")[0],0.00]) #just trying to fill space\n",
    "\n",
    "    return features\n",
    "\n",
    "def create_aug_dataset(train_files, totTime, fs):\n",
    "    '''\n",
    "    Creates feature dataset and label dataset.\n",
    "    @param train_files: EagerTensor of file paths.\n",
    "    @return list of features (ds), list of labels corresponding to feature dataset:\n",
    "    '''\n",
    "    features = {}\n",
    "    for x in train_files:\n",
    "        #test_file = tf.io.read_file(x)\n",
    "        #test_audio, sampleRate = tf.audio.decode_wav(contents=test_file)\n",
    "        test_audio, sampleRate = librosa.load(x, sr=fs)\n",
    "        x = str(x)\n",
    "        if min(np.asarray(test_audio)) != 0 and (len(test_audio)*8000/fs)==totTime*8000 :\n",
    "            #newData = test_audio[0: test_audio.shape[0] - test_audio.shape[0] % sampleRate]  # trim to nearest second\n",
    "            #newFeats, newLabs = split_audio(test_audio, int(sampleRate))\n",
    "            phone_features = MFCCCalc(test_audio.squeeze(),Fs=8000)\n",
    "            features[x.split(\"\\\\\")[7].split(\".\")[0]]=phone_features.transpose()\n",
    "        # else:\n",
    "        #     features.append([x.split(\"\\\\\")[7].split(\".\")[0],0.00]) #just trying to fill space\n",
    "\n",
    "    return features\n",
    "def MFCCCalc(audioData, Fs):\n",
    "    '''\n",
    "    Converts decoded wav file to MFCC feature space\n",
    "    @param audioData: Numpy array of decoded audio wav file\n",
    "    @return MFCC coefficients\n",
    "    '''\n",
    "    #audioData=audioData.numpy()\n",
    "    data= audioData.astype(float)\n",
    "    #coefs = mfcc(data, sr=sampleRate, hop_length=2048)\n",
    "    coefs = mfcc(y=data, hop_length=2048,n_fft=2048,n_mfcc=40, sr=Fs)\n",
    "    return coefs\n",
    "\n",
    "dictionary_list=[]\n",
    "passes_df=pd.read_csv(r\"C:\\Users\\rclendening\\researchData\\researchCSVs_Scripts_etc\\A3_flight_directory.csv\")\n",
    "print()\n",
    "to_meters=111139\n",
    "range_df=pd.DataFrame(columns=[\"Pass\",\"Segment\",\"Name\",\"Lat\",\"Lon\",\"Alt\",\"Range\"])\n",
    "#range_df= pd.DataFrame(index=range(0),columns=(range(263)))\n",
    "range_raw_df= pd.DataFrame(index=range(0),columns=(range(7)))\n",
    "#range_df=pd.DataFrame()\n",
    "#test123=readDirectoryCSV(r\"C:\\Users\\rclendening\\researchData\\researchCSVs_Scripts_etc\\A1_A2_flight_directory.csv\")\n",
    "def distanceCalc(phoneLat,phoneLon,phoneAlt, droneLat,droneLon,droneAlt):\n",
    "    lat_delta= (phoneLat-droneLat)*to_meters\n",
    "    lon_delta=(phoneLon-droneLon)*to_meters\n",
    "    return np.sqrt((lat_delta**2+lon_delta**2+(phoneAlt-droneAlt)**2))\n",
    "\n",
    "\n",
    "def maxValueRanks(maxValArray):\n",
    "    maxValueRankArr=[]\n",
    "    for x in maxValArray:\n",
    "        seq = sorted(x)\n",
    "        index = [seq.index(v) for v in x]\n",
    "        maxValueRankArr.append(index)\n",
    "    return maxValueRankArr\n",
    "\n",
    "for x in passes_df.iterrows():\n",
    "    #indiv_df=pd.DataFrame(columns=[\"Pass\",\"Segment\",\"Name\",\"Lat\",\"Lon\",\"Alt\",\"Range\",'MFCC_0'])\n",
    "    #indiv_df= pd.DataFrame(index=range(0),columns=(range(263)))\n",
    "    indiv_raw_df= pd.DataFrame(index=range(0),columns=(range(7)))\n",
    "    phoneGPS=[]\n",
    "    row=x[1]\n",
    "    pass_num=row[0]\n",
    "    scenario=row[1]\n",
    "    run_num=row[2]\n",
    "    start=row[3]\n",
    "    stop=row[4]\n",
    "    drone_gps_file=row[5]\n",
    "    full_name=(str(scenario) + 'R' + str(run_num) + 'P' + str(pass_num)).strip()\n",
    "\n",
    "    searchDir((\"C:\\\\Users\\\\rclendening\\\\researchData\\\\Unused_Datasets\\\\EscapeCell_Data\\\\\"+scenario+\"\\\\\"+full_name))\n",
    "    GPS_df=pd.DataFrame(phoneGPS, columns=['Name','Lat','Lon','Alt'])\n",
    "\n",
    "    start_time=datetime.datetime(2021, 8, int(start[6:8]), int(start[9:11]), int(start[11:13]),int(start[13:15])).timestamp()\n",
    "    stop_time=datetime.datetime(2021, 8, int(stop[6:8]), int(stop[9:11]), int(stop[11:13]),int(stop[13:15])).timestamp()\n",
    "    if drone_gps_file[0]== 'F':\n",
    "        FLY=True\n",
    "    else:\n",
    "        FLY=False\n",
    "    GPS_flight_log=pd.read_csv((\"C:\\\\Users\\\\rclendening\\\\researchData\\\\ESCAPE II_AFRL_SSD\\\\UAS Campaign\\\\UAS_log_files\\\\A1_A2_A3\"+\"\\\\\"+drone_gps_file+\".csv\"))\n",
    "    print(\"C:\\\\Users\\\\rclendening\\\\researchData\\\\ESCAPE II_AFRL_SSD\\\\UAS Campaign\\\\UAS_log_files\\\\A1_A2_A3\"+\"\\\\\"+drone_gps_file+\".csv\")\n",
    "    if FLY:\n",
    "        lon=GPS_flight_log.iloc[:,4]\n",
    "        offsets=GPS_flight_log.iloc[:,1]\n",
    "        lat=GPS_flight_log.iloc[:,5]\n",
    "        time=GPS_flight_log.iloc[:,7]\n",
    "        date=GPS_flight_log.iloc[:,8]\n",
    "        height=GPS_flight_log.iloc[:,9]\n",
    "    else:\n",
    "        lon=GPS_flight_log.iloc[:,3]/10**7\n",
    "        lat=GPS_flight_log.iloc[:,2]/10**7\n",
    "        time_UTC=GPS_flight_log.iloc[:,1]/10**6\n",
    "        #height=GPS_flight_log.iloc[:,5]/10**3\n",
    "        height=GPS_flight_log.iloc[:,4]/10**3\n",
    "    #for phones in GPS_df: #FLY files Long=col(5) lat=col(6) date=col(7) time=col(8) height (MSL)=col(10)\n",
    "                        #Non-FLY files lat=col(3) lon=col(4) timestamp(UTC)=col(1) height (MSL)= col(5) in millimeters\n",
    "    usable_phones=[]\n",
    "    tot_time= stop_time-start_time\n",
    "\n",
    "    filepaths= get_filepaths(\"C:\\\\Users\\\\rclendening\\\\researchData\\\\EscapeCell_DataWav_V2\\\\\"+scenario+\"\\\\\"+full_name)\n",
    "    phone_features= create_dataset(filepaths,tot_time)\n",
    "    #phone_features, phone_raw= create_dataset(filepaths,tot_time)\n",
    "    first =True\n",
    "    for ph in phoneGPS:\n",
    "        if 43.00 < ph[1] < 44.00 and -75.00 > ph[2] > -76.00 and ph[0] in phone_features:\n",
    "            usable_phones.append(ph)\n",
    "    tot_segs = len(phone_features[list(phone_features.keys())[0]])\n",
    "    # for t in range(0,len(GPS_flight_log),10):\n",
    "    t=0\n",
    "    done=False\n",
    "    MFCC_index=0\n",
    "    while not done:\n",
    "        if FLY:\n",
    "            if np.isnan(time[t]):\n",
    "                cur_time=0\n",
    "            else:\n",
    "                if first:\n",
    "                    offset=offsets[t]\n",
    "                    first=False\n",
    "                    offset_time=datetime.datetime(2021, 8, int(start[6:8]), int(str(time[t])[0:2])-4,int(str(time[t])[2:4]),int(str(time[t])[4:6])).timestamp()\n",
    "                cur_time=offset_time+abs(offsets[t]-offset)\n",
    "        else:\n",
    "            cur_time=time_UTC[t]\n",
    "\n",
    "        time_delta=cur_time-start_time\n",
    "        prev_index=MFCC_index\n",
    "        MFCC_index = math.floor(tot_segs*time_delta/tot_time)\n",
    "        if  start_time <= cur_time< stop_time and MFCC_index!= prev_index:\n",
    "            #MFCC_df=pd.DataFrame()\n",
    "            for phone in usable_phones:\n",
    "                val = distanceCalc(phone[1],phone[2],phone[3], lat[t],lon[t],height[t])\n",
    "                # range_df.loc[len(range_df.index)]=[str(phone[0]),np.float64(phone[1]),np.float64(phone[2]),np.float64(phone[3]),np.float64(val),pd.Series(phone_features[phone[0]][MFCC_index])]\n",
    "\n",
    "                #data=[full_name,str(phone[0]),np.float64(phone[1]),np.float64(phone[2]),np.float64(phone[3]),np.float64(val),start_time,cur_time]\n",
    "\n",
    "                #data=[full_name,str(MFCC_index),str(phone[0]),np.float64(phone[1]),np.float64(phone[2]),np.float64(phone[3]),np.float64(val)]\n",
    "                #data.extend(phone_features[phone[0]][MFCC_index].tolist()) #MFCCs\n",
    "                data_raw=[full_name,str(MFCC_index),str(phone[0]),np.float64(phone[1]),np.float64(phone[2]),np.float64(phone[3]),np.float64(val)]\n",
    "                #data_raw.extend(phone_features[phone[0]][MFCC_index].tolist()) #MFCCs\n",
    "                #indiv_df.loc[len(indiv_df.index)]=data\n",
    "                indiv_raw_df.loc[len(indiv_raw_df.index)]=data_raw\n",
    "        t+=4\n",
    "        if cur_time>stop_time:\n",
    "            done=True\n",
    "\n",
    "    #range_df= pd.concat([range_df, indiv_df])\n",
    "    range_raw_df=pd.concat([range_raw_df,indiv_raw_df])\n",
    "#range_df.to_csv('0.5s_spec_range_A1_A2_A3_no_overlap.csv')\n",
    "range_raw_df.to_csv('A3_Range_truth_dot256ms.csv')"
   ],
   "metadata": {
    "collapsed": false,
    "pycharm": {
     "name": "#%%\n"
    }
   }
  },
  {
   "cell_type": "markdown",
   "source": [
    "# 2D Range Estimation Dataset (Stores to x_data and y_data)"
   ],
   "metadata": {
    "collapsed": false,
    "pycharm": {
     "name": "#%% md\n"
    }
   }
  },
  {
   "cell_type": "code",
   "execution_count": 4,
   "outputs": [],
   "source": [
    "#training_df=pd.read_csv(\"./spect_range_csv.csv\")\n",
    "training_df=pd.read_csv(r\"C:\\Users\\rclendening\\researchData\\range_training.csv\")\n"
   ],
   "metadata": {
    "collapsed": false,
    "pycharm": {
     "name": "#%%\n"
    }
   }
  },
  {
   "cell_type": "code",
   "execution_count": 17,
   "outputs": [],
   "source": [
    "# train_feats=np.array(training_df.iloc[:, -256:])\n",
    "# train_targs=np.array(training_df.iloc[:,6])\n",
    "# train_feats=np.reshape(train_feats,(len(train_feats),64,4))\n",
    "\n",
    "train_feats=np.array(training_df.iloc[:, -40:])\n",
    "train_targs=np.array(training_df.iloc[:,7])\n",
    "train_feats=np.reshape(train_feats,(len(train_feats),40,1))"
   ],
   "metadata": {
    "collapsed": false,
    "pycharm": {
     "name": "#%%\n"
    }
   }
  },
  {
   "cell_type": "code",
   "execution_count": 18,
   "outputs": [
    {
     "name": "stdout",
     "output_type": "stream",
     "text": [
      "[ 89.33132407 175.61062749  78.9229703  ... 396.98564872 503.78703192\n",
      " 512.70897096]\n"
     ]
    }
   ],
   "source": [
    "print(train_targs)"
   ],
   "metadata": {
    "collapsed": false,
    "pycharm": {
     "name": "#%%\n"
    }
   }
  },
  {
   "cell_type": "code",
   "execution_count": 32,
   "outputs": [],
   "source": [
    "phone_slots=[\"Phone_1-1\",\"Phone_1-3\",\"Phone_11\",\"Phone_12\",\"Phone_15\",\"Phone_2-3\",\"Phone_2-4\", \"Phone_2-5\",\"Phone_27\",\"Phone_28\",\"Phone_29\" \"Phone_3-1\",\"Phone_3-2\",\"Phone_3-4\",\"Phone_3-5\",\"Phone_30\",\"Phone_5-2\",\"Phone_5-3\",\"Phone_5-4\",\"Phone_6-2\",\"Phone_6-3\",\"Phone_6-4\",\"Phone_6-5\",\"Phone_7-1\",\"Phone_7-2\",\"Phone_8\",\"Phone_9\"]\n",
    "notable_col_names=['Pass','Segment','Phone','Lat','Lon','Alt','Range']\n",
    "passes_df=pd.read_csv(r\"C:\\Users\\rclendening\\researchData\\researchCSVs_Scripts_etc\\A1_A2_flight_directory.csv\")\n",
    "x_data=[]\n",
    "y_data=[]\n",
    "def rangeFraction(ranges): #Function normalizes ranges\n",
    "    closest=np.min(ranges)\n",
    "    return closest*1/ranges\n",
    "def rangeClosest(ranges): #Function normalizes ranges\n",
    "    ranges_copy=ranges\n",
    "    truth=np.zeros(len(ranges))\n",
    "    #for x in range(0, 2):\n",
    "    closest=np.argmin(ranges_copy)\n",
    "    ranges_copy[closest]=10000\n",
    "    truth[closest]=1\n",
    "    return truth\n",
    "for x in passes_df.iterrows():\n",
    "    row=x[1]\n",
    "    pass_num=row[0]\n",
    "    scenario=row[1]\n",
    "    run_num=row[2]\n",
    "    start=row[3]\n",
    "    stop=row[4]\n",
    "    drone_gps_file=row[5]\n",
    "    full_name=(str(scenario) + 'R' + str(run_num) + 'P' + str(pass_num)).strip()\n",
    "    #pass_df=training_df.loc[training_df[str(notable_col_names.index('Pass'))] == full_name]\n",
    "    pass_df=training_df.loc[training_df[\"Pass\"] == full_name]\n",
    "    #max_segment=pass_df[str(notable_col_names.index('Segment'))].max()\n",
    "    max_segment=pass_df[\"Segment\"].max()\n",
    "    for i in range(0,max_segment):\n",
    "        #frame_df=pass_df.loc[pass_df[str(notable_col_names.index('Segment'))]==i]\n",
    "        frame_df=pass_df.loc[pass_df[\"Segment\"]==i]\n",
    "        twd_frame=[]\n",
    "        range_frame=[]\n",
    "        for phone in phone_slots:\n",
    "            #phone_seg=frame_df.loc[frame_df[str(notable_col_names.index('Phone'))]==phone]\n",
    "            phone_seg=frame_df.loc[frame_df[\"Name\"]==phone]\n",
    "            data=np.array(phone_seg.iloc[:,-40:])\n",
    "            #dist=phone_seg[str(notable_col_names.index('Range'))]\n",
    "            dist=phone_seg[\"Range\"]\n",
    "            if not np.any(data):\n",
    "                #data=np.zeros((64,4))\n",
    "                data=np.zeros((40,1))\n",
    "                dist=100000\n",
    "            else:\n",
    "                data=data[0]\n",
    "                #data=np.reshape(data,(64,4))\n",
    "                data=np.reshape(data,(40,1))\n",
    "                dist=np.array(dist)[0]\n",
    "            twd_frame.append(data)\n",
    "            range_frame.append(dist)\n",
    "        y_vals= rangeClosest(range_frame)\n",
    "        x_data.append([np.array(twd_frame)])\n",
    "        y_data.append([y_vals])"
   ],
   "metadata": {
    "collapsed": false,
    "pycharm": {
     "name": "#%%\n"
    }
   }
  },
  {
   "cell_type": "code",
   "execution_count": 33,
   "outputs": [],
   "source": [
    "x_array=np.array(x_data)\n",
    "# x_array=np.reshape(x_array,(len(x_array),26,64,4))\n",
    "x_array=np.reshape(x_array,(len(x_array),26,40,1))\n",
    "##mean = x_array.mean(axis=0)\n",
    "##x_array -= mean\n",
    "##std = x_array.std(axis=0)\n",
    "##x_array /= std\n",
    "y_array=np.array(y_data).reshape(len(y_data),26)\n",
    "# print(len(x_array))"
   ],
   "metadata": {
    "collapsed": false,
    "pycharm": {
     "name": "#%%\n"
    }
   }
  },
  {
   "cell_type": "code",
   "execution_count": 34,
   "outputs": [],
   "source": [
    "from sklearn.preprocessing import StandardScaler\n",
    "scaler=StandardScaler()\n",
    "X_train = scaler.fit_transform(x_array.reshape(-1, x_array.shape[-1])).reshape(x_array.shape)\n",
    "X_test = scaler.transform(x_array.reshape(-1, x_array.shape[-1])).reshape(x_array.shape)\n",
    "x_array=x_array.reshape((len(x_array),26,40,1))"
   ],
   "metadata": {
    "collapsed": false,
    "pycharm": {
     "name": "#%%\n"
    }
   }
  },
  {
   "cell_type": "markdown",
   "source": [
    "# Model that tries to predict which device is closest."
   ],
   "metadata": {
    "collapsed": false,
    "pycharm": {
     "name": "#%% md\n"
    }
   }
  },
  {
   "cell_type": "code",
   "execution_count": 42,
   "outputs": [
    {
     "name": "stdout",
     "output_type": "stream",
     "text": [
      "Epoch 1/200\n",
      "131/131 [==============================] - 6s 33ms/step - loss: 0.5992 - Accuracy: 0.8183 - val_loss: 2.6191 - val_Accuracy: 0.3588 - lr: 0.0010\n",
      "Epoch 2/200\n",
      "131/131 [==============================] - 4s 30ms/step - loss: 0.1896 - Accuracy: 0.9384 - val_loss: 3.8986 - val_Accuracy: 0.3416 - lr: 0.0010\n",
      "Epoch 3/200\n",
      "131/131 [==============================] - 4s 30ms/step - loss: 0.1172 - Accuracy: 0.9606 - val_loss: 5.2643 - val_Accuracy: 0.3249 - lr: 0.0010\n",
      "Epoch 4/200\n",
      "131/131 [==============================] - 5s 36ms/step - loss: 0.0880 - Accuracy: 0.9712 - val_loss: 6.6915 - val_Accuracy: 0.3239 - lr: 0.0010\n",
      "Epoch 5/200\n",
      "131/131 [==============================] - 8s 61ms/step - loss: 0.0677 - Accuracy: 0.9781 - val_loss: 8.4042 - val_Accuracy: 0.3134 - lr: 0.0010\n",
      "Epoch 6/200\n",
      "131/131 [==============================] - 7s 51ms/step - loss: 0.0626 - Accuracy: 0.9792 - val_loss: 7.8471 - val_Accuracy: 0.3158 - lr: 0.0010\n",
      "Epoch 7/200\n",
      "131/131 [==============================] - 5s 38ms/step - loss: 0.0573 - Accuracy: 0.9815 - val_loss: 7.9898 - val_Accuracy: 0.3139 - lr: 0.0010\n",
      "Epoch 8/200\n",
      " 57/131 [============>.................] - ETA: 2s - loss: 0.0501 - Accuracy: 0.9833"
     ]
    },
    {
     "ename": "KeyboardInterrupt",
     "evalue": "",
     "output_type": "error",
     "traceback": [
      "\u001B[1;31m---------------------------------------------------------------------------\u001B[0m",
      "\u001B[1;31mKeyboardInterrupt\u001B[0m                         Traceback (most recent call last)",
      "Input \u001B[1;32mIn [42]\u001B[0m, in \u001B[0;36m<cell line: 43>\u001B[1;34m()\u001B[0m\n\u001B[0;32m     38\u001B[0m reduceLR \u001B[38;5;241m=\u001B[39m tf\u001B[38;5;241m.\u001B[39mkeras\u001B[38;5;241m.\u001B[39mcallbacks\u001B[38;5;241m.\u001B[39mReduceLROnPlateau(monitor\u001B[38;5;241m=\u001B[39m\u001B[38;5;124m'\u001B[39m\u001B[38;5;124mval_loss\u001B[39m\u001B[38;5;124m'\u001B[39m, factor\u001B[38;5;241m=\u001B[39m\u001B[38;5;241m0.5\u001B[39m,\n\u001B[0;32m     39\u001B[0m                                  verbose\u001B[38;5;241m=\u001B[39m\u001B[38;5;241m1\u001B[39m, patience\u001B[38;5;241m=\u001B[39m\u001B[38;5;241m10\u001B[39m, mode\u001B[38;5;241m=\u001B[39m\u001B[38;5;124m'\u001B[39m\u001B[38;5;124mauto\u001B[39m\u001B[38;5;124m'\u001B[39m)\n\u001B[0;32m     40\u001B[0m early \u001B[38;5;241m=\u001B[39m tf\u001B[38;5;241m.\u001B[39mkeras\u001B[38;5;241m.\u001B[39mcallbacks\u001B[38;5;241m.\u001B[39mEarlyStopping(monitor\u001B[38;5;241m=\u001B[39m\u001B[38;5;124m'\u001B[39m\u001B[38;5;124mval_loss\u001B[39m\u001B[38;5;124m'\u001B[39m, min_delta\u001B[38;5;241m=\u001B[39m\u001B[38;5;241m1e-4\u001B[39m,\n\u001B[0;32m     41\u001B[0m                           patience\u001B[38;5;241m=\u001B[39m\u001B[38;5;241m40\u001B[39m, mode\u001B[38;5;241m=\u001B[39m\u001B[38;5;124m'\u001B[39m\u001B[38;5;124mauto\u001B[39m\u001B[38;5;124m'\u001B[39m, restore_best_weights\u001B[38;5;241m=\u001B[39m\u001B[38;5;28;01mTrue\u001B[39;00m)\n\u001B[1;32m---> 43\u001B[0m history \u001B[38;5;241m=\u001B[39m \u001B[43mmodel\u001B[49m\u001B[38;5;241;43m.\u001B[39;49m\u001B[43mfit\u001B[49m\u001B[43m(\u001B[49m\u001B[43mX_train\u001B[49m\u001B[43m,\u001B[49m\u001B[43m \u001B[49m\u001B[43my_array\u001B[49m\u001B[43m,\u001B[49m\n\u001B[0;32m     44\u001B[0m \u001B[43m                      \u001B[49m\u001B[43mepochs\u001B[49m\u001B[38;5;241;43m=\u001B[39;49m\u001B[38;5;241;43m200\u001B[39;49m\u001B[43m,\u001B[49m\n\u001B[0;32m     45\u001B[0m \u001B[43m                      \u001B[49m\u001B[43mbatch_size\u001B[49m\u001B[38;5;241;43m=\u001B[39;49m\u001B[38;5;241;43m64\u001B[39;49m\u001B[43m,\u001B[49m\n\u001B[0;32m     46\u001B[0m \u001B[43m                      \u001B[49m\u001B[43mshuffle\u001B[49m\u001B[38;5;241;43m=\u001B[39;49m\u001B[38;5;28;43;01mTrue\u001B[39;49;00m\u001B[43m,\u001B[49m\n\u001B[0;32m     47\u001B[0m \u001B[43m                      \u001B[49m\u001B[43mvalidation_split\u001B[49m\u001B[38;5;241;43m=\u001B[39;49m\u001B[38;5;241;43m0.2\u001B[39;49m\u001B[43m,\u001B[49m\n\u001B[0;32m     48\u001B[0m \u001B[43m                      \u001B[49m\u001B[43mcallbacks\u001B[49m\u001B[38;5;241;43m=\u001B[39;49m\u001B[43m[\u001B[49m\u001B[43mreduceLR\u001B[49m\u001B[43m,\u001B[49m\u001B[43m \u001B[49m\u001B[43mearly\u001B[49m\u001B[43m]\u001B[49m\u001B[43m)\u001B[49m\n\u001B[0;32m     49\u001B[0m model\u001B[38;5;241m.\u001B[39msummary()\n",
      "File \u001B[1;32m~\\AppData\\Local\\Programs\\Python\\Python39\\lib\\site-packages\\keras\\utils\\traceback_utils.py:64\u001B[0m, in \u001B[0;36mfilter_traceback.<locals>.error_handler\u001B[1;34m(*args, **kwargs)\u001B[0m\n\u001B[0;32m     62\u001B[0m filtered_tb \u001B[38;5;241m=\u001B[39m \u001B[38;5;28;01mNone\u001B[39;00m\n\u001B[0;32m     63\u001B[0m \u001B[38;5;28;01mtry\u001B[39;00m:\n\u001B[1;32m---> 64\u001B[0m   \u001B[38;5;28;01mreturn\u001B[39;00m fn(\u001B[38;5;241m*\u001B[39margs, \u001B[38;5;241m*\u001B[39m\u001B[38;5;241m*\u001B[39mkwargs)\n\u001B[0;32m     65\u001B[0m \u001B[38;5;28;01mexcept\u001B[39;00m \u001B[38;5;167;01mException\u001B[39;00m \u001B[38;5;28;01mas\u001B[39;00m e:  \u001B[38;5;66;03m# pylint: disable=broad-except\u001B[39;00m\n\u001B[0;32m     66\u001B[0m   filtered_tb \u001B[38;5;241m=\u001B[39m _process_traceback_frames(e\u001B[38;5;241m.\u001B[39m__traceback__)\n",
      "File \u001B[1;32m~\\AppData\\Local\\Programs\\Python\\Python39\\lib\\site-packages\\keras\\engine\\training.py:1409\u001B[0m, in \u001B[0;36mModel.fit\u001B[1;34m(self, x, y, batch_size, epochs, verbose, callbacks, validation_split, validation_data, shuffle, class_weight, sample_weight, initial_epoch, steps_per_epoch, validation_steps, validation_batch_size, validation_freq, max_queue_size, workers, use_multiprocessing)\u001B[0m\n\u001B[0;32m   1402\u001B[0m \u001B[38;5;28;01mwith\u001B[39;00m tf\u001B[38;5;241m.\u001B[39mprofiler\u001B[38;5;241m.\u001B[39mexperimental\u001B[38;5;241m.\u001B[39mTrace(\n\u001B[0;32m   1403\u001B[0m     \u001B[38;5;124m'\u001B[39m\u001B[38;5;124mtrain\u001B[39m\u001B[38;5;124m'\u001B[39m,\n\u001B[0;32m   1404\u001B[0m     epoch_num\u001B[38;5;241m=\u001B[39mepoch,\n\u001B[0;32m   1405\u001B[0m     step_num\u001B[38;5;241m=\u001B[39mstep,\n\u001B[0;32m   1406\u001B[0m     batch_size\u001B[38;5;241m=\u001B[39mbatch_size,\n\u001B[0;32m   1407\u001B[0m     _r\u001B[38;5;241m=\u001B[39m\u001B[38;5;241m1\u001B[39m):\n\u001B[0;32m   1408\u001B[0m   callbacks\u001B[38;5;241m.\u001B[39mon_train_batch_begin(step)\n\u001B[1;32m-> 1409\u001B[0m   tmp_logs \u001B[38;5;241m=\u001B[39m \u001B[38;5;28;43mself\u001B[39;49m\u001B[38;5;241;43m.\u001B[39;49m\u001B[43mtrain_function\u001B[49m\u001B[43m(\u001B[49m\u001B[43miterator\u001B[49m\u001B[43m)\u001B[49m\n\u001B[0;32m   1410\u001B[0m   \u001B[38;5;28;01mif\u001B[39;00m data_handler\u001B[38;5;241m.\u001B[39mshould_sync:\n\u001B[0;32m   1411\u001B[0m     context\u001B[38;5;241m.\u001B[39masync_wait()\n",
      "File \u001B[1;32m~\\AppData\\Local\\Programs\\Python\\Python39\\lib\\site-packages\\tensorflow\\python\\util\\traceback_utils.py:150\u001B[0m, in \u001B[0;36mfilter_traceback.<locals>.error_handler\u001B[1;34m(*args, **kwargs)\u001B[0m\n\u001B[0;32m    148\u001B[0m filtered_tb \u001B[38;5;241m=\u001B[39m \u001B[38;5;28;01mNone\u001B[39;00m\n\u001B[0;32m    149\u001B[0m \u001B[38;5;28;01mtry\u001B[39;00m:\n\u001B[1;32m--> 150\u001B[0m   \u001B[38;5;28;01mreturn\u001B[39;00m fn(\u001B[38;5;241m*\u001B[39margs, \u001B[38;5;241m*\u001B[39m\u001B[38;5;241m*\u001B[39mkwargs)\n\u001B[0;32m    151\u001B[0m \u001B[38;5;28;01mexcept\u001B[39;00m \u001B[38;5;167;01mException\u001B[39;00m \u001B[38;5;28;01mas\u001B[39;00m e:\n\u001B[0;32m    152\u001B[0m   filtered_tb \u001B[38;5;241m=\u001B[39m _process_traceback_frames(e\u001B[38;5;241m.\u001B[39m__traceback__)\n",
      "File \u001B[1;32m~\\AppData\\Local\\Programs\\Python\\Python39\\lib\\site-packages\\tensorflow\\python\\eager\\def_function.py:915\u001B[0m, in \u001B[0;36mFunction.__call__\u001B[1;34m(self, *args, **kwds)\u001B[0m\n\u001B[0;32m    912\u001B[0m compiler \u001B[38;5;241m=\u001B[39m \u001B[38;5;124m\"\u001B[39m\u001B[38;5;124mxla\u001B[39m\u001B[38;5;124m\"\u001B[39m \u001B[38;5;28;01mif\u001B[39;00m \u001B[38;5;28mself\u001B[39m\u001B[38;5;241m.\u001B[39m_jit_compile \u001B[38;5;28;01melse\u001B[39;00m \u001B[38;5;124m\"\u001B[39m\u001B[38;5;124mnonXla\u001B[39m\u001B[38;5;124m\"\u001B[39m\n\u001B[0;32m    914\u001B[0m \u001B[38;5;28;01mwith\u001B[39;00m OptionalXlaContext(\u001B[38;5;28mself\u001B[39m\u001B[38;5;241m.\u001B[39m_jit_compile):\n\u001B[1;32m--> 915\u001B[0m   result \u001B[38;5;241m=\u001B[39m \u001B[38;5;28mself\u001B[39m\u001B[38;5;241m.\u001B[39m_call(\u001B[38;5;241m*\u001B[39margs, \u001B[38;5;241m*\u001B[39m\u001B[38;5;241m*\u001B[39mkwds)\n\u001B[0;32m    917\u001B[0m new_tracing_count \u001B[38;5;241m=\u001B[39m \u001B[38;5;28mself\u001B[39m\u001B[38;5;241m.\u001B[39mexperimental_get_tracing_count()\n\u001B[0;32m    918\u001B[0m without_tracing \u001B[38;5;241m=\u001B[39m (tracing_count \u001B[38;5;241m==\u001B[39m new_tracing_count)\n",
      "File \u001B[1;32m~\\AppData\\Local\\Programs\\Python\\Python39\\lib\\site-packages\\tensorflow\\python\\eager\\def_function.py:947\u001B[0m, in \u001B[0;36mFunction._call\u001B[1;34m(self, *args, **kwds)\u001B[0m\n\u001B[0;32m    944\u001B[0m   \u001B[38;5;28mself\u001B[39m\u001B[38;5;241m.\u001B[39m_lock\u001B[38;5;241m.\u001B[39mrelease()\n\u001B[0;32m    945\u001B[0m   \u001B[38;5;66;03m# In this case we have created variables on the first call, so we run the\u001B[39;00m\n\u001B[0;32m    946\u001B[0m   \u001B[38;5;66;03m# defunned version which is guaranteed to never create variables.\u001B[39;00m\n\u001B[1;32m--> 947\u001B[0m   \u001B[38;5;28;01mreturn\u001B[39;00m \u001B[38;5;28mself\u001B[39m\u001B[38;5;241m.\u001B[39m_stateless_fn(\u001B[38;5;241m*\u001B[39margs, \u001B[38;5;241m*\u001B[39m\u001B[38;5;241m*\u001B[39mkwds)  \u001B[38;5;66;03m# pylint: disable=not-callable\u001B[39;00m\n\u001B[0;32m    948\u001B[0m \u001B[38;5;28;01melif\u001B[39;00m \u001B[38;5;28mself\u001B[39m\u001B[38;5;241m.\u001B[39m_stateful_fn \u001B[38;5;129;01mis\u001B[39;00m \u001B[38;5;129;01mnot\u001B[39;00m \u001B[38;5;28;01mNone\u001B[39;00m:\n\u001B[0;32m    949\u001B[0m   \u001B[38;5;66;03m# Release the lock early so that multiple threads can perform the call\u001B[39;00m\n\u001B[0;32m    950\u001B[0m   \u001B[38;5;66;03m# in parallel.\u001B[39;00m\n\u001B[0;32m    951\u001B[0m   \u001B[38;5;28mself\u001B[39m\u001B[38;5;241m.\u001B[39m_lock\u001B[38;5;241m.\u001B[39mrelease()\n",
      "File \u001B[1;32m~\\AppData\\Local\\Programs\\Python\\Python39\\lib\\site-packages\\tensorflow\\python\\eager\\function.py:2453\u001B[0m, in \u001B[0;36mFunction.__call__\u001B[1;34m(self, *args, **kwargs)\u001B[0m\n\u001B[0;32m   2450\u001B[0m \u001B[38;5;28;01mwith\u001B[39;00m \u001B[38;5;28mself\u001B[39m\u001B[38;5;241m.\u001B[39m_lock:\n\u001B[0;32m   2451\u001B[0m   (graph_function,\n\u001B[0;32m   2452\u001B[0m    filtered_flat_args) \u001B[38;5;241m=\u001B[39m \u001B[38;5;28mself\u001B[39m\u001B[38;5;241m.\u001B[39m_maybe_define_function(args, kwargs)\n\u001B[1;32m-> 2453\u001B[0m \u001B[38;5;28;01mreturn\u001B[39;00m \u001B[43mgraph_function\u001B[49m\u001B[38;5;241;43m.\u001B[39;49m\u001B[43m_call_flat\u001B[49m\u001B[43m(\u001B[49m\n\u001B[0;32m   2454\u001B[0m \u001B[43m    \u001B[49m\u001B[43mfiltered_flat_args\u001B[49m\u001B[43m,\u001B[49m\u001B[43m \u001B[49m\u001B[43mcaptured_inputs\u001B[49m\u001B[38;5;241;43m=\u001B[39;49m\u001B[43mgraph_function\u001B[49m\u001B[38;5;241;43m.\u001B[39;49m\u001B[43mcaptured_inputs\u001B[49m\u001B[43m)\u001B[49m\n",
      "File \u001B[1;32m~\\AppData\\Local\\Programs\\Python\\Python39\\lib\\site-packages\\tensorflow\\python\\eager\\function.py:1860\u001B[0m, in \u001B[0;36mConcreteFunction._call_flat\u001B[1;34m(self, args, captured_inputs, cancellation_manager)\u001B[0m\n\u001B[0;32m   1856\u001B[0m possible_gradient_type \u001B[38;5;241m=\u001B[39m gradients_util\u001B[38;5;241m.\u001B[39mPossibleTapeGradientTypes(args)\n\u001B[0;32m   1857\u001B[0m \u001B[38;5;28;01mif\u001B[39;00m (possible_gradient_type \u001B[38;5;241m==\u001B[39m gradients_util\u001B[38;5;241m.\u001B[39mPOSSIBLE_GRADIENT_TYPES_NONE\n\u001B[0;32m   1858\u001B[0m     \u001B[38;5;129;01mand\u001B[39;00m executing_eagerly):\n\u001B[0;32m   1859\u001B[0m   \u001B[38;5;66;03m# No tape is watching; skip to running the function.\u001B[39;00m\n\u001B[1;32m-> 1860\u001B[0m   \u001B[38;5;28;01mreturn\u001B[39;00m \u001B[38;5;28mself\u001B[39m\u001B[38;5;241m.\u001B[39m_build_call_outputs(\u001B[38;5;28;43mself\u001B[39;49m\u001B[38;5;241;43m.\u001B[39;49m\u001B[43m_inference_function\u001B[49m\u001B[38;5;241;43m.\u001B[39;49m\u001B[43mcall\u001B[49m\u001B[43m(\u001B[49m\n\u001B[0;32m   1861\u001B[0m \u001B[43m      \u001B[49m\u001B[43mctx\u001B[49m\u001B[43m,\u001B[49m\u001B[43m \u001B[49m\u001B[43margs\u001B[49m\u001B[43m,\u001B[49m\u001B[43m \u001B[49m\u001B[43mcancellation_manager\u001B[49m\u001B[38;5;241;43m=\u001B[39;49m\u001B[43mcancellation_manager\u001B[49m\u001B[43m)\u001B[49m)\n\u001B[0;32m   1862\u001B[0m forward_backward \u001B[38;5;241m=\u001B[39m \u001B[38;5;28mself\u001B[39m\u001B[38;5;241m.\u001B[39m_select_forward_and_backward_functions(\n\u001B[0;32m   1863\u001B[0m     args,\n\u001B[0;32m   1864\u001B[0m     possible_gradient_type,\n\u001B[0;32m   1865\u001B[0m     executing_eagerly)\n\u001B[0;32m   1866\u001B[0m forward_function, args_with_tangents \u001B[38;5;241m=\u001B[39m forward_backward\u001B[38;5;241m.\u001B[39mforward()\n",
      "File \u001B[1;32m~\\AppData\\Local\\Programs\\Python\\Python39\\lib\\site-packages\\tensorflow\\python\\eager\\function.py:497\u001B[0m, in \u001B[0;36m_EagerDefinedFunction.call\u001B[1;34m(self, ctx, args, cancellation_manager)\u001B[0m\n\u001B[0;32m    495\u001B[0m \u001B[38;5;28;01mwith\u001B[39;00m _InterpolateFunctionError(\u001B[38;5;28mself\u001B[39m):\n\u001B[0;32m    496\u001B[0m   \u001B[38;5;28;01mif\u001B[39;00m cancellation_manager \u001B[38;5;129;01mis\u001B[39;00m \u001B[38;5;28;01mNone\u001B[39;00m:\n\u001B[1;32m--> 497\u001B[0m     outputs \u001B[38;5;241m=\u001B[39m \u001B[43mexecute\u001B[49m\u001B[38;5;241;43m.\u001B[39;49m\u001B[43mexecute\u001B[49m\u001B[43m(\u001B[49m\n\u001B[0;32m    498\u001B[0m \u001B[43m        \u001B[49m\u001B[38;5;28;43mstr\u001B[39;49m\u001B[43m(\u001B[49m\u001B[38;5;28;43mself\u001B[39;49m\u001B[38;5;241;43m.\u001B[39;49m\u001B[43msignature\u001B[49m\u001B[38;5;241;43m.\u001B[39;49m\u001B[43mname\u001B[49m\u001B[43m)\u001B[49m\u001B[43m,\u001B[49m\n\u001B[0;32m    499\u001B[0m \u001B[43m        \u001B[49m\u001B[43mnum_outputs\u001B[49m\u001B[38;5;241;43m=\u001B[39;49m\u001B[38;5;28;43mself\u001B[39;49m\u001B[38;5;241;43m.\u001B[39;49m\u001B[43m_num_outputs\u001B[49m\u001B[43m,\u001B[49m\n\u001B[0;32m    500\u001B[0m \u001B[43m        \u001B[49m\u001B[43minputs\u001B[49m\u001B[38;5;241;43m=\u001B[39;49m\u001B[43margs\u001B[49m\u001B[43m,\u001B[49m\n\u001B[0;32m    501\u001B[0m \u001B[43m        \u001B[49m\u001B[43mattrs\u001B[49m\u001B[38;5;241;43m=\u001B[39;49m\u001B[43mattrs\u001B[49m\u001B[43m,\u001B[49m\n\u001B[0;32m    502\u001B[0m \u001B[43m        \u001B[49m\u001B[43mctx\u001B[49m\u001B[38;5;241;43m=\u001B[39;49m\u001B[43mctx\u001B[49m\u001B[43m)\u001B[49m\n\u001B[0;32m    503\u001B[0m   \u001B[38;5;28;01melse\u001B[39;00m:\n\u001B[0;32m    504\u001B[0m     outputs \u001B[38;5;241m=\u001B[39m execute\u001B[38;5;241m.\u001B[39mexecute_with_cancellation(\n\u001B[0;32m    505\u001B[0m         \u001B[38;5;28mstr\u001B[39m(\u001B[38;5;28mself\u001B[39m\u001B[38;5;241m.\u001B[39msignature\u001B[38;5;241m.\u001B[39mname),\n\u001B[0;32m    506\u001B[0m         num_outputs\u001B[38;5;241m=\u001B[39m\u001B[38;5;28mself\u001B[39m\u001B[38;5;241m.\u001B[39m_num_outputs,\n\u001B[1;32m   (...)\u001B[0m\n\u001B[0;32m    509\u001B[0m         ctx\u001B[38;5;241m=\u001B[39mctx,\n\u001B[0;32m    510\u001B[0m         cancellation_manager\u001B[38;5;241m=\u001B[39mcancellation_manager)\n",
      "File \u001B[1;32m~\\AppData\\Local\\Programs\\Python\\Python39\\lib\\site-packages\\tensorflow\\python\\eager\\execute.py:54\u001B[0m, in \u001B[0;36mquick_execute\u001B[1;34m(op_name, num_outputs, inputs, attrs, ctx, name)\u001B[0m\n\u001B[0;32m     52\u001B[0m \u001B[38;5;28;01mtry\u001B[39;00m:\n\u001B[0;32m     53\u001B[0m   ctx\u001B[38;5;241m.\u001B[39mensure_initialized()\n\u001B[1;32m---> 54\u001B[0m   tensors \u001B[38;5;241m=\u001B[39m \u001B[43mpywrap_tfe\u001B[49m\u001B[38;5;241;43m.\u001B[39;49m\u001B[43mTFE_Py_Execute\u001B[49m\u001B[43m(\u001B[49m\u001B[43mctx\u001B[49m\u001B[38;5;241;43m.\u001B[39;49m\u001B[43m_handle\u001B[49m\u001B[43m,\u001B[49m\u001B[43m \u001B[49m\u001B[43mdevice_name\u001B[49m\u001B[43m,\u001B[49m\u001B[43m \u001B[49m\u001B[43mop_name\u001B[49m\u001B[43m,\u001B[49m\n\u001B[0;32m     55\u001B[0m \u001B[43m                                      \u001B[49m\u001B[43minputs\u001B[49m\u001B[43m,\u001B[49m\u001B[43m \u001B[49m\u001B[43mattrs\u001B[49m\u001B[43m,\u001B[49m\u001B[43m \u001B[49m\u001B[43mnum_outputs\u001B[49m\u001B[43m)\u001B[49m\n\u001B[0;32m     56\u001B[0m \u001B[38;5;28;01mexcept\u001B[39;00m core\u001B[38;5;241m.\u001B[39m_NotOkStatusException \u001B[38;5;28;01mas\u001B[39;00m e:\n\u001B[0;32m     57\u001B[0m   \u001B[38;5;28;01mif\u001B[39;00m name \u001B[38;5;129;01mis\u001B[39;00m \u001B[38;5;129;01mnot\u001B[39;00m \u001B[38;5;28;01mNone\u001B[39;00m:\n",
      "\u001B[1;31mKeyboardInterrupt\u001B[0m: "
     ]
    }
   ],
   "source": [
    "model =tf.keras.Sequential()\n",
    "#model.add(BatchNormalization(input_shape=(1,26,40)))\n",
    "model.add(Conv2D(filters=2,kernel_size=(3,3),strides=(1,1), use_bias=False,input_shape=(26,40,1), name='conv_1',padding='Valid'))\n",
    "#model.add(Dropout(0.5))\n",
    "model.add(Activation('relu'))\n",
    "model.add(BatchNormalization())\n",
    "model.add(Conv2D(filters=2,kernel_size=(3,3),strides=(1,1), use_bias=False, name='conv_2',padding='Same'))\n",
    "#model.add(Dropout(0.5))\n",
    "model.add(Activation('relu'))\n",
    "model.add(BatchNormalization())\n",
    "#model.add(MaxPooling2D((2,2), strides=2))\n",
    "# model.add(Conv3D(filters=2,kernel_size=(2,2,2), use_bias=False,\n",
    "#                           name='conv_2',padding='Same'))\n",
    "# model.add(BatchNormalization())\n",
    "# model.add(Activation('relu'))\n",
    "#model.add(MaxPooling1D(64, strides=2))\n",
    "# hidden = MaxPooling1D(3, strides=2)(hidden)\n",
    "# model.add(Conv2D(filters=2,kernel_size=3, strides=2, use_bias=False, name='conv_3'))\n",
    "# model.add(BatchNormalization())\n",
    "# model.add(Activation('sigmoid'))\n",
    "model.add(Dropout(0.3))\n",
    "model.add(Flatten())\n",
    "#model.add(MaxPooling1D(3, strides=2))\n",
    "#model.add(LSTM(32))\n",
    "#model.add(Dense(256, activation='relu', name='dense_1'))\n",
    "#model.add(Dropout(0.5))\n",
    "model.add(Dense(52, activation='relu', name='dense_2'))\n",
    "#model.add(LSTM(16))\n",
    "#model.add(Dense(6, activation='sigmoid', name='dense_3'))\n",
    "model.add(Dropout(0.3))\n",
    "model.add(Dense(26, activation='softmax', name='dense_4'))\n",
    "\n",
    "\n",
    "optimizer= tf.keras.optimizers.Adam(learning_rate=0.2)\n",
    "model.compile(loss=tf.keras.losses.CategoricalCrossentropy(from_logits=False),optimizer='rmsprop',metrics=['Accuracy'])\n",
    "\n",
    "\n",
    "reduceLR = tf.keras.callbacks.ReduceLROnPlateau(monitor='val_loss', factor=0.5,\n",
    "                                 verbose=1, patience=10, mode='auto')\n",
    "early = tf.keras.callbacks.EarlyStopping(monitor='val_loss', min_delta=1e-4,\n",
    "                          patience=40, mode='auto', restore_best_weights=True)\n",
    "\n",
    "history = model.fit(X_train, y_array,\n",
    "                      epochs=200,\n",
    "                      batch_size=64,\n",
    "                      shuffle=True,\n",
    "                      validation_split=0.2,\n",
    "                      callbacks=[reduceLR, early])\n",
    "model.summary()\n",
    "#3d spectogram complete failure... need way more data"
   ],
   "metadata": {
    "collapsed": false,
    "pycharm": {
     "name": "#%%\n"
    }
   }
  },
  {
   "cell_type": "code",
   "execution_count": 202,
   "outputs": [
    {
     "data": {
      "text/plain": "<Figure size 432x288 with 1 Axes>",
      "image/png": "[encoded data removed]"
     },
     "metadata": {
      "needs_background": "light"
     },
     "output_type": "display_data"
    }
   ],
   "source": [
    "plt.plot(history.history['loss'])\n",
    "plt.plot(history.history['val_loss'])\n",
    "plt.title('Learning Curves')\n",
    "plt.legend(['Training Loss', 'Validation Loss'])\n",
    "plt.ylabel('Binary Crossentropy')\n",
    "plt.xlabel('Epoch Number')\n",
    "plt.show()"
   ],
   "metadata": {
    "collapsed": false,
    "pycharm": {
     "name": "#%%\n"
    }
   }
  },
  {
   "cell_type": "markdown",
   "source": [
    "# Azimuth, Range, Angle for Cluster"
   ],
   "metadata": {
    "collapsed": false,
    "pycharm": {
     "name": "#%% md\n"
    }
   }
  },
  {
   "cell_type": "code",
   "execution_count": 3,
   "outputs": [
    {
     "name": "stdout",
     "output_type": "stream",
     "text": [
      "\n",
      "C:\\Users\\rclendening\\researchData\\ESCAPE II_AFRL_SSD\\UAS Campaign\\UAS_log_files\\A1_A2_A3\\A1R1_IF1200GPS.csv\n",
      "C:\\Users\\rclendening\\researchData\\ESCAPE II_AFRL_SSD\\UAS Campaign\\UAS_log_files\\A1_A2_A3\\A1R1_IF1200GPS.csv\n",
      "C:\\Users\\rclendening\\researchData\\ESCAPE II_AFRL_SSD\\UAS Campaign\\UAS_log_files\\A1_A2_A3\\A1R1_IF1200GPS.csv\n",
      "C:\\Users\\rclendening\\researchData\\ESCAPE II_AFRL_SSD\\UAS Campaign\\UAS_log_files\\A1_A2_A3\\A1R1_IF1200GPS.csv\n",
      "C:\\Users\\rclendening\\researchData\\ESCAPE II_AFRL_SSD\\UAS Campaign\\UAS_log_files\\A1_A2_A3\\A1R1_IF1200GPS.csv\n"
     ]
    },
    {
     "name": "stderr",
     "output_type": "stream",
     "text": [
      "C:\\Users\\rclendening\\AppData\\Local\\Temp\\1\\ipykernel_17100\\685357243.py:207: DtypeWarning: Columns (49) have mixed types. Specify dtype option on import or set low_memory=False.\n",
      "  GPS_flight_log=pd.read_csv((\"C:\\\\Users\\\\rclendening\\\\researchData\\\\ESCAPE II_AFRL_SSD\\\\UAS Campaign\\\\UAS_log_files\\\\A1_A2_A3\"+\"\\\\\"+drone_gps_file+\".csv\"))\n"
     ]
    },
    {
     "name": "stdout",
     "output_type": "stream",
     "text": [
      "C:\\Users\\rclendening\\researchData\\ESCAPE II_AFRL_SSD\\UAS Campaign\\UAS_log_files\\A1_A2_A3\\FLY101(1123-1155).csv\n"
     ]
    },
    {
     "name": "stderr",
     "output_type": "stream",
     "text": [
      "C:\\Users\\rclendening\\AppData\\Local\\Temp\\1\\ipykernel_17100\\685357243.py:207: DtypeWarning: Columns (49) have mixed types. Specify dtype option on import or set low_memory=False.\n",
      "  GPS_flight_log=pd.read_csv((\"C:\\\\Users\\\\rclendening\\\\researchData\\\\ESCAPE II_AFRL_SSD\\\\UAS Campaign\\\\UAS_log_files\\\\A1_A2_A3\"+\"\\\\\"+drone_gps_file+\".csv\"))\n"
     ]
    },
    {
     "name": "stdout",
     "output_type": "stream",
     "text": [
      "C:\\Users\\rclendening\\researchData\\ESCAPE II_AFRL_SSD\\UAS Campaign\\UAS_log_files\\A1_A2_A3\\FLY101(1123-1155).csv\n"
     ]
    },
    {
     "name": "stderr",
     "output_type": "stream",
     "text": [
      "C:\\Users\\rclendening\\AppData\\Local\\Temp\\1\\ipykernel_17100\\685357243.py:207: DtypeWarning: Columns (49) have mixed types. Specify dtype option on import or set low_memory=False.\n",
      "  GPS_flight_log=pd.read_csv((\"C:\\\\Users\\\\rclendening\\\\researchData\\\\ESCAPE II_AFRL_SSD\\\\UAS Campaign\\\\UAS_log_files\\\\A1_A2_A3\"+\"\\\\\"+drone_gps_file+\".csv\"))\n"
     ]
    },
    {
     "name": "stdout",
     "output_type": "stream",
     "text": [
      "C:\\Users\\rclendening\\researchData\\ESCAPE II_AFRL_SSD\\UAS Campaign\\UAS_log_files\\A1_A2_A3\\FLY101(1123-1155).csv\n"
     ]
    },
    {
     "name": "stderr",
     "output_type": "stream",
     "text": [
      "C:\\Users\\rclendening\\AppData\\Local\\Temp\\1\\ipykernel_17100\\685357243.py:207: DtypeWarning: Columns (49) have mixed types. Specify dtype option on import or set low_memory=False.\n",
      "  GPS_flight_log=pd.read_csv((\"C:\\\\Users\\\\rclendening\\\\researchData\\\\ESCAPE II_AFRL_SSD\\\\UAS Campaign\\\\UAS_log_files\\\\A1_A2_A3\"+\"\\\\\"+drone_gps_file+\".csv\"))\n"
     ]
    },
    {
     "name": "stdout",
     "output_type": "stream",
     "text": [
      "C:\\Users\\rclendening\\researchData\\ESCAPE II_AFRL_SSD\\UAS Campaign\\UAS_log_files\\A1_A2_A3\\FLY101(1123-1155).csv\n"
     ]
    },
    {
     "name": "stderr",
     "output_type": "stream",
     "text": [
      "C:\\Users\\rclendening\\AppData\\Local\\Temp\\1\\ipykernel_17100\\685357243.py:207: DtypeWarning: Columns (49) have mixed types. Specify dtype option on import or set low_memory=False.\n",
      "  GPS_flight_log=pd.read_csv((\"C:\\\\Users\\\\rclendening\\\\researchData\\\\ESCAPE II_AFRL_SSD\\\\UAS Campaign\\\\UAS_log_files\\\\A1_A2_A3\"+\"\\\\\"+drone_gps_file+\".csv\"))\n"
     ]
    },
    {
     "name": "stdout",
     "output_type": "stream",
     "text": [
      "C:\\Users\\rclendening\\researchData\\ESCAPE II_AFRL_SSD\\UAS Campaign\\UAS_log_files\\A1_A2_A3\\FLY101(1123-1155).csv\n",
      "C:\\Users\\rclendening\\researchData\\ESCAPE II_AFRL_SSD\\UAS Campaign\\UAS_log_files\\A1_A2_A3\\log_18_2021-8-24-11-04-46_vehicle_gps_position_0.csv\n",
      "C:\\Users\\rclendening\\researchData\\ESCAPE II_AFRL_SSD\\UAS Campaign\\UAS_log_files\\A1_A2_A3\\log_18_2021-8-24-11-04-46_vehicle_gps_position_0.csv\n",
      "C:\\Users\\rclendening\\researchData\\ESCAPE II_AFRL_SSD\\UAS Campaign\\UAS_log_files\\A1_A2_A3\\log_18_2021-8-24-11-04-46_vehicle_gps_position_0.csv\n",
      "C:\\Users\\rclendening\\researchData\\ESCAPE II_AFRL_SSD\\UAS Campaign\\UAS_log_files\\A1_A2_A3\\log_19_2021-8-24-11-22-20_vehicle_gps_position_0.csv\n",
      "C:\\Users\\rclendening\\researchData\\ESCAPE II_AFRL_SSD\\UAS Campaign\\UAS_log_files\\A1_A2_A3\\log_19_2021-8-24-11-22-20_vehicle_gps_position_0.csv\n",
      "C:\\Users\\rclendening\\researchData\\ESCAPE II_AFRL_SSD\\UAS Campaign\\UAS_log_files\\A1_A2_A3\\log_18_2021-8-24-11-04-46_vehicle_gps_position_0.csv\n",
      "C:\\Users\\rclendening\\researchData\\ESCAPE II_AFRL_SSD\\UAS Campaign\\UAS_log_files\\A1_A2_A3\\log_18_2021-8-24-11-04-46_vehicle_gps_position_0.csv\n",
      "C:\\Users\\rclendening\\researchData\\ESCAPE II_AFRL_SSD\\UAS Campaign\\UAS_log_files\\A1_A2_A3\\log_18_2021-8-24-11-04-46_vehicle_gps_position_0.csv\n",
      "C:\\Users\\rclendening\\researchData\\ESCAPE II_AFRL_SSD\\UAS Campaign\\UAS_log_files\\A1_A2_A3\\log_19_2021-8-24-11-22-20_vehicle_gps_position_0.csv\n",
      "C:\\Users\\rclendening\\researchData\\ESCAPE II_AFRL_SSD\\UAS Campaign\\UAS_log_files\\A1_A2_A3\\log_19_2021-8-24-11-22-20_vehicle_gps_position_0.csv\n"
     ]
    },
    {
     "name": "stderr",
     "output_type": "stream",
     "text": [
      "C:\\Users\\rclendening\\AppData\\Local\\Temp\\1\\ipykernel_17100\\685357243.py:207: DtypeWarning: Columns (49) have mixed types. Specify dtype option on import or set low_memory=False.\n",
      "  GPS_flight_log=pd.read_csv((\"C:\\\\Users\\\\rclendening\\\\researchData\\\\ESCAPE II_AFRL_SSD\\\\UAS Campaign\\\\UAS_log_files\\\\A1_A2_A3\"+\"\\\\\"+drone_gps_file+\".csv\"))\n"
     ]
    },
    {
     "name": "stdout",
     "output_type": "stream",
     "text": [
      "C:\\Users\\rclendening\\researchData\\ESCAPE II_AFRL_SSD\\UAS Campaign\\UAS_log_files\\A1_A2_A3\\FLY103(1322-1342).csv\n"
     ]
    },
    {
     "name": "stderr",
     "output_type": "stream",
     "text": [
      "C:\\Users\\rclendening\\AppData\\Local\\Temp\\1\\ipykernel_17100\\685357243.py:207: DtypeWarning: Columns (49) have mixed types. Specify dtype option on import or set low_memory=False.\n",
      "  GPS_flight_log=pd.read_csv((\"C:\\\\Users\\\\rclendening\\\\researchData\\\\ESCAPE II_AFRL_SSD\\\\UAS Campaign\\\\UAS_log_files\\\\A1_A2_A3\"+\"\\\\\"+drone_gps_file+\".csv\"))\n"
     ]
    },
    {
     "name": "stdout",
     "output_type": "stream",
     "text": [
      "C:\\Users\\rclendening\\researchData\\ESCAPE II_AFRL_SSD\\UAS Campaign\\UAS_log_files\\A1_A2_A3\\FLY103(1322-1342).csv\n"
     ]
    },
    {
     "name": "stderr",
     "output_type": "stream",
     "text": [
      "C:\\Users\\rclendening\\AppData\\Local\\Temp\\1\\ipykernel_17100\\685357243.py:207: DtypeWarning: Columns (49) have mixed types. Specify dtype option on import or set low_memory=False.\n",
      "  GPS_flight_log=pd.read_csv((\"C:\\\\Users\\\\rclendening\\\\researchData\\\\ESCAPE II_AFRL_SSD\\\\UAS Campaign\\\\UAS_log_files\\\\A1_A2_A3\"+\"\\\\\"+drone_gps_file+\".csv\"))\n"
     ]
    },
    {
     "name": "stdout",
     "output_type": "stream",
     "text": [
      "C:\\Users\\rclendening\\researchData\\ESCAPE II_AFRL_SSD\\UAS Campaign\\UAS_log_files\\A1_A2_A3\\FLY103(1322-1342).csv\n"
     ]
    },
    {
     "name": "stderr",
     "output_type": "stream",
     "text": [
      "C:\\Users\\rclendening\\AppData\\Local\\Temp\\1\\ipykernel_17100\\685357243.py:207: DtypeWarning: Columns (49) have mixed types. Specify dtype option on import or set low_memory=False.\n",
      "  GPS_flight_log=pd.read_csv((\"C:\\\\Users\\\\rclendening\\\\researchData\\\\ESCAPE II_AFRL_SSD\\\\UAS Campaign\\\\UAS_log_files\\\\A1_A2_A3\"+\"\\\\\"+drone_gps_file+\".csv\"))\n"
     ]
    },
    {
     "name": "stdout",
     "output_type": "stream",
     "text": [
      "C:\\Users\\rclendening\\researchData\\ESCAPE II_AFRL_SSD\\UAS Campaign\\UAS_log_files\\A1_A2_A3\\FLY103(1322-1342).csv\n"
     ]
    },
    {
     "name": "stderr",
     "output_type": "stream",
     "text": [
      "C:\\Users\\rclendening\\AppData\\Local\\Temp\\1\\ipykernel_17100\\685357243.py:207: DtypeWarning: Columns (49) have mixed types. Specify dtype option on import or set low_memory=False.\n",
      "  GPS_flight_log=pd.read_csv((\"C:\\\\Users\\\\rclendening\\\\researchData\\\\ESCAPE II_AFRL_SSD\\\\UAS Campaign\\\\UAS_log_files\\\\A1_A2_A3\"+\"\\\\\"+drone_gps_file+\".csv\"))\n"
     ]
    },
    {
     "name": "stdout",
     "output_type": "stream",
     "text": [
      "C:\\Users\\rclendening\\researchData\\ESCAPE II_AFRL_SSD\\UAS Campaign\\UAS_log_files\\A1_A2_A3\\FLY103(1322-1342).csv\n"
     ]
    },
    {
     "name": "stderr",
     "output_type": "stream",
     "text": [
      "C:\\Users\\rclendening\\AppData\\Local\\Temp\\1\\ipykernel_17100\\685357243.py:207: DtypeWarning: Columns (49) have mixed types. Specify dtype option on import or set low_memory=False.\n",
      "  GPS_flight_log=pd.read_csv((\"C:\\\\Users\\\\rclendening\\\\researchData\\\\ESCAPE II_AFRL_SSD\\\\UAS Campaign\\\\UAS_log_files\\\\A1_A2_A3\"+\"\\\\\"+drone_gps_file+\".csv\"))\n"
     ]
    },
    {
     "name": "stdout",
     "output_type": "stream",
     "text": [
      "C:\\Users\\rclendening\\researchData\\ESCAPE II_AFRL_SSD\\UAS Campaign\\UAS_log_files\\A1_A2_A3\\FLY103(1322-1342).csv\n"
     ]
    },
    {
     "name": "stderr",
     "output_type": "stream",
     "text": [
      "C:\\Users\\rclendening\\AppData\\Local\\Temp\\1\\ipykernel_17100\\685357243.py:207: DtypeWarning: Columns (19) have mixed types. Specify dtype option on import or set low_memory=False.\n",
      "  GPS_flight_log=pd.read_csv((\"C:\\\\Users\\\\rclendening\\\\researchData\\\\ESCAPE II_AFRL_SSD\\\\UAS Campaign\\\\UAS_log_files\\\\A1_A2_A3\"+\"\\\\\"+drone_gps_file+\".csv\"))\n"
     ]
    },
    {
     "name": "stdout",
     "output_type": "stream",
     "text": [
      "C:\\Users\\rclendening\\researchData\\ESCAPE II_AFRL_SSD\\UAS Campaign\\UAS_log_files\\A1_A2_A3\\FLY031(1333-1358).csv\n"
     ]
    },
    {
     "name": "stderr",
     "output_type": "stream",
     "text": [
      "C:\\Users\\rclendening\\AppData\\Local\\Temp\\1\\ipykernel_17100\\685357243.py:207: DtypeWarning: Columns (19) have mixed types. Specify dtype option on import or set low_memory=False.\n",
      "  GPS_flight_log=pd.read_csv((\"C:\\\\Users\\\\rclendening\\\\researchData\\\\ESCAPE II_AFRL_SSD\\\\UAS Campaign\\\\UAS_log_files\\\\A1_A2_A3\"+\"\\\\\"+drone_gps_file+\".csv\"))\n"
     ]
    },
    {
     "name": "stdout",
     "output_type": "stream",
     "text": [
      "C:\\Users\\rclendening\\researchData\\ESCAPE II_AFRL_SSD\\UAS Campaign\\UAS_log_files\\A1_A2_A3\\FLY031(1333-1358).csv\n"
     ]
    },
    {
     "name": "stderr",
     "output_type": "stream",
     "text": [
      "C:\\Users\\rclendening\\AppData\\Local\\Temp\\1\\ipykernel_17100\\685357243.py:207: DtypeWarning: Columns (19) have mixed types. Specify dtype option on import or set low_memory=False.\n",
      "  GPS_flight_log=pd.read_csv((\"C:\\\\Users\\\\rclendening\\\\researchData\\\\ESCAPE II_AFRL_SSD\\\\UAS Campaign\\\\UAS_log_files\\\\A1_A2_A3\"+\"\\\\\"+drone_gps_file+\".csv\"))\n"
     ]
    },
    {
     "name": "stdout",
     "output_type": "stream",
     "text": [
      "C:\\Users\\rclendening\\researchData\\ESCAPE II_AFRL_SSD\\UAS Campaign\\UAS_log_files\\A1_A2_A3\\FLY031(1333-1358).csv\n"
     ]
    },
    {
     "name": "stderr",
     "output_type": "stream",
     "text": [
      "C:\\Users\\rclendening\\AppData\\Local\\Temp\\1\\ipykernel_17100\\685357243.py:207: DtypeWarning: Columns (19) have mixed types. Specify dtype option on import or set low_memory=False.\n",
      "  GPS_flight_log=pd.read_csv((\"C:\\\\Users\\\\rclendening\\\\researchData\\\\ESCAPE II_AFRL_SSD\\\\UAS Campaign\\\\UAS_log_files\\\\A1_A2_A3\"+\"\\\\\"+drone_gps_file+\".csv\"))\n"
     ]
    },
    {
     "name": "stdout",
     "output_type": "stream",
     "text": [
      "C:\\Users\\rclendening\\researchData\\ESCAPE II_AFRL_SSD\\UAS Campaign\\UAS_log_files\\A1_A2_A3\\FLY031(1333-1358).csv\n",
      "C:\\Users\\rclendening\\researchData\\ESCAPE II_AFRL_SSD\\UAS Campaign\\UAS_log_files\\A1_A2_A3\\FLY032(1358-1412).csv\n"
     ]
    },
    {
     "name": "stderr",
     "output_type": "stream",
     "text": [
      "C:\\Users\\rclendening\\AppData\\Local\\Temp\\1\\ipykernel_17100\\685357243.py:207: DtypeWarning: Columns (19) have mixed types. Specify dtype option on import or set low_memory=False.\n",
      "  GPS_flight_log=pd.read_csv((\"C:\\\\Users\\\\rclendening\\\\researchData\\\\ESCAPE II_AFRL_SSD\\\\UAS Campaign\\\\UAS_log_files\\\\A1_A2_A3\"+\"\\\\\"+drone_gps_file+\".csv\"))\n"
     ]
    },
    {
     "name": "stdout",
     "output_type": "stream",
     "text": [
      "C:\\Users\\rclendening\\researchData\\ESCAPE II_AFRL_SSD\\UAS Campaign\\UAS_log_files\\A1_A2_A3\\FLY031(1333-1358).csv\n"
     ]
    },
    {
     "name": "stderr",
     "output_type": "stream",
     "text": [
      "C:\\Users\\rclendening\\AppData\\Local\\Temp\\1\\ipykernel_17100\\685357243.py:207: DtypeWarning: Columns (19) have mixed types. Specify dtype option on import or set low_memory=False.\n",
      "  GPS_flight_log=pd.read_csv((\"C:\\\\Users\\\\rclendening\\\\researchData\\\\ESCAPE II_AFRL_SSD\\\\UAS Campaign\\\\UAS_log_files\\\\A1_A2_A3\"+\"\\\\\"+drone_gps_file+\".csv\"))\n"
     ]
    },
    {
     "name": "stdout",
     "output_type": "stream",
     "text": [
      "C:\\Users\\rclendening\\researchData\\ESCAPE II_AFRL_SSD\\UAS Campaign\\UAS_log_files\\A1_A2_A3\\FLY031(1333-1358).csv\n"
     ]
    },
    {
     "name": "stderr",
     "output_type": "stream",
     "text": [
      "C:\\Users\\rclendening\\AppData\\Local\\Temp\\1\\ipykernel_17100\\685357243.py:207: DtypeWarning: Columns (19) have mixed types. Specify dtype option on import or set low_memory=False.\n",
      "  GPS_flight_log=pd.read_csv((\"C:\\\\Users\\\\rclendening\\\\researchData\\\\ESCAPE II_AFRL_SSD\\\\UAS Campaign\\\\UAS_log_files\\\\A1_A2_A3\"+\"\\\\\"+drone_gps_file+\".csv\"))\n"
     ]
    },
    {
     "name": "stdout",
     "output_type": "stream",
     "text": [
      "C:\\Users\\rclendening\\researchData\\ESCAPE II_AFRL_SSD\\UAS Campaign\\UAS_log_files\\A1_A2_A3\\FLY031(1333-1358).csv\n",
      "C:\\Users\\rclendening\\researchData\\ESCAPE II_AFRL_SSD\\UAS Campaign\\UAS_log_files\\A1_A2_A3\\FLY032(1358-1412).csv\n",
      "C:\\Users\\rclendening\\researchData\\ESCAPE II_AFRL_SSD\\UAS Campaign\\UAS_log_files\\A1_A2_A3\\FLY032(1358-1412).csv\n",
      "C:\\Users\\rclendening\\researchData\\ESCAPE II_AFRL_SSD\\UAS Campaign\\UAS_log_files\\A1_A2_A3\\FLY001_21-08-26-14-15-20_.csv\n",
      "C:\\Users\\rclendening\\researchData\\ESCAPE II_AFRL_SSD\\UAS Campaign\\UAS_log_files\\A1_A2_A3\\FLY001_21-08-26-14-15-20_.csv\n",
      "C:\\Users\\rclendening\\researchData\\ESCAPE II_AFRL_SSD\\UAS Campaign\\UAS_log_files\\A1_A2_A3\\FLY001_21-08-26-14-15-20_.csv\n",
      "C:\\Users\\rclendening\\researchData\\ESCAPE II_AFRL_SSD\\UAS Campaign\\UAS_log_files\\A1_A2_A3\\FLY001_21-08-26-14-15-20_.csv\n",
      "C:\\Users\\rclendening\\researchData\\ESCAPE II_AFRL_SSD\\UAS Campaign\\UAS_log_files\\A1_A2_A3\\FLY001_21-08-26-14-36-33_.csv\n",
      "C:\\Users\\rclendening\\researchData\\ESCAPE II_AFRL_SSD\\UAS Campaign\\UAS_log_files\\A1_A2_A3\\FLY001_21-08-26-14-15-20_.csv\n",
      "C:\\Users\\rclendening\\researchData\\ESCAPE II_AFRL_SSD\\UAS Campaign\\UAS_log_files\\A1_A2_A3\\FLY001_21-08-26-14-15-20_.csv\n",
      "C:\\Users\\rclendening\\researchData\\ESCAPE II_AFRL_SSD\\UAS Campaign\\UAS_log_files\\A1_A2_A3\\FLY001_21-08-26-14-15-20_.csv\n",
      "C:\\Users\\rclendening\\researchData\\ESCAPE II_AFRL_SSD\\UAS Campaign\\UAS_log_files\\A1_A2_A3\\FLY001_21-08-26-14-36-33_.csv\n",
      "C:\\Users\\rclendening\\researchData\\ESCAPE II_AFRL_SSD\\UAS Campaign\\UAS_log_files\\A1_A2_A3\\FLY001_21-08-26-14-36-33_.csv\n"
     ]
    },
    {
     "name": "stderr",
     "output_type": "stream",
     "text": [
      "C:\\Users\\rclendening\\AppData\\Local\\Temp\\1\\ipykernel_17100\\685357243.py:207: DtypeWarning: Columns (49) have mixed types. Specify dtype option on import or set low_memory=False.\n",
      "  GPS_flight_log=pd.read_csv((\"C:\\\\Users\\\\rclendening\\\\researchData\\\\ESCAPE II_AFRL_SSD\\\\UAS Campaign\\\\UAS_log_files\\\\A1_A2_A3\"+\"\\\\\"+drone_gps_file+\".csv\"))\n"
     ]
    },
    {
     "name": "stdout",
     "output_type": "stream",
     "text": [
      "C:\\Users\\rclendening\\researchData\\ESCAPE II_AFRL_SSD\\UAS Campaign\\UAS_log_files\\A1_A2_A3\\FLY131.csv\n"
     ]
    },
    {
     "name": "stderr",
     "output_type": "stream",
     "text": [
      "C:\\Users\\rclendening\\AppData\\Local\\Temp\\1\\ipykernel_17100\\685357243.py:207: DtypeWarning: Columns (49) have mixed types. Specify dtype option on import or set low_memory=False.\n",
      "  GPS_flight_log=pd.read_csv((\"C:\\\\Users\\\\rclendening\\\\researchData\\\\ESCAPE II_AFRL_SSD\\\\UAS Campaign\\\\UAS_log_files\\\\A1_A2_A3\"+\"\\\\\"+drone_gps_file+\".csv\"))\n"
     ]
    },
    {
     "name": "stdout",
     "output_type": "stream",
     "text": [
      "C:\\Users\\rclendening\\researchData\\ESCAPE II_AFRL_SSD\\UAS Campaign\\UAS_log_files\\A1_A2_A3\\FLY131.csv\n"
     ]
    },
    {
     "name": "stderr",
     "output_type": "stream",
     "text": [
      "C:\\Users\\rclendening\\AppData\\Local\\Temp\\1\\ipykernel_17100\\685357243.py:207: DtypeWarning: Columns (49) have mixed types. Specify dtype option on import or set low_memory=False.\n",
      "  GPS_flight_log=pd.read_csv((\"C:\\\\Users\\\\rclendening\\\\researchData\\\\ESCAPE II_AFRL_SSD\\\\UAS Campaign\\\\UAS_log_files\\\\A1_A2_A3\"+\"\\\\\"+drone_gps_file+\".csv\"))\n"
     ]
    },
    {
     "name": "stdout",
     "output_type": "stream",
     "text": [
      "C:\\Users\\rclendening\\researchData\\ESCAPE II_AFRL_SSD\\UAS Campaign\\UAS_log_files\\A1_A2_A3\\FLY131.csv\n"
     ]
    },
    {
     "name": "stderr",
     "output_type": "stream",
     "text": [
      "C:\\Users\\rclendening\\AppData\\Local\\Temp\\1\\ipykernel_17100\\685357243.py:207: DtypeWarning: Columns (49) have mixed types. Specify dtype option on import or set low_memory=False.\n",
      "  GPS_flight_log=pd.read_csv((\"C:\\\\Users\\\\rclendening\\\\researchData\\\\ESCAPE II_AFRL_SSD\\\\UAS Campaign\\\\UAS_log_files\\\\A1_A2_A3\"+\"\\\\\"+drone_gps_file+\".csv\"))\n"
     ]
    },
    {
     "name": "stdout",
     "output_type": "stream",
     "text": [
      "C:\\Users\\rclendening\\researchData\\ESCAPE II_AFRL_SSD\\UAS Campaign\\UAS_log_files\\A1_A2_A3\\FLY135.csv\n"
     ]
    },
    {
     "name": "stderr",
     "output_type": "stream",
     "text": [
      "C:\\Users\\rclendening\\AppData\\Local\\Temp\\1\\ipykernel_17100\\685357243.py:207: DtypeWarning: Columns (49) have mixed types. Specify dtype option on import or set low_memory=False.\n",
      "  GPS_flight_log=pd.read_csv((\"C:\\\\Users\\\\rclendening\\\\researchData\\\\ESCAPE II_AFRL_SSD\\\\UAS Campaign\\\\UAS_log_files\\\\A1_A2_A3\"+\"\\\\\"+drone_gps_file+\".csv\"))\n"
     ]
    },
    {
     "name": "stdout",
     "output_type": "stream",
     "text": [
      "C:\\Users\\rclendening\\researchData\\ESCAPE II_AFRL_SSD\\UAS Campaign\\UAS_log_files\\A1_A2_A3\\FLY135.csv\n"
     ]
    },
    {
     "name": "stderr",
     "output_type": "stream",
     "text": [
      "C:\\Users\\rclendening\\AppData\\Local\\Temp\\1\\ipykernel_17100\\685357243.py:207: DtypeWarning: Columns (49) have mixed types. Specify dtype option on import or set low_memory=False.\n",
      "  GPS_flight_log=pd.read_csv((\"C:\\\\Users\\\\rclendening\\\\researchData\\\\ESCAPE II_AFRL_SSD\\\\UAS Campaign\\\\UAS_log_files\\\\A1_A2_A3\"+\"\\\\\"+drone_gps_file+\".csv\"))\n"
     ]
    },
    {
     "name": "stdout",
     "output_type": "stream",
     "text": [
      "C:\\Users\\rclendening\\researchData\\ESCAPE II_AFRL_SSD\\UAS Campaign\\UAS_log_files\\A1_A2_A3\\FLY131.csv\n"
     ]
    },
    {
     "name": "stderr",
     "output_type": "stream",
     "text": [
      "C:\\Users\\rclendening\\AppData\\Local\\Temp\\1\\ipykernel_17100\\685357243.py:207: DtypeWarning: Columns (49) have mixed types. Specify dtype option on import or set low_memory=False.\n",
      "  GPS_flight_log=pd.read_csv((\"C:\\\\Users\\\\rclendening\\\\researchData\\\\ESCAPE II_AFRL_SSD\\\\UAS Campaign\\\\UAS_log_files\\\\A1_A2_A3\"+\"\\\\\"+drone_gps_file+\".csv\"))\n"
     ]
    },
    {
     "name": "stdout",
     "output_type": "stream",
     "text": [
      "C:\\Users\\rclendening\\researchData\\ESCAPE II_AFRL_SSD\\UAS Campaign\\UAS_log_files\\A1_A2_A3\\FLY131.csv\n"
     ]
    },
    {
     "name": "stderr",
     "output_type": "stream",
     "text": [
      "C:\\Users\\rclendening\\AppData\\Local\\Temp\\1\\ipykernel_17100\\685357243.py:207: DtypeWarning: Columns (49) have mixed types. Specify dtype option on import or set low_memory=False.\n",
      "  GPS_flight_log=pd.read_csv((\"C:\\\\Users\\\\rclendening\\\\researchData\\\\ESCAPE II_AFRL_SSD\\\\UAS Campaign\\\\UAS_log_files\\\\A1_A2_A3\"+\"\\\\\"+drone_gps_file+\".csv\"))\n"
     ]
    },
    {
     "name": "stdout",
     "output_type": "stream",
     "text": [
      "C:\\Users\\rclendening\\researchData\\ESCAPE II_AFRL_SSD\\UAS Campaign\\UAS_log_files\\A1_A2_A3\\FLY131.csv\n"
     ]
    },
    {
     "name": "stderr",
     "output_type": "stream",
     "text": [
      "C:\\Users\\rclendening\\AppData\\Local\\Temp\\1\\ipykernel_17100\\685357243.py:207: DtypeWarning: Columns (49) have mixed types. Specify dtype option on import or set low_memory=False.\n",
      "  GPS_flight_log=pd.read_csv((\"C:\\\\Users\\\\rclendening\\\\researchData\\\\ESCAPE II_AFRL_SSD\\\\UAS Campaign\\\\UAS_log_files\\\\A1_A2_A3\"+\"\\\\\"+drone_gps_file+\".csv\"))\n"
     ]
    },
    {
     "name": "stdout",
     "output_type": "stream",
     "text": [
      "C:\\Users\\rclendening\\researchData\\ESCAPE II_AFRL_SSD\\UAS Campaign\\UAS_log_files\\A1_A2_A3\\FLY135.csv\n"
     ]
    },
    {
     "name": "stderr",
     "output_type": "stream",
     "text": [
      "C:\\Users\\rclendening\\AppData\\Local\\Temp\\1\\ipykernel_17100\\685357243.py:207: DtypeWarning: Columns (49) have mixed types. Specify dtype option on import or set low_memory=False.\n",
      "  GPS_flight_log=pd.read_csv((\"C:\\\\Users\\\\rclendening\\\\researchData\\\\ESCAPE II_AFRL_SSD\\\\UAS Campaign\\\\UAS_log_files\\\\A1_A2_A3\"+\"\\\\\"+drone_gps_file+\".csv\"))\n"
     ]
    },
    {
     "name": "stdout",
     "output_type": "stream",
     "text": [
      "C:\\Users\\rclendening\\researchData\\ESCAPE II_AFRL_SSD\\UAS Campaign\\UAS_log_files\\A1_A2_A3\\FLY135.csv\n",
      "C:\\Users\\rclendening\\researchData\\ESCAPE II_AFRL_SSD\\UAS Campaign\\UAS_log_files\\A1_A2_A3\\FLY036.csv\n",
      "C:\\Users\\rclendening\\researchData\\ESCAPE II_AFRL_SSD\\UAS Campaign\\UAS_log_files\\A1_A2_A3\\FLY036.csv\n"
     ]
    },
    {
     "name": "stderr",
     "output_type": "stream",
     "text": [
      "C:\\Users\\rclendening\\AppData\\Local\\Temp\\1\\ipykernel_17100\\685357243.py:207: DtypeWarning: Columns (19) have mixed types. Specify dtype option on import or set low_memory=False.\n",
      "  GPS_flight_log=pd.read_csv((\"C:\\\\Users\\\\rclendening\\\\researchData\\\\ESCAPE II_AFRL_SSD\\\\UAS Campaign\\\\UAS_log_files\\\\A1_A2_A3\"+\"\\\\\"+drone_gps_file+\".csv\"))\n"
     ]
    },
    {
     "name": "stdout",
     "output_type": "stream",
     "text": [
      "C:\\Users\\rclendening\\researchData\\ESCAPE II_AFRL_SSD\\UAS Campaign\\UAS_log_files\\A1_A2_A3\\FLY037.csv\n"
     ]
    },
    {
     "name": "stderr",
     "output_type": "stream",
     "text": [
      "C:\\Users\\rclendening\\AppData\\Local\\Temp\\1\\ipykernel_17100\\685357243.py:207: DtypeWarning: Columns (19) have mixed types. Specify dtype option on import or set low_memory=False.\n",
      "  GPS_flight_log=pd.read_csv((\"C:\\\\Users\\\\rclendening\\\\researchData\\\\ESCAPE II_AFRL_SSD\\\\UAS Campaign\\\\UAS_log_files\\\\A1_A2_A3\"+\"\\\\\"+drone_gps_file+\".csv\"))\n"
     ]
    },
    {
     "name": "stdout",
     "output_type": "stream",
     "text": [
      "C:\\Users\\rclendening\\researchData\\ESCAPE II_AFRL_SSD\\UAS Campaign\\UAS_log_files\\A1_A2_A3\\FLY037.csv\n",
      "C:\\Users\\rclendening\\researchData\\ESCAPE II_AFRL_SSD\\UAS Campaign\\UAS_log_files\\A1_A2_A3\\FLY036.csv\n",
      "C:\\Users\\rclendening\\researchData\\ESCAPE II_AFRL_SSD\\UAS Campaign\\UAS_log_files\\A1_A2_A3\\FLY036.csv\n"
     ]
    },
    {
     "name": "stderr",
     "output_type": "stream",
     "text": [
      "C:\\Users\\rclendening\\AppData\\Local\\Temp\\1\\ipykernel_17100\\685357243.py:207: DtypeWarning: Columns (19) have mixed types. Specify dtype option on import or set low_memory=False.\n",
      "  GPS_flight_log=pd.read_csv((\"C:\\\\Users\\\\rclendening\\\\researchData\\\\ESCAPE II_AFRL_SSD\\\\UAS Campaign\\\\UAS_log_files\\\\A1_A2_A3\"+\"\\\\\"+drone_gps_file+\".csv\"))\n"
     ]
    },
    {
     "name": "stdout",
     "output_type": "stream",
     "text": [
      "C:\\Users\\rclendening\\researchData\\ESCAPE II_AFRL_SSD\\UAS Campaign\\UAS_log_files\\A1_A2_A3\\FLY037.csv\n"
     ]
    },
    {
     "name": "stderr",
     "output_type": "stream",
     "text": [
      "C:\\Users\\rclendening\\AppData\\Local\\Temp\\1\\ipykernel_17100\\685357243.py:207: DtypeWarning: Columns (19) have mixed types. Specify dtype option on import or set low_memory=False.\n",
      "  GPS_flight_log=pd.read_csv((\"C:\\\\Users\\\\rclendening\\\\researchData\\\\ESCAPE II_AFRL_SSD\\\\UAS Campaign\\\\UAS_log_files\\\\A1_A2_A3\"+\"\\\\\"+drone_gps_file+\".csv\"))\n"
     ]
    },
    {
     "name": "stdout",
     "output_type": "stream",
     "text": [
      "C:\\Users\\rclendening\\researchData\\ESCAPE II_AFRL_SSD\\UAS Campaign\\UAS_log_files\\A1_A2_A3\\FLY037.csv\n"
     ]
    }
   ],
   "source": [
    "import pyproj\n",
    "cluster=[\"Phone_28\",\"Phone_3-5\",\"Phone_3-4\",\"Phone_3-2\",\"Phone_2-5\",\"Phone_5-3\",\"Phone_30\",\"Phone_6-5\",\"Phone_11\",\"Phone_5-2\",\"Phone_9\",\"Phone_7-2\"]\n",
    "def convertToGPS(path,name):\n",
    "    window = dataTools.import_redVoxData(path)\n",
    "    station = window.first_station()\n",
    "\n",
    "    locationSensor = station.best_location_sensor()\n",
    "    if locationSensor:\n",
    "        lat=locationSensor._data.columns[3]\n",
    "        lon=locationSensor._data.columns[4]\n",
    "        alt=locationSensor._data.columns[5]\n",
    "        phoneGPS.append([name,np.mean(lat),np.mean(lon),150.0]) #gps altitude seems a bit off\n",
    "\n",
    "\n",
    "def searchDir(rootdir):\n",
    "    it = 0\n",
    "    for it in os.scandir(rootdir):\n",
    "        if it.is_dir():\n",
    "            # print(it.path)\n",
    "            searchDir(it)\n",
    "        else:\n",
    "            it = os.path.dirname(it)\n",
    "            break\n",
    "    if isinstance(it, str):\n",
    "        splitPath = it.split('\\\\')\n",
    "        convertToGPS(it,splitPath[8])\n",
    "\n",
    "def get_filepaths(data_path):\n",
    "    data_files=[]\n",
    "    for path, subdirs, files in os.walk(data_path):\n",
    "        for name in files:\n",
    "            data_files.append(os.path.join(path, name))\n",
    "    return data_files\n",
    "\n",
    "# def split_audio(waveData, sampleFreq):\n",
    "#     '''\n",
    "#     Frames audio data and converts to feature space (MFCC)\n",
    "#     :param waveData: waveData array of time-domain audio\n",
    "#     :param sampleFreq: Sample Frequency (8Khz)\n",
    "#     @return list of features (ds), list of labels corresponding to feature dataset:\n",
    "#     '''\n",
    "#     # middle third of data\n",
    "#     duration = waveData.shape[0]\n",
    "#     startTime = np.round(duration / 3)\n",
    "#     endTime = np.round(duration * 2 / 3)\n",
    "#     waveDataSplit= waveData[int(startTime):int(endTime)]\n",
    "#     features=MFCCCalc(waveDataSplit.squeeze(), sampleFreq)\n",
    "#     #label= [droneDict[labelName]] * features.shape[1]\n",
    "#     return features\n",
    "\n",
    "def create_dataset(train_files, totTime):\n",
    "    '''\n",
    "    Creates feature dataset and label dataset.\n",
    "    @param train_files: EagerTensor of file paths.\n",
    "    @return list of features (ds), list of labels corresponding to feature dataset:\n",
    "    '''\n",
    "    features = {}\n",
    "    for x in train_files:\n",
    "        #test_file = tf.io.read_file(x)\n",
    "        #test_audio, sampleRate = tf.audio.decode_wav(contents=test_file)\n",
    "        test_audio, sampleRate = librosa.load(x, sr=8000)\n",
    "        x = str(x)\n",
    "        if min(np.asarray(test_audio)) != 0 and len(test_audio)==totTime*8000 :\n",
    "            #newData = test_audio[0: test_audio.shape[0] - test_audio.shape[0] % sampleRate]  # trim to nearest second\n",
    "            #newFeats, newLabs = split_audio(test_audio, int(sampleRate))\n",
    "            phone_features = MFCCCalc(test_audio.squeeze(),Fs=8000)\n",
    "            features[x.split(\"\\\\\")[7].split(\".\")[0]]=phone_features.transpose()\n",
    "        # else:\n",
    "        #     features.append([x.split(\"\\\\\")[7].split(\".\")[0],0.00]) #just trying to fill space\n",
    "\n",
    "    return features\n",
    "\n",
    "def create_spect_dataset(train_files, totTime):\n",
    "    '''\n",
    "    Creates feature dataset and label dataset.\n",
    "    @param train_files: EagerTensor of file paths.\n",
    "    @return list of features (ds), list of labels corresponding to feature dataset:\n",
    "    '''\n",
    "    features = {}\n",
    "    raw_feats={}\n",
    "    for x in train_files:\n",
    "        phone_spects=[]\n",
    "        phone_raw=[]\n",
    "        #test_file = tf.io.read_file(x)\n",
    "        #test_audio, sampleRate = tf.audio.decode_wav(contents=test_file)\n",
    "        test_audio, sampleRate = librosa.load(x, sr=8000)\n",
    "        x = str(x)\n",
    "        if min(np.asarray(test_audio)) != 0 and len(test_audio)==totTime*8000 :\n",
    "            #newData = test_audio[0: test_audio.shape[0] - test_audio.shape[0] % sampleRate]  # trim to nearest second\n",
    "            #newFeats, newLabs = split_audio(test_audio, int(sampleRate))\n",
    "            split=split_audio(test_audio,0,0.5,8000)\n",
    "            for frame in split:\n",
    "                #spect = melspect(frame.squeeze(),Fs=8000)\n",
    "                frame=np.int16((frame / np.max(np.abs(frame)) * 32767))\n",
    "                phone_raw.append(frame)\n",
    "                #spect=spect.flatten() #np.reshape(64,4) to unflatten\n",
    "                #phone_spects.append(spect)\n",
    "            #features[x.split(\"\\\\\")[7].split(\".\")[0]]=np.array(phone_spects)\n",
    "            raw_feats[x.split(\"\\\\\")[7].split(\".\")[0]]=np.array(phone_raw)\n",
    "        # else:\n",
    "        #     features.append([x.split(\"\\\\\")[7].split(\".\")[0],0.00]) #just trying to fill space\n",
    "\n",
    "    return features, raw_feats\n",
    "def split_audio(audio_data,overlap,size,fs):\n",
    "    frames=[]\n",
    "    lead=size*fs\n",
    "    follow=0\n",
    "    hop=(overlap*size)*fs\n",
    "    if overlap == 0:\n",
    "        hop=size*fs\n",
    "    while lead<=len(audio_data):\n",
    "        frames.append(audio_data[int(follow):int(lead)])\n",
    "        follow= follow+hop\n",
    "        lead=lead+hop\n",
    "    return frames\n",
    "# def melspect(audioData, Fs):\n",
    "#     '''\n",
    "#     Converts decoded wav file to MFCC feature space\n",
    "#     @param audioData: Numpy array of decoded audio wav file\n",
    "#     @return MFCC coefficients\n",
    "#     '''\n",
    "#     data= audioData.astype(float)\n",
    "#     spect = melspectrogram(y=data,sr=Fs, hop_length=1024,n_mels=64, n_fft=2048)\n",
    "#     fig, ax = plt.subplots()\n",
    "#     S_dB = librosa.power_to_db(spect, ref=np.max)\n",
    "#     img = librosa.display.specshow(S_dB, x_axis='time',\n",
    "#                              y_axis='mel', sr=8000,\n",
    "#                              fmax=4000, ax=ax)\n",
    "#     fig.colorbar(img, ax=ax, format='%+2.0f dB')\n",
    "#     ax.set(title='Mel-frequency spectrogram')\n",
    "#     return spect\n",
    "#\n",
    "# def MFCCCalc(audioData, Fs):\n",
    "#     '''\n",
    "#     Converts decoded wav file to MFCC feature space\n",
    "#     @param audioData: Numpy array of decoded audio wav file\n",
    "#     @return MFCC coefficients\n",
    "#     '''\n",
    "#     data= audioData.astype(float)\n",
    "#     coefs = mfcc(y=data, hop_length=2048,n_mfcc=40, sr=Fs)\n",
    "#     return coefs\n",
    "dictionary_list=[]\n",
    "passes_df=pd.read_csv(r\"C:\\Users\\rclendening\\researchData\\researchCSVs_Scripts_etc\\A1_A2_A3_flight_directory.csv\")\n",
    "print()\n",
    "to_meters=111139\n",
    "range_df=pd.DataFrame(columns=[\"Pass\",\"Segment\",\"Name\",\"Lat\",\"Lon\",\"Alt\",\"Range\"])\n",
    "range_df= pd.DataFrame(index=range(0),columns=(range(263)))\n",
    "range_raw_df= pd.DataFrame(index=range(0),columns=(range(8007)))\n",
    "#range_df=pd.DataFrame()\n",
    "#test123=readDirectoryCSV(r\"C:\\Users\\rclendening\\researchData\\researchCSVs_Scripts_etc\\A1_A2_flight_directory.csv\")\n",
    "def rangeCalc(droneLat,droneLon,droneAlt):\n",
    "    phoneLat= 43.23216145008466\n",
    "    phoneLon= -75.41115853999112\n",
    "    phoneAlt= 150\n",
    "    lat_delta= (phoneLat-droneLat)*to_meters\n",
    "    lon_delta=(phoneLon-droneLon)*to_meters\n",
    "    return np.sqrt((lat_delta**2+lon_delta**2+(phoneAlt-droneAlt)**2))\n",
    "\n",
    "def angleCalc(droneRange,droneAlt):\n",
    "    phoneLat= 43.23216145008466\n",
    "    phoneLon= -75.41115853999112\n",
    "    phoneAlt= 150\n",
    "    return np.degrees(np.arcsin((droneAlt-phoneAlt)/droneRange))\n",
    "\n",
    "def azimuthCalc(droneLat,droneLon,droneAlt):\n",
    "    phoneLat= 43.23216145008466\n",
    "    phoneLon= -75.41115853999112\n",
    "    phoneAlt= 150\n",
    "    # lat_delta= (droneLat-phoneLat)*to_meters\n",
    "    # lon_delta=(droneLon-phoneLon)*to_meters\n",
    "    # az=np.arctan2(np.sin(lon_delta)*np.cos(droneLat),np.cos(phoneLat)*np.cos(droneLat)-np.sin(phoneLat)*np.cos(droneLat)*np.cos(lat_delta))\n",
    "    geodesic=pyproj.Geod(ellps='WGS84')\n",
    "    fwdAz,back,d=geodesic.inv(phoneLon,phoneLat,droneLon,droneLat)\n",
    "    return fwdAz\n",
    "\n",
    "def maxValueRanks(maxValArray):\n",
    "    maxValueRankArr=[]\n",
    "    for x in maxValArray:\n",
    "        seq = sorted(x)\n",
    "        index = [seq.index(v) for v in x]\n",
    "        maxValueRankArr.append(index)\n",
    "    return maxValueRankArr\n",
    "\n",
    "for x in passes_df.iterrows():\n",
    "    #indiv_df=pd.DataFrame(columns=[\"Pass\",\"Segment\",\"Name\",\"Lat\",\"Lon\",\"Alt\",\"Range\",'MFCC_0'])\n",
    "    #indiv_df= pd.DataFrame(index=range(0),columns=(range(263)))\n",
    "    indiv_raw_df= pd.DataFrame(index=range(0),columns=(range(4009)))\n",
    "    phoneGPS=[]\n",
    "    row=x[1]\n",
    "    pass_num=row[0]\n",
    "    scenario=row[1]\n",
    "    run_num=row[2]\n",
    "    start=row[3]\n",
    "    stop=row[4]\n",
    "    drone_gps_file=row[5]\n",
    "    full_name=(str(scenario) + 'R' + str(run_num) + 'P' + str(pass_num)).strip()\n",
    "\n",
    "    searchDir((\"C:\\\\Users\\\\rclendening\\\\researchData\\\\Unused_Datasets\\\\EscapeCell_Data\\\\\"+scenario+\"\\\\\"+full_name))\n",
    "    GPS_df=pd.DataFrame(phoneGPS, columns=['Name','Lat','Lon','Alt'])\n",
    "\n",
    "    start_time=datetime.datetime(2021, 8, int(start[6:8]), int(start[9:11]), int(start[11:13]),int(start[13:15])).timestamp()\n",
    "    stop_time=datetime.datetime(2021, 8, int(stop[6:8]), int(stop[9:11]), int(stop[11:13]),int(stop[13:15])).timestamp()\n",
    "    if drone_gps_file[0]== 'F':\n",
    "        FLY=True\n",
    "    else:\n",
    "        FLY=False\n",
    "    GPS_flight_log=pd.read_csv((\"C:\\\\Users\\\\rclendening\\\\researchData\\\\ESCAPE II_AFRL_SSD\\\\UAS Campaign\\\\UAS_log_files\\\\A1_A2_A3\"+\"\\\\\"+drone_gps_file+\".csv\"))\n",
    "    print(\"C:\\\\Users\\\\rclendening\\\\researchData\\\\ESCAPE II_AFRL_SSD\\\\UAS Campaign\\\\UAS_log_files\\\\A1_A2_A3\"+\"\\\\\"+drone_gps_file+\".csv\")\n",
    "    if FLY:\n",
    "        lon=GPS_flight_log.iloc[:,4]\n",
    "        offsets=GPS_flight_log.iloc[:,1]\n",
    "        lat=GPS_flight_log.iloc[:,5]\n",
    "        time=GPS_flight_log.iloc[:,7]\n",
    "        date=GPS_flight_log.iloc[:,8]\n",
    "        height=GPS_flight_log.iloc[:,9]\n",
    "    else:\n",
    "        lon=GPS_flight_log.iloc[:,3]/10**7\n",
    "        lat=GPS_flight_log.iloc[:,2]/10**7\n",
    "        time_UTC=GPS_flight_log.iloc[:,1]/10**6\n",
    "        #height=GPS_flight_log.iloc[:,5]/10**3\n",
    "        height=GPS_flight_log.iloc[:,4]/10**3\n",
    "    #for phones in GPS_df: #FLY files Long=col(5) lat=col(6) date=col(7) time=col(8) height (MSL)=col(10)\n",
    "                        #Non-FLY files lat=col(3) lon=col(4) timestamp(UTC)=col(1) height (MSL)= col(5) in millimeters\n",
    "    usable_phones=[]\n",
    "    tot_time= stop_time-start_time\n",
    "\n",
    "    filepaths= get_filepaths(\"C:\\\\Users\\\\rclendening\\\\researchData\\\\EscapeCell_DataWav_V2\\\\\"+scenario+\"\\\\\"+full_name)\n",
    "    #phone_features= create_dataset(filepaths,tot_time)\n",
    "    phone_features, phone_raw= create_spect_dataset(filepaths,tot_time)\n",
    "    first =True\n",
    "    for ph in phoneGPS:\n",
    "        if 43.00 < ph[1] < 44.00 and -75.00 > ph[2] > -76.00 and ph[0] in phone_raw and ph[0] in cluster:\n",
    "            usable_phones.append(ph)\n",
    "    tot_segs = len(phone_raw[list(phone_raw.keys())[0]])\n",
    "    # for t in range(0,len(GPS_flight_log),10):\n",
    "    t=0\n",
    "    done=False\n",
    "    MFCC_index=0\n",
    "    while not done:\n",
    "        if FLY:\n",
    "            if np.isnan(time[t]):\n",
    "                cur_time=0\n",
    "            else:\n",
    "                if first:\n",
    "                    offset=offsets[t]\n",
    "                    first=False\n",
    "                    offset_time=datetime.datetime(2021, 8, int(start[6:8]), int(str(time[t])[0:2])-4,int(str(time[t])[2:4]),int(str(time[t])[4:6])).timestamp()\n",
    "                cur_time=offset_time+abs(offsets[t]-offset)\n",
    "        else:\n",
    "            cur_time=time_UTC[t]\n",
    "\n",
    "        time_delta=cur_time-start_time\n",
    "        prev_index=MFCC_index\n",
    "        MFCC_index = math.floor(tot_segs*time_delta/tot_time)\n",
    "        if  start_time <= cur_time< stop_time and MFCC_index!= prev_index:\n",
    "            #MFCC_df=pd.DataFrame()\n",
    "            for phone in usable_phones:\n",
    "                rangeVal = rangeCalc(lat[t],lon[t],height[t])\n",
    "                angle=angleCalc(rangeVal,height[t])\n",
    "                azimuth=azimuthCalc(lat[t],lon[t],height[t])\n",
    "                # range_df.loc[len(range_df.index)]=[str(phone[0]),np.float64(phone[1]),np.float64(phone[2]),np.float64(phone[3]),np.float64(val),pd.Series(phone_features[phone[0]][MFCC_index])]\n",
    "\n",
    "                #data=[full_name,str(phone[0]),np.float64(phone[1]),np.float64(phone[2]),np.float64(phone[3]),np.float64(val),start_time,cur_time]\n",
    "\n",
    "                #data=[full_name,str(MFCC_index),str(phone[0]),np.float64(phone[1]),np.float64(phone[2]),np.float64(phone[3]),np.float64(val)]\n",
    "                #data.extend(phone_features[phone[0]][MFCC_index].tolist()) #MFCCs\n",
    "                data_raw=[full_name,str(MFCC_index),str(phone[0]),np.float64(phone[1]),np.float64(phone[2]),np.float64(phone[3]),np.float64(rangeVal),np.float64(angle),np.float64(azimuth)]\n",
    "                data_raw.extend(phone_raw[phone[0]][MFCC_index].tolist()) #MFCCs\n",
    "                #indiv_df.loc[len(indiv_df.index)]=data\n",
    "                #indiv_raw_df.loc[len(indiv_raw_df.index)]=data_raw\n",
    "        t+=2\n",
    "        if cur_time>stop_time:\n",
    "            done=True\n",
    "\n",
    "    #range_df= pd.concat([range_df, indiv_df])\n",
    "    range_raw_df=pd.concat([range_raw_df,indiv_raw_df])\n",
    "#range_df.to_csv('0.5s_spec_range_A1_A2_A3_no_overlap.csv')\n",
    "range_raw_df.to_csv('0.5s_raw_range_range_azimuth_anglev2.csv')"
   ],
   "metadata": {
    "collapsed": false,
    "pycharm": {
     "name": "#%%\n"
    }
   }
  }
 ],
 "metadata": {
  "kernelspec": {
   "display_name": "Python 3",
   "language": "python",
   "name": "python3"
  },
  "language_info": {
   "codemirror_mode": {
    "name": "ipython",
    "version": 2
   },
   "file_extension": ".py",
   "mimetype": "text/x-python",
   "name": "python",
   "nbconvert_exporter": "python",
   "pygments_lexer": "ipython2",
   "version": "2.7.6"
  }
 },
 "nbformat": 4,
 "nbformat_minor": 0
}