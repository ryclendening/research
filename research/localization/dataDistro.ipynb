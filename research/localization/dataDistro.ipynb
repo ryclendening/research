{
 "cells": [
  {
   "cell_type": "code",
   "execution_count": 2,
   "metadata": {
    "collapsed": true,
    "pycharm": {
     "name": "#%%\n"
    }
   },
   "outputs": [],
   "source": [
    "import librosa\n",
    "import pandas as pd\n",
    "from librosa.effects import pitch_shift\n",
    "import os\n",
    "from sklearn.metrics import classification_report\n",
    "import pathlib\n",
    "import random\n",
    "from sklearn.preprocessing import StandardScaler\n",
    "import matplotlib.pyplot as plt\n",
    "import numpy as np\n",
    "import seaborn as sns\n",
    "from librosa.feature import mfcc, melspectrogram\n",
    "import scipy.io.wavfile as wav\n",
    "import tensorflow as tf\n",
    "import scipy.signal as signal\n",
    "import keras\n",
    "from sklearn.model_selection import train_test_split\n",
    "from keras.models import Model\n",
    "from research.dataImporting import MLtools\n",
    "from keras.optimizers import adam_v2\n",
    "from keras.layers import Input, Conv1D, Conv2D, SeparableConv1D, MaxPooling1D,MaxPooling2D, Flatten, Dense, Dropout, \\\n",
    "    BatchNormalization, Activation, LSTM, Lambda, Reshape, GRU\n",
    "from keras.callbacks import EarlyStopping, ModelCheckpoint, ReduceLROnPlateau\n",
    "from sklearn.model_selection import train_test_split\n",
    "from keras.utils.np_utils import to_categorical\n",
    "from research.dataImporting import dataTools\n",
    "import keras.backend as K"
   ]
  },
  {
   "cell_type": "code",
   "execution_count": 3,
   "outputs": [],
   "source": [
    "training_df_raw=pd.read_csv(\"0.5s_raw_range_A1_A2_A3_no_overlap.csv\")"
   ],
   "metadata": {
    "collapsed": false,
    "pycharm": {
     "name": "#%%\n"
    }
   }
  },
  {
   "cell_type": "code",
   "execution_count": 14,
   "outputs": [
    {
     "name": "stdout",
     "output_type": "stream",
     "text": [
      "A1R1P1\n",
      "A1R1P2\n",
      "A1R1P3\n",
      "A1R1P4\n",
      "A1R1P5\n",
      "A1R2P1\n",
      "A1R2P2\n",
      "A1R2P3\n",
      "A1R2P4\n",
      "A1R2P5\n",
      "A2R1P1\n",
      "A2R1P2\n",
      "A2R1P3\n",
      "A2R1P4\n",
      "A2R1P5\n",
      "A2R2P1\n",
      "A2R2P2\n",
      "A2R2P3\n",
      "A2R2P4\n",
      "A2R2P5\n",
      "A2R3P1\n",
      "A2R3P2\n",
      "A2R3P3\n",
      "A2R4P1\n",
      "A2R4P2\n",
      "A2R4P3\n",
      "A2R5P1\n",
      "A2R5P2\n",
      "A2R5P3\n",
      "A2R5P4\n",
      "A2R5P5\n",
      "A2R6P1\n",
      "A2R6P2\n",
      "A2R6P3\n",
      "A2R6P4\n",
      "A2R6P5\n",
      "A2R7P1\n",
      "A2R7P2\n",
      "A2R7P3\n",
      "A2R7P4\n",
      "A2R7P5\n",
      "A2R8P1\n",
      "A2R8P2\n",
      "A2R8P3\n",
      "A2R8P4\n",
      "A2R8P5\n",
      "A3R3P1\n",
      "A3R3P2\n",
      "A3R3P3\n",
      "A3R3P4\n",
      "A3R3P5\n",
      "A3R4P1\n",
      "A3R4P2\n",
      "A3R4P3\n",
      "A3R4P4\n",
      "A3R4P5\n",
      "A3R5P1\n",
      "A3R5P2\n",
      "A3R5P3\n",
      "A3R5P4\n",
      "A3R6P1\n",
      "A3R6P2\n",
      "A3R6P3\n",
      "A3R6P4\n"
     ]
    }
   ],
   "source": [
    "phone_slots=[\"Phone_1-1\",\"Phone_1-3\",\"Phone_11\",\"Phone_12\",\"Phone_15\",\"Phone_2-3\",\"Phone_2-4\", \"Phone_2-5\",\"Phone_27\",\"Phone_28\",\"Phone_29\" \"Phone_3-1\",\"Phone_3-2\",\"Phone_3-4\",\"Phone_3-5\",\"Phone_30\",\"Phone_5-2\",\"Phone_5-3\",\"Phone_5-4\",\"Phone_6-2\",\"Phone_6-3\",\"Phone_6-4\",\"Phone_6-5\",\"Phone_7-1\",\"Phone_7-2\",\"Phone_8\",\"Phone_9\"]\n",
    "bad_runs=[\"A3R6P1\",\"A3R4P4\",\"A3R4P5\",\"A3R3P4\",\"A3R3P5\"]\n",
    "good_runs_IF=[\"A1R1P1\",\"A1R1P2\",\"A1R1P3\",\"A1R1P4\",\"A1R1P5\",\"A2R1P1\",\"A2R1P2\",\"A2R1P3\",\"A2R1P4\",\"A2R1P5\",\"A2R2P1\",\"A2R2P2\",\"A2R2P3\",\"A2R2P4\",\"A2R2P5\"]\n",
    "good_runs_matrice=[\"A1R2P2\",\"A1R2P3\",\"A1R2P4\",\"A1R2P5\",\"A2R3P1\",\"A2R3P2\",\"A2R4P1\",\"A2R4P2\",\"A2R4P3\",\"A3R3P1\",\"A3R3P2\",\"A3R4P2\",\"A3R4P3\",\"A3R4P5\"]\n",
    "good_runs_phantom=[\"A2R5P1\",\"A2R5P2\",\"A2R5P3\",\"A2R5P4\",\"A2R5P5\",\"A2R6P1\",\"A2R6P2\",\"A2R6P3\",\"A2R6P4\",\"A2R6P5\",\"A3R5P1\",\"A3R5P2\",\"A3R5P3\",\"A3R5P4\",\"A3R6P1\",\"A3R6P2\",\"A3R6P3\",\"A3R6P4\"]\n",
    "test_runs_matrice=[\"A2R3P3\",\"A3R3P3\"]\n",
    "notable_col_names=['Pass','Segment','Phone','Lat','Lon','Alt','Range']\n",
    "passes_df=pd.read_csv(r\"C:\\Users\\rclendening\\researchData\\researchCSVs_Scripts_etc\\A1_A2_A3_flight_directory.csv\")\n",
    "x_data=[]\n",
    "y_data=[]\n",
    "def rangeFraction(ranges): #Function normalizes ranges\n",
    "    closest=np.min(ranges)\n",
    "    return closest*1/ranges\n",
    "\n",
    "def classFinder(distance):\n",
    "    if distance<=40 :\n",
    "        class_val=0\n",
    "    elif distance<=60:\n",
    "        class_val=1\n",
    "    elif distance<=80:\n",
    "        class_val=2\n",
    "    else:\n",
    "        class_val=3\n",
    "    return class_val\n",
    "\n",
    "def rangeClosest(ranges): #Function normalizes ranges\n",
    "    ranges_copy=ranges\n",
    "    truth=np.zeros(len(ranges))\n",
    "    #for x in range(0, 2):\n",
    "    closest=np.argmin(ranges_copy)\n",
    "    ranges_copy[closest]=10000\n",
    "    truth[closest]=1\n",
    "    return truth\n",
    "for x in passes_df.iterrows():\n",
    "    row=x[1]\n",
    "    pass_num=row[0]\n",
    "    scenario=row[1]\n",
    "    run_num=row[2]\n",
    "    start=row[3]\n",
    "    stop=row[4]\n",
    "    drone_gps_file=row[5]\n",
    "    full_name=(str(scenario) + 'R' + str(run_num) + 'P' + str(pass_num)).strip()\n",
    "    pass_df=training_df_raw.loc[training_df_raw[str(notable_col_names.index('Pass'))] == full_name]\n",
    "    #pass_df=training_df.loc[training_df[\"Pass\"] == full_name]\n",
    "    max_segment=pass_df[str(notable_col_names.index('Segment'))].max()\n",
    "    #max_segment=pass_df[\"Segment\"].max()\n",
    "    #for i in range(0,max_segment):\n",
    "    print(full_name)\n",
    "    #if full_name in good_runs_matrice or full_name in good_runs_phantom or full_name in good_runs_IF:\n",
    "    if full_name in good_runs_matrice:\n",
    "        for phone in phone_slots:\n",
    "            phone_seg=pass_df.loc[pass_df[str(notable_col_names.index('Phone'))]==phone]\n",
    "        # frame_df=pass_df.loc[pass_df[str(notable_col_names.index('Segment'))]==i]\n",
    "        #frame_df=pass_df.loc[pass_df[\"Segment\"]==i]\n",
    "            twd_frame=[]\n",
    "            range_frame=[]\n",
    "        #for phone in phone_slots:\n",
    "            for i in range(0,max_segment):\n",
    "                frame_df=phone_seg.loc[phone_seg[str(notable_col_names.index('Segment'))]==i]\n",
    "            # phone_seg=frame_df.loc[frame_df[str(notable_col_names.index('Phone'))]==phone]\n",
    "            #phone_seg=frame_df.loc[frame_df[\"Name\"]==phone]\n",
    "                data=np.array(frame_df.iloc[:,8:4008])\n",
    "            #data=np.array(frame_df.iloc[:,-512:])\n",
    "            # dist=phone_seg[str(notable_col_names.index('Range'))]\n",
    "                dist=frame_df[str(notable_col_names.index('Range'))]\n",
    "            #dist=phone_seg[\"Range\"]\n",
    "                if len(np.array(dist)>0):\n",
    "                    if np.array(dist)[0]<250:\n",
    "                        data=data[0]\n",
    "                        #data=np.reshape(data,(64,4))\n",
    "                        #data=np.reshape(data,(40,1))\n",
    "                        dist=np.array(dist)[0]\n",
    "                        class_value=classFinder(dist)\n",
    "                        twd_frame.append(data)\n",
    "                        range_frame.append(dist)\n",
    "            #y_vals= rangeClosest(range_frame)\n",
    "            x_data.extend(np.array(twd_frame))\n",
    "            y_data.extend(np.array(range_frame))"
   ],
   "metadata": {
    "collapsed": false,
    "pycharm": {
     "name": "#%%\n"
    }
   }
  },
  {
   "cell_type": "code",
   "execution_count": 18,
   "outputs": [
    {
     "data": {
      "text/plain": "<Figure size 432x288 with 1 Axes>",
      "image/png": "[encoded data removed]"
     },
     "metadata": {
      "needs_background": "light"
     },
     "output_type": "display_data"
    }
   ],
   "source": [
    "def subsample(x_data,y_data):\n",
    "    new_x=[]\n",
    "    new_y=[]\n",
    "    rng=np.random.default_rng(12345)\n",
    "    for x in range(len(x_data)):\n",
    "        rand_vals=rng.integers(low=1,high=5,size=1)\n",
    "        if y_data[x]==3 and rand_vals[0]==2:\n",
    "        #if y_data[x][0]==3 and rand_vals[0]==2:\n",
    "            new_x.append(x_data[x])\n",
    "            new_y.append(y_data[x])\n",
    "        elif y_data[x] != 3:\n",
    "            new_x.append(x_data[x])\n",
    "            new_y.append(y_data[x])\n",
    "    return np.array(new_x), np.array(new_y)\n",
    "x_data=np.array(x_data)\n",
    "x_data=np.float32(x_data)\n",
    "#x_data=np.transpose(x_data,axes=[0,2,1])\n",
    "y_data=np.array(y_data)\n",
    "x__,y__=subsample(x_data,y_data)\n",
    "train_feats,test_feats,train_targs,test_targs=train_test_split(x__,y__,test_size=0.2,shuffle=True,random_state=42)\n",
    "# range_train_targs_oh=tf.keras.utils.to_categorical(train_targs,num_classes=4)\n",
    "# range_test_targs_oh=tf.keras.utils.to_categorical(test_targs,num_classes=4)\n",
    "# class_train_targs=train_targs[:,1]\n",
    "# cont_range_train_targs=train_targs[:,2]\n",
    "# range_train_targs=train_targs[:,0]\n",
    "# class_train_targs_oh=tf.keras.utils.to_categorical(class_train_targs,num_classes=3)\n",
    "# range_train_targs_oh=tf.keras.utils.to_categorical(range_train_targs,num_classes=4)\n",
    "# class_test_targs=test_targs[:,1]\n",
    "# cont_range_test_targs=test_targs[:,2]\n",
    "# range_test_targs=test_targs[:,0]\n",
    "# class_test_targs_oh=tf.keras.utils.to_categorical(class_test_targs,num_classes=3)\n",
    "# range_test_targs_oh=tf.keras.utils.to_categorical(range_test_targs,num_classes=4)\n",
    "plt.hist(y__,bins=50)\n",
    "plt.xlabel(\"Distance\")\n",
    "plt.ylabel(\"Samples\")\n",
    "plt.savefig(\"DS2Distro_cont.pdf\")"
   ],
   "metadata": {
    "collapsed": false,
    "pycharm": {
     "name": "#%%\n"
    }
   }
  },
  {
   "cell_type": "code",
   "execution_count": 19,
   "outputs": [
    {
     "data": {
      "text/plain": "10170.0"
     },
     "execution_count": 19,
     "metadata": {},
     "output_type": "execute_result"
    }
   ],
   "source": [
    "len(x__)/2"
   ],
   "metadata": {
    "collapsed": false,
    "pycharm": {
     "name": "#%%\n"
    }
   }
  }
 ],
 "metadata": {
  "kernelspec": {
   "display_name": "Python 3",
   "language": "python",
   "name": "python3"
  },
  "language_info": {
   "codemirror_mode": {
    "name": "ipython",
    "version": 2
   },
   "file_extension": ".py",
   "mimetype": "text/x-python",
   "name": "python",
   "nbconvert_exporter": "python",
   "pygments_lexer": "ipython2",
   "version": "2.7.6"
  }
 },
 "nbformat": 4,
 "nbformat_minor": 0
}