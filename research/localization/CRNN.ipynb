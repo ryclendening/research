{
 "cells": [
  {
   "cell_type": "code",
   "execution_count": 13,
   "metadata": {
    "collapsed": true,
    "pycharm": {
     "name": "#%%\n"
    }
   },
   "outputs": [],
   "source": [
    "import librosa\n",
    "import pandas as pd\n",
    "from librosa.effects import pitch_shift\n",
    "import os\n",
    "from sklearn.metrics import classification_report\n",
    "import pathlib\n",
    "import random\n",
    "from sklearn.preprocessing import StandardScaler\n",
    "import matplotlib.pyplot as plt\n",
    "import numpy as np\n",
    "import seaborn as sns\n",
    "from librosa.feature import mfcc, melspectrogram\n",
    "import scipy.io.wavfile as wav\n",
    "import tensorflow as tf\n",
    "import scipy.signal as signal\n",
    "import keras\n",
    "from sklearn.model_selection import train_test_split\n",
    "from keras.models import Model\n",
    "from research.dataImporting import MLtools\n",
    "from keras.optimizers import adam_v2\n",
    "from keras.layers import Input, Conv1D, Conv2D, SeparableConv1D, MaxPooling1D,MaxPooling2D, Flatten, Dense, Dropout, \\\n",
    "    BatchNormalization, Activation, LSTM, Lambda, Reshape, GRU\n",
    "from keras.callbacks import EarlyStopping, ModelCheckpoint, ReduceLROnPlateau\n",
    "from sklearn.model_selection import train_test_split\n",
    "from keras.utils.np_utils import to_categorical\n",
    "from research.dataImporting import dataTools\n",
    "import keras.backend as K\n",
    "from tcn import TCN\n",
    "from keras import regularizers"
   ]
  },
  {
   "cell_type": "markdown",
   "source": [
    "# Import data"
   ],
   "metadata": {
    "collapsed": false,
    "pycharm": {
     "name": "#%% md\n"
    }
   }
  },
  {
   "cell_type": "code",
   "execution_count": 1,
   "outputs": [
    {
     "ename": "NameError",
     "evalue": "name 'pd' is not defined",
     "output_type": "error",
     "traceback": [
      "\u001B[1;31m---------------------------------------------------------------------------\u001B[0m",
      "\u001B[1;31mNameError\u001B[0m                                 Traceback (most recent call last)",
      "Input \u001B[1;32mIn [1]\u001B[0m, in \u001B[0;36m<cell line: 1>\u001B[1;34m()\u001B[0m\n\u001B[1;32m----> 1\u001B[0m training_df_raw\u001B[38;5;241m=\u001B[39m\u001B[43mpd\u001B[49m\u001B[38;5;241m.\u001B[39mread_csv(\u001B[38;5;124m\"\u001B[39m\u001B[38;5;124m./range_models/0.5s_raw_range_A1_A2_A3_no_overlap.csv\u001B[39m\u001B[38;5;124m\"\u001B[39m)\n",
      "\u001B[1;31mNameError\u001B[0m: name 'pd' is not defined"
     ]
    }
   ],
   "source": [
    "training_df_raw=pd.read_csv(\"0.5s_raw_range_A1_A2_A3_no_overlap.csv\")\n",
    "#training_df=pd.read_csv(\"0.5s_spec_range_A1_A2_A3_no_overlap.csv\")"
   ],
   "metadata": {
    "collapsed": false,
    "pycharm": {
     "name": "#%%\n"
    }
   }
  },
  {
   "cell_type": "markdown",
   "source": [
    "# Classification with raw data"
   ],
   "metadata": {
    "collapsed": false,
    "pycharm": {
     "name": "#%% md\n"
    }
   }
  },
  {
   "cell_type": "code",
   "execution_count": 3,
   "outputs": [
    {
     "name": "stdout",
     "output_type": "stream",
     "text": [
      "A1R1P1\n",
      "A1R1P2\n",
      "A1R1P3\n"
     ]
    },
    {
     "ename": "KeyboardInterrupt",
     "evalue": "",
     "output_type": "error",
     "traceback": [
      "\u001B[1;31m---------------------------------------------------------------------------\u001B[0m",
      "\u001B[1;31mKeyboardInterrupt\u001B[0m                         Traceback (most recent call last)",
      "Input \u001B[1;32mIn [3]\u001B[0m, in \u001B[0;36m<cell line: 34>\u001B[1;34m()\u001B[0m\n\u001B[0;32m     58\u001B[0m     frame_df\u001B[38;5;241m=\u001B[39mphone_seg\u001B[38;5;241m.\u001B[39mloc[phone_seg[\u001B[38;5;28mstr\u001B[39m(notable_col_names\u001B[38;5;241m.\u001B[39mindex(\u001B[38;5;124m'\u001B[39m\u001B[38;5;124mSegment\u001B[39m\u001B[38;5;124m'\u001B[39m))]\u001B[38;5;241m==\u001B[39mi]\n\u001B[0;32m     59\u001B[0m \u001B[38;5;66;03m# phone_seg=frame_df.loc[frame_df[str(notable_col_names.index('Phone'))]==phone]\u001B[39;00m\n\u001B[0;32m     60\u001B[0m \u001B[38;5;66;03m#phone_seg=frame_df.loc[frame_df[\"Name\"]==phone]\u001B[39;00m\n\u001B[1;32m---> 61\u001B[0m     data\u001B[38;5;241m=\u001B[39mnp\u001B[38;5;241m.\u001B[39marray(\u001B[43mframe_df\u001B[49m\u001B[38;5;241;43m.\u001B[39;49m\u001B[43miloc\u001B[49m\u001B[43m[\u001B[49m\u001B[43m:\u001B[49m\u001B[43m,\u001B[49m\u001B[38;5;241;43m8\u001B[39;49m\u001B[43m:\u001B[49m\u001B[38;5;241;43m4008\u001B[39;49m\u001B[43m]\u001B[49m)\n\u001B[0;32m     62\u001B[0m \u001B[38;5;66;03m#data=np.array(frame_df.iloc[:,-512:])\u001B[39;00m\n\u001B[0;32m     63\u001B[0m \u001B[38;5;66;03m# dist=phone_seg[str(notable_col_names.index('Range'))]\u001B[39;00m\n\u001B[0;32m     64\u001B[0m     dist\u001B[38;5;241m=\u001B[39mframe_df[\u001B[38;5;28mstr\u001B[39m(notable_col_names\u001B[38;5;241m.\u001B[39mindex(\u001B[38;5;124m'\u001B[39m\u001B[38;5;124mRange\u001B[39m\u001B[38;5;124m'\u001B[39m))]\n",
      "File \u001B[1;32m~\\AppData\\Local\\Programs\\Python\\Python39\\lib\\site-packages\\pandas\\core\\indexing.py:961\u001B[0m, in \u001B[0;36m_LocationIndexer.__getitem__\u001B[1;34m(self, key)\u001B[0m\n\u001B[0;32m    959\u001B[0m     \u001B[38;5;28;01mif\u001B[39;00m \u001B[38;5;28mself\u001B[39m\u001B[38;5;241m.\u001B[39m_is_scalar_access(key):\n\u001B[0;32m    960\u001B[0m         \u001B[38;5;28;01mreturn\u001B[39;00m \u001B[38;5;28mself\u001B[39m\u001B[38;5;241m.\u001B[39mobj\u001B[38;5;241m.\u001B[39m_get_value(\u001B[38;5;241m*\u001B[39mkey, takeable\u001B[38;5;241m=\u001B[39m\u001B[38;5;28mself\u001B[39m\u001B[38;5;241m.\u001B[39m_takeable)\n\u001B[1;32m--> 961\u001B[0m     \u001B[38;5;28;01mreturn\u001B[39;00m \u001B[38;5;28;43mself\u001B[39;49m\u001B[38;5;241;43m.\u001B[39;49m\u001B[43m_getitem_tuple\u001B[49m\u001B[43m(\u001B[49m\u001B[43mkey\u001B[49m\u001B[43m)\u001B[49m\n\u001B[0;32m    962\u001B[0m \u001B[38;5;28;01melse\u001B[39;00m:\n\u001B[0;32m    963\u001B[0m     \u001B[38;5;66;03m# we by definition only have the 0th axis\u001B[39;00m\n\u001B[0;32m    964\u001B[0m     axis \u001B[38;5;241m=\u001B[39m \u001B[38;5;28mself\u001B[39m\u001B[38;5;241m.\u001B[39maxis \u001B[38;5;129;01mor\u001B[39;00m \u001B[38;5;241m0\u001B[39m\n",
      "File \u001B[1;32m~\\AppData\\Local\\Programs\\Python\\Python39\\lib\\site-packages\\pandas\\core\\indexing.py:1462\u001B[0m, in \u001B[0;36m_iLocIndexer._getitem_tuple\u001B[1;34m(self, tup)\u001B[0m\n\u001B[0;32m   1459\u001B[0m \u001B[38;5;28;01mwith\u001B[39;00m suppress(IndexingError):\n\u001B[0;32m   1460\u001B[0m     \u001B[38;5;28;01mreturn\u001B[39;00m \u001B[38;5;28mself\u001B[39m\u001B[38;5;241m.\u001B[39m_getitem_lowerdim(tup)\n\u001B[1;32m-> 1462\u001B[0m \u001B[38;5;28;01mreturn\u001B[39;00m \u001B[38;5;28;43mself\u001B[39;49m\u001B[38;5;241;43m.\u001B[39;49m\u001B[43m_getitem_tuple_same_dim\u001B[49m\u001B[43m(\u001B[49m\u001B[43mtup\u001B[49m\u001B[43m)\u001B[49m\n",
      "File \u001B[1;32m~\\AppData\\Local\\Programs\\Python\\Python39\\lib\\site-packages\\pandas\\core\\indexing.py:830\u001B[0m, in \u001B[0;36m_LocationIndexer._getitem_tuple_same_dim\u001B[1;34m(self, tup)\u001B[0m\n\u001B[0;32m    827\u001B[0m     retval \u001B[38;5;241m=\u001B[39m \u001B[38;5;28mgetattr\u001B[39m(retval, \u001B[38;5;28mself\u001B[39m\u001B[38;5;241m.\u001B[39mname)\u001B[38;5;241m.\u001B[39m_getitem_axis(key, axis\u001B[38;5;241m=\u001B[39mi)\n\u001B[0;32m    828\u001B[0m     \u001B[38;5;66;03m# We should never have retval.ndim < self.ndim, as that should\u001B[39;00m\n\u001B[0;32m    829\u001B[0m     \u001B[38;5;66;03m#  be handled by the _getitem_lowerdim call above.\u001B[39;00m\n\u001B[1;32m--> 830\u001B[0m     \u001B[38;5;28;01massert\u001B[39;00m \u001B[43mretval\u001B[49m\u001B[38;5;241;43m.\u001B[39;49m\u001B[43mndim\u001B[49m \u001B[38;5;241m==\u001B[39m \u001B[38;5;28mself\u001B[39m\u001B[38;5;241m.\u001B[39mndim\n\u001B[0;32m    832\u001B[0m \u001B[38;5;28;01mreturn\u001B[39;00m retval\n",
      "\u001B[1;31mKeyboardInterrupt\u001B[0m: "
     ]
    }
   ],
   "source": [
    "phone_slots=[\"Phone_1-1\",\"Phone_1-3\",\"Phone_11\",\"Phone_12\",\"Phone_15\",\"Phone_2-3\",\"Phone_2-4\", \"Phone_2-5\",\"Phone_27\",\"Phone_28\",\"Phone_29\" \"Phone_3-1\",\"Phone_3-2\",\"Phone_3-4\",\"Phone_3-5\",\"Phone_30\",\"Phone_5-2\",\"Phone_5-3\",\"Phone_5-4\",\"Phone_6-2\",\"Phone_6-3\",\"Phone_6-4\",\"Phone_6-5\",\"Phone_7-1\",\"Phone_7-2\",\"Phone_8\",\"Phone_9\"]\n",
    "bad_runs=[\"A3R6P1\",\"A3R4P4\",\"A3R4P5\",\"A3R3P4\",\"A3R3P5\"]\n",
    "good_runs_IF=[\"A1R1P1\",\"A1R1P2\",\"A1R1P3\",\"A1R1P4\",\"A1R1P5\",\"A2R1P1\",\"A2R1P2\",\"A2R1P3\",\"A2R1P4\",\"A2R1P5\",\"A2R2P1\",\"A2R2P2\",\"A2R2P3\",\"A2R2P4\",\"A2R2P5\"]\n",
    "good_runs_matrice=[\"A1R2P2\",\"A1R2P3\",\"A1R2P4\",\"A1R2P5\",\"A2R3P1\",\"A2R3P2\",\"A2R4P1\",\"A2R4P2\",\"A2R4P3\",\"A3R3P1\",\"A3R3P2\",\"A3R4P2\",\"A3R4P3\",\"A3R4P5\"]\n",
    "good_runs_phantom=[\"A2R5P1\",\"A2R5P2\",\"A2R5P3\",\"A2R5P4\",\"A2R5P5\",\"A2R6P1\",\"A2R6P2\",\"A2R6P3\",\"A2R6P4\",\"A2R6P5\",\"A3R5P1\",\"A3R5P2\",\"A3R5P3\",\"A3R5P4\",\"A3R6P1\",\"A3R6P2\",\"A3R6P3\",\"A3R6P4\"]\n",
    "test_runs_matrice=[\"A2R3P3\",\"A3R3P3\"]\n",
    "notable_col_names=['Pass','Segment','Phone','Lat','Lon','Alt','Range']\n",
    "passes_df=pd.read_csv(r\"C:\\Users\\rclendening\\researchData\\researchCSVs_Scripts_etc\\A1_A2_A3_flight_directory.csv\")\n",
    "raw_x_data=[]\n",
    "raw_y_data=[]\n",
    "def rangeFraction(ranges): #Function normalizes ranges\n",
    "    closest=np.min(ranges)\n",
    "    return closest*1/ranges\n",
    "\n",
    "def classFinder(distance):\n",
    "    if distance<=40 :\n",
    "        class_val=0\n",
    "    elif distance<=60:\n",
    "        class_val=1\n",
    "    elif distance<=80:\n",
    "        class_val=2\n",
    "    else:\n",
    "        class_val=3\n",
    "    return class_val\n",
    "\n",
    "def rangeClosest(ranges): #Function normalizes ranges\n",
    "    ranges_copy=ranges\n",
    "    truth=np.zeros(len(ranges))\n",
    "    #for x in range(0, 2):\n",
    "    closest=np.argmin(ranges_copy)\n",
    "    ranges_copy[closest]=10000\n",
    "    truth[closest]=1\n",
    "    return truth\n",
    "for x in passes_df.iterrows():\n",
    "    row=x[1]\n",
    "    pass_num=row[0]\n",
    "    scenario=row[1]\n",
    "    run_num=row[2]\n",
    "    start=row[3]\n",
    "    stop=row[4]\n",
    "    drone_gps_file=row[5]\n",
    "    full_name=(str(scenario) + 'R' + str(run_num) + 'P' + str(pass_num)).strip()\n",
    "    pass_df=training_df_raw.loc[training_df_raw[str(notable_col_names.index('Pass'))] == full_name]\n",
    "    #pass_df=training_df.loc[training_df[\"Pass\"] == full_name]\n",
    "    max_segment=pass_df[str(notable_col_names.index('Segment'))].max()\n",
    "    #max_segment=pass_df[\"Segment\"].max()\n",
    "    #for i in range(0,max_segment):\n",
    "    print(full_name)\n",
    "    if full_name in good_runs_matrice or full_name in good_runs_phantom or full_name in good_runs_IF:\n",
    "        for phone in phone_slots:\n",
    "            phone_seg=pass_df.loc[pass_df[str(notable_col_names.index('Phone'))]==phone]\n",
    "        # frame_df=pass_df.loc[pass_df[str(notable_col_names.index('Segment'))]==i]\n",
    "        #frame_df=pass_df.loc[pass_df[\"Segment\"]==i]\n",
    "            twd_frame=[]\n",
    "            range_frame=[]\n",
    "        #for phone in phone_slots:\n",
    "            for i in range(0,max_segment):\n",
    "                frame_df=phone_seg.loc[phone_seg[str(notable_col_names.index('Segment'))]==i]\n",
    "            # phone_seg=frame_df.loc[frame_df[str(notable_col_names.index('Phone'))]==phone]\n",
    "            #phone_seg=frame_df.loc[frame_df[\"Name\"]==phone]\n",
    "                data=np.array(frame_df.iloc[:,8:4008])\n",
    "            #data=np.array(frame_df.iloc[:,-512:])\n",
    "            # dist=phone_seg[str(notable_col_names.index('Range'))]\n",
    "                dist=frame_df[str(notable_col_names.index('Range'))]\n",
    "            #dist=phone_seg[\"Range\"]\n",
    "                if len(np.array(dist)>0):\n",
    "                    if np.array(dist)[0]<250 and  not(38<np.array(dist)[0]<42) and not(58<np.array(dist)[0]<62) and not(78<np.array(dist)[0]<82) :\n",
    "                        data=data[0]\n",
    "                        #data=np.reshape(data,(64,4))\n",
    "                        #data=np.reshape(data,(40,1))\n",
    "                        dist=np.array(dist)[0]\n",
    "                        class_value=classFinder(dist)\n",
    "                        twd_frame.append(data)\n",
    "                        range_frame.append(class_value)\n",
    "            #y_vals= rangeClosest(range_frame)\n",
    "            raw_x_data.extend(np.array(twd_frame))\n",
    "            raw_y_data.extend(np.array(range_frame))"
   ],
   "metadata": {
    "collapsed": false,
    "pycharm": {
     "name": "#%%\n"
    }
   }
  },
  {
   "cell_type": "code",
   "execution_count": 592,
   "outputs": [],
   "source": [
    "def subsample_raw(x_data,y_data):\n",
    "    new_x=[]\n",
    "    new_y=[]\n",
    "    rng=np.random.default_rng(12345)\n",
    "    for x in range(len(x_data)):\n",
    "        rand_vals=rng.integers(low=1,high=5,size=1)\n",
    "        if y_data[x]==3 and rand_vals[0]==2:\n",
    "        #if y_data[x][0]==3 and rand_vals[0]==2:\n",
    "            new_x.append(x_data[x])\n",
    "            new_y.append(y_data[x])\n",
    "        elif y_data[x] != 3:\n",
    "            new_x.append(x_data[x])\n",
    "            new_y.append(y_data[x])\n",
    "    return np.array(new_x), np.array(new_y)\n",
    "raw_x_data=np.array(raw_x_data)\n",
    "raw_x_data=np.float32(raw_x_data)\n",
    "raw_y_data=np.array(raw_y_data)\n",
    "x_raw,y_raw=subsample_raw(raw_x_data,raw_y_data)\n",
    "train_feats_raw,test_feats_raw,train_targs_raw,test_targs_raw=train_test_split(x_raw,y_raw,test_size=0.2,shuffle=True,random_state=42)\n",
    "range_train_targs_raw=train_targs_raw[:]\n",
    "range_train_targs_oh_raw=tf.keras.utils.to_categorical(range_train_targs_raw,num_classes=4)\n",
    "range_test_targs_raw=test_targs_raw[:]\n",
    "range_test_targs_oh_raw=tf.keras.utils.to_categorical(range_test_targs_raw,num_classes=4)"
   ],
   "metadata": {
    "collapsed": false,
    "pycharm": {
     "name": "#%%\n"
    }
   }
  },
  {
   "cell_type": "code",
   "execution_count": 593,
   "outputs": [
    {
     "data": {
      "text/plain": "(array([7631.,    0.,    0., 4452.,    0.,    0., 5298.,    0.,    0.,\n        6802.]),\n array([0. , 0.3, 0.6, 0.9, 1.2, 1.5, 1.8, 2.1, 2.4, 2.7, 3. ]),\n <BarContainer object of 10 artists>)"
     },
     "execution_count": 593,
     "metadata": {},
     "output_type": "execute_result"
    },
    {
     "data": {
      "text/plain": "<Figure size 432x288 with 1 Axes>",
      "image/png": "[encoded data removed]"
     },
     "metadata": {
      "needs_background": "light"
     },
     "output_type": "display_data"
    }
   ],
   "source": [
    "plt.hist(y_raw)"
   ],
   "metadata": {
    "collapsed": false,
    "pycharm": {
     "name": "#%%\n"
    }
   }
  },
  {
   "cell_type": "code",
   "execution_count": 594,
   "outputs": [
    {
     "name": "stdout",
     "output_type": "stream",
     "text": [
      "{0: 0.7917007693566869, 1: 1.3524888143176734, 2: 1.1337318330989217, 3: 0.8964782205746061}\n"
     ]
    }
   ],
   "source": [
    "from sklearn.utils import class_weight\n",
    "# class_weights=class_weight.compute_class_weight('balanced', classes=np.unique(class_train_targs), y=class_train_targs)\n",
    "# class_weights={0:class_weights[0], 1:class_weights[1]}\n",
    "#print(class_weights)\n",
    "range_weights_raw=class_weight.compute_class_weight('balanced', classes=np.unique(range_train_targs_raw), y=range_train_targs_raw)\n",
    "#,4:range_weights[4],5:range_weights[5], 6:range_weights[6]\n",
    "range_weights_raw={0:range_weights_raw[0], 1:range_weights_raw[1],2:range_weights_raw[2], 3:range_weights_raw[3]}\n",
    "print(range_weights_raw)"
   ],
   "metadata": {
    "collapsed": false,
    "pycharm": {
     "name": "#%%\n"
    }
   }
  },
  {
   "cell_type": "markdown",
   "source": [
    "# From raw audio data (0.5s frames) to spectrogram dataset (Classification)"
   ],
   "metadata": {
    "collapsed": false,
    "pycharm": {
     "name": "#%% md\n"
    }
   }
  },
  {
   "cell_type": "code",
   "execution_count": 4,
   "outputs": [
    {
     "name": "stdout",
     "output_type": "stream",
     "text": [
      "A1R1P1\n",
      "A1R1P2\n",
      "A1R1P3\n",
      "A1R1P4\n",
      "A1R1P5\n",
      "A1R2P1\n",
      "A1R2P2\n",
      "A1R2P3\n",
      "A1R2P4\n",
      "A1R2P5\n",
      "A2R1P1\n",
      "A2R1P2\n",
      "A2R1P3\n",
      "A2R1P4\n",
      "A2R1P5\n",
      "A2R2P1\n",
      "A2R2P2\n",
      "A2R2P3\n",
      "A2R2P4\n",
      "A2R2P5\n",
      "A2R3P1\n",
      "A2R3P2\n",
      "A2R3P3\n",
      "A2R4P1\n",
      "A2R4P2\n",
      "A2R4P3\n",
      "A2R5P1\n",
      "A2R5P2\n",
      "A2R5P3\n",
      "A2R5P4\n",
      "A2R5P5\n",
      "A2R6P1\n",
      "A2R6P2\n",
      "A2R6P3\n",
      "A2R6P4\n",
      "A2R6P5\n",
      "A2R7P1\n",
      "A2R7P2\n",
      "A2R7P3\n",
      "A2R7P4\n",
      "A2R7P5\n",
      "A2R8P1\n",
      "A2R8P2\n",
      "A2R8P3\n",
      "A2R8P4\n",
      "A2R8P5\n",
      "A3R3P1\n",
      "A3R3P2\n",
      "A3R3P3\n",
      "A3R3P4\n",
      "A3R3P5\n",
      "A3R4P1\n",
      "A3R4P2\n",
      "A3R4P3\n",
      "A3R4P4\n",
      "A3R4P5\n",
      "A3R5P1\n",
      "A3R5P2\n",
      "A3R5P3\n",
      "A3R5P4\n",
      "A3R6P1\n",
      "A3R6P2\n",
      "A3R6P3\n",
      "A3R6P4\n"
     ]
    }
   ],
   "source": [
    "def melspect(audioData, Fs):\n",
    "    '''\n",
    "    Converts decoded wav file to MFCC feature space\n",
    "    @param audioData: Numpy array of decoded audio wav file\n",
    "    @return MFCC coefficients\n",
    "    '''\n",
    "    data= audioData.astype(float)\n",
    "    # spect = melspectrogram(y=data,sr=Fs, hop_length=1024,n_mels=64, n_fft=2048)\n",
    "    spect = melspectrogram(y=data,sr=Fs)\n",
    "    return spect\n",
    "x_data=[]\n",
    "y_data=[]\n",
    "for x in passes_df.iterrows():\n",
    "    row=x[1]\n",
    "    pass_num=row[0]\n",
    "    scenario=row[1]\n",
    "    run_num=row[2]\n",
    "    start=row[3]\n",
    "    stop=row[4]\n",
    "    drone_gps_file=row[5]\n",
    "    full_name=(str(scenario) + 'R' + str(run_num) + 'P' + str(pass_num)).strip()\n",
    "    pass_df=training_df_raw.loc[training_df_raw[str(notable_col_names.index('Pass'))] == full_name]\n",
    "    #pass_df=training_df.loc[training_df[\"Pass\"] == full_name]\n",
    "    max_segment=pass_df[str(notable_col_names.index('Segment'))].max()\n",
    "    #max_segment=pass_df[\"Segment\"].max()\n",
    "    #for i in range(0,max_segment):\n",
    "    print(full_name)\n",
    "    if full_name in good_runs_IF:\n",
    "        drone_type=1\n",
    "    elif full_name in good_runs_matrice:\n",
    "        drone_type=0\n",
    "    else:\n",
    "        drone_type=2\n",
    "    if full_name in good_runs_matrice or full_name in good_runs_IF or full_name in good_runs_phantom:\n",
    "    #if full_name in good_runs_phantom:\n",
    "        for phone in phone_slots:\n",
    "            phone_seg=pass_df.loc[pass_df[str(notable_col_names.index('Phone'))]==phone]\n",
    "        # frame_df=pass_df.loc[pass_df[str(notable_col_names.index('Segment'))]==i]\n",
    "        #frame_df=pass_df.loc[pass_df[\"Segment\"]==i]\n",
    "            twd_frame=[]\n",
    "            range_frame=[]\n",
    "        #for phone in phone_slots:\n",
    "            for i in range(0,max_segment):\n",
    "                frame_df=phone_seg.loc[phone_seg[str(notable_col_names.index('Segment'))]==i]\n",
    "            # phone_seg=frame_df.loc[frame_df[str(notable_col_names.index('Phone'))]==phone]\n",
    "            #phone_seg=frame_df.loc[frame_df[\"Name\"]==phone]\n",
    "                data=np.array(frame_df.iloc[:,8:4008])\n",
    "                #data=np.array(frame_df.iloc[:,8:16008])\n",
    "                if np.any(data):\n",
    "                    mel_data=melspect(data[0],8000)\n",
    "            #data=np.array(frame_df.iloc[:,-512:])\n",
    "            # dist=phone_seg[str(notable_col_names.index('Range'))]\n",
    "                dist=frame_df[str(notable_col_names.index('Range'))]\n",
    "            #dist=phone_seg[\"Range\"]\n",
    "                if len(np.array(dist)>0):\n",
    "                    if np.array(dist)[0]<250 and  not(38<np.array(dist)[0]<42) and not(58<np.array(dist)[0]<62) and not(78<np.array(dist)[0]<82) :\n",
    "                        data=data[0]\n",
    "                        #data=np.reshape(data,(64,4))\n",
    "                        #data=np.reshape(data,(40,1))\n",
    "                        dist=np.array(dist)[0]\n",
    "                        class_value=classFinder(dist)\n",
    "                        twd_frame.append(mel_data)\n",
    "                        range_frame.append([class_value,drone_type,dist])\n",
    "            #y_vals= rangeClosest(range_frame)\n",
    "            x_data.extend(np.array(twd_frame))\n",
    "            y_data.extend(np.array(range_frame))"
   ],
   "metadata": {
    "collapsed": false,
    "pycharm": {
     "name": "#%%\n"
    }
   }
  },
  {
   "cell_type": "code",
   "execution_count": 48,
   "outputs": [
    {
     "ename": "KeyboardInterrupt",
     "evalue": "",
     "output_type": "error",
     "traceback": [
      "\u001B[1;31m---------------------------------------------------------------------------\u001B[0m",
      "\u001B[1;31mKeyboardInterrupt\u001B[0m                         Traceback (most recent call last)",
      "Input \u001B[1;32mIn [48]\u001B[0m, in \u001B[0;36m<cell line: 19>\u001B[1;34m()\u001B[0m\n\u001B[0;32m     17\u001B[0m y_data\u001B[38;5;241m=\u001B[39mnp\u001B[38;5;241m.\u001B[39marray(y_data)\n\u001B[0;32m     18\u001B[0m x__,y__\u001B[38;5;241m=\u001B[39msubsample(x_data,y_data)\n\u001B[1;32m---> 19\u001B[0m train_feats,test_feats,train_targs,test_targs\u001B[38;5;241m=\u001B[39m\u001B[43mtrain_test_split\u001B[49m(x__,y__,test_size\u001B[38;5;241m=\u001B[39m\u001B[38;5;241m0.2\u001B[39m,shuffle\u001B[38;5;241m=\u001B[39m\u001B[38;5;28;01mTrue\u001B[39;00m,random_state\u001B[38;5;241m=\u001B[39m\u001B[38;5;241m42\u001B[39m)\n\u001B[0;32m     20\u001B[0m class_train_targs\u001B[38;5;241m=\u001B[39mtrain_targs[:,\u001B[38;5;241m1\u001B[39m]\n\u001B[0;32m     21\u001B[0m cont_range_train_targs\u001B[38;5;241m=\u001B[39mtrain_targs[:,\u001B[38;5;241m2\u001B[39m]\n",
      "Input \u001B[1;32mIn [48]\u001B[0m, in \u001B[0;36m<cell line: 19>\u001B[1;34m()\u001B[0m\n\u001B[0;32m     17\u001B[0m y_data\u001B[38;5;241m=\u001B[39mnp\u001B[38;5;241m.\u001B[39marray(y_data)\n\u001B[0;32m     18\u001B[0m x__,y__\u001B[38;5;241m=\u001B[39msubsample(x_data,y_data)\n\u001B[1;32m---> 19\u001B[0m train_feats,test_feats,train_targs,test_targs\u001B[38;5;241m=\u001B[39m\u001B[43mtrain_test_split\u001B[49m(x__,y__,test_size\u001B[38;5;241m=\u001B[39m\u001B[38;5;241m0.2\u001B[39m,shuffle\u001B[38;5;241m=\u001B[39m\u001B[38;5;28;01mTrue\u001B[39;00m,random_state\u001B[38;5;241m=\u001B[39m\u001B[38;5;241m42\u001B[39m)\n\u001B[0;32m     20\u001B[0m class_train_targs\u001B[38;5;241m=\u001B[39mtrain_targs[:,\u001B[38;5;241m1\u001B[39m]\n\u001B[0;32m     21\u001B[0m cont_range_train_targs\u001B[38;5;241m=\u001B[39mtrain_targs[:,\u001B[38;5;241m2\u001B[39m]\n",
      "File \u001B[1;32m_pydevd_bundle\\pydevd_cython_win32_39_64.pyx:1179\u001B[0m, in \u001B[0;36m_pydevd_bundle.pydevd_cython_win32_39_64.SafeCallWrapper.__call__\u001B[1;34m()\u001B[0m\n",
      "File \u001B[1;32m_pydevd_bundle\\pydevd_cython_win32_39_64.pyx:620\u001B[0m, in \u001B[0;36m_pydevd_bundle.pydevd_cython_win32_39_64.PyDBFrame.trace_dispatch\u001B[1;34m()\u001B[0m\n",
      "File \u001B[1;32m_pydevd_bundle\\pydevd_cython_win32_39_64.pyx:929\u001B[0m, in \u001B[0;36m_pydevd_bundle.pydevd_cython_win32_39_64.PyDBFrame.trace_dispatch\u001B[1;34m()\u001B[0m\n",
      "File \u001B[1;32m_pydevd_bundle\\pydevd_cython_win32_39_64.pyx:920\u001B[0m, in \u001B[0;36m_pydevd_bundle.pydevd_cython_win32_39_64.PyDBFrame.trace_dispatch\u001B[1;34m()\u001B[0m\n",
      "File \u001B[1;32m_pydevd_bundle\\pydevd_cython_win32_39_64.pyx:317\u001B[0m, in \u001B[0;36m_pydevd_bundle.pydevd_cython_win32_39_64.PyDBFrame.do_wait_suspend\u001B[1;34m()\u001B[0m\n",
      "File \u001B[1;32mC:\\Program Files\\JetBrains\\PyCharm 2021.3.2\\plugins\\python\\helpers\\pydev\\pydevd.py:1160\u001B[0m, in \u001B[0;36mPyDB.do_wait_suspend\u001B[1;34m(self, thread, frame, event, arg, send_suspend_message, is_unhandled_exception)\u001B[0m\n\u001B[0;32m   1157\u001B[0m         from_this_thread\u001B[38;5;241m.\u001B[39mappend(frame_id)\n\u001B[0;32m   1159\u001B[0m \u001B[38;5;28;01mwith\u001B[39;00m \u001B[38;5;28mself\u001B[39m\u001B[38;5;241m.\u001B[39m_threads_suspended_single_notification\u001B[38;5;241m.\u001B[39mnotify_thread_suspended(thread_id, stop_reason):\n\u001B[1;32m-> 1160\u001B[0m     \u001B[38;5;28;43mself\u001B[39;49m\u001B[38;5;241;43m.\u001B[39;49m\u001B[43m_do_wait_suspend\u001B[49m\u001B[43m(\u001B[49m\u001B[43mthread\u001B[49m\u001B[43m,\u001B[49m\u001B[43m \u001B[49m\u001B[43mframe\u001B[49m\u001B[43m,\u001B[49m\u001B[43m \u001B[49m\u001B[43mevent\u001B[49m\u001B[43m,\u001B[49m\u001B[43m \u001B[49m\u001B[43marg\u001B[49m\u001B[43m,\u001B[49m\u001B[43m \u001B[49m\u001B[43msuspend_type\u001B[49m\u001B[43m,\u001B[49m\u001B[43m \u001B[49m\u001B[43mfrom_this_thread\u001B[49m\u001B[43m)\u001B[49m\n",
      "File \u001B[1;32mC:\\Program Files\\JetBrains\\PyCharm 2021.3.2\\plugins\\python\\helpers\\pydev\\pydevd.py:1175\u001B[0m, in \u001B[0;36mPyDB._do_wait_suspend\u001B[1;34m(self, thread, frame, event, arg, suspend_type, from_this_thread)\u001B[0m\n\u001B[0;32m   1172\u001B[0m             \u001B[38;5;28mself\u001B[39m\u001B[38;5;241m.\u001B[39m_call_mpl_hook()\n\u001B[0;32m   1174\u001B[0m         \u001B[38;5;28mself\u001B[39m\u001B[38;5;241m.\u001B[39mprocess_internal_commands()\n\u001B[1;32m-> 1175\u001B[0m         \u001B[43mtime\u001B[49m\u001B[38;5;241;43m.\u001B[39;49m\u001B[43msleep\u001B[49m\u001B[43m(\u001B[49m\u001B[38;5;241;43m0.01\u001B[39;49m\u001B[43m)\u001B[49m\n\u001B[0;32m   1177\u001B[0m \u001B[38;5;28mself\u001B[39m\u001B[38;5;241m.\u001B[39mcancel_async_evaluation(get_current_thread_id(thread), \u001B[38;5;28mstr\u001B[39m(\u001B[38;5;28mid\u001B[39m(frame)))\n\u001B[0;32m   1179\u001B[0m \u001B[38;5;66;03m# process any stepping instructions\u001B[39;00m\n",
      "\u001B[1;31mKeyboardInterrupt\u001B[0m: "
     ]
    }
   ],
   "source": [
    "def subsample(x_data,y_data):\n",
    "    new_x=[]\n",
    "    new_y=[]\n",
    "    rng=np.random.default_rng(12345)\n",
    "    for x in range(len(x_data)):\n",
    "        rand_vals=rng.integers(low=1,high=5,size=1)\n",
    "        if y_data[x][0]==3 and rand_vals[0]==2:\n",
    "        #if y_data[x][0]==3 and rand_vals[0]==2:\n",
    "            new_x.append(x_data[x])\n",
    "            new_y.append(y_data[x])\n",
    "        elif y_data[x][0] != 3:\n",
    "            new_x.append(x_data[x])\n",
    "            new_y.append(y_data[x])\n",
    "    return np.array(new_x), np.array(new_y)\n",
    "x_data=np.array(x_data)\n",
    "x_data=np.float32(x_data)\n",
    "y_data=np.array(y_data)\n",
    "x__,y__=subsample(x_data,y_data)\n",
    "train_feats,test_feats,train_targs,test_targs=train_test_split(x__,y__,test_size=0.2,shuffle=True,random_state=42)\n",
    "class_train_targs=train_targs[:,1]\n",
    "cont_range_train_targs=train_targs[:,2]\n",
    "range_train_targs=train_targs[:,0]\n",
    "class_train_targs_oh=tf.keras.utils.to_categorical(class_train_targs,num_classes=3)\n",
    "range_train_targs_oh=tf.keras.utils.to_categorical(range_train_targs,num_classes=4)\n",
    "class_test_targs=test_targs[:,1]\n",
    "cont_range_test_targs=test_targs[:,2]\n",
    "range_test_targs=test_targs[:,0]\n",
    "class_test_targs_oh=tf.keras.utils.to_categorical(class_test_targs,num_classes=3)\n",
    "range_test_targs_oh=tf.keras.utils.to_categorical(range_test_targs,num_classes=4)"
   ],
   "metadata": {
    "collapsed": false,
    "pycharm": {
     "name": "#%%\n"
    }
   }
  },
  {
   "cell_type": "markdown",
   "source": [
    "# Split Training Dataset into the three sUAS Types (IF, Matrice, Phantom)"
   ],
   "metadata": {
    "collapsed": false,
    "pycharm": {
     "name": "#%% md\n"
    }
   }
  },
  {
   "cell_type": "code",
   "execution_count": 73,
   "outputs": [],
   "source": [
    "if_train_data=[]\n",
    "if_test_data=[]\n",
    "matrice_train_data=[]\n",
    "matrice_test_data=[]\n",
    "phantom_train_data=[]\n",
    "phantom_test_data=[]\n",
    "if_train_targs=[]\n",
    "if_test_targs=[]\n",
    "matrice_train_targs=[]\n",
    "matrice_test_targs=[]\n",
    "phantom_train_targs=[]\n",
    "phantom_test_targs=[]\n",
    "for x in range(len(train_targs)):\n",
    "    if train_targs[x][1]==0:\n",
    "        matrice_train_data.append(train_feats[x])\n",
    "        matrice_train_targs.append(train_targs[x][0])\n",
    "    elif train_targs[x][1]==1:\n",
    "        if_train_data.append(train_feats[x])\n",
    "        if_train_targs.append(train_targs[x][0])\n",
    "    elif train_targs[x][1]==2:\n",
    "        phantom_train_data.append(train_feats[x])\n",
    "        phantom_train_targs.append(train_targs[x][0])\n",
    "\n",
    "for x in range(len(test_targs)):\n",
    "    if test_targs[x][1]==0:\n",
    "        matrice_test_data.append(test_feats[x])\n",
    "        matrice_test_targs.append(test_targs[x][0])\n",
    "    elif test_targs[x][1]==1:\n",
    "        if_test_data.append(test_feats[x])\n",
    "        if_test_targs.append(test_targs[x][0])\n",
    "    elif test_targs[x][1]==2:\n",
    "        phantom_test_data.append(test_feats[x])\n",
    "        phantom_test_targs.append(test_targs[x][0])"
   ],
   "metadata": {
    "collapsed": false,
    "pycharm": {
     "name": "#%%\n"
    }
   }
  },
  {
   "cell_type": "markdown",
   "source": [
    "# Null model"
   ],
   "metadata": {
    "collapsed": false,
    "pycharm": {
     "name": "#%% md\n"
    }
   }
  },
  {
   "cell_type": "code",
   "execution_count": 172,
   "outputs": [
    {
     "data": {
      "text/plain": "0.2649753347427766"
     },
     "execution_count": 172,
     "metadata": {},
     "output_type": "execute_result"
    }
   ],
   "source": [
    "correct=0\n",
    "pred=0\n",
    "total=0\n",
    "rng=np.random.default_rng(12345)\n",
    "for x in range(len(test_targs)):\n",
    "    rand_vals=rng.integers(low=1,high=100,size=1)\n",
    "    if rand_vals[0]<34:\n",
    "        pred=0\n",
    "    elif rand_vals[0]<50:\n",
    "        pred=1\n",
    "    elif rand_vals[0]<68:\n",
    "        pred=2\n",
    "    else:\n",
    "        pred=3\n",
    "    if(test_targs[x][0]==pred):\n",
    "        correct+=1\n",
    "    total+=1\n",
    "correct/total"
   ],
   "metadata": {
    "collapsed": false,
    "pycharm": {
     "name": "#%%\n"
    }
   }
  },
  {
   "cell_type": "code",
   "execution_count": 150,
   "outputs": [
    {
     "name": "stdout",
     "output_type": "stream",
     "text": [
      "{0: 0.9723385167464115, 1: 1.2033678756476685, 2: 1.523664479850047, 3: 0.6737463738085371}\n"
     ]
    }
   ],
   "source": [
    "from sklearn.utils import class_weight\n",
    "# class_weights=class_weight.compute_class_weight('balanced', classes=np.unique(class_train_targs), y=class_train_targs)\n",
    "# class_weights={0:class_weights[0], 1:class_weights[1]}\n",
    "#print(class_weights)\n",
    "range_weights=class_weight.compute_class_weight('balanced', classes=np.unique(phantom_train_targs), y=phantom_train_targs)\n",
    "#,4:range_weights[4],5:range_weights[5], 6:range_weights[6]\n",
    "range_weights={0:range_weights[0], 1:range_weights[1],2:range_weights[2], 3:range_weights[3]}\n",
    "print(range_weights)"
   ],
   "metadata": {
    "collapsed": false,
    "pycharm": {
     "name": "#%%\n"
    }
   }
  },
  {
   "cell_type": "code",
   "execution_count": 526,
   "outputs": [
    {
     "name": "stdout",
     "output_type": "stream",
     "text": [
      "[ 0.          1.         31.91555911]\n"
     ]
    },
    {
     "data": {
      "text/plain": "<Figure size 432x288 with 2 Axes>",
      "image/png": "[encoded data removed]"
     },
     "metadata": {
      "needs_background": "light"
     },
     "output_type": "display_data"
    }
   ],
   "source": [
    "import librosa.display\n",
    "fig, ax = plt.subplots()\n",
    "S_dB = librosa.power_to_db(x_data[1500], ref=np.max)\n",
    "print(y_data[1500])\n",
    "img = librosa.display.specshow(S_dB, x_axis='time',\n",
    "                         y_axis='mel', sr=8000,\n",
    "                         fmax=4000, ax=ax)\n",
    "fig.colorbar(img, ax=ax, format='%+2.0f dB')\n",
    "# ax.set(title='Mel-frequency spectrogram')\n",
    "plt.savefig(\"melspect.pdf\")"
   ],
   "metadata": {
    "collapsed": false,
    "pycharm": {
     "name": "#%%\n"
    }
   }
  },
  {
   "cell_type": "markdown",
   "source": [
    "# CNN for Classification (Best performing model)"
   ],
   "metadata": {
    "collapsed": false,
    "pycharm": {
     "name": "#%% md\n"
    }
   }
  },
  {
   "cell_type": "code",
   "execution_count": null,
   "outputs": [],
   "source": [
    "modelCNN_MCV2=tf.keras.Sequential()\n",
    "modelCNN_MCV2.add(BatchNormalization(input_shape=(128,8,1)))\n",
    "modelCNN_MCV2.add(Conv2D(filters=8,kernel_size=(4,4),strides=(1,1),padding='SAME', use_bias=False, name='conv_1'))\n",
    "modelCNN_MCV2.add(BatchNormalization())\n",
    "modelCNN_MCV2.add(Activation('relu'))\n",
    "modelCNN_MCV2.add(MaxPooling2D(2))\n",
    "modelCNN_MCV2.add(Conv2D(filters=16,kernel_size=(2,2),strides=(2,2), use_bias=False,\n",
    "                         padding='SAME', name='conv_2'))\n",
    "modelCNN_MCV2.add(BatchNormalization())\n",
    "modelCNN_MCV2.add(Activation('relu'))\n",
    "modelCNN_MCV2.add(Dropout(0.3))\n",
    "modelCNN_MCV2.add(Conv2D(filters=32,kernel_size=(2,2),strides=(2,2), use_bias=False,\n",
    "                         padding='SAME', name='conv_3'))\n",
    "modelCNN_MCV2.add(BatchNormalization())\n",
    "modelCNN_MCV2.add(Activation('relu'))\n",
    "modelCNN_MCV2.add(Dropout(0.3))\n",
    "modelCNN_MCV2.add(Flatten())\n",
    "modelCNN_MCV2.add(Dense(512, activation='relu', name='dense_2'))\n",
    "modelCNN_MCV2.add(Dense(256, activation='relu', name='dense_3'))\n",
    "modelCNN_MCV2.add(Dropout(0.5))\n",
    "modelCNN_MCV2.add(Dense(4, activation='softmax', name='output_range'))\n",
    "\n",
    "optimizer= tf.keras.optimizers.Adam()\n",
    "modelCNN_MCV2.compile(loss='categorical_crossentropy',optimizer=optimizer,metrics=['accuracy'])\n",
    "\n",
    "\n",
    "reduceLR = tf.keras.callbacks.ReduceLROnPlateau(monitor='val_loss', factor=0.5,\n",
    "                                 verbose=1, patience=20, mode='auto')\n",
    "early = tf.keras.callbacks.EarlyStopping(monitor='val_loss', min_delta=1e-4,\n",
    "                          patience=40, mode='auto', restore_best_weights=True)\n",
    "modelCNN_MCV2.build(input_shape=(None,128,8,1))\n",
    "modelCNN_MCV2.summary()\n",
    "single_drone_train_targs_oh=tf.keras.utils.to_categorical(phantom_train_targs,num_classes=4)\n",
    "single_drone_train_data=np.array(phantom_train_data)\n",
    "history = modelCNN_MCV2.fit(single_drone_train_data, single_drone_train_targs_oh,\n",
    "                      epochs=200,\n",
    "                      batch_size=32,\n",
    "                      shuffle=True,\n",
    "                      class_weight=range_weights,\n",
    "                      validation_split=0.2,\n",
    "                      callbacks=[reduceLR, early])"
   ],
   "metadata": {
    "collapsed": false,
    "pycharm": {
     "name": "#%%\n"
    }
   }
  },
  {
   "cell_type": "code",
   "execution_count": 113,
   "outputs": [],
   "source": [
    "MLtools.save_model(modelCNN_MCV2,\"localization_CNNV2(best)_090222\")"
   ],
   "metadata": {
    "collapsed": false,
    "pycharm": {
     "name": "#%%\n"
    }
   }
  },
  {
   "cell_type": "code",
   "execution_count": 156,
   "outputs": [
    {
     "name": "stdout",
     "output_type": "stream",
     "text": [
      "51/51 [==============================] - 0s 8ms/step\n",
      "51/51 [==============================] - 0s 7ms/step - loss: 0.8734 - accuracy: 0.6516\n"
     ]
    },
    {
     "data": {
      "text/plain": "[0.8733940720558167, 0.6515527963638306]"
     },
     "execution_count": 156,
     "metadata": {},
     "output_type": "execute_result"
    }
   ],
   "source": [
    "test_targs_oh=tf.keras.utils.to_categorical(phantom_test_targs,num_classes=4)\n",
    "score = modelCNN_MCV2.predict(np.array(phantom_test_data))\n",
    "modelCNN_MCV2.evaluate(np.array(phantom_test_data),y={'output_range':test_targs_oh})\n",
    "#test_predictions=modelCNN_MCV2.predict(test_feats)"
   ],
   "metadata": {
    "collapsed": false,
    "pycharm": {
     "name": "#%%\n"
    }
   }
  },
  {
   "cell_type": "code",
   "execution_count": 174,
   "outputs": [
    {
     "data": {
      "text/plain": "<Figure size 360x360 with 2 Axes>",
      "image/png": "[encoded data removed]"
     },
     "metadata": {
      "needs_background": "light"
     },
     "output_type": "display_data"
    }
   ],
   "source": [
    "from sklearn.metrics import confusion_matrix\n",
    "y_pred = np.argmax(score,axis=-1)\n",
    "y_true=np.argmax(test_targs_oh, axis=-1)\n",
    "cm = confusion_matrix(y_true, y_pred)\n",
    "## Get Class Labels\n",
    "class_names = [\"<40\",\"40-60\",\"60-80\",\">80\"]\n",
    "#class_names = [\"<30\", \"40\",\"50\",\"60\",\"70\",\"80\",\"80+\"]\n",
    "# Plot confusion matrix in a beautiful manner\n",
    "fig = plt.figure(figsize=(5, 5))\n",
    "ax= plt.subplot()\n",
    "sns.heatmap(cm, annot=True, ax = ax, fmt = 'g'); #annot=True to annotate cells\n",
    "# labels, title and ticks\n",
    "ax.set_xlabel('Predicted', fontsize=20)\n",
    "ax.xaxis.set_label_position('bottom')\n",
    "plt.xticks(rotation=90)\n",
    "ax.xaxis.set_ticklabels(class_names, fontsize = 10)\n",
    "ax.xaxis.tick_bottom()\n",
    "\n",
    "ax.set_ylabel('True', fontsize=20)\n",
    "ax.yaxis.set_ticklabels(class_names, fontsize = 10)\n",
    "plt.yticks(rotation=0)\n",
    "\n",
    "#plt.title('2DCNN Classification PhantomDS Confusion Matrix', fontsize=20)\n",
    "plt.savefig(\"phantomds_confusion_CNNV2.pdf\",bbox_inches='tight')"
   ],
   "metadata": {
    "collapsed": false,
    "pycharm": {
     "name": "#%%\n"
    }
   }
  },
  {
   "cell_type": "code",
   "execution_count": 158,
   "outputs": [
    {
     "name": "stdout",
     "output_type": "stream",
     "text": [
      "              precision    recall  f1-score   support\n",
      "\n",
      "           0       0.72      0.74      0.73       418\n",
      "           1       0.61      0.53      0.57       349\n",
      "           2       0.43      0.49      0.46       285\n",
      "           3       0.76      0.74      0.75       558\n",
      "\n",
      "    accuracy                           0.65      1610\n",
      "   macro avg       0.63      0.63      0.63      1610\n",
      "weighted avg       0.66      0.65      0.65      1610\n",
      "\n",
      "0.62648738075193\n"
     ]
    }
   ],
   "source": [
    "from sklearn.metrics import balanced_accuracy_score\n",
    "print(classification_report(y_true=y_true,y_pred=y_pred))\n",
    "print(balanced_accuracy_score(y_true,y_pred))"
   ],
   "metadata": {
    "collapsed": false,
    "pycharm": {
     "name": "#%%\n"
    }
   }
  },
  {
   "cell_type": "markdown",
   "source": [
    "# Evaluate Model on Each sUAS Type"
   ],
   "metadata": {
    "collapsed": false,
    "pycharm": {
     "name": "#%% md\n"
    }
   }
  },
  {
   "cell_type": "code",
   "execution_count": 105,
   "outputs": [],
   "source": [
    "single_drone_truth=[]\n",
    "single_drone_pred=[]\n",
    "for x in range(len(class_test_targs)):\n",
    "    if class_test_targs[x]==2: #0 == Matrice, 1== IF, 2== Phantom\n",
    "        single_drone_truth.append(np.argmax(range_test_targs_oh[x], axis=-1))\n",
    "        single_drone_pred.append(np.argmax(test_predictions[x], axis=-1))\n",
    "        cm = confusion_matrix(single_drone_truth, single_drone_pred)"
   ],
   "metadata": {
    "collapsed": false,
    "pycharm": {
     "name": "#%%\n"
    }
   }
  },
  {
   "cell_type": "code",
   "execution_count": 106,
   "outputs": [
    {
     "data": {
      "text/plain": "<Figure size 360x360 with 2 Axes>",
      "image/png": "[encoded data removed]"
     },
     "metadata": {
      "needs_background": "light"
     },
     "output_type": "display_data"
    }
   ],
   "source": [
    "cm = confusion_matrix(single_drone_truth, single_drone_pred)\n",
    "## Get Class Labels\n",
    "class_names = [\"<40\",\"40-60\",\"60-80\",\">80\"]\n",
    "#class_names = [\"<30\", \"40\",\"50\",\"60\",\"70\",\"80\",\"80+\"]\n",
    "# Plot confusion matrix in a beautiful manner\n",
    "fig = plt.figure(figsize=(5, 5))\n",
    "ax= plt.subplot()\n",
    "sns.heatmap(cm, annot=True, ax = ax, fmt = 'g'); #annot=True to annotate cells\n",
    "# labels, title and ticks\n",
    "ax.set_xlabel('Predicted', fontsize=20)\n",
    "ax.xaxis.set_label_position('bottom')\n",
    "plt.xticks(rotation=90)\n",
    "ax.xaxis.set_ticklabels(class_names, fontsize = 10)\n",
    "ax.xaxis.tick_bottom()\n",
    "\n",
    "ax.set_ylabel('True', fontsize=20)\n",
    "ax.yaxis.set_ticklabels(class_names, fontsize = 10)\n",
    "plt.yticks(rotation=0)\n",
    "\n",
    "plt.title('CNN Combined IF Confusion Matrix', fontsize=20)\n",
    "plt.tight_layout()\n",
    "plt.savefig(\"IF_CM.pdf\")"
   ],
   "metadata": {
    "collapsed": false,
    "pycharm": {
     "name": "#%%\n"
    }
   }
  },
  {
   "cell_type": "code",
   "execution_count": 104,
   "outputs": [
    {
     "name": "stdout",
     "output_type": "stream",
     "text": [
      "              precision    recall  f1-score   support\n",
      "\n",
      "           0       0.93      0.89      0.91       748\n",
      "           1       0.61      0.68      0.64       265\n",
      "           2       0.74      0.77      0.75       435\n",
      "           3       0.85      0.83      0.84       625\n",
      "\n",
      "    accuracy                           0.82      2073\n",
      "   macro avg       0.78      0.79      0.79      2073\n",
      "weighted avg       0.83      0.82      0.82      2073\n",
      "\n"
     ]
    }
   ],
   "source": [
    "print(classification_report(y_true=single_drone_truth,y_pred=single_drone_pred))"
   ],
   "metadata": {
    "collapsed": false,
    "pycharm": {
     "name": "#%%\n"
    }
   }
  },
  {
   "cell_type": "markdown",
   "source": [
    "# The rest of the blocks are other models that were rejected due to low performance (CRNN and 1DCNN)"
   ],
   "metadata": {
    "collapsed": false,
    "pycharm": {
     "name": "#%% md\n"
    }
   }
  },
  {
   "cell_type": "markdown",
   "source": [
    "# CRNN for Classification:"
   ],
   "metadata": {
    "collapsed": false,
    "pycharm": {
     "name": "#%% md\n"
    }
   }
  },
  {
   "cell_type": "code",
   "execution_count": 64,
   "outputs": [
    {
     "name": "stdout",
     "output_type": "stream",
     "text": [
      "Model: \"sequential_18\"\n",
      "_________________________________________________________________\n",
      " Layer (type)                Output Shape              Param #   \n",
      "=================================================================\n",
      " batch_normalization_79 (Bat  (None, 128, 8, 1)        4         \n",
      " chNormalization)                                                \n",
      "                                                                 \n",
      " conv_1 (Conv2D)             (None, 128, 8, 8)         32        \n",
      "                                                                 \n",
      " batch_normalization_80 (Bat  (None, 128, 8, 8)        32        \n",
      " chNormalization)                                                \n",
      "                                                                 \n",
      " activation_60 (Activation)  (None, 128, 8, 8)         0         \n",
      "                                                                 \n",
      " conv_2 (Conv2D)             (None, 64, 8, 16)         2048      \n",
      "                                                                 \n",
      " batch_normalization_81 (Bat  (None, 64, 8, 16)        64        \n",
      " chNormalization)                                                \n",
      "                                                                 \n",
      " activation_61 (Activation)  (None, 64, 8, 16)         0         \n",
      "                                                                 \n",
      " dropout_54 (Dropout)        (None, 64, 8, 16)         0         \n",
      "                                                                 \n",
      " conv_3 (Conv2D)             (None, 16, 8, 32)         8192      \n",
      "                                                                 \n",
      " batch_normalization_82 (Bat  (None, 16, 8, 32)        128       \n",
      " chNormalization)                                                \n",
      "                                                                 \n",
      " activation_62 (Activation)  (None, 16, 8, 32)         0         \n",
      "                                                                 \n",
      " max_pooling2d_13 (MaxPoolin  (None, 1, 8, 32)         0         \n",
      " g2D)                                                            \n",
      "                                                                 \n",
      " dropout_55 (Dropout)        (None, 1, 8, 32)          0         \n",
      "                                                                 \n",
      " reshape_4 (Reshape)         (None, 8, 32)             0         \n",
      "                                                                 \n",
      " gru_5 (GRU)                 (None, 32)                6336      \n",
      "                                                                 \n",
      " dense_3 (Dense)             (None, 64)                2112      \n",
      "                                                                 \n",
      " dropout_56 (Dropout)        (None, 64)                0         \n",
      "                                                                 \n",
      " dense_4 (Dense)             (None, 4)                 260       \n",
      "                                                                 \n",
      "=================================================================\n",
      "Total params: 19,208\n",
      "Trainable params: 19,094\n",
      "Non-trainable params: 114\n",
      "_________________________________________________________________\n",
      "Epoch 1/200\n",
      "426/426 [==============================] - 15s 31ms/step - loss: 1.3329 - accuracy: 0.3985 - val_loss: 1.1925 - val_accuracy: 0.4888 - lr: 0.0010\n",
      "Epoch 2/200\n",
      "426/426 [==============================] - 13s 30ms/step - loss: 1.2216 - accuracy: 0.4777 - val_loss: 1.1491 - val_accuracy: 0.4665 - lr: 0.0010\n",
      "Epoch 3/200\n",
      "426/426 [==============================] - 13s 31ms/step - loss: 1.1599 - accuracy: 0.4958 - val_loss: 1.1016 - val_accuracy: 0.4745 - lr: 0.0010\n",
      "Epoch 4/200\n",
      "426/426 [==============================] - 13s 30ms/step - loss: 1.1313 - accuracy: 0.5087 - val_loss: 1.0509 - val_accuracy: 0.5082 - lr: 0.0010\n",
      "Epoch 5/200\n",
      "426/426 [==============================] - 13s 30ms/step - loss: 1.1023 - accuracy: 0.5253 - val_loss: 1.0302 - val_accuracy: 0.5214 - lr: 0.0010\n",
      "Epoch 6/200\n",
      "426/426 [==============================] - 13s 30ms/step - loss: 1.0838 - accuracy: 0.5387 - val_loss: 1.0050 - val_accuracy: 0.5355 - lr: 0.0010\n",
      "Epoch 7/200\n",
      "426/426 [==============================] - 13s 31ms/step - loss: 1.0684 - accuracy: 0.5523 - val_loss: 1.0059 - val_accuracy: 0.5323 - lr: 0.0010\n",
      "Epoch 8/200\n",
      "426/426 [==============================] - 13s 30ms/step - loss: 1.0564 - accuracy: 0.5540 - val_loss: 0.9730 - val_accuracy: 0.5487 - lr: 0.0010\n",
      "Epoch 9/200\n",
      "426/426 [==============================] - 13s 30ms/step - loss: 1.0397 - accuracy: 0.5665 - val_loss: 1.0059 - val_accuracy: 0.5341 - lr: 0.0010\n",
      "Epoch 10/200\n",
      "426/426 [==============================] - 13s 30ms/step - loss: 1.0282 - accuracy: 0.5653 - val_loss: 1.1372 - val_accuracy: 0.5059 - lr: 0.0010\n",
      "Epoch 11/200\n",
      "426/426 [==============================] - 13s 31ms/step - loss: 1.0223 - accuracy: 0.5718 - val_loss: 0.9680 - val_accuracy: 0.5649 - lr: 0.0010\n",
      "Epoch 12/200\n",
      "426/426 [==============================] - 13s 31ms/step - loss: 1.0123 - accuracy: 0.5754 - val_loss: 1.1064 - val_accuracy: 0.5200 - lr: 0.0010\n",
      "Epoch 13/200\n",
      "426/426 [==============================] - 13s 30ms/step - loss: 1.0066 - accuracy: 0.5736 - val_loss: 1.0472 - val_accuracy: 0.5302 - lr: 0.0010\n",
      "Epoch 14/200\n",
      "426/426 [==============================] - 13s 30ms/step - loss: 1.0012 - accuracy: 0.5784 - val_loss: 1.0285 - val_accuracy: 0.5608 - lr: 0.0010\n",
      "Epoch 15/200\n",
      "426/426 [==============================] - 13s 30ms/step - loss: 0.9897 - accuracy: 0.5847 - val_loss: 0.9518 - val_accuracy: 0.5890 - lr: 0.0010\n",
      "Epoch 16/200\n",
      "426/426 [==============================] - 13s 30ms/step - loss: 0.9804 - accuracy: 0.5896 - val_loss: 1.3367 - val_accuracy: 0.4733 - lr: 0.0010\n",
      "Epoch 17/200\n",
      "426/426 [==============================] - 13s 30ms/step - loss: 0.9835 - accuracy: 0.5951 - val_loss: 1.1928 - val_accuracy: 0.5370 - lr: 0.0010\n",
      "Epoch 18/200\n",
      "426/426 [==============================] - 13s 30ms/step - loss: 0.9721 - accuracy: 0.5949 - val_loss: 0.9236 - val_accuracy: 0.5922 - lr: 0.0010\n",
      "Epoch 19/200\n",
      "426/426 [==============================] - 13s 30ms/step - loss: 0.9703 - accuracy: 0.5948 - val_loss: 0.9821 - val_accuracy: 0.5854 - lr: 0.0010\n",
      "Epoch 20/200\n",
      "426/426 [==============================] - 13s 31ms/step - loss: 0.9566 - accuracy: 0.5997 - val_loss: 1.2820 - val_accuracy: 0.5129 - lr: 0.0010\n",
      "Epoch 21/200\n",
      "426/426 [==============================] - 13s 31ms/step - loss: 0.9536 - accuracy: 0.6039 - val_loss: 1.1900 - val_accuracy: 0.5408 - lr: 0.0010\n",
      "Epoch 22/200\n",
      "426/426 [==============================] - 13s 31ms/step - loss: 0.9486 - accuracy: 0.6039 - val_loss: 0.9465 - val_accuracy: 0.5849 - lr: 0.0010\n",
      "Epoch 23/200\n",
      "426/426 [==============================] - 13s 31ms/step - loss: 0.9488 - accuracy: 0.6046 - val_loss: 1.0700 - val_accuracy: 0.5520 - lr: 0.0010\n",
      "Epoch 24/200\n",
      "426/426 [==============================] - 13s 31ms/step - loss: 0.9420 - accuracy: 0.6073 - val_loss: 0.9112 - val_accuracy: 0.6013 - lr: 0.0010\n",
      "Epoch 25/200\n",
      "426/426 [==============================] - 13s 31ms/step - loss: 0.9301 - accuracy: 0.6169 - val_loss: 1.1101 - val_accuracy: 0.5637 - lr: 0.0010\n",
      "Epoch 26/200\n",
      "426/426 [==============================] - 13s 31ms/step - loss: 0.9278 - accuracy: 0.6207 - val_loss: 1.1250 - val_accuracy: 0.5511 - lr: 0.0010\n",
      "Epoch 27/200\n",
      "426/426 [==============================] - 13s 31ms/step - loss: 0.9184 - accuracy: 0.6250 - val_loss: 0.9254 - val_accuracy: 0.5998 - lr: 0.0010\n",
      "Epoch 28/200\n",
      "426/426 [==============================] - 13s 31ms/step - loss: 0.9188 - accuracy: 0.6202 - val_loss: 1.1876 - val_accuracy: 0.5555 - lr: 0.0010\n",
      "Epoch 29/200\n",
      "426/426 [==============================] - 13s 31ms/step - loss: 0.9162 - accuracy: 0.6231 - val_loss: 0.9036 - val_accuracy: 0.6136 - lr: 0.0010\n",
      "Epoch 30/200\n",
      "426/426 [==============================] - 14s 32ms/step - loss: 0.9074 - accuracy: 0.6252 - val_loss: 1.3315 - val_accuracy: 0.5009 - lr: 0.0010\n",
      "Epoch 31/200\n",
      "426/426 [==============================] - 13s 31ms/step - loss: 0.9039 - accuracy: 0.6282 - val_loss: 1.2856 - val_accuracy: 0.5203 - lr: 0.0010\n",
      "Epoch 32/200\n",
      "426/426 [==============================] - 13s 31ms/step - loss: 0.9027 - accuracy: 0.6253 - val_loss: 0.8807 - val_accuracy: 0.6166 - lr: 0.0010\n",
      "Epoch 33/200\n",
      "426/426 [==============================] - 13s 31ms/step - loss: 0.9041 - accuracy: 0.6249 - val_loss: 0.8819 - val_accuracy: 0.6051 - lr: 0.0010\n",
      "Epoch 34/200\n",
      "426/426 [==============================] - 13s 32ms/step - loss: 0.9030 - accuracy: 0.6227 - val_loss: 1.1464 - val_accuracy: 0.5302 - lr: 0.0010\n",
      "Epoch 35/200\n",
      "426/426 [==============================] - 13s 31ms/step - loss: 0.8983 - accuracy: 0.6344 - val_loss: 0.8569 - val_accuracy: 0.6342 - lr: 0.0010\n",
      "Epoch 36/200\n",
      "426/426 [==============================] - 13s 31ms/step - loss: 0.8892 - accuracy: 0.6302 - val_loss: 1.6166 - val_accuracy: 0.4489 - lr: 0.0010\n",
      "Epoch 37/200\n",
      "426/426 [==============================] - 13s 31ms/step - loss: 0.8938 - accuracy: 0.6285 - val_loss: 0.8725 - val_accuracy: 0.6122 - lr: 0.0010\n",
      "Epoch 38/200\n",
      "426/426 [==============================] - 13s 31ms/step - loss: 0.8770 - accuracy: 0.6396 - val_loss: 0.8540 - val_accuracy: 0.6295 - lr: 0.0010\n",
      "Epoch 39/200\n",
      "426/426 [==============================] - 13s 31ms/step - loss: 0.8798 - accuracy: 0.6397 - val_loss: 1.1138 - val_accuracy: 0.5669 - lr: 0.0010\n",
      "Epoch 40/200\n",
      "426/426 [==============================] - 13s 31ms/step - loss: 0.8716 - accuracy: 0.6384 - val_loss: 0.8723 - val_accuracy: 0.6183 - lr: 0.0010\n",
      "Epoch 41/200\n",
      "426/426 [==============================] - 13s 31ms/step - loss: 0.8784 - accuracy: 0.6388 - val_loss: 1.7521 - val_accuracy: 0.4516 - lr: 0.0010\n",
      "Epoch 42/200\n",
      "426/426 [==============================] - 13s 31ms/step - loss: 0.8769 - accuracy: 0.6420 - val_loss: 0.8389 - val_accuracy: 0.6348 - lr: 0.0010\n",
      "Epoch 43/200\n",
      "426/426 [==============================] - 13s 31ms/step - loss: 0.8779 - accuracy: 0.6413 - val_loss: 0.8573 - val_accuracy: 0.6315 - lr: 0.0010\n",
      "Epoch 44/200\n",
      "426/426 [==============================] - 13s 31ms/step - loss: 0.8721 - accuracy: 0.6445 - val_loss: 0.9713 - val_accuracy: 0.5981 - lr: 0.0010\n",
      "Epoch 45/200\n",
      "426/426 [==============================] - 13s 31ms/step - loss: 0.8675 - accuracy: 0.6423 - val_loss: 0.8619 - val_accuracy: 0.6230 - lr: 0.0010\n",
      "Epoch 46/200\n",
      "426/426 [==============================] - 13s 31ms/step - loss: 0.8642 - accuracy: 0.6499 - val_loss: 1.2094 - val_accuracy: 0.5658 - lr: 0.0010\n",
      "Epoch 47/200\n",
      "426/426 [==============================] - 13s 31ms/step - loss: 0.8546 - accuracy: 0.6506 - val_loss: 1.1510 - val_accuracy: 0.5590 - lr: 0.0010\n",
      "Epoch 48/200\n",
      "426/426 [==============================] - 13s 31ms/step - loss: 0.8543 - accuracy: 0.6472 - val_loss: 0.8451 - val_accuracy: 0.6398 - lr: 0.0010\n",
      "Epoch 49/200\n",
      "426/426 [==============================] - 13s 31ms/step - loss: 0.8583 - accuracy: 0.6491 - val_loss: 0.9556 - val_accuracy: 0.5957 - lr: 0.0010\n",
      "Epoch 50/200\n",
      "426/426 [==============================] - 13s 31ms/step - loss: 0.8528 - accuracy: 0.6504 - val_loss: 1.3201 - val_accuracy: 0.5211 - lr: 0.0010\n",
      "Epoch 51/200\n",
      "426/426 [==============================] - 13s 31ms/step - loss: 0.8571 - accuracy: 0.6448 - val_loss: 1.0026 - val_accuracy: 0.5781 - lr: 0.0010\n",
      "Epoch 52/200\n",
      "426/426 [==============================] - ETA: 0s - loss: 0.8544 - accuracy: 0.6490\n",
      "Epoch 52: ReduceLROnPlateau reducing learning rate to 0.0005000000237487257.\n",
      "426/426 [==============================] - 13s 31ms/step - loss: 0.8544 - accuracy: 0.6490 - val_loss: 1.2429 - val_accuracy: 0.5229 - lr: 0.0010\n",
      "Epoch 53/200\n",
      "426/426 [==============================] - 13s 31ms/step - loss: 0.8299 - accuracy: 0.6586 - val_loss: 1.0942 - val_accuracy: 0.5816 - lr: 5.0000e-04\n",
      "Epoch 54/200\n",
      "426/426 [==============================] - 13s 31ms/step - loss: 0.8351 - accuracy: 0.6643 - val_loss: 0.9144 - val_accuracy: 0.6116 - lr: 5.0000e-04\n",
      "Epoch 55/200\n",
      "426/426 [==============================] - 13s 31ms/step - loss: 0.8315 - accuracy: 0.6580 - val_loss: 1.3848 - val_accuracy: 0.5258 - lr: 5.0000e-04\n",
      "Epoch 56/200\n",
      "426/426 [==============================] - 13s 31ms/step - loss: 0.8280 - accuracy: 0.6594 - val_loss: 1.3057 - val_accuracy: 0.5367 - lr: 5.0000e-04\n",
      "Epoch 57/200\n",
      "426/426 [==============================] - 13s 31ms/step - loss: 0.8188 - accuracy: 0.6666 - val_loss: 1.0497 - val_accuracy: 0.5851 - lr: 5.0000e-04\n",
      "Epoch 58/200\n",
      "426/426 [==============================] - 13s 31ms/step - loss: 0.8215 - accuracy: 0.6672 - val_loss: 1.3276 - val_accuracy: 0.5299 - lr: 5.0000e-04\n",
      "Epoch 59/200\n",
      "426/426 [==============================] - 13s 31ms/step - loss: 0.8208 - accuracy: 0.6619 - val_loss: 1.0365 - val_accuracy: 0.5916 - lr: 5.0000e-04\n",
      "Epoch 60/200\n",
      "426/426 [==============================] - 14s 34ms/step - loss: 0.8199 - accuracy: 0.6655 - val_loss: 1.3859 - val_accuracy: 0.5437 - lr: 5.0000e-04\n",
      "Epoch 61/200\n",
      "426/426 [==============================] - 15s 34ms/step - loss: 0.8128 - accuracy: 0.6660 - val_loss: 1.0313 - val_accuracy: 0.5966 - lr: 5.0000e-04\n",
      "Epoch 62/200\n",
      "425/426 [============================>.] - ETA: 0s - loss: 0.8126 - accuracy: 0.6663\n",
      "Epoch 62: ReduceLROnPlateau reducing learning rate to 0.0002500000118743628.\n",
      "426/426 [==============================] - 15s 35ms/step - loss: 0.8125 - accuracy: 0.6664 - val_loss: 1.2557 - val_accuracy: 0.5443 - lr: 5.0000e-04\n",
      "Epoch 63/200\n",
      "426/426 [==============================] - 15s 34ms/step - loss: 0.8128 - accuracy: 0.6647 - val_loss: 0.9568 - val_accuracy: 0.6013 - lr: 2.5000e-04\n",
      "Epoch 64/200\n",
      "426/426 [==============================] - 14s 34ms/step - loss: 0.8085 - accuracy: 0.6697 - val_loss: 1.2857 - val_accuracy: 0.5411 - lr: 2.5000e-04\n",
      "Epoch 65/200\n",
      "426/426 [==============================] - 13s 31ms/step - loss: 0.8022 - accuracy: 0.6755 - val_loss: 1.0659 - val_accuracy: 0.5769 - lr: 2.5000e-04\n",
      "Epoch 66/200\n",
      "426/426 [==============================] - 14s 32ms/step - loss: 0.8062 - accuracy: 0.6696 - val_loss: 1.0969 - val_accuracy: 0.5869 - lr: 2.5000e-04\n",
      "Epoch 67/200\n",
      "426/426 [==============================] - 17s 41ms/step - loss: 0.8068 - accuracy: 0.6666 - val_loss: 0.8933 - val_accuracy: 0.6201 - lr: 2.5000e-04\n",
      "Epoch 68/200\n",
      "426/426 [==============================] - 18s 42ms/step - loss: 0.8023 - accuracy: 0.6719 - val_loss: 1.2539 - val_accuracy: 0.5526 - lr: 2.5000e-04\n",
      "Epoch 69/200\n",
      "426/426 [==============================] - 14s 33ms/step - loss: 0.7923 - accuracy: 0.6776 - val_loss: 1.2026 - val_accuracy: 0.5611 - lr: 2.5000e-04\n",
      "Epoch 70/200\n",
      "426/426 [==============================] - 14s 33ms/step - loss: 0.7997 - accuracy: 0.6731 - val_loss: 0.9225 - val_accuracy: 0.6166 - lr: 2.5000e-04\n",
      "Epoch 71/200\n",
      "426/426 [==============================] - 14s 32ms/step - loss: 0.7956 - accuracy: 0.6755 - val_loss: 1.3511 - val_accuracy: 0.5390 - lr: 2.5000e-04\n",
      "Epoch 72/200\n",
      "424/426 [============================>.] - ETA: 0s - loss: 0.7997 - accuracy: 0.6710\n",
      "Epoch 72: ReduceLROnPlateau reducing learning rate to 0.0001250000059371814.\n",
      "426/426 [==============================] - 14s 33ms/step - loss: 0.8002 - accuracy: 0.6710 - val_loss: 0.8428 - val_accuracy: 0.6324 - lr: 2.5000e-04\n",
      "Epoch 73/200\n",
      "426/426 [==============================] - 15s 35ms/step - loss: 0.7972 - accuracy: 0.6720 - val_loss: 1.1210 - val_accuracy: 0.5740 - lr: 1.2500e-04\n",
      "Epoch 74/200\n",
      "426/426 [==============================] - 14s 33ms/step - loss: 0.7868 - accuracy: 0.6754 - val_loss: 0.9099 - val_accuracy: 0.6145 - lr: 1.2500e-04\n",
      "Epoch 75/200\n",
      "426/426 [==============================] - 14s 33ms/step - loss: 0.7908 - accuracy: 0.6749 - val_loss: 1.1018 - val_accuracy: 0.5731 - lr: 1.2500e-04\n",
      "Epoch 76/200\n",
      "426/426 [==============================] - 14s 33ms/step - loss: 0.7846 - accuracy: 0.6767 - val_loss: 1.0348 - val_accuracy: 0.5881 - lr: 1.2500e-04\n",
      "Epoch 77/200\n",
      "426/426 [==============================] - 14s 33ms/step - loss: 0.7951 - accuracy: 0.6753 - val_loss: 0.9280 - val_accuracy: 0.6154 - lr: 1.2500e-04\n",
      "Epoch 78/200\n",
      "426/426 [==============================] - 14s 33ms/step - loss: 0.7860 - accuracy: 0.6811 - val_loss: 1.1524 - val_accuracy: 0.5675 - lr: 1.2500e-04\n",
      "Epoch 79/200\n",
      "426/426 [==============================] - 14s 33ms/step - loss: 0.7875 - accuracy: 0.6795 - val_loss: 1.0832 - val_accuracy: 0.5813 - lr: 1.2500e-04\n",
      "Epoch 80/200\n",
      "426/426 [==============================] - 14s 33ms/step - loss: 0.7923 - accuracy: 0.6774 - val_loss: 1.0815 - val_accuracy: 0.5834 - lr: 1.2500e-04\n",
      "Epoch 81/200\n",
      "426/426 [==============================] - 14s 33ms/step - loss: 0.7837 - accuracy: 0.6790 - val_loss: 1.0774 - val_accuracy: 0.5819 - lr: 1.2500e-04\n",
      "Epoch 82/200\n",
      "425/426 [============================>.] - ETA: 0s - loss: 0.7824 - accuracy: 0.6824\n",
      "Epoch 82: ReduceLROnPlateau reducing learning rate to 6.25000029685907e-05.\n",
      "426/426 [==============================] - 14s 33ms/step - loss: 0.7825 - accuracy: 0.6824 - val_loss: 0.8892 - val_accuracy: 0.6239 - lr: 1.2500e-04\n"
     ]
    }
   ],
   "source": [
    "modelCRNN=tf.keras.Sequential()\n",
    "modelCRNN.add(BatchNormalization(input_shape=(128,8,1)))\n",
    "modelCRNN.add(Conv2D(filters=8,kernel_size=(2,2),strides=(1,1),padding='SAME', use_bias=False, name='conv_1'))\n",
    "modelCRNN.add(BatchNormalization())\n",
    "modelCRNN.add(Activation('relu'))\n",
    "#modelCRNN.add(MaxPooling2D(2,2))\n",
    "modelCRNN.add(Conv2D(filters=16,kernel_size=(4,4),strides=(2,1), use_bias=False,\n",
    "                         padding='SAME', name='conv_2'))\n",
    "modelCRNN.add(BatchNormalization())\n",
    "modelCRNN.add(Activation('relu'))\n",
    "modelCRNN.add(Dropout(0.3))\n",
    "modelCRNN.add(Conv2D(filters=32,kernel_size=(4,4),strides=(4,1), use_bias=False,\n",
    "                         padding='SAME', name='conv_3'))\n",
    "modelCRNN.add(BatchNormalization())\n",
    "modelCRNN.add(Activation('relu'))\n",
    "modelCRNN.add(MaxPooling2D((12,1)))\n",
    "modelCRNN.add(Dropout(0.3))\n",
    "#modelCRNN.add(Flatten())\n",
    "modelCRNN.add(Reshape((8,32),input_shape=(1,8,32)))\n",
    "modelCRNN.add(GRU(32, input_shape=(1,8,32)))\n",
    "modelCRNN.add(Dense(64, activation='relu', name='dense_3'))\n",
    "modelCRNN.add(Dropout(0.5))\n",
    "modelCRNN.add(Dense(4, activation='softmax', name='dense_4'))\n",
    "\n",
    "\n",
    "optimizer= tf.keras.optimizers.Adam()\n",
    "modelCRNN.compile(loss='categorical_crossentropy',optimizer=optimizer,metrics=['accuracy'])\n",
    "\n",
    "reduceLR = tf.keras.callbacks.ReduceLROnPlateau(monitor='val_loss', factor=0.5,\n",
    "                                 verbose=1, patience=10, mode='auto')\n",
    "early = tf.keras.callbacks.EarlyStopping(monitor='val_loss', min_delta=1e-3,\n",
    "                          patience=40, mode='auto', restore_best_weights=True)\n",
    "modelCRNN.build(input_shape=(None,128,8,1))\n",
    "modelCRNN.summary()\n",
    "history = modelCRNN.fit(train_feats, range_train_targs_oh,\n",
    "                      epochs=200,\n",
    "                      batch_size=32,\n",
    "                      class_weight=range_weights,\n",
    "                      shuffle=True,\n",
    "                      validation_split=0.2,\n",
    "                      callbacks=[reduceLR, early])"
   ],
   "metadata": {
    "collapsed": false,
    "pycharm": {
     "name": "#%%\n"
    }
   }
  },
  {
   "cell_type": "code",
   "execution_count": 657,
   "outputs": [],
   "source": [
    "MLtools.save_model(modelCRNN,\"localization_CRNN_083122\")"
   ],
   "metadata": {
    "collapsed": false,
    "pycharm": {
     "name": "#%%\n"
    }
   }
  },
  {
   "cell_type": "markdown",
   "source": [
    "# 1DCNN with Raw inputs"
   ],
   "metadata": {
    "collapsed": false,
    "pycharm": {
     "name": "#%% md\n"
    }
   }
  },
  {
   "cell_type": "code",
   "execution_count": 600,
   "outputs": [
    {
     "ename": "ValueError",
     "evalue": "operands could not be broadcast together with shapes (4837,4000) (4000,1) (4837,4000) ",
     "output_type": "error",
     "traceback": [
      "\u001B[1;31m---------------------------------------------------------------------------\u001B[0m",
      "\u001B[1;31mValueError\u001B[0m                                Traceback (most recent call last)",
      "Input \u001B[1;32mIn [600]\u001B[0m, in \u001B[0;36m<cell line: 3>\u001B[1;34m()\u001B[0m\n\u001B[0;32m      1\u001B[0m mean \u001B[38;5;241m=\u001B[39m train_feats_raw\u001B[38;5;241m.\u001B[39mmean(axis\u001B[38;5;241m=\u001B[39m\u001B[38;5;241m0\u001B[39m)\n\u001B[0;32m      2\u001B[0m train_feats_raw \u001B[38;5;241m-\u001B[39m\u001B[38;5;241m=\u001B[39m mean\n\u001B[1;32m----> 3\u001B[0m test_feats_raw \u001B[38;5;241m-\u001B[39m\u001B[38;5;241m=\u001B[39m mean\n\u001B[0;32m      4\u001B[0m std \u001B[38;5;241m=\u001B[39m train_feats_raw\u001B[38;5;241m.\u001B[39mstd(axis\u001B[38;5;241m=\u001B[39m\u001B[38;5;241m0\u001B[39m)\n\u001B[0;32m      5\u001B[0m train_feats_raw \u001B[38;5;241m/\u001B[39m\u001B[38;5;241m=\u001B[39m std\n",
      "\u001B[1;31mValueError\u001B[0m: operands could not be broadcast together with shapes (4837,4000) (4000,1) (4837,4000) "
     ]
    }
   ],
   "source": [
    "mean = train_feats_raw.mean(axis=0)\n",
    "train_feats_raw -= mean\n",
    "test_feats_raw -= mean\n",
    "std = train_feats_raw.std(axis=0)\n",
    "train_feats_raw /= std\n",
    "test_feats_raw /= std\n",
    "#train_feats_raw=np.reshape(train_feats_raw, (len(train_feats_raw), 4000, 1))\n",
    "print(len(train_feats_raw))"
   ],
   "metadata": {
    "collapsed": false,
    "pycharm": {
     "name": "#%%\n"
    }
   }
  },
  {
   "cell_type": "code",
   "execution_count": 655,
   "outputs": [
    {
     "name": "stdout",
     "output_type": "stream",
     "text": [
      "Model: \"sequential_208\"\n",
      "_________________________________________________________________\n",
      " Layer (type)                Output Shape              Param #   \n",
      "=================================================================\n",
      " conv1d_8 (Conv1D)           (None, 1000, 64)          5184      \n",
      "                                                                 \n",
      " batch_normalization_650 (Ba  (None, 1000, 64)         256       \n",
      " tchNormalization)                                               \n",
      "                                                                 \n",
      " activation_418 (Activation)  (None, 1000, 64)         0         \n",
      "                                                                 \n",
      " max_pooling1d_19 (MaxPoolin  (None, 250, 64)          0         \n",
      " g1D)                                                            \n",
      "                                                                 \n",
      " conv1d_9 (Conv1D)           (None, 125, 64)           12352     \n",
      "                                                                 \n",
      " batch_normalization_651 (Ba  (None, 125, 64)          256       \n",
      " tchNormalization)                                               \n",
      "                                                                 \n",
      " activation_419 (Activation)  (None, 125, 64)          0         \n",
      "                                                                 \n",
      " max_pooling1d_20 (MaxPoolin  (None, 31, 64)           0         \n",
      " g1D)                                                            \n",
      "                                                                 \n",
      " dropout_402 (Dropout)       (None, 31, 64)            0         \n",
      "                                                                 \n",
      " conv1d_10 (Conv1D)          (None, 31, 128)           24704     \n",
      "                                                                 \n",
      " batch_normalization_652 (Ba  (None, 31, 128)          512       \n",
      " tchNormalization)                                               \n",
      "                                                                 \n",
      " activation_420 (Activation)  (None, 31, 128)          0         \n",
      "                                                                 \n",
      " max_pooling1d_21 (MaxPoolin  (None, 7, 128)           0         \n",
      " g1D)                                                            \n",
      "                                                                 \n",
      " conv1d_11 (Conv1D)          (None, 7, 256)            98560     \n",
      "                                                                 \n",
      " batch_normalization_653 (Ba  (None, 7, 256)           1024      \n",
      " tchNormalization)                                               \n",
      "                                                                 \n",
      " activation_421 (Activation)  (None, 7, 256)           0         \n",
      "                                                                 \n",
      " max_pooling1d_22 (MaxPoolin  (None, 3, 256)           0         \n",
      " g1D)                                                            \n",
      "                                                                 \n",
      " lambda_2 (Lambda)           (None, 256)               0         \n",
      "                                                                 \n",
      " dense_27 (Dense)            (None, 4)                 1028      \n",
      "                                                                 \n",
      "=================================================================\n",
      "Total params: 143,876\n",
      "Trainable params: 142,852\n",
      "Non-trainable params: 1,024\n",
      "_________________________________________________________________\n",
      "Epoch 1/200\n",
      "484/484 [==============================] - 115s 229ms/step - loss: 1.2358 - accuracy: 0.4849 - val_loss: 1.2093 - val_accuracy: 0.5062 - lr: 0.0010\n",
      "Epoch 2/200\n",
      "484/484 [==============================] - 109s 225ms/step - loss: 1.1380 - accuracy: 0.5239 - val_loss: 1.1155 - val_accuracy: 0.5372 - lr: 0.0010\n",
      "Epoch 3/200\n",
      "484/484 [==============================] - 105s 217ms/step - loss: 1.0983 - accuracy: 0.5451 - val_loss: 1.2349 - val_accuracy: 0.4708 - lr: 0.0010\n",
      "Epoch 4/200\n",
      "484/484 [==============================] - 105s 218ms/step - loss: 1.0646 - accuracy: 0.5585 - val_loss: 1.0731 - val_accuracy: 0.5432 - lr: 0.0010\n",
      "Epoch 5/200\n",
      "484/484 [==============================] - 106s 220ms/step - loss: 1.0360 - accuracy: 0.5754 - val_loss: 1.1011 - val_accuracy: 0.5359 - lr: 0.0010\n",
      "Epoch 6/200\n",
      "484/484 [==============================] - 111s 229ms/step - loss: 1.0178 - accuracy: 0.5839 - val_loss: 1.0821 - val_accuracy: 0.5284 - lr: 0.0010\n",
      "Epoch 7/200\n",
      "484/484 [==============================] - 119s 245ms/step - loss: 0.9956 - accuracy: 0.5943 - val_loss: 1.0523 - val_accuracy: 0.5548 - lr: 0.0010\n",
      "Epoch 8/200\n",
      "484/484 [==============================] - 115s 238ms/step - loss: 0.9764 - accuracy: 0.6027 - val_loss: 0.9688 - val_accuracy: 0.5897 - lr: 0.0010\n",
      "Epoch 9/200\n",
      "484/484 [==============================] - 113s 234ms/step - loss: 0.9588 - accuracy: 0.6135 - val_loss: 0.9911 - val_accuracy: 0.5786 - lr: 0.0010\n",
      "Epoch 10/200\n",
      "484/484 [==============================] - 122s 253ms/step - loss: 0.9440 - accuracy: 0.6208 - val_loss: 0.9848 - val_accuracy: 0.5979 - lr: 0.0010\n",
      "Epoch 11/200\n",
      "484/484 [==============================] - 115s 237ms/step - loss: 0.9272 - accuracy: 0.6271 - val_loss: 1.1651 - val_accuracy: 0.5251 - lr: 0.0010\n",
      "Epoch 12/200\n",
      "484/484 [==============================] - 123s 255ms/step - loss: 0.9109 - accuracy: 0.6368 - val_loss: 1.0213 - val_accuracy: 0.5749 - lr: 0.0010\n",
      "Epoch 13/200\n",
      "484/484 [==============================] - 132s 274ms/step - loss: 0.8961 - accuracy: 0.6398 - val_loss: 0.9937 - val_accuracy: 0.5884 - lr: 0.0010\n",
      "Epoch 14/200\n",
      "484/484 [==============================] - 134s 277ms/step - loss: 0.8904 - accuracy: 0.6389 - val_loss: 1.3063 - val_accuracy: 0.4917 - lr: 0.0010\n",
      "Epoch 15/200\n",
      "484/484 [==============================] - 106s 219ms/step - loss: 0.8716 - accuracy: 0.6544 - val_loss: 0.9547 - val_accuracy: 0.6168 - lr: 0.0010\n",
      "Epoch 16/200\n",
      "484/484 [==============================] - 106s 220ms/step - loss: 0.8573 - accuracy: 0.6568 - val_loss: 0.9869 - val_accuracy: 0.6031 - lr: 0.0010\n",
      "Epoch 17/200\n",
      "484/484 [==============================] - 106s 220ms/step - loss: 0.8468 - accuracy: 0.6586 - val_loss: 1.0151 - val_accuracy: 0.5946 - lr: 0.0010\n",
      "Epoch 18/200\n",
      "484/484 [==============================] - 108s 223ms/step - loss: 0.8404 - accuracy: 0.6650 - val_loss: 0.9991 - val_accuracy: 0.5899 - lr: 0.0010\n",
      "Epoch 19/200\n",
      "484/484 [==============================] - 106s 219ms/step - loss: 0.8187 - accuracy: 0.6772 - val_loss: 1.1352 - val_accuracy: 0.5475 - lr: 0.0010\n",
      "Epoch 20/200\n",
      "484/484 [==============================] - 106s 218ms/step - loss: 0.8131 - accuracy: 0.6805 - val_loss: 1.0553 - val_accuracy: 0.5964 - lr: 0.0010\n",
      "Epoch 21/200\n",
      "484/484 [==============================] - 105s 218ms/step - loss: 0.7959 - accuracy: 0.6873 - val_loss: 1.1875 - val_accuracy: 0.5530 - lr: 0.0010\n",
      "Epoch 22/200\n",
      "484/484 [==============================] - 107s 221ms/step - loss: 0.7861 - accuracy: 0.6873 - val_loss: 0.9671 - val_accuracy: 0.6181 - lr: 0.0010\n",
      "Epoch 23/200\n",
      "484/484 [==============================] - 106s 219ms/step - loss: 0.7677 - accuracy: 0.6970 - val_loss: 0.9863 - val_accuracy: 0.5982 - lr: 0.0010\n",
      "Epoch 24/200\n",
      "484/484 [==============================] - 107s 220ms/step - loss: 0.7570 - accuracy: 0.7039 - val_loss: 1.2251 - val_accuracy: 0.5829 - lr: 0.0010\n",
      "Epoch 25/200\n",
      "484/484 [==============================] - 254s 525ms/step - loss: 0.7453 - accuracy: 0.7096 - val_loss: 1.0630 - val_accuracy: 0.5995 - lr: 0.0010\n",
      "Epoch 26/200\n",
      "484/484 [==============================] - 266s 550ms/step - loss: 0.7362 - accuracy: 0.7098 - val_loss: 1.1115 - val_accuracy: 0.5928 - lr: 0.0010\n",
      "Epoch 27/200\n",
      "484/484 [==============================] - 223s 461ms/step - loss: 0.7156 - accuracy: 0.7165 - val_loss: 1.0295 - val_accuracy: 0.5951 - lr: 0.0010\n",
      "Epoch 28/200\n",
      "484/484 [==============================] - 139s 287ms/step - loss: 0.7095 - accuracy: 0.7205 - val_loss: 1.1156 - val_accuracy: 0.5891 - lr: 0.0010\n",
      "Epoch 29/200\n",
      "484/484 [==============================] - 141s 290ms/step - loss: 0.6980 - accuracy: 0.7292 - val_loss: 1.0259 - val_accuracy: 0.6067 - lr: 0.0010\n",
      "Epoch 30/200\n",
      "484/484 [==============================] - 124s 257ms/step - loss: 0.6830 - accuracy: 0.7368 - val_loss: 1.1366 - val_accuracy: 0.5894 - lr: 0.0010\n",
      "Epoch 31/200\n",
      "484/484 [==============================] - 101s 209ms/step - loss: 0.6774 - accuracy: 0.7370 - val_loss: 1.0523 - val_accuracy: 0.6103 - lr: 0.0010\n",
      "Epoch 32/200\n",
      "484/484 [==============================] - 92s 190ms/step - loss: 0.6470 - accuracy: 0.7493 - val_loss: 1.1273 - val_accuracy: 0.5912 - lr: 0.0010\n",
      "Epoch 33/200\n",
      "484/484 [==============================] - 95s 196ms/step - loss: 0.6371 - accuracy: 0.7544 - val_loss: 1.1628 - val_accuracy: 0.5773 - lr: 0.0010\n",
      "Epoch 34/200\n",
      "484/484 [==============================] - 96s 199ms/step - loss: 0.6320 - accuracy: 0.7536 - val_loss: 1.1682 - val_accuracy: 0.5902 - lr: 0.0010\n",
      "Epoch 35/200\n",
      "484/484 [==============================] - ETA: 0s - loss: 0.6239 - accuracy: 0.7582\n",
      "Epoch 35: ReduceLROnPlateau reducing learning rate to 0.0005000000237487257.\n",
      "484/484 [==============================] - 97s 200ms/step - loss: 0.6239 - accuracy: 0.7582 - val_loss: 1.2177 - val_accuracy: 0.5956 - lr: 0.0010\n",
      "Epoch 36/200\n",
      "484/484 [==============================] - 99s 206ms/step - loss: 0.5572 - accuracy: 0.7870 - val_loss: 1.0023 - val_accuracy: 0.6276 - lr: 5.0000e-04\n",
      "Epoch 37/200\n",
      "484/484 [==============================] - 97s 201ms/step - loss: 0.5357 - accuracy: 0.7998 - val_loss: 1.0147 - val_accuracy: 0.6287 - lr: 5.0000e-04\n",
      "Epoch 38/200\n",
      "484/484 [==============================] - 97s 200ms/step - loss: 0.5293 - accuracy: 0.8010 - val_loss: 1.0526 - val_accuracy: 0.6258 - lr: 5.0000e-04\n",
      "Epoch 39/200\n",
      "484/484 [==============================] - 103s 213ms/step - loss: 0.5207 - accuracy: 0.8047 - val_loss: 1.0775 - val_accuracy: 0.6212 - lr: 5.0000e-04\n",
      "Epoch 40/200\n",
      "484/484 [==============================] - 98s 202ms/step - loss: 0.5117 - accuracy: 0.8096 - val_loss: 1.0765 - val_accuracy: 0.6140 - lr: 5.0000e-04\n",
      "Epoch 41/200\n",
      "484/484 [==============================] - 106s 219ms/step - loss: 0.4966 - accuracy: 0.8106 - val_loss: 1.1461 - val_accuracy: 0.6207 - lr: 5.0000e-04\n",
      "Epoch 42/200\n",
      "484/484 [==============================] - 101s 208ms/step - loss: 0.5006 - accuracy: 0.8108 - val_loss: 1.1313 - val_accuracy: 0.6090 - lr: 5.0000e-04\n",
      "Epoch 43/200\n",
      "484/484 [==============================] - 97s 201ms/step - loss: 0.4767 - accuracy: 0.8189 - val_loss: 1.1213 - val_accuracy: 0.6165 - lr: 5.0000e-04\n",
      "Epoch 44/200\n",
      "484/484 [==============================] - 99s 205ms/step - loss: 0.4854 - accuracy: 0.8158 - val_loss: 1.0856 - val_accuracy: 0.6191 - lr: 5.0000e-04\n",
      "Epoch 45/200\n",
      "484/484 [==============================] - 99s 204ms/step - loss: 0.4682 - accuracy: 0.8248 - val_loss: 1.1847 - val_accuracy: 0.5961 - lr: 5.0000e-04\n",
      "Epoch 46/200\n",
      "484/484 [==============================] - 108s 224ms/step - loss: 0.4600 - accuracy: 0.8277 - val_loss: 1.1588 - val_accuracy: 0.6121 - lr: 5.0000e-04\n",
      "Epoch 47/200\n",
      "484/484 [==============================] - 120s 248ms/step - loss: 0.4594 - accuracy: 0.8306 - val_loss: 1.1780 - val_accuracy: 0.6145 - lr: 5.0000e-04\n",
      "Epoch 48/200\n",
      "484/484 [==============================] - 109s 224ms/step - loss: 0.4530 - accuracy: 0.8328 - val_loss: 1.3381 - val_accuracy: 0.5873 - lr: 5.0000e-04\n",
      "Epoch 49/200\n",
      "484/484 [==============================] - 101s 208ms/step - loss: 0.4457 - accuracy: 0.8317 - val_loss: 1.1919 - val_accuracy: 0.6191 - lr: 5.0000e-04\n",
      "Epoch 50/200\n",
      "484/484 [==============================] - 98s 203ms/step - loss: 0.4349 - accuracy: 0.8391 - val_loss: 1.1231 - val_accuracy: 0.6377 - lr: 5.0000e-04\n",
      "Epoch 51/200\n",
      "484/484 [==============================] - 98s 203ms/step - loss: 0.4303 - accuracy: 0.8419 - val_loss: 1.2240 - val_accuracy: 0.6264 - lr: 5.0000e-04\n",
      "Epoch 52/200\n",
      "484/484 [==============================] - 97s 200ms/step - loss: 0.4241 - accuracy: 0.8427 - val_loss: 1.2976 - val_accuracy: 0.6003 - lr: 5.0000e-04\n",
      "Epoch 53/200\n",
      "484/484 [==============================] - 98s 202ms/step - loss: 0.4208 - accuracy: 0.8403 - val_loss: 1.1604 - val_accuracy: 0.6227 - lr: 5.0000e-04\n",
      "Epoch 54/200\n",
      "484/484 [==============================] - 98s 204ms/step - loss: 0.4196 - accuracy: 0.8424 - val_loss: 1.2550 - val_accuracy: 0.5990 - lr: 5.0000e-04\n",
      "Epoch 55/200\n",
      "484/484 [==============================] - ETA: 0s - loss: 0.4099 - accuracy: 0.8472\n",
      "Epoch 55: ReduceLROnPlateau reducing learning rate to 0.0002500000118743628.\n",
      "484/484 [==============================] - 98s 203ms/step - loss: 0.4099 - accuracy: 0.8472 - val_loss: 1.2410 - val_accuracy: 0.6163 - lr: 5.0000e-04\n"
     ]
    }
   ],
   "source": [
    "modelRaw=tf.keras.Sequential()\n",
    "# This is actually >7 layers with the dilation and residual blocks\n",
    "#modelRaw.add(TCN( nb_filters = 16, kernel_size=20, dilations=[1,8,32,64], name='tcn', input_shape=(4000,1)))\n",
    "modelRaw.add(Conv1D(64,input_shape=[4000, 1],kernel_size=80,strides=4,padding='same'))\n",
    "modelRaw.add(BatchNormalization())\n",
    "modelRaw.add(Activation('relu'))\n",
    "modelRaw.add(MaxPooling1D(pool_size=4, strides=None))\n",
    "modelRaw.add(Conv1D(64,kernel_size=3,strides=2,padding='same'))\n",
    "modelRaw.add(BatchNormalization())\n",
    "modelRaw.add(Activation('relu'))\n",
    "modelRaw.add(MaxPooling1D(pool_size=4, strides=None))\n",
    "modelRaw.add(Dropout(0.3))\n",
    "modelRaw.add(Conv1D(128,kernel_size=3,strides=1,padding='same'))\n",
    "modelRaw.add(BatchNormalization())\n",
    "modelRaw.add(Activation('relu'))\n",
    "modelRaw.add(MaxPooling1D(pool_size=4, strides=None))\n",
    "modelRaw.add(Conv1D(256, kernel_size=3,strides=1,padding='same'))\n",
    "modelRaw.add(BatchNormalization())\n",
    "modelRaw.add(Activation('relu'))\n",
    "modelRaw.add(MaxPooling1D(pool_size=2, strides=None))\n",
    "modelRaw.add(Lambda(lambda x: K.mean(x, axis=1)))  # Same as GAP for 1D Conv Layer\n",
    "modelRaw.add(Dense(4, activation='softmax'))\n",
    "# modelRaw.add(Conv1D(16, kernel_size=20, padding = 'causal', dilation_rate=32, activation = 'relu', name='Conv5'))\n",
    "# modelRaw.add(Conv1D(16, kernel_size=20, padding = 'causal', dilation_rate=64, activation = 'relu', name='Conv6'))\n",
    "optimizer= tf.keras.optimizers.Adam()\n",
    "modelRaw.compile(loss='categorical_crossentropy',optimizer=optimizer,metrics=['accuracy'])\n",
    "reduceLR = tf.keras.callbacks.ReduceLROnPlateau(monitor='val_loss', factor=0.5,\n",
    "                                 verbose=1, patience=20, mode='auto')\n",
    "early = tf.keras.callbacks.EarlyStopping(monitor='val_loss', min_delta=1e-4,\n",
    "                          patience=40, mode='auto', restore_best_weights=True)\n",
    "modelRaw.build(input_shape=(None,4000,1))\n",
    "modelRaw.summary()\n",
    "history = modelRaw.fit(train_feats_raw, range_train_targs_oh_raw,\n",
    "                      epochs=200,\n",
    "                      batch_size=32,\n",
    "                      shuffle=True,\n",
    "                      class_weight=range_weights,\n",
    "                      validation_split=0.2,\n",
    "                      callbacks=[reduceLR, early])"
   ],
   "metadata": {
    "collapsed": false,
    "pycharm": {
     "name": "#%%\n"
    }
   }
  },
  {
   "cell_type": "code",
   "execution_count": 455,
   "outputs": [
    {
     "name": "stdout",
     "output_type": "stream",
     "text": [
      "152/152 [==============================] - 11s 55ms/step\n",
      "152/152 [==============================] - 11s 62ms/step - loss: 0.9310 - accuracy: 0.6190\n"
     ]
    },
    {
     "data": {
      "text/plain": "[0.9309757947921753, 0.6189786791801453]"
     },
     "execution_count": 455,
     "metadata": {},
     "output_type": "execute_result"
    }
   ],
   "source": [
    "test_feasts_rs=np.reshape(test_feats, (len(test_feats), 4000, 1))\n",
    "score = modelRaw.predict(test_feasts_rs)\n",
    "modelRaw.evaluate(test_feasts_rs,range_test_targs_oh)"
   ],
   "metadata": {
    "collapsed": false,
    "pycharm": {
     "name": "#%%\n"
    }
   }
  },
  {
   "cell_type": "code",
   "execution_count": 457,
   "outputs": [
    {
     "name": "stdout",
     "output_type": "stream",
     "text": [
      "              precision    recall  f1-score   support\n",
      "\n",
      "           0       0.75      0.68      0.72      1522\n",
      "           1       0.44      0.53      0.48       876\n",
      "           2       0.54      0.47      0.51      1032\n",
      "           3       0.67      0.71      0.69      1407\n",
      "\n",
      "    accuracy                           0.62      4837\n",
      "   macro avg       0.60      0.60      0.60      4837\n",
      "weighted avg       0.63      0.62      0.62      4837\n",
      "\n"
     ]
    },
    {
     "data": {
      "text/plain": "<Figure size 360x360 with 2 Axes>",
      "image/png": "[encoded data removed]"
     },
     "metadata": {
      "needs_background": "light"
     },
     "output_type": "display_data"
    }
   ],
   "source": [
    "from sklearn.metrics import confusion_matrix\n",
    "y_pred = np.argmax(score,axis=-1)\n",
    "y_true=np.argmax(range_test_targs_oh, axis=-1)\n",
    "cm = confusion_matrix(y_true, y_pred)\n",
    "## Get Class Labels\n",
    "class_names = [\"<40\",\"40-60\",\"60-80\",\">80\"]\n",
    "#class_names = [\"<30\", \"40\",\"50\",\"60\",\"70\",\"80\",\"80+\"]\n",
    "# Plot confusion matrix in a beautiful manner\n",
    "fig = plt.figure(figsize=(5, 5))\n",
    "ax= plt.subplot()\n",
    "sns.heatmap(cm, annot=True, ax = ax, fmt = 'g'); #annot=True to annotate cells\n",
    "# labels, title and ticks\n",
    "ax.set_xlabel('Predicted', fontsize=20)\n",
    "ax.xaxis.set_label_position('bottom')\n",
    "plt.xticks(rotation=90)\n",
    "ax.xaxis.set_ticklabels(class_names, fontsize = 10)\n",
    "ax.xaxis.tick_bottom()\n",
    "\n",
    "ax.set_ylabel('True', fontsize=20)\n",
    "ax.yaxis.set_ticklabels(class_names, fontsize = 10)\n",
    "plt.yticks(rotation=0)\n",
    "\n",
    "plt.title('CRNN 1D Classification Combined Confusion Matrix', fontsize=20)\n",
    "print(classification_report(y_true=y_true,y_pred=y_pred)) #this is using the multi-output regression/classification\n"
   ],
   "metadata": {
    "collapsed": false,
    "pycharm": {
     "name": "#%%\n"
    }
   }
  }
 ],
 "metadata": {
  "kernelspec": {
   "display_name": "Python 3",
   "language": "python",
   "name": "python3"
  },
  "language_info": {
   "codemirror_mode": {
    "name": "ipython",
    "version": 2
   },
   "file_extension": ".py",
   "mimetype": "text/x-python",
   "name": "python",
   "nbconvert_exporter": "python",
   "pygments_lexer": "ipython2",
   "version": "2.7.6"
  }
 },
 "nbformat": 4,
 "nbformat_minor": 0
}