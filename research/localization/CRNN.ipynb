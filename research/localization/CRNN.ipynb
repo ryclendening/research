{
 "cells": [
  {
   "cell_type": "code",
   "execution_count": 13,
   "metadata": {
    "collapsed": true,
    "pycharm": {
     "name": "#%%\n"
    }
   },
   "outputs": [],
   "source": [
    "import librosa\n",
    "import pandas as pd\n",
    "from librosa.effects import pitch_shift\n",
    "import os\n",
    "from sklearn.metrics import classification_report\n",
    "import pathlib\n",
    "import random\n",
    "from sklearn.preprocessing import StandardScaler\n",
    "import matplotlib.pyplot as plt\n",
    "import numpy as np\n",
    "import seaborn as sns\n",
    "from librosa.feature import mfcc, melspectrogram\n",
    "import scipy.io.wavfile as wav\n",
    "import tensorflow as tf\n",
    "import scipy.signal as signal\n",
    "import keras\n",
    "from sklearn.model_selection import train_test_split\n",
    "from keras.models import Model\n",
    "from research.dataImporting import MLtools\n",
    "from keras.optimizers import adam_v2\n",
    "from keras.layers import Input, Conv1D, Conv2D, SeparableConv1D, MaxPooling1D,MaxPooling2D, Flatten, Dense, Dropout, \\\n",
    "    BatchNormalization, Activation, LSTM, Lambda, Reshape, GRU\n",
    "from keras.callbacks import EarlyStopping, ModelCheckpoint, ReduceLROnPlateau\n",
    "from sklearn.model_selection import train_test_split\n",
    "from keras.utils.np_utils import to_categorical\n",
    "from research.dataImporting import dataTools\n",
    "import keras.backend as K\n",
    "from tcn import TCN\n",
    "from keras import regularizers"
   ]
  },
  {
   "cell_type": "markdown",
   "source": [
    "# Import data"
   ],
   "metadata": {
    "collapsed": false,
    "pycharm": {
     "name": "#%% md\n"
    }
   }
  },
  {
   "cell_type": "code",
   "execution_count": 1,
   "outputs": [
    {
     "ename": "NameError",
     "evalue": "name 'pd' is not defined",
     "output_type": "error",
     "traceback": [
      "\u001B[1;31m---------------------------------------------------------------------------\u001B[0m",
      "\u001B[1;31mNameError\u001B[0m                                 Traceback (most recent call last)",
      "Input \u001B[1;32mIn [1]\u001B[0m, in \u001B[0;36m<cell line: 1>\u001B[1;34m()\u001B[0m\n\u001B[1;32m----> 1\u001B[0m training_df_raw\u001B[38;5;241m=\u001B[39m\u001B[43mpd\u001B[49m\u001B[38;5;241m.\u001B[39mread_csv(\u001B[38;5;124m\"\u001B[39m\u001B[38;5;124m./range_models/0.5s_raw_range_A1_A2_A3_no_overlap.csv\u001B[39m\u001B[38;5;124m\"\u001B[39m)\n",
      "\u001B[1;31mNameError\u001B[0m: name 'pd' is not defined"
     ]
    }
   ],
   "source": [
    "training_df_raw=pd.read_csv(\"0.5s_raw_range_A1_A2_A3_no_overlap.csv\")\n",
    "#training_df=pd.read_csv(\"0.5s_spec_range_A1_A2_A3_no_overlap.csv\")"
   ],
   "metadata": {
    "collapsed": false,
    "pycharm": {
     "name": "#%%\n"
    }
   }
  },
  {
   "cell_type": "markdown",
   "source": [
    "#  Range Estimation dataset creation"
   ],
   "metadata": {
    "collapsed": false,
    "pycharm": {
     "name": "#%% md\n"
    }
   }
  },
  {
   "cell_type": "code",
   "execution_count": 308,
   "outputs": [
    {
     "name": "stderr",
     "output_type": "stream",
     "text": [
      "Error evaluating: thread_id: pid_13972_id_2022270067136\n",
      "frame_id: 2025208993584\n",
      "scope: FRAME\n",
      "attrs: training_df_raw\n",
      "Traceback (most recent call last):\n",
      "  File \"C:\\Program Files\\JetBrains\\PyCharm 2021.3.2\\plugins\\python\\helpers\\pydev\\_pydevd_bundle\\pydevd_vars.py\", line 314, in resolve_compound_variable_fields\n",
      "    return _typeName, _resolve_default_variable_fields(var, resolver, offset)\n",
      "  File \"C:\\Program Files\\JetBrains\\PyCharm 2021.3.2\\plugins\\python\\helpers\\pydev\\_pydevd_bundle\\pydevd_vars.py\", line 264, in _resolve_default_variable_fields\n",
      "    return resolver.get_dictionary(VariableWithOffset(var, offset) if offset else var)\n",
      "  File \"C:\\Program Files\\JetBrains\\PyCharm 2021.3.2\\plugins\\python\\helpers\\pydev\\_pydevd_bundle\\pydevd_resolver.py\", line 86, in get_dictionary\n",
      "    return self._getPyDictionary(var, names)\n",
      "  File \"C:\\Program Files\\JetBrains\\PyCharm 2021.3.2\\plugins\\python\\helpers\\pydev\\_pydevd_bundle\\pydevd_resolver.py\", line 195, in _getPyDictionary\n",
      "    d[ n ] = attr\n",
      "KeyboardInterrupt\n",
      "Traceback (most recent call last):\n",
      "  File \"C:\\Program Files\\JetBrains\\PyCharm 2021.3.2\\plugins\\python\\helpers\\pydev\\_pydevd_bundle\\pydevd_comm.py\", line 293, in _on_run\n",
      "    r = self.sock.recv(1024)\n",
      "ConnectionAbortedError: [WinError 10053] An established connection was aborted by the software in your host machine\n"
     ]
    },
    {
     "ename": "NameError",
     "evalue": "name 'training_df' is not defined",
     "output_type": "error",
     "traceback": [
      "\u001B[1;31m---------------------------------------------------------------------------\u001B[0m",
      "\u001B[1;31mNameError\u001B[0m                                 Traceback (most recent call last)",
      "Input \u001B[1;32mIn [308]\u001B[0m, in \u001B[0;36m<cell line: 21>\u001B[1;34m()\u001B[0m\n\u001B[0;32m     28\u001B[0m drone_gps_file\u001B[38;5;241m=\u001B[39mrow[\u001B[38;5;241m5\u001B[39m]\n\u001B[0;32m     29\u001B[0m full_name\u001B[38;5;241m=\u001B[39m(\u001B[38;5;28mstr\u001B[39m(scenario) \u001B[38;5;241m+\u001B[39m \u001B[38;5;124m'\u001B[39m\u001B[38;5;124mR\u001B[39m\u001B[38;5;124m'\u001B[39m \u001B[38;5;241m+\u001B[39m \u001B[38;5;28mstr\u001B[39m(run_num) \u001B[38;5;241m+\u001B[39m \u001B[38;5;124m'\u001B[39m\u001B[38;5;124mP\u001B[39m\u001B[38;5;124m'\u001B[39m \u001B[38;5;241m+\u001B[39m \u001B[38;5;28mstr\u001B[39m(pass_num))\u001B[38;5;241m.\u001B[39mstrip()\n\u001B[1;32m---> 30\u001B[0m pass_df\u001B[38;5;241m=\u001B[39m\u001B[43mtraining_df\u001B[49m\u001B[38;5;241m.\u001B[39mloc[training_df[\u001B[38;5;28mstr\u001B[39m(notable_col_names\u001B[38;5;241m.\u001B[39mindex(\u001B[38;5;124m'\u001B[39m\u001B[38;5;124mPass\u001B[39m\u001B[38;5;124m'\u001B[39m))] \u001B[38;5;241m==\u001B[39m full_name]\n\u001B[0;32m     31\u001B[0m \u001B[38;5;66;03m#pass_df=training_df.loc[training_df[\"Pass\"] == full_name]\u001B[39;00m\n\u001B[0;32m     32\u001B[0m max_segment\u001B[38;5;241m=\u001B[39mpass_df[\u001B[38;5;28mstr\u001B[39m(notable_col_names\u001B[38;5;241m.\u001B[39mindex(\u001B[38;5;124m'\u001B[39m\u001B[38;5;124mSegment\u001B[39m\u001B[38;5;124m'\u001B[39m))]\u001B[38;5;241m.\u001B[39mmax()\n",
      "\u001B[1;31mNameError\u001B[0m: name 'training_df' is not defined"
     ]
    }
   ],
   "source": [
    "phone_slots=[\"Phone_1-1\",\"Phone_1-3\",\"Phone_11\",\"Phone_12\",\"Phone_15\",\"Phone_2-3\",\"Phone_2-4\", \"Phone_2-5\",\"Phone_27\",\"Phone_28\",\"Phone_29\" \"Phone_3-1\",\"Phone_3-2\",\"Phone_3-4\",\"Phone_3-5\",\"Phone_30\",\"Phone_5-2\",\"Phone_5-3\",\"Phone_5-4\",\"Phone_6-2\",\"Phone_6-3\",\"Phone_6-4\",\"Phone_6-5\",\"Phone_7-1\",\"Phone_7-2\",\"Phone_8\",\"Phone_9\"]\n",
    "bad_runs=[\"A3R6P1\",\"A3R4P4\",\"A3R4P5\",\"A3R3P4\",\"A3R3P5\"]\n",
    "good_runs_IF=[\"A1R1P1\",\"A1R1P2\",\"A1R1P3\",\"A1R1P4\",\"A1R1P5\",\"A2R1P1\",\"A2R1P2\",\"A2R1P3\",\"A2R1P4\",\"A2R1P5\",\"A2R2P1\",\"A2R2P2\",\"A2R2P3\",\"A2R2P4\",\"A2R2P5\"]\n",
    "good_runs_matrice=[\"A1R2P2\",\"A1R2P3\",\"A1R2P4\",\"A1R2P5\",\"A2R3P1\",\"A2R3P2\",\"A2R4P1\",\"A2R4P2\",\"A2R4P3\",\"A3R3P1\",\"A3R3P2\",\"A3R4P2\",\"A3R4P3\",\"A3R4P5\"]\n",
    "test_runs_matrice=[\"A2R3P3\",\"A3R3P3\"]\n",
    "notable_col_names=['Pass','Segment','Phone','Lat','Lon','Alt','Range']\n",
    "passes_df=pd.read_csv(r\"C:\\Users\\rclendening\\researchData\\researchCSVs_Scripts_etc\\A1_A2_A3_flight_directory.csv\")\n",
    "x_data=[]\n",
    "y_data=[]\n",
    "def rangeFraction(ranges): #Function normalizes ranges\n",
    "    closest=np.min(ranges)\n",
    "    return closest*1/ranges\n",
    "def rangeClosest(ranges): #Function normalizes ranges\n",
    "    ranges_copy=ranges\n",
    "    truth=np.zeros(len(ranges))\n",
    "    #for x in range(0, 2):\n",
    "    closest=np.argmin(ranges_copy)\n",
    "    ranges_copy[closest]=10000\n",
    "    truth[closest]=1\n",
    "    return truth\n",
    "for x in passes_df.iterrows():\n",
    "    row=x[1]\n",
    "    pass_num=row[0]\n",
    "    scenario=row[1]\n",
    "    run_num=row[2]\n",
    "    start=row[3]\n",
    "    stop=row[4]\n",
    "    drone_gps_file=row[5]\n",
    "    full_name=(str(scenario) + 'R' + str(run_num) + 'P' + str(pass_num)).strip()\n",
    "    pass_df=training_df.loc[training_df[str(notable_col_names.index('Pass'))] == full_name]\n",
    "    #pass_df=training_df.loc[training_df[\"Pass\"] == full_name]\n",
    "    max_segment=pass_df[str(notable_col_names.index('Segment'))].max()\n",
    "    #max_segment=pass_df[\"Segment\"].max()\n",
    "    #for i in range(0,max_segment):\n",
    "    print(full_name)\n",
    "    if full_name in good_runs_matrice:\n",
    "        for phone in phone_slots:\n",
    "            phone_seg=pass_df.loc[pass_df[str(notable_col_names.index('Phone'))]==phone]\n",
    "        # frame_df=pass_df.loc[pass_df[str(notable_col_names.index('Segment'))]==i]\n",
    "        #frame_df=pass_df.loc[pass_df[\"Segment\"]==i]\n",
    "            twd_frame=[]\n",
    "            range_frame=[]\n",
    "        #for phone in phone_slots:\n",
    "            for i in range(0,max_segment):\n",
    "                frame_df=phone_seg.loc[phone_seg[str(notable_col_names.index('Segment'))]==i]\n",
    "            # phone_seg=frame_df.loc[frame_df[str(notable_col_names.index('Phone'))]==phone]\n",
    "            #phone_seg=frame_df.loc[frame_df[\"Name\"]==phone]\n",
    "                data=np.array(frame_df.iloc[:,-256:])\n",
    "            #data=np.array(frame_df.iloc[:,-512:])\n",
    "            # dist=phone_seg[str(notable_col_names.index('Range'))]\n",
    "                dist=frame_df[str(notable_col_names.index('Range'))]\n",
    "            #dist=phone_seg[\"Range\"]\n",
    "                if len(np.array(dist)>0):\n",
    "                    if np.array(dist)[0]<100:\n",
    "                        data=data[0]\n",
    "                        data=np.reshape(data,(64,4))\n",
    "                        #data=np.reshape(data,(40,1))\n",
    "                        dist=np.array(dist)[0]\n",
    "                        twd_frame.append(data)\n",
    "                        range_frame.append(dist)\n",
    "            #y_vals= rangeClosest(range_frame)\n",
    "            x_data.extend(np.array(twd_frame))\n",
    "            y_data.extend(np.array(range_frame))"
   ],
   "metadata": {
    "collapsed": false,
    "pycharm": {
     "name": "#%%\n"
    }
   }
  },
  {
   "cell_type": "code",
   "execution_count": null,
   "outputs": [],
   "source": [
    "x_data=np.array(x_data)\n",
    "#x_data=np.transpose(x_data,axes=[0,2,1])\n",
    "y_data=np.array(y_data)\n",
    "train_feats,test_feats,train_targs,test_targs=train_test_split(x_data,y_data,test_size=0.2,shuffle=True)\n",
    "input_shape=(4,64,1)"
   ],
   "metadata": {
    "collapsed": false,
    "pycharm": {
     "name": "#%%\n"
    }
   }
  },
  {
   "cell_type": "markdown",
   "source": [],
   "metadata": {
    "collapsed": false,
    "pycharm": {
     "name": "#%% md\n"
    }
   }
  },
  {
   "cell_type": "code",
   "execution_count": null,
   "outputs": [],
   "source": [
    "def subsample(x_data,y_data):\n",
    "    new_x=[]\n",
    "    new_y=[]\n",
    "    rng=np.random.default_rng(12345)\n",
    "    for x in range(len(x_data)):\n",
    "        rand_vals=rng.integers(low=1,high=5,size=1)\n",
    "        if y_data[x]==3 and rand_vals==2:\n",
    "            new_x.append(x_data[x])\n",
    "            new_y.append(y_data[x])\n",
    "        elif y_data[x] != 3:\n",
    "            new_x.append(x_data[x])\n",
    "            new_y.append(y_data[x])\n",
    "    return np.array(new_x), np.array(new_y)"
   ],
   "metadata": {
    "collapsed": false,
    "pycharm": {
     "name": "#%%\n"
    }
   }
  },
  {
   "cell_type": "markdown",
   "source": [
    "# Classification Dataset Creation"
   ],
   "metadata": {
    "collapsed": false,
    "pycharm": {
     "name": "#%% md\n"
    }
   }
  },
  {
   "cell_type": "code",
   "execution_count": 3,
   "outputs": [
    {
     "name": "stderr",
     "output_type": "stream",
     "text": [
      "\n",
      "KeyboardInterrupt\n",
      "\n"
     ]
    }
   ],
   "source": [
    "phone_slots=[\"Phone_1-1\",\"Phone_1-3\",\"Phone_11\",\"Phone_12\",\"Phone_15\",\"Phone_2-3\",\"Phone_2-4\", \"Phone_2-5\",\"Phone_27\",\"Phone_28\",\"Phone_29\" \"Phone_3-1\",\"Phone_3-2\",\"Phone_3-4\",\"Phone_3-5\",\"Phone_30\",\"Phone_5-2\",\"Phone_5-3\",\"Phone_5-4\",\"Phone_6-2\",\"Phone_6-3\",\"Phone_6-4\",\"Phone_6-5\",\"Phone_7-1\",\"Phone_7-2\",\"Phone_8\",\"Phone_9\"]\n",
    "bad_runs=[\"A3R6P1\",\"A3R4P4\",\"A3R4P5\",\"A3R3P4\",\"A3R3P5\"]\n",
    "good_runs_IF=[\"A1R1P1\",\"A1R1P2\",\"A1R1P3\",\"A1R1P4\",\"A1R1P5\",\"A2R1P1\",\"A2R1P2\",\"A2R1P3\",\"A2R1P4\",\"A2R1P5\",\"A2R2P1\",\"A2R2P2\",\"A2R2P3\",\"A2R2P4\",\"A2R2P5\"]\n",
    "good_runs_matrice=[\"A1R2P2\",\"A1R2P3\",\"A1R2P4\",\"A1R2P5\",\"A2R3P1\",\"A2R3P2\",\"A2R4P1\",\"A2R4P2\",\"A2R4P3\",\"A3R3P1\",\"A3R3P2\",\"A3R4P2\",\"A3R4P3\",\"A3R4P5\"]\n",
    "test_runs_matrice=[\"A2R3P3\",\"A3R3P3\"]\n",
    "notable_col_names=['Pass','Segment','Phone','Lat','Lon','Alt','Range']\n",
    "passes_df=pd.read_csv(r\"C:\\Users\\rclendening\\researchData\\researchCSVs_Scripts_etc\\A1_A2_A3_flight_directory.csv\")\n",
    "x_data=[]\n",
    "y_data=[]\n",
    "def rangeFraction(ranges): #Function normalizes ranges\n",
    "    closest=np.min(ranges)\n",
    "    return closest*1/ranges\n",
    "\n",
    "def classFinder(distance):\n",
    "    if distance<=40 :\n",
    "        class_val=0\n",
    "    elif distance<=60:\n",
    "        class_val=1\n",
    "    elif distance<=80:\n",
    "        class_val=2\n",
    "    elif distance>80:\n",
    "        class_val=3\n",
    "\n",
    "    return class_val\n",
    "\n",
    "def classFinderv2(distance):\n",
    "    if distance<30:\n",
    "        class_val=0\n",
    "    elif distance<=40:\n",
    "        class_val=1\n",
    "    elif distance<=50:\n",
    "        class_val=2\n",
    "    elif distance<=60:\n",
    "        class_val=3\n",
    "    elif distance<=70:\n",
    "        class_val=4\n",
    "    elif distance<=80:\n",
    "        class_val=5\n",
    "    else:\n",
    "        class_val=6\n",
    "    return class_val\n",
    "def rangeClosest(ranges): #Function normalizes ranges\n",
    "    ranges_copy=ranges\n",
    "    truth=np.zeros(len(ranges))\n",
    "    #for x in range(0, 2):\n",
    "    closest=np.argmin(ranges_copy)\n",
    "    ranges_copy[closest]=10000\n",
    "    truth[closest]=1\n",
    "    return truth\n",
    "for x in passes_df.iterrows():\n",
    "    row=x[1]\n",
    "    pass_num=row[0]\n",
    "    scenario=row[1]\n",
    "    run_num=row[2]\n",
    "    start=row[3]\n",
    "    stop=row[4]\n",
    "    drone_gps_file=row[5]\n",
    "    full_name=(str(scenario) + 'R' + str(run_num) + 'P' + str(pass_num)).strip()\n",
    "    pass_df=training_df.loc[training_df[str(notable_col_names.index('Pass'))] == full_name]\n",
    "    #pass_df=training_df.loc[training_df[\"Pass\"] == full_name]\n",
    "    max_segment=pass_df[str(notable_col_names.index('Segment'))].max()\n",
    "    #max_segment=pass_df[\"Segment\"].max()\n",
    "    #for i in range(0,max_segment):\n",
    "    print(full_name)\n",
    "    if full_name in good_runs_matrice:\n",
    "        for phone in phone_slots:\n",
    "            phone_seg=pass_df.loc[pass_df[str(notable_col_names.index('Phone'))]==phone]\n",
    "        # frame_df=pass_df.loc[pass_df[str(notable_col_names.index('Segment'))]==i]\n",
    "        #frame_df=pass_df.loc[pass_df[\"Segment\"]==i]\n",
    "            twd_frame=[]\n",
    "            range_frame=[]\n",
    "        #for phone in phone_slots:\n",
    "            for i in range(0,max_segment):\n",
    "                frame_df=phone_seg.loc[phone_seg[str(notable_col_names.index('Segment'))]==i]\n",
    "            # phone_seg=frame_df.loc[frame_df[str(notable_col_names.index('Phone'))]==phone]\n",
    "            #phone_seg=frame_df.loc[frame_df[\"Name\"]==phone]\n",
    "                data=np.array(frame_df.iloc[:,-256:])\n",
    "            #data=np.array(frame_df.iloc[:,-512:])\n",
    "            # dist=phone_seg[str(notable_col_names.index('Range'))]\n",
    "                dist=frame_df[str(notable_col_names.index('Range'))]\n",
    "            #dist=phone_seg[\"Range\"]\n",
    "                if len(np.array(dist)>0):\n",
    "                    #if np.array(dist)[0]<100:\n",
    "                    data=data[0]\n",
    "                    data=np.reshape(data,(64,4))\n",
    "                        #data=np.reshape(data,(40,1))\n",
    "                    dist=np.array(dist)[0]\n",
    "                    class_value=classFinder(dist)\n",
    "                    twd_frame.append(data)\n",
    "                    range_frame.append(class_value)\n",
    "            #y_vals= rangeClosest(range_frame)\n",
    "            x_data.extend(np.array(twd_frame))\n",
    "            y_data.extend(np.array(range_frame))"
   ],
   "metadata": {
    "collapsed": false,
    "pycharm": {
     "name": "#%%\n"
    }
   }
  },
  {
   "cell_type": "markdown",
   "source": [
    "# Classification with raw data"
   ],
   "metadata": {
    "collapsed": false,
    "pycharm": {
     "name": "#%% md\n"
    }
   }
  },
  {
   "cell_type": "code",
   "execution_count": 3,
   "outputs": [
    {
     "name": "stdout",
     "output_type": "stream",
     "text": [
      "A1R1P1\n",
      "A1R1P2\n",
      "A1R1P3\n"
     ]
    },
    {
     "ename": "KeyboardInterrupt",
     "evalue": "",
     "output_type": "error",
     "traceback": [
      "\u001B[1;31m---------------------------------------------------------------------------\u001B[0m",
      "\u001B[1;31mKeyboardInterrupt\u001B[0m                         Traceback (most recent call last)",
      "Input \u001B[1;32mIn [3]\u001B[0m, in \u001B[0;36m<cell line: 34>\u001B[1;34m()\u001B[0m\n\u001B[0;32m     58\u001B[0m     frame_df\u001B[38;5;241m=\u001B[39mphone_seg\u001B[38;5;241m.\u001B[39mloc[phone_seg[\u001B[38;5;28mstr\u001B[39m(notable_col_names\u001B[38;5;241m.\u001B[39mindex(\u001B[38;5;124m'\u001B[39m\u001B[38;5;124mSegment\u001B[39m\u001B[38;5;124m'\u001B[39m))]\u001B[38;5;241m==\u001B[39mi]\n\u001B[0;32m     59\u001B[0m \u001B[38;5;66;03m# phone_seg=frame_df.loc[frame_df[str(notable_col_names.index('Phone'))]==phone]\u001B[39;00m\n\u001B[0;32m     60\u001B[0m \u001B[38;5;66;03m#phone_seg=frame_df.loc[frame_df[\"Name\"]==phone]\u001B[39;00m\n\u001B[1;32m---> 61\u001B[0m     data\u001B[38;5;241m=\u001B[39mnp\u001B[38;5;241m.\u001B[39marray(\u001B[43mframe_df\u001B[49m\u001B[38;5;241;43m.\u001B[39;49m\u001B[43miloc\u001B[49m\u001B[43m[\u001B[49m\u001B[43m:\u001B[49m\u001B[43m,\u001B[49m\u001B[38;5;241;43m8\u001B[39;49m\u001B[43m:\u001B[49m\u001B[38;5;241;43m4008\u001B[39;49m\u001B[43m]\u001B[49m)\n\u001B[0;32m     62\u001B[0m \u001B[38;5;66;03m#data=np.array(frame_df.iloc[:,-512:])\u001B[39;00m\n\u001B[0;32m     63\u001B[0m \u001B[38;5;66;03m# dist=phone_seg[str(notable_col_names.index('Range'))]\u001B[39;00m\n\u001B[0;32m     64\u001B[0m     dist\u001B[38;5;241m=\u001B[39mframe_df[\u001B[38;5;28mstr\u001B[39m(notable_col_names\u001B[38;5;241m.\u001B[39mindex(\u001B[38;5;124m'\u001B[39m\u001B[38;5;124mRange\u001B[39m\u001B[38;5;124m'\u001B[39m))]\n",
      "File \u001B[1;32m~\\AppData\\Local\\Programs\\Python\\Python39\\lib\\site-packages\\pandas\\core\\indexing.py:961\u001B[0m, in \u001B[0;36m_LocationIndexer.__getitem__\u001B[1;34m(self, key)\u001B[0m\n\u001B[0;32m    959\u001B[0m     \u001B[38;5;28;01mif\u001B[39;00m \u001B[38;5;28mself\u001B[39m\u001B[38;5;241m.\u001B[39m_is_scalar_access(key):\n\u001B[0;32m    960\u001B[0m         \u001B[38;5;28;01mreturn\u001B[39;00m \u001B[38;5;28mself\u001B[39m\u001B[38;5;241m.\u001B[39mobj\u001B[38;5;241m.\u001B[39m_get_value(\u001B[38;5;241m*\u001B[39mkey, takeable\u001B[38;5;241m=\u001B[39m\u001B[38;5;28mself\u001B[39m\u001B[38;5;241m.\u001B[39m_takeable)\n\u001B[1;32m--> 961\u001B[0m     \u001B[38;5;28;01mreturn\u001B[39;00m \u001B[38;5;28;43mself\u001B[39;49m\u001B[38;5;241;43m.\u001B[39;49m\u001B[43m_getitem_tuple\u001B[49m\u001B[43m(\u001B[49m\u001B[43mkey\u001B[49m\u001B[43m)\u001B[49m\n\u001B[0;32m    962\u001B[0m \u001B[38;5;28;01melse\u001B[39;00m:\n\u001B[0;32m    963\u001B[0m     \u001B[38;5;66;03m# we by definition only have the 0th axis\u001B[39;00m\n\u001B[0;32m    964\u001B[0m     axis \u001B[38;5;241m=\u001B[39m \u001B[38;5;28mself\u001B[39m\u001B[38;5;241m.\u001B[39maxis \u001B[38;5;129;01mor\u001B[39;00m \u001B[38;5;241m0\u001B[39m\n",
      "File \u001B[1;32m~\\AppData\\Local\\Programs\\Python\\Python39\\lib\\site-packages\\pandas\\core\\indexing.py:1462\u001B[0m, in \u001B[0;36m_iLocIndexer._getitem_tuple\u001B[1;34m(self, tup)\u001B[0m\n\u001B[0;32m   1459\u001B[0m \u001B[38;5;28;01mwith\u001B[39;00m suppress(IndexingError):\n\u001B[0;32m   1460\u001B[0m     \u001B[38;5;28;01mreturn\u001B[39;00m \u001B[38;5;28mself\u001B[39m\u001B[38;5;241m.\u001B[39m_getitem_lowerdim(tup)\n\u001B[1;32m-> 1462\u001B[0m \u001B[38;5;28;01mreturn\u001B[39;00m \u001B[38;5;28;43mself\u001B[39;49m\u001B[38;5;241;43m.\u001B[39;49m\u001B[43m_getitem_tuple_same_dim\u001B[49m\u001B[43m(\u001B[49m\u001B[43mtup\u001B[49m\u001B[43m)\u001B[49m\n",
      "File \u001B[1;32m~\\AppData\\Local\\Programs\\Python\\Python39\\lib\\site-packages\\pandas\\core\\indexing.py:830\u001B[0m, in \u001B[0;36m_LocationIndexer._getitem_tuple_same_dim\u001B[1;34m(self, tup)\u001B[0m\n\u001B[0;32m    827\u001B[0m     retval \u001B[38;5;241m=\u001B[39m \u001B[38;5;28mgetattr\u001B[39m(retval, \u001B[38;5;28mself\u001B[39m\u001B[38;5;241m.\u001B[39mname)\u001B[38;5;241m.\u001B[39m_getitem_axis(key, axis\u001B[38;5;241m=\u001B[39mi)\n\u001B[0;32m    828\u001B[0m     \u001B[38;5;66;03m# We should never have retval.ndim < self.ndim, as that should\u001B[39;00m\n\u001B[0;32m    829\u001B[0m     \u001B[38;5;66;03m#  be handled by the _getitem_lowerdim call above.\u001B[39;00m\n\u001B[1;32m--> 830\u001B[0m     \u001B[38;5;28;01massert\u001B[39;00m \u001B[43mretval\u001B[49m\u001B[38;5;241;43m.\u001B[39;49m\u001B[43mndim\u001B[49m \u001B[38;5;241m==\u001B[39m \u001B[38;5;28mself\u001B[39m\u001B[38;5;241m.\u001B[39mndim\n\u001B[0;32m    832\u001B[0m \u001B[38;5;28;01mreturn\u001B[39;00m retval\n",
      "\u001B[1;31mKeyboardInterrupt\u001B[0m: "
     ]
    }
   ],
   "source": [
    "phone_slots=[\"Phone_1-1\",\"Phone_1-3\",\"Phone_11\",\"Phone_12\",\"Phone_15\",\"Phone_2-3\",\"Phone_2-4\", \"Phone_2-5\",\"Phone_27\",\"Phone_28\",\"Phone_29\" \"Phone_3-1\",\"Phone_3-2\",\"Phone_3-4\",\"Phone_3-5\",\"Phone_30\",\"Phone_5-2\",\"Phone_5-3\",\"Phone_5-4\",\"Phone_6-2\",\"Phone_6-3\",\"Phone_6-4\",\"Phone_6-5\",\"Phone_7-1\",\"Phone_7-2\",\"Phone_8\",\"Phone_9\"]\n",
    "bad_runs=[\"A3R6P1\",\"A3R4P4\",\"A3R4P5\",\"A3R3P4\",\"A3R3P5\"]\n",
    "good_runs_IF=[\"A1R1P1\",\"A1R1P2\",\"A1R1P3\",\"A1R1P4\",\"A1R1P5\",\"A2R1P1\",\"A2R1P2\",\"A2R1P3\",\"A2R1P4\",\"A2R1P5\",\"A2R2P1\",\"A2R2P2\",\"A2R2P3\",\"A2R2P4\",\"A2R2P5\"]\n",
    "good_runs_matrice=[\"A1R2P2\",\"A1R2P3\",\"A1R2P4\",\"A1R2P5\",\"A2R3P1\",\"A2R3P2\",\"A2R4P1\",\"A2R4P2\",\"A2R4P3\",\"A3R3P1\",\"A3R3P2\",\"A3R4P2\",\"A3R4P3\",\"A3R4P5\"]\n",
    "good_runs_phantom=[\"A2R5P1\",\"A2R5P2\",\"A2R5P3\",\"A2R5P4\",\"A2R5P5\",\"A2R6P1\",\"A2R6P2\",\"A2R6P3\",\"A2R6P4\",\"A2R6P5\",\"A3R5P1\",\"A3R5P2\",\"A3R5P3\",\"A3R5P4\",\"A3R6P1\",\"A3R6P2\",\"A3R6P3\",\"A3R6P4\"]\n",
    "test_runs_matrice=[\"A2R3P3\",\"A3R3P3\"]\n",
    "notable_col_names=['Pass','Segment','Phone','Lat','Lon','Alt','Range']\n",
    "passes_df=pd.read_csv(r\"C:\\Users\\rclendening\\researchData\\researchCSVs_Scripts_etc\\A1_A2_A3_flight_directory.csv\")\n",
    "raw_x_data=[]\n",
    "raw_y_data=[]\n",
    "def rangeFraction(ranges): #Function normalizes ranges\n",
    "    closest=np.min(ranges)\n",
    "    return closest*1/ranges\n",
    "\n",
    "def classFinder(distance):\n",
    "    if distance<=40 :\n",
    "        class_val=0\n",
    "    elif distance<=60:\n",
    "        class_val=1\n",
    "    elif distance<=80:\n",
    "        class_val=2\n",
    "    else:\n",
    "        class_val=3\n",
    "    return class_val\n",
    "\n",
    "def rangeClosest(ranges): #Function normalizes ranges\n",
    "    ranges_copy=ranges\n",
    "    truth=np.zeros(len(ranges))\n",
    "    #for x in range(0, 2):\n",
    "    closest=np.argmin(ranges_copy)\n",
    "    ranges_copy[closest]=10000\n",
    "    truth[closest]=1\n",
    "    return truth\n",
    "for x in passes_df.iterrows():\n",
    "    row=x[1]\n",
    "    pass_num=row[0]\n",
    "    scenario=row[1]\n",
    "    run_num=row[2]\n",
    "    start=row[3]\n",
    "    stop=row[4]\n",
    "    drone_gps_file=row[5]\n",
    "    full_name=(str(scenario) + 'R' + str(run_num) + 'P' + str(pass_num)).strip()\n",
    "    pass_df=training_df_raw.loc[training_df_raw[str(notable_col_names.index('Pass'))] == full_name]\n",
    "    #pass_df=training_df.loc[training_df[\"Pass\"] == full_name]\n",
    "    max_segment=pass_df[str(notable_col_names.index('Segment'))].max()\n",
    "    #max_segment=pass_df[\"Segment\"].max()\n",
    "    #for i in range(0,max_segment):\n",
    "    print(full_name)\n",
    "    if full_name in good_runs_matrice or full_name in good_runs_phantom or full_name in good_runs_IF:\n",
    "        for phone in phone_slots:\n",
    "            phone_seg=pass_df.loc[pass_df[str(notable_col_names.index('Phone'))]==phone]\n",
    "        # frame_df=pass_df.loc[pass_df[str(notable_col_names.index('Segment'))]==i]\n",
    "        #frame_df=pass_df.loc[pass_df[\"Segment\"]==i]\n",
    "            twd_frame=[]\n",
    "            range_frame=[]\n",
    "        #for phone in phone_slots:\n",
    "            for i in range(0,max_segment):\n",
    "                frame_df=phone_seg.loc[phone_seg[str(notable_col_names.index('Segment'))]==i]\n",
    "            # phone_seg=frame_df.loc[frame_df[str(notable_col_names.index('Phone'))]==phone]\n",
    "            #phone_seg=frame_df.loc[frame_df[\"Name\"]==phone]\n",
    "                data=np.array(frame_df.iloc[:,8:4008])\n",
    "            #data=np.array(frame_df.iloc[:,-512:])\n",
    "            # dist=phone_seg[str(notable_col_names.index('Range'))]\n",
    "                dist=frame_df[str(notable_col_names.index('Range'))]\n",
    "            #dist=phone_seg[\"Range\"]\n",
    "                if len(np.array(dist)>0):\n",
    "                    if np.array(dist)[0]<250 and  not(38<np.array(dist)[0]<42) and not(58<np.array(dist)[0]<62) and not(78<np.array(dist)[0]<82) :\n",
    "                        data=data[0]\n",
    "                        #data=np.reshape(data,(64,4))\n",
    "                        #data=np.reshape(data,(40,1))\n",
    "                        dist=np.array(dist)[0]\n",
    "                        class_value=classFinder(dist)\n",
    "                        twd_frame.append(data)\n",
    "                        range_frame.append(class_value)\n",
    "            #y_vals= rangeClosest(range_frame)\n",
    "            raw_x_data.extend(np.array(twd_frame))\n",
    "            raw_y_data.extend(np.array(range_frame))"
   ],
   "metadata": {
    "collapsed": false,
    "pycharm": {
     "name": "#%%\n"
    }
   }
  },
  {
   "cell_type": "code",
   "execution_count": 592,
   "outputs": [],
   "source": [
    "def subsample_raw(x_data,y_data):\n",
    "    new_x=[]\n",
    "    new_y=[]\n",
    "    rng=np.random.default_rng(12345)\n",
    "    for x in range(len(x_data)):\n",
    "        rand_vals=rng.integers(low=1,high=5,size=1)\n",
    "        if y_data[x]==3 and rand_vals[0]==2:\n",
    "        #if y_data[x][0]==3 and rand_vals[0]==2:\n",
    "            new_x.append(x_data[x])\n",
    "            new_y.append(y_data[x])\n",
    "        elif y_data[x] != 3:\n",
    "            new_x.append(x_data[x])\n",
    "            new_y.append(y_data[x])\n",
    "    return np.array(new_x), np.array(new_y)\n",
    "raw_x_data=np.array(raw_x_data)\n",
    "raw_x_data=np.float32(raw_x_data)\n",
    "raw_y_data=np.array(raw_y_data)\n",
    "x_raw,y_raw=subsample_raw(raw_x_data,raw_y_data)\n",
    "train_feats_raw,test_feats_raw,train_targs_raw,test_targs_raw=train_test_split(x_raw,y_raw,test_size=0.2,shuffle=True,random_state=42)\n",
    "range_train_targs_raw=train_targs_raw[:]\n",
    "# range_train_targs_oh=tf.keras.utils.to_categorical(class_train_targs,num_classes=4)\n",
    "# range_test_targs_oh=tf.keras.utils.to_categorical(class_test_targs,num_classes=4)\n",
    "#class_train_targs_oh_raw=tf.keras.utils.to_categorical(class_train_targs_raw,num_classes=3)\n",
    "range_train_targs_oh_raw=tf.keras.utils.to_categorical(range_train_targs_raw,num_classes=4)\n",
    "#class_test_targs_raw=test_targs_raw[:,1]\n",
    "#cont_range_test_raw_targs=test_targs_raw[:,2]\n",
    "range_test_targs_raw=test_targs_raw[:]\n",
    "#class_test_targs_oh_raw=tf.keras.utils.to_categorical(class_test_targs_raw,num_classes=3)\n",
    "range_test_targs_oh_raw=tf.keras.utils.to_categorical(range_test_targs_raw,num_classes=4)"
   ],
   "metadata": {
    "collapsed": false,
    "pycharm": {
     "name": "#%%\n"
    }
   }
  },
  {
   "cell_type": "code",
   "execution_count": 593,
   "outputs": [
    {
     "data": {
      "text/plain": "(array([7631.,    0.,    0., 4452.,    0.,    0., 5298.,    0.,    0.,\n        6802.]),\n array([0. , 0.3, 0.6, 0.9, 1.2, 1.5, 1.8, 2.1, 2.4, 2.7, 3. ]),\n <BarContainer object of 10 artists>)"
     },
     "execution_count": 593,
     "metadata": {},
     "output_type": "execute_result"
    },
    {
     "data": {
      "text/plain": "<Figure size 432x288 with 1 Axes>",
      "image/png": "[encoded data removed]"
     },
     "metadata": {
      "needs_background": "light"
     },
     "output_type": "display_data"
    }
   ],
   "source": [
    "plt.hist(y_raw)"
   ],
   "metadata": {
    "collapsed": false,
    "pycharm": {
     "name": "#%%\n"
    }
   }
  },
  {
   "cell_type": "code",
   "execution_count": 594,
   "outputs": [
    {
     "name": "stdout",
     "output_type": "stream",
     "text": [
      "{0: 0.7917007693566869, 1: 1.3524888143176734, 2: 1.1337318330989217, 3: 0.8964782205746061}\n"
     ]
    }
   ],
   "source": [
    "from sklearn.utils import class_weight\n",
    "# class_weights=class_weight.compute_class_weight('balanced', classes=np.unique(class_train_targs), y=class_train_targs)\n",
    "# class_weights={0:class_weights[0], 1:class_weights[1]}\n",
    "#print(class_weights)\n",
    "range_weights_raw=class_weight.compute_class_weight('balanced', classes=np.unique(range_train_targs_raw), y=range_train_targs_raw)\n",
    "#,4:range_weights[4],5:range_weights[5], 6:range_weights[6]\n",
    "range_weights_raw={0:range_weights_raw[0], 1:range_weights_raw[1],2:range_weights_raw[2], 3:range_weights_raw[3]}\n",
    "print(range_weights_raw)"
   ],
   "metadata": {
    "collapsed": false,
    "pycharm": {
     "name": "#%%\n"
    }
   }
  },
  {
   "cell_type": "code",
   "execution_count": null,
   "outputs": [],
   "source": [
    "from sklearn.model_selection import KFold\n",
    "kf=KFold(n_splits=5)\n",
    "kf.get_n_splits(X=train_targs, y=train_targs)"
   ],
   "metadata": {
    "collapsed": false,
    "pycharm": {
     "name": "#%%\n"
    }
   }
  },
  {
   "cell_type": "markdown",
   "source": [
    "# From raw to actual data"
   ],
   "metadata": {
    "collapsed": false,
    "pycharm": {
     "name": "#%% md\n"
    }
   }
  },
  {
   "cell_type": "code",
   "execution_count": 4,
   "outputs": [
    {
     "name": "stdout",
     "output_type": "stream",
     "text": [
      "A1R1P1\n",
      "A1R1P2\n",
      "A1R1P3\n",
      "A1R1P4\n",
      "A1R1P5\n",
      "A1R2P1\n",
      "A1R2P2\n",
      "A1R2P3\n",
      "A1R2P4\n",
      "A1R2P5\n",
      "A2R1P1\n",
      "A2R1P2\n",
      "A2R1P3\n",
      "A2R1P4\n",
      "A2R1P5\n",
      "A2R2P1\n",
      "A2R2P2\n",
      "A2R2P3\n",
      "A2R2P4\n",
      "A2R2P5\n",
      "A2R3P1\n",
      "A2R3P2\n",
      "A2R3P3\n",
      "A2R4P1\n",
      "A2R4P2\n",
      "A2R4P3\n",
      "A2R5P1\n",
      "A2R5P2\n",
      "A2R5P3\n",
      "A2R5P4\n",
      "A2R5P5\n",
      "A2R6P1\n",
      "A2R6P2\n",
      "A2R6P3\n",
      "A2R6P4\n",
      "A2R6P5\n",
      "A2R7P1\n",
      "A2R7P2\n",
      "A2R7P3\n",
      "A2R7P4\n",
      "A2R7P5\n",
      "A2R8P1\n",
      "A2R8P2\n",
      "A2R8P3\n",
      "A2R8P4\n",
      "A2R8P5\n",
      "A3R3P1\n",
      "A3R3P2\n",
      "A3R3P3\n",
      "A3R3P4\n",
      "A3R3P5\n",
      "A3R4P1\n",
      "A3R4P2\n",
      "A3R4P3\n",
      "A3R4P4\n",
      "A3R4P5\n",
      "A3R5P1\n",
      "A3R5P2\n",
      "A3R5P3\n",
      "A3R5P4\n",
      "A3R6P1\n",
      "A3R6P2\n",
      "A3R6P3\n",
      "A3R6P4\n"
     ]
    }
   ],
   "source": [
    "def melspect(audioData, Fs):\n",
    "    '''\n",
    "    Converts decoded wav file to MFCC feature space\n",
    "    @param audioData: Numpy array of decoded audio wav file\n",
    "    @return MFCC coefficients\n",
    "    '''\n",
    "    data= audioData.astype(float)\n",
    "    # spect = melspectrogram(y=data,sr=Fs, hop_length=1024,n_mels=64, n_fft=2048)\n",
    "    spect = melspectrogram(y=data,sr=Fs)\n",
    "    return spect\n",
    "x_data=[]\n",
    "y_data=[]\n",
    "for x in passes_df.iterrows():\n",
    "    row=x[1]\n",
    "    pass_num=row[0]\n",
    "    scenario=row[1]\n",
    "    run_num=row[2]\n",
    "    start=row[3]\n",
    "    stop=row[4]\n",
    "    drone_gps_file=row[5]\n",
    "    full_name=(str(scenario) + 'R' + str(run_num) + 'P' + str(pass_num)).strip()\n",
    "    pass_df=training_df_raw.loc[training_df_raw[str(notable_col_names.index('Pass'))] == full_name]\n",
    "    #pass_df=training_df.loc[training_df[\"Pass\"] == full_name]\n",
    "    max_segment=pass_df[str(notable_col_names.index('Segment'))].max()\n",
    "    #max_segment=pass_df[\"Segment\"].max()\n",
    "    #for i in range(0,max_segment):\n",
    "    print(full_name)\n",
    "    if full_name in good_runs_IF:\n",
    "        drone_type=1\n",
    "    elif full_name in good_runs_matrice:\n",
    "        drone_type=0\n",
    "    else:\n",
    "        drone_type=2\n",
    "    if full_name in good_runs_matrice or full_name in good_runs_IF or full_name in good_runs_phantom:\n",
    "    #if full_name in good_runs_phantom:\n",
    "        for phone in phone_slots:\n",
    "            phone_seg=pass_df.loc[pass_df[str(notable_col_names.index('Phone'))]==phone]\n",
    "        # frame_df=pass_df.loc[pass_df[str(notable_col_names.index('Segment'))]==i]\n",
    "        #frame_df=pass_df.loc[pass_df[\"Segment\"]==i]\n",
    "            twd_frame=[]\n",
    "            range_frame=[]\n",
    "        #for phone in phone_slots:\n",
    "            for i in range(0,max_segment):\n",
    "                frame_df=phone_seg.loc[phone_seg[str(notable_col_names.index('Segment'))]==i]\n",
    "            # phone_seg=frame_df.loc[frame_df[str(notable_col_names.index('Phone'))]==phone]\n",
    "            #phone_seg=frame_df.loc[frame_df[\"Name\"]==phone]\n",
    "                data=np.array(frame_df.iloc[:,8:4008])\n",
    "                #data=np.array(frame_df.iloc[:,8:16008])\n",
    "                if np.any(data):\n",
    "                    mel_data=melspect(data[0],8000)\n",
    "            #data=np.array(frame_df.iloc[:,-512:])\n",
    "            # dist=phone_seg[str(notable_col_names.index('Range'))]\n",
    "                dist=frame_df[str(notable_col_names.index('Range'))]\n",
    "            #dist=phone_seg[\"Range\"]\n",
    "                if len(np.array(dist)>0):\n",
    "                    if np.array(dist)[0]<250 and  not(38<np.array(dist)[0]<42) and not(58<np.array(dist)[0]<62) and not(78<np.array(dist)[0]<82) :\n",
    "                        data=data[0]\n",
    "                        #data=np.reshape(data,(64,4))\n",
    "                        #data=np.reshape(data,(40,1))\n",
    "                        dist=np.array(dist)[0]\n",
    "                        class_value=classFinder(dist)\n",
    "                        twd_frame.append(mel_data)\n",
    "                        range_frame.append([class_value,drone_type,dist])\n",
    "            #y_vals= rangeClosest(range_frame)\n",
    "            x_data.extend(np.array(twd_frame))\n",
    "            y_data.extend(np.array(range_frame))"
   ],
   "metadata": {
    "collapsed": false,
    "pycharm": {
     "name": "#%%\n"
    }
   }
  },
  {
   "cell_type": "code",
   "execution_count": 48,
   "outputs": [
    {
     "ename": "KeyboardInterrupt",
     "evalue": "",
     "output_type": "error",
     "traceback": [
      "\u001B[1;31m---------------------------------------------------------------------------\u001B[0m",
      "\u001B[1;31mKeyboardInterrupt\u001B[0m                         Traceback (most recent call last)",
      "Input \u001B[1;32mIn [48]\u001B[0m, in \u001B[0;36m<cell line: 19>\u001B[1;34m()\u001B[0m\n\u001B[0;32m     17\u001B[0m y_data\u001B[38;5;241m=\u001B[39mnp\u001B[38;5;241m.\u001B[39marray(y_data)\n\u001B[0;32m     18\u001B[0m x__,y__\u001B[38;5;241m=\u001B[39msubsample(x_data,y_data)\n\u001B[1;32m---> 19\u001B[0m train_feats,test_feats,train_targs,test_targs\u001B[38;5;241m=\u001B[39m\u001B[43mtrain_test_split\u001B[49m(x__,y__,test_size\u001B[38;5;241m=\u001B[39m\u001B[38;5;241m0.2\u001B[39m,shuffle\u001B[38;5;241m=\u001B[39m\u001B[38;5;28;01mTrue\u001B[39;00m,random_state\u001B[38;5;241m=\u001B[39m\u001B[38;5;241m42\u001B[39m)\n\u001B[0;32m     20\u001B[0m class_train_targs\u001B[38;5;241m=\u001B[39mtrain_targs[:,\u001B[38;5;241m1\u001B[39m]\n\u001B[0;32m     21\u001B[0m cont_range_train_targs\u001B[38;5;241m=\u001B[39mtrain_targs[:,\u001B[38;5;241m2\u001B[39m]\n",
      "Input \u001B[1;32mIn [48]\u001B[0m, in \u001B[0;36m<cell line: 19>\u001B[1;34m()\u001B[0m\n\u001B[0;32m     17\u001B[0m y_data\u001B[38;5;241m=\u001B[39mnp\u001B[38;5;241m.\u001B[39marray(y_data)\n\u001B[0;32m     18\u001B[0m x__,y__\u001B[38;5;241m=\u001B[39msubsample(x_data,y_data)\n\u001B[1;32m---> 19\u001B[0m train_feats,test_feats,train_targs,test_targs\u001B[38;5;241m=\u001B[39m\u001B[43mtrain_test_split\u001B[49m(x__,y__,test_size\u001B[38;5;241m=\u001B[39m\u001B[38;5;241m0.2\u001B[39m,shuffle\u001B[38;5;241m=\u001B[39m\u001B[38;5;28;01mTrue\u001B[39;00m,random_state\u001B[38;5;241m=\u001B[39m\u001B[38;5;241m42\u001B[39m)\n\u001B[0;32m     20\u001B[0m class_train_targs\u001B[38;5;241m=\u001B[39mtrain_targs[:,\u001B[38;5;241m1\u001B[39m]\n\u001B[0;32m     21\u001B[0m cont_range_train_targs\u001B[38;5;241m=\u001B[39mtrain_targs[:,\u001B[38;5;241m2\u001B[39m]\n",
      "File \u001B[1;32m_pydevd_bundle\\pydevd_cython_win32_39_64.pyx:1179\u001B[0m, in \u001B[0;36m_pydevd_bundle.pydevd_cython_win32_39_64.SafeCallWrapper.__call__\u001B[1;34m()\u001B[0m\n",
      "File \u001B[1;32m_pydevd_bundle\\pydevd_cython_win32_39_64.pyx:620\u001B[0m, in \u001B[0;36m_pydevd_bundle.pydevd_cython_win32_39_64.PyDBFrame.trace_dispatch\u001B[1;34m()\u001B[0m\n",
      "File \u001B[1;32m_pydevd_bundle\\pydevd_cython_win32_39_64.pyx:929\u001B[0m, in \u001B[0;36m_pydevd_bundle.pydevd_cython_win32_39_64.PyDBFrame.trace_dispatch\u001B[1;34m()\u001B[0m\n",
      "File \u001B[1;32m_pydevd_bundle\\pydevd_cython_win32_39_64.pyx:920\u001B[0m, in \u001B[0;36m_pydevd_bundle.pydevd_cython_win32_39_64.PyDBFrame.trace_dispatch\u001B[1;34m()\u001B[0m\n",
      "File \u001B[1;32m_pydevd_bundle\\pydevd_cython_win32_39_64.pyx:317\u001B[0m, in \u001B[0;36m_pydevd_bundle.pydevd_cython_win32_39_64.PyDBFrame.do_wait_suspend\u001B[1;34m()\u001B[0m\n",
      "File \u001B[1;32mC:\\Program Files\\JetBrains\\PyCharm 2021.3.2\\plugins\\python\\helpers\\pydev\\pydevd.py:1160\u001B[0m, in \u001B[0;36mPyDB.do_wait_suspend\u001B[1;34m(self, thread, frame, event, arg, send_suspend_message, is_unhandled_exception)\u001B[0m\n\u001B[0;32m   1157\u001B[0m         from_this_thread\u001B[38;5;241m.\u001B[39mappend(frame_id)\n\u001B[0;32m   1159\u001B[0m \u001B[38;5;28;01mwith\u001B[39;00m \u001B[38;5;28mself\u001B[39m\u001B[38;5;241m.\u001B[39m_threads_suspended_single_notification\u001B[38;5;241m.\u001B[39mnotify_thread_suspended(thread_id, stop_reason):\n\u001B[1;32m-> 1160\u001B[0m     \u001B[38;5;28;43mself\u001B[39;49m\u001B[38;5;241;43m.\u001B[39;49m\u001B[43m_do_wait_suspend\u001B[49m\u001B[43m(\u001B[49m\u001B[43mthread\u001B[49m\u001B[43m,\u001B[49m\u001B[43m \u001B[49m\u001B[43mframe\u001B[49m\u001B[43m,\u001B[49m\u001B[43m \u001B[49m\u001B[43mevent\u001B[49m\u001B[43m,\u001B[49m\u001B[43m \u001B[49m\u001B[43marg\u001B[49m\u001B[43m,\u001B[49m\u001B[43m \u001B[49m\u001B[43msuspend_type\u001B[49m\u001B[43m,\u001B[49m\u001B[43m \u001B[49m\u001B[43mfrom_this_thread\u001B[49m\u001B[43m)\u001B[49m\n",
      "File \u001B[1;32mC:\\Program Files\\JetBrains\\PyCharm 2021.3.2\\plugins\\python\\helpers\\pydev\\pydevd.py:1175\u001B[0m, in \u001B[0;36mPyDB._do_wait_suspend\u001B[1;34m(self, thread, frame, event, arg, suspend_type, from_this_thread)\u001B[0m\n\u001B[0;32m   1172\u001B[0m             \u001B[38;5;28mself\u001B[39m\u001B[38;5;241m.\u001B[39m_call_mpl_hook()\n\u001B[0;32m   1174\u001B[0m         \u001B[38;5;28mself\u001B[39m\u001B[38;5;241m.\u001B[39mprocess_internal_commands()\n\u001B[1;32m-> 1175\u001B[0m         \u001B[43mtime\u001B[49m\u001B[38;5;241;43m.\u001B[39;49m\u001B[43msleep\u001B[49m\u001B[43m(\u001B[49m\u001B[38;5;241;43m0.01\u001B[39;49m\u001B[43m)\u001B[49m\n\u001B[0;32m   1177\u001B[0m \u001B[38;5;28mself\u001B[39m\u001B[38;5;241m.\u001B[39mcancel_async_evaluation(get_current_thread_id(thread), \u001B[38;5;28mstr\u001B[39m(\u001B[38;5;28mid\u001B[39m(frame)))\n\u001B[0;32m   1179\u001B[0m \u001B[38;5;66;03m# process any stepping instructions\u001B[39;00m\n",
      "\u001B[1;31mKeyboardInterrupt\u001B[0m: "
     ]
    }
   ],
   "source": [
    "def subsample(x_data,y_data):\n",
    "    new_x=[]\n",
    "    new_y=[]\n",
    "    rng=np.random.default_rng(12345)\n",
    "    for x in range(len(x_data)):\n",
    "        rand_vals=rng.integers(low=1,high=5,size=1)\n",
    "        if y_data[x][0]==3 and rand_vals[0]==2:\n",
    "        #if y_data[x][0]==3 and rand_vals[0]==2:\n",
    "            new_x.append(x_data[x])\n",
    "            new_y.append(y_data[x])\n",
    "        elif y_data[x][0] != 3:\n",
    "            new_x.append(x_data[x])\n",
    "            new_y.append(y_data[x])\n",
    "    return np.array(new_x), np.array(new_y)\n",
    "x_data=np.array(x_data)\n",
    "x_data=np.float32(x_data)\n",
    "y_data=np.array(y_data)\n",
    "x__,y__=subsample(x_data,y_data)\n",
    "train_feats,test_feats,train_targs,test_targs=train_test_split(x__,y__,test_size=0.2,shuffle=True,random_state=42)\n",
    "class_train_targs=train_targs[:,1]\n",
    "cont_range_train_targs=train_targs[:,2]\n",
    "range_train_targs=train_targs[:,0]\n",
    "# range_train_targs_oh=tf.keras.utils.to_categorical(class_train_targs,num_classes=4)\n",
    "# range_test_targs_oh=tf.keras.utils.to_categorical(class_test_targs,num_classes=4)\n",
    "class_train_targs_oh=tf.keras.utils.to_categorical(class_train_targs,num_classes=3)\n",
    "range_train_targs_oh=tf.keras.utils.to_categorical(range_train_targs,num_classes=4)\n",
    "class_test_targs=test_targs[:,1]\n",
    "cont_range_test_targs=test_targs[:,2]\n",
    "range_test_targs=test_targs[:,0]\n",
    "class_test_targs_oh=tf.keras.utils.to_categorical(class_test_targs,num_classes=3)\n",
    "range_test_targs_oh=tf.keras.utils.to_categorical(range_test_targs,num_classes=4)"
   ],
   "metadata": {
    "collapsed": false,
    "pycharm": {
     "name": "#%%\n"
    }
   }
  },
  {
   "cell_type": "code",
   "execution_count": 73,
   "outputs": [],
   "source": [
    "if_train_data=[]\n",
    "if_test_data=[]\n",
    "matrice_train_data=[]\n",
    "matrice_test_data=[]\n",
    "phantom_train_data=[]\n",
    "phantom_test_data=[]\n",
    "if_train_targs=[]\n",
    "if_test_targs=[]\n",
    "matrice_train_targs=[]\n",
    "matrice_test_targs=[]\n",
    "phantom_train_targs=[]\n",
    "phantom_test_targs=[]\n",
    "for x in range(len(train_targs)):\n",
    "    if train_targs[x][1]==0:\n",
    "        matrice_train_data.append(train_feats[x])\n",
    "        matrice_train_targs.append(train_targs[x][0])\n",
    "    elif train_targs[x][1]==1:\n",
    "        if_train_data.append(train_feats[x])\n",
    "        if_train_targs.append(train_targs[x][0])\n",
    "    elif train_targs[x][1]==2:\n",
    "        phantom_train_data.append(train_feats[x])\n",
    "        phantom_train_targs.append(train_targs[x][0])\n",
    "\n",
    "for x in range(len(test_targs)):\n",
    "    if test_targs[x][1]==0:\n",
    "        matrice_test_data.append(test_feats[x])\n",
    "        matrice_test_targs.append(test_targs[x][0])\n",
    "    elif test_targs[x][1]==1:\n",
    "        if_test_data.append(test_feats[x])\n",
    "        if_test_targs.append(test_targs[x][0])\n",
    "    elif test_targs[x][1]==2:\n",
    "        phantom_test_data.append(test_feats[x])\n",
    "        phantom_test_targs.append(test_targs[x][0])"
   ],
   "metadata": {
    "collapsed": false,
    "pycharm": {
     "name": "#%%\n"
    }
   }
  },
  {
   "cell_type": "code",
   "execution_count": 166,
   "outputs": [
    {
     "data": {
      "text/plain": "array([3., 0., 3., ..., 0., 0., 0.])"
     },
     "execution_count": 166,
     "metadata": {},
     "output_type": "execute_result"
    }
   ],
   "source": [],
   "metadata": {
    "collapsed": false,
    "pycharm": {
     "name": "#%%\n"
    }
   }
  },
  {
   "cell_type": "code",
   "execution_count": 172,
   "outputs": [
    {
     "data": {
      "text/plain": "0.2649753347427766"
     },
     "execution_count": 172,
     "metadata": {},
     "output_type": "execute_result"
    }
   ],
   "source": [
    "#plt.hist(train_targs[:,0])\n",
    "# plt.xlabel(\"Class\")\n",
    "# plt.ylabel(\"Samples\")\n",
    "# plt.title(\"Combined Dataset\")\n",
    "#plt.savefig(\"combinedDistro.pdf\")\n",
    "#len((train_targs[:,0]))\n",
    "# 0.3378, 0.16566, 0.176591, 31988\n",
    "correct=0\n",
    "pred=0\n",
    "total=0\n",
    "rng=np.random.default_rng(12345)\n",
    "for x in range(len(test_targs)):\n",
    "    rand_vals=rng.integers(low=1,high=100,size=1)\n",
    "    if rand_vals[0]<34:\n",
    "        pred=0\n",
    "    elif rand_vals[0]<50:\n",
    "        pred=1\n",
    "    elif rand_vals[0]<68:\n",
    "        pred=2\n",
    "    else:\n",
    "        pred=3\n",
    "    if(test_targs[x][0]==pred):\n",
    "        correct+=1\n",
    "    total+=1\n",
    "correct/total"
   ],
   "metadata": {
    "collapsed": false,
    "pycharm": {
     "name": "#%%\n"
    }
   }
  },
  {
   "cell_type": "code",
   "execution_count": 150,
   "outputs": [
    {
     "name": "stdout",
     "output_type": "stream",
     "text": [
      "{0: 0.9723385167464115, 1: 1.2033678756476685, 2: 1.523664479850047, 3: 0.6737463738085371}\n"
     ]
    }
   ],
   "source": [
    "from sklearn.utils import class_weight\n",
    "# class_weights=class_weight.compute_class_weight('balanced', classes=np.unique(class_train_targs), y=class_train_targs)\n",
    "# class_weights={0:class_weights[0], 1:class_weights[1]}\n",
    "#print(class_weights)\n",
    "range_weights=class_weight.compute_class_weight('balanced', classes=np.unique(phantom_train_targs), y=phantom_train_targs)\n",
    "#,4:range_weights[4],5:range_weights[5], 6:range_weights[6]\n",
    "range_weights={0:range_weights[0], 1:range_weights[1],2:range_weights[2], 3:range_weights[3]}\n",
    "print(range_weights)"
   ],
   "metadata": {
    "collapsed": false,
    "pycharm": {
     "name": "#%%\n"
    }
   }
  },
  {
   "cell_type": "code",
   "execution_count": null,
   "outputs": [],
   "source": [],
   "metadata": {
    "collapsed": false,
    "pycharm": {
     "name": "#%%\n"
    }
   }
  },
  {
   "cell_type": "code",
   "execution_count": 526,
   "outputs": [
    {
     "name": "stdout",
     "output_type": "stream",
     "text": [
      "[ 0.          1.         31.91555911]\n"
     ]
    },
    {
     "data": {
      "text/plain": "<Figure size 432x288 with 2 Axes>",
      "image/png": "[encoded data removed]"
     },
     "metadata": {
      "needs_background": "light"
     },
     "output_type": "display_data"
    }
   ],
   "source": [
    "import librosa.display\n",
    "fig, ax = plt.subplots()\n",
    "S_dB = librosa.power_to_db(x_data[1500], ref=np.max)\n",
    "print(y_data[1500])\n",
    "img = librosa.display.specshow(S_dB, x_axis='time',\n",
    "                         y_axis='mel', sr=8000,\n",
    "                         fmax=4000, ax=ax)\n",
    "fig.colorbar(img, ax=ax, format='%+2.0f dB')\n",
    "# ax.set(title='Mel-frequency spectrogram')\n",
    "plt.savefig(\"melspect.pdf\")"
   ],
   "metadata": {
    "collapsed": false,
    "pycharm": {
     "name": "#%%\n"
    }
   }
  },
  {
   "cell_type": "markdown",
   "source": [
    "# Multiclass Clasification with multiple outputs"
   ],
   "metadata": {
    "collapsed": false,
    "pycharm": {
     "name": "#%% md\n"
    }
   }
  },
  {
   "cell_type": "code",
   "execution_count": 60,
   "outputs": [
    {
     "name": "stdout",
     "output_type": "stream",
     "text": [
      "Model: \"model\"\n",
      "__________________________________________________________________________________________________\n",
      " Layer (type)                   Output Shape         Param #     Connected to                     \n",
      "==================================================================================================\n",
      " input (InputLayer)             [(None, 128, 8, 1)]  0           []                               \n",
      "                                                                                                  \n",
      " batch_normalization_62 (BatchN  (None, 128, 8, 1)   4           ['input[0][0]']                  \n",
      " ormalization)                                                                                    \n",
      "                                                                                                  \n",
      " conv_1 (Conv2D)                (None, 128, 8, 32)   128         ['batch_normalization_62[0][0]'] \n",
      "                                                                                                  \n",
      " batch_normalization_63 (BatchN  (None, 128, 8, 32)  128         ['conv_1[0][0]']                 \n",
      " ormalization)                                                                                    \n",
      "                                                                                                  \n",
      " activation_47 (Activation)     (None, 128, 8, 32)   0           ['batch_normalization_63[0][0]'] \n",
      "                                                                                                  \n",
      " max_pooling2d_11 (MaxPooling2D  (None, 64, 4, 32)   0           ['activation_47[0][0]']          \n",
      " )                                                                                                \n",
      "                                                                                                  \n",
      " conv_2 (Conv2D)                (None, 32, 2, 32)    16384       ['max_pooling2d_11[0][0]']       \n",
      "                                                                                                  \n",
      " batch_normalization_64 (BatchN  (None, 32, 2, 32)   128         ['conv_2[0][0]']                 \n",
      " ormalization)                                                                                    \n",
      "                                                                                                  \n",
      " activation_48 (Activation)     (None, 32, 2, 32)    0           ['batch_normalization_64[0][0]'] \n",
      "                                                                                                  \n",
      " dropout_42 (Dropout)           (None, 32, 2, 32)    0           ['activation_48[0][0]']          \n",
      "                                                                                                  \n",
      " conv_3 (Conv2D)                (None, 8, 1, 32)     16384       ['dropout_42[0][0]']             \n",
      "                                                                                                  \n",
      " batch_normalization_65 (BatchN  (None, 8, 1, 32)    128         ['conv_3[0][0]']                 \n",
      " ormalization)                                                                                    \n",
      "                                                                                                  \n",
      " activation_49 (Activation)     (None, 8, 1, 32)     0           ['batch_normalization_65[0][0]'] \n",
      "                                                                                                  \n",
      " dropout_43 (Dropout)           (None, 8, 1, 32)     0           ['activation_49[0][0]']          \n",
      "                                                                                                  \n",
      " flatten_9 (Flatten)            (None, 256)          0           ['dropout_43[0][0]']             \n",
      "                                                                                                  \n",
      " dense_2 (Dense)                (None, 512)          131584      ['flatten_9[0][0]']              \n",
      "                                                                                                  \n",
      " dense_3 (Dense)                (None, 256)          131328      ['dense_2[0][0]']                \n",
      "                                                                                                  \n",
      " dropout_44 (Dropout)           (None, 256)          0           ['dense_3[0][0]']                \n",
      "                                                                                                  \n",
      " output_range (Dense)           (None, 4)            1028        ['dropout_44[0][0]']             \n",
      "                                                                                                  \n",
      " output_class (Dense)           (None, 3)            771         ['dropout_44[0][0]']             \n",
      "                                                                                                  \n",
      "==================================================================================================\n",
      "Total params: 297,995\n",
      "Trainable params: 297,801\n",
      "Non-trainable params: 194\n",
      "__________________________________________________________________________________________________\n",
      "Epoch 1/200\n",
      "235/426 [===============>..............] - ETA: 5s - loss: 1.8111 - output_range_loss: 1.2389 - output_class_loss: 0.5722 - output_range_accuracy: 0.4723 - output_class_accuracy: 0.7585"
     ]
    },
    {
     "ename": "KeyboardInterrupt",
     "evalue": "",
     "output_type": "error",
     "traceback": [
      "\u001B[1;31m---------------------------------------------------------------------------\u001B[0m",
      "\u001B[1;31mKeyboardInterrupt\u001B[0m                         Traceback (most recent call last)",
      "Input \u001B[1;32mIn [60]\u001B[0m, in \u001B[0;36m<cell line: 60>\u001B[1;34m()\u001B[0m\n\u001B[0;32m     58\u001B[0m modelCNN\u001B[38;5;241m.\u001B[39mbuild(input_shape\u001B[38;5;241m=\u001B[39m(\u001B[38;5;28;01mNone\u001B[39;00m,\u001B[38;5;241m128\u001B[39m,\u001B[38;5;241m8\u001B[39m,\u001B[38;5;241m1\u001B[39m))\n\u001B[0;32m     59\u001B[0m modelCNN\u001B[38;5;241m.\u001B[39msummary()\n\u001B[1;32m---> 60\u001B[0m history \u001B[38;5;241m=\u001B[39m \u001B[43mmodelCNN\u001B[49m\u001B[38;5;241;43m.\u001B[39;49m\u001B[43mfit\u001B[49m\u001B[43m(\u001B[49m\u001B[43mtrain_feats\u001B[49m\u001B[43m,\u001B[49m\u001B[43m \u001B[49m\u001B[43m{\u001B[49m\u001B[38;5;124;43m'\u001B[39;49m\u001B[38;5;124;43moutput_range\u001B[39;49m\u001B[38;5;124;43m'\u001B[39;49m\u001B[43m:\u001B[49m\u001B[43mrange_train_targs_oh\u001B[49m\u001B[43m,\u001B[49m\u001B[38;5;124;43m'\u001B[39;49m\u001B[38;5;124;43moutput_class\u001B[39;49m\u001B[38;5;124;43m'\u001B[39;49m\u001B[43m:\u001B[49m\u001B[43m \u001B[49m\u001B[43mclass_train_targs_oh\u001B[49m\u001B[43m}\u001B[49m\u001B[43m,\u001B[49m\n\u001B[0;32m     61\u001B[0m \u001B[43m                      \u001B[49m\u001B[43mepochs\u001B[49m\u001B[38;5;241;43m=\u001B[39;49m\u001B[38;5;241;43m200\u001B[39;49m\u001B[43m,\u001B[49m\n\u001B[0;32m     62\u001B[0m \u001B[43m                      \u001B[49m\u001B[43mbatch_size\u001B[49m\u001B[38;5;241;43m=\u001B[39;49m\u001B[38;5;241;43m32\u001B[39;49m\u001B[43m,\u001B[49m\n\u001B[0;32m     63\u001B[0m \u001B[43m                      \u001B[49m\u001B[43mshuffle\u001B[49m\u001B[38;5;241;43m=\u001B[39;49m\u001B[38;5;28;43;01mTrue\u001B[39;49;00m\u001B[43m,\u001B[49m\n\u001B[0;32m     64\u001B[0m \u001B[43m                      \u001B[49m\u001B[38;5;66;43;03m#class_weight={'output_1':range_weights,'output_2': class_weights},\u001B[39;49;00m\n\u001B[0;32m     65\u001B[0m \u001B[43m                      \u001B[49m\u001B[43mvalidation_split\u001B[49m\u001B[38;5;241;43m=\u001B[39;49m\u001B[38;5;241;43m0.2\u001B[39;49m\u001B[43m,\u001B[49m\n\u001B[0;32m     66\u001B[0m \u001B[43m                      \u001B[49m\u001B[43mcallbacks\u001B[49m\u001B[38;5;241;43m=\u001B[39;49m\u001B[43m[\u001B[49m\u001B[43mreduceLR\u001B[49m\u001B[43m,\u001B[49m\u001B[43m \u001B[49m\u001B[43mearly\u001B[49m\u001B[43m]\u001B[49m\u001B[43m)\u001B[49m\n",
      "File \u001B[1;32m~\\AppData\\Local\\Programs\\Python\\Python39\\lib\\site-packages\\keras\\utils\\traceback_utils.py:64\u001B[0m, in \u001B[0;36mfilter_traceback.<locals>.error_handler\u001B[1;34m(*args, **kwargs)\u001B[0m\n\u001B[0;32m     62\u001B[0m filtered_tb \u001B[38;5;241m=\u001B[39m \u001B[38;5;28;01mNone\u001B[39;00m\n\u001B[0;32m     63\u001B[0m \u001B[38;5;28;01mtry\u001B[39;00m:\n\u001B[1;32m---> 64\u001B[0m   \u001B[38;5;28;01mreturn\u001B[39;00m fn(\u001B[38;5;241m*\u001B[39margs, \u001B[38;5;241m*\u001B[39m\u001B[38;5;241m*\u001B[39mkwargs)\n\u001B[0;32m     65\u001B[0m \u001B[38;5;28;01mexcept\u001B[39;00m \u001B[38;5;167;01mException\u001B[39;00m \u001B[38;5;28;01mas\u001B[39;00m e:  \u001B[38;5;66;03m# pylint: disable=broad-except\u001B[39;00m\n\u001B[0;32m     66\u001B[0m   filtered_tb \u001B[38;5;241m=\u001B[39m _process_traceback_frames(e\u001B[38;5;241m.\u001B[39m__traceback__)\n",
      "File \u001B[1;32m~\\AppData\\Local\\Programs\\Python\\Python39\\lib\\site-packages\\keras\\engine\\training.py:1409\u001B[0m, in \u001B[0;36mModel.fit\u001B[1;34m(self, x, y, batch_size, epochs, verbose, callbacks, validation_split, validation_data, shuffle, class_weight, sample_weight, initial_epoch, steps_per_epoch, validation_steps, validation_batch_size, validation_freq, max_queue_size, workers, use_multiprocessing)\u001B[0m\n\u001B[0;32m   1402\u001B[0m \u001B[38;5;28;01mwith\u001B[39;00m tf\u001B[38;5;241m.\u001B[39mprofiler\u001B[38;5;241m.\u001B[39mexperimental\u001B[38;5;241m.\u001B[39mTrace(\n\u001B[0;32m   1403\u001B[0m     \u001B[38;5;124m'\u001B[39m\u001B[38;5;124mtrain\u001B[39m\u001B[38;5;124m'\u001B[39m,\n\u001B[0;32m   1404\u001B[0m     epoch_num\u001B[38;5;241m=\u001B[39mepoch,\n\u001B[0;32m   1405\u001B[0m     step_num\u001B[38;5;241m=\u001B[39mstep,\n\u001B[0;32m   1406\u001B[0m     batch_size\u001B[38;5;241m=\u001B[39mbatch_size,\n\u001B[0;32m   1407\u001B[0m     _r\u001B[38;5;241m=\u001B[39m\u001B[38;5;241m1\u001B[39m):\n\u001B[0;32m   1408\u001B[0m   callbacks\u001B[38;5;241m.\u001B[39mon_train_batch_begin(step)\n\u001B[1;32m-> 1409\u001B[0m   tmp_logs \u001B[38;5;241m=\u001B[39m \u001B[38;5;28;43mself\u001B[39;49m\u001B[38;5;241;43m.\u001B[39;49m\u001B[43mtrain_function\u001B[49m\u001B[43m(\u001B[49m\u001B[43miterator\u001B[49m\u001B[43m)\u001B[49m\n\u001B[0;32m   1410\u001B[0m   \u001B[38;5;28;01mif\u001B[39;00m data_handler\u001B[38;5;241m.\u001B[39mshould_sync:\n\u001B[0;32m   1411\u001B[0m     context\u001B[38;5;241m.\u001B[39masync_wait()\n",
      "File \u001B[1;32m~\\AppData\\Local\\Programs\\Python\\Python39\\lib\\site-packages\\tensorflow\\python\\util\\traceback_utils.py:150\u001B[0m, in \u001B[0;36mfilter_traceback.<locals>.error_handler\u001B[1;34m(*args, **kwargs)\u001B[0m\n\u001B[0;32m    148\u001B[0m filtered_tb \u001B[38;5;241m=\u001B[39m \u001B[38;5;28;01mNone\u001B[39;00m\n\u001B[0;32m    149\u001B[0m \u001B[38;5;28;01mtry\u001B[39;00m:\n\u001B[1;32m--> 150\u001B[0m   \u001B[38;5;28;01mreturn\u001B[39;00m fn(\u001B[38;5;241m*\u001B[39margs, \u001B[38;5;241m*\u001B[39m\u001B[38;5;241m*\u001B[39mkwargs)\n\u001B[0;32m    151\u001B[0m \u001B[38;5;28;01mexcept\u001B[39;00m \u001B[38;5;167;01mException\u001B[39;00m \u001B[38;5;28;01mas\u001B[39;00m e:\n\u001B[0;32m    152\u001B[0m   filtered_tb \u001B[38;5;241m=\u001B[39m _process_traceback_frames(e\u001B[38;5;241m.\u001B[39m__traceback__)\n",
      "File \u001B[1;32m~\\AppData\\Local\\Programs\\Python\\Python39\\lib\\site-packages\\tensorflow\\python\\eager\\def_function.py:915\u001B[0m, in \u001B[0;36mFunction.__call__\u001B[1;34m(self, *args, **kwds)\u001B[0m\n\u001B[0;32m    912\u001B[0m compiler \u001B[38;5;241m=\u001B[39m \u001B[38;5;124m\"\u001B[39m\u001B[38;5;124mxla\u001B[39m\u001B[38;5;124m\"\u001B[39m \u001B[38;5;28;01mif\u001B[39;00m \u001B[38;5;28mself\u001B[39m\u001B[38;5;241m.\u001B[39m_jit_compile \u001B[38;5;28;01melse\u001B[39;00m \u001B[38;5;124m\"\u001B[39m\u001B[38;5;124mnonXla\u001B[39m\u001B[38;5;124m\"\u001B[39m\n\u001B[0;32m    914\u001B[0m \u001B[38;5;28;01mwith\u001B[39;00m OptionalXlaContext(\u001B[38;5;28mself\u001B[39m\u001B[38;5;241m.\u001B[39m_jit_compile):\n\u001B[1;32m--> 915\u001B[0m   result \u001B[38;5;241m=\u001B[39m \u001B[38;5;28mself\u001B[39m\u001B[38;5;241m.\u001B[39m_call(\u001B[38;5;241m*\u001B[39margs, \u001B[38;5;241m*\u001B[39m\u001B[38;5;241m*\u001B[39mkwds)\n\u001B[0;32m    917\u001B[0m new_tracing_count \u001B[38;5;241m=\u001B[39m \u001B[38;5;28mself\u001B[39m\u001B[38;5;241m.\u001B[39mexperimental_get_tracing_count()\n\u001B[0;32m    918\u001B[0m without_tracing \u001B[38;5;241m=\u001B[39m (tracing_count \u001B[38;5;241m==\u001B[39m new_tracing_count)\n",
      "File \u001B[1;32m~\\AppData\\Local\\Programs\\Python\\Python39\\lib\\site-packages\\tensorflow\\python\\eager\\def_function.py:947\u001B[0m, in \u001B[0;36mFunction._call\u001B[1;34m(self, *args, **kwds)\u001B[0m\n\u001B[0;32m    944\u001B[0m   \u001B[38;5;28mself\u001B[39m\u001B[38;5;241m.\u001B[39m_lock\u001B[38;5;241m.\u001B[39mrelease()\n\u001B[0;32m    945\u001B[0m   \u001B[38;5;66;03m# In this case we have created variables on the first call, so we run the\u001B[39;00m\n\u001B[0;32m    946\u001B[0m   \u001B[38;5;66;03m# defunned version which is guaranteed to never create variables.\u001B[39;00m\n\u001B[1;32m--> 947\u001B[0m   \u001B[38;5;28;01mreturn\u001B[39;00m \u001B[38;5;28mself\u001B[39m\u001B[38;5;241m.\u001B[39m_stateless_fn(\u001B[38;5;241m*\u001B[39margs, \u001B[38;5;241m*\u001B[39m\u001B[38;5;241m*\u001B[39mkwds)  \u001B[38;5;66;03m# pylint: disable=not-callable\u001B[39;00m\n\u001B[0;32m    948\u001B[0m \u001B[38;5;28;01melif\u001B[39;00m \u001B[38;5;28mself\u001B[39m\u001B[38;5;241m.\u001B[39m_stateful_fn \u001B[38;5;129;01mis\u001B[39;00m \u001B[38;5;129;01mnot\u001B[39;00m \u001B[38;5;28;01mNone\u001B[39;00m:\n\u001B[0;32m    949\u001B[0m   \u001B[38;5;66;03m# Release the lock early so that multiple threads can perform the call\u001B[39;00m\n\u001B[0;32m    950\u001B[0m   \u001B[38;5;66;03m# in parallel.\u001B[39;00m\n\u001B[0;32m    951\u001B[0m   \u001B[38;5;28mself\u001B[39m\u001B[38;5;241m.\u001B[39m_lock\u001B[38;5;241m.\u001B[39mrelease()\n",
      "File \u001B[1;32m~\\AppData\\Local\\Programs\\Python\\Python39\\lib\\site-packages\\tensorflow\\python\\eager\\function.py:2453\u001B[0m, in \u001B[0;36mFunction.__call__\u001B[1;34m(self, *args, **kwargs)\u001B[0m\n\u001B[0;32m   2450\u001B[0m \u001B[38;5;28;01mwith\u001B[39;00m \u001B[38;5;28mself\u001B[39m\u001B[38;5;241m.\u001B[39m_lock:\n\u001B[0;32m   2451\u001B[0m   (graph_function,\n\u001B[0;32m   2452\u001B[0m    filtered_flat_args) \u001B[38;5;241m=\u001B[39m \u001B[38;5;28mself\u001B[39m\u001B[38;5;241m.\u001B[39m_maybe_define_function(args, kwargs)\n\u001B[1;32m-> 2453\u001B[0m \u001B[38;5;28;01mreturn\u001B[39;00m \u001B[43mgraph_function\u001B[49m\u001B[38;5;241;43m.\u001B[39;49m\u001B[43m_call_flat\u001B[49m\u001B[43m(\u001B[49m\n\u001B[0;32m   2454\u001B[0m \u001B[43m    \u001B[49m\u001B[43mfiltered_flat_args\u001B[49m\u001B[43m,\u001B[49m\u001B[43m \u001B[49m\u001B[43mcaptured_inputs\u001B[49m\u001B[38;5;241;43m=\u001B[39;49m\u001B[43mgraph_function\u001B[49m\u001B[38;5;241;43m.\u001B[39;49m\u001B[43mcaptured_inputs\u001B[49m\u001B[43m)\u001B[49m\n",
      "File \u001B[1;32m~\\AppData\\Local\\Programs\\Python\\Python39\\lib\\site-packages\\tensorflow\\python\\eager\\function.py:1860\u001B[0m, in \u001B[0;36mConcreteFunction._call_flat\u001B[1;34m(self, args, captured_inputs, cancellation_manager)\u001B[0m\n\u001B[0;32m   1856\u001B[0m possible_gradient_type \u001B[38;5;241m=\u001B[39m gradients_util\u001B[38;5;241m.\u001B[39mPossibleTapeGradientTypes(args)\n\u001B[0;32m   1857\u001B[0m \u001B[38;5;28;01mif\u001B[39;00m (possible_gradient_type \u001B[38;5;241m==\u001B[39m gradients_util\u001B[38;5;241m.\u001B[39mPOSSIBLE_GRADIENT_TYPES_NONE\n\u001B[0;32m   1858\u001B[0m     \u001B[38;5;129;01mand\u001B[39;00m executing_eagerly):\n\u001B[0;32m   1859\u001B[0m   \u001B[38;5;66;03m# No tape is watching; skip to running the function.\u001B[39;00m\n\u001B[1;32m-> 1860\u001B[0m   \u001B[38;5;28;01mreturn\u001B[39;00m \u001B[38;5;28mself\u001B[39m\u001B[38;5;241m.\u001B[39m_build_call_outputs(\u001B[38;5;28;43mself\u001B[39;49m\u001B[38;5;241;43m.\u001B[39;49m\u001B[43m_inference_function\u001B[49m\u001B[38;5;241;43m.\u001B[39;49m\u001B[43mcall\u001B[49m\u001B[43m(\u001B[49m\n\u001B[0;32m   1861\u001B[0m \u001B[43m      \u001B[49m\u001B[43mctx\u001B[49m\u001B[43m,\u001B[49m\u001B[43m \u001B[49m\u001B[43margs\u001B[49m\u001B[43m,\u001B[49m\u001B[43m \u001B[49m\u001B[43mcancellation_manager\u001B[49m\u001B[38;5;241;43m=\u001B[39;49m\u001B[43mcancellation_manager\u001B[49m\u001B[43m)\u001B[49m)\n\u001B[0;32m   1862\u001B[0m forward_backward \u001B[38;5;241m=\u001B[39m \u001B[38;5;28mself\u001B[39m\u001B[38;5;241m.\u001B[39m_select_forward_and_backward_functions(\n\u001B[0;32m   1863\u001B[0m     args,\n\u001B[0;32m   1864\u001B[0m     possible_gradient_type,\n\u001B[0;32m   1865\u001B[0m     executing_eagerly)\n\u001B[0;32m   1866\u001B[0m forward_function, args_with_tangents \u001B[38;5;241m=\u001B[39m forward_backward\u001B[38;5;241m.\u001B[39mforward()\n",
      "File \u001B[1;32m~\\AppData\\Local\\Programs\\Python\\Python39\\lib\\site-packages\\tensorflow\\python\\eager\\function.py:497\u001B[0m, in \u001B[0;36m_EagerDefinedFunction.call\u001B[1;34m(self, ctx, args, cancellation_manager)\u001B[0m\n\u001B[0;32m    495\u001B[0m \u001B[38;5;28;01mwith\u001B[39;00m _InterpolateFunctionError(\u001B[38;5;28mself\u001B[39m):\n\u001B[0;32m    496\u001B[0m   \u001B[38;5;28;01mif\u001B[39;00m cancellation_manager \u001B[38;5;129;01mis\u001B[39;00m \u001B[38;5;28;01mNone\u001B[39;00m:\n\u001B[1;32m--> 497\u001B[0m     outputs \u001B[38;5;241m=\u001B[39m \u001B[43mexecute\u001B[49m\u001B[38;5;241;43m.\u001B[39;49m\u001B[43mexecute\u001B[49m\u001B[43m(\u001B[49m\n\u001B[0;32m    498\u001B[0m \u001B[43m        \u001B[49m\u001B[38;5;28;43mstr\u001B[39;49m\u001B[43m(\u001B[49m\u001B[38;5;28;43mself\u001B[39;49m\u001B[38;5;241;43m.\u001B[39;49m\u001B[43msignature\u001B[49m\u001B[38;5;241;43m.\u001B[39;49m\u001B[43mname\u001B[49m\u001B[43m)\u001B[49m\u001B[43m,\u001B[49m\n\u001B[0;32m    499\u001B[0m \u001B[43m        \u001B[49m\u001B[43mnum_outputs\u001B[49m\u001B[38;5;241;43m=\u001B[39;49m\u001B[38;5;28;43mself\u001B[39;49m\u001B[38;5;241;43m.\u001B[39;49m\u001B[43m_num_outputs\u001B[49m\u001B[43m,\u001B[49m\n\u001B[0;32m    500\u001B[0m \u001B[43m        \u001B[49m\u001B[43minputs\u001B[49m\u001B[38;5;241;43m=\u001B[39;49m\u001B[43margs\u001B[49m\u001B[43m,\u001B[49m\n\u001B[0;32m    501\u001B[0m \u001B[43m        \u001B[49m\u001B[43mattrs\u001B[49m\u001B[38;5;241;43m=\u001B[39;49m\u001B[43mattrs\u001B[49m\u001B[43m,\u001B[49m\n\u001B[0;32m    502\u001B[0m \u001B[43m        \u001B[49m\u001B[43mctx\u001B[49m\u001B[38;5;241;43m=\u001B[39;49m\u001B[43mctx\u001B[49m\u001B[43m)\u001B[49m\n\u001B[0;32m    503\u001B[0m   \u001B[38;5;28;01melse\u001B[39;00m:\n\u001B[0;32m    504\u001B[0m     outputs \u001B[38;5;241m=\u001B[39m execute\u001B[38;5;241m.\u001B[39mexecute_with_cancellation(\n\u001B[0;32m    505\u001B[0m         \u001B[38;5;28mstr\u001B[39m(\u001B[38;5;28mself\u001B[39m\u001B[38;5;241m.\u001B[39msignature\u001B[38;5;241m.\u001B[39mname),\n\u001B[0;32m    506\u001B[0m         num_outputs\u001B[38;5;241m=\u001B[39m\u001B[38;5;28mself\u001B[39m\u001B[38;5;241m.\u001B[39m_num_outputs,\n\u001B[1;32m   (...)\u001B[0m\n\u001B[0;32m    509\u001B[0m         ctx\u001B[38;5;241m=\u001B[39mctx,\n\u001B[0;32m    510\u001B[0m         cancellation_manager\u001B[38;5;241m=\u001B[39mcancellation_manager)\n",
      "File \u001B[1;32m~\\AppData\\Local\\Programs\\Python\\Python39\\lib\\site-packages\\tensorflow\\python\\eager\\execute.py:54\u001B[0m, in \u001B[0;36mquick_execute\u001B[1;34m(op_name, num_outputs, inputs, attrs, ctx, name)\u001B[0m\n\u001B[0;32m     52\u001B[0m \u001B[38;5;28;01mtry\u001B[39;00m:\n\u001B[0;32m     53\u001B[0m   ctx\u001B[38;5;241m.\u001B[39mensure_initialized()\n\u001B[1;32m---> 54\u001B[0m   tensors \u001B[38;5;241m=\u001B[39m \u001B[43mpywrap_tfe\u001B[49m\u001B[38;5;241;43m.\u001B[39;49m\u001B[43mTFE_Py_Execute\u001B[49m\u001B[43m(\u001B[49m\u001B[43mctx\u001B[49m\u001B[38;5;241;43m.\u001B[39;49m\u001B[43m_handle\u001B[49m\u001B[43m,\u001B[49m\u001B[43m \u001B[49m\u001B[43mdevice_name\u001B[49m\u001B[43m,\u001B[49m\u001B[43m \u001B[49m\u001B[43mop_name\u001B[49m\u001B[43m,\u001B[49m\n\u001B[0;32m     55\u001B[0m \u001B[43m                                      \u001B[49m\u001B[43minputs\u001B[49m\u001B[43m,\u001B[49m\u001B[43m \u001B[49m\u001B[43mattrs\u001B[49m\u001B[43m,\u001B[49m\u001B[43m \u001B[49m\u001B[43mnum_outputs\u001B[49m\u001B[43m)\u001B[49m\n\u001B[0;32m     56\u001B[0m \u001B[38;5;28;01mexcept\u001B[39;00m core\u001B[38;5;241m.\u001B[39m_NotOkStatusException \u001B[38;5;28;01mas\u001B[39;00m e:\n\u001B[0;32m     57\u001B[0m   \u001B[38;5;28;01mif\u001B[39;00m name \u001B[38;5;129;01mis\u001B[39;00m \u001B[38;5;129;01mnot\u001B[39;00m \u001B[38;5;28;01mNone\u001B[39;00m:\n",
      "\u001B[1;31mKeyboardInterrupt\u001B[0m: "
     ]
    }
   ],
   "source": [
    "# modelCNN=tf.keras.Sequential()\n",
    "# modelCNN.add(BatchNormalization(input_shape=(128,8,1)))\n",
    "# modelCNN.add(Conv2D(filters=32,kernel_size=(2,2),strides=(1,1),padding='SAME', use_bias=False, name='conv_1'))\n",
    "# modelCNN.add(BatchNormalization())\n",
    "# modelCNN.add(Activation('relu'))\n",
    "# modelCNN.add(MaxPooling2D(2,2))\n",
    "# modelCNN.add(Conv2D(filters=32,kernel_size=(4,4),strides=(2,2), use_bias=False,\n",
    "#                          padding='SAME', name='conv_2'))\n",
    "# modelCNN.add(BatchNormalization())\n",
    "# modelCNN.add(Activation('relu'))\n",
    "# modelCNN.add(Dropout(0.3))\n",
    "# modelCNN.add(Conv2D(filters=32,kernel_size=(4,4),strides=(4,4), use_bias=False,\n",
    "#                          padding='SAME', name='conv_3'))\n",
    "# modelCNN.add(BatchNormalization())\n",
    "# modelCNN.add(Activation('relu'))\n",
    "# modelCNN.add(Dropout(0.3))\n",
    "# modelCNN.add(Flatten())\n",
    "# modelCNN.add(Dense(512, activation='relu', name='dense_2'))\n",
    "# modelCNN.add(Dense(256, activation='relu', name='dense_3'))\n",
    "# modelCNN.add(Dropout(0.5))\n",
    "# modelCNN.add(Dense(4, activation='softmax', name='dense_4'))\n",
    "#modelCNN=tf.keras.Functional()\n",
    "inputs= Input(shape=(128,8,1),name='input')\n",
    "hidden=BatchNormalization(input_shape=(128,8,1))(inputs)\n",
    "hidden=Conv2D(filters=32,kernel_size=(2,2),strides=(1,1),padding='SAME', use_bias=False, name='conv_1')(hidden)\n",
    "hidden=BatchNormalization()(hidden)\n",
    "hidden=Activation('relu')(hidden)\n",
    "hidden=MaxPooling2D(2,2)(hidden)\n",
    "hidden=Conv2D(filters=32,kernel_size=(4,4),strides=(2,2), use_bias=False,\n",
    "                         padding='SAME', name='conv_2')(hidden)\n",
    "hidden=BatchNormalization()(hidden)\n",
    "hidden=Activation('relu')(hidden)\n",
    "hidden=Dropout(0.3)(hidden)\n",
    "hidden=Conv2D(filters=32,kernel_size=(4,4),strides=(4,4), use_bias=False,\n",
    "                         padding='SAME', name='conv_3')(hidden)\n",
    "hidden=BatchNormalization()(hidden)\n",
    "hidden=Activation('relu')(hidden)\n",
    "hidden=Dropout(0.3)(hidden)\n",
    "hidden=Flatten()(hidden)\n",
    "hidden=Dense(512, activation='relu', name='dense_2')(hidden)\n",
    "hidden=Dense(256, activation='relu', name='dense_3')(hidden)\n",
    "hidden=Dropout(0.5)(hidden)\n",
    "output1=Dense(4, activation='softmax', name='output_range')(hidden)\n",
    "output2=Dense(3,activation='softmax',name=\"output_class\")(hidden)\n",
    "#output3=Dense(1,activation='linear',name=\"output_cont_range\")(hidden)\n",
    "\n",
    "\n",
    "modelCNN=Model(inputs=inputs,outputs=[output1,output2])\n",
    "optimizer= tf.keras.optimizers.Adam()\n",
    "modelCNN.compile(loss={'output_range':'categorical_crossentropy',\n",
    "                       'output_class':'categorical_crossentropy'},optimizer=optimizer,metrics=['accuracy'])\n",
    "\n",
    "\n",
    "reduceLR = tf.keras.callbacks.ReduceLROnPlateau(monitor='val_loss', factor=0.5,\n",
    "                                 verbose=1, patience=10, mode='auto')\n",
    "early = tf.keras.callbacks.EarlyStopping(monitor='val_loss', min_delta=1e-4,\n",
    "                          patience=20, mode='auto', restore_best_weights=True)\n",
    "modelCNN.build(input_shape=(None,128,8,1))\n",
    "modelCNN.summary()\n",
    "history = modelCNN.fit(train_feats, {'output_range':range_train_targs_oh,'output_class': class_train_targs_oh},\n",
    "                      epochs=200,\n",
    "                      batch_size=32,\n",
    "                      shuffle=True,\n",
    "                      #class_weight={'output_1':range_weights,'output_2': class_weights},\n",
    "                      validation_split=0.2,\n",
    "                      callbacks=[reduceLR, early])"
   ],
   "metadata": {
    "collapsed": false,
    "pycharm": {
     "name": "#%%\n"
    }
   }
  },
  {
   "cell_type": "code",
   "execution_count": 129,
   "outputs": [
    {
     "name": "stdout",
     "output_type": "stream",
     "text": [
      "152/152 [==============================] - 1s 8ms/step\n",
      "152/152 [==============================] - 1s 8ms/step - loss: 0.6899 - output_range_loss: 0.6227 - output_class_loss: 0.0672 - output_range_accuracy: 0.7461 - output_class_accuracy: 0.9760\n",
      "152/152 [==============================] - 1s 8ms/step\n"
     ]
    }
   ],
   "source": [
    "score = modelCNN.predict(test_feats)\n",
    "modelCNN.evaluate(test_feats,y={'output_range':range_test_targs_oh,'output_class':class_test_targs_oh})\n",
    "test_predictions=modelCNN.predict(test_feats)"
   ],
   "metadata": {
    "collapsed": false,
    "pycharm": {
     "name": "#%%\n"
    }
   }
  },
  {
   "cell_type": "code",
   "execution_count": 130,
   "outputs": [
    {
     "data": {
      "text/plain": "Text(0.5, 1.0, 'Combined Class  Conf. Matrix')"
     },
     "execution_count": 130,
     "metadata": {},
     "output_type": "execute_result"
    },
    {
     "data": {
      "text/plain": "<Figure size 360x360 with 2 Axes>",
      "image/png": "[encoded data removed]"
     },
     "metadata": {
      "needs_background": "light"
     },
     "output_type": "display_data"
    }
   ],
   "source": [
    "from sklearn.metrics import confusion_matrix\n",
    "y_pred = np.argmax(test_predictions[1],axis=-1)\n",
    "y_true=np.argmax(class_test_targs_oh, axis=-1)\n",
    "cm = confusion_matrix(y_true, y_pred)\n",
    "## Get Class Labels\n",
    "class_names = [\"Matrice\",\"IF\",\"Phantom\"]\n",
    "#class_names = [\"<40\",\"40-60\",\"60-80\",\">80\"]\n",
    "# Plot confusion matrix in a beautiful manner\n",
    "fig = plt.figure(figsize=(5, 5))\n",
    "ax= plt.subplot()\n",
    "sns.heatmap(cm, annot=True, ax = ax, fmt = 'g'); #annot=True to annotate cells\n",
    "# labels, title and ticks\n",
    "ax.set_xlabel('Predicted', fontsize=20)\n",
    "ax.xaxis.set_label_position('bottom')\n",
    "plt.xticks(rotation=90)\n",
    "ax.xaxis.set_ticklabels(class_names, fontsize = 10)\n",
    "ax.xaxis.tick_bottom()\n",
    "\n",
    "ax.set_ylabel('True', fontsize=20)\n",
    "ax.yaxis.set_ticklabels(class_names, fontsize = 10)\n",
    "plt.yticks(rotation=0)\n",
    "\n",
    "plt.title('Combined Class  Conf. Matrix', fontsize=20)"
   ],
   "metadata": {
    "collapsed": false,
    "pycharm": {
     "name": "#%%\n"
    }
   }
  },
  {
   "cell_type": "code",
   "execution_count": 132,
   "outputs": [
    {
     "name": "stdout",
     "output_type": "stream",
     "text": [
      "              precision    recall  f1-score   support\n",
      "\n",
      "           0       0.98      0.98      0.98      2338\n",
      "           1       0.99      0.98      0.98       671\n",
      "           2       0.97      0.98      0.97      1828\n",
      "\n",
      "    accuracy                           0.98      4837\n",
      "   macro avg       0.98      0.98      0.98      4837\n",
      "weighted avg       0.98      0.98      0.98      4837\n",
      "\n"
     ]
    }
   ],
   "source": [
    "print(classification_report(y_true=y_true,y_pred=y_pred)) #this is using the multi-output regression/classification"
   ],
   "metadata": {
    "collapsed": false,
    "pycharm": {
     "name": "#%%\n"
    }
   }
  },
  {
   "cell_type": "code",
   "execution_count": 143,
   "outputs": [
    {
     "data": {
      "text/plain": "Text(0.5, 1.0, 'CNN (Multi-out) Combined Matrice Confusion Matrix')"
     },
     "execution_count": 143,
     "metadata": {},
     "output_type": "execute_result"
    },
    {
     "data": {
      "text/plain": "<Figure size 360x360 with 2 Axes>",
      "image/png": "[encoded data removed]"
     },
     "metadata": {
      "needs_background": "light"
     },
     "output_type": "display_data"
    }
   ],
   "source": [
    "single_drone_truth=[]\n",
    "single_drone_pred=[]\n",
    "for x in range(len(class_test_targs)):\n",
    "    if class_test_targs[x]==0:\n",
    "        single_drone_truth.append(np.argmax(range_test_targs_oh[x], axis=-1))\n",
    "        single_drone_pred.append(np.argmax(test_predictions[0][x], axis=-1))\n",
    "        cm = confusion_matrix(single_drone_truth, single_drone_pred)\n",
    "## Get Class Labels\n",
    "class_names = [\"<40\",\"40-60\",\"60-80\",\">80\"]\n",
    "#class_names = [\"<30\", \"40\",\"50\",\"60\",\"70\",\"80\",\"80+\"]\n",
    "# Plot confusion matrix in a beautiful manner\n",
    "fig = plt.figure(figsize=(5, 5))\n",
    "ax= plt.subplot()\n",
    "sns.heatmap(cm, annot=True, ax = ax, fmt = 'g'); #annot=True to annotate cells\n",
    "# labels, title and ticks\n",
    "ax.set_xlabel('Predicted', fontsize=20)\n",
    "ax.xaxis.set_label_position('bottom')\n",
    "plt.xticks(rotation=90)\n",
    "ax.xaxis.set_ticklabels(class_names, fontsize = 10)\n",
    "ax.xaxis.tick_bottom()\n",
    "\n",
    "ax.set_ylabel('True', fontsize=20)\n",
    "ax.yaxis.set_ticklabels(class_names, fontsize = 10)\n",
    "plt.yticks(rotation=0)\n",
    "\n",
    "plt.title('CNN (Multi-out) Combined Matrice Confusion Matrix', fontsize=20)\n"
   ],
   "metadata": {
    "collapsed": false,
    "pycharm": {
     "name": "#%%\n"
    }
   }
  },
  {
   "cell_type": "code",
   "execution_count": 144,
   "outputs": [
    {
     "name": "stdout",
     "output_type": "stream",
     "text": [
      "              precision    recall  f1-score   support\n",
      "\n",
      "           0       0.89      0.89      0.89       792\n",
      "           1       0.68      0.59      0.63       323\n",
      "           2       0.76      0.80      0.78       589\n",
      "           3       0.80      0.83      0.81       634\n",
      "\n",
      "    accuracy                           0.81      2338\n",
      "   macro avg       0.78      0.77      0.78      2338\n",
      "weighted avg       0.81      0.81      0.81      2338\n",
      "\n"
     ]
    }
   ],
   "source": [
    "print(classification_report(y_true=single_drone_truth,y_pred=single_drone_pred)) #this is using the multi-output regression/classification"
   ],
   "metadata": {
    "collapsed": false,
    "pycharm": {
     "name": "#%%\n"
    }
   }
  },
  {
   "cell_type": "markdown",
   "source": [
    "# Multiclass classification"
   ],
   "metadata": {
    "collapsed": false,
    "pycharm": {
     "name": "#%% md\n"
    }
   }
  },
  {
   "cell_type": "code",
   "execution_count": 112,
   "outputs": [
    {
     "name": "stdout",
     "output_type": "stream",
     "text": [
      "Model: \"sequential_24\"\n",
      "_________________________________________________________________\n",
      " Layer (type)                Output Shape              Param #   \n",
      "=================================================================\n",
      " batch_normalization_103 (Ba  (None, 128, 8, 1)        4         \n",
      " tchNormalization)                                               \n",
      "                                                                 \n",
      " conv_1 (Conv2D)             (None, 128, 8, 32)        128       \n",
      "                                                                 \n",
      " batch_normalization_104 (Ba  (None, 128, 8, 32)       128       \n",
      " tchNormalization)                                               \n",
      "                                                                 \n",
      " activation_78 (Activation)  (None, 128, 8, 32)        0         \n",
      "                                                                 \n",
      " max_pooling2d_19 (MaxPoolin  (None, 64, 4, 32)        0         \n",
      " g2D)                                                            \n",
      "                                                                 \n",
      " conv_2 (Conv2D)             (None, 64, 4, 32)         16384     \n",
      "                                                                 \n",
      " batch_normalization_105 (Ba  (None, 64, 4, 32)        128       \n",
      " tchNormalization)                                               \n",
      "                                                                 \n",
      " activation_79 (Activation)  (None, 64, 4, 32)         0         \n",
      "                                                                 \n",
      " dropout_72 (Dropout)        (None, 64, 4, 32)         0         \n",
      "                                                                 \n",
      " conv_3 (Conv2D)             (None, 32, 2, 32)         16384     \n",
      "                                                                 \n",
      " batch_normalization_106 (Ba  (None, 32, 2, 32)        128       \n",
      " tchNormalization)                                               \n",
      "                                                                 \n",
      " activation_80 (Activation)  (None, 32, 2, 32)         0         \n",
      "                                                                 \n",
      " max_pooling2d_20 (MaxPoolin  (None, 16, 1, 32)        0         \n",
      " g2D)                                                            \n",
      "                                                                 \n",
      " dropout_73 (Dropout)        (None, 16, 1, 32)         0         \n",
      "                                                                 \n",
      " flatten_18 (Flatten)        (None, 512)               0         \n",
      "                                                                 \n",
      " dense_2 (Dense)             (None, 512)               262656    \n",
      "                                                                 \n",
      " dense_3 (Dense)             (None, 256)               131328    \n",
      "                                                                 \n",
      " dropout_74 (Dropout)        (None, 256)               0         \n",
      "                                                                 \n",
      " output_range (Dense)        (None, 4)                 1028      \n",
      "                                                                 \n",
      "=================================================================\n",
      "Total params: 428,296\n",
      "Trainable params: 428,102\n",
      "Non-trainable params: 194\n",
      "_________________________________________________________________\n",
      "Epoch 1/200\n",
      "426/426 [==============================] - 17s 38ms/step - loss: 1.2811 - accuracy: 0.4606 - val_loss: 1.0954 - val_accuracy: 0.5314 - lr: 0.0010\n",
      "Epoch 2/200\n",
      "426/426 [==============================] - 17s 41ms/step - loss: 1.1434 - accuracy: 0.5291 - val_loss: 1.0732 - val_accuracy: 0.5161 - lr: 0.0010\n",
      "Epoch 3/200\n",
      "426/426 [==============================] - 17s 41ms/step - loss: 1.0968 - accuracy: 0.5455 - val_loss: 0.9954 - val_accuracy: 0.5725 - lr: 0.0010\n",
      "Epoch 4/200\n",
      "426/426 [==============================] - 19s 45ms/step - loss: 1.0510 - accuracy: 0.5600 - val_loss: 0.9583 - val_accuracy: 0.5825 - lr: 0.0010\n",
      "Epoch 5/200\n",
      "426/426 [==============================] - 17s 41ms/step - loss: 1.0075 - accuracy: 0.5836 - val_loss: 1.0136 - val_accuracy: 0.5305 - lr: 0.0010\n",
      "Epoch 6/200\n",
      "426/426 [==============================] - 19s 44ms/step - loss: 0.9711 - accuracy: 0.5993 - val_loss: 0.9349 - val_accuracy: 0.5966 - lr: 0.0010\n",
      "Epoch 7/200\n",
      "426/426 [==============================] - 19s 45ms/step - loss: 0.9353 - accuracy: 0.6202 - val_loss: 0.8783 - val_accuracy: 0.6122 - lr: 0.0010\n",
      "Epoch 8/200\n",
      "426/426 [==============================] - 21s 48ms/step - loss: 0.9130 - accuracy: 0.6333 - val_loss: 0.8766 - val_accuracy: 0.6160 - lr: 0.0010\n",
      "Epoch 9/200\n",
      "426/426 [==============================] - 21s 49ms/step - loss: 0.8915 - accuracy: 0.6407 - val_loss: 0.8258 - val_accuracy: 0.6477 - lr: 0.0010\n",
      "Epoch 10/200\n",
      "426/426 [==============================] - 20s 47ms/step - loss: 0.8678 - accuracy: 0.6509 - val_loss: 0.8657 - val_accuracy: 0.6171 - lr: 0.0010\n",
      "Epoch 11/200\n",
      "426/426 [==============================] - 21s 50ms/step - loss: 0.8316 - accuracy: 0.6675 - val_loss: 0.9309 - val_accuracy: 0.6160 - lr: 0.0010\n",
      "Epoch 12/200\n",
      "426/426 [==============================] - 22s 51ms/step - loss: 0.8228 - accuracy: 0.6722 - val_loss: 0.8237 - val_accuracy: 0.6450 - lr: 0.0010\n",
      "Epoch 13/200\n",
      "426/426 [==============================] - 21s 48ms/step - loss: 0.8020 - accuracy: 0.6804 - val_loss: 0.7720 - val_accuracy: 0.6817 - lr: 0.0010\n",
      "Epoch 14/200\n",
      "426/426 [==============================] - 21s 49ms/step - loss: 0.7885 - accuracy: 0.6848 - val_loss: 1.1233 - val_accuracy: 0.5528 - lr: 0.0010\n",
      "Epoch 15/200\n",
      "426/426 [==============================] - 21s 49ms/step - loss: 0.7746 - accuracy: 0.6926 - val_loss: 0.7627 - val_accuracy: 0.6762 - lr: 0.0010\n",
      "Epoch 16/200\n",
      "426/426 [==============================] - 21s 49ms/step - loss: 0.7606 - accuracy: 0.6974 - val_loss: 0.7438 - val_accuracy: 0.6941 - lr: 0.0010\n",
      "Epoch 17/200\n",
      "426/426 [==============================] - 21s 49ms/step - loss: 0.7503 - accuracy: 0.7028 - val_loss: 0.7603 - val_accuracy: 0.6676 - lr: 0.0010\n",
      "Epoch 18/200\n",
      "426/426 [==============================] - 22s 52ms/step - loss: 0.7391 - accuracy: 0.7110 - val_loss: 0.8006 - val_accuracy: 0.6612 - lr: 0.0010\n",
      "Epoch 19/200\n",
      "426/426 [==============================] - 21s 50ms/step - loss: 0.7213 - accuracy: 0.7196 - val_loss: 0.8013 - val_accuracy: 0.6671 - lr: 0.0010\n",
      "Epoch 20/200\n",
      "426/426 [==============================] - 21s 49ms/step - loss: 0.7064 - accuracy: 0.7194 - val_loss: 0.7346 - val_accuracy: 0.6923 - lr: 0.0010\n",
      "Epoch 21/200\n",
      "426/426 [==============================] - 21s 48ms/step - loss: 0.6912 - accuracy: 0.7259 - val_loss: 0.7730 - val_accuracy: 0.6923 - lr: 0.0010\n",
      "Epoch 22/200\n",
      "426/426 [==============================] - 22s 52ms/step - loss: 0.6916 - accuracy: 0.7272 - val_loss: 0.8090 - val_accuracy: 0.6697 - lr: 0.0010\n",
      "Epoch 23/200\n",
      "426/426 [==============================] - 22s 51ms/step - loss: 0.6813 - accuracy: 0.7342 - val_loss: 0.7098 - val_accuracy: 0.7111 - lr: 0.0010\n",
      "Epoch 24/200\n",
      "426/426 [==============================] - 21s 49ms/step - loss: 0.6627 - accuracy: 0.7434 - val_loss: 0.9071 - val_accuracy: 0.6359 - lr: 0.0010\n",
      "Epoch 25/200\n",
      "426/426 [==============================] - 22s 52ms/step - loss: 0.6607 - accuracy: 0.7436 - val_loss: 1.2605 - val_accuracy: 0.5828 - lr: 0.0010\n",
      "Epoch 26/200\n",
      "426/426 [==============================] - 22s 51ms/step - loss: 0.6550 - accuracy: 0.7425 - val_loss: 0.6933 - val_accuracy: 0.7202 - lr: 0.0010\n",
      "Epoch 27/200\n",
      "426/426 [==============================] - 21s 49ms/step - loss: 0.6428 - accuracy: 0.7505 - val_loss: 0.9644 - val_accuracy: 0.6233 - lr: 0.0010\n",
      "Epoch 28/200\n",
      "426/426 [==============================] - 22s 52ms/step - loss: 0.6251 - accuracy: 0.7575 - val_loss: 1.3349 - val_accuracy: 0.5652 - lr: 0.0010\n",
      "Epoch 29/200\n",
      "426/426 [==============================] - 21s 50ms/step - loss: 0.6217 - accuracy: 0.7604 - val_loss: 0.7441 - val_accuracy: 0.6914 - lr: 0.0010\n",
      "Epoch 30/200\n",
      "426/426 [==============================] - 22s 51ms/step - loss: 0.6227 - accuracy: 0.7571 - val_loss: 1.4013 - val_accuracy: 0.5338 - lr: 0.0010\n",
      "Epoch 31/200\n",
      "426/426 [==============================] - 21s 50ms/step - loss: 0.6062 - accuracy: 0.7650 - val_loss: 1.2533 - val_accuracy: 0.5831 - lr: 0.0010\n",
      "Epoch 32/200\n",
      "426/426 [==============================] - 22s 52ms/step - loss: 0.6028 - accuracy: 0.7635 - val_loss: 0.6890 - val_accuracy: 0.7234 - lr: 0.0010\n",
      "Epoch 33/200\n",
      "426/426 [==============================] - 20s 47ms/step - loss: 0.5886 - accuracy: 0.7760 - val_loss: 1.0427 - val_accuracy: 0.6295 - lr: 0.0010\n",
      "Epoch 34/200\n",
      "426/426 [==============================] - 21s 49ms/step - loss: 0.5928 - accuracy: 0.7699 - val_loss: 1.9646 - val_accuracy: 0.4680 - lr: 0.0010\n",
      "Epoch 35/200\n",
      "426/426 [==============================] - 22s 51ms/step - loss: 0.5862 - accuracy: 0.7757 - val_loss: 0.7476 - val_accuracy: 0.7020 - lr: 0.0010\n",
      "Epoch 36/200\n",
      "426/426 [==============================] - 22s 50ms/step - loss: 0.5685 - accuracy: 0.7781 - val_loss: 1.2666 - val_accuracy: 0.5969 - lr: 0.0010\n",
      "Epoch 37/200\n",
      "426/426 [==============================] - 22s 51ms/step - loss: 0.5560 - accuracy: 0.7835 - val_loss: 0.9572 - val_accuracy: 0.6400 - lr: 0.0010\n",
      "Epoch 38/200\n",
      "426/426 [==============================] - 21s 50ms/step - loss: 0.5673 - accuracy: 0.7815 - val_loss: 0.7422 - val_accuracy: 0.7114 - lr: 0.0010\n",
      "Epoch 39/200\n",
      "426/426 [==============================] - 21s 49ms/step - loss: 0.5470 - accuracy: 0.7892 - val_loss: 1.4516 - val_accuracy: 0.5596 - lr: 0.0010\n",
      "Epoch 40/200\n",
      "426/426 [==============================] - 21s 49ms/step - loss: 0.5411 - accuracy: 0.7925 - val_loss: 1.1811 - val_accuracy: 0.6069 - lr: 0.0010\n",
      "Epoch 41/200\n",
      "426/426 [==============================] - 20s 48ms/step - loss: 0.5475 - accuracy: 0.7903 - val_loss: 0.6812 - val_accuracy: 0.7270 - lr: 0.0010\n",
      "Epoch 42/200\n",
      "426/426 [==============================] - 21s 49ms/step - loss: 0.5262 - accuracy: 0.8005 - val_loss: 0.6665 - val_accuracy: 0.7440 - lr: 0.0010\n",
      "Epoch 43/200\n",
      "426/426 [==============================] - 21s 50ms/step - loss: 0.5271 - accuracy: 0.7979 - val_loss: 0.6656 - val_accuracy: 0.7466 - lr: 0.0010\n",
      "Epoch 44/200\n",
      "426/426 [==============================] - 20s 48ms/step - loss: 0.5173 - accuracy: 0.8036 - val_loss: 1.3718 - val_accuracy: 0.5705 - lr: 0.0010\n",
      "Epoch 45/200\n",
      "426/426 [==============================] - 21s 50ms/step - loss: 0.5135 - accuracy: 0.8030 - val_loss: 0.6725 - val_accuracy: 0.7308 - lr: 0.0010\n",
      "Epoch 46/200\n",
      "426/426 [==============================] - 21s 50ms/step - loss: 0.5030 - accuracy: 0.8082 - val_loss: 0.7225 - val_accuracy: 0.7137 - lr: 0.0010\n",
      "Epoch 47/200\n",
      "426/426 [==============================] - 21s 49ms/step - loss: 0.5083 - accuracy: 0.8070 - val_loss: 0.7829 - val_accuracy: 0.6988 - lr: 0.0010\n",
      "Epoch 48/200\n",
      "426/426 [==============================] - 21s 49ms/step - loss: 0.4962 - accuracy: 0.8127 - val_loss: 1.4001 - val_accuracy: 0.5810 - lr: 0.0010\n",
      "Epoch 49/200\n",
      "426/426 [==============================] - 21s 50ms/step - loss: 0.4919 - accuracy: 0.8156 - val_loss: 0.6889 - val_accuracy: 0.7378 - lr: 0.0010\n",
      "Epoch 50/200\n",
      "426/426 [==============================] - 21s 50ms/step - loss: 0.4808 - accuracy: 0.8182 - val_loss: 0.7269 - val_accuracy: 0.7334 - lr: 0.0010\n",
      "Epoch 51/200\n",
      "426/426 [==============================] - 22s 51ms/step - loss: 0.4881 - accuracy: 0.8111 - val_loss: 3.6423 - val_accuracy: 0.4210 - lr: 0.0010\n",
      "Epoch 52/200\n",
      "426/426 [==============================] - 21s 49ms/step - loss: 0.4770 - accuracy: 0.8211 - val_loss: 1.2776 - val_accuracy: 0.6060 - lr: 0.0010\n",
      "Epoch 53/200\n",
      "426/426 [==============================] - 21s 50ms/step - loss: 0.4677 - accuracy: 0.8254 - val_loss: 0.8880 - val_accuracy: 0.6747 - lr: 0.0010\n",
      "Epoch 54/200\n",
      "426/426 [==============================] - 21s 49ms/step - loss: 0.4690 - accuracy: 0.8205 - val_loss: 0.6552 - val_accuracy: 0.7499 - lr: 0.0010\n",
      "Epoch 55/200\n",
      "426/426 [==============================] - 21s 49ms/step - loss: 0.4606 - accuracy: 0.8279 - val_loss: 12.5540 - val_accuracy: 0.3379 - lr: 0.0010\n",
      "Epoch 56/200\n",
      "426/426 [==============================] - 21s 50ms/step - loss: 0.4512 - accuracy: 0.8282 - val_loss: 1.1044 - val_accuracy: 0.6342 - lr: 0.0010\n",
      "Epoch 57/200\n",
      "426/426 [==============================] - 21s 49ms/step - loss: 0.4511 - accuracy: 0.8292 - val_loss: 1.2794 - val_accuracy: 0.5963 - lr: 0.0010\n",
      "Epoch 58/200\n",
      "426/426 [==============================] - 21s 50ms/step - loss: 0.4421 - accuracy: 0.8317 - val_loss: 0.7120 - val_accuracy: 0.7501 - lr: 0.0010\n",
      "Epoch 59/200\n",
      "426/426 [==============================] - 22s 52ms/step - loss: 0.4502 - accuracy: 0.8303 - val_loss: 0.6855 - val_accuracy: 0.7431 - lr: 0.0010\n",
      "Epoch 60/200\n",
      "426/426 [==============================] - 22s 51ms/step - loss: 0.4278 - accuracy: 0.8384 - val_loss: 0.6696 - val_accuracy: 0.7501 - lr: 0.0010\n",
      "Epoch 61/200\n",
      "426/426 [==============================] - 21s 50ms/step - loss: 0.4320 - accuracy: 0.8353 - val_loss: 1.4953 - val_accuracy: 0.5687 - lr: 0.0010\n",
      "Epoch 62/200\n",
      "426/426 [==============================] - 21s 50ms/step - loss: 0.4388 - accuracy: 0.8355 - val_loss: 0.8235 - val_accuracy: 0.6996 - lr: 0.0010\n",
      "Epoch 63/200\n",
      "426/426 [==============================] - 22s 51ms/step - loss: 0.4141 - accuracy: 0.8465 - val_loss: 0.6796 - val_accuracy: 0.7516 - lr: 0.0010\n",
      "Epoch 64/200\n",
      "426/426 [==============================] - 21s 48ms/step - loss: 0.4184 - accuracy: 0.8409 - val_loss: 1.2227 - val_accuracy: 0.6216 - lr: 0.0010\n",
      "Epoch 65/200\n",
      "426/426 [==============================] - 22s 51ms/step - loss: 0.4148 - accuracy: 0.8475 - val_loss: 0.6844 - val_accuracy: 0.7528 - lr: 0.0010\n",
      "Epoch 66/200\n",
      "426/426 [==============================] - 21s 50ms/step - loss: 0.4240 - accuracy: 0.8403 - val_loss: 1.4602 - val_accuracy: 0.5981 - lr: 0.0010\n",
      "Epoch 67/200\n",
      "426/426 [==============================] - 21s 50ms/step - loss: 0.4087 - accuracy: 0.8480 - val_loss: 0.7669 - val_accuracy: 0.7214 - lr: 0.0010\n",
      "Epoch 68/200\n",
      "426/426 [==============================] - 21s 50ms/step - loss: 0.4133 - accuracy: 0.8467 - val_loss: 0.7775 - val_accuracy: 0.7117 - lr: 0.0010\n",
      "Epoch 69/200\n",
      "426/426 [==============================] - 22s 51ms/step - loss: 0.4109 - accuracy: 0.8491 - val_loss: 0.9846 - val_accuracy: 0.6600 - lr: 0.0010\n",
      "Epoch 70/200\n",
      "426/426 [==============================] - 22s 52ms/step - loss: 0.4034 - accuracy: 0.8508 - val_loss: 1.8070 - val_accuracy: 0.5784 - lr: 0.0010\n",
      "Epoch 71/200\n",
      "426/426 [==============================] - 23s 53ms/step - loss: 0.3976 - accuracy: 0.8504 - val_loss: 0.7096 - val_accuracy: 0.7478 - lr: 0.0010\n",
      "Epoch 72/200\n",
      "426/426 [==============================] - 24s 57ms/step - loss: 0.3899 - accuracy: 0.8544 - val_loss: 2.3802 - val_accuracy: 0.4745 - lr: 0.0010\n",
      "Epoch 73/200\n",
      "426/426 [==============================] - 24s 56ms/step - loss: 0.3902 - accuracy: 0.8571 - val_loss: 1.8358 - val_accuracy: 0.5722 - lr: 0.0010\n",
      "Epoch 74/200\n",
      "425/426 [============================>.] - ETA: 0s - loss: 0.3907 - accuracy: 0.8562\n",
      "Epoch 74: ReduceLROnPlateau reducing learning rate to 0.0005000000237487257.\n",
      "426/426 [==============================] - 24s 57ms/step - loss: 0.3905 - accuracy: 0.8563 - val_loss: 0.6932 - val_accuracy: 0.7475 - lr: 0.0010\n",
      "Epoch 75/200\n",
      "426/426 [==============================] - 23s 54ms/step - loss: 0.3647 - accuracy: 0.8684 - val_loss: 1.3520 - val_accuracy: 0.6154 - lr: 5.0000e-04\n",
      "Epoch 76/200\n",
      "426/426 [==============================] - 21s 49ms/step - loss: 0.3478 - accuracy: 0.8697 - val_loss: 0.7774 - val_accuracy: 0.7352 - lr: 5.0000e-04\n",
      "Epoch 77/200\n",
      "426/426 [==============================] - 23s 53ms/step - loss: 0.3340 - accuracy: 0.8769 - val_loss: 0.7775 - val_accuracy: 0.7387 - lr: 5.0000e-04\n",
      "Epoch 78/200\n",
      "426/426 [==============================] - 21s 50ms/step - loss: 0.3376 - accuracy: 0.8731 - val_loss: 0.7716 - val_accuracy: 0.7396 - lr: 5.0000e-04\n",
      "Epoch 79/200\n",
      "426/426 [==============================] - 22s 51ms/step - loss: 0.3373 - accuracy: 0.8733 - val_loss: 1.1155 - val_accuracy: 0.6618 - lr: 5.0000e-04\n",
      "Epoch 80/200\n",
      "426/426 [==============================] - 22s 52ms/step - loss: 0.3370 - accuracy: 0.8743 - val_loss: 0.8796 - val_accuracy: 0.7193 - lr: 5.0000e-04\n",
      "Epoch 81/200\n",
      "426/426 [==============================] - 23s 53ms/step - loss: 0.3287 - accuracy: 0.8752 - val_loss: 0.8726 - val_accuracy: 0.7143 - lr: 5.0000e-04\n",
      "Epoch 82/200\n",
      "426/426 [==============================] - 23s 53ms/step - loss: 0.3369 - accuracy: 0.8777 - val_loss: 0.8116 - val_accuracy: 0.7393 - lr: 5.0000e-04\n",
      "Epoch 83/200\n",
      "426/426 [==============================] - 22s 51ms/step - loss: 0.3284 - accuracy: 0.8791 - val_loss: 2.9271 - val_accuracy: 0.5482 - lr: 5.0000e-04\n",
      "Epoch 84/200\n",
      "426/426 [==============================] - 22s 52ms/step - loss: 0.3142 - accuracy: 0.8818 - val_loss: 0.7349 - val_accuracy: 0.7548 - lr: 5.0000e-04\n",
      "Epoch 85/200\n",
      "426/426 [==============================] - 21s 50ms/step - loss: 0.3172 - accuracy: 0.8819 - val_loss: 1.1433 - val_accuracy: 0.6715 - lr: 5.0000e-04\n",
      "Epoch 86/200\n",
      "426/426 [==============================] - 22s 52ms/step - loss: 0.3186 - accuracy: 0.8798 - val_loss: 0.8330 - val_accuracy: 0.7240 - lr: 5.0000e-04\n",
      "Epoch 87/200\n",
      "426/426 [==============================] - 21s 50ms/step - loss: 0.3203 - accuracy: 0.8800 - val_loss: 0.7176 - val_accuracy: 0.7578 - lr: 5.0000e-04\n",
      "Epoch 88/200\n",
      "426/426 [==============================] - 23s 55ms/step - loss: 0.3167 - accuracy: 0.8819 - val_loss: 0.7492 - val_accuracy: 0.7578 - lr: 5.0000e-04\n",
      "Epoch 89/200\n",
      "426/426 [==============================] - 22s 52ms/step - loss: 0.3107 - accuracy: 0.8840 - val_loss: 1.0876 - val_accuracy: 0.6750 - lr: 5.0000e-04\n",
      "Epoch 90/200\n",
      "426/426 [==============================] - 22s 52ms/step - loss: 0.3027 - accuracy: 0.8861 - val_loss: 2.0163 - val_accuracy: 0.5831 - lr: 5.0000e-04\n",
      "Epoch 91/200\n",
      "426/426 [==============================] - 22s 52ms/step - loss: 0.3071 - accuracy: 0.8855 - val_loss: 0.9049 - val_accuracy: 0.7237 - lr: 5.0000e-04\n",
      "Epoch 92/200\n",
      "426/426 [==============================] - 21s 49ms/step - loss: 0.3065 - accuracy: 0.8859 - val_loss: 1.4232 - val_accuracy: 0.6453 - lr: 5.0000e-04\n",
      "Epoch 93/200\n",
      "426/426 [==============================] - 22s 52ms/step - loss: 0.2958 - accuracy: 0.8898 - val_loss: 1.7084 - val_accuracy: 0.6195 - lr: 5.0000e-04\n",
      "Epoch 94/200\n",
      "425/426 [============================>.] - ETA: 0s - loss: 0.3030 - accuracy: 0.8875\n",
      "Epoch 94: ReduceLROnPlateau reducing learning rate to 0.0002500000118743628.\n",
      "426/426 [==============================] - 22s 52ms/step - loss: 0.3036 - accuracy: 0.8872 - val_loss: 1.6310 - val_accuracy: 0.6124 - lr: 5.0000e-04\n"
     ]
    }
   ],
   "source": [
    "modelCNN_MC=tf.keras.Sequential()\n",
    "modelCNN_MC.add(BatchNormalization(input_shape=(128,8,1)))\n",
    "modelCNN_MC.add(Conv2D(filters=32,kernel_size=(2,2),strides=(1,1),padding='SAME', use_bias=False, name='conv_1'))\n",
    "modelCNN_MC.add(BatchNormalization())\n",
    "modelCNN_MC.add(Activation('relu'))\n",
    "modelCNN_MC.add(MaxPooling2D(2))\n",
    "modelCNN_MC.add(Conv2D(filters=32,kernel_size=(4,4),strides=(1,1), use_bias=False,\n",
    "                         padding='SAME', name='conv_2'))\n",
    "modelCNN_MC.add(BatchNormalization())\n",
    "modelCNN_MC.add(Activation('relu'))\n",
    "modelCNN_MC.add(Dropout(0.3))\n",
    "modelCNN_MC.add(Conv2D(filters=32,kernel_size=(4,4),strides=(2,2), use_bias=False,\n",
    "                         padding='SAME', name='conv_3'))\n",
    "modelCNN_MC.add(BatchNormalization())\n",
    "modelCNN_MC.add(Activation('relu'))\n",
    "modelCNN_MC.add(MaxPooling2D(2))\n",
    "modelCNN_MC.add(Dropout(0.3))\n",
    "modelCNN_MC.add(Flatten())\n",
    "modelCNN_MC.add(Dense(512, activation='relu', name='dense_2'))\n",
    "modelCNN_MC.add(Dense(256, activation='relu', name='dense_3'))\n",
    "modelCNN_MC.add(Dropout(0.5))\n",
    "modelCNN_MC.add(Dense(4, activation='softmax', name='output_range'))\n",
    "# inputs= Input(shape=(128,8,1),name='input')\n",
    "# hidden=BatchNormalization(input_shape=(128,8,1))(inputs)\n",
    "# hidden=Conv2D(filters=32,kernel_size=(2,2),strides=(1,1),padding='SAME', use_bias=False, name='conv_1')(hidden)\n",
    "# hidden=BatchNormalization()(hidden)\n",
    "# hidden=Activation('relu')(hidden)\n",
    "# hidden=MaxPooling2D(2,2)(hidden)\n",
    "# hidden=Conv2D(filters=32,kernel_size=(4,4),strides=(2,2), use_bias=False,\n",
    "#                          padding='SAME', name='conv_2')(hidden)\n",
    "# hidden=BatchNormalization()(hidden)\n",
    "# hidden=Activation('relu')(hidden)\n",
    "# hidden=Dropout(0.3)(hidden)\n",
    "# hidden=Conv2D(filters=32,kernel_size=(4,4),strides=(4,4), use_bias=False,\n",
    "#                          padding='SAME', name='conv_3')(hidden)\n",
    "# hidden=BatchNormalization()(hidden)\n",
    "# hidden=Activation('relu')(hidden)\n",
    "# hidden=Dropout(0.3)(hidden)\n",
    "# hidden=Flatten()(hidden)\n",
    "# hidden=Dense(512, activation='relu', name='dense_2')(hidden)\n",
    "# hidden=Dense(256, activation='relu', name='dense_3')(hidden)\n",
    "# hidden=Dropout(0.5)(hidden)\n",
    "# output1=Dense(7, activation='softmax', name='output_range')(hidden)\n",
    "#output2=Dense(3,activation='softmax',name=\"output_class\")(hidden)\n",
    "#output3=Dense(1,activation='linear',name=\"output_cont_range\")(hidden)\n",
    "\n",
    "\n",
    "#modelCNNv2=Model(inputs=inputs,outputs=[output1])\n",
    "optimizer= tf.keras.optimizers.Adam()\n",
    "modelCNN_MC.compile(loss='categorical_crossentropy',optimizer=optimizer,metrics=['accuracy'])\n",
    "\n",
    "\n",
    "reduceLR = tf.keras.callbacks.ReduceLROnPlateau(monitor='val_loss', factor=0.5,\n",
    "                                 verbose=1, patience=20, mode='auto')\n",
    "early = tf.keras.callbacks.EarlyStopping(monitor='val_loss', min_delta=1e-4,\n",
    "                          patience=40, mode='auto', restore_best_weights=True)\n",
    "modelCNN_MC.build(input_shape=(None,128,8,1))\n",
    "modelCNN_MC.summary()\n",
    "history = modelCNN_MC.fit(train_feats, range_train_targs_oh,\n",
    "                      epochs=200,\n",
    "                      batch_size=32,\n",
    "                      shuffle=True,\n",
    "                      class_weight=range_weights,\n",
    "                      validation_split=0.2,\n",
    "                      callbacks=[reduceLR, early])"
   ],
   "metadata": {
    "collapsed": false,
    "pycharm": {
     "name": "#%%\n"
    }
   }
  },
  {
   "cell_type": "markdown",
   "source": [
    "# Max val 0.7692"
   ],
   "metadata": {
    "collapsed": false,
    "pycharm": {
     "name": "#%% md\n"
    }
   }
  },
  {
   "cell_type": "code",
   "execution_count": 113,
   "outputs": [],
   "source": [
    "MLtools.save_model(modelCNN_MCV2,\"localization_CNNV2(best)_090222\")"
   ],
   "metadata": {
    "collapsed": false,
    "pycharm": {
     "name": "#%%\n"
    }
   }
  },
  {
   "cell_type": "code",
   "execution_count": 156,
   "outputs": [
    {
     "name": "stdout",
     "output_type": "stream",
     "text": [
      "51/51 [==============================] - 0s 8ms/step\n",
      "51/51 [==============================] - 0s 7ms/step - loss: 0.8734 - accuracy: 0.6516\n"
     ]
    },
    {
     "data": {
      "text/plain": "[0.8733940720558167, 0.6515527963638306]"
     },
     "execution_count": 156,
     "metadata": {},
     "output_type": "execute_result"
    }
   ],
   "source": [
    "test_targs_oh=tf.keras.utils.to_categorical(phantom_test_targs,num_classes=4)\n",
    "score = modelCNN_MCV2.predict(np.array(phantom_test_data))\n",
    "modelCNN_MCV2.evaluate(np.array(phantom_test_data),y={'output_range':test_targs_oh})\n",
    "#test_predictions=modelCNN_MCV2.predict(test_feats)"
   ],
   "metadata": {
    "collapsed": false,
    "pycharm": {
     "name": "#%%\n"
    }
   }
  },
  {
   "cell_type": "code",
   "execution_count": 174,
   "outputs": [
    {
     "data": {
      "text/plain": "<Figure size 360x360 with 2 Axes>",
      "image/png": "[encoded data removed]"
     },
     "metadata": {
      "needs_background": "light"
     },
     "output_type": "display_data"
    }
   ],
   "source": [
    "from sklearn.metrics import confusion_matrix\n",
    "y_pred = np.argmax(score,axis=-1)\n",
    "y_true=np.argmax(test_targs_oh, axis=-1)\n",
    "cm = confusion_matrix(y_true, y_pred)\n",
    "## Get Class Labels\n",
    "class_names = [\"<40\",\"40-60\",\"60-80\",\">80\"]\n",
    "#class_names = [\"<30\", \"40\",\"50\",\"60\",\"70\",\"80\",\"80+\"]\n",
    "# Plot confusion matrix in a beautiful manner\n",
    "fig = plt.figure(figsize=(5, 5))\n",
    "ax= plt.subplot()\n",
    "sns.heatmap(cm, annot=True, ax = ax, fmt = 'g'); #annot=True to annotate cells\n",
    "# labels, title and ticks\n",
    "ax.set_xlabel('Predicted', fontsize=20)\n",
    "ax.xaxis.set_label_position('bottom')\n",
    "plt.xticks(rotation=90)\n",
    "ax.xaxis.set_ticklabels(class_names, fontsize = 10)\n",
    "ax.xaxis.tick_bottom()\n",
    "\n",
    "ax.set_ylabel('True', fontsize=20)\n",
    "ax.yaxis.set_ticklabels(class_names, fontsize = 10)\n",
    "plt.yticks(rotation=0)\n",
    "\n",
    "#plt.title('2DCNN Classification PhantomDS Confusion Matrix', fontsize=20)\n",
    "plt.savefig(\"phantomds_confusion_CNNV2.pdf\",bbox_inches='tight')"
   ],
   "metadata": {
    "collapsed": false,
    "pycharm": {
     "name": "#%%\n"
    }
   }
  },
  {
   "cell_type": "code",
   "execution_count": 158,
   "outputs": [
    {
     "name": "stdout",
     "output_type": "stream",
     "text": [
      "              precision    recall  f1-score   support\n",
      "\n",
      "           0       0.72      0.74      0.73       418\n",
      "           1       0.61      0.53      0.57       349\n",
      "           2       0.43      0.49      0.46       285\n",
      "           3       0.76      0.74      0.75       558\n",
      "\n",
      "    accuracy                           0.65      1610\n",
      "   macro avg       0.63      0.63      0.63      1610\n",
      "weighted avg       0.66      0.65      0.65      1610\n",
      "\n",
      "0.62648738075193\n"
     ]
    }
   ],
   "source": [
    "from sklearn.metrics import balanced_accuracy_score\n",
    "print(classification_report(y_true=y_true,y_pred=y_pred))\n",
    "print(balanced_accuracy_score(y_true,y_pred))"
   ],
   "metadata": {
    "collapsed": false,
    "pycharm": {
     "name": "#%%\n"
    }
   }
  },
  {
   "cell_type": "code",
   "execution_count": 105,
   "outputs": [],
   "source": [
    "single_drone_truth=[]\n",
    "single_drone_pred=[]\n",
    "for x in range(len(class_test_targs)):\n",
    "    if class_test_targs[x]==2:\n",
    "        single_drone_truth.append(np.argmax(range_test_targs_oh[x], axis=-1))\n",
    "        single_drone_pred.append(np.argmax(test_predictions[x], axis=-1))\n",
    "        cm = confusion_matrix(single_drone_truth, single_drone_pred)"
   ],
   "metadata": {
    "collapsed": false,
    "pycharm": {
     "name": "#%%\n"
    }
   }
  },
  {
   "cell_type": "code",
   "execution_count": 106,
   "outputs": [
    {
     "data": {
      "text/plain": "<Figure size 360x360 with 2 Axes>",
      "image/png": "[encoded data removed]"
     },
     "metadata": {
      "needs_background": "light"
     },
     "output_type": "display_data"
    }
   ],
   "source": [
    "cm = confusion_matrix(single_drone_truth, single_drone_pred)\n",
    "## Get Class Labels\n",
    "class_names = [\"<40\",\"40-60\",\"60-80\",\">80\"]\n",
    "#class_names = [\"<30\", \"40\",\"50\",\"60\",\"70\",\"80\",\"80+\"]\n",
    "# Plot confusion matrix in a beautiful manner\n",
    "fig = plt.figure(figsize=(5, 5))\n",
    "ax= plt.subplot()\n",
    "sns.heatmap(cm, annot=True, ax = ax, fmt = 'g'); #annot=True to annotate cells\n",
    "# labels, title and ticks\n",
    "ax.set_xlabel('Predicted', fontsize=20)\n",
    "ax.xaxis.set_label_position('bottom')\n",
    "plt.xticks(rotation=90)\n",
    "ax.xaxis.set_ticklabels(class_names, fontsize = 10)\n",
    "ax.xaxis.tick_bottom()\n",
    "\n",
    "ax.set_ylabel('True', fontsize=20)\n",
    "ax.yaxis.set_ticklabels(class_names, fontsize = 10)\n",
    "plt.yticks(rotation=0)\n",
    "\n",
    "plt.title('CNN Combined IF Confusion Matrix', fontsize=20)\n",
    "plt.tight_layout()\n",
    "plt.savefig(\"IF_CM.pdf\")"
   ],
   "metadata": {
    "collapsed": false,
    "pycharm": {
     "name": "#%%\n"
    }
   }
  },
  {
   "cell_type": "code",
   "execution_count": 104,
   "outputs": [
    {
     "name": "stdout",
     "output_type": "stream",
     "text": [
      "              precision    recall  f1-score   support\n",
      "\n",
      "           0       0.93      0.89      0.91       748\n",
      "           1       0.61      0.68      0.64       265\n",
      "           2       0.74      0.77      0.75       435\n",
      "           3       0.85      0.83      0.84       625\n",
      "\n",
      "    accuracy                           0.82      2073\n",
      "   macro avg       0.78      0.79      0.79      2073\n",
      "weighted avg       0.83      0.82      0.82      2073\n",
      "\n"
     ]
    }
   ],
   "source": [
    "print(classification_report(y_true=single_drone_truth,y_pred=single_drone_pred))"
   ],
   "metadata": {
    "collapsed": false,
    "pycharm": {
     "name": "#%%\n"
    }
   }
  },
  {
   "cell_type": "code",
   "execution_count": 111,
   "outputs": [
    {
     "data": {
      "image/png": "[encoded data removed]",
      "text/plain": "<IPython.core.display.Image object>"
     },
     "execution_count": 111,
     "metadata": {},
     "output_type": "execute_result"
    }
   ],
   "source": [
    "tf.keras.utils.plot_model(modelCNN_MC)"
   ],
   "metadata": {
    "collapsed": false,
    "pycharm": {
     "name": "#%%\n"
    }
   }
  },
  {
   "cell_type": "markdown",
   "source": [
    "# Best performing model"
   ],
   "metadata": {
    "collapsed": false,
    "pycharm": {
     "name": "#%% md\n"
    }
   }
  },
  {
   "cell_type": "code",
   "execution_count": 153,
   "outputs": [
    {
     "name": "stdout",
     "output_type": "stream",
     "text": [
      "Model: \"sequential_31\"\n",
      "_________________________________________________________________\n",
      " Layer (type)                Output Shape              Param #   \n",
      "=================================================================\n",
      " batch_normalization_131 (Ba  (None, 128, 8, 1)        4         \n",
      " tchNormalization)                                               \n",
      "                                                                 \n",
      " conv_1 (Conv2D)             (None, 128, 8, 8)         128       \n",
      "                                                                 \n",
      " batch_normalization_132 (Ba  (None, 128, 8, 8)        32        \n",
      " tchNormalization)                                               \n",
      "                                                                 \n",
      " activation_99 (Activation)  (None, 128, 8, 8)         0         \n",
      "                                                                 \n",
      " max_pooling2d_27 (MaxPoolin  (None, 64, 4, 8)         0         \n",
      " g2D)                                                            \n",
      "                                                                 \n",
      " conv_2 (Conv2D)             (None, 32, 2, 16)         512       \n",
      "                                                                 \n",
      " batch_normalization_133 (Ba  (None, 32, 2, 16)        64        \n",
      " tchNormalization)                                               \n",
      "                                                                 \n",
      " activation_100 (Activation)  (None, 32, 2, 16)        0         \n",
      "                                                                 \n",
      " dropout_93 (Dropout)        (None, 32, 2, 16)         0         \n",
      "                                                                 \n",
      " conv_3 (Conv2D)             (None, 16, 1, 32)         2048      \n",
      "                                                                 \n",
      " batch_normalization_134 (Ba  (None, 16, 1, 32)        128       \n",
      " tchNormalization)                                               \n",
      "                                                                 \n",
      " activation_101 (Activation)  (None, 16, 1, 32)        0         \n",
      "                                                                 \n",
      " dropout_94 (Dropout)        (None, 16, 1, 32)         0         \n",
      "                                                                 \n",
      " flatten_25 (Flatten)        (None, 512)               0         \n",
      "                                                                 \n",
      " dense_2 (Dense)             (None, 512)               262656    \n",
      "                                                                 \n",
      " dense_3 (Dense)             (None, 256)               131328    \n",
      "                                                                 \n",
      " dropout_95 (Dropout)        (None, 256)               0         \n",
      "                                                                 \n",
      " output_range (Dense)        (None, 4)                 1028      \n",
      "                                                                 \n",
      "=================================================================\n",
      "Total params: 397,928\n",
      "Trainable params: 397,814\n",
      "Non-trainable params: 114\n",
      "_________________________________________________________________\n",
      "Epoch 1/200\n",
      "163/163 [==============================] - 5s 26ms/step - loss: 1.3946 - accuracy: 0.3376 - val_loss: 1.3399 - val_accuracy: 0.4335 - lr: 0.0010\n",
      "Epoch 2/200\n",
      "163/163 [==============================] - 4s 24ms/step - loss: 1.3107 - accuracy: 0.4200 - val_loss: 1.2024 - val_accuracy: 0.4789 - lr: 0.0010\n",
      "Epoch 3/200\n",
      "163/163 [==============================] - 4s 23ms/step - loss: 1.2683 - accuracy: 0.4739 - val_loss: 1.1762 - val_accuracy: 0.4812 - lr: 0.0010\n",
      "Epoch 4/200\n",
      "163/163 [==============================] - 4s 26ms/step - loss: 1.2438 - accuracy: 0.4835 - val_loss: 1.2086 - val_accuracy: 0.4673 - lr: 0.0010\n",
      "Epoch 5/200\n",
      "163/163 [==============================] - 5s 29ms/step - loss: 1.2235 - accuracy: 0.4823 - val_loss: 1.1228 - val_accuracy: 0.5211 - lr: 0.0010\n",
      "Epoch 6/200\n",
      "163/163 [==============================] - 4s 26ms/step - loss: 1.2017 - accuracy: 0.5065 - val_loss: 1.1069 - val_accuracy: 0.5319 - lr: 0.0010\n",
      "Epoch 7/200\n",
      "163/163 [==============================] - 4s 28ms/step - loss: 1.1817 - accuracy: 0.5038 - val_loss: 1.0736 - val_accuracy: 0.5442 - lr: 0.0010\n",
      "Epoch 8/200\n",
      "163/163 [==============================] - 4s 26ms/step - loss: 1.1707 - accuracy: 0.5154 - val_loss: 1.0731 - val_accuracy: 0.5411 - lr: 0.0010\n",
      "Epoch 9/200\n",
      "163/163 [==============================] - 4s 27ms/step - loss: 1.1521 - accuracy: 0.5252 - val_loss: 1.0759 - val_accuracy: 0.5365 - lr: 0.0010\n",
      "Epoch 10/200\n",
      "163/163 [==============================] - 4s 26ms/step - loss: 1.1456 - accuracy: 0.5192 - val_loss: 1.0404 - val_accuracy: 0.5603 - lr: 0.0010\n",
      "Epoch 11/200\n",
      "163/163 [==============================] - 4s 26ms/step - loss: 1.1283 - accuracy: 0.5359 - val_loss: 1.0612 - val_accuracy: 0.5373 - lr: 0.0010\n",
      "Epoch 12/200\n",
      "163/163 [==============================] - 4s 26ms/step - loss: 1.1246 - accuracy: 0.5238 - val_loss: 1.0441 - val_accuracy: 0.5642 - lr: 0.0010\n",
      "Epoch 13/200\n",
      "163/163 [==============================] - 4s 25ms/step - loss: 1.1049 - accuracy: 0.5369 - val_loss: 1.0214 - val_accuracy: 0.5634 - lr: 0.0010\n",
      "Epoch 14/200\n",
      "163/163 [==============================] - 4s 25ms/step - loss: 1.1023 - accuracy: 0.5450 - val_loss: 1.1083 - val_accuracy: 0.5042 - lr: 0.0010\n",
      "Epoch 15/200\n",
      "163/163 [==============================] - 4s 26ms/step - loss: 1.0813 - accuracy: 0.5529 - val_loss: 1.0427 - val_accuracy: 0.5588 - lr: 0.0010\n",
      "Epoch 16/200\n",
      "163/163 [==============================] - 4s 26ms/step - loss: 1.0766 - accuracy: 0.5490 - val_loss: 1.0173 - val_accuracy: 0.5757 - lr: 0.0010\n",
      "Epoch 17/200\n",
      "163/163 [==============================] - 4s 26ms/step - loss: 1.0684 - accuracy: 0.5581 - val_loss: 1.1889 - val_accuracy: 0.4573 - lr: 0.0010\n",
      "Epoch 18/200\n",
      "163/163 [==============================] - 4s 27ms/step - loss: 1.0534 - accuracy: 0.5615 - val_loss: 0.9772 - val_accuracy: 0.5772 - lr: 0.0010\n",
      "Epoch 19/200\n",
      "163/163 [==============================] - 4s 27ms/step - loss: 1.0441 - accuracy: 0.5725 - val_loss: 0.9706 - val_accuracy: 0.5895 - lr: 0.0010\n",
      "Epoch 20/200\n",
      "163/163 [==============================] - 4s 27ms/step - loss: 1.0296 - accuracy: 0.5821 - val_loss: 1.0145 - val_accuracy: 0.5534 - lr: 0.0010\n",
      "Epoch 21/200\n",
      "163/163 [==============================] - 4s 27ms/step - loss: 1.0295 - accuracy: 0.5836 - val_loss: 0.9746 - val_accuracy: 0.5934 - lr: 0.0010\n",
      "Epoch 22/200\n",
      "163/163 [==============================] - 5s 28ms/step - loss: 1.0234 - accuracy: 0.5905 - val_loss: 0.9747 - val_accuracy: 0.5926 - lr: 0.0010\n",
      "Epoch 23/200\n",
      "163/163 [==============================] - 4s 27ms/step - loss: 1.0221 - accuracy: 0.5861 - val_loss: 0.9887 - val_accuracy: 0.5811 - lr: 0.0010\n",
      "Epoch 24/200\n",
      "163/163 [==============================] - 4s 27ms/step - loss: 1.0041 - accuracy: 0.5953 - val_loss: 1.0230 - val_accuracy: 0.5565 - lr: 0.0010\n",
      "Epoch 25/200\n",
      "163/163 [==============================] - 5s 28ms/step - loss: 0.9915 - accuracy: 0.6067 - val_loss: 1.0643 - val_accuracy: 0.5242 - lr: 0.0010\n",
      "Epoch 26/200\n",
      "163/163 [==============================] - 5s 28ms/step - loss: 0.9864 - accuracy: 0.5980 - val_loss: 0.9501 - val_accuracy: 0.5926 - lr: 0.0010\n",
      "Epoch 27/200\n",
      "163/163 [==============================] - 5s 28ms/step - loss: 0.9829 - accuracy: 0.5971 - val_loss: 1.2009 - val_accuracy: 0.5188 - lr: 0.0010\n",
      "Epoch 28/200\n",
      "163/163 [==============================] - 5s 29ms/step - loss: 0.9717 - accuracy: 0.6075 - val_loss: 1.4034 - val_accuracy: 0.4466 - lr: 0.0010\n",
      "Epoch 29/200\n",
      "163/163 [==============================] - 4s 27ms/step - loss: 0.9730 - accuracy: 0.6100 - val_loss: 0.9561 - val_accuracy: 0.5949 - lr: 0.0010\n",
      "Epoch 30/200\n",
      "163/163 [==============================] - 5s 28ms/step - loss: 0.9736 - accuracy: 0.6082 - val_loss: 0.9089 - val_accuracy: 0.6141 - lr: 0.0010\n",
      "Epoch 31/200\n",
      "163/163 [==============================] - 5s 29ms/step - loss: 0.9495 - accuracy: 0.6200 - val_loss: 1.0850 - val_accuracy: 0.5265 - lr: 0.0010\n",
      "Epoch 32/200\n",
      "163/163 [==============================] - 5s 29ms/step - loss: 0.9494 - accuracy: 0.6119 - val_loss: 1.2352 - val_accuracy: 0.4696 - lr: 0.0010\n",
      "Epoch 33/200\n",
      "163/163 [==============================] - 5s 31ms/step - loss: 0.9306 - accuracy: 0.6263 - val_loss: 0.9128 - val_accuracy: 0.6095 - lr: 0.0010\n",
      "Epoch 34/200\n",
      "163/163 [==============================] - 5s 29ms/step - loss: 0.9276 - accuracy: 0.6267 - val_loss: 0.9668 - val_accuracy: 0.5849 - lr: 0.0010\n",
      "Epoch 35/200\n",
      "163/163 [==============================] - 5s 29ms/step - loss: 0.9171 - accuracy: 0.6328 - val_loss: 0.8866 - val_accuracy: 0.6195 - lr: 0.0010\n",
      "Epoch 36/200\n",
      "163/163 [==============================] - 5s 32ms/step - loss: 0.9219 - accuracy: 0.6286 - val_loss: 1.5518 - val_accuracy: 0.4058 - lr: 0.0010\n",
      "Epoch 37/200\n",
      "163/163 [==============================] - 5s 30ms/step - loss: 0.9185 - accuracy: 0.6255 - val_loss: 0.8743 - val_accuracy: 0.6264 - lr: 0.0010\n",
      "Epoch 38/200\n",
      "163/163 [==============================] - 5s 33ms/step - loss: 0.9041 - accuracy: 0.6471 - val_loss: 1.1333 - val_accuracy: 0.5265 - lr: 0.0010\n",
      "Epoch 39/200\n",
      "163/163 [==============================] - 5s 30ms/step - loss: 0.9030 - accuracy: 0.6382 - val_loss: 0.8918 - val_accuracy: 0.6149 - lr: 0.0010\n",
      "Epoch 40/200\n",
      "163/163 [==============================] - 5s 32ms/step - loss: 0.8953 - accuracy: 0.6401 - val_loss: 0.8617 - val_accuracy: 0.6495 - lr: 0.0010\n",
      "Epoch 41/200\n",
      "163/163 [==============================] - 5s 33ms/step - loss: 0.8870 - accuracy: 0.6503 - val_loss: 2.7239 - val_accuracy: 0.2421 - lr: 0.0010\n",
      "Epoch 42/200\n",
      "163/163 [==============================] - 5s 32ms/step - loss: 0.8607 - accuracy: 0.6632 - val_loss: 0.9172 - val_accuracy: 0.6049 - lr: 0.0010\n",
      "Epoch 43/200\n",
      "163/163 [==============================] - 6s 34ms/step - loss: 0.8576 - accuracy: 0.6547 - val_loss: 0.9334 - val_accuracy: 0.5980 - lr: 0.0010\n",
      "Epoch 44/200\n",
      "163/163 [==============================] - 5s 33ms/step - loss: 0.8620 - accuracy: 0.6588 - val_loss: 1.0110 - val_accuracy: 0.5842 - lr: 0.0010\n",
      "Epoch 45/200\n",
      "163/163 [==============================] - 5s 31ms/step - loss: 0.8611 - accuracy: 0.6563 - val_loss: 0.8628 - val_accuracy: 0.6372 - lr: 0.0010\n",
      "Epoch 46/200\n",
      "163/163 [==============================] - 5s 31ms/step - loss: 0.8442 - accuracy: 0.6655 - val_loss: 0.9828 - val_accuracy: 0.5819 - lr: 0.0010\n",
      "Epoch 47/200\n",
      "163/163 [==============================] - 5s 30ms/step - loss: 0.8643 - accuracy: 0.6563 - val_loss: 0.8538 - val_accuracy: 0.6472 - lr: 0.0010\n",
      "Epoch 48/200\n",
      "163/163 [==============================] - 5s 30ms/step - loss: 0.8441 - accuracy: 0.6680 - val_loss: 0.8963 - val_accuracy: 0.6188 - lr: 0.0010\n",
      "Epoch 49/200\n",
      "163/163 [==============================] - 5s 30ms/step - loss: 0.8418 - accuracy: 0.6634 - val_loss: 0.9235 - val_accuracy: 0.6088 - lr: 0.0010\n",
      "Epoch 50/200\n",
      "163/163 [==============================] - 5s 30ms/step - loss: 0.8245 - accuracy: 0.6692 - val_loss: 1.1924 - val_accuracy: 0.5158 - lr: 0.0010\n",
      "Epoch 51/200\n",
      "163/163 [==============================] - 5s 30ms/step - loss: 0.8319 - accuracy: 0.6694 - val_loss: 2.0823 - val_accuracy: 0.3451 - lr: 0.0010\n",
      "Epoch 52/200\n",
      "163/163 [==============================] - 5s 29ms/step - loss: 0.8071 - accuracy: 0.6851 - val_loss: 0.8488 - val_accuracy: 0.6510 - lr: 0.0010\n",
      "Epoch 53/200\n",
      "163/163 [==============================] - 5s 31ms/step - loss: 0.8191 - accuracy: 0.6751 - val_loss: 0.9427 - val_accuracy: 0.6164 - lr: 0.0010\n",
      "Epoch 54/200\n",
      "163/163 [==============================] - 5s 29ms/step - loss: 0.8121 - accuracy: 0.6809 - val_loss: 0.8520 - val_accuracy: 0.6418 - lr: 0.0010\n",
      "Epoch 55/200\n",
      "163/163 [==============================] - 5s 30ms/step - loss: 0.8088 - accuracy: 0.6822 - val_loss: 0.8393 - val_accuracy: 0.6603 - lr: 0.0010\n",
      "Epoch 56/200\n",
      "163/163 [==============================] - 5s 31ms/step - loss: 0.7981 - accuracy: 0.6853 - val_loss: 3.5228 - val_accuracy: 0.2852 - lr: 0.0010\n",
      "Epoch 57/200\n",
      "163/163 [==============================] - 5s 29ms/step - loss: 0.7910 - accuracy: 0.6853 - val_loss: 0.8597 - val_accuracy: 0.6464 - lr: 0.0010\n",
      "Epoch 58/200\n",
      "163/163 [==============================] - 5s 30ms/step - loss: 0.8013 - accuracy: 0.6922 - val_loss: 0.9408 - val_accuracy: 0.6141 - lr: 0.0010\n",
      "Epoch 59/200\n",
      "163/163 [==============================] - 5s 31ms/step - loss: 0.7772 - accuracy: 0.6940 - val_loss: 0.9634 - val_accuracy: 0.6118 - lr: 0.0010\n",
      "Epoch 60/200\n",
      "163/163 [==============================] - 6s 35ms/step - loss: 0.7734 - accuracy: 0.6988 - val_loss: 1.0447 - val_accuracy: 0.5796 - lr: 0.0010\n",
      "Epoch 61/200\n",
      "163/163 [==============================] - 6s 34ms/step - loss: 0.7811 - accuracy: 0.6949 - val_loss: 0.8756 - val_accuracy: 0.6257 - lr: 0.0010\n",
      "Epoch 62/200\n",
      "163/163 [==============================] - 5s 32ms/step - loss: 0.7823 - accuracy: 0.6986 - val_loss: 1.5506 - val_accuracy: 0.4650 - lr: 0.0010\n",
      "Epoch 63/200\n",
      "163/163 [==============================] - 5s 29ms/step - loss: 0.7670 - accuracy: 0.6955 - val_loss: 0.8833 - val_accuracy: 0.6357 - lr: 0.0010\n",
      "Epoch 64/200\n",
      "163/163 [==============================] - 5s 31ms/step - loss: 0.7469 - accuracy: 0.7055 - val_loss: 1.1627 - val_accuracy: 0.5611 - lr: 0.0010\n",
      "Epoch 65/200\n",
      "163/163 [==============================] - 6s 40ms/step - loss: 0.7550 - accuracy: 0.7015 - val_loss: 1.6577 - val_accuracy: 0.4673 - lr: 0.0010\n",
      "Epoch 66/200\n",
      "163/163 [==============================] - 5s 33ms/step - loss: 0.7615 - accuracy: 0.7017 - val_loss: 1.2447 - val_accuracy: 0.5296 - lr: 0.0010\n",
      "Epoch 67/200\n",
      "163/163 [==============================] - 5s 31ms/step - loss: 0.7433 - accuracy: 0.7097 - val_loss: 0.8520 - val_accuracy: 0.6572 - lr: 0.0010\n",
      "Epoch 68/200\n",
      "163/163 [==============================] - 5s 32ms/step - loss: 0.7603 - accuracy: 0.7055 - val_loss: 0.9624 - val_accuracy: 0.6211 - lr: 0.0010\n",
      "Epoch 69/200\n",
      "163/163 [==============================] - 5s 32ms/step - loss: 0.7443 - accuracy: 0.7055 - val_loss: 1.1865 - val_accuracy: 0.5450 - lr: 0.0010\n",
      "Epoch 70/200\n",
      "163/163 [==============================] - 5s 32ms/step - loss: 0.7268 - accuracy: 0.7147 - val_loss: 0.9731 - val_accuracy: 0.6042 - lr: 0.0010\n",
      "Epoch 71/200\n",
      "163/163 [==============================] - 5s 31ms/step - loss: 0.7398 - accuracy: 0.7118 - val_loss: 0.9083 - val_accuracy: 0.6226 - lr: 0.0010\n",
      "Epoch 72/200\n",
      "163/163 [==============================] - 5s 30ms/step - loss: 0.7183 - accuracy: 0.7176 - val_loss: 2.7181 - val_accuracy: 0.3520 - lr: 0.0010\n",
      "Epoch 73/200\n",
      "163/163 [==============================] - 6s 35ms/step - loss: 0.7102 - accuracy: 0.7299 - val_loss: 0.9601 - val_accuracy: 0.6134 - lr: 0.0010\n",
      "Epoch 74/200\n",
      "163/163 [==============================] - 5s 29ms/step - loss: 0.7164 - accuracy: 0.7230 - val_loss: 0.8380 - val_accuracy: 0.6587 - lr: 0.0010\n",
      "Epoch 75/200\n",
      "163/163 [==============================] - 5s 31ms/step - loss: 0.7222 - accuracy: 0.7230 - val_loss: 2.0605 - val_accuracy: 0.4081 - lr: 0.0010\n",
      "Epoch 76/200\n",
      "163/163 [==============================] - 5s 31ms/step - loss: 0.7092 - accuracy: 0.7220 - val_loss: 1.3012 - val_accuracy: 0.5242 - lr: 0.0010\n",
      "Epoch 77/200\n",
      "163/163 [==============================] - 5s 31ms/step - loss: 0.7010 - accuracy: 0.7253 - val_loss: 1.5222 - val_accuracy: 0.5088 - lr: 0.0010\n",
      "Epoch 78/200\n",
      "163/163 [==============================] - 5s 30ms/step - loss: 0.6951 - accuracy: 0.7363 - val_loss: 2.6463 - val_accuracy: 0.4035 - lr: 0.0010\n",
      "Epoch 79/200\n",
      "163/163 [==============================] - 5s 31ms/step - loss: 0.7101 - accuracy: 0.7257 - val_loss: 1.2685 - val_accuracy: 0.5265 - lr: 0.0010\n",
      "Epoch 80/200\n",
      "163/163 [==============================] - 5s 32ms/step - loss: 0.6904 - accuracy: 0.7334 - val_loss: 2.0272 - val_accuracy: 0.4374 - lr: 0.0010\n",
      "Epoch 81/200\n",
      "163/163 [==============================] - 6s 37ms/step - loss: 0.6909 - accuracy: 0.7274 - val_loss: 0.9641 - val_accuracy: 0.6164 - lr: 0.0010\n",
      "Epoch 82/200\n",
      "163/163 [==============================] - 5s 30ms/step - loss: 0.6998 - accuracy: 0.7332 - val_loss: 3.6697 - val_accuracy: 0.2975 - lr: 0.0010\n",
      "Epoch 83/200\n",
      "163/163 [==============================] - 5s 32ms/step - loss: 0.6914 - accuracy: 0.7288 - val_loss: 0.9469 - val_accuracy: 0.6241 - lr: 0.0010\n",
      "Epoch 84/200\n",
      "163/163 [==============================] - 5s 31ms/step - loss: 0.6899 - accuracy: 0.7357 - val_loss: 0.8884 - val_accuracy: 0.6480 - lr: 0.0010\n",
      "Epoch 85/200\n",
      "163/163 [==============================] - 5s 32ms/step - loss: 0.6619 - accuracy: 0.7472 - val_loss: 0.8927 - val_accuracy: 0.6533 - lr: 0.0010\n",
      "Epoch 86/200\n",
      "163/163 [==============================] - 5s 31ms/step - loss: 0.6630 - accuracy: 0.7489 - val_loss: 0.9302 - val_accuracy: 0.6349 - lr: 0.0010\n",
      "Epoch 87/200\n",
      "163/163 [==============================] - 5s 32ms/step - loss: 0.6726 - accuracy: 0.7395 - val_loss: 0.8667 - val_accuracy: 0.6726 - lr: 0.0010\n",
      "Epoch 88/200\n",
      "163/163 [==============================] - 6s 34ms/step - loss: 0.6674 - accuracy: 0.7453 - val_loss: 0.9723 - val_accuracy: 0.6126 - lr: 0.0010\n",
      "Epoch 89/200\n",
      "163/163 [==============================] - 5s 30ms/step - loss: 0.6733 - accuracy: 0.7416 - val_loss: 1.0004 - val_accuracy: 0.6141 - lr: 0.0010\n",
      "Epoch 90/200\n",
      "163/163 [==============================] - 5s 31ms/step - loss: 0.6641 - accuracy: 0.7399 - val_loss: 0.8984 - val_accuracy: 0.6472 - lr: 0.0010\n",
      "Epoch 91/200\n",
      "163/163 [==============================] - 5s 32ms/step - loss: 0.6593 - accuracy: 0.7493 - val_loss: 0.8929 - val_accuracy: 0.6526 - lr: 0.0010\n",
      "Epoch 92/200\n",
      "163/163 [==============================] - 5s 31ms/step - loss: 0.6657 - accuracy: 0.7368 - val_loss: 1.0778 - val_accuracy: 0.5857 - lr: 0.0010\n",
      "Epoch 93/200\n",
      "163/163 [==============================] - 5s 33ms/step - loss: 0.6538 - accuracy: 0.7488 - val_loss: 0.8439 - val_accuracy: 0.6826 - lr: 0.0010\n",
      "Epoch 94/200\n",
      "162/163 [============================>.] - ETA: 0s - loss: 0.6479 - accuracy: 0.7517\n",
      "Epoch 94: ReduceLROnPlateau reducing learning rate to 0.0005000000237487257.\n",
      "163/163 [==============================] - 5s 33ms/step - loss: 0.6480 - accuracy: 0.7516 - val_loss: 0.8810 - val_accuracy: 0.6564 - lr: 0.0010\n",
      "Epoch 95/200\n",
      "163/163 [==============================] - 5s 30ms/step - loss: 0.6354 - accuracy: 0.7520 - val_loss: 0.8383 - val_accuracy: 0.6687 - lr: 5.0000e-04\n",
      "Epoch 96/200\n",
      "163/163 [==============================] - 5s 32ms/step - loss: 0.6060 - accuracy: 0.7709 - val_loss: 0.9662 - val_accuracy: 0.6249 - lr: 5.0000e-04\n",
      "Epoch 97/200\n",
      "163/163 [==============================] - 5s 31ms/step - loss: 0.6010 - accuracy: 0.7653 - val_loss: 1.2947 - val_accuracy: 0.5373 - lr: 5.0000e-04\n",
      "Epoch 98/200\n",
      "163/163 [==============================] - 6s 35ms/step - loss: 0.6002 - accuracy: 0.7689 - val_loss: 0.9312 - val_accuracy: 0.6341 - lr: 5.0000e-04\n",
      "Epoch 99/200\n",
      "163/163 [==============================] - 6s 36ms/step - loss: 0.6104 - accuracy: 0.7630 - val_loss: 1.0550 - val_accuracy: 0.6049 - lr: 5.0000e-04\n",
      "Epoch 100/200\n",
      "163/163 [==============================] - 6s 36ms/step - loss: 0.5936 - accuracy: 0.7705 - val_loss: 0.8461 - val_accuracy: 0.6772 - lr: 5.0000e-04\n",
      "Epoch 101/200\n",
      "163/163 [==============================] - 6s 34ms/step - loss: 0.5992 - accuracy: 0.7676 - val_loss: 1.1916 - val_accuracy: 0.5665 - lr: 5.0000e-04\n",
      "Epoch 102/200\n",
      "163/163 [==============================] - 5s 33ms/step - loss: 0.5888 - accuracy: 0.7772 - val_loss: 0.8664 - val_accuracy: 0.6802 - lr: 5.0000e-04\n",
      "Epoch 103/200\n",
      "163/163 [==============================] - 5s 33ms/step - loss: 0.5930 - accuracy: 0.7710 - val_loss: 1.2829 - val_accuracy: 0.5465 - lr: 5.0000e-04\n",
      "Epoch 104/200\n",
      "163/163 [==============================] - 6s 34ms/step - loss: 0.5879 - accuracy: 0.7762 - val_loss: 0.8444 - val_accuracy: 0.6764 - lr: 5.0000e-04\n",
      "Epoch 105/200\n",
      "163/163 [==============================] - 5s 33ms/step - loss: 0.5896 - accuracy: 0.7747 - val_loss: 0.9641 - val_accuracy: 0.6318 - lr: 5.0000e-04\n",
      "Epoch 106/200\n",
      "163/163 [==============================] - 5s 31ms/step - loss: 0.5753 - accuracy: 0.7772 - val_loss: 1.0163 - val_accuracy: 0.6226 - lr: 5.0000e-04\n",
      "Epoch 107/200\n",
      "163/163 [==============================] - 5s 31ms/step - loss: 0.5730 - accuracy: 0.7785 - val_loss: 0.8812 - val_accuracy: 0.6787 - lr: 5.0000e-04\n",
      "Epoch 108/200\n",
      "163/163 [==============================] - 5s 31ms/step - loss: 0.5919 - accuracy: 0.7728 - val_loss: 1.8563 - val_accuracy: 0.4504 - lr: 5.0000e-04\n",
      "Epoch 109/200\n",
      "163/163 [==============================] - 5s 31ms/step - loss: 0.5712 - accuracy: 0.7774 - val_loss: 0.9670 - val_accuracy: 0.6349 - lr: 5.0000e-04\n",
      "Epoch 110/200\n",
      "163/163 [==============================] - 5s 31ms/step - loss: 0.5705 - accuracy: 0.7826 - val_loss: 1.1955 - val_accuracy: 0.5803 - lr: 5.0000e-04\n",
      "Epoch 111/200\n",
      "163/163 [==============================] - 5s 30ms/step - loss: 0.5642 - accuracy: 0.7847 - val_loss: 0.9987 - val_accuracy: 0.6218 - lr: 5.0000e-04\n",
      "Epoch 112/200\n",
      "163/163 [==============================] - 5s 31ms/step - loss: 0.5724 - accuracy: 0.7784 - val_loss: 0.8710 - val_accuracy: 0.6764 - lr: 5.0000e-04\n",
      "Epoch 113/200\n",
      "163/163 [==============================] - 5s 32ms/step - loss: 0.5631 - accuracy: 0.7895 - val_loss: 0.8823 - val_accuracy: 0.6856 - lr: 5.0000e-04\n",
      "Epoch 114/200\n",
      "163/163 [==============================] - ETA: 0s - loss: 0.5754 - accuracy: 0.7853\n",
      "Epoch 114: ReduceLROnPlateau reducing learning rate to 0.0002500000118743628.\n",
      "163/163 [==============================] - 6s 35ms/step - loss: 0.5754 - accuracy: 0.7853 - val_loss: 1.0297 - val_accuracy: 0.6241 - lr: 5.0000e-04\n"
     ]
    }
   ],
   "source": [
    "modelCNN_MCV2=tf.keras.Sequential()\n",
    "modelCNN_MCV2.add(BatchNormalization(input_shape=(128,8,1)))\n",
    "modelCNN_MCV2.add(Conv2D(filters=8,kernel_size=(4,4),strides=(1,1),padding='SAME', use_bias=False, name='conv_1'))\n",
    "modelCNN_MCV2.add(BatchNormalization())\n",
    "modelCNN_MCV2.add(Activation('relu'))\n",
    "modelCNN_MCV2.add(MaxPooling2D(2))\n",
    "modelCNN_MCV2.add(Conv2D(filters=16,kernel_size=(2,2),strides=(2,2), use_bias=False,\n",
    "                         padding='SAME', name='conv_2'))\n",
    "modelCNN_MCV2.add(BatchNormalization())\n",
    "modelCNN_MCV2.add(Activation('relu'))\n",
    "modelCNN_MCV2.add(Dropout(0.3))\n",
    "modelCNN_MCV2.add(Conv2D(filters=32,kernel_size=(2,2),strides=(2,2), use_bias=False,\n",
    "                         padding='SAME', name='conv_3'))\n",
    "modelCNN_MCV2.add(BatchNormalization())\n",
    "modelCNN_MCV2.add(Activation('relu'))\n",
    "modelCNN_MCV2.add(Dropout(0.3))\n",
    "modelCNN_MCV2.add(Flatten())\n",
    "modelCNN_MCV2.add(Dense(512, activation='relu', name='dense_2'))\n",
    "modelCNN_MCV2.add(Dense(256, activation='relu', name='dense_3'))\n",
    "modelCNN_MCV2.add(Dropout(0.5))\n",
    "modelCNN_MCV2.add(Dense(4, activation='softmax', name='output_range'))\n",
    "# inputs= Input(shape=(128,8,1),name='input')\n",
    "# hidden=BatchNormalization(input_shape=(128,8,1))(inputs)\n",
    "# hidden=Conv2D(filters=32,kernel_size=(2,2),strides=(1,1),padding='SAME', use_bias=False, name='conv_1')(hidden)\n",
    "# hidden=BatchNormalization()(hidden)\n",
    "# hidden=Activation('relu')(hidden)\n",
    "# hidden=MaxPooling2D(2,2)(hidden)\n",
    "# hidden=Conv2D(filters=32,kernel_size=(4,4),strides=(2,2), use_bias=False,\n",
    "#                          padding='SAME', name='conv_2')(hidden)\n",
    "# hidden=BatchNormalization()(hidden)\n",
    "# hidden=Activation('relu')(hidden)\n",
    "# hidden=Dropout(0.3)(hidden)\n",
    "# hidden=Conv2D(filters=32,kernel_size=(4,4),strides=(4,4), use_bias=False,\n",
    "#                          padding='SAME', name='conv_3')(hidden)\n",
    "# hidden=BatchNormalization()(hidden)\n",
    "# hidden=Activation('relu')(hidden)\n",
    "# hidden=Dropout(0.3)(hidden)\n",
    "# hidden=Flatten()(hidden)\n",
    "# hidden=Dense(512, activation='relu', name='dense_2')(hidden)\n",
    "# hidden=Dense(256, activation='relu', name='dense_3')(hidden)\n",
    "# hidden=Dropout(0.5)(hidden)\n",
    "# output1=Dense(7, activation='softmax', name='output_range')(hidden)\n",
    "#output2=Dense(3,activation='softmax',name=\"output_class\")(hidden)\n",
    "#output3=Dense(1,activation='linear',name=\"output_cont_range\")(hidden)\n",
    "\n",
    "\n",
    "#modelCNNv2=Model(inputs=inputs,outputs=[output1])\n",
    "optimizer= tf.keras.optimizers.Adam()\n",
    "modelCNN_MCV2.compile(loss='categorical_crossentropy',optimizer=optimizer,metrics=['accuracy'])\n",
    "\n",
    "\n",
    "reduceLR = tf.keras.callbacks.ReduceLROnPlateau(monitor='val_loss', factor=0.5,\n",
    "                                 verbose=1, patience=20, mode='auto')\n",
    "early = tf.keras.callbacks.EarlyStopping(monitor='val_loss', min_delta=1e-4,\n",
    "                          patience=40, mode='auto', restore_best_weights=True)\n",
    "modelCNN_MCV2.build(input_shape=(None,128,8,1))\n",
    "modelCNN_MCV2.summary()\n",
    "single_drone_train_targs_oh=tf.keras.utils.to_categorical(phantom_train_targs,num_classes=4)\n",
    "single_drone_train_data=np.array(phantom_train_data)\n",
    "history = modelCNN_MCV2.fit(single_drone_train_data, single_drone_train_targs_oh,\n",
    "                      epochs=200,\n",
    "                      batch_size=32,\n",
    "                      shuffle=True,\n",
    "                      class_weight=range_weights,\n",
    "                      validation_split=0.2,\n",
    "                      callbacks=[reduceLR, early])"
   ],
   "metadata": {
    "collapsed": false,
    "pycharm": {
     "name": "#%%\n"
    }
   }
  },
  {
   "cell_type": "code",
   "execution_count": 63,
   "outputs": [
    {
     "name": "stdout",
     "output_type": "stream",
     "text": [
      "Model: \"sequential_17\"\n",
      "_________________________________________________________________\n",
      " Layer (type)                Output Shape              Param #   \n",
      "=================================================================\n",
      " batch_normalization_74 (Bat  (None, 128, 8, 1)        4         \n",
      " chNormalization)                                                \n",
      "                                                                 \n",
      " conv_1 (Conv2D)             (None, 128, 8, 4)         16        \n",
      "                                                                 \n",
      " batch_normalization_75 (Bat  (None, 128, 8, 4)        16        \n",
      " chNormalization)                                                \n",
      "                                                                 \n",
      " activation_56 (Activation)  (None, 128, 8, 4)         0         \n",
      "                                                                 \n",
      " conv_2 (Conv2D)             (None, 128, 8, 8)         128       \n",
      "                                                                 \n",
      " batch_normalization_76 (Bat  (None, 128, 8, 8)        32        \n",
      " chNormalization)                                                \n",
      "                                                                 \n",
      " activation_57 (Activation)  (None, 128, 8, 8)         0         \n",
      "                                                                 \n",
      " dropout_51 (Dropout)        (None, 128, 8, 8)         0         \n",
      "                                                                 \n",
      " conv_3 (Conv2D)             (None, 64, 4, 16)         2048      \n",
      "                                                                 \n",
      " batch_normalization_77 (Bat  (None, 64, 4, 16)        64        \n",
      " chNormalization)                                                \n",
      "                                                                 \n",
      " activation_58 (Activation)  (None, 64, 4, 16)         0         \n",
      "                                                                 \n",
      " conv_4 (Conv2D)             (None, 32, 2, 64)         16384     \n",
      "                                                                 \n",
      " batch_normalization_78 (Bat  (None, 32, 2, 64)        256       \n",
      " chNormalization)                                                \n",
      "                                                                 \n",
      " activation_59 (Activation)  (None, 32, 2, 64)         0         \n",
      "                                                                 \n",
      " dropout_52 (Dropout)        (None, 32, 2, 64)         0         \n",
      "                                                                 \n",
      " flatten_12 (Flatten)        (None, 4096)              0         \n",
      "                                                                 \n",
      " dense_3 (Dense)             (None, 256)               1048832   \n",
      "                                                                 \n",
      " dropout_53 (Dropout)        (None, 256)               0         \n",
      "                                                                 \n",
      " output_range (Dense)        (None, 4)                 1028      \n",
      "                                                                 \n",
      "=================================================================\n",
      "Total params: 1,068,808\n",
      "Trainable params: 1,068,622\n",
      "Non-trainable params: 186\n",
      "_________________________________________________________________\n",
      "Epoch 1/400\n",
      "426/426 [==============================] - 17s 36ms/step - loss: 1.2329 - accuracy: 0.5027 - val_loss: 1.0241 - val_accuracy: 0.5423 - lr: 0.0010\n",
      "Epoch 2/400\n",
      "426/426 [==============================] - 16s 37ms/step - loss: 1.0784 - accuracy: 0.5573 - val_loss: 1.4268 - val_accuracy: 0.3870 - lr: 0.0010\n",
      "Epoch 3/400\n",
      "426/426 [==============================] - 17s 39ms/step - loss: 1.0184 - accuracy: 0.5824 - val_loss: 1.3551 - val_accuracy: 0.4345 - lr: 0.0010\n",
      "Epoch 4/400\n",
      "426/426 [==============================] - 17s 40ms/step - loss: 0.9760 - accuracy: 0.5948 - val_loss: 0.8982 - val_accuracy: 0.6160 - lr: 0.0010\n",
      "Epoch 5/400\n",
      "426/426 [==============================] - 18s 42ms/step - loss: 0.9532 - accuracy: 0.6113 - val_loss: 0.8588 - val_accuracy: 0.6324 - lr: 0.0010\n",
      "Epoch 6/400\n",
      "426/426 [==============================] - 22s 51ms/step - loss: 0.9156 - accuracy: 0.6245 - val_loss: 0.8292 - val_accuracy: 0.6453 - lr: 0.0010\n",
      "Epoch 7/400\n",
      "426/426 [==============================] - 17s 40ms/step - loss: 0.8878 - accuracy: 0.6384 - val_loss: 1.4149 - val_accuracy: 0.4918 - lr: 0.0010\n",
      "Epoch 8/400\n",
      "426/426 [==============================] - 16s 37ms/step - loss: 0.8701 - accuracy: 0.6409 - val_loss: 0.8431 - val_accuracy: 0.6339 - lr: 0.0010\n",
      "Epoch 9/400\n",
      "426/426 [==============================] - 18s 42ms/step - loss: 0.8463 - accuracy: 0.6514 - val_loss: 1.3526 - val_accuracy: 0.5252 - lr: 0.0010\n",
      "Epoch 10/400\n",
      "426/426 [==============================] - 19s 44ms/step - loss: 0.8385 - accuracy: 0.6548 - val_loss: 0.7975 - val_accuracy: 0.6632 - lr: 0.0010\n",
      "Epoch 11/400\n",
      "426/426 [==============================] - 17s 39ms/step - loss: 0.8179 - accuracy: 0.6643 - val_loss: 1.5722 - val_accuracy: 0.4759 - lr: 0.0010\n",
      "Epoch 12/400\n",
      "426/426 [==============================] - 17s 40ms/step - loss: 0.7974 - accuracy: 0.6717 - val_loss: 0.8539 - val_accuracy: 0.6392 - lr: 0.0010\n",
      "Epoch 13/400\n",
      "426/426 [==============================] - 19s 45ms/step - loss: 0.7835 - accuracy: 0.6794 - val_loss: 2.4511 - val_accuracy: 0.4040 - lr: 0.0010\n",
      "Epoch 14/400\n",
      "426/426 [==============================] - 19s 44ms/step - loss: 0.7645 - accuracy: 0.6872 - val_loss: 1.2194 - val_accuracy: 0.5652 - lr: 0.0010\n",
      "Epoch 15/400\n",
      "426/426 [==============================] - 15s 34ms/step - loss: 0.7468 - accuracy: 0.6930 - val_loss: 0.7653 - val_accuracy: 0.6682 - lr: 0.0010\n",
      "Epoch 16/400\n",
      "426/426 [==============================] - 15s 36ms/step - loss: 0.7434 - accuracy: 0.6957 - val_loss: 0.7885 - val_accuracy: 0.6779 - lr: 0.0010\n",
      "Epoch 17/400\n",
      "426/426 [==============================] - 15s 35ms/step - loss: 0.7222 - accuracy: 0.7049 - val_loss: 0.7129 - val_accuracy: 0.6985 - lr: 0.0010\n",
      "Epoch 18/400\n",
      "426/426 [==============================] - 14s 34ms/step - loss: 0.7147 - accuracy: 0.7078 - val_loss: 1.1675 - val_accuracy: 0.5711 - lr: 0.0010\n",
      "Epoch 19/400\n",
      "426/426 [==============================] - 14s 34ms/step - loss: 0.7005 - accuracy: 0.7145 - val_loss: 0.7620 - val_accuracy: 0.6853 - lr: 0.0010\n",
      "Epoch 20/400\n",
      "426/426 [==============================] - 15s 35ms/step - loss: 0.6958 - accuracy: 0.7175 - val_loss: 1.8805 - val_accuracy: 0.5015 - lr: 0.0010\n",
      "Epoch 21/400\n",
      "426/426 [==============================] - 14s 34ms/step - loss: 0.6764 - accuracy: 0.7249 - val_loss: 0.7495 - val_accuracy: 0.6917 - lr: 0.0010\n",
      "Epoch 22/400\n",
      "426/426 [==============================] - 14s 34ms/step - loss: 0.6639 - accuracy: 0.7254 - val_loss: 0.7133 - val_accuracy: 0.7064 - lr: 0.0010\n",
      "Epoch 23/400\n",
      "426/426 [==============================] - 14s 34ms/step - loss: 0.6644 - accuracy: 0.7259 - val_loss: 0.7206 - val_accuracy: 0.7023 - lr: 0.0010\n",
      "Epoch 24/400\n",
      "426/426 [==============================] - 14s 34ms/step - loss: 0.6531 - accuracy: 0.7326 - val_loss: 0.6900 - val_accuracy: 0.7181 - lr: 0.0010\n",
      "Epoch 25/400\n",
      "426/426 [==============================] - 14s 34ms/step - loss: 0.6501 - accuracy: 0.7362 - val_loss: 0.7245 - val_accuracy: 0.7002 - lr: 0.0010\n",
      "Epoch 26/400\n",
      "426/426 [==============================] - 14s 34ms/step - loss: 0.6245 - accuracy: 0.7417 - val_loss: 0.7261 - val_accuracy: 0.6988 - lr: 0.0010\n",
      "Epoch 27/400\n",
      "426/426 [==============================] - 15s 34ms/step - loss: 0.6104 - accuracy: 0.7555 - val_loss: 1.9641 - val_accuracy: 0.5382 - lr: 0.0010\n",
      "Epoch 28/400\n",
      "426/426 [==============================] - 14s 34ms/step - loss: 0.6143 - accuracy: 0.7569 - val_loss: 0.7085 - val_accuracy: 0.7076 - lr: 0.0010\n",
      "Epoch 29/400\n",
      "426/426 [==============================] - 14s 34ms/step - loss: 0.5984 - accuracy: 0.7564 - val_loss: 0.8689 - val_accuracy: 0.6756 - lr: 0.0010\n",
      "Epoch 30/400\n",
      "426/426 [==============================] - 14s 34ms/step - loss: 0.5860 - accuracy: 0.7589 - val_loss: 0.7712 - val_accuracy: 0.6823 - lr: 0.0010\n",
      "Epoch 31/400\n",
      "426/426 [==============================] - 15s 34ms/step - loss: 0.5774 - accuracy: 0.7641 - val_loss: 0.6931 - val_accuracy: 0.7211 - lr: 0.0010\n",
      "Epoch 32/400\n",
      "426/426 [==============================] - 14s 34ms/step - loss: 0.5721 - accuracy: 0.7676 - val_loss: 0.8939 - val_accuracy: 0.6776 - lr: 0.0010\n",
      "Epoch 33/400\n",
      "426/426 [==============================] - 15s 34ms/step - loss: 0.5590 - accuracy: 0.7730 - val_loss: 0.7314 - val_accuracy: 0.7017 - lr: 0.0010\n",
      "Epoch 34/400\n",
      "426/426 [==============================] - 14s 34ms/step - loss: 0.5546 - accuracy: 0.7757 - val_loss: 0.7002 - val_accuracy: 0.7278 - lr: 0.0010\n",
      "Epoch 35/400\n",
      "426/426 [==============================] - 15s 35ms/step - loss: 0.5432 - accuracy: 0.7801 - val_loss: 1.0270 - val_accuracy: 0.6418 - lr: 0.0010\n",
      "Epoch 36/400\n",
      "426/426 [==============================] - 15s 35ms/step - loss: 0.5505 - accuracy: 0.7783 - val_loss: 0.6777 - val_accuracy: 0.7393 - lr: 0.0010\n",
      "Epoch 37/400\n",
      "426/426 [==============================] - 15s 34ms/step - loss: 0.5293 - accuracy: 0.7873 - val_loss: 1.2262 - val_accuracy: 0.6356 - lr: 0.0010\n",
      "Epoch 38/400\n",
      "426/426 [==============================] - 14s 34ms/step - loss: 0.5240 - accuracy: 0.7874 - val_loss: 0.8786 - val_accuracy: 0.6762 - lr: 0.0010\n",
      "Epoch 39/400\n",
      "426/426 [==============================] - 15s 34ms/step - loss: 0.5180 - accuracy: 0.7928 - val_loss: 0.9221 - val_accuracy: 0.6703 - lr: 0.0010\n",
      "Epoch 40/400\n",
      "426/426 [==============================] - 14s 34ms/step - loss: 0.5165 - accuracy: 0.7924 - val_loss: 0.6803 - val_accuracy: 0.7416 - lr: 0.0010\n",
      "Epoch 41/400\n",
      "426/426 [==============================] - 15s 35ms/step - loss: 0.4931 - accuracy: 0.8052 - val_loss: 0.9852 - val_accuracy: 0.6823 - lr: 0.0010\n",
      "Epoch 42/400\n",
      "426/426 [==============================] - 14s 34ms/step - loss: 0.4888 - accuracy: 0.8002 - val_loss: 0.6919 - val_accuracy: 0.7143 - lr: 0.0010\n",
      "Epoch 43/400\n",
      "426/426 [==============================] - 14s 34ms/step - loss: 0.4869 - accuracy: 0.8002 - val_loss: 2.4726 - val_accuracy: 0.5975 - lr: 0.0010\n",
      "Epoch 44/400\n",
      "426/426 [==============================] - 14s 34ms/step - loss: 0.4872 - accuracy: 0.8079 - val_loss: 0.7470 - val_accuracy: 0.6961 - lr: 0.0010\n",
      "Epoch 45/400\n",
      "426/426 [==============================] - 15s 34ms/step - loss: 0.4715 - accuracy: 0.8127 - val_loss: 0.9412 - val_accuracy: 0.6709 - lr: 0.0010\n",
      "Epoch 46/400\n",
      "426/426 [==============================] - 14s 34ms/step - loss: 0.4684 - accuracy: 0.8112 - val_loss: 0.6892 - val_accuracy: 0.7372 - lr: 0.0010\n",
      "Epoch 47/400\n",
      "426/426 [==============================] - 14s 34ms/step - loss: 0.4501 - accuracy: 0.8210 - val_loss: 0.7039 - val_accuracy: 0.7352 - lr: 0.0010\n",
      "Epoch 48/400\n",
      "426/426 [==============================] - 14s 34ms/step - loss: 0.4561 - accuracy: 0.8168 - val_loss: 0.7296 - val_accuracy: 0.7290 - lr: 0.0010\n",
      "Epoch 49/400\n",
      "426/426 [==============================] - 15s 35ms/step - loss: 0.4659 - accuracy: 0.8152 - val_loss: 1.4707 - val_accuracy: 0.6271 - lr: 0.0010\n",
      "Epoch 50/400\n",
      "426/426 [==============================] - 15s 34ms/step - loss: 0.4560 - accuracy: 0.8204 - val_loss: 0.7096 - val_accuracy: 0.7331 - lr: 0.0010\n",
      "Epoch 51/400\n",
      "426/426 [==============================] - 14s 34ms/step - loss: 0.4400 - accuracy: 0.8266 - val_loss: 0.7460 - val_accuracy: 0.7363 - lr: 0.0010\n",
      "Epoch 52/400\n",
      "426/426 [==============================] - 14s 34ms/step - loss: 0.4445 - accuracy: 0.8201 - val_loss: 1.0158 - val_accuracy: 0.6591 - lr: 0.0010\n",
      "Epoch 53/400\n",
      "426/426 [==============================] - 15s 34ms/step - loss: 0.4387 - accuracy: 0.8292 - val_loss: 0.7123 - val_accuracy: 0.7393 - lr: 0.0010\n",
      "Epoch 54/400\n",
      "426/426 [==============================] - 15s 34ms/step - loss: 0.4385 - accuracy: 0.8272 - val_loss: 0.8028 - val_accuracy: 0.6964 - lr: 0.0010\n",
      "Epoch 55/400\n",
      "426/426 [==============================] - 15s 35ms/step - loss: 0.4208 - accuracy: 0.8329 - val_loss: 0.8099 - val_accuracy: 0.7093 - lr: 0.0010\n",
      "Epoch 56/400\n",
      "426/426 [==============================] - ETA: 0s - loss: 0.4208 - accuracy: 0.8332\n",
      "Epoch 56: ReduceLROnPlateau reducing learning rate to 0.0005000000237487257.\n",
      "426/426 [==============================] - 14s 34ms/step - loss: 0.4208 - accuracy: 0.8332 - val_loss: 1.3223 - val_accuracy: 0.6459 - lr: 0.0010\n",
      "Epoch 57/400\n",
      "426/426 [==============================] - 14s 34ms/step - loss: 0.3952 - accuracy: 0.8422 - val_loss: 0.8293 - val_accuracy: 0.7079 - lr: 5.0000e-04\n",
      "Epoch 58/400\n",
      "426/426 [==============================] - 14s 34ms/step - loss: 0.3815 - accuracy: 0.8477 - val_loss: 0.7123 - val_accuracy: 0.7434 - lr: 5.0000e-04\n",
      "Epoch 59/400\n",
      "426/426 [==============================] - 14s 34ms/step - loss: 0.3677 - accuracy: 0.8513 - val_loss: 3.8998 - val_accuracy: 0.5596 - lr: 5.0000e-04\n",
      "Epoch 60/400\n",
      "426/426 [==============================] - 15s 34ms/step - loss: 0.3639 - accuracy: 0.8577 - val_loss: 0.7286 - val_accuracy: 0.7457 - lr: 5.0000e-04\n",
      "Epoch 61/400\n",
      "426/426 [==============================] - 15s 34ms/step - loss: 0.3686 - accuracy: 0.8556 - val_loss: 0.7232 - val_accuracy: 0.7410 - lr: 5.0000e-04\n",
      "Epoch 62/400\n",
      "426/426 [==============================] - 15s 35ms/step - loss: 0.3536 - accuracy: 0.8590 - val_loss: 0.7851 - val_accuracy: 0.7228 - lr: 5.0000e-04\n",
      "Epoch 63/400\n",
      "426/426 [==============================] - 15s 34ms/step - loss: 0.3530 - accuracy: 0.8602 - val_loss: 0.7355 - val_accuracy: 0.7460 - lr: 5.0000e-04\n",
      "Epoch 64/400\n",
      "426/426 [==============================] - 15s 34ms/step - loss: 0.3519 - accuracy: 0.8610 - val_loss: 0.9079 - val_accuracy: 0.6917 - lr: 5.0000e-04\n",
      "Epoch 65/400\n",
      "426/426 [==============================] - 15s 35ms/step - loss: 0.3506 - accuracy: 0.8603 - val_loss: 0.7262 - val_accuracy: 0.7504 - lr: 5.0000e-04\n",
      "Epoch 66/400\n",
      "426/426 [==============================] - 15s 34ms/step - loss: 0.3384 - accuracy: 0.8682 - val_loss: 1.5032 - val_accuracy: 0.6709 - lr: 5.0000e-04\n",
      "Epoch 67/400\n",
      "426/426 [==============================] - 15s 34ms/step - loss: 0.3490 - accuracy: 0.8637 - val_loss: 0.7817 - val_accuracy: 0.7240 - lr: 5.0000e-04\n",
      "Epoch 68/400\n",
      "426/426 [==============================] - 14s 34ms/step - loss: 0.3370 - accuracy: 0.8679 - val_loss: 0.7465 - val_accuracy: 0.7493 - lr: 5.0000e-04\n",
      "Epoch 69/400\n",
      "426/426 [==============================] - 15s 35ms/step - loss: 0.3282 - accuracy: 0.8705 - val_loss: 3.9948 - val_accuracy: 0.5708 - lr: 5.0000e-04\n",
      "Epoch 70/400\n",
      "426/426 [==============================] - 15s 34ms/step - loss: 0.3480 - accuracy: 0.8629 - val_loss: 1.4079 - val_accuracy: 0.6671 - lr: 5.0000e-04\n",
      "Epoch 71/400\n",
      "426/426 [==============================] - 15s 34ms/step - loss: 0.3391 - accuracy: 0.8659 - val_loss: 0.7534 - val_accuracy: 0.7534 - lr: 5.0000e-04\n",
      "Epoch 72/400\n",
      "426/426 [==============================] - 15s 34ms/step - loss: 0.3273 - accuracy: 0.8698 - val_loss: 0.7772 - val_accuracy: 0.7372 - lr: 5.0000e-04\n",
      "Epoch 73/400\n",
      "426/426 [==============================] - 15s 35ms/step - loss: 0.3191 - accuracy: 0.8723 - val_loss: 0.8088 - val_accuracy: 0.7434 - lr: 5.0000e-04\n",
      "Epoch 74/400\n",
      "426/426 [==============================] - 15s 34ms/step - loss: 0.3409 - accuracy: 0.8675 - val_loss: 0.8158 - val_accuracy: 0.7176 - lr: 5.0000e-04\n",
      "Epoch 75/400\n",
      "426/426 [==============================] - 15s 34ms/step - loss: 0.3324 - accuracy: 0.8655 - val_loss: 1.4767 - val_accuracy: 0.6597 - lr: 5.0000e-04\n",
      "Epoch 76/400\n",
      "426/426 [==============================] - ETA: 0s - loss: 0.3228 - accuracy: 0.8750\n",
      "Epoch 76: ReduceLROnPlateau reducing learning rate to 0.0002500000118743628.\n",
      "426/426 [==============================] - 15s 34ms/step - loss: 0.3228 - accuracy: 0.8750 - val_loss: 1.1299 - val_accuracy: 0.6964 - lr: 5.0000e-04\n"
     ]
    }
   ],
   "source": [
    "modelCNN_MCV3=tf.keras.Sequential()\n",
    "modelCNN_MCV3.add(BatchNormalization(input_shape=(128,8,1)))\n",
    "modelCNN_MCV3.add(Conv2D(filters=4,kernel_size=(2,2),strides=(1,1),padding='SAME', use_bias=False, name='conv_1'))\n",
    "modelCNN_MCV3.add(BatchNormalization())\n",
    "modelCNN_MCV3.add(Activation('relu'))\n",
    "#modelCNN_MCV3.add(MaxPooling2D(2))\n",
    "modelCNN_MCV3.add(Conv2D(filters=8,kernel_size=(2,2),strides=(1,1), use_bias=False,\n",
    "                         padding='SAME', name='conv_2'))\n",
    "modelCNN_MCV3.add(BatchNormalization())\n",
    "modelCNN_MCV3.add(Activation('relu'))\n",
    "modelCNN_MCV3.add(Dropout(0.3))\n",
    "modelCNN_MCV3.add(Conv2D(filters=16,kernel_size=(4,4),strides=(2,2), use_bias=False,\n",
    "                         padding='SAME', name='conv_3'))\n",
    "modelCNN_MCV3.add(BatchNormalization())\n",
    "modelCNN_MCV3.add(Activation('relu'))\n",
    "modelCNN_MCV3.add(Conv2D(filters=64,kernel_size=(4,4),strides=(2,2), use_bias=False,\n",
    "                         padding='SAME', name='conv_4'))\n",
    "modelCNN_MCV3.add(BatchNormalization())\n",
    "modelCNN_MCV3.add(Activation('relu'))\n",
    "modelCNN_MCV3.add(Dropout(0.3))\n",
    "modelCNN_MCV3.add(Flatten())\n",
    "#modelCNN_MCV2.add(Dense(512, activation='relu', name='dense_2'))\n",
    "modelCNN_MCV3.add(Dense(256, activation='relu', name='dense_3'))\n",
    "modelCNN_MCV3.add(Dropout(0.5))\n",
    "modelCNN_MCV3.add(Dense(4, activation='softmax', name='output_range'))\n",
    "# inputs= Input(shape=(128,8,1),name='input')\n",
    "# hidden=BatchNormalization(input_shape=(128,8,1))(inputs)\n",
    "# hidden=Conv2D(filters=32,kernel_size=(2,2),strides=(1,1),padding='SAME', use_bias=False, name='conv_1')(hidden)\n",
    "# hidden=BatchNormalization()(hidden)\n",
    "# hidden=Activation('relu')(hidden)\n",
    "# hidden=MaxPooling2D(2,2)(hidden)\n",
    "# hidden=Conv2D(filters=32,kernel_size=(4,4),strides=(2,2), use_bias=False,\n",
    "#                          padding='SAME', name='conv_2')(hidden)\n",
    "# hidden=BatchNormalization()(hidden)\n",
    "# hidden=Activation('relu')(hidden)\n",
    "# hidden=Dropout(0.3)(hidden)\n",
    "# hidden=Conv2D(filters=32,kernel_size=(4,4),strides=(4,4), use_bias=False,\n",
    "#                          padding='SAME', name='conv_3')(hidden)\n",
    "# hidden=BatchNormalization()(hidden)\n",
    "# hidden=Activation('relu')(hidden)\n",
    "# hidden=Dropout(0.3)(hidden)\n",
    "# hidden=Flatten()(hidden)\n",
    "# hidden=Dense(512, activation='relu', name='dense_2')(hidden)\n",
    "# hidden=Dense(256, activation='relu', name='dense_3')(hidden)\n",
    "# hidden=Dropout(0.5)(hidden)\n",
    "# output1=Dense(7, activation='softmax', name='output_range')(hidden)\n",
    "#output2=Dense(3,activation='softmax',name=\"output_class\")(hidden)\n",
    "#output3=Dense(1,activation='linear',name=\"output_cont_range\")(hidden)\n",
    "\n",
    "\n",
    "#modelCNNv2=Model(inputs=inputs,outputs=[output1])\n",
    "optimizer= tf.keras.optimizers.Adam()\n",
    "modelCNN_MCV3.compile(loss='categorical_crossentropy',optimizer=optimizer,metrics=['accuracy'])\n",
    "\n",
    "\n",
    "reduceLR = tf.keras.callbacks.ReduceLROnPlateau(monitor='val_loss', factor=0.5,\n",
    "                                 verbose=1, patience=20, mode='auto')\n",
    "early = tf.keras.callbacks.EarlyStopping(monitor='val_loss', min_delta=1e-4,\n",
    "                          patience=40, mode='auto', restore_best_weights=True)\n",
    "modelCNN_MCV3.build(input_shape=(None,128,8,1))\n",
    "modelCNN_MCV3.summary()\n",
    "history = modelCNN_MCV3.fit(train_feats, range_train_targs_oh,\n",
    "                      epochs=400,\n",
    "                      batch_size=32,\n",
    "                      shuffle=True,\n",
    "                      class_weight=range_weights,\n",
    "                      validation_split=0.2,\n",
    "                      callbacks=[reduceLR, early])"
   ],
   "metadata": {
    "collapsed": false,
    "pycharm": {
     "name": "#%%\n"
    }
   }
  },
  {
   "cell_type": "markdown",
   "source": [
    "# Deep Recurrent Neural Network For Ranging\n",
    "Those shouldn't work unless the data is laid out so that each phone's observation extends for 300 sequential frames, then switches to the next."
   ],
   "metadata": {
    "collapsed": false,
    "pycharm": {
     "name": "#%% md\n"
    }
   }
  },
  {
   "cell_type": "code",
   "execution_count": 172,
   "outputs": [
    {
     "data": {
      "text/plain": "Text(0.5, 1.0, 'IF CRNN Confusion Matrix')"
     },
     "execution_count": 172,
     "metadata": {},
     "output_type": "execute_result"
    },
    {
     "data": {
      "text/plain": "<Figure size 360x360 with 2 Axes>",
      "image/png": "[encoded data removed]"
     },
     "metadata": {
      "needs_background": "light"
     },
     "output_type": "display_data"
    }
   ],
   "source": [
    "y_pred = np.argmax(test_predictions, axis=-1)\n",
    "y_true=np.argmax(range_test_targs_oh, axis=-1)\n",
    "cm = confusion_matrix(y_true, y_pred)\n",
    "## Get Class Labels\n",
    "class_names = [\"<40\",\"40-60\",\"60-80\",\">80\"]\n",
    "# Plot confusion matrix in a beautiful manner\n",
    "fig = plt.figure(figsize=(5, 5))\n",
    "ax= plt.subplot()\n",
    "sns.heatmap(cm, annot=True, ax = ax, fmt = 'g'); #annot=True to annotate cells\n",
    "# labels, title and ticks\n",
    "ax.set_xlabel('Predicted', fontsize=20)\n",
    "ax.xaxis.set_label_position('bottom')\n",
    "plt.xticks(rotation=90)\n",
    "ax.xaxis.set_ticklabels(class_names, fontsize = 10)\n",
    "ax.xaxis.tick_bottom()\n",
    "\n",
    "ax.set_ylabel('True', fontsize=20)\n",
    "ax.yaxis.set_ticklabels(class_names, fontsize = 10)\n",
    "plt.yticks(rotation=0)\n",
    "\n",
    "plt.title('IF CRNN Confusion Matrix', fontsize=20)"
   ],
   "metadata": {
    "collapsed": false,
    "pycharm": {
     "name": "#%%\n"
    }
   }
  },
  {
   "cell_type": "code",
   "execution_count": 173,
   "outputs": [
    {
     "name": "stdout",
     "output_type": "stream",
     "text": [
      "              precision    recall  f1-score   support\n",
      "\n",
      "           0       0.90      0.90      0.90       301\n",
      "           1       0.72      0.74      0.73       133\n",
      "           2       0.62      0.76      0.68        91\n",
      "           3       0.92      0.81      0.86       227\n",
      "\n",
      "    accuracy                           0.83       752\n",
      "   macro avg       0.79      0.80      0.79       752\n",
      "weighted avg       0.84      0.83      0.83       752\n",
      "\n"
     ]
    }
   ],
   "source": [
    "print(classification_report(y_true=y_true,y_pred=y_pred))"
   ],
   "metadata": {
    "collapsed": false,
    "pycharm": {
     "name": "#%%\n"
    }
   }
  },
  {
   "cell_type": "code",
   "execution_count": 155,
   "outputs": [
    {
     "name": "stdout",
     "output_type": "stream",
     "text": [
      "              precision    recall  f1-score   support\n",
      "\n",
      "           0       0.69      0.71      0.70       456\n",
      "           1       0.61      0.38      0.47       429\n",
      "           2       0.44      0.51      0.47       346\n",
      "           3       0.68      0.79      0.73       597\n",
      "\n",
      "    accuracy                           0.62      1828\n",
      "   macro avg       0.60      0.60      0.59      1828\n",
      "weighted avg       0.62      0.62      0.61      1828\n",
      "\n"
     ]
    },
    {
     "data": {
      "text/plain": "<Figure size 360x360 with 2 Axes>",
      "image/png": "[encoded data removed]"
     },
     "metadata": {
      "needs_background": "light"
     },
     "output_type": "display_data"
    }
   ],
   "source": [
    "single_drone_truth=[]\n",
    "single_drone_pred=[]\n",
    "for x in range(len(class_test_targs)):\n",
    "    if class_test_targs[x]==1:\n",
    "        single_drone_truth.append(np.argmax(range_test_targs_oh[x], axis=-1))\n",
    "        single_drone_pred.append(np.argmax(test_predictions[x], axis=-1))\n",
    "        cm = confusion_matrix(single_drone_truth, single_drone_pred)\n",
    "## Get Class Labels\n",
    "class_names = [\"<40\",\"40-60\",\"60-80\",\">80\"]\n",
    "#class_names = [\"<30\", \"40\",\"50\",\"60\",\"70\",\"80\",\"80+\"]\n",
    "# Plot confusion matrix in a beautiful manner\n",
    "fig = plt.figure(figsize=(5, 5))\n",
    "ax= plt.subplot()\n",
    "sns.heatmap(cm, annot=True, ax = ax, fmt = 'g'); #annot=True to annotate cells\n",
    "# labels, title and ticks\n",
    "ax.set_xlabel('Predicted', fontsize=20)\n",
    "ax.xaxis.set_label_position('bottom')\n",
    "plt.xticks(rotation=90)\n",
    "ax.xaxis.set_ticklabels(class_names, fontsize = 10)\n",
    "ax.xaxis.tick_bottom()\n",
    "\n",
    "ax.set_ylabel('True', fontsize=20)\n",
    "ax.yaxis.set_ticklabels(class_names, fontsize = 10)\n",
    "plt.yticks(rotation=0)\n",
    "\n",
    "plt.title('CRNN Phantom Confusion Matrix', fontsize=20)\n",
    "print(classification_report(y_true=single_drone_truth,y_pred=single_drone_pred)) #this is using the multi-output regression/classification\n"
   ],
   "metadata": {
    "collapsed": false,
    "pycharm": {
     "name": "#%%\n"
    }
   }
  },
  {
   "cell_type": "code",
   "execution_count": null,
   "outputs": [],
   "source": [
    "plt.hist(y_true,alpha=0.5)\n",
    "plt.hist(y_pred,alpha=0.5)\n",
    "plt.show()"
   ],
   "metadata": {
    "collapsed": false,
    "pycharm": {
     "name": "#%%\n"
    }
   }
  },
  {
   "cell_type": "code",
   "execution_count": null,
   "outputs": [],
   "source": [
    "score=np.reshape(score,-1)\n",
    "residual=score-test_targs\n",
    "plt.xlabel(\"Truth (meters)\")\n",
    "plt.ylabel(\"Error (meters)\")\n",
    "plt.scatter(test_targs,np.abs(residual))\n",
    "plt.show()"
   ],
   "metadata": {
    "collapsed": false,
    "pycharm": {
     "name": "#%%\n"
    }
   }
  },
  {
   "cell_type": "code",
   "execution_count": null,
   "outputs": [],
   "source": [
    "resid_df=pd.DataFrame({\"Actual\":test_targs,\"Error\":residual})"
   ],
   "metadata": {
    "collapsed": false,
    "pycharm": {
     "name": "#%%\n"
    }
   }
  },
  {
   "cell_type": "code",
   "execution_count": null,
   "outputs": [],
   "source": [
    "ave_error=[]\n",
    "sub_40=resid_df[resid_df[\"Actual\"]<40]\n",
    "ave_error.append(sub_40[\"Error\"].mean())\n",
    "sub_40=resid_df[resid_df[\"Actual\"]<60]\n",
    "sub_40=sub_40[sub_40[\"Actual\"]>40]\n",
    "ave_error.append(sub_40[\"Error\"].mean())\n",
    "sub_40=resid_df[resid_df[\"Actual\"]<80]\n",
    "sub_40=sub_40[sub_40[\"Actual\"]>60]\n",
    "ave_error.append(sub_40[\"Error\"].mean())\n",
    "sub_40=resid_df[resid_df[\"Actual\"]>80]\n",
    "ave_error.append(sub_40[\"Error\"].mean())"
   ],
   "metadata": {
    "collapsed": false,
    "pycharm": {
     "name": "#%%\n"
    }
   }
  },
  {
   "cell_type": "code",
   "execution_count": null,
   "outputs": [],
   "source": [
    "print(ave_error)"
   ],
   "metadata": {
    "collapsed": false,
    "pycharm": {
     "name": "#%%\n"
    }
   }
  },
  {
   "cell_type": "code",
   "execution_count": null,
   "outputs": [],
   "source": [
    "plt.hist(train_targs)"
   ],
   "metadata": {
    "collapsed": false,
    "pycharm": {
     "name": "#%%\n"
    }
   }
  },
  {
   "cell_type": "markdown",
   "source": [
    "# CRNN Take 2: Trying to not have RNN part be pointless"
   ],
   "metadata": {
    "collapsed": false,
    "pycharm": {
     "name": "#%% md\n"
    }
   }
  },
  {
   "cell_type": "code",
   "execution_count": 64,
   "outputs": [
    {
     "name": "stdout",
     "output_type": "stream",
     "text": [
      "Model: \"sequential_18\"\n",
      "_________________________________________________________________\n",
      " Layer (type)                Output Shape              Param #   \n",
      "=================================================================\n",
      " batch_normalization_79 (Bat  (None, 128, 8, 1)        4         \n",
      " chNormalization)                                                \n",
      "                                                                 \n",
      " conv_1 (Conv2D)             (None, 128, 8, 8)         32        \n",
      "                                                                 \n",
      " batch_normalization_80 (Bat  (None, 128, 8, 8)        32        \n",
      " chNormalization)                                                \n",
      "                                                                 \n",
      " activation_60 (Activation)  (None, 128, 8, 8)         0         \n",
      "                                                                 \n",
      " conv_2 (Conv2D)             (None, 64, 8, 16)         2048      \n",
      "                                                                 \n",
      " batch_normalization_81 (Bat  (None, 64, 8, 16)        64        \n",
      " chNormalization)                                                \n",
      "                                                                 \n",
      " activation_61 (Activation)  (None, 64, 8, 16)         0         \n",
      "                                                                 \n",
      " dropout_54 (Dropout)        (None, 64, 8, 16)         0         \n",
      "                                                                 \n",
      " conv_3 (Conv2D)             (None, 16, 8, 32)         8192      \n",
      "                                                                 \n",
      " batch_normalization_82 (Bat  (None, 16, 8, 32)        128       \n",
      " chNormalization)                                                \n",
      "                                                                 \n",
      " activation_62 (Activation)  (None, 16, 8, 32)         0         \n",
      "                                                                 \n",
      " max_pooling2d_13 (MaxPoolin  (None, 1, 8, 32)         0         \n",
      " g2D)                                                            \n",
      "                                                                 \n",
      " dropout_55 (Dropout)        (None, 1, 8, 32)          0         \n",
      "                                                                 \n",
      " reshape_4 (Reshape)         (None, 8, 32)             0         \n",
      "                                                                 \n",
      " gru_5 (GRU)                 (None, 32)                6336      \n",
      "                                                                 \n",
      " dense_3 (Dense)             (None, 64)                2112      \n",
      "                                                                 \n",
      " dropout_56 (Dropout)        (None, 64)                0         \n",
      "                                                                 \n",
      " dense_4 (Dense)             (None, 4)                 260       \n",
      "                                                                 \n",
      "=================================================================\n",
      "Total params: 19,208\n",
      "Trainable params: 19,094\n",
      "Non-trainable params: 114\n",
      "_________________________________________________________________\n",
      "Epoch 1/200\n",
      "426/426 [==============================] - 15s 31ms/step - loss: 1.3329 - accuracy: 0.3985 - val_loss: 1.1925 - val_accuracy: 0.4888 - lr: 0.0010\n",
      "Epoch 2/200\n",
      "426/426 [==============================] - 13s 30ms/step - loss: 1.2216 - accuracy: 0.4777 - val_loss: 1.1491 - val_accuracy: 0.4665 - lr: 0.0010\n",
      "Epoch 3/200\n",
      "426/426 [==============================] - 13s 31ms/step - loss: 1.1599 - accuracy: 0.4958 - val_loss: 1.1016 - val_accuracy: 0.4745 - lr: 0.0010\n",
      "Epoch 4/200\n",
      "426/426 [==============================] - 13s 30ms/step - loss: 1.1313 - accuracy: 0.5087 - val_loss: 1.0509 - val_accuracy: 0.5082 - lr: 0.0010\n",
      "Epoch 5/200\n",
      "426/426 [==============================] - 13s 30ms/step - loss: 1.1023 - accuracy: 0.5253 - val_loss: 1.0302 - val_accuracy: 0.5214 - lr: 0.0010\n",
      "Epoch 6/200\n",
      "426/426 [==============================] - 13s 30ms/step - loss: 1.0838 - accuracy: 0.5387 - val_loss: 1.0050 - val_accuracy: 0.5355 - lr: 0.0010\n",
      "Epoch 7/200\n",
      "426/426 [==============================] - 13s 31ms/step - loss: 1.0684 - accuracy: 0.5523 - val_loss: 1.0059 - val_accuracy: 0.5323 - lr: 0.0010\n",
      "Epoch 8/200\n",
      "426/426 [==============================] - 13s 30ms/step - loss: 1.0564 - accuracy: 0.5540 - val_loss: 0.9730 - val_accuracy: 0.5487 - lr: 0.0010\n",
      "Epoch 9/200\n",
      "426/426 [==============================] - 13s 30ms/step - loss: 1.0397 - accuracy: 0.5665 - val_loss: 1.0059 - val_accuracy: 0.5341 - lr: 0.0010\n",
      "Epoch 10/200\n",
      "426/426 [==============================] - 13s 30ms/step - loss: 1.0282 - accuracy: 0.5653 - val_loss: 1.1372 - val_accuracy: 0.5059 - lr: 0.0010\n",
      "Epoch 11/200\n",
      "426/426 [==============================] - 13s 31ms/step - loss: 1.0223 - accuracy: 0.5718 - val_loss: 0.9680 - val_accuracy: 0.5649 - lr: 0.0010\n",
      "Epoch 12/200\n",
      "426/426 [==============================] - 13s 31ms/step - loss: 1.0123 - accuracy: 0.5754 - val_loss: 1.1064 - val_accuracy: 0.5200 - lr: 0.0010\n",
      "Epoch 13/200\n",
      "426/426 [==============================] - 13s 30ms/step - loss: 1.0066 - accuracy: 0.5736 - val_loss: 1.0472 - val_accuracy: 0.5302 - lr: 0.0010\n",
      "Epoch 14/200\n",
      "426/426 [==============================] - 13s 30ms/step - loss: 1.0012 - accuracy: 0.5784 - val_loss: 1.0285 - val_accuracy: 0.5608 - lr: 0.0010\n",
      "Epoch 15/200\n",
      "426/426 [==============================] - 13s 30ms/step - loss: 0.9897 - accuracy: 0.5847 - val_loss: 0.9518 - val_accuracy: 0.5890 - lr: 0.0010\n",
      "Epoch 16/200\n",
      "426/426 [==============================] - 13s 30ms/step - loss: 0.9804 - accuracy: 0.5896 - val_loss: 1.3367 - val_accuracy: 0.4733 - lr: 0.0010\n",
      "Epoch 17/200\n",
      "426/426 [==============================] - 13s 30ms/step - loss: 0.9835 - accuracy: 0.5951 - val_loss: 1.1928 - val_accuracy: 0.5370 - lr: 0.0010\n",
      "Epoch 18/200\n",
      "426/426 [==============================] - 13s 30ms/step - loss: 0.9721 - accuracy: 0.5949 - val_loss: 0.9236 - val_accuracy: 0.5922 - lr: 0.0010\n",
      "Epoch 19/200\n",
      "426/426 [==============================] - 13s 30ms/step - loss: 0.9703 - accuracy: 0.5948 - val_loss: 0.9821 - val_accuracy: 0.5854 - lr: 0.0010\n",
      "Epoch 20/200\n",
      "426/426 [==============================] - 13s 31ms/step - loss: 0.9566 - accuracy: 0.5997 - val_loss: 1.2820 - val_accuracy: 0.5129 - lr: 0.0010\n",
      "Epoch 21/200\n",
      "426/426 [==============================] - 13s 31ms/step - loss: 0.9536 - accuracy: 0.6039 - val_loss: 1.1900 - val_accuracy: 0.5408 - lr: 0.0010\n",
      "Epoch 22/200\n",
      "426/426 [==============================] - 13s 31ms/step - loss: 0.9486 - accuracy: 0.6039 - val_loss: 0.9465 - val_accuracy: 0.5849 - lr: 0.0010\n",
      "Epoch 23/200\n",
      "426/426 [==============================] - 13s 31ms/step - loss: 0.9488 - accuracy: 0.6046 - val_loss: 1.0700 - val_accuracy: 0.5520 - lr: 0.0010\n",
      "Epoch 24/200\n",
      "426/426 [==============================] - 13s 31ms/step - loss: 0.9420 - accuracy: 0.6073 - val_loss: 0.9112 - val_accuracy: 0.6013 - lr: 0.0010\n",
      "Epoch 25/200\n",
      "426/426 [==============================] - 13s 31ms/step - loss: 0.9301 - accuracy: 0.6169 - val_loss: 1.1101 - val_accuracy: 0.5637 - lr: 0.0010\n",
      "Epoch 26/200\n",
      "426/426 [==============================] - 13s 31ms/step - loss: 0.9278 - accuracy: 0.6207 - val_loss: 1.1250 - val_accuracy: 0.5511 - lr: 0.0010\n",
      "Epoch 27/200\n",
      "426/426 [==============================] - 13s 31ms/step - loss: 0.9184 - accuracy: 0.6250 - val_loss: 0.9254 - val_accuracy: 0.5998 - lr: 0.0010\n",
      "Epoch 28/200\n",
      "426/426 [==============================] - 13s 31ms/step - loss: 0.9188 - accuracy: 0.6202 - val_loss: 1.1876 - val_accuracy: 0.5555 - lr: 0.0010\n",
      "Epoch 29/200\n",
      "426/426 [==============================] - 13s 31ms/step - loss: 0.9162 - accuracy: 0.6231 - val_loss: 0.9036 - val_accuracy: 0.6136 - lr: 0.0010\n",
      "Epoch 30/200\n",
      "426/426 [==============================] - 14s 32ms/step - loss: 0.9074 - accuracy: 0.6252 - val_loss: 1.3315 - val_accuracy: 0.5009 - lr: 0.0010\n",
      "Epoch 31/200\n",
      "426/426 [==============================] - 13s 31ms/step - loss: 0.9039 - accuracy: 0.6282 - val_loss: 1.2856 - val_accuracy: 0.5203 - lr: 0.0010\n",
      "Epoch 32/200\n",
      "426/426 [==============================] - 13s 31ms/step - loss: 0.9027 - accuracy: 0.6253 - val_loss: 0.8807 - val_accuracy: 0.6166 - lr: 0.0010\n",
      "Epoch 33/200\n",
      "426/426 [==============================] - 13s 31ms/step - loss: 0.9041 - accuracy: 0.6249 - val_loss: 0.8819 - val_accuracy: 0.6051 - lr: 0.0010\n",
      "Epoch 34/200\n",
      "426/426 [==============================] - 13s 32ms/step - loss: 0.9030 - accuracy: 0.6227 - val_loss: 1.1464 - val_accuracy: 0.5302 - lr: 0.0010\n",
      "Epoch 35/200\n",
      "426/426 [==============================] - 13s 31ms/step - loss: 0.8983 - accuracy: 0.6344 - val_loss: 0.8569 - val_accuracy: 0.6342 - lr: 0.0010\n",
      "Epoch 36/200\n",
      "426/426 [==============================] - 13s 31ms/step - loss: 0.8892 - accuracy: 0.6302 - val_loss: 1.6166 - val_accuracy: 0.4489 - lr: 0.0010\n",
      "Epoch 37/200\n",
      "426/426 [==============================] - 13s 31ms/step - loss: 0.8938 - accuracy: 0.6285 - val_loss: 0.8725 - val_accuracy: 0.6122 - lr: 0.0010\n",
      "Epoch 38/200\n",
      "426/426 [==============================] - 13s 31ms/step - loss: 0.8770 - accuracy: 0.6396 - val_loss: 0.8540 - val_accuracy: 0.6295 - lr: 0.0010\n",
      "Epoch 39/200\n",
      "426/426 [==============================] - 13s 31ms/step - loss: 0.8798 - accuracy: 0.6397 - val_loss: 1.1138 - val_accuracy: 0.5669 - lr: 0.0010\n",
      "Epoch 40/200\n",
      "426/426 [==============================] - 13s 31ms/step - loss: 0.8716 - accuracy: 0.6384 - val_loss: 0.8723 - val_accuracy: 0.6183 - lr: 0.0010\n",
      "Epoch 41/200\n",
      "426/426 [==============================] - 13s 31ms/step - loss: 0.8784 - accuracy: 0.6388 - val_loss: 1.7521 - val_accuracy: 0.4516 - lr: 0.0010\n",
      "Epoch 42/200\n",
      "426/426 [==============================] - 13s 31ms/step - loss: 0.8769 - accuracy: 0.6420 - val_loss: 0.8389 - val_accuracy: 0.6348 - lr: 0.0010\n",
      "Epoch 43/200\n",
      "426/426 [==============================] - 13s 31ms/step - loss: 0.8779 - accuracy: 0.6413 - val_loss: 0.8573 - val_accuracy: 0.6315 - lr: 0.0010\n",
      "Epoch 44/200\n",
      "426/426 [==============================] - 13s 31ms/step - loss: 0.8721 - accuracy: 0.6445 - val_loss: 0.9713 - val_accuracy: 0.5981 - lr: 0.0010\n",
      "Epoch 45/200\n",
      "426/426 [==============================] - 13s 31ms/step - loss: 0.8675 - accuracy: 0.6423 - val_loss: 0.8619 - val_accuracy: 0.6230 - lr: 0.0010\n",
      "Epoch 46/200\n",
      "426/426 [==============================] - 13s 31ms/step - loss: 0.8642 - accuracy: 0.6499 - val_loss: 1.2094 - val_accuracy: 0.5658 - lr: 0.0010\n",
      "Epoch 47/200\n",
      "426/426 [==============================] - 13s 31ms/step - loss: 0.8546 - accuracy: 0.6506 - val_loss: 1.1510 - val_accuracy: 0.5590 - lr: 0.0010\n",
      "Epoch 48/200\n",
      "426/426 [==============================] - 13s 31ms/step - loss: 0.8543 - accuracy: 0.6472 - val_loss: 0.8451 - val_accuracy: 0.6398 - lr: 0.0010\n",
      "Epoch 49/200\n",
      "426/426 [==============================] - 13s 31ms/step - loss: 0.8583 - accuracy: 0.6491 - val_loss: 0.9556 - val_accuracy: 0.5957 - lr: 0.0010\n",
      "Epoch 50/200\n",
      "426/426 [==============================] - 13s 31ms/step - loss: 0.8528 - accuracy: 0.6504 - val_loss: 1.3201 - val_accuracy: 0.5211 - lr: 0.0010\n",
      "Epoch 51/200\n",
      "426/426 [==============================] - 13s 31ms/step - loss: 0.8571 - accuracy: 0.6448 - val_loss: 1.0026 - val_accuracy: 0.5781 - lr: 0.0010\n",
      "Epoch 52/200\n",
      "426/426 [==============================] - ETA: 0s - loss: 0.8544 - accuracy: 0.6490\n",
      "Epoch 52: ReduceLROnPlateau reducing learning rate to 0.0005000000237487257.\n",
      "426/426 [==============================] - 13s 31ms/step - loss: 0.8544 - accuracy: 0.6490 - val_loss: 1.2429 - val_accuracy: 0.5229 - lr: 0.0010\n",
      "Epoch 53/200\n",
      "426/426 [==============================] - 13s 31ms/step - loss: 0.8299 - accuracy: 0.6586 - val_loss: 1.0942 - val_accuracy: 0.5816 - lr: 5.0000e-04\n",
      "Epoch 54/200\n",
      "426/426 [==============================] - 13s 31ms/step - loss: 0.8351 - accuracy: 0.6643 - val_loss: 0.9144 - val_accuracy: 0.6116 - lr: 5.0000e-04\n",
      "Epoch 55/200\n",
      "426/426 [==============================] - 13s 31ms/step - loss: 0.8315 - accuracy: 0.6580 - val_loss: 1.3848 - val_accuracy: 0.5258 - lr: 5.0000e-04\n",
      "Epoch 56/200\n",
      "426/426 [==============================] - 13s 31ms/step - loss: 0.8280 - accuracy: 0.6594 - val_loss: 1.3057 - val_accuracy: 0.5367 - lr: 5.0000e-04\n",
      "Epoch 57/200\n",
      "426/426 [==============================] - 13s 31ms/step - loss: 0.8188 - accuracy: 0.6666 - val_loss: 1.0497 - val_accuracy: 0.5851 - lr: 5.0000e-04\n",
      "Epoch 58/200\n",
      "426/426 [==============================] - 13s 31ms/step - loss: 0.8215 - accuracy: 0.6672 - val_loss: 1.3276 - val_accuracy: 0.5299 - lr: 5.0000e-04\n",
      "Epoch 59/200\n",
      "426/426 [==============================] - 13s 31ms/step - loss: 0.8208 - accuracy: 0.6619 - val_loss: 1.0365 - val_accuracy: 0.5916 - lr: 5.0000e-04\n",
      "Epoch 60/200\n",
      "426/426 [==============================] - 14s 34ms/step - loss: 0.8199 - accuracy: 0.6655 - val_loss: 1.3859 - val_accuracy: 0.5437 - lr: 5.0000e-04\n",
      "Epoch 61/200\n",
      "426/426 [==============================] - 15s 34ms/step - loss: 0.8128 - accuracy: 0.6660 - val_loss: 1.0313 - val_accuracy: 0.5966 - lr: 5.0000e-04\n",
      "Epoch 62/200\n",
      "425/426 [============================>.] - ETA: 0s - loss: 0.8126 - accuracy: 0.6663\n",
      "Epoch 62: ReduceLROnPlateau reducing learning rate to 0.0002500000118743628.\n",
      "426/426 [==============================] - 15s 35ms/step - loss: 0.8125 - accuracy: 0.6664 - val_loss: 1.2557 - val_accuracy: 0.5443 - lr: 5.0000e-04\n",
      "Epoch 63/200\n",
      "426/426 [==============================] - 15s 34ms/step - loss: 0.8128 - accuracy: 0.6647 - val_loss: 0.9568 - val_accuracy: 0.6013 - lr: 2.5000e-04\n",
      "Epoch 64/200\n",
      "426/426 [==============================] - 14s 34ms/step - loss: 0.8085 - accuracy: 0.6697 - val_loss: 1.2857 - val_accuracy: 0.5411 - lr: 2.5000e-04\n",
      "Epoch 65/200\n",
      "426/426 [==============================] - 13s 31ms/step - loss: 0.8022 - accuracy: 0.6755 - val_loss: 1.0659 - val_accuracy: 0.5769 - lr: 2.5000e-04\n",
      "Epoch 66/200\n",
      "426/426 [==============================] - 14s 32ms/step - loss: 0.8062 - accuracy: 0.6696 - val_loss: 1.0969 - val_accuracy: 0.5869 - lr: 2.5000e-04\n",
      "Epoch 67/200\n",
      "426/426 [==============================] - 17s 41ms/step - loss: 0.8068 - accuracy: 0.6666 - val_loss: 0.8933 - val_accuracy: 0.6201 - lr: 2.5000e-04\n",
      "Epoch 68/200\n",
      "426/426 [==============================] - 18s 42ms/step - loss: 0.8023 - accuracy: 0.6719 - val_loss: 1.2539 - val_accuracy: 0.5526 - lr: 2.5000e-04\n",
      "Epoch 69/200\n",
      "426/426 [==============================] - 14s 33ms/step - loss: 0.7923 - accuracy: 0.6776 - val_loss: 1.2026 - val_accuracy: 0.5611 - lr: 2.5000e-04\n",
      "Epoch 70/200\n",
      "426/426 [==============================] - 14s 33ms/step - loss: 0.7997 - accuracy: 0.6731 - val_loss: 0.9225 - val_accuracy: 0.6166 - lr: 2.5000e-04\n",
      "Epoch 71/200\n",
      "426/426 [==============================] - 14s 32ms/step - loss: 0.7956 - accuracy: 0.6755 - val_loss: 1.3511 - val_accuracy: 0.5390 - lr: 2.5000e-04\n",
      "Epoch 72/200\n",
      "424/426 [============================>.] - ETA: 0s - loss: 0.7997 - accuracy: 0.6710\n",
      "Epoch 72: ReduceLROnPlateau reducing learning rate to 0.0001250000059371814.\n",
      "426/426 [==============================] - 14s 33ms/step - loss: 0.8002 - accuracy: 0.6710 - val_loss: 0.8428 - val_accuracy: 0.6324 - lr: 2.5000e-04\n",
      "Epoch 73/200\n",
      "426/426 [==============================] - 15s 35ms/step - loss: 0.7972 - accuracy: 0.6720 - val_loss: 1.1210 - val_accuracy: 0.5740 - lr: 1.2500e-04\n",
      "Epoch 74/200\n",
      "426/426 [==============================] - 14s 33ms/step - loss: 0.7868 - accuracy: 0.6754 - val_loss: 0.9099 - val_accuracy: 0.6145 - lr: 1.2500e-04\n",
      "Epoch 75/200\n",
      "426/426 [==============================] - 14s 33ms/step - loss: 0.7908 - accuracy: 0.6749 - val_loss: 1.1018 - val_accuracy: 0.5731 - lr: 1.2500e-04\n",
      "Epoch 76/200\n",
      "426/426 [==============================] - 14s 33ms/step - loss: 0.7846 - accuracy: 0.6767 - val_loss: 1.0348 - val_accuracy: 0.5881 - lr: 1.2500e-04\n",
      "Epoch 77/200\n",
      "426/426 [==============================] - 14s 33ms/step - loss: 0.7951 - accuracy: 0.6753 - val_loss: 0.9280 - val_accuracy: 0.6154 - lr: 1.2500e-04\n",
      "Epoch 78/200\n",
      "426/426 [==============================] - 14s 33ms/step - loss: 0.7860 - accuracy: 0.6811 - val_loss: 1.1524 - val_accuracy: 0.5675 - lr: 1.2500e-04\n",
      "Epoch 79/200\n",
      "426/426 [==============================] - 14s 33ms/step - loss: 0.7875 - accuracy: 0.6795 - val_loss: 1.0832 - val_accuracy: 0.5813 - lr: 1.2500e-04\n",
      "Epoch 80/200\n",
      "426/426 [==============================] - 14s 33ms/step - loss: 0.7923 - accuracy: 0.6774 - val_loss: 1.0815 - val_accuracy: 0.5834 - lr: 1.2500e-04\n",
      "Epoch 81/200\n",
      "426/426 [==============================] - 14s 33ms/step - loss: 0.7837 - accuracy: 0.6790 - val_loss: 1.0774 - val_accuracy: 0.5819 - lr: 1.2500e-04\n",
      "Epoch 82/200\n",
      "425/426 [============================>.] - ETA: 0s - loss: 0.7824 - accuracy: 0.6824\n",
      "Epoch 82: ReduceLROnPlateau reducing learning rate to 6.25000029685907e-05.\n",
      "426/426 [==============================] - 14s 33ms/step - loss: 0.7825 - accuracy: 0.6824 - val_loss: 0.8892 - val_accuracy: 0.6239 - lr: 1.2500e-04\n"
     ]
    }
   ],
   "source": [
    "modelCRNN=tf.keras.Sequential()\n",
    "modelCRNN.add(BatchNormalization(input_shape=(128,8,1)))\n",
    "modelCRNN.add(Conv2D(filters=8,kernel_size=(2,2),strides=(1,1),padding='SAME', use_bias=False, name='conv_1'))\n",
    "modelCRNN.add(BatchNormalization())\n",
    "modelCRNN.add(Activation('relu'))\n",
    "#modelCRNN.add(MaxPooling2D(2,2))\n",
    "modelCRNN.add(Conv2D(filters=16,kernel_size=(4,4),strides=(2,1), use_bias=False,\n",
    "                         padding='SAME', name='conv_2'))\n",
    "modelCRNN.add(BatchNormalization())\n",
    "modelCRNN.add(Activation('relu'))\n",
    "modelCRNN.add(Dropout(0.3))\n",
    "modelCRNN.add(Conv2D(filters=32,kernel_size=(4,4),strides=(4,1), use_bias=False,\n",
    "                         padding='SAME', name='conv_3'))\n",
    "modelCRNN.add(BatchNormalization())\n",
    "modelCRNN.add(Activation('relu'))\n",
    "modelCRNN.add(MaxPooling2D((12,1)))\n",
    "modelCRNN.add(Dropout(0.3))\n",
    "#modelCRNN.add(Flatten())\n",
    "modelCRNN.add(Reshape((8,32),input_shape=(1,8,32)))\n",
    "modelCRNN.add(GRU(32, input_shape=(1,8,32)))\n",
    "modelCRNN.add(Dense(64, activation='relu', name='dense_3'))\n",
    "modelCRNN.add(Dropout(0.5))\n",
    "modelCRNN.add(Dense(4, activation='softmax', name='dense_4'))\n",
    "\n",
    "\n",
    "optimizer= tf.keras.optimizers.Adam()\n",
    "modelCRNN.compile(loss='categorical_crossentropy',optimizer=optimizer,metrics=['accuracy'])\n",
    "\n",
    "reduceLR = tf.keras.callbacks.ReduceLROnPlateau(monitor='val_loss', factor=0.5,\n",
    "                                 verbose=1, patience=10, mode='auto')\n",
    "early = tf.keras.callbacks.EarlyStopping(monitor='val_loss', min_delta=1e-3,\n",
    "                          patience=40, mode='auto', restore_best_weights=True)\n",
    "modelCRNN.build(input_shape=(None,128,8,1))\n",
    "modelCRNN.summary()\n",
    "history = modelCRNN.fit(train_feats, range_train_targs_oh,\n",
    "                      epochs=200,\n",
    "                      batch_size=32,\n",
    "                      class_weight=range_weights,\n",
    "                      shuffle=True,\n",
    "                      validation_split=0.2,\n",
    "                      callbacks=[reduceLR, early])"
   ],
   "metadata": {
    "collapsed": false,
    "pycharm": {
     "name": "#%%\n"
    }
   }
  },
  {
   "cell_type": "code",
   "execution_count": 657,
   "outputs": [],
   "source": [
    "MLtools.save_model(modelCRNN,\"localization_CRNN_083122\")\n",
    "MLtools.save_model(modelCRNN,\"localization_1DCNN_083122\")"
   ],
   "metadata": {
    "collapsed": false,
    "pycharm": {
     "name": "#%%\n"
    }
   }
  },
  {
   "cell_type": "markdown",
   "source": [
    "# Deep Neural Network for Ranging\n",
    "I think that the A3 data is incorrect, truth vals are incorrect, or combination. Training on A2 produces accurate results (atleast, expected, increased error as distance increases. Instead, A3 data has more have a V shaped error. I should investigate if certain phones are extremely accurate and if other phones are not as accurate."
   ],
   "metadata": {
    "collapsed": false,
    "pycharm": {
     "name": "#%% md\n"
    }
   }
  },
  {
   "cell_type": "code",
   "execution_count": 330,
   "outputs": [
    {
     "name": "stdout",
     "output_type": "stream",
     "text": [
      "Model: \"sequential_120\"\n",
      "_________________________________________________________________\n",
      " Layer (type)                Output Shape              Param #   \n",
      "=================================================================\n",
      " batch_normalization_406 (Ba  (None, 128, 8, 1)        4         \n",
      " tchNormalization)                                               \n",
      "                                                                 \n",
      " conv_1 (Conv2D)             (None, 128, 8, 32)        128       \n",
      "                                                                 \n",
      " batch_normalization_407 (Ba  (None, 128, 8, 32)       128       \n",
      " tchNormalization)                                               \n",
      "                                                                 \n",
      " activation_283 (Activation)  (None, 128, 8, 32)       0         \n",
      "                                                                 \n",
      " max_pooling2d_171 (MaxPooli  (None, 64, 4, 32)        0         \n",
      " ng2D)                                                           \n",
      "                                                                 \n",
      " conv_2 (Conv2D)             (None, 32, 2, 32)         16384     \n",
      "                                                                 \n",
      " batch_normalization_408 (Ba  (None, 32, 2, 32)        128       \n",
      " tchNormalization)                                               \n",
      "                                                                 \n",
      " activation_284 (Activation)  (None, 32, 2, 32)        0         \n",
      "                                                                 \n",
      " dropout_287 (Dropout)       (None, 32, 2, 32)         0         \n",
      "                                                                 \n",
      " conv_3 (Conv2D)             (None, 16, 1, 32)         16384     \n",
      "                                                                 \n",
      " batch_normalization_409 (Ba  (None, 16, 1, 32)        128       \n",
      " tchNormalization)                                               \n",
      "                                                                 \n",
      " activation_285 (Activation)  (None, 16, 1, 32)        0         \n",
      "                                                                 \n",
      " dropout_288 (Dropout)       (None, 16, 1, 32)         0         \n",
      "                                                                 \n",
      " flatten_36 (Flatten)        (None, 512)               0         \n",
      "                                                                 \n",
      " dense_2 (Dense)             (None, 512)               262656    \n",
      "                                                                 \n",
      " dense_3 (Dense)             (None, 256)               131328    \n",
      "                                                                 \n",
      " dropout_289 (Dropout)       (None, 256)               0         \n",
      "                                                                 \n",
      " dense_4 (Dense)             (None, 1)                 257       \n",
      "                                                                 \n",
      "=================================================================\n",
      "Total params: 427,525\n",
      "Trainable params: 427,331\n",
      "Non-trainable params: 194\n",
      "_________________________________________________________________\n",
      "Epoch 1/200\n"
     ]
    },
    {
     "ename": "ValueError",
     "evalue": "in user code:\n\n    File \"C:\\Users\\rclendening\\AppData\\Local\\Programs\\Python\\Python39\\lib\\site-packages\\keras\\engine\\training.py\", line 1051, in train_function  *\n        return step_function(self, iterator)\n    File \"C:\\Users\\rclendening\\AppData\\Local\\Programs\\Python\\Python39\\lib\\site-packages\\keras\\engine\\training.py\", line 1040, in step_function  **\n        outputs = model.distribute_strategy.run(run_step, args=(data,))\n    File \"C:\\Users\\rclendening\\AppData\\Local\\Programs\\Python\\Python39\\lib\\site-packages\\keras\\engine\\training.py\", line 1030, in run_step  **\n        outputs = model.train_step(data)\n    File \"C:\\Users\\rclendening\\AppData\\Local\\Programs\\Python\\Python39\\lib\\site-packages\\keras\\engine\\training.py\", line 889, in train_step\n        y_pred = self(x, training=True)\n    File \"C:\\Users\\rclendening\\AppData\\Local\\Programs\\Python\\Python39\\lib\\site-packages\\keras\\utils\\traceback_utils.py\", line 67, in error_handler\n        raise e.with_traceback(filtered_tb) from None\n    File \"C:\\Users\\rclendening\\AppData\\Local\\Programs\\Python\\Python39\\lib\\site-packages\\keras\\engine\\input_spec.py\", line 264, in assert_input_compatibility\n        raise ValueError(f'Input {input_index} of layer \"{layer_name}\" is '\n\n    ValueError: Input 0 of layer \"sequential_120\" is incompatible with the layer: expected shape=(None, 128, 8, 1), found shape=(None, 128, 32)\n",
     "output_type": "error",
     "traceback": [
      "\u001B[1;31m---------------------------------------------------------------------------\u001B[0m",
      "\u001B[1;31mValueError\u001B[0m                                Traceback (most recent call last)",
      "Input \u001B[1;32mIn [330]\u001B[0m, in \u001B[0;36m<cell line: 34>\u001B[1;34m()\u001B[0m\n\u001B[0;32m     32\u001B[0m modelCNN_R\u001B[38;5;241m.\u001B[39mbuild(input_shape\u001B[38;5;241m=\u001B[39m(\u001B[38;5;28;01mNone\u001B[39;00m,\u001B[38;5;241m128\u001B[39m,\u001B[38;5;241m8\u001B[39m,\u001B[38;5;241m1\u001B[39m))\n\u001B[0;32m     33\u001B[0m modelCNN_R\u001B[38;5;241m.\u001B[39msummary()\n\u001B[1;32m---> 34\u001B[0m history \u001B[38;5;241m=\u001B[39m \u001B[43mmodelCNN_R\u001B[49m\u001B[38;5;241;43m.\u001B[39;49m\u001B[43mfit\u001B[49m\u001B[43m(\u001B[49m\u001B[43mtrain_feats\u001B[49m\u001B[43m,\u001B[49m\u001B[43m \u001B[49m\u001B[43mcont_range_train_targs\u001B[49m\u001B[43m,\u001B[49m\n\u001B[0;32m     35\u001B[0m \u001B[43m                      \u001B[49m\u001B[43mepochs\u001B[49m\u001B[38;5;241;43m=\u001B[39;49m\u001B[38;5;241;43m200\u001B[39;49m\u001B[43m,\u001B[49m\n\u001B[0;32m     36\u001B[0m \u001B[43m                      \u001B[49m\u001B[43mbatch_size\u001B[49m\u001B[38;5;241;43m=\u001B[39;49m\u001B[38;5;241;43m32\u001B[39;49m\u001B[43m,\u001B[49m\n\u001B[0;32m     37\u001B[0m \u001B[43m                      \u001B[49m\u001B[43mshuffle\u001B[49m\u001B[38;5;241;43m=\u001B[39;49m\u001B[38;5;28;43;01mTrue\u001B[39;49;00m\u001B[43m,\u001B[49m\n\u001B[0;32m     38\u001B[0m \u001B[43m                      \u001B[49m\u001B[38;5;66;43;03m#class_weight=class_weights,\u001B[39;49;00m\n\u001B[0;32m     39\u001B[0m \u001B[43m                      \u001B[49m\u001B[43mvalidation_split\u001B[49m\u001B[38;5;241;43m=\u001B[39;49m\u001B[38;5;241;43m0.2\u001B[39;49m\u001B[43m,\u001B[49m\n\u001B[0;32m     40\u001B[0m \u001B[43m                      \u001B[49m\u001B[43mcallbacks\u001B[49m\u001B[38;5;241;43m=\u001B[39;49m\u001B[43m[\u001B[49m\u001B[43mreduceLR\u001B[49m\u001B[43m,\u001B[49m\u001B[43m \u001B[49m\u001B[43mearly\u001B[49m\u001B[43m]\u001B[49m\u001B[43m)\u001B[49m\n",
      "File \u001B[1;32m~\\AppData\\Local\\Programs\\Python\\Python39\\lib\\site-packages\\keras\\utils\\traceback_utils.py:67\u001B[0m, in \u001B[0;36mfilter_traceback.<locals>.error_handler\u001B[1;34m(*args, **kwargs)\u001B[0m\n\u001B[0;32m     65\u001B[0m \u001B[38;5;28;01mexcept\u001B[39;00m \u001B[38;5;167;01mException\u001B[39;00m \u001B[38;5;28;01mas\u001B[39;00m e:  \u001B[38;5;66;03m# pylint: disable=broad-except\u001B[39;00m\n\u001B[0;32m     66\u001B[0m   filtered_tb \u001B[38;5;241m=\u001B[39m _process_traceback_frames(e\u001B[38;5;241m.\u001B[39m__traceback__)\n\u001B[1;32m---> 67\u001B[0m   \u001B[38;5;28;01mraise\u001B[39;00m e\u001B[38;5;241m.\u001B[39mwith_traceback(filtered_tb) \u001B[38;5;28;01mfrom\u001B[39;00m \u001B[38;5;28mNone\u001B[39m\n\u001B[0;32m     68\u001B[0m \u001B[38;5;28;01mfinally\u001B[39;00m:\n\u001B[0;32m     69\u001B[0m   \u001B[38;5;28;01mdel\u001B[39;00m filtered_tb\n",
      "File \u001B[1;32mC:\\Users\\RCLEND~1\\AppData\\Local\\Temp\\1\\__autograph_generated_filem8xitczk.py:15\u001B[0m, in \u001B[0;36mouter_factory.<locals>.inner_factory.<locals>.tf__train_function\u001B[1;34m(iterator)\u001B[0m\n\u001B[0;32m     13\u001B[0m \u001B[38;5;28;01mtry\u001B[39;00m:\n\u001B[0;32m     14\u001B[0m     do_return \u001B[38;5;241m=\u001B[39m \u001B[38;5;28;01mTrue\u001B[39;00m\n\u001B[1;32m---> 15\u001B[0m     retval_ \u001B[38;5;241m=\u001B[39m ag__\u001B[38;5;241m.\u001B[39mconverted_call(ag__\u001B[38;5;241m.\u001B[39mld(step_function), (ag__\u001B[38;5;241m.\u001B[39mld(\u001B[38;5;28mself\u001B[39m), ag__\u001B[38;5;241m.\u001B[39mld(iterator)), \u001B[38;5;28;01mNone\u001B[39;00m, fscope)\n\u001B[0;32m     16\u001B[0m \u001B[38;5;28;01mexcept\u001B[39;00m:\n\u001B[0;32m     17\u001B[0m     do_return \u001B[38;5;241m=\u001B[39m \u001B[38;5;28;01mFalse\u001B[39;00m\n",
      "\u001B[1;31mValueError\u001B[0m: in user code:\n\n    File \"C:\\Users\\rclendening\\AppData\\Local\\Programs\\Python\\Python39\\lib\\site-packages\\keras\\engine\\training.py\", line 1051, in train_function  *\n        return step_function(self, iterator)\n    File \"C:\\Users\\rclendening\\AppData\\Local\\Programs\\Python\\Python39\\lib\\site-packages\\keras\\engine\\training.py\", line 1040, in step_function  **\n        outputs = model.distribute_strategy.run(run_step, args=(data,))\n    File \"C:\\Users\\rclendening\\AppData\\Local\\Programs\\Python\\Python39\\lib\\site-packages\\keras\\engine\\training.py\", line 1030, in run_step  **\n        outputs = model.train_step(data)\n    File \"C:\\Users\\rclendening\\AppData\\Local\\Programs\\Python\\Python39\\lib\\site-packages\\keras\\engine\\training.py\", line 889, in train_step\n        y_pred = self(x, training=True)\n    File \"C:\\Users\\rclendening\\AppData\\Local\\Programs\\Python\\Python39\\lib\\site-packages\\keras\\utils\\traceback_utils.py\", line 67, in error_handler\n        raise e.with_traceback(filtered_tb) from None\n    File \"C:\\Users\\rclendening\\AppData\\Local\\Programs\\Python\\Python39\\lib\\site-packages\\keras\\engine\\input_spec.py\", line 264, in assert_input_compatibility\n        raise ValueError(f'Input {input_index} of layer \"{layer_name}\" is '\n\n    ValueError: Input 0 of layer \"sequential_120\" is incompatible with the layer: expected shape=(None, 128, 8, 1), found shape=(None, 128, 32)\n"
     ]
    }
   ],
   "source": [
    "modelCNN_R=tf.keras.Sequential()\n",
    "modelCNN_R.add(BatchNormalization(input_shape=(128,8,1)))\n",
    "modelCNN_R.add(Conv2D(filters=32,kernel_size=(2,2),strides=(1,1),padding='SAME', use_bias=False, name='conv_1'))\n",
    "modelCNN_R.add(BatchNormalization())\n",
    "modelCNN_R.add(Activation('relu'))\n",
    "modelCNN_R.add(MaxPooling2D(2,2))\n",
    "modelCNN_R.add(Conv2D(filters=32,kernel_size=(4,4),strides=(2,2), use_bias=False,\n",
    "                         padding='SAME', name='conv_2'))\n",
    "modelCNN_R.add(BatchNormalization())\n",
    "modelCNN_R.add(Activation('relu'))\n",
    "modelCNN_R.add(Dropout(0.3))\n",
    "modelCNN_R.add(Conv2D(filters=32,kernel_size=(4,4),strides=(4,4), use_bias=False,\n",
    "                         padding='SAME', name='conv_3'))\n",
    "modelCNN_R.add(BatchNormalization())\n",
    "modelCNN_R.add(Activation('relu'))\n",
    "modelCNN_R.add(Dropout(0.3))\n",
    "modelCNN_R.add(Flatten())\n",
    "modelCNN_R.add(Dense(512, activation='relu', name='dense_2'))\n",
    "modelCNN_R.add(Dense(256, activation='relu', name='dense_3'))\n",
    "modelCNN_R.add(Dropout(0.5))\n",
    "modelCNN_R.add(Dense(1, activation='linear', name='dense_4'))\n",
    "\n",
    "\n",
    "optimizer= tf.keras.optimizers.Adam()\n",
    "modelCNN_R.compile(loss='mse',optimizer=optimizer,metrics=['mae','mse'])\n",
    "\n",
    "\n",
    "reduceLR = tf.keras.callbacks.ReduceLROnPlateau(monitor='val_loss', factor=0.5,\n",
    "                                 verbose=1, patience=10, mode='auto')\n",
    "early = tf.keras.callbacks.EarlyStopping(monitor='val_loss', min_delta=1e-4,\n",
    "                          patience=20, mode='auto', restore_best_weights=True)\n",
    "modelCNN_R.build(input_shape=(None,128,8,1))\n",
    "modelCNN_R.summary()\n",
    "history = modelCNN_R.fit(train_feats, cont_range_train_targs,\n",
    "                      epochs=200,\n",
    "                      batch_size=32,\n",
    "                      shuffle=True,\n",
    "                      #class_weight=class_weights,\n",
    "                      validation_split=0.2,\n",
    "                      callbacks=[reduceLR, early])"
   ],
   "metadata": {
    "collapsed": false,
    "pycharm": {
     "name": "#%%\n"
    }
   }
  },
  {
   "cell_type": "code",
   "execution_count": 288,
   "outputs": [
    {
     "name": "stdout",
     "output_type": "stream",
     "text": [
      "150/150 [==============================] - 1s 7ms/step\n",
      "150/150 [==============================] - 1s 7ms/step - loss: 195.2740 - mae: 9.7080 - mse: 195.2740\n"
     ]
    },
    {
     "data": {
      "text/plain": "[195.27401733398438, 9.708029747009277, 195.27401733398438]"
     },
     "execution_count": 288,
     "metadata": {},
     "output_type": "execute_result"
    }
   ],
   "source": [
    "score = modelCNN_R.predict(test_feats)\n",
    "modelCNN_R.evaluate(test_feats,cont_range_test_targs)"
   ],
   "metadata": {
    "collapsed": false,
    "pycharm": {
     "name": "#%%\n"
    }
   }
  },
  {
   "cell_type": "code",
   "execution_count": 289,
   "outputs": [
    {
     "name": "stdout",
     "output_type": "stream",
     "text": [
      "0.585166561910748\n"
     ]
    }
   ],
   "source": [
    "cont_test_oh=[]\n",
    "cont_test_preds_oh=[]\n",
    "correct=0\n",
    "for x in cont_range_test_targs:\n",
    "    cont_test_oh.append(classFinder(x))\n",
    "for x in score:\n",
    "    cont_test_preds_oh.append(classFinder(x))\n",
    "for x in range(len(cont_test_oh)):\n",
    "    if cont_test_oh[x]==cont_test_preds_oh[x]:\n",
    "        correct+=1\n",
    "print(correct/len(cont_test_oh))"
   ],
   "metadata": {
    "collapsed": false,
    "pycharm": {
     "name": "#%%\n"
    }
   }
  },
  {
   "cell_type": "code",
   "execution_count": 290,
   "outputs": [
    {
     "data": {
      "text/plain": "Text(0.5, 1.0, 'CNN Combined Regression Confusion Matrix')"
     },
     "execution_count": 290,
     "metadata": {},
     "output_type": "execute_result"
    },
    {
     "data": {
      "text/plain": "<Figure size 360x360 with 2 Axes>",
      "image/png": "[encoded data removed]"
     },
     "metadata": {
      "needs_background": "light"
     },
     "output_type": "display_data"
    }
   ],
   "source": [
    "cm = confusion_matrix(cont_test_oh, cont_test_preds_oh)\n",
    "## Get Class Labels\n",
    "class_names = [\"<40\",\"40-60\",\"60-80\",\">80\"]\n",
    "#class_names = [\"<30\", \"40\",\"50\",\"60\",\"70\",\"80\",\"80+\"]\n",
    "# Plot confusion matrix in a beautiful manner\n",
    "fig = plt.figure(figsize=(5, 5))\n",
    "ax= plt.subplot()\n",
    "sns.heatmap(cm, annot=True, ax = ax, fmt = 'g'); #annot=True to annotate cells\n",
    "# labels, title and ticks\n",
    "ax.set_xlabel('Predicted', fontsize=20)\n",
    "ax.xaxis.set_label_position('bottom')\n",
    "plt.xticks(rotation=90)\n",
    "ax.xaxis.set_ticklabels(class_names, fontsize = 10)\n",
    "ax.xaxis.tick_bottom()\n",
    "\n",
    "ax.set_ylabel('True', fontsize=20)\n",
    "ax.yaxis.set_ticklabels(class_names, fontsize = 10)\n",
    "plt.yticks(rotation=0)\n",
    "\n",
    "plt.title('CNN Combined Regression Confusion Matrix', fontsize=20)"
   ],
   "metadata": {
    "collapsed": false,
    "pycharm": {
     "name": "#%%\n"
    }
   }
  },
  {
   "cell_type": "code",
   "execution_count": 292,
   "outputs": [
    {
     "name": "stdout",
     "output_type": "stream",
     "text": [
      "              precision    recall  f1-score   support\n",
      "\n",
      "           0       0.91      0.68      0.78      1496\n",
      "           1       0.38      0.59      0.46       910\n",
      "           2       0.39      0.58      0.47      1067\n",
      "           3       0.95      0.47      0.63      1300\n",
      "\n",
      "    accuracy                           0.59      4773\n",
      "   macro avg       0.66      0.58      0.58      4773\n",
      "weighted avg       0.70      0.59      0.61      4773\n",
      "\n"
     ]
    }
   ],
   "source": [
    "print(classification_report(y_true=cont_test_oh,y_pred=cont_test_preds_oh))"
   ],
   "metadata": {
    "collapsed": false,
    "pycharm": {
     "name": "#%%\n"
    }
   }
  },
  {
   "cell_type": "code",
   "execution_count": 279,
   "outputs": [
    {
     "ename": "KeyboardInterrupt",
     "evalue": "",
     "output_type": "error",
     "traceback": [
      "\u001B[1;31m---------------------------------------------------------------------------\u001B[0m",
      "\u001B[1;31mKeyboardInterrupt\u001B[0m                         Traceback (most recent call last)",
      "Input \u001B[1;32mIn [279]\u001B[0m, in \u001B[0;36m<cell line: 1>\u001B[1;34m()\u001B[0m\n\u001B[1;32m----> 1\u001B[0m \u001B[43mplt\u001B[49m\u001B[38;5;241m.\u001B[39mhist(test_targs,alpha\u001B[38;5;241m=\u001B[39m\u001B[38;5;241m0.5\u001B[39m,label\u001B[38;5;241m=\u001B[39m\u001B[38;5;124m\"\u001B[39m\u001B[38;5;124mActual\u001B[39m\u001B[38;5;124m\"\u001B[39m)\n\u001B[0;32m      2\u001B[0m plt\u001B[38;5;241m.\u001B[39mhist(score,alpha\u001B[38;5;241m=\u001B[39m\u001B[38;5;241m0.5\u001B[39m,label\u001B[38;5;241m=\u001B[39m\u001B[38;5;124m\"\u001B[39m\u001B[38;5;124mPredicted\u001B[39m\u001B[38;5;124m\"\u001B[39m)\n\u001B[0;32m      3\u001B[0m plt\u001B[38;5;241m.\u001B[39mxlabel(\u001B[38;5;124m'\u001B[39m\u001B[38;5;124mTruth Range\u001B[39m\u001B[38;5;124m'\u001B[39m)\n",
      "Input \u001B[1;32mIn [279]\u001B[0m, in \u001B[0;36m<cell line: 1>\u001B[1;34m()\u001B[0m\n\u001B[1;32m----> 1\u001B[0m \u001B[43mplt\u001B[49m\u001B[38;5;241m.\u001B[39mhist(test_targs,alpha\u001B[38;5;241m=\u001B[39m\u001B[38;5;241m0.5\u001B[39m,label\u001B[38;5;241m=\u001B[39m\u001B[38;5;124m\"\u001B[39m\u001B[38;5;124mActual\u001B[39m\u001B[38;5;124m\"\u001B[39m)\n\u001B[0;32m      2\u001B[0m plt\u001B[38;5;241m.\u001B[39mhist(score,alpha\u001B[38;5;241m=\u001B[39m\u001B[38;5;241m0.5\u001B[39m,label\u001B[38;5;241m=\u001B[39m\u001B[38;5;124m\"\u001B[39m\u001B[38;5;124mPredicted\u001B[39m\u001B[38;5;124m\"\u001B[39m)\n\u001B[0;32m      3\u001B[0m plt\u001B[38;5;241m.\u001B[39mxlabel(\u001B[38;5;124m'\u001B[39m\u001B[38;5;124mTruth Range\u001B[39m\u001B[38;5;124m'\u001B[39m)\n",
      "File \u001B[1;32m_pydevd_bundle\\pydevd_cython_win32_39_64.pyx:1179\u001B[0m, in \u001B[0;36m_pydevd_bundle.pydevd_cython_win32_39_64.SafeCallWrapper.__call__\u001B[1;34m()\u001B[0m\n",
      "File \u001B[1;32m_pydevd_bundle\\pydevd_cython_win32_39_64.pyx:620\u001B[0m, in \u001B[0;36m_pydevd_bundle.pydevd_cython_win32_39_64.PyDBFrame.trace_dispatch\u001B[1;34m()\u001B[0m\n",
      "File \u001B[1;32m_pydevd_bundle\\pydevd_cython_win32_39_64.pyx:929\u001B[0m, in \u001B[0;36m_pydevd_bundle.pydevd_cython_win32_39_64.PyDBFrame.trace_dispatch\u001B[1;34m()\u001B[0m\n",
      "File \u001B[1;32m_pydevd_bundle\\pydevd_cython_win32_39_64.pyx:920\u001B[0m, in \u001B[0;36m_pydevd_bundle.pydevd_cython_win32_39_64.PyDBFrame.trace_dispatch\u001B[1;34m()\u001B[0m\n",
      "File \u001B[1;32m_pydevd_bundle\\pydevd_cython_win32_39_64.pyx:317\u001B[0m, in \u001B[0;36m_pydevd_bundle.pydevd_cython_win32_39_64.PyDBFrame.do_wait_suspend\u001B[1;34m()\u001B[0m\n",
      "File \u001B[1;32mC:\\Program Files\\JetBrains\\PyCharm 2021.3.2\\plugins\\python\\helpers\\pydev\\pydevd.py:1160\u001B[0m, in \u001B[0;36mPyDB.do_wait_suspend\u001B[1;34m(self, thread, frame, event, arg, send_suspend_message, is_unhandled_exception)\u001B[0m\n\u001B[0;32m   1157\u001B[0m         from_this_thread\u001B[38;5;241m.\u001B[39mappend(frame_id)\n\u001B[0;32m   1159\u001B[0m \u001B[38;5;28;01mwith\u001B[39;00m \u001B[38;5;28mself\u001B[39m\u001B[38;5;241m.\u001B[39m_threads_suspended_single_notification\u001B[38;5;241m.\u001B[39mnotify_thread_suspended(thread_id, stop_reason):\n\u001B[1;32m-> 1160\u001B[0m     \u001B[38;5;28;43mself\u001B[39;49m\u001B[38;5;241;43m.\u001B[39;49m\u001B[43m_do_wait_suspend\u001B[49m\u001B[43m(\u001B[49m\u001B[43mthread\u001B[49m\u001B[43m,\u001B[49m\u001B[43m \u001B[49m\u001B[43mframe\u001B[49m\u001B[43m,\u001B[49m\u001B[43m \u001B[49m\u001B[43mevent\u001B[49m\u001B[43m,\u001B[49m\u001B[43m \u001B[49m\u001B[43marg\u001B[49m\u001B[43m,\u001B[49m\u001B[43m \u001B[49m\u001B[43msuspend_type\u001B[49m\u001B[43m,\u001B[49m\u001B[43m \u001B[49m\u001B[43mfrom_this_thread\u001B[49m\u001B[43m)\u001B[49m\n",
      "File \u001B[1;32mC:\\Program Files\\JetBrains\\PyCharm 2021.3.2\\plugins\\python\\helpers\\pydev\\pydevd.py:1175\u001B[0m, in \u001B[0;36mPyDB._do_wait_suspend\u001B[1;34m(self, thread, frame, event, arg, suspend_type, from_this_thread)\u001B[0m\n\u001B[0;32m   1172\u001B[0m             \u001B[38;5;28mself\u001B[39m\u001B[38;5;241m.\u001B[39m_call_mpl_hook()\n\u001B[0;32m   1174\u001B[0m         \u001B[38;5;28mself\u001B[39m\u001B[38;5;241m.\u001B[39mprocess_internal_commands()\n\u001B[1;32m-> 1175\u001B[0m         \u001B[43mtime\u001B[49m\u001B[38;5;241;43m.\u001B[39;49m\u001B[43msleep\u001B[49m\u001B[43m(\u001B[49m\u001B[38;5;241;43m0.01\u001B[39;49m\u001B[43m)\u001B[49m\n\u001B[0;32m   1177\u001B[0m \u001B[38;5;28mself\u001B[39m\u001B[38;5;241m.\u001B[39mcancel_async_evaluation(get_current_thread_id(thread), \u001B[38;5;28mstr\u001B[39m(\u001B[38;5;28mid\u001B[39m(frame)))\n\u001B[0;32m   1179\u001B[0m \u001B[38;5;66;03m# process any stepping instructions\u001B[39;00m\n",
      "\u001B[1;31mKeyboardInterrupt\u001B[0m: "
     ]
    }
   ],
   "source": [
    "plt.hist(test_targs,alpha=0.5,label=\"Actual\")\n",
    "plt.hist(score,alpha=0.5,label=\"Predicted\")\n",
    "plt.xlabel('Truth Range')\n",
    "plt.legend(loc=\"upper right\")\n",
    "plt.savefig('test_distribution.pdf')"
   ],
   "metadata": {
    "collapsed": false,
    "pycharm": {
     "name": "#%%\n"
    }
   }
  },
  {
   "cell_type": "code",
   "execution_count": null,
   "outputs": [],
   "source": [
    "print(score)\n",
    "print(len(test_targs))\n",
    "score=np.reshape(score,-1)\n",
    "residual=score-test_targs\n",
    "print(np.shape(score))\n",
    "print(np.shape(test_targs))\n",
    "plt.xlabel(\"Truth (meters)\")\n",
    "plt.ylabel(\"Error (meters)\")\n",
    "plt.scatter(test_targs,np.abs(residual))\n",
    "plt.show()\n",
    "plt.xlabel(\"Truth (meters)\")\n",
    "plt.ylabel(\"Error (meters)\")\n",
    "plt.scatter(test_targs,residual)"
   ],
   "metadata": {
    "collapsed": false,
    "pycharm": {
     "name": "#%%\n"
    }
   }
  },
  {
   "cell_type": "markdown",
   "source": [],
   "metadata": {
    "collapsed": false,
    "pycharm": {
     "name": "#%% md\n"
    }
   }
  },
  {
   "cell_type": "code",
   "execution_count": null,
   "outputs": [],
   "source": [
    "resid_df=pd.DataFrame({\"Actual\":test_targs,\"Error\":residual})\n",
    "ave_error=[]\n",
    "sub_40=resid_df[resid_df[\"Actual\"]<40]\n",
    "ave_error.append(sub_40[\"Error\"].mean())\n",
    "sub_40=resid_df[resid_df[\"Actual\"]<60]\n",
    "sub_40=sub_40[sub_40[\"Actual\"]>40]\n",
    "ave_error.append(sub_40[\"Error\"].mean())\n",
    "sub_40=resid_df[resid_df[\"Actual\"]<80]\n",
    "sub_40=sub_40[sub_40[\"Actual\"]>60]\n",
    "ave_error.append(sub_40[\"Error\"].mean())\n",
    "sub_40=resid_df[resid_df[\"Actual\"]>80]\n",
    "ave_error.append(sub_40[\"Error\"].mean())\n",
    "print(ave_error)"
   ],
   "metadata": {
    "collapsed": false,
    "pycharm": {
     "name": "#%%\n"
    }
   }
  },
  {
   "cell_type": "code",
   "execution_count": null,
   "outputs": [],
   "source": [
    "plt.xlabel('Truth Range')\n",
    "plt.ylabel('Error (MAE)')\n",
    "plt.bar(x=(30,50,70,90),height=ave_error,width=20)\n",
    "plt.savefig('plt.pdf')"
   ],
   "metadata": {
    "collapsed": false,
    "pycharm": {
     "name": "#%%\n"
    }
   }
  },
  {
   "cell_type": "code",
   "execution_count": null,
   "outputs": [],
   "source": [
    "MLtools.save_model(model, \"CNN_model_v1_generalizable\")"
   ],
   "metadata": {
    "collapsed": false,
    "pycharm": {
     "name": "#%%\n"
    }
   }
  },
  {
   "cell_type": "markdown",
   "source": [
    "# LSTM with Raw Inputs"
   ],
   "metadata": {
    "collapsed": false,
    "pycharm": {
     "name": "#%% md\n"
    }
   }
  },
  {
   "cell_type": "code",
   "execution_count": 600,
   "outputs": [
    {
     "ename": "ValueError",
     "evalue": "operands could not be broadcast together with shapes (4837,4000) (4000,1) (4837,4000) ",
     "output_type": "error",
     "traceback": [
      "\u001B[1;31m---------------------------------------------------------------------------\u001B[0m",
      "\u001B[1;31mValueError\u001B[0m                                Traceback (most recent call last)",
      "Input \u001B[1;32mIn [600]\u001B[0m, in \u001B[0;36m<cell line: 3>\u001B[1;34m()\u001B[0m\n\u001B[0;32m      1\u001B[0m mean \u001B[38;5;241m=\u001B[39m train_feats_raw\u001B[38;5;241m.\u001B[39mmean(axis\u001B[38;5;241m=\u001B[39m\u001B[38;5;241m0\u001B[39m)\n\u001B[0;32m      2\u001B[0m train_feats_raw \u001B[38;5;241m-\u001B[39m\u001B[38;5;241m=\u001B[39m mean\n\u001B[1;32m----> 3\u001B[0m test_feats_raw \u001B[38;5;241m-\u001B[39m\u001B[38;5;241m=\u001B[39m mean\n\u001B[0;32m      4\u001B[0m std \u001B[38;5;241m=\u001B[39m train_feats_raw\u001B[38;5;241m.\u001B[39mstd(axis\u001B[38;5;241m=\u001B[39m\u001B[38;5;241m0\u001B[39m)\n\u001B[0;32m      5\u001B[0m train_feats_raw \u001B[38;5;241m/\u001B[39m\u001B[38;5;241m=\u001B[39m std\n",
      "\u001B[1;31mValueError\u001B[0m: operands could not be broadcast together with shapes (4837,4000) (4000,1) (4837,4000) "
     ]
    }
   ],
   "source": [
    "mean = train_feats_raw.mean(axis=0)\n",
    "train_feats_raw -= mean\n",
    "test_feats_raw -= mean\n",
    "std = train_feats_raw.std(axis=0)\n",
    "train_feats_raw /= std\n",
    "test_feats_raw /= std\n",
    "#train_feats_raw=np.reshape(train_feats_raw, (len(train_feats_raw), 4000, 1))\n",
    "print(len(train_feats_raw))"
   ],
   "metadata": {
    "collapsed": false,
    "pycharm": {
     "name": "#%%\n"
    }
   }
  },
  {
   "cell_type": "code",
   "execution_count": 655,
   "outputs": [
    {
     "name": "stdout",
     "output_type": "stream",
     "text": [
      "Model: \"sequential_208\"\n",
      "_________________________________________________________________\n",
      " Layer (type)                Output Shape              Param #   \n",
      "=================================================================\n",
      " conv1d_8 (Conv1D)           (None, 1000, 64)          5184      \n",
      "                                                                 \n",
      " batch_normalization_650 (Ba  (None, 1000, 64)         256       \n",
      " tchNormalization)                                               \n",
      "                                                                 \n",
      " activation_418 (Activation)  (None, 1000, 64)         0         \n",
      "                                                                 \n",
      " max_pooling1d_19 (MaxPoolin  (None, 250, 64)          0         \n",
      " g1D)                                                            \n",
      "                                                                 \n",
      " conv1d_9 (Conv1D)           (None, 125, 64)           12352     \n",
      "                                                                 \n",
      " batch_normalization_651 (Ba  (None, 125, 64)          256       \n",
      " tchNormalization)                                               \n",
      "                                                                 \n",
      " activation_419 (Activation)  (None, 125, 64)          0         \n",
      "                                                                 \n",
      " max_pooling1d_20 (MaxPoolin  (None, 31, 64)           0         \n",
      " g1D)                                                            \n",
      "                                                                 \n",
      " dropout_402 (Dropout)       (None, 31, 64)            0         \n",
      "                                                                 \n",
      " conv1d_10 (Conv1D)          (None, 31, 128)           24704     \n",
      "                                                                 \n",
      " batch_normalization_652 (Ba  (None, 31, 128)          512       \n",
      " tchNormalization)                                               \n",
      "                                                                 \n",
      " activation_420 (Activation)  (None, 31, 128)          0         \n",
      "                                                                 \n",
      " max_pooling1d_21 (MaxPoolin  (None, 7, 128)           0         \n",
      " g1D)                                                            \n",
      "                                                                 \n",
      " conv1d_11 (Conv1D)          (None, 7, 256)            98560     \n",
      "                                                                 \n",
      " batch_normalization_653 (Ba  (None, 7, 256)           1024      \n",
      " tchNormalization)                                               \n",
      "                                                                 \n",
      " activation_421 (Activation)  (None, 7, 256)           0         \n",
      "                                                                 \n",
      " max_pooling1d_22 (MaxPoolin  (None, 3, 256)           0         \n",
      " g1D)                                                            \n",
      "                                                                 \n",
      " lambda_2 (Lambda)           (None, 256)               0         \n",
      "                                                                 \n",
      " dense_27 (Dense)            (None, 4)                 1028      \n",
      "                                                                 \n",
      "=================================================================\n",
      "Total params: 143,876\n",
      "Trainable params: 142,852\n",
      "Non-trainable params: 1,024\n",
      "_________________________________________________________________\n",
      "Epoch 1/200\n",
      "484/484 [==============================] - 115s 229ms/step - loss: 1.2358 - accuracy: 0.4849 - val_loss: 1.2093 - val_accuracy: 0.5062 - lr: 0.0010\n",
      "Epoch 2/200\n",
      "484/484 [==============================] - 109s 225ms/step - loss: 1.1380 - accuracy: 0.5239 - val_loss: 1.1155 - val_accuracy: 0.5372 - lr: 0.0010\n",
      "Epoch 3/200\n",
      "484/484 [==============================] - 105s 217ms/step - loss: 1.0983 - accuracy: 0.5451 - val_loss: 1.2349 - val_accuracy: 0.4708 - lr: 0.0010\n",
      "Epoch 4/200\n",
      "484/484 [==============================] - 105s 218ms/step - loss: 1.0646 - accuracy: 0.5585 - val_loss: 1.0731 - val_accuracy: 0.5432 - lr: 0.0010\n",
      "Epoch 5/200\n",
      "484/484 [==============================] - 106s 220ms/step - loss: 1.0360 - accuracy: 0.5754 - val_loss: 1.1011 - val_accuracy: 0.5359 - lr: 0.0010\n",
      "Epoch 6/200\n",
      "484/484 [==============================] - 111s 229ms/step - loss: 1.0178 - accuracy: 0.5839 - val_loss: 1.0821 - val_accuracy: 0.5284 - lr: 0.0010\n",
      "Epoch 7/200\n",
      "484/484 [==============================] - 119s 245ms/step - loss: 0.9956 - accuracy: 0.5943 - val_loss: 1.0523 - val_accuracy: 0.5548 - lr: 0.0010\n",
      "Epoch 8/200\n",
      "484/484 [==============================] - 115s 238ms/step - loss: 0.9764 - accuracy: 0.6027 - val_loss: 0.9688 - val_accuracy: 0.5897 - lr: 0.0010\n",
      "Epoch 9/200\n",
      "484/484 [==============================] - 113s 234ms/step - loss: 0.9588 - accuracy: 0.6135 - val_loss: 0.9911 - val_accuracy: 0.5786 - lr: 0.0010\n",
      "Epoch 10/200\n",
      "484/484 [==============================] - 122s 253ms/step - loss: 0.9440 - accuracy: 0.6208 - val_loss: 0.9848 - val_accuracy: 0.5979 - lr: 0.0010\n",
      "Epoch 11/200\n",
      "484/484 [==============================] - 115s 237ms/step - loss: 0.9272 - accuracy: 0.6271 - val_loss: 1.1651 - val_accuracy: 0.5251 - lr: 0.0010\n",
      "Epoch 12/200\n",
      "484/484 [==============================] - 123s 255ms/step - loss: 0.9109 - accuracy: 0.6368 - val_loss: 1.0213 - val_accuracy: 0.5749 - lr: 0.0010\n",
      "Epoch 13/200\n",
      "484/484 [==============================] - 132s 274ms/step - loss: 0.8961 - accuracy: 0.6398 - val_loss: 0.9937 - val_accuracy: 0.5884 - lr: 0.0010\n",
      "Epoch 14/200\n",
      "484/484 [==============================] - 134s 277ms/step - loss: 0.8904 - accuracy: 0.6389 - val_loss: 1.3063 - val_accuracy: 0.4917 - lr: 0.0010\n",
      "Epoch 15/200\n",
      "484/484 [==============================] - 106s 219ms/step - loss: 0.8716 - accuracy: 0.6544 - val_loss: 0.9547 - val_accuracy: 0.6168 - lr: 0.0010\n",
      "Epoch 16/200\n",
      "484/484 [==============================] - 106s 220ms/step - loss: 0.8573 - accuracy: 0.6568 - val_loss: 0.9869 - val_accuracy: 0.6031 - lr: 0.0010\n",
      "Epoch 17/200\n",
      "484/484 [==============================] - 106s 220ms/step - loss: 0.8468 - accuracy: 0.6586 - val_loss: 1.0151 - val_accuracy: 0.5946 - lr: 0.0010\n",
      "Epoch 18/200\n",
      "484/484 [==============================] - 108s 223ms/step - loss: 0.8404 - accuracy: 0.6650 - val_loss: 0.9991 - val_accuracy: 0.5899 - lr: 0.0010\n",
      "Epoch 19/200\n",
      "484/484 [==============================] - 106s 219ms/step - loss: 0.8187 - accuracy: 0.6772 - val_loss: 1.1352 - val_accuracy: 0.5475 - lr: 0.0010\n",
      "Epoch 20/200\n",
      "484/484 [==============================] - 106s 218ms/step - loss: 0.8131 - accuracy: 0.6805 - val_loss: 1.0553 - val_accuracy: 0.5964 - lr: 0.0010\n",
      "Epoch 21/200\n",
      "484/484 [==============================] - 105s 218ms/step - loss: 0.7959 - accuracy: 0.6873 - val_loss: 1.1875 - val_accuracy: 0.5530 - lr: 0.0010\n",
      "Epoch 22/200\n",
      "484/484 [==============================] - 107s 221ms/step - loss: 0.7861 - accuracy: 0.6873 - val_loss: 0.9671 - val_accuracy: 0.6181 - lr: 0.0010\n",
      "Epoch 23/200\n",
      "484/484 [==============================] - 106s 219ms/step - loss: 0.7677 - accuracy: 0.6970 - val_loss: 0.9863 - val_accuracy: 0.5982 - lr: 0.0010\n",
      "Epoch 24/200\n",
      "484/484 [==============================] - 107s 220ms/step - loss: 0.7570 - accuracy: 0.7039 - val_loss: 1.2251 - val_accuracy: 0.5829 - lr: 0.0010\n",
      "Epoch 25/200\n",
      "484/484 [==============================] - 254s 525ms/step - loss: 0.7453 - accuracy: 0.7096 - val_loss: 1.0630 - val_accuracy: 0.5995 - lr: 0.0010\n",
      "Epoch 26/200\n",
      "484/484 [==============================] - 266s 550ms/step - loss: 0.7362 - accuracy: 0.7098 - val_loss: 1.1115 - val_accuracy: 0.5928 - lr: 0.0010\n",
      "Epoch 27/200\n",
      "484/484 [==============================] - 223s 461ms/step - loss: 0.7156 - accuracy: 0.7165 - val_loss: 1.0295 - val_accuracy: 0.5951 - lr: 0.0010\n",
      "Epoch 28/200\n",
      "484/484 [==============================] - 139s 287ms/step - loss: 0.7095 - accuracy: 0.7205 - val_loss: 1.1156 - val_accuracy: 0.5891 - lr: 0.0010\n",
      "Epoch 29/200\n",
      "484/484 [==============================] - 141s 290ms/step - loss: 0.6980 - accuracy: 0.7292 - val_loss: 1.0259 - val_accuracy: 0.6067 - lr: 0.0010\n",
      "Epoch 30/200\n",
      "484/484 [==============================] - 124s 257ms/step - loss: 0.6830 - accuracy: 0.7368 - val_loss: 1.1366 - val_accuracy: 0.5894 - lr: 0.0010\n",
      "Epoch 31/200\n",
      "484/484 [==============================] - 101s 209ms/step - loss: 0.6774 - accuracy: 0.7370 - val_loss: 1.0523 - val_accuracy: 0.6103 - lr: 0.0010\n",
      "Epoch 32/200\n",
      "484/484 [==============================] - 92s 190ms/step - loss: 0.6470 - accuracy: 0.7493 - val_loss: 1.1273 - val_accuracy: 0.5912 - lr: 0.0010\n",
      "Epoch 33/200\n",
      "484/484 [==============================] - 95s 196ms/step - loss: 0.6371 - accuracy: 0.7544 - val_loss: 1.1628 - val_accuracy: 0.5773 - lr: 0.0010\n",
      "Epoch 34/200\n",
      "484/484 [==============================] - 96s 199ms/step - loss: 0.6320 - accuracy: 0.7536 - val_loss: 1.1682 - val_accuracy: 0.5902 - lr: 0.0010\n",
      "Epoch 35/200\n",
      "484/484 [==============================] - ETA: 0s - loss: 0.6239 - accuracy: 0.7582\n",
      "Epoch 35: ReduceLROnPlateau reducing learning rate to 0.0005000000237487257.\n",
      "484/484 [==============================] - 97s 200ms/step - loss: 0.6239 - accuracy: 0.7582 - val_loss: 1.2177 - val_accuracy: 0.5956 - lr: 0.0010\n",
      "Epoch 36/200\n",
      "484/484 [==============================] - 99s 206ms/step - loss: 0.5572 - accuracy: 0.7870 - val_loss: 1.0023 - val_accuracy: 0.6276 - lr: 5.0000e-04\n",
      "Epoch 37/200\n",
      "484/484 [==============================] - 97s 201ms/step - loss: 0.5357 - accuracy: 0.7998 - val_loss: 1.0147 - val_accuracy: 0.6287 - lr: 5.0000e-04\n",
      "Epoch 38/200\n",
      "484/484 [==============================] - 97s 200ms/step - loss: 0.5293 - accuracy: 0.8010 - val_loss: 1.0526 - val_accuracy: 0.6258 - lr: 5.0000e-04\n",
      "Epoch 39/200\n",
      "484/484 [==============================] - 103s 213ms/step - loss: 0.5207 - accuracy: 0.8047 - val_loss: 1.0775 - val_accuracy: 0.6212 - lr: 5.0000e-04\n",
      "Epoch 40/200\n",
      "484/484 [==============================] - 98s 202ms/step - loss: 0.5117 - accuracy: 0.8096 - val_loss: 1.0765 - val_accuracy: 0.6140 - lr: 5.0000e-04\n",
      "Epoch 41/200\n",
      "484/484 [==============================] - 106s 219ms/step - loss: 0.4966 - accuracy: 0.8106 - val_loss: 1.1461 - val_accuracy: 0.6207 - lr: 5.0000e-04\n",
      "Epoch 42/200\n",
      "484/484 [==============================] - 101s 208ms/step - loss: 0.5006 - accuracy: 0.8108 - val_loss: 1.1313 - val_accuracy: 0.6090 - lr: 5.0000e-04\n",
      "Epoch 43/200\n",
      "484/484 [==============================] - 97s 201ms/step - loss: 0.4767 - accuracy: 0.8189 - val_loss: 1.1213 - val_accuracy: 0.6165 - lr: 5.0000e-04\n",
      "Epoch 44/200\n",
      "484/484 [==============================] - 99s 205ms/step - loss: 0.4854 - accuracy: 0.8158 - val_loss: 1.0856 - val_accuracy: 0.6191 - lr: 5.0000e-04\n",
      "Epoch 45/200\n",
      "484/484 [==============================] - 99s 204ms/step - loss: 0.4682 - accuracy: 0.8248 - val_loss: 1.1847 - val_accuracy: 0.5961 - lr: 5.0000e-04\n",
      "Epoch 46/200\n",
      "484/484 [==============================] - 108s 224ms/step - loss: 0.4600 - accuracy: 0.8277 - val_loss: 1.1588 - val_accuracy: 0.6121 - lr: 5.0000e-04\n",
      "Epoch 47/200\n",
      "484/484 [==============================] - 120s 248ms/step - loss: 0.4594 - accuracy: 0.8306 - val_loss: 1.1780 - val_accuracy: 0.6145 - lr: 5.0000e-04\n",
      "Epoch 48/200\n",
      "484/484 [==============================] - 109s 224ms/step - loss: 0.4530 - accuracy: 0.8328 - val_loss: 1.3381 - val_accuracy: 0.5873 - lr: 5.0000e-04\n",
      "Epoch 49/200\n",
      "484/484 [==============================] - 101s 208ms/step - loss: 0.4457 - accuracy: 0.8317 - val_loss: 1.1919 - val_accuracy: 0.6191 - lr: 5.0000e-04\n",
      "Epoch 50/200\n",
      "484/484 [==============================] - 98s 203ms/step - loss: 0.4349 - accuracy: 0.8391 - val_loss: 1.1231 - val_accuracy: 0.6377 - lr: 5.0000e-04\n",
      "Epoch 51/200\n",
      "484/484 [==============================] - 98s 203ms/step - loss: 0.4303 - accuracy: 0.8419 - val_loss: 1.2240 - val_accuracy: 0.6264 - lr: 5.0000e-04\n",
      "Epoch 52/200\n",
      "484/484 [==============================] - 97s 200ms/step - loss: 0.4241 - accuracy: 0.8427 - val_loss: 1.2976 - val_accuracy: 0.6003 - lr: 5.0000e-04\n",
      "Epoch 53/200\n",
      "484/484 [==============================] - 98s 202ms/step - loss: 0.4208 - accuracy: 0.8403 - val_loss: 1.1604 - val_accuracy: 0.6227 - lr: 5.0000e-04\n",
      "Epoch 54/200\n",
      "484/484 [==============================] - 98s 204ms/step - loss: 0.4196 - accuracy: 0.8424 - val_loss: 1.2550 - val_accuracy: 0.5990 - lr: 5.0000e-04\n",
      "Epoch 55/200\n",
      "484/484 [==============================] - ETA: 0s - loss: 0.4099 - accuracy: 0.8472\n",
      "Epoch 55: ReduceLROnPlateau reducing learning rate to 0.0002500000118743628.\n",
      "484/484 [==============================] - 98s 203ms/step - loss: 0.4099 - accuracy: 0.8472 - val_loss: 1.2410 - val_accuracy: 0.6163 - lr: 5.0000e-04\n"
     ]
    }
   ],
   "source": [
    "modelRaw=tf.keras.Sequential()\n",
    "# This is actually >7 layers with the dilation and residual blocks\n",
    "#modelRaw.add(TCN( nb_filters = 16, kernel_size=20, dilations=[1,8,32,64], name='tcn', input_shape=(4000,1)))\n",
    "modelRaw.add(Conv1D(64,input_shape=[4000, 1],kernel_size=80,strides=4,padding='same'))\n",
    "modelRaw.add(BatchNormalization())\n",
    "modelRaw.add(Activation('relu'))\n",
    "modelRaw.add(MaxPooling1D(pool_size=4, strides=None))\n",
    "modelRaw.add(Conv1D(64,kernel_size=3,strides=2,padding='same'))\n",
    "modelRaw.add(BatchNormalization())\n",
    "modelRaw.add(Activation('relu'))\n",
    "modelRaw.add(MaxPooling1D(pool_size=4, strides=None))\n",
    "modelRaw.add(Dropout(0.3))\n",
    "modelRaw.add(Conv1D(128,kernel_size=3,strides=1,padding='same'))\n",
    "modelRaw.add(BatchNormalization())\n",
    "modelRaw.add(Activation('relu'))\n",
    "modelRaw.add(MaxPooling1D(pool_size=4, strides=None))\n",
    "modelRaw.add(Conv1D(256, kernel_size=3,strides=1,padding='same'))\n",
    "modelRaw.add(BatchNormalization())\n",
    "modelRaw.add(Activation('relu'))\n",
    "modelRaw.add(MaxPooling1D(pool_size=2, strides=None))\n",
    "modelRaw.add(Lambda(lambda x: K.mean(x, axis=1)))  # Same as GAP for 1D Conv Layer\n",
    "modelRaw.add(Dense(4, activation='softmax'))\n",
    "# modelRaw.add(Conv1D(16, kernel_size=20, padding = 'causal', dilation_rate=32, activation = 'relu', name='Conv5'))\n",
    "# modelRaw.add(Conv1D(16, kernel_size=20, padding = 'causal', dilation_rate=64, activation = 'relu', name='Conv6'))\n",
    "optimizer= tf.keras.optimizers.Adam()\n",
    "modelRaw.compile(loss='categorical_crossentropy',optimizer=optimizer,metrics=['accuracy'])\n",
    "reduceLR = tf.keras.callbacks.ReduceLROnPlateau(monitor='val_loss', factor=0.5,\n",
    "                                 verbose=1, patience=20, mode='auto')\n",
    "early = tf.keras.callbacks.EarlyStopping(monitor='val_loss', min_delta=1e-4,\n",
    "                          patience=40, mode='auto', restore_best_weights=True)\n",
    "modelRaw.build(input_shape=(None,4000,1))\n",
    "modelRaw.summary()\n",
    "history = modelRaw.fit(train_feats_raw, range_train_targs_oh_raw,\n",
    "                      epochs=200,\n",
    "                      batch_size=32,\n",
    "                      shuffle=True,\n",
    "                      class_weight=range_weights,\n",
    "                      validation_split=0.2,\n",
    "                      callbacks=[reduceLR, early])"
   ],
   "metadata": {
    "collapsed": false,
    "pycharm": {
     "name": "#%%\n"
    }
   }
  },
  {
   "cell_type": "code",
   "execution_count": 455,
   "outputs": [
    {
     "name": "stdout",
     "output_type": "stream",
     "text": [
      "152/152 [==============================] - 11s 55ms/step\n",
      "152/152 [==============================] - 11s 62ms/step - loss: 0.9310 - accuracy: 0.6190\n"
     ]
    },
    {
     "data": {
      "text/plain": "[0.9309757947921753, 0.6189786791801453]"
     },
     "execution_count": 455,
     "metadata": {},
     "output_type": "execute_result"
    }
   ],
   "source": [
    "test_feasts_rs=np.reshape(test_feats, (len(test_feats), 4000, 1))\n",
    "score = modelRaw.predict(test_feasts_rs)\n",
    "modelRaw.evaluate(test_feasts_rs,range_test_targs_oh)"
   ],
   "metadata": {
    "collapsed": false,
    "pycharm": {
     "name": "#%%\n"
    }
   }
  },
  {
   "cell_type": "code",
   "execution_count": 457,
   "outputs": [
    {
     "name": "stdout",
     "output_type": "stream",
     "text": [
      "              precision    recall  f1-score   support\n",
      "\n",
      "           0       0.75      0.68      0.72      1522\n",
      "           1       0.44      0.53      0.48       876\n",
      "           2       0.54      0.47      0.51      1032\n",
      "           3       0.67      0.71      0.69      1407\n",
      "\n",
      "    accuracy                           0.62      4837\n",
      "   macro avg       0.60      0.60      0.60      4837\n",
      "weighted avg       0.63      0.62      0.62      4837\n",
      "\n"
     ]
    },
    {
     "data": {
      "text/plain": "<Figure size 360x360 with 2 Axes>",
      "image/png": "[encoded data removed]"
     },
     "metadata": {
      "needs_background": "light"
     },
     "output_type": "display_data"
    }
   ],
   "source": [
    "from sklearn.metrics import confusion_matrix\n",
    "y_pred = np.argmax(score,axis=-1)\n",
    "y_true=np.argmax(range_test_targs_oh, axis=-1)\n",
    "cm = confusion_matrix(y_true, y_pred)\n",
    "## Get Class Labels\n",
    "class_names = [\"<40\",\"40-60\",\"60-80\",\">80\"]\n",
    "#class_names = [\"<30\", \"40\",\"50\",\"60\",\"70\",\"80\",\"80+\"]\n",
    "# Plot confusion matrix in a beautiful manner\n",
    "fig = plt.figure(figsize=(5, 5))\n",
    "ax= plt.subplot()\n",
    "sns.heatmap(cm, annot=True, ax = ax, fmt = 'g'); #annot=True to annotate cells\n",
    "# labels, title and ticks\n",
    "ax.set_xlabel('Predicted', fontsize=20)\n",
    "ax.xaxis.set_label_position('bottom')\n",
    "plt.xticks(rotation=90)\n",
    "ax.xaxis.set_ticklabels(class_names, fontsize = 10)\n",
    "ax.xaxis.tick_bottom()\n",
    "\n",
    "ax.set_ylabel('True', fontsize=20)\n",
    "ax.yaxis.set_ticklabels(class_names, fontsize = 10)\n",
    "plt.yticks(rotation=0)\n",
    "\n",
    "plt.title('CRNN 1D Classification Combined Confusion Matrix', fontsize=20)\n",
    "print(classification_report(y_true=y_true,y_pred=y_pred)) #this is using the multi-output regression/classification\n"
   ],
   "metadata": {
    "collapsed": false,
    "pycharm": {
     "name": "#%%\n"
    }
   }
  },
  {
   "cell_type": "markdown",
   "source": [
    "# Generate Test dataset and test target dataset"
   ],
   "metadata": {
    "collapsed": false,
    "pycharm": {
     "name": "#%% md\n"
    }
   }
  },
  {
   "cell_type": "code",
   "execution_count": null,
   "outputs": [],
   "source": [
    "#test_df=pd.read_csv(\"./spec_range_A3_testset.csv\")\n",
    "# test_df=training_df\n",
    "# def maxValueRanks(maxValArray):\n",
    "#     maxValueRankArr=[]\n",
    "#     for x in maxValArray:\n",
    "#         seq = sorted(x)\n",
    "#         index = [seq.index(v) for v in x]\n",
    "#         maxValueRankArr.append(index)\n",
    "#     return maxValueRankArr\n",
    "test_runs_matrice=[\"A2R3P2\"]\n",
    "def rank_distances(maxValArray):\n",
    "    order=maxValArray.argsort()\n",
    "    ranks=order.argsort()\n",
    "    return ranks\n",
    "def closest_distances(maxValArray):\n",
    "    count=0\n",
    "    for x in maxValArray:\n",
    "        if x <40:\n",
    "            count+=1\n",
    "    return count\n",
    "def eval_rangeModel_performance(truth_data):\n",
    "    pure_x_data=[]\n",
    "    pure_y_data=[]\n",
    "    x_data=[]\n",
    "    y_data=[]\n",
    "    class_range_frame=[]\n",
    "    for x in passes_df.iterrows():\n",
    "        row=x[1]\n",
    "        pass_num=row[0]\n",
    "        scenario=row[1]\n",
    "        run_num=row[2]\n",
    "        start=row[3]\n",
    "        stop=row[4]\n",
    "        drone_gps_file=row[5]\n",
    "        full_name=(str(scenario) + 'R' + str(run_num) + 'P' + str(pass_num)).strip()\n",
    "        pass_df=training_df.loc[training_df[str(notable_col_names.index('Pass'))] == full_name]\n",
    "        #pass_df=training_df.loc[training_df[\"Pass\"] == full_name]\n",
    "        max_segment=pass_df[str(notable_col_names.index('Segment'))].max()\n",
    "        #max_segment=pass_df[\"Segment\"].max()\n",
    "        #for i in range(0,max_segment):\n",
    "        print(full_name)\n",
    "        if full_name in test_runs_matrice:\n",
    "            #for phone in phone_slots:\n",
    "            for i in range(0,max_segment):\n",
    "                #phone_seg=pass_df.loc[pass_df[str(notable_col_names.index('Phone'))]==phone]\n",
    "                frame_df=pass_df.loc[pass_df[str(notable_col_names.index('Segment'))]==i]\n",
    "            #frame_df=pass_df.loc[pass_df[\"Segment\"]==i]\n",
    "                twd_frame=[]\n",
    "                range_frame=[]\n",
    "                class_range_frame=[]\n",
    "            #for phone in phone_slots:\n",
    "                #for i in range(0,max_segment):\n",
    "                for phone in phone_slots:\n",
    "                    #frame_df=phone_seg.loc[phone_seg[str(notable_col_names.index('Segment'))]==i]\n",
    "                    phone_seg=frame_df.loc[frame_df[str(notable_col_names.index('Phone'))]==phone]\n",
    "                #phone_seg=frame_df.loc[frame_df[\"Name\"]==phone]\n",
    "                    #data=np.array(frame_df.iloc[:,-256:])\n",
    "                    data=np.array(phone_seg.iloc[:,-256:])\n",
    "                # dist=phone_seg[str(notable_col_names.index('Range'))]\n",
    "                    dist=phone_seg[str(notable_col_names.index('Range'))]\n",
    "                #dist=phone_seg[\"Range\"]\n",
    "                    if len(np.array(dist)>0):\n",
    "                        if np.array(dist)[0]<400:\n",
    "                            data=data[0]\n",
    "                            data=np.reshape(data,(64,4))\n",
    "                            #data=np.reshape(data,(40,1))\n",
    "                            dist=np.array(dist)[0]\n",
    "                            twd_frame.append(data)\n",
    "                            range_frame.append(dist)\n",
    "                            class_value=classFinder(dist)\n",
    "                            class_range_frame.append(class_value)\n",
    "                ranks=closest_distances(np.array(range_frame))\n",
    "                #y_vals= rangeClosest(range_frame)\n",
    "                # if np.any(ranks):\n",
    "                if ranks>0:\n",
    "                    x_data.append(np.array(twd_frame))\n",
    "                    y_data.append(np.array(class_range_frame))\n",
    "                    pure_x_data.extend(np.array(twd_frame))\n",
    "                    pure_y_data.extend(np.array(class_range_frame))\n",
    "    return x_data,y_data,pure_x_data,pure_y_data\n",
    "\n",
    "test_feats_,test_targs_,pure_x,pure_y=eval_rangeModel_performance(training_df)"
   ],
   "metadata": {
    "collapsed": false,
    "pycharm": {
     "name": "#%%\n"
    }
   }
  },
  {
   "cell_type": "code",
   "execution_count": null,
   "outputs": [],
   "source": [
    "pure_x=np.array(pure_x)\n",
    "#pure_x=np.transpose(pure_x,axes=[0,2,1])\n",
    "#pure_x=np.array(pure_x).reshape(len(pure_x),4,64,1)\n",
    "pure_y=np.array(pure_y)\n",
    "pure_y_oh=tf.keras.utils.to_categorical(pure_y,num_classes=4)\n",
    "plt.hist(pure_y)"
   ],
   "metadata": {
    "collapsed": false,
    "pycharm": {
     "name": "#%%\n"
    }
   }
  },
  {
   "cell_type": "markdown",
   "source": [],
   "metadata": {
    "collapsed": false,
    "pycharm": {
     "name": "#%% md\n"
    }
   }
  },
  {
   "cell_type": "markdown",
   "source": [],
   "metadata": {
    "collapsed": false,
    "pycharm": {
     "name": "#%% md\n"
    }
   }
  },
  {
   "cell_type": "code",
   "execution_count": null,
   "outputs": [],
   "source": [
    "modelCNN.evaluate(pure_x,pure_y_oh)\n",
    "vals=modelCNN.predict(pure_x)\n",
    "#loaded_network.evaluate(pure_x,pure_y)\n",
    "plt.hist(pure_y)"
   ],
   "metadata": {
    "collapsed": false,
    "pycharm": {
     "name": "#%%\n"
    }
   }
  },
  {
   "cell_type": "markdown",
   "source": [
    "# Calculate % of Correct Estimates\n",
    "This is done by considering how many of the predicted top 5 closest phones are truly within the top five closest phones. predicted_top_5/total_top_5"
   ],
   "metadata": {
    "collapsed": false,
    "pycharm": {
     "name": "#%% md\n"
    }
   }
  },
  {
   "cell_type": "markdown",
   "source": [
    "This is basically just a fancy way to check precision and recall scores for closest cellphones. For precision, make the total count include any predicted closest, for recall, make the total count include any true closest"
   ],
   "metadata": {
    "collapsed": false,
    "pycharm": {
     "name": "#%% md\n"
    }
   }
  },
  {
   "cell_type": "code",
   "execution_count": null,
   "outputs": [],
   "source": [
    "i=0\n",
    "correct=0\n",
    "total=0\n",
    "for batches in test_feats_:\n",
    "    predictions=[]\n",
    "    pred=modelCNN.predict(batches)\n",
    "    predictions=np.argmax(pred,axis=-1)\n",
    "    #predicted_ranks=rank_distances(np.array(predictions).squeeze())\n",
    "    closest=np.min(test_targs_[i])\n",
    "    closest_pred=np.min(predictions)\n",
    "    for x in range(len(predictions)):\n",
    "        if predictions[x] ==closest_pred and test_targs_[i][x] ==closest: #if it is predicted closest and actually closest, this is correct\n",
    "            correct+=1 # true positives\n",
    "        # if test_targs_[i][x] == predictions[x] and test_targs_[i][x] == closest:\n",
    "        #     correct+=1\n",
    "        if predictions[x] ==closest_pred: # if predicted closest that increment total (all predicted positives)\n",
    "             total+=1\n",
    "    i+=1\n",
    "print(correct/total)"
   ],
   "metadata": {
    "collapsed": false,
    "pycharm": {
     "name": "#%%\n"
    }
   }
  },
  {
   "cell_type": "code",
   "execution_count": null,
   "outputs": [],
   "source": [
    "i=0\n",
    "correct=0\n",
    "total=0\n",
    "for batches in test_feats_:\n",
    "    #data=np.transpose(batches,axes=[0,2,1])\n",
    "    predictions=[]\n",
    "    for data in batches:\n",
    "        data=np.reshape(data,(1,4,64,1))\n",
    "        pred=model.predict(data)\n",
    "        predictions.append(pred)\n",
    "    predicted_ranks=rank_distances(np.array(predictions).squeeze())\n",
    "    actual_ranks=test_targs_[i][1]\n",
    "    print(len(predictions))\n",
    "    for x in range(0,5):\n",
    "        pred_index=np.where(predicted_ranks==x)\n",
    "        act_rank=actual_ranks[pred_index]\n",
    "        if act_rank<=1:\n",
    "            correct+=1\n",
    "        total+=1\n",
    "    i+=1\n",
    "print(correct/total)"
   ],
   "metadata": {
    "collapsed": false,
    "pycharm": {
     "name": "#%%\n"
    }
   }
  },
  {
   "cell_type": "code",
   "execution_count": 26,
   "outputs": [
    {
     "data": {
      "text/plain": "<Figure size 432x288 with 2 Axes>",
      "image/png": "[encoded data removed]"
     },
     "metadata": {
      "needs_background": "light"
     },
     "output_type": "display_data"
    }
   ],
   "source": [
    "import seaborn as sns\n",
    "cm_2DCNN_combined=[[173,15,1,22],[1,62,9,8],[2,19,61,15],[3,3,21,159]]\n",
    "ax = sns.heatmap(cm_2DCNN_combined, annot=True, cmap='Blues',fmt='g')\n",
    "\n",
    "#ax.set_title('2DCNN Trained with Combined\\n\\n');\n",
    "ax.set_xlabel('\\nPredicted Values')\n",
    "ax.set_ylabel('Actual Values ');\n",
    "## Ticket labels - List must be in alphabetical order\n",
    "ax.xaxis.set_ticklabels([\"<=40\",\"40-60\",\"60-80\",\">80\"])\n",
    "ax.yaxis.set_ticklabels([\"<=40\",\"40-60\",\"60-80\",\">80\"])\n",
    "## Display the visualization of the Confusion Matrix.\n",
    "plt.tight_layout()\n",
    "plt.savefig(\"2DCNN_IF(IF).pdf\")\n",
    "\n"
   ],
   "metadata": {
    "collapsed": false,
    "pycharm": {
     "name": "#%%\n"
    }
   }
  }
 ],
 "metadata": {
  "kernelspec": {
   "display_name": "Python 3",
   "language": "python",
   "name": "python3"
  },
  "language_info": {
   "codemirror_mode": {
    "name": "ipython",
    "version": 2
   },
   "file_extension": ".py",
   "mimetype": "text/x-python",
   "name": "python",
   "nbconvert_exporter": "python",
   "pygments_lexer": "ipython2",
   "version": "2.7.6"
  }
 },
 "nbformat": 4,
 "nbformat_minor": 0
}