{
 "cells": [
  {
   "cell_type": "code",
   "execution_count": 2,
   "metadata": {
    "collapsed": true,
    "pycharm": {
     "name": "#%%\n"
    }
   },
   "outputs": [],
   "source": [
    "import librosa\n",
    "import pandas as pd\n",
    "from librosa.effects import pitch_shift\n",
    "import os\n",
    "from sklearn.metrics import classification_report\n",
    "import pathlib\n",
    "import random\n",
    "from sklearn.preprocessing import StandardScaler\n",
    "import matplotlib.pyplot as plt\n",
    "import numpy as np\n",
    "import seaborn as sns\n",
    "from librosa.feature import mfcc, melspectrogram\n",
    "import scipy.io.wavfile as wav\n",
    "import tensorflow as tf\n",
    "import scipy.signal as signal\n",
    "import keras\n",
    "from sklearn.model_selection import train_test_split\n",
    "from keras.models import Model\n",
    "from research.dataImporting import MLtools\n",
    "from keras.optimizers import adam_v2\n",
    "from keras.layers import Input, Conv1D, Conv2D, SeparableConv1D, MaxPooling1D,MaxPooling2D, Flatten, Dense, Dropout, \\\n",
    "    BatchNormalization, Activation, LSTM, Lambda, Reshape, GRU\n",
    "from keras.callbacks import EarlyStopping, ModelCheckpoint, ReduceLROnPlateau\n",
    "from sklearn.model_selection import train_test_split\n",
    "from keras.utils.np_utils import to_categorical\n",
    "from research.dataImporting import dataTools\n",
    "import keras.backend as K"
   ]
  },
  {
   "cell_type": "markdown",
   "source": [
    "# Import data"
   ],
   "metadata": {
    "collapsed": false,
    "pycharm": {
     "name": "#%% md\n"
    }
   }
  },
  {
   "cell_type": "code",
   "execution_count": 3,
   "outputs": [],
   "source": [
    "training_df_raw=pd.read_csv(\"0.5s_raw_range_A1_A2_A3_no_overlap.csv\")\n",
    "training_df=pd.read_csv(\"0.5s_spec_range_A1_A2_A3_no_overlap.csv\")"
   ],
   "metadata": {
    "collapsed": false,
    "pycharm": {
     "name": "#%%\n"
    }
   }
  },
  {
   "cell_type": "markdown",
   "source": [
    "#  Range Estimation dataset creation"
   ],
   "metadata": {
    "collapsed": false,
    "pycharm": {
     "name": "#%% md\n"
    }
   }
  },
  {
   "cell_type": "code",
   "execution_count": null,
   "outputs": [],
   "source": [
    "phone_slots=[\"Phone_1-1\",\"Phone_1-3\",\"Phone_11\",\"Phone_12\",\"Phone_15\",\"Phone_2-3\",\"Phone_2-4\", \"Phone_2-5\",\"Phone_27\",\"Phone_28\",\"Phone_29\" \"Phone_3-1\",\"Phone_3-2\",\"Phone_3-4\",\"Phone_3-5\",\"Phone_30\",\"Phone_5-2\",\"Phone_5-3\",\"Phone_5-4\",\"Phone_6-2\",\"Phone_6-3\",\"Phone_6-4\",\"Phone_6-5\",\"Phone_7-1\",\"Phone_7-2\",\"Phone_8\",\"Phone_9\"]\n",
    "bad_runs=[\"A3R6P1\",\"A3R4P4\",\"A3R4P5\",\"A3R3P4\",\"A3R3P5\"]\n",
    "good_runs_IF=[\"A1R1P1\",\"A1R1P2\",\"A1R1P3\",\"A1R1P4\",\"A1R1P5\",\"A2R1P1\",\"A2R1P2\",\"A2R1P3\",\"A2R1P4\",\"A2R1P5\",\"A2R2P1\",\"A2R2P2\",\"A2R2P3\",\"A2R2P4\",\"A2R2P5\"]\n",
    "good_runs_matrice=[\"A1R2P2\",\"A1R2P3\",\"A1R2P4\",\"A1R2P5\",\"A2R3P1\",\"A2R3P2\",\"A2R4P1\",\"A2R4P2\",\"A2R4P3\",\"A3R3P1\",\"A3R3P2\",\"A3R4P2\",\"A3R4P3\",\"A3R4P5\"]\n",
    "test_runs_matrice=[\"A2R3P3\",\"A3R3P3\"]\n",
    "notable_col_names=['Pass','Segment','Phone','Lat','Lon','Alt','Range']\n",
    "passes_df=pd.read_csv(r\"C:\\Users\\rclendening\\researchData\\researchCSVs_Scripts_etc\\A1_A2_A3_flight_directory.csv\")\n",
    "x_data=[]\n",
    "y_data=[]\n",
    "def rangeFraction(ranges): #Function normalizes ranges\n",
    "    closest=np.min(ranges)\n",
    "    return closest*1/ranges\n",
    "def rangeClosest(ranges): #Function normalizes ranges\n",
    "    ranges_copy=ranges\n",
    "    truth=np.zeros(len(ranges))\n",
    "    #for x in range(0, 2):\n",
    "    closest=np.argmin(ranges_copy)\n",
    "    ranges_copy[closest]=10000\n",
    "    truth[closest]=1\n",
    "    return truth\n",
    "for x in passes_df.iterrows():\n",
    "    row=x[1]\n",
    "    pass_num=row[0]\n",
    "    scenario=row[1]\n",
    "    run_num=row[2]\n",
    "    start=row[3]\n",
    "    stop=row[4]\n",
    "    drone_gps_file=row[5]\n",
    "    full_name=(str(scenario) + 'R' + str(run_num) + 'P' + str(pass_num)).strip()\n",
    "    pass_df=training_df.loc[training_df[str(notable_col_names.index('Pass'))] == full_name]\n",
    "    #pass_df=training_df.loc[training_df[\"Pass\"] == full_name]\n",
    "    max_segment=pass_df[str(notable_col_names.index('Segment'))].max()\n",
    "    #max_segment=pass_df[\"Segment\"].max()\n",
    "    #for i in range(0,max_segment):\n",
    "    print(full_name)\n",
    "    if full_name in good_runs_matrice:\n",
    "        for phone in phone_slots:\n",
    "            phone_seg=pass_df.loc[pass_df[str(notable_col_names.index('Phone'))]==phone]\n",
    "        # frame_df=pass_df.loc[pass_df[str(notable_col_names.index('Segment'))]==i]\n",
    "        #frame_df=pass_df.loc[pass_df[\"Segment\"]==i]\n",
    "            twd_frame=[]\n",
    "            range_frame=[]\n",
    "        #for phone in phone_slots:\n",
    "            for i in range(0,max_segment):\n",
    "                frame_df=phone_seg.loc[phone_seg[str(notable_col_names.index('Segment'))]==i]\n",
    "            # phone_seg=frame_df.loc[frame_df[str(notable_col_names.index('Phone'))]==phone]\n",
    "            #phone_seg=frame_df.loc[frame_df[\"Name\"]==phone]\n",
    "                data=np.array(frame_df.iloc[:,-256:])\n",
    "            #data=np.array(frame_df.iloc[:,-512:])\n",
    "            # dist=phone_seg[str(notable_col_names.index('Range'))]\n",
    "                dist=frame_df[str(notable_col_names.index('Range'))]\n",
    "            #dist=phone_seg[\"Range\"]\n",
    "                if len(np.array(dist)>0):\n",
    "                    if np.array(dist)[0]<100:\n",
    "                        data=data[0]\n",
    "                        data=np.reshape(data,(64,4))\n",
    "                        #data=np.reshape(data,(40,1))\n",
    "                        dist=np.array(dist)[0]\n",
    "                        twd_frame.append(data)\n",
    "                        range_frame.append(dist)\n",
    "            #y_vals= rangeClosest(range_frame)\n",
    "            x_data.extend(np.array(twd_frame))\n",
    "            y_data.extend(np.array(range_frame))"
   ],
   "metadata": {
    "collapsed": false,
    "pycharm": {
     "name": "#%%\n"
    }
   }
  },
  {
   "cell_type": "code",
   "execution_count": null,
   "outputs": [],
   "source": [
    "x_data=np.array(x_data)\n",
    "#x_data=np.transpose(x_data,axes=[0,2,1])\n",
    "y_data=np.array(y_data)\n",
    "train_feats,test_feats,train_targs,test_targs=train_test_split(x_data,y_data,test_size=0.2,shuffle=True)\n",
    "input_shape=(4,64,1)"
   ],
   "metadata": {
    "collapsed": false,
    "pycharm": {
     "name": "#%%\n"
    }
   }
  },
  {
   "cell_type": "markdown",
   "source": [],
   "metadata": {
    "collapsed": false,
    "pycharm": {
     "name": "#%% md\n"
    }
   }
  },
  {
   "cell_type": "code",
   "execution_count": null,
   "outputs": [],
   "source": [
    "def subsample(x_data,y_data):\n",
    "    new_x=[]\n",
    "    new_y=[]\n",
    "    rng=np.random.default_rng(12345)\n",
    "    for x in range(len(x_data)):\n",
    "        rand_vals=rng.integers(low=1,high=5,size=1)\n",
    "        if y_data[x]==3 and rand_vals==2:\n",
    "            new_x.append(x_data[x])\n",
    "            new_y.append(y_data[x])\n",
    "        elif y_data[x] != 3:\n",
    "            new_x.append(x_data[x])\n",
    "            new_y.append(y_data[x])\n",
    "    return np.array(new_x), np.array(new_y)"
   ],
   "metadata": {
    "collapsed": false,
    "pycharm": {
     "name": "#%%\n"
    }
   }
  },
  {
   "cell_type": "markdown",
   "source": [
    "# Classification Dataset Creation"
   ],
   "metadata": {
    "collapsed": false,
    "pycharm": {
     "name": "#%% md\n"
    }
   }
  },
  {
   "cell_type": "code",
   "execution_count": 73,
   "outputs": [
    {
     "name": "stdout",
     "output_type": "stream",
     "text": [
      "A1R1P1\n",
      "A1R1P2\n",
      "A1R1P3\n",
      "A1R1P4\n",
      "A1R1P5\n",
      "A1R2P1\n",
      "A1R2P2\n"
     ]
    },
    {
     "name": "stderr",
     "output_type": "stream",
     "text": [
      "\n",
      "KeyboardInterrupt\n",
      "\n"
     ]
    }
   ],
   "source": [
    "phone_slots=[\"Phone_1-1\",\"Phone_1-3\",\"Phone_11\",\"Phone_12\",\"Phone_15\",\"Phone_2-3\",\"Phone_2-4\", \"Phone_2-5\",\"Phone_27\",\"Phone_28\",\"Phone_29\" \"Phone_3-1\",\"Phone_3-2\",\"Phone_3-4\",\"Phone_3-5\",\"Phone_30\",\"Phone_5-2\",\"Phone_5-3\",\"Phone_5-4\",\"Phone_6-2\",\"Phone_6-3\",\"Phone_6-4\",\"Phone_6-5\",\"Phone_7-1\",\"Phone_7-2\",\"Phone_8\",\"Phone_9\"]\n",
    "bad_runs=[\"A3R6P1\",\"A3R4P4\",\"A3R4P5\",\"A3R3P4\",\"A3R3P5\"]\n",
    "good_runs_IF=[\"A1R1P1\",\"A1R1P2\",\"A1R1P3\",\"A1R1P4\",\"A1R1P5\",\"A2R1P1\",\"A2R1P2\",\"A2R1P3\",\"A2R1P4\",\"A2R1P5\",\"A2R2P1\",\"A2R2P2\",\"A2R2P3\",\"A2R2P4\",\"A2R2P5\"]\n",
    "good_runs_matrice=[\"A1R2P2\",\"A1R2P3\",\"A1R2P4\",\"A1R2P5\",\"A2R3P1\",\"A2R3P2\",\"A2R4P1\",\"A2R4P2\",\"A2R4P3\",\"A3R3P1\",\"A3R3P2\",\"A3R4P2\",\"A3R4P3\",\"A3R4P5\"]\n",
    "test_runs_matrice=[\"A2R3P3\",\"A3R3P3\"]\n",
    "notable_col_names=['Pass','Segment','Phone','Lat','Lon','Alt','Range']\n",
    "passes_df=pd.read_csv(r\"C:\\Users\\rclendening\\researchData\\researchCSVs_Scripts_etc\\A1_A2_A3_flight_directory.csv\")\n",
    "x_data=[]\n",
    "y_data=[]\n",
    "def rangeFraction(ranges): #Function normalizes ranges\n",
    "    closest=np.min(ranges)\n",
    "    return closest*1/ranges\n",
    "\n",
    "def classFinder(distance):\n",
    "    if distance<=40 :\n",
    "        class_val=0\n",
    "    elif distance<=60:\n",
    "        class_val=1\n",
    "    elif distance<=80:\n",
    "        class_val=2\n",
    "    elif distance>80:\n",
    "        class_val=3\n",
    "\n",
    "    return class_val\n",
    "\n",
    "def classFinderv2(distance):\n",
    "    if distance<30:\n",
    "        class_val=0\n",
    "    elif distance<=40:\n",
    "        class_val=1\n",
    "    elif distance<=50:\n",
    "        class_val=2\n",
    "    elif distance<=60:\n",
    "        class_val=3\n",
    "    elif distance<=70:\n",
    "        class_val=4\n",
    "    elif distance<=80:\n",
    "        class_val=5\n",
    "    else:\n",
    "        class_val=6\n",
    "    return class_val\n",
    "def rangeClosest(ranges): #Function normalizes ranges\n",
    "    ranges_copy=ranges\n",
    "    truth=np.zeros(len(ranges))\n",
    "    #for x in range(0, 2):\n",
    "    closest=np.argmin(ranges_copy)\n",
    "    ranges_copy[closest]=10000\n",
    "    truth[closest]=1\n",
    "    return truth\n",
    "for x in passes_df.iterrows():\n",
    "    row=x[1]\n",
    "    pass_num=row[0]\n",
    "    scenario=row[1]\n",
    "    run_num=row[2]\n",
    "    start=row[3]\n",
    "    stop=row[4]\n",
    "    drone_gps_file=row[5]\n",
    "    full_name=(str(scenario) + 'R' + str(run_num) + 'P' + str(pass_num)).strip()\n",
    "    pass_df=training_df.loc[training_df[str(notable_col_names.index('Pass'))] == full_name]\n",
    "    #pass_df=training_df.loc[training_df[\"Pass\"] == full_name]\n",
    "    max_segment=pass_df[str(notable_col_names.index('Segment'))].max()\n",
    "    #max_segment=pass_df[\"Segment\"].max()\n",
    "    #for i in range(0,max_segment):\n",
    "    print(full_name)\n",
    "    if full_name in good_runs_matrice:\n",
    "        for phone in phone_slots:\n",
    "            phone_seg=pass_df.loc[pass_df[str(notable_col_names.index('Phone'))]==phone]\n",
    "        # frame_df=pass_df.loc[pass_df[str(notable_col_names.index('Segment'))]==i]\n",
    "        #frame_df=pass_df.loc[pass_df[\"Segment\"]==i]\n",
    "            twd_frame=[]\n",
    "            range_frame=[]\n",
    "        #for phone in phone_slots:\n",
    "            for i in range(0,max_segment):\n",
    "                frame_df=phone_seg.loc[phone_seg[str(notable_col_names.index('Segment'))]==i]\n",
    "            # phone_seg=frame_df.loc[frame_df[str(notable_col_names.index('Phone'))]==phone]\n",
    "            #phone_seg=frame_df.loc[frame_df[\"Name\"]==phone]\n",
    "                data=np.array(frame_df.iloc[:,-256:])\n",
    "            #data=np.array(frame_df.iloc[:,-512:])\n",
    "            # dist=phone_seg[str(notable_col_names.index('Range'))]\n",
    "                dist=frame_df[str(notable_col_names.index('Range'))]\n",
    "            #dist=phone_seg[\"Range\"]\n",
    "                if len(np.array(dist)>0):\n",
    "                    #if np.array(dist)[0]<100:\n",
    "                    data=data[0]\n",
    "                    data=np.reshape(data,(64,4))\n",
    "                        #data=np.reshape(data,(40,1))\n",
    "                    dist=np.array(dist)[0]\n",
    "                    class_value=classFinder(dist)\n",
    "                    twd_frame.append(data)\n",
    "                    range_frame.append(class_value)\n",
    "            #y_vals= rangeClosest(range_frame)\n",
    "            x_data.extend(np.array(twd_frame))\n",
    "            y_data.extend(np.array(range_frame))"
   ],
   "metadata": {
    "collapsed": false,
    "pycharm": {
     "name": "#%%\n"
    }
   }
  },
  {
   "cell_type": "markdown",
   "source": [
    "# Classification with raw data"
   ],
   "metadata": {
    "collapsed": false,
    "pycharm": {
     "name": "#%% md\n"
    }
   }
  },
  {
   "cell_type": "code",
   "execution_count": 5,
   "outputs": [
    {
     "name": "stdout",
     "output_type": "stream",
     "text": [
      "A1R1P1\n",
      "A1R1P2\n",
      "A1R1P3\n",
      "A1R1P4\n",
      "A1R1P5\n",
      "A1R2P1\n",
      "A1R2P2\n"
     ]
    },
    {
     "name": "stderr",
     "output_type": "stream",
     "text": [
      "\n",
      "KeyboardInterrupt\n",
      "\n"
     ]
    }
   ],
   "source": [
    "phone_slots=[\"Phone_1-1\",\"Phone_1-3\",\"Phone_11\",\"Phone_12\",\"Phone_15\",\"Phone_2-3\",\"Phone_2-4\", \"Phone_2-5\",\"Phone_27\",\"Phone_28\",\"Phone_29\" \"Phone_3-1\",\"Phone_3-2\",\"Phone_3-4\",\"Phone_3-5\",\"Phone_30\",\"Phone_5-2\",\"Phone_5-3\",\"Phone_5-4\",\"Phone_6-2\",\"Phone_6-3\",\"Phone_6-4\",\"Phone_6-5\",\"Phone_7-1\",\"Phone_7-2\",\"Phone_8\",\"Phone_9\"]\n",
    "bad_runs=[\"A3R6P1\",\"A3R4P4\",\"A3R4P5\",\"A3R3P4\",\"A3R3P5\"]\n",
    "good_runs_IF=[\"A1R1P1\",\"A1R1P2\",\"A1R1P3\",\"A1R1P4\",\"A1R1P5\",\"A2R1P1\",\"A2R1P2\",\"A2R1P3\",\"A2R1P4\",\"A2R1P5\",\"A2R2P1\",\"A2R2P2\",\"A2R2P3\",\"A2R2P4\",\"A2R2P5\"]\n",
    "good_runs_matrice=[\"A1R2P2\",\"A1R2P3\",\"A1R2P4\",\"A1R2P5\",\"A2R3P1\",\"A2R3P2\",\"A2R4P1\",\"A2R4P2\",\"A2R4P3\",\"A3R3P1\",\"A3R3P2\",\"A3R4P2\",\"A3R4P3\",\"A3R4P5\"]\n",
    "good_runs_phantom=[\"A2R5P1\",\"A2R5P2\",\"A2R5P3\",\"A2R5P4\",\"A2R5P5\",\"A2R6P1\",\"A2R6P2\",\"A2R6P3\",\"A2R6P4\",\"A2R6P5\",\"A3R5P1\",\"A3R5P2\",\"A3R5P3\",\"A3R5P4\",\"A3R6P1\",\"A3R6P2\",\"A3R6P3\",\"A3R6P4\"]\n",
    "test_runs_matrice=[\"A2R3P3\",\"A3R3P3\"]\n",
    "notable_col_names=['Pass','Segment','Phone','Lat','Lon','Alt','Range']\n",
    "passes_df=pd.read_csv(r\"C:\\Users\\rclendening\\researchData\\researchCSVs_Scripts_etc\\A1_A2_A3_flight_directory.csv\")\n",
    "x_data=[]\n",
    "y_data=[]\n",
    "def rangeFraction(ranges): #Function normalizes ranges\n",
    "    closest=np.min(ranges)\n",
    "    return closest*1/ranges\n",
    "\n",
    "def classFinder(distance):\n",
    "    if distance<=40 :\n",
    "        class_val=0\n",
    "    elif distance<=60:\n",
    "        class_val=1\n",
    "    elif distance<=80:\n",
    "        class_val=2\n",
    "    else:\n",
    "        class_val=3\n",
    "    return class_val\n",
    "\n",
    "def rangeClosest(ranges): #Function normalizes ranges\n",
    "    ranges_copy=ranges\n",
    "    truth=np.zeros(len(ranges))\n",
    "    #for x in range(0, 2):\n",
    "    closest=np.argmin(ranges_copy)\n",
    "    ranges_copy[closest]=10000\n",
    "    truth[closest]=1\n",
    "    return truth\n",
    "for x in passes_df.iterrows():\n",
    "    row=x[1]\n",
    "    pass_num=row[0]\n",
    "    scenario=row[1]\n",
    "    run_num=row[2]\n",
    "    start=row[3]\n",
    "    stop=row[4]\n",
    "    drone_gps_file=row[5]\n",
    "    full_name=(str(scenario) + 'R' + str(run_num) + 'P' + str(pass_num)).strip()\n",
    "    pass_df=training_df_raw.loc[training_df_raw[str(notable_col_names.index('Pass'))] == full_name]\n",
    "    #pass_df=training_df.loc[training_df[\"Pass\"] == full_name]\n",
    "    max_segment=pass_df[str(notable_col_names.index('Segment'))].max()\n",
    "    #max_segment=pass_df[\"Segment\"].max()\n",
    "    #for i in range(0,max_segment):\n",
    "    print(full_name)\n",
    "    if full_name in good_runs_matrice:\n",
    "        for phone in phone_slots:\n",
    "            phone_seg=pass_df.loc[pass_df[str(notable_col_names.index('Phone'))]==phone]\n",
    "        # frame_df=pass_df.loc[pass_df[str(notable_col_names.index('Segment'))]==i]\n",
    "        #frame_df=pass_df.loc[pass_df[\"Segment\"]==i]\n",
    "            twd_frame=[]\n",
    "            range_frame=[]\n",
    "        #for phone in phone_slots:\n",
    "            for i in range(0,max_segment):\n",
    "                frame_df=phone_seg.loc[phone_seg[str(notable_col_names.index('Segment'))]==i]\n",
    "            # phone_seg=frame_df.loc[frame_df[str(notable_col_names.index('Phone'))]==phone]\n",
    "            #phone_seg=frame_df.loc[frame_df[\"Name\"]==phone]\n",
    "                data=np.array(frame_df.iloc[:,8:4008])\n",
    "            #data=np.array(frame_df.iloc[:,-512:])\n",
    "            # dist=phone_seg[str(notable_col_names.index('Range'))]\n",
    "                dist=frame_df[str(notable_col_names.index('Range'))]\n",
    "            #dist=phone_seg[\"Range\"]\n",
    "                if len(np.array(dist)>0):\n",
    "                    if np.array(dist)[0]<100:\n",
    "                        data=data[0]\n",
    "                        #data=np.reshape(data,(64,4))\n",
    "                        #data=np.reshape(data,(40,1))\n",
    "                        dist=np.array(dist)[0]\n",
    "                        class_value=classFinder(dist)\n",
    "                        twd_frame.append(data)\n",
    "                        range_frame.append(class_value)\n",
    "            #y_vals= rangeClosest(range_frame)\n",
    "            x_data.extend(np.array(twd_frame))\n",
    "            y_data.extend(np.array(range_frame))"
   ],
   "metadata": {
    "collapsed": false,
    "pycharm": {
     "name": "#%%\n"
    }
   }
  },
  {
   "cell_type": "markdown",
   "source": [
    "# From raw to actual data"
   ],
   "metadata": {
    "collapsed": false,
    "pycharm": {
     "name": "#%% md\n"
    }
   }
  },
  {
   "cell_type": "code",
   "execution_count": 113,
   "outputs": [
    {
     "name": "stdout",
     "output_type": "stream",
     "text": [
      "A1R1P1\n",
      "A1R1P2\n",
      "A1R1P3\n",
      "A1R1P4\n",
      "A1R1P5\n",
      "A1R2P1\n",
      "A1R2P2\n",
      "A1R2P3\n",
      "A1R2P4\n",
      "A1R2P5\n",
      "A2R1P1\n",
      "A2R1P2\n",
      "A2R1P3\n",
      "A2R1P4\n",
      "A2R1P5\n",
      "A2R2P1\n",
      "A2R2P2\n",
      "A2R2P3\n",
      "A2R2P4\n",
      "A2R2P5\n",
      "A2R3P1\n",
      "A2R3P2\n",
      "A2R3P3\n",
      "A2R4P1\n",
      "A2R4P2\n",
      "A2R4P3\n",
      "A2R5P1\n",
      "A2R5P2\n",
      "A2R5P3\n",
      "A2R5P4\n",
      "A2R5P5\n",
      "A2R6P1\n",
      "A2R6P2\n",
      "A2R6P3\n",
      "A2R6P4\n",
      "A2R6P5\n",
      "A2R7P1\n",
      "A2R7P2\n",
      "A2R7P3\n",
      "A2R7P4\n",
      "A2R7P5\n",
      "A2R8P1\n",
      "A2R8P2\n",
      "A2R8P3\n",
      "A2R8P4\n",
      "A2R8P5\n",
      "A3R3P1\n",
      "A3R3P2\n",
      "A3R3P3\n",
      "A3R3P4\n",
      "A3R3P5\n",
      "A3R4P1\n",
      "A3R4P2\n",
      "A3R4P3\n",
      "A3R4P4\n",
      "A3R4P5\n",
      "A3R5P1\n",
      "A3R5P2\n",
      "A3R5P3\n",
      "A3R5P4\n",
      "A3R6P1\n",
      "A3R6P2\n",
      "A3R6P3\n",
      "A3R6P4\n"
     ]
    }
   ],
   "source": [
    "def melspect(audioData, Fs):\n",
    "    '''\n",
    "    Converts decoded wav file to MFCC feature space\n",
    "    @param audioData: Numpy array of decoded audio wav file\n",
    "    @return MFCC coefficients\n",
    "    '''\n",
    "    data= audioData.astype(float)\n",
    "    # spect = melspectrogram(y=data,sr=Fs, hop_length=1024,n_mels=64, n_fft=2048)\n",
    "    spect = melspectrogram(y=data,sr=Fs)\n",
    "    return spect\n",
    "x_data=[]\n",
    "y_data=[]\n",
    "for x in passes_df.iterrows():\n",
    "    row=x[1]\n",
    "    pass_num=row[0]\n",
    "    scenario=row[1]\n",
    "    run_num=row[2]\n",
    "    start=row[3]\n",
    "    stop=row[4]\n",
    "    drone_gps_file=row[5]\n",
    "    full_name=(str(scenario) + 'R' + str(run_num) + 'P' + str(pass_num)).strip()\n",
    "    pass_df=training_df_raw.loc[training_df_raw[str(notable_col_names.index('Pass'))] == full_name]\n",
    "    #pass_df=training_df.loc[training_df[\"Pass\"] == full_name]\n",
    "    max_segment=pass_df[str(notable_col_names.index('Segment'))].max()\n",
    "    #max_segment=pass_df[\"Segment\"].max()\n",
    "    #for i in range(0,max_segment):\n",
    "    print(full_name)\n",
    "    if full_name in good_runs_IF:\n",
    "        drone_type=1\n",
    "    elif full_name in good_runs_matrice:\n",
    "        drone_type=0\n",
    "    else:\n",
    "        drone_type=2\n",
    "    #if full_name in good_runs_matrice or full_name in good_runs_IF or full_name in good_runs_phantom:\n",
    "    if full_name in good_runs_matrice:\n",
    "        for phone in phone_slots:\n",
    "            phone_seg=pass_df.loc[pass_df[str(notable_col_names.index('Phone'))]==phone]\n",
    "        # frame_df=pass_df.loc[pass_df[str(notable_col_names.index('Segment'))]==i]\n",
    "        #frame_df=pass_df.loc[pass_df[\"Segment\"]==i]\n",
    "            twd_frame=[]\n",
    "            range_frame=[]\n",
    "        #for phone in phone_slots:\n",
    "            for i in range(0,max_segment):\n",
    "                frame_df=phone_seg.loc[phone_seg[str(notable_col_names.index('Segment'))]==i]\n",
    "            # phone_seg=frame_df.loc[frame_df[str(notable_col_names.index('Phone'))]==phone]\n",
    "            #phone_seg=frame_df.loc[frame_df[\"Name\"]==phone]\n",
    "                data=np.array(frame_df.iloc[:,8:4008])\n",
    "                if np.any(data):\n",
    "                    mel_data=melspect(data[0],8000)\n",
    "            #data=np.array(frame_df.iloc[:,-512:])\n",
    "            # dist=phone_seg[str(notable_col_names.index('Range'))]\n",
    "                dist=frame_df[str(notable_col_names.index('Range'))]\n",
    "            #dist=phone_seg[\"Range\"]\n",
    "                if len(np.array(dist)>0):\n",
    "                    if np.array(dist)[0]<250:\n",
    "                        data=data[0]\n",
    "                        #data=np.reshape(data,(64,4))\n",
    "                        #data=np.reshape(data,(40,1))\n",
    "                        dist=np.array(dist)[0]\n",
    "                        class_value=classFinder(dist)\n",
    "                        twd_frame.append(mel_data)\n",
    "                        range_frame.append([class_value,drone_type,dist])\n",
    "            #y_vals= rangeClosest(range_frame)\n",
    "            x_data.extend(np.array(twd_frame))\n",
    "            y_data.extend(np.array(range_frame))"
   ],
   "metadata": {
    "collapsed": false,
    "pycharm": {
     "name": "#%%\n"
    }
   }
  },
  {
   "cell_type": "code",
   "execution_count": 102,
   "outputs": [],
   "source": [
    "def subsample(x_data,y_data):\n",
    "    new_x=[]\n",
    "    new_y=[]\n",
    "    rng=np.random.default_rng(12345)\n",
    "    for x in range(len(x_data)):\n",
    "        rand_vals=rng.integers(low=1,high=7,size=1)\n",
    "        if y_data[x][0]==3 and rand_vals[0]==2:\n",
    "            new_x.append(x_data[x])\n",
    "            new_y.append(y_data[x])\n",
    "        elif y_data[x][0] != 3:\n",
    "            new_x.append(x_data[x])\n",
    "            new_y.append(y_data[x])\n",
    "    return np.array(new_x), np.array(new_y)\n",
    "x_data=np.array(x_data)\n",
    "x_data=np.float32(x_data)\n",
    "#x_data=np.transpose(x_data,axes=[0,2,1])\n",
    "y_data=np.array(y_data)\n",
    "x__,y__=subsample(x_data,y_data)\n",
    "train_feats,test_feats,train_targs,test_targs=train_test_split(x__,y__,test_size=0.2,shuffle=True)\n",
    "class_train_targs=train_targs[:,1]\n",
    "cont_range_train_targs=train_targs[:,2]\n",
    "range_train_targs=train_targs[:,0]\n",
    "class_train_targs_oh=tf.keras.utils.to_categorical(class_train_targs,num_classes=3)\n",
    "range_train_targs_oh=tf.keras.utils.to_categorical(range_train_targs,num_classes=4)\n",
    "class_test_targs=test_targs[:,1]\n",
    "cont_range_test_targs=test_targs[:,2]\n",
    "range_test_targs=test_targs[:,0]\n",
    "class_test_targs_oh=tf.keras.utils.to_categorical(class_test_targs,num_classes=3)\n",
    "range_test_targs_oh=tf.keras.utils.to_categorical(range_test_targs,num_classes=4)"
   ],
   "metadata": {
    "collapsed": false,
    "pycharm": {
     "name": "#%%\n"
    }
   }
  },
  {
   "cell_type": "code",
   "execution_count": 103,
   "outputs": [
    {
     "data": {
      "text/plain": "(array([ 563., 2593.,    0.,  381.,    0.,  940., 1680.,    0.,  651.,\n        1604.]),\n array([0. , 0.6, 1.2, 1.8, 2.4, 3. , 3.6, 4.2, 4.8, 5.4, 6. ]),\n <BarContainer object of 10 artists>)"
     },
     "execution_count": 103,
     "metadata": {},
     "output_type": "execute_result"
    },
    {
     "data": {
      "text/plain": "<Figure size 432x288 with 1 Axes>",
      "image/png": "[encoded data removed]"
     },
     "metadata": {
      "needs_background": "light"
     },
     "output_type": "display_data"
    }
   ],
   "source": [
    "plt.hist(range_train_targs)"
   ],
   "metadata": {
    "collapsed": false,
    "pycharm": {
     "name": "#%%\n"
    }
   }
  },
  {
   "cell_type": "code",
   "execution_count": 105,
   "outputs": [
    {
     "name": "stdout",
     "output_type": "stream",
     "text": [
      "{0: 2.134483633595534, 1: 0.4634455401906231, 2: 3.154105736782902, 3: 1.2784194528875379, 4: 0.7153061224489796, 5: 1.8459512837393022, 6: 0.749198432490203}\n"
     ]
    }
   ],
   "source": [
    "from sklearn.utils import class_weight\n",
    "# class_weights=class_weight.compute_class_weight('balanced', classes=np.unique(class_train_targs), y=class_train_targs)\n",
    "# class_weights={0:class_weights[0], 1:class_weights[1]}\n",
    "#print(class_weights)\n",
    "range_weights=class_weight.compute_class_weight('balanced', classes=np.unique(range_train_targs), y=range_train_targs)\n",
    "range_weights={0:range_weights[0], 1:range_weights[1],2:range_weights[2], 3:range_weights[3],4:range_weights[4],5:range_weights[5], 6:range_weights[6]}\n",
    "print(range_weights)"
   ],
   "metadata": {
    "collapsed": false,
    "pycharm": {
     "name": "#%%\n"
    }
   }
  },
  {
   "cell_type": "code",
   "execution_count": null,
   "outputs": [],
   "source": [
    "import librosa.display\n",
    "fig, ax = plt.subplots()\n",
    "S_dB = librosa.power_to_db(x_data[1], ref=np.max)\n",
    "img = librosa.display.specshow(S_dB, x_axis='time',\n",
    "                         y_axis='mel', sr=8000,\n",
    "                         fmax=4000, ax=ax)\n",
    "fig.colorbar(img, ax=ax, format='%+2.0f dB')\n",
    "ax.set(title='Mel-frequency spectrogram')"
   ],
   "metadata": {
    "collapsed": false,
    "pycharm": {
     "name": "#%%\n"
    }
   }
  },
  {
   "cell_type": "markdown",
   "source": [
    "# Multiclass Clasification with multiple outputs"
   ],
   "metadata": {
    "collapsed": false,
    "pycharm": {
     "name": "#%% md\n"
    }
   }
  },
  {
   "cell_type": "code",
   "execution_count": 48,
   "outputs": [
    {
     "name": "stdout",
     "output_type": "stream",
     "text": [
      "Model: \"model_12\"\n",
      "__________________________________________________________________________________________________\n",
      " Layer (type)                   Output Shape         Param #     Connected to                     \n",
      "==================================================================================================\n",
      " input (InputLayer)             [(None, 128, 8, 1)]  0           []                               \n",
      "                                                                                                  \n",
      " batch_normalization_52 (BatchN  (None, 128, 8, 1)   4           ['input[0][0]']                  \n",
      " ormalization)                                                                                    \n",
      "                                                                                                  \n",
      " conv_1 (Conv2D)                (None, 128, 8, 32)   128         ['batch_normalization_52[0][0]'] \n",
      "                                                                                                  \n",
      " batch_normalization_53 (BatchN  (None, 128, 8, 32)  128         ['conv_1[0][0]']                 \n",
      " ormalization)                                                                                    \n",
      "                                                                                                  \n",
      " activation_40 (Activation)     (None, 128, 8, 32)   0           ['batch_normalization_53[0][0]'] \n",
      "                                                                                                  \n",
      " max_pooling2d_12 (MaxPooling2D  (None, 64, 4, 32)   0           ['activation_40[0][0]']          \n",
      " )                                                                                                \n",
      "                                                                                                  \n",
      " conv_2 (Conv2D)                (None, 32, 2, 32)    16384       ['max_pooling2d_12[0][0]']       \n",
      "                                                                                                  \n",
      " batch_normalization_54 (BatchN  (None, 32, 2, 32)   128         ['conv_2[0][0]']                 \n",
      " ormalization)                                                                                    \n",
      "                                                                                                  \n",
      " activation_41 (Activation)     (None, 32, 2, 32)    0           ['batch_normalization_54[0][0]'] \n",
      "                                                                                                  \n",
      " dropout_34 (Dropout)           (None, 32, 2, 32)    0           ['activation_41[0][0]']          \n",
      "                                                                                                  \n",
      " conv_3 (Conv2D)                (None, 8, 1, 32)     16384       ['dropout_34[0][0]']             \n",
      "                                                                                                  \n",
      " batch_normalization_55 (BatchN  (None, 8, 1, 32)    128         ['conv_3[0][0]']                 \n",
      " ormalization)                                                                                    \n",
      "                                                                                                  \n",
      " activation_42 (Activation)     (None, 8, 1, 32)     0           ['batch_normalization_55[0][0]'] \n",
      "                                                                                                  \n",
      " dropout_35 (Dropout)           (None, 8, 1, 32)     0           ['activation_42[0][0]']          \n",
      "                                                                                                  \n",
      " flatten_12 (Flatten)           (None, 256)          0           ['dropout_35[0][0]']             \n",
      "                                                                                                  \n",
      " dense_2 (Dense)                (None, 512)          131584      ['flatten_12[0][0]']             \n",
      "                                                                                                  \n",
      " dense_3 (Dense)                (None, 256)          131328      ['dense_2[0][0]']                \n",
      "                                                                                                  \n",
      " dropout_36 (Dropout)           (None, 256)          0           ['dense_3[0][0]']                \n",
      "                                                                                                  \n",
      " output_range (Dense)           (None, 4)            1028        ['dropout_36[0][0]']             \n",
      "                                                                                                  \n",
      " output_cont_range (Dense)      (None, 1)            257         ['dropout_36[0][0]']             \n",
      "                                                                                                  \n",
      "==================================================================================================\n",
      "Total params: 297,481\n",
      "Trainable params: 297,287\n",
      "Non-trainable params: 194\n",
      "__________________________________________________________________________________________________\n",
      "Epoch 1/200\n",
      "63/63 [==============================] - 4s 32ms/step - loss: 2322.0334 - output_range_loss: 4.8416 - output_cont_range_loss: 2317.1917 - output_range_accuracy: 0.2849 - output_range_mae: 0.3596 - output_cont_range_accuracy: 0.0000e+00 - output_cont_range_mae: 31.7857 - val_loss: 2645.9565 - val_output_range_loss: 1.3218 - val_output_cont_range_loss: 2644.6348 - val_output_range_accuracy: 0.4611 - val_output_range_mae: 0.3563 - val_output_cont_range_accuracy: 0.0000e+00 - val_output_cont_range_mae: 38.0291 - lr: 0.0010\n",
      "Epoch 2/200\n",
      "63/63 [==============================] - 2s 28ms/step - loss: 1281.9445 - output_range_loss: 4.9572 - output_cont_range_loss: 1276.9872 - output_range_accuracy: 0.2754 - output_range_mae: 0.3627 - output_cont_range_accuracy: 0.0000e+00 - output_cont_range_mae: 23.0431 - val_loss: 2067.9602 - val_output_range_loss: 1.3646 - val_output_cont_range_loss: 2066.5955 - val_output_range_accuracy: 0.2854 - val_output_range_mae: 0.3528 - val_output_cont_range_accuracy: 0.0000e+00 - val_output_cont_range_mae: 32.3848 - lr: 0.0010\n",
      "Epoch 3/200\n",
      "63/63 [==============================] - 2s 29ms/step - loss: 1125.5676 - output_range_loss: 4.0772 - output_cont_range_loss: 1121.4904 - output_range_accuracy: 0.2784 - output_range_mae: 0.3595 - output_cont_range_accuracy: 0.0000e+00 - output_cont_range_mae: 21.1637 - val_loss: 1348.4512 - val_output_range_loss: 1.2653 - val_output_cont_range_loss: 1347.1860 - val_output_range_accuracy: 0.5469 - val_output_range_mae: 0.3222 - val_output_cont_range_accuracy: 0.0000e+00 - val_output_cont_range_mae: 22.5130 - lr: 0.0010\n",
      "Epoch 4/200\n",
      "63/63 [==============================] - 2s 29ms/step - loss: 1070.8225 - output_range_loss: 3.4628 - output_cont_range_loss: 1067.3599 - output_range_accuracy: 0.3128 - output_range_mae: 0.3522 - output_cont_range_accuracy: 0.0000e+00 - output_cont_range_mae: 21.0429 - val_loss: 949.1234 - val_output_range_loss: 1.2153 - val_output_cont_range_loss: 947.9083 - val_output_range_accuracy: 0.5709 - val_output_range_mae: 0.3360 - val_output_cont_range_accuracy: 0.0000e+00 - val_output_cont_range_mae: 19.1301 - lr: 0.0010\n",
      "Epoch 5/200\n",
      "63/63 [==============================] - 2s 32ms/step - loss: 1024.0316 - output_range_loss: 2.6945 - output_cont_range_loss: 1021.3369 - output_range_accuracy: 0.3358 - output_range_mae: 0.3409 - output_cont_range_accuracy: 0.0000e+00 - output_cont_range_mae: 20.2583 - val_loss: 920.7482 - val_output_range_loss: 1.1223 - val_output_cont_range_loss: 919.6260 - val_output_range_accuracy: 0.5389 - val_output_range_mae: 0.3034 - val_output_cont_range_accuracy: 0.0000e+00 - val_output_cont_range_mae: 18.9124 - lr: 0.0010\n",
      "Epoch 6/200\n",
      "63/63 [==============================] - 2s 30ms/step - loss: 946.7932 - output_range_loss: 2.2964 - output_cont_range_loss: 944.4967 - output_range_accuracy: 0.3498 - output_range_mae: 0.3378 - output_cont_range_accuracy: 0.0000e+00 - output_cont_range_mae: 20.0059 - val_loss: 869.6554 - val_output_range_loss: 1.1383 - val_output_cont_range_loss: 868.5170 - val_output_range_accuracy: 0.5609 - val_output_range_mae: 0.3216 - val_output_cont_range_accuracy: 0.0000e+00 - val_output_cont_range_mae: 17.9548 - lr: 0.0010\n",
      "Epoch 7/200\n",
      "63/63 [==============================] - 2s 30ms/step - loss: 965.6837 - output_range_loss: 1.9470 - output_cont_range_loss: 963.7366 - output_range_accuracy: 0.3598 - output_range_mae: 0.3385 - output_cont_range_accuracy: 0.0000e+00 - output_cont_range_mae: 19.6660 - val_loss: 896.1202 - val_output_range_loss: 1.1743 - val_output_cont_range_loss: 894.9459 - val_output_range_accuracy: 0.5569 - val_output_range_mae: 0.3130 - val_output_cont_range_accuracy: 0.0000e+00 - val_output_cont_range_mae: 18.8205 - lr: 0.0010\n",
      "Epoch 8/200\n",
      "63/63 [==============================] - 2s 28ms/step - loss: 953.6430 - output_range_loss: 1.6922 - output_cont_range_loss: 951.9510 - output_range_accuracy: 0.3908 - output_range_mae: 0.3352 - output_cont_range_accuracy: 0.0000e+00 - output_cont_range_mae: 19.6077 - val_loss: 947.5267 - val_output_range_loss: 1.1305 - val_output_cont_range_loss: 946.3964 - val_output_range_accuracy: 0.5469 - val_output_range_mae: 0.3179 - val_output_cont_range_accuracy: 0.0000e+00 - val_output_cont_range_mae: 19.7262 - lr: 0.0010\n",
      "Epoch 9/200\n",
      "63/63 [==============================] - 2s 28ms/step - loss: 956.9801 - output_range_loss: 1.5460 - output_cont_range_loss: 955.4339 - output_range_accuracy: 0.3928 - output_range_mae: 0.3359 - output_cont_range_accuracy: 0.0000e+00 - output_cont_range_mae: 19.5775 - val_loss: 804.9471 - val_output_range_loss: 1.1423 - val_output_cont_range_loss: 803.8046 - val_output_range_accuracy: 0.5649 - val_output_range_mae: 0.3187 - val_output_cont_range_accuracy: 0.0000e+00 - val_output_cont_range_mae: 17.9299 - lr: 0.0010\n",
      "Epoch 10/200\n",
      "63/63 [==============================] - 2s 28ms/step - loss: 900.0002 - output_range_loss: 1.3421 - output_cont_range_loss: 898.6584 - output_range_accuracy: 0.4643 - output_range_mae: 0.3233 - output_cont_range_accuracy: 0.0000e+00 - output_cont_range_mae: 18.7612 - val_loss: 820.7708 - val_output_range_loss: 1.1848 - val_output_cont_range_loss: 819.5859 - val_output_range_accuracy: 0.5908 - val_output_range_mae: 0.3141 - val_output_cont_range_accuracy: 0.0000e+00 - val_output_cont_range_mae: 17.8242 - lr: 0.0010\n",
      "Epoch 11/200\n",
      "63/63 [==============================] - 2s 28ms/step - loss: 845.7045 - output_range_loss: 1.2964 - output_cont_range_loss: 844.4080 - output_range_accuracy: 0.4698 - output_range_mae: 0.3194 - output_cont_range_accuracy: 0.0000e+00 - output_cont_range_mae: 18.3712 - val_loss: 909.9672 - val_output_range_loss: 1.1308 - val_output_cont_range_loss: 908.8365 - val_output_range_accuracy: 0.5609 - val_output_range_mae: 0.3003 - val_output_cont_range_accuracy: 0.0000e+00 - val_output_cont_range_mae: 18.4062 - lr: 0.0010\n",
      "Epoch 12/200\n",
      "63/63 [==============================] - 2s 29ms/step - loss: 820.2557 - output_range_loss: 1.2106 - output_cont_range_loss: 819.0450 - output_range_accuracy: 0.4848 - output_range_mae: 0.3085 - output_cont_range_accuracy: 0.0000e+00 - output_cont_range_mae: 17.9356 - val_loss: 818.9021 - val_output_range_loss: 1.0574 - val_output_cont_range_loss: 817.8446 - val_output_range_accuracy: 0.5709 - val_output_range_mae: 0.2938 - val_output_cont_range_accuracy: 0.0000e+00 - val_output_cont_range_mae: 17.7695 - lr: 0.0010\n",
      "Epoch 13/200\n",
      "63/63 [==============================] - 2s 29ms/step - loss: 866.8379 - output_range_loss: 1.2247 - output_cont_range_loss: 865.6133 - output_range_accuracy: 0.4753 - output_range_mae: 0.3121 - output_cont_range_accuracy: 0.0000e+00 - output_cont_range_mae: 18.6978 - val_loss: 826.4816 - val_output_range_loss: 1.0689 - val_output_cont_range_loss: 825.4126 - val_output_range_accuracy: 0.5210 - val_output_range_mae: 0.3044 - val_output_cont_range_accuracy: 0.0000e+00 - val_output_cont_range_mae: 17.9347 - lr: 0.0010\n",
      "Epoch 14/200\n",
      "63/63 [==============================] - 2s 30ms/step - loss: 916.5522 - output_range_loss: 1.2213 - output_cont_range_loss: 915.3307 - output_range_accuracy: 0.4673 - output_range_mae: 0.3048 - output_cont_range_accuracy: 0.0000e+00 - output_cont_range_mae: 19.3755 - val_loss: 786.9265 - val_output_range_loss: 1.1197 - val_output_cont_range_loss: 785.8067 - val_output_range_accuracy: 0.5689 - val_output_range_mae: 0.2966 - val_output_cont_range_accuracy: 0.0000e+00 - val_output_cont_range_mae: 17.4356 - lr: 0.0010\n",
      "Epoch 15/200\n",
      "63/63 [==============================] - 2s 29ms/step - loss: 803.8929 - output_range_loss: 1.1902 - output_cont_range_loss: 802.7028 - output_range_accuracy: 0.5002 - output_range_mae: 0.3021 - output_cont_range_accuracy: 0.0000e+00 - output_cont_range_mae: 18.1231 - val_loss: 842.2627 - val_output_range_loss: 1.0332 - val_output_cont_range_loss: 841.2294 - val_output_range_accuracy: 0.5828 - val_output_range_mae: 0.2958 - val_output_cont_range_accuracy: 0.0000e+00 - val_output_cont_range_mae: 20.0492 - lr: 0.0010\n",
      "Epoch 16/200\n",
      "63/63 [==============================] - 2s 28ms/step - loss: 808.6234 - output_range_loss: 1.1843 - output_cont_range_loss: 807.4391 - output_range_accuracy: 0.5007 - output_range_mae: 0.3035 - output_cont_range_accuracy: 0.0000e+00 - output_cont_range_mae: 17.9777 - val_loss: 805.6497 - val_output_range_loss: 1.0019 - val_output_cont_range_loss: 804.6477 - val_output_range_accuracy: 0.5569 - val_output_range_mae: 0.2715 - val_output_cont_range_accuracy: 0.0000e+00 - val_output_cont_range_mae: 17.7374 - lr: 0.0010\n",
      "Epoch 17/200\n",
      "63/63 [==============================] - 2s 28ms/step - loss: 770.3773 - output_range_loss: 1.1300 - output_cont_range_loss: 769.2473 - output_range_accuracy: 0.5147 - output_range_mae: 0.2965 - output_cont_range_accuracy: 0.0000e+00 - output_cont_range_mae: 17.4484 - val_loss: 766.9274 - val_output_range_loss: 1.0252 - val_output_cont_range_loss: 765.9023 - val_output_range_accuracy: 0.5429 - val_output_range_mae: 0.2777 - val_output_cont_range_accuracy: 0.0000e+00 - val_output_cont_range_mae: 17.7729 - lr: 0.0010\n",
      "Epoch 18/200\n",
      "63/63 [==============================] - 2s 28ms/step - loss: 805.7928 - output_range_loss: 1.1567 - output_cont_range_loss: 804.6360 - output_range_accuracy: 0.5197 - output_range_mae: 0.2977 - output_cont_range_accuracy: 0.0000e+00 - output_cont_range_mae: 17.7779 - val_loss: 873.5674 - val_output_range_loss: 0.9841 - val_output_cont_range_loss: 872.5833 - val_output_range_accuracy: 0.5908 - val_output_range_mae: 0.2696 - val_output_cont_range_accuracy: 0.0000e+00 - val_output_cont_range_mae: 19.6943 - lr: 0.0010\n",
      "Epoch 19/200\n",
      "63/63 [==============================] - 2s 29ms/step - loss: 821.6166 - output_range_loss: 1.1600 - output_cont_range_loss: 820.4566 - output_range_accuracy: 0.5037 - output_range_mae: 0.2956 - output_cont_range_accuracy: 0.0000e+00 - output_cont_range_mae: 18.1484 - val_loss: 816.4598 - val_output_range_loss: 0.9716 - val_output_cont_range_loss: 815.4882 - val_output_range_accuracy: 0.5669 - val_output_range_mae: 0.2731 - val_output_cont_range_accuracy: 0.0000e+00 - val_output_cont_range_mae: 17.7691 - lr: 0.0010\n",
      "Epoch 20/200\n",
      "63/63 [==============================] - 2s 29ms/step - loss: 776.9303 - output_range_loss: 1.1377 - output_cont_range_loss: 775.7928 - output_range_accuracy: 0.5277 - output_range_mae: 0.2900 - output_cont_range_accuracy: 0.0000e+00 - output_cont_range_mae: 17.4795 - val_loss: 766.1990 - val_output_range_loss: 0.9861 - val_output_cont_range_loss: 765.2128 - val_output_range_accuracy: 0.5569 - val_output_range_mae: 0.2755 - val_output_cont_range_accuracy: 0.0000e+00 - val_output_cont_range_mae: 17.6950 - lr: 0.0010\n",
      "Epoch 21/200\n",
      "63/63 [==============================] - 2s 27ms/step - loss: 754.5475 - output_range_loss: 1.1439 - output_cont_range_loss: 753.4038 - output_range_accuracy: 0.5027 - output_range_mae: 0.2955 - output_cont_range_accuracy: 0.0000e+00 - output_cont_range_mae: 17.4936 - val_loss: 1027.6420 - val_output_range_loss: 1.0793 - val_output_cont_range_loss: 1026.5626 - val_output_range_accuracy: 0.5609 - val_output_range_mae: 0.2724 - val_output_cont_range_accuracy: 0.0000e+00 - val_output_cont_range_mae: 19.2278 - lr: 0.0010\n",
      "Epoch 22/200\n",
      "63/63 [==============================] - 2s 29ms/step - loss: 696.3863 - output_range_loss: 1.0870 - output_cont_range_loss: 695.2991 - output_range_accuracy: 0.5347 - output_range_mae: 0.2889 - output_cont_range_accuracy: 0.0000e+00 - output_cont_range_mae: 16.6438 - val_loss: 757.8331 - val_output_range_loss: 0.9761 - val_output_cont_range_loss: 756.8571 - val_output_range_accuracy: 0.5868 - val_output_range_mae: 0.2721 - val_output_cont_range_accuracy: 0.0000e+00 - val_output_cont_range_mae: 17.2782 - lr: 0.0010\n",
      "Epoch 23/200\n",
      "63/63 [==============================] - 2s 30ms/step - loss: 666.3829 - output_range_loss: 1.0634 - output_cont_range_loss: 665.3195 - output_range_accuracy: 0.5502 - output_range_mae: 0.2774 - output_cont_range_accuracy: 0.0000e+00 - output_cont_range_mae: 16.2305 - val_loss: 791.7727 - val_output_range_loss: 1.0729 - val_output_cont_range_loss: 790.6997 - val_output_range_accuracy: 0.6028 - val_output_range_mae: 0.2611 - val_output_cont_range_accuracy: 0.0000e+00 - val_output_cont_range_mae: 17.4266 - lr: 0.0010\n",
      "Epoch 24/200\n",
      "63/63 [==============================] - 2s 32ms/step - loss: 717.3642 - output_range_loss: 1.0479 - output_cont_range_loss: 716.3160 - output_range_accuracy: 0.5427 - output_range_mae: 0.2716 - output_cont_range_accuracy: 0.0000e+00 - output_cont_range_mae: 16.7170 - val_loss: 830.6287 - val_output_range_loss: 0.9929 - val_output_cont_range_loss: 829.6360 - val_output_range_accuracy: 0.5908 - val_output_range_mae: 0.2678 - val_output_cont_range_accuracy: 0.0000e+00 - val_output_cont_range_mae: 17.1103 - lr: 0.0010\n",
      "Epoch 25/200\n",
      "63/63 [==============================] - 2s 31ms/step - loss: 649.5236 - output_range_loss: 1.0889 - output_cont_range_loss: 648.4347 - output_range_accuracy: 0.5397 - output_range_mae: 0.2705 - output_cont_range_accuracy: 0.0000e+00 - output_cont_range_mae: 16.1666 - val_loss: 826.3741 - val_output_range_loss: 0.9809 - val_output_cont_range_loss: 825.3931 - val_output_range_accuracy: 0.6028 - val_output_range_mae: 0.2646 - val_output_cont_range_accuracy: 0.0000e+00 - val_output_cont_range_mae: 17.3620 - lr: 0.0010\n",
      "Epoch 26/200\n",
      "63/63 [==============================] - 3s 43ms/step - loss: 701.9167 - output_range_loss: 1.0242 - output_cont_range_loss: 700.8926 - output_range_accuracy: 0.5637 - output_range_mae: 0.2695 - output_cont_range_accuracy: 0.0000e+00 - output_cont_range_mae: 16.6679 - val_loss: 740.0255 - val_output_range_loss: 0.9206 - val_output_cont_range_loss: 739.1049 - val_output_range_accuracy: 0.6188 - val_output_range_mae: 0.2475 - val_output_cont_range_accuracy: 0.0000e+00 - val_output_cont_range_mae: 16.6318 - lr: 0.0010\n",
      "Epoch 27/200\n",
      "63/63 [==============================] - 2s 35ms/step - loss: 693.2362 - output_range_loss: 1.0441 - output_cont_range_loss: 692.1921 - output_range_accuracy: 0.5567 - output_range_mae: 0.2706 - output_cont_range_accuracy: 0.0000e+00 - output_cont_range_mae: 16.7820 - val_loss: 886.4641 - val_output_range_loss: 0.9543 - val_output_cont_range_loss: 885.5098 - val_output_range_accuracy: 0.5409 - val_output_range_mae: 0.2532 - val_output_cont_range_accuracy: 0.0000e+00 - val_output_cont_range_mae: 17.9148 - lr: 0.0010\n",
      "Epoch 28/200\n",
      "63/63 [==============================] - 2s 38ms/step - loss: 639.8660 - output_range_loss: 1.0635 - output_cont_range_loss: 638.8024 - output_range_accuracy: 0.5367 - output_range_mae: 0.2687 - output_cont_range_accuracy: 0.0000e+00 - output_cont_range_mae: 16.0738 - val_loss: 856.1356 - val_output_range_loss: 1.0827 - val_output_cont_range_loss: 855.0529 - val_output_range_accuracy: 0.5549 - val_output_range_mae: 0.2529 - val_output_cont_range_accuracy: 0.0000e+00 - val_output_cont_range_mae: 17.8301 - lr: 0.0010\n",
      "Epoch 29/200\n",
      "63/63 [==============================] - 2s 37ms/step - loss: 652.9974 - output_range_loss: 1.0649 - output_cont_range_loss: 651.9326 - output_range_accuracy: 0.5437 - output_range_mae: 0.2670 - output_cont_range_accuracy: 0.0000e+00 - output_cont_range_mae: 15.9995 - val_loss: 782.8298 - val_output_range_loss: 0.9554 - val_output_cont_range_loss: 781.8746 - val_output_range_accuracy: 0.6068 - val_output_range_mae: 0.2556 - val_output_cont_range_accuracy: 0.0000e+00 - val_output_cont_range_mae: 17.8276 - lr: 0.0010\n",
      "Epoch 30/200\n",
      "63/63 [==============================] - 2s 35ms/step - loss: 645.0689 - output_range_loss: 1.0202 - output_cont_range_loss: 644.0489 - output_range_accuracy: 0.5672 - output_range_mae: 0.2645 - output_cont_range_accuracy: 0.0000e+00 - output_cont_range_mae: 16.0461 - val_loss: 792.1161 - val_output_range_loss: 0.9563 - val_output_cont_range_loss: 791.1599 - val_output_range_accuracy: 0.6048 - val_output_range_mae: 0.2570 - val_output_cont_range_accuracy: 0.0000e+00 - val_output_cont_range_mae: 17.0404 - lr: 0.0010\n",
      "Epoch 31/200\n",
      "63/63 [==============================] - 3s 48ms/step - loss: 619.2791 - output_range_loss: 1.0313 - output_cont_range_loss: 618.2479 - output_range_accuracy: 0.5577 - output_range_mae: 0.2670 - output_cont_range_accuracy: 0.0000e+00 - output_cont_range_mae: 16.0886 - val_loss: 817.9625 - val_output_range_loss: 0.9397 - val_output_cont_range_loss: 817.0226 - val_output_range_accuracy: 0.6028 - val_output_range_mae: 0.2525 - val_output_cont_range_accuracy: 0.0000e+00 - val_output_cont_range_mae: 16.8247 - lr: 0.0010\n",
      "Epoch 32/200\n",
      "63/63 [==============================] - 3s 49ms/step - loss: 631.3837 - output_range_loss: 1.0168 - output_cont_range_loss: 630.3669 - output_range_accuracy: 0.5682 - output_range_mae: 0.2629 - output_cont_range_accuracy: 0.0000e+00 - output_cont_range_mae: 15.8582 - val_loss: 893.3337 - val_output_range_loss: 1.0196 - val_output_cont_range_loss: 892.3141 - val_output_range_accuracy: 0.5808 - val_output_range_mae: 0.2645 - val_output_cont_range_accuracy: 0.0000e+00 - val_output_cont_range_mae: 17.5581 - lr: 0.0010\n",
      "Epoch 33/200\n",
      "63/63 [==============================] - 2s 39ms/step - loss: 603.2283 - output_range_loss: 1.0854 - output_cont_range_loss: 602.1429 - output_range_accuracy: 0.5387 - output_range_mae: 0.2670 - output_cont_range_accuracy: 0.0000e+00 - output_cont_range_mae: 15.6112 - val_loss: 839.6791 - val_output_range_loss: 0.9902 - val_output_cont_range_loss: 838.6890 - val_output_range_accuracy: 0.5489 - val_output_range_mae: 0.2302 - val_output_cont_range_accuracy: 0.0000e+00 - val_output_cont_range_mae: 17.1365 - lr: 0.0010\n",
      "Epoch 34/200\n",
      "63/63 [==============================] - 2s 37ms/step - loss: 625.3797 - output_range_loss: 1.0173 - output_cont_range_loss: 624.3625 - output_range_accuracy: 0.5722 - output_range_mae: 0.2599 - output_cont_range_accuracy: 0.0000e+00 - output_cont_range_mae: 15.7129 - val_loss: 768.8887 - val_output_range_loss: 0.9362 - val_output_cont_range_loss: 767.9524 - val_output_range_accuracy: 0.6048 - val_output_range_mae: 0.2444 - val_output_cont_range_accuracy: 0.0000e+00 - val_output_cont_range_mae: 16.4241 - lr: 0.0010\n",
      "Epoch 35/200\n",
      "63/63 [==============================] - 3s 42ms/step - loss: 583.3837 - output_range_loss: 1.0000 - output_cont_range_loss: 582.3835 - output_range_accuracy: 0.5632 - output_range_mae: 0.2608 - output_cont_range_accuracy: 0.0000e+00 - output_cont_range_mae: 15.2632 - val_loss: 907.7029 - val_output_range_loss: 0.9723 - val_output_cont_range_loss: 906.7307 - val_output_range_accuracy: 0.5549 - val_output_range_mae: 0.2454 - val_output_cont_range_accuracy: 0.0000e+00 - val_output_cont_range_mae: 20.5993 - lr: 0.0010\n",
      "Epoch 36/200\n",
      "62/63 [============================>.] - ETA: 0s - loss: 518.2925 - output_range_loss: 0.9963 - output_cont_range_loss: 517.2963 - output_range_accuracy: 0.5660 - output_range_mae: 0.2570 - output_cont_range_accuracy: 0.0000e+00 - output_cont_range_mae: 14.5618\n",
      "Epoch 36: ReduceLROnPlateau reducing learning rate to 0.0005000000237487257.\n",
      "63/63 [==============================] - 3s 47ms/step - loss: 518.3285 - output_range_loss: 0.9924 - output_cont_range_loss: 517.3361 - output_range_accuracy: 0.5682 - output_range_mae: 0.2563 - output_cont_range_accuracy: 0.0000e+00 - output_cont_range_mae: 14.5632 - val_loss: 773.2077 - val_output_range_loss: 0.9777 - val_output_cont_range_loss: 772.2299 - val_output_range_accuracy: 0.6028 - val_output_range_mae: 0.2396 - val_output_cont_range_accuracy: 0.0000e+00 - val_output_cont_range_mae: 16.6104 - lr: 0.0010\n",
      "Epoch 37/200\n",
      "63/63 [==============================] - 3s 53ms/step - loss: 573.3150 - output_range_loss: 0.9621 - output_cont_range_loss: 572.3530 - output_range_accuracy: 0.5967 - output_range_mae: 0.2514 - output_cont_range_accuracy: 0.0000e+00 - output_cont_range_mae: 14.9221 - val_loss: 757.5229 - val_output_range_loss: 0.9404 - val_output_cont_range_loss: 756.5824 - val_output_range_accuracy: 0.6507 - val_output_range_mae: 0.2436 - val_output_cont_range_accuracy: 0.0000e+00 - val_output_cont_range_mae: 16.6748 - lr: 5.0000e-04\n",
      "Epoch 38/200\n",
      "63/63 [==============================] - 2s 37ms/step - loss: 549.0204 - output_range_loss: 0.9606 - output_cont_range_loss: 548.0597 - output_range_accuracy: 0.5842 - output_range_mae: 0.2521 - output_cont_range_accuracy: 0.0000e+00 - output_cont_range_mae: 14.8420 - val_loss: 774.8220 - val_output_range_loss: 0.9571 - val_output_cont_range_loss: 773.8649 - val_output_range_accuracy: 0.6028 - val_output_range_mae: 0.2488 - val_output_cont_range_accuracy: 0.0000e+00 - val_output_cont_range_mae: 16.6139 - lr: 5.0000e-04\n",
      "Epoch 39/200\n",
      "63/63 [==============================] - 2s 36ms/step - loss: 494.2983 - output_range_loss: 0.9275 - output_cont_range_loss: 493.3709 - output_range_accuracy: 0.6082 - output_range_mae: 0.2474 - output_cont_range_accuracy: 0.0000e+00 - output_cont_range_mae: 14.0078 - val_loss: 848.5176 - val_output_range_loss: 0.9408 - val_output_cont_range_loss: 847.5768 - val_output_range_accuracy: 0.6068 - val_output_range_mae: 0.2495 - val_output_cont_range_accuracy: 0.0000e+00 - val_output_cont_range_mae: 16.9104 - lr: 5.0000e-04\n",
      "Epoch 40/200\n",
      "63/63 [==============================] - 2s 35ms/step - loss: 484.2259 - output_range_loss: 0.9440 - output_cont_range_loss: 483.2819 - output_range_accuracy: 0.5997 - output_range_mae: 0.2478 - output_cont_range_accuracy: 0.0000e+00 - output_cont_range_mae: 14.1245 - val_loss: 799.3686 - val_output_range_loss: 0.9380 - val_output_cont_range_loss: 798.4305 - val_output_range_accuracy: 0.6367 - val_output_range_mae: 0.2443 - val_output_cont_range_accuracy: 0.0000e+00 - val_output_cont_range_mae: 16.8158 - lr: 5.0000e-04\n",
      "Epoch 41/200\n",
      "63/63 [==============================] - 2s 33ms/step - loss: 481.6980 - output_range_loss: 0.9568 - output_cont_range_loss: 480.7413 - output_range_accuracy: 0.5987 - output_range_mae: 0.2466 - output_cont_range_accuracy: 0.0000e+00 - output_cont_range_mae: 13.7197 - val_loss: 792.2398 - val_output_range_loss: 1.0169 - val_output_cont_range_loss: 791.2230 - val_output_range_accuracy: 0.6128 - val_output_range_mae: 0.2384 - val_output_cont_range_accuracy: 0.0000e+00 - val_output_cont_range_mae: 17.2206 - lr: 5.0000e-04\n",
      "Epoch 42/200\n",
      "63/63 [==============================] - 2s 32ms/step - loss: 475.1593 - output_range_loss: 0.9196 - output_cont_range_loss: 474.2397 - output_range_accuracy: 0.6062 - output_range_mae: 0.2412 - output_cont_range_accuracy: 0.0000e+00 - output_cont_range_mae: 13.8170 - val_loss: 812.2929 - val_output_range_loss: 0.9711 - val_output_cont_range_loss: 811.3218 - val_output_range_accuracy: 0.6307 - val_output_range_mae: 0.2570 - val_output_cont_range_accuracy: 0.0000e+00 - val_output_cont_range_mae: 17.2665 - lr: 5.0000e-04\n",
      "Epoch 43/200\n",
      "63/63 [==============================] - 2s 30ms/step - loss: 433.2047 - output_range_loss: 0.9087 - output_cont_range_loss: 432.2961 - output_range_accuracy: 0.6147 - output_range_mae: 0.2427 - output_cont_range_accuracy: 0.0000e+00 - output_cont_range_mae: 13.4743 - val_loss: 783.5118 - val_output_range_loss: 0.9276 - val_output_cont_range_loss: 782.5843 - val_output_range_accuracy: 0.6347 - val_output_range_mae: 0.2448 - val_output_cont_range_accuracy: 0.0000e+00 - val_output_cont_range_mae: 16.4206 - lr: 5.0000e-04\n",
      "Epoch 44/200\n",
      "63/63 [==============================] - 2s 30ms/step - loss: 450.8932 - output_range_loss: 0.8925 - output_cont_range_loss: 450.0006 - output_range_accuracy: 0.6207 - output_range_mae: 0.2420 - output_cont_range_accuracy: 0.0000e+00 - output_cont_range_mae: 13.7715 - val_loss: 766.1710 - val_output_range_loss: 0.9336 - val_output_cont_range_loss: 765.2375 - val_output_range_accuracy: 0.5968 - val_output_range_mae: 0.2394 - val_output_cont_range_accuracy: 0.0000e+00 - val_output_cont_range_mae: 16.2404 - lr: 5.0000e-04\n",
      "Epoch 45/200\n",
      "63/63 [==============================] - 2s 31ms/step - loss: 486.0819 - output_range_loss: 0.8971 - output_cont_range_loss: 485.1848 - output_range_accuracy: 0.6197 - output_range_mae: 0.2397 - output_cont_range_accuracy: 0.0000e+00 - output_cont_range_mae: 13.7609 - val_loss: 735.6608 - val_output_range_loss: 0.9566 - val_output_cont_range_loss: 734.7041 - val_output_range_accuracy: 0.6188 - val_output_range_mae: 0.2411 - val_output_cont_range_accuracy: 0.0000e+00 - val_output_cont_range_mae: 15.8615 - lr: 5.0000e-04\n",
      "Epoch 46/200\n",
      "63/63 [==============================] - 2s 31ms/step - loss: 439.5500 - output_range_loss: 0.9007 - output_cont_range_loss: 438.6493 - output_range_accuracy: 0.6127 - output_range_mae: 0.2397 - output_cont_range_accuracy: 0.0000e+00 - output_cont_range_mae: 13.3312 - val_loss: 792.1735 - val_output_range_loss: 0.9118 - val_output_cont_range_loss: 791.2617 - val_output_range_accuracy: 0.6208 - val_output_range_mae: 0.2353 - val_output_cont_range_accuracy: 0.0000e+00 - val_output_cont_range_mae: 16.6810 - lr: 5.0000e-04\n",
      "Epoch 47/200\n",
      "63/63 [==============================] - 2s 30ms/step - loss: 457.4294 - output_range_loss: 0.9081 - output_cont_range_loss: 456.5213 - output_range_accuracy: 0.6092 - output_range_mae: 0.2416 - output_cont_range_accuracy: 0.0000e+00 - output_cont_range_mae: 13.6919 - val_loss: 947.3502 - val_output_range_loss: 0.9161 - val_output_cont_range_loss: 946.4340 - val_output_range_accuracy: 0.6387 - val_output_range_mae: 0.2476 - val_output_cont_range_accuracy: 0.0000e+00 - val_output_cont_range_mae: 19.3332 - lr: 5.0000e-04\n",
      "Epoch 48/200\n",
      "63/63 [==============================] - 2s 27ms/step - loss: 476.3892 - output_range_loss: 0.8788 - output_cont_range_loss: 475.5105 - output_range_accuracy: 0.6172 - output_range_mae: 0.2374 - output_cont_range_accuracy: 0.0000e+00 - output_cont_range_mae: 13.9360 - val_loss: 816.7021 - val_output_range_loss: 0.9120 - val_output_cont_range_loss: 815.7902 - val_output_range_accuracy: 0.6647 - val_output_range_mae: 0.2349 - val_output_cont_range_accuracy: 0.0000e+00 - val_output_cont_range_mae: 17.2107 - lr: 5.0000e-04\n",
      "Epoch 49/200\n",
      "63/63 [==============================] - 2s 28ms/step - loss: 431.2672 - output_range_loss: 0.8838 - output_cont_range_loss: 430.3832 - output_range_accuracy: 0.6362 - output_range_mae: 0.2341 - output_cont_range_accuracy: 0.0000e+00 - output_cont_range_mae: 13.3236 - val_loss: 769.9449 - val_output_range_loss: 0.9571 - val_output_cont_range_loss: 768.9877 - val_output_range_accuracy: 0.6248 - val_output_range_mae: 0.2388 - val_output_cont_range_accuracy: 0.0000e+00 - val_output_cont_range_mae: 16.0703 - lr: 5.0000e-04\n",
      "Epoch 50/200\n",
      "63/63 [==============================] - 2s 33ms/step - loss: 433.7101 - output_range_loss: 0.8950 - output_cont_range_loss: 432.8153 - output_range_accuracy: 0.6182 - output_range_mae: 0.2336 - output_cont_range_accuracy: 0.0000e+00 - output_cont_range_mae: 13.5566 - val_loss: 790.8751 - val_output_range_loss: 0.9208 - val_output_cont_range_loss: 789.9543 - val_output_range_accuracy: 0.6228 - val_output_range_mae: 0.2334 - val_output_cont_range_accuracy: 0.0000e+00 - val_output_cont_range_mae: 16.1982 - lr: 5.0000e-04\n",
      "Epoch 51/200\n",
      "63/63 [==============================] - 2s 34ms/step - loss: 398.0618 - output_range_loss: 0.8832 - output_cont_range_loss: 397.1786 - output_range_accuracy: 0.6232 - output_range_mae: 0.2330 - output_cont_range_accuracy: 0.0000e+00 - output_cont_range_mae: 13.0323 - val_loss: 778.6838 - val_output_range_loss: 0.9762 - val_output_cont_range_loss: 777.7076 - val_output_range_accuracy: 0.6407 - val_output_range_mae: 0.2271 - val_output_cont_range_accuracy: 0.0000e+00 - val_output_cont_range_mae: 16.4008 - lr: 5.0000e-04\n",
      "Epoch 52/200\n",
      "63/63 [==============================] - 2s 34ms/step - loss: 405.2747 - output_range_loss: 0.8693 - output_cont_range_loss: 404.4055 - output_range_accuracy: 0.6202 - output_range_mae: 0.2331 - output_cont_range_accuracy: 0.0000e+00 - output_cont_range_mae: 13.1134 - val_loss: 762.0087 - val_output_range_loss: 0.9094 - val_output_cont_range_loss: 761.0993 - val_output_range_accuracy: 0.6387 - val_output_range_mae: 0.2320 - val_output_cont_range_accuracy: 0.0000e+00 - val_output_cont_range_mae: 15.8873 - lr: 5.0000e-04\n",
      "Epoch 53/200\n",
      "63/63 [==============================] - 2s 32ms/step - loss: 408.1141 - output_range_loss: 0.8809 - output_cont_range_loss: 407.2331 - output_range_accuracy: 0.6427 - output_range_mae: 0.2313 - output_cont_range_accuracy: 0.0000e+00 - output_cont_range_mae: 13.0003 - val_loss: 793.8209 - val_output_range_loss: 0.9239 - val_output_cont_range_loss: 792.8970 - val_output_range_accuracy: 0.6367 - val_output_range_mae: 0.2283 - val_output_cont_range_accuracy: 0.0000e+00 - val_output_cont_range_mae: 16.2737 - lr: 5.0000e-04\n",
      "Epoch 54/200\n",
      "63/63 [==============================] - 2s 31ms/step - loss: 417.4492 - output_range_loss: 0.8856 - output_cont_range_loss: 416.5637 - output_range_accuracy: 0.6302 - output_range_mae: 0.2332 - output_cont_range_accuracy: 0.0000e+00 - output_cont_range_mae: 13.2667 - val_loss: 845.0848 - val_output_range_loss: 0.9069 - val_output_cont_range_loss: 844.1777 - val_output_range_accuracy: 0.6188 - val_output_range_mae: 0.2263 - val_output_cont_range_accuracy: 0.0000e+00 - val_output_cont_range_mae: 17.9616 - lr: 5.0000e-04\n",
      "Epoch 55/200\n",
      "61/63 [============================>.] - ETA: 0s - loss: 390.4437 - output_range_loss: 0.8677 - output_cont_range_loss: 389.5760 - output_range_accuracy: 0.6337 - output_range_mae: 0.2259 - output_cont_range_accuracy: 0.0000e+00 - output_cont_range_mae: 12.5472\n",
      "Epoch 55: ReduceLROnPlateau reducing learning rate to 0.0002500000118743628.\n",
      "63/63 [==============================] - 2s 30ms/step - loss: 390.1174 - output_range_loss: 0.8675 - output_cont_range_loss: 389.2499 - output_range_accuracy: 0.6332 - output_range_mae: 0.2264 - output_cont_range_accuracy: 0.0000e+00 - output_cont_range_mae: 12.5633 - val_loss: 797.8911 - val_output_range_loss: 0.9210 - val_output_cont_range_loss: 796.9700 - val_output_range_accuracy: 0.6307 - val_output_range_mae: 0.2327 - val_output_cont_range_accuracy: 0.0000e+00 - val_output_cont_range_mae: 16.6973 - lr: 5.0000e-04\n",
      "Epoch 56/200\n",
      "63/63 [==============================] - 2s 29ms/step - loss: 418.8698 - output_range_loss: 0.8394 - output_cont_range_loss: 418.0305 - output_range_accuracy: 0.6467 - output_range_mae: 0.2273 - output_cont_range_accuracy: 0.0000e+00 - output_cont_range_mae: 12.9592 - val_loss: 813.1514 - val_output_range_loss: 0.9160 - val_output_cont_range_loss: 812.2354 - val_output_range_accuracy: 0.6407 - val_output_range_mae: 0.2383 - val_output_cont_range_accuracy: 0.0000e+00 - val_output_cont_range_mae: 16.6388 - lr: 2.5000e-04\n",
      "Epoch 57/200\n",
      "63/63 [==============================] - 2s 32ms/step - loss: 381.1283 - output_range_loss: 0.8457 - output_cont_range_loss: 380.2827 - output_range_accuracy: 0.6367 - output_range_mae: 0.2282 - output_cont_range_accuracy: 0.0000e+00 - output_cont_range_mae: 12.3142 - val_loss: 785.1074 - val_output_range_loss: 0.9304 - val_output_cont_range_loss: 784.1771 - val_output_range_accuracy: 0.6168 - val_output_range_mae: 0.2284 - val_output_cont_range_accuracy: 0.0000e+00 - val_output_cont_range_mae: 15.8678 - lr: 2.5000e-04\n",
      "Epoch 58/200\n",
      "63/63 [==============================] - 2s 35ms/step - loss: 398.0650 - output_range_loss: 0.8711 - output_cont_range_loss: 397.1938 - output_range_accuracy: 0.6407 - output_range_mae: 0.2267 - output_cont_range_accuracy: 0.0000e+00 - output_cont_range_mae: 12.9449 - val_loss: 818.3575 - val_output_range_loss: 0.9268 - val_output_cont_range_loss: 817.4307 - val_output_range_accuracy: 0.6148 - val_output_range_mae: 0.2292 - val_output_cont_range_accuracy: 0.0000e+00 - val_output_cont_range_mae: 16.3536 - lr: 2.5000e-04\n",
      "Epoch 59/200\n",
      "63/63 [==============================] - 2s 36ms/step - loss: 370.6194 - output_range_loss: 0.8379 - output_cont_range_loss: 369.7816 - output_range_accuracy: 0.6517 - output_range_mae: 0.2208 - output_cont_range_accuracy: 0.0000e+00 - output_cont_range_mae: 12.5212 - val_loss: 763.6290 - val_output_range_loss: 0.9209 - val_output_cont_range_loss: 762.7081 - val_output_range_accuracy: 0.6447 - val_output_range_mae: 0.2219 - val_output_cont_range_accuracy: 0.0000e+00 - val_output_cont_range_mae: 15.6620 - lr: 2.5000e-04\n",
      "Epoch 60/200\n",
      "63/63 [==============================] - 3s 42ms/step - loss: 359.9328 - output_range_loss: 0.8502 - output_cont_range_loss: 359.0826 - output_range_accuracy: 0.6442 - output_range_mae: 0.2212 - output_cont_range_accuracy: 0.0000e+00 - output_cont_range_mae: 12.2286 - val_loss: 821.8408 - val_output_range_loss: 0.9153 - val_output_cont_range_loss: 820.9255 - val_output_range_accuracy: 0.6267 - val_output_range_mae: 0.2276 - val_output_cont_range_accuracy: 0.0000e+00 - val_output_cont_range_mae: 16.5080 - lr: 2.5000e-04\n",
      "Epoch 61/200\n",
      "63/63 [==============================] - 2s 32ms/step - loss: 361.7688 - output_range_loss: 0.8410 - output_cont_range_loss: 360.9278 - output_range_accuracy: 0.6482 - output_range_mae: 0.2234 - output_cont_range_accuracy: 0.0000e+00 - output_cont_range_mae: 12.2657 - val_loss: 749.1892 - val_output_range_loss: 0.9117 - val_output_cont_range_loss: 748.2775 - val_output_range_accuracy: 0.6587 - val_output_range_mae: 0.2288 - val_output_cont_range_accuracy: 0.0000e+00 - val_output_cont_range_mae: 15.2856 - lr: 2.5000e-04\n",
      "Epoch 62/200\n",
      "63/63 [==============================] - 2s 33ms/step - loss: 375.8931 - output_range_loss: 0.8189 - output_cont_range_loss: 375.0743 - output_range_accuracy: 0.6552 - output_range_mae: 0.2237 - output_cont_range_accuracy: 0.0000e+00 - output_cont_range_mae: 12.5646 - val_loss: 741.3153 - val_output_range_loss: 0.9062 - val_output_cont_range_loss: 740.4091 - val_output_range_accuracy: 0.6447 - val_output_range_mae: 0.2263 - val_output_cont_range_accuracy: 0.0000e+00 - val_output_cont_range_mae: 15.3440 - lr: 2.5000e-04\n",
      "Epoch 63/200\n",
      "63/63 [==============================] - 2s 36ms/step - loss: 360.4420 - output_range_loss: 0.8286 - output_cont_range_loss: 359.6134 - output_range_accuracy: 0.6517 - output_range_mae: 0.2256 - output_cont_range_accuracy: 0.0000e+00 - output_cont_range_mae: 12.4130 - val_loss: 773.2706 - val_output_range_loss: 0.9012 - val_output_cont_range_loss: 772.3693 - val_output_range_accuracy: 0.6567 - val_output_range_mae: 0.2273 - val_output_cont_range_accuracy: 0.0000e+00 - val_output_cont_range_mae: 15.5065 - lr: 2.5000e-04\n",
      "Epoch 64/200\n",
      "63/63 [==============================] - 2s 32ms/step - loss: 363.5220 - output_range_loss: 0.8188 - output_cont_range_loss: 362.7032 - output_range_accuracy: 0.6382 - output_range_mae: 0.2245 - output_cont_range_accuracy: 0.0000e+00 - output_cont_range_mae: 12.1691 - val_loss: 800.2956 - val_output_range_loss: 0.8949 - val_output_cont_range_loss: 799.4006 - val_output_range_accuracy: 0.6467 - val_output_range_mae: 0.2293 - val_output_cont_range_accuracy: 0.0000e+00 - val_output_cont_range_mae: 15.9900 - lr: 2.5000e-04\n",
      "Epoch 65/200\n",
      "63/63 [==============================] - ETA: 0s - loss: 367.8457 - output_range_loss: 0.8196 - output_cont_range_loss: 367.0261 - output_range_accuracy: 0.6557 - output_range_mae: 0.2244 - output_cont_range_accuracy: 0.0000e+00 - output_cont_range_mae: 12.3340\n",
      "Epoch 65: ReduceLROnPlateau reducing learning rate to 0.0001250000059371814.\n",
      "63/63 [==============================] - 2s 33ms/step - loss: 367.8457 - output_range_loss: 0.8196 - output_cont_range_loss: 367.0261 - output_range_accuracy: 0.6557 - output_range_mae: 0.2244 - output_cont_range_accuracy: 0.0000e+00 - output_cont_range_mae: 12.3340 - val_loss: 799.0809 - val_output_range_loss: 0.9082 - val_output_cont_range_loss: 798.1728 - val_output_range_accuracy: 0.6327 - val_output_range_mae: 0.2281 - val_output_cont_range_accuracy: 0.0000e+00 - val_output_cont_range_mae: 15.8711 - lr: 2.5000e-04\n"
     ]
    }
   ],
   "source": [
    "# modelCNN=tf.keras.Sequential()\n",
    "# modelCNN.add(BatchNormalization(input_shape=(128,8,1)))\n",
    "# modelCNN.add(Conv2D(filters=32,kernel_size=(2,2),strides=(1,1),padding='SAME', use_bias=False, name='conv_1'))\n",
    "# modelCNN.add(BatchNormalization())\n",
    "# modelCNN.add(Activation('relu'))\n",
    "# modelCNN.add(MaxPooling2D(2,2))\n",
    "# modelCNN.add(Conv2D(filters=32,kernel_size=(4,4),strides=(2,2), use_bias=False,\n",
    "#                          padding='SAME', name='conv_2'))\n",
    "# modelCNN.add(BatchNormalization())\n",
    "# modelCNN.add(Activation('relu'))\n",
    "# modelCNN.add(Dropout(0.3))\n",
    "# modelCNN.add(Conv2D(filters=32,kernel_size=(4,4),strides=(4,4), use_bias=False,\n",
    "#                          padding='SAME', name='conv_3'))\n",
    "# modelCNN.add(BatchNormalization())\n",
    "# modelCNN.add(Activation('relu'))\n",
    "# modelCNN.add(Dropout(0.3))\n",
    "# modelCNN.add(Flatten())\n",
    "# modelCNN.add(Dense(512, activation='relu', name='dense_2'))\n",
    "# modelCNN.add(Dense(256, activation='relu', name='dense_3'))\n",
    "# modelCNN.add(Dropout(0.5))\n",
    "# modelCNN.add(Dense(4, activation='softmax', name='dense_4'))\n",
    "#modelCNN=tf.keras.Functional()\n",
    "inputs= Input(shape=(128,8,1),name='input')\n",
    "hidden=BatchNormalization(input_shape=(128,8,1))(inputs)\n",
    "hidden=Conv2D(filters=32,kernel_size=(2,2),strides=(1,1),padding='SAME', use_bias=False, name='conv_1')(hidden)\n",
    "hidden=BatchNormalization()(hidden)\n",
    "hidden=Activation('relu')(hidden)\n",
    "hidden=MaxPooling2D(2,2)(hidden)\n",
    "hidden=Conv2D(filters=32,kernel_size=(4,4),strides=(2,2), use_bias=False,\n",
    "                         padding='SAME', name='conv_2')(hidden)\n",
    "hidden=BatchNormalization()(hidden)\n",
    "hidden=Activation('relu')(hidden)\n",
    "hidden=Dropout(0.3)(hidden)\n",
    "hidden=Conv2D(filters=32,kernel_size=(4,4),strides=(4,4), use_bias=False,\n",
    "                         padding='SAME', name='conv_3')(hidden)\n",
    "hidden=BatchNormalization()(hidden)\n",
    "hidden=Activation('relu')(hidden)\n",
    "hidden=Dropout(0.3)(hidden)\n",
    "hidden=Flatten()(hidden)\n",
    "hidden=Dense(512, activation='relu', name='dense_2')(hidden)\n",
    "hidden=Dense(256, activation='relu', name='dense_3')(hidden)\n",
    "hidden=Dropout(0.5)(hidden)\n",
    "output1=Dense(4, activation='softmax', name='output_range')(hidden)\n",
    "#output2=Dense(3,activation='softmax',name=\"output_class\")(hidden)\n",
    "output3=Dense(1,activation='linear',name=\"output_cont_range\")(hidden)\n",
    "\n",
    "\n",
    "modelCNN=Model(inputs=inputs,outputs=[output1,output3])\n",
    "optimizer= tf.keras.optimizers.Adam()\n",
    "modelCNN.compile(loss={'output_range':'categorical_crossentropy',\n",
    "                       'output_cont_range':'mse'},optimizer=optimizer,metrics=['accuracy','mae'])\n",
    "\n",
    "\n",
    "reduceLR = tf.keras.callbacks.ReduceLROnPlateau(monitor='val_loss', factor=0.5,\n",
    "                                 verbose=1, patience=10, mode='auto')\n",
    "early = tf.keras.callbacks.EarlyStopping(monitor='val_loss', min_delta=1e-4,\n",
    "                          patience=20, mode='auto', restore_best_weights=True)\n",
    "modelCNN.build(input_shape=(None,128,8,1))\n",
    "modelCNN.summary()\n",
    "history = modelCNN.fit(train_feats, {'output_range':range_train_targs_oh,'output_cont_range': cont_range_train_targs},\n",
    "                      epochs=200,\n",
    "                      batch_size=32,\n",
    "                      shuffle=True,\n",
    "                      #class_weight={'output_1':range_weights,'output_2': class_weights},\n",
    "                      validation_split=0.2,\n",
    "                      callbacks=[reduceLR, early])"
   ],
   "metadata": {
    "collapsed": false,
    "pycharm": {
     "name": "#%%\n"
    }
   }
  },
  {
   "cell_type": "code",
   "execution_count": 49,
   "outputs": [
    {
     "name": "stdout",
     "output_type": "stream",
     "text": [
      "20/20 [==============================] - 0s 6ms/step\n",
      "20/20 [==============================] - 0s 6ms/step - loss: 580.4619 - output_range_loss: 0.8706 - output_cont_range_loss: 579.5912 - output_range_accuracy: 0.6565 - output_range_mae: 0.2323 - output_cont_range_accuracy: 0.0000e+00 - output_cont_range_mae: 13.5754\n",
      "20/20 [==============================] - 0s 5ms/step\n"
     ]
    }
   ],
   "source": [
    "score = modelCNN.predict(test_feats)\n",
    "modelCNN.evaluate(test_feats,y={'output_range':range_test_targs_oh,'output_cont_range':cont_range_test_targs})\n",
    "test_predictions=modelCNN.predict(test_feats)"
   ],
   "metadata": {
    "collapsed": false,
    "pycharm": {
     "name": "#%%\n"
    }
   }
  },
  {
   "cell_type": "code",
   "execution_count": 50,
   "outputs": [
    {
     "data": {
      "text/plain": "Text(0.5, 1.0, 'Refined Confusion Matrix')"
     },
     "execution_count": 50,
     "metadata": {},
     "output_type": "execute_result"
    },
    {
     "data": {
      "text/plain": "<Figure size 360x360 with 2 Axes>",
      "image/png": "[encoded data removed]"
     },
     "metadata": {
      "needs_background": "light"
     },
     "output_type": "display_data"
    }
   ],
   "source": [
    "from sklearn.metrics import confusion_matrix\n",
    "y_pred = np.argmax(test_predictions[0],axis=-1)\n",
    "y_true=np.argmax(range_test_targs_oh, axis=-1)\n",
    "cm = confusion_matrix(y_true, y_pred)\n",
    "## Get Class Labels\n",
    "class_names = [\"<40\",\"40-60\",\"60-80\",\">80\"]\n",
    "# Plot confusion matrix in a beautiful manner\n",
    "fig = plt.figure(figsize=(5, 5))\n",
    "ax= plt.subplot()\n",
    "sns.heatmap(cm, annot=True, ax = ax, fmt = 'g'); #annot=True to annotate cells\n",
    "# labels, title and ticks\n",
    "ax.set_xlabel('Predicted', fontsize=20)\n",
    "ax.xaxis.set_label_position('bottom')\n",
    "plt.xticks(rotation=90)\n",
    "ax.xaxis.set_ticklabels(class_names, fontsize = 10)\n",
    "ax.xaxis.tick_bottom()\n",
    "\n",
    "ax.set_ylabel('True', fontsize=20)\n",
    "ax.yaxis.set_ticklabels(class_names, fontsize = 10)\n",
    "plt.yticks(rotation=0)\n",
    "\n",
    "plt.title('Refined Confusion Matrix', fontsize=20)"
   ],
   "metadata": {
    "collapsed": false,
    "pycharm": {
     "name": "#%%\n"
    }
   }
  },
  {
   "cell_type": "code",
   "execution_count": 52,
   "outputs": [
    {
     "name": "stdout",
     "output_type": "stream",
     "text": [
      "              precision    recall  f1-score   support\n",
      "\n",
      "           0       0.88      0.78      0.83       282\n",
      "           1       0.46      0.73      0.56       137\n",
      "           2       0.00      0.00      0.00        97\n",
      "           3       0.57      0.82      0.67       110\n",
      "\n",
      "    accuracy                           0.66       626\n",
      "   macro avg       0.48      0.58      0.52       626\n",
      "weighted avg       0.60      0.66      0.61       626\n",
      "\n"
     ]
    },
    {
     "name": "stderr",
     "output_type": "stream",
     "text": [
      "C:\\Users\\rclendening\\AppData\\Local\\Programs\\Python\\Python39\\lib\\site-packages\\sklearn\\metrics\\_classification.py:1318: UndefinedMetricWarning: Precision and F-score are ill-defined and being set to 0.0 in labels with no predicted samples. Use `zero_division` parameter to control this behavior.\n",
      "  _warn_prf(average, modifier, msg_start, len(result))\n",
      "C:\\Users\\rclendening\\AppData\\Local\\Programs\\Python\\Python39\\lib\\site-packages\\sklearn\\metrics\\_classification.py:1318: UndefinedMetricWarning: Precision and F-score are ill-defined and being set to 0.0 in labels with no predicted samples. Use `zero_division` parameter to control this behavior.\n",
      "  _warn_prf(average, modifier, msg_start, len(result))\n",
      "C:\\Users\\rclendening\\AppData\\Local\\Programs\\Python\\Python39\\lib\\site-packages\\sklearn\\metrics\\_classification.py:1318: UndefinedMetricWarning: Precision and F-score are ill-defined and being set to 0.0 in labels with no predicted samples. Use `zero_division` parameter to control this behavior.\n",
      "  _warn_prf(average, modifier, msg_start, len(result))\n"
     ]
    }
   ],
   "source": [
    "print(classification_report(y_true=y_true,y_pred=y_pred)) #this is using the multi-output regression/classification"
   ],
   "metadata": {
    "collapsed": false,
    "pycharm": {
     "name": "#%%\n"
    }
   }
  },
  {
   "cell_type": "markdown",
   "source": [
    "# Multiclass classification"
   ],
   "metadata": {
    "collapsed": false,
    "pycharm": {
     "name": "#%% md\n"
    }
   }
  },
  {
   "cell_type": "code",
   "execution_count": 107,
   "outputs": [
    {
     "name": "stdout",
     "output_type": "stream",
     "text": [
      "Model: \"sequential_1\"\n",
      "_________________________________________________________________\n",
      " Layer (type)                Output Shape              Param #   \n",
      "=================================================================\n",
      " batch_normalization_80 (Bat  (None, 128, 8, 1)        4         \n",
      " chNormalization)                                                \n",
      "                                                                 \n",
      " conv_1 (Conv2D)             (None, 128, 8, 32)        128       \n",
      "                                                                 \n",
      " batch_normalization_81 (Bat  (None, 128, 8, 32)       128       \n",
      " chNormalization)                                                \n",
      "                                                                 \n",
      " activation_61 (Activation)  (None, 128, 8, 32)        0         \n",
      "                                                                 \n",
      " max_pooling2d_19 (MaxPoolin  (None, 64, 4, 32)        0         \n",
      " g2D)                                                            \n",
      "                                                                 \n",
      " conv_2 (Conv2D)             (None, 32, 2, 32)         16384     \n",
      "                                                                 \n",
      " batch_normalization_82 (Bat  (None, 32, 2, 32)        128       \n",
      " chNormalization)                                                \n",
      "                                                                 \n",
      " activation_62 (Activation)  (None, 32, 2, 32)         0         \n",
      "                                                                 \n",
      " dropout_55 (Dropout)        (None, 32, 2, 32)         0         \n",
      "                                                                 \n",
      " conv_3 (Conv2D)             (None, 8, 1, 32)          16384     \n",
      "                                                                 \n",
      " batch_normalization_83 (Bat  (None, 8, 1, 32)         128       \n",
      " chNormalization)                                                \n",
      "                                                                 \n",
      " activation_63 (Activation)  (None, 8, 1, 32)          0         \n",
      "                                                                 \n",
      " dropout_56 (Dropout)        (None, 8, 1, 32)          0         \n",
      "                                                                 \n",
      " flatten_19 (Flatten)        (None, 256)               0         \n",
      "                                                                 \n",
      " dense_2 (Dense)             (None, 512)               131584    \n",
      "                                                                 \n",
      " dense_3 (Dense)             (None, 256)               131328    \n",
      "                                                                 \n",
      " dropout_57 (Dropout)        (None, 256)               0         \n",
      "                                                                 \n",
      " output_range (Dense)        (None, 7)                 1799      \n",
      "                                                                 \n",
      "=================================================================\n",
      "Total params: 297,995\n",
      "Trainable params: 297,801\n",
      "Non-trainable params: 194\n",
      "_________________________________________________________________\n",
      "Epoch 1/200\n",
      "211/211 [==============================] - 7s 30ms/step - loss: 1.8098 - accuracy: 0.3636 - val_loss: 1.6242 - val_accuracy: 0.4320 - lr: 0.0010\n",
      "Epoch 2/200\n",
      "211/211 [==============================] - 6s 30ms/step - loss: 1.6088 - accuracy: 0.4387 - val_loss: 1.4689 - val_accuracy: 0.4688 - lr: 0.0010\n",
      "Epoch 3/200\n",
      "211/211 [==============================] - 7s 32ms/step - loss: 1.5304 - accuracy: 0.4787 - val_loss: 1.4677 - val_accuracy: 0.4349 - lr: 0.0010\n",
      "Epoch 4/200\n",
      "211/211 [==============================] - 6s 28ms/step - loss: 1.4643 - accuracy: 0.4958 - val_loss: 1.3964 - val_accuracy: 0.4908 - lr: 0.0010\n",
      "Epoch 5/200\n",
      "211/211 [==============================] - 6s 29ms/step - loss: 1.4047 - accuracy: 0.5234 - val_loss: 1.2854 - val_accuracy: 0.5163 - lr: 0.0010\n",
      "Epoch 6/200\n",
      "211/211 [==============================] - 7s 32ms/step - loss: 1.3650 - accuracy: 0.5372 - val_loss: 1.1683 - val_accuracy: 0.5585 - lr: 0.0010\n",
      "Epoch 7/200\n",
      "211/211 [==============================] - 5s 26ms/step - loss: 1.3244 - accuracy: 0.5528 - val_loss: 1.1886 - val_accuracy: 0.5639 - lr: 0.0010\n",
      "Epoch 8/200\n",
      "211/211 [==============================] - 7s 34ms/step - loss: 1.3112 - accuracy: 0.5580 - val_loss: 1.8735 - val_accuracy: 0.4498 - lr: 0.0010\n",
      "Epoch 9/200\n",
      "211/211 [==============================] - 7s 31ms/step - loss: 1.2728 - accuracy: 0.5686 - val_loss: 1.0580 - val_accuracy: 0.6037 - lr: 0.0010\n",
      "Epoch 10/200\n",
      "211/211 [==============================] - 6s 28ms/step - loss: 1.2308 - accuracy: 0.5776 - val_loss: 2.4107 - val_accuracy: 0.3969 - lr: 0.0010\n",
      "Epoch 11/200\n",
      "211/211 [==============================] - 6s 29ms/step - loss: 1.2172 - accuracy: 0.5870 - val_loss: 1.0599 - val_accuracy: 0.6061 - lr: 0.0010\n",
      "Epoch 12/200\n",
      "211/211 [==============================] - 6s 28ms/step - loss: 1.2044 - accuracy: 0.5956 - val_loss: 1.0840 - val_accuracy: 0.5906 - lr: 0.0010\n",
      "Epoch 13/200\n",
      "211/211 [==============================] - 7s 32ms/step - loss: 1.1789 - accuracy: 0.5881 - val_loss: 2.0635 - val_accuracy: 0.4213 - lr: 0.0010\n",
      "Epoch 14/200\n",
      "211/211 [==============================] - 6s 27ms/step - loss: 1.1597 - accuracy: 0.5970 - val_loss: 1.3600 - val_accuracy: 0.5175 - lr: 0.0010\n",
      "Epoch 15/200\n",
      "211/211 [==============================] - 5s 26ms/step - loss: 1.1391 - accuracy: 0.6038 - val_loss: 1.2125 - val_accuracy: 0.5496 - lr: 0.0010\n",
      "Epoch 16/200\n",
      "211/211 [==============================] - 6s 28ms/step - loss: 1.0992 - accuracy: 0.6164 - val_loss: 0.9586 - val_accuracy: 0.6423 - lr: 0.0010\n",
      "Epoch 17/200\n",
      "211/211 [==============================] - 6s 27ms/step - loss: 1.1071 - accuracy: 0.6172 - val_loss: 2.4203 - val_accuracy: 0.3898 - lr: 0.0010\n",
      "Epoch 18/200\n",
      "211/211 [==============================] - 6s 27ms/step - loss: 1.0859 - accuracy: 0.6261 - val_loss: 0.9331 - val_accuracy: 0.6536 - lr: 0.0010\n",
      "Epoch 19/200\n",
      "211/211 [==============================] - 6s 28ms/step - loss: 1.0865 - accuracy: 0.6285 - val_loss: 1.2458 - val_accuracy: 0.5437 - lr: 0.0010\n",
      "Epoch 20/200\n",
      "211/211 [==============================] - 6s 31ms/step - loss: 1.0506 - accuracy: 0.6300 - val_loss: 2.2470 - val_accuracy: 0.4005 - lr: 0.0010\n",
      "Epoch 21/200\n",
      "211/211 [==============================] - 6s 26ms/step - loss: 1.0403 - accuracy: 0.6361 - val_loss: 1.0321 - val_accuracy: 0.6120 - lr: 0.0010\n",
      "Epoch 22/200\n",
      "211/211 [==============================] - 6s 26ms/step - loss: 1.0108 - accuracy: 0.6478 - val_loss: 0.9986 - val_accuracy: 0.6263 - lr: 0.0010\n",
      "Epoch 23/200\n",
      "211/211 [==============================] - 6s 27ms/step - loss: 1.0271 - accuracy: 0.6386 - val_loss: 1.0575 - val_accuracy: 0.6061 - lr: 0.0010\n",
      "Epoch 24/200\n",
      "211/211 [==============================] - 5s 26ms/step - loss: 0.9948 - accuracy: 0.6493 - val_loss: 1.3057 - val_accuracy: 0.5472 - lr: 0.0010\n",
      "Epoch 25/200\n",
      "211/211 [==============================] - 6s 29ms/step - loss: 1.0027 - accuracy: 0.6442 - val_loss: 1.0252 - val_accuracy: 0.6197 - lr: 0.0010\n",
      "Epoch 26/200\n",
      "211/211 [==============================] - 8s 36ms/step - loss: 0.9918 - accuracy: 0.6441 - val_loss: 3.0057 - val_accuracy: 0.3922 - lr: 0.0010\n",
      "Epoch 27/200\n",
      "211/211 [==============================] - 7s 31ms/step - loss: 0.9578 - accuracy: 0.6561 - val_loss: 1.2678 - val_accuracy: 0.5282 - lr: 0.0010\n",
      "Epoch 28/200\n",
      "210/211 [============================>.] - ETA: 0s - loss: 0.9420 - accuracy: 0.6619\n",
      "Epoch 28: ReduceLROnPlateau reducing learning rate to 0.0005000000237487257.\n",
      "211/211 [==============================] - 6s 30ms/step - loss: 0.9419 - accuracy: 0.6621 - val_loss: 1.7021 - val_accuracy: 0.5080 - lr: 0.0010\n",
      "Epoch 29/200\n",
      "211/211 [==============================] - 6s 28ms/step - loss: 0.9112 - accuracy: 0.6739 - val_loss: 2.1312 - val_accuracy: 0.4492 - lr: 5.0000e-04\n",
      "Epoch 30/200\n",
      "211/211 [==============================] - 7s 32ms/step - loss: 0.8716 - accuracy: 0.6823 - val_loss: 1.0548 - val_accuracy: 0.6150 - lr: 5.0000e-04\n",
      "Epoch 31/200\n",
      "211/211 [==============================] - 6s 30ms/step - loss: 0.8635 - accuracy: 0.6821 - val_loss: 0.9623 - val_accuracy: 0.6494 - lr: 5.0000e-04\n",
      "Epoch 32/200\n",
      "211/211 [==============================] - 7s 32ms/step - loss: 0.8573 - accuracy: 0.6884 - val_loss: 0.8865 - val_accuracy: 0.6673 - lr: 5.0000e-04\n",
      "Epoch 33/200\n",
      "211/211 [==============================] - 8s 40ms/step - loss: 0.8364 - accuracy: 0.6959 - val_loss: 0.8788 - val_accuracy: 0.6696 - lr: 5.0000e-04\n",
      "Epoch 34/200\n",
      "211/211 [==============================] - 7s 32ms/step - loss: 0.8230 - accuracy: 0.6916 - val_loss: 0.8722 - val_accuracy: 0.6738 - lr: 5.0000e-04\n",
      "Epoch 35/200\n",
      "211/211 [==============================] - 7s 32ms/step - loss: 0.8243 - accuracy: 0.6991 - val_loss: 0.8890 - val_accuracy: 0.6643 - lr: 5.0000e-04\n",
      "Epoch 36/200\n",
      "211/211 [==============================] - 7s 32ms/step - loss: 0.8274 - accuracy: 0.6951 - val_loss: 0.9682 - val_accuracy: 0.6405 - lr: 5.0000e-04\n",
      "Epoch 37/200\n",
      "211/211 [==============================] - 6s 28ms/step - loss: 0.8054 - accuracy: 0.6997 - val_loss: 2.8698 - val_accuracy: 0.4266 - lr: 5.0000e-04\n",
      "Epoch 38/200\n",
      "211/211 [==============================] - 6s 29ms/step - loss: 0.8086 - accuracy: 0.7043 - val_loss: 0.8831 - val_accuracy: 0.6649 - lr: 5.0000e-04\n",
      "Epoch 39/200\n",
      "211/211 [==============================] - 6s 29ms/step - loss: 0.8045 - accuracy: 0.7032 - val_loss: 1.1235 - val_accuracy: 0.6061 - lr: 5.0000e-04\n",
      "Epoch 40/200\n",
      "211/211 [==============================] - 6s 30ms/step - loss: 0.7991 - accuracy: 0.7020 - val_loss: 0.9808 - val_accuracy: 0.6381 - lr: 5.0000e-04\n",
      "Epoch 41/200\n",
      "211/211 [==============================] - 7s 34ms/step - loss: 0.7841 - accuracy: 0.7101 - val_loss: 1.5739 - val_accuracy: 0.5181 - lr: 5.0000e-04\n",
      "Epoch 42/200\n",
      "211/211 [==============================] - 7s 34ms/step - loss: 0.7751 - accuracy: 0.7117 - val_loss: 2.1225 - val_accuracy: 0.4563 - lr: 5.0000e-04\n",
      "Epoch 43/200\n",
      "211/211 [==============================] - 6s 28ms/step - loss: 0.7618 - accuracy: 0.7211 - val_loss: 1.0593 - val_accuracy: 0.6168 - lr: 5.0000e-04\n",
      "Epoch 44/200\n",
      "209/211 [============================>.] - ETA: 0s - loss: 0.7636 - accuracy: 0.7186\n",
      "Epoch 44: ReduceLROnPlateau reducing learning rate to 0.0002500000118743628.\n",
      "211/211 [==============================] - 6s 28ms/step - loss: 0.7642 - accuracy: 0.7185 - val_loss: 1.4396 - val_accuracy: 0.5163 - lr: 5.0000e-04\n",
      "Epoch 45/200\n",
      "211/211 [==============================] - 6s 27ms/step - loss: 0.7429 - accuracy: 0.7240 - val_loss: 0.8934 - val_accuracy: 0.6649 - lr: 2.5000e-04\n",
      "Epoch 46/200\n",
      "211/211 [==============================] - 6s 30ms/step - loss: 0.7108 - accuracy: 0.7288 - val_loss: 1.4526 - val_accuracy: 0.5336 - lr: 2.5000e-04\n",
      "Epoch 47/200\n",
      "211/211 [==============================] - 6s 28ms/step - loss: 0.7276 - accuracy: 0.7236 - val_loss: 0.9393 - val_accuracy: 0.6524 - lr: 2.5000e-04\n",
      "Epoch 48/200\n",
      "211/211 [==============================] - 6s 30ms/step - loss: 0.7135 - accuracy: 0.7310 - val_loss: 0.9315 - val_accuracy: 0.6625 - lr: 2.5000e-04\n",
      "Epoch 49/200\n",
      "211/211 [==============================] - 7s 33ms/step - loss: 0.7078 - accuracy: 0.7321 - val_loss: 0.8706 - val_accuracy: 0.6732 - lr: 2.5000e-04\n",
      "Epoch 50/200\n",
      "211/211 [==============================] - 7s 32ms/step - loss: 0.7067 - accuracy: 0.7350 - val_loss: 0.8731 - val_accuracy: 0.6780 - lr: 2.5000e-04\n",
      "Epoch 51/200\n",
      "211/211 [==============================] - 6s 30ms/step - loss: 0.7091 - accuracy: 0.7315 - val_loss: 1.3433 - val_accuracy: 0.5716 - lr: 2.5000e-04\n",
      "Epoch 52/200\n",
      "211/211 [==============================] - 7s 32ms/step - loss: 0.6768 - accuracy: 0.7368 - val_loss: 1.3566 - val_accuracy: 0.5520 - lr: 2.5000e-04\n",
      "Epoch 53/200\n",
      "211/211 [==============================] - 6s 30ms/step - loss: 0.6912 - accuracy: 0.7328 - val_loss: 0.9908 - val_accuracy: 0.6423 - lr: 2.5000e-04\n",
      "Epoch 54/200\n",
      "211/211 [==============================] - 6s 27ms/step - loss: 0.6775 - accuracy: 0.7399 - val_loss: 0.8542 - val_accuracy: 0.6821 - lr: 2.5000e-04\n",
      "Epoch 55/200\n",
      "211/211 [==============================] - 6s 29ms/step - loss: 0.6767 - accuracy: 0.7444 - val_loss: 0.8695 - val_accuracy: 0.6869 - lr: 2.5000e-04\n",
      "Epoch 56/200\n",
      "211/211 [==============================] - 6s 27ms/step - loss: 0.6619 - accuracy: 0.7417 - val_loss: 0.8711 - val_accuracy: 0.6857 - lr: 2.5000e-04\n",
      "Epoch 57/200\n",
      "211/211 [==============================] - 6s 27ms/step - loss: 0.6834 - accuracy: 0.7402 - val_loss: 1.8227 - val_accuracy: 0.4860 - lr: 2.5000e-04\n",
      "Epoch 58/200\n",
      "211/211 [==============================] - 6s 27ms/step - loss: 0.6748 - accuracy: 0.7420 - val_loss: 0.8674 - val_accuracy: 0.6827 - lr: 2.5000e-04\n",
      "Epoch 59/200\n",
      "211/211 [==============================] - 6s 27ms/step - loss: 0.6859 - accuracy: 0.7423 - val_loss: 0.8607 - val_accuracy: 0.6845 - lr: 2.5000e-04\n",
      "Epoch 60/200\n",
      "211/211 [==============================] - 6s 28ms/step - loss: 0.6602 - accuracy: 0.7442 - val_loss: 0.8517 - val_accuracy: 0.6827 - lr: 2.5000e-04\n",
      "Epoch 61/200\n",
      "211/211 [==============================] - 6s 30ms/step - loss: 0.6701 - accuracy: 0.7457 - val_loss: 0.8654 - val_accuracy: 0.6851 - lr: 2.5000e-04\n",
      "Epoch 62/200\n",
      "211/211 [==============================] - 6s 30ms/step - loss: 0.6570 - accuracy: 0.7456 - val_loss: 0.8490 - val_accuracy: 0.6803 - lr: 2.5000e-04\n",
      "Epoch 63/200\n",
      "211/211 [==============================] - 6s 30ms/step - loss: 0.6417 - accuracy: 0.7499 - val_loss: 1.1681 - val_accuracy: 0.6144 - lr: 2.5000e-04\n",
      "Epoch 64/200\n",
      "211/211 [==============================] - 6s 30ms/step - loss: 0.6594 - accuracy: 0.7486 - val_loss: 1.0085 - val_accuracy: 0.6506 - lr: 2.5000e-04\n",
      "Epoch 65/200\n",
      "211/211 [==============================] - 6s 31ms/step - loss: 0.6550 - accuracy: 0.7512 - val_loss: 0.9060 - val_accuracy: 0.6774 - lr: 2.5000e-04\n",
      "Epoch 66/200\n",
      "211/211 [==============================] - 6s 28ms/step - loss: 0.6425 - accuracy: 0.7496 - val_loss: 0.8847 - val_accuracy: 0.6756 - lr: 2.5000e-04\n",
      "Epoch 67/200\n",
      "211/211 [==============================] - 6s 27ms/step - loss: 0.6216 - accuracy: 0.7523 - val_loss: 2.2127 - val_accuracy: 0.4783 - lr: 2.5000e-04\n",
      "Epoch 68/200\n",
      "211/211 [==============================] - 6s 28ms/step - loss: 0.6478 - accuracy: 0.7480 - val_loss: 0.9446 - val_accuracy: 0.6673 - lr: 2.5000e-04\n",
      "Epoch 69/200\n",
      "211/211 [==============================] - 6s 29ms/step - loss: 0.6383 - accuracy: 0.7505 - val_loss: 0.8644 - val_accuracy: 0.6827 - lr: 2.5000e-04\n",
      "Epoch 70/200\n",
      "211/211 [==============================] - 6s 28ms/step - loss: 0.6301 - accuracy: 0.7607 - val_loss: 0.9248 - val_accuracy: 0.6690 - lr: 2.5000e-04\n",
      "Epoch 71/200\n",
      "211/211 [==============================] - 6s 27ms/step - loss: 0.6178 - accuracy: 0.7579 - val_loss: 1.5875 - val_accuracy: 0.5270 - lr: 2.5000e-04\n",
      "Epoch 72/200\n",
      "210/211 [============================>.] - ETA: 0s - loss: 0.6273 - accuracy: 0.7628\n",
      "Epoch 72: ReduceLROnPlateau reducing learning rate to 0.0001250000059371814.\n",
      "211/211 [==============================] - 6s 27ms/step - loss: 0.6268 - accuracy: 0.7630 - val_loss: 1.0330 - val_accuracy: 0.6477 - lr: 2.5000e-04\n",
      "Epoch 73/200\n",
      "211/211 [==============================] - 6s 27ms/step - loss: 0.6119 - accuracy: 0.7643 - val_loss: 1.5122 - val_accuracy: 0.5508 - lr: 1.2500e-04\n",
      "Epoch 74/200\n",
      "211/211 [==============================] - 6s 27ms/step - loss: 0.6067 - accuracy: 0.7642 - val_loss: 0.8422 - val_accuracy: 0.6940 - lr: 1.2500e-04\n",
      "Epoch 75/200\n",
      "211/211 [==============================] - 6s 27ms/step - loss: 0.6000 - accuracy: 0.7627 - val_loss: 0.9575 - val_accuracy: 0.6679 - lr: 1.2500e-04\n",
      "Epoch 76/200\n",
      "211/211 [==============================] - 6s 27ms/step - loss: 0.5987 - accuracy: 0.7642 - val_loss: 0.8504 - val_accuracy: 0.6952 - lr: 1.2500e-04\n",
      "Epoch 77/200\n",
      "211/211 [==============================] - 6s 27ms/step - loss: 0.5973 - accuracy: 0.7708 - val_loss: 0.8735 - val_accuracy: 0.6940 - lr: 1.2500e-04\n",
      "Epoch 78/200\n",
      "211/211 [==============================] - 6s 27ms/step - loss: 0.5885 - accuracy: 0.7737 - val_loss: 0.8498 - val_accuracy: 0.6910 - lr: 1.2500e-04\n",
      "Epoch 79/200\n",
      "211/211 [==============================] - 6s 28ms/step - loss: 0.6041 - accuracy: 0.7645 - val_loss: 0.8362 - val_accuracy: 0.6892 - lr: 1.2500e-04\n",
      "Epoch 80/200\n",
      "211/211 [==============================] - 6s 28ms/step - loss: 0.5898 - accuracy: 0.7741 - val_loss: 0.8927 - val_accuracy: 0.6881 - lr: 1.2500e-04\n",
      "Epoch 81/200\n",
      "211/211 [==============================] - 6s 28ms/step - loss: 0.5916 - accuracy: 0.7698 - val_loss: 0.8695 - val_accuracy: 0.6940 - lr: 1.2500e-04\n",
      "Epoch 82/200\n",
      "211/211 [==============================] - 6s 27ms/step - loss: 0.5945 - accuracy: 0.7634 - val_loss: 1.0860 - val_accuracy: 0.6352 - lr: 1.2500e-04\n",
      "Epoch 83/200\n",
      "211/211 [==============================] - 6s 27ms/step - loss: 0.5800 - accuracy: 0.7760 - val_loss: 0.9262 - val_accuracy: 0.6851 - lr: 1.2500e-04\n",
      "Epoch 84/200\n",
      "211/211 [==============================] - 6s 28ms/step - loss: 0.5876 - accuracy: 0.7667 - val_loss: 0.8734 - val_accuracy: 0.6976 - lr: 1.2500e-04\n",
      "Epoch 85/200\n",
      "211/211 [==============================] - 6s 28ms/step - loss: 0.5821 - accuracy: 0.7702 - val_loss: 1.1273 - val_accuracy: 0.6316 - lr: 1.2500e-04\n",
      "Epoch 86/200\n",
      "211/211 [==============================] - 6s 28ms/step - loss: 0.5672 - accuracy: 0.7777 - val_loss: 0.8714 - val_accuracy: 0.6958 - lr: 1.2500e-04\n",
      "Epoch 87/200\n",
      "211/211 [==============================] - 6s 28ms/step - loss: 0.5773 - accuracy: 0.7784 - val_loss: 0.8532 - val_accuracy: 0.6898 - lr: 1.2500e-04\n",
      "Epoch 88/200\n",
      "211/211 [==============================] - 6s 28ms/step - loss: 0.5785 - accuracy: 0.7740 - val_loss: 0.8536 - val_accuracy: 0.6970 - lr: 1.2500e-04\n",
      "Epoch 89/200\n",
      "210/211 [============================>.] - ETA: 0s - loss: 0.5749 - accuracy: 0.7763\n",
      "Epoch 89: ReduceLROnPlateau reducing learning rate to 6.25000029685907e-05.\n",
      "211/211 [==============================] - 6s 27ms/step - loss: 0.5755 - accuracy: 0.7763 - val_loss: 0.8840 - val_accuracy: 0.6904 - lr: 1.2500e-04\n",
      "Epoch 90/200\n",
      "211/211 [==============================] - 6s 29ms/step - loss: 0.5673 - accuracy: 0.7833 - val_loss: 0.9304 - val_accuracy: 0.6827 - lr: 6.2500e-05\n",
      "Epoch 91/200\n",
      "211/211 [==============================] - 6s 28ms/step - loss: 0.5660 - accuracy: 0.7771 - val_loss: 1.0317 - val_accuracy: 0.6530 - lr: 6.2500e-05\n",
      "Epoch 92/200\n",
      "211/211 [==============================] - 6s 28ms/step - loss: 0.5636 - accuracy: 0.7685 - val_loss: 0.8608 - val_accuracy: 0.7011 - lr: 6.2500e-05\n",
      "Epoch 93/200\n",
      "211/211 [==============================] - 6s 28ms/step - loss: 0.5601 - accuracy: 0.7799 - val_loss: 0.9478 - val_accuracy: 0.6786 - lr: 6.2500e-05\n",
      "Epoch 94/200\n",
      "211/211 [==============================] - 6s 28ms/step - loss: 0.5547 - accuracy: 0.7827 - val_loss: 0.8778 - val_accuracy: 0.7005 - lr: 6.2500e-05\n",
      "Epoch 95/200\n",
      "211/211 [==============================] - 6s 28ms/step - loss: 0.5402 - accuracy: 0.7897 - val_loss: 0.9704 - val_accuracy: 0.6684 - lr: 6.2500e-05\n",
      "Epoch 96/200\n",
      "211/211 [==============================] - 6s 28ms/step - loss: 0.5625 - accuracy: 0.7781 - val_loss: 0.9165 - val_accuracy: 0.6928 - lr: 6.2500e-05\n",
      "Epoch 97/200\n",
      "211/211 [==============================] - 6s 28ms/step - loss: 0.5443 - accuracy: 0.7859 - val_loss: 1.0039 - val_accuracy: 0.6631 - lr: 6.2500e-05\n",
      "Epoch 98/200\n",
      "211/211 [==============================] - 6s 27ms/step - loss: 0.5598 - accuracy: 0.7836 - val_loss: 0.9700 - val_accuracy: 0.6762 - lr: 6.2500e-05\n",
      "Epoch 99/200\n",
      "210/211 [============================>.] - ETA: 0s - loss: 0.5615 - accuracy: 0.7775\n",
      "Epoch 99: ReduceLROnPlateau reducing learning rate to 3.125000148429535e-05.\n",
      "211/211 [==============================] - 6s 28ms/step - loss: 0.5613 - accuracy: 0.7774 - val_loss: 0.8894 - val_accuracy: 0.6976 - lr: 6.2500e-05\n"
     ]
    }
   ],
   "source": [
    "modelCNN_MC=tf.keras.Sequential()\n",
    "modelCNN_MC.add(BatchNormalization(input_shape=(128,8,1)))\n",
    "modelCNN_MC.add(Conv2D(filters=32,kernel_size=(2,2),strides=(1,1),padding='SAME', use_bias=False, name='conv_1'))\n",
    "modelCNN_MC.add(BatchNormalization())\n",
    "modelCNN_MC.add(Activation('relu'))\n",
    "modelCNN_MC.add(MaxPooling2D(2,2))\n",
    "modelCNN_MC.add(Conv2D(filters=32,kernel_size=(4,4),strides=(2,2), use_bias=False,\n",
    "                         padding='SAME', name='conv_2'))\n",
    "modelCNN_MC.add(BatchNormalization())\n",
    "modelCNN_MC.add(Activation('relu'))\n",
    "modelCNN_MC.add(Dropout(0.3))\n",
    "modelCNN_MC.add(Conv2D(filters=32,kernel_size=(4,4),strides=(4,4), use_bias=False,\n",
    "                         padding='SAME', name='conv_3'))\n",
    "modelCNN_MC.add(BatchNormalization())\n",
    "modelCNN_MC.add(Activation('relu'))\n",
    "modelCNN_MC.add(Dropout(0.3))\n",
    "modelCNN_MC.add(Flatten())\n",
    "modelCNN_MC.add(Dense(512, activation='relu', name='dense_2'))\n",
    "modelCNN_MC.add(Dense(256, activation='relu', name='dense_3'))\n",
    "modelCNN_MC.add(Dropout(0.5))\n",
    "modelCNN_MC.add(Dense(7, activation='softmax', name='output_range'))\n",
    "# inputs= Input(shape=(128,8,1),name='input')\n",
    "# hidden=BatchNormalization(input_shape=(128,8,1))(inputs)\n",
    "# hidden=Conv2D(filters=32,kernel_size=(2,2),strides=(1,1),padding='SAME', use_bias=False, name='conv_1')(hidden)\n",
    "# hidden=BatchNormalization()(hidden)\n",
    "# hidden=Activation('relu')(hidden)\n",
    "# hidden=MaxPooling2D(2,2)(hidden)\n",
    "# hidden=Conv2D(filters=32,kernel_size=(4,4),strides=(2,2), use_bias=False,\n",
    "#                          padding='SAME', name='conv_2')(hidden)\n",
    "# hidden=BatchNormalization()(hidden)\n",
    "# hidden=Activation('relu')(hidden)\n",
    "# hidden=Dropout(0.3)(hidden)\n",
    "# hidden=Conv2D(filters=32,kernel_size=(4,4),strides=(4,4), use_bias=False,\n",
    "#                          padding='SAME', name='conv_3')(hidden)\n",
    "# hidden=BatchNormalization()(hidden)\n",
    "# hidden=Activation('relu')(hidden)\n",
    "# hidden=Dropout(0.3)(hidden)\n",
    "# hidden=Flatten()(hidden)\n",
    "# hidden=Dense(512, activation='relu', name='dense_2')(hidden)\n",
    "# hidden=Dense(256, activation='relu', name='dense_3')(hidden)\n",
    "# hidden=Dropout(0.5)(hidden)\n",
    "# output1=Dense(7, activation='softmax', name='output_range')(hidden)\n",
    "#output2=Dense(3,activation='softmax',name=\"output_class\")(hidden)\n",
    "#output3=Dense(1,activation='linear',name=\"output_cont_range\")(hidden)\n",
    "\n",
    "\n",
    "#modelCNNv2=Model(inputs=inputs,outputs=[output1])\n",
    "optimizer= tf.keras.optimizers.Adam()\n",
    "modelCNN_MC.compile(loss='categorical_crossentropy',optimizer=optimizer,metrics=['accuracy'])\n",
    "\n",
    "\n",
    "reduceLR = tf.keras.callbacks.ReduceLROnPlateau(monitor='val_loss', factor=0.5,\n",
    "                                 verbose=1, patience=10, mode='auto')\n",
    "early = tf.keras.callbacks.EarlyStopping(monitor='val_loss', min_delta=1e-4,\n",
    "                          patience=20, mode='auto', restore_best_weights=True)\n",
    "modelCNN_MC.build(input_shape=(None,128,8,1))\n",
    "modelCNN_MC.summary()\n",
    "history = modelCNN_MC.fit(train_feats, range_train_targs_oh,\n",
    "                      epochs=200,\n",
    "                      batch_size=32,\n",
    "                      shuffle=True,\n",
    "                      class_weight=range_weights,\n",
    "                      validation_split=0.2,\n",
    "                      callbacks=[reduceLR, early])"
   ],
   "metadata": {
    "collapsed": false,
    "pycharm": {
     "name": "#%%\n"
    }
   }
  },
  {
   "cell_type": "code",
   "execution_count": 108,
   "outputs": [
    {
     "name": "stdout",
     "output_type": "stream",
     "text": [
      "66/66 [==============================] - 0s 6ms/step\n",
      "66/66 [==============================] - 1s 6ms/step - loss: 0.8270 - accuracy: 0.7009\n",
      "66/66 [==============================] - 0s 6ms/step\n"
     ]
    }
   ],
   "source": [
    "score = modelCNN_MC.predict(test_feats)\n",
    "modelCNN_MC.evaluate(test_feats,y={'output_range':range_test_targs_oh})\n",
    "test_predictions=modelCNN_MC.predict(test_feats)"
   ],
   "metadata": {
    "collapsed": false,
    "pycharm": {
     "name": "#%%\n"
    }
   }
  },
  {
   "cell_type": "code",
   "execution_count": 112,
   "outputs": [
    {
     "data": {
      "text/plain": "Text(0.5, 1.0, 'Mavic Confusion Matrix')"
     },
     "execution_count": 112,
     "metadata": {},
     "output_type": "execute_result"
    },
    {
     "data": {
      "text/plain": "<Figure size 360x360 with 2 Axes>",
      "image/png": "[encoded data removed]"
     },
     "metadata": {
      "needs_background": "light"
     },
     "output_type": "display_data"
    }
   ],
   "source": [
    "from sklearn.metrics import confusion_matrix\n",
    "y_pred = np.argmax(test_predictions,axis=-1)\n",
    "y_true=np.argmax(range_test_targs_oh, axis=-1)\n",
    "cm = confusion_matrix(y_true, y_pred)\n",
    "## Get Class Labels\n",
    "#class_names = [\"<40\",\"40-60\",\"60-80\",\">80\"]\n",
    "class_names = [\"<30\", \"40\",\"50\",\"60\",\"70\",\"80\",\"80+\"]\n",
    "# Plot confusion matrix in a beautiful manner\n",
    "fig = plt.figure(figsize=(5, 5))\n",
    "ax= plt.subplot()\n",
    "sns.heatmap(cm, annot=True, ax = ax, fmt = 'g'); #annot=True to annotate cells\n",
    "# labels, title and ticks\n",
    "ax.set_xlabel('Predicted', fontsize=20)\n",
    "ax.xaxis.set_label_position('bottom')\n",
    "plt.xticks(rotation=90)\n",
    "ax.xaxis.set_ticklabels(class_names, fontsize = 10)\n",
    "ax.xaxis.tick_bottom()\n",
    "\n",
    "ax.set_ylabel('True', fontsize=20)\n",
    "ax.yaxis.set_ticklabels(class_names, fontsize = 10)\n",
    "plt.yticks(rotation=0)\n",
    "\n",
    "plt.title('Mavic Confusion Matrix', fontsize=20)"
   ],
   "metadata": {
    "collapsed": false,
    "pycharm": {
     "name": "#%%\n"
    }
   }
  },
  {
   "cell_type": "code",
   "execution_count": 110,
   "outputs": [
    {
     "name": "stdout",
     "output_type": "stream",
     "text": [
      "              precision    recall  f1-score   support\n",
      "\n",
      "           0       0.49      0.80      0.60       123\n",
      "           1       0.96      0.73      0.83       682\n",
      "           2       0.17      0.52      0.26        71\n",
      "           3       0.65      0.57      0.61       227\n",
      "           4       0.89      0.74      0.80       442\n",
      "           5       0.42      0.62      0.50       178\n",
      "           6       0.80      0.73      0.76       380\n",
      "\n",
      "    accuracy                           0.70      2103\n",
      "   macro avg       0.63      0.67      0.62      2103\n",
      "weighted avg       0.78      0.70      0.73      2103\n",
      "\n"
     ]
    }
   ],
   "source": [
    "print(classification_report(y_true=y_true,y_pred=y_pred))"
   ],
   "metadata": {
    "collapsed": false,
    "pycharm": {
     "name": "#%%\n"
    }
   }
  },
  {
   "cell_type": "code",
   "execution_count": 111,
   "outputs": [
    {
     "data": {
      "image/png": "[encoded data removed]",
      "text/plain": "<IPython.core.display.Image object>"
     },
     "execution_count": 111,
     "metadata": {},
     "output_type": "execute_result"
    }
   ],
   "source": [
    "tf.keras.utils.plot_model(modelCNN_MC)"
   ],
   "metadata": {
    "collapsed": false,
    "pycharm": {
     "name": "#%%\n"
    }
   }
  },
  {
   "cell_type": "markdown",
   "source": [
    "# Deep Recurrent Neural Network For Ranging\n",
    "Those shouldn't work unless the data is laid out so that each phone's observation extends for 300 sequential frames, then switches to the next."
   ],
   "metadata": {
    "collapsed": false,
    "pycharm": {
     "name": "#%% md\n"
    }
   }
  },
  {
   "cell_type": "code",
   "execution_count": null,
   "outputs": [],
   "source": [
    "modelCRNN=tf.keras.Sequential()\n",
    "modelCRNN.add(BatchNormalization())\n",
    "modelCRNN.add(Conv2D(filters=8, kernel_size=(2,2), strides=(1,1), padding='SAME', use_bias=False,input_shape=(128,8,1), name='conv_1'))\n",
    "modelCRNN.add(BatchNormalization())\n",
    "modelCRNN.add(Activation('leaky_relu'))\n",
    "modelCRNN.add(Conv2D(filters=16,kernel_size=(4,4),strides=(2,2), use_bias=False,\n",
    "                         padding='SAME', name='conv_2'))\n",
    "modelCRNN.add(BatchNormalization())\n",
    "modelCRNN.add(Activation('leaky_relu'))\n",
    "# model.add(MaxPooling2D(padding='SAME'))\n",
    "modelCRNN.add(Conv2D(filters=32,kernel_size=(4,4),strides=(2,2), use_bias=False,\n",
    "                         padding='SAME', name='conv_3'))\n",
    "modelCRNN.add(BatchNormalization())\n",
    "modelCRNN.add(Activation('leaky_relu'))\n",
    "modelCRNN.add(Conv2D(filters=64,kernel_size=(4,4),strides=(2,2), use_bias=False,\n",
    "                         padding='SAME', name='conv_4'))\n",
    "modelCRNN.add(BatchNormalization())\n",
    "modelCRNN.add(Activation('leaky_relu'))\n",
    "# model.add(Conv2D(filters=32,kernel_size=(8,8),strides=(1,1), use_bias=False,\n",
    "#                          padding='SAME', name='conv_4'))\n",
    "# model.add(BatchNormalization())\n",
    "# model.add(Activation('relu'))\n",
    "modelCRNN.add(Dropout(0.5))\n",
    "modelCRNN.add(Flatten())\n",
    "modelCRNN.add(Reshape((-1,1024),input_shape=(1024,)))\n",
    "modelCRNN.add(GRU(64))\n",
    "#modelCRNN.add(Dense(1024, activation='relu', name='dense_2'))\n",
    "#model.add(Lambda(lambda x: K.squeeze(x, 1)))\n",
    "#model.add(LSTM(16))\n",
    "modelCRNN.add(Dense(64, activation='relu', name='dense_3'))\n",
    "modelCRNN.add(Dropout(0.5))\n",
    "modelCRNN.add(Dense(4, activation='softmax', name='dense_4'))\n",
    "\n",
    "\n",
    "optimizer= tf.keras.optimizers.Adam()\n",
    "modelCRNN.compile(loss='categorical_crossentropy',optimizer=optimizer,metrics=['accuracy'])\n",
    "\n",
    "reduceLR = tf.keras.callbacks.ReduceLROnPlateau(monitor='val_loss', factor=0.5,\n",
    "                                 verbose=1, patience=10, mode='auto')\n",
    "early = tf.keras.callbacks.EarlyStopping(monitor='val_loss', min_delta=1e-3,\n",
    "                          patience=40, mode='auto', restore_best_weights=True)\n",
    "modelCRNN.build(input_shape=(None,128,8,1))\n",
    "modelCRNN.summary()\n",
    "history = modelCRNN.fit(train_feats, train_targs,\n",
    "                      epochs=200,\n",
    "                      batch_size=32,\n",
    "                      class_weight=class_weights,\n",
    "                      shuffle=True,\n",
    "                      validation_split=0.2,\n",
    "                      callbacks=[reduceLR, early])"
   ],
   "metadata": {
    "collapsed": false,
    "pycharm": {
     "name": "#%%\n"
    }
   }
  },
  {
   "cell_type": "code",
   "execution_count": null,
   "outputs": [],
   "source": [
    "score = modelCRNN.predict(test_feats)\n",
    "modelCRNN.evaluate(test_feats,test_targs)\n",
    "test_predictions=modelCRNN.predict(test_feats)"
   ],
   "metadata": {
    "collapsed": false,
    "pycharm": {
     "name": "#%%\n"
    }
   }
  },
  {
   "cell_type": "code",
   "execution_count": null,
   "outputs": [],
   "source": [
    "y_pred = np.argmax(test_predictions, axis=-1)\n",
    "y_true=np.argmax(test_targs, axis=-1)\n",
    "cm = confusion_matrix(y_true, y_pred)\n",
    "## Get Class Labels\n",
    "class_names = [\"<40\",\"40-60\",\"60-80\",\">80\"]\n",
    "# Plot confusion matrix in a beautiful manner\n",
    "fig = plt.figure(figsize=(5, 5))\n",
    "ax= plt.subplot()\n",
    "sns.heatmap(cm, annot=True, ax = ax, fmt = 'g'); #annot=True to annotate cells\n",
    "# labels, title and ticks\n",
    "ax.set_xlabel('Predicted', fontsize=20)\n",
    "ax.xaxis.set_label_position('bottom')\n",
    "plt.xticks(rotation=90)\n",
    "ax.xaxis.set_ticklabels(class_names, fontsize = 10)\n",
    "ax.xaxis.tick_bottom()\n",
    "\n",
    "ax.set_ylabel('True', fontsize=20)\n",
    "ax.yaxis.set_ticklabels(class_names, fontsize = 10)\n",
    "plt.yticks(rotation=0)\n",
    "\n",
    "plt.title('Confusion Matrix', fontsize=20)"
   ],
   "metadata": {
    "collapsed": false,
    "pycharm": {
     "name": "#%%\n"
    }
   }
  },
  {
   "cell_type": "code",
   "execution_count": null,
   "outputs": [],
   "source": [
    "\n",
    "print(classification_report(y_true=y_true,y_pred=y_pred))"
   ],
   "metadata": {
    "collapsed": false,
    "pycharm": {
     "name": "#%%\n"
    }
   }
  },
  {
   "cell_type": "code",
   "execution_count": null,
   "outputs": [],
   "source": [
    "plt.hist(y_true,alpha=0.5)\n",
    "plt.hist(y_pred,alpha=0.5)\n",
    "plt.show()"
   ],
   "metadata": {
    "collapsed": false,
    "pycharm": {
     "name": "#%%\n"
    }
   }
  },
  {
   "cell_type": "code",
   "execution_count": null,
   "outputs": [],
   "source": [
    "score=np.reshape(score,-1)\n",
    "residual=score-test_targs\n",
    "plt.xlabel(\"Truth (meters)\")\n",
    "plt.ylabel(\"Error (meters)\")\n",
    "plt.scatter(test_targs,np.abs(residual))\n",
    "plt.show()"
   ],
   "metadata": {
    "collapsed": false,
    "pycharm": {
     "name": "#%%\n"
    }
   }
  },
  {
   "cell_type": "code",
   "execution_count": null,
   "outputs": [],
   "source": [
    "resid_df=pd.DataFrame({\"Actual\":test_targs,\"Error\":residual})"
   ],
   "metadata": {
    "collapsed": false,
    "pycharm": {
     "name": "#%%\n"
    }
   }
  },
  {
   "cell_type": "code",
   "execution_count": null,
   "outputs": [],
   "source": [
    "ave_error=[]\n",
    "sub_40=resid_df[resid_df[\"Actual\"]<40]\n",
    "ave_error.append(sub_40[\"Error\"].mean())\n",
    "sub_40=resid_df[resid_df[\"Actual\"]<60]\n",
    "sub_40=sub_40[sub_40[\"Actual\"]>40]\n",
    "ave_error.append(sub_40[\"Error\"].mean())\n",
    "sub_40=resid_df[resid_df[\"Actual\"]<80]\n",
    "sub_40=sub_40[sub_40[\"Actual\"]>60]\n",
    "ave_error.append(sub_40[\"Error\"].mean())\n",
    "sub_40=resid_df[resid_df[\"Actual\"]>80]\n",
    "ave_error.append(sub_40[\"Error\"].mean())"
   ],
   "metadata": {
    "collapsed": false,
    "pycharm": {
     "name": "#%%\n"
    }
   }
  },
  {
   "cell_type": "code",
   "execution_count": null,
   "outputs": [],
   "source": [
    "print(ave_error)"
   ],
   "metadata": {
    "collapsed": false,
    "pycharm": {
     "name": "#%%\n"
    }
   }
  },
  {
   "cell_type": "code",
   "execution_count": null,
   "outputs": [],
   "source": [
    "MLtools.save_model(model, \"CRNN_model_v3_trainedon_A2A3_MAE18\")"
   ],
   "metadata": {
    "collapsed": false,
    "pycharm": {
     "name": "#%%\n"
    }
   }
  },
  {
   "cell_type": "code",
   "execution_count": null,
   "outputs": [],
   "source": [
    "plt.hist(train_targs)"
   ],
   "metadata": {
    "collapsed": false,
    "pycharm": {
     "name": "#%%\n"
    }
   }
  },
  {
   "cell_type": "markdown",
   "source": [
    "# Deep Neural Network for Ranging\n",
    "I think that the A3 data is incorrect, truth vals are incorrect, or combination. Training on A2 produces accurate results (atleast, expected, increased error as distance increases. Instead, A3 data has more have a V shaped error. I should investigate if certain phones are extremely accurate and if other phones are not as accurate."
   ],
   "metadata": {
    "collapsed": false,
    "pycharm": {
     "name": "#%% md\n"
    }
   }
  },
  {
   "cell_type": "code",
   "execution_count": null,
   "outputs": [],
   "source": [
    "model=tf.keras.Sequential()\n",
    "model.add(BatchNormalization(input_shape=(64,4,1)))\n",
    "model.add(Conv2D(filters=8,kernel_size=(4,4),strides=(2,2),padding='SAME', use_bias=False, name='conv_1'))\n",
    "model.add(BatchNormalization())\n",
    "model.add(Activation('relu'))\n",
    "#model.add(MaxPooling2D())\n",
    "model.add(Conv2D(filters=16,kernel_size=(4,4),strides=(2,2), use_bias=False,\n",
    "                         padding='SAME', name='conv_2'))\n",
    "model.add(BatchNormalization())\n",
    "model.add(Activation('relu'))\n",
    "model.add(Conv2D(filters=32,kernel_size=(4,4),strides=(2,2), use_bias=False,\n",
    "                         padding='SAME', name='conv_3'))\n",
    "model.add(BatchNormalization())\n",
    "model.add(Activation('relu'))\n",
    "model.add(Dropout(0.3))\n",
    "model.add(Flatten())\n",
    "model.add(Dense(1024, activation='relu', name='dense_2'))\n",
    "model.add(Dense(512, activation='relu', name='dense_3'))\n",
    "model.add(Dropout(0.5))\n",
    "model.add(Dense(1, activation='linear', name='dense_4'))\n",
    "\n",
    "\n",
    "optimizer= tf.keras.optimizers.Adam()\n",
    "model.compile(loss='mse',optimizer=optimizer,metrics=['mae','mse'])\n",
    "\n",
    "\n",
    "reduceLR = tf.keras.callbacks.ReduceLROnPlateau(monitor='val_loss', factor=0.5,\n",
    "                                 verbose=1, patience=10, mode='auto')\n",
    "early = tf.keras.callbacks.EarlyStopping(monitor='val_loss', min_delta=1e-4,\n",
    "                          patience=20, mode='auto', restore_best_weights=True)\n",
    "model.build(input_shape=(None,64,4,1))\n",
    "model.summary()\n",
    "history = model.fit(train_feats, train_targs,\n",
    "                      epochs=200,\n",
    "                      batch_size=32,\n",
    "                      shuffle=True,\n",
    "                      class_weight=class_weights,\n",
    "                      validation_split=0.2,\n",
    "                      callbacks=[reduceLR, early])"
   ],
   "metadata": {
    "collapsed": false,
    "pycharm": {
     "name": "#%%\n"
    }
   }
  },
  {
   "cell_type": "code",
   "execution_count": null,
   "outputs": [],
   "source": [
    "score = model.predict(test_feats)\n",
    "model.evaluate(test_feats,test_targs)"
   ],
   "metadata": {
    "collapsed": false,
    "pycharm": {
     "name": "#%%\n"
    }
   }
  },
  {
   "cell_type": "code",
   "execution_count": null,
   "outputs": [],
   "source": [
    "plt.hist(test_targs,alpha=0.5,label=\"Actual\")\n",
    "plt.hist(score,alpha=0.5,label=\"Predicted\")\n",
    "plt.xlabel('Truth Range')\n",
    "plt.legend(loc=\"upper right\")\n",
    "plt.savefig('test_distribution.pdf')"
   ],
   "metadata": {
    "collapsed": false,
    "pycharm": {
     "name": "#%%\n"
    }
   }
  },
  {
   "cell_type": "code",
   "execution_count": null,
   "outputs": [],
   "source": [
    "print(score)\n",
    "print(len(test_targs))\n",
    "score=np.reshape(score,-1)\n",
    "residual=score-test_targs\n",
    "print(np.shape(score))\n",
    "print(np.shape(test_targs))\n",
    "plt.xlabel(\"Truth (meters)\")\n",
    "plt.ylabel(\"Error (meters)\")\n",
    "plt.scatter(test_targs,np.abs(residual))\n",
    "plt.show()\n",
    "plt.xlabel(\"Truth (meters)\")\n",
    "plt.ylabel(\"Error (meters)\")\n",
    "plt.scatter(test_targs,residual)"
   ],
   "metadata": {
    "collapsed": false,
    "pycharm": {
     "name": "#%%\n"
    }
   }
  },
  {
   "cell_type": "markdown",
   "source": [],
   "metadata": {
    "collapsed": false,
    "pycharm": {
     "name": "#%% md\n"
    }
   }
  },
  {
   "cell_type": "code",
   "execution_count": null,
   "outputs": [],
   "source": [
    "resid_df=pd.DataFrame({\"Actual\":test_targs,\"Error\":residual})\n",
    "ave_error=[]\n",
    "sub_40=resid_df[resid_df[\"Actual\"]<40]\n",
    "ave_error.append(sub_40[\"Error\"].mean())\n",
    "sub_40=resid_df[resid_df[\"Actual\"]<60]\n",
    "sub_40=sub_40[sub_40[\"Actual\"]>40]\n",
    "ave_error.append(sub_40[\"Error\"].mean())\n",
    "sub_40=resid_df[resid_df[\"Actual\"]<80]\n",
    "sub_40=sub_40[sub_40[\"Actual\"]>60]\n",
    "ave_error.append(sub_40[\"Error\"].mean())\n",
    "sub_40=resid_df[resid_df[\"Actual\"]>80]\n",
    "ave_error.append(sub_40[\"Error\"].mean())\n",
    "print(ave_error)"
   ],
   "metadata": {
    "collapsed": false,
    "pycharm": {
     "name": "#%%\n"
    }
   }
  },
  {
   "cell_type": "code",
   "execution_count": null,
   "outputs": [],
   "source": [
    "plt.xlabel('Truth Range')\n",
    "plt.ylabel('Error (MAE)')\n",
    "plt.bar(x=(30,50,70,90),height=ave_error,width=20)\n",
    "plt.savefig('plt.pdf')"
   ],
   "metadata": {
    "collapsed": false,
    "pycharm": {
     "name": "#%%\n"
    }
   }
  },
  {
   "cell_type": "code",
   "execution_count": null,
   "outputs": [],
   "source": [
    "MLtools.save_model(model, \"CNN_model_v1_generalizable\")"
   ],
   "metadata": {
    "collapsed": false,
    "pycharm": {
     "name": "#%%\n"
    }
   }
  },
  {
   "cell_type": "markdown",
   "source": [
    "# LSTM with Raw Inputs"
   ],
   "metadata": {
    "collapsed": false,
    "pycharm": {
     "name": "#%% md\n"
    }
   }
  },
  {
   "cell_type": "code",
   "execution_count": null,
   "outputs": [],
   "source": [
    "mean = train_feats.mean(axis=0)\n",
    "train_feats -= mean\n",
    "test_feats -= mean\n",
    "std = train_feats.std(axis=0)\n",
    "train_feats /= std\n",
    "test_feats /= std\n",
    "train_feats=np.reshape(train_feats, (len(train_feats), 4000, 1))\n",
    "print(len(train_feats))"
   ],
   "metadata": {
    "collapsed": false,
    "pycharm": {
     "name": "#%%\n"
    }
   }
  },
  {
   "cell_type": "code",
   "execution_count": null,
   "outputs": [],
   "source": [],
   "metadata": {
    "collapsed": false,
    "pycharm": {
     "name": "#%%\n"
    }
   }
  },
  {
   "cell_type": "code",
   "execution_count": null,
   "outputs": [],
   "source": [
    "modelRaw=tf.keras.Sequential()\n",
    "modelRaw.add(Conv1D(2, kernel_size=100, padding = 'causal', activation = 'relu', name='Conv0', input_shape=(4000, 1)))\n",
    "modelRaw.add(BatchNormalization())\n",
    "modelRaw.add(Conv1D(2, kernel_size=100, padding = 'causal', dilation_rate=4, activation = 'relu', name='Conv1'))\n",
    "modelRaw.add(BatchNormalization())\n",
    "modelRaw.add(Conv1D(2, kernel_size=100, padding = 'causal',dilation_rate=16, activation = 'relu', name='Conv2'))\n",
    "# modelRaw.add(BatchNormalization())\n",
    "# modelRaw.add(Conv1D(2, kernel_size=6, padding = 'causal', dilation_rate=8, activation = 'relu', name='Conv3'))\n",
    "# modelRaw.add(BatchNormalization())\n",
    "# modelRaw.add(Conv1D(2, kernel_size=6, padding = 'causal', dilation_rate=16, activation = 'relu', name='Conv4'))\n",
    "# modelRaw.add(BatchNormalization())\n",
    "# modelRaw.add(Dropout(0.5))\n",
    "# modelRaw.add(Conv1D(2, kernel_size=6, padding = 'causal', dilation_rate=32, activation = 'relu', name='Conv5'))\n",
    "# modelRaw.add(BatchNormalization())\n",
    "modelRaw.add(Dropout(0.5))\n",
    "# modelRaw.add(Conv1D(2, kernel_size=6, padding = 'causal', dilation_rate=64, activation = 'relu', name='Conv6'))\n",
    "modelRaw.add(Flatten())\n",
    "modelRaw.add(Dense(4, activation='softmax', name='dense_1'))\n",
    "\n",
    "optimizer= tf.keras.optimizers.Adam()\n",
    "modelRaw.compile(loss='categorical_crossentropy',optimizer=optimizer,metrics=['accuracy'])\n",
    "\n",
    "\n",
    "\n",
    "reduceLR = tf.keras.callbacks.ReduceLROnPlateau(monitor='val_loss', factor=0.5,\n",
    "                                 verbose=1, patience=10, mode='auto')\n",
    "early = tf.keras.callbacks.EarlyStopping(monitor='val_loss', min_delta=1e-4,\n",
    "                          patience=20, mode='auto', restore_best_weights=True)\n",
    "modelRaw.build(input_shape=(None,4000,1))\n",
    "modelRaw.summary()\n",
    "history = modelRaw.fit(train_feats, train_targs,\n",
    "                      epochs=200,\n",
    "                      batch_size=16,\n",
    "                      shuffle=True,\n",
    "                      validation_split=0.2,\n",
    "                      callbacks=[reduceLR, early])"
   ],
   "metadata": {
    "collapsed": false,
    "pycharm": {
     "name": "#%%\n",
     "is_executing": true
    }
   }
  },
  {
   "cell_type": "markdown",
   "source": [
    "# Generate Test dataset and test target dataset"
   ],
   "metadata": {
    "collapsed": false,
    "pycharm": {
     "name": "#%% md\n"
    }
   }
  },
  {
   "cell_type": "code",
   "execution_count": null,
   "outputs": [],
   "source": [
    "#test_df=pd.read_csv(\"./spec_range_A3_testset.csv\")\n",
    "# test_df=training_df\n",
    "# def maxValueRanks(maxValArray):\n",
    "#     maxValueRankArr=[]\n",
    "#     for x in maxValArray:\n",
    "#         seq = sorted(x)\n",
    "#         index = [seq.index(v) for v in x]\n",
    "#         maxValueRankArr.append(index)\n",
    "#     return maxValueRankArr\n",
    "test_runs_matrice=[\"A2R3P2\"]\n",
    "def rank_distances(maxValArray):\n",
    "    order=maxValArray.argsort()\n",
    "    ranks=order.argsort()\n",
    "    return ranks\n",
    "def closest_distances(maxValArray):\n",
    "    count=0\n",
    "    for x in maxValArray:\n",
    "        if x <40:\n",
    "            count+=1\n",
    "    return count\n",
    "def eval_rangeModel_performance(truth_data):\n",
    "    pure_x_data=[]\n",
    "    pure_y_data=[]\n",
    "    x_data=[]\n",
    "    y_data=[]\n",
    "    class_range_frame=[]\n",
    "    for x in passes_df.iterrows():\n",
    "        row=x[1]\n",
    "        pass_num=row[0]\n",
    "        scenario=row[1]\n",
    "        run_num=row[2]\n",
    "        start=row[3]\n",
    "        stop=row[4]\n",
    "        drone_gps_file=row[5]\n",
    "        full_name=(str(scenario) + 'R' + str(run_num) + 'P' + str(pass_num)).strip()\n",
    "        pass_df=training_df.loc[training_df[str(notable_col_names.index('Pass'))] == full_name]\n",
    "        #pass_df=training_df.loc[training_df[\"Pass\"] == full_name]\n",
    "        max_segment=pass_df[str(notable_col_names.index('Segment'))].max()\n",
    "        #max_segment=pass_df[\"Segment\"].max()\n",
    "        #for i in range(0,max_segment):\n",
    "        print(full_name)\n",
    "        if full_name in test_runs_matrice:\n",
    "            #for phone in phone_slots:\n",
    "            for i in range(0,max_segment):\n",
    "                #phone_seg=pass_df.loc[pass_df[str(notable_col_names.index('Phone'))]==phone]\n",
    "                frame_df=pass_df.loc[pass_df[str(notable_col_names.index('Segment'))]==i]\n",
    "            #frame_df=pass_df.loc[pass_df[\"Segment\"]==i]\n",
    "                twd_frame=[]\n",
    "                range_frame=[]\n",
    "                class_range_frame=[]\n",
    "            #for phone in phone_slots:\n",
    "                #for i in range(0,max_segment):\n",
    "                for phone in phone_slots:\n",
    "                    #frame_df=phone_seg.loc[phone_seg[str(notable_col_names.index('Segment'))]==i]\n",
    "                    phone_seg=frame_df.loc[frame_df[str(notable_col_names.index('Phone'))]==phone]\n",
    "                #phone_seg=frame_df.loc[frame_df[\"Name\"]==phone]\n",
    "                    #data=np.array(frame_df.iloc[:,-256:])\n",
    "                    data=np.array(phone_seg.iloc[:,-256:])\n",
    "                # dist=phone_seg[str(notable_col_names.index('Range'))]\n",
    "                    dist=phone_seg[str(notable_col_names.index('Range'))]\n",
    "                #dist=phone_seg[\"Range\"]\n",
    "                    if len(np.array(dist)>0):\n",
    "                        if np.array(dist)[0]<400:\n",
    "                            data=data[0]\n",
    "                            data=np.reshape(data,(64,4))\n",
    "                            #data=np.reshape(data,(40,1))\n",
    "                            dist=np.array(dist)[0]\n",
    "                            twd_frame.append(data)\n",
    "                            range_frame.append(dist)\n",
    "                            class_value=classFinder(dist)\n",
    "                            class_range_frame.append(class_value)\n",
    "                ranks=closest_distances(np.array(range_frame))\n",
    "                #y_vals= rangeClosest(range_frame)\n",
    "                # if np.any(ranks):\n",
    "                if ranks>0:\n",
    "                    x_data.append(np.array(twd_frame))\n",
    "                    y_data.append(np.array(class_range_frame))\n",
    "                    pure_x_data.extend(np.array(twd_frame))\n",
    "                    pure_y_data.extend(np.array(class_range_frame))\n",
    "    return x_data,y_data,pure_x_data,pure_y_data\n",
    "\n",
    "test_feats_,test_targs_,pure_x,pure_y=eval_rangeModel_performance(training_df)"
   ],
   "metadata": {
    "collapsed": false,
    "pycharm": {
     "name": "#%%\n"
    }
   }
  },
  {
   "cell_type": "code",
   "execution_count": null,
   "outputs": [],
   "source": [
    "pure_x=np.array(pure_x)\n",
    "#pure_x=np.transpose(pure_x,axes=[0,2,1])\n",
    "#pure_x=np.array(pure_x).reshape(len(pure_x),4,64,1)\n",
    "pure_y=np.array(pure_y)\n",
    "pure_y_oh=tf.keras.utils.to_categorical(pure_y,num_classes=4)\n",
    "plt.hist(pure_y)"
   ],
   "metadata": {
    "collapsed": false,
    "pycharm": {
     "name": "#%%\n"
    }
   }
  },
  {
   "cell_type": "markdown",
   "source": [],
   "metadata": {
    "collapsed": false,
    "pycharm": {
     "name": "#%% md\n"
    }
   }
  },
  {
   "cell_type": "markdown",
   "source": [],
   "metadata": {
    "collapsed": false,
    "pycharm": {
     "name": "#%% md\n"
    }
   }
  },
  {
   "cell_type": "code",
   "execution_count": null,
   "outputs": [],
   "source": [
    "modelCNN.evaluate(pure_x,pure_y_oh)\n",
    "vals=modelCNN.predict(pure_x)\n",
    "#loaded_network.evaluate(pure_x,pure_y)\n",
    "plt.hist(pure_y)"
   ],
   "metadata": {
    "collapsed": false,
    "pycharm": {
     "name": "#%%\n"
    }
   }
  },
  {
   "cell_type": "markdown",
   "source": [
    "# Calculate % of Correct Estimates\n",
    "This is done by considering how many of the predicted top 5 closest phones are truly within the top five closest phones. predicted_top_5/total_top_5"
   ],
   "metadata": {
    "collapsed": false,
    "pycharm": {
     "name": "#%% md\n"
    }
   }
  },
  {
   "cell_type": "markdown",
   "source": [
    "This is basically just a fancy way to check precision and recall scores for closest cellphones. For precision, make the total count include any predicted closest, for recall, make the total count include any true closest"
   ],
   "metadata": {
    "collapsed": false,
    "pycharm": {
     "name": "#%% md\n"
    }
   }
  },
  {
   "cell_type": "code",
   "execution_count": null,
   "outputs": [],
   "source": [
    "i=0\n",
    "correct=0\n",
    "total=0\n",
    "for batches in test_feats_:\n",
    "    predictions=[]\n",
    "    pred=modelCNN.predict(batches)\n",
    "    predictions=np.argmax(pred,axis=-1)\n",
    "    #predicted_ranks=rank_distances(np.array(predictions).squeeze())\n",
    "    closest=np.min(test_targs_[i])\n",
    "    closest_pred=np.min(predictions)\n",
    "    for x in range(len(predictions)):\n",
    "        if predictions[x] ==closest_pred and test_targs_[i][x] ==closest: #if it is predicted closest and actually closest, this is correct\n",
    "            correct+=1 # true positives\n",
    "        # if test_targs_[i][x] == predictions[x] and test_targs_[i][x] == closest:\n",
    "        #     correct+=1\n",
    "        if predictions[x] ==closest_pred: # if predicted closest that increment total (all predicted positives)\n",
    "             total+=1\n",
    "    i+=1\n",
    "print(correct/total)"
   ],
   "metadata": {
    "collapsed": false,
    "pycharm": {
     "name": "#%%\n"
    }
   }
  },
  {
   "cell_type": "code",
   "execution_count": null,
   "outputs": [],
   "source": [
    "i=0\n",
    "correct=0\n",
    "total=0\n",
    "for batches in test_feats_:\n",
    "    #data=np.transpose(batches,axes=[0,2,1])\n",
    "    predictions=[]\n",
    "    for data in batches:\n",
    "        data=np.reshape(data,(1,4,64,1))\n",
    "        pred=model.predict(data)\n",
    "        predictions.append(pred)\n",
    "    predicted_ranks=rank_distances(np.array(predictions).squeeze())\n",
    "    actual_ranks=test_targs_[i][1]\n",
    "    print(len(predictions))\n",
    "    for x in range(0,5):\n",
    "        pred_index=np.where(predicted_ranks==x)\n",
    "        act_rank=actual_ranks[pred_index]\n",
    "        if act_rank<=1:\n",
    "            correct+=1\n",
    "        total+=1\n",
    "    i+=1\n",
    "print(correct/total)"
   ],
   "metadata": {
    "collapsed": false,
    "pycharm": {
     "name": "#%%\n"
    }
   }
  },
  {
   "cell_type": "code",
   "execution_count": null,
   "outputs": [],
   "source": [],
   "metadata": {
    "collapsed": false,
    "pycharm": {
     "name": "#%%\n"
    }
   }
  }
 ],
 "metadata": {
  "kernelspec": {
   "display_name": "Python 3",
   "language": "python",
   "name": "python3"
  },
  "language_info": {
   "codemirror_mode": {
    "name": "ipython",
    "version": 2
   },
   "file_extension": ".py",
   "mimetype": "text/x-python",
   "name": "python",
   "nbconvert_exporter": "python",
   "pygments_lexer": "ipython2",
   "version": "2.7.6"
  }
 },
 "nbformat": 4,
 "nbformat_minor": 0
}