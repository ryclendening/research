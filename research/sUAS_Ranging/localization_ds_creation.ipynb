{
 "cells": [
  {
   "cell_type": "code",
   "execution_count": 1,
   "outputs": [],
   "source": [
    "import math\n",
    "import soundfile as sf\n",
    "import datetime\n",
    "import numpy as np\n",
    "from research.dataImporting import dataTools\n",
    "import librosa\n",
    "from librosa.feature import mfcc\n",
    "import librosa\n",
    "import pandas as pd\n",
    "from librosa.effects import pitch_shift\n",
    "import os\n",
    "import pathlib\n",
    "import random\n",
    "import matplotlib.pyplot as plt\n",
    "import numpy as np\n",
    "import seaborn as sns\n",
    "from librosa.feature import mfcc,melspectrogram\n",
    "import librosa.display"
   ],
   "metadata": {
    "collapsed": false,
    "pycharm": {
     "name": "#%%\n"
    }
   }
  },
  {
   "cell_type": "markdown",
   "source": [
    "# This file is the backbone of all dataset generation for sUAS range estimation and detection. Creates datasets that are used for ML training and truth data for evaluation"
   ],
   "metadata": {
    "collapsed": false,
    "pycharm": {
     "name": "#%% md\n"
    }
   }
  },
  {
   "cell_type": "markdown",
   "source": [
    "# Code block creates MFCC dataset for ML training. Parses .wav files into MFCC frames and associates cellphone range (in meters) to sUAS for each frame"
   ],
   "metadata": {
    "collapsed": false,
    "pycharm": {
     "name": "#%% md\n"
    }
   }
  },
  {
   "cell_type": "code",
   "execution_count": 5,
   "outputs": [],
   "source": [
    "#Set Filepaths\n",
    "parent_directory=os.path.abspath(os.path.join(os.getcwd(), \"..\"))\n",
    "\n",
    "audio_file_path: str= \"C:\\\\Users\\\\rclendening\\\\researchData\\\\EscapeCell_DataWav_V2\\\\\"\n",
    "\n",
    "redVox_file_path: str =\"C:\\\\Users\\\\rclendening\\\\researchData\\\\Unused_Datasets\\\\EscapeCell_Data\\\\\"\n",
    "\n",
    "sUAS_GPS_file_path: str =parent_directory+\"\\\\flight_directories\\\\UAS_log_files\\\\A1_A2_A3\\\\\"\n",
    "\n",
    "parent_directory=os.path.abspath(os.path.join(os.getcwd(), \"..\"))\n",
    "passes_df=pd.read_csv(parent_directory+\"\\\\flight_directories\\\\A1_A2_A3_flight_directory_w_Matrice_Phantom.csv\")\n",
    "\n"
   ],
   "metadata": {
    "collapsed": false,
    "pycharm": {
     "name": "#%%\n"
    }
   }
  },
  {
   "cell_type": "code",
   "execution_count": 7,
   "outputs": [
    {
     "name": "stderr",
     "output_type": "stream",
     "text": [
      "\n",
      "KeyboardInterrupt\n",
      "\n"
     ]
    }
   ],
   "source": [
    "def convertToGPS(path,name):\n",
    "    window = dataTools.import_redVoxData(path)\n",
    "    station = window.first_station()\n",
    "\n",
    "    locationSensor = station.best_location_sensor()\n",
    "    if locationSensor:\n",
    "        lat=locationSensor._data.columns[3]\n",
    "        lon=locationSensor._data.columns[4]\n",
    "        alt=locationSensor._data.columns[5]\n",
    "        phoneGPS.append([name,np.mean(lat),np.mean(lon),150.0]) #gps altitude seems a bit off\n",
    "def searchDir(rootdir):\n",
    "    it = 0\n",
    "    for it in os.scandir(rootdir):\n",
    "        if it.is_dir():\n",
    "            # print(it.path)\n",
    "            searchDir(it)\n",
    "        else:\n",
    "            it = os.path.dirname(it)\n",
    "            break\n",
    "    if isinstance(it, str):\n",
    "        splitPath = it.split('\\\\')\n",
    "        convertToGPS(it,splitPath[8])\n",
    "\n",
    "def get_filepaths(data_path):\n",
    "    data_files=[]\n",
    "    for path, subdirs, files in os.walk(data_path):\n",
    "        for name in files:\n",
    "            data_files.append(os.path.join(path, name))\n",
    "    return data_files\n",
    "\n",
    "\n",
    "\n",
    "def create_dataset(train_files, totTime):\n",
    "    '''\n",
    "    Creates feature dataset and label dataset.\n",
    "    @param train_files: EagerTensor of file paths.\n",
    "    @return list of features (ds), list of labels corresponding to feature dataset:\n",
    "    '''\n",
    "    features = {}\n",
    "    for x in train_files:\n",
    "        #test_file = tf.io.read_file(x)\n",
    "        #test_audio, sampleRate = tf.audio.decode_wav(contents=test_file)\n",
    "        #test_audio, sampleRate = librosa.load(x, sr=8000)\n",
    "        test_audio = sf.read(x)[0]\n",
    "        x = str(x)\n",
    "        if min(np.asarray(test_audio)) != 0 and len(test_audio)==totTime*8000 :\n",
    "            #newData = test_audio[0: test_audio.shape[0] - test_audio.shape[0] % sampleRate]  # trim to nearest second\n",
    "            #newFeats, newLabs = split_audio(test_audio, int(sampleRate))\n",
    "            phone_features = MFCCCalc(test_audio.squeeze(),Fs=8000)\n",
    "            features[x.split(\"\\\\\")[7].split(\".\")[0]]=phone_features.transpose()\n",
    "        # else:\n",
    "        #     features.append([x.split(\"\\\\\")[7].split(\".\")[0],0.00]) #just trying to fill space\n",
    "\n",
    "    return features\n",
    "def split_audio(audio_data,overlap,size,fs):\n",
    "    frames=[]\n",
    "    lead=size*fs\n",
    "    follow=0\n",
    "    hop=(overlap*size)*fs\n",
    "    if overlap == 0:\n",
    "        hop=size*fs\n",
    "    while lead<=len(audio_data):\n",
    "        frames.append(audio_data[int(follow):int(lead)])\n",
    "        follow= follow+hop\n",
    "        lead=lead+hop\n",
    "    return frames\n",
    "def create_spect_dataset(train_files, totTime):\n",
    "    '''\n",
    "    Creates feature dataset and label dataset.\n",
    "    @param train_files: EagerTensor of file paths.\n",
    "    @return list of features (ds), list of labels corresponding to feature dataset:\n",
    "    '''\n",
    "    features = {}\n",
    "    raw_feats={}\n",
    "    for x in train_files:\n",
    "        phone_spects=[]\n",
    "        phone_raw=[]\n",
    "        #test_file = tf.io.read_file(x)\n",
    "        #test_audio, sampleRate = tf.audio.decode_wav(contents=test_file)\n",
    "        test_audio, sampleRate = librosa.load(x, sr=8000)\n",
    "        x = str(x)\n",
    "        if min(np.asarray(test_audio)) != 0 and len(test_audio)==totTime*8000 :\n",
    "            #newData = test_audio[0: test_audio.shape[0] - test_audio.shape[0] % sampleRate]  # trim to nearest second\n",
    "            #newFeats, newLabs = split_audio(test_audio, int(sampleRate))\n",
    "            split=split_audio(test_audio,0.0,.256,8000)\n",
    "            for frame in split:\n",
    "                #spect = melspect(frame.squeeze(),Fs=8000)\n",
    "                #framev2=frame\n",
    "                #frame=np.int16((frame / np.max(np.abs(frame)) * 32767))\n",
    "                # MFCC_data=MFCCCalc(frame,8000)\n",
    "                # MFCC_data=MFCC_data.squeeze()/np.sum(MFCC_data.squeeze())\n",
    "                phone_raw.append(frame)\n",
    "                #spect=spect.flatten() #np.reshape(64,4) to unflatten\n",
    "                #phone_spects.append(spect)\n",
    "            #features[x.split(\"\\\\\")[7].split(\".\")[0]]=np.array(phone_spects)\n",
    "            raw_feats[x.split(\"\\\\\")[7].split(\".\")[0]]=np.array(phone_raw)\n",
    "        # else:\n",
    "        #     features.append([x.split(\"\\\\\")[7].split(\".\")[0],0.00]) #just trying to fill space\n",
    "\n",
    "    return raw_feats\n",
    "def split_audio(audio_data,overlap,size,fs):\n",
    "    frames=[]\n",
    "    lead=size*fs\n",
    "    follow=0\n",
    "    hop=(overlap*size)*fs\n",
    "    if overlap == 0:\n",
    "        hop=size*fs\n",
    "    while lead<=len(audio_data):\n",
    "        frames.append(audio_data[int(follow):int(lead)])\n",
    "        follow= follow+hop\n",
    "        lead=lead+hop\n",
    "    return frames\n",
    "def melspect(audioData, Fs):\n",
    "    '''\n",
    "    Converts decoded wav file to MFCC feature space\n",
    "    @param audioData: Numpy array of decoded audio wav file\n",
    "    @return MFCC coefficients\n",
    "    '''\n",
    "    data= audioData.astype(float)\n",
    "    spect = melspectrogram(y=data,sr=Fs, hop_length=1024,n_mels=64, n_fft=2048)\n",
    "    fig, ax = plt.subplots()\n",
    "    S_dB = librosa.power_to_db(spect, ref=np.max)\n",
    "    img = librosa.display.specshow(S_dB, x_axis='time',\n",
    "                             y_axis='mel', sr=8000,\n",
    "                             fmax=4000, ax=ax)\n",
    "    fig.colorbar(img, ax=ax, format='%+2.0f dB')\n",
    "    ax.set(title='Mel-frequency spectrogram')\n",
    "    return spect\n",
    "\n",
    "def MFCCCalc(audioData, Fs):\n",
    "    '''\n",
    "    Converts decoded wav file to MFCC feature space\n",
    "    @param audioData: Numpy array of decoded audio wav file\n",
    "    @return MFCC coefficients\n",
    "    '''\n",
    "    #audioData=audioData.numpy()\n",
    "    data= audioData.astype(float)\n",
    "    #coefs = mfcc(data, sr=sampleRate, hop_length=2048)\n",
    "    coefs = mfcc(y=data, hop_length=2048,n_fft=2048,n_mfcc=40, sr=Fs)\n",
    "    #coefs = mfcc(y=data, hop_length=2049,n_fft=2049,n_mfcc=40, sr=Fs)\n",
    "    return coefs\n",
    "\n",
    "to_meters=111139\n",
    "range_df=pd.DataFrame(index=range(0),columns=(range(47)))\n",
    "#range_df= pd.DataFrame(index=range(0),columns=(range(263)))\n",
    "range_raw_df= pd.DataFrame(index=range(0),columns=(range(7)))\n",
    "#range_df=pd.DataFrame()\n",
    "#test123=readDirectoryCSV(r\"C:\\Users\\rclendening\\researchData\\researchCSVs_Scripts_etc\\A1_A2_flight_directory.csv\")\n",
    "def distanceCalc(phoneLat,phoneLon,phoneAlt, droneLat,droneLon,droneAlt):\n",
    "    lat_delta= (phoneLat-droneLat)*to_meters\n",
    "    lon_delta=(phoneLon-droneLon)*to_meters\n",
    "    return np.sqrt((lat_delta**2+lon_delta**2+(phoneAlt-droneAlt)**2))\n",
    "\n",
    "\n",
    "def maxValueRanks(maxValArray):\n",
    "    maxValueRankArr=[]\n",
    "    for x in maxValArray:\n",
    "        seq = sorted(x)\n",
    "        index = [seq.index(v) for v in x]\n",
    "        maxValueRankArr.append(index)\n",
    "    return maxValueRankArr\n",
    "\n",
    "for x in passes_df.iterrows():\n",
    "    indiv_df= pd.DataFrame(index=range(0),columns=(range(47)))\n",
    "    phoneGPS=[]\n",
    "    row=x[1]\n",
    "    pass_num=row[0]\n",
    "    scenario=row[1]\n",
    "    run_num=row[2]\n",
    "    start=row[3]\n",
    "    stop=row[4]\n",
    "    drone_gps_file=row[5]\n",
    "    full_name=(str(scenario) + 'R' + str(run_num) + 'P' + str(pass_num)).strip()\n",
    "    searchDir(redVox_file_path+scenario+\"\\\\\"+full_name)\n",
    "    GPS_df=pd.DataFrame(phoneGPS, columns=['Name','Lat','Lon','Alt'])\n",
    "\n",
    "    start_time=datetime.datetime(2021, 8, int(start[6:8]), int(start[9:11]), int(start[11:13]),int(start[13:15])).timestamp()\n",
    "    stop_time=datetime.datetime(2021, 8, int(stop[6:8]), int(stop[9:11]), int(stop[11:13]),int(stop[13:15])).timestamp()\n",
    "    if drone_gps_file[0]== 'F':\n",
    "        FLY=True\n",
    "    else:\n",
    "        FLY=False\n",
    "    GPS_flight_log=pd.read_csv((sUAS_GPS_file_path+drone_gps_file+\".csv\"))\n",
    "    print(sUAS_GPS_file_path+drone_gps_file+\".csv\")\n",
    "    if FLY:\n",
    "        lon=GPS_flight_log.iloc[:,4]\n",
    "        offsets=GPS_flight_log.iloc[:,1]\n",
    "        lat=GPS_flight_log.iloc[:,5]\n",
    "        time=GPS_flight_log.iloc[:,7]\n",
    "        date=GPS_flight_log.iloc[:,8]\n",
    "        height=GPS_flight_log.iloc[:,9]\n",
    "    else:\n",
    "        lon=GPS_flight_log.iloc[:,3]/10**7\n",
    "        lat=GPS_flight_log.iloc[:,2]/10**7\n",
    "        time_UTC=GPS_flight_log.iloc[:,1]/10**6\n",
    "        height=GPS_flight_log.iloc[:,4]/10**3\n",
    "    usable_phones=[]\n",
    "    tot_time= stop_time-start_time\n",
    "\n",
    "    filepaths= get_filepaths((audio_file_path+scenario+\"\\\\\"+full_name))\n",
    "    phone_features= create_dataset(filepaths,tot_time)\n",
    "    #phone_features= create_spect_dataset(filepaths,tot_time)\n",
    "    first =True\n",
    "    for ph in phoneGPS:\n",
    "        if 43.00 < ph[1] < 44.00 and -75.00 > ph[2] > -76.00 and ph[0] in phone_features:\n",
    "            usable_phones.append(ph)\n",
    "    tot_segs = len(phone_features[list(phone_features.keys())[0]])\n",
    "    t=0\n",
    "    done=False\n",
    "    MFCC_index=0\n",
    "    while not done:\n",
    "        if FLY:\n",
    "            if np.isnan(time[t]):\n",
    "                cur_time=0\n",
    "            else:\n",
    "                if first:\n",
    "                    offset=offsets[t]\n",
    "                    first=False\n",
    "                    offset_time=datetime.datetime(2021, 8, int(start[6:8]), int(str(time[t])[0:2])-4,int(str(time[t])[2:4]),int(str(time[t])[4:6])).timestamp()\n",
    "                cur_time=offset_time+abs(offsets[t]-offset)\n",
    "        else:\n",
    "            cur_time=time_UTC[t]\n",
    "\n",
    "        time_delta=cur_time-start_time\n",
    "        prev_index=MFCC_index\n",
    "        MFCC_index = math.floor(tot_segs*time_delta/tot_time)\n",
    "        if  start_time <= cur_time< stop_time and MFCC_index!= prev_index:\n",
    "            #MFCC_df=pd.DataFrame()\n",
    "            for phone in usable_phones:\n",
    "                val = distanceCalc(phone[1],phone[2],phone[3], lat[t],lon[t],height[t])\n",
    "                # range_df.loc[len(range_df.index)]=[str(phone[0]),np.float64(phone[1]),np.float64(phone[2]),np.float64(phone[3]),np.float64(val),pd.Series(phone_features[phone[0]][MFCC_index])]\n",
    "\n",
    "                #data=[full_name,str(phone[0]),np.float64(phone[1]),np.float64(phone[2]),np.float64(phone[3]),np.float64(val),start_time,cur_time]\n",
    "\n",
    "                data=[full_name,str(MFCC_index),str(phone[0]),np.float64(phone[1]),np.float64(phone[2]),np.float64(phone[3]),np.float64(val)]\n",
    "                data.extend(phone_features[phone[0]][MFCC_index].tolist()) #MFCCs\n",
    "                # data_raw=[full_name,str(MFCC_index),str(phone[0]),np.float64(phone[1]),np.float64(phone[2]),np.float64(phone[3]),np.float64(val)]\n",
    "                # data_raw.extend(phone_features[phone[0]][MFCC_index].tolist()) #MFCCs\n",
    "                indiv_df.loc[len(indiv_df.index)]=data\n",
    "                #indiv_raw_df.loc[len(indiv_raw_df.index)]=data_raw\n",
    "        t+=4\n",
    "        if cur_time>stop_time:\n",
    "            done=True\n",
    "\n",
    "    range_df= pd.concat([range_df, indiv_df])\n",
    "\n",
    "\n",
    "\n",
    "def rename_bulk_columns(DF,nameList):\n",
    "    for x in range(len(nameList)):\n",
    "        DF.columns.values[x]=nameList[x]\n",
    "\n",
    "column_names=[\"Pass\",\"Segment\",\"Name\",\"Lat\",\"Lon\",\"Alt\",\"Range\",\"MFCC_vals(0-40)\"]\n",
    "range_df=rename_bulk_columns(range_df,column_names)\n",
    "\n",
    "range_df.to_csv('LT80m_detection_training_w_matrice_phantom_unplayable.csv')"
   ],
   "metadata": {
    "collapsed": false,
    "pycharm": {
     "name": "#%%\n"
    }
   }
  },
  {
   "cell_type": "markdown",
   "source": [
    "# Raw Audio Dataset Creator"
   ],
   "metadata": {
    "collapsed": false,
    "pycharm": {
     "name": "#%% md\n"
    }
   }
  },
  {
   "cell_type": "code",
   "execution_count": 7,
   "outputs": [],
   "source": [
    "# Set raw dataset parameters\n",
    "frame_length=0.5\n",
    "overlap=0\n",
    "Fs=8000"
   ],
   "metadata": {
    "collapsed": false,
    "pycharm": {
     "name": "#%%\n"
    }
   }
  },
  {
   "cell_type": "code",
   "execution_count": 13,
   "outputs": [
    {
     "ename": "KeyboardInterrupt",
     "evalue": "",
     "output_type": "error",
     "traceback": [
      "\u001B[1;31m---------------------------------------------------------------------------\u001B[0m",
      "\u001B[1;31mKeyboardInterrupt\u001B[0m                         Traceback (most recent call last)",
      "Input \u001B[1;32mIn [13]\u001B[0m, in \u001B[0;36m<cell line: 26>\u001B[1;34m()\u001B[0m\n\u001B[0;32m     22\u001B[0m range_df\u001B[38;5;241m=\u001B[39mpd\u001B[38;5;241m.\u001B[39mDataFrame(index\u001B[38;5;241m=\u001B[39m\u001B[38;5;28mrange\u001B[39m(\u001B[38;5;241m0\u001B[39m),columns\u001B[38;5;241m=\u001B[39m(\u001B[38;5;28mrange\u001B[39m(\u001B[38;5;28mint\u001B[39m((frame_length\u001B[38;5;241m*\u001B[39mFs)\u001B[38;5;241m+\u001B[39m\u001B[38;5;241m7\u001B[39m))))\n\u001B[0;32m     24\u001B[0m range_raw_df\u001B[38;5;241m=\u001B[39mpd\u001B[38;5;241m.\u001B[39mDataFrame(index\u001B[38;5;241m=\u001B[39m\u001B[38;5;28mrange\u001B[39m(\u001B[38;5;241m0\u001B[39m),columns\u001B[38;5;241m=\u001B[39m(\u001B[38;5;28mrange\u001B[39m(\u001B[38;5;28mint\u001B[39m((frame_length\u001B[38;5;241m*\u001B[39mFs)\u001B[38;5;241m+\u001B[39m\u001B[38;5;241m7\u001B[39m))))\n\u001B[1;32m---> 26\u001B[0m \u001B[38;5;28;01mfor\u001B[39;00m x \u001B[38;5;129;01min\u001B[39;00m \u001B[43mpasses_df\u001B[49m\u001B[38;5;241m.\u001B[39miterrows():\n\u001B[0;32m     27\u001B[0m     \u001B[38;5;66;03m#indiv_df=pd.DataFrame(columns=[\"Pass\",\"Segment\",\"Name\",\"Lat\",\"Lon\",\"Alt\",\"Range\",'MFCC_0'])\u001B[39;00m\n\u001B[0;32m     28\u001B[0m     indiv_df\u001B[38;5;241m=\u001B[39m pd\u001B[38;5;241m.\u001B[39mDataFrame(index\u001B[38;5;241m=\u001B[39m\u001B[38;5;28mrange\u001B[39m(\u001B[38;5;241m0\u001B[39m),columns\u001B[38;5;241m=\u001B[39m(\u001B[38;5;28mrange\u001B[39m(\u001B[38;5;28mint\u001B[39m((frame_length\u001B[38;5;241m*\u001B[39mFs)\u001B[38;5;241m+\u001B[39m\u001B[38;5;241m7\u001B[39m))))\n\u001B[0;32m     29\u001B[0m     \u001B[38;5;66;03m#indiv_raw_df= pd.DataFrame(index=range(0),columns=(range(2055)))\u001B[39;00m\n",
      "Input \u001B[1;32mIn [13]\u001B[0m, in \u001B[0;36m<cell line: 26>\u001B[1;34m()\u001B[0m\n\u001B[0;32m     22\u001B[0m range_df\u001B[38;5;241m=\u001B[39mpd\u001B[38;5;241m.\u001B[39mDataFrame(index\u001B[38;5;241m=\u001B[39m\u001B[38;5;28mrange\u001B[39m(\u001B[38;5;241m0\u001B[39m),columns\u001B[38;5;241m=\u001B[39m(\u001B[38;5;28mrange\u001B[39m(\u001B[38;5;28mint\u001B[39m((frame_length\u001B[38;5;241m*\u001B[39mFs)\u001B[38;5;241m+\u001B[39m\u001B[38;5;241m7\u001B[39m))))\n\u001B[0;32m     24\u001B[0m range_raw_df\u001B[38;5;241m=\u001B[39mpd\u001B[38;5;241m.\u001B[39mDataFrame(index\u001B[38;5;241m=\u001B[39m\u001B[38;5;28mrange\u001B[39m(\u001B[38;5;241m0\u001B[39m),columns\u001B[38;5;241m=\u001B[39m(\u001B[38;5;28mrange\u001B[39m(\u001B[38;5;28mint\u001B[39m((frame_length\u001B[38;5;241m*\u001B[39mFs)\u001B[38;5;241m+\u001B[39m\u001B[38;5;241m7\u001B[39m))))\n\u001B[1;32m---> 26\u001B[0m \u001B[38;5;28;01mfor\u001B[39;00m x \u001B[38;5;129;01min\u001B[39;00m \u001B[43mpasses_df\u001B[49m\u001B[38;5;241m.\u001B[39miterrows():\n\u001B[0;32m     27\u001B[0m     \u001B[38;5;66;03m#indiv_df=pd.DataFrame(columns=[\"Pass\",\"Segment\",\"Name\",\"Lat\",\"Lon\",\"Alt\",\"Range\",'MFCC_0'])\u001B[39;00m\n\u001B[0;32m     28\u001B[0m     indiv_df\u001B[38;5;241m=\u001B[39m pd\u001B[38;5;241m.\u001B[39mDataFrame(index\u001B[38;5;241m=\u001B[39m\u001B[38;5;28mrange\u001B[39m(\u001B[38;5;241m0\u001B[39m),columns\u001B[38;5;241m=\u001B[39m(\u001B[38;5;28mrange\u001B[39m(\u001B[38;5;28mint\u001B[39m((frame_length\u001B[38;5;241m*\u001B[39mFs)\u001B[38;5;241m+\u001B[39m\u001B[38;5;241m7\u001B[39m))))\n\u001B[0;32m     29\u001B[0m     \u001B[38;5;66;03m#indiv_raw_df= pd.DataFrame(index=range(0),columns=(range(2055)))\u001B[39;00m\n",
      "File \u001B[1;32m_pydevd_bundle\\pydevd_cython_win32_39_64.pyx:1179\u001B[0m, in \u001B[0;36m_pydevd_bundle.pydevd_cython_win32_39_64.SafeCallWrapper.__call__\u001B[1;34m()\u001B[0m\n",
      "File \u001B[1;32m_pydevd_bundle\\pydevd_cython_win32_39_64.pyx:620\u001B[0m, in \u001B[0;36m_pydevd_bundle.pydevd_cython_win32_39_64.PyDBFrame.trace_dispatch\u001B[1;34m()\u001B[0m\n",
      "File \u001B[1;32m_pydevd_bundle\\pydevd_cython_win32_39_64.pyx:929\u001B[0m, in \u001B[0;36m_pydevd_bundle.pydevd_cython_win32_39_64.PyDBFrame.trace_dispatch\u001B[1;34m()\u001B[0m\n",
      "File \u001B[1;32m_pydevd_bundle\\pydevd_cython_win32_39_64.pyx:920\u001B[0m, in \u001B[0;36m_pydevd_bundle.pydevd_cython_win32_39_64.PyDBFrame.trace_dispatch\u001B[1;34m()\u001B[0m\n",
      "File \u001B[1;32m_pydevd_bundle\\pydevd_cython_win32_39_64.pyx:317\u001B[0m, in \u001B[0;36m_pydevd_bundle.pydevd_cython_win32_39_64.PyDBFrame.do_wait_suspend\u001B[1;34m()\u001B[0m\n",
      "File \u001B[1;32mC:\\Program Files\\JetBrains\\PyCharm 2021.3.2\\plugins\\python\\helpers\\pydev\\pydevd.py:1160\u001B[0m, in \u001B[0;36mPyDB.do_wait_suspend\u001B[1;34m(self, thread, frame, event, arg, send_suspend_message, is_unhandled_exception)\u001B[0m\n\u001B[0;32m   1157\u001B[0m         from_this_thread\u001B[38;5;241m.\u001B[39mappend(frame_id)\n\u001B[0;32m   1159\u001B[0m \u001B[38;5;28;01mwith\u001B[39;00m \u001B[38;5;28mself\u001B[39m\u001B[38;5;241m.\u001B[39m_threads_suspended_single_notification\u001B[38;5;241m.\u001B[39mnotify_thread_suspended(thread_id, stop_reason):\n\u001B[1;32m-> 1160\u001B[0m     \u001B[38;5;28;43mself\u001B[39;49m\u001B[38;5;241;43m.\u001B[39;49m\u001B[43m_do_wait_suspend\u001B[49m\u001B[43m(\u001B[49m\u001B[43mthread\u001B[49m\u001B[43m,\u001B[49m\u001B[43m \u001B[49m\u001B[43mframe\u001B[49m\u001B[43m,\u001B[49m\u001B[43m \u001B[49m\u001B[43mevent\u001B[49m\u001B[43m,\u001B[49m\u001B[43m \u001B[49m\u001B[43marg\u001B[49m\u001B[43m,\u001B[49m\u001B[43m \u001B[49m\u001B[43msuspend_type\u001B[49m\u001B[43m,\u001B[49m\u001B[43m \u001B[49m\u001B[43mfrom_this_thread\u001B[49m\u001B[43m)\u001B[49m\n",
      "File \u001B[1;32mC:\\Program Files\\JetBrains\\PyCharm 2021.3.2\\plugins\\python\\helpers\\pydev\\pydevd.py:1175\u001B[0m, in \u001B[0;36mPyDB._do_wait_suspend\u001B[1;34m(self, thread, frame, event, arg, suspend_type, from_this_thread)\u001B[0m\n\u001B[0;32m   1172\u001B[0m             \u001B[38;5;28mself\u001B[39m\u001B[38;5;241m.\u001B[39m_call_mpl_hook()\n\u001B[0;32m   1174\u001B[0m         \u001B[38;5;28mself\u001B[39m\u001B[38;5;241m.\u001B[39mprocess_internal_commands()\n\u001B[1;32m-> 1175\u001B[0m         \u001B[43mtime\u001B[49m\u001B[38;5;241;43m.\u001B[39;49m\u001B[43msleep\u001B[49m\u001B[43m(\u001B[49m\u001B[38;5;241;43m0.01\u001B[39;49m\u001B[43m)\u001B[49m\n\u001B[0;32m   1177\u001B[0m \u001B[38;5;28mself\u001B[39m\u001B[38;5;241m.\u001B[39mcancel_async_evaluation(get_current_thread_id(thread), \u001B[38;5;28mstr\u001B[39m(\u001B[38;5;28mid\u001B[39m(frame)))\n\u001B[0;32m   1179\u001B[0m \u001B[38;5;66;03m# process any stepping instructions\u001B[39;00m\n",
      "\u001B[1;31mKeyboardInterrupt\u001B[0m: "
     ]
    }
   ],
   "source": [
    "def create_raw_dataset(train_files, totTime,frame_length,overlap):\n",
    "    '''\n",
    "    Creates feature dataset and label dataset.\n",
    "    @param train_files: EagerTensor of file paths.\n",
    "    @return list of features (ds), list of labels corresponding to feature dataset:\n",
    "    '''\n",
    "    raw_feats={}\n",
    "    for x in train_files:\n",
    "        phone_raw=[]\n",
    "        test_audio, sampleRate = librosa.load(x, sr=Fs)\n",
    "        x = str(x)\n",
    "        if min(np.asarray(test_audio)) != 0 and len(test_audio)==totTime*Fs :\n",
    "            split=split_audio(test_audio,overlap,frame_length,Fs)\n",
    "            for frame in split:\n",
    "                phone_raw.append(frame)\n",
    "            raw_feats[x.split(\"\\\\\")[7].split(\".\")[0]]=np.array(phone_raw)\n",
    "    return raw_feats\n",
    "\n",
    "frame_length=0.5\n",
    "dictionary_list=[]\n",
    "to_meters=111139\n",
    "range_df=pd.DataFrame(index=range(0),columns=(range(int((frame_length*Fs)+7))))\n",
    "\n",
    "range_raw_df=pd.DataFrame(index=range(0),columns=(range(int((frame_length*Fs)+7))))\n",
    "\n",
    "for x in passes_df.iterrows():\n",
    "    #indiv_df=pd.DataFrame(columns=[\"Pass\",\"Segment\",\"Name\",\"Lat\",\"Lon\",\"Alt\",\"Range\",'MFCC_0'])\n",
    "    indiv_df= pd.DataFrame(index=range(0),columns=(range(int((frame_length*Fs)+7))))\n",
    "    #indiv_raw_df= pd.DataFrame(index=range(0),columns=(range(2055)))\n",
    "    phoneGPS=[]\n",
    "    row=x[1]\n",
    "    pass_num=row[0]\n",
    "    scenario=row[1]\n",
    "    run_num=row[2]\n",
    "    start=row[3]\n",
    "    stop=row[4]\n",
    "    drone_gps_file=row[5]\n",
    "    full_name=(str(scenario) + 'R' + str(run_num) + 'P' + str(pass_num)).strip()\n",
    "    searchDir(redVox_file_path+scenario+\"\\\\\"+full_name)\n",
    "    GPS_df=pd.DataFrame(phoneGPS, columns=['Name','Lat','Lon','Alt'])\n",
    "\n",
    "    start_time=datetime.datetime(2021, 8, int(start[6:8]), int(start[9:11]), int(start[11:13]),int(start[13:15])).timestamp()\n",
    "    stop_time=datetime.datetime(2021, 8, int(stop[6:8]), int(stop[9:11]), int(stop[11:13]),int(stop[13:15])).timestamp()\n",
    "    if drone_gps_file[0]== 'F':\n",
    "        FLY=True\n",
    "    else:\n",
    "        FLY=False\n",
    "    GPS_flight_log=pd.read_csv((sUAS_GPS_file_path+drone_gps_file+\".csv\"))\n",
    "    print(sUAS_GPS_file_path+drone_gps_file+\".csv\")\n",
    "    if FLY:\n",
    "        lon=GPS_flight_log.iloc[:,4]\n",
    "        offsets=GPS_flight_log.iloc[:,1]\n",
    "        lat=GPS_flight_log.iloc[:,5]\n",
    "        time=GPS_flight_log.iloc[:,7]\n",
    "        date=GPS_flight_log.iloc[:,8]\n",
    "        height=GPS_flight_log.iloc[:,9]\n",
    "    else:\n",
    "        lon=GPS_flight_log.iloc[:,3]/10**7\n",
    "        lat=GPS_flight_log.iloc[:,2]/10**7\n",
    "        time_UTC=GPS_flight_log.iloc[:,1]/10**6\n",
    "        height=GPS_flight_log.iloc[:,4]/10**3\n",
    "\n",
    "    usable_phones=[]\n",
    "    tot_time= stop_time-start_time\n",
    "    filepaths= get_filepaths((audio_file_path+scenario+\"\\\\\"+full_name))\n",
    "    phone_features= create_raw_dataset(filepaths, tot_time,frame_length,overlap)\n",
    "    first =True\n",
    "    for ph in phoneGPS:\n",
    "        if 43.00 < ph[1] < 44.00 and -75.00 > ph[2] > -76.00 and ph[0] in phone_features:\n",
    "            usable_phones.append(ph)\n",
    "    tot_segs = len(phone_features[list(phone_features.keys())[0]])\n",
    "    t=0\n",
    "    done=False\n",
    "    MFCC_index=0\n",
    "    while not done:\n",
    "        if FLY:\n",
    "            if np.isnan(time[t]):\n",
    "                cur_time=0\n",
    "            else:\n",
    "                if first:\n",
    "                    offset=offsets[t]\n",
    "                    first=False\n",
    "                    offset_time=datetime.datetime(2021, 8, int(start[6:8]), int(str(time[t])[0:2])-4,int(str(time[t])[2:4]),int(str(time[t])[4:6])).timestamp()\n",
    "                cur_time=offset_time+abs(offsets[t]-offset)\n",
    "        else:\n",
    "            cur_time=time_UTC[t]\n",
    "\n",
    "        time_delta=cur_time-start_time\n",
    "        prev_index=MFCC_index\n",
    "        MFCC_index = math.floor(tot_segs*time_delta/tot_time)\n",
    "        if  start_time <= cur_time< stop_time and MFCC_index!= prev_index:\n",
    "            #MFCC_df=pd.DataFrame()\n",
    "            for phone in usable_phones:\n",
    "                val = distanceCalc(phone[1],phone[2],phone[3], lat[t],lon[t],height[t])\n",
    "                # range_df.loc[len(range_df.index)]=[str(phone[0]),np.float64(phone[1]),np.float64(phone[2]),np.float64(phone[3]),np.float64(val),pd.Series(phone_features[phone[0]][MFCC_index])]\n",
    "\n",
    "                #data=[full_name,str(phone[0]),np.float64(phone[1]),np.float64(phone[2]),np.float64(phone[3]),np.float64(val),start_time,cur_time]\n",
    "\n",
    "                data=[full_name,str(MFCC_index),str(phone[0]),np.float64(phone[1]),np.float64(phone[2]),np.float64(phone[3]),np.float64(val)]\n",
    "                data.extend(phone_features[phone[0]][MFCC_index].tolist()) #MFCCs\n",
    "                # data_raw=[full_name,str(MFCC_index),str(phone[0]),np.float64(phone[1]),np.float64(phone[2]),np.float64(phone[3]),np.float64(val)]\n",
    "                # data_raw.extend(phone_features[phone[0]][MFCC_index].tolist()) #MFCCs\n",
    "                indiv_df.loc[len(indiv_df.index)]=data\n",
    "                #indiv_raw_df.loc[len(indiv_raw_df.index)]=data_raw\n",
    "        t+=4\n",
    "        if cur_time>stop_time:\n",
    "            done=True\n",
    "\n",
    "    range_df= pd.concat([range_df, indiv_df])\n",
    "column_names=[\"Pass\",\"Segment\",\"Name\",\"Lat\",\"Lon\",\"Alt\",\"Range\",\"raw_audio\"]\n",
    "range_df=rename_bulk_columns(range_df,column_names)\n",
    "\n",
    "range_df.to_csv('0.5_raw_audio_ranges.csv')"
   ],
   "metadata": {
    "collapsed": false,
    "pycharm": {
     "name": "#%%\n"
    }
   }
  },
  {
   "cell_type": "markdown",
   "source": [
    "Data augmentation is a failed effort... does not improve overfitting issues what so ever. In EVP, the ML model that uses data augmentation achieves 0.74 F1 score for EVP and 0.55 Phones.\n",
    "\n",
    "Currently edited to include peak normalization. On each training sample"
   ],
   "metadata": {
    "collapsed": false,
    "pycharm": {
     "name": "#%% md\n"
    }
   }
  },
  {
   "cell_type": "code",
   "execution_count": 12,
   "outputs": [
    {
     "ename": "KeyboardInterrupt",
     "evalue": "",
     "output_type": "error",
     "traceback": [
      "\u001B[1;31m---------------------------------------------------------------------------\u001B[0m",
      "\u001B[1;31mKeyboardInterrupt\u001B[0m                         Traceback (most recent call last)",
      "Input \u001B[1;32mIn [12]\u001B[0m, in \u001B[0;36m<cell line: 7>\u001B[1;34m()\u001B[0m\n\u001B[0;32m      4\u001B[0m     \u001B[38;5;28;01mreturn\u001B[39;00m DF\n\u001B[0;32m      5\u001B[0m column_names\u001B[38;5;241m=\u001B[39m[\u001B[38;5;124m\"\u001B[39m\u001B[38;5;124mPass\u001B[39m\u001B[38;5;124m\"\u001B[39m,\u001B[38;5;124m\"\u001B[39m\u001B[38;5;124mSegment\u001B[39m\u001B[38;5;124m\"\u001B[39m,\u001B[38;5;124m\"\u001B[39m\u001B[38;5;124mName\u001B[39m\u001B[38;5;124m\"\u001B[39m,\u001B[38;5;124m\"\u001B[39m\u001B[38;5;124mLat\u001B[39m\u001B[38;5;124m\"\u001B[39m,\u001B[38;5;124m\"\u001B[39m\u001B[38;5;124mLon\u001B[39m\u001B[38;5;124m\"\u001B[39m,\u001B[38;5;124m\"\u001B[39m\u001B[38;5;124mAlt\u001B[39m\u001B[38;5;124m\"\u001B[39m,\u001B[38;5;124m\"\u001B[39m\u001B[38;5;124mRange\u001B[39m\u001B[38;5;124m\"\u001B[39m,\u001B[38;5;124m\"\u001B[39m\u001B[38;5;124mMFCC_vals(0-40)\u001B[39m\u001B[38;5;124m\"\u001B[39m]\n\u001B[1;32m----> 7\u001B[0m range_df_1\u001B[38;5;241m=\u001B[39m\u001B[43mrename_bulk_columns\u001B[49m\u001B[43m(\u001B[49m\u001B[43mrange_df\u001B[49m\u001B[43m,\u001B[49m\u001B[43mcolumn_names\u001B[49m\u001B[43m)\u001B[49m\n\u001B[0;32m      9\u001B[0m range_df_1\u001B[38;5;241m.\u001B[39mto_csv(\u001B[38;5;124m'\u001B[39m\u001B[38;5;124m0.5_raw_audio_ranges.csv\u001B[39m\u001B[38;5;124m'\u001B[39m)\n",
      "Input \u001B[1;32mIn [12]\u001B[0m, in \u001B[0;36mrename_bulk_columns\u001B[1;34m(DF, nameList)\u001B[0m\n\u001B[0;32m      1\u001B[0m \u001B[38;5;28;01mdef\u001B[39;00m \u001B[38;5;21mrename_bulk_columns\u001B[39m(DF,nameList):\n\u001B[1;32m----> 2\u001B[0m     \u001B[38;5;28;01mfor\u001B[39;00m x \u001B[38;5;129;01min\u001B[39;00m \u001B[38;5;28mrange\u001B[39m(\u001B[38;5;28mlen\u001B[39m(nameList)):\n\u001B[0;32m      3\u001B[0m         DF\u001B[38;5;241m.\u001B[39mrename(columns\u001B[38;5;241m=\u001B[39m{DF\u001B[38;5;241m.\u001B[39mcolumns[x]:nameList[x]})\n\u001B[0;32m      4\u001B[0m     \u001B[38;5;28;01mreturn\u001B[39;00m DF\n",
      "Input \u001B[1;32mIn [12]\u001B[0m, in \u001B[0;36mrename_bulk_columns\u001B[1;34m(DF, nameList)\u001B[0m\n\u001B[0;32m      1\u001B[0m \u001B[38;5;28;01mdef\u001B[39;00m \u001B[38;5;21mrename_bulk_columns\u001B[39m(DF,nameList):\n\u001B[1;32m----> 2\u001B[0m     \u001B[38;5;28;01mfor\u001B[39;00m x \u001B[38;5;129;01min\u001B[39;00m \u001B[38;5;28mrange\u001B[39m(\u001B[38;5;28mlen\u001B[39m(nameList)):\n\u001B[0;32m      3\u001B[0m         DF\u001B[38;5;241m.\u001B[39mrename(columns\u001B[38;5;241m=\u001B[39m{DF\u001B[38;5;241m.\u001B[39mcolumns[x]:nameList[x]})\n\u001B[0;32m      4\u001B[0m     \u001B[38;5;28;01mreturn\u001B[39;00m DF\n",
      "File \u001B[1;32m_pydevd_bundle\\pydevd_cython_win32_39_64.pyx:1179\u001B[0m, in \u001B[0;36m_pydevd_bundle.pydevd_cython_win32_39_64.SafeCallWrapper.__call__\u001B[1;34m()\u001B[0m\n",
      "File \u001B[1;32m_pydevd_bundle\\pydevd_cython_win32_39_64.pyx:620\u001B[0m, in \u001B[0;36m_pydevd_bundle.pydevd_cython_win32_39_64.PyDBFrame.trace_dispatch\u001B[1;34m()\u001B[0m\n",
      "File \u001B[1;32m_pydevd_bundle\\pydevd_cython_win32_39_64.pyx:1095\u001B[0m, in \u001B[0;36m_pydevd_bundle.pydevd_cython_win32_39_64.PyDBFrame.trace_dispatch\u001B[1;34m()\u001B[0m\n",
      "File \u001B[1;32m_pydevd_bundle\\pydevd_cython_win32_39_64.pyx:1053\u001B[0m, in \u001B[0;36m_pydevd_bundle.pydevd_cython_win32_39_64.PyDBFrame.trace_dispatch\u001B[1;34m()\u001B[0m\n",
      "File \u001B[1;32mC:\\Program Files\\JetBrains\\PyCharm 2021.3.2\\plugins\\python\\helpers-pro\\jupyter_debug\\pydev_jupyter_plugin.py:169\u001B[0m, in \u001B[0;36mstop\u001B[1;34m(plugin, pydb, frame, event, args, stop_info, arg, step_cmd)\u001B[0m\n\u001B[0;32m    167\u001B[0m     frame \u001B[38;5;241m=\u001B[39m suspend_jupyter(main_debugger, thread, frame, step_cmd)\n\u001B[0;32m    168\u001B[0m     \u001B[38;5;28;01mif\u001B[39;00m frame:\n\u001B[1;32m--> 169\u001B[0m         \u001B[43mmain_debugger\u001B[49m\u001B[38;5;241;43m.\u001B[39;49m\u001B[43mdo_wait_suspend\u001B[49m\u001B[43m(\u001B[49m\u001B[43mthread\u001B[49m\u001B[43m,\u001B[49m\u001B[43m \u001B[49m\u001B[43mframe\u001B[49m\u001B[43m,\u001B[49m\u001B[43m \u001B[49m\u001B[43mevent\u001B[49m\u001B[43m,\u001B[49m\u001B[43m \u001B[49m\u001B[43marg\u001B[49m\u001B[43m)\u001B[49m\n\u001B[0;32m    170\u001B[0m         \u001B[38;5;28;01mreturn\u001B[39;00m \u001B[38;5;28;01mTrue\u001B[39;00m\n\u001B[0;32m    171\u001B[0m \u001B[38;5;28;01mreturn\u001B[39;00m \u001B[38;5;28;01mFalse\u001B[39;00m\n",
      "File \u001B[1;32mC:\\Program Files\\JetBrains\\PyCharm 2021.3.2\\plugins\\python\\helpers\\pydev\\pydevd.py:1160\u001B[0m, in \u001B[0;36mPyDB.do_wait_suspend\u001B[1;34m(self, thread, frame, event, arg, send_suspend_message, is_unhandled_exception)\u001B[0m\n\u001B[0;32m   1157\u001B[0m         from_this_thread\u001B[38;5;241m.\u001B[39mappend(frame_id)\n\u001B[0;32m   1159\u001B[0m \u001B[38;5;28;01mwith\u001B[39;00m \u001B[38;5;28mself\u001B[39m\u001B[38;5;241m.\u001B[39m_threads_suspended_single_notification\u001B[38;5;241m.\u001B[39mnotify_thread_suspended(thread_id, stop_reason):\n\u001B[1;32m-> 1160\u001B[0m     \u001B[38;5;28;43mself\u001B[39;49m\u001B[38;5;241;43m.\u001B[39;49m\u001B[43m_do_wait_suspend\u001B[49m\u001B[43m(\u001B[49m\u001B[43mthread\u001B[49m\u001B[43m,\u001B[49m\u001B[43m \u001B[49m\u001B[43mframe\u001B[49m\u001B[43m,\u001B[49m\u001B[43m \u001B[49m\u001B[43mevent\u001B[49m\u001B[43m,\u001B[49m\u001B[43m \u001B[49m\u001B[43marg\u001B[49m\u001B[43m,\u001B[49m\u001B[43m \u001B[49m\u001B[43msuspend_type\u001B[49m\u001B[43m,\u001B[49m\u001B[43m \u001B[49m\u001B[43mfrom_this_thread\u001B[49m\u001B[43m)\u001B[49m\n",
      "File \u001B[1;32mC:\\Program Files\\JetBrains\\PyCharm 2021.3.2\\plugins\\python\\helpers\\pydev\\pydevd.py:1175\u001B[0m, in \u001B[0;36mPyDB._do_wait_suspend\u001B[1;34m(self, thread, frame, event, arg, suspend_type, from_this_thread)\u001B[0m\n\u001B[0;32m   1172\u001B[0m             \u001B[38;5;28mself\u001B[39m\u001B[38;5;241m.\u001B[39m_call_mpl_hook()\n\u001B[0;32m   1174\u001B[0m         \u001B[38;5;28mself\u001B[39m\u001B[38;5;241m.\u001B[39mprocess_internal_commands()\n\u001B[1;32m-> 1175\u001B[0m         \u001B[43mtime\u001B[49m\u001B[38;5;241;43m.\u001B[39;49m\u001B[43msleep\u001B[49m\u001B[43m(\u001B[49m\u001B[38;5;241;43m0.01\u001B[39;49m\u001B[43m)\u001B[49m\n\u001B[0;32m   1177\u001B[0m \u001B[38;5;28mself\u001B[39m\u001B[38;5;241m.\u001B[39mcancel_async_evaluation(get_current_thread_id(thread), \u001B[38;5;28mstr\u001B[39m(\u001B[38;5;28mid\u001B[39m(frame)))\n\u001B[0;32m   1179\u001B[0m \u001B[38;5;66;03m# process any stepping instructions\u001B[39;00m\n",
      "\u001B[1;31mKeyboardInterrupt\u001B[0m: "
     ]
    }
   ],
   "source": [
    "def rename_bulk_columns(DF,nameList):\n",
    "    new_df=DF\n",
    "    for x in range(len(nameList)):\n",
    "        new_df=new_df.rename(columns={DF.columns[x]:nameList[x]})\n",
    "    return new_df\n",
    "column_names=[\"Pass\",\"Segment\",\"Name\",\"Lat\",\"Lon\",\"Alt\",\"Range\",\"MFCC_vals(0-40)\"]\n",
    "\n",
    "range_df_1=rename_bulk_columns(range_df,column_names)\n",
    "\n",
    "range_df_1.to_csv('0.5_raw_audio_ranges.csv')"
   ],
   "metadata": {
    "collapsed": false,
    "pycharm": {
     "name": "#%%\n"
    }
   }
  },
  {
   "cell_type": "markdown",
   "source": [
    "# Frequency Shift Dataset Augmentation (Up-samp Down-samp) / Changed to noise mixed"
   ],
   "metadata": {
    "collapsed": false,
    "pycharm": {
     "name": "#%% md\n"
    }
   }
  },
  {
   "cell_type": "code",
   "execution_count": 28,
   "outputs": [
    {
     "name": "stdout",
     "output_type": "stream",
     "text": [
      "\n"
     ]
    },
    {
     "name": "stderr",
     "output_type": "stream",
     "text": [
      "C:\\Users\\rclendening\\AppData\\Local\\Temp\\1\\ipykernel_17624\\2243195096.py:154: DtypeWarning: Columns (49) have mixed types. Specify dtype option on import or set low_memory=False.\n",
      "  GPS_flight_log=pd.read_csv((\"C:\\\\Users\\\\rclendening\\\\researchData\\\\ESCAPE II_AFRL_SSD\\\\UAS Campaign\\\\UAS_log_files\\\\A1_A2_A3\"+\"\\\\\"+drone_gps_file+\".csv\"))\n"
     ]
    },
    {
     "name": "stdout",
     "output_type": "stream",
     "text": [
      "C:\\Users\\rclendening\\researchData\\ESCAPE II_AFRL_SSD\\UAS Campaign\\UAS_log_files\\A1_A2_A3\\FLY101(1123-1155).csv\n"
     ]
    },
    {
     "name": "stderr",
     "output_type": "stream",
     "text": [
      "C:\\Users\\rclendening\\AppData\\Local\\Temp\\1\\ipykernel_17624\\2243195096.py:154: DtypeWarning: Columns (49) have mixed types. Specify dtype option on import or set low_memory=False.\n",
      "  GPS_flight_log=pd.read_csv((\"C:\\\\Users\\\\rclendening\\\\researchData\\\\ESCAPE II_AFRL_SSD\\\\UAS Campaign\\\\UAS_log_files\\\\A1_A2_A3\"+\"\\\\\"+drone_gps_file+\".csv\"))\n"
     ]
    },
    {
     "name": "stdout",
     "output_type": "stream",
     "text": [
      "C:\\Users\\rclendening\\researchData\\ESCAPE II_AFRL_SSD\\UAS Campaign\\UAS_log_files\\A1_A2_A3\\FLY101(1123-1155).csv\n"
     ]
    },
    {
     "name": "stderr",
     "output_type": "stream",
     "text": [
      "C:\\Users\\rclendening\\AppData\\Local\\Temp\\1\\ipykernel_17624\\2243195096.py:154: DtypeWarning: Columns (49) have mixed types. Specify dtype option on import or set low_memory=False.\n",
      "  GPS_flight_log=pd.read_csv((\"C:\\\\Users\\\\rclendening\\\\researchData\\\\ESCAPE II_AFRL_SSD\\\\UAS Campaign\\\\UAS_log_files\\\\A1_A2_A3\"+\"\\\\\"+drone_gps_file+\".csv\"))\n"
     ]
    },
    {
     "name": "stdout",
     "output_type": "stream",
     "text": [
      "C:\\Users\\rclendening\\researchData\\ESCAPE II_AFRL_SSD\\UAS Campaign\\UAS_log_files\\A1_A2_A3\\FLY101(1123-1155).csv\n"
     ]
    },
    {
     "name": "stderr",
     "output_type": "stream",
     "text": [
      "C:\\Users\\rclendening\\AppData\\Local\\Temp\\1\\ipykernel_17624\\2243195096.py:154: DtypeWarning: Columns (49) have mixed types. Specify dtype option on import or set low_memory=False.\n",
      "  GPS_flight_log=pd.read_csv((\"C:\\\\Users\\\\rclendening\\\\researchData\\\\ESCAPE II_AFRL_SSD\\\\UAS Campaign\\\\UAS_log_files\\\\A1_A2_A3\"+\"\\\\\"+drone_gps_file+\".csv\"))\n"
     ]
    },
    {
     "name": "stdout",
     "output_type": "stream",
     "text": [
      "C:\\Users\\rclendening\\researchData\\ESCAPE II_AFRL_SSD\\UAS Campaign\\UAS_log_files\\A1_A2_A3\\FLY101(1123-1155).csv\n"
     ]
    },
    {
     "name": "stderr",
     "output_type": "stream",
     "text": [
      "C:\\Users\\rclendening\\AppData\\Local\\Temp\\1\\ipykernel_17624\\2243195096.py:154: DtypeWarning: Columns (49) have mixed types. Specify dtype option on import or set low_memory=False.\n",
      "  GPS_flight_log=pd.read_csv((\"C:\\\\Users\\\\rclendening\\\\researchData\\\\ESCAPE II_AFRL_SSD\\\\UAS Campaign\\\\UAS_log_files\\\\A1_A2_A3\"+\"\\\\\"+drone_gps_file+\".csv\"))\n"
     ]
    },
    {
     "name": "stdout",
     "output_type": "stream",
     "text": [
      "C:\\Users\\rclendening\\researchData\\ESCAPE II_AFRL_SSD\\UAS Campaign\\UAS_log_files\\A1_A2_A3\\FLY101(1123-1155).csv\n"
     ]
    },
    {
     "name": "stderr",
     "output_type": "stream",
     "text": [
      "C:\\Users\\rclendening\\AppData\\Local\\Temp\\1\\ipykernel_17624\\2243195096.py:154: DtypeWarning: Columns (49) have mixed types. Specify dtype option on import or set low_memory=False.\n",
      "  GPS_flight_log=pd.read_csv((\"C:\\\\Users\\\\rclendening\\\\researchData\\\\ESCAPE II_AFRL_SSD\\\\UAS Campaign\\\\UAS_log_files\\\\A1_A2_A3\"+\"\\\\\"+drone_gps_file+\".csv\"))\n"
     ]
    },
    {
     "name": "stdout",
     "output_type": "stream",
     "text": [
      "C:\\Users\\rclendening\\researchData\\ESCAPE II_AFRL_SSD\\UAS Campaign\\UAS_log_files\\A1_A2_A3\\FLY103(1322-1342).csv\n"
     ]
    },
    {
     "name": "stderr",
     "output_type": "stream",
     "text": [
      "C:\\Users\\rclendening\\AppData\\Local\\Temp\\1\\ipykernel_17624\\2243195096.py:154: DtypeWarning: Columns (49) have mixed types. Specify dtype option on import or set low_memory=False.\n",
      "  GPS_flight_log=pd.read_csv((\"C:\\\\Users\\\\rclendening\\\\researchData\\\\ESCAPE II_AFRL_SSD\\\\UAS Campaign\\\\UAS_log_files\\\\A1_A2_A3\"+\"\\\\\"+drone_gps_file+\".csv\"))\n"
     ]
    },
    {
     "name": "stdout",
     "output_type": "stream",
     "text": [
      "C:\\Users\\rclendening\\researchData\\ESCAPE II_AFRL_SSD\\UAS Campaign\\UAS_log_files\\A1_A2_A3\\FLY103(1322-1342).csv\n"
     ]
    },
    {
     "name": "stderr",
     "output_type": "stream",
     "text": [
      "C:\\Users\\rclendening\\AppData\\Local\\Temp\\1\\ipykernel_17624\\2243195096.py:154: DtypeWarning: Columns (49) have mixed types. Specify dtype option on import or set low_memory=False.\n",
      "  GPS_flight_log=pd.read_csv((\"C:\\\\Users\\\\rclendening\\\\researchData\\\\ESCAPE II_AFRL_SSD\\\\UAS Campaign\\\\UAS_log_files\\\\A1_A2_A3\"+\"\\\\\"+drone_gps_file+\".csv\"))\n"
     ]
    },
    {
     "name": "stdout",
     "output_type": "stream",
     "text": [
      "C:\\Users\\rclendening\\researchData\\ESCAPE II_AFRL_SSD\\UAS Campaign\\UAS_log_files\\A1_A2_A3\\FLY103(1322-1342).csv\n"
     ]
    },
    {
     "name": "stderr",
     "output_type": "stream",
     "text": [
      "C:\\Users\\rclendening\\AppData\\Local\\Temp\\1\\ipykernel_17624\\2243195096.py:154: DtypeWarning: Columns (49) have mixed types. Specify dtype option on import or set low_memory=False.\n",
      "  GPS_flight_log=pd.read_csv((\"C:\\\\Users\\\\rclendening\\\\researchData\\\\ESCAPE II_AFRL_SSD\\\\UAS Campaign\\\\UAS_log_files\\\\A1_A2_A3\"+\"\\\\\"+drone_gps_file+\".csv\"))\n"
     ]
    },
    {
     "name": "stdout",
     "output_type": "stream",
     "text": [
      "C:\\Users\\rclendening\\researchData\\ESCAPE II_AFRL_SSD\\UAS Campaign\\UAS_log_files\\A1_A2_A3\\FLY103(1322-1342).csv\n"
     ]
    },
    {
     "name": "stderr",
     "output_type": "stream",
     "text": [
      "C:\\Users\\rclendening\\AppData\\Local\\Temp\\1\\ipykernel_17624\\2243195096.py:154: DtypeWarning: Columns (49) have mixed types. Specify dtype option on import or set low_memory=False.\n",
      "  GPS_flight_log=pd.read_csv((\"C:\\\\Users\\\\rclendening\\\\researchData\\\\ESCAPE II_AFRL_SSD\\\\UAS Campaign\\\\UAS_log_files\\\\A1_A2_A3\"+\"\\\\\"+drone_gps_file+\".csv\"))\n"
     ]
    },
    {
     "name": "stdout",
     "output_type": "stream",
     "text": [
      "C:\\Users\\rclendening\\researchData\\ESCAPE II_AFRL_SSD\\UAS Campaign\\UAS_log_files\\A1_A2_A3\\FLY103(1322-1342).csv\n"
     ]
    },
    {
     "name": "stderr",
     "output_type": "stream",
     "text": [
      "C:\\Users\\rclendening\\AppData\\Local\\Temp\\1\\ipykernel_17624\\2243195096.py:154: DtypeWarning: Columns (49) have mixed types. Specify dtype option on import or set low_memory=False.\n",
      "  GPS_flight_log=pd.read_csv((\"C:\\\\Users\\\\rclendening\\\\researchData\\\\ESCAPE II_AFRL_SSD\\\\UAS Campaign\\\\UAS_log_files\\\\A1_A2_A3\"+\"\\\\\"+drone_gps_file+\".csv\"))\n"
     ]
    },
    {
     "name": "stdout",
     "output_type": "stream",
     "text": [
      "C:\\Users\\rclendening\\researchData\\ESCAPE II_AFRL_SSD\\UAS Campaign\\UAS_log_files\\A1_A2_A3\\FLY103(1322-1342).csv\n"
     ]
    },
    {
     "name": "stderr",
     "output_type": "stream",
     "text": [
      "C:\\Users\\rclendening\\AppData\\Local\\Temp\\1\\ipykernel_17624\\2243195096.py:154: DtypeWarning: Columns (19) have mixed types. Specify dtype option on import or set low_memory=False.\n",
      "  GPS_flight_log=pd.read_csv((\"C:\\\\Users\\\\rclendening\\\\researchData\\\\ESCAPE II_AFRL_SSD\\\\UAS Campaign\\\\UAS_log_files\\\\A1_A2_A3\"+\"\\\\\"+drone_gps_file+\".csv\"))\n"
     ]
    },
    {
     "name": "stdout",
     "output_type": "stream",
     "text": [
      "C:\\Users\\rclendening\\researchData\\ESCAPE II_AFRL_SSD\\UAS Campaign\\UAS_log_files\\A1_A2_A3\\FLY031(1333-1358).csv\n"
     ]
    },
    {
     "name": "stderr",
     "output_type": "stream",
     "text": [
      "C:\\Users\\rclendening\\AppData\\Local\\Temp\\1\\ipykernel_17624\\2243195096.py:154: DtypeWarning: Columns (19) have mixed types. Specify dtype option on import or set low_memory=False.\n",
      "  GPS_flight_log=pd.read_csv((\"C:\\\\Users\\\\rclendening\\\\researchData\\\\ESCAPE II_AFRL_SSD\\\\UAS Campaign\\\\UAS_log_files\\\\A1_A2_A3\"+\"\\\\\"+drone_gps_file+\".csv\"))\n"
     ]
    },
    {
     "name": "stdout",
     "output_type": "stream",
     "text": [
      "C:\\Users\\rclendening\\researchData\\ESCAPE II_AFRL_SSD\\UAS Campaign\\UAS_log_files\\A1_A2_A3\\FLY031(1333-1358).csv\n"
     ]
    },
    {
     "name": "stderr",
     "output_type": "stream",
     "text": [
      "C:\\Users\\rclendening\\AppData\\Local\\Temp\\1\\ipykernel_17624\\2243195096.py:154: DtypeWarning: Columns (19) have mixed types. Specify dtype option on import or set low_memory=False.\n",
      "  GPS_flight_log=pd.read_csv((\"C:\\\\Users\\\\rclendening\\\\researchData\\\\ESCAPE II_AFRL_SSD\\\\UAS Campaign\\\\UAS_log_files\\\\A1_A2_A3\"+\"\\\\\"+drone_gps_file+\".csv\"))\n"
     ]
    },
    {
     "name": "stdout",
     "output_type": "stream",
     "text": [
      "C:\\Users\\rclendening\\researchData\\ESCAPE II_AFRL_SSD\\UAS Campaign\\UAS_log_files\\A1_A2_A3\\FLY031(1333-1358).csv\n"
     ]
    },
    {
     "name": "stderr",
     "output_type": "stream",
     "text": [
      "C:\\Users\\rclendening\\AppData\\Local\\Temp\\1\\ipykernel_17624\\2243195096.py:154: DtypeWarning: Columns (19) have mixed types. Specify dtype option on import or set low_memory=False.\n",
      "  GPS_flight_log=pd.read_csv((\"C:\\\\Users\\\\rclendening\\\\researchData\\\\ESCAPE II_AFRL_SSD\\\\UAS Campaign\\\\UAS_log_files\\\\A1_A2_A3\"+\"\\\\\"+drone_gps_file+\".csv\"))\n"
     ]
    },
    {
     "name": "stdout",
     "output_type": "stream",
     "text": [
      "C:\\Users\\rclendening\\researchData\\ESCAPE II_AFRL_SSD\\UAS Campaign\\UAS_log_files\\A1_A2_A3\\FLY031(1333-1358).csv\n",
      "C:\\Users\\rclendening\\researchData\\ESCAPE II_AFRL_SSD\\UAS Campaign\\UAS_log_files\\A1_A2_A3\\FLY032(1358-1412).csv\n"
     ]
    },
    {
     "name": "stderr",
     "output_type": "stream",
     "text": [
      "C:\\Users\\rclendening\\AppData\\Local\\Temp\\1\\ipykernel_17624\\2243195096.py:154: DtypeWarning: Columns (19) have mixed types. Specify dtype option on import or set low_memory=False.\n",
      "  GPS_flight_log=pd.read_csv((\"C:\\\\Users\\\\rclendening\\\\researchData\\\\ESCAPE II_AFRL_SSD\\\\UAS Campaign\\\\UAS_log_files\\\\A1_A2_A3\"+\"\\\\\"+drone_gps_file+\".csv\"))\n"
     ]
    },
    {
     "name": "stdout",
     "output_type": "stream",
     "text": [
      "C:\\Users\\rclendening\\researchData\\ESCAPE II_AFRL_SSD\\UAS Campaign\\UAS_log_files\\A1_A2_A3\\FLY031(1333-1358).csv\n"
     ]
    },
    {
     "name": "stderr",
     "output_type": "stream",
     "text": [
      "C:\\Users\\rclendening\\AppData\\Local\\Temp\\1\\ipykernel_17624\\2243195096.py:154: DtypeWarning: Columns (19) have mixed types. Specify dtype option on import or set low_memory=False.\n",
      "  GPS_flight_log=pd.read_csv((\"C:\\\\Users\\\\rclendening\\\\researchData\\\\ESCAPE II_AFRL_SSD\\\\UAS Campaign\\\\UAS_log_files\\\\A1_A2_A3\"+\"\\\\\"+drone_gps_file+\".csv\"))\n"
     ]
    },
    {
     "name": "stdout",
     "output_type": "stream",
     "text": [
      "C:\\Users\\rclendening\\researchData\\ESCAPE II_AFRL_SSD\\UAS Campaign\\UAS_log_files\\A1_A2_A3\\FLY031(1333-1358).csv\n"
     ]
    },
    {
     "name": "stderr",
     "output_type": "stream",
     "text": [
      "C:\\Users\\rclendening\\AppData\\Local\\Temp\\1\\ipykernel_17624\\2243195096.py:154: DtypeWarning: Columns (19) have mixed types. Specify dtype option on import or set low_memory=False.\n",
      "  GPS_flight_log=pd.read_csv((\"C:\\\\Users\\\\rclendening\\\\researchData\\\\ESCAPE II_AFRL_SSD\\\\UAS Campaign\\\\UAS_log_files\\\\A1_A2_A3\"+\"\\\\\"+drone_gps_file+\".csv\"))\n"
     ]
    },
    {
     "name": "stdout",
     "output_type": "stream",
     "text": [
      "C:\\Users\\rclendening\\researchData\\ESCAPE II_AFRL_SSD\\UAS Campaign\\UAS_log_files\\A1_A2_A3\\FLY031(1333-1358).csv\n",
      "C:\\Users\\rclendening\\researchData\\ESCAPE II_AFRL_SSD\\UAS Campaign\\UAS_log_files\\A1_A2_A3\\FLY032(1358-1412).csv\n",
      "C:\\Users\\rclendening\\researchData\\ESCAPE II_AFRL_SSD\\UAS Campaign\\UAS_log_files\\A1_A2_A3\\FLY032(1358-1412).csv\n"
     ]
    },
    {
     "name": "stderr",
     "output_type": "stream",
     "text": [
      "C:\\Users\\rclendening\\AppData\\Local\\Temp\\1\\ipykernel_17624\\2243195096.py:233: DtypeWarning: Columns (49) have mixed types. Specify dtype option on import or set low_memory=False.\n",
      "  GPS_flight_log=pd.read_csv((\"C:\\\\Users\\\\rclendening\\\\researchData\\\\ESCAPE II_AFRL_SSD\\\\UAS Campaign\\\\UAS_log_files\\\\A1_A2_A3\"+\"\\\\\"+drone_gps_file+\".csv\"))\n"
     ]
    },
    {
     "name": "stdout",
     "output_type": "stream",
     "text": [
      "C:\\Users\\rclendening\\researchData\\ESCAPE II_AFRL_SSD\\UAS Campaign\\UAS_log_files\\A1_A2_A3\\FLY131.csv\n"
     ]
    },
    {
     "name": "stderr",
     "output_type": "stream",
     "text": [
      "C:\\Users\\rclendening\\AppData\\Local\\Temp\\1\\ipykernel_17624\\2243195096.py:233: DtypeWarning: Columns (49) have mixed types. Specify dtype option on import or set low_memory=False.\n",
      "  GPS_flight_log=pd.read_csv((\"C:\\\\Users\\\\rclendening\\\\researchData\\\\ESCAPE II_AFRL_SSD\\\\UAS Campaign\\\\UAS_log_files\\\\A1_A2_A3\"+\"\\\\\"+drone_gps_file+\".csv\"))\n"
     ]
    },
    {
     "name": "stdout",
     "output_type": "stream",
     "text": [
      "C:\\Users\\rclendening\\researchData\\ESCAPE II_AFRL_SSD\\UAS Campaign\\UAS_log_files\\A1_A2_A3\\FLY135.csv\n"
     ]
    },
    {
     "name": "stderr",
     "output_type": "stream",
     "text": [
      "C:\\Users\\rclendening\\AppData\\Local\\Temp\\1\\ipykernel_17624\\2243195096.py:233: DtypeWarning: Columns (49) have mixed types. Specify dtype option on import or set low_memory=False.\n",
      "  GPS_flight_log=pd.read_csv((\"C:\\\\Users\\\\rclendening\\\\researchData\\\\ESCAPE II_AFRL_SSD\\\\UAS Campaign\\\\UAS_log_files\\\\A1_A2_A3\"+\"\\\\\"+drone_gps_file+\".csv\"))\n"
     ]
    },
    {
     "name": "stdout",
     "output_type": "stream",
     "text": [
      "C:\\Users\\rclendening\\researchData\\ESCAPE II_AFRL_SSD\\UAS Campaign\\UAS_log_files\\A1_A2_A3\\FLY135.csv\n"
     ]
    },
    {
     "name": "stderr",
     "output_type": "stream",
     "text": [
      "C:\\Users\\rclendening\\AppData\\Local\\Temp\\1\\ipykernel_17624\\2243195096.py:233: DtypeWarning: Columns (49) have mixed types. Specify dtype option on import or set low_memory=False.\n",
      "  GPS_flight_log=pd.read_csv((\"C:\\\\Users\\\\rclendening\\\\researchData\\\\ESCAPE II_AFRL_SSD\\\\UAS Campaign\\\\UAS_log_files\\\\A1_A2_A3\"+\"\\\\\"+drone_gps_file+\".csv\"))\n"
     ]
    },
    {
     "name": "stdout",
     "output_type": "stream",
     "text": [
      "C:\\Users\\rclendening\\researchData\\ESCAPE II_AFRL_SSD\\UAS Campaign\\UAS_log_files\\A1_A2_A3\\FLY135.csv\n"
     ]
    },
    {
     "name": "stderr",
     "output_type": "stream",
     "text": [
      "C:\\Users\\rclendening\\AppData\\Local\\Temp\\1\\ipykernel_17624\\2243195096.py:233: DtypeWarning: Columns (49) have mixed types. Specify dtype option on import or set low_memory=False.\n",
      "  GPS_flight_log=pd.read_csv((\"C:\\\\Users\\\\rclendening\\\\researchData\\\\ESCAPE II_AFRL_SSD\\\\UAS Campaign\\\\UAS_log_files\\\\A1_A2_A3\"+\"\\\\\"+drone_gps_file+\".csv\"))\n"
     ]
    },
    {
     "name": "stdout",
     "output_type": "stream",
     "text": [
      "C:\\Users\\rclendening\\researchData\\ESCAPE II_AFRL_SSD\\UAS Campaign\\UAS_log_files\\A1_A2_A3\\FLY135.csv\n",
      "C:\\Users\\rclendening\\researchData\\ESCAPE II_AFRL_SSD\\UAS Campaign\\UAS_log_files\\A1_A2_A3\\FLY036.csv\n"
     ]
    }
   ],
   "source": [
    "def convertToGPS(path,name):\n",
    "    window = dataTools.import_redVoxData(path)\n",
    "    station = window.first_station()\n",
    "\n",
    "    locationSensor = station.best_location_sensor()\n",
    "    if locationSensor:\n",
    "        lat=locationSensor._data.columns[3]\n",
    "        lon=locationSensor._data.columns[4]\n",
    "        alt=locationSensor._data.columns[5]\n",
    "        phoneGPS.append([name,np.mean(lat),np.mean(lon),150.0]) #gps altitude seems a bit off\n",
    "\n",
    "noise_path=r\"C:\\Users\\rclendening\\researchData\\YT_vids\\Noise\"\n",
    "def searchDir(rootdir):\n",
    "    it = 0\n",
    "    for it in os.scandir(rootdir):\n",
    "        if it.is_dir():\n",
    "            # print(it.path)\n",
    "            searchDir(it)\n",
    "        else:\n",
    "            it = os.path.dirname(it)\n",
    "            break\n",
    "    if isinstance(it, str):\n",
    "        splitPath = it.split('\\\\')\n",
    "        convertToGPS(it,splitPath[8])\n",
    "\n",
    "def get_filepaths(data_path):\n",
    "    data_files=[]\n",
    "    for path, subdirs, files in os.walk(data_path):\n",
    "        for name in files:\n",
    "            data_files.append(os.path.join(path, name))\n",
    "    return data_files\n",
    "\n",
    "# def split_audio(waveData, sampleFreq):\n",
    "#     '''\n",
    "#     Frames audio data and converts to feature space (MFCC)\n",
    "#     :param waveData: waveData array of time-domain audio\n",
    "#     :param sampleFreq: Sample Frequency (8Khz)\n",
    "#     @return list of features (ds), list of labels corresponding to feature dataset:\n",
    "#     '''\n",
    "#     # middle third of data\n",
    "#     duration = waveData.shape[0]\n",
    "#     startTime = np.round(duration / 3)\n",
    "#     endTime = np.round(duration * 2 / 3)\n",
    "#     waveDataSplit= waveData[int(startTime):int(endTime)]\n",
    "#     features=MFCCCalc(waveDataSplit.squeeze(), sampleFreq)\n",
    "#     #label= [droneDict[labelName]] * features.shape[1]\n",
    "#     return features\n",
    "\n",
    "def create_dataset(train_files, totTime):\n",
    "    '''\n",
    "    Creates feature dataset and label dataset.\n",
    "    @param train_files: EagerTensor of file paths.\n",
    "    @return list of features (ds), list of labels corresponding to feature dataset:\n",
    "    '''\n",
    "    features = {}\n",
    "    for x in train_files:\n",
    "        #test_file = tf.io.read_file(x)\n",
    "        #test_audio, sampleRate = tf.audio.decode_wav(contents=test_file)\n",
    "        test_audio, sampleRate = librosa.load(x, sr=8000)\n",
    "        x = str(x)\n",
    "        if min(np.asarray(test_audio)) != 0 and len(test_audio)==totTime*8000 :\n",
    "            #newData = test_audio[0: test_audio.shape[0] - test_audio.shape[0] % sampleRate]  # trim to nearest second\n",
    "            #newFeats, newLabs = split_audio(test_audio, int(sampleRate))\n",
    "            phone_features = MFCCCalc(test_audio.squeeze(),Fs=8000)\n",
    "            features[x.split(\"\\\\\")[7].split(\".\")[0]]=phone_features.transpose()\n",
    "        # else:\n",
    "        #     features.append([x.split(\"\\\\\")[7].split(\".\")[0],0.00]) #just trying to fill space\n",
    "\n",
    "    return features\n",
    "\n",
    "def create_aug_dataset(train_files, totTime, fs, noise_files):\n",
    "    '''\n",
    "    Creates feature dataset and label dataset.\n",
    "    @param train_files: EagerTensor of file paths.\n",
    "    @return list of features (ds), list of labels corresponding to feature dataset:\n",
    "    '''\n",
    "    features = {}\n",
    "    noise_audio_file=noise_files[np.random.randint(0,2)]\n",
    "    noise_audio, sampleRate = librosa.load(noise_audio_file, sr=fs)\n",
    "    for x in train_files:\n",
    "        #test_file = tf.io.read_file(x)\n",
    "        #test_audio, sampleRate = tf.audio.decode_wav(contents=test_file)\n",
    "        test_audio, sampleRate = librosa.load(x, sr=fs)\n",
    "        x = str(x)\n",
    "        if min(np.asarray(test_audio)) != 0 and len(test_audio)==totTime*8000 :\n",
    "            noise_audio=np.resize(noise_audio,len(test_audio))\n",
    "            test_audio=test_audio * np.random.uniform(0.8, 1.2) + noise_audio * np.random.uniform(0, 0.1)\n",
    "            #newData = test_audio[0: test_audio.shape[0] - test_audio.shape[0] % sampleRate]  # trim to nearest second\n",
    "            #newFeats, newLabs = split_audio(test_audio, int(sampleRate))\n",
    "            phone_features = MFCCCalc(test_audio.squeeze(),Fs=8000)\n",
    "            features[x.split(\"\\\\\")[7].split(\".\")[0]]=phone_features.transpose()\n",
    "        # else:\n",
    "        #     features.append([x.split(\"\\\\\")[7].split(\".\")[0],0.00]) #just trying to fill space\n",
    "\n",
    "    return features\n",
    "def MFCCCalc(audioData, Fs):\n",
    "    '''\n",
    "    Converts decoded wav file to MFCC feature space\n",
    "    @param audioData: Numpy array of decoded audio wav file\n",
    "    @return MFCC coefficients\n",
    "    '''\n",
    "    #audioData=audioData.numpy()\n",
    "    data= audioData.astype(float)\n",
    "    #coefs = mfcc(data, sr=sampleRate, hop_length=2048)\n",
    "    coefs = mfcc(y=data, hop_length=2048,n_fft=2048,n_mfcc=40, sr=Fs)\n",
    "    return coefs\n",
    "aug_vals=[7000,7200,7400,7600,7800,8000,8200,8400,8600,8800,9000]\n",
    "dictionary_list=[]\n",
    "passes_df=pd.read_csv(r\"C:\\Users\\rclendening\\researchData\\researchCSVs_Scripts_etc\\A1_A2_A3_flight_directory_w_Matrice_Phantom.csv\")\n",
    "print()\n",
    "to_meters=111139\n",
    "range_df=pd.DataFrame(columns=[\"Pass\",\"Segment\",\"Name\",\"Lat\",\"Lon\",\"Alt\",\"Range\"])\n",
    "#range_df= pd.DataFrame(index=range(0),columns=(range(263)))\n",
    "range_raw_df= pd.DataFrame(index=range(0),columns=(range(7)))\n",
    "#range_df=pd.DataFrame()\n",
    "#test123=readDirectoryCSV(r\"C:\\Users\\rclendening\\researchData\\researchCSVs_Scripts_etc\\A1_A2_flight_directory.csv\")\n",
    "def distanceCalc(phoneLat,phoneLon,phoneAlt, droneLat,droneLon,droneAlt):\n",
    "    lat_delta= (phoneLat-droneLat)*to_meters\n",
    "    lon_delta=(phoneLon-droneLon)*to_meters\n",
    "    return np.sqrt((lat_delta**2+lon_delta**2+(phoneAlt-droneAlt)**2))\n",
    "\n",
    "\n",
    "def maxValueRanks(maxValArray):\n",
    "    maxValueRankArr=[]\n",
    "    for x in maxValArray:\n",
    "        seq = sorted(x)\n",
    "        index = [seq.index(v) for v in x]\n",
    "        maxValueRankArr.append(index)\n",
    "    return maxValueRankArr\n",
    "\n",
    "for x in passes_df.iterrows():\n",
    "    #indiv_df=pd.DataFrame(columns=[\"Pass\",\"Segment\",\"Name\",\"Lat\",\"Lon\",\"Alt\",\"Range\",'MFCC_0'])\n",
    "    #indiv_df= pd.DataFrame(index=range(0),columns=(range(263)))\n",
    "    indiv_raw_df= pd.DataFrame(index=range(0),columns=(range(47)))\n",
    "    phoneGPS=[]\n",
    "    row=x[1]\n",
    "    pass_num=row[0]\n",
    "    scenario=row[1]\n",
    "    run_num=row[2]\n",
    "    start=row[3]\n",
    "    stop=row[4]\n",
    "    drone_gps_file=row[5]\n",
    "    full_name=(str(scenario) + 'R' + str(run_num) + 'P' + str(pass_num)).strip()\n",
    "    if scenario ==\"A1\" or scenario==\"A2\":\n",
    "        indiv_raw_df= pd.DataFrame(index=range(0),columns=(range(47)))\n",
    "        searchDir((\"C:\\\\Users\\\\rclendening\\\\researchData\\\\Unused_Datasets\\\\EscapeCell_Data\\\\\"+scenario+\"\\\\\"+full_name))\n",
    "        GPS_df=pd.DataFrame(phoneGPS, columns=['Name','Lat','Lon','Alt'])\n",
    "        start_time=datetime.datetime(2021, 8, int(start[6:8]), int(start[9:11]), int(start[11:13]),int(start[13:15])).timestamp()\n",
    "        stop_time=datetime.datetime(2021, 8, int(stop[6:8]), int(stop[9:11]), int(stop[11:13]),int(stop[13:15])).timestamp()\n",
    "        if drone_gps_file[0]== 'F':\n",
    "            FLY=True\n",
    "        else:\n",
    "            FLY=False\n",
    "        GPS_flight_log=pd.read_csv((\"C:\\\\Users\\\\rclendening\\\\researchData\\\\ESCAPE II_AFRL_SSD\\\\UAS Campaign\\\\UAS_log_files\\\\A1_A2_A3\"+\"\\\\\"+drone_gps_file+\".csv\"))\n",
    "        print(\"C:\\\\Users\\\\rclendening\\\\researchData\\\\ESCAPE II_AFRL_SSD\\\\UAS Campaign\\\\UAS_log_files\\\\A1_A2_A3\"+\"\\\\\"+drone_gps_file+\".csv\")\n",
    "        if FLY:\n",
    "            lon=GPS_flight_log.iloc[:,4]\n",
    "            offsets=GPS_flight_log.iloc[:,1]\n",
    "            lat=GPS_flight_log.iloc[:,5]\n",
    "            time=GPS_flight_log.iloc[:,7]\n",
    "            date=GPS_flight_log.iloc[:,8]\n",
    "            height=GPS_flight_log.iloc[:,9]\n",
    "        else:\n",
    "            lon=GPS_flight_log.iloc[:,3]/10**7\n",
    "            lat=GPS_flight_log.iloc[:,2]/10**7\n",
    "            time_UTC=GPS_flight_log.iloc[:,1]/10**6\n",
    "            #height=GPS_flight_log.iloc[:,5]/10**3\n",
    "            height=GPS_flight_log.iloc[:,4]/10**3\n",
    "        #for phones in GPS_df: #FLY files Long=col(5) lat=col(6) date=col(7) time=col(8) height (MSL)=col(10)\n",
    "                            #Non-FLY files lat=col(3) lon=col(4) timestamp(UTC)=col(1) height (MSL)= col(5) in millimeters\n",
    "        usable_phones=[]\n",
    "        tot_time= stop_time-start_time\n",
    "        noise_filepaths= get_filepaths(noise_path)\n",
    "        filepaths= get_filepaths(\"C:\\\\Users\\\\rclendening\\\\researchData\\\\EscapeCell_DataWav_V2\\\\\"+scenario+\"\\\\\"+full_name)\n",
    "        phone_features = create_aug_dataset(filepaths,tot_time,8000,noise_filepaths)\n",
    "        #phone_features, phone_raw= create_dataset(filepaths,tot_time)\n",
    "        first =True\n",
    "        for ph in phoneGPS:\n",
    "            if 43.00 < ph[1] < 44.00 and -75.00 > ph[2] > -76.00 and ph[0] in phone_features:\n",
    "                usable_phones.append(ph)\n",
    "        tot_segs = len(phone_features[list(phone_features.keys())[0]])\n",
    "        #tot_segs=tot_time/.128\n",
    "        # for t in range(0,len(GPS_flight_log),10):\n",
    "        t=0\n",
    "        done=False\n",
    "        MFCC_index=0\n",
    "        while not done:\n",
    "            if FLY:\n",
    "                if np.isnan(time[t]):\n",
    "                    cur_time=0\n",
    "                else:\n",
    "                    if first:\n",
    "                        offset=offsets[t]\n",
    "                        first=False\n",
    "                        offset_time=datetime.datetime(2021, 8, int(start[6:8]), int(str(time[t])[0:2])-4,int(str(time[t])[2:4]),int(str(time[t])[4:6])).timestamp()\n",
    "                    cur_time=offset_time+abs(offsets[t]-offset)\n",
    "            else:\n",
    "                cur_time=time_UTC[t]\n",
    "\n",
    "            time_delta=cur_time-start_time\n",
    "            prev_index=MFCC_index\n",
    "            MFCC_index = math.floor(tot_segs*time_delta/tot_time)\n",
    "            if  start_time <= cur_time< stop_time and MFCC_index!= prev_index:\n",
    "                #MFCC_df=pd.DataFrame()\n",
    "                for phone in usable_phones:\n",
    "                    val = distanceCalc(phone[1],phone[2],phone[3], lat[t],lon[t],height[t])\n",
    "                    # range_df.loc[len(range_df.index)]=[str(phone[0]),np.float64(phone[1]),np.float64(phone[2]),np.float64(phone[3]),np.float64(val),pd.Series(phone_features[phone[0]][MFCC_index])]\n",
    "\n",
    "                    #data=[full_name,str(phone[0]),np.float64(phone[1]),np.float64(phone[2]),np.float64(phone[3]),np.float64(val),start_time,cur_time]\n",
    "\n",
    "                    #data=[full_name,str(MFCC_index),str(phone[0]),np.float64(phone[1]),np.float64(phone[2]),np.float64(phone[3]),np.float64(val)]\n",
    "                    #data.extend(phone_features[phone[0]][MFCC_index].tolist()) #MFCCs\n",
    "                    #data_raw=[full_name+\"_\"+str(x).strip(),str(MFCC_index),str(phone[0]),np.float64(phone[1]),np.float64(phone[2]),np.float64(phone[3]),np.float64(val)]\n",
    "                    data_raw=[full_name,str(MFCC_index),str(phone[0]),np.float64(phone[1]),np.float64(phone[2]),np.float64(phone[3]),np.float64(val)]\n",
    "                    data_raw.extend(phone_features[phone[0]][MFCC_index].tolist()) #MFCCs\n",
    "                    #indiv_df.loc[len(indiv_df.index)]=data\n",
    "                    indiv_raw_df.loc[len(indiv_raw_df.index)]=data_raw\n",
    "            t+=4\n",
    "            if cur_time>stop_time:\n",
    "                done=True\n",
    "\n",
    "        #range_df= pd.concat([range_df, indiv_df])\n",
    "        range_raw_df=pd.concat([range_raw_df,indiv_raw_df])\n",
    "    else:\n",
    "        searchDir((\"C:\\\\Users\\\\rclendening\\\\researchData\\\\Unused_Datasets\\\\EscapeCell_Data\\\\\"+scenario+\"\\\\\"+full_name))\n",
    "        GPS_df=pd.DataFrame(phoneGPS, columns=['Name','Lat','Lon','Alt'])\n",
    "        start_time=datetime.datetime(2021, 8, int(start[6:8]), int(start[9:11]), int(start[11:13]),int(start[13:15])).timestamp()\n",
    "        stop_time=datetime.datetime(2021, 8, int(stop[6:8]), int(stop[9:11]), int(stop[11:13]),int(stop[13:15])).timestamp()\n",
    "        if drone_gps_file[0]== 'F':\n",
    "            FLY=True\n",
    "        else:\n",
    "            FLY=False\n",
    "        GPS_flight_log=pd.read_csv((\"C:\\\\Users\\\\rclendening\\\\researchData\\\\ESCAPE II_AFRL_SSD\\\\UAS Campaign\\\\UAS_log_files\\\\A1_A2_A3\"+\"\\\\\"+drone_gps_file+\".csv\"))\n",
    "        print(\"C:\\\\Users\\\\rclendening\\\\researchData\\\\ESCAPE II_AFRL_SSD\\\\UAS Campaign\\\\UAS_log_files\\\\A1_A2_A3\"+\"\\\\\"+drone_gps_file+\".csv\")\n",
    "        if FLY:\n",
    "            lon=GPS_flight_log.iloc[:,4]\n",
    "            offsets=GPS_flight_log.iloc[:,1]\n",
    "            lat=GPS_flight_log.iloc[:,5]\n",
    "            time=GPS_flight_log.iloc[:,7]\n",
    "            date=GPS_flight_log.iloc[:,8]\n",
    "            height=GPS_flight_log.iloc[:,9]\n",
    "        else:\n",
    "            lon=GPS_flight_log.iloc[:,3]/10**7\n",
    "            lat=GPS_flight_log.iloc[:,2]/10**7\n",
    "            time_UTC=GPS_flight_log.iloc[:,1]/10**6\n",
    "            #height=GPS_flight_log.iloc[:,5]/10**3\n",
    "            height=GPS_flight_log.iloc[:,4]/10**3\n",
    "        #for phones in GPS_df: #FLY files Long=col(5) lat=col(6) date=col(7) time=col(8) height (MSL)=col(10)\n",
    "                            #Non-FLY files lat=col(3) lon=col(4) timestamp(UTC)=col(1) height (MSL)= col(5) in millimeters\n",
    "        usable_phones=[]\n",
    "        tot_time= stop_time-start_time\n",
    "\n",
    "        filepaths= get_filepaths(\"C:\\\\Users\\\\rclendening\\\\researchData\\\\EscapeCell_DataWav_V2\\\\\"+scenario+\"\\\\\"+full_name)\n",
    "        phone_features= create_dataset(filepaths,tot_time)\n",
    "        #phone_features, phone_raw= create_dataset(filepaths,tot_time)\n",
    "        first =True\n",
    "        for ph in phoneGPS:\n",
    "            if 43.00 < ph[1] < 44.00 and -75.00 > ph[2] > -76.00 and ph[0] in phone_features:\n",
    "                usable_phones.append(ph)\n",
    "        tot_segs = len(phone_features[list(phone_features.keys())[0]])\n",
    "        #tot_segs=tot_time/.128\n",
    "        # for t in range(0,len(GPS_flight_log),10):\n",
    "        t=0\n",
    "        done=False\n",
    "        MFCC_index=0\n",
    "        while not done:\n",
    "            if FLY:\n",
    "                if np.isnan(time[t]):\n",
    "                    cur_time=0\n",
    "                else:\n",
    "                    if first:\n",
    "                        offset=offsets[t]\n",
    "                        first=False\n",
    "                        offset_time=datetime.datetime(2021, 8, int(start[6:8]), int(str(time[t])[0:2])-4,int(str(time[t])[2:4]),int(str(time[t])[4:6])).timestamp()\n",
    "                    cur_time=offset_time+abs(offsets[t]-offset)\n",
    "            else:\n",
    "                cur_time=time_UTC[t]\n",
    "\n",
    "            time_delta=cur_time-start_time\n",
    "            prev_index=MFCC_index\n",
    "            MFCC_index = math.floor(tot_segs*time_delta/tot_time)\n",
    "            if  start_time <= cur_time< stop_time and MFCC_index!= prev_index:\n",
    "                #MFCC_df=pd.DataFrame()\n",
    "                for phone in usable_phones:\n",
    "                    val = distanceCalc(phone[1],phone[2],phone[3], lat[t],lon[t],height[t])\n",
    "                    # range_df.loc[len(range_df.index)]=[str(phone[0]),np.float64(phone[1]),np.float64(phone[2]),np.float64(phone[3]),np.float64(val),pd.Series(phone_features[phone[0]][MFCC_index])]\n",
    "\n",
    "                    #data=[full_name,str(phone[0]),np.float64(phone[1]),np.float64(phone[2]),np.float64(phone[3]),np.float64(val),start_time,cur_time]\n",
    "\n",
    "                    #data=[full_name,str(MFCC_index),str(phone[0]),np.float64(phone[1]),np.float64(phone[2]),np.float64(phone[3]),np.float64(val)]\n",
    "                    #data.extend(phone_features[phone[0]][MFCC_index].tolist()) #MFCCs\n",
    "                    data_raw=[full_name,str(MFCC_index),str(phone[0]),np.float64(phone[1]),np.float64(phone[2]),np.float64(phone[3]),np.float64(val)]\n",
    "                    data_raw.extend(phone_features[phone[0]][MFCC_index].tolist()) #MFCCs\n",
    "                    #indiv_df.loc[len(indiv_df.index)]=data\n",
    "                    indiv_raw_df.loc[len(indiv_raw_df.index)]=data_raw\n",
    "            t+=4\n",
    "            if cur_time>stop_time:\n",
    "                done=True\n",
    "        #range_df= pd.concat([range_df, indiv_df])\n",
    "        range_raw_df=pd.concat([range_raw_df,indiv_raw_df])\n",
    "#range_df.to_csv('0.5s_spec_range_A1_A2_A3_no_overlap.csv')\n",
    "range_raw_df.to_csv('LT80m_detection_training_w_matrice_phantom_augment_A1_A2_A3.csv')"
   ],
   "metadata": {
    "collapsed": false,
    "pycharm": {
     "name": "#%%\n"
    }
   }
  },
  {
   "cell_type": "code",
   "execution_count": 36,
   "outputs": [],
   "source": [
    "column_names=[\"Pass\",\"Segment\",\"Name\",\"Lat\",\"Lon\",\"Alt\",\"Range\",\"MFCC_vals(0-40)\"]\n",
    "def rename_bulk_columns(DF,nameList):\n",
    "    for x in range(len(nameList)):\n",
    "        DF.columns.values[x]=nameList[x]\n",
    "\n",
    "range_raw_df.to_csv('LT80m_detection_training_w_matrice_phantom_augment_A1_A2_A3.csv')"
   ],
   "metadata": {
    "collapsed": false,
    "pycharm": {
     "name": "#%%\n"
    }
   }
  },
  {
   "cell_type": "markdown",
   "source": [
    "# Just ranges"
   ],
   "metadata": {
    "collapsed": false,
    "pycharm": {
     "name": "#%% md\n"
    }
   }
  },
  {
   "cell_type": "code",
   "execution_count": 11,
   "outputs": [
    {
     "name": "stdout",
     "output_type": "stream",
     "text": [
      "\n"
     ]
    },
    {
     "name": "stderr",
     "output_type": "stream",
     "text": [
      "C:\\Users\\rclendening\\AppData\\Local\\Temp\\1\\ipykernel_12432\\473260165.py:189: DtypeWarning: Columns (49) have mixed types. Specify dtype option on import or set low_memory=False.\n",
      "  GPS_flight_log=pd.read_csv((\"C:\\\\Users\\\\rclendening\\\\researchData\\\\ESCAPE II_AFRL_SSD\\\\UAS Campaign\\\\UAS_log_files\\\\A1_A2_A3\"+\"\\\\\"+drone_gps_file+\".csv\"))\n"
     ]
    },
    {
     "name": "stdout",
     "output_type": "stream",
     "text": [
      "C:\\Users\\rclendening\\researchData\\ESCAPE II_AFRL_SSD\\UAS Campaign\\UAS_log_files\\A1_A2_A3\\FLY131.csv\n"
     ]
    },
    {
     "name": "stderr",
     "output_type": "stream",
     "text": [
      "C:\\Users\\rclendening\\AppData\\Local\\Temp\\1\\ipykernel_12432\\473260165.py:189: DtypeWarning: Columns (49) have mixed types. Specify dtype option on import or set low_memory=False.\n",
      "  GPS_flight_log=pd.read_csv((\"C:\\\\Users\\\\rclendening\\\\researchData\\\\ESCAPE II_AFRL_SSD\\\\UAS Campaign\\\\UAS_log_files\\\\A1_A2_A3\"+\"\\\\\"+drone_gps_file+\".csv\"))\n"
     ]
    },
    {
     "name": "stdout",
     "output_type": "stream",
     "text": [
      "C:\\Users\\rclendening\\researchData\\ESCAPE II_AFRL_SSD\\UAS Campaign\\UAS_log_files\\A1_A2_A3\\FLY131.csv\n"
     ]
    },
    {
     "name": "stderr",
     "output_type": "stream",
     "text": [
      "C:\\Users\\rclendening\\AppData\\Local\\Temp\\1\\ipykernel_12432\\473260165.py:189: DtypeWarning: Columns (49) have mixed types. Specify dtype option on import or set low_memory=False.\n",
      "  GPS_flight_log=pd.read_csv((\"C:\\\\Users\\\\rclendening\\\\researchData\\\\ESCAPE II_AFRL_SSD\\\\UAS Campaign\\\\UAS_log_files\\\\A1_A2_A3\"+\"\\\\\"+drone_gps_file+\".csv\"))\n"
     ]
    },
    {
     "name": "stdout",
     "output_type": "stream",
     "text": [
      "C:\\Users\\rclendening\\researchData\\ESCAPE II_AFRL_SSD\\UAS Campaign\\UAS_log_files\\A1_A2_A3\\FLY131.csv\n"
     ]
    },
    {
     "name": "stderr",
     "output_type": "stream",
     "text": [
      "C:\\Users\\rclendening\\AppData\\Local\\Temp\\1\\ipykernel_12432\\473260165.py:189: DtypeWarning: Columns (49) have mixed types. Specify dtype option on import or set low_memory=False.\n",
      "  GPS_flight_log=pd.read_csv((\"C:\\\\Users\\\\rclendening\\\\researchData\\\\ESCAPE II_AFRL_SSD\\\\UAS Campaign\\\\UAS_log_files\\\\A1_A2_A3\"+\"\\\\\"+drone_gps_file+\".csv\"))\n"
     ]
    },
    {
     "name": "stdout",
     "output_type": "stream",
     "text": [
      "C:\\Users\\rclendening\\researchData\\ESCAPE II_AFRL_SSD\\UAS Campaign\\UAS_log_files\\A1_A2_A3\\FLY135.csv\n"
     ]
    },
    {
     "name": "stderr",
     "output_type": "stream",
     "text": [
      "C:\\Users\\rclendening\\AppData\\Local\\Temp\\1\\ipykernel_12432\\473260165.py:189: DtypeWarning: Columns (49) have mixed types. Specify dtype option on import or set low_memory=False.\n",
      "  GPS_flight_log=pd.read_csv((\"C:\\\\Users\\\\rclendening\\\\researchData\\\\ESCAPE II_AFRL_SSD\\\\UAS Campaign\\\\UAS_log_files\\\\A1_A2_A3\"+\"\\\\\"+drone_gps_file+\".csv\"))\n"
     ]
    },
    {
     "name": "stdout",
     "output_type": "stream",
     "text": [
      "C:\\Users\\rclendening\\researchData\\ESCAPE II_AFRL_SSD\\UAS Campaign\\UAS_log_files\\A1_A2_A3\\FLY135.csv\n"
     ]
    },
    {
     "name": "stderr",
     "output_type": "stream",
     "text": [
      "C:\\Users\\rclendening\\AppData\\Local\\Temp\\1\\ipykernel_12432\\473260165.py:189: DtypeWarning: Columns (49) have mixed types. Specify dtype option on import or set low_memory=False.\n",
      "  GPS_flight_log=pd.read_csv((\"C:\\\\Users\\\\rclendening\\\\researchData\\\\ESCAPE II_AFRL_SSD\\\\UAS Campaign\\\\UAS_log_files\\\\A1_A2_A3\"+\"\\\\\"+drone_gps_file+\".csv\"))\n"
     ]
    },
    {
     "name": "stdout",
     "output_type": "stream",
     "text": [
      "C:\\Users\\rclendening\\researchData\\ESCAPE II_AFRL_SSD\\UAS Campaign\\UAS_log_files\\A1_A2_A3\\FLY131.csv\n"
     ]
    },
    {
     "name": "stderr",
     "output_type": "stream",
     "text": [
      "C:\\Users\\rclendening\\AppData\\Local\\Temp\\1\\ipykernel_12432\\473260165.py:189: DtypeWarning: Columns (49) have mixed types. Specify dtype option on import or set low_memory=False.\n",
      "  GPS_flight_log=pd.read_csv((\"C:\\\\Users\\\\rclendening\\\\researchData\\\\ESCAPE II_AFRL_SSD\\\\UAS Campaign\\\\UAS_log_files\\\\A1_A2_A3\"+\"\\\\\"+drone_gps_file+\".csv\"))\n"
     ]
    },
    {
     "name": "stdout",
     "output_type": "stream",
     "text": [
      "C:\\Users\\rclendening\\researchData\\ESCAPE II_AFRL_SSD\\UAS Campaign\\UAS_log_files\\A1_A2_A3\\FLY131.csv\n"
     ]
    },
    {
     "name": "stderr",
     "output_type": "stream",
     "text": [
      "C:\\Users\\rclendening\\AppData\\Local\\Temp\\1\\ipykernel_12432\\473260165.py:189: DtypeWarning: Columns (49) have mixed types. Specify dtype option on import or set low_memory=False.\n",
      "  GPS_flight_log=pd.read_csv((\"C:\\\\Users\\\\rclendening\\\\researchData\\\\ESCAPE II_AFRL_SSD\\\\UAS Campaign\\\\UAS_log_files\\\\A1_A2_A3\"+\"\\\\\"+drone_gps_file+\".csv\"))\n"
     ]
    },
    {
     "name": "stdout",
     "output_type": "stream",
     "text": [
      "C:\\Users\\rclendening\\researchData\\ESCAPE II_AFRL_SSD\\UAS Campaign\\UAS_log_files\\A1_A2_A3\\FLY131.csv\n"
     ]
    },
    {
     "name": "stderr",
     "output_type": "stream",
     "text": [
      "C:\\Users\\rclendening\\AppData\\Local\\Temp\\1\\ipykernel_12432\\473260165.py:189: DtypeWarning: Columns (49) have mixed types. Specify dtype option on import or set low_memory=False.\n",
      "  GPS_flight_log=pd.read_csv((\"C:\\\\Users\\\\rclendening\\\\researchData\\\\ESCAPE II_AFRL_SSD\\\\UAS Campaign\\\\UAS_log_files\\\\A1_A2_A3\"+\"\\\\\"+drone_gps_file+\".csv\"))\n"
     ]
    },
    {
     "name": "stdout",
     "output_type": "stream",
     "text": [
      "C:\\Users\\rclendening\\researchData\\ESCAPE II_AFRL_SSD\\UAS Campaign\\UAS_log_files\\A1_A2_A3\\FLY135.csv\n"
     ]
    },
    {
     "name": "stderr",
     "output_type": "stream",
     "text": [
      "C:\\Users\\rclendening\\AppData\\Local\\Temp\\1\\ipykernel_12432\\473260165.py:189: DtypeWarning: Columns (49) have mixed types. Specify dtype option on import or set low_memory=False.\n",
      "  GPS_flight_log=pd.read_csv((\"C:\\\\Users\\\\rclendening\\\\researchData\\\\ESCAPE II_AFRL_SSD\\\\UAS Campaign\\\\UAS_log_files\\\\A1_A2_A3\"+\"\\\\\"+drone_gps_file+\".csv\"))\n"
     ]
    },
    {
     "name": "stdout",
     "output_type": "stream",
     "text": [
      "C:\\Users\\rclendening\\researchData\\ESCAPE II_AFRL_SSD\\UAS Campaign\\UAS_log_files\\A1_A2_A3\\FLY135.csv\n",
      "C:\\Users\\rclendening\\researchData\\ESCAPE II_AFRL_SSD\\UAS Campaign\\UAS_log_files\\A1_A2_A3\\FLY036.csv\n",
      "C:\\Users\\rclendening\\researchData\\ESCAPE II_AFRL_SSD\\UAS Campaign\\UAS_log_files\\A1_A2_A3\\FLY036.csv\n"
     ]
    },
    {
     "name": "stderr",
     "output_type": "stream",
     "text": [
      "C:\\Users\\rclendening\\AppData\\Local\\Temp\\1\\ipykernel_12432\\473260165.py:189: DtypeWarning: Columns (19) have mixed types. Specify dtype option on import or set low_memory=False.\n",
      "  GPS_flight_log=pd.read_csv((\"C:\\\\Users\\\\rclendening\\\\researchData\\\\ESCAPE II_AFRL_SSD\\\\UAS Campaign\\\\UAS_log_files\\\\A1_A2_A3\"+\"\\\\\"+drone_gps_file+\".csv\"))\n"
     ]
    },
    {
     "name": "stdout",
     "output_type": "stream",
     "text": [
      "C:\\Users\\rclendening\\researchData\\ESCAPE II_AFRL_SSD\\UAS Campaign\\UAS_log_files\\A1_A2_A3\\FLY037.csv\n"
     ]
    },
    {
     "name": "stderr",
     "output_type": "stream",
     "text": [
      "C:\\Users\\rclendening\\AppData\\Local\\Temp\\1\\ipykernel_12432\\473260165.py:189: DtypeWarning: Columns (19) have mixed types. Specify dtype option on import or set low_memory=False.\n",
      "  GPS_flight_log=pd.read_csv((\"C:\\\\Users\\\\rclendening\\\\researchData\\\\ESCAPE II_AFRL_SSD\\\\UAS Campaign\\\\UAS_log_files\\\\A1_A2_A3\"+\"\\\\\"+drone_gps_file+\".csv\"))\n"
     ]
    },
    {
     "name": "stdout",
     "output_type": "stream",
     "text": [
      "C:\\Users\\rclendening\\researchData\\ESCAPE II_AFRL_SSD\\UAS Campaign\\UAS_log_files\\A1_A2_A3\\FLY037.csv\n",
      "C:\\Users\\rclendening\\researchData\\ESCAPE II_AFRL_SSD\\UAS Campaign\\UAS_log_files\\A1_A2_A3\\FLY036.csv\n",
      "C:\\Users\\rclendening\\researchData\\ESCAPE II_AFRL_SSD\\UAS Campaign\\UAS_log_files\\A1_A2_A3\\FLY036.csv\n"
     ]
    },
    {
     "name": "stderr",
     "output_type": "stream",
     "text": [
      "C:\\Users\\rclendening\\AppData\\Local\\Temp\\1\\ipykernel_12432\\473260165.py:189: DtypeWarning: Columns (19) have mixed types. Specify dtype option on import or set low_memory=False.\n",
      "  GPS_flight_log=pd.read_csv((\"C:\\\\Users\\\\rclendening\\\\researchData\\\\ESCAPE II_AFRL_SSD\\\\UAS Campaign\\\\UAS_log_files\\\\A1_A2_A3\"+\"\\\\\"+drone_gps_file+\".csv\"))\n"
     ]
    },
    {
     "name": "stdout",
     "output_type": "stream",
     "text": [
      "C:\\Users\\rclendening\\researchData\\ESCAPE II_AFRL_SSD\\UAS Campaign\\UAS_log_files\\A1_A2_A3\\FLY037.csv\n"
     ]
    },
    {
     "name": "stderr",
     "output_type": "stream",
     "text": [
      "C:\\Users\\rclendening\\AppData\\Local\\Temp\\1\\ipykernel_12432\\473260165.py:189: DtypeWarning: Columns (19) have mixed types. Specify dtype option on import or set low_memory=False.\n",
      "  GPS_flight_log=pd.read_csv((\"C:\\\\Users\\\\rclendening\\\\researchData\\\\ESCAPE II_AFRL_SSD\\\\UAS Campaign\\\\UAS_log_files\\\\A1_A2_A3\"+\"\\\\\"+drone_gps_file+\".csv\"))\n"
     ]
    },
    {
     "name": "stdout",
     "output_type": "stream",
     "text": [
      "C:\\Users\\rclendening\\researchData\\ESCAPE II_AFRL_SSD\\UAS Campaign\\UAS_log_files\\A1_A2_A3\\FLY037.csv\n"
     ]
    }
   ],
   "source": [
    "for x in passes_df.iterrows():\n",
    "    #indiv_df=pd.DataFrame(columns=[\"Pass\",\"Segment\",\"Name\",\"Lat\",\"Lon\",\"Alt\",\"Range\",'MFCC_0'])\n",
    "    #indiv_df= pd.DataFrame(index=range(0),columns=(range(263)))\n",
    "    indiv_raw_df= pd.DataFrame(index=range(0),columns=(range(7)))\n",
    "    phoneGPS=[]\n",
    "    row=x[1]\n",
    "    pass_num=row[0]\n",
    "    scenario=row[1]\n",
    "    run_num=row[2]\n",
    "    start=row[3]\n",
    "    stop=row[4]\n",
    "    drone_gps_file=row[5]\n",
    "    full_name=(str(scenario) + 'R' + str(run_num) + 'P' + str(pass_num)).strip()\n",
    "\n",
    "    searchDir((\"C:\\\\Users\\\\rclendening\\\\researchData\\\\Unused_Datasets\\\\EscapeCell_Data\\\\\"+scenario+\"\\\\\"+full_name))\n",
    "    GPS_df=pd.DataFrame(phoneGPS, columns=['Name','Lat','Lon','Alt'])\n",
    "\n",
    "    start_time=datetime.datetime(2021, 8, int(start[6:8]), int(start[9:11]), int(start[11:13]),int(start[13:15])).timestamp()\n",
    "    stop_time=datetime.datetime(2021, 8, int(stop[6:8]), int(stop[9:11]), int(stop[11:13]),int(stop[13:15])).timestamp()\n",
    "    if drone_gps_file[0]== 'F':\n",
    "        FLY=True\n",
    "    else:\n",
    "        FLY=False\n",
    "    GPS_flight_log=pd.read_csv((\"C:\\\\Users\\\\rclendening\\\\researchData\\\\ESCAPE II_AFRL_SSD\\\\UAS Campaign\\\\UAS_log_files\\\\A1_A2_A3\"+\"\\\\\"+drone_gps_file+\".csv\"))\n",
    "    print(\"C:\\\\Users\\\\rclendening\\\\researchData\\\\ESCAPE II_AFRL_SSD\\\\UAS Campaign\\\\UAS_log_files\\\\A1_A2_A3\"+\"\\\\\"+drone_gps_file+\".csv\")\n",
    "    if FLY:\n",
    "        lon=GPS_flight_log.iloc[:,4]\n",
    "        offsets=GPS_flight_log.iloc[:,1]\n",
    "        lat=GPS_flight_log.iloc[:,5]\n",
    "        time=GPS_flight_log.iloc[:,7]\n",
    "        date=GPS_flight_log.iloc[:,8]\n",
    "        height=GPS_flight_log.iloc[:,9]\n",
    "    else:\n",
    "        lon=GPS_flight_log.iloc[:,3]/10**7\n",
    "        lat=GPS_flight_log.iloc[:,2]/10**7\n",
    "        time_UTC=GPS_flight_log.iloc[:,1]/10**6\n",
    "        #height=GPS_flight_log.iloc[:,5]/10**3\n",
    "        height=GPS_flight_log.iloc[:,4]/10**3\n",
    "    #for phones in GPS_df: #FLY files Long=col(5) lat=col(6) date=col(7) time=col(8) height (MSL)=col(10)\n",
    "                        #Non-FLY files lat=col(3) lon=col(4) timestamp(UTC)=col(1) height (MSL)= col(5) in millimeters\n",
    "    usable_phones=[]\n",
    "    tot_time= stop_time-start_time\n",
    "\n",
    "    filepaths= get_filepaths(\"C:\\\\Users\\\\rclendening\\\\researchData\\\\EscapeCell_DataWav_V2\\\\\"+scenario+\"\\\\\"+full_name)\n",
    "    phone_features= create_dataset(filepaths,tot_time)\n",
    "    #phone_features, phone_raw= create_dataset(filepaths,tot_time)\n",
    "    first =True\n",
    "    for ph in phoneGPS:\n",
    "        if 43.00 < ph[1] < 44.00 and -75.00 > ph[2] > -76.00 and ph[0] in phone_features:\n",
    "            usable_phones.append(ph)\n",
    "    tot_segs = len(phone_features[list(phone_features.keys())[0]])\n",
    "    # for t in range(0,len(GPS_flight_log),10):\n",
    "    t=0\n",
    "    done=False\n",
    "    MFCC_index=0\n",
    "    while not done:\n",
    "        if FLY:\n",
    "            if np.isnan(time[t]):\n",
    "                cur_time=0\n",
    "            else:\n",
    "                if first:\n",
    "                    offset=offsets[t]\n",
    "                    first=False\n",
    "                    offset_time=datetime.datetime(2021, 8, int(start[6:8]), int(str(time[t])[0:2])-4,int(str(time[t])[2:4]),int(str(time[t])[4:6])).timestamp()\n",
    "                cur_time=offset_time+abs(offsets[t]-offset)\n",
    "        else:\n",
    "            cur_time=time_UTC[t]\n",
    "\n",
    "        time_delta=cur_time-start_time\n",
    "        prev_index=MFCC_index\n",
    "        MFCC_index = math.floor(tot_segs*time_delta/tot_time)\n",
    "        if  start_time <= cur_time< stop_time and MFCC_index!= prev_index:\n",
    "            for phone in usable_phones:\n",
    "                val = distanceCalc(phone[1],phone[2],phone[3], lat[t],lon[t],height[t])\n",
    "                data_raw=[full_name,str(MFCC_index),str(phone[0]),np.float64(phone[1]),np.float64(phone[2]),np.float64(phone[3]),np.float64(val)]\n",
    "                indiv_raw_df.loc[len(indiv_raw_df.index)]=data_raw\n",
    "        t+=4\n",
    "        if cur_time>stop_time:\n",
    "            done=True\n",
    "    range_raw_df=pd.concat([range_raw_df,indiv_raw_df])\n",
    "range_raw_df.to_csv('A3_Range_truth_dot256ms.csv')"
   ],
   "metadata": {
    "collapsed": false,
    "pycharm": {
     "name": "#%%\n"
    }
   }
  }
 ],
 "metadata": {
  "kernelspec": {
   "display_name": "Python 3",
   "language": "python",
   "name": "python3"
  },
  "language_info": {
   "codemirror_mode": {
    "name": "ipython",
    "version": 2
   },
   "file_extension": ".py",
   "mimetype": "text/x-python",
   "name": "python",
   "nbconvert_exporter": "python",
   "pygments_lexer": "ipython2",
   "version": "2.7.6"
  }
 },
 "nbformat": 4,
 "nbformat_minor": 0
}