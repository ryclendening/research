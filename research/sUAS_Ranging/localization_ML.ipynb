{
 "cells": [
  {
   "cell_type": "code",
   "execution_count": null,
   "metadata": {
    "collapsed": true,
    "pycharm": {
     "name": "#%%\n"
    }
   },
   "outputs": [],
   "source": [
    "import librosa\n",
    "import pandas as pd\n",
    "from sklearn.utils import class_weight\n",
    "from librosa.effects import pitch_shift\n",
    "import os\n",
    "from sklearn.metrics import classification_report\n",
    "import pathlib\n",
    "import random\n",
    "from sklearn.metrics import confusion_matrix, balanced_accuracy_score, f1_score\n",
    "from sklearn.preprocessing import StandardScaler\n",
    "import matplotlib.pyplot as plt\n",
    "import numpy as np\n",
    "import seaborn as sns\n",
    "from librosa.feature import mfcc, melspectrogram\n",
    "import scipy.io.wavfile as wav\n",
    "import tensorflow as tf\n",
    "import scipy.signal as signal\n",
    "import keras\n",
    "from sklearn.model_selection import train_test_split\n",
    "from keras.models import Model\n",
    "from research.dataImporting import MLtools\n",
    "from keras.optimizers import adam_v2\n",
    "from keras.layers import Input, Conv1D, Conv2D, SeparableConv1D, MaxPooling1D,MaxPooling2D, Flatten, Dense, Dropout, \\\n",
    "    BatchNormalization, Activation, LSTM, Lambda, Reshape, GRU\n",
    "from keras.callbacks import EarlyStopping, ModelCheckpoint, ReduceLROnPlateau\n",
    "from sklearn.model_selection import train_test_split\n",
    "import keras.backend as K"
   ]
  },
  {
   "cell_type": "markdown",
   "source": [
    "# Associated Code for Cellphone-Based sUAS Range Estimation: A Deep-Learning Approach\n",
    "![](experiment_outline.png)\n",
    "* [Pre-process](#pre-process)\n",
    "* [Experiment 1](#exp-1)\n",
    "* [Experiment 2](#exp-2)\n",
    "Additionals Sections:\n",
    "* [Regression](#reg)"
   ],
   "metadata": {
    "collapsed": false,
    "pycharm": {
     "name": "#%% md\n"
    }
   }
  },
  {
   "cell_type": "markdown",
   "source": [
    "# Pre-Processing  <a class=\"anchor\" id=\"pre-process\"></a>\n",
    "## Import data"
   ],
   "metadata": {
    "collapsed": false,
    "pycharm": {
     "name": "#%% md\n"
    }
   }
  },
  {
   "cell_type": "code",
   "execution_count": 8,
   "outputs": [
    {
     "name": "stderr",
     "output_type": "stream",
     "text": [
      "\n",
      "KeyboardInterrupt\n",
      "\n"
     ]
    }
   ],
   "source": [
    "parent_directory=os.path.abspath(os.path.join(os.getcwd(), \"..\"))\n",
    "passes_df=pd.read_csv(parent_directory+\"\\\\flight_directories\\\\A1_A2_A3_flight_directory.csv\")\n",
    "phone_slots=[\"Phone_1-1\",\"Phone_1-3\",\"Phone_11\",\"Phone_12\",\"Phone_15\",\"Phone_2-3\",\"Phone_2-4\", \"Phone_2-5\",\"Phone_27\",\"Phone_28\",\"Phone_29\" \"Phone_3-1\",\"Phone_3-2\",\"Phone_3-4\",\"Phone_3-5\",\"Phone_30\",\"Phone_5-2\",\"Phone_5-3\",\"Phone_5-4\",\"Phone_6-2\",\"Phone_6-3\",\"Phone_6-4\",\"Phone_6-5\",\"Phone_7-1\",\"Phone_7-2\",\"Phone_8\",\"Phone_9\"]\n",
    "bad_runs=[\"A3R6P1\",\"A3R4P4\",\"A3R4P5\",\"A3R3P4\",\"A3R3P5\"]\n",
    "good_runs_IF=[\"A1R1P1\",\"A1R1P2\",\"A1R1P3\",\"A1R1P4\",\"A1R1P5\",\"A2R1P1\",\"A2R1P2\",\"A2R1P3\",\"A2R1P4\",\"A2R1P5\",\"A2R2P1\",\"A2R2P2\",\"A2R2P3\",\"A2R2P4\",\"A2R2P5\"]\n",
    "good_runs_matrice=[\"A1R2P2\",\"A1R2P3\",\"A1R2P4\",\"A1R2P5\",\"A2R3P1\",\"A2R3P2\",\"A2R4P1\",\"A2R4P2\",\"A2R4P3\",\"A3R3P1\",\"A3R3P2\",\"A3R4P2\",\"A3R4P3\",\"A3R4P5\"]\n",
    "good_runs_phantom=[\"A2R5P1\",\"A2R5P2\",\"A2R5P3\",\"A2R5P4\",\"A2R5P5\",\"A2R6P1\",\"A2R6P2\",\"A2R6P3\",\"A2R6P4\",\"A2R6P5\",\"A3R5P1\",\"A3R5P2\",\"A3R5P3\",\"A3R5P4\",\"A3R6P1\",\"A3R6P2\",\"A3R6P3\",\"A3R6P4\"]\n",
    "test_runs_matrice=[\"A2R3P3\",\"A3R3P3\"]\n",
    "notable_col_names=['Pass','Segment','Phone','Lat','Lon','Alt','Range']\n",
    "eval_runs=[\"A3R3P2\",\"A3R3P3\",\"A3R4P1\",\"A3R4P3\",\"A3R5P1\",\"A3R5P2\",\"A3R5P4\",\"A3R6P2\",\"A3R6P4\"] #test runs from EVP\n",
    "training_df_raw=pd.read_csv(\"datasets/0.5s_raw_range_A1_A2_A3_no_overlap.csv\")\n",
    "print(len(training_df_raw))"
   ],
   "metadata": {
    "collapsed": false,
    "pycharm": {
     "name": "#%%\n"
    }
   }
  },
  {
   "cell_type": "markdown",
   "source": [
    "# Classification with raw data:\n",
    "Run this section if training the 1DCNN that uses raw audio data (4000 samples) for neural network input"
   ],
   "metadata": {
    "collapsed": false,
    "pycharm": {
     "name": "#%% md\n"
    }
   }
  },
  {
   "cell_type": "code",
   "execution_count": 128,
   "outputs": [
    {
     "name": "stdout",
     "output_type": "stream",
     "text": [
      "A1R1P1\n",
      "A1R1P2\n",
      "A1R1P3\n",
      "A1R1P4\n",
      "A1R1P5\n",
      "A1R2P1\n",
      "A1R2P2\n",
      "A1R2P3\n",
      "A1R2P4\n",
      "A1R2P5\n",
      "A2R1P1\n",
      "A2R1P2\n",
      "A2R1P3\n",
      "A2R1P4\n",
      "A2R1P5\n",
      "A2R2P1\n",
      "A2R2P2\n",
      "A2R2P3\n",
      "A2R2P4\n",
      "A2R2P5\n",
      "A2R3P1\n",
      "A2R3P2\n",
      "A2R3P3\n",
      "A2R4P1\n",
      "A2R4P2\n",
      "A2R4P3\n",
      "A2R5P1\n",
      "A2R5P2\n",
      "A2R5P3\n",
      "A2R5P4\n",
      "A2R5P5\n",
      "A2R6P1\n",
      "A2R6P2\n",
      "A2R6P3\n",
      "A2R6P4\n",
      "A2R6P5\n",
      "A2R7P1\n",
      "A2R7P2\n",
      "A2R7P3\n",
      "A2R7P4\n",
      "A2R7P5\n",
      "A2R8P1\n",
      "A2R8P2\n",
      "A2R8P3\n",
      "A2R8P4\n",
      "A2R8P5\n",
      "A3R3P1\n",
      "A3R3P2\n",
      "A3R3P3\n",
      "A3R3P4\n",
      "A3R3P5\n",
      "A3R4P1\n",
      "A3R4P2\n",
      "A3R4P3\n",
      "A3R4P4\n",
      "A3R4P5\n",
      "A3R5P1\n",
      "A3R5P2\n",
      "A3R5P3\n",
      "A3R5P4\n",
      "A3R6P1\n",
      "A3R6P2\n",
      "A3R6P3\n",
      "A3R6P4\n"
     ]
    }
   ],
   "source": [
    "raw_x_data=[]\n",
    "raw_y_data=[]\n",
    "def rangeFraction(ranges): #Function normalizes ranges\n",
    "    closest=np.min(ranges)\n",
    "    return closest*1/ranges\n",
    "\n",
    "def classFinder(distance):\n",
    "    if distance<=40 :\n",
    "        class_val=0\n",
    "    elif distance<=60:\n",
    "        class_val=1\n",
    "    elif distance<=80:\n",
    "        class_val=2\n",
    "    else:\n",
    "        class_val=3\n",
    "    return class_val\n",
    "\n",
    "def rangeClosest(ranges): #Function normalizes ranges\n",
    "    ranges_copy=ranges\n",
    "    truth=np.zeros(len(ranges))\n",
    "    #for x in range(0, 2):\n",
    "    closest=np.argmin(ranges_copy)\n",
    "    ranges_copy[closest]=10000\n",
    "    truth[closest]=1\n",
    "    return truth\n",
    "for x in passes_df.iterrows():\n",
    "    row=x[1]\n",
    "    pass_num=row[0]\n",
    "    scenario=row[1]\n",
    "    run_num=row[2]\n",
    "    start=row[3]\n",
    "    stop=row[4]\n",
    "    drone_gps_file=row[5]\n",
    "    full_name=(str(scenario) + 'R' + str(run_num) + 'P' + str(pass_num)).strip()\n",
    "    pass_df=training_df_raw.loc[training_df_raw[str(notable_col_names.index('Pass'))] == full_name]\n",
    "    #pass_df=training_df.loc[training_df[\"Pass\"] == full_name]\n",
    "    max_segment=pass_df[str(notable_col_names.index('Segment'))].max()\n",
    "    #max_segment=pass_df[\"Segment\"].max()\n",
    "    #for i in range(0,max_segment):\n",
    "    print(full_name)\n",
    "    if full_name in good_runs_matrice or full_name in good_runs_phantom or full_name in good_runs_IF:\n",
    "        for phone in phone_slots:\n",
    "            phone_seg=pass_df.loc[pass_df[str(notable_col_names.index('Phone'))]==phone]\n",
    "        # frame_df=pass_df.loc[pass_df[str(notable_col_names.index('Segment'))]==i]\n",
    "        #frame_df=pass_df.loc[pass_df[\"Segment\"]==i]\n",
    "            twd_frame=[]\n",
    "            range_frame=[]\n",
    "        #for phone in phone_slots:\n",
    "            for i in range(0,max_segment):\n",
    "                frame_df=phone_seg.loc[phone_seg[str(notable_col_names.index('Segment'))]==i]\n",
    "                data=np.array(frame_df.iloc[:,8:4008])\n",
    "                dist=frame_df[str(notable_col_names.index('Range'))]\n",
    "                if len(np.array(dist)>0):\n",
    "                    if np.array(dist)[0]<250 and not(38<np.array(dist)[0]<42) and not(58<np.array(dist)[0]<62) and not(78<np.array(dist)[0]<82) :\n",
    "                        data=data[0]\n",
    "                        dist=np.array(dist)[0]\n",
    "                        class_value=classFinder(dist)\n",
    "                        twd_frame.append(data)\n",
    "                        range_frame.append(class_value)\n",
    "            raw_x_data.extend(np.array(twd_frame))\n",
    "            raw_y_data.extend(np.array(range_frame))"
   ],
   "metadata": {
    "collapsed": false,
    "pycharm": {
     "name": "#%%\n"
    }
   }
  },
  {
   "cell_type": "code",
   "execution_count": 140,
   "outputs": [
    {
     "ename": "KeyboardInterrupt",
     "evalue": "",
     "output_type": "error",
     "traceback": [
      "\u001B[1;31m---------------------------------------------------------------------------\u001B[0m",
      "\u001B[1;31mKeyboardInterrupt\u001B[0m                         Traceback (most recent call last)",
      "Input \u001B[1;32mIn [140]\u001B[0m, in \u001B[0;36m<cell line: 1>\u001B[1;34m()\u001B[0m\n\u001B[1;32m----> 1\u001B[0m \u001B[38;5;28;01mdef\u001B[39;00m \u001B[38;5;21msubsample_raw\u001B[39m(x_data,y_data):\n\u001B[0;32m      2\u001B[0m     new_x\u001B[38;5;241m=\u001B[39m[]\n\u001B[0;32m      3\u001B[0m     new_y\u001B[38;5;241m=\u001B[39m[]\n",
      "Input \u001B[1;32mIn [140]\u001B[0m, in \u001B[0;36m<cell line: 1>\u001B[1;34m()\u001B[0m\n\u001B[1;32m----> 1\u001B[0m \u001B[38;5;28;01mdef\u001B[39;00m \u001B[38;5;21msubsample_raw\u001B[39m(x_data,y_data):\n\u001B[0;32m      2\u001B[0m     new_x\u001B[38;5;241m=\u001B[39m[]\n\u001B[0;32m      3\u001B[0m     new_y\u001B[38;5;241m=\u001B[39m[]\n",
      "File \u001B[1;32m_pydevd_bundle\\pydevd_cython_win32_39_64.pyx:1179\u001B[0m, in \u001B[0;36m_pydevd_bundle.pydevd_cython_win32_39_64.SafeCallWrapper.__call__\u001B[1;34m()\u001B[0m\n",
      "File \u001B[1;32m_pydevd_bundle\\pydevd_cython_win32_39_64.pyx:620\u001B[0m, in \u001B[0;36m_pydevd_bundle.pydevd_cython_win32_39_64.PyDBFrame.trace_dispatch\u001B[1;34m()\u001B[0m\n",
      "File \u001B[1;32m_pydevd_bundle\\pydevd_cython_win32_39_64.pyx:929\u001B[0m, in \u001B[0;36m_pydevd_bundle.pydevd_cython_win32_39_64.PyDBFrame.trace_dispatch\u001B[1;34m()\u001B[0m\n",
      "File \u001B[1;32m_pydevd_bundle\\pydevd_cython_win32_39_64.pyx:920\u001B[0m, in \u001B[0;36m_pydevd_bundle.pydevd_cython_win32_39_64.PyDBFrame.trace_dispatch\u001B[1;34m()\u001B[0m\n",
      "File \u001B[1;32m_pydevd_bundle\\pydevd_cython_win32_39_64.pyx:317\u001B[0m, in \u001B[0;36m_pydevd_bundle.pydevd_cython_win32_39_64.PyDBFrame.do_wait_suspend\u001B[1;34m()\u001B[0m\n",
      "File \u001B[1;32mC:\\Program Files\\JetBrains\\PyCharm 2021.3.2\\plugins\\python\\helpers\\pydev\\pydevd.py:1160\u001B[0m, in \u001B[0;36mPyDB.do_wait_suspend\u001B[1;34m(self, thread, frame, event, arg, send_suspend_message, is_unhandled_exception)\u001B[0m\n\u001B[0;32m   1157\u001B[0m         from_this_thread\u001B[38;5;241m.\u001B[39mappend(frame_id)\n\u001B[0;32m   1159\u001B[0m \u001B[38;5;28;01mwith\u001B[39;00m \u001B[38;5;28mself\u001B[39m\u001B[38;5;241m.\u001B[39m_threads_suspended_single_notification\u001B[38;5;241m.\u001B[39mnotify_thread_suspended(thread_id, stop_reason):\n\u001B[1;32m-> 1160\u001B[0m     \u001B[38;5;28;43mself\u001B[39;49m\u001B[38;5;241;43m.\u001B[39;49m\u001B[43m_do_wait_suspend\u001B[49m\u001B[43m(\u001B[49m\u001B[43mthread\u001B[49m\u001B[43m,\u001B[49m\u001B[43m \u001B[49m\u001B[43mframe\u001B[49m\u001B[43m,\u001B[49m\u001B[43m \u001B[49m\u001B[43mevent\u001B[49m\u001B[43m,\u001B[49m\u001B[43m \u001B[49m\u001B[43marg\u001B[49m\u001B[43m,\u001B[49m\u001B[43m \u001B[49m\u001B[43msuspend_type\u001B[49m\u001B[43m,\u001B[49m\u001B[43m \u001B[49m\u001B[43mfrom_this_thread\u001B[49m\u001B[43m)\u001B[49m\n",
      "File \u001B[1;32mC:\\Program Files\\JetBrains\\PyCharm 2021.3.2\\plugins\\python\\helpers\\pydev\\pydevd.py:1175\u001B[0m, in \u001B[0;36mPyDB._do_wait_suspend\u001B[1;34m(self, thread, frame, event, arg, suspend_type, from_this_thread)\u001B[0m\n\u001B[0;32m   1172\u001B[0m             \u001B[38;5;28mself\u001B[39m\u001B[38;5;241m.\u001B[39m_call_mpl_hook()\n\u001B[0;32m   1174\u001B[0m         \u001B[38;5;28mself\u001B[39m\u001B[38;5;241m.\u001B[39mprocess_internal_commands()\n\u001B[1;32m-> 1175\u001B[0m         \u001B[43mtime\u001B[49m\u001B[38;5;241;43m.\u001B[39;49m\u001B[43msleep\u001B[49m\u001B[43m(\u001B[49m\u001B[38;5;241;43m0.01\u001B[39;49m\u001B[43m)\u001B[49m\n\u001B[0;32m   1177\u001B[0m \u001B[38;5;28mself\u001B[39m\u001B[38;5;241m.\u001B[39mcancel_async_evaluation(get_current_thread_id(thread), \u001B[38;5;28mstr\u001B[39m(\u001B[38;5;28mid\u001B[39m(frame)))\n\u001B[0;32m   1179\u001B[0m \u001B[38;5;66;03m# process any stepping instructions\u001B[39;00m\n",
      "\u001B[1;31mKeyboardInterrupt\u001B[0m: "
     ]
    }
   ],
   "source": [
    "def subsample_raw(x_data,y_data):\n",
    "    new_x=[]\n",
    "    new_y=[]\n",
    "    rng=np.random.default_rng(12345)\n",
    "    for x in range(len(x_data)):\n",
    "        rand_vals=rng.integers(low=1,high=5,size=1)\n",
    "        if y_data[x]==3 and rand_vals[0]==2:\n",
    "        #if y_data[x][0]==3 and rand_vals[0]==2:\n",
    "            new_x.append(x_data[x])\n",
    "            new_y.append(y_data[x])\n",
    "        elif y_data[x] != 3:\n",
    "            new_x.append(x_data[x])\n",
    "            new_y.append(y_data[x])\n",
    "    return np.array(new_x), np.array(new_y)\n",
    "raw_x_data=np.array(raw_x_data)\n",
    "raw_x_data=np.float32(raw_x_data)\n",
    "raw_y_data=np.array(raw_y_data)\n",
    "x_raw,y_raw=subsample_raw(raw_x_data,raw_y_data)\n",
    "train_feats_raw,test_feats_raw,train_targs_raw,test_targs_raw=train_test_split(x_raw,y_raw,test_size=0.2,shuffle=True,random_state=42)\n",
    "range_train_targs_raw=train_targs_raw[:]\n",
    "range_train_targs_oh_raw=tf.keras.utils.to_categorical(range_train_targs_raw,num_classes=4)\n",
    "range_test_targs_raw=test_targs_raw[:]\n",
    "range_test_targs_oh_raw=tf.keras.utils.to_categorical(range_test_targs_raw,num_classes=4)"
   ],
   "metadata": {
    "collapsed": false,
    "pycharm": {
     "name": "#%%\n"
    }
   }
  },
  {
   "cell_type": "code",
   "execution_count": 113,
   "outputs": [],
   "source": [
    "# 0= matrice, 1=IF, 2=Phantom\n",
    "if_train_data=[]\n",
    "if_test_data=[]\n",
    "matrice_train_data=[]\n",
    "matrice_test_data=[]\n",
    "phantom_train_data=[]\n",
    "phantom_test_data=[]\n",
    "combined_data=[]\n",
    "combined_test_data=[]\n",
    "if_train_targs=[]\n",
    "if_test_targs=[]\n",
    "matrice_train_targs=[]\n",
    "matrice_test_targs=[]\n",
    "phantom_train_targs=[]\n",
    "phantom_test_targs=[]\n",
    "for x in range(len(train_targs_raw)):\n",
    "    if train_targs_raw[x]==0:\n",
    "        matrice_train_data.append(train_feats_raw[x])\n",
    "        matrice_train_targs.append(train_targs_raw[x])\n",
    "    elif train_targs_raw[x]==1:\n",
    "        if_train_data.append(train_feats_raw[x])\n",
    "        if_train_targs.append(train_targs_raw[x])\n",
    "    elif train_targs_raw[x]==2:\n",
    "        phantom_train_data.append(train_feats_raw[x])\n",
    "        phantom_train_targs.append(train_targs_raw[x])\n",
    "\n",
    "for x in range(len(test_targs_raw)):\n",
    "    if test_targs_raw[x]==0:\n",
    "        matrice_test_data.append(test_feats_raw[x])\n",
    "        matrice_test_targs.append(test_targs_raw[x])\n",
    "    elif test_targs_raw[x]==1:\n",
    "        if_test_data.append(test_feats_raw[x])\n",
    "        if_test_targs.append(test_targs_raw[x])\n",
    "    elif test_targs_raw[x]==2:\n",
    "        phantom_test_data.append(test_feats_raw[x])\n",
    "        phantom_test_targs.append(test_targs_raw[x])\n",
    "\n",
    "\n",
    "\n",
    "combined_train_data_raw,combined_val_data_raw,combined_train_targs_raw, combined_val_targs_raw=train_test_split(train_feats_raw,train_targs_raw,test_size=0.2,shuffle=True,random_state=42)\n"
   ],
   "metadata": {
    "collapsed": false,
    "pycharm": {
     "name": "#%%\n"
    }
   }
  },
  {
   "cell_type": "markdown",
   "source": [
    "# From raw audio data (0.5s frames) to spectrogram dataset (Classification)\n",
    "Run this section if training the ML models that uses spectrogam data as the input"
   ],
   "metadata": {
    "collapsed": false,
    "pycharm": {
     "name": "#%% md\n"
    }
   }
  },
  {
   "cell_type": "code",
   "execution_count": 119,
   "outputs": [
    {
     "name": "stdout",
     "output_type": "stream",
     "text": [
      "A1R1P1\n",
      "A1R1P2\n",
      "A1R1P3\n",
      "A1R1P4\n",
      "A1R1P5\n",
      "A1R2P1\n",
      "A1R2P2\n",
      "A1R2P3\n",
      "A1R2P4\n",
      "A1R2P5\n",
      "A2R1P1\n",
      "A2R1P2\n",
      "A2R1P3\n",
      "A2R1P4\n",
      "A2R1P5\n",
      "A2R2P1\n",
      "A2R2P2\n",
      "A2R2P3\n",
      "A2R2P4\n",
      "A2R2P5\n",
      "A2R3P1\n",
      "A2R3P2\n",
      "A2R3P3\n",
      "A2R4P1\n",
      "A2R4P2\n",
      "A2R4P3\n",
      "A2R5P1\n",
      "A2R5P2\n",
      "A2R5P3\n",
      "A2R5P4\n",
      "A2R5P5\n",
      "A2R6P1\n",
      "A2R6P2\n",
      "A2R6P3\n",
      "A2R6P4\n",
      "A2R6P5\n",
      "A2R7P1\n",
      "A2R7P2\n",
      "A2R7P3\n",
      "A2R7P4\n",
      "A2R7P5\n",
      "A2R8P1\n",
      "A2R8P2\n",
      "A2R8P3\n",
      "A2R8P4\n",
      "A2R8P5\n",
      "A3R3P1\n",
      "A3R3P2\n",
      "A3R3P3\n",
      "A3R3P4\n",
      "A3R3P5\n",
      "A3R4P1\n",
      "A3R4P2\n",
      "A3R4P3\n",
      "A3R4P4\n",
      "A3R4P5\n",
      "A3R5P1\n",
      "A3R5P2\n",
      "A3R5P3\n",
      "A3R5P4\n",
      "A3R6P1\n",
      "A3R6P2\n",
      "A3R6P3\n",
      "A3R6P4\n"
     ]
    }
   ],
   "source": [
    "def confusion_matrix_maker(truth_targs,preds,name):\n",
    "    #y_true=np.argmax(range_test_targs, axis=-1)\n",
    "    cm = confusion_matrix(truth_targs, preds)\n",
    "    class_names = [\"<40\",\"40-60\",\"60-80\",\">80\"]\n",
    "    fig = plt.figure(figsize=(5, 5))\n",
    "    ax= plt.subplot()\n",
    "    sns.heatmap(cm, annot=True, ax = ax, fmt = 'g',cmap='Blues'); #annot=True to annotate cells\n",
    "    # labels, title and ticks\n",
    "    ax.set_xlabel('Predicted', fontsize=20)\n",
    "    ax.xaxis.set_label_position('bottom')\n",
    "    plt.xticks(rotation=90)\n",
    "    ax.xaxis.set_ticklabels(class_names, fontsize = 10)\n",
    "    ax.xaxis.tick_bottom()\n",
    "\n",
    "    ax.set_ylabel('True', fontsize=20)\n",
    "    ax.yaxis.set_ticklabels(class_names, fontsize = 10)\n",
    "    plt.yticks(rotation=0)\n",
    "\n",
    "    #plt.title('2DCNN Classification PhantomDS Confusion Matrix', fontsize=20)\n",
    "    plt.savefig(name+\".pdf\",bbox_inches='tight')\n",
    "def classFinder(distance):\n",
    "    if distance<=40 :\n",
    "        class_val=0\n",
    "    elif distance<=60:\n",
    "        class_val=1\n",
    "    elif distance<=80:\n",
    "        class_val=2\n",
    "    else:\n",
    "        class_val=3\n",
    "    return class_val\n",
    "\n",
    "def melspect(audioData, Fs):\n",
    "    '''\n",
    "    Converts decoded wav file to MFCC feature space\n",
    "    @param audioData: Numpy array of decoded audio wav file\n",
    "    @return MFCC coefficients\n",
    "    '''\n",
    "    data= audioData.astype(float)\n",
    "    # spect = melspectrogram(y=data,sr=Fs, hop_length=1024,n_mels=64, n_fft=2048)\n",
    "    spect = np.log(melspectrogram(y=data,sr=Fs))\n",
    "\n",
    "    return spect\n",
    "x_data=[]\n",
    "y_data=[]\n",
    "for x in passes_df.iterrows():\n",
    "    row=x[1]\n",
    "    pass_num=row[0]\n",
    "    scenario=row[1]\n",
    "    run_num=row[2]\n",
    "    start=row[3]\n",
    "    stop=row[4]\n",
    "    drone_gps_file=row[5]\n",
    "    full_name=(str(scenario) + 'R' + str(run_num) + 'P' + str(pass_num)).strip()\n",
    "    pass_df=training_df_raw.loc[training_df_raw[str(notable_col_names.index('Pass'))] == full_name]\n",
    "    #pass_df=training_df.loc[training_df[\"Pass\"] == full_name]\n",
    "    max_segment=pass_df[str(notable_col_names.index('Segment'))].max()\n",
    "    #max_segment=pass_df[\"Segment\"].max()\n",
    "    #for i in range(0,max_segment):\n",
    "    print(full_name)\n",
    "    if full_name in good_runs_IF:\n",
    "        drone_type=1\n",
    "    elif full_name in good_runs_matrice:\n",
    "        drone_type=0\n",
    "    else:\n",
    "        drone_type=2\n",
    "    if full_name in good_runs_matrice or full_name in good_runs_IF or full_name in good_runs_phantom:\n",
    "        for phone in phone_slots:\n",
    "            phone_seg=pass_df.loc[pass_df[str(notable_col_names.index('Phone'))]==phone]\n",
    "            twd_frame=[]\n",
    "            range_frame=[]\n",
    "            for i in range(0,max_segment):\n",
    "                frame_df=phone_seg.loc[phone_seg[str(notable_col_names.index('Segment'))]==i]\n",
    "                data=np.array(frame_df.iloc[:,8:4008])\n",
    "                #data=np.array(frame_df.iloc[:,8:16008])\n",
    "                if np.any(data):\n",
    "                    mel_data=melspect(data[0],8000)\n",
    "                dist=frame_df[str(notable_col_names.index('Range'))]\n",
    "                if len(np.array(dist)>0):\n",
    "                    if np.array(dist)[0]<250 and  not(38<np.array(dist)[0]<42) and not(58<np.array(dist)[0]<62) and not(78<np.array(dist)[0]<82) :\n",
    "                        data=data[0]\n",
    "                        dist=np.array(dist)[0]\n",
    "                        class_value=classFinder(dist)\n",
    "                        twd_frame.append(mel_data)\n",
    "                        range_frame.append([class_value,drone_type,dist])\n",
    "            x_data.extend(np.array(twd_frame))\n",
    "            y_data.extend(np.array(range_frame))"
   ],
   "metadata": {
    "collapsed": false,
    "pycharm": {
     "name": "#%%\n"
    }
   }
  },
  {
   "cell_type": "code",
   "execution_count": 120,
   "outputs": [],
   "source": [
    "def subsample(x_data,y_data): # this is done to try and balance the class distributions\n",
    "    new_x=[]\n",
    "    new_y=[]\n",
    "    rng=np.random.default_rng(12345)\n",
    "    for x in range(len(x_data)):\n",
    "        rand_vals=rng.integers(low=1,high=5,size=1)\n",
    "        if y_data[x][0]==3 and rand_vals[0]==2: # y_data[x][0] is the range class\n",
    "            new_x.append(x_data[x])\n",
    "            new_y.append(y_data[x])\n",
    "        elif y_data[x][0] != 3:\n",
    "            new_x.append(x_data[x])\n",
    "            new_y.append(y_data[x])\n",
    "    return np.array(new_x), np.array(new_y)\n",
    "x_data=np.array(x_data)\n",
    "x_data=np.float32(x_data)\n",
    "y_data=np.array(y_data)\n",
    "x__,y__=subsample(x_data,y_data)\n",
    "train_feats,test_feats,train_targs,test_targs=train_test_split(x__,y__,test_size=0.2,shuffle=True,random_state=42)\n",
    "class_train_targs=train_targs[:,1]\n",
    "cont_range_train_targs=train_targs[:,2]\n",
    "range_train_targs=train_targs[:,0]\n",
    "class_train_targs_oh=tf.keras.utils.to_categorical(class_train_targs,num_classes=3)\n",
    "range_train_targs_oh=tf.keras.utils.to_categorical(range_train_targs,num_classes=4)\n",
    "class_test_targs=test_targs[:,1]\n",
    "cont_range_test_targs=test_targs[:,2]\n",
    "range_test_targs=test_targs[:,0]\n",
    "class_test_targs_oh=tf.keras.utils.to_categorical(class_test_targs,num_classes=3)\n",
    "range_test_targs_oh=tf.keras.utils.to_categorical(range_test_targs,num_classes=4)"
   ],
   "metadata": {
    "collapsed": false,
    "pycharm": {
     "name": "#%%\n"
    }
   }
  },
  {
   "cell_type": "code",
   "execution_count": 121,
   "outputs": [],
   "source": [
    "from sklearn.preprocessing import StandardScaler, RobustScaler\n",
    "\n",
    "scaler=StandardScaler()\n",
    "X_train = scaler.fit_transform(train_feats.reshape(-1, train_feats.shape[-1])).reshape(train_feats.shape)\n",
    "X_test = scaler.transform(test_feats.reshape(-1, test_feats.shape[-1])).reshape(test_feats.shape)"
   ],
   "metadata": {
    "collapsed": false,
    "pycharm": {
     "name": "#%%\n"
    }
   }
  },
  {
   "cell_type": "code",
   "execution_count": 122,
   "outputs": [],
   "source": [
    "train_feats=X_train\n",
    "test_feats=X_test"
   ],
   "metadata": {
    "collapsed": false,
    "pycharm": {
     "name": "#%%\n"
    }
   }
  },
  {
   "cell_type": "code",
   "execution_count": 49,
   "outputs": [
    {
     "data": {
      "text/plain": "(array([5753.,    0.,    0., 2821.,    0.,    0., 3007.,    0.,    0.,\n        5447.]),\n array([0. , 0.3, 0.6, 0.9, 1.2, 1.5, 1.8, 2.1, 2.4, 2.7, 3. ]),\n <BarContainer object of 10 artists>)"
     },
     "execution_count": 49,
     "metadata": {},
     "output_type": "execute_result"
    },
    {
     "data": {
      "text/plain": "<Figure size 432x288 with 1 Axes>",
      "image/png": "[encoded data removed]"
     },
     "metadata": {
      "needs_background": "light"
     },
     "output_type": "display_data"
    }
   ],
   "source": [
    "plt.hist(range_train_targs)"
   ],
   "metadata": {
    "collapsed": false,
    "pycharm": {
     "name": "#%%\n"
    }
   }
  },
  {
   "cell_type": "markdown",
   "source": [
    "Find Distribution of Ranges for Each sUAS Type:\n",
    "\n",
    "0: <40\n",
    "1: 40-60\n",
    "2: 60-80\n",
    "3: >80"
   ],
   "metadata": {
    "collapsed": false,
    "pycharm": {
     "name": "#%% md\n"
    }
   }
  },
  {
   "cell_type": "code",
   "execution_count": 118,
   "outputs": [
    {
     "name": "stdout",
     "output_type": "stream",
     "text": [
      "[10256, 2916, 8113]\n",
      "[1181, 501, 375, 859]\n",
      "[3859, 1314, 2097, 2986]\n",
      "[2090, 1700, 1352, 2971]\n"
     ]
    }
   ],
   "source": [
    "class_count=[0,0,0]\n",
    "if_ranges=[0,0,0,0]\n",
    "matrice_ranges=[0,0,0,0]\n",
    "phantom_ranges=[0,0,0,0]\n",
    "for x in y__:\n",
    "    class_count[int(x[1])]+=1\n",
    "    if int(x[1])== 0:\n",
    "        matrice_ranges[int(x[0])]+=1\n",
    "    if int(x[1])== 1:\n",
    "        if_ranges[int(x[0])]+=1\n",
    "    if int(x[1])== 2:\n",
    "        phantom_ranges[int(x[0])]+=1\n",
    "print(class_count)\n",
    "print(if_ranges)\n",
    "print(matrice_ranges)\n",
    "print(phantom_ranges)"
   ],
   "metadata": {
    "collapsed": false,
    "pycharm": {
     "name": "#%%\n"
    }
   }
  },
  {
   "cell_type": "markdown",
   "source": [
    "Split Training Dataset into the three sUAS Types (Matrice, IF, Phantom)\n",
    " 0: Matrice\n",
    " 1: IF\n",
    " 2: Phantom"
   ],
   "metadata": {
    "collapsed": false,
    "pycharm": {
     "name": "#%% md\n"
    }
   }
  },
  {
   "cell_type": "code",
   "execution_count": 123,
   "outputs": [],
   "source": [
    "#\n",
    "if_train_data=[]\n",
    "if_test_data=[]\n",
    "matrice_train_data=[]\n",
    "matrice_test_data=[]\n",
    "phantom_train_data=[]\n",
    "phantom_test_data=[]\n",
    "combined_data=[]\n",
    "combined_test_data=[]\n",
    "if_train_targs=[]\n",
    "if_test_targs=[]\n",
    "matrice_train_targs=[]\n",
    "matrice_test_targs=[]\n",
    "phantom_train_targs=[]\n",
    "phantom_test_targs=[]\n",
    "combined_targs=[]\n",
    "combined_test_targs=[]\n",
    "for x in range(len(train_targs)):\n",
    "    if train_targs[x][1]==0: #Matrice\n",
    "        matrice_train_data.append(train_feats[x])\n",
    "        matrice_train_targs.append(train_targs[x][0])\n",
    "    elif train_targs[x][1]==1: #IF\n",
    "        if_train_data.append(train_feats[x])\n",
    "        if_train_targs.append(train_targs[x][0])\n",
    "    elif train_targs[x][1]==2: #Phantom\n",
    "        phantom_train_data.append(train_feats[x])\n",
    "        phantom_train_targs.append(train_targs[x][0])\n",
    "\n",
    "for x in range(len(test_targs)):\n",
    "    if test_targs[x][1]==0:\n",
    "        matrice_test_data.append(test_feats[x])\n",
    "        matrice_test_targs.append(test_targs[x][0])\n",
    "    elif test_targs[x][1]==1:\n",
    "        if_test_data.append(test_feats[x])\n",
    "        if_test_targs.append(test_targs[x][0])\n",
    "    elif test_targs[x][1]==2:\n",
    "        phantom_test_data.append(test_feats[x])\n",
    "        phantom_test_targs.append(test_targs[x][0])\n",
    "\n",
    "combined_data.extend(if_train_data)\n",
    "combined_data.extend(matrice_train_data)\n",
    "combined_data.extend(phantom_train_data)\n",
    "\n",
    "combined_targs.extend(if_train_targs)\n",
    "combined_targs.extend(matrice_train_targs)\n",
    "combined_targs.extend(phantom_train_targs)\n",
    "\n",
    "\n",
    "combined_train_data,combined_val_data,combined_train_targs, combined_val_targs=train_test_split(combined_data,combined_targs,test_size=0.2,shuffle=True,random_state=42)"
   ],
   "metadata": {
    "collapsed": false,
    "pycharm": {
     "name": "#%%\n"
    }
   }
  },
  {
   "cell_type": "code",
   "execution_count": 46,
   "outputs": [
    {
     "data": {
      "text/plain": "(array([4590.,    0.,    0., 2259.,    0.,    0., 2420.,    0.,    0.,\n        4353.]),\n array([0. , 0.3, 0.6, 0.9, 1.2, 1.5, 1.8, 2.1, 2.4, 2.7, 3. ]),\n <BarContainer object of 10 artists>)"
     },
     "execution_count": 46,
     "metadata": {},
     "output_type": "execute_result"
    },
    {
     "data": {
      "text/plain": "<Figure size 432x288 with 1 Axes>",
      "image/png": "[encoded data removed]"
     },
     "metadata": {
      "needs_background": "light"
     },
     "output_type": "display_data"
    }
   ],
   "source": [
    "plt.hist(combined_train_targs)"
   ],
   "metadata": {
    "collapsed": false,
    "pycharm": {
     "name": "#%%\n"
    }
   }
  },
  {
   "cell_type": "markdown",
   "source": [],
   "metadata": {
    "collapsed": false,
    "pycharm": {
     "name": "#%% md\n"
    }
   }
  },
  {
   "cell_type": "markdown",
   "source": [
    "# Plot Spectrogram"
   ],
   "metadata": {
    "collapsed": false,
    "pycharm": {
     "name": "#%% md\n"
    }
   }
  },
  {
   "cell_type": "code",
   "execution_count": null,
   "outputs": [],
   "source": [
    "import librosa.display\n",
    "fig, ax = plt.subplots()\n",
    "S_dB = librosa.power_to_db(x_data[1500], ref=np.max) #random sample\n",
    "print(y_data[1500])\n",
    "img = librosa.display.specshow(S_dB, x_axis='time',\n",
    "                         y_axis='mel', sr=8000,\n",
    "                         fmax=4000, ax=ax)\n",
    "fig.colorbar(img, ax=ax, format='%+2.0f dB')\n",
    "# ax.set(title='Mel-frequency spectrogram')\n",
    "plt.savefig(\"melspect.pdf\")"
   ],
   "metadata": {
    "collapsed": false,
    "pycharm": {
     "name": "#%%\n"
    }
   }
  },
  {
   "cell_type": "markdown",
   "source": [
    "# Regression Effort <a class=\"anchor\" id=\"reg\"></a>\n",
    "Can be ignored if not curious about trying to estimate range as a regression network"
   ],
   "metadata": {
    "collapsed": false,
    "pycharm": {
     "name": "#%% md\n"
    }
   }
  },
  {
   "cell_type": "code",
   "execution_count": 45,
   "outputs": [
    {
     "data": {
      "text/plain": "(array([ 249., 1526., 3607.,  371.,  374.,  516.,  750., 1181., 1040.,\n         593.,  514.,  568.,  292.,  195.,  565.,  312.,  118.,  155.,\n         109.,  118.,  125.,  105.,   98.,  113.,   99.,   95.,  106.,\n          94.,   91.,  106.,   91.,  116.,  168.,  285.,  490.,  228.,\n         208.,  209.,   98.,   93.,   98.,   89.,   82.,  106.,  101.,\n          67.,   72.,   86.,   81.,   75.]),\n array([ 22.46454067,  27.01374774,  31.5629548 ,  36.11216187,\n         40.66136893,  45.210576  ,  49.75978306,  54.30899012,\n         58.85819719,  63.40740425,  67.95661132,  72.50581838,\n         77.05502545,  81.60423251,  86.15343958,  90.70264664,\n         95.25185371,  99.80106077, 104.35026784, 108.8994749 ,\n        113.44868197, 117.99788903, 122.54709609, 127.09630316,\n        131.64551022, 136.19471729, 140.74392435, 145.29313142,\n        149.84233848, 154.39154555, 158.94075261, 163.48995968,\n        168.03916674, 172.58837381, 177.13758087, 181.68678794,\n        186.235995  , 190.78520207, 195.33440913, 199.88361619,\n        204.43282326, 208.98203032, 213.53123739, 218.08044445,\n        222.62965152, 227.17885858, 231.72806565, 236.27727271,\n        240.82647978, 245.37568684, 249.92489391]),\n <BarContainer object of 50 artists>)"
     },
     "execution_count": 45,
     "metadata": {},
     "output_type": "execute_result"
    },
    {
     "data": {
      "text/plain": "<Figure size 432x288 with 1 Axes>",
      "image/png": "[encoded data removed]"
     },
     "metadata": {
      "needs_background": "light"
     },
     "output_type": "display_data"
    }
   ],
   "source": [
    "plt.hist(cont_range_train_targs,bins=50)"
   ],
   "metadata": {
    "collapsed": false,
    "pycharm": {
     "name": "#%%\n"
    }
   }
  },
  {
   "cell_type": "code",
   "execution_count": 39,
   "outputs": [
    {
     "name": "stdout",
     "output_type": "stream",
     "text": [
      "Model: \"sequential_28\"\n",
      "_________________________________________________________________\n",
      " Layer (type)                Output Shape              Param #   \n",
      "=================================================================\n",
      " batch_normalization_112 (Ba  (None, 128, 8, 1)        4         \n",
      " tchNormalization)                                               \n",
      "                                                                 \n",
      " conv_1 (Conv2D)             (None, 128, 8, 8)         128       \n",
      "                                                                 \n",
      " batch_normalization_113 (Ba  (None, 128, 8, 8)        32        \n",
      " tchNormalization)                                               \n",
      "                                                                 \n",
      " activation_84 (Activation)  (None, 128, 8, 8)         0         \n",
      "                                                                 \n",
      " max_pooling2d_28 (MaxPoolin  (None, 64, 4, 8)         0         \n",
      " g2D)                                                            \n",
      "                                                                 \n",
      " conv_2 (Conv2D)             (None, 32, 2, 16)         512       \n",
      "                                                                 \n",
      " batch_normalization_114 (Ba  (None, 32, 2, 16)        64        \n",
      " tchNormalization)                                               \n",
      "                                                                 \n",
      " activation_85 (Activation)  (None, 32, 2, 16)         0         \n",
      "                                                                 \n",
      " dropout_84 (Dropout)        (None, 32, 2, 16)         0         \n",
      "                                                                 \n",
      " conv_3 (Conv2D)             (None, 16, 1, 32)         2048      \n",
      "                                                                 \n",
      " batch_normalization_115 (Ba  (None, 16, 1, 32)        128       \n",
      " tchNormalization)                                               \n",
      "                                                                 \n",
      " activation_86 (Activation)  (None, 16, 1, 32)         0         \n",
      "                                                                 \n",
      " dropout_85 (Dropout)        (None, 16, 1, 32)         0         \n",
      "                                                                 \n",
      " flatten_28 (Flatten)        (None, 512)               0         \n",
      "                                                                 \n",
      " dense_2 (Dense)             (None, 512)               262656    \n",
      "                                                                 \n",
      " dense_3 (Dense)             (None, 256)               131328    \n",
      "                                                                 \n",
      " dropout_86 (Dropout)        (None, 256)               0         \n",
      "                                                                 \n",
      " output_range (Dense)        (None, 1)                 257       \n",
      "                                                                 \n",
      "=================================================================\n",
      "Total params: 397,157\n",
      "Trainable params: 397,043\n",
      "Non-trainable params: 114\n",
      "_________________________________________________________________\n",
      "Epoch 1/200\n",
      "380/380 [==============================] - 13s 33ms/step - loss: 424.1252 - mae: 16.1774 - val_loss: 328.8763 - val_mae: 14.0996 - lr: 0.0010\n",
      "Epoch 2/200\n",
      "380/380 [==============================] - 11s 30ms/step - loss: 339.5110 - mae: 14.6865 - val_loss: 281.5776 - val_mae: 12.9968 - lr: 0.0010\n",
      "Epoch 3/200\n",
      "380/380 [==============================] - 12s 31ms/step - loss: 323.2072 - mae: 14.2492 - val_loss: 281.5488 - val_mae: 12.9144 - lr: 0.0010\n",
      "Epoch 4/200\n",
      "380/380 [==============================] - 12s 30ms/step - loss: 318.9630 - mae: 14.1053 - val_loss: 284.1492 - val_mae: 12.8510 - lr: 0.0010\n",
      "Epoch 5/200\n",
      "380/380 [==============================] - 12s 31ms/step - loss: 311.2690 - mae: 13.9152 - val_loss: 259.4788 - val_mae: 12.5194 - lr: 0.0010\n",
      "Epoch 6/200\n",
      "380/380 [==============================] - 13s 34ms/step - loss: 302.1313 - mae: 13.7034 - val_loss: 246.7403 - val_mae: 12.0342 - lr: 0.0010\n",
      "Epoch 7/200\n",
      "380/380 [==============================] - 12s 32ms/step - loss: 293.1020 - mae: 13.4428 - val_loss: 250.2576 - val_mae: 11.9453 - lr: 0.0010\n",
      "Epoch 8/200\n",
      "380/380 [==============================] - 12s 31ms/step - loss: 286.6115 - mae: 13.2436 - val_loss: 242.1794 - val_mae: 11.8333 - lr: 0.0010\n",
      "Epoch 9/200\n",
      "380/380 [==============================] - 12s 32ms/step - loss: 280.9779 - mae: 13.0885 - val_loss: 233.5504 - val_mae: 11.5815 - lr: 0.0010\n",
      "Epoch 10/200\n",
      "380/380 [==============================] - 15s 40ms/step - loss: 278.2910 - mae: 13.0861 - val_loss: 264.7562 - val_mae: 12.3492 - lr: 0.0010\n",
      "Epoch 11/200\n",
      "322/380 [========================>.....] - ETA: 1s - loss: 273.3372 - mae: 12.8558"
     ]
    },
    {
     "name": "stderr",
     "output_type": "stream",
     "text": [
      "Exception ignored in: <function WeakKeyDictionary.__init__.<locals>.remove at 0x000001F01CD948B0>\n",
      "Traceback (most recent call last):\n",
      "  File \"C:\\Users\\rclendening\\AppData\\Local\\Programs\\Python\\Python39\\lib\\weakref.py\", line 371, in remove\n",
      "    self = selfref()\n",
      "KeyboardInterrupt: \n"
     ]
    },
    {
     "ename": "KeyboardInterrupt",
     "evalue": "",
     "output_type": "error",
     "traceback": [
      "\u001B[1;31m---------------------------------------------------------------------------\u001B[0m",
      "\u001B[1;31mKeyboardInterrupt\u001B[0m                         Traceback (most recent call last)",
      "    \u001B[1;31m[... skipping hidden 1 frame]\u001B[0m\n",
      "Input \u001B[1;32mIn [39]\u001B[0m, in \u001B[0;36m<cell line: 33>\u001B[1;34m()\u001B[0m\n\u001B[0;32m     32\u001B[0m modelCNN_MCV2\u001B[38;5;241m.\u001B[39msummary()\n\u001B[1;32m---> 33\u001B[0m history \u001B[38;5;241m=\u001B[39m \u001B[43mmodelCNN_MCV2\u001B[49m\u001B[38;5;241;43m.\u001B[39;49m\u001B[43mfit\u001B[49m\u001B[43m(\u001B[49m\u001B[43mtrain_feats\u001B[49m\u001B[43m,\u001B[49m\u001B[43m \u001B[49m\u001B[43mcont_range_train_targs\u001B[49m\u001B[43m,\u001B[49m\n\u001B[0;32m     34\u001B[0m \u001B[43m                      \u001B[49m\u001B[43mepochs\u001B[49m\u001B[38;5;241;43m=\u001B[39;49m\u001B[38;5;241;43m200\u001B[39;49m\u001B[43m,\u001B[49m\n\u001B[0;32m     35\u001B[0m \u001B[43m                      \u001B[49m\u001B[43mbatch_size\u001B[49m\u001B[38;5;241;43m=\u001B[39;49m\u001B[38;5;241;43m32\u001B[39;49m\u001B[43m,\u001B[49m\n\u001B[0;32m     36\u001B[0m \u001B[43m                      \u001B[49m\u001B[43mshuffle\u001B[49m\u001B[38;5;241;43m=\u001B[39;49m\u001B[38;5;28;43;01mTrue\u001B[39;49;00m\u001B[43m,\u001B[49m\n\u001B[0;32m     37\u001B[0m \u001B[43m                      \u001B[49m\u001B[43mvalidation_split\u001B[49m\u001B[38;5;241;43m=\u001B[39;49m\u001B[38;5;241;43m0.2\u001B[39;49m\u001B[43m,\u001B[49m\n\u001B[0;32m     38\u001B[0m \u001B[43m                      \u001B[49m\u001B[43mcallbacks\u001B[49m\u001B[38;5;241;43m=\u001B[39;49m\u001B[43m[\u001B[49m\u001B[43mreduceLR\u001B[49m\u001B[43m,\u001B[49m\u001B[43m \u001B[49m\u001B[43mearly\u001B[49m\u001B[43m]\u001B[49m\u001B[43m)\u001B[49m\n",
      "File \u001B[1;32m~\\AppData\\Local\\Programs\\Python\\Python39\\lib\\site-packages\\keras\\utils\\traceback_utils.py:64\u001B[0m, in \u001B[0;36mfilter_traceback.<locals>.error_handler\u001B[1;34m(*args, **kwargs)\u001B[0m\n\u001B[0;32m     63\u001B[0m \u001B[38;5;28;01mtry\u001B[39;00m:\n\u001B[1;32m---> 64\u001B[0m   \u001B[38;5;28;01mreturn\u001B[39;00m fn(\u001B[38;5;241m*\u001B[39margs, \u001B[38;5;241m*\u001B[39m\u001B[38;5;241m*\u001B[39mkwargs)\n\u001B[0;32m     65\u001B[0m \u001B[38;5;28;01mexcept\u001B[39;00m \u001B[38;5;167;01mException\u001B[39;00m \u001B[38;5;28;01mas\u001B[39;00m e:  \u001B[38;5;66;03m# pylint: disable=broad-except\u001B[39;00m\n",
      "File \u001B[1;32m~\\AppData\\Local\\Programs\\Python\\Python39\\lib\\site-packages\\keras\\engine\\training.py:1409\u001B[0m, in \u001B[0;36mModel.fit\u001B[1;34m(self, x, y, batch_size, epochs, verbose, callbacks, validation_split, validation_data, shuffle, class_weight, sample_weight, initial_epoch, steps_per_epoch, validation_steps, validation_batch_size, validation_freq, max_queue_size, workers, use_multiprocessing)\u001B[0m\n\u001B[0;32m   1408\u001B[0m callbacks\u001B[38;5;241m.\u001B[39mon_train_batch_begin(step)\n\u001B[1;32m-> 1409\u001B[0m tmp_logs \u001B[38;5;241m=\u001B[39m \u001B[38;5;28;43mself\u001B[39;49m\u001B[38;5;241;43m.\u001B[39;49m\u001B[43mtrain_function\u001B[49m\u001B[43m(\u001B[49m\u001B[43miterator\u001B[49m\u001B[43m)\u001B[49m\n\u001B[0;32m   1410\u001B[0m \u001B[38;5;28;01mif\u001B[39;00m data_handler\u001B[38;5;241m.\u001B[39mshould_sync:\n",
      "File \u001B[1;32m~\\AppData\\Local\\Programs\\Python\\Python39\\lib\\site-packages\\tensorflow\\python\\util\\traceback_utils.py:150\u001B[0m, in \u001B[0;36mfilter_traceback.<locals>.error_handler\u001B[1;34m(*args, **kwargs)\u001B[0m\n\u001B[0;32m    149\u001B[0m \u001B[38;5;28;01mtry\u001B[39;00m:\n\u001B[1;32m--> 150\u001B[0m   \u001B[38;5;28;01mreturn\u001B[39;00m fn(\u001B[38;5;241m*\u001B[39margs, \u001B[38;5;241m*\u001B[39m\u001B[38;5;241m*\u001B[39mkwargs)\n\u001B[0;32m    151\u001B[0m \u001B[38;5;28;01mexcept\u001B[39;00m \u001B[38;5;167;01mException\u001B[39;00m \u001B[38;5;28;01mas\u001B[39;00m e:\n",
      "File \u001B[1;32m~\\AppData\\Local\\Programs\\Python\\Python39\\lib\\site-packages\\tensorflow\\python\\eager\\def_function.py:915\u001B[0m, in \u001B[0;36mFunction.__call__\u001B[1;34m(self, *args, **kwds)\u001B[0m\n\u001B[0;32m    914\u001B[0m \u001B[38;5;28;01mwith\u001B[39;00m OptionalXlaContext(\u001B[38;5;28mself\u001B[39m\u001B[38;5;241m.\u001B[39m_jit_compile):\n\u001B[1;32m--> 915\u001B[0m   result \u001B[38;5;241m=\u001B[39m \u001B[38;5;28mself\u001B[39m\u001B[38;5;241m.\u001B[39m_call(\u001B[38;5;241m*\u001B[39margs, \u001B[38;5;241m*\u001B[39m\u001B[38;5;241m*\u001B[39mkwds)\n\u001B[0;32m    917\u001B[0m new_tracing_count \u001B[38;5;241m=\u001B[39m \u001B[38;5;28mself\u001B[39m\u001B[38;5;241m.\u001B[39mexperimental_get_tracing_count()\n",
      "File \u001B[1;32m~\\AppData\\Local\\Programs\\Python\\Python39\\lib\\site-packages\\tensorflow\\python\\eager\\def_function.py:947\u001B[0m, in \u001B[0;36mFunction._call\u001B[1;34m(self, *args, **kwds)\u001B[0m\n\u001B[0;32m    945\u001B[0m   \u001B[38;5;66;03m# In this case we have created variables on the first call, so we run the\u001B[39;00m\n\u001B[0;32m    946\u001B[0m   \u001B[38;5;66;03m# defunned version which is guaranteed to never create variables.\u001B[39;00m\n\u001B[1;32m--> 947\u001B[0m   \u001B[38;5;28;01mreturn\u001B[39;00m \u001B[38;5;28mself\u001B[39m\u001B[38;5;241m.\u001B[39m_stateless_fn(\u001B[38;5;241m*\u001B[39margs, \u001B[38;5;241m*\u001B[39m\u001B[38;5;241m*\u001B[39mkwds)  \u001B[38;5;66;03m# pylint: disable=not-callable\u001B[39;00m\n\u001B[0;32m    948\u001B[0m \u001B[38;5;28;01melif\u001B[39;00m \u001B[38;5;28mself\u001B[39m\u001B[38;5;241m.\u001B[39m_stateful_fn \u001B[38;5;129;01mis\u001B[39;00m \u001B[38;5;129;01mnot\u001B[39;00m \u001B[38;5;28;01mNone\u001B[39;00m:\n\u001B[0;32m    949\u001B[0m   \u001B[38;5;66;03m# Release the lock early so that multiple threads can perform the call\u001B[39;00m\n\u001B[0;32m    950\u001B[0m   \u001B[38;5;66;03m# in parallel.\u001B[39;00m\n",
      "File \u001B[1;32m~\\AppData\\Local\\Programs\\Python\\Python39\\lib\\site-packages\\tensorflow\\python\\eager\\function.py:2453\u001B[0m, in \u001B[0;36mFunction.__call__\u001B[1;34m(self, *args, **kwargs)\u001B[0m\n\u001B[0;32m   2451\u001B[0m   (graph_function,\n\u001B[0;32m   2452\u001B[0m    filtered_flat_args) \u001B[38;5;241m=\u001B[39m \u001B[38;5;28mself\u001B[39m\u001B[38;5;241m.\u001B[39m_maybe_define_function(args, kwargs)\n\u001B[1;32m-> 2453\u001B[0m \u001B[38;5;28;01mreturn\u001B[39;00m \u001B[43mgraph_function\u001B[49m\u001B[38;5;241;43m.\u001B[39;49m\u001B[43m_call_flat\u001B[49m\u001B[43m(\u001B[49m\n\u001B[0;32m   2454\u001B[0m \u001B[43m    \u001B[49m\u001B[43mfiltered_flat_args\u001B[49m\u001B[43m,\u001B[49m\u001B[43m \u001B[49m\u001B[43mcaptured_inputs\u001B[49m\u001B[38;5;241;43m=\u001B[39;49m\u001B[43mgraph_function\u001B[49m\u001B[38;5;241;43m.\u001B[39;49m\u001B[43mcaptured_inputs\u001B[49m\u001B[43m)\u001B[49m\n",
      "File \u001B[1;32m~\\AppData\\Local\\Programs\\Python\\Python39\\lib\\site-packages\\tensorflow\\python\\eager\\function.py:1860\u001B[0m, in \u001B[0;36mConcreteFunction._call_flat\u001B[1;34m(self, args, captured_inputs, cancellation_manager)\u001B[0m\n\u001B[0;32m   1857\u001B[0m \u001B[38;5;28;01mif\u001B[39;00m (possible_gradient_type \u001B[38;5;241m==\u001B[39m gradients_util\u001B[38;5;241m.\u001B[39mPOSSIBLE_GRADIENT_TYPES_NONE\n\u001B[0;32m   1858\u001B[0m     \u001B[38;5;129;01mand\u001B[39;00m executing_eagerly):\n\u001B[0;32m   1859\u001B[0m   \u001B[38;5;66;03m# No tape is watching; skip to running the function.\u001B[39;00m\n\u001B[1;32m-> 1860\u001B[0m   \u001B[38;5;28;01mreturn\u001B[39;00m \u001B[38;5;28mself\u001B[39m\u001B[38;5;241m.\u001B[39m_build_call_outputs(\u001B[38;5;28;43mself\u001B[39;49m\u001B[38;5;241;43m.\u001B[39;49m\u001B[43m_inference_function\u001B[49m\u001B[38;5;241;43m.\u001B[39;49m\u001B[43mcall\u001B[49m\u001B[43m(\u001B[49m\n\u001B[0;32m   1861\u001B[0m \u001B[43m      \u001B[49m\u001B[43mctx\u001B[49m\u001B[43m,\u001B[49m\u001B[43m \u001B[49m\u001B[43margs\u001B[49m\u001B[43m,\u001B[49m\u001B[43m \u001B[49m\u001B[43mcancellation_manager\u001B[49m\u001B[38;5;241;43m=\u001B[39;49m\u001B[43mcancellation_manager\u001B[49m\u001B[43m)\u001B[49m)\n\u001B[0;32m   1862\u001B[0m forward_backward \u001B[38;5;241m=\u001B[39m \u001B[38;5;28mself\u001B[39m\u001B[38;5;241m.\u001B[39m_select_forward_and_backward_functions(\n\u001B[0;32m   1863\u001B[0m     args,\n\u001B[0;32m   1864\u001B[0m     possible_gradient_type,\n\u001B[0;32m   1865\u001B[0m     executing_eagerly)\n",
      "File \u001B[1;32m~\\AppData\\Local\\Programs\\Python\\Python39\\lib\\site-packages\\tensorflow\\python\\eager\\function.py:497\u001B[0m, in \u001B[0;36m_EagerDefinedFunction.call\u001B[1;34m(self, ctx, args, cancellation_manager)\u001B[0m\n\u001B[0;32m    496\u001B[0m \u001B[38;5;28;01mif\u001B[39;00m cancellation_manager \u001B[38;5;129;01mis\u001B[39;00m \u001B[38;5;28;01mNone\u001B[39;00m:\n\u001B[1;32m--> 497\u001B[0m   outputs \u001B[38;5;241m=\u001B[39m \u001B[43mexecute\u001B[49m\u001B[38;5;241;43m.\u001B[39;49m\u001B[43mexecute\u001B[49m\u001B[43m(\u001B[49m\n\u001B[0;32m    498\u001B[0m \u001B[43m      \u001B[49m\u001B[38;5;28;43mstr\u001B[39;49m\u001B[43m(\u001B[49m\u001B[38;5;28;43mself\u001B[39;49m\u001B[38;5;241;43m.\u001B[39;49m\u001B[43msignature\u001B[49m\u001B[38;5;241;43m.\u001B[39;49m\u001B[43mname\u001B[49m\u001B[43m)\u001B[49m\u001B[43m,\u001B[49m\n\u001B[0;32m    499\u001B[0m \u001B[43m      \u001B[49m\u001B[43mnum_outputs\u001B[49m\u001B[38;5;241;43m=\u001B[39;49m\u001B[38;5;28;43mself\u001B[39;49m\u001B[38;5;241;43m.\u001B[39;49m\u001B[43m_num_outputs\u001B[49m\u001B[43m,\u001B[49m\n\u001B[0;32m    500\u001B[0m \u001B[43m      \u001B[49m\u001B[43minputs\u001B[49m\u001B[38;5;241;43m=\u001B[39;49m\u001B[43margs\u001B[49m\u001B[43m,\u001B[49m\n\u001B[0;32m    501\u001B[0m \u001B[43m      \u001B[49m\u001B[43mattrs\u001B[49m\u001B[38;5;241;43m=\u001B[39;49m\u001B[43mattrs\u001B[49m\u001B[43m,\u001B[49m\n\u001B[0;32m    502\u001B[0m \u001B[43m      \u001B[49m\u001B[43mctx\u001B[49m\u001B[38;5;241;43m=\u001B[39;49m\u001B[43mctx\u001B[49m\u001B[43m)\u001B[49m\n\u001B[0;32m    503\u001B[0m \u001B[38;5;28;01melse\u001B[39;00m:\n",
      "File \u001B[1;32m~\\AppData\\Local\\Programs\\Python\\Python39\\lib\\site-packages\\tensorflow\\python\\eager\\execute.py:54\u001B[0m, in \u001B[0;36mquick_execute\u001B[1;34m(op_name, num_outputs, inputs, attrs, ctx, name)\u001B[0m\n\u001B[0;32m     53\u001B[0m   ctx\u001B[38;5;241m.\u001B[39mensure_initialized()\n\u001B[1;32m---> 54\u001B[0m   tensors \u001B[38;5;241m=\u001B[39m \u001B[43mpywrap_tfe\u001B[49m\u001B[38;5;241;43m.\u001B[39;49m\u001B[43mTFE_Py_Execute\u001B[49m\u001B[43m(\u001B[49m\u001B[43mctx\u001B[49m\u001B[38;5;241;43m.\u001B[39;49m\u001B[43m_handle\u001B[49m\u001B[43m,\u001B[49m\u001B[43m \u001B[49m\u001B[43mdevice_name\u001B[49m\u001B[43m,\u001B[49m\u001B[43m \u001B[49m\u001B[43mop_name\u001B[49m\u001B[43m,\u001B[49m\n\u001B[0;32m     55\u001B[0m \u001B[43m                                      \u001B[49m\u001B[43minputs\u001B[49m\u001B[43m,\u001B[49m\u001B[43m \u001B[49m\u001B[43mattrs\u001B[49m\u001B[43m,\u001B[49m\u001B[43m \u001B[49m\u001B[43mnum_outputs\u001B[49m\u001B[43m)\u001B[49m\n\u001B[0;32m     56\u001B[0m \u001B[38;5;28;01mexcept\u001B[39;00m core\u001B[38;5;241m.\u001B[39m_NotOkStatusException \u001B[38;5;28;01mas\u001B[39;00m e:\n",
      "\u001B[1;31mKeyboardInterrupt\u001B[0m: ",
      "\nDuring handling of the above exception, another exception occurred:\n",
      "\u001B[1;31mKeyError\u001B[0m                                  Traceback (most recent call last)",
      "File \u001B[1;32m~\\AppData\\Local\\Programs\\Python\\Python39\\lib\\site-packages\\executing\\executing.py:317\u001B[0m, in \u001B[0;36mSource.executing\u001B[1;34m(cls, frame_or_tb)\u001B[0m\n\u001B[0;32m    316\u001B[0m \u001B[38;5;28;01mtry\u001B[39;00m:\n\u001B[1;32m--> 317\u001B[0m     args \u001B[38;5;241m=\u001B[39m \u001B[43mexecuting_cache\u001B[49m\u001B[43m[\u001B[49m\u001B[43mkey\u001B[49m\u001B[43m]\u001B[49m\n\u001B[0;32m    318\u001B[0m \u001B[38;5;28;01mexcept\u001B[39;00m \u001B[38;5;167;01mKeyError\u001B[39;00m:\n",
      "\u001B[1;31mKeyError\u001B[0m: (<code object __call__ at 0x000001F018506660, file \"C:\\Users\\rclendening\\AppData\\Local\\Programs\\Python\\Python39\\lib\\site-packages\\tensorflow\\python\\eager\\def_function.py\", line 887>, 2130711701088, 208)",
      "\nDuring handling of the above exception, another exception occurred:\n",
      "\u001B[1;31mKeyboardInterrupt\u001B[0m                         Traceback (most recent call last)",
      "File \u001B[1;32m~\\AppData\\Local\\Programs\\Python\\Python39\\lib\\site-packages\\IPython\\core\\interactiveshell.py:1982\u001B[0m, in \u001B[0;36mInteractiveShell.showtraceback\u001B[1;34m(self, exc_tuple, filename, tb_offset, exception_only, running_compiled_code)\u001B[0m\n\u001B[0;32m   1981\u001B[0m     \u001B[38;5;28;01melse\u001B[39;00m:\n\u001B[1;32m-> 1982\u001B[0m         stb \u001B[38;5;241m=\u001B[39m \u001B[38;5;28;43mself\u001B[39;49m\u001B[38;5;241;43m.\u001B[39;49m\u001B[43mInteractiveTB\u001B[49m\u001B[38;5;241;43m.\u001B[39;49m\u001B[43mstructured_traceback\u001B[49m\u001B[43m(\u001B[49m\n\u001B[0;32m   1983\u001B[0m \u001B[43m            \u001B[49m\u001B[43metype\u001B[49m\u001B[43m,\u001B[49m\u001B[43m \u001B[49m\u001B[43mvalue\u001B[49m\u001B[43m,\u001B[49m\u001B[43m \u001B[49m\u001B[43mtb\u001B[49m\u001B[43m,\u001B[49m\u001B[43m \u001B[49m\u001B[43mtb_offset\u001B[49m\u001B[38;5;241;43m=\u001B[39;49m\u001B[43mtb_offset\u001B[49m\n\u001B[0;32m   1984\u001B[0m \u001B[43m        \u001B[49m\u001B[43m)\u001B[49m\n\u001B[0;32m   1986\u001B[0m \u001B[38;5;28;01mexcept\u001B[39;00m \u001B[38;5;167;01mException\u001B[39;00m:\n",
      "File \u001B[1;32m~\\AppData\\Local\\Programs\\Python\\Python39\\lib\\site-packages\\IPython\\core\\ultratb.py:1118\u001B[0m, in \u001B[0;36mAutoFormattedTB.structured_traceback\u001B[1;34m(self, etype, value, tb, tb_offset, number_of_lines_of_context)\u001B[0m\n\u001B[0;32m   1117\u001B[0m     \u001B[38;5;28mself\u001B[39m\u001B[38;5;241m.\u001B[39mtb \u001B[38;5;241m=\u001B[39m tb\n\u001B[1;32m-> 1118\u001B[0m \u001B[38;5;28;01mreturn\u001B[39;00m \u001B[43mFormattedTB\u001B[49m\u001B[38;5;241;43m.\u001B[39;49m\u001B[43mstructured_traceback\u001B[49m\u001B[43m(\u001B[49m\n\u001B[0;32m   1119\u001B[0m \u001B[43m    \u001B[49m\u001B[38;5;28;43mself\u001B[39;49m\u001B[43m,\u001B[49m\u001B[43m \u001B[49m\u001B[43metype\u001B[49m\u001B[43m,\u001B[49m\u001B[43m \u001B[49m\u001B[43mvalue\u001B[49m\u001B[43m,\u001B[49m\u001B[43m \u001B[49m\u001B[43mtb\u001B[49m\u001B[43m,\u001B[49m\u001B[43m \u001B[49m\u001B[43mtb_offset\u001B[49m\u001B[43m,\u001B[49m\u001B[43m \u001B[49m\u001B[43mnumber_of_lines_of_context\u001B[49m\u001B[43m)\u001B[49m\n",
      "File \u001B[1;32m~\\AppData\\Local\\Programs\\Python\\Python39\\lib\\site-packages\\IPython\\core\\ultratb.py:1012\u001B[0m, in \u001B[0;36mFormattedTB.structured_traceback\u001B[1;34m(self, etype, value, tb, tb_offset, number_of_lines_of_context)\u001B[0m\n\u001B[0;32m   1010\u001B[0m \u001B[38;5;28;01mif\u001B[39;00m mode \u001B[38;5;129;01min\u001B[39;00m \u001B[38;5;28mself\u001B[39m\u001B[38;5;241m.\u001B[39mverbose_modes:\n\u001B[0;32m   1011\u001B[0m     \u001B[38;5;66;03m# Verbose modes need a full traceback\u001B[39;00m\n\u001B[1;32m-> 1012\u001B[0m     \u001B[38;5;28;01mreturn\u001B[39;00m \u001B[43mVerboseTB\u001B[49m\u001B[38;5;241;43m.\u001B[39;49m\u001B[43mstructured_traceback\u001B[49m\u001B[43m(\u001B[49m\n\u001B[0;32m   1013\u001B[0m \u001B[43m        \u001B[49m\u001B[38;5;28;43mself\u001B[39;49m\u001B[43m,\u001B[49m\u001B[43m \u001B[49m\u001B[43metype\u001B[49m\u001B[43m,\u001B[49m\u001B[43m \u001B[49m\u001B[43mvalue\u001B[49m\u001B[43m,\u001B[49m\u001B[43m \u001B[49m\u001B[43mtb\u001B[49m\u001B[43m,\u001B[49m\u001B[43m \u001B[49m\u001B[43mtb_offset\u001B[49m\u001B[43m,\u001B[49m\u001B[43m \u001B[49m\u001B[43mnumber_of_lines_of_context\u001B[49m\n\u001B[0;32m   1014\u001B[0m \u001B[43m    \u001B[49m\u001B[43m)\u001B[49m\n\u001B[0;32m   1015\u001B[0m \u001B[38;5;28;01melif\u001B[39;00m mode \u001B[38;5;241m==\u001B[39m \u001B[38;5;124m'\u001B[39m\u001B[38;5;124mMinimal\u001B[39m\u001B[38;5;124m'\u001B[39m:\n",
      "File \u001B[1;32m~\\AppData\\Local\\Programs\\Python\\Python39\\lib\\site-packages\\IPython\\core\\ultratb.py:865\u001B[0m, in \u001B[0;36mVerboseTB.structured_traceback\u001B[1;34m(self, etype, evalue, etb, tb_offset, number_of_lines_of_context)\u001B[0m\n\u001B[0;32m    864\u001B[0m \u001B[38;5;124;03m\"\"\"Return a nice text document describing the traceback.\"\"\"\u001B[39;00m\n\u001B[1;32m--> 865\u001B[0m formatted_exception \u001B[38;5;241m=\u001B[39m \u001B[38;5;28;43mself\u001B[39;49m\u001B[38;5;241;43m.\u001B[39;49m\u001B[43mformat_exception_as_a_whole\u001B[49m\u001B[43m(\u001B[49m\u001B[43metype\u001B[49m\u001B[43m,\u001B[49m\u001B[43m \u001B[49m\u001B[43mevalue\u001B[49m\u001B[43m,\u001B[49m\u001B[43m \u001B[49m\u001B[43metb\u001B[49m\u001B[43m,\u001B[49m\u001B[43m \u001B[49m\u001B[43mnumber_of_lines_of_context\u001B[49m\u001B[43m,\u001B[49m\n\u001B[0;32m    866\u001B[0m \u001B[43m                                                       \u001B[49m\u001B[43mtb_offset\u001B[49m\u001B[43m)\u001B[49m\n\u001B[0;32m    868\u001B[0m colors \u001B[38;5;241m=\u001B[39m \u001B[38;5;28mself\u001B[39m\u001B[38;5;241m.\u001B[39mColors  \u001B[38;5;66;03m# just a shorthand + quicker name lookup\u001B[39;00m\n",
      "File \u001B[1;32m~\\AppData\\Local\\Programs\\Python\\Python39\\lib\\site-packages\\IPython\\core\\ultratb.py:799\u001B[0m, in \u001B[0;36mVerboseTB.format_exception_as_a_whole\u001B[1;34m(self, etype, evalue, etb, number_of_lines_of_context, tb_offset)\u001B[0m\n\u001B[0;32m    797\u001B[0m head \u001B[38;5;241m=\u001B[39m \u001B[38;5;28mself\u001B[39m\u001B[38;5;241m.\u001B[39mprepare_header(etype, \u001B[38;5;28mself\u001B[39m\u001B[38;5;241m.\u001B[39mlong_header)\n\u001B[0;32m    798\u001B[0m records \u001B[38;5;241m=\u001B[39m (\n\u001B[1;32m--> 799\u001B[0m     \u001B[38;5;28;43mself\u001B[39;49m\u001B[38;5;241;43m.\u001B[39;49m\u001B[43mget_records\u001B[49m\u001B[43m(\u001B[49m\u001B[43metb\u001B[49m\u001B[43m,\u001B[49m\u001B[43m \u001B[49m\u001B[43mnumber_of_lines_of_context\u001B[49m\u001B[43m,\u001B[49m\u001B[43m \u001B[49m\u001B[43mtb_offset\u001B[49m\u001B[43m)\u001B[49m \u001B[38;5;28;01mif\u001B[39;00m etb \u001B[38;5;28;01melse\u001B[39;00m []\n\u001B[0;32m    800\u001B[0m )\n\u001B[0;32m    802\u001B[0m frames \u001B[38;5;241m=\u001B[39m []\n",
      "File \u001B[1;32m~\\AppData\\Local\\Programs\\Python\\Python39\\lib\\site-packages\\IPython\\core\\ultratb.py:854\u001B[0m, in \u001B[0;36mVerboseTB.get_records\u001B[1;34m(self, etb, number_of_lines_of_context, tb_offset)\u001B[0m\n\u001B[0;32m    849\u001B[0m options \u001B[38;5;241m=\u001B[39m stack_data\u001B[38;5;241m.\u001B[39mOptions(\n\u001B[0;32m    850\u001B[0m     before\u001B[38;5;241m=\u001B[39mbefore,\n\u001B[0;32m    851\u001B[0m     after\u001B[38;5;241m=\u001B[39mafter,\n\u001B[0;32m    852\u001B[0m     pygments_formatter\u001B[38;5;241m=\u001B[39mformatter,\n\u001B[0;32m    853\u001B[0m )\n\u001B[1;32m--> 854\u001B[0m \u001B[38;5;28;01mreturn\u001B[39;00m \u001B[38;5;28;43mlist\u001B[39;49m\u001B[43m(\u001B[49m\u001B[43mstack_data\u001B[49m\u001B[38;5;241;43m.\u001B[39;49m\u001B[43mFrameInfo\u001B[49m\u001B[38;5;241;43m.\u001B[39;49m\u001B[43mstack_data\u001B[49m\u001B[43m(\u001B[49m\u001B[43metb\u001B[49m\u001B[43m,\u001B[49m\u001B[43m \u001B[49m\u001B[43moptions\u001B[49m\u001B[38;5;241;43m=\u001B[39;49m\u001B[43moptions\u001B[49m\u001B[43m)\u001B[49m\u001B[43m)\u001B[49m[tb_offset:]\n",
      "File \u001B[1;32m~\\AppData\\Local\\Programs\\Python\\Python39\\lib\\site-packages\\stack_data\\core.py:565\u001B[0m, in \u001B[0;36mFrameInfo.stack_data\u001B[1;34m(cls, frame_or_tb, options, collapse_repeated_frames)\u001B[0m\n\u001B[0;32m    563\u001B[0m     \u001B[38;5;28;01mreturn\u001B[39;00m frame\u001B[38;5;241m.\u001B[39mf_code, lineno\n\u001B[1;32m--> 565\u001B[0m \u001B[38;5;28;01myield from\u001B[39;00m collapse_repeated(\n\u001B[0;32m    566\u001B[0m     stack,\n\u001B[0;32m    567\u001B[0m     mapper\u001B[38;5;241m=\u001B[39mmapper,\n\u001B[0;32m    568\u001B[0m     collapser\u001B[38;5;241m=\u001B[39mRepeatedFrames,\n\u001B[0;32m    569\u001B[0m     key\u001B[38;5;241m=\u001B[39m_frame_key,\n\u001B[0;32m    570\u001B[0m )\n",
      "File \u001B[1;32m~\\AppData\\Local\\Programs\\Python\\Python39\\lib\\site-packages\\stack_data\\utils.py:84\u001B[0m, in \u001B[0;36mcollapse_repeated\u001B[1;34m(lst, collapser, mapper, key)\u001B[0m\n\u001B[0;32m     83\u001B[0m \u001B[38;5;28;01mif\u001B[39;00m is_highlighted:\n\u001B[1;32m---> 84\u001B[0m     \u001B[38;5;28;01myield from\u001B[39;00m \u001B[38;5;28mmap\u001B[39m(mapper, original_group)\n\u001B[0;32m     85\u001B[0m \u001B[38;5;28;01melse\u001B[39;00m:\n",
      "File \u001B[1;32m~\\AppData\\Local\\Programs\\Python\\Python39\\lib\\site-packages\\stack_data\\core.py:555\u001B[0m, in \u001B[0;36mFrameInfo.stack_data.<locals>.mapper\u001B[1;34m(f)\u001B[0m\n\u001B[0;32m    554\u001B[0m \u001B[38;5;28;01mdef\u001B[39;00m \u001B[38;5;21mmapper\u001B[39m(f):\n\u001B[1;32m--> 555\u001B[0m     \u001B[38;5;28;01mreturn\u001B[39;00m \u001B[38;5;28;43mcls\u001B[39;49m\u001B[43m(\u001B[49m\u001B[43mf\u001B[49m\u001B[43m,\u001B[49m\u001B[43m \u001B[49m\u001B[43moptions\u001B[49m\u001B[43m)\u001B[49m\n",
      "File \u001B[1;32m~\\AppData\\Local\\Programs\\Python\\Python39\\lib\\site-packages\\stack_data\\core.py:520\u001B[0m, in \u001B[0;36mFrameInfo.__init__\u001B[1;34m(self, frame_or_tb, options)\u001B[0m\n\u001B[0;32m    515\u001B[0m \u001B[38;5;28;01mdef\u001B[39;00m \u001B[38;5;21m__init__\u001B[39m(\n\u001B[0;32m    516\u001B[0m         \u001B[38;5;28mself\u001B[39m,\n\u001B[0;32m    517\u001B[0m         frame_or_tb: Union[FrameType, TracebackType],\n\u001B[0;32m    518\u001B[0m         options: Optional[Options] \u001B[38;5;241m=\u001B[39m \u001B[38;5;28;01mNone\u001B[39;00m,\n\u001B[0;32m    519\u001B[0m ):\n\u001B[1;32m--> 520\u001B[0m     \u001B[38;5;28mself\u001B[39m\u001B[38;5;241m.\u001B[39mexecuting \u001B[38;5;241m=\u001B[39m \u001B[43mSource\u001B[49m\u001B[38;5;241;43m.\u001B[39;49m\u001B[43mexecuting\u001B[49m\u001B[43m(\u001B[49m\u001B[43mframe_or_tb\u001B[49m\u001B[43m)\u001B[49m\n\u001B[0;32m    521\u001B[0m     frame, \u001B[38;5;28mself\u001B[39m\u001B[38;5;241m.\u001B[39mlineno \u001B[38;5;241m=\u001B[39m frame_and_lineno(frame_or_tb)\n",
      "File \u001B[1;32m~\\AppData\\Local\\Programs\\Python\\Python39\\lib\\site-packages\\executing\\executing.py:369\u001B[0m, in \u001B[0;36mSource.executing\u001B[1;34m(cls, frame_or_tb)\u001B[0m\n\u001B[0;32m    367\u001B[0m     \u001B[38;5;28;01mreturn\u001B[39;00m source, node, stmts, decorator\n\u001B[1;32m--> 369\u001B[0m args \u001B[38;5;241m=\u001B[39m find(source\u001B[38;5;241m=\u001B[39m\u001B[38;5;28;43mcls\u001B[39;49m\u001B[38;5;241;43m.\u001B[39;49m\u001B[43mfor_frame\u001B[49m\u001B[43m(\u001B[49m\u001B[43mframe\u001B[49m\u001B[43m)\u001B[49m, retry_cache\u001B[38;5;241m=\u001B[39m\u001B[38;5;28;01mTrue\u001B[39;00m)\n\u001B[0;32m    370\u001B[0m executing_cache[key] \u001B[38;5;241m=\u001B[39m args\n",
      "File \u001B[1;32m~\\AppData\\Local\\Programs\\Python\\Python39\\lib\\site-packages\\executing\\executing.py:252\u001B[0m, in \u001B[0;36mSource.for_frame\u001B[1;34m(cls, frame, use_cache)\u001B[0m\n\u001B[0;32m    249\u001B[0m \u001B[38;5;124;03m\"\"\"\u001B[39;00m\n\u001B[0;32m    250\u001B[0m \u001B[38;5;124;03mReturns the `Source` object corresponding to the file the frame is executing in.\u001B[39;00m\n\u001B[0;32m    251\u001B[0m \u001B[38;5;124;03m\"\"\"\u001B[39;00m\n\u001B[1;32m--> 252\u001B[0m \u001B[38;5;28;01mreturn\u001B[39;00m \u001B[38;5;28;43mcls\u001B[39;49m\u001B[38;5;241;43m.\u001B[39;49m\u001B[43mfor_filename\u001B[49m\u001B[43m(\u001B[49m\u001B[43mframe\u001B[49m\u001B[38;5;241;43m.\u001B[39;49m\u001B[43mf_code\u001B[49m\u001B[38;5;241;43m.\u001B[39;49m\u001B[43mco_filename\u001B[49m\u001B[43m,\u001B[49m\u001B[43m \u001B[49m\u001B[43mframe\u001B[49m\u001B[38;5;241;43m.\u001B[39;49m\u001B[43mf_globals\u001B[49m\u001B[43m \u001B[49m\u001B[38;5;129;43;01mor\u001B[39;49;00m\u001B[43m \u001B[49m\u001B[43m{\u001B[49m\u001B[43m}\u001B[49m\u001B[43m,\u001B[49m\u001B[43m \u001B[49m\u001B[43muse_cache\u001B[49m\u001B[43m)\u001B[49m\n",
      "File \u001B[1;32m~\\AppData\\Local\\Programs\\Python\\Python39\\lib\\site-packages\\executing\\executing.py:270\u001B[0m, in \u001B[0;36mSource.for_filename\u001B[1;34m(cls, filename, module_globals, use_cache)\u001B[0m\n\u001B[0;32m    269\u001B[0m lines \u001B[38;5;241m=\u001B[39m \u001B[38;5;28mtuple\u001B[39m(linecache\u001B[38;5;241m.\u001B[39mgetlines(filename, module_globals))\n\u001B[1;32m--> 270\u001B[0m result \u001B[38;5;241m=\u001B[39m source_cache[filename] \u001B[38;5;241m=\u001B[39m \u001B[38;5;28;43mcls\u001B[39;49m\u001B[38;5;241;43m.\u001B[39;49m\u001B[43m_for_filename_and_lines\u001B[49m\u001B[43m(\u001B[49m\u001B[43mfilename\u001B[49m\u001B[43m,\u001B[49m\u001B[43m \u001B[49m\u001B[43mlines\u001B[49m\u001B[43m)\u001B[49m\n\u001B[0;32m    271\u001B[0m \u001B[38;5;28;01mreturn\u001B[39;00m result\n",
      "File \u001B[1;32m~\\AppData\\Local\\Programs\\Python\\Python39\\lib\\site-packages\\executing\\executing.py:281\u001B[0m, in \u001B[0;36mSource._for_filename_and_lines\u001B[1;34m(cls, filename, lines)\u001B[0m\n\u001B[0;32m    279\u001B[0m     \u001B[38;5;28;01mpass\u001B[39;00m\n\u001B[1;32m--> 281\u001B[0m result \u001B[38;5;241m=\u001B[39m source_cache[(filename, lines)] \u001B[38;5;241m=\u001B[39m \u001B[38;5;28;43mcls\u001B[39;49m\u001B[43m(\u001B[49m\u001B[43mfilename\u001B[49m\u001B[43m,\u001B[49m\u001B[43m \u001B[49m\u001B[43mlines\u001B[49m\u001B[43m)\u001B[49m\n\u001B[0;32m    282\u001B[0m \u001B[38;5;28;01mreturn\u001B[39;00m result\n",
      "File \u001B[1;32m~\\AppData\\Local\\Programs\\Python\\Python39\\lib\\site-packages\\stack_data\\core.py:81\u001B[0m, in \u001B[0;36mSource.__init__\u001B[1;34m(self, *args, **kwargs)\u001B[0m\n\u001B[0;32m     80\u001B[0m \u001B[38;5;28;01mif\u001B[39;00m \u001B[38;5;28mself\u001B[39m\u001B[38;5;241m.\u001B[39mtree:\n\u001B[1;32m---> 81\u001B[0m     \u001B[38;5;28;43mself\u001B[39;49m\u001B[38;5;241;43m.\u001B[39;49m\u001B[43masttokens\u001B[49m\u001B[43m(\u001B[49m\u001B[43m)\u001B[49m\n",
      "File \u001B[1;32m~\\AppData\\Local\\Programs\\Python\\Python39\\lib\\site-packages\\executing\\executing.py:413\u001B[0m, in \u001B[0;36mSource.asttokens\u001B[1;34m(self)\u001B[0m\n\u001B[0;32m    412\u001B[0m \u001B[38;5;28;01mfrom\u001B[39;00m \u001B[38;5;21;01masttokens\u001B[39;00m \u001B[38;5;28;01mimport\u001B[39;00m ASTTokens  \u001B[38;5;66;03m# must be installed separately\u001B[39;00m\n\u001B[1;32m--> 413\u001B[0m \u001B[38;5;28;01mreturn\u001B[39;00m \u001B[43mASTTokens\u001B[49m\u001B[43m(\u001B[49m\n\u001B[0;32m    414\u001B[0m \u001B[43m    \u001B[49m\u001B[38;5;28;43mself\u001B[39;49m\u001B[38;5;241;43m.\u001B[39;49m\u001B[43mtext\u001B[49m\u001B[43m,\u001B[49m\n\u001B[0;32m    415\u001B[0m \u001B[43m    \u001B[49m\u001B[43mtree\u001B[49m\u001B[38;5;241;43m=\u001B[39;49m\u001B[38;5;28;43mself\u001B[39;49m\u001B[38;5;241;43m.\u001B[39;49m\u001B[43mtree\u001B[49m\u001B[43m,\u001B[49m\n\u001B[0;32m    416\u001B[0m \u001B[43m    \u001B[49m\u001B[43mfilename\u001B[49m\u001B[38;5;241;43m=\u001B[39;49m\u001B[38;5;28;43mself\u001B[39;49m\u001B[38;5;241;43m.\u001B[39;49m\u001B[43mfilename\u001B[49m\u001B[43m,\u001B[49m\n\u001B[0;32m    417\u001B[0m \u001B[43m\u001B[49m\u001B[43m)\u001B[49m\n",
      "File \u001B[1;32m~\\AppData\\Local\\Programs\\Python\\Python39\\lib\\site-packages\\asttokens\\asttokens.py:65\u001B[0m, in \u001B[0;36mASTTokens.__init__\u001B[1;34m(self, source_text, parse, tree, filename)\u001B[0m\n\u001B[0;32m     64\u001B[0m \u001B[38;5;28;01mif\u001B[39;00m \u001B[38;5;28mself\u001B[39m\u001B[38;5;241m.\u001B[39m_tree:\n\u001B[1;32m---> 65\u001B[0m   \u001B[38;5;28;43mself\u001B[39;49m\u001B[38;5;241;43m.\u001B[39;49m\u001B[43mmark_tokens\u001B[49m\u001B[43m(\u001B[49m\u001B[38;5;28;43mself\u001B[39;49m\u001B[38;5;241;43m.\u001B[39;49m\u001B[43m_tree\u001B[49m\u001B[43m)\u001B[49m\n",
      "File \u001B[1;32m~\\AppData\\Local\\Programs\\Python\\Python39\\lib\\site-packages\\asttokens\\asttokens.py:76\u001B[0m, in \u001B[0;36mASTTokens.mark_tokens\u001B[1;34m(self, root_node)\u001B[0m\n\u001B[0;32m     75\u001B[0m \u001B[38;5;66;03m# The hard work of this class is done by MarkTokens\u001B[39;00m\n\u001B[1;32m---> 76\u001B[0m \u001B[43mMarkTokens\u001B[49m\u001B[43m(\u001B[49m\u001B[38;5;28;43mself\u001B[39;49m\u001B[43m)\u001B[49m\u001B[38;5;241;43m.\u001B[39;49m\u001B[43mvisit_tree\u001B[49m\u001B[43m(\u001B[49m\u001B[43mroot_node\u001B[49m\u001B[43m)\u001B[49m\n",
      "File \u001B[1;32m~\\AppData\\Local\\Programs\\Python\\Python39\\lib\\site-packages\\asttokens\\mark_tokens.py:49\u001B[0m, in \u001B[0;36mMarkTokens.visit_tree\u001B[1;34m(self, node)\u001B[0m\n\u001B[0;32m     48\u001B[0m \u001B[38;5;28mself\u001B[39m\u001B[38;5;241m.\u001B[39m_iter_children \u001B[38;5;241m=\u001B[39m util\u001B[38;5;241m.\u001B[39miter_children_func(node)\n\u001B[1;32m---> 49\u001B[0m \u001B[43mutil\u001B[49m\u001B[38;5;241;43m.\u001B[39;49m\u001B[43mvisit_tree\u001B[49m\u001B[43m(\u001B[49m\u001B[43mnode\u001B[49m\u001B[43m,\u001B[49m\u001B[43m \u001B[49m\u001B[38;5;28;43mself\u001B[39;49m\u001B[38;5;241;43m.\u001B[39;49m\u001B[43m_visit_before_children\u001B[49m\u001B[43m,\u001B[49m\u001B[43m \u001B[49m\u001B[38;5;28;43mself\u001B[39;49m\u001B[38;5;241;43m.\u001B[39;49m\u001B[43m_visit_after_children\u001B[49m\u001B[43m)\u001B[49m\n",
      "File \u001B[1;32m~\\AppData\\Local\\Programs\\Python\\Python39\\lib\\site-packages\\asttokens\\util.py:196\u001B[0m, in \u001B[0;36mvisit_tree\u001B[1;34m(node, previsit, postvisit)\u001B[0m\n\u001B[0;32m    194\u001B[0m done\u001B[38;5;241m.\u001B[39madd(current)\n\u001B[1;32m--> 196\u001B[0m pvalue, post_value \u001B[38;5;241m=\u001B[39m \u001B[43mprevisit\u001B[49m\u001B[43m(\u001B[49m\u001B[43mcurrent\u001B[49m\u001B[43m,\u001B[49m\u001B[43m \u001B[49m\u001B[43mpar_value\u001B[49m\u001B[43m)\u001B[49m\n\u001B[0;32m    197\u001B[0m stack\u001B[38;5;241m.\u001B[39mappend((current, par_value, post_value))\n",
      "File \u001B[1;32m~\\AppData\\Local\\Programs\\Python\\Python39\\lib\\site-packages\\asttokens\\mark_tokens.py:53\u001B[0m, in \u001B[0;36mMarkTokens._visit_before_children\u001B[1;34m(self, node, parent_token)\u001B[0m\n\u001B[0;32m     52\u001B[0m col \u001B[38;5;241m=\u001B[39m \u001B[38;5;28mgetattr\u001B[39m(node, \u001B[38;5;124m'\u001B[39m\u001B[38;5;124mcol_offset\u001B[39m\u001B[38;5;124m'\u001B[39m, \u001B[38;5;28;01mNone\u001B[39;00m)\n\u001B[1;32m---> 53\u001B[0m token \u001B[38;5;241m=\u001B[39m \u001B[38;5;28;43mself\u001B[39;49m\u001B[38;5;241;43m.\u001B[39;49m\u001B[43m_code\u001B[49m\u001B[38;5;241;43m.\u001B[39;49m\u001B[43mget_token_from_utf8\u001B[49m\u001B[43m(\u001B[49m\u001B[43mnode\u001B[49m\u001B[38;5;241;43m.\u001B[39;49m\u001B[43mlineno\u001B[49m\u001B[43m,\u001B[49m\u001B[43m \u001B[49m\u001B[43mcol\u001B[49m\u001B[43m)\u001B[49m \u001B[38;5;28;01mif\u001B[39;00m col \u001B[38;5;129;01mis\u001B[39;00m \u001B[38;5;129;01mnot\u001B[39;00m \u001B[38;5;28;01mNone\u001B[39;00m \u001B[38;5;28;01melse\u001B[39;00m \u001B[38;5;28;01mNone\u001B[39;00m\n\u001B[0;32m     55\u001B[0m \u001B[38;5;28;01mif\u001B[39;00m \u001B[38;5;129;01mnot\u001B[39;00m token \u001B[38;5;129;01mand\u001B[39;00m util\u001B[38;5;241m.\u001B[39mis_module(node):\n\u001B[0;32m     56\u001B[0m   \u001B[38;5;66;03m# We'll assume that a Module node starts at the start of the source code.\u001B[39;00m\n",
      "File \u001B[1;32m~\\AppData\\Local\\Programs\\Python\\Python39\\lib\\site-packages\\asttokens\\asttokens.py:132\u001B[0m, in \u001B[0;36mASTTokens.get_token_from_utf8\u001B[1;34m(self, lineno, col_offset)\u001B[0m\n\u001B[0;32m    129\u001B[0m \u001B[38;5;124;03m\"\"\"\u001B[39;00m\n\u001B[0;32m    130\u001B[0m \u001B[38;5;124;03mSame as get_token(), but interprets col_offset as a UTF8 offset, which is what `ast` uses.\u001B[39;00m\n\u001B[0;32m    131\u001B[0m \u001B[38;5;124;03m\"\"\"\u001B[39;00m\n\u001B[1;32m--> 132\u001B[0m \u001B[38;5;28;01mreturn\u001B[39;00m \u001B[38;5;28mself\u001B[39m\u001B[38;5;241m.\u001B[39mget_token(lineno, \u001B[38;5;28;43mself\u001B[39;49m\u001B[38;5;241;43m.\u001B[39;49m\u001B[43m_line_numbers\u001B[49m\u001B[38;5;241;43m.\u001B[39;49m\u001B[43mfrom_utf8_col\u001B[49m\u001B[43m(\u001B[49m\u001B[43mlineno\u001B[49m\u001B[43m,\u001B[49m\u001B[43m \u001B[49m\u001B[43mcol_offset\u001B[49m\u001B[43m)\u001B[49m)\n",
      "File \u001B[1;32m~\\AppData\\Local\\Programs\\Python\\Python39\\lib\\site-packages\\asttokens\\line_numbers.py:44\u001B[0m, in \u001B[0;36mLineNumbers.from_utf8_col\u001B[1;34m(self, line, utf8_column)\u001B[0m\n\u001B[0;32m     42\u001B[0m line_text \u001B[38;5;241m=\u001B[39m \u001B[38;5;28mself\u001B[39m\u001B[38;5;241m.\u001B[39m_text[\u001B[38;5;28mself\u001B[39m\u001B[38;5;241m.\u001B[39m_line_offsets[line \u001B[38;5;241m-\u001B[39m \u001B[38;5;241m1\u001B[39m] : end_offset]\n\u001B[1;32m---> 44\u001B[0m offsets \u001B[38;5;241m=\u001B[39m [i \u001B[38;5;28;01mfor\u001B[39;00m i,c \u001B[38;5;129;01min\u001B[39;00m \u001B[38;5;28;43menumerate\u001B[39;49m\u001B[43m(\u001B[49m\u001B[43mline_text\u001B[49m\u001B[43m)\u001B[49m \u001B[38;5;28;01mfor\u001B[39;00m byte \u001B[38;5;129;01min\u001B[39;00m c\u001B[38;5;241m.\u001B[39mencode(\u001B[38;5;124m'\u001B[39m\u001B[38;5;124mutf8\u001B[39m\u001B[38;5;124m'\u001B[39m)]\n\u001B[0;32m     45\u001B[0m offsets\u001B[38;5;241m.\u001B[39mappend(\u001B[38;5;28mlen\u001B[39m(line_text))\n",
      "\u001B[1;31mKeyboardInterrupt\u001B[0m: ",
      "\nDuring handling of the above exception, another exception occurred:\n",
      "\u001B[1;31mKeyboardInterrupt\u001B[0m                         Traceback (most recent call last)",
      "    \u001B[1;31m[... skipping hidden 1 frame]\u001B[0m\n",
      "File \u001B[1;32m~\\AppData\\Local\\Programs\\Python\\Python39\\lib\\site-packages\\IPython\\core\\interactiveshell.py:2003\u001B[0m, in \u001B[0;36mInteractiveShell.showtraceback\u001B[1;34m(self, exc_tuple, filename, tb_offset, exception_only, running_compiled_code)\u001B[0m\n\u001B[0;32m   2000\u001B[0m         \u001B[38;5;28mself\u001B[39m\u001B[38;5;241m.\u001B[39m_showtraceback(etype, value, stb)\n\u001B[0;32m   2002\u001B[0m \u001B[38;5;28;01mexcept\u001B[39;00m \u001B[38;5;167;01mKeyboardInterrupt\u001B[39;00m:\n\u001B[1;32m-> 2003\u001B[0m     \u001B[38;5;28mprint\u001B[39m(\u001B[38;5;124m'\u001B[39m\u001B[38;5;130;01m\\n\u001B[39;00m\u001B[38;5;124m'\u001B[39m \u001B[38;5;241m+\u001B[39m \u001B[38;5;28;43mself\u001B[39;49m\u001B[38;5;241;43m.\u001B[39;49m\u001B[43mget_exception_only\u001B[49m\u001B[43m(\u001B[49m\u001B[43m)\u001B[49m, file\u001B[38;5;241m=\u001B[39msys\u001B[38;5;241m.\u001B[39mstderr)\n",
      "File \u001B[1;32m~\\AppData\\Local\\Programs\\Python\\Python39\\lib\\site-packages\\IPython\\core\\interactiveshell.py:1939\u001B[0m, in \u001B[0;36mInteractiveShell.get_exception_only\u001B[1;34m(self, exc_tuple)\u001B[0m\n\u001B[0;32m   1934\u001B[0m \u001B[38;5;124;03m\"\"\"\u001B[39;00m\n\u001B[0;32m   1935\u001B[0m \u001B[38;5;124;03mReturn as a string (ending with a newline) the exception that\u001B[39;00m\n\u001B[0;32m   1936\u001B[0m \u001B[38;5;124;03mjust occurred, without any traceback.\u001B[39;00m\n\u001B[0;32m   1937\u001B[0m \u001B[38;5;124;03m\"\"\"\u001B[39;00m\n\u001B[0;32m   1938\u001B[0m etype, value, tb \u001B[38;5;241m=\u001B[39m \u001B[38;5;28mself\u001B[39m\u001B[38;5;241m.\u001B[39m_get_exc_info(exc_tuple)\n\u001B[1;32m-> 1939\u001B[0m msg \u001B[38;5;241m=\u001B[39m \u001B[43mtraceback\u001B[49m\u001B[38;5;241;43m.\u001B[39;49m\u001B[43mformat_exception_only\u001B[49m\u001B[43m(\u001B[49m\u001B[43metype\u001B[49m\u001B[43m,\u001B[49m\u001B[43m \u001B[49m\u001B[43mvalue\u001B[49m\u001B[43m)\u001B[49m\n\u001B[0;32m   1940\u001B[0m \u001B[38;5;28;01mreturn\u001B[39;00m \u001B[38;5;124m'\u001B[39m\u001B[38;5;124m'\u001B[39m\u001B[38;5;241m.\u001B[39mjoin(msg)\n",
      "File \u001B[1;32m~\\AppData\\Local\\Programs\\Python\\Python39\\lib\\traceback.py:140\u001B[0m, in \u001B[0;36mformat_exception_only\u001B[1;34m(etype, value)\u001B[0m\n\u001B[0;32m    124\u001B[0m \u001B[38;5;28;01mdef\u001B[39;00m \u001B[38;5;21mformat_exception_only\u001B[39m(etype, value):\n\u001B[0;32m    125\u001B[0m     \u001B[38;5;124;03m\"\"\"Format the exception part of a traceback.\u001B[39;00m\n\u001B[0;32m    126\u001B[0m \n\u001B[0;32m    127\u001B[0m \u001B[38;5;124;03m    The arguments are the exception type and value such as given by\u001B[39;00m\n\u001B[1;32m   (...)\u001B[0m\n\u001B[0;32m    138\u001B[0m \n\u001B[0;32m    139\u001B[0m \u001B[38;5;124;03m    \"\"\"\u001B[39;00m\n\u001B[1;32m--> 140\u001B[0m     \u001B[38;5;28;01mreturn\u001B[39;00m \u001B[38;5;28mlist\u001B[39m(\u001B[43mTracebackException\u001B[49m\u001B[43m(\u001B[49m\u001B[43metype\u001B[49m\u001B[43m,\u001B[49m\u001B[43m \u001B[49m\u001B[43mvalue\u001B[49m\u001B[43m,\u001B[49m\u001B[43m \u001B[49m\u001B[38;5;28;43;01mNone\u001B[39;49;00m\u001B[43m)\u001B[49m\u001B[38;5;241m.\u001B[39mformat_exception_only())\n",
      "File \u001B[1;32m~\\AppData\\Local\\Programs\\Python\\Python39\\lib\\traceback.py:533\u001B[0m, in \u001B[0;36mTracebackException.__init__\u001B[1;34m(self, exc_type, exc_value, exc_traceback, limit, lookup_lines, capture_locals, _seen)\u001B[0m\n\u001B[0;32m    531\u001B[0m     \u001B[38;5;28mself\u001B[39m\u001B[38;5;241m.\u001B[39mmsg \u001B[38;5;241m=\u001B[39m exc_value\u001B[38;5;241m.\u001B[39mmsg\n\u001B[0;32m    532\u001B[0m \u001B[38;5;28;01mif\u001B[39;00m lookup_lines:\n\u001B[1;32m--> 533\u001B[0m     \u001B[38;5;28;43mself\u001B[39;49m\u001B[38;5;241;43m.\u001B[39;49m\u001B[43m_load_lines\u001B[49m\u001B[43m(\u001B[49m\u001B[43m)\u001B[49m\n",
      "File \u001B[1;32m~\\AppData\\Local\\Programs\\Python\\Python39\\lib\\traceback.py:545\u001B[0m, in \u001B[0;36mTracebackException._load_lines\u001B[1;34m(self)\u001B[0m\n\u001B[0;32m    543\u001B[0m     frame\u001B[38;5;241m.\u001B[39mline\n\u001B[0;32m    544\u001B[0m \u001B[38;5;28;01mif\u001B[39;00m \u001B[38;5;28mself\u001B[39m\u001B[38;5;241m.\u001B[39m__context__:\n\u001B[1;32m--> 545\u001B[0m     \u001B[38;5;28;43mself\u001B[39;49m\u001B[38;5;241;43m.\u001B[39;49m\u001B[43m__context__\u001B[49m\u001B[38;5;241;43m.\u001B[39;49m\u001B[43m_load_lines\u001B[49m\u001B[43m(\u001B[49m\u001B[43m)\u001B[49m\n\u001B[0;32m    546\u001B[0m \u001B[38;5;28;01mif\u001B[39;00m \u001B[38;5;28mself\u001B[39m\u001B[38;5;241m.\u001B[39m__cause__:\n\u001B[0;32m    547\u001B[0m     \u001B[38;5;28mself\u001B[39m\u001B[38;5;241m.\u001B[39m__cause__\u001B[38;5;241m.\u001B[39m_load_lines()\n",
      "File \u001B[1;32m~\\AppData\\Local\\Programs\\Python\\Python39\\lib\\traceback.py:545\u001B[0m, in \u001B[0;36mTracebackException._load_lines\u001B[1;34m(self)\u001B[0m\n\u001B[0;32m    543\u001B[0m     frame\u001B[38;5;241m.\u001B[39mline\n\u001B[0;32m    544\u001B[0m \u001B[38;5;28;01mif\u001B[39;00m \u001B[38;5;28mself\u001B[39m\u001B[38;5;241m.\u001B[39m__context__:\n\u001B[1;32m--> 545\u001B[0m     \u001B[38;5;28;43mself\u001B[39;49m\u001B[38;5;241;43m.\u001B[39;49m\u001B[43m__context__\u001B[49m\u001B[38;5;241;43m.\u001B[39;49m\u001B[43m_load_lines\u001B[49m\u001B[43m(\u001B[49m\u001B[43m)\u001B[49m\n\u001B[0;32m    546\u001B[0m \u001B[38;5;28;01mif\u001B[39;00m \u001B[38;5;28mself\u001B[39m\u001B[38;5;241m.\u001B[39m__cause__:\n\u001B[0;32m    547\u001B[0m     \u001B[38;5;28mself\u001B[39m\u001B[38;5;241m.\u001B[39m__cause__\u001B[38;5;241m.\u001B[39m_load_lines()\n",
      "File \u001B[1;32m~\\AppData\\Local\\Programs\\Python\\Python39\\lib\\traceback.py:543\u001B[0m, in \u001B[0;36mTracebackException._load_lines\u001B[1;34m(self)\u001B[0m\n\u001B[0;32m    541\u001B[0m \u001B[38;5;124;03m\"\"\"Private API. force all lines in the stack to be loaded.\"\"\"\u001B[39;00m\n\u001B[0;32m    542\u001B[0m \u001B[38;5;28;01mfor\u001B[39;00m frame \u001B[38;5;129;01min\u001B[39;00m \u001B[38;5;28mself\u001B[39m\u001B[38;5;241m.\u001B[39mstack:\n\u001B[1;32m--> 543\u001B[0m     \u001B[43mframe\u001B[49m\u001B[38;5;241;43m.\u001B[39;49m\u001B[43mline\u001B[49m\n\u001B[0;32m    544\u001B[0m \u001B[38;5;28;01mif\u001B[39;00m \u001B[38;5;28mself\u001B[39m\u001B[38;5;241m.\u001B[39m__context__:\n\u001B[0;32m    545\u001B[0m     \u001B[38;5;28mself\u001B[39m\u001B[38;5;241m.\u001B[39m__context__\u001B[38;5;241m.\u001B[39m_load_lines()\n",
      "File \u001B[1;32m~\\AppData\\Local\\Programs\\Python\\Python39\\lib\\traceback.py:288\u001B[0m, in \u001B[0;36mFrameSummary.line\u001B[1;34m(self)\u001B[0m\n\u001B[0;32m    285\u001B[0m \u001B[38;5;129m@property\u001B[39m\n\u001B[0;32m    286\u001B[0m \u001B[38;5;28;01mdef\u001B[39;00m \u001B[38;5;21mline\u001B[39m(\u001B[38;5;28mself\u001B[39m):\n\u001B[0;32m    287\u001B[0m     \u001B[38;5;28;01mif\u001B[39;00m \u001B[38;5;28mself\u001B[39m\u001B[38;5;241m.\u001B[39m_line \u001B[38;5;129;01mis\u001B[39;00m \u001B[38;5;28;01mNone\u001B[39;00m:\n\u001B[1;32m--> 288\u001B[0m         \u001B[38;5;28mself\u001B[39m\u001B[38;5;241m.\u001B[39m_line \u001B[38;5;241m=\u001B[39m \u001B[43mlinecache\u001B[49m\u001B[38;5;241;43m.\u001B[39;49m\u001B[43mgetline\u001B[49m\u001B[43m(\u001B[49m\u001B[38;5;28;43mself\u001B[39;49m\u001B[38;5;241;43m.\u001B[39;49m\u001B[43mfilename\u001B[49m\u001B[43m,\u001B[49m\u001B[43m \u001B[49m\u001B[38;5;28;43mself\u001B[39;49m\u001B[38;5;241;43m.\u001B[39;49m\u001B[43mlineno\u001B[49m\u001B[43m)\u001B[49m\u001B[38;5;241m.\u001B[39mstrip()\n\u001B[0;32m    289\u001B[0m     \u001B[38;5;28;01mreturn\u001B[39;00m \u001B[38;5;28mself\u001B[39m\u001B[38;5;241m.\u001B[39m_line\n",
      "File \u001B[1;32m~\\AppData\\Local\\Programs\\Python\\Python39\\lib\\linecache.py:30\u001B[0m, in \u001B[0;36mgetline\u001B[1;34m(filename, lineno, module_globals)\u001B[0m\n\u001B[0;32m     26\u001B[0m \u001B[38;5;28;01mdef\u001B[39;00m \u001B[38;5;21mgetline\u001B[39m(filename, lineno, module_globals\u001B[38;5;241m=\u001B[39m\u001B[38;5;28;01mNone\u001B[39;00m):\n\u001B[0;32m     27\u001B[0m     \u001B[38;5;124;03m\"\"\"Get a line for a Python source file from the cache.\u001B[39;00m\n\u001B[0;32m     28\u001B[0m \u001B[38;5;124;03m    Update the cache if it doesn't contain an entry for this file already.\"\"\"\u001B[39;00m\n\u001B[1;32m---> 30\u001B[0m     lines \u001B[38;5;241m=\u001B[39m \u001B[43mgetlines\u001B[49m\u001B[43m(\u001B[49m\u001B[43mfilename\u001B[49m\u001B[43m,\u001B[49m\u001B[43m \u001B[49m\u001B[43mmodule_globals\u001B[49m\u001B[43m)\u001B[49m\n\u001B[0;32m     31\u001B[0m     \u001B[38;5;28;01mif\u001B[39;00m \u001B[38;5;241m1\u001B[39m \u001B[38;5;241m<\u001B[39m\u001B[38;5;241m=\u001B[39m lineno \u001B[38;5;241m<\u001B[39m\u001B[38;5;241m=\u001B[39m \u001B[38;5;28mlen\u001B[39m(lines):\n\u001B[0;32m     32\u001B[0m         \u001B[38;5;28;01mreturn\u001B[39;00m lines[lineno \u001B[38;5;241m-\u001B[39m \u001B[38;5;241m1\u001B[39m]\n",
      "File \u001B[1;32m~\\AppData\\Local\\Programs\\Python\\Python39\\lib\\linecache.py:46\u001B[0m, in \u001B[0;36mgetlines\u001B[1;34m(filename, module_globals)\u001B[0m\n\u001B[0;32m     43\u001B[0m         \u001B[38;5;28;01mreturn\u001B[39;00m cache[filename][\u001B[38;5;241m2\u001B[39m]\n\u001B[0;32m     45\u001B[0m \u001B[38;5;28;01mtry\u001B[39;00m:\n\u001B[1;32m---> 46\u001B[0m     \u001B[38;5;28;01mreturn\u001B[39;00m \u001B[43mupdatecache\u001B[49m\u001B[43m(\u001B[49m\u001B[43mfilename\u001B[49m\u001B[43m,\u001B[49m\u001B[43m \u001B[49m\u001B[43mmodule_globals\u001B[49m\u001B[43m)\u001B[49m\n\u001B[0;32m     47\u001B[0m \u001B[38;5;28;01mexcept\u001B[39;00m \u001B[38;5;167;01mMemoryError\u001B[39;00m:\n\u001B[0;32m     48\u001B[0m     clearcache()\n",
      "File \u001B[1;32m~\\AppData\\Local\\Programs\\Python\\Python39\\lib\\linecache.py:136\u001B[0m, in \u001B[0;36mupdatecache\u001B[1;34m(filename, module_globals)\u001B[0m\n\u001B[0;32m    134\u001B[0m         \u001B[38;5;28;01mreturn\u001B[39;00m []\n\u001B[0;32m    135\u001B[0m \u001B[38;5;28;01mtry\u001B[39;00m:\n\u001B[1;32m--> 136\u001B[0m     \u001B[38;5;28;01mwith\u001B[39;00m \u001B[43mtokenize\u001B[49m\u001B[38;5;241;43m.\u001B[39;49m\u001B[43mopen\u001B[49m\u001B[43m(\u001B[49m\u001B[43mfullname\u001B[49m\u001B[43m)\u001B[49m \u001B[38;5;28;01mas\u001B[39;00m fp:\n\u001B[0;32m    137\u001B[0m         lines \u001B[38;5;241m=\u001B[39m fp\u001B[38;5;241m.\u001B[39mreadlines()\n\u001B[0;32m    138\u001B[0m \u001B[38;5;28;01mexcept\u001B[39;00m \u001B[38;5;167;01mOSError\u001B[39;00m:\n",
      "File \u001B[1;32m~\\AppData\\Local\\Programs\\Python\\Python39\\lib\\tokenize.py:392\u001B[0m, in \u001B[0;36mopen\u001B[1;34m(filename)\u001B[0m\n\u001B[0;32m    388\u001B[0m \u001B[38;5;28;01mdef\u001B[39;00m \u001B[38;5;21mopen\u001B[39m(filename):\n\u001B[0;32m    389\u001B[0m     \u001B[38;5;124;03m\"\"\"Open a file in read only mode using the encoding detected by\u001B[39;00m\n\u001B[0;32m    390\u001B[0m \u001B[38;5;124;03m    detect_encoding().\u001B[39;00m\n\u001B[0;32m    391\u001B[0m \u001B[38;5;124;03m    \"\"\"\u001B[39;00m\n\u001B[1;32m--> 392\u001B[0m     buffer \u001B[38;5;241m=\u001B[39m \u001B[43m_builtin_open\u001B[49m\u001B[43m(\u001B[49m\u001B[43mfilename\u001B[49m\u001B[43m,\u001B[49m\u001B[43m \u001B[49m\u001B[38;5;124;43m'\u001B[39;49m\u001B[38;5;124;43mrb\u001B[39;49m\u001B[38;5;124;43m'\u001B[39;49m\u001B[43m)\u001B[49m\n\u001B[0;32m    393\u001B[0m     \u001B[38;5;28;01mtry\u001B[39;00m:\n\u001B[0;32m    394\u001B[0m         encoding, lines \u001B[38;5;241m=\u001B[39m detect_encoding(buffer\u001B[38;5;241m.\u001B[39mreadline)\n",
      "\u001B[1;31mKeyboardInterrupt\u001B[0m: "
     ]
    }
   ],
   "source": [
    "modelCNN_MCV2=tf.keras.Sequential()\n",
    "modelCNN_MCV2.add(BatchNormalization(input_shape=(128,8,1)))\n",
    "modelCNN_MCV2.add(Conv2D(filters=8,kernel_size=(4,4),strides=(1,1),padding='SAME', use_bias=False, name='conv_1'))\n",
    "modelCNN_MCV2.add(BatchNormalization())\n",
    "modelCNN_MCV2.add(Activation('relu'))\n",
    "modelCNN_MCV2.add(MaxPooling2D(2))\n",
    "modelCNN_MCV2.add(Conv2D(filters=16,kernel_size=(2,2),strides=(2,2), use_bias=False,\n",
    "                         padding='SAME', name='conv_2'))\n",
    "modelCNN_MCV2.add(BatchNormalization())\n",
    "modelCNN_MCV2.add(Activation('relu'))\n",
    "modelCNN_MCV2.add(Dropout(0.3))\n",
    "modelCNN_MCV2.add(Conv2D(filters=32,kernel_size=(2,2),strides=(2,2), use_bias=False,\n",
    "                         padding='SAME', name='conv_3'))\n",
    "modelCNN_MCV2.add(BatchNormalization())\n",
    "modelCNN_MCV2.add(Activation('relu'))\n",
    "modelCNN_MCV2.add(Dropout(0.3))\n",
    "modelCNN_MCV2.add(Flatten())\n",
    "modelCNN_MCV2.add(Dense(512, activation='relu', name='dense_2'))\n",
    "modelCNN_MCV2.add(Dense(256, activation='relu', name='dense_3'))\n",
    "modelCNN_MCV2.add(Dropout(0.5))\n",
    "modelCNN_MCV2.add(Dense(1, activation='linear', name='output_range'))\n",
    "\n",
    "optimizer= tf.keras.optimizers.Adam()\n",
    "modelCNN_MCV2.compile(loss='mse',optimizer=optimizer,metrics=['mae'])\n",
    "\n",
    "\n",
    "reduceLR = tf.keras.callbacks.ReduceLROnPlateau(monitor='val_loss', factor=0.5,\n",
    "                                 verbose=1, patience=20, mode='auto')\n",
    "early = tf.keras.callbacks.EarlyStopping(monitor='val_loss', min_delta=1e-4,\n",
    "                          patience=40, mode='auto', restore_best_weights=True)\n",
    "modelCNN_MCV2.build(input_shape=(None,128,8,1))\n",
    "modelCNN_MCV2.summary()\n",
    "history = modelCNN_MCV2.fit(train_feats, cont_range_train_targs,\n",
    "                      epochs=200,\n",
    "                      batch_size=32,\n",
    "                      shuffle=True,\n",
    "                      validation_split=0.2,\n",
    "                      callbacks=[reduceLR, early])"
   ],
   "metadata": {
    "collapsed": false,
    "pycharm": {
     "name": "#%%\n"
    }
   }
  },
  {
   "cell_type": "code",
   "execution_count": 16,
   "outputs": [
    {
     "name": "stdout",
     "output_type": "stream",
     "text": [
      "150/150 [==============================] - 1s 4ms/step\n"
     ]
    }
   ],
   "source": [
    "preds=modelCNN_MCV2.predict(test_feats)"
   ],
   "metadata": {
    "collapsed": false,
    "pycharm": {
     "name": "#%%\n"
    }
   }
  },
  {
   "cell_type": "markdown",
   "source": [
    "Convert to psuedo-classification"
   ],
   "metadata": {
    "collapsed": false,
    "pycharm": {
     "name": "#%% md\n"
    }
   }
  },
  {
   "cell_type": "code",
   "execution_count": 17,
   "outputs": [],
   "source": [
    "class_vals=[]\n",
    "for x in preds:\n",
    "    class_vals.append(classFinder(x))"
   ],
   "metadata": {
    "collapsed": false,
    "pycharm": {
     "name": "#%%\n"
    }
   }
  },
  {
   "cell_type": "code",
   "execution_count": 18,
   "outputs": [
    {
     "name": "stdout",
     "output_type": "stream",
     "text": [
      "              precision    recall  f1-score   support\n",
      "\n",
      "         0.0       0.96      0.52      0.67      1496\n",
      "         1.0       0.34      0.61      0.43       910\n",
      "         2.0       0.33      0.71      0.45      1067\n",
      "         3.0       0.85      0.03      0.06      1300\n",
      "\n",
      "    accuracy                           0.45      4773\n",
      "   macro avg       0.62      0.47      0.41      4773\n",
      "weighted avg       0.67      0.45      0.41      4773\n",
      "\n"
     ]
    }
   ],
   "source": [
    "print(classification_report(range_test_targs,class_vals))"
   ],
   "metadata": {
    "collapsed": false,
    "pycharm": {
     "name": "#%%\n"
    }
   }
  },
  {
   "cell_type": "markdown",
   "source": [
    "# Experiment #2: <a class=\"anchor\" id=\"exp-2\"></a>\n",
    "Goals:\n",
    "* Evaluate the performance of the 2DCNN model\n",
    "\n",
    "* Investigate if the deep learning architecture capable of extracting sUAS-type-agnostic features that generalize sUAS range.\n",
    "\n",
    "This is done by training the best-performing model architecture on each of the individual datasets and then comparing the performance to the model trained with the Combined dataset. If sUAS range is generalizable, we would expect to see that the model trained with the combined dataset out-performs each of the individual sUAS trained models on that sUAS’s respective testset.\n",
    "\n",
    "\n",
    "\n",
    "![](exp_2.png)"
   ],
   "metadata": {
    "collapsed": false,
    "pycharm": {
     "name": "#%% md\n"
    }
   }
  },
  {
   "cell_type": "markdown",
   "source": [
    "# A wrapper to re-train the model on Individual sUAS Training Datasets (Used to evaluate IF vs Combined, Matrice vs Combined etc)\n",
    "Demonstrates the impact that training with exclusively a single sUAS type has on ML model performance. This is experiment #2 in the conference paper titled \"Cellphone-Based sUAS Range Estimation: A\n",
    "Deep-Learning Approach.\" To compare the impact that training on a single sUAS type has on performance, run the following wrapper function and then run the sequential block of code to see performance statistics."
   ],
   "metadata": {
    "collapsed": false,
    "pycharm": {
     "name": "#%% md\n"
    }
   },
   "outputs": [
    {
     "name": "stdout",
     "output_type": "stream",
     "text": [
      "139/426 [========>.....................] - ETA: 7s - loss: 0.6088 - accuracy: 0.7592"
     ]
    }
   ]
  },
  {
   "cell_type": "code",
   "execution_count": null,
   "outputs": [],
   "source": [
    "training_iterations=1"
   ],
   "metadata": {
    "collapsed": false,
    "pycharm": {
     "name": "#%%\n"
    }
   }
  },
  {
   "cell_type": "code",
   "execution_count": 109,
   "outputs": [
    {
     "name": "stdout",
     "output_type": "stream",
     "text": [
      "Model: \"sequential_59\"\n",
      "_________________________________________________________________\n",
      " Layer (type)                Output Shape              Param #   \n",
      "=================================================================\n",
      " batch_normalization_235 (Ba  (None, 128, 8, 1)        4         \n",
      " tchNormalization)                                               \n",
      "                                                                 \n",
      " conv_1 (Conv2D)             (None, 128, 8, 8)         128       \n",
      "                                                                 \n",
      " batch_normalization_236 (Ba  (None, 128, 8, 8)        32        \n",
      " tchNormalization)                                               \n",
      "                                                                 \n",
      " activation_175 (Activation)  (None, 128, 8, 8)        0         \n",
      "                                                                 \n",
      " max_pooling2d_59 (MaxPoolin  (None, 64, 4, 8)         0         \n",
      " g2D)                                                            \n",
      "                                                                 \n",
      " conv_2 (Conv2D)             (None, 32, 2, 16)         512       \n",
      "                                                                 \n",
      " batch_normalization_237 (Ba  (None, 32, 2, 16)        64        \n",
      " tchNormalization)                                               \n",
      "                                                                 \n",
      " activation_176 (Activation)  (None, 32, 2, 16)        0         \n",
      "                                                                 \n",
      " dropout_174 (Dropout)       (None, 32, 2, 16)         0         \n",
      "                                                                 \n",
      " conv_3 (Conv2D)             (None, 16, 1, 32)         2048      \n",
      "                                                                 \n",
      " batch_normalization_238 (Ba  (None, 16, 1, 32)        128       \n",
      " tchNormalization)                                               \n",
      "                                                                 \n",
      " activation_177 (Activation)  (None, 16, 1, 32)        0         \n",
      "                                                                 \n",
      " dropout_175 (Dropout)       (None, 16, 1, 32)         0         \n",
      "                                                                 \n",
      " flatten_57 (Flatten)        (None, 512)               0         \n",
      "                                                                 \n",
      " dense_2 (Dense)             (None, 512)               262656    \n",
      "                                                                 \n",
      " dense_3 (Dense)             (None, 256)               131328    \n",
      "                                                                 \n",
      " dropout_176 (Dropout)       (None, 256)               0         \n",
      "                                                                 \n",
      " output_range (Dense)        (None, 4)                 1028      \n",
      "                                                                 \n",
      "=================================================================\n",
      "Total params: 397,928\n",
      "Trainable params: 397,814\n",
      "Non-trainable params: 114\n",
      "_________________________________________________________________\n",
      "Epoch 1/200\n",
      "341/341 [==============================] - 17s 47ms/step - loss: 1.2611 - accuracy: 0.4553 - val_loss: 1.1053 - val_accuracy: 0.5134 - lr: 0.0010\n",
      "Epoch 2/200\n",
      "341/341 [==============================] - 16s 48ms/step - loss: 1.1191 - accuracy: 0.5324 - val_loss: 0.9668 - val_accuracy: 0.6044 - lr: 0.0010\n",
      "Epoch 3/200\n",
      "341/341 [==============================] - 17s 49ms/step - loss: 1.0403 - accuracy: 0.5722 - val_loss: 0.9084 - val_accuracy: 0.6114 - lr: 0.0010\n",
      "Epoch 4/200\n",
      "341/341 [==============================] - 15s 43ms/step - loss: 0.9835 - accuracy: 0.5892 - val_loss: 0.8631 - val_accuracy: 0.6407 - lr: 0.0010\n",
      "Epoch 5/200\n",
      "341/341 [==============================] - 18s 52ms/step - loss: 0.9430 - accuracy: 0.6167 - val_loss: 0.8200 - val_accuracy: 0.6583 - lr: 0.0010\n",
      "Epoch 6/200\n",
      "341/341 [==============================] - 15s 45ms/step - loss: 0.9091 - accuracy: 0.6316 - val_loss: 0.8029 - val_accuracy: 0.6528 - lr: 0.0010\n",
      "Epoch 7/200\n",
      "341/341 [==============================] - 15s 45ms/step - loss: 0.8866 - accuracy: 0.6370 - val_loss: 0.7698 - val_accuracy: 0.6822 - lr: 0.0010\n",
      "Epoch 8/200\n",
      "341/341 [==============================] - 16s 47ms/step - loss: 0.8517 - accuracy: 0.6574 - val_loss: 0.8085 - val_accuracy: 0.6407 - lr: 0.0010\n",
      "Epoch 9/200\n",
      "341/341 [==============================] - 16s 46ms/step - loss: 0.8274 - accuracy: 0.6665 - val_loss: 0.7270 - val_accuracy: 0.6829 - lr: 0.0010\n",
      "Epoch 10/200\n",
      "341/341 [==============================] - 16s 46ms/step - loss: 0.8088 - accuracy: 0.6765 - val_loss: 0.7165 - val_accuracy: 0.6987 - lr: 0.0010\n",
      "Epoch 11/200\n",
      "341/341 [==============================] - 16s 47ms/step - loss: 0.7887 - accuracy: 0.6833 - val_loss: 0.7332 - val_accuracy: 0.6958 - lr: 0.0010\n",
      "Epoch 12/200\n",
      "341/341 [==============================] - 15s 45ms/step - loss: 0.7701 - accuracy: 0.6997 - val_loss: 0.7043 - val_accuracy: 0.6969 - lr: 0.0010\n",
      "Epoch 13/200\n",
      "341/341 [==============================] - 16s 47ms/step - loss: 0.7519 - accuracy: 0.7008 - val_loss: 0.6864 - val_accuracy: 0.7105 - lr: 0.0010\n",
      "Epoch 14/200\n",
      "341/341 [==============================] - 15s 44ms/step - loss: 0.7391 - accuracy: 0.7067 - val_loss: 0.6899 - val_accuracy: 0.7119 - lr: 0.0010\n",
      "Epoch 15/200\n",
      "341/341 [==============================] - 15s 44ms/step - loss: 0.7184 - accuracy: 0.7184 - val_loss: 0.7286 - val_accuracy: 0.6785 - lr: 0.0010\n",
      "Epoch 16/200\n",
      "341/341 [==============================] - 15s 45ms/step - loss: 0.6972 - accuracy: 0.7246 - val_loss: 0.6458 - val_accuracy: 0.7277 - lr: 0.0010\n",
      "Epoch 17/200\n",
      "341/341 [==============================] - 15s 45ms/step - loss: 0.6841 - accuracy: 0.7372 - val_loss: 0.6319 - val_accuracy: 0.7475 - lr: 0.0010\n",
      "Epoch 18/200\n",
      "341/341 [==============================] - 16s 45ms/step - loss: 0.6598 - accuracy: 0.7475 - val_loss: 0.6501 - val_accuracy: 0.7299 - lr: 0.0010\n",
      "Epoch 19/200\n",
      "341/341 [==============================] - 15s 44ms/step - loss: 0.6571 - accuracy: 0.7473 - val_loss: 0.6533 - val_accuracy: 0.7237 - lr: 0.0010\n",
      "Epoch 20/200\n",
      "341/341 [==============================] - 15s 44ms/step - loss: 0.6452 - accuracy: 0.7507 - val_loss: 0.6233 - val_accuracy: 0.7406 - lr: 0.0010\n",
      "Epoch 21/200\n",
      "341/341 [==============================] - 15s 43ms/step - loss: 0.6377 - accuracy: 0.7564 - val_loss: 0.6205 - val_accuracy: 0.7417 - lr: 0.0010\n",
      "Epoch 22/200\n",
      "341/341 [==============================] - 15s 44ms/step - loss: 0.6061 - accuracy: 0.7725 - val_loss: 0.6350 - val_accuracy: 0.7398 - lr: 0.0010\n",
      "Epoch 23/200\n",
      "341/341 [==============================] - 15s 44ms/step - loss: 0.6093 - accuracy: 0.7676 - val_loss: 0.6178 - val_accuracy: 0.7483 - lr: 0.0010\n",
      "Epoch 24/200\n",
      "341/341 [==============================] - 16s 47ms/step - loss: 0.5834 - accuracy: 0.7778 - val_loss: 0.6157 - val_accuracy: 0.7483 - lr: 0.0010\n",
      "Epoch 25/200\n",
      "341/341 [==============================] - 15s 44ms/step - loss: 0.5811 - accuracy: 0.7811 - val_loss: 0.6171 - val_accuracy: 0.7475 - lr: 0.0010\n",
      "Epoch 26/200\n",
      "341/341 [==============================] - 14s 42ms/step - loss: 0.5621 - accuracy: 0.7876 - val_loss: 0.6396 - val_accuracy: 0.7453 - lr: 0.0010\n",
      "Epoch 27/200\n",
      "341/341 [==============================] - 15s 43ms/step - loss: 0.5554 - accuracy: 0.7901 - val_loss: 0.6097 - val_accuracy: 0.7582 - lr: 0.0010\n",
      "Epoch 28/200\n",
      "341/341 [==============================] - 15s 43ms/step - loss: 0.5533 - accuracy: 0.7938 - val_loss: 0.6272 - val_accuracy: 0.7512 - lr: 0.0010\n",
      "Epoch 29/200\n",
      "341/341 [==============================] - 14s 42ms/step - loss: 0.5329 - accuracy: 0.7997 - val_loss: 0.6091 - val_accuracy: 0.7633 - lr: 0.0010\n",
      "Epoch 30/200\n",
      "341/341 [==============================] - 15s 45ms/step - loss: 0.5203 - accuracy: 0.8045 - val_loss: 0.6234 - val_accuracy: 0.7615 - lr: 0.0010\n",
      "Epoch 31/200\n",
      "341/341 [==============================] - 15s 44ms/step - loss: 0.5172 - accuracy: 0.8068 - val_loss: 0.6604 - val_accuracy: 0.7442 - lr: 0.0010\n",
      "Epoch 32/200\n",
      "341/341 [==============================] - 15s 44ms/step - loss: 0.5032 - accuracy: 0.8161 - val_loss: 0.5948 - val_accuracy: 0.7604 - lr: 0.0010\n",
      "Epoch 33/200\n",
      "341/341 [==============================] - 15s 45ms/step - loss: 0.5039 - accuracy: 0.8169 - val_loss: 0.6200 - val_accuracy: 0.7578 - lr: 0.0010\n",
      "Epoch 34/200\n",
      "341/341 [==============================] - 15s 45ms/step - loss: 0.4938 - accuracy: 0.8157 - val_loss: 0.6020 - val_accuracy: 0.7670 - lr: 0.0010\n",
      "Epoch 35/200\n",
      "341/341 [==============================] - 17s 50ms/step - loss: 0.4824 - accuracy: 0.8197 - val_loss: 0.6173 - val_accuracy: 0.7633 - lr: 0.0010\n",
      "Epoch 36/200\n",
      "341/341 [==============================] - 15s 45ms/step - loss: 0.4757 - accuracy: 0.8216 - val_loss: 0.6267 - val_accuracy: 0.7574 - lr: 0.0010\n",
      "Epoch 37/200\n",
      "341/341 [==============================] - 18s 52ms/step - loss: 0.4531 - accuracy: 0.8303 - val_loss: 0.6187 - val_accuracy: 0.7637 - lr: 0.0010\n",
      "Epoch 38/200\n",
      "341/341 [==============================] - 18s 52ms/step - loss: 0.4616 - accuracy: 0.8266 - val_loss: 0.6219 - val_accuracy: 0.7662 - lr: 0.0010\n",
      "Epoch 39/200\n",
      "341/341 [==============================] - 15s 43ms/step - loss: 0.4461 - accuracy: 0.8306 - val_loss: 0.6150 - val_accuracy: 0.7684 - lr: 0.0010\n",
      "Epoch 40/200\n",
      "341/341 [==============================] - 17s 49ms/step - loss: 0.4517 - accuracy: 0.8354 - val_loss: 0.6155 - val_accuracy: 0.7622 - lr: 0.0010\n",
      "Epoch 41/200\n",
      "341/341 [==============================] - 16s 46ms/step - loss: 0.4354 - accuracy: 0.8379 - val_loss: 0.6270 - val_accuracy: 0.7611 - lr: 0.0010\n",
      "Epoch 42/200\n",
      "341/341 [==============================] - 17s 49ms/step - loss: 0.4310 - accuracy: 0.8418 - val_loss: 0.6191 - val_accuracy: 0.7699 - lr: 0.0010\n",
      "Epoch 43/200\n",
      "341/341 [==============================] - 15s 45ms/step - loss: 0.4166 - accuracy: 0.8491 - val_loss: 0.6033 - val_accuracy: 0.7783 - lr: 0.0010\n",
      "Epoch 44/200\n",
      "341/341 [==============================] - 15s 45ms/step - loss: 0.4098 - accuracy: 0.8489 - val_loss: 0.6414 - val_accuracy: 0.7626 - lr: 0.0010\n",
      "Epoch 45/200\n",
      "341/341 [==============================] - 15s 44ms/step - loss: 0.4085 - accuracy: 0.8505 - val_loss: 0.6235 - val_accuracy: 0.7728 - lr: 0.0010\n",
      "Epoch 46/200\n",
      "341/341 [==============================] - 15s 45ms/step - loss: 0.4020 - accuracy: 0.8509 - val_loss: 0.6435 - val_accuracy: 0.7651 - lr: 0.0010\n",
      "Epoch 47/200\n",
      "341/341 [==============================] - 15s 44ms/step - loss: 0.3920 - accuracy: 0.8516 - val_loss: 0.6299 - val_accuracy: 0.7721 - lr: 0.0010\n",
      "Epoch 48/200\n",
      "341/341 [==============================] - 15s 45ms/step - loss: 0.3911 - accuracy: 0.8594 - val_loss: 0.6370 - val_accuracy: 0.7736 - lr: 0.0010\n",
      "Epoch 49/200\n",
      "341/341 [==============================] - 16s 46ms/step - loss: 0.3859 - accuracy: 0.8604 - val_loss: 0.6362 - val_accuracy: 0.7747 - lr: 0.0010\n",
      "Epoch 50/200\n",
      "341/341 [==============================] - 16s 46ms/step - loss: 0.3738 - accuracy: 0.8622 - val_loss: 0.6326 - val_accuracy: 0.7732 - lr: 0.0010\n",
      "Epoch 51/200\n",
      "341/341 [==============================] - 15s 45ms/step - loss: 0.3757 - accuracy: 0.8610 - val_loss: 0.6290 - val_accuracy: 0.7787 - lr: 0.0010\n",
      "Epoch 52/200\n",
      "340/341 [============================>.] - ETA: 0s - loss: 0.3642 - accuracy: 0.8661\n",
      "Epoch 52: ReduceLROnPlateau reducing learning rate to 0.0005000000237487257.\n",
      "341/341 [==============================] - 16s 45ms/step - loss: 0.3640 - accuracy: 0.8661 - val_loss: 0.6360 - val_accuracy: 0.7747 - lr: 0.0010\n",
      "Epoch 53/200\n",
      "341/341 [==============================] - 15s 44ms/step - loss: 0.3350 - accuracy: 0.8784 - val_loss: 0.6287 - val_accuracy: 0.7831 - lr: 5.0000e-04\n",
      "Epoch 54/200\n",
      "341/341 [==============================] - 15s 45ms/step - loss: 0.3207 - accuracy: 0.8781 - val_loss: 0.6370 - val_accuracy: 0.7901 - lr: 5.0000e-04\n",
      "Epoch 55/200\n",
      "341/341 [==============================] - 15s 45ms/step - loss: 0.3223 - accuracy: 0.8809 - val_loss: 0.6589 - val_accuracy: 0.7776 - lr: 5.0000e-04\n",
      "Epoch 56/200\n",
      "341/341 [==============================] - 15s 44ms/step - loss: 0.3095 - accuracy: 0.8861 - val_loss: 0.6388 - val_accuracy: 0.7758 - lr: 5.0000e-04\n",
      "Epoch 57/200\n",
      "341/341 [==============================] - 16s 46ms/step - loss: 0.3018 - accuracy: 0.8897 - val_loss: 0.6535 - val_accuracy: 0.7861 - lr: 5.0000e-04\n",
      "Epoch 58/200\n",
      "341/341 [==============================] - 15s 45ms/step - loss: 0.3125 - accuracy: 0.8870 - val_loss: 0.6486 - val_accuracy: 0.7846 - lr: 5.0000e-04\n",
      "Epoch 59/200\n",
      "341/341 [==============================] - 15s 44ms/step - loss: 0.2905 - accuracy: 0.8961 - val_loss: 0.6506 - val_accuracy: 0.7839 - lr: 5.0000e-04\n",
      "Epoch 60/200\n",
      "341/341 [==============================] - 15s 45ms/step - loss: 0.3038 - accuracy: 0.8910 - val_loss: 0.6397 - val_accuracy: 0.7817 - lr: 5.0000e-04\n",
      "Epoch 61/200\n",
      "341/341 [==============================] - 15s 44ms/step - loss: 0.2925 - accuracy: 0.8945 - val_loss: 0.6390 - val_accuracy: 0.7828 - lr: 5.0000e-04\n",
      "Epoch 62/200\n",
      "341/341 [==============================] - 15s 45ms/step - loss: 0.2733 - accuracy: 0.8956 - val_loss: 0.6781 - val_accuracy: 0.7758 - lr: 5.0000e-04\n",
      "Epoch 63/200\n",
      "341/341 [==============================] - 16s 47ms/step - loss: 0.2835 - accuracy: 0.8953 - val_loss: 0.6721 - val_accuracy: 0.7802 - lr: 5.0000e-04\n",
      "Epoch 64/200\n",
      "341/341 [==============================] - 16s 46ms/step - loss: 0.2756 - accuracy: 0.9006 - val_loss: 0.6715 - val_accuracy: 0.7901 - lr: 5.0000e-04\n",
      "Epoch 65/200\n",
      "341/341 [==============================] - 17s 48ms/step - loss: 0.2758 - accuracy: 0.9036 - val_loss: 0.6771 - val_accuracy: 0.7820 - lr: 5.0000e-04\n",
      "Epoch 66/200\n",
      "341/341 [==============================] - 17s 51ms/step - loss: 0.2646 - accuracy: 0.9021 - val_loss: 0.6676 - val_accuracy: 0.7839 - lr: 5.0000e-04\n",
      "Epoch 67/200\n",
      "341/341 [==============================] - 15s 44ms/step - loss: 0.2622 - accuracy: 0.9061 - val_loss: 0.6811 - val_accuracy: 0.7912 - lr: 5.0000e-04\n",
      "Epoch 68/200\n",
      "341/341 [==============================] - 14s 41ms/step - loss: 0.2533 - accuracy: 0.9080 - val_loss: 0.6770 - val_accuracy: 0.7853 - lr: 5.0000e-04\n",
      "Epoch 69/200\n",
      "341/341 [==============================] - 15s 43ms/step - loss: 0.2635 - accuracy: 0.9058 - val_loss: 0.6867 - val_accuracy: 0.7894 - lr: 5.0000e-04\n",
      "Epoch 70/200\n",
      "341/341 [==============================] - 16s 46ms/step - loss: 0.2669 - accuracy: 0.9071 - val_loss: 0.7071 - val_accuracy: 0.7802 - lr: 5.0000e-04\n",
      "Epoch 71/200\n",
      "341/341 [==============================] - 17s 49ms/step - loss: 0.2601 - accuracy: 0.9057 - val_loss: 0.6791 - val_accuracy: 0.7839 - lr: 5.0000e-04\n",
      "Epoch 72/200\n",
      "340/341 [============================>.] - ETA: 0s - loss: 0.2516 - accuracy: 0.9074\n",
      "Epoch 72: ReduceLROnPlateau reducing learning rate to 0.0002500000118743628.\n",
      "341/341 [==============================] - 17s 50ms/step - loss: 0.2513 - accuracy: 0.9076 - val_loss: 0.6872 - val_accuracy: 0.7894 - lr: 5.0000e-04\n"
     ]
    }
   ],
   "source": [
    "from sklearn.utils import class_weight\n",
    "range_weights=class_weight.compute_class_weight('balanced', classes=np.unique(combined_train_targs), y=combined_train_targs)\n",
    "range_weights={0:range_weights[0], 1:range_weights[1],2:range_weights[2], 3:range_weights[3]}\n",
    "\n",
    "train_feat_list=[if_train_data,matrice_train_data,phantom_train_data]\n",
    "train_targ_list=[if_train_targs,matrice_train_targs,phantom_train_targs]\n",
    "test_feat_list=[if_test_data,matrice_test_data,phantom_test_data]\n",
    "test_targ_list=[if_test_targs,matrice_test_targs,phantom_test_targs]\n",
    "f1_score_list=[]\n",
    "indiv_f1_score_list=[]\n",
    "balanced_acc_score_list=[]\n",
    "indiv_balanced_acc_score_list=[]\n",
    "names=[\"IF\",\"Matrice\",\"Phantom\"]\n",
    "\n",
    "for x in range(training_iterations):\n",
    "    modelCNN_MCV2_=tf.keras.Sequential()\n",
    "    modelCNN_MCV2_.add(BatchNormalization(input_shape=(128,8,1)))\n",
    "    modelCNN_MCV2_.add(Conv2D(filters=8,kernel_size=(4,4),strides=(1,1),padding='SAME', use_bias=False, name='conv_1'))\n",
    "    modelCNN_MCV2_.add(BatchNormalization())\n",
    "    modelCNN_MCV2_.add(Activation('relu'))\n",
    "    modelCNN_MCV2_.add(MaxPooling2D(2))\n",
    "    modelCNN_MCV2_.add(Conv2D(filters=16,kernel_size=(2,2),strides=(2,2), use_bias=False,\n",
    "                             padding='SAME', name='conv_2'))\n",
    "    modelCNN_MCV2_.add(BatchNormalization())\n",
    "    modelCNN_MCV2_.add(Activation('relu'))\n",
    "    modelCNN_MCV2_.add(Dropout(0.3))\n",
    "    modelCNN_MCV2_.add(Conv2D(filters=32,kernel_size=(2,2),strides=(2,2), use_bias=False,\n",
    "                             padding='SAME', name='conv_3'))\n",
    "    modelCNN_MCV2_.add(BatchNormalization())\n",
    "    modelCNN_MCV2_.add(Activation('relu'))\n",
    "    modelCNN_MCV2_.add(Dropout(0.3))\n",
    "    modelCNN_MCV2_.add(Flatten())\n",
    "    modelCNN_MCV2_.add(Dense(512, activation='relu', name='dense_2'))\n",
    "    modelCNN_MCV2_.add(Dense(256, activation='relu', name='dense_3'))\n",
    "    modelCNN_MCV2_.add(Dropout(0.5))\n",
    "    modelCNN_MCV2_.add(Dense(4, activation='softmax', name='output_range'))\n",
    "\n",
    "    optimizer= tf.keras.optimizers.Adam()\n",
    "    modelCNN_MCV2_.compile(loss='categorical_crossentropy',optimizer=optimizer,metrics=['accuracy'])\n",
    "    reduceLR = tf.keras.callbacks.ReduceLROnPlateau(monitor='val_loss', factor=0.5,\n",
    "                                     verbose=1, patience=20, mode='auto')\n",
    "    early = tf.keras.callbacks.EarlyStopping(monitor='val_loss', min_delta=1e-4,\n",
    "                              patience=40, mode='auto', restore_best_weights=True)\n",
    "    modelCNN_MCV2_.build(input_shape=(None,128,8,1))\n",
    "    modelCNN_MCV2_.summary()\n",
    "    single_drone_train_targs_oh=tf.keras.utils.to_categorical(range_train_targs,num_classes=4)\n",
    "    history = modelCNN_MCV2_.fit(train_feats,single_drone_train_targs_oh,\n",
    "                          epochs=200,\n",
    "                          batch_size=32,\n",
    "                          shuffle=True,\n",
    "                          class_weight=range_weights,\n",
    "                          validation_split=0.2,\n",
    "                          callbacks=[reduceLR, early])\n",
    "    for test_features in range(len(test_feat_list)):\n",
    "        score = modelCNN_MCV2_.predict(np.array(test_feat_list[test_features]))\n",
    "        y_pred = np.argmax(score,axis=-1)\n",
    "        balanced_acc_score_list.append([balanced_accuracy_score(np.array(test_targ_list[test_features]),y_pred),test_features])\n",
    "        f1_score_list.append([f1_score(np.array(test_targ_list[test_features]),y_pred,average='macro'),test_features])\n",
    "        print(classification_report(np.array(test_targ_list[test_features]),y_pred))\n",
    "        confusion_matrix_maker(np.array(test_targ_list[test_features]),y_pred,names[test_features])\n",
    "\n",
    "\n",
    "for test_features in range(len(test_feat_list)):\n",
    "    range_weights=class_weight.compute_class_weight('balanced', classes=np.unique(np.array(train_targ_list[test_features])), y=np.array(train_targ_list[test_features]))\n",
    "    range_weights={0:range_weights[0], 1:range_weights[1],2:range_weights[2], 3:range_weights[3]}\n",
    "    print(range_weights)\n",
    "    for x in range(1):\n",
    "        modelCNN_MCV2_=tf.keras.Sequential()\n",
    "        modelCNN_MCV2_.add(BatchNormalization(input_shape=(128,8,1)))\n",
    "        modelCNN_MCV2_.add(Conv2D(filters=8,kernel_size=(4,4),strides=(1,1),padding='SAME', use_bias=False, name='conv_1'))\n",
    "        modelCNN_MCV2_.add(BatchNormalization())\n",
    "        modelCNN_MCV2_.add(Activation('relu'))\n",
    "        modelCNN_MCV2_.add(MaxPooling2D(2))\n",
    "        modelCNN_MCV2_.add(Conv2D(filters=16,kernel_size=(2,2),strides=(2,2), use_bias=False,\n",
    "                                 padding='SAME', name='conv_2'))\n",
    "        modelCNN_MCV2_.add(BatchNormalization())\n",
    "        modelCNN_MCV2_.add(Activation('relu'))\n",
    "        modelCNN_MCV2_.add(Dropout(0.3))\n",
    "        modelCNN_MCV2_.add(Conv2D(filters=32,kernel_size=(2,2),strides=(2,2), use_bias=False,\n",
    "                                 padding='SAME', name='conv_3'))\n",
    "        modelCNN_MCV2_.add(BatchNormalization())\n",
    "        modelCNN_MCV2_.add(Activation('relu'))\n",
    "        modelCNN_MCV2_.add(Dropout(0.3))\n",
    "        modelCNN_MCV2_.add(Flatten())\n",
    "        modelCNN_MCV2_.add(Dense(512, activation='relu', name='dense_2'))\n",
    "        modelCNN_MCV2_.add(Dense(256, activation='relu', name='dense_3'))\n",
    "        modelCNN_MCV2_.add(Dropout(0.5))\n",
    "        modelCNN_MCV2_.add(Dense(4, activation='softmax', name='output_range'))\n",
    "        optimizer= tf.keras.optimizers.Adam()\n",
    "        modelCNN_MCV2_.compile(loss='categorical_crossentropy',optimizer=optimizer,metrics=['accuracy'])\n",
    "        reduceLR = tf.keras.callbacks.ReduceLROnPlateau(monitor='val_loss', factor=0.5,\n",
    "                                         verbose=1, patience=20, mode='auto')\n",
    "        early = tf.keras.callbacks.EarlyStopping(monitor='val_loss', min_delta=1e-4,\n",
    "                                  patience=40, mode='auto', restore_best_weights=True)\n",
    "        modelCNN_MCV2_.build(input_shape=(None,128,8,1))\n",
    "        modelCNN_MCV2_.summary()\n",
    "        single_drone_train_targs_oh=tf.keras.utils.to_categorical(np.array(train_targ_list[test_features]),num_classes=4)\n",
    "        history = modelCNN_MCV2_.fit(np.array(train_feat_list[test_features]),single_drone_train_targs_oh,\n",
    "                              epochs=200,\n",
    "                              batch_size=32,\n",
    "                              shuffle=True,\n",
    "                              class_weight=range_weights,\n",
    "                              validation_split=0.2,\n",
    "                              callbacks=[reduceLR, early])\n",
    "        score = modelCNN_MCV2_.predict(np.array(test_feat_list[test_features]))\n",
    "        y_pred = np.argmax(score,axis=-1)\n",
    "        indiv_balanced_acc_score_list.append([balanced_accuracy_score(np.array(test_targ_list[test_features]),y_pred),test_features])\n",
    "        indiv_f1_score_list.append([f1_score(np.array(test_targ_list[test_features]),y_pred,average='macro'),test_features])\n",
    "        print(classification_report(np.array(test_targ_list[test_features]),y_pred))"
   ],
   "metadata": {
    "collapsed": false,
    "pycharm": {
     "name": "#%%\n"
    }
   }
  },
  {
   "cell_type": "markdown",
   "source": [
    "Balanced Accuracy Score Comparison of Indiv Trained Models and Combined Trained Models"
   ],
   "metadata": {
    "collapsed": false,
    "pycharm": {
     "name": "#%% md\n"
    }
   }
  },
  {
   "cell_type": "code",
   "execution_count": 93,
   "outputs": [],
   "source": [
    "print(balanced_acc_score_list)\n",
    "print(indiv_balanced_acc_score_list)\n",
    "score_counter=[0,0,0]\n",
    "score_counter_indiv=[0,0,0]\n",
    "for x in balanced_acc_score_list:\n",
    "    score_counter[x[1]]+=x[0]\n",
    "\n",
    "print(\"Balaned Acc. Performance of model trained with Combined:\",np.array(score_counter)/training_iterations)\n",
    "\n",
    "for x in indiv_balanced_acc_score_list:\n",
    "    score_counter_indiv[x[1]]+=x[0]\n",
    "\n",
    "print(\"Balanced Acc. Performance of model trained with Each Individual sUAS Type (IF,Matrice,Phantom):\",np.array(score_counter_indiv)/training_iterations)\n"
   ],
   "metadata": {
    "collapsed": false,
    "pycharm": {
     "name": "#%%\n"
    }
   }
  },
  {
   "cell_type": "markdown",
   "source": [
    "Macro F1-Score Comparison of Indiv Trained Models and Combined Trained Models"
   ],
   "metadata": {
    "collapsed": false,
    "pycharm": {
     "name": "#%% md\n"
    }
   }
  },
  {
   "cell_type": "code",
   "execution_count": 94,
   "outputs": [],
   "source": [
    "print(f1_score_list)\n",
    "print(indiv_f1_score_list)\n",
    "f1_score_counter_combined=[0,0,0]\n",
    "f1_score_counter_indiv=[0,0,0]\n",
    "for x in f1_score_list:\n",
    "    f1_score_counter_combined[x[1]]+=x[0]\n",
    "\n",
    "print(\"Macro-F1 Performance of model trained with Combined:\",np.array(f1_score_counter_combined)/training_iterations)\n",
    "\n",
    "for x in indiv_f1_score_list:\n",
    "    f1_score_counter_indiv[x[1]]+=x[0]\n",
    "\n",
    "print(\"Macro F1-Score Performance of model trained with Each Individual sUAS Type (IF,Matrice,Phantom):\",np.array(f1_score_counter_indiv)/training_iterations)"
   ],
   "metadata": {
    "collapsed": false,
    "pycharm": {
     "name": "#%%\n"
    }
   }
  },
  {
   "cell_type": "markdown",
   "source": [
    "# Experiment #1: <a class=\"anchor\" id=\"exp-1\"></a>\n",
    "Goal:\n",
    "* Determine which model architecture is most conducive for this application.\n",
    "\n",
    "Models are trained and evaluated using a validation set taken from the Combined dataset.\n",
    "\n",
    "![](exp_1.png)"
   ],
   "metadata": {
    "collapsed": false,
    "pycharm": {
     "name": "#%% md\n"
    }
   }
  },
  {
   "cell_type": "code",
   "execution_count": null,
   "outputs": [],
   "source": [
    "range_weights_val=class_weight.compute_class_weight('balanced', classes=np.unique(combined_train_targs), y=combined_train_targs)\n",
    "range_weights_val={0:range_weights[0], 1:range_weights[1],2:range_weights[2], 3:range_weights[3]}"
   ],
   "metadata": {
    "collapsed": false,
    "pycharm": {
     "name": "#%%\n"
    }
   }
  },
  {
   "cell_type": "markdown",
   "source": [
    "# CRNN for Classification:"
   ],
   "metadata": {
    "collapsed": false,
    "pycharm": {
     "name": "#%% md\n"
    }
   }
  },
  {
   "cell_type": "code",
   "execution_count": 96,
   "outputs": [
    {
     "name": "stdout",
     "output_type": "stream",
     "text": [
      "Model: \"sequential_53\"\n",
      "_________________________________________________________________\n",
      " Layer (type)                Output Shape              Param #   \n",
      "=================================================================\n",
      " batch_normalization_212 (Ba  (None, 128, 8, 1)        4         \n",
      " tchNormalization)                                               \n",
      "                                                                 \n",
      " conv_1 (Conv2D)             (None, 128, 8, 8)         32        \n",
      "                                                                 \n",
      " batch_normalization_213 (Ba  (None, 128, 8, 8)        32        \n",
      " tchNormalization)                                               \n",
      "                                                                 \n",
      " activation_159 (Activation)  (None, 128, 8, 8)        0         \n",
      "                                                                 \n",
      " conv_2 (Conv2D)             (None, 64, 8, 16)         2048      \n",
      "                                                                 \n",
      " batch_normalization_214 (Ba  (None, 64, 8, 16)        64        \n",
      " tchNormalization)                                               \n",
      "                                                                 \n",
      " activation_160 (Activation)  (None, 64, 8, 16)        0         \n",
      "                                                                 \n",
      " dropout_159 (Dropout)       (None, 64, 8, 16)         0         \n",
      "                                                                 \n",
      " conv_3 (Conv2D)             (None, 16, 8, 32)         8192      \n",
      "                                                                 \n",
      " batch_normalization_215 (Ba  (None, 16, 8, 32)        128       \n",
      " tchNormalization)                                               \n",
      "                                                                 \n",
      " activation_161 (Activation)  (None, 16, 8, 32)        0         \n",
      "                                                                 \n",
      " max_pooling2d_53 (MaxPoolin  (None, 1, 8, 32)         0         \n",
      " g2D)                                                            \n",
      "                                                                 \n",
      " dropout_160 (Dropout)       (None, 1, 8, 32)          0         \n",
      "                                                                 \n",
      " reshape (Reshape)           (None, 8, 32)             0         \n",
      "                                                                 \n",
      " gru (GRU)                   (None, 32)                6336      \n",
      "                                                                 \n",
      " dense_3 (Dense)             (None, 64)                2112      \n",
      "                                                                 \n",
      " dropout_161 (Dropout)       (None, 64)                0         \n",
      "                                                                 \n",
      " dense_4 (Dense)             (None, 4)                 260       \n",
      "                                                                 \n",
      "=================================================================\n",
      "Total params: 19,208\n",
      "Trainable params: 19,094\n",
      "Non-trainable params: 114\n",
      "_________________________________________________________________\n",
      "Epoch 1/200\n",
      "341/341 [==============================] - 29s 74ms/step - loss: 1.3239 - accuracy: 0.3946 - val_loss: 1.1851 - val_accuracy: 0.5270 - lr: 0.0010\n",
      "Epoch 2/200\n",
      "341/341 [==============================] - 21s 63ms/step - loss: 1.2110 - accuracy: 0.4942 - val_loss: 1.0846 - val_accuracy: 0.5332 - lr: 0.0010\n",
      "Epoch 3/200\n",
      "341/341 [==============================] - 21s 62ms/step - loss: 1.1493 - accuracy: 0.5188 - val_loss: 1.0637 - val_accuracy: 0.5409 - lr: 0.0010\n",
      "Epoch 4/200\n",
      "341/341 [==============================] - 21s 62ms/step - loss: 1.1229 - accuracy: 0.5223 - val_loss: 1.0588 - val_accuracy: 0.5523 - lr: 0.0010\n",
      "Epoch 5/200\n",
      "341/341 [==============================] - 22s 64ms/step - loss: 1.1022 - accuracy: 0.5346 - val_loss: 1.0066 - val_accuracy: 0.5791 - lr: 0.0010\n",
      "Epoch 6/200\n",
      "341/341 [==============================] - 20s 60ms/step - loss: 1.0846 - accuracy: 0.5407 - val_loss: 1.0044 - val_accuracy: 0.5343 - lr: 0.0010\n",
      "Epoch 7/200\n",
      "341/341 [==============================] - 21s 61ms/step - loss: 1.0661 - accuracy: 0.5477 - val_loss: 0.9951 - val_accuracy: 0.5501 - lr: 0.0010\n",
      "Epoch 8/200\n",
      "341/341 [==============================] - 22s 63ms/step - loss: 1.0562 - accuracy: 0.5545 - val_loss: 0.9807 - val_accuracy: 0.5574 - lr: 0.0010\n",
      "Epoch 9/200\n",
      "341/341 [==============================] - 21s 60ms/step - loss: 1.0401 - accuracy: 0.5569 - val_loss: 0.9764 - val_accuracy: 0.5736 - lr: 0.0010\n",
      "Epoch 10/200\n",
      "341/341 [==============================] - 22s 64ms/step - loss: 1.0393 - accuracy: 0.5627 - val_loss: 0.9791 - val_accuracy: 0.5585 - lr: 0.0010\n",
      "Epoch 11/200\n",
      "341/341 [==============================] - 22s 63ms/step - loss: 1.0171 - accuracy: 0.5754 - val_loss: 0.9519 - val_accuracy: 0.5817 - lr: 0.0010\n",
      "Epoch 12/200\n",
      "341/341 [==============================] - 21s 62ms/step - loss: 1.0116 - accuracy: 0.5760 - val_loss: 0.9454 - val_accuracy: 0.5813 - lr: 0.0010\n",
      "Epoch 13/200\n",
      "341/341 [==============================] - 22s 65ms/step - loss: 1.0006 - accuracy: 0.5829 - val_loss: 0.9469 - val_accuracy: 0.5794 - lr: 0.0010\n",
      "Epoch 14/200\n",
      "341/341 [==============================] - 21s 61ms/step - loss: 0.9954 - accuracy: 0.5825 - val_loss: 0.9263 - val_accuracy: 0.5971 - lr: 0.0010\n",
      "Epoch 15/200\n",
      "341/341 [==============================] - 21s 61ms/step - loss: 0.9848 - accuracy: 0.5934 - val_loss: 0.9378 - val_accuracy: 0.5776 - lr: 0.0010\n",
      "Epoch 16/200\n",
      "341/341 [==============================] - 22s 63ms/step - loss: 0.9713 - accuracy: 0.5993 - val_loss: 0.9040 - val_accuracy: 0.6081 - lr: 0.0010\n",
      "Epoch 17/200\n",
      "341/341 [==============================] - 21s 63ms/step - loss: 0.9698 - accuracy: 0.5903 - val_loss: 0.9370 - val_accuracy: 0.5912 - lr: 0.0010\n",
      "Epoch 18/200\n",
      "341/341 [==============================] - 22s 64ms/step - loss: 0.9725 - accuracy: 0.5966 - val_loss: 0.9180 - val_accuracy: 0.5956 - lr: 0.0010\n",
      "Epoch 19/200\n",
      "341/341 [==============================] - 21s 63ms/step - loss: 0.9490 - accuracy: 0.6025 - val_loss: 0.8981 - val_accuracy: 0.6048 - lr: 0.0010\n",
      "Epoch 20/200\n",
      "341/341 [==============================] - 20s 60ms/step - loss: 0.9397 - accuracy: 0.6175 - val_loss: 0.8737 - val_accuracy: 0.6268 - lr: 0.0010\n",
      "Epoch 21/200\n",
      "341/341 [==============================] - 22s 65ms/step - loss: 0.9426 - accuracy: 0.6126 - val_loss: 0.8683 - val_accuracy: 0.6264 - lr: 0.0010\n",
      "Epoch 22/200\n",
      "341/341 [==============================] - 21s 63ms/step - loss: 0.9403 - accuracy: 0.6165 - val_loss: 0.8944 - val_accuracy: 0.6077 - lr: 0.0010\n",
      "Epoch 23/200\n",
      "341/341 [==============================] - 21s 63ms/step - loss: 0.9420 - accuracy: 0.6129 - val_loss: 0.8603 - val_accuracy: 0.6272 - lr: 0.0010\n",
      "Epoch 24/200\n",
      "341/341 [==============================] - 22s 64ms/step - loss: 0.9240 - accuracy: 0.6218 - val_loss: 0.8743 - val_accuracy: 0.6294 - lr: 0.0010\n",
      "Epoch 25/200\n",
      "341/341 [==============================] - 21s 63ms/step - loss: 0.9249 - accuracy: 0.6237 - val_loss: 0.9245 - val_accuracy: 0.6018 - lr: 0.0010\n",
      "Epoch 26/200\n",
      "341/341 [==============================] - 22s 64ms/step - loss: 0.9155 - accuracy: 0.6253 - val_loss: 0.8625 - val_accuracy: 0.6367 - lr: 0.0010\n",
      "Epoch 27/200\n",
      "341/341 [==============================] - 22s 63ms/step - loss: 0.9063 - accuracy: 0.6271 - val_loss: 0.8590 - val_accuracy: 0.6374 - lr: 0.0010\n",
      "Epoch 28/200\n",
      "341/341 [==============================] - 21s 62ms/step - loss: 0.9188 - accuracy: 0.6224 - val_loss: 0.8841 - val_accuracy: 0.6176 - lr: 0.0010\n",
      "Epoch 29/200\n",
      "341/341 [==============================] - 21s 63ms/step - loss: 0.9018 - accuracy: 0.6263 - val_loss: 0.8589 - val_accuracy: 0.6334 - lr: 0.0010\n",
      "Epoch 30/200\n",
      "341/341 [==============================] - 22s 64ms/step - loss: 0.8939 - accuracy: 0.6305 - val_loss: 0.8614 - val_accuracy: 0.6360 - lr: 0.0010\n",
      "Epoch 31/200\n",
      "341/341 [==============================] - 22s 64ms/step - loss: 0.9015 - accuracy: 0.6319 - val_loss: 0.8773 - val_accuracy: 0.6393 - lr: 0.0010\n",
      "Epoch 32/200\n",
      "341/341 [==============================] - 25s 72ms/step - loss: 0.8870 - accuracy: 0.6389 - val_loss: 0.8692 - val_accuracy: 0.6206 - lr: 0.0010\n",
      "Epoch 33/200\n",
      "341/341 [==============================] - 21s 62ms/step - loss: 0.8944 - accuracy: 0.6322 - val_loss: 0.8664 - val_accuracy: 0.6371 - lr: 0.0010\n",
      "Epoch 34/200\n",
      "341/341 [==============================] - 22s 64ms/step - loss: 0.8865 - accuracy: 0.6323 - val_loss: 0.8490 - val_accuracy: 0.6294 - lr: 0.0010\n",
      "Epoch 35/200\n",
      "341/341 [==============================] - 22s 65ms/step - loss: 0.8833 - accuracy: 0.6407 - val_loss: 0.8488 - val_accuracy: 0.6341 - lr: 0.0010\n",
      "Epoch 36/200\n",
      "341/341 [==============================] - 22s 65ms/step - loss: 0.8824 - accuracy: 0.6394 - val_loss: 0.8381 - val_accuracy: 0.6396 - lr: 0.0010\n",
      "Epoch 37/200\n",
      "341/341 [==============================] - 22s 64ms/step - loss: 0.8760 - accuracy: 0.6382 - val_loss: 0.8732 - val_accuracy: 0.6268 - lr: 0.0010\n",
      "Epoch 38/200\n",
      "341/341 [==============================] - 22s 64ms/step - loss: 0.8782 - accuracy: 0.6383 - val_loss: 0.8295 - val_accuracy: 0.6422 - lr: 0.0010\n",
      "Epoch 39/200\n",
      "341/341 [==============================] - 22s 66ms/step - loss: 0.8658 - accuracy: 0.6483 - val_loss: 0.8735 - val_accuracy: 0.6187 - lr: 0.0010\n",
      "Epoch 40/200\n",
      "341/341 [==============================] - 22s 65ms/step - loss: 0.8652 - accuracy: 0.6420 - val_loss: 0.8617 - val_accuracy: 0.6341 - lr: 0.0010\n",
      "Epoch 41/200\n",
      "341/341 [==============================] - 22s 64ms/step - loss: 0.8661 - accuracy: 0.6484 - val_loss: 0.8818 - val_accuracy: 0.6132 - lr: 0.0010\n",
      "Epoch 42/200\n",
      "341/341 [==============================] - 22s 64ms/step - loss: 0.8724 - accuracy: 0.6462 - val_loss: 0.8134 - val_accuracy: 0.6543 - lr: 0.0010\n",
      "Epoch 43/200\n",
      "341/341 [==============================] - 22s 66ms/step - loss: 0.8524 - accuracy: 0.6509 - val_loss: 0.8133 - val_accuracy: 0.6661 - lr: 0.0010\n",
      "Epoch 44/200\n",
      "341/341 [==============================] - 21s 62ms/step - loss: 0.8508 - accuracy: 0.6564 - val_loss: 0.8720 - val_accuracy: 0.6367 - lr: 0.0010\n",
      "Epoch 45/200\n",
      "341/341 [==============================] - 21s 62ms/step - loss: 0.8528 - accuracy: 0.6485 - val_loss: 0.8201 - val_accuracy: 0.6484 - lr: 0.0010\n",
      "Epoch 46/200\n",
      "341/341 [==============================] - 22s 64ms/step - loss: 0.8473 - accuracy: 0.6505 - val_loss: 0.8178 - val_accuracy: 0.6396 - lr: 0.0010\n",
      "Epoch 47/200\n",
      "341/341 [==============================] - 23s 67ms/step - loss: 0.8444 - accuracy: 0.6550 - val_loss: 0.8218 - val_accuracy: 0.6554 - lr: 0.0010\n",
      "Epoch 48/200\n",
      "341/341 [==============================] - 22s 64ms/step - loss: 0.8495 - accuracy: 0.6534 - val_loss: 0.8116 - val_accuracy: 0.6565 - lr: 0.0010\n",
      "Epoch 49/200\n",
      "341/341 [==============================] - 22s 63ms/step - loss: 0.8483 - accuracy: 0.6518 - val_loss: 0.8457 - val_accuracy: 0.6433 - lr: 0.0010\n",
      "Epoch 50/200\n",
      "341/341 [==============================] - 23s 67ms/step - loss: 0.8395 - accuracy: 0.6591 - val_loss: 0.8480 - val_accuracy: 0.6444 - lr: 0.0010\n",
      "Epoch 51/200\n",
      "341/341 [==============================] - 22s 66ms/step - loss: 0.8325 - accuracy: 0.6565 - val_loss: 0.8172 - val_accuracy: 0.6481 - lr: 0.0010\n",
      "Epoch 52/200\n",
      "341/341 [==============================] - 22s 64ms/step - loss: 0.8272 - accuracy: 0.6644 - val_loss: 0.8188 - val_accuracy: 0.6510 - lr: 0.0010\n",
      "Epoch 53/200\n",
      "341/341 [==============================] - 22s 64ms/step - loss: 0.8343 - accuracy: 0.6554 - val_loss: 0.8006 - val_accuracy: 0.6602 - lr: 0.0010\n",
      "Epoch 54/200\n",
      "341/341 [==============================] - 26s 76ms/step - loss: 0.8300 - accuracy: 0.6631 - val_loss: 0.8464 - val_accuracy: 0.6338 - lr: 0.0010\n",
      "Epoch 55/200\n",
      "341/341 [==============================] - 23s 68ms/step - loss: 0.8254 - accuracy: 0.6635 - val_loss: 0.8049 - val_accuracy: 0.6558 - lr: 0.0010\n",
      "Epoch 56/200\n",
      "341/341 [==============================] - 23s 66ms/step - loss: 0.8383 - accuracy: 0.6548 - val_loss: 0.8035 - val_accuracy: 0.6481 - lr: 0.0010\n",
      "Epoch 57/200\n",
      "341/341 [==============================] - 23s 68ms/step - loss: 0.8251 - accuracy: 0.6657 - val_loss: 0.8191 - val_accuracy: 0.6484 - lr: 0.0010\n",
      "Epoch 58/200\n",
      "341/341 [==============================] - 24s 71ms/step - loss: 0.8254 - accuracy: 0.6626 - val_loss: 0.7795 - val_accuracy: 0.6561 - lr: 0.0010\n",
      "Epoch 59/200\n",
      "341/341 [==============================] - 23s 68ms/step - loss: 0.8267 - accuracy: 0.6605 - val_loss: 0.8425 - val_accuracy: 0.6297 - lr: 0.0010\n",
      "Epoch 60/200\n",
      "341/341 [==============================] - 23s 67ms/step - loss: 0.8142 - accuracy: 0.6656 - val_loss: 0.7992 - val_accuracy: 0.6565 - lr: 0.0010\n",
      "Epoch 61/200\n",
      "341/341 [==============================] - 22s 66ms/step - loss: 0.8145 - accuracy: 0.6626 - val_loss: 0.7916 - val_accuracy: 0.6642 - lr: 0.0010\n",
      "Epoch 62/200\n",
      "341/341 [==============================] - 23s 68ms/step - loss: 0.8149 - accuracy: 0.6626 - val_loss: 0.8093 - val_accuracy: 0.6470 - lr: 0.0010\n",
      "Epoch 63/200\n",
      "341/341 [==============================] - 29s 84ms/step - loss: 0.8195 - accuracy: 0.6612 - val_loss: 0.7918 - val_accuracy: 0.6591 - lr: 0.0010\n",
      "Epoch 64/200\n",
      "341/341 [==============================] - 29s 86ms/step - loss: 0.8111 - accuracy: 0.6617 - val_loss: 0.8257 - val_accuracy: 0.6510 - lr: 0.0010\n",
      "Epoch 65/200\n",
      "341/341 [==============================] - 28s 83ms/step - loss: 0.8138 - accuracy: 0.6668 - val_loss: 0.8289 - val_accuracy: 0.6561 - lr: 0.0010\n",
      "Epoch 66/200\n",
      "341/341 [==============================] - 28s 82ms/step - loss: 0.8085 - accuracy: 0.6681 - val_loss: 0.8084 - val_accuracy: 0.6569 - lr: 0.0010\n",
      "Epoch 67/200\n",
      "341/341 [==============================] - 27s 78ms/step - loss: 0.8096 - accuracy: 0.6629 - val_loss: 0.7989 - val_accuracy: 0.6642 - lr: 0.0010\n",
      "Epoch 68/200\n",
      "340/341 [============================>.] - ETA: 0s - loss: 0.8088 - accuracy: 0.6670\n",
      "Epoch 68: ReduceLROnPlateau reducing learning rate to 0.0005000000237487257.\n",
      "341/341 [==============================] - 26s 77ms/step - loss: 0.8088 - accuracy: 0.6670 - val_loss: 0.8139 - val_accuracy: 0.6492 - lr: 0.0010\n",
      "Epoch 69/200\n",
      "341/341 [==============================] - 27s 80ms/step - loss: 0.7849 - accuracy: 0.6802 - val_loss: 0.7968 - val_accuracy: 0.6675 - lr: 5.0000e-04\n",
      "Epoch 70/200\n",
      "341/341 [==============================] - 27s 80ms/step - loss: 0.7844 - accuracy: 0.6781 - val_loss: 0.8120 - val_accuracy: 0.6517 - lr: 5.0000e-04\n",
      "Epoch 71/200\n",
      "341/341 [==============================] - 26s 77ms/step - loss: 0.7770 - accuracy: 0.6785 - val_loss: 0.8098 - val_accuracy: 0.6591 - lr: 5.0000e-04\n",
      "Epoch 72/200\n",
      "341/341 [==============================] - 27s 78ms/step - loss: 0.7751 - accuracy: 0.6815 - val_loss: 0.8031 - val_accuracy: 0.6543 - lr: 5.0000e-04\n",
      "Epoch 73/200\n",
      "341/341 [==============================] - 27s 78ms/step - loss: 0.7775 - accuracy: 0.6815 - val_loss: 0.8217 - val_accuracy: 0.6477 - lr: 5.0000e-04\n",
      "Epoch 74/200\n",
      "341/341 [==============================] - 28s 82ms/step - loss: 0.7713 - accuracy: 0.6865 - val_loss: 0.8059 - val_accuracy: 0.6576 - lr: 5.0000e-04\n",
      "Epoch 75/200\n",
      "341/341 [==============================] - 30s 89ms/step - loss: 0.7811 - accuracy: 0.6772 - val_loss: 0.7789 - val_accuracy: 0.6741 - lr: 5.0000e-04\n",
      "Epoch 76/200\n",
      "341/341 [==============================] - 28s 81ms/step - loss: 0.7795 - accuracy: 0.6832 - val_loss: 0.8024 - val_accuracy: 0.6539 - lr: 5.0000e-04\n",
      "Epoch 77/200\n",
      "341/341 [==============================] - 29s 84ms/step - loss: 0.7826 - accuracy: 0.6800 - val_loss: 0.8020 - val_accuracy: 0.6576 - lr: 5.0000e-04\n",
      "Epoch 78/200\n",
      "341/341 [==============================] - 25s 75ms/step - loss: 0.7684 - accuracy: 0.6871 - val_loss: 0.8057 - val_accuracy: 0.6606 - lr: 5.0000e-04\n",
      "Epoch 79/200\n",
      "341/341 [==============================] - 24s 69ms/step - loss: 0.7656 - accuracy: 0.6795 - val_loss: 0.7973 - val_accuracy: 0.6624 - lr: 5.0000e-04\n",
      "Epoch 80/200\n",
      "341/341 [==============================] - 25s 72ms/step - loss: 0.7713 - accuracy: 0.6847 - val_loss: 0.8134 - val_accuracy: 0.6488 - lr: 5.0000e-04\n",
      "Epoch 81/200\n",
      "341/341 [==============================] - 26s 77ms/step - loss: 0.7684 - accuracy: 0.6775 - val_loss: 0.8130 - val_accuracy: 0.6488 - lr: 5.0000e-04\n",
      "Epoch 82/200\n",
      "341/341 [==============================] - 28s 83ms/step - loss: 0.7647 - accuracy: 0.6853 - val_loss: 0.8277 - val_accuracy: 0.6565 - lr: 5.0000e-04\n",
      "Epoch 83/200\n",
      "341/341 [==============================] - 24s 72ms/step - loss: 0.7713 - accuracy: 0.6862 - val_loss: 0.7919 - val_accuracy: 0.6609 - lr: 5.0000e-04\n",
      "Epoch 84/200\n",
      "341/341 [==============================] - 26s 78ms/step - loss: 0.7757 - accuracy: 0.6856 - val_loss: 0.8074 - val_accuracy: 0.6543 - lr: 5.0000e-04\n",
      "Epoch 85/200\n",
      "341/341 [==============================] - ETA: 0s - loss: 0.7606 - accuracy: 0.6883\n",
      "Epoch 85: ReduceLROnPlateau reducing learning rate to 0.0002500000118743628.\n",
      "341/341 [==============================] - 27s 81ms/step - loss: 0.7606 - accuracy: 0.6883 - val_loss: 0.8102 - val_accuracy: 0.6583 - lr: 5.0000e-04\n",
      "Epoch 86/200\n",
      "341/341 [==============================] - 28s 81ms/step - loss: 0.7539 - accuracy: 0.6903 - val_loss: 0.8018 - val_accuracy: 0.6624 - lr: 2.5000e-04\n",
      "Epoch 87/200\n",
      "341/341 [==============================] - 26s 77ms/step - loss: 0.7529 - accuracy: 0.6896 - val_loss: 0.8261 - val_accuracy: 0.6499 - lr: 2.5000e-04\n",
      "Epoch 88/200\n",
      "341/341 [==============================] - 26s 77ms/step - loss: 0.7590 - accuracy: 0.6826 - val_loss: 0.8035 - val_accuracy: 0.6576 - lr: 2.5000e-04\n",
      "Epoch 89/200\n",
      "341/341 [==============================] - 27s 80ms/step - loss: 0.7580 - accuracy: 0.6901 - val_loss: 0.8071 - val_accuracy: 0.6572 - lr: 2.5000e-04\n",
      "Epoch 90/200\n",
      "341/341 [==============================] - 24s 69ms/step - loss: 0.7527 - accuracy: 0.6922 - val_loss: 0.7851 - val_accuracy: 0.6635 - lr: 2.5000e-04\n",
      "Epoch 91/200\n",
      "341/341 [==============================] - 27s 80ms/step - loss: 0.7441 - accuracy: 0.6951 - val_loss: 0.8088 - val_accuracy: 0.6576 - lr: 2.5000e-04\n",
      "Epoch 92/200\n",
      "341/341 [==============================] - 21s 62ms/step - loss: 0.7442 - accuracy: 0.6969 - val_loss: 0.8134 - val_accuracy: 0.6594 - lr: 2.5000e-04\n",
      "Epoch 93/200\n",
      "341/341 [==============================] - 21s 61ms/step - loss: 0.7483 - accuracy: 0.6906 - val_loss: 0.8194 - val_accuracy: 0.6598 - lr: 2.5000e-04\n",
      "Epoch 94/200\n",
      "341/341 [==============================] - 21s 61ms/step - loss: 0.7396 - accuracy: 0.6999 - val_loss: 0.8234 - val_accuracy: 0.6561 - lr: 2.5000e-04\n",
      "Epoch 95/200\n",
      "340/341 [============================>.] - ETA: 0s - loss: 0.7419 - accuracy: 0.6971\n",
      "Epoch 95: ReduceLROnPlateau reducing learning rate to 0.0001250000059371814.\n",
      "341/341 [==============================] - 21s 61ms/step - loss: 0.7419 - accuracy: 0.6973 - val_loss: 0.8081 - val_accuracy: 0.6565 - lr: 2.5000e-04\n",
      "Epoch 96/200\n",
      "341/341 [==============================] - 22s 63ms/step - loss: 0.7399 - accuracy: 0.6962 - val_loss: 0.8019 - val_accuracy: 0.6620 - lr: 1.2500e-04\n",
      "Epoch 97/200\n",
      "341/341 [==============================] - 21s 61ms/step - loss: 0.7347 - accuracy: 0.6944 - val_loss: 0.8087 - val_accuracy: 0.6609 - lr: 1.2500e-04\n",
      "Epoch 98/200\n",
      "341/341 [==============================] - 21s 62ms/step - loss: 0.7454 - accuracy: 0.6937 - val_loss: 0.8000 - val_accuracy: 0.6646 - lr: 1.2500e-04\n"
     ]
    }
   ],
   "source": [
    "modelCRNN=tf.keras.Sequential()\n",
    "modelCRNN.add(BatchNormalization(input_shape=(128,8,1)))\n",
    "modelCRNN.add(Conv2D(filters=8,kernel_size=(2,2),strides=(1,1),padding='SAME', use_bias=False, name='conv_1'))\n",
    "modelCRNN.add(BatchNormalization())\n",
    "modelCRNN.add(Activation('relu'))\n",
    "#modelCRNN.add(MaxPooling2D(2,2))\n",
    "modelCRNN.add(Conv2D(filters=16,kernel_size=(4,4),strides=(2,1), use_bias=False,\n",
    "                         padding='SAME', name='conv_2'))\n",
    "modelCRNN.add(BatchNormalization())\n",
    "modelCRNN.add(Activation('relu'))\n",
    "modelCRNN.add(Dropout(0.3))\n",
    "modelCRNN.add(Conv2D(filters=32,kernel_size=(4,4),strides=(4,1), use_bias=False,\n",
    "                         padding='SAME', name='conv_3'))\n",
    "modelCRNN.add(BatchNormalization())\n",
    "modelCRNN.add(Activation('relu'))\n",
    "modelCRNN.add(MaxPooling2D((12,1)))\n",
    "modelCRNN.add(Dropout(0.3))\n",
    "#modelCRNN.add(Flatten())\n",
    "modelCRNN.add(Reshape((8,32),input_shape=(1,8,32)))\n",
    "modelCRNN.add(GRU(32, input_shape=(1,8,32)))\n",
    "modelCRNN.add(Dense(64, activation='relu', name='dense_3'))\n",
    "modelCRNN.add(Dropout(0.5))\n",
    "modelCRNN.add(Dense(4, activation='softmax', name='dense_4'))\n",
    "\n",
    "\n",
    "optimizer= tf.keras.optimizers.Adam()\n",
    "modelCRNN.compile(loss='categorical_crossentropy',optimizer=optimizer,metrics=['accuracy'])\n",
    "\n",
    "reduceLR = tf.keras.callbacks.ReduceLROnPlateau(monitor='val_loss', factor=0.5,\n",
    "                                 verbose=1, patience=10, mode='auto')\n",
    "early = tf.keras.callbacks.EarlyStopping(monitor='val_loss', min_delta=1e-3,\n",
    "                          patience=40, mode='auto', restore_best_weights=True)\n",
    "modelCRNN.build(input_shape=(None,128,8,1))\n",
    "modelCRNN.summary()\n",
    "single_drone_train_targs_oh=tf.keras.utils.to_categorical(combined_train_targs,num_classes=4)\n",
    "single_drone_train_data=np.array(combined_train_data)\n",
    "history = modelCRNN.fit(single_drone_train_data, single_drone_train_targs_oh,\n",
    "                      epochs=200,\n",
    "                      batch_size=32,\n",
    "                      class_weight=range_weights_val,\n",
    "                      shuffle=True,\n",
    "                      validation_split=0.2,\n",
    "                      callbacks=[reduceLR, early])"
   ],
   "metadata": {
    "collapsed": false,
    "pycharm": {
     "name": "#%%\n"
    }
   }
  },
  {
   "cell_type": "code",
   "execution_count": 103,
   "outputs": [
    {
     "name": "stdout",
     "output_type": "stream",
     "text": [
      "107/107 [==============================] - 1s 7ms/step\n",
      "              precision    recall  f1-score   support\n",
      "\n",
      "         0.0       0.87      0.70      0.78      1163\n",
      "         1.0       0.44      0.53      0.48       562\n",
      "         2.0       0.48      0.58      0.53       587\n",
      "         3.0       0.76      0.77      0.77      1094\n",
      "\n",
      "    accuracy                           0.67      3406\n",
      "   macro avg       0.64      0.64      0.64      3406\n",
      "weighted avg       0.70      0.67      0.68      3406\n",
      "\n"
     ]
    }
   ],
   "source": [
    "test_targs_oh=tf.keras.utils.to_categorical(combined_val_targs,num_classes=4)\n",
    "score = modelCRNN.predict(np.array(combined_val_data))\n",
    "y_pred = np.argmax(score,axis=-1)\n",
    "print(classification_report(np.array(combined_val_targs),y_pred))"
   ],
   "metadata": {
    "collapsed": false,
    "pycharm": {
     "name": "#%%\n"
    }
   }
  },
  {
   "cell_type": "markdown",
   "source": [
    "# 1DCNN with Raw inputs"
   ],
   "metadata": {
    "collapsed": false,
    "pycharm": {
     "name": "#%% md\n"
    }
   }
  },
  {
   "cell_type": "code",
   "execution_count": 114,
   "outputs": [
    {
     "name": "stdout",
     "output_type": "stream",
     "text": [
      "13622\n"
     ]
    }
   ],
   "source": [
    "combined_train_data_raw=np.array(combined_train_data_raw)\n",
    "mean = combined_train_data_raw.mean(axis=0)\n",
    "std = combined_train_data_raw.std(axis=0)\n",
    "combined_train_data_raw -= mean\n",
    "combined_train_data_raw /= std\n",
    "combined_val_data_raw-=mean\n",
    "combined_val_data_raw/=std\n",
    "print(len(combined_train_data_raw))"
   ],
   "metadata": {
    "collapsed": false,
    "pycharm": {
     "name": "#%%\n"
    }
   }
  },
  {
   "cell_type": "code",
   "execution_count": 116,
   "outputs": [
    {
     "name": "stdout",
     "output_type": "stream",
     "text": [
      "Model: \"sequential_61\"\n",
      "_________________________________________________________________\n",
      " Layer (type)                Output Shape              Param #   \n",
      "=================================================================\n",
      " conv1d_4 (Conv1D)           (None, 1000, 64)          5184      \n",
      "                                                                 \n",
      " batch_normalization_243 (Ba  (None, 1000, 64)         256       \n",
      " tchNormalization)                                               \n",
      "                                                                 \n",
      " activation_182 (Activation)  (None, 1000, 64)         0         \n",
      "                                                                 \n",
      " max_pooling1d_4 (MaxPooling  (None, 250, 64)          0         \n",
      " 1D)                                                             \n",
      "                                                                 \n",
      " conv1d_5 (Conv1D)           (None, 125, 64)           12352     \n",
      "                                                                 \n",
      " batch_normalization_244 (Ba  (None, 125, 64)          256       \n",
      " tchNormalization)                                               \n",
      "                                                                 \n",
      " activation_183 (Activation)  (None, 125, 64)          0         \n",
      "                                                                 \n",
      " max_pooling1d_5 (MaxPooling  (None, 31, 64)           0         \n",
      " 1D)                                                             \n",
      "                                                                 \n",
      " dropout_178 (Dropout)       (None, 31, 64)            0         \n",
      "                                                                 \n",
      " conv1d_6 (Conv1D)           (None, 31, 128)           24704     \n",
      "                                                                 \n",
      " batch_normalization_245 (Ba  (None, 31, 128)          512       \n",
      " tchNormalization)                                               \n",
      "                                                                 \n",
      " activation_184 (Activation)  (None, 31, 128)          0         \n",
      "                                                                 \n",
      " max_pooling1d_6 (MaxPooling  (None, 7, 128)           0         \n",
      " 1D)                                                             \n",
      "                                                                 \n",
      " conv1d_7 (Conv1D)           (None, 7, 256)            98560     \n",
      "                                                                 \n",
      " batch_normalization_246 (Ba  (None, 7, 256)           1024      \n",
      " tchNormalization)                                               \n",
      "                                                                 \n",
      " activation_185 (Activation)  (None, 7, 256)           0         \n",
      "                                                                 \n",
      " max_pooling1d_7 (MaxPooling  (None, 3, 256)           0         \n",
      " 1D)                                                             \n",
      "                                                                 \n",
      " lambda_1 (Lambda)           (None, 256)               0         \n",
      "                                                                 \n",
      " dense_1 (Dense)             (None, 4)                 1028      \n",
      "                                                                 \n",
      "=================================================================\n",
      "Total params: 143,876\n",
      "Trainable params: 142,852\n",
      "Non-trainable params: 1,024\n",
      "_________________________________________________________________\n",
      "Epoch 1/200\n",
      "341/341 [==============================] - 49s 137ms/step - loss: 1.2412 - accuracy: 0.4912 - val_loss: 1.2306 - val_accuracy: 0.4807 - lr: 0.0010\n",
      "Epoch 2/200\n",
      "341/341 [==============================] - 44s 128ms/step - loss: 1.1468 - accuracy: 0.5349 - val_loss: 1.1099 - val_accuracy: 0.5527 - lr: 0.0010\n",
      "Epoch 3/200\n",
      "341/341 [==============================] - 43s 127ms/step - loss: 1.1109 - accuracy: 0.5481 - val_loss: 1.0985 - val_accuracy: 0.5523 - lr: 0.0010\n",
      "Epoch 4/200\n",
      "341/341 [==============================] - 43s 125ms/step - loss: 1.0818 - accuracy: 0.5660 - val_loss: 1.1032 - val_accuracy: 0.5530 - lr: 0.0010\n",
      "Epoch 5/200\n",
      "341/341 [==============================] - 43s 127ms/step - loss: 1.0518 - accuracy: 0.5778 - val_loss: 1.2025 - val_accuracy: 0.4800 - lr: 0.0010\n",
      "Epoch 6/200\n",
      "341/341 [==============================] - 43s 125ms/step - loss: 1.0275 - accuracy: 0.5854 - val_loss: 1.2581 - val_accuracy: 0.4664 - lr: 0.0010\n",
      "Epoch 7/200\n",
      "341/341 [==============================] - 44s 128ms/step - loss: 1.0124 - accuracy: 0.5912 - val_loss: 1.2059 - val_accuracy: 0.4807 - lr: 0.0010\n",
      "Epoch 8/200\n",
      "341/341 [==============================] - 43s 125ms/step - loss: 0.9954 - accuracy: 0.6054 - val_loss: 1.0142 - val_accuracy: 0.5780 - lr: 0.0010\n",
      "Epoch 9/200\n",
      "341/341 [==============================] - 39s 115ms/step - loss: 0.9690 - accuracy: 0.6164 - val_loss: 1.0392 - val_accuracy: 0.5732 - lr: 0.0010\n",
      "Epoch 10/200\n",
      "341/341 [==============================] - 39s 114ms/step - loss: 0.9655 - accuracy: 0.6193 - val_loss: 1.2004 - val_accuracy: 0.5127 - lr: 0.0010\n",
      "Epoch 11/200\n",
      "341/341 [==============================] - 39s 114ms/step - loss: 0.9373 - accuracy: 0.6286 - val_loss: 1.1258 - val_accuracy: 0.5281 - lr: 0.0010\n",
      "Epoch 12/200\n",
      "341/341 [==============================] - 39s 115ms/step - loss: 0.9271 - accuracy: 0.6391 - val_loss: 1.4676 - val_accuracy: 0.4231 - lr: 0.0010\n",
      "Epoch 13/200\n",
      "341/341 [==============================] - 39s 115ms/step - loss: 0.9047 - accuracy: 0.6396 - val_loss: 1.0829 - val_accuracy: 0.5890 - lr: 0.0010\n",
      "Epoch 14/200\n",
      "341/341 [==============================] - 40s 117ms/step - loss: 0.9014 - accuracy: 0.6447 - val_loss: 1.0372 - val_accuracy: 0.5934 - lr: 0.0010\n",
      "Epoch 15/200\n",
      "341/341 [==============================] - 39s 113ms/step - loss: 0.8771 - accuracy: 0.6570 - val_loss: 1.0798 - val_accuracy: 0.5560 - lr: 0.0010\n",
      "Epoch 16/200\n",
      "341/341 [==============================] - 40s 117ms/step - loss: 0.8738 - accuracy: 0.6590 - val_loss: 1.0183 - val_accuracy: 0.5894 - lr: 0.0010\n",
      "Epoch 17/200\n",
      "341/341 [==============================] - 39s 114ms/step - loss: 0.8507 - accuracy: 0.6670 - val_loss: 1.2099 - val_accuracy: 0.5483 - lr: 0.0010\n",
      "Epoch 18/200\n",
      "341/341 [==============================] - 39s 113ms/step - loss: 0.8354 - accuracy: 0.6772 - val_loss: 1.0120 - val_accuracy: 0.6000 - lr: 0.0010\n",
      "Epoch 19/200\n",
      "341/341 [==============================] - 39s 115ms/step - loss: 0.8189 - accuracy: 0.6864 - val_loss: 0.9752 - val_accuracy: 0.6250 - lr: 0.0010\n",
      "Epoch 20/200\n",
      "341/341 [==============================] - 39s 115ms/step - loss: 0.8152 - accuracy: 0.6825 - val_loss: 1.0036 - val_accuracy: 0.6198 - lr: 0.0010\n",
      "Epoch 21/200\n",
      "341/341 [==============================] - 39s 115ms/step - loss: 0.7945 - accuracy: 0.6940 - val_loss: 1.1235 - val_accuracy: 0.5545 - lr: 0.0010\n",
      "Epoch 22/200\n",
      "341/341 [==============================] - 39s 114ms/step - loss: 0.7907 - accuracy: 0.6927 - val_loss: 1.1098 - val_accuracy: 0.5875 - lr: 0.0010\n",
      "Epoch 23/200\n",
      "341/341 [==============================] - 40s 116ms/step - loss: 0.7625 - accuracy: 0.7096 - val_loss: 1.0550 - val_accuracy: 0.5908 - lr: 0.0010\n",
      "Epoch 24/200\n",
      "341/341 [==============================] - 39s 115ms/step - loss: 0.7559 - accuracy: 0.7145 - val_loss: 1.2526 - val_accuracy: 0.5336 - lr: 0.0010\n",
      "Epoch 25/200\n",
      "341/341 [==============================] - 39s 114ms/step - loss: 0.7326 - accuracy: 0.7178 - val_loss: 1.0434 - val_accuracy: 0.6301 - lr: 0.0010\n",
      "Epoch 26/200\n",
      "341/341 [==============================] - 39s 115ms/step - loss: 0.7208 - accuracy: 0.7242 - val_loss: 1.0960 - val_accuracy: 0.5853 - lr: 0.0010\n",
      "Epoch 27/200\n",
      "341/341 [==============================] - 40s 118ms/step - loss: 0.7003 - accuracy: 0.7313 - val_loss: 1.0462 - val_accuracy: 0.6217 - lr: 0.0010\n",
      "Epoch 28/200\n",
      "341/341 [==============================] - 39s 116ms/step - loss: 0.6936 - accuracy: 0.7357 - val_loss: 1.0753 - val_accuracy: 0.6169 - lr: 0.0010\n",
      "Epoch 29/200\n",
      "341/341 [==============================] - 39s 114ms/step - loss: 0.6758 - accuracy: 0.7461 - val_loss: 1.1814 - val_accuracy: 0.5817 - lr: 0.0010\n",
      "Epoch 30/200\n",
      "341/341 [==============================] - 39s 114ms/step - loss: 0.6677 - accuracy: 0.7433 - val_loss: 1.4266 - val_accuracy: 0.5189 - lr: 0.0010\n",
      "Epoch 31/200\n",
      "341/341 [==============================] - 40s 116ms/step - loss: 0.6485 - accuracy: 0.7575 - val_loss: 1.0656 - val_accuracy: 0.6088 - lr: 0.0010\n",
      "Epoch 32/200\n",
      "341/341 [==============================] - 39s 115ms/step - loss: 0.6219 - accuracy: 0.7641 - val_loss: 1.1152 - val_accuracy: 0.6004 - lr: 0.0010\n",
      "Epoch 33/200\n",
      "341/341 [==============================] - 39s 115ms/step - loss: 0.6044 - accuracy: 0.7674 - val_loss: 1.1122 - val_accuracy: 0.5927 - lr: 0.0010\n",
      "Epoch 34/200\n",
      "341/341 [==============================] - 40s 116ms/step - loss: 0.5904 - accuracy: 0.7768 - val_loss: 1.1488 - val_accuracy: 0.5864 - lr: 0.0010\n",
      "Epoch 35/200\n",
      "341/341 [==============================] - 40s 116ms/step - loss: 0.5977 - accuracy: 0.7699 - val_loss: 1.1450 - val_accuracy: 0.5750 - lr: 0.0010\n",
      "Epoch 36/200\n",
      "341/341 [==============================] - 39s 115ms/step - loss: 0.5664 - accuracy: 0.7827 - val_loss: 1.2565 - val_accuracy: 0.5974 - lr: 0.0010\n",
      "Epoch 37/200\n",
      "341/341 [==============================] - 39s 116ms/step - loss: 0.5579 - accuracy: 0.7887 - val_loss: 1.4867 - val_accuracy: 0.5057 - lr: 0.0010\n",
      "Epoch 38/200\n",
      "341/341 [==============================] - 40s 116ms/step - loss: 0.5446 - accuracy: 0.7908 - val_loss: 1.3221 - val_accuracy: 0.5721 - lr: 0.0010\n",
      "Epoch 39/200\n",
      "341/341 [==============================] - ETA: 0s - loss: 0.5358 - accuracy: 0.7966\n",
      "Epoch 39: ReduceLROnPlateau reducing learning rate to 0.0005000000237487257.\n",
      "341/341 [==============================] - 40s 118ms/step - loss: 0.5358 - accuracy: 0.7966 - val_loss: 1.2786 - val_accuracy: 0.5817 - lr: 0.0010\n",
      "Epoch 40/200\n",
      "341/341 [==============================] - 40s 116ms/step - loss: 0.4679 - accuracy: 0.8272 - val_loss: 1.0887 - val_accuracy: 0.5952 - lr: 5.0000e-04\n",
      "Epoch 41/200\n",
      "341/341 [==============================] - 40s 116ms/step - loss: 0.4360 - accuracy: 0.8389 - val_loss: 1.1692 - val_accuracy: 0.6110 - lr: 5.0000e-04\n",
      "Epoch 42/200\n",
      "341/341 [==============================] - 40s 117ms/step - loss: 0.4349 - accuracy: 0.8433 - val_loss: 1.1634 - val_accuracy: 0.5960 - lr: 5.0000e-04\n",
      "Epoch 43/200\n",
      "341/341 [==============================] - 40s 117ms/step - loss: 0.4245 - accuracy: 0.8414 - val_loss: 1.1166 - val_accuracy: 0.6183 - lr: 5.0000e-04\n",
      "Epoch 44/200\n",
      "341/341 [==============================] - 39s 115ms/step - loss: 0.4099 - accuracy: 0.8511 - val_loss: 1.2782 - val_accuracy: 0.5971 - lr: 5.0000e-04\n",
      "Epoch 45/200\n",
      "341/341 [==============================] - 39s 115ms/step - loss: 0.4057 - accuracy: 0.8528 - val_loss: 1.2750 - val_accuracy: 0.6125 - lr: 5.0000e-04\n",
      "Epoch 46/200\n",
      "341/341 [==============================] - 40s 117ms/step - loss: 0.3990 - accuracy: 0.8534 - val_loss: 1.1579 - val_accuracy: 0.6209 - lr: 5.0000e-04\n",
      "Epoch 47/200\n",
      "341/341 [==============================] - 40s 116ms/step - loss: 0.3897 - accuracy: 0.8549 - val_loss: 1.2067 - val_accuracy: 0.6161 - lr: 5.0000e-04\n",
      "Epoch 48/200\n",
      "341/341 [==============================] - 39s 115ms/step - loss: 0.3771 - accuracy: 0.8603 - val_loss: 1.2447 - val_accuracy: 0.5927 - lr: 5.0000e-04\n",
      "Epoch 49/200\n",
      "341/341 [==============================] - 40s 117ms/step - loss: 0.3747 - accuracy: 0.8567 - val_loss: 1.1396 - val_accuracy: 0.6217 - lr: 5.0000e-04\n",
      "Epoch 50/200\n",
      "341/341 [==============================] - 39s 116ms/step - loss: 0.3655 - accuracy: 0.8658 - val_loss: 1.3342 - val_accuracy: 0.5820 - lr: 5.0000e-04\n",
      "Epoch 51/200\n",
      "341/341 [==============================] - 39s 115ms/step - loss: 0.3568 - accuracy: 0.8693 - val_loss: 1.2214 - val_accuracy: 0.6191 - lr: 5.0000e-04\n",
      "Epoch 52/200\n",
      "341/341 [==============================] - 40s 116ms/step - loss: 0.3456 - accuracy: 0.8729 - val_loss: 1.2164 - val_accuracy: 0.5857 - lr: 5.0000e-04\n",
      "Epoch 53/200\n",
      "341/341 [==============================] - 40s 116ms/step - loss: 0.3400 - accuracy: 0.8734 - val_loss: 1.3015 - val_accuracy: 0.6033 - lr: 5.0000e-04\n",
      "Epoch 54/200\n",
      "341/341 [==============================] - 40s 117ms/step - loss: 0.3579 - accuracy: 0.8661 - val_loss: 1.2833 - val_accuracy: 0.6158 - lr: 5.0000e-04\n",
      "Epoch 55/200\n",
      "341/341 [==============================] - 40s 117ms/step - loss: 0.3319 - accuracy: 0.8789 - val_loss: 1.3076 - val_accuracy: 0.5798 - lr: 5.0000e-04\n",
      "Epoch 56/200\n",
      "341/341 [==============================] - 40s 118ms/step - loss: 0.3242 - accuracy: 0.8789 - val_loss: 1.2361 - val_accuracy: 0.6176 - lr: 5.0000e-04\n",
      "Epoch 57/200\n",
      "341/341 [==============================] - 40s 117ms/step - loss: 0.3152 - accuracy: 0.8840 - val_loss: 1.2723 - val_accuracy: 0.6033 - lr: 5.0000e-04\n",
      "Epoch 58/200\n",
      "341/341 [==============================] - 40s 117ms/step - loss: 0.3193 - accuracy: 0.8816 - val_loss: 1.3544 - val_accuracy: 0.5839 - lr: 5.0000e-04\n",
      "Epoch 59/200\n",
      "341/341 [==============================] - ETA: 0s - loss: 0.3144 - accuracy: 0.8846\n",
      "Epoch 59: ReduceLROnPlateau reducing learning rate to 0.0002500000118743628.\n",
      "341/341 [==============================] - 40s 116ms/step - loss: 0.3144 - accuracy: 0.8846 - val_loss: 1.2784 - val_accuracy: 0.6040 - lr: 5.0000e-04\n"
     ]
    }
   ],
   "source": [
    "modelRaw=tf.keras.Sequential()\n",
    "modelRaw.add(Conv1D(64,input_shape=[4000, 1],kernel_size=80,strides=4,padding='same'))\n",
    "modelRaw.add(BatchNormalization())\n",
    "modelRaw.add(Activation('relu'))\n",
    "modelRaw.add(MaxPooling1D(pool_size=4, strides=None))\n",
    "modelRaw.add(Conv1D(64,kernel_size=3,strides=2,padding='same'))\n",
    "modelRaw.add(BatchNormalization())\n",
    "modelRaw.add(Activation('relu'))\n",
    "modelRaw.add(MaxPooling1D(pool_size=4, strides=None))\n",
    "modelRaw.add(Dropout(0.3))\n",
    "modelRaw.add(Conv1D(128,kernel_size=3,strides=1,padding='same'))\n",
    "modelRaw.add(BatchNormalization())\n",
    "modelRaw.add(Activation('relu'))\n",
    "modelRaw.add(MaxPooling1D(pool_size=4, strides=None))\n",
    "modelRaw.add(Conv1D(256, kernel_size=3,strides=1,padding='same'))\n",
    "modelRaw.add(BatchNormalization())\n",
    "modelRaw.add(Activation('relu'))\n",
    "modelRaw.add(MaxPooling1D(pool_size=2, strides=None))\n",
    "modelRaw.add(Lambda(lambda x: K.mean(x, axis=1)))  # Same as GAP for 1D Conv Layer\n",
    "modelRaw.add(Dense(4, activation='softmax'))\n",
    "optimizer= tf.keras.optimizers.Adam()\n",
    "modelRaw.compile(loss='categorical_crossentropy',optimizer=optimizer,metrics=['accuracy'])\n",
    "reduceLR = tf.keras.callbacks.ReduceLROnPlateau(monitor='val_loss', factor=0.5,\n",
    "                                 verbose=1, patience=20, mode='auto')\n",
    "early = tf.keras.callbacks.EarlyStopping(monitor='val_loss', min_delta=1e-4,\n",
    "                          patience=40, mode='auto', restore_best_weights=True)\n",
    "modelRaw.build(input_shape=(None,4000,1))\n",
    "modelRaw.summary()\n",
    "train_targs_oh=tf.keras.utils.to_categorical(combined_train_targs_raw,num_classes=4)\n",
    "history = modelRaw.fit(combined_train_data_raw, train_targs_oh,\n",
    "                      epochs=200,\n",
    "                      batch_size=32,\n",
    "                      shuffle=True,\n",
    "                      class_weight=range_weights_val,\n",
    "                      validation_split=0.2,\n",
    "                      callbacks=[reduceLR, early])"
   ],
   "metadata": {
    "collapsed": false,
    "pycharm": {
     "name": "#%%\n"
    }
   }
  },
  {
   "cell_type": "code",
   "execution_count": 117,
   "outputs": [
    {
     "name": "stdout",
     "output_type": "stream",
     "text": [
      "107/107 [==============================] - 2s 15ms/step\n",
      "              precision    recall  f1-score   support\n",
      "\n",
      "           0       0.81      0.66      0.73      1151\n",
      "           1       0.43      0.52      0.47       590\n",
      "           2       0.46      0.30      0.36       583\n",
      "           3       0.63      0.80      0.71      1082\n",
      "\n",
      "    accuracy                           0.62      3406\n",
      "   macro avg       0.58      0.57      0.57      3406\n",
      "weighted avg       0.63      0.62      0.62      3406\n",
      "\n"
     ]
    }
   ],
   "source": [
    "score = modelRaw.predict(combined_val_data_raw)\n",
    "y_pred = np.argmax(score,axis=-1)\n",
    "print(classification_report(np.array(combined_val_targs_raw),y_pred))"
   ],
   "metadata": {
    "collapsed": false,
    "pycharm": {
     "name": "#%%\n"
    }
   }
  },
  {
   "cell_type": "markdown",
   "source": [
    "# 2DCNN"
   ],
   "metadata": {
    "collapsed": false,
    "pycharm": {
     "name": "#%% md\n"
    }
   }
  },
  {
   "cell_type": "code",
   "execution_count": null,
   "outputs": [],
   "source": [
    "modelCNN_MCV2_=tf.keras.Sequential()\n",
    "modelCNN_MCV2_.add(BatchNormalization(input_shape=(128,8,1)))\n",
    "modelCNN_MCV2_.add(Conv2D(filters=8,kernel_size=(4,4),strides=(1,1),padding='SAME', use_bias=False, name='conv_1'))\n",
    "modelCNN_MCV2_.add(BatchNormalization())\n",
    "modelCNN_MCV2_.add(Activation('relu'))\n",
    "modelCNN_MCV2_.add(MaxPooling2D(2))\n",
    "modelCNN_MCV2_.add(Conv2D(filters=16,kernel_size=(2,2),strides=(2,2), use_bias=False,\n",
    "                         padding='SAME', name='conv_2'))\n",
    "modelCNN_MCV2_.add(BatchNormalization())\n",
    "modelCNN_MCV2_.add(Activation('relu'))\n",
    "modelCNN_MCV2_.add(Dropout(0.3))\n",
    "modelCNN_MCV2_.add(Conv2D(filters=32,kernel_size=(2,2),strides=(2,2), use_bias=False,\n",
    "                         padding='SAME', name='conv_3'))\n",
    "modelCNN_MCV2_.add(BatchNormalization())\n",
    "modelCNN_MCV2_.add(Activation('relu'))\n",
    "modelCNN_MCV2_.add(Dropout(0.3))\n",
    "modelCNN_MCV2_.add(Flatten())\n",
    "modelCNN_MCV2_.add(Dense(512, activation='relu', name='dense_2'))\n",
    "modelCNN_MCV2_.add(Dense(256, activation='relu', name='dense_3'))\n",
    "modelCNN_MCV2_.add(Dropout(0.5))\n",
    "modelCNN_MCV2_.add(Dense(4, activation='softmax', name='output_range'))\n",
    "\n",
    "optimizer= tf.keras.optimizers.Adam()\n",
    "modelCNN_MCV2_.compile(loss='categorical_crossentropy',optimizer=optimizer,metrics=['accuracy'])\n",
    "reduceLR = tf.keras.callbacks.ReduceLROnPlateau(monitor='val_loss', factor=0.5,\n",
    "                                 verbose=1, patience=20, mode='auto')\n",
    "early = tf.keras.callbacks.EarlyStopping(monitor='val_loss', min_delta=1e-4,\n",
    "                          patience=40, mode='auto', restore_best_weights=True)\n",
    "modelCNN_MCV2_.build(input_shape=(None,128,8,1))\n",
    "modelCNN_MCV2_.summary()\n",
    "train_targs_oh=tf.keras.utils.to_categorical(combined_train_targs,num_classes=4)\n",
    "history = modelCNN_MCV2_.fit(combined_train_data,train_targs_oh,\n",
    "                      epochs=200,\n",
    "                      batch_size=32,\n",
    "                      shuffle=True,\n",
    "                      class_weight=range_weights_val,\n",
    "                      validation_split=0.2,\n",
    "                      callbacks=[reduceLR, early])"
   ],
   "metadata": {
    "collapsed": false,
    "pycharm": {
     "name": "#%%\n"
    }
   }
  },
  {
   "cell_type": "code",
   "execution_count": null,
   "outputs": [],
   "source": [
    "score = modelCNN_MCV2_.predict(combined_val_data)\n",
    "y_pred = np.argmax(score,axis=-1)\n",
    "print(classification_report(np.array(combined_val_targs),y_pred))"
   ],
   "metadata": {
    "collapsed": false,
    "pycharm": {
     "name": "#%%\n"
    }
   }
  }
 ],
 "metadata": {
  "kernelspec": {
   "display_name": "Python 3",
   "language": "python",
   "name": "python3"
  },
  "language_info": {
   "codemirror_mode": {
    "name": "ipython",
    "version": 2
   },
   "file_extension": ".py",
   "mimetype": "text/x-python",
   "name": "python",
   "nbconvert_exporter": "python",
   "pygments_lexer": "ipython2",
   "version": "2.7.6"
  }
 },
 "nbformat": 4,
 "nbformat_minor": 0
}