{
 "cells": [
  {
   "cell_type": "code",
   "execution_count": 1,
   "metadata": {
    "collapsed": true,
    "pycharm": {
     "name": "#%%\n"
    }
   },
   "outputs": [],
   "source": [
    "import librosa\n",
    "import datetime\n",
    "import pandas as pd\n",
    "from librosa.effects import pitch_shift\n",
    "import os\n",
    "from sklearn.metrics import classification_report, recall_score,precision_score,accuracy_score,f1_score\n",
    "import pathlib\n",
    "import random\n",
    "from sklearn.preprocessing import StandardScaler\n",
    "import matplotlib.pyplot as plt\n",
    "import numpy as np\n",
    "import seaborn as sns\n",
    "from librosa.feature import mfcc, melspectrogram\n",
    "import scipy.io.wavfile as wav\n",
    "import tensorflow as tf\n",
    "import scipy.signal as signal\n",
    "import keras\n",
    "from sklearn.model_selection import train_test_split\n",
    "from keras.models import Model\n",
    "from research.dataImporting import MLtools\n",
    "from keras.optimizers import adam_v2\n",
    "from keras.layers import Input, Conv1D, Conv2D, SeparableConv1D, MaxPooling1D,MaxPooling2D, Flatten, Dense, Dropout, AlphaDropout, \\\n",
    "    BatchNormalization, Activation, LSTM, Lambda, Reshape, GRU\n",
    "from keras.callbacks import EarlyStopping, ModelCheckpoint, ReduceLROnPlateau\n",
    "from sklearn.model_selection import train_test_split\n",
    "from keras.utils.np_utils import to_categorical\n",
    "from research.dataImporting import dataTools\n",
    "import keras.backend as K\n",
    "from tcn import TCN\n",
    "from keras import regularizers"
   ]
  },
  {
   "cell_type": "markdown",
   "source": [
    "# Training ML Models for use in EVP"
   ],
   "metadata": {
    "collapsed": false,
    "pycharm": {
     "name": "#%% md\n"
    }
   }
  },
  {
   "cell_type": "code",
   "execution_count": 5,
   "outputs": [],
   "source": [
    "training_df=pd.read_csv(r\"C:\\Users\\rclendening\\PycharmProjects\\MLTesting\\research\\research\\MLModels\\datasets\\LT80m_detection_training_w_matrice_phantom.csv\")"
   ],
   "metadata": {
    "collapsed": false,
    "pycharm": {
     "name": "#%%\n"
    }
   }
  },
  {
   "cell_type": "code",
   "execution_count": 3,
   "outputs": [],
   "source": [
    "# notable_col_names=['Pass','Segment','Phone','Lat','Lon','Alt','Range','MFCC_Values']\n",
    "#\n",
    "# def rename_bulk_columns(DF,nameList):\n",
    "#     for x in range(len(nameList)):\n",
    "#         DF.columns.values[x]=nameList[x]\n",
    "# rename_bulk_columns(training_df,notable_col_names)\n",
    "#\n",
    "# training_df.to_csv(\"LT80m_detection_training_w_matrice_phantom_noise_augment_A1_A2_A3.csv\")"
   ],
   "metadata": {
    "collapsed": false,
    "pycharm": {
     "name": "#%%\n"
    }
   }
  },
  {
   "cell_type": "code",
   "execution_count": 6,
   "outputs": [
    {
     "name": "stdout",
     "output_type": "stream",
     "text": [
      "A2R3P1\n",
      "A2R3P2\n",
      "A2R3P3\n",
      "A2R4P1\n",
      "A2R4P2\n",
      "A2R4P3\n",
      "A2R5P1\n",
      "A2R5P2\n",
      "A2R5P3\n",
      "A2R5P4\n",
      "A2R5P5\n",
      "A2R6P1\n",
      "A2R6P2\n",
      "A2R6P3\n",
      "A2R6P4\n",
      "A2R6P5\n",
      "A3R3P1\n",
      "\n",
      "A3R3P4\n",
      "\n",
      "A3R3P5\n",
      "\n",
      "A3R4P4\n",
      "\n",
      "A3R4P5\n",
      "\n",
      "A3R6P1\n",
      "\n"
     ]
    }
   ],
   "source": [
    "phone_slots=[\"Phone_1-1\",\"Phone_1-3\",\"Phone_11\",\"Phone_12\",\"Phone_15\",\"Phone_2-3\",\"Phone_2-4\", \"Phone_2-5\",\"Phone_27\",\"Phone_28\",\"Phone_29\", \"Phone_3-1\",\"Phone_3-2\",\"Phone_3-3\",\"Phone_3-4\",\"Phone_3-5\",\"Phone_30\",\"Phone_5-2\",\"Phone_5-3\",\"Phone_5-4\",\"Phone_6-2\",\"Phone_6-3\",\"Phone_6-4\",\"Phone_6-5\",\"Phone_7-1\",\"Phone_7-2\",\"Phone_8\",\"Phone_9\"]\n",
    "bad_runs=[\"A3R6P1\",\"A3R4P4\",\"A3R4P5\",\"A3R3P4\",\"A3R3P5\"]\n",
    "good_runs_IF=[\"A1R1P1\",\"A1R1P2\",\"A1R1P3\",\"A1R1P4\",\"A1R1P5\",\"A2R1P1\",\"A2R1P2\",\"A2R1P3\",\"A2R1P4\",\"A2R1P5\",\"A2R2P1\",\"A2R2P2\",\"A2R2P3\",\"A2R2P4\",\"A2R2P5\"]\n",
    "good_runs_matrice=[\"A1R2P2\",\"A1R2P3\",\"A1R2P4\",\"A1R2P5\",\"A2R3P1\",\"A2R3P2\",\"A2R4P1\",\"A2R4P2\",\"A2R4P3\"]\n",
    "good_runs_phantom=[\"A2R5P1\",\"A2R5P2\",\"A2R5P3\",\"A2R5P4\",\"A2R5P5\",\"A2R6P1\",\"A2R6P2\",\"A2R6P3\",\"A2R6P4\",\"A2R6P5\"]\n",
    "good_runs_mavic=[\"A2R7P1\",\"A2R7P2\",\"A2R7P3\",\"A2R7P4\",\"A2R7P5\",\"A2R8P1\",\"A2R8P2\",\"A2R8P3\",\"A2R8P4\",\"A2R8P5\",\"A3R6P1\"]\n",
    "test_runs_matrice=[\"A2R3P3\",\"A3R3P3\"]\n",
    "notable_col_names=['Pass','Segment','Phone','Lat','Lon','Alt','Range']\n",
    "passes_df=pd.read_csv(r\"C:\\Users\\rclendening\\researchData\\researchCSVs_Scripts_etc\\A2_A3_training_w_Matrice_Phantom.csv\")\n",
    "x_data=[]\n",
    "y_data=[]\n",
    "total_ranges=[]\n",
    "aug_vals=[7000,7200,7400,7600,7800,8000,8200,8400,8600,8800,9000]\n",
    "indiv_phone_num_dict={}\n",
    "for x in phone_slots:\n",
    "    indiv_phone_num_dict[x]=0\n",
    "def melspect(audioData, Fs):\n",
    "    '''\n",
    "    Converts decoded wav file to MFCC feature space\n",
    "    @param audioData: Numpy array of decoded audio wav file\n",
    "    @return MFCC coefficients\n",
    "    '''\n",
    "    data= audioData.astype(float)\n",
    "    # spect = melspectrogram(y=data,sr=Fs, hop_length=1024,n_mels=64, n_fft=2048)\n",
    "    spect = melspectrogram(y=data,sr=Fs)\n",
    "    return spect\n",
    "def MFCCCalc(audioData, Fs):\n",
    "    '''\n",
    "    Converts decoded wav file to MFCC feature space\n",
    "    @param audioData: Numpy array of decoded audio wav file\n",
    "    @return MFCC coefficients\n",
    "    '''\n",
    "    data= audioData.astype(float)\n",
    "    coefs = mfcc(y=data, hop_length=1024,n_mfcc=20, sr=Fs) #was 40\n",
    "    #coefs = mfcc(y=data, hop_length=2048,n_fft=2048,n_mfcc=40, sr=Fs)\n",
    "    return coefs\n",
    "\n",
    "def crankThat(audioData):\n",
    "    audio_amp=[1.0,1.1,1.2,1.3,1.4,1.5]\n",
    "    audio_frames=[]\n",
    "    class_val=[]\n",
    "    for x in audio_amp:\n",
    "        new_data=audioData*x\n",
    "        mfcc_data=MFCCCalc(new_data,8000)\n",
    "        audio_frames.append(mfcc_data.squeeze())\n",
    "        class_val.append(1)\n",
    "    return audio_frames, class_val\n",
    "x_data=[]\n",
    "y_data=[]\n",
    "for x in passes_df.iterrows():\n",
    "    row=x[1]\n",
    "    pass_num=row[0]\n",
    "    scenario=row[1]\n",
    "    run_num=row[2]\n",
    "    start=row[3]\n",
    "    stop=row[4]\n",
    "    drone_gps_file=row[5]\n",
    "    full_name=(str(scenario) + 'R' + str(run_num) + 'P' + str(pass_num)).strip()\n",
    "    if scenario== \"plsno\":\n",
    "        for x in aug_vals:\n",
    "            full_aug_name=full_name+\"_\"+str(x).strip()\n",
    "            print(full_aug_name)\n",
    "            pass_df=training_df.loc[training_df['Pass'] == full_aug_name]\n",
    "            max_segment=pass_df['Segment'].max()\n",
    "            for phone in phone_slots:\n",
    "                phone_seg=pass_df.loc[pass_df['Phone']==phone]\n",
    "                twd_frame=[]\n",
    "                range_frame=[]\n",
    "                for i in range(0,max_segment):\n",
    "                    frame_df=phone_seg.loc[phone_seg['Segment']==i]\n",
    "                    data=np.array(frame_df.iloc[:,8:2056])\n",
    "                    if np.any(data):\n",
    "                        mel_data=data[0]\n",
    "                    dist=frame_df['Range']\n",
    "                    distance_val=np.array(dist)\n",
    "                #dist=phone_seg[\"Range\"]\n",
    "                    if len(distance_val)>0:\n",
    "                        dist=distance_val[0]\n",
    "                        if dist<78:\n",
    "                            #data=data[0]\n",
    "                            #frames,class_values=crankThat(mel_data)\n",
    "                            total_ranges.append(dist)\n",
    "                            #data=np.reshape(data,(64,4))\n",
    "                            #data=np.reshape(data,(40,1))\n",
    "                            class_value=1\n",
    "                            twd_frame.append(np.squeeze(mel_data))\n",
    "                            range_frame.append(class_value)\n",
    "                        elif 82< dist:\n",
    "                            #data=np.reshape(data,(64,4))\n",
    "                            #data=np.reshape(data,(40,1))\n",
    "                            class_value=0\n",
    "                            twd_frame.append(np.squeeze(mel_data))\n",
    "                            range_frame.append(class_value)\n",
    "                #y_vals= rangeClosest(range_frame)\n",
    "                x_data.extend(twd_frame)\n",
    "                y_data.extend(range_frame)\n",
    "    # if full_name in good_runs_matrice or full_name in good_runs_IF or full_name in good_runs_phantom or full_name in good_runs_mavic:\n",
    "    else:\n",
    "        print(full_name)\n",
    "        if scenario==\"A3\":\n",
    "            print()\n",
    "        pass_df=training_df.loc[training_df['Pass'] == full_name]\n",
    "        max_segment=int(pass_df['Segment'].max())\n",
    "        for phone in phone_slots:\n",
    "            phone_seg=pass_df.loc[pass_df['Phone']==phone]\n",
    "            twd_frame=[]\n",
    "            range_frame=[]\n",
    "            for i in range(0,max_segment):\n",
    "                frame_df=phone_seg.loc[phone_seg['Segment']==i]\n",
    "                data=np.array(frame_df.iloc[:,-40:])\n",
    "                #data=np.array(frame_df.iloc[:,15:60])\n",
    "                #data=np.array(frame_df.iloc[:,8:2056])\n",
    "                if np.any(data):\n",
    "                    mel_data=data\n",
    "                dist=frame_df['Range']\n",
    "                distance_val=np.array(dist)\n",
    "            #dist=phone_seg[\"Range\"]\n",
    "                if len(distance_val)>0:\n",
    "                    indiv_phone_num_dict[phone]+=1\n",
    "                    if distance_val<78 :\n",
    "                        data=data[0]\n",
    "                        #frames,class_values=crankThat(mel_data)\n",
    "                        total_ranges.append(dist)\n",
    "                        #data=np.reshape(data,(64,4))\n",
    "                        #data=np.reshape(data,(40,1))\n",
    "                        class_value=1\n",
    "                        twd_frame.append(np.squeeze(mel_data))\n",
    "                        range_frame.append(class_value)\n",
    "                    elif 82< distance_val <175:\n",
    "                        data=data[0]\n",
    "                        #mel_data=MFCCCalc(data,8000)\n",
    "                        #data=np.reshape(data,(64,4))\n",
    "                        #data=np.reshape(data,(40,1))\n",
    "                        class_value=0\n",
    "                        twd_frame.append(np.squeeze(mel_data))\n",
    "                        range_frame.append(class_value)\n",
    "            #y_vals= rangeClosest(range_frame)\n",
    "            x_data.extend(twd_frame)\n",
    "            y_data.extend(range_frame)\n",
    "    # plt.hist(np.array(total_ranges).squeeze(),bins=50)\n",
    "    # plt.figure()"
   ],
   "metadata": {
    "collapsed": false,
    "pycharm": {
     "name": "#%%\n"
    }
   }
  },
  {
   "cell_type": "code",
   "execution_count": 5,
   "outputs": [
    {
     "data": {
      "text/plain": "Text(0, 0.5, 'Count')"
     },
     "execution_count": 5,
     "metadata": {},
     "output_type": "execute_result"
    },
    {
     "data": {
      "text/plain": "<Figure size 432x288 with 1 Axes>",
      "image/png": "[encoded data removed]"
     },
     "metadata": {
      "needs_background": "light"
     },
     "output_type": "display_data"
    }
   ],
   "source": [
    "plt.hist(np.array(y_data).squeeze(),bins=50)\n",
    "plt.xlabel(\"Range (in Meters)\")\n",
    "plt.ylabel(\"Count\")\n",
    "#plt.savefig(\"./Plots/cellphone_training_ranges_hist_LT80.pdf\",bbox_inches=\"tight\")"
   ],
   "metadata": {
    "collapsed": false,
    "pycharm": {
     "name": "#%%\n"
    }
   }
  },
  {
   "cell_type": "code",
   "execution_count": 30,
   "outputs": [
    {
     "data": {
      "text/plain": "<Figure size 432x288 with 1 Axes>",
      "image/png": "[encoded data removed]"
     },
     "metadata": {
      "needs_background": "light"
     },
     "output_type": "display_data"
    }
   ],
   "source": [
    "names=[]\n",
    "count=[]\n",
    "ind=np.arange(28)\n",
    "width=1\n",
    "for x in indiv_phone_num_dict:\n",
    "    names.append(x)\n",
    "    count.append(indiv_phone_num_dict[x])\n",
    "bar1=plt.bar(ind,np.array(count),align='edge',width=width)\n",
    "plt.xticks(ind+width,names)\n",
    "\n",
    "plt.xticks(rotation=70)\n",
    "plt.ylabel(\"Training Samples\")\n",
    "plt.savefig(\"./Plots/trainingDataPerPhoneHist.pdf\",bbox_inches=\"tight\")"
   ],
   "metadata": {
    "collapsed": false,
    "pycharm": {
     "name": "#%%\n"
    }
   }
  },
  {
   "cell_type": "code",
   "execution_count": 5,
   "outputs": [],
   "source": [
    "a=x_data\n",
    "b=y_data"
   ],
   "metadata": {
    "collapsed": false,
    "pycharm": {
     "name": "#%%\n"
    }
   }
  },
  {
   "cell_type": "code",
   "execution_count": 6,
   "outputs": [
    {
     "data": {
      "text/plain": "Text(0.5, 0, 'Class Distribution (0=Noise, 1=sUAS)')"
     },
     "execution_count": 6,
     "metadata": {},
     "output_type": "execute_result"
    },
    {
     "data": {
      "text/plain": "<Figure size 432x288 with 1 Axes>",
      "image/png": "[encoded data removed]"
     },
     "metadata": {
      "needs_background": "light"
     },
     "output_type": "display_data"
    }
   ],
   "source": [
    "plt.hist(y_data)\n",
    "plt.ylabel(\"Count\")\n",
    "plt.xlabel(\"Class Distribution (0=Noise, 1=sUAS)\")\n",
    "#plt.savefig(\"./Plots/cellphone_training_distro_hist.pdf\",bbox_inches=\"tight\")"
   ],
   "metadata": {
    "collapsed": false,
    "pycharm": {
     "name": "#%%\n"
    }
   }
  },
  {
   "cell_type": "code",
   "execution_count": 15,
   "outputs": [
    {
     "data": {
      "text/plain": "(array([40636.,     0.,     0.,     0.,     0.,     0.,     0.,     0.,\n            0., 39254.]),\n array([0. , 0.1, 0.2, 0.3, 0.4, 0.5, 0.6, 0.7, 0.8, 0.9, 1. ]),\n <BarContainer object of 10 artists>)"
     },
     "execution_count": 15,
     "metadata": {},
     "output_type": "execute_result"
    },
    {
     "data": {
      "text/plain": "<Figure size 432x288 with 1 Axes>",
      "image/png": "[encoded data removed]"
     },
     "metadata": {
      "needs_background": "light"
     },
     "output_type": "display_data"
    }
   ],
   "source": [
    "y_data_copy=y_data\n",
    "x_data_copy=x_data\n",
    "# y_data_copy.extend(labels[:,0])\n",
    "# x_data_copy.extend(features)\n",
    "def subsample(x_data,y_data):\n",
    "    new_x=[]\n",
    "    new_y=[]\n",
    "    rng=np.random.default_rng(12345)\n",
    "    for x in range(len(x_data)):\n",
    "        rand_vals=rng.integers(low=1,high=8,size=1)\n",
    "        if y_data[x]==0 and rand_vals==3:\n",
    "            new_x.append(x_data[x])\n",
    "            new_y.append(y_data[x])\n",
    "        elif y_data[x]==1:\n",
    "            new_x.append(x_data[x])\n",
    "            new_y.append(y_data[x])\n",
    "    return np.array(new_x), np.array(new_y)\n",
    "def subsamplesUAS(x_data,y_data):\n",
    "    new_x=[]\n",
    "    new_y=[]\n",
    "    rng=np.random.default_rng(12345)\n",
    "    for x in range(len(x_data)):\n",
    "        rand_vals=rng.integers(low=1,high=4,size=1)\n",
    "        if y_data[x]==0 and rand_vals!=1:\n",
    "            new_x.append(x_data[x])\n",
    "            new_y.append(y_data[x])\n",
    "        elif y_data[x]==1:\n",
    "            new_x.append(x_data[x])\n",
    "            new_y.append(y_data[x])\n",
    "    return np.array(new_x), np.array(new_y)\n",
    "new_x,new_y= subsample(x_data,y_data)\n",
    "plt.hist(new_y)"
   ],
   "metadata": {
    "collapsed": false,
    "pycharm": {
     "name": "#%%\n"
    }
   }
  },
  {
   "cell_type": "code",
   "execution_count": 26,
   "outputs": [],
   "source": [
    "training_data=pd.read_csv(\"datasets/training_df_LT80m_wo_A1.csv\")\n",
    "# mean_std=pd.read_csv(\"mean_std_training_ds.csv\")"
   ],
   "metadata": {
    "collapsed": false,
    "pycharm": {
     "name": "#%%\n"
    }
   }
  },
  {
   "cell_type": "code",
   "execution_count": 20,
   "outputs": [],
   "source": [
    "x_data_13=[]\n",
    "for x in x_data:\n",
    "    x_data_13.append(x[0:21])"
   ],
   "metadata": {
    "collapsed": false,
    "pycharm": {
     "name": "#%%\n"
    }
   }
  },
  {
   "cell_type": "code",
   "execution_count": 7,
   "outputs": [],
   "source": [
    "# y_data=np.array(training_data.iloc[:,1])\n",
    "# x_data=np.array(training_data.iloc[:,2:42])\n",
    "#x_data=training_data.iloc[:,2:22]\n",
    "# mean=np.array(mean_std.loc[:,'mean'])\n",
    "# std=np.array(mean_std.loc[:,'std'])\n",
    "# x_data=np.array(x_data)\n",
    "# y_data=np.array(y_data)\n",
    "train_feats,test_feats,train_targs,test_targs=train_test_split(x_data,y_data,test_size=0.2,shuffle=True,random_state=42)\n",
    "train_feats=np.array(train_feats)\n",
    "train_targs=np.array(train_targs)\n",
    "test_feats=np.array(test_feats)\n",
    "test_targs=np.array(test_targs)\n",
    "mean = train_feats.mean(axis=0)\n",
    "std = train_feats.std(axis=0)\n",
    "train_feats -= mean\n",
    "train_feats /= std\n",
    "test_feats -= mean\n",
    "test_feats /= std"
   ],
   "metadata": {
    "collapsed": false,
    "pycharm": {
     "name": "#%%\n"
    }
   }
  },
  {
   "cell_type": "code",
   "execution_count": 12,
   "outputs": [
    {
     "data": {
      "text/plain": "(array([15415.,     0.,     0.,     0.,     0.,     0.,     0.,     0.,\n            0., 14223.]),\n array([0. , 0.1, 0.2, 0.3, 0.4, 0.5, 0.6, 0.7, 0.8, 0.9, 1. ]),\n <BarContainer object of 10 artists>)"
     },
     "execution_count": 12,
     "metadata": {},
     "output_type": "execute_result"
    },
    {
     "data": {
      "text/plain": "<Figure size 432x288 with 1 Axes>",
      "image/png": "[encoded data removed]"
     },
     "metadata": {
      "needs_background": "light"
     },
     "output_type": "display_data"
    }
   ],
   "source": [
    "plt.hist(train_targs)"
   ],
   "metadata": {
    "collapsed": false,
    "pycharm": {
     "name": "#%%\n"
    }
   }
  },
  {
   "cell_type": "code",
   "execution_count": 30,
   "outputs": [
    {
     "name": "stdout",
     "output_type": "stream",
     "text": [
      "[-187.48908206  138.06350344   -3.32674518   52.64843678  -16.9386532\n",
      "   28.00896864  -16.83997148   16.65250224   -7.16976499   10.46990153\n",
      "    0.24436736    0.6440102     3.63449361   -6.28027624    3.8834542\n",
      "   -8.47860927    4.29226622   -7.47620833    2.74208344   -7.46433095\n",
      "   -1.85768496]\n",
      "[86.36196128 18.8937631  28.12076199 17.5103656  17.45632223 13.65169415\n",
      " 12.88763151 12.00959719 10.52976417  9.46565475  8.25287718  7.21408464\n",
      "  6.97867657  6.62256165  6.07923335  6.14029998  6.08275612  6.24515169\n",
      "  5.92487202  6.21214288  5.87051859]\n"
     ]
    }
   ],
   "source": [
    "training_df=pd.DataFrame(x_data)\n",
    "truth_labels_df=pd.DataFrame(y_data)\n",
    "training_df_full=pd.concat([truth_labels_df,training_df],axis=1)\n",
    "#training_df_full.to_csv(\"training_df_LT80m_test.csv\")\n",
    "print(mean)\n",
    "print(std)\n",
    "stdizer=pd.DataFrame([mean,std]).transpose()\n",
    "stdizer.columns=['mean','std']\n",
    "stdizer.to_csv(\"mean_std_training_ds_wo_A1_test_01-31.csv\")"
   ],
   "metadata": {
    "collapsed": false,
    "pycharm": {
     "name": "#%%\n"
    }
   }
  },
  {
   "cell_type": "markdown",
   "source": [
    "# Naive"
   ],
   "metadata": {
    "collapsed": false,
    "pycharm": {
     "name": "#%% md\n"
    }
   }
  },
  {
   "cell_type": "code",
   "execution_count": 21,
   "outputs": [
    {
     "name": "stdout",
     "output_type": "stream",
     "text": [
      "0.0\n",
      "0.0\n",
      "0.5112393316504388\n",
      "0.0\n"
     ]
    },
    {
     "name": "stderr",
     "output_type": "stream",
     "text": [
      "C:\\Users\\rclendening\\AppData\\Local\\Programs\\Python\\Python39\\lib\\site-packages\\sklearn\\metrics\\_classification.py:1318: UndefinedMetricWarning: Precision is ill-defined and being set to 0.0 due to no predicted samples. Use `zero_division` parameter to control this behavior.\n",
      "  _warn_prf(average, modifier, msg_start, len(result))\n"
     ]
    }
   ],
   "source": [
    "print(precision_score(test_targs,np.zeros(len(test_targs))))\n",
    "print(recall_score(test_targs,np.zeros(len(test_targs))))\n",
    "print(accuracy_score(test_targs,np.zeros(len(test_targs))))\n",
    "print(f1_score(test_targs,np.zeros(len(test_targs))))"
   ],
   "metadata": {
    "collapsed": false,
    "pycharm": {
     "name": "#%%\n"
    }
   }
  },
  {
   "cell_type": "markdown",
   "source": [
    "# LDA / QDA"
   ],
   "metadata": {
    "collapsed": false,
    "pycharm": {
     "name": "#%% md\n"
    }
   }
  },
  {
   "cell_type": "code",
   "execution_count": 24,
   "outputs": [
    {
     "data": {
      "text/plain": "QuadraticDiscriminantAnalysis()"
     },
     "execution_count": 24,
     "metadata": {},
     "output_type": "execute_result"
    }
   ],
   "source": [
    "from sklearn.discriminant_analysis import LinearDiscriminantAnalysis, QuadraticDiscriminantAnalysis\n",
    "lda= LinearDiscriminantAnalysis()\n",
    "qda = QuadraticDiscriminantAnalysis()\n",
    "lda.fit(train_feats,train_targs)\n",
    "qda.fit(train_feats,train_targs)"
   ],
   "metadata": {
    "collapsed": false,
    "pycharm": {
     "name": "#%%\n"
    }
   }
  },
  {
   "cell_type": "code",
   "execution_count": 25,
   "outputs": [
    {
     "name": "stdout",
     "output_type": "stream",
     "text": [
      "0.6557354925775979\n",
      "0.6620887895241137\n",
      "0.5813236118900729\n",
      "0.6190831715693594\n"
     ]
    }
   ],
   "source": [
    "ldaPreds=lda.predict(test_feats)\n",
    "qdaPreds=qda.predict(test_feats)\n",
    "print(accuracy_score(test_targs,ldaPreds))\n",
    "print(precision_score(test_targs,ldaPreds))\n",
    "print(recall_score(test_targs,ldaPreds))\n",
    "print(f1_score(test_targs,ldaPreds))"
   ],
   "metadata": {
    "collapsed": false,
    "pycharm": {
     "name": "#%%\n"
    }
   }
  },
  {
   "cell_type": "code",
   "execution_count": 69,
   "outputs": [],
   "source": [
    "import pickle\n",
    "filename = 'finalized_qda_model.sav'\n",
    "pickle.dump(qda, open(filename, 'wb'))\n",
    "#loaded_model = pickle.load(open(filename, 'rb'))"
   ],
   "metadata": {
    "collapsed": false,
    "pycharm": {
     "name": "#%%\n"
    }
   }
  },
  {
   "cell_type": "markdown",
   "source": [
    "# SVM"
   ],
   "metadata": {
    "collapsed": false,
    "pycharm": {
     "name": "#%% md\n"
    }
   }
  },
  {
   "cell_type": "code",
   "execution_count": 111,
   "outputs": [
    {
     "data": {
      "text/plain": "(array([10357.,     0.,     0.,     0.,     0.,     0.,     0.,     0.,\n            0.,  9553.]),\n array([0. , 0.1, 0.2, 0.3, 0.4, 0.5, 0.6, 0.7, 0.8, 0.9, 1. ]),\n <BarContainer object of 10 artists>)"
     },
     "execution_count": 111,
     "metadata": {},
     "output_type": "execute_result"
    },
    {
     "data": {
      "text/plain": "<Figure size 432x288 with 1 Axes>",
      "image/png": "[encoded data removed]"
     },
     "metadata": {
      "needs_background": "light"
     },
     "output_type": "display_data"
    }
   ],
   "source": [
    "svmTrain_feats,_,svmTrain_targs,__=train_test_split(train_feats,train_targs,test_size=0.3,shuffle=True,random_state=42)\n",
    "plt.hist(svmTrain_targs)"
   ],
   "metadata": {
    "collapsed": false,
    "pycharm": {
     "name": "#%%\n"
    }
   }
  },
  {
   "cell_type": "code",
   "execution_count": 12,
   "outputs": [
    {
     "name": "stdout",
     "output_type": "stream",
     "text": [
      "Fitting 5 folds for each of 12 candidates, totalling 60 fits\n",
      "GridSearchCV(estimator=Pipeline(steps=[('estimator', SVC())]), n_jobs=-1,\n",
      "             param_grid={'estimator__C': [0.1, 1, 10, 100],\n",
      "                         'estimator__gamma': [1, 0.1, 0.01]},\n",
      "             verbose=3)\n",
      "{'estimator__C': 100, 'estimator__gamma': 0.1}\n",
      "0.8894318223116192\n",
      "0.8979414322992172\n",
      "0.8815826928551096\n",
      "0.8920134983127109\n",
      "0.8896868715886239\n"
     ]
    }
   ],
   "source": [
    "from sklearn import svm\n",
    "from sklearn.preprocessing import StandardScaler\n",
    "from sklearn.pipeline import Pipeline\n",
    "from sklearn.model_selection import cross_val_score, KFold\n",
    "from sklearn.model_selection import GridSearchCV\n",
    "\n",
    "model = svm.SVC(kernel='rbf')\n",
    "pipeline= Pipeline([('estimator', model)])\n",
    "cv = KFold(n_splits=5)\n",
    "param_grid= {\n",
    "    'estimator__C':[0.1,1,10,100], 'estimator__gamma':[1,0.1,0.01]}\n",
    "\n",
    "search = GridSearchCV(pipeline, param_grid,refit=True,verbose=3, n_jobs=-1)\n",
    "print(search.fit(train_feats,train_targs))\n",
    "print(search.best_params_)\n",
    "print(search.best_score_)\n",
    "search.score(test_feats,test_targs)\n",
    "SVMmodelPreds=search.predict(test_feats)\n",
    "print(precision_score(test_targs,SVMmodelPreds))\n",
    "print(recall_score(test_targs,SVMmodelPreds))\n",
    "print(accuracy_score(test_targs,SVMmodelPreds))\n",
    "print(f1_score(test_targs,SVMmodelPreds))"
   ],
   "metadata": {
    "collapsed": false,
    "pycharm": {
     "name": "#%%\n"
    }
   }
  },
  {
   "cell_type": "code",
   "execution_count": 11,
   "outputs": [
    {
     "name": "stdout",
     "output_type": "stream",
     "text": [
      "894.7531161308289\n",
      "[10587 10246]\n",
      "{'C': 100, 'break_ties': False, 'cache_size': 200, 'class_weight': None, 'coef0': 0.0, 'decision_function_shape': 'ovr', 'degree': 3, 'gamma': 0.1, 'kernel': 'rbf', 'max_iter': -1, 'probability': True, 'random_state': None, 'shrinking': True, 'tol': 0.001, 'verbose': False}\n"
     ]
    }
   ],
   "source": [
    "from sklearn import svm\n",
    "import time\n",
    "start_time=time.time()\n",
    "model = svm.SVC(kernel='rbf',C=100,gamma=0.1,probability=True)\n",
    "model.fit(train_feats,train_targs)\n",
    "stop_time=time.time()\n",
    "print(stop_time-start_time)\n",
    "print(model.n_support_)\n",
    "print(model.get_params())\n"
   ],
   "metadata": {
    "collapsed": false,
    "pycharm": {
     "name": "#%%\n"
    }
   }
  },
  {
   "cell_type": "code",
   "execution_count": 12,
   "outputs": [
    {
     "name": "stdout",
     "output_type": "stream",
     "text": [
      "0.8907228229937393\n",
      "0.8777341559169939\n",
      "0.8893387314439946\n",
      "0.884180790960452\n"
     ]
    }
   ],
   "source": [
    "model.score(test_feats,test_targs)\n",
    "SVMmodelPreds=model.predict(test_feats)\n",
    "print(precision_score(test_targs,SVMmodelPreds))\n",
    "print(recall_score(test_targs,SVMmodelPreds))\n",
    "print(accuracy_score(test_targs,SVMmodelPreds))\n",
    "print(f1_score(test_targs,SVMmodelPreds))"
   ],
   "metadata": {
    "collapsed": false,
    "pycharm": {
     "name": "#%%\n"
    }
   }
  },
  {
   "cell_type": "markdown",
   "source": [],
   "metadata": {
    "collapsed": false,
    "pycharm": {
     "name": "#%% md\n"
    }
   }
  },
  {
   "cell_type": "code",
   "execution_count": 13,
   "outputs": [],
   "source": [
    "import pickle\n",
    "filename = 'finalized_svm_model_02_02.sav'\n",
    "pickle.dump(model, open(filename, 'wb'))\n",
    "#loaded_model = pickle.load(open(filename, 'rb'))"
   ],
   "metadata": {
    "collapsed": false,
    "pycharm": {
     "name": "#%%\n"
    }
   }
  },
  {
   "cell_type": "markdown",
   "source": [
    "# CNN Evaluation"
   ],
   "metadata": {
    "collapsed": false,
    "pycharm": {
     "name": "#%% md\n"
    }
   }
  },
  {
   "cell_type": "code",
   "execution_count": 15,
   "outputs": [
    {
     "name": "stdout",
     "output_type": "stream",
     "text": [
      "Model: \"sequential_1\"\n",
      "_________________________________________________________________\n",
      " Layer (type)                Output Shape              Param #   \n",
      "=================================================================\n",
      " dense_1 (Dense)             (None, 160)               6560      \n",
      "                                                                 \n",
      " alpha_dropout_2 (AlphaDropo  (None, 160)              0         \n",
      " ut)                                                             \n",
      "                                                                 \n",
      " dense_4 (Dense)             (None, 80)                12880     \n",
      "                                                                 \n",
      " alpha_dropout_3 (AlphaDropo  (None, 80)               0         \n",
      " ut)                                                             \n",
      "                                                                 \n",
      " dense_55 (Dense)            (None, 40)                3240      \n",
      "                                                                 \n",
      " dense_5 (Dense)             (None, 20)                820       \n",
      "                                                                 \n",
      " dense_56 (Dense)            (None, 20)                420       \n",
      "                                                                 \n",
      " dense_57 (Dense)            (None, 10)                210       \n",
      "                                                                 \n",
      " dense_6 (Dense)             (None, 1)                 11        \n",
      "                                                                 \n",
      "=================================================================\n",
      "Total params: 24,141\n",
      "Trainable params: 24,141\n",
      "Non-trainable params: 0\n",
      "_________________________________________________________________\n",
      "Epoch 1/500\n",
      "741/741 [==============================] - 7s 6ms/step - loss: 0.6276 - accuracy: 0.6553 - val_loss: 0.5933 - val_accuracy: 0.6953 - lr: 0.0010\n",
      "Epoch 2/500\n",
      "741/741 [==============================] - 4s 6ms/step - loss: 0.5942 - accuracy: 0.6846 - val_loss: 0.5993 - val_accuracy: 0.7036 - lr: 0.0010\n",
      "Epoch 3/500\n",
      "741/741 [==============================] - 4s 5ms/step - loss: 0.5777 - accuracy: 0.6954 - val_loss: 0.5667 - val_accuracy: 0.7213 - lr: 0.0010\n",
      "Epoch 4/500\n",
      "741/741 [==============================] - 5s 7ms/step - loss: 0.5654 - accuracy: 0.7066 - val_loss: 0.5627 - val_accuracy: 0.7264 - lr: 0.0010\n",
      "Epoch 5/500\n",
      "741/741 [==============================] - 5s 7ms/step - loss: 0.5554 - accuracy: 0.7144 - val_loss: 0.5785 - val_accuracy: 0.7325 - lr: 0.0010\n",
      "Epoch 6/500\n",
      "741/741 [==============================] - 5s 7ms/step - loss: 0.5439 - accuracy: 0.7248 - val_loss: 0.5470 - val_accuracy: 0.7385 - lr: 0.0010\n",
      "Epoch 7/500\n",
      "741/741 [==============================] - 6s 8ms/step - loss: 0.5341 - accuracy: 0.7301 - val_loss: 0.5720 - val_accuracy: 0.7402 - lr: 0.0010\n",
      "Epoch 8/500\n",
      "741/741 [==============================] - 6s 8ms/step - loss: 0.5269 - accuracy: 0.7338 - val_loss: 0.5255 - val_accuracy: 0.7500 - lr: 0.0010\n",
      "Epoch 9/500\n",
      "741/741 [==============================] - 6s 8ms/step - loss: 0.5208 - accuracy: 0.7350 - val_loss: 0.5330 - val_accuracy: 0.7508 - lr: 0.0010\n",
      "Epoch 10/500\n",
      "741/741 [==============================] - 6s 8ms/step - loss: 0.5161 - accuracy: 0.7399 - val_loss: 0.5266 - val_accuracy: 0.7515 - lr: 0.0010\n",
      "Epoch 11/500\n",
      "741/741 [==============================] - 6s 8ms/step - loss: 0.5075 - accuracy: 0.7435 - val_loss: 0.5306 - val_accuracy: 0.7488 - lr: 0.0010\n",
      "Epoch 12/500\n",
      "741/741 [==============================] - 5s 7ms/step - loss: 0.5012 - accuracy: 0.7496 - val_loss: 0.5134 - val_accuracy: 0.7655 - lr: 0.0010\n",
      "Epoch 13/500\n",
      "741/741 [==============================] - 5s 7ms/step - loss: 0.4989 - accuracy: 0.7501 - val_loss: 0.4986 - val_accuracy: 0.7638 - lr: 0.0010\n",
      "Epoch 14/500\n",
      "741/741 [==============================] - 6s 8ms/step - loss: 0.4907 - accuracy: 0.7552 - val_loss: 0.4851 - val_accuracy: 0.7740 - lr: 0.0010\n",
      "Epoch 15/500\n",
      "741/741 [==============================] - 5s 7ms/step - loss: 0.4857 - accuracy: 0.7558 - val_loss: 0.5037 - val_accuracy: 0.7707 - lr: 0.0010\n",
      "Epoch 16/500\n",
      "741/741 [==============================] - 6s 8ms/step - loss: 0.4799 - accuracy: 0.7606 - val_loss: 0.4951 - val_accuracy: 0.7753 - lr: 0.0010\n",
      "Epoch 17/500\n",
      "741/741 [==============================] - 6s 8ms/step - loss: 0.4777 - accuracy: 0.7602 - val_loss: 0.4730 - val_accuracy: 0.7785 - lr: 0.0010\n",
      "Epoch 18/500\n",
      "741/741 [==============================] - 6s 8ms/step - loss: 0.4707 - accuracy: 0.7683 - val_loss: 0.4794 - val_accuracy: 0.7831 - lr: 0.0010\n",
      "Epoch 19/500\n",
      "741/741 [==============================] - 6s 8ms/step - loss: 0.4685 - accuracy: 0.7706 - val_loss: 0.4876 - val_accuracy: 0.7758 - lr: 0.0010\n",
      "Epoch 20/500\n",
      "741/741 [==============================] - 6s 8ms/step - loss: 0.4645 - accuracy: 0.7721 - val_loss: 0.4774 - val_accuracy: 0.7826 - lr: 0.0010\n",
      "Epoch 21/500\n",
      "741/741 [==============================] - 6s 8ms/step - loss: 0.4592 - accuracy: 0.7751 - val_loss: 0.4709 - val_accuracy: 0.7917 - lr: 0.0010\n",
      "Epoch 22/500\n",
      "741/741 [==============================] - 6s 8ms/step - loss: 0.4542 - accuracy: 0.7790 - val_loss: 0.4822 - val_accuracy: 0.7913 - lr: 0.0010\n",
      "Epoch 23/500\n",
      "741/741 [==============================] - 6s 7ms/step - loss: 0.4527 - accuracy: 0.7822 - val_loss: 0.4667 - val_accuracy: 0.7908 - lr: 0.0010\n",
      "Epoch 24/500\n",
      "741/741 [==============================] - 5s 7ms/step - loss: 0.4512 - accuracy: 0.7794 - val_loss: 0.4691 - val_accuracy: 0.7950 - lr: 0.0010\n",
      "Epoch 25/500\n",
      "741/741 [==============================] - 5s 7ms/step - loss: 0.4443 - accuracy: 0.7841 - val_loss: 0.4735 - val_accuracy: 0.7947 - lr: 0.0010\n",
      "Epoch 26/500\n",
      "741/741 [==============================] - 4s 5ms/step - loss: 0.4421 - accuracy: 0.7870 - val_loss: 0.4628 - val_accuracy: 0.7913 - lr: 0.0010\n",
      "Epoch 27/500\n",
      "741/741 [==============================] - 2s 3ms/step - loss: 0.4419 - accuracy: 0.7888 - val_loss: 0.4498 - val_accuracy: 0.8040 - lr: 0.0010\n",
      "Epoch 28/500\n",
      "741/741 [==============================] - 5s 6ms/step - loss: 0.4325 - accuracy: 0.7927 - val_loss: 0.4507 - val_accuracy: 0.7999 - lr: 0.0010\n",
      "Epoch 29/500\n",
      "741/741 [==============================] - 3s 4ms/step - loss: 0.4292 - accuracy: 0.7931 - val_loss: 0.4369 - val_accuracy: 0.8026 - lr: 0.0010\n",
      "Epoch 30/500\n",
      "741/741 [==============================] - 6s 8ms/step - loss: 0.4312 - accuracy: 0.7905 - val_loss: 0.4356 - val_accuracy: 0.8057 - lr: 0.0010\n",
      "Epoch 31/500\n",
      "741/741 [==============================] - 2s 3ms/step - loss: 0.4224 - accuracy: 0.8011 - val_loss: 0.4422 - val_accuracy: 0.8062 - lr: 0.0010\n",
      "Epoch 32/500\n",
      "741/741 [==============================] - 6s 8ms/step - loss: 0.4193 - accuracy: 0.7993 - val_loss: 0.4497 - val_accuracy: 0.8089 - lr: 0.0010\n",
      "Epoch 33/500\n",
      "741/741 [==============================] - 5s 6ms/step - loss: 0.4197 - accuracy: 0.7990 - val_loss: 0.4373 - val_accuracy: 0.8122 - lr: 0.0010\n",
      "Epoch 34/500\n",
      "741/741 [==============================] - 3s 4ms/step - loss: 0.4187 - accuracy: 0.8013 - val_loss: 0.4480 - val_accuracy: 0.8062 - lr: 0.0010\n",
      "Epoch 35/500\n",
      "741/741 [==============================] - 6s 8ms/step - loss: 0.4147 - accuracy: 0.8040 - val_loss: 0.4233 - val_accuracy: 0.8112 - lr: 0.0010\n",
      "Epoch 36/500\n",
      "741/741 [==============================] - 5s 7ms/step - loss: 0.4131 - accuracy: 0.8038 - val_loss: 0.4425 - val_accuracy: 0.8074 - lr: 0.0010\n",
      "Epoch 37/500\n",
      "741/741 [==============================] - 6s 8ms/step - loss: 0.4101 - accuracy: 0.8047 - val_loss: 0.4364 - val_accuracy: 0.8084 - lr: 0.0010\n",
      "Epoch 38/500\n",
      "741/741 [==============================] - 6s 8ms/step - loss: 0.4112 - accuracy: 0.8057 - val_loss: 0.4304 - val_accuracy: 0.8058 - lr: 0.0010\n",
      "Epoch 39/500\n",
      "741/741 [==============================] - 6s 8ms/step - loss: 0.4070 - accuracy: 0.8068 - val_loss: 0.4353 - val_accuracy: 0.8188 - lr: 0.0010\n",
      "Epoch 40/500\n",
      "741/741 [==============================] - 6s 9ms/step - loss: 0.4030 - accuracy: 0.8117 - val_loss: 0.4288 - val_accuracy: 0.8126 - lr: 0.0010\n",
      "Epoch 41/500\n",
      "741/741 [==============================] - 5s 7ms/step - loss: 0.3995 - accuracy: 0.8114 - val_loss: 0.4314 - val_accuracy: 0.8175 - lr: 0.0010\n",
      "Epoch 42/500\n",
      "741/741 [==============================] - 6s 7ms/step - loss: 0.4020 - accuracy: 0.8091 - val_loss: 0.4302 - val_accuracy: 0.8149 - lr: 0.0010\n",
      "Epoch 43/500\n",
      "741/741 [==============================] - 6s 8ms/step - loss: 0.3990 - accuracy: 0.8121 - val_loss: 0.4283 - val_accuracy: 0.8193 - lr: 0.0010\n",
      "Epoch 44/500\n",
      "741/741 [==============================] - 6s 8ms/step - loss: 0.3943 - accuracy: 0.8151 - val_loss: 0.4348 - val_accuracy: 0.8134 - lr: 0.0010\n",
      "Epoch 45/500\n",
      "741/741 [==============================] - 6s 8ms/step - loss: 0.3950 - accuracy: 0.8128 - val_loss: 0.4644 - val_accuracy: 0.8156 - lr: 0.0010\n",
      "Epoch 46/500\n",
      "741/741 [==============================] - 5s 7ms/step - loss: 0.3923 - accuracy: 0.8162 - val_loss: 0.4471 - val_accuracy: 0.8180 - lr: 0.0010\n",
      "Epoch 47/500\n",
      "741/741 [==============================] - 6s 7ms/step - loss: 0.3932 - accuracy: 0.8148 - val_loss: 0.4345 - val_accuracy: 0.8219 - lr: 0.0010\n",
      "Epoch 48/500\n",
      "741/741 [==============================] - 6s 8ms/step - loss: 0.3868 - accuracy: 0.8208 - val_loss: 0.4242 - val_accuracy: 0.8220 - lr: 0.0010\n",
      "Epoch 49/500\n",
      "741/741 [==============================] - 6s 8ms/step - loss: 0.3854 - accuracy: 0.8190 - val_loss: 0.4245 - val_accuracy: 0.8203 - lr: 0.0010\n",
      "Epoch 50/500\n",
      "741/741 [==============================] - 6s 8ms/step - loss: 0.3860 - accuracy: 0.8210 - val_loss: 0.4169 - val_accuracy: 0.8247 - lr: 0.0010\n",
      "Epoch 51/500\n",
      "741/741 [==============================] - 5s 7ms/step - loss: 0.3836 - accuracy: 0.8207 - val_loss: 0.4211 - val_accuracy: 0.8259 - lr: 0.0010\n",
      "Epoch 52/500\n",
      "741/741 [==============================] - 6s 7ms/step - loss: 0.3807 - accuracy: 0.8247 - val_loss: 0.4183 - val_accuracy: 0.8242 - lr: 0.0010\n",
      "Epoch 53/500\n",
      "741/741 [==============================] - 5s 7ms/step - loss: 0.3806 - accuracy: 0.8233 - val_loss: 0.4163 - val_accuracy: 0.8235 - lr: 0.0010\n",
      "Epoch 54/500\n",
      "741/741 [==============================] - 5s 7ms/step - loss: 0.3791 - accuracy: 0.8242 - val_loss: 0.4035 - val_accuracy: 0.8268 - lr: 0.0010\n",
      "Epoch 55/500\n",
      "741/741 [==============================] - 6s 8ms/step - loss: 0.3763 - accuracy: 0.8258 - val_loss: 0.4227 - val_accuracy: 0.8241 - lr: 0.0010\n",
      "Epoch 56/500\n",
      "741/741 [==============================] - 5s 7ms/step - loss: 0.3746 - accuracy: 0.8261 - val_loss: 0.4284 - val_accuracy: 0.8225 - lr: 0.0010\n",
      "Epoch 57/500\n",
      "741/741 [==============================] - 5s 7ms/step - loss: 0.3710 - accuracy: 0.8277 - val_loss: 0.4206 - val_accuracy: 0.8235 - lr: 0.0010\n",
      "Epoch 58/500\n",
      "741/741 [==============================] - 5s 7ms/step - loss: 0.3749 - accuracy: 0.8240 - val_loss: 0.4307 - val_accuracy: 0.8247 - lr: 0.0010\n",
      "Epoch 59/500\n",
      "741/741 [==============================] - 5s 7ms/step - loss: 0.3730 - accuracy: 0.8289 - val_loss: 0.4089 - val_accuracy: 0.8256 - lr: 0.0010\n",
      "Epoch 60/500\n",
      "741/741 [==============================] - 5s 7ms/step - loss: 0.3706 - accuracy: 0.8275 - val_loss: 0.4284 - val_accuracy: 0.8207 - lr: 0.0010\n",
      "Epoch 61/500\n",
      "741/741 [==============================] - 5s 7ms/step - loss: 0.3723 - accuracy: 0.8285 - val_loss: 0.4142 - val_accuracy: 0.8249 - lr: 0.0010\n",
      "Epoch 62/500\n",
      "741/741 [==============================] - 5s 7ms/step - loss: 0.3726 - accuracy: 0.8272 - val_loss: 0.4231 - val_accuracy: 0.8225 - lr: 0.0010\n",
      "Epoch 63/500\n",
      "741/741 [==============================] - 5s 7ms/step - loss: 0.3710 - accuracy: 0.8273 - val_loss: 0.4120 - val_accuracy: 0.8284 - lr: 0.0010\n",
      "Epoch 64/500\n",
      "741/741 [==============================] - 5s 7ms/step - loss: 0.3660 - accuracy: 0.8313 - val_loss: 0.4250 - val_accuracy: 0.8266 - lr: 0.0010\n",
      "Epoch 65/500\n",
      "741/741 [==============================] - 5s 7ms/step - loss: 0.3610 - accuracy: 0.8335 - val_loss: 0.4087 - val_accuracy: 0.8249 - lr: 0.0010\n",
      "Epoch 66/500\n",
      "741/741 [==============================] - 5s 7ms/step - loss: 0.3600 - accuracy: 0.8345 - val_loss: 0.4342 - val_accuracy: 0.8268 - lr: 0.0010\n",
      "Epoch 67/500\n",
      "741/741 [==============================] - 5s 7ms/step - loss: 0.3632 - accuracy: 0.8319 - val_loss: 0.4087 - val_accuracy: 0.8360 - lr: 0.0010\n",
      "Epoch 68/500\n",
      "741/741 [==============================] - 5s 7ms/step - loss: 0.3648 - accuracy: 0.8308 - val_loss: 0.4294 - val_accuracy: 0.8244 - lr: 0.0010\n",
      "Epoch 69/500\n",
      "741/741 [==============================] - 5s 7ms/step - loss: 0.3616 - accuracy: 0.8329 - val_loss: 0.4254 - val_accuracy: 0.8303 - lr: 0.0010\n",
      "Epoch 70/500\n",
      "741/741 [==============================] - 5s 7ms/step - loss: 0.3596 - accuracy: 0.8321 - val_loss: 0.4095 - val_accuracy: 0.8266 - lr: 0.0010\n",
      "Epoch 71/500\n",
      "741/741 [==============================] - 6s 7ms/step - loss: 0.3600 - accuracy: 0.8342 - val_loss: 0.4175 - val_accuracy: 0.8274 - lr: 0.0010\n",
      "Epoch 72/500\n",
      "741/741 [==============================] - 5s 7ms/step - loss: 0.3559 - accuracy: 0.8349 - val_loss: 0.4172 - val_accuracy: 0.8320 - lr: 0.0010\n",
      "Epoch 73/500\n",
      "741/741 [==============================] - 5s 7ms/step - loss: 0.3579 - accuracy: 0.8369 - val_loss: 0.4120 - val_accuracy: 0.8295 - lr: 0.0010\n",
      "Epoch 74/500\n",
      "734/741 [============================>.] - ETA: 0s - loss: 0.3542 - accuracy: 0.8374\n",
      "Epoch 74: ReduceLROnPlateau reducing learning rate to 0.00010000000474974513.\n",
      "741/741 [==============================] - 5s 7ms/step - loss: 0.3543 - accuracy: 0.8374 - val_loss: 0.4052 - val_accuracy: 0.8360 - lr: 0.0010\n",
      "Epoch 75/500\n",
      "741/741 [==============================] - 5s 7ms/step - loss: 0.3393 - accuracy: 0.8475 - val_loss: 0.4163 - val_accuracy: 0.8352 - lr: 1.0000e-04\n",
      "Epoch 76/500\n",
      "741/741 [==============================] - 6s 7ms/step - loss: 0.3427 - accuracy: 0.8427 - val_loss: 0.4125 - val_accuracy: 0.8345 - lr: 1.0000e-04\n",
      "Epoch 77/500\n",
      "741/741 [==============================] - 5s 7ms/step - loss: 0.3379 - accuracy: 0.8429 - val_loss: 0.4147 - val_accuracy: 0.8350 - lr: 1.0000e-04\n",
      "Epoch 78/500\n",
      "741/741 [==============================] - 5s 7ms/step - loss: 0.3436 - accuracy: 0.8442 - val_loss: 0.4120 - val_accuracy: 0.8350 - lr: 1.0000e-04\n",
      "Epoch 79/500\n",
      "741/741 [==============================] - 5s 7ms/step - loss: 0.3387 - accuracy: 0.8476 - val_loss: 0.4112 - val_accuracy: 0.8342 - lr: 1.0000e-04\n",
      "Epoch 80/500\n",
      "741/741 [==============================] - 5s 7ms/step - loss: 0.3389 - accuracy: 0.8434 - val_loss: 0.4101 - val_accuracy: 0.8362 - lr: 1.0000e-04\n",
      "Epoch 81/500\n",
      "741/741 [==============================] - 5s 7ms/step - loss: 0.3321 - accuracy: 0.8500 - val_loss: 0.4148 - val_accuracy: 0.8349 - lr: 1.0000e-04\n",
      "Epoch 82/500\n",
      "741/741 [==============================] - 5s 7ms/step - loss: 0.3455 - accuracy: 0.8404 - val_loss: 0.4051 - val_accuracy: 0.8359 - lr: 1.0000e-04\n",
      "Epoch 83/500\n",
      "741/741 [==============================] - 5s 7ms/step - loss: 0.3332 - accuracy: 0.8499 - val_loss: 0.4127 - val_accuracy: 0.8359 - lr: 1.0000e-04\n",
      "Epoch 84/500\n",
      "741/741 [==============================] - 5s 7ms/step - loss: 0.3278 - accuracy: 0.8521 - val_loss: 0.4127 - val_accuracy: 0.8372 - lr: 1.0000e-04\n",
      "Epoch 85/500\n",
      "741/741 [==============================] - 5s 7ms/step - loss: 0.3369 - accuracy: 0.8441 - val_loss: 0.4077 - val_accuracy: 0.8386 - lr: 1.0000e-04\n",
      "Epoch 86/500\n",
      "741/741 [==============================] - 5s 7ms/step - loss: 0.3317 - accuracy: 0.8493 - val_loss: 0.4103 - val_accuracy: 0.8391 - lr: 1.0000e-04\n",
      "Epoch 87/500\n",
      "741/741 [==============================] - 5s 7ms/step - loss: 0.3310 - accuracy: 0.8478 - val_loss: 0.4089 - val_accuracy: 0.8387 - lr: 1.0000e-04\n",
      "Epoch 88/500\n",
      "741/741 [==============================] - 6s 8ms/step - loss: 0.3327 - accuracy: 0.8467 - val_loss: 0.4076 - val_accuracy: 0.8369 - lr: 1.0000e-04\n",
      "Epoch 89/500\n",
      "741/741 [==============================] - 6s 8ms/step - loss: 0.3324 - accuracy: 0.8486 - val_loss: 0.4099 - val_accuracy: 0.8376 - lr: 1.0000e-04\n",
      "Epoch 90/500\n",
      "741/741 [==============================] - 6s 8ms/step - loss: 0.3353 - accuracy: 0.8472 - val_loss: 0.4083 - val_accuracy: 0.8381 - lr: 1.0000e-04\n",
      "Epoch 91/500\n",
      "741/741 [==============================] - 6s 8ms/step - loss: 0.3291 - accuracy: 0.8484 - val_loss: 0.4091 - val_accuracy: 0.8387 - lr: 1.0000e-04\n",
      "Epoch 92/500\n",
      "741/741 [==============================] - 6s 8ms/step - loss: 0.3291 - accuracy: 0.8496 - val_loss: 0.4112 - val_accuracy: 0.8394 - lr: 1.0000e-04\n",
      "Epoch 93/500\n",
      "741/741 [==============================] - 6s 8ms/step - loss: 0.3328 - accuracy: 0.8478 - val_loss: 0.4085 - val_accuracy: 0.8379 - lr: 1.0000e-04\n",
      "Epoch 94/500\n",
      "737/741 [============================>.] - ETA: 0s - loss: 0.3352 - accuracy: 0.8471\n",
      "Epoch 94: ReduceLROnPlateau reducing learning rate to 1.0000000474974514e-05.\n",
      "741/741 [==============================] - 6s 8ms/step - loss: 0.3351 - accuracy: 0.8471 - val_loss: 0.4048 - val_accuracy: 0.8409 - lr: 1.0000e-04\n",
      "501.5980815887451\n"
     ]
    },
    {
     "data": {
      "text/plain": "<Figure size 432x288 with 1 Axes>",
      "image/png": "[encoded data removed]"
     },
     "metadata": {
      "needs_background": "light"
     },
     "output_type": "display_data"
    }
   ],
   "source": [
    "CNNv3=tf.keras.Sequential()\n",
    "CNNv3.add(Input(shape=(40)))\n",
    "CNNv3.add(Dense(160, activation='selu', name='dense_1',kernel_initializer='lecun_normal'))\n",
    "CNNv3.add(AlphaDropout(0.3))\n",
    "CNNv3.add(Dense(80, activation='selu', name='dense_4',kernel_initializer='lecun_normal'))\n",
    "CNNv3.add(AlphaDropout(0.2))\n",
    "# CNNv3.add(AlphaDropout(0.2))\n",
    "CNNv3.add(Dense(40, activation='selu', name='dense_55',kernel_initializer='lecun_normal'))\n",
    "CNNv3.add(Dense(20, activation='selu', name='dense_5',kernel_initializer='lecun_normal'))\n",
    "CNNv3.add(Dense(20, activation='selu', name='dense_56',kernel_initializer='lecun_normal'))\n",
    "CNNv3.add(Dense(10, activation='selu', name='dense_57',kernel_initializer='lecun_normal'))\n",
    "CNNv3.add(Dense(1, activation='sigmoid', name='dense_6'))\n",
    "#dist = Dense(1, activation='sigmoid', name='dense_2')(hidden)\n",
    "CNNv3.summary()\n",
    "CNNv3.compile(optimizer='nadam',\n",
    "    loss=tf.keras.losses.BinaryCrossentropy(from_logits=False),\n",
    "    metrics=['accuracy'],)\n",
    "# Train classifier\n",
    "reduceLR = tf.keras.callbacks.ReduceLROnPlateau(monitor='val_loss', factor=0.1,\n",
    "                                 verbose=1, patience=20, mode='auto')\n",
    "early = tf.keras.callbacks.EarlyStopping(monitor='val_loss', min_delta=1e-4,\n",
    "                          patience=40, mode='auto', restore_best_weights=True)\n",
    "start_time=time.time()\n",
    "history = CNNv3.fit(train_feats, train_targs,\n",
    "                      epochs=500,\n",
    "                      batch_size=32,\n",
    "                      shuffle=True,\n",
    "                      validation_split=0.2,\n",
    "                      callbacks=[reduceLR, early])\n",
    "print(time.time()-start_time)\n",
    "plt.plot(history.history['loss'])\n",
    "plt.plot(history.history['val_loss'])\n",
    "plt.title('Learning Curves')\n",
    "plt.legend(['Training Loss', 'Validation Loss'])\n",
    "plt.ylabel('Binary Crossentropy')\n",
    "plt.xlabel('Epoch Number')\n",
    "plt.show()"
   ],
   "metadata": {
    "collapsed": false,
    "pycharm": {
     "name": "#%%\n"
    }
   }
  },
  {
   "cell_type": "code",
   "execution_count": 28,
   "outputs": [
    {
     "name": "stdout",
     "output_type": "stream",
     "text": [
      "232/232 [==============================] - 0s 1ms/step - loss: 0.4385 - accuracy: 0.8046\n"
     ]
    },
    {
     "data": {
      "text/plain": "[0.43845927715301514, 0.8045883774757385]"
     },
     "execution_count": 28,
     "metadata": {},
     "output_type": "execute_result"
    }
   ],
   "source": [
    "CNNv3.evaluate(test_feats,test_targs)"
   ],
   "metadata": {
    "collapsed": false,
    "pycharm": {
     "name": "#%%\n"
    }
   }
  },
  {
   "cell_type": "code",
   "execution_count": 31,
   "outputs": [
    {
     "name": "stdout",
     "output_type": "stream",
     "text": [
      "232/232 [==============================] - 0s 788us/step\n"
     ]
    }
   ],
   "source": [
    "CNNpreds=CNNv3.predict(test_feats)\n",
    "CNNpreds=CNNpreds>0.5"
   ],
   "metadata": {
    "collapsed": false,
    "pycharm": {
     "name": "#%%\n"
    }
   }
  },
  {
   "cell_type": "code",
   "execution_count": 29,
   "outputs": [
    {
     "name": "stdout",
     "output_type": "stream",
     "text": [
      "INFO:tensorflow:Assets written to: test_01_31\\assets\n"
     ]
    }
   ],
   "source": [
    "CNNv3.save(\"test_01_31\")"
   ],
   "metadata": {
    "collapsed": false,
    "pycharm": {
     "name": "#%%\n"
    }
   }
  },
  {
   "cell_type": "code",
   "execution_count": 29,
   "outputs": [
    {
     "name": "stdout",
     "output_type": "stream",
     "text": [
      "1606/1606 [==============================] - 2s 1ms/step\n",
      "0.6211453744493393\n",
      "0.6154376292212267\n",
      "0.9356119588913111\n",
      "0.6182783291022386\n"
     ]
    }
   ],
   "source": [
    "CNNpreds=CNNv3.predict(np.array(x_test_data))\n",
    "CNNpreds=CNNpreds>0.75\n",
    "print(precision_score(y_test_data,CNNpreds))\n",
    "print(recall_score(y_test_data,CNNpreds))\n",
    "print(accuracy_score(y_test_data,CNNpreds))\n",
    "print(f1_score(y_test_data,CNNpreds))"
   ],
   "metadata": {
    "collapsed": false,
    "pycharm": {
     "name": "#%%\n"
    }
   }
  },
  {
   "cell_type": "code",
   "execution_count": 41,
   "outputs": [],
   "source": [
    "from research.dataImporting import MLtools\n",
    "MLtools.save_model(CNNv3,\"ANN_LT80_wo_A1_24bit\")"
   ],
   "metadata": {
    "collapsed": false,
    "pycharm": {
     "name": "#%%\n"
    }
   }
  },
  {
   "cell_type": "markdown",
   "source": [
    "# CNN Deep Version"
   ],
   "metadata": {
    "collapsed": false,
    "pycharm": {
     "name": "#%% md\n"
    }
   }
  },
  {
   "cell_type": "code",
   "execution_count": 41,
   "outputs": [
    {
     "name": "stdout",
     "output_type": "stream",
     "text": [
      "Model: \"sequential_3\"\n",
      "_________________________________________________________________\n",
      " Layer (type)                Output Shape              Param #   \n",
      "=================================================================\n",
      " dense_1 (Dense)             (None, 80)                3280      \n",
      "                                                                 \n",
      " alpha_dropout_6 (AlphaDropo  (None, 80)               0         \n",
      " ut)                                                             \n",
      "                                                                 \n",
      " dense_2 (Dense)             (None, 80)                6480      \n",
      "                                                                 \n",
      " alpha_dropout_7 (AlphaDropo  (None, 80)               0         \n",
      " ut)                                                             \n",
      "                                                                 \n",
      " dense_3 (Dense)             (None, 80)                6480      \n",
      "                                                                 \n",
      " dense_4 (Dense)             (None, 40)                3240      \n",
      "                                                                 \n",
      " dense_5 (Dense)             (None, 20)                820       \n",
      "                                                                 \n",
      " dense_6 (Dense)             (None, 20)                420       \n",
      "                                                                 \n",
      " dense_7 (Dense)             (None, 20)                420       \n",
      "                                                                 \n",
      " dense_8 (Dense)             (None, 10)                210       \n",
      "                                                                 \n",
      " dense_9 (Dense)             (None, 10)                110       \n",
      "                                                                 \n",
      " dense_10 (Dense)            (None, 5)                 55        \n",
      "                                                                 \n",
      " dense_11 (Dense)            (None, 1)                 6         \n",
      "                                                                 \n",
      "=================================================================\n",
      "Total params: 21,521\n",
      "Trainable params: 21,521\n",
      "Non-trainable params: 0\n",
      "_________________________________________________________________\n",
      "Epoch 1/500\n",
      "1769/1769 [==============================] - 8s 3ms/step - loss: 0.5152 - accuracy: 0.7569 - val_loss: 0.5465 - val_accuracy: 0.7532 - lr: 0.0010\n",
      "Epoch 2/500\n",
      "1769/1769 [==============================] - 6s 3ms/step - loss: 0.4451 - accuracy: 0.7770 - val_loss: 0.6470 - val_accuracy: 0.7211 - lr: 0.0010\n",
      "Epoch 3/500\n",
      "1769/1769 [==============================] - 5s 3ms/step - loss: 0.4259 - accuracy: 0.7850 - val_loss: 0.4790 - val_accuracy: 0.7787 - lr: 0.0010\n",
      "Epoch 4/500\n",
      "1769/1769 [==============================] - 5s 3ms/step - loss: 0.4111 - accuracy: 0.7943 - val_loss: 0.3738 - val_accuracy: 0.8212 - lr: 0.0010\n",
      "Epoch 5/500\n",
      "1769/1769 [==============================] - 4s 3ms/step - loss: 0.4018 - accuracy: 0.7967 - val_loss: 0.5663 - val_accuracy: 0.7393 - lr: 0.0010\n",
      "Epoch 6/500\n",
      "1769/1769 [==============================] - 5s 3ms/step - loss: 0.3927 - accuracy: 0.8066 - val_loss: 0.4152 - val_accuracy: 0.8081 - lr: 0.0010\n",
      "Epoch 7/500\n",
      "1769/1769 [==============================] - 5s 3ms/step - loss: 0.3837 - accuracy: 0.8136 - val_loss: 0.4083 - val_accuracy: 0.8169 - lr: 0.0010\n",
      "Epoch 8/500\n",
      "1769/1769 [==============================] - 5s 3ms/step - loss: 0.3774 - accuracy: 0.8188 - val_loss: 0.4024 - val_accuracy: 0.8061 - lr: 0.0010\n",
      "Epoch 9/500\n",
      "1769/1769 [==============================] - 5s 3ms/step - loss: 0.3729 - accuracy: 0.8196 - val_loss: 0.4398 - val_accuracy: 0.8085 - lr: 0.0010\n",
      "Epoch 10/500\n",
      "1769/1769 [==============================] - 6s 3ms/step - loss: 0.3652 - accuracy: 0.8258 - val_loss: 0.4506 - val_accuracy: 0.8089 - lr: 0.0010\n",
      "Epoch 11/500\n",
      "1769/1769 [==============================] - 6s 3ms/step - loss: 0.3652 - accuracy: 0.8278 - val_loss: 0.5075 - val_accuracy: 0.7935 - lr: 0.0010\n",
      "Epoch 12/500\n",
      "1769/1769 [==============================] - 5s 3ms/step - loss: 0.3589 - accuracy: 0.8305 - val_loss: 0.3635 - val_accuracy: 0.8381 - lr: 0.0010\n",
      "Epoch 13/500\n",
      "1769/1769 [==============================] - 5s 3ms/step - loss: 0.3565 - accuracy: 0.8307 - val_loss: 0.4435 - val_accuracy: 0.8162 - lr: 0.0010\n",
      "Epoch 14/500\n",
      "1769/1769 [==============================] - 5s 3ms/step - loss: 0.3546 - accuracy: 0.8332 - val_loss: 0.4939 - val_accuracy: 0.7899 - lr: 0.0010\n",
      "Epoch 15/500\n",
      "1769/1769 [==============================] - 5s 3ms/step - loss: 0.3511 - accuracy: 0.8325 - val_loss: 0.4281 - val_accuracy: 0.8325 - lr: 0.0010\n",
      "Epoch 16/500\n",
      "1769/1769 [==============================] - 7s 4ms/step - loss: 0.3479 - accuracy: 0.8365 - val_loss: 0.3814 - val_accuracy: 0.8379 - lr: 0.0010\n",
      "Epoch 17/500\n",
      "1769/1769 [==============================] - 10s 6ms/step - loss: 0.3467 - accuracy: 0.8359 - val_loss: 0.4720 - val_accuracy: 0.8070 - lr: 0.0010\n",
      "Epoch 18/500\n",
      "1769/1769 [==============================] - 10s 6ms/step - loss: 0.3440 - accuracy: 0.8378 - val_loss: 0.4118 - val_accuracy: 0.8256 - lr: 0.0010\n",
      "Epoch 19/500\n",
      "1769/1769 [==============================] - 12s 7ms/step - loss: 0.3406 - accuracy: 0.8409 - val_loss: 0.4141 - val_accuracy: 0.8291 - lr: 0.0010\n",
      "Epoch 20/500\n",
      "1769/1769 [==============================] - 8s 4ms/step - loss: 0.3394 - accuracy: 0.8421 - val_loss: 0.4200 - val_accuracy: 0.8324 - lr: 0.0010\n",
      "Epoch 21/500\n",
      "1769/1769 [==============================] - 10s 6ms/step - loss: 0.3389 - accuracy: 0.8412 - val_loss: 0.4732 - val_accuracy: 0.8220 - lr: 0.0010\n",
      "Epoch 22/500\n",
      "1769/1769 [==============================] - 8s 5ms/step - loss: 0.3384 - accuracy: 0.8420 - val_loss: 0.4031 - val_accuracy: 0.8253 - lr: 0.0010\n",
      "Epoch 23/500\n",
      "1769/1769 [==============================] - 6s 3ms/step - loss: 0.3333 - accuracy: 0.8434 - val_loss: 0.3901 - val_accuracy: 0.8412 - lr: 0.0010\n",
      "Epoch 24/500\n",
      "1769/1769 [==============================] - 5s 3ms/step - loss: 0.3342 - accuracy: 0.8463 - val_loss: 0.4289 - val_accuracy: 0.8358 - lr: 0.0010\n",
      "Epoch 25/500\n",
      "1769/1769 [==============================] - 5s 3ms/step - loss: 0.3356 - accuracy: 0.8428 - val_loss: 0.3538 - val_accuracy: 0.8400 - lr: 0.0010\n",
      "Epoch 26/500\n",
      "1769/1769 [==============================] - 6s 3ms/step - loss: 0.3300 - accuracy: 0.8454 - val_loss: 0.4173 - val_accuracy: 0.8296 - lr: 0.0010\n",
      "Epoch 27/500\n",
      "1769/1769 [==============================] - 5s 3ms/step - loss: 0.3280 - accuracy: 0.8469 - val_loss: 0.3714 - val_accuracy: 0.8370 - lr: 0.0010\n",
      "Epoch 28/500\n",
      "1769/1769 [==============================] - 7s 4ms/step - loss: 0.3278 - accuracy: 0.8470 - val_loss: 0.4422 - val_accuracy: 0.8268 - lr: 0.0010\n",
      "Epoch 29/500\n",
      "1769/1769 [==============================] - 6s 3ms/step - loss: 0.3288 - accuracy: 0.8474 - val_loss: 0.4233 - val_accuracy: 0.8178 - lr: 0.0010\n",
      "Epoch 30/500\n",
      "1769/1769 [==============================] - 5s 3ms/step - loss: 0.3262 - accuracy: 0.8488 - val_loss: 0.3741 - val_accuracy: 0.8321 - lr: 0.0010\n",
      "Epoch 31/500\n",
      "1769/1769 [==============================] - 5s 3ms/step - loss: 0.3261 - accuracy: 0.8467 - val_loss: 0.4728 - val_accuracy: 0.8007 - lr: 0.0010\n",
      "Epoch 32/500\n",
      "1769/1769 [==============================] - 5s 3ms/step - loss: 0.3242 - accuracy: 0.8499 - val_loss: 0.4082 - val_accuracy: 0.8307 - lr: 0.0010\n",
      "Epoch 33/500\n",
      "1169/1769 [==================>...........] - ETA: 2s - loss: 0.3221 - accuracy: 0.8502"
     ]
    },
    {
     "name": "stderr",
     "output_type": "stream",
     "text": [
      "\n",
      "KeyboardInterrupt\n",
      "\n"
     ]
    }
   ],
   "source": [
    "CNNv2=tf.keras.Sequential()\n",
    "CNNv2.add(Input(shape=(40)))\n",
    "CNNv2.add(Dense(80, activation='selu', name='dense_1',kernel_initializer='lecun_normal'))\n",
    "CNNv2.add(AlphaDropout(0.3))\n",
    "CNNv2.add(Dense(80, activation='selu', name='dense_2',kernel_initializer='lecun_normal'))\n",
    "CNNv2.add(AlphaDropout(0.2))\n",
    "CNNv2.add(Dense(80, activation='selu', name='dense_3',kernel_initializer='lecun_normal'))\n",
    "# CNNv3.add(AlphaDropout(0.2))\n",
    "CNNv2.add(Dense(40, activation='selu', name='dense_4',kernel_initializer='lecun_normal'))\n",
    "CNNv2.add(Dense(20, activation='selu', name='dense_5',kernel_initializer='lecun_normal'))\n",
    "CNNv2.add(Dense(20, activation='selu', name='dense_6',kernel_initializer='lecun_normal'))\n",
    "CNNv2.add(Dense(20, activation='selu', name='dense_7',kernel_initializer='lecun_normal'))\n",
    "CNNv2.add(Dense(10, activation='selu', name='dense_8',kernel_initializer='lecun_normal'))\n",
    "CNNv2.add(Dense(10, activation='selu', name='dense_9',kernel_initializer='lecun_normal'))\n",
    "CNNv2.add(Dense(5, activation='selu', name='dense_10',kernel_initializer='lecun_normal'))\n",
    "CNNv2.add(Dense(1, activation='sigmoid', name='dense_11'))\n",
    "#dist = Dense(1, activation='sigmoid', name='dense_2')(hidden)\n",
    "CNNv2.summary()\n",
    "CNNv2.compile(optimizer='nadam',\n",
    "    loss=tf.keras.losses.BinaryCrossentropy(from_logits=False),\n",
    "    metrics=['accuracy'],)\n",
    "# Train classifier\n",
    "reduceLR = tf.keras.callbacks.ReduceLROnPlateau(monitor='val_loss', factor=0.1,\n",
    "                                 verbose=1, patience=20, mode='auto')\n",
    "early = tf.keras.callbacks.EarlyStopping(monitor='val_loss', min_delta=1e-4,\n",
    "                          patience=40, mode='auto', restore_best_weights=True)\n",
    "history = CNNv2.fit(train_feats, train_targs,\n",
    "                      epochs=500,\n",
    "                      batch_size=32,\n",
    "                      shuffle=True,\n",
    "                        class_weight=range_weights,\n",
    "                      validation_split=0.2,\n",
    "                      callbacks=[reduceLR, early])\n",
    "plt.plot(history.history['loss'])\n",
    "plt.plot(history.history['val_loss'])\n",
    "plt.title('Learning Curves')\n",
    "plt.legend(['Training Loss', 'Validation Loss'])\n",
    "plt.ylabel('Binary Crossentropy')\n",
    "plt.xlabel('Epoch Number')\n",
    "plt.show()"
   ],
   "metadata": {
    "collapsed": false,
    "pycharm": {
     "name": "#%%\n"
    }
   }
  },
  {
   "cell_type": "code",
   "execution_count": 75,
   "outputs": [
    {
     "ename": "NameError",
     "evalue": "name 'CNNv2' is not defined",
     "output_type": "error",
     "traceback": [
      "\u001B[1;31m---------------------------------------------------------------------------\u001B[0m",
      "\u001B[1;31mNameError\u001B[0m                                 Traceback (most recent call last)",
      "Input \u001B[1;32mIn [75]\u001B[0m, in \u001B[0;36m<cell line: 1>\u001B[1;34m()\u001B[0m\n\u001B[1;32m----> 1\u001B[0m CNNpredsv2\u001B[38;5;241m=\u001B[39m\u001B[43mCNNv2\u001B[49m\u001B[38;5;241m.\u001B[39mpredict(test_feats)\n\u001B[0;32m      2\u001B[0m CNNpredsv2\u001B[38;5;241m=\u001B[39mCNNpredsv2\u001B[38;5;241m>\u001B[39m\u001B[38;5;241m0.5\u001B[39m\n\u001B[0;32m      3\u001B[0m \u001B[38;5;28mprint\u001B[39m(precision_score(test_targs,CNNpredsv2))\n",
      "\u001B[1;31mNameError\u001B[0m: name 'CNNv2' is not defined"
     ]
    }
   ],
   "source": [
    "CNNpredsv2=CNNv2.predict(test_feats)\n",
    "CNNpredsv2=CNNpredsv2>0.5\n",
    "print(precision_score(test_targs,CNNpredsv2))\n",
    "print(recall_score(test_targs,CNNpredsv2))\n",
    "print(accuracy_score(test_targs,CNNpredsv2))\n",
    "print(f1_score(test_targs,CNNpredsv2))"
   ],
   "metadata": {
    "collapsed": false,
    "pycharm": {
     "name": "#%%\n"
    }
   }
  },
  {
   "cell_type": "markdown",
   "source": [
    "# CNN Wide"
   ],
   "metadata": {
    "collapsed": false,
    "pycharm": {
     "name": "#%% md\n"
    }
   }
  },
  {
   "cell_type": "code",
   "execution_count": 19,
   "outputs": [
    {
     "name": "stdout",
     "output_type": "stream",
     "text": [
      "Model: \"sequential_2\"\n",
      "_________________________________________________________________\n",
      " Layer (type)                Output Shape              Param #   \n",
      "=================================================================\n",
      " dense_1 (Dense)             (None, 1024)              41984     \n",
      "                                                                 \n",
      " alpha_dropout_4 (AlphaDropo  (None, 1024)             0         \n",
      " ut)                                                             \n",
      "                                                                 \n",
      " dense_2 (Dense)             (None, 512)               524800    \n",
      "                                                                 \n",
      " alpha_dropout_5 (AlphaDropo  (None, 512)              0         \n",
      " ut)                                                             \n",
      "                                                                 \n",
      " dense_3 (Dense)             (None, 256)               131328    \n",
      "                                                                 \n",
      " alpha_dropout_6 (AlphaDropo  (None, 256)              0         \n",
      " ut)                                                             \n",
      "                                                                 \n",
      " dense_6 (Dense)             (None, 1)                 257       \n",
      "                                                                 \n",
      "=================================================================\n",
      "Total params: 698,369\n",
      "Trainable params: 698,369\n",
      "Non-trainable params: 0\n",
      "_________________________________________________________________\n",
      "Epoch 1/500\n",
      "712/712 [==============================] - 10s 12ms/step - loss: 0.6966 - accuracy: 0.6254 - val_loss: 1.0109 - val_accuracy: 0.6894 - lr: 0.0010\n",
      "Epoch 2/500\n",
      "712/712 [==============================] - 9s 12ms/step - loss: 0.6075 - accuracy: 0.6763 - val_loss: 1.0558 - val_accuracy: 0.6887 - lr: 0.0010\n",
      "Epoch 3/500\n",
      "712/712 [==============================] - 14s 19ms/step - loss: 0.5912 - accuracy: 0.6876 - val_loss: 1.1862 - val_accuracy: 0.7151 - lr: 0.0010\n",
      "Epoch 4/500\n",
      "712/712 [==============================] - 11s 16ms/step - loss: 0.5763 - accuracy: 0.6981 - val_loss: 0.7963 - val_accuracy: 0.7158 - lr: 0.0010\n",
      "Epoch 5/500\n",
      "712/712 [==============================] - 11s 16ms/step - loss: 0.5613 - accuracy: 0.7106 - val_loss: 0.7377 - val_accuracy: 0.7281 - lr: 0.0010\n",
      "Epoch 6/500\n",
      "712/712 [==============================] - 10s 13ms/step - loss: 0.5486 - accuracy: 0.7220 - val_loss: 0.8208 - val_accuracy: 0.7376 - lr: 0.0010\n",
      "Epoch 7/500\n",
      "712/712 [==============================] - 9s 13ms/step - loss: 0.5333 - accuracy: 0.7300 - val_loss: 0.7716 - val_accuracy: 0.7518 - lr: 0.0010\n",
      "Epoch 8/500\n",
      "712/712 [==============================] - 10s 14ms/step - loss: 0.5232 - accuracy: 0.7362 - val_loss: 0.7874 - val_accuracy: 0.7509 - lr: 0.0010\n",
      "Epoch 9/500\n",
      "712/712 [==============================] - 10s 13ms/step - loss: 0.5161 - accuracy: 0.7405 - val_loss: 0.8226 - val_accuracy: 0.7506 - lr: 0.0010\n",
      "Epoch 10/500\n",
      "712/712 [==============================] - 10s 14ms/step - loss: 0.5015 - accuracy: 0.7548 - val_loss: 0.6554 - val_accuracy: 0.7673 - lr: 0.0010\n",
      "Epoch 11/500\n",
      "712/712 [==============================] - 10s 13ms/step - loss: 0.4954 - accuracy: 0.7569 - val_loss: 0.6026 - val_accuracy: 0.7701 - lr: 0.0010\n",
      "Epoch 12/500\n",
      "712/712 [==============================] - 10s 14ms/step - loss: 0.4861 - accuracy: 0.7627 - val_loss: 0.6606 - val_accuracy: 0.7747 - lr: 0.0010\n",
      "Epoch 13/500\n",
      "712/712 [==============================] - 9s 13ms/step - loss: 0.4792 - accuracy: 0.7662 - val_loss: 0.6797 - val_accuracy: 0.7813 - lr: 0.0010\n",
      "Epoch 14/500\n",
      "712/712 [==============================] - 10s 14ms/step - loss: 0.4658 - accuracy: 0.7709 - val_loss: 0.6643 - val_accuracy: 0.7736 - lr: 0.0010\n",
      "Epoch 15/500\n",
      "712/712 [==============================] - 10s 14ms/step - loss: 0.4606 - accuracy: 0.7760 - val_loss: 0.5851 - val_accuracy: 0.7928 - lr: 0.0010\n",
      "Epoch 16/500\n",
      "712/712 [==============================] - 10s 15ms/step - loss: 0.4552 - accuracy: 0.7788 - val_loss: 0.6117 - val_accuracy: 0.7761 - lr: 0.0010\n",
      "Epoch 17/500\n",
      "712/712 [==============================] - 10s 14ms/step - loss: 0.4461 - accuracy: 0.7853 - val_loss: 0.6845 - val_accuracy: 0.7963 - lr: 0.0010\n",
      "Epoch 18/500\n",
      "712/712 [==============================] - 10s 15ms/step - loss: 0.4439 - accuracy: 0.7862 - val_loss: 0.7176 - val_accuracy: 0.7887 - lr: 0.0010\n",
      "Epoch 19/500\n",
      "712/712 [==============================] - 10s 14ms/step - loss: 0.4374 - accuracy: 0.7885 - val_loss: 0.5800 - val_accuracy: 0.8000 - lr: 0.0010\n",
      "Epoch 20/500\n",
      "712/712 [==============================] - 10s 14ms/step - loss: 0.4291 - accuracy: 0.7924 - val_loss: 0.5638 - val_accuracy: 0.8044 - lr: 0.0010\n",
      "Epoch 21/500\n",
      "712/712 [==============================] - 9s 13ms/step - loss: 0.4296 - accuracy: 0.7946 - val_loss: 0.5826 - val_accuracy: 0.8098 - lr: 0.0010\n",
      "Epoch 22/500\n",
      "712/712 [==============================] - 9s 13ms/step - loss: 0.4170 - accuracy: 0.8000 - val_loss: 0.6263 - val_accuracy: 0.7936 - lr: 0.0010\n",
      "Epoch 23/500\n",
      "712/712 [==============================] - 9s 13ms/step - loss: 0.4086 - accuracy: 0.8039 - val_loss: 0.6120 - val_accuracy: 0.8110 - lr: 0.0010\n",
      "Epoch 24/500\n",
      "712/712 [==============================] - 9s 13ms/step - loss: 0.4054 - accuracy: 0.8057 - val_loss: 0.5681 - val_accuracy: 0.8112 - lr: 0.0010\n",
      "Epoch 25/500\n",
      "712/712 [==============================] - 9s 13ms/step - loss: 0.4000 - accuracy: 0.8105 - val_loss: 0.6133 - val_accuracy: 0.8154 - lr: 0.0010\n",
      "Epoch 26/500\n",
      "712/712 [==============================] - 9s 13ms/step - loss: 0.4012 - accuracy: 0.8101 - val_loss: 0.5619 - val_accuracy: 0.8209 - lr: 0.0010\n",
      "Epoch 27/500\n",
      "712/712 [==============================] - 9s 13ms/step - loss: 0.3920 - accuracy: 0.8160 - val_loss: 0.5687 - val_accuracy: 0.8216 - lr: 0.0010\n",
      "Epoch 28/500\n",
      "712/712 [==============================] - 9s 13ms/step - loss: 0.3928 - accuracy: 0.8131 - val_loss: 0.5421 - val_accuracy: 0.8214 - lr: 0.0010\n",
      "Epoch 29/500\n",
      "712/712 [==============================] - 9s 13ms/step - loss: 0.3806 - accuracy: 0.8221 - val_loss: 0.6366 - val_accuracy: 0.8255 - lr: 0.0010\n",
      "Epoch 30/500\n",
      "712/712 [==============================] - 10s 14ms/step - loss: 0.3800 - accuracy: 0.8223 - val_loss: 0.5990 - val_accuracy: 0.8235 - lr: 0.0010\n",
      "Epoch 31/500\n",
      "712/712 [==============================] - 9s 13ms/step - loss: 0.3801 - accuracy: 0.8198 - val_loss: 0.6376 - val_accuracy: 0.8193 - lr: 0.0010\n",
      "Epoch 32/500\n",
      "712/712 [==============================] - 9s 13ms/step - loss: 0.3743 - accuracy: 0.8246 - val_loss: 0.6429 - val_accuracy: 0.8179 - lr: 0.0010\n",
      "Epoch 33/500\n",
      "712/712 [==============================] - 9s 13ms/step - loss: 0.3714 - accuracy: 0.8248 - val_loss: 0.5328 - val_accuracy: 0.8311 - lr: 0.0010\n",
      "Epoch 34/500\n",
      "712/712 [==============================] - 9s 13ms/step - loss: 0.3674 - accuracy: 0.8296 - val_loss: 0.6261 - val_accuracy: 0.8230 - lr: 0.0010\n",
      "Epoch 35/500\n",
      "712/712 [==============================] - 9s 13ms/step - loss: 0.3646 - accuracy: 0.8308 - val_loss: 0.5677 - val_accuracy: 0.8239 - lr: 0.0010\n",
      "Epoch 36/500\n",
      "712/712 [==============================] - 10s 13ms/step - loss: 0.3648 - accuracy: 0.8310 - val_loss: 0.5792 - val_accuracy: 0.8290 - lr: 0.0010\n",
      "Epoch 37/500\n",
      "712/712 [==============================] - 9s 13ms/step - loss: 0.3543 - accuracy: 0.8356 - val_loss: 0.6409 - val_accuracy: 0.8270 - lr: 0.0010\n",
      "Epoch 38/500\n",
      "712/712 [==============================] - 9s 13ms/step - loss: 0.3567 - accuracy: 0.8329 - val_loss: 0.5385 - val_accuracy: 0.8272 - lr: 0.0010\n",
      "Epoch 39/500\n",
      "712/712 [==============================] - 9s 13ms/step - loss: 0.3495 - accuracy: 0.8376 - val_loss: 0.5874 - val_accuracy: 0.8378 - lr: 0.0010\n",
      "Epoch 40/500\n",
      "712/712 [==============================] - 9s 13ms/step - loss: 0.3470 - accuracy: 0.8388 - val_loss: 0.6012 - val_accuracy: 0.8288 - lr: 0.0010\n",
      "Epoch 41/500\n",
      "712/712 [==============================] - 9s 13ms/step - loss: 0.3418 - accuracy: 0.8427 - val_loss: 0.5876 - val_accuracy: 0.8328 - lr: 0.0010\n",
      "Epoch 42/500\n",
      "712/712 [==============================] - 9s 13ms/step - loss: 0.3363 - accuracy: 0.8427 - val_loss: 0.5990 - val_accuracy: 0.8427 - lr: 0.0010\n",
      "Epoch 43/500\n",
      "712/712 [==============================] - 9s 13ms/step - loss: 0.3424 - accuracy: 0.8415 - val_loss: 0.6275 - val_accuracy: 0.8369 - lr: 0.0010\n",
      "Epoch 44/500\n",
      "712/712 [==============================] - 9s 13ms/step - loss: 0.3404 - accuracy: 0.8424 - val_loss: 0.5771 - val_accuracy: 0.8341 - lr: 0.0010\n",
      "Epoch 45/500\n",
      "712/712 [==============================] - 9s 13ms/step - loss: 0.3290 - accuracy: 0.8486 - val_loss: 0.5923 - val_accuracy: 0.8406 - lr: 0.0010\n",
      "Epoch 46/500\n",
      "712/712 [==============================] - 9s 13ms/step - loss: 0.3333 - accuracy: 0.8465 - val_loss: 0.5815 - val_accuracy: 0.8416 - lr: 0.0010\n",
      "Epoch 47/500\n",
      "712/712 [==============================] - 9s 13ms/step - loss: 0.3272 - accuracy: 0.8518 - val_loss: 0.5785 - val_accuracy: 0.8422 - lr: 0.0010\n",
      "Epoch 48/500\n",
      "712/712 [==============================] - 10s 13ms/step - loss: 0.3265 - accuracy: 0.8495 - val_loss: 0.6610 - val_accuracy: 0.8388 - lr: 0.0010\n",
      "Epoch 49/500\n",
      "712/712 [==============================] - 9s 13ms/step - loss: 0.3248 - accuracy: 0.8483 - val_loss: 0.6014 - val_accuracy: 0.8448 - lr: 0.0010\n",
      "Epoch 50/500\n",
      "712/712 [==============================] - 9s 13ms/step - loss: 0.3201 - accuracy: 0.8492 - val_loss: 0.6126 - val_accuracy: 0.8423 - lr: 0.0010\n",
      "Epoch 51/500\n",
      "712/712 [==============================] - 9s 13ms/step - loss: 0.3225 - accuracy: 0.8532 - val_loss: 0.5978 - val_accuracy: 0.8416 - lr: 0.0010\n",
      "Epoch 52/500\n",
      "712/712 [==============================] - 9s 13ms/step - loss: 0.3206 - accuracy: 0.8527 - val_loss: 0.6426 - val_accuracy: 0.8425 - lr: 0.0010\n",
      "Epoch 53/500\n",
      "711/712 [============================>.] - ETA: 0s - loss: 0.3150 - accuracy: 0.8529\n",
      "Epoch 53: ReduceLROnPlateau reducing learning rate to 0.00010000000474974513.\n",
      "712/712 [==============================] - 9s 13ms/step - loss: 0.3149 - accuracy: 0.8529 - val_loss: 0.6405 - val_accuracy: 0.8430 - lr: 0.0010\n",
      "Epoch 54/500\n",
      "712/712 [==============================] - 9s 13ms/step - loss: 0.2966 - accuracy: 0.8638 - val_loss: 0.6134 - val_accuracy: 0.8465 - lr: 1.0000e-04\n",
      "Epoch 55/500\n",
      "712/712 [==============================] - 9s 13ms/step - loss: 0.2917 - accuracy: 0.8613 - val_loss: 0.6116 - val_accuracy: 0.8492 - lr: 1.0000e-04\n",
      "Epoch 56/500\n",
      "712/712 [==============================] - 9s 13ms/step - loss: 0.2878 - accuracy: 0.8690 - val_loss: 0.6053 - val_accuracy: 0.8511 - lr: 1.0000e-04\n",
      "Epoch 57/500\n",
      "712/712 [==============================] - 9s 13ms/step - loss: 0.2835 - accuracy: 0.8676 - val_loss: 0.6021 - val_accuracy: 0.8520 - lr: 1.0000e-04\n",
      "Epoch 58/500\n",
      "712/712 [==============================] - 9s 13ms/step - loss: 0.2855 - accuracy: 0.8680 - val_loss: 0.6017 - val_accuracy: 0.8534 - lr: 1.0000e-04\n",
      "Epoch 59/500\n",
      "712/712 [==============================] - 9s 13ms/step - loss: 0.2894 - accuracy: 0.8680 - val_loss: 0.5981 - val_accuracy: 0.8525 - lr: 1.0000e-04\n",
      "Epoch 60/500\n",
      "712/712 [==============================] - 9s 13ms/step - loss: 0.2773 - accuracy: 0.8727 - val_loss: 0.6058 - val_accuracy: 0.8543 - lr: 1.0000e-04\n",
      "Epoch 61/500\n",
      "712/712 [==============================] - 9s 13ms/step - loss: 0.2826 - accuracy: 0.8673 - val_loss: 0.6147 - val_accuracy: 0.8518 - lr: 1.0000e-04\n",
      "Epoch 62/500\n",
      "712/712 [==============================] - 10s 14ms/step - loss: 0.2777 - accuracy: 0.8752 - val_loss: 0.6130 - val_accuracy: 0.8541 - lr: 1.0000e-04\n",
      "Epoch 63/500\n",
      "712/712 [==============================] - 9s 13ms/step - loss: 0.2824 - accuracy: 0.8712 - val_loss: 0.6104 - val_accuracy: 0.8536 - lr: 1.0000e-04\n",
      "Epoch 64/500\n",
      "712/712 [==============================] - 9s 13ms/step - loss: 0.2761 - accuracy: 0.8739 - val_loss: 0.6312 - val_accuracy: 0.8545 - lr: 1.0000e-04\n",
      "Epoch 65/500\n",
      "712/712 [==============================] - 9s 13ms/step - loss: 0.2778 - accuracy: 0.8745 - val_loss: 0.6183 - val_accuracy: 0.8566 - lr: 1.0000e-04\n",
      "Epoch 66/500\n",
      "712/712 [==============================] - 9s 13ms/step - loss: 0.2741 - accuracy: 0.8767 - val_loss: 0.6178 - val_accuracy: 0.8543 - lr: 1.0000e-04\n",
      "Epoch 67/500\n",
      "712/712 [==============================] - 9s 13ms/step - loss: 0.2753 - accuracy: 0.8718 - val_loss: 0.6135 - val_accuracy: 0.8569 - lr: 1.0000e-04\n",
      "Epoch 68/500\n",
      "712/712 [==============================] - 10s 13ms/step - loss: 0.2721 - accuracy: 0.8748 - val_loss: 0.6250 - val_accuracy: 0.8553 - lr: 1.0000e-04\n",
      "Epoch 69/500\n",
      "712/712 [==============================] - 9s 13ms/step - loss: 0.2755 - accuracy: 0.8748 - val_loss: 0.6239 - val_accuracy: 0.8529 - lr: 1.0000e-04\n",
      "Epoch 70/500\n",
      "712/712 [==============================] - 10s 13ms/step - loss: 0.2707 - accuracy: 0.8741 - val_loss: 0.6223 - val_accuracy: 0.8553 - lr: 1.0000e-04\n",
      "Epoch 71/500\n",
      "712/712 [==============================] - 9s 13ms/step - loss: 0.2777 - accuracy: 0.8711 - val_loss: 0.6142 - val_accuracy: 0.8538 - lr: 1.0000e-04\n",
      "Epoch 72/500\n",
      "712/712 [==============================] - 9s 13ms/step - loss: 0.2724 - accuracy: 0.8749 - val_loss: 0.6220 - val_accuracy: 0.8573 - lr: 1.0000e-04\n",
      "Epoch 73/500\n",
      "711/712 [============================>.] - ETA: 0s - loss: 0.2702 - accuracy: 0.8752\n",
      "Epoch 73: ReduceLROnPlateau reducing learning rate to 1.0000000474974514e-05.\n",
      "712/712 [==============================] - 9s 13ms/step - loss: 0.2702 - accuracy: 0.8752 - val_loss: 0.6196 - val_accuracy: 0.8557 - lr: 1.0000e-04\n"
     ]
    },
    {
     "data": {
      "text/plain": "<Figure size 432x288 with 1 Axes>",
      "image/png": "[encoded data removed]"
     },
     "metadata": {
      "needs_background": "light"
     },
     "output_type": "display_data"
    }
   ],
   "source": [
    "CNNv1=tf.keras.Sequential()\n",
    "CNNv1.add(Input(shape=(40)))\n",
    "CNNv1.add(Dense(1024, activation='selu', name='dense_1',kernel_initializer='lecun_normal'))\n",
    "CNNv1.add(AlphaDropout(0.5))\n",
    "CNNv1.add(Dense(512, activation='selu', name='dense_2',kernel_initializer='lecun_normal'))\n",
    "CNNv1.add(AlphaDropout(0.4))\n",
    "CNNv1.add(Dense(256, activation='selu', name='dense_3',kernel_initializer='lecun_normal'))\n",
    "CNNv1.add(AlphaDropout(0.3))\n",
    "CNNv1.add(Dense(1, activation='sigmoid', name='dense_6'))\n",
    "#dist = Dense(1, activation='sigmoid', name='dense_2')(hidden)\n",
    "CNNv1.summary()\n",
    "CNNv1.compile(optimizer='nadam',\n",
    "    loss=tf.keras.losses.BinaryCrossentropy(from_logits=False),\n",
    "    metrics=['accuracy'],)\n",
    "# Train classifier\n",
    "reduceLR = tf.keras.callbacks.ReduceLROnPlateau(monitor='val_loss', factor=0.1,\n",
    "                                 verbose=1, patience=20, mode='auto')\n",
    "early = tf.keras.callbacks.EarlyStopping(monitor='val_loss', min_delta=1e-4,\n",
    "                          patience=40, mode='auto', restore_best_weights=True)\n",
    "history = CNNv1.fit(train_feats, train_targs,\n",
    "                      epochs=500,\n",
    "                      batch_size=32,\n",
    "                      shuffle=True,\n",
    "                      validation_split=0.2,\n",
    "                      callbacks=[reduceLR, early])\n",
    "plt.plot(history.history['loss'])\n",
    "plt.plot(history.history['val_loss'])\n",
    "plt.title('Learning Curves')\n",
    "plt.legend(['Training Loss', 'Validation Loss'])\n",
    "plt.ylabel('Binary Crossentropy')\n",
    "plt.xlabel('Epoch Number')\n",
    "plt.show()"
   ],
   "metadata": {
    "collapsed": false,
    "pycharm": {
     "name": "#%%\n"
    }
   }
  },
  {
   "cell_type": "code",
   "execution_count": 20,
   "outputs": [
    {
     "name": "stdout",
     "output_type": "stream",
     "text": [
      "223/223 [==============================] - 1s 3ms/step\n",
      "0.8772905759162304\n",
      "0.7631653857102192\n",
      "0.8302868391451068\n",
      "0.8162581823717461\n"
     ]
    }
   ],
   "source": [
    "CNNv1preds=CNNv1.predict(test_feats)\n",
    "CNNv1preds=CNNv1preds>0.5\n",
    "print(precision_score(test_targs,CNNv1preds))\n",
    "print(recall_score(test_targs,CNNv1preds))\n",
    "print(accuracy_score(test_targs,CNNv1preds))\n",
    "print(f1_score(test_targs,CNNv1preds))"
   ],
   "metadata": {
    "collapsed": false,
    "pycharm": {
     "name": "#%%\n"
    }
   }
  },
  {
   "cell_type": "code",
   "execution_count": 68,
   "outputs": [
    {
     "data": {
      "text/plain": "<Figure size 432x288 with 1 Axes>",
      "image/png": "[encoded data removed]"
     },
     "metadata": {
      "needs_background": "light"
     },
     "output_type": "display_data"
    }
   ],
   "source": [
    "import math\n",
    "# Law of large numbers\n",
    "n_vals=[]\n",
    "scores=[]\n",
    "for n in range(1,1001,2):\n",
    "    simp_majority=int(np.ceil(0.50*n))\n",
    "    sum_val=0\n",
    "    for r in range(simp_majority,n+1):\n",
    "        sum_val+=math.comb(n,r)*0.55**r*(0.45**(n-r))\n",
    "    n_vals.append(n)\n",
    "    scores.append(sum_val)\n",
    "\n",
    "plt.ylabel(\"Success probability\")\n",
    "plt.xlabel(\"Number of Predictors (n)\")\n",
    "plt.plot(n_vals,scores)\n",
    "plt.savefig(\"ensemble_growth.png\")"
   ],
   "metadata": {
    "collapsed": false,
    "pycharm": {
     "name": "#%%\n"
    }
   }
  },
  {
   "cell_type": "code",
   "execution_count": null,
   "outputs": [],
   "source": [],
   "metadata": {
    "collapsed": false,
    "pycharm": {
     "name": "#%%\n"
    }
   }
  }
 ],
 "metadata": {
  "kernelspec": {
   "display_name": "Python 3",
   "language": "python",
   "name": "python3"
  },
  "language_info": {
   "codemirror_mode": {
    "name": "ipython",
    "version": 2
   },
   "file_extension": ".py",
   "mimetype": "text/x-python",
   "name": "python",
   "nbconvert_exporter": "python",
   "pygments_lexer": "ipython2",
   "version": "2.7.6"
  }
 },
 "nbformat": 4,
 "nbformat_minor": 0
}