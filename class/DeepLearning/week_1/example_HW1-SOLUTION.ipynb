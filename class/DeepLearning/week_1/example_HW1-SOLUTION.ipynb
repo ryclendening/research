{
 "cells": [
  {
   "cell_type": "markdown",
   "metadata": {},
   "source": [
    "# SOLUTION CSCE 823 Assignment 1\n",
    "\n",
    "Inspired by Submission for CSCE 823 2019 SU - HW 1 ; author =   Justin Merrick\n"
   ]
  },
  {
   "cell_type": "markdown",
   "metadata": {},
   "source": [
    "CSCE 823 Assignment 1 \n",
    "---\n",
    "\n",
    "Starter Code\n",
    "\n",
    "Simple perceptron learning for NOT, OR, AND, and paper example (NUT).  Also trained on XOR which is\n",
    "mainly a teaching tool to show how non-linearly separable points cannot be trained to with one layer.\n",
    "\n",
    "Student will need to **analyze results and discuss** NOT, OR, AND and  NUT performance\n",
    "\n",
    "\n",
    "Student will need to analyze results and discuss performance of single layer perceptron XOR\n",
    "\n",
    "Student will need to build new multi layer perceptron for XOR, train, evaluate, and discuss performance"
   ]
  },
  {
   "cell_type": "code",
   "execution_count": 1,
   "metadata": {},
   "outputs": [],
   "source": [
    "import numpy as np\n",
    "import matplotlib.pyplot as plt\n",
    "import tensorflow as tf\n",
    "import tensorflow.keras as keras"
   ]
  },
  {
   "cell_type": "code",
   "execution_count": 2,
   "metadata": {},
   "outputs": [],
   "source": [
    "from tensorflow.keras.models import Sequential\n",
    "from tensorflow.keras.layers import Dense, Activation\n",
    "from tensorflow.keras import optimizers\n",
    "from tensorflow.keras import callbacks\n",
    "\n",
    "from sklearn.preprocessing import LabelEncoder\n",
    "\n",
    "# import keras as keras"
   ]
  },
  {
   "cell_type": "code",
   "execution_count": 3,
   "metadata": {},
   "outputs": [
    {
     "name": "stdout",
     "output_type": "stream",
     "text": [
      "Tensor_Flow version:\n",
      "2.6.0\n"
     ]
    }
   ],
   "source": [
    "print(\"Tensor_Flow version:\")\n",
    "print(tf.__version__)"
   ]
  },
  {
   "cell_type": "code",
   "execution_count": 4,
   "metadata": {},
   "outputs": [
    {
     "name": "stdout",
     "output_type": "stream",
     "text": [
      "Keras version:\n",
      "2.6.0\n"
     ]
    }
   ],
   "source": [
    "print(\"Keras version:\")\n",
    "print(keras.__version__)"
   ]
  },
  {
   "cell_type": "markdown",
   "metadata": {},
   "source": [
    "## Confirm tensorflow working properly\n",
    "This will report on the GPUs available to tensorflow"
   ]
  },
  {
   "cell_type": "code",
   "execution_count": 5,
   "metadata": {},
   "outputs": [
    {
     "name": "stdout",
     "output_type": "stream",
     "text": [
      "Tensorflow version:  2.6.0\n",
      "Tensorflow devices:  [PhysicalDevice(name='/physical_device:GPU:0', device_type='GPU')]\n",
      "Num GPUs Available:  1\n",
      "GPUs Available:  [PhysicalDevice(name='/physical_device:GPU:0', device_type='GPU')]\n"
     ]
    }
   ],
   "source": [
    "print(\"Tensorflow version: \", tf.__version__)\n",
    "print(\"Tensorflow devices: \", tf.config.list_physical_devices(\"GPU\"))\n",
    "print(\"Num GPUs Available: \", len(tf.config.experimental.list_physical_devices('GPU')))\n",
    "print(\"GPUs Available: \", tf.config.experimental.list_physical_devices('GPU'))"
   ]
  },
  {
   "cell_type": "markdown",
   "metadata": {},
   "source": [
    "## Enable GPU growth to solve cublas problem\n",
    "\n",
    "(see https://stackoverflow.com/questions/41117740/tensorflow-crashes-with-cublas-status-alloc-failed)"
   ]
  },
  {
   "cell_type": "code",
   "execution_count": 6,
   "metadata": {},
   "outputs": [
    {
     "name": "stdout",
     "output_type": "stream",
     "text": [
      "1 Physical GPUs, 1 Logical GPUs\n"
     ]
    }
   ],
   "source": [
    "gpus = tf.config.experimental.list_physical_devices('GPU')\n",
    "if gpus:\n",
    "    try:\n",
    "        # Currently, memory growth needs to be the same across GPUs\n",
    "        for gpu in gpus:\n",
    "            tf.config.experimental.set_memory_growth(gpu, True)\n",
    "        logical_gpus = tf.config.experimental.list_logical_devices('GPU')\n",
    "        print(len(gpus), \"Physical GPUs,\", len(logical_gpus), \"Logical GPUs\")\n",
    "    except RuntimeError as e:\n",
    "        # Memory growth must be set before GPUs have been initialized\n",
    "        print(e)"
   ]
  },
  {
   "cell_type": "markdown",
   "metadata": {},
   "source": [
    "## Test Tensorflow to ensure it is ready to train a model on GPU\n",
    "\n",
    "(runs 2 epochs of a CNN on cifar10... not necessary for this HW but helpful code to ensure trainability of CNN on GPU)"
   ]
  },
  {
   "cell_type": "code",
   "execution_count": 7,
   "metadata": {},
   "outputs": [
    {
     "name": "stdout",
     "output_type": "stream",
     "text": [
      "Epoch 1/2\n",
      "5000/5000 [==============================] - 13s 2ms/step - loss: 1.4433\n",
      "Epoch 2/2\n",
      "5000/5000 [==============================] - 11s 2ms/step - loss: 1.1681\n"
     ]
    }
   ],
   "source": [
    "from tensorflow.keras import datasets, layers, models\n",
    "import matplotlib.pyplot as plt\n",
    "\n",
    "(train_images, train_labels), (test_images, test_labels) = datasets.cifar10.load_data()\n",
    "\n",
    "train_images, test_images = train_images / 255.0, test_images / 255.0\n",
    "\n",
    "model = models.Sequential()\n",
    "model.add(layers.Conv2D(32, (3, 3), activation='relu', input_shape=(32, 32, 3)))\n",
    "model.add(layers.MaxPooling2D((2, 2)))\n",
    "model.add(layers.Flatten())\n",
    "model.add(layers.Dense(64, activation='relu'))\n",
    "model.add(layers.Dense(10))\n",
    "\n",
    "model.compile(optimizer='Adam', loss=tf.keras.losses.SparseCategoricalCrossentropy(from_logits=True))\n",
    "\n",
    "history = model.fit(train_images, train_labels, batch_size=10, epochs=2)"
   ]
  },
  {
   "cell_type": "markdown",
   "metadata": {},
   "source": [
    "# Step 0: Tools & Helper Functions"
   ]
  },
  {
   "cell_type": "code",
   "execution_count": 8,
   "metadata": {},
   "outputs": [],
   "source": [
    "def makeDecisionBoundaryBool2(model,featureData,labelData,title):\n",
    "    '''Build decision boundary figrue for 2-input, 1-output boolean logic functions\n",
    "    Note that this assumes a hard sigmoid was used and establishes a cutoff at 0.5\n",
    "    for predicting 0 or 1'''  \n",
    "    cutoff = 0.5   #0.5 for Sigmoid. 0.0 for TANH\n",
    "    fig, ax = plt.subplots()\n",
    "\n",
    "    xmin,xmax = np.min(featureData[:,0])-0.1, np.max(featureData[:,0])+0.1\n",
    "    ymin,ymax = np.min(featureData[:,1])-0.1, np.max(featureData[:,1])+0.1\n",
    "    \n",
    "    #Create filled countour map to color both sides of the boundary\n",
    "    x = np.linspace(xmin,xmax,200)\n",
    "    y = np.linspace(ymin,ymax,200)\n",
    "    X, Y = np.meshgrid(x, y)\n",
    "    grid = np.c_[X.ravel(),Y.ravel()]\n",
    "    preds = model.predict(grid)  #get predictions\n",
    "    z = preds.reshape(X.shape)>cutoff   # cutoff on predictions to return boolean output\n",
    "    plt.contourf(X,Y,z,cmap='YlOrBr')\n",
    "    \n",
    "    #add annotated points to show where the boolean inputs lie on the graph\n",
    "    ax.scatter(featureData[:,0],featureData[:,1], color='b', alpha = 0.5)\n",
    "    for i, txt in enumerate(labelData):\n",
    "        # ax.annotate(np.asscalar(txt), (featureData[i,0],featureData[i,1])) \n",
    "        ax.annotate(txt.item(), (featureData[i,0],featureData[i,1])) \n",
    "    \n",
    "    #adjust the axis & add labels for the graph\n",
    "    plt.axis([xmin, xmax, ymin, ymax])\n",
    "    plt.ylabel('x2')\n",
    "    plt.xlabel('x1')\n",
    "    plt.title(title)  \n",
    "\n",
    "def graphHistory(history, title):\n",
    "    '''Function for graphing the training and valiedation accuracy and loss'''\n",
    "    # summarize history for accuracy\n",
    "    fig = plt.figure()\n",
    "    plt.plot(history.history['accuracy'])\n",
    "    plt.plot(history.history['val_accuracy'])\n",
    "    plt.title('Model Accuracy ' + title)\n",
    "    plt.ylabel('Accuracy')\n",
    "    plt.xlabel('Epoch')\n",
    "    plt.legend(['Tr. Acc', 'Val. Acc'])\n",
    "    plt.show()\n",
    "\n",
    "    # summarize history for loss\n",
    "    fig = plt.figure()\n",
    "    plt.plot(history.history['loss'])\n",
    "    plt.plot(history.history['val_loss'])\n",
    "    plt.title('Model Loss ' + title)\n",
    "    plt.ylabel('Loss')\n",
    "    plt.xlabel('Epoch')\n",
    "    plt.legend(['Tr. Loss', 'Val. Loss'])\n",
    "    plt.show()\n",
    "    "
   ]
  },
  {
   "cell_type": "markdown",
   "metadata": {},
   "source": [
    "# Step 1: Generic Keras model for perceptron (must be parameterized on call)"
   ]
  },
  {
   "cell_type": "code",
   "execution_count": 9,
   "metadata": {},
   "outputs": [],
   "source": [
    "def perceptron(width, learningRate):\n",
    "    '''Builds and returns a perceptron model of arbitrary input width & learning rate'''\n",
    "    model = Sequential()  #define the building mode - sequential\n",
    "    # declare the hidden layer with 1 node, hard sigmoid\n",
    "    # set bias vector to all 1s\n",
    "    model.add(Dense(units=1, activation='hard_sigmoid', \n",
    "                    use_bias=True, bias_initializer='ones', \n",
    "                    input_shape=(width,)))\n",
    "    # declare the adam optimizer\n",
    "    adam = optimizers.Adam(learning_rate=learningRate)\n",
    "    # complile the model with loss = binary_crossentropy\n",
    "    model.compile(optimizer=adam,\n",
    "                  loss='binary_crossentropy',\n",
    "                  metrics=['accuracy'])\n",
    "    return model"
   ]
  },
  {
   "cell_type": "markdown",
   "metadata": {},
   "source": [
    "# Step 2:  Boolean Datasets"
   ]
  },
  {
   "cell_type": "code",
   "execution_count": 10,
   "metadata": {},
   "outputs": [],
   "source": [
    "# Inputs to the perceptrons\n",
    "xONE = np.array([[1],[0]])\n",
    "xTWO = np.array([[0,0],[0,1],[1,0],[1,1]])\n",
    "    \n",
    "# y matrices for boolean output\n",
    "yNOT = np.matrix('0;1')\n",
    "yAND = np.matrix('0;0;0;1')\n",
    "yOR = np.matrix('0;1;1;1')\n",
    "yXOR = np.matrix('0;1;1;0')"
   ]
  },
  {
   "cell_type": "markdown",
   "metadata": {},
   "source": [
    "# Step 3:  Instantiate Fyfe's Nut Dataset"
   ]
  },
  {
   "cell_type": "code",
   "execution_count": 11,
   "metadata": {},
   "outputs": [],
   "source": [
    "# Defining NUT database arrays\n",
    "xNUT = np.array([[2.2,1.4],[1.5,1.0],[0.6,0.5],[2.3,2.0],[1.3,1.5],[0.3,1.0]])\n",
    "yNUT = np.array([[0],[0],[0],[1],[1],[1]])"
   ]
  },
  {
   "cell_type": "markdown",
   "metadata": {},
   "source": [
    "# Step 4:  Modeling the Boolean NOT Dataset"
   ]
  },
  {
   "cell_type": "markdown",
   "metadata": {},
   "source": [
    "## Step 4a:  Fit model on NOT dataset"
   ]
  },
  {
   "cell_type": "code",
   "execution_count": 12,
   "metadata": {},
   "outputs": [],
   "source": [
    "# Learning 'NOT'\n",
    "\n",
    "pmNOT = perceptron(width=1,learningRate=0.1)\n",
    "training_verbosity = 0 #set to 1 or 2 for more detaied training output, 0 for none\n",
    "\n",
    "history = pmNOT.fit(x=xONE, y=yNOT, batch_size=1, epochs=40, verbose=training_verbosity, callbacks=None, \n",
    "                      validation_split=0.1, \n",
    "                      validation_data=(xONE,yNOT), shuffle=True, class_weight=None,sample_weight=None, initial_epoch=0)\n",
    "\n",
    "\n",
    "\n"
   ]
  },
  {
   "cell_type": "markdown",
   "metadata": {},
   "source": [
    "## Step 4b:  Report Training and Validation Performance Results"
   ]
  },
  {
   "cell_type": "code",
   "execution_count": 13,
   "metadata": {},
   "outputs": [
    {
     "name": "stdout",
     "output_type": "stream",
     "text": [
      "1/1 - 0s - loss: 7.8030 - accuracy: 0.5000\n",
      "[7.802956581115723, 0.5]\n",
      "dict_keys(['loss', 'accuracy', 'val_loss', 'val_accuracy'])\n"
     ]
    },
    {
     "data": {
      "image/png": "[encoded data removed]",
      "text/plain": [
       "<Figure size 432x288 with 1 Axes>"
      ]
     },
     "metadata": {
      "needs_background": "light"
     },
     "output_type": "display_data"
    },
    {
     "data": {
      "image/png": "[encoded data removed]",
      "text/plain": [
       "<Figure size 432x288 with 1 Axes>"
      ]
     },
     "metadata": {
      "needs_background": "light"
     },
     "output_type": "display_data"
    }
   ],
   "source": [
    "lossValMetrics = pmNOT.evaluate(xONE, yNOT, batch_size=2, verbose=2, sample_weight=None)\n",
    "print(lossValMetrics)\n",
    "#plot history\n",
    "print(history.history.keys())    \n",
    "graphHistory(history, '(NOT)')"
   ]
  },
  {
   "cell_type": "markdown",
   "metadata": {},
   "source": [
    "One thing particularly striking in training the NOT dataset is that the final loss value is highly dependent upon initial state and is much less dependent on learning rate than expected. With a learning rate of 0.4 and a max epochs of 20, the loss changed drastically in subsequent runs, with the first yielding a loss near zero and an accuracy of 1.0 while the second yielded a loss near 8.0 and had only an accuracy of 0.5. Additionally, as the learning rate was decreased and the number of epochs increased, the same phenomenon was seen, though the magnitude of the loss was smaller. In this case, subsequent runs both saw accuracy of 1.0, but one had a near zero loss, while the other finished at 0.22. This distinction between model performance and model loss is important to recognize."
   ]
  },
  {
   "cell_type": "markdown",
   "metadata": {},
   "source": [
    "# Step 5: Modeling the  OR Dataset"
   ]
  },
  {
   "cell_type": "markdown",
   "metadata": {},
   "source": [
    "## Step 5a:  Fit Model on OR\n",
    "\n",
    "Note:  we are breaking the rule for train-val split of data since there are only 4 training points total"
   ]
  },
  {
   "cell_type": "code",
   "execution_count": 14,
   "metadata": {},
   "outputs": [
    {
     "name": "stdout",
     "output_type": "stream",
     "text": [
      "Epoch 1/50\n",
      "4/4 [==============================] - 0s 32ms/step - loss: 0.3899 - accuracy: 0.7500 - val_loss: 0.3508 - val_accuracy: 0.7500\n",
      "Epoch 2/50\n",
      "4/4 [==============================] - 0s 9ms/step - loss: 0.3441 - accuracy: 0.7500 - val_loss: 0.3246 - val_accuracy: 0.7500\n",
      "Epoch 3/50\n",
      "4/4 [==============================] - 0s 9ms/step - loss: 0.3186 - accuracy: 0.7500 - val_loss: 0.3081 - val_accuracy: 0.7500\n",
      "Epoch 4/50\n",
      "4/4 [==============================] - 0s 9ms/step - loss: 0.3001 - accuracy: 0.7500 - val_loss: 0.2919 - val_accuracy: 0.7500\n",
      "Epoch 5/50\n",
      "4/4 [==============================] - 0s 9ms/step - loss: 0.2869 - accuracy: 0.7500 - val_loss: 0.2735 - val_accuracy: 0.7500\n",
      "Epoch 6/50\n",
      "4/4 [==============================] - 0s 10ms/step - loss: 0.2678 - accuracy: 0.7500 - val_loss: 0.2579 - val_accuracy: 0.7500\n",
      "Epoch 7/50\n",
      "4/4 [==============================] - 0s 10ms/step - loss: 0.2524 - accuracy: 0.7500 - val_loss: 0.2411 - val_accuracy: 0.7500\n",
      "Epoch 8/50\n",
      "4/4 [==============================] - 0s 10ms/step - loss: 0.2403 - accuracy: 0.7500 - val_loss: 0.2240 - val_accuracy: 0.7500\n",
      "Epoch 9/50\n",
      "4/4 [==============================] - 0s 9ms/step - loss: 0.2212 - accuracy: 0.7500 - val_loss: 0.2087 - val_accuracy: 0.7500\n",
      "Epoch 10/50\n",
      "4/4 [==============================] - 0s 10ms/step - loss: 0.2045 - accuracy: 0.7500 - val_loss: 0.1995 - val_accuracy: 0.7500\n",
      "Epoch 11/50\n",
      "4/4 [==============================] - 0s 9ms/step - loss: 0.1983 - accuracy: 0.7500 - val_loss: 0.1917 - val_accuracy: 0.7500\n",
      "Epoch 12/50\n",
      "4/4 [==============================] - 0s 10ms/step - loss: 0.1889 - accuracy: 0.7500 - val_loss: 0.1795 - val_accuracy: 0.7500\n",
      "Epoch 13/50\n",
      "4/4 [==============================] - 0s 11ms/step - loss: 0.1737 - accuracy: 0.7500 - val_loss: 0.1708 - val_accuracy: 1.0000\n",
      "Epoch 14/50\n",
      "4/4 [==============================] - 0s 11ms/step - loss: 0.1681 - accuracy: 1.0000 - val_loss: 0.1582 - val_accuracy: 1.0000\n",
      "Epoch 15/50\n",
      "4/4 [==============================] - 0s 10ms/step - loss: 0.1580 - accuracy: 1.0000 - val_loss: 0.1497 - val_accuracy: 1.0000\n",
      "Epoch 16/50\n",
      "4/4 [==============================] - 0s 10ms/step - loss: 0.1479 - accuracy: 1.0000 - val_loss: 0.1409 - val_accuracy: 1.0000\n",
      "Epoch 17/50\n",
      "4/4 [==============================] - 0s 10ms/step - loss: 0.1397 - accuracy: 1.0000 - val_loss: 0.1337 - val_accuracy: 1.0000\n",
      "Epoch 18/50\n",
      "4/4 [==============================] - 0s 10ms/step - loss: 0.1337 - accuracy: 1.0000 - val_loss: 0.1249 - val_accuracy: 1.0000\n",
      "Epoch 19/50\n",
      "4/4 [==============================] - 0s 10ms/step - loss: 0.1255 - accuracy: 1.0000 - val_loss: 0.1191 - val_accuracy: 1.0000\n",
      "Epoch 20/50\n",
      "4/4 [==============================] - 0s 9ms/step - loss: 0.1183 - accuracy: 1.0000 - val_loss: 0.1148 - val_accuracy: 1.0000\n",
      "Epoch 21/50\n",
      "4/4 [==============================] - 0s 10ms/step - loss: 0.1140 - accuracy: 1.0000 - val_loss: 0.1092 - val_accuracy: 1.0000\n",
      "Epoch 22/50\n",
      "4/4 [==============================] - 0s 10ms/step - loss: 0.1092 - accuracy: 1.0000 - val_loss: 0.1017 - val_accuracy: 1.0000\n",
      "Epoch 23/50\n",
      "4/4 [==============================] - 0s 11ms/step - loss: 0.0990 - accuracy: 1.0000 - val_loss: 0.0951 - val_accuracy: 1.0000\n",
      "Epoch 24/50\n",
      "4/4 [==============================] - 0s 10ms/step - loss: 0.0951 - accuracy: 1.0000 - val_loss: 0.0876 - val_accuracy: 1.0000\n",
      "Epoch 25/50\n",
      "4/4 [==============================] - 0s 9ms/step - loss: 0.0864 - accuracy: 1.0000 - val_loss: 0.0838 - val_accuracy: 1.0000\n",
      "Epoch 26/50\n",
      "4/4 [==============================] - 0s 10ms/step - loss: 0.0838 - accuracy: 1.0000 - val_loss: 0.0777 - val_accuracy: 1.0000\n",
      "Epoch 27/50\n",
      "4/4 [==============================] - 0s 10ms/step - loss: 0.0754 - accuracy: 1.0000 - val_loss: 0.0722 - val_accuracy: 1.0000\n",
      "Epoch 28/50\n",
      "4/4 [==============================] - 0s 10ms/step - loss: 0.0725 - accuracy: 1.0000 - val_loss: 0.0671 - val_accuracy: 1.0000\n",
      "Epoch 29/50\n",
      "4/4 [==============================] - 0s 8ms/step - loss: 0.0650 - accuracy: 1.0000 - val_loss: 0.0639 - val_accuracy: 1.0000\n",
      "Epoch 30/50\n",
      "4/4 [==============================] - 0s 11ms/step - loss: 0.0623 - accuracy: 1.0000 - val_loss: 0.0614 - val_accuracy: 1.0000\n",
      "Epoch 31/50\n",
      "4/4 [==============================] - 0s 10ms/step - loss: 0.0649 - accuracy: 1.0000 - val_loss: 0.0577 - val_accuracy: 1.0000\n",
      "Epoch 32/50\n",
      "4/4 [==============================] - 0s 11ms/step - loss: 0.0574 - accuracy: 1.0000 - val_loss: 0.0519 - val_accuracy: 1.0000\n",
      "Epoch 33/50\n",
      "4/4 [==============================] - 0s 10ms/step - loss: 0.0502 - accuracy: 1.0000 - val_loss: 0.0490 - val_accuracy: 1.0000\n",
      "Epoch 34/50\n",
      "4/4 [==============================] - 0s 9ms/step - loss: 0.0463 - accuracy: 1.0000 - val_loss: 0.0448 - val_accuracy: 1.0000\n",
      "Epoch 35/50\n",
      "4/4 [==============================] - 0s 9ms/step - loss: 0.0414 - accuracy: 1.0000 - val_loss: 0.0399 - val_accuracy: 1.0000\n",
      "Epoch 36/50\n",
      "4/4 [==============================] - 0s 9ms/step - loss: 0.0372 - accuracy: 1.0000 - val_loss: 0.0372 - val_accuracy: 1.0000\n",
      "Epoch 37/50\n",
      "4/4 [==============================] - 0s 12ms/step - loss: 0.0361 - accuracy: 1.0000 - val_loss: 0.0338 - val_accuracy: 1.0000\n",
      "Epoch 38/50\n",
      "4/4 [==============================] - 0s 9ms/step - loss: 0.0322 - accuracy: 1.0000 - val_loss: 0.0264 - val_accuracy: 1.0000\n",
      "Epoch 39/50\n",
      "4/4 [==============================] - 0s 11ms/step - loss: 0.0256 - accuracy: 1.0000 - val_loss: 0.0222 - val_accuracy: 1.0000\n",
      "Epoch 40/50\n",
      "4/4 [==============================] - 0s 10ms/step - loss: 0.0197 - accuracy: 1.0000 - val_loss: 0.0185 - val_accuracy: 1.0000\n",
      "Epoch 41/50\n",
      "4/4 [==============================] - 0s 11ms/step - loss: 0.0191 - accuracy: 1.0000 - val_loss: 0.0142 - val_accuracy: 1.0000\n",
      "Epoch 42/50\n",
      "4/4 [==============================] - 0s 10ms/step - loss: 0.0135 - accuracy: 1.0000 - val_loss: 0.0106 - val_accuracy: 1.0000\n",
      "Epoch 43/50\n",
      "4/4 [==============================] - 0s 10ms/step - loss: 0.0097 - accuracy: 1.0000 - val_loss: 0.0087 - val_accuracy: 1.0000\n",
      "Epoch 44/50\n",
      "4/4 [==============================] - 0s 9ms/step - loss: 0.0073 - accuracy: 1.0000 - val_loss: 0.0052 - val_accuracy: 1.0000\n",
      "Epoch 45/50\n",
      "4/4 [==============================] - 0s 12ms/step - loss: 0.0044 - accuracy: 1.0000 - val_loss: 8.2220e-04 - val_accuracy: 1.0000\n",
      "Epoch 46/50\n",
      "4/4 [==============================] - 0s 9ms/step - loss: 0.0017 - accuracy: 1.0000 - val_loss: 0.0000e+00 - val_accuracy: 1.0000\n",
      "Epoch 47/50\n",
      "4/4 [==============================] - 0s 11ms/step - loss: 4.3615e-04 - accuracy: 1.0000 - val_loss: 0.0000e+00 - val_accuracy: 1.0000\n",
      "Epoch 48/50\n",
      "4/4 [==============================] - 0s 11ms/step - loss: 0.0000e+00 - accuracy: 1.0000 - val_loss: 0.0000e+00 - val_accuracy: 1.0000\n",
      "Epoch 49/50\n",
      "4/4 [==============================] - 0s 9ms/step - loss: 0.0000e+00 - accuracy: 1.0000 - val_loss: 0.0000e+00 - val_accuracy: 1.0000\n",
      "Epoch 50/50\n",
      "4/4 [==============================] - 0s 12ms/step - loss: 0.0000e+00 - accuracy: 1.0000 - val_loss: 0.0000e+00 - val_accuracy: 1.0000\n"
     ]
    }
   ],
   "source": [
    "# Learning OR\n",
    "pmOR = perceptron(width=2,learningRate=0.1)\n",
    "training_verbosity = 1 #set to 1 or 2 for more detaied training output, 0 for none\n",
    "history = pmOR.fit(x=xTWO, y=yOR, batch_size=1, epochs=50, verbose=training_verbosity, callbacks=None, \n",
    "    validation_split=0.0, validation_data=(xTWO,yOR), shuffle=True, class_weight=None, \n",
    "    sample_weight=None, initial_epoch=0)"
   ]
  },
  {
   "cell_type": "markdown",
   "metadata": {},
   "source": [
    "## Step 5b:  Evaluate training performance on OR"
   ]
  },
  {
   "cell_type": "code",
   "execution_count": 15,
   "metadata": {},
   "outputs": [
    {
     "name": "stdout",
     "output_type": "stream",
     "text": [
      "1/1 - 0s - loss: 0.0000e+00 - accuracy: 1.0000\n",
      "[0.0, 1.0]\n",
      "[array([[5.3308163],\n",
      "       [5.3959146]], dtype=float32), array([-2.5774593], dtype=float32)]\n",
      "dict_keys(['loss', 'accuracy', 'val_loss', 'val_accuracy'])\n"
     ]
    },
    {
     "data": {
      "image/png": "[encoded data removed]",
      "text/plain": [
       "<Figure size 432x288 with 1 Axes>"
      ]
     },
     "metadata": {
      "needs_background": "light"
     },
     "output_type": "display_data"
    },
    {
     "data": {
      "image/png": "[encoded data removed]",
      "text/plain": [
       "<Figure size 432x288 with 1 Axes>"
      ]
     },
     "metadata": {
      "needs_background": "light"
     },
     "output_type": "display_data"
    }
   ],
   "source": [
    "lossValMetrics = pmOR.evaluate(xTWO, yOR, batch_size=4, verbose=2, sample_weight=None)\n",
    "print(lossValMetrics)\n",
    "weights = pmOR.get_weights()\n",
    "print(weights)\n",
    "#plot history\n",
    "print(history.history.keys())    \n",
    "graphHistory(history, '(OR)')"
   ]
  },
  {
   "cell_type": "markdown",
   "metadata": {},
   "source": [
    "In contrast with training a perceptron to solve NOT, training a perceptron to solve OR is more robust to the choice of initial weights, as long as the learning rate does not exceed 1.0 and the epochs do not drop below 10. While near zero loss was seen in as little as 4 epochs, high learning rates allowed the training to reach an accuracy of 1.0 with near zero loss typically between 5 and 9 epochs. As learning rate decreased, the chances of not reaching 1.0 accuracy in 10 epochs also decreased."
   ]
  },
  {
   "cell_type": "markdown",
   "metadata": {},
   "source": [
    "## Step 5c:  Display the Decision Boundary on OR"
   ]
  },
  {
   "cell_type": "code",
   "execution_count": 16,
   "metadata": {},
   "outputs": [
    {
     "data": {
      "image/png": "[encoded data removed]",
      "text/plain": [
       "<Figure size 432x288 with 1 Axes>"
      ]
     },
     "metadata": {
      "needs_background": "light"
     },
     "output_type": "display_data"
    }
   ],
   "source": [
    "makeDecisionBoundaryBool2(pmOR,xTWO,yOR,'OR Decision Boundary')"
   ]
  },
  {
   "cell_type": "markdown",
   "metadata": {},
   "source": [
    "The decision boundary found remained nearly identical regardless of learning rate (and provided the model reached 1.0 accuracy). Some change in slope was seen for particular random seeds."
   ]
  },
  {
   "cell_type": "markdown",
   "metadata": {},
   "source": [
    "# Step 6:  Modeling the AND Dataset"
   ]
  },
  {
   "cell_type": "markdown",
   "metadata": {},
   "source": [
    "## Step 6a:  Fit model to AND Dataset"
   ]
  },
  {
   "cell_type": "code",
   "execution_count": 17,
   "metadata": {},
   "outputs": [
    {
     "name": "stdout",
     "output_type": "stream",
     "text": [
      "Epoch 1/30\n",
      "4/4 [==============================] - 0s 31ms/step - loss: 1.5042 - accuracy: 0.0000e+00 - val_loss: 0.8226 - val_accuracy: 0.2500\n",
      "Epoch 2/30\n",
      "4/4 [==============================] - 0s 10ms/step - loss: 0.6841 - accuracy: 0.5000 - val_loss: 0.6927 - val_accuracy: 0.7500\n",
      "Epoch 3/30\n",
      "4/4 [==============================] - 0s 9ms/step - loss: 4.0127 - accuracy: 0.7500 - val_loss: 3.8717 - val_accuracy: 0.7500\n",
      "Epoch 4/30\n",
      "4/4 [==============================] - 0s 12ms/step - loss: 3.8562 - accuracy: 0.7500 - val_loss: 3.8562 - val_accuracy: 0.7500\n",
      "Epoch 5/30\n",
      "4/4 [==============================] - 0s 10ms/step - loss: 3.8562 - accuracy: 0.7500 - val_loss: 3.8562 - val_accuracy: 0.7500\n",
      "Epoch 6/30\n",
      "4/4 [==============================] - 0s 12ms/step - loss: 3.8562 - accuracy: 0.7500 - val_loss: 3.8562 - val_accuracy: 0.7500\n",
      "Epoch 7/30\n",
      "4/4 [==============================] - 0s 9ms/step - loss: 3.8562 - accuracy: 0.7500 - val_loss: 3.8562 - val_accuracy: 0.7500\n",
      "Epoch 8/30\n",
      "4/4 [==============================] - 0s 11ms/step - loss: 3.8562 - accuracy: 0.7500 - val_loss: 3.8562 - val_accuracy: 0.7500\n",
      "Epoch 9/30\n",
      "4/4 [==============================] - 0s 10ms/step - loss: 3.8562 - accuracy: 0.7500 - val_loss: 3.8562 - val_accuracy: 0.7500\n",
      "Epoch 10/30\n",
      "4/4 [==============================] - 0s 11ms/step - loss: 3.8562 - accuracy: 0.7500 - val_loss: 3.8562 - val_accuracy: 0.7500\n",
      "Epoch 11/30\n",
      "4/4 [==============================] - 0s 10ms/step - loss: 3.8562 - accuracy: 0.7500 - val_loss: 3.8562 - val_accuracy: 0.7500\n",
      "Epoch 12/30\n",
      "4/4 [==============================] - 0s 10ms/step - loss: 3.8562 - accuracy: 0.7500 - val_loss: 3.8562 - val_accuracy: 0.7500\n",
      "Epoch 13/30\n",
      "4/4 [==============================] - 0s 9ms/step - loss: 3.8562 - accuracy: 0.7500 - val_loss: 3.8562 - val_accuracy: 0.7500\n",
      "Epoch 14/30\n",
      "4/4 [==============================] - 0s 11ms/step - loss: 3.8562 - accuracy: 0.7500 - val_loss: 3.8562 - val_accuracy: 0.7500\n",
      "Epoch 15/30\n",
      "4/4 [==============================] - 0s 10ms/step - loss: 3.8562 - accuracy: 0.7500 - val_loss: 3.8562 - val_accuracy: 0.7500\n",
      "Epoch 16/30\n",
      "4/4 [==============================] - 0s 11ms/step - loss: 3.8562 - accuracy: 0.7500 - val_loss: 3.8562 - val_accuracy: 0.7500\n",
      "Epoch 17/30\n",
      "4/4 [==============================] - 0s 9ms/step - loss: 3.8562 - accuracy: 0.7500 - val_loss: 3.8562 - val_accuracy: 0.7500\n",
      "Epoch 18/30\n",
      "4/4 [==============================] - 0s 11ms/step - loss: 3.8562 - accuracy: 0.7500 - val_loss: 3.8562 - val_accuracy: 0.7500\n",
      "Epoch 19/30\n",
      "4/4 [==============================] - 0s 10ms/step - loss: 3.8562 - accuracy: 0.7500 - val_loss: 3.8562 - val_accuracy: 0.7500\n",
      "Epoch 20/30\n",
      "4/4 [==============================] - 0s 11ms/step - loss: 3.8562 - accuracy: 0.7500 - val_loss: 3.8562 - val_accuracy: 0.7500\n",
      "Epoch 21/30\n",
      "4/4 [==============================] - 0s 10ms/step - loss: 3.8562 - accuracy: 0.7500 - val_loss: 3.8562 - val_accuracy: 0.7500\n",
      "Epoch 22/30\n",
      "4/4 [==============================] - 0s 11ms/step - loss: 3.8562 - accuracy: 0.7500 - val_loss: 3.8562 - val_accuracy: 0.7500\n",
      "Epoch 23/30\n",
      "4/4 [==============================] - 0s 11ms/step - loss: 3.8562 - accuracy: 0.7500 - val_loss: 3.8562 - val_accuracy: 0.7500\n",
      "Epoch 24/30\n",
      "4/4 [==============================] - 0s 12ms/step - loss: 3.8562 - accuracy: 0.7500 - val_loss: 3.8562 - val_accuracy: 0.7500\n",
      "Epoch 25/30\n",
      "4/4 [==============================] - 0s 11ms/step - loss: 3.8562 - accuracy: 0.7500 - val_loss: 3.8562 - val_accuracy: 0.7500\n",
      "Epoch 26/30\n",
      "4/4 [==============================] - 0s 10ms/step - loss: 3.8562 - accuracy: 0.7500 - val_loss: 3.8562 - val_accuracy: 0.7500\n",
      "Epoch 27/30\n",
      "4/4 [==============================] - 0s 10ms/step - loss: 3.8562 - accuracy: 0.7500 - val_loss: 3.8562 - val_accuracy: 0.7500\n",
      "Epoch 28/30\n",
      "4/4 [==============================] - 0s 11ms/step - loss: 3.8562 - accuracy: 0.7500 - val_loss: 3.8562 - val_accuracy: 0.7500\n",
      "Epoch 29/30\n",
      "4/4 [==============================] - 0s 10ms/step - loss: 3.8562 - accuracy: 0.7500 - val_loss: 3.8562 - val_accuracy: 0.7500\n",
      "Epoch 30/30\n",
      "4/4 [==============================] - 0s 9ms/step - loss: 3.8562 - accuracy: 0.7500 - val_loss: 3.8562 - val_accuracy: 0.7500\n"
     ]
    }
   ],
   "source": [
    "pmAND = perceptron(width=2,learningRate=0.6)\n",
    "training_verbosity = 1 #set to 1 or 2 for more detaied training output, 0 for none\n",
    "history = pmAND.fit(x=xTWO, y=yAND, batch_size=1, epochs=30, verbose=training_verbosity, callbacks=None, \n",
    "    validation_split=0.0, validation_data=(xTWO,yAND), shuffle=True, class_weight=None, \n",
    "    sample_weight=None, initial_epoch=0)"
   ]
  },
  {
   "cell_type": "markdown",
   "metadata": {},
   "source": [
    "## Step 6b:  Evaluate Training Performance on AND Dataset"
   ]
  },
  {
   "cell_type": "code",
   "execution_count": 18,
   "metadata": {},
   "outputs": [
    {
     "name": "stdout",
     "output_type": "stream",
     "text": [
      "1/1 - 0s - loss: 3.8562 - accuracy: 0.7500\n",
      "[3.8562371730804443, 0.75]\n",
      "[array([[-1.5591062],\n",
      "       [-2.134958 ]], dtype=float32), array([-5.0190563], dtype=float32)]\n"
     ]
    },
    {
     "data": {
      "image/png": "[encoded data removed]",
      "text/plain": [
       "<Figure size 432x288 with 1 Axes>"
      ]
     },
     "metadata": {
      "needs_background": "light"
     },
     "output_type": "display_data"
    },
    {
     "data": {
      "image/png": "[encoded data removed]",
      "text/plain": [
       "<Figure size 432x288 with 1 Axes>"
      ]
     },
     "metadata": {
      "needs_background": "light"
     },
     "output_type": "display_data"
    }
   ],
   "source": [
    "lossValMetrics = pmAND.evaluate(xTWO, yAND, batch_size=4, verbose=2, sample_weight=None)\n",
    "print(lossValMetrics)\n",
    "weights = pmAND.get_weights()\n",
    "print(weights)\n",
    "graphHistory(history, '(AND)')"
   ]
  },
  {
   "cell_type": "markdown",
   "metadata": {},
   "source": [
    "The AND dataset lies somewhere between NOT and OR on its sensitivity to initial conditions. High learning rates are acceptable but fail more often than with OR. Regardless of learning rate, with enough epochs 1.0 accuracy was achieved."
   ]
  },
  {
   "cell_type": "markdown",
   "metadata": {},
   "source": [
    "## Step 6c:  Display Decision Boundary of AND Dataset"
   ]
  },
  {
   "cell_type": "code",
   "execution_count": 19,
   "metadata": {},
   "outputs": [
    {
     "data": {
      "image/png": "[encoded data removed]",
      "text/plain": [
       "<Figure size 432x288 with 1 Axes>"
      ]
     },
     "metadata": {
      "needs_background": "light"
     },
     "output_type": "display_data"
    }
   ],
   "source": [
    "makeDecisionBoundaryBool2(pmAND,xTWO,yAND,'Final AND Decision Boundary')"
   ]
  },
  {
   "cell_type": "markdown",
   "metadata": {},
   "source": [
    "The decision boundary appears similar to the OR decision boundary in slope and its behavior to initial conditions, but encloses the opposite corner of the solution space, as expected."
   ]
  },
  {
   "cell_type": "markdown",
   "metadata": {},
   "source": [
    "# Step 7:  Modeling Fyfe's NUT dataset"
   ]
  },
  {
   "cell_type": "markdown",
   "metadata": {},
   "source": [
    "## Step 7a:  Fit a perceptron model to the NUT dataset"
   ]
  },
  {
   "cell_type": "code",
   "execution_count": 20,
   "metadata": {},
   "outputs": [
    {
     "name": "stdout",
     "output_type": "stream",
     "text": [
      "Epoch 1/50\n",
      "6/6 [==============================] - 0s 23ms/step - loss: 1.0741 - accuracy: 0.3333 - val_loss: 0.8337 - val_accuracy: 0.5000\n",
      "Epoch 2/50\n",
      "6/6 [==============================] - 0s 8ms/step - loss: 0.8633 - accuracy: 0.5000 - val_loss: 0.7226 - val_accuracy: 0.5000\n",
      "Epoch 3/50\n",
      "6/6 [==============================] - 0s 8ms/step - loss: 0.7578 - accuracy: 0.5000 - val_loss: 0.7022 - val_accuracy: 0.6667\n",
      "Epoch 4/50\n",
      "6/6 [==============================] - 0s 8ms/step - loss: 0.7299 - accuracy: 0.5000 - val_loss: 0.6791 - val_accuracy: 0.5000\n",
      "Epoch 5/50\n",
      "6/6 [==============================] - 0s 8ms/step - loss: 0.6977 - accuracy: 0.3333 - val_loss: 0.6650 - val_accuracy: 0.5000\n",
      "Epoch 6/50\n",
      "6/6 [==============================] - 0s 8ms/step - loss: 0.7552 - accuracy: 0.1667 - val_loss: 0.6617 - val_accuracy: 0.5000\n",
      "Epoch 7/50\n",
      "6/6 [==============================] - 0s 8ms/step - loss: 0.6673 - accuracy: 0.6667 - val_loss: 0.6305 - val_accuracy: 0.6667\n",
      "Epoch 8/50\n",
      "6/6 [==============================] - 0s 10ms/step - loss: 0.6412 - accuracy: 0.6667 - val_loss: 0.6149 - val_accuracy: 0.6667\n",
      "Epoch 9/50\n",
      "6/6 [==============================] - 0s 8ms/step - loss: 0.6267 - accuracy: 0.5000 - val_loss: 0.6021 - val_accuracy: 0.5000\n",
      "Epoch 10/50\n",
      "6/6 [==============================] - 0s 8ms/step - loss: 0.6144 - accuracy: 0.5000 - val_loss: 0.5879 - val_accuracy: 0.5000\n",
      "Epoch 11/50\n",
      "6/6 [==============================] - 0s 8ms/step - loss: 0.5879 - accuracy: 0.5000 - val_loss: 0.5690 - val_accuracy: 0.8333\n",
      "Epoch 12/50\n",
      "6/6 [==============================] - 0s 8ms/step - loss: 0.5756 - accuracy: 0.8333 - val_loss: 0.5546 - val_accuracy: 0.8333\n",
      "Epoch 13/50\n",
      "6/6 [==============================] - 0s 9ms/step - loss: 0.5601 - accuracy: 0.8333 - val_loss: 0.5412 - val_accuracy: 1.0000\n",
      "Epoch 14/50\n",
      "6/6 [==============================] - 0s 8ms/step - loss: 0.5502 - accuracy: 0.8333 - val_loss: 0.5272 - val_accuracy: 1.0000\n",
      "Epoch 15/50\n",
      "6/6 [==============================] - 0s 9ms/step - loss: 0.5574 - accuracy: 0.8333 - val_loss: 0.5103 - val_accuracy: 1.0000\n",
      "Epoch 16/50\n",
      "6/6 [==============================] - 0s 8ms/step - loss: 0.5144 - accuracy: 0.8333 - val_loss: 0.4971 - val_accuracy: 1.0000\n",
      "Epoch 17/50\n",
      "6/6 [==============================] - 0s 8ms/step - loss: 0.4959 - accuracy: 1.0000 - val_loss: 0.4827 - val_accuracy: 1.0000\n",
      "Epoch 18/50\n",
      "6/6 [==============================] - 0s 8ms/step - loss: 0.5093 - accuracy: 1.0000 - val_loss: 0.4744 - val_accuracy: 1.0000\n",
      "Epoch 19/50\n",
      "6/6 [==============================] - 0s 8ms/step - loss: 0.4984 - accuracy: 1.0000 - val_loss: 0.4554 - val_accuracy: 1.0000\n",
      "Epoch 20/50\n",
      "6/6 [==============================] - 0s 8ms/step - loss: 0.4653 - accuracy: 1.0000 - val_loss: 0.4428 - val_accuracy: 1.0000\n",
      "Epoch 21/50\n",
      "6/6 [==============================] - 0s 8ms/step - loss: 0.4540 - accuracy: 1.0000 - val_loss: 0.4317 - val_accuracy: 1.0000\n",
      "Epoch 22/50\n",
      "6/6 [==============================] - 0s 8ms/step - loss: 0.4441 - accuracy: 1.0000 - val_loss: 0.4169 - val_accuracy: 1.0000\n",
      "Epoch 23/50\n",
      "6/6 [==============================] - 0s 8ms/step - loss: 0.4272 - accuracy: 1.0000 - val_loss: 0.4045 - val_accuracy: 1.0000\n",
      "Epoch 24/50\n",
      "6/6 [==============================] - 0s 8ms/step - loss: 0.4199 - accuracy: 1.0000 - val_loss: 0.3942 - val_accuracy: 1.0000\n",
      "Epoch 25/50\n",
      "6/6 [==============================] - 0s 9ms/step - loss: 0.3989 - accuracy: 1.0000 - val_loss: 0.3831 - val_accuracy: 1.0000\n",
      "Epoch 26/50\n",
      "6/6 [==============================] - 0s 8ms/step - loss: 0.3887 - accuracy: 1.0000 - val_loss: 0.3708 - val_accuracy: 1.0000\n",
      "Epoch 27/50\n",
      "6/6 [==============================] - 0s 8ms/step - loss: 0.3927 - accuracy: 1.0000 - val_loss: 0.3579 - val_accuracy: 1.0000\n",
      "Epoch 28/50\n",
      "6/6 [==============================] - 0s 8ms/step - loss: 0.3610 - accuracy: 1.0000 - val_loss: 0.3452 - val_accuracy: 1.0000\n",
      "Epoch 29/50\n",
      "6/6 [==============================] - 0s 8ms/step - loss: 0.3517 - accuracy: 1.0000 - val_loss: 0.3356 - val_accuracy: 1.0000\n",
      "Epoch 30/50\n",
      "6/6 [==============================] - 0s 8ms/step - loss: 0.3542 - accuracy: 1.0000 - val_loss: 0.3224 - val_accuracy: 1.0000\n",
      "Epoch 31/50\n",
      "6/6 [==============================] - 0s 8ms/step - loss: 0.3283 - accuracy: 1.0000 - val_loss: 0.3113 - val_accuracy: 1.0000\n",
      "Epoch 32/50\n",
      "6/6 [==============================] - 0s 8ms/step - loss: 0.3141 - accuracy: 1.0000 - val_loss: 0.2998 - val_accuracy: 1.0000\n",
      "Epoch 33/50\n",
      "6/6 [==============================] - 0s 8ms/step - loss: 0.3051 - accuracy: 1.0000 - val_loss: 0.2896 - val_accuracy: 1.0000\n",
      "Epoch 34/50\n",
      "6/6 [==============================] - 0s 10ms/step - loss: 0.3032 - accuracy: 1.0000 - val_loss: 0.2788 - val_accuracy: 1.0000\n",
      "Epoch 35/50\n",
      "6/6 [==============================] - 0s 8ms/step - loss: 0.2930 - accuracy: 1.0000 - val_loss: 0.2712 - val_accuracy: 1.0000\n",
      "Epoch 36/50\n",
      "6/6 [==============================] - 0s 7ms/step - loss: 0.2921 - accuracy: 1.0000 - val_loss: 0.2637 - val_accuracy: 1.0000\n",
      "Epoch 37/50\n",
      "6/6 [==============================] - 0s 9ms/step - loss: 0.2966 - accuracy: 1.0000 - val_loss: 0.2500 - val_accuracy: 1.0000\n",
      "Epoch 38/50\n",
      "6/6 [==============================] - 0s 8ms/step - loss: 0.2633 - accuracy: 1.0000 - val_loss: 0.2412 - val_accuracy: 1.0000\n",
      "Epoch 39/50\n",
      "6/6 [==============================] - 0s 7ms/step - loss: 0.2440 - accuracy: 1.0000 - val_loss: 0.2289 - val_accuracy: 1.0000\n",
      "Epoch 40/50\n",
      "6/6 [==============================] - 0s 8ms/step - loss: 0.2443 - accuracy: 1.0000 - val_loss: 0.2177 - val_accuracy: 1.0000\n",
      "Epoch 41/50\n",
      "6/6 [==============================] - 0s 9ms/step - loss: 0.2426 - accuracy: 1.0000 - val_loss: 0.2091 - val_accuracy: 1.0000\n",
      "Epoch 42/50\n",
      "6/6 [==============================] - 0s 8ms/step - loss: 0.2153 - accuracy: 1.0000 - val_loss: 0.1982 - val_accuracy: 1.0000\n",
      "Epoch 43/50\n",
      "6/6 [==============================] - 0s 8ms/step - loss: 0.2027 - accuracy: 1.0000 - val_loss: 0.1891 - val_accuracy: 1.0000\n",
      "Epoch 44/50\n",
      "6/6 [==============================] - 0s 7ms/step - loss: 0.2180 - accuracy: 1.0000 - val_loss: 0.1831 - val_accuracy: 1.0000\n",
      "Epoch 45/50\n",
      "6/6 [==============================] - 0s 9ms/step - loss: 0.1798 - accuracy: 1.0000 - val_loss: 0.1710 - val_accuracy: 1.0000\n",
      "Epoch 46/50\n",
      "6/6 [==============================] - 0s 7ms/step - loss: 0.1716 - accuracy: 1.0000 - val_loss: 0.1643 - val_accuracy: 1.0000\n",
      "Epoch 47/50\n",
      "6/6 [==============================] - 0s 8ms/step - loss: 0.2079 - accuracy: 1.0000 - val_loss: 0.1694 - val_accuracy: 1.0000\n",
      "Epoch 48/50\n",
      "6/6 [==============================] - 0s 8ms/step - loss: 0.1815 - accuracy: 1.0000 - val_loss: 0.1480 - val_accuracy: 1.0000\n",
      "Epoch 49/50\n",
      "6/6 [==============================] - 0s 8ms/step - loss: 0.1571 - accuracy: 1.0000 - val_loss: 0.1394 - val_accuracy: 1.0000\n",
      "Epoch 50/50\n",
      "6/6 [==============================] - 0s 9ms/step - loss: 0.1472 - accuracy: 1.0000 - val_loss: 0.1309 - val_accuracy: 1.0000\n"
     ]
    }
   ],
   "source": [
    "# Final learning scenario -- NUT\n",
    "#batchSize, width, learningRate\n",
    "pmNUT = perceptron(width=2,learningRate=0.2)\n",
    "training_verbosity = 1 #set to 1 or 2 for more detaied training output, 0 for none\n",
    "history = pmNUT.fit(x=xNUT, y=yNUT, batch_size=1, epochs=50, verbose=training_verbosity, callbacks=None, \n",
    "    validation_split=0.0, validation_data=(xNUT,yNUT), shuffle=True, class_weight=None, \n",
    "    sample_weight=None, initial_epoch=0)"
   ]
  },
  {
   "cell_type": "code",
   "execution_count": 21,
   "metadata": {},
   "outputs": [],
   "source": [
    "## Step 7b:  Evaluate model performance on the NUT dataset"
   ]
  },
  {
   "cell_type": "code",
   "execution_count": 22,
   "metadata": {},
   "outputs": [
    {
     "name": "stdout",
     "output_type": "stream",
     "text": [
      "1/1 - 0s - loss: 0.1309 - accuracy: 1.0000\n",
      "[0.13090050220489502, 1.0]\n",
      "[array([[-3.5480366],\n",
      "       [ 6.220371 ]], dtype=float32), array([-2.6972709], dtype=float32)]\n"
     ]
    },
    {
     "data": {
      "image/png": "[encoded data removed]",
      "text/plain": [
       "<Figure size 432x288 with 1 Axes>"
      ]
     },
     "metadata": {
      "needs_background": "light"
     },
     "output_type": "display_data"
    },
    {
     "data": {
      "image/png": "[encoded data removed]",
      "text/plain": [
       "<Figure size 432x288 with 1 Axes>"
      ]
     },
     "metadata": {
      "needs_background": "light"
     },
     "output_type": "display_data"
    }
   ],
   "source": [
    "lossValMetrics = pmNUT.evaluate(xNUT, yNUT, batch_size=6, verbose=2, sample_weight=None)\n",
    "print(lossValMetrics)\n",
    "print(pmNUT.get_weights())\n",
    "graphHistory(history, '(NUT)')"
   ]
  },
  {
   "cell_type": "markdown",
   "metadata": {},
   "source": [
    "## Step 7c:  Plot decision boundary on NUT dataset"
   ]
  },
  {
   "cell_type": "code",
   "execution_count": 23,
   "metadata": {},
   "outputs": [
    {
     "data": {
      "image/png": "[encoded data removed]",
      "text/plain": [
       "<Figure size 432x288 with 1 Axes>"
      ]
     },
     "metadata": {
      "needs_background": "light"
     },
     "output_type": "display_data"
    }
   ],
   "source": [
    "makeDecisionBoundaryBool2(pmNUT,xNUT,yNUT,'Nut Dataset Decision Boundary')"
   ]
  },
  {
   "cell_type": "markdown",
   "metadata": {},
   "source": [
    "The Nut dataset has a smaller maximum margin between classes and more datapoints. This makes it unsuitable to higher learning rates, with rates of 0.4 or higher failing to achieve 1.0 accuracy at least 33% of the time. However, on lower learning rates and a small amount of epochs (50), the perceptron is repeatably able to achieve 1.0 accuracy and a decision boundary that is very similar across initial seeds."
   ]
  },
  {
   "cell_type": "markdown",
   "metadata": {},
   "source": [
    "# Step 8: Modeling XOR logic with a single perceptron"
   ]
  },
  {
   "cell_type": "markdown",
   "metadata": {},
   "source": [
    "## Step 8a:  Fit a single perceptron to the XOR data"
   ]
  },
  {
   "cell_type": "code",
   "execution_count": 24,
   "metadata": {},
   "outputs": [
    {
     "name": "stdout",
     "output_type": "stream",
     "text": [
      "Starting XOR training\n",
      "Epoch 1/200\n",
      "4/4 [==============================] - 0s 33ms/step - loss: 4.1780 - accuracy: 0.5000 - val_loss: 4.1390 - val_accuracy: 0.5000\n",
      "Epoch 2/200\n",
      "4/4 [==============================] - 0s 9ms/step - loss: 4.1397 - accuracy: 0.5000 - val_loss: 4.1166 - val_accuracy: 0.5000\n",
      "Epoch 3/200\n",
      "4/4 [==============================] - 0s 10ms/step - loss: 4.1107 - accuracy: 0.5000 - val_loss: 4.0971 - val_accuracy: 0.5000\n",
      "Epoch 4/200\n",
      "4/4 [==============================] - 0s 9ms/step - loss: 4.0919 - accuracy: 0.5000 - val_loss: 4.0819 - val_accuracy: 0.5000\n",
      "Epoch 5/200\n",
      "4/4 [==============================] - 0s 10ms/step - loss: 4.0815 - accuracy: 0.5000 - val_loss: 4.0614 - val_accuracy: 0.5000\n",
      "Epoch 6/200\n",
      "4/4 [==============================] - 0s 9ms/step - loss: 4.0607 - accuracy: 0.5000 - val_loss: 4.0436 - val_accuracy: 0.5000\n",
      "Epoch 7/200\n",
      "4/4 [==============================] - 0s 11ms/step - loss: 4.0436 - accuracy: 0.5000 - val_loss: 4.0284 - val_accuracy: 0.5000\n",
      "Epoch 8/200\n",
      "4/4 [==============================] - 0s 10ms/step - loss: 4.0295 - accuracy: 0.5000 - val_loss: 4.0150 - val_accuracy: 0.5000\n",
      "Epoch 9/200\n",
      "4/4 [==============================] - 0s 10ms/step - loss: 4.0105 - accuracy: 0.5000 - val_loss: 4.0075 - val_accuracy: 0.5000\n",
      "Epoch 10/200\n",
      "4/4 [==============================] - 0s 10ms/step - loss: 4.0050 - accuracy: 0.5000 - val_loss: 3.9956 - val_accuracy: 0.5000\n",
      "Epoch 11/200\n",
      "4/4 [==============================] - 0s 9ms/step - loss: 3.9964 - accuracy: 0.5000 - val_loss: 3.9864 - val_accuracy: 0.7500\n",
      "Epoch 12/200\n",
      "4/4 [==============================] - 0s 11ms/step - loss: 3.9850 - accuracy: 0.7500 - val_loss: 3.9739 - val_accuracy: 0.7500\n",
      "Epoch 13/200\n",
      "4/4 [==============================] - 0s 10ms/step - loss: 3.9707 - accuracy: 0.7500 - val_loss: 3.9657 - val_accuracy: 0.7500\n",
      "Epoch 14/200\n",
      "4/4 [==============================] - 0s 10ms/step - loss: 3.9657 - accuracy: 0.7500 - val_loss: 3.9560 - val_accuracy: 0.7500\n",
      "Epoch 15/200\n",
      "4/4 [==============================] - 0s 9ms/step - loss: 3.9565 - accuracy: 0.7500 - val_loss: 3.9477 - val_accuracy: 0.7500\n",
      "Epoch 16/200\n",
      "4/4 [==============================] - 0s 10ms/step - loss: 3.9484 - accuracy: 0.7500 - val_loss: 3.9406 - val_accuracy: 0.7500\n",
      "Epoch 17/200\n",
      "4/4 [==============================] - 0s 10ms/step - loss: 3.9406 - accuracy: 0.7500 - val_loss: 3.9329 - val_accuracy: 0.7500\n",
      "Epoch 18/200\n",
      "4/4 [==============================] - 0s 9ms/step - loss: 3.9301 - accuracy: 0.7500 - val_loss: 3.9272 - val_accuracy: 0.7500\n",
      "Epoch 19/200\n",
      "4/4 [==============================] - 0s 9ms/step - loss: 3.9307 - accuracy: 0.7500 - val_loss: 3.9220 - val_accuracy: 0.7500\n",
      "Epoch 20/200\n",
      "4/4 [==============================] - 0s 11ms/step - loss: 3.9185 - accuracy: 0.7500 - val_loss: 3.9138 - val_accuracy: 0.7500\n",
      "Epoch 21/200\n",
      "4/4 [==============================] - 0s 10ms/step - loss: 3.9138 - accuracy: 0.7500 - val_loss: 3.9089 - val_accuracy: 0.7500\n",
      "Epoch 22/200\n",
      "4/4 [==============================] - 0s 10ms/step - loss: 3.9080 - accuracy: 0.7500 - val_loss: 3.9034 - val_accuracy: 0.7500\n",
      "Epoch 23/200\n",
      "4/4 [==============================] - 0s 10ms/step - loss: 3.9000 - accuracy: 0.7500 - val_loss: 3.8982 - val_accuracy: 0.7500\n",
      "Epoch 24/200\n",
      "4/4 [==============================] - 0s 10ms/step - loss: 3.8952 - accuracy: 0.7500 - val_loss: 3.8922 - val_accuracy: 0.7500\n",
      "Epoch 25/200\n",
      "4/4 [==============================] - 0s 9ms/step - loss: 3.8921 - accuracy: 0.7500 - val_loss: 3.8887 - val_accuracy: 0.7500\n",
      "Epoch 26/200\n",
      "4/4 [==============================] - 0s 11ms/step - loss: 3.8899 - accuracy: 0.7500 - val_loss: 3.8807 - val_accuracy: 0.7500\n",
      "Epoch 27/200\n",
      "4/4 [==============================] - 0s 10ms/step - loss: 3.8789 - accuracy: 0.7500 - val_loss: 3.8779 - val_accuracy: 0.7500\n",
      "Epoch 28/200\n",
      "4/4 [==============================] - 0s 11ms/step - loss: 3.8771 - accuracy: 0.7500 - val_loss: 3.8730 - val_accuracy: 0.7500\n",
      "Epoch 29/200\n",
      "4/4 [==============================] - 0s 10ms/step - loss: 3.8709 - accuracy: 0.7500 - val_loss: 3.8682 - val_accuracy: 0.7500\n",
      "Epoch 30/200\n",
      "4/4 [==============================] - 0s 10ms/step - loss: 3.8664 - accuracy: 0.7500 - val_loss: 3.8643 - val_accuracy: 0.7500\n",
      "Epoch 31/200\n",
      "4/4 [==============================] - 0s 9ms/step - loss: 3.8615 - accuracy: 0.7500 - val_loss: 3.8600 - val_accuracy: 0.7500\n",
      "Epoch 32/200\n",
      "4/4 [==============================] - 0s 12ms/step - loss: 3.8565 - accuracy: 0.7500 - val_loss: 3.8549 - val_accuracy: 0.7500\n",
      "Epoch 33/200\n",
      "4/4 [==============================] - 0s 11ms/step - loss: 3.8560 - accuracy: 0.7500 - val_loss: 3.8487 - val_accuracy: 0.7500\n",
      "Epoch 34/200\n",
      "4/4 [==============================] - 0s 10ms/step - loss: 3.8481 - accuracy: 0.7500 - val_loss: 3.8461 - val_accuracy: 0.7500\n",
      "Epoch 35/200\n",
      "4/4 [==============================] - 0s 10ms/step - loss: 3.8442 - accuracy: 0.7500 - val_loss: 3.8430 - val_accuracy: 0.7500\n",
      "Epoch 36/200\n",
      "4/4 [==============================] - 0s 10ms/step - loss: 3.8430 - accuracy: 0.7500 - val_loss: 3.8375 - val_accuracy: 0.7500\n",
      "Epoch 37/200\n",
      "4/4 [==============================] - 0s 9ms/step - loss: 3.8346 - accuracy: 0.7500 - val_loss: 3.8333 - val_accuracy: 0.7500\n",
      "Epoch 38/200\n",
      "4/4 [==============================] - 0s 9ms/step - loss: 3.8310 - accuracy: 0.7500 - val_loss: 3.8327 - val_accuracy: 0.7500\n",
      "Epoch 39/200\n",
      "4/4 [==============================] - 0s 11ms/step - loss: 3.8340 - accuracy: 0.7500 - val_loss: 3.8282 - val_accuracy: 0.7500\n",
      "Epoch 40/200\n",
      "4/4 [==============================] - 0s 11ms/step - loss: 3.8269 - accuracy: 0.7500 - val_loss: 3.8242 - val_accuracy: 0.7500\n",
      "Epoch 41/200\n",
      "4/4 [==============================] - 0s 10ms/step - loss: 3.8235 - accuracy: 0.7500 - val_loss: 3.8219 - val_accuracy: 0.7500\n",
      "Epoch 42/200\n",
      "4/4 [==============================] - 0s 10ms/step - loss: 3.8212 - accuracy: 0.7500 - val_loss: 3.8181 - val_accuracy: 0.7500\n",
      "Epoch 43/200\n",
      "4/4 [==============================] - 0s 8ms/step - loss: 3.8159 - accuracy: 0.7500 - val_loss: 3.8147 - val_accuracy: 0.7500\n",
      "Epoch 44/200\n",
      "4/4 [==============================] - 0s 12ms/step - loss: 3.8147 - accuracy: 0.7500 - val_loss: 3.8135 - val_accuracy: 0.7500\n",
      "Epoch 45/200\n",
      "4/4 [==============================] - 0s 11ms/step - loss: 3.8143 - accuracy: 0.7500 - val_loss: 3.8123 - val_accuracy: 0.7500\n",
      "Epoch 46/200\n",
      "4/4 [==============================] - 0s 10ms/step - loss: 3.8123 - accuracy: 0.7500 - val_loss: 3.8123 - val_accuracy: 0.7500\n",
      "Epoch 47/200\n",
      "4/4 [==============================] - 0s 10ms/step - loss: 3.8123 - accuracy: 0.7500 - val_loss: 3.8123 - val_accuracy: 0.7500\n",
      "Epoch 48/200\n",
      "4/4 [==============================] - 0s 11ms/step - loss: 3.8123 - accuracy: 0.7500 - val_loss: 3.8123 - val_accuracy: 0.7500\n",
      "Epoch 49/200\n",
      "4/4 [==============================] - 0s 11ms/step - loss: 3.8123 - accuracy: 0.7500 - val_loss: 3.8123 - val_accuracy: 0.7500\n",
      "Epoch 50/200\n",
      "4/4 [==============================] - 0s 10ms/step - loss: 3.8123 - accuracy: 0.7500 - val_loss: 3.8123 - val_accuracy: 0.7500\n",
      "Epoch 51/200\n",
      "4/4 [==============================] - 0s 10ms/step - loss: 3.8123 - accuracy: 0.7500 - val_loss: 3.8123 - val_accuracy: 0.7500\n",
      "Epoch 52/200\n",
      "4/4 [==============================] - 0s 9ms/step - loss: 3.8123 - accuracy: 0.7500 - val_loss: 3.8123 - val_accuracy: 0.7500\n",
      "Epoch 53/200\n",
      "4/4 [==============================] - 0s 10ms/step - loss: 3.8123 - accuracy: 0.7500 - val_loss: 3.8123 - val_accuracy: 0.7500\n",
      "Epoch 54/200\n",
      "4/4 [==============================] - 0s 10ms/step - loss: 3.8123 - accuracy: 0.7500 - val_loss: 3.8123 - val_accuracy: 0.7500\n",
      "Epoch 55/200\n",
      "4/4 [==============================] - 0s 12ms/step - loss: 3.8123 - accuracy: 0.7500 - val_loss: 3.8123 - val_accuracy: 0.7500\n",
      "Epoch 56/200\n",
      "4/4 [==============================] - 0s 11ms/step - loss: 3.8123 - accuracy: 0.7500 - val_loss: 3.8123 - val_accuracy: 0.7500\n",
      "Epoch 57/200\n",
      "4/4 [==============================] - 0s 10ms/step - loss: 3.8123 - accuracy: 0.7500 - val_loss: 3.8123 - val_accuracy: 0.7500\n",
      "Epoch 58/200\n",
      "4/4 [==============================] - 0s 10ms/step - loss: 3.8123 - accuracy: 0.7500 - val_loss: 3.8123 - val_accuracy: 0.7500\n",
      "Epoch 59/200\n",
      "4/4 [==============================] - 0s 10ms/step - loss: 3.8123 - accuracy: 0.7500 - val_loss: 3.8123 - val_accuracy: 0.7500\n",
      "Epoch 60/200\n",
      "4/4 [==============================] - 0s 9ms/step - loss: 3.8123 - accuracy: 0.7500 - val_loss: 3.8123 - val_accuracy: 0.7500\n",
      "Epoch 61/200\n",
      "4/4 [==============================] - 0s 12ms/step - loss: 3.8123 - accuracy: 0.7500 - val_loss: 3.8123 - val_accuracy: 0.7500\n",
      "Epoch 62/200\n",
      "4/4 [==============================] - 0s 11ms/step - loss: 3.8123 - accuracy: 0.7500 - val_loss: 3.8123 - val_accuracy: 0.7500\n",
      "Epoch 63/200\n",
      "4/4 [==============================] - 0s 10ms/step - loss: 3.8123 - accuracy: 0.7500 - val_loss: 3.8123 - val_accuracy: 0.7500\n",
      "Epoch 64/200\n",
      "4/4 [==============================] - 0s 10ms/step - loss: 3.8123 - accuracy: 0.7500 - val_loss: 3.8123 - val_accuracy: 0.7500\n",
      "Epoch 65/200\n",
      "4/4 [==============================] - 0s 9ms/step - loss: 3.8123 - accuracy: 0.7500 - val_loss: 3.8123 - val_accuracy: 0.7500\n",
      "Epoch 66/200\n",
      "4/4 [==============================] - 0s 10ms/step - loss: 3.8123 - accuracy: 0.7500 - val_loss: 3.8123 - val_accuracy: 0.7500\n",
      "Epoch 67/200\n",
      "4/4 [==============================] - 0s 9ms/step - loss: 3.8123 - accuracy: 0.7500 - val_loss: 3.8123 - val_accuracy: 0.7500\n",
      "Epoch 68/200\n",
      "4/4 [==============================] - 0s 11ms/step - loss: 3.8123 - accuracy: 0.7500 - val_loss: 3.8123 - val_accuracy: 0.7500\n",
      "Epoch 69/200\n",
      "4/4 [==============================] - 0s 11ms/step - loss: 3.8123 - accuracy: 0.7500 - val_loss: 3.8123 - val_accuracy: 0.7500\n",
      "Epoch 70/200\n",
      "4/4 [==============================] - 0s 11ms/step - loss: 3.8123 - accuracy: 0.7500 - val_loss: 3.8123 - val_accuracy: 0.7500\n",
      "Epoch 71/200\n",
      "4/4 [==============================] - 0s 11ms/step - loss: 3.8123 - accuracy: 0.7500 - val_loss: 3.8123 - val_accuracy: 0.7500\n",
      "Epoch 72/200\n",
      "4/4 [==============================] - 0s 9ms/step - loss: 3.8123 - accuracy: 0.7500 - val_loss: 3.8123 - val_accuracy: 0.7500\n",
      "Epoch 73/200\n",
      "4/4 [==============================] - 0s 12ms/step - loss: 3.8123 - accuracy: 0.7500 - val_loss: 3.8123 - val_accuracy: 0.7500\n",
      "Epoch 74/200\n",
      "4/4 [==============================] - 0s 10ms/step - loss: 3.8123 - accuracy: 0.7500 - val_loss: 3.8123 - val_accuracy: 0.7500\n",
      "Epoch 75/200\n",
      "4/4 [==============================] - 0s 9ms/step - loss: 3.8123 - accuracy: 0.7500 - val_loss: 3.8123 - val_accuracy: 0.7500\n",
      "Epoch 76/200\n",
      "4/4 [==============================] - 0s 10ms/step - loss: 3.8123 - accuracy: 0.7500 - val_loss: 3.8123 - val_accuracy: 0.7500\n",
      "Epoch 77/200\n",
      "4/4 [==============================] - 0s 11ms/step - loss: 3.8123 - accuracy: 0.7500 - val_loss: 3.8123 - val_accuracy: 0.7500\n",
      "Epoch 78/200\n",
      "4/4 [==============================] - 0s 10ms/step - loss: 3.8123 - accuracy: 0.7500 - val_loss: 3.8123 - val_accuracy: 0.7500\n",
      "Epoch 79/200\n",
      "4/4 [==============================] - 0s 10ms/step - loss: 3.8123 - accuracy: 0.7500 - val_loss: 3.8123 - val_accuracy: 0.7500\n",
      "Epoch 80/200\n",
      "4/4 [==============================] - 0s 10ms/step - loss: 3.8123 - accuracy: 0.7500 - val_loss: 3.8123 - val_accuracy: 0.7500\n",
      "Epoch 81/200\n",
      "4/4 [==============================] - 0s 10ms/step - loss: 3.8123 - accuracy: 0.7500 - val_loss: 3.8123 - val_accuracy: 0.7500\n",
      "Epoch 82/200\n",
      "4/4 [==============================] - 0s 9ms/step - loss: 3.8123 - accuracy: 0.7500 - val_loss: 3.8123 - val_accuracy: 0.7500\n",
      "Epoch 83/200\n",
      "4/4 [==============================] - 0s 10ms/step - loss: 3.8123 - accuracy: 0.7500 - val_loss: 3.8123 - val_accuracy: 0.7500\n",
      "Epoch 84/200\n",
      "4/4 [==============================] - 0s 11ms/step - loss: 3.8123 - accuracy: 0.7500 - val_loss: 3.8123 - val_accuracy: 0.7500\n",
      "Epoch 85/200\n",
      "4/4 [==============================] - 0s 11ms/step - loss: 3.8123 - accuracy: 0.7500 - val_loss: 3.8123 - val_accuracy: 0.7500\n",
      "Epoch 86/200\n",
      "4/4 [==============================] - 0s 10ms/step - loss: 3.8123 - accuracy: 0.7500 - val_loss: 3.8123 - val_accuracy: 0.7500\n",
      "Epoch 87/200\n",
      "4/4 [==============================] - 0s 10ms/step - loss: 3.8123 - accuracy: 0.7500 - val_loss: 3.8123 - val_accuracy: 0.7500\n",
      "Epoch 88/200\n",
      "4/4 [==============================] - 0s 8ms/step - loss: 3.8123 - accuracy: 0.7500 - val_loss: 3.8123 - val_accuracy: 0.7500\n",
      "Epoch 89/200\n",
      "4/4 [==============================] - 0s 10ms/step - loss: 3.8123 - accuracy: 0.7500 - val_loss: 3.8123 - val_accuracy: 0.7500\n",
      "Epoch 90/200\n",
      "4/4 [==============================] - 0s 10ms/step - loss: 3.8123 - accuracy: 0.7500 - val_loss: 3.8123 - val_accuracy: 0.7500\n",
      "Epoch 91/200\n",
      "4/4 [==============================] - 0s 11ms/step - loss: 3.8123 - accuracy: 0.7500 - val_loss: 3.8123 - val_accuracy: 0.7500\n",
      "Epoch 92/200\n",
      "4/4 [==============================] - 0s 10ms/step - loss: 3.8123 - accuracy: 0.7500 - val_loss: 3.8123 - val_accuracy: 0.7500\n",
      "Epoch 93/200\n",
      "4/4 [==============================] - 0s 9ms/step - loss: 3.8123 - accuracy: 0.7500 - val_loss: 3.8123 - val_accuracy: 0.7500\n",
      "Epoch 94/200\n",
      "4/4 [==============================] - 0s 9ms/step - loss: 3.8123 - accuracy: 0.7500 - val_loss: 3.8123 - val_accuracy: 0.7500\n",
      "Epoch 95/200\n",
      "4/4 [==============================] - 0s 10ms/step - loss: 3.8123 - accuracy: 0.7500 - val_loss: 3.8123 - val_accuracy: 0.7500\n",
      "Epoch 96/200\n",
      "4/4 [==============================] - 0s 9ms/step - loss: 3.8123 - accuracy: 0.7500 - val_loss: 3.8123 - val_accuracy: 0.7500\n",
      "Epoch 97/200\n",
      "4/4 [==============================] - 0s 9ms/step - loss: 3.8123 - accuracy: 0.7500 - val_loss: 3.8123 - val_accuracy: 0.7500\n",
      "Epoch 98/200\n",
      "4/4 [==============================] - 0s 13ms/step - loss: 3.8123 - accuracy: 0.7500 - val_loss: 3.8123 - val_accuracy: 0.7500\n",
      "Epoch 99/200\n",
      "4/4 [==============================] - 0s 10ms/step - loss: 3.8123 - accuracy: 0.7500 - val_loss: 3.8123 - val_accuracy: 0.7500\n",
      "Epoch 100/200\n",
      "4/4 [==============================] - 0s 9ms/step - loss: 3.8123 - accuracy: 0.7500 - val_loss: 3.8123 - val_accuracy: 0.7500\n",
      "Epoch 101/200\n",
      "4/4 [==============================] - 0s 10ms/step - loss: 3.8123 - accuracy: 0.7500 - val_loss: 3.8123 - val_accuracy: 0.7500\n",
      "Epoch 102/200\n",
      "4/4 [==============================] - 0s 9ms/step - loss: 3.8123 - accuracy: 0.7500 - val_loss: 3.8123 - val_accuracy: 0.7500\n",
      "Epoch 103/200\n",
      "4/4 [==============================] - 0s 11ms/step - loss: 3.8123 - accuracy: 0.7500 - val_loss: 3.8123 - val_accuracy: 0.7500\n",
      "Epoch 104/200\n",
      "4/4 [==============================] - 0s 11ms/step - loss: 3.8123 - accuracy: 0.7500 - val_loss: 3.8123 - val_accuracy: 0.7500\n",
      "Epoch 105/200\n",
      "4/4 [==============================] - 0s 10ms/step - loss: 3.8123 - accuracy: 0.7500 - val_loss: 3.8123 - val_accuracy: 0.7500\n",
      "Epoch 106/200\n",
      "4/4 [==============================] - 0s 9ms/step - loss: 3.8123 - accuracy: 0.7500 - val_loss: 3.8123 - val_accuracy: 0.7500\n",
      "Epoch 107/200\n",
      "4/4 [==============================] - 0s 9ms/step - loss: 3.8123 - accuracy: 0.7500 - val_loss: 3.8123 - val_accuracy: 0.7500\n",
      "Epoch 108/200\n",
      "4/4 [==============================] - 0s 10ms/step - loss: 3.8123 - accuracy: 0.7500 - val_loss: 3.8123 - val_accuracy: 0.7500\n",
      "Epoch 109/200\n",
      "4/4 [==============================] - 0s 11ms/step - loss: 3.8123 - accuracy: 0.7500 - val_loss: 3.8123 - val_accuracy: 0.7500\n",
      "Epoch 110/200\n",
      "4/4 [==============================] - 0s 11ms/step - loss: 3.8123 - accuracy: 0.7500 - val_loss: 3.8123 - val_accuracy: 0.7500\n",
      "Epoch 111/200\n",
      "4/4 [==============================] - 0s 9ms/step - loss: 3.8123 - accuracy: 0.7500 - val_loss: 3.8123 - val_accuracy: 0.7500\n",
      "Epoch 112/200\n",
      "4/4 [==============================] - 0s 9ms/step - loss: 3.8123 - accuracy: 0.7500 - val_loss: 3.8123 - val_accuracy: 0.7500\n",
      "Epoch 113/200\n",
      "4/4 [==============================] - 0s 10ms/step - loss: 3.8123 - accuracy: 0.7500 - val_loss: 3.8123 - val_accuracy: 0.7500\n",
      "Epoch 114/200\n",
      "4/4 [==============================] - 0s 11ms/step - loss: 3.8123 - accuracy: 0.7500 - val_loss: 3.8123 - val_accuracy: 0.7500\n",
      "Epoch 115/200\n",
      "4/4 [==============================] - 0s 11ms/step - loss: 3.8123 - accuracy: 0.7500 - val_loss: 3.8123 - val_accuracy: 0.7500\n",
      "Epoch 116/200\n",
      "4/4 [==============================] - 0s 8ms/step - loss: 3.8123 - accuracy: 0.7500 - val_loss: 3.8123 - val_accuracy: 0.7500\n",
      "Epoch 117/200\n",
      "4/4 [==============================] - 0s 13ms/step - loss: 3.8123 - accuracy: 0.7500 - val_loss: 3.8123 - val_accuracy: 0.7500\n",
      "Epoch 118/200\n",
      "4/4 [==============================] - 0s 11ms/step - loss: 3.8123 - accuracy: 0.7500 - val_loss: 3.8123 - val_accuracy: 0.7500\n",
      "Epoch 119/200\n",
      "4/4 [==============================] - 0s 12ms/step - loss: 3.8123 - accuracy: 0.7500 - val_loss: 3.8123 - val_accuracy: 0.7500\n",
      "Epoch 120/200\n",
      "4/4 [==============================] - 0s 11ms/step - loss: 3.8123 - accuracy: 0.7500 - val_loss: 3.8123 - val_accuracy: 0.7500\n",
      "Epoch 121/200\n",
      "4/4 [==============================] - 0s 10ms/step - loss: 3.8123 - accuracy: 0.7500 - val_loss: 3.8123 - val_accuracy: 0.7500\n",
      "Epoch 122/200\n",
      "4/4 [==============================] - 0s 10ms/step - loss: 3.8123 - accuracy: 0.7500 - val_loss: 3.8123 - val_accuracy: 0.7500\n",
      "Epoch 123/200\n",
      "4/4 [==============================] - 0s 10ms/step - loss: 3.8123 - accuracy: 0.7500 - val_loss: 3.8123 - val_accuracy: 0.7500\n",
      "Epoch 124/200\n",
      "4/4 [==============================] - 0s 10ms/step - loss: 3.8123 - accuracy: 0.7500 - val_loss: 3.8123 - val_accuracy: 0.7500\n",
      "Epoch 125/200\n",
      "4/4 [==============================] - 0s 11ms/step - loss: 3.8123 - accuracy: 0.7500 - val_loss: 3.8123 - val_accuracy: 0.7500\n",
      "Epoch 126/200\n",
      "4/4 [==============================] - 0s 11ms/step - loss: 3.8123 - accuracy: 0.7500 - val_loss: 3.8123 - val_accuracy: 0.7500\n",
      "Epoch 127/200\n",
      "4/4 [==============================] - 0s 10ms/step - loss: 3.8123 - accuracy: 0.7500 - val_loss: 3.8123 - val_accuracy: 0.7500\n",
      "Epoch 128/200\n",
      "4/4 [==============================] - 0s 12ms/step - loss: 3.8123 - accuracy: 0.7500 - val_loss: 3.8123 - val_accuracy: 0.7500\n",
      "Epoch 129/200\n",
      "4/4 [==============================] - 0s 10ms/step - loss: 3.8123 - accuracy: 0.7500 - val_loss: 3.8123 - val_accuracy: 0.7500\n",
      "Epoch 130/200\n",
      "4/4 [==============================] - 0s 10ms/step - loss: 3.8123 - accuracy: 0.7500 - val_loss: 3.8123 - val_accuracy: 0.7500\n",
      "Epoch 131/200\n",
      "4/4 [==============================] - 0s 10ms/step - loss: 3.8123 - accuracy: 0.7500 - val_loss: 3.8123 - val_accuracy: 0.7500\n",
      "Epoch 132/200\n",
      "4/4 [==============================] - 0s 10ms/step - loss: 3.8123 - accuracy: 0.7500 - val_loss: 3.8123 - val_accuracy: 0.7500\n",
      "Epoch 133/200\n",
      "4/4 [==============================] - 0s 11ms/step - loss: 3.8123 - accuracy: 0.7500 - val_loss: 3.8123 - val_accuracy: 0.7500\n",
      "Epoch 134/200\n",
      "4/4 [==============================] - 0s 11ms/step - loss: 3.8123 - accuracy: 0.7500 - val_loss: 3.8123 - val_accuracy: 0.7500\n",
      "Epoch 135/200\n",
      "4/4 [==============================] - 0s 8ms/step - loss: 3.8123 - accuracy: 0.7500 - val_loss: 3.8123 - val_accuracy: 0.7500\n",
      "Epoch 136/200\n",
      "4/4 [==============================] - 0s 10ms/step - loss: 3.8123 - accuracy: 0.7500 - val_loss: 3.8123 - val_accuracy: 0.7500\n",
      "Epoch 137/200\n",
      "4/4 [==============================] - 0s 10ms/step - loss: 3.8123 - accuracy: 0.7500 - val_loss: 3.8123 - val_accuracy: 0.7500\n",
      "Epoch 138/200\n",
      "4/4 [==============================] - 0s 11ms/step - loss: 3.8123 - accuracy: 0.7500 - val_loss: 3.8123 - val_accuracy: 0.7500\n",
      "Epoch 139/200\n",
      "4/4 [==============================] - 0s 11ms/step - loss: 3.8123 - accuracy: 0.7500 - val_loss: 3.8123 - val_accuracy: 0.7500\n",
      "Epoch 140/200\n",
      "4/4 [==============================] - 0s 9ms/step - loss: 3.8123 - accuracy: 0.7500 - val_loss: 3.8123 - val_accuracy: 0.7500\n",
      "Epoch 141/200\n",
      "4/4 [==============================] - 0s 12ms/step - loss: 3.8123 - accuracy: 0.7500 - val_loss: 3.8123 - val_accuracy: 0.7500\n",
      "Epoch 142/200\n",
      "4/4 [==============================] - 0s 11ms/step - loss: 3.8123 - accuracy: 0.7500 - val_loss: 3.8123 - val_accuracy: 0.7500\n",
      "Epoch 143/200\n",
      "4/4 [==============================] - 0s 9ms/step - loss: 3.8123 - accuracy: 0.7500 - val_loss: 3.8123 - val_accuracy: 0.7500\n",
      "Epoch 144/200\n",
      "4/4 [==============================] - 0s 10ms/step - loss: 3.8123 - accuracy: 0.7500 - val_loss: 3.8123 - val_accuracy: 0.7500\n",
      "Epoch 145/200\n",
      "4/4 [==============================] - 0s 11ms/step - loss: 3.8123 - accuracy: 0.7500 - val_loss: 3.8123 - val_accuracy: 0.7500\n",
      "Epoch 146/200\n",
      "4/4 [==============================] - 0s 11ms/step - loss: 3.8123 - accuracy: 0.7500 - val_loss: 3.8123 - val_accuracy: 0.7500\n",
      "Epoch 147/200\n",
      "4/4 [==============================] - 0s 8ms/step - loss: 3.8123 - accuracy: 0.7500 - val_loss: 3.8123 - val_accuracy: 0.7500\n",
      "Epoch 148/200\n",
      "4/4 [==============================] - 0s 12ms/step - loss: 3.8123 - accuracy: 0.7500 - val_loss: 3.8123 - val_accuracy: 0.7500\n",
      "Epoch 149/200\n",
      "4/4 [==============================] - 0s 11ms/step - loss: 3.8123 - accuracy: 0.7500 - val_loss: 3.8123 - val_accuracy: 0.7500\n",
      "Epoch 150/200\n",
      "4/4 [==============================] - 0s 11ms/step - loss: 3.8123 - accuracy: 0.7500 - val_loss: 3.8123 - val_accuracy: 0.7500\n",
      "Epoch 151/200\n",
      "4/4 [==============================] - 0s 9ms/step - loss: 3.8123 - accuracy: 0.7500 - val_loss: 3.8123 - val_accuracy: 0.7500\n",
      "Epoch 152/200\n",
      "4/4 [==============================] - 0s 10ms/step - loss: 3.8123 - accuracy: 0.7500 - val_loss: 3.8123 - val_accuracy: 0.7500\n",
      "Epoch 153/200\n",
      "4/4 [==============================] - 0s 10ms/step - loss: 3.8123 - accuracy: 0.7500 - val_loss: 3.8123 - val_accuracy: 0.7500\n",
      "Epoch 154/200\n",
      "4/4 [==============================] - 0s 11ms/step - loss: 3.8123 - accuracy: 0.7500 - val_loss: 3.8123 - val_accuracy: 0.7500\n",
      "Epoch 155/200\n",
      "4/4 [==============================] - 0s 10ms/step - loss: 3.8123 - accuracy: 0.7500 - val_loss: 3.8123 - val_accuracy: 0.7500\n",
      "Epoch 156/200\n",
      "4/4 [==============================] - 0s 9ms/step - loss: 3.8123 - accuracy: 0.7500 - val_loss: 3.8123 - val_accuracy: 0.7500\n",
      "Epoch 157/200\n",
      "4/4 [==============================] - 0s 10ms/step - loss: 3.8123 - accuracy: 0.7500 - val_loss: 3.8123 - val_accuracy: 0.7500\n",
      "Epoch 158/200\n",
      "4/4 [==============================] - 0s 13ms/step - loss: 3.8123 - accuracy: 0.7500 - val_loss: 3.8123 - val_accuracy: 0.7500\n",
      "Epoch 159/200\n",
      "4/4 [==============================] - 0s 9ms/step - loss: 3.8123 - accuracy: 0.7500 - val_loss: 3.8123 - val_accuracy: 0.7500\n",
      "Epoch 160/200\n",
      "4/4 [==============================] - 0s 10ms/step - loss: 3.8123 - accuracy: 0.7500 - val_loss: 3.8123 - val_accuracy: 0.7500\n",
      "Epoch 161/200\n",
      "4/4 [==============================] - 0s 11ms/step - loss: 3.8123 - accuracy: 0.7500 - val_loss: 3.8123 - val_accuracy: 0.7500\n",
      "Epoch 162/200\n",
      "4/4 [==============================] - 0s 10ms/step - loss: 3.8123 - accuracy: 0.7500 - val_loss: 3.8123 - val_accuracy: 0.7500\n",
      "Epoch 163/200\n",
      "4/4 [==============================] - 0s 9ms/step - loss: 3.8123 - accuracy: 0.7500 - val_loss: 3.8123 - val_accuracy: 0.7500\n",
      "Epoch 164/200\n",
      "4/4 [==============================] - 0s 8ms/step - loss: 3.8123 - accuracy: 0.7500 - val_loss: 3.8123 - val_accuracy: 0.7500\n",
      "Epoch 165/200\n",
      "4/4 [==============================] - 0s 10ms/step - loss: 3.8123 - accuracy: 0.7500 - val_loss: 3.8123 - val_accuracy: 0.7500\n",
      "Epoch 166/200\n",
      "4/4 [==============================] - 0s 10ms/step - loss: 3.8123 - accuracy: 0.7500 - val_loss: 3.8123 - val_accuracy: 0.7500\n",
      "Epoch 167/200\n",
      "4/4 [==============================] - 0s 11ms/step - loss: 3.8123 - accuracy: 0.7500 - val_loss: 3.8123 - val_accuracy: 0.7500\n",
      "Epoch 168/200\n",
      "4/4 [==============================] - 0s 10ms/step - loss: 3.8123 - accuracy: 0.7500 - val_loss: 3.8123 - val_accuracy: 0.7500\n",
      "Epoch 169/200\n",
      "4/4 [==============================] - 0s 10ms/step - loss: 3.8123 - accuracy: 0.7500 - val_loss: 3.8123 - val_accuracy: 0.7500\n",
      "Epoch 170/200\n",
      "4/4 [==============================] - 0s 9ms/step - loss: 3.8123 - accuracy: 0.7500 - val_loss: 3.8123 - val_accuracy: 0.7500\n",
      "Epoch 171/200\n",
      "4/4 [==============================] - 0s 11ms/step - loss: 3.8123 - accuracy: 0.7500 - val_loss: 3.8123 - val_accuracy: 0.7500\n",
      "Epoch 172/200\n",
      "4/4 [==============================] - 0s 10ms/step - loss: 3.8123 - accuracy: 0.7500 - val_loss: 3.8123 - val_accuracy: 0.7500\n",
      "Epoch 173/200\n",
      "4/4 [==============================] - 0s 8ms/step - loss: 3.8123 - accuracy: 0.7500 - val_loss: 3.8123 - val_accuracy: 0.7500\n",
      "Epoch 174/200\n",
      "4/4 [==============================] - 0s 10ms/step - loss: 3.8123 - accuracy: 0.7500 - val_loss: 3.8123 - val_accuracy: 0.7500\n",
      "Epoch 175/200\n",
      "4/4 [==============================] - 0s 12ms/step - loss: 3.8123 - accuracy: 0.7500 - val_loss: 3.8123 - val_accuracy: 0.7500\n",
      "Epoch 176/200\n",
      "4/4 [==============================] - 0s 10ms/step - loss: 3.8123 - accuracy: 0.7500 - val_loss: 3.8123 - val_accuracy: 0.7500\n",
      "Epoch 177/200\n",
      "4/4 [==============================] - 0s 10ms/step - loss: 3.8123 - accuracy: 0.7500 - val_loss: 3.8123 - val_accuracy: 0.7500\n",
      "Epoch 178/200\n",
      "4/4 [==============================] - 0s 10ms/step - loss: 3.8123 - accuracy: 0.7500 - val_loss: 3.8123 - val_accuracy: 0.7500\n",
      "Epoch 179/200\n",
      "4/4 [==============================] - 0s 11ms/step - loss: 3.8123 - accuracy: 0.7500 - val_loss: 3.8123 - val_accuracy: 0.7500\n",
      "Epoch 180/200\n",
      "4/4 [==============================] - 0s 11ms/step - loss: 3.8123 - accuracy: 0.7500 - val_loss: 3.8123 - val_accuracy: 0.7500\n",
      "Epoch 181/200\n",
      "4/4 [==============================] - 0s 9ms/step - loss: 3.8123 - accuracy: 0.7500 - val_loss: 3.8123 - val_accuracy: 0.7500\n",
      "Epoch 182/200\n",
      "4/4 [==============================] - 0s 10ms/step - loss: 3.8123 - accuracy: 0.7500 - val_loss: 3.8123 - val_accuracy: 0.7500\n",
      "Epoch 183/200\n",
      "4/4 [==============================] - 0s 10ms/step - loss: 3.8123 - accuracy: 0.7500 - val_loss: 3.8123 - val_accuracy: 0.7500\n",
      "Epoch 184/200\n",
      "4/4 [==============================] - 0s 11ms/step - loss: 3.8123 - accuracy: 0.7500 - val_loss: 3.8123 - val_accuracy: 0.7500\n",
      "Epoch 185/200\n",
      "4/4 [==============================] - 0s 10ms/step - loss: 3.8123 - accuracy: 0.7500 - val_loss: 3.8123 - val_accuracy: 0.7500\n",
      "Epoch 186/200\n",
      "4/4 [==============================] - 0s 8ms/step - loss: 3.8123 - accuracy: 0.7500 - val_loss: 3.8123 - val_accuracy: 0.7500\n",
      "Epoch 187/200\n",
      "4/4 [==============================] - 0s 10ms/step - loss: 3.8123 - accuracy: 0.7500 - val_loss: 3.8123 - val_accuracy: 0.7500\n",
      "Epoch 188/200\n",
      "4/4 [==============================] - 0s 10ms/step - loss: 3.8123 - accuracy: 0.7500 - val_loss: 3.8123 - val_accuracy: 0.7500\n",
      "Epoch 189/200\n",
      "4/4 [==============================] - 0s 11ms/step - loss: 3.8123 - accuracy: 0.7500 - val_loss: 3.8123 - val_accuracy: 0.7500\n",
      "Epoch 190/200\n",
      "4/4 [==============================] - 0s 10ms/step - loss: 3.8123 - accuracy: 0.7500 - val_loss: 3.8123 - val_accuracy: 0.7500\n",
      "Epoch 191/200\n",
      "4/4 [==============================] - 0s 10ms/step - loss: 3.8123 - accuracy: 0.7500 - val_loss: 3.8123 - val_accuracy: 0.7500\n",
      "Epoch 192/200\n",
      "4/4 [==============================] - 0s 9ms/step - loss: 3.8123 - accuracy: 0.7500 - val_loss: 3.8123 - val_accuracy: 0.7500\n",
      "Epoch 193/200\n",
      "4/4 [==============================] - 0s 10ms/step - loss: 3.8123 - accuracy: 0.7500 - val_loss: 3.8123 - val_accuracy: 0.7500\n",
      "Epoch 194/200\n",
      "4/4 [==============================] - 0s 10ms/step - loss: 3.8123 - accuracy: 0.7500 - val_loss: 3.8123 - val_accuracy: 0.7500\n",
      "Epoch 195/200\n",
      "4/4 [==============================] - 0s 11ms/step - loss: 3.8123 - accuracy: 0.7500 - val_loss: 3.8123 - val_accuracy: 0.7500\n",
      "Epoch 196/200\n",
      "4/4 [==============================] - 0s 11ms/step - loss: 3.8123 - accuracy: 0.7500 - val_loss: 3.8123 - val_accuracy: 0.7500\n",
      "Epoch 197/200\n",
      "4/4 [==============================] - 0s 9ms/step - loss: 3.8123 - accuracy: 0.7500 - val_loss: 3.8123 - val_accuracy: 0.7500\n",
      "Epoch 198/200\n",
      "4/4 [==============================] - 0s 14ms/step - loss: 3.8123 - accuracy: 0.7500 - val_loss: 3.8123 - val_accuracy: 0.7500\n",
      "Epoch 199/200\n",
      "4/4 [==============================] - 0s 10ms/step - loss: 3.8123 - accuracy: 0.7500 - val_loss: 3.8123 - val_accuracy: 0.7500\n",
      "Epoch 200/200\n",
      "4/4 [==============================] - 0s 10ms/step - loss: 3.8123 - accuracy: 0.7500 - val_loss: 3.8123 - val_accuracy: 0.7500\n",
      "Completed XOR training\n"
     ]
    }
   ],
   "source": [
    "# This will not perform well due to the classes are not linearly seperable\n",
    "print(\"Starting XOR training\")\n",
    "#batchSize, width, learningRate\n",
    "pm_single_layerXOR = perceptron(width=2,learningRate=.1)\n",
    "training_verbosity = 1 #set to 1 or 2 for more detaied training output, 0 for none\n",
    "history = pm_single_layerXOR.fit(x=xTWO, y=yXOR, batch_size=1, epochs=200, verbose=training_verbosity, callbacks=None, \n",
    "    validation_split=0.0, validation_data=(xTWO,yXOR), shuffle=True, class_weight=None, \n",
    "    sample_weight=None, initial_epoch=0)\n",
    "print(\"Completed XOR training\")"
   ]
  },
  {
   "cell_type": "markdown",
   "metadata": {},
   "source": [
    "## Step 8b:  Evaluate single perceptron model performance on the XOR data"
   ]
  },
  {
   "cell_type": "code",
   "execution_count": 25,
   "metadata": {},
   "outputs": [
    {
     "name": "stdout",
     "output_type": "stream",
     "text": [
      "1/1 - 0s - loss: 3.8123 - accuracy: 0.7500\n",
      "[3.812309503555298, 0.75]\n",
      "[array([[5.4500933],\n",
      "       [5.3242345]], dtype=float32), array([-2.6575263], dtype=float32)]\n"
     ]
    },
    {
     "data": {
      "image/png": "[encoded data removed]",
      "text/plain": [
       "<Figure size 432x288 with 1 Axes>"
      ]
     },
     "metadata": {
      "needs_background": "light"
     },
     "output_type": "display_data"
    },
    {
     "data": {
      "image/png": "[encoded data removed]",
      "text/plain": [
       "<Figure size 432x288 with 1 Axes>"
      ]
     },
     "metadata": {
      "needs_background": "light"
     },
     "output_type": "display_data"
    }
   ],
   "source": [
    "lossValMetrics = pm_single_layerXOR.evaluate(xTWO, yXOR, batch_size=4, verbose=2, sample_weight=None)\n",
    "print(lossValMetrics)\n",
    "print(pm_single_layerXOR.get_weights())\n",
    "graphHistory(history, '(Single Layer XOR)')"
   ]
  },
  {
   "cell_type": "markdown",
   "metadata": {},
   "source": [
    "## Step 8c:  Decision Boundary for XOR using single perceptron"
   ]
  },
  {
   "cell_type": "code",
   "execution_count": 26,
   "metadata": {},
   "outputs": [
    {
     "data": {
      "image/png": "[encoded data removed]",
      "text/plain": [
       "<Figure size 432x288 with 1 Axes>"
      ]
     },
     "metadata": {
      "needs_background": "light"
     },
     "output_type": "display_data"
    }
   ],
   "source": [
    "makeDecisionBoundaryBool2(pm_single_layerXOR,xTWO,yXOR,'Final XOR Decision Boundary (using single perceptron)')"
   ]
  },
  {
   "cell_type": "markdown",
   "metadata": {},
   "source": [
    "# Step 9:  Modeling XOR with a Multilayer Perceptron"
   ]
  },
  {
   "cell_type": "markdown",
   "metadata": {},
   "source": [
    "## Step 9a:  Define your multilayer models in Keras"
   ]
  },
  {
   "cell_type": "markdown",
   "metadata": {},
   "source": [
    "{TODO: discussion of how you built the model & selected ranges of parameter choices}"
   ]
  },
  {
   "cell_type": "code",
   "execution_count": 27,
   "metadata": {},
   "outputs": [],
   "source": [
    "#TODO - insert student code here\n",
    "# your model should be called \"pm_multi_layerXOR\"\n",
    "def pm_multi_layerXOR(**kwargs):\n",
    "    model = Sequential()\n",
    "    num_hidden_layers = kwargs.pop(\"num_hidden_layers\")\n",
    "    lr = kwargs.pop(\"lr\")\n",
    "    for _ in range(num_hidden_layers):\n",
    "        model.add(Dense(use_bias=True, bias_initializer='ones', input_shape=(2,), **kwargs))\n",
    "    model.add(Dense(units=1, activation='hard_sigmoid', use_bias=True, bias_initializer='ones', \n",
    "                    input_shape=(2,)))\n",
    "    \n",
    "    optimizer = optimizers.Adam(learning_rate=lr)\n",
    "    \n",
    "    model.compile(optimizer=optimizer, loss='binary_crossentropy', metrics=['accuracy'])\n",
    "    \n",
    "    return model\n",
    "    \n",
    " "
   ]
  },
  {
   "cell_type": "markdown",
   "metadata": {},
   "source": [
    "## Step 9b:  Fit the models on the XOR dataset\n",
    "\n",
    "Note that the student used an experimental design (factors and levels) to explore the space of hyperparameters\n",
    "An abridged version of the experimenter is used below when ```SMALLSET``` is ```True```.  Set ```SMALLSET``` to ```FALSE``` to run the\n",
    "entire suite of experiments (not recommended if you dont have a good GPU... may take over an hour)"
   ]
  },
  {
   "cell_type": "code",
   "execution_count": 28,
   "metadata": {},
   "outputs": [],
   "source": [
    "class Experimenter():\n",
    "    def __init__(self):\n",
    "        SMALLSET = True\n",
    "        if SMALLSET:  #smaller set of experiments from the best the student found\n",
    "            self.hidden_layer_vals = [1,2]\n",
    "            self.hidden_size_vals = [2]\n",
    "            self.activation_choices = ['relu', 'sigmoid', 'hard_sigmoid']\n",
    "            self.learning_rates = [0.1]\n",
    "            self.experiment_num = 0\n",
    "            self.create_experiment_list()\n",
    "            self.num = self.experiment_list.shape[0]\n",
    "           \n",
    "        else:  #run the full set of experiments the student tried... may take more than 1 hour\n",
    "            self.hidden_layer_vals = list(range(1,4))\n",
    "            self.hidden_size_vals = list(range(1,4))\n",
    "            self.activation_choices = ['relu', 'sigmoid', 'hard_sigmoid']\n",
    "            self.learning_rates = [1e-3, 1e-2, 1e-1, 0.2, 0.4]\n",
    "            self.experiment_num = 0\n",
    "            self.create_experiment_list()\n",
    "            self.num = self.experiment_list.shape[0]\n",
    "    \n",
    "    def create_experiment_list(self):\n",
    "        self.experiment_list = np.meshgrid(self.hidden_layer_vals, self.learning_rates, \n",
    "                                           self.hidden_size_vals, self.activation_choices)\n",
    "        self.experiment_list = np.array(self.experiment_list).T.reshape([-1,4])\n",
    "        \n",
    "    def get_experiment(self):\n",
    "        try:\n",
    "            next_experiment = self.experiment_list[self.experiment_num,:]\n",
    "        except IndexError:\n",
    "            print(\"End of experiment list\")\n",
    "        self.experiment_num += 1\n",
    "        \n",
    "        experiment_dict = {'num_hidden_layers': int(next_experiment[0]),\n",
    "                          'lr': float(next_experiment[1]),\n",
    "                          'units': int(next_experiment[2]),\n",
    "                          'activation': next_experiment[3]\n",
    "                          }\n",
    "        \n",
    "        return experiment_dict\n",
    "        \n",
    "        "
   ]
  },
  {
   "cell_type": "code",
   "execution_count": 29,
   "metadata": {},
   "outputs": [],
   "source": [
    "class TerminateOnBaseline(callbacks.Callback):\n",
    "    \"\"\"Callback that terminates training when either acc or val_acc reaches a specified baseline\n",
    "    \"\"\"\n",
    "    def __init__(self, monitor='acc', baseline=0.9):\n",
    "        super(TerminateOnBaseline, self).__init__()\n",
    "        self.monitor = monitor\n",
    "        self.baseline = baseline\n",
    "\n",
    "    def on_epoch_end(self, epoch, logs=None):\n",
    "        logs = logs or {}\n",
    "        acc = logs.get(self.monitor)\n",
    "        if acc is not None:\n",
    "            if acc >= self.baseline:\n",
    "                print('Epoch %d: Reached baseline, terminating training' % (epoch))\n",
    "                self.model.stop_training = True"
   ]
  },
  {
   "cell_type": "code",
   "execution_count": 30,
   "metadata": {},
   "outputs": [
    {
     "name": "stdout",
     "output_type": "stream",
     "text": [
      "Running experiment number  1  of  6  Conditions:  {'num_hidden_layers': 1, 'lr': 0.1, 'units': 2, 'activation': 'relu'}\n",
      "Running experiment number  2  of  6  Conditions:  {'num_hidden_layers': 2, 'lr': 0.1, 'units': 2, 'activation': 'relu'}\n",
      "Running experiment number  3  of  6  Conditions:  {'num_hidden_layers': 1, 'lr': 0.1, 'units': 2, 'activation': 'sigmoid'}\n",
      "Running experiment number  4  of  6  Conditions:  {'num_hidden_layers': 2, 'lr': 0.1, 'units': 2, 'activation': 'sigmoid'}\n",
      "Running experiment number  5  of  6  Conditions:  {'num_hidden_layers': 1, 'lr': 0.1, 'units': 2, 'activation': 'hard_sigmoid'}\n",
      "Running experiment number  6  of  6  Conditions:  {'num_hidden_layers': 2, 'lr': 0.1, 'units': 2, 'activation': 'hard_sigmoid'}\n"
     ]
    }
   ],
   "source": [
    "#TODO - insert student code here\n",
    "experimenter = Experimenter()\n",
    "callback = [TerminateOnBaseline(monitor='acc', baseline=0.8)]\n",
    "\n",
    "histories = []\n",
    "models = []\n",
    "tot_exp_count = experimenter.num\n",
    "for exp_counter in range(experimenter.num):\n",
    "    experiment = experimenter.get_experiment()\n",
    "    print(\"Running experiment number \", exp_counter+1, \" of \", tot_exp_count, \" Conditions: \", experiment )\n",
    "    model = pm_multi_layerXOR(**experiment)\n",
    "    history = model.fit(x=xTWO, y=yXOR, batch_size=1, epochs=150, verbose=0, callbacks=callback, \n",
    "                        validation_split=0, validation_data=(xTWO,yXOR), shuffle=True, class_weight=None, \n",
    "                        sample_weight=None, initial_epoch=0)\n",
    "    histories.append(history)\n",
    "    models.append(model)"
   ]
  },
  {
   "cell_type": "markdown",
   "metadata": {},
   "source": [
    "## Step 9c:  Report the performances of the multilayer models on XOR"
   ]
  },
  {
   "cell_type": "code",
   "execution_count": 31,
   "metadata": {},
   "outputs": [
    {
     "name": "stdout",
     "output_type": "stream",
     "text": [
      "[150, 150, 150, 150, 150, 150]\n"
     ]
    }
   ],
   "source": [
    "print([len(history.history['accuracy']) for history in histories])"
   ]
  },
  {
   "cell_type": "code",
   "execution_count": 32,
   "metadata": {},
   "outputs": [
    {
     "name": "stdout",
     "output_type": "stream",
     "text": [
      "Successful Runs:   2 out of   6 (33.33%)\n"
     ]
    }
   ],
   "source": [
    "successful_run_mask = [True if max(history.history['val_accuracy'])>0.75 else False for history in histories]\n",
    "successful_histories = [history for history in histories if max(history.history['val_accuracy'])>0.75]\n",
    "successful_experiments = experimenter.experiment_list[successful_run_mask,:]\n",
    "print('Successful Runs: {success:3d} out of {total:3d} ({percent:3.2f}%)'.format(success=sum(successful_run_mask), total=experimenter.num, percent=sum(successful_run_mask)/experimenter.num*100))\n",
    "\n",
    "act_encoder = LabelEncoder()\n",
    "act_encoder.fit(experimenter.activation_choices);\n",
    "\n",
    "successful_experiments[:,-1] = act_encoder.transform(successful_experiments[:,-1])\n",
    "successful_experiments = successful_experiments.astype(float)"
   ]
  },
  {
   "cell_type": "code",
   "execution_count": 33,
   "metadata": {},
   "outputs": [
    {
     "data": {
      "image/png": "[encoded data removed]",
      "text/plain": [
       "<Figure size 432x288 with 4 Axes>"
      ]
     },
     "metadata": {
      "needs_background": "light"
     },
     "output_type": "display_data"
    }
   ],
   "source": [
    "fig, axs = plt.subplots(2, 2)\n",
    "axs = np.reshape(axs, (4,-1)).squeeze()\n",
    "labels = ['hidden layers','learning rate','layer size','activation function']\n",
    "widths = [0.8,0.05,0.8,0.8]\n",
    "for ax, experiment_param, label, width in zip(axs,successful_experiments.T, labels, widths):\n",
    "    bins, counts = np.unique(experiment_param, return_counts=True)\n",
    "    ax.bar(bins, counts, width=width, edgecolor='k')\n",
    "    ax.set_xlabel(label)\n",
    "    ax.set_xticks(np.unique(experiment_param))\n",
    "    if label=='activation function':\n",
    "        ax.set_xticklabels(act_encoder.inverse_transform(np.unique(experiment_param).astype(int)))\n",
    "plt.tight_layout()\n",
    "plt.show();"
   ]
  },
  {
   "cell_type": "code",
   "execution_count": 34,
   "metadata": {},
   "outputs": [],
   "source": [
    "epochs_used = [len(history.history['accuracy']) for history in successful_histories]\n",
    "final_loss = [history.history['val_loss'][-1] for history in successful_histories]"
   ]
  },
  {
   "cell_type": "code",
   "execution_count": 35,
   "metadata": {},
   "outputs": [
    {
     "data": {
      "image/png": "[encoded data removed]",
      "text/plain": [
       "<Figure size 432x288 with 1 Axes>"
      ]
     },
     "metadata": {
      "needs_background": "light"
     },
     "output_type": "display_data"
    }
   ],
   "source": [
    "fig,ax = plt.subplots()\n",
    "# scatter = ax.scatter(epochs_used, final_loss, c=successful_experiments[:,-1], label=colors, cmap='Set1')\n",
    "scatter = ax.scatter(epochs_used, final_loss, c=successful_experiments[:,-1], cmap='Set1')\n",
    "leg_ele = scatter.legend_elements()\n",
    "leg_ele = (leg_ele[0], act_encoder.classes_)\n",
    "legend1 = ax.legend(*leg_ele)\n",
    "ax.add_artist(legend1)\n",
    "ax.set_xlim(0,170)\n",
    "ax.set_xlabel('Epochs Trained')\n",
    "ax.set_ylabel('Loss')\n",
    "plt.show;"
   ]
  },
  {
   "cell_type": "code",
   "execution_count": 36,
   "metadata": {},
   "outputs": [],
   "source": [
    "min_losses = [min(history.history['val_loss']) for history in successful_histories]\n",
    "min_loss = min(min_losses)\n",
    "best_mask = [True if min(history.history['val_loss'])==min_loss else False for history in histories]\n",
    "best_index = best_mask.index(True)\n",
    "best_model = models[best_index]\n",
    "best_history = histories[best_index]\n",
    "best_experiment = experimenter.experiment_list[best_index]"
   ]
  },
  {
   "cell_type": "code",
   "execution_count": 37,
   "metadata": {},
   "outputs": [
    {
     "data": {
      "image/png": "[encoded data removed]",
      "text/plain": [
       "<Figure size 864x360 with 2 Axes>"
      ]
     },
     "metadata": {
      "needs_background": "light"
     },
     "output_type": "display_data"
    }
   ],
   "source": [
    "fig, axs = plt.subplots(1,2, figsize=(12,5))\n",
    "axs[0].plot(best_history.history['accuracy'], label='Training')\n",
    "axs[0].plot(best_history.history['val_accuracy'], label='Validation')\n",
    "axs[0].set_xlabel('Epoch')\n",
    "axs[0].set_xlim([0, 150])\n",
    "axs[0].set_ylabel('Accuracy')\n",
    "axs[0].legend()\n",
    "\n",
    "axs[1].plot(best_history.history['loss'], label='Training')\n",
    "axs[1].plot(best_history.history['val_loss'], label='Validation')\n",
    "axs[1].set_xlabel('Epoch')\n",
    "axs[1].set_xlim([0, 150])\n",
    "axs[1].set_ylabel('Loss')\n",
    "axs[1].legend()\n",
    "\n",
    "plt.tight_layout()\n",
    "plt.show();"
   ]
  },
  {
   "cell_type": "code",
   "execution_count": 38,
   "metadata": {},
   "outputs": [
    {
     "name": "stdout",
     "output_type": "stream",
     "text": [
      "# of hidden layers:  2\n",
      "learning rate:  0.1\n",
      "hidden layer width:  2\n",
      "activation function:  relu\n",
      "Layer 0 weights:  [[ 3.2600577 -1.7477503]\n",
      " [-1.6066171  3.0377872]]\n",
      "Layer 0 bias:  [1.229056  2.2045302]\n",
      "Layer 1 weights:  [[ 2.1879165  2.403859 ]\n",
      " [-4.057821  -0.435092 ]]\n",
      "Layer 1 bias:  [-0.2234653  2.2611787]\n",
      "Final layer weights:  [[ 3.1735268]\n",
      " [-1.234759 ]]\n",
      "Final layer bias:  [2.6156623]\n"
     ]
    }
   ],
   "source": [
    "#TODO - insert Student code here\n",
    "best_eval = best_model.evaluate(x=xTWO, y=yXOR, batch_size=4, verbose=0)\n",
    "best_weights = best_model.get_weights()\n",
    "print('# of hidden layers: ',best_experiment[0])\n",
    "print('learning rate: ', best_experiment[1])\n",
    "print('hidden layer width: ', best_experiment[2])\n",
    "print('activation function: ', best_experiment[3])\n",
    "for i in range(int(best_experiment[0])):\n",
    "    print('Layer {} weights: '.format(i), best_weights[2*i])\n",
    "    print('Layer {} bias: '.format(i), best_weights[2*i+1])\n",
    "print('Final layer weights: ',best_weights[-2])\n",
    "print('Final layer bias: ', best_weights[-1])"
   ]
  },
  {
   "cell_type": "markdown",
   "metadata": {},
   "source": [
    "A grid search was performed over various values for the number of hidden layers, the learning rate, the width of the hidden layers, and the activation function. A custom version of Early Stopping terminated the training when an accuracy of 1.0 was obtained. Only 13% of the experiments were successful in obtaining this accuracy within 150 epochs. The parameters that favored success were a learning rate of 0.1 and 1 hidden layer, though 3 hidden layers was moderately successful. Little difference existed in the activation function of the hidden layers or the width of the hidden layers except that widths of 1 were unsuccessful, as expected. The scatterplot above shows the loss and the epochs trained for each of the successful cases. This plot also shows that no activation function was consistently converging to accuracy 1.0 faster than any other activation functin. The lowest loss occurred as shown above, with 1 hidden layer, a learning rate of 0.1, a hidden layer width of 2, and a sigmoid activation function. "
   ]
  },
  {
   "cell_type": "markdown",
   "metadata": {},
   "source": [
    "## Step 9d:  Plot the decision boundary for the best multilayer perceptron on XOR"
   ]
  },
  {
   "cell_type": "code",
   "execution_count": 39,
   "metadata": {},
   "outputs": [
    {
     "data": {
      "image/png": "[encoded data removed]",
      "text/plain": [
       "<Figure size 432x288 with 1 Axes>"
      ]
     },
     "metadata": {
      "needs_background": "light"
     },
     "output_type": "display_data"
    }
   ],
   "source": [
    "#uncomment the following line after you build & train your model\n",
    "makeDecisionBoundaryBool2(best_model,xTWO,yXOR,'Final XOR Decision Boundary (using multilayer perceptron)')"
   ]
  },
  {
   "cell_type": "markdown",
   "metadata": {},
   "source": [
    "Depending on the initialization of the network, the decision boundary could be different when this is run multiple times.\n",
    "\n",
    "The decision boundary discovered here could be the very different each time. \n",
    "\n",
    "For example, the region for an output of one is defined by two lines with an approximate slope of -1. In the in-class exercise, the decision boundary was flipped, with two lines defining the region for an output of zero, each with an approximate slope of 1. The weights shown for the lowest loss model above are significantly larger than those found using heaviside activation and also differ in sign. It is this difference in sign rather than the difference in value which contributes to the orientation of the decision boundary. The relative value of the weights determine the slope of the lines defining the decision boundary and the relative value of the bias then determine the intercept of the lines defining the decision boundary."
   ]
  }
 ],
 "metadata": {
  "kernelspec": {
   "display_name": "Python 3 (ipykernel)",
   "language": "python",
   "name": "python3"
  },
  "language_info": {
   "codemirror_mode": {
    "name": "ipython",
    "version": 3
   },
   "file_extension": ".py",
   "mimetype": "text/x-python",
   "name": "python",
   "nbconvert_exporter": "python",
   "pygments_lexer": "ipython3",
   "version": "3.9.12"
  }
 },
 "nbformat": 4,
 "nbformat_minor": 4
}